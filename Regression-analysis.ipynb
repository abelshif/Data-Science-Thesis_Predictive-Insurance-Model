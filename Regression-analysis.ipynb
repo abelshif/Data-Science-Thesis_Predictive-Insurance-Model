{
 "cells": [
  {
   "attachments": {},
   "cell_type": "markdown",
   "metadata": {},
   "source": [
    "# A Simulation Study for Choosing Predictive Insurance Model"
   ]
  },
  {
   "cell_type": "code",
   "execution_count": 1511,
   "metadata": {},
   "outputs": [],
   "source": [
    "# Import useful libraries\n",
    "import numpy as np\n",
    "import pandas as pd\n",
    "from sklearn.preprocessing import RobustScaler\n",
    "from sklearn.model_selection import train_test_split\n",
    "from sklearn.metrics import mean_squared_error, r2_score\n",
    "import plotly.express as px\n",
    "import plotly.graph_objs as go\n",
    "import warnings"
   ]
  },
  {
   "cell_type": "code",
   "execution_count": 1512,
   "metadata": {},
   "outputs": [],
   "source": [
    "warnings.filterwarnings(\"ignore\")"
   ]
  },
  {
   "attachments": {},
   "cell_type": "markdown",
   "metadata": {},
   "source": [
    "## Pre-processing"
   ]
  },
  {
   "attachments": {},
   "cell_type": "markdown",
   "metadata": {},
   "source": [
    "### Create dataframe"
   ]
  },
  {
   "cell_type": "code",
   "execution_count": 1513,
   "metadata": {},
   "outputs": [
    {
     "data": {
      "text/plain": [
       "(250, 29)"
      ]
     },
     "execution_count": 1513,
     "metadata": {},
     "output_type": "execute_result"
    }
   ],
   "source": [
    "# patient dataframe\n",
    "patient_dataframe = pd.read_csv('./Populated_data/patient.csv')\n",
    "patient_dataframe.shape"
   ]
  },
  {
   "cell_type": "code",
   "execution_count": 1514,
   "metadata": {},
   "outputs": [
    {
     "data": {
      "text/html": [
       "<div>\n",
       "<style scoped>\n",
       "    .dataframe tbody tr th:only-of-type {\n",
       "        vertical-align: middle;\n",
       "    }\n",
       "\n",
       "    .dataframe tbody tr th {\n",
       "        vertical-align: top;\n",
       "    }\n",
       "\n",
       "    .dataframe thead th {\n",
       "        text-align: right;\n",
       "    }\n",
       "</style>\n",
       "<table border=\"1\" class=\"dataframe\">\n",
       "  <thead>\n",
       "    <tr style=\"text-align: right;\">\n",
       "      <th></th>\n",
       "      <th>patient_id</th>\n",
       "      <th>address</th>\n",
       "      <th>allergies</th>\n",
       "      <th>blood_type</th>\n",
       "      <th>closest_hospital</th>\n",
       "      <th>community</th>\n",
       "      <th>country</th>\n",
       "      <th>date_of_birth</th>\n",
       "      <th>disabilities</th>\n",
       "      <th>first_name</th>\n",
       "      <th>...</th>\n",
       "      <th>num_of_dependents</th>\n",
       "      <th>post_code</th>\n",
       "      <th>preferred_language</th>\n",
       "      <th>purpose_of_visit</th>\n",
       "      <th>state</th>\n",
       "      <th>sur_name</th>\n",
       "      <th>title</th>\n",
       "      <th>user_id</th>\n",
       "      <th>weight</th>\n",
       "      <th>hospital_id</th>\n",
       "    </tr>\n",
       "  </thead>\n",
       "  <tbody>\n",
       "    <tr>\n",
       "      <th>0</th>\n",
       "      <td>1</td>\n",
       "      <td>Ap #266-429 Velit St.</td>\n",
       "      <td>NaN</td>\n",
       "      <td>AB+</td>\n",
       "      <td>Blue Cross Hospital</td>\n",
       "      <td>suburban</td>\n",
       "      <td>nigeria</td>\n",
       "      <td>4/13/2009</td>\n",
       "      <td>none</td>\n",
       "      <td>ACRA</td>\n",
       "      <td>...</td>\n",
       "      <td>2</td>\n",
       "      <td>10201</td>\n",
       "      <td>english</td>\n",
       "      <td>medical examination</td>\n",
       "      <td>Lagos</td>\n",
       "      <td>SMITH</td>\n",
       "      <td>Mrs.</td>\n",
       "      <td>1</td>\n",
       "      <td>69</td>\n",
       "      <td>1</td>\n",
       "    </tr>\n",
       "    <tr>\n",
       "      <th>1</th>\n",
       "      <td>2</td>\n",
       "      <td>315-4283 Nam Street</td>\n",
       "      <td>pollen</td>\n",
       "      <td>O-</td>\n",
       "      <td>Krown Hospital</td>\n",
       "      <td>suburban</td>\n",
       "      <td>nigeria</td>\n",
       "      <td>7/8/2011</td>\n",
       "      <td>atherosclerosis</td>\n",
       "      <td>ADOLPH</td>\n",
       "      <td>...</td>\n",
       "      <td>2</td>\n",
       "      <td>12224</td>\n",
       "      <td>english</td>\n",
       "      <td>medical examination</td>\n",
       "      <td>Lagos</td>\n",
       "      <td>NEILON</td>\n",
       "      <td>Mr.</td>\n",
       "      <td>2</td>\n",
       "      <td>80</td>\n",
       "      <td>1</td>\n",
       "    </tr>\n",
       "    <tr>\n",
       "      <th>2</th>\n",
       "      <td>3</td>\n",
       "      <td>921-1491 Nonummy Ave</td>\n",
       "      <td>nuts</td>\n",
       "      <td>A-</td>\n",
       "      <td>Ave Maria Hospital</td>\n",
       "      <td>suburban</td>\n",
       "      <td>nigeria</td>\n",
       "      <td>12/30/2000</td>\n",
       "      <td>fibromas</td>\n",
       "      <td>ANKI</td>\n",
       "      <td>...</td>\n",
       "      <td>3</td>\n",
       "      <td>53510</td>\n",
       "      <td>english</td>\n",
       "      <td>medical examination</td>\n",
       "      <td>Lagos</td>\n",
       "      <td>HENDRI</td>\n",
       "      <td>Mr.</td>\n",
       "      <td>3</td>\n",
       "      <td>67</td>\n",
       "      <td>1</td>\n",
       "    </tr>\n",
       "    <tr>\n",
       "      <th>3</th>\n",
       "      <td>4</td>\n",
       "      <td>Ap #299-4324 Mauris Avenue</td>\n",
       "      <td>dust</td>\n",
       "      <td>O-</td>\n",
       "      <td>Isolo General Hospital</td>\n",
       "      <td>urban</td>\n",
       "      <td>nigeria</td>\n",
       "      <td>9/15/1987</td>\n",
       "      <td>ruptured discs</td>\n",
       "      <td>GARBO</td>\n",
       "      <td>...</td>\n",
       "      <td>3</td>\n",
       "      <td>25193</td>\n",
       "      <td>english</td>\n",
       "      <td>medical examination</td>\n",
       "      <td>Lagos</td>\n",
       "      <td>SHARRON</td>\n",
       "      <td>Mr.</td>\n",
       "      <td>4</td>\n",
       "      <td>74</td>\n",
       "      <td>1</td>\n",
       "    </tr>\n",
       "    <tr>\n",
       "      <th>4</th>\n",
       "      <td>5</td>\n",
       "      <td>P.O. Box 913, 6976 Magnis Rd.</td>\n",
       "      <td>flowers</td>\n",
       "      <td>O-</td>\n",
       "      <td>Lagoon Hospitals</td>\n",
       "      <td>rural</td>\n",
       "      <td>nigeria</td>\n",
       "      <td>10/10/2002</td>\n",
       "      <td>arthritis</td>\n",
       "      <td>ADONAI</td>\n",
       "      <td>...</td>\n",
       "      <td>1</td>\n",
       "      <td>37171</td>\n",
       "      <td>english</td>\n",
       "      <td>medical examination</td>\n",
       "      <td>Lagos</td>\n",
       "      <td>NEIVA</td>\n",
       "      <td>Ms.</td>\n",
       "      <td>5</td>\n",
       "      <td>62</td>\n",
       "      <td>1</td>\n",
       "    </tr>\n",
       "  </tbody>\n",
       "</table>\n",
       "<p>5 rows × 29 columns</p>\n",
       "</div>"
      ],
      "text/plain": [
       "   patient_id                        address allergies blood_type  \\\n",
       "0           1          Ap #266-429 Velit St.       NaN        AB+   \n",
       "1           2            315-4283 Nam Street    pollen         O-   \n",
       "2           3           921-1491 Nonummy Ave      nuts         A-   \n",
       "3           4     Ap #299-4324 Mauris Avenue      dust         O-   \n",
       "4           5  P.O. Box 913, 6976 Magnis Rd.   flowers         O-   \n",
       "\n",
       "         closest_hospital community  country date_of_birth     disabilities  \\\n",
       "0     Blue Cross Hospital  suburban  nigeria     4/13/2009             none   \n",
       "1          Krown Hospital  suburban  nigeria      7/8/2011  atherosclerosis   \n",
       "2      Ave Maria Hospital  suburban  nigeria    12/30/2000         fibromas   \n",
       "3  Isolo General Hospital     urban  nigeria     9/15/1987   ruptured discs   \n",
       "4        Lagoon Hospitals     rural  nigeria    10/10/2002        arthritis   \n",
       "\n",
       "  first_name  ... num_of_dependents post_code preferred_language  \\\n",
       "0       ACRA  ...                 2     10201            english   \n",
       "1     ADOLPH  ...                 2     12224            english   \n",
       "2       ANKI  ...                 3     53510            english   \n",
       "3      GARBO  ...                 3     25193            english   \n",
       "4     ADONAI  ...                 1     37171            english   \n",
       "\n",
       "      purpose_of_visit  state sur_name title  user_id  weight  hospital_id  \n",
       "0  medical examination  Lagos    SMITH  Mrs.        1      69            1  \n",
       "1  medical examination  Lagos   NEILON   Mr.        2      80            1  \n",
       "2  medical examination  Lagos   HENDRI   Mr.        3      67            1  \n",
       "3  medical examination  Lagos  SHARRON   Mr.        4      74            1  \n",
       "4  medical examination  Lagos    NEIVA   Ms.        5      62            1  \n",
       "\n",
       "[5 rows x 29 columns]"
      ]
     },
     "execution_count": 1514,
     "metadata": {},
     "output_type": "execute_result"
    }
   ],
   "source": [
    "patient_dataframe.head()"
   ]
  },
  {
   "cell_type": "code",
   "execution_count": 1515,
   "metadata": {},
   "outputs": [
    {
     "data": {
      "text/plain": [
       "(214, 22)"
      ]
     },
     "execution_count": 1515,
     "metadata": {},
     "output_type": "execute_result"
    }
   ],
   "source": [
    "# doctor dataframe\n",
    "doctor_dataframe = pd.read_csv('./Populated_data/doctor.csv')\n",
    "doctor_dataframe.shape"
   ]
  },
  {
   "cell_type": "code",
   "execution_count": 1516,
   "metadata": {},
   "outputs": [
    {
     "data": {
      "text/html": [
       "<div>\n",
       "<style scoped>\n",
       "    .dataframe tbody tr th:only-of-type {\n",
       "        vertical-align: middle;\n",
       "    }\n",
       "\n",
       "    .dataframe tbody tr th {\n",
       "        vertical-align: top;\n",
       "    }\n",
       "\n",
       "    .dataframe thead th {\n",
       "        text-align: right;\n",
       "    }\n",
       "</style>\n",
       "<table border=\"1\" class=\"dataframe\">\n",
       "  <thead>\n",
       "    <tr style=\"text-align: right;\">\n",
       "      <th></th>\n",
       "      <th>doctor_id</th>\n",
       "      <th>approved</th>\n",
       "      <th>city</th>\n",
       "      <th>cv</th>\n",
       "      <th>date_of_birth</th>\n",
       "      <th>dependant_stand_by</th>\n",
       "      <th>full_name</th>\n",
       "      <th>doctor_gender</th>\n",
       "      <th>graduation_date</th>\n",
       "      <th>is_student</th>\n",
       "      <th>...</th>\n",
       "      <th>name_of_university</th>\n",
       "      <th>national_identification_number</th>\n",
       "      <th>office_address</th>\n",
       "      <th>reference_doctor_email</th>\n",
       "      <th>reference_doctor_full_name</th>\n",
       "      <th>reference_doctor_phone_number</th>\n",
       "      <th>state</th>\n",
       "      <th>student_number</th>\n",
       "      <th>system_status</th>\n",
       "      <th>title</th>\n",
       "    </tr>\n",
       "  </thead>\n",
       "  <tbody>\n",
       "    <tr>\n",
       "      <th>0</th>\n",
       "      <td>1</td>\n",
       "      <td>Yes</td>\n",
       "      <td>Lagos</td>\n",
       "      <td>NaN</td>\n",
       "      <td>8/5/1972</td>\n",
       "      <td>1</td>\n",
       "      <td>ACRA SMITH</td>\n",
       "      <td>Male</td>\n",
       "      <td>9/6/2019</td>\n",
       "      <td>No</td>\n",
       "      <td>...</td>\n",
       "      <td>Caleb University- Lagos</td>\n",
       "      <td>1122458</td>\n",
       "      <td>618-3434 Sagittis Av.</td>\n",
       "      <td>acrasmith@gmail.com</td>\n",
       "      <td>ACRA SMITH</td>\n",
       "      <td>53488888</td>\n",
       "      <td>Lagos</td>\n",
       "      <td>2710</td>\n",
       "      <td>very good</td>\n",
       "      <td>Mr.</td>\n",
       "    </tr>\n",
       "    <tr>\n",
       "      <th>1</th>\n",
       "      <td>2</td>\n",
       "      <td>Yes</td>\n",
       "      <td>Lagos</td>\n",
       "      <td>NaN</td>\n",
       "      <td>7/12/1989</td>\n",
       "      <td>2</td>\n",
       "      <td>ADOLPH NEILON</td>\n",
       "      <td>Female</td>\n",
       "      <td>6/25/2006</td>\n",
       "      <td>Yes</td>\n",
       "      <td>...</td>\n",
       "      <td>National Open University of Nigeria- Lagos</td>\n",
       "      <td>4563751</td>\n",
       "      <td>405-9892 Ultrices Rd.</td>\n",
       "      <td>adolphneilon@gmail.com</td>\n",
       "      <td>ADOLPH NEILON</td>\n",
       "      <td>50989139</td>\n",
       "      <td>Lagos</td>\n",
       "      <td>5370</td>\n",
       "      <td>good</td>\n",
       "      <td>Ms.</td>\n",
       "    </tr>\n",
       "    <tr>\n",
       "      <th>2</th>\n",
       "      <td>3</td>\n",
       "      <td>Yes</td>\n",
       "      <td>Lagos</td>\n",
       "      <td>NaN</td>\n",
       "      <td>9/30/1965</td>\n",
       "      <td>1</td>\n",
       "      <td>ANKI HENDRI</td>\n",
       "      <td>Male</td>\n",
       "      <td>12/20/2008</td>\n",
       "      <td>Yes</td>\n",
       "      <td>...</td>\n",
       "      <td>James Hope University- Lagos</td>\n",
       "      <td>1877514</td>\n",
       "      <td>Ap #561-9293 Sociis St.</td>\n",
       "      <td>ankihendri@gmail.com</td>\n",
       "      <td>ANKI HENDRI</td>\n",
       "      <td>42144921</td>\n",
       "      <td>Lagos</td>\n",
       "      <td>6696</td>\n",
       "      <td>excellent</td>\n",
       "      <td>Mr.</td>\n",
       "    </tr>\n",
       "    <tr>\n",
       "      <th>3</th>\n",
       "      <td>4</td>\n",
       "      <td>Yes</td>\n",
       "      <td>Lagos</td>\n",
       "      <td>NaN</td>\n",
       "      <td>8/12/1964</td>\n",
       "      <td>1</td>\n",
       "      <td>GARBO SHARRON</td>\n",
       "      <td>Male</td>\n",
       "      <td>8/22/2013</td>\n",
       "      <td>No</td>\n",
       "      <td>...</td>\n",
       "      <td>Lagos State University of Science and Technolo...</td>\n",
       "      <td>2513477</td>\n",
       "      <td>Ap #381-3175 Sed, Street</td>\n",
       "      <td>garbosharron@gmail.com</td>\n",
       "      <td>GARBO SHARRON</td>\n",
       "      <td>52477143</td>\n",
       "      <td>Lagos</td>\n",
       "      <td>4343</td>\n",
       "      <td>fair</td>\n",
       "      <td>Mr.</td>\n",
       "    </tr>\n",
       "    <tr>\n",
       "      <th>4</th>\n",
       "      <td>5</td>\n",
       "      <td>Yes</td>\n",
       "      <td>Lagos</td>\n",
       "      <td>NaN</td>\n",
       "      <td>12/5/1963</td>\n",
       "      <td>0</td>\n",
       "      <td>ADONAI NEIVA</td>\n",
       "      <td>Female</td>\n",
       "      <td>12/28/2021</td>\n",
       "      <td>No</td>\n",
       "      <td>...</td>\n",
       "      <td>Lagos State University of Science and Technolo...</td>\n",
       "      <td>3463224</td>\n",
       "      <td>Ap #230-5566 Amet, St.</td>\n",
       "      <td>adonaineiva@gmail.com</td>\n",
       "      <td>ADONAI NEIVA</td>\n",
       "      <td>29517478</td>\n",
       "      <td>Lagos</td>\n",
       "      <td>4300</td>\n",
       "      <td>very good</td>\n",
       "      <td>Ms.</td>\n",
       "    </tr>\n",
       "  </tbody>\n",
       "</table>\n",
       "<p>5 rows × 22 columns</p>\n",
       "</div>"
      ],
      "text/plain": [
       "   doctor_id approved   city  cv date_of_birth  dependant_stand_by  \\\n",
       "0          1      Yes  Lagos NaN      8/5/1972                   1   \n",
       "1          2      Yes  Lagos NaN     7/12/1989                   2   \n",
       "2          3      Yes  Lagos NaN     9/30/1965                   1   \n",
       "3          4      Yes  Lagos NaN     8/12/1964                   1   \n",
       "4          5      Yes  Lagos NaN     12/5/1963                   0   \n",
       "\n",
       "       full_name doctor_gender graduation_date is_student  ...  \\\n",
       "0     ACRA SMITH          Male        9/6/2019         No  ...   \n",
       "1  ADOLPH NEILON        Female       6/25/2006        Yes  ...   \n",
       "2    ANKI HENDRI          Male      12/20/2008        Yes  ...   \n",
       "3  GARBO SHARRON          Male       8/22/2013         No  ...   \n",
       "4   ADONAI NEIVA        Female      12/28/2021         No  ...   \n",
       "\n",
       "                                  name_of_university  \\\n",
       "0                            Caleb University- Lagos   \n",
       "1         National Open University of Nigeria- Lagos   \n",
       "2                       James Hope University- Lagos   \n",
       "3  Lagos State University of Science and Technolo...   \n",
       "4  Lagos State University of Science and Technolo...   \n",
       "\n",
       "   national_identification_number            office_address  \\\n",
       "0                         1122458     618-3434 Sagittis Av.   \n",
       "1                         4563751     405-9892 Ultrices Rd.   \n",
       "2                         1877514   Ap #561-9293 Sociis St.   \n",
       "3                         2513477  Ap #381-3175 Sed, Street   \n",
       "4                         3463224    Ap #230-5566 Amet, St.   \n",
       "\n",
       "   reference_doctor_email reference_doctor_full_name  \\\n",
       "0     acrasmith@gmail.com                 ACRA SMITH   \n",
       "1  adolphneilon@gmail.com              ADOLPH NEILON   \n",
       "2    ankihendri@gmail.com                ANKI HENDRI   \n",
       "3  garbosharron@gmail.com              GARBO SHARRON   \n",
       "4   adonaineiva@gmail.com               ADONAI NEIVA   \n",
       "\n",
       "  reference_doctor_phone_number  state  student_number system_status  title  \n",
       "0                      53488888  Lagos            2710     very good    Mr.  \n",
       "1                      50989139  Lagos            5370          good    Ms.  \n",
       "2                      42144921  Lagos            6696     excellent    Mr.  \n",
       "3                      52477143  Lagos            4343          fair    Mr.  \n",
       "4                      29517478  Lagos            4300     very good    Ms.  \n",
       "\n",
       "[5 rows x 22 columns]"
      ]
     },
     "execution_count": 1516,
     "metadata": {},
     "output_type": "execute_result"
    }
   ],
   "source": [
    "doctor_dataframe.head()"
   ]
  },
  {
   "cell_type": "code",
   "execution_count": 1517,
   "metadata": {},
   "outputs": [
    {
     "data": {
      "text/plain": [
       "(520, 17)"
      ]
     },
     "execution_count": 1517,
     "metadata": {},
     "output_type": "execute_result"
    }
   ],
   "source": [
    "# consultation dataframe\n",
    "consultation_dataframe = pd.read_csv('./Populated_data/consultation.csv')\n",
    "consultation_dataframe.shape"
   ]
  },
  {
   "cell_type": "code",
   "execution_count": 1518,
   "metadata": {},
   "outputs": [
    {
     "data": {
      "text/html": [
       "<div>\n",
       "<style scoped>\n",
       "    .dataframe tbody tr th:only-of-type {\n",
       "        vertical-align: middle;\n",
       "    }\n",
       "\n",
       "    .dataframe tbody tr th {\n",
       "        vertical-align: top;\n",
       "    }\n",
       "\n",
       "    .dataframe thead th {\n",
       "        text-align: right;\n",
       "    }\n",
       "</style>\n",
       "<table border=\"1\" class=\"dataframe\">\n",
       "  <thead>\n",
       "    <tr style=\"text-align: right;\">\n",
       "      <th></th>\n",
       "      <th>id</th>\n",
       "      <th>consultation_cost</th>\n",
       "      <th>audio_detailed_description</th>\n",
       "      <th>patient_body_area</th>\n",
       "      <th>consent</th>\n",
       "      <th>doctor_full_name</th>\n",
       "      <th>doctor_id</th>\n",
       "      <th>language</th>\n",
       "      <th>patient_full_name</th>\n",
       "      <th>patient_id</th>\n",
       "      <th>patient_mobile</th>\n",
       "      <th>patient_status</th>\n",
       "      <th>time_accepted</th>\n",
       "      <th>time_booked</th>\n",
       "      <th>time_finished</th>\n",
       "      <th>time_started</th>\n",
       "      <th>transaction_reference</th>\n",
       "    </tr>\n",
       "  </thead>\n",
       "  <tbody>\n",
       "    <tr>\n",
       "      <th>0</th>\n",
       "      <td>1</td>\n",
       "      <td>1900</td>\n",
       "      <td>NaN</td>\n",
       "      <td>legs</td>\n",
       "      <td>Yes</td>\n",
       "      <td>ACRA SMITH</td>\n",
       "      <td>1</td>\n",
       "      <td>english</td>\n",
       "      <td>ADRIATIK NELL</td>\n",
       "      <td>100</td>\n",
       "      <td>6780843</td>\n",
       "      <td>under appointment</td>\n",
       "      <td>13:30</td>\n",
       "      <td>2:00 PM</td>\n",
       "      <td>5:10 PM</td>\n",
       "      <td>3:10 PM</td>\n",
       "      <td>1</td>\n",
       "    </tr>\n",
       "    <tr>\n",
       "      <th>1</th>\n",
       "      <td>2</td>\n",
       "      <td>9100</td>\n",
       "      <td>NaN</td>\n",
       "      <td>chest area</td>\n",
       "      <td>Yes</td>\n",
       "      <td>ADOLPH NEILON</td>\n",
       "      <td>2</td>\n",
       "      <td>english</td>\n",
       "      <td>ANNAMARIE HERA</td>\n",
       "      <td>72</td>\n",
       "      <td>4272348</td>\n",
       "      <td>new consultation</td>\n",
       "      <td>10:15</td>\n",
       "      <td>10:45 AM</td>\n",
       "      <td>12:45 PM</td>\n",
       "      <td>11:45 AM</td>\n",
       "      <td>2</td>\n",
       "    </tr>\n",
       "    <tr>\n",
       "      <th>2</th>\n",
       "      <td>3</td>\n",
       "      <td>8200</td>\n",
       "      <td>NaN</td>\n",
       "      <td>head</td>\n",
       "      <td>Yes</td>\n",
       "      <td>ANKI HENDRI</td>\n",
       "      <td>3</td>\n",
       "      <td>english</td>\n",
       "      <td>GARRICK SHATISHA</td>\n",
       "      <td>150</td>\n",
       "      <td>6183602</td>\n",
       "      <td>new consultation</td>\n",
       "      <td>8:45</td>\n",
       "      <td>9:35 AM</td>\n",
       "      <td>12:15 PM</td>\n",
       "      <td>10:35 AM</td>\n",
       "      <td>3</td>\n",
       "    </tr>\n",
       "    <tr>\n",
       "      <th>3</th>\n",
       "      <td>4</td>\n",
       "      <td>5600</td>\n",
       "      <td>NaN</td>\n",
       "      <td>back</td>\n",
       "      <td>Yes</td>\n",
       "      <td>GARBO SHARRON</td>\n",
       "      <td>4</td>\n",
       "      <td>english</td>\n",
       "      <td>ADRIELLE NELLI</td>\n",
       "      <td>27</td>\n",
       "      <td>6822469</td>\n",
       "      <td>appointed session</td>\n",
       "      <td>13:15</td>\n",
       "      <td>1:55 PM</td>\n",
       "      <td>4:35 PM</td>\n",
       "      <td>2:45 PM</td>\n",
       "      <td>4</td>\n",
       "    </tr>\n",
       "    <tr>\n",
       "      <th>4</th>\n",
       "      <td>5</td>\n",
       "      <td>1200</td>\n",
       "      <td>NaN</td>\n",
       "      <td>stomach</td>\n",
       "      <td>Yes</td>\n",
       "      <td>ADONAI NEIVA</td>\n",
       "      <td>5</td>\n",
       "      <td>english</td>\n",
       "      <td>ANNASTASIA HERARD</td>\n",
       "      <td>191</td>\n",
       "      <td>7229498</td>\n",
       "      <td>new consultation</td>\n",
       "      <td>9:00</td>\n",
       "      <td>9:30 AM</td>\n",
       "      <td>11:20 AM</td>\n",
       "      <td>10:30 AM</td>\n",
       "      <td>5</td>\n",
       "    </tr>\n",
       "  </tbody>\n",
       "</table>\n",
       "</div>"
      ],
      "text/plain": [
       "   id  consultation_cost  audio_detailed_description patient_body_area  \\\n",
       "0   1               1900                         NaN              legs   \n",
       "1   2               9100                         NaN        chest area   \n",
       "2   3               8200                         NaN              head   \n",
       "3   4               5600                         NaN              back   \n",
       "4   5               1200                         NaN           stomach   \n",
       "\n",
       "  consent doctor_full_name  doctor_id language  patient_full_name  patient_id  \\\n",
       "0     Yes       ACRA SMITH          1  english      ADRIATIK NELL         100   \n",
       "1     Yes    ADOLPH NEILON          2  english     ANNAMARIE HERA          72   \n",
       "2     Yes      ANKI HENDRI          3  english   GARRICK SHATISHA         150   \n",
       "3     Yes    GARBO SHARRON          4  english     ADRIELLE NELLI          27   \n",
       "4     Yes     ADONAI NEIVA          5  english  ANNASTASIA HERARD         191   \n",
       "\n",
       "   patient_mobile     patient_status time_accepted time_booked time_finished  \\\n",
       "0         6780843  under appointment         13:30     2:00 PM       5:10 PM   \n",
       "1         4272348   new consultation         10:15    10:45 AM      12:45 PM   \n",
       "2         6183602   new consultation          8:45     9:35 AM      12:15 PM   \n",
       "3         6822469  appointed session         13:15     1:55 PM       4:35 PM   \n",
       "4         7229498   new consultation          9:00     9:30 AM      11:20 AM   \n",
       "\n",
       "  time_started  transaction_reference  \n",
       "0      3:10 PM                      1  \n",
       "1     11:45 AM                      2  \n",
       "2     10:35 AM                      3  \n",
       "3      2:45 PM                      4  \n",
       "4     10:30 AM                      5  "
      ]
     },
     "execution_count": 1518,
     "metadata": {},
     "output_type": "execute_result"
    }
   ],
   "source": [
    "consultation_dataframe.head()"
   ]
  },
  {
   "attachments": {},
   "cell_type": "markdown",
   "metadata": {},
   "source": [
    "### Check duplicates"
   ]
  },
  {
   "cell_type": "code",
   "execution_count": 1519,
   "metadata": {},
   "outputs": [
    {
     "data": {
      "text/html": [
       "<div>\n",
       "<style scoped>\n",
       "    .dataframe tbody tr th:only-of-type {\n",
       "        vertical-align: middle;\n",
       "    }\n",
       "\n",
       "    .dataframe tbody tr th {\n",
       "        vertical-align: top;\n",
       "    }\n",
       "\n",
       "    .dataframe thead th {\n",
       "        text-align: right;\n",
       "    }\n",
       "</style>\n",
       "<table border=\"1\" class=\"dataframe\">\n",
       "  <thead>\n",
       "    <tr style=\"text-align: right;\">\n",
       "      <th></th>\n",
       "      <th>patient_id</th>\n",
       "      <th>address</th>\n",
       "      <th>allergies</th>\n",
       "      <th>blood_type</th>\n",
       "      <th>closest_hospital</th>\n",
       "      <th>community</th>\n",
       "      <th>country</th>\n",
       "      <th>date_of_birth</th>\n",
       "      <th>disabilities</th>\n",
       "      <th>first_name</th>\n",
       "      <th>...</th>\n",
       "      <th>num_of_dependents</th>\n",
       "      <th>post_code</th>\n",
       "      <th>preferred_language</th>\n",
       "      <th>purpose_of_visit</th>\n",
       "      <th>state</th>\n",
       "      <th>sur_name</th>\n",
       "      <th>title</th>\n",
       "      <th>user_id</th>\n",
       "      <th>weight</th>\n",
       "      <th>hospital_id</th>\n",
       "    </tr>\n",
       "  </thead>\n",
       "  <tbody>\n",
       "  </tbody>\n",
       "</table>\n",
       "<p>0 rows × 29 columns</p>\n",
       "</div>"
      ],
      "text/plain": [
       "Empty DataFrame\n",
       "Columns: [patient_id, address, allergies, blood_type, closest_hospital, community, country, date_of_birth, disabilities, first_name, gender, has_children, has_dependent, height_cm, language, marital_status, medical_problems, national_id_number, num_of_children, num_of_dependents, post_code, preferred_language, purpose_of_visit, state, sur_name, title, user_id, weight, hospital_id]\n",
       "Index: []\n",
       "\n",
       "[0 rows x 29 columns]"
      ]
     },
     "execution_count": 1519,
     "metadata": {},
     "output_type": "execute_result"
    }
   ],
   "source": [
    "# for patient dataframe\n",
    "patient_dataframe[patient_dataframe.duplicated()==True]"
   ]
  },
  {
   "cell_type": "code",
   "execution_count": 1520,
   "metadata": {},
   "outputs": [
    {
     "data": {
      "text/html": [
       "<div>\n",
       "<style scoped>\n",
       "    .dataframe tbody tr th:only-of-type {\n",
       "        vertical-align: middle;\n",
       "    }\n",
       "\n",
       "    .dataframe tbody tr th {\n",
       "        vertical-align: top;\n",
       "    }\n",
       "\n",
       "    .dataframe thead th {\n",
       "        text-align: right;\n",
       "    }\n",
       "</style>\n",
       "<table border=\"1\" class=\"dataframe\">\n",
       "  <thead>\n",
       "    <tr style=\"text-align: right;\">\n",
       "      <th></th>\n",
       "      <th>doctor_id</th>\n",
       "      <th>approved</th>\n",
       "      <th>city</th>\n",
       "      <th>cv</th>\n",
       "      <th>date_of_birth</th>\n",
       "      <th>dependant_stand_by</th>\n",
       "      <th>full_name</th>\n",
       "      <th>doctor_gender</th>\n",
       "      <th>graduation_date</th>\n",
       "      <th>is_student</th>\n",
       "      <th>...</th>\n",
       "      <th>name_of_university</th>\n",
       "      <th>national_identification_number</th>\n",
       "      <th>office_address</th>\n",
       "      <th>reference_doctor_email</th>\n",
       "      <th>reference_doctor_full_name</th>\n",
       "      <th>reference_doctor_phone_number</th>\n",
       "      <th>state</th>\n",
       "      <th>student_number</th>\n",
       "      <th>system_status</th>\n",
       "      <th>title</th>\n",
       "    </tr>\n",
       "  </thead>\n",
       "  <tbody>\n",
       "  </tbody>\n",
       "</table>\n",
       "<p>0 rows × 22 columns</p>\n",
       "</div>"
      ],
      "text/plain": [
       "Empty DataFrame\n",
       "Columns: [doctor_id, approved, city, cv, date_of_birth, dependant_stand_by, full_name, doctor_gender, graduation_date, is_student, marital_status, mdcn_certificate_number, name_of_university, national_identification_number, office_address, reference_doctor_email, reference_doctor_full_name, reference_doctor_phone_number, state, student_number, system_status, title]\n",
       "Index: []\n",
       "\n",
       "[0 rows x 22 columns]"
      ]
     },
     "execution_count": 1520,
     "metadata": {},
     "output_type": "execute_result"
    }
   ],
   "source": [
    "# for doctor dataframe\n",
    "doctor_dataframe[doctor_dataframe.duplicated()==True]"
   ]
  },
  {
   "cell_type": "code",
   "execution_count": 1521,
   "metadata": {},
   "outputs": [
    {
     "data": {
      "text/html": [
       "<div>\n",
       "<style scoped>\n",
       "    .dataframe tbody tr th:only-of-type {\n",
       "        vertical-align: middle;\n",
       "    }\n",
       "\n",
       "    .dataframe tbody tr th {\n",
       "        vertical-align: top;\n",
       "    }\n",
       "\n",
       "    .dataframe thead th {\n",
       "        text-align: right;\n",
       "    }\n",
       "</style>\n",
       "<table border=\"1\" class=\"dataframe\">\n",
       "  <thead>\n",
       "    <tr style=\"text-align: right;\">\n",
       "      <th></th>\n",
       "      <th>id</th>\n",
       "      <th>consultation_cost</th>\n",
       "      <th>audio_detailed_description</th>\n",
       "      <th>patient_body_area</th>\n",
       "      <th>consent</th>\n",
       "      <th>doctor_full_name</th>\n",
       "      <th>doctor_id</th>\n",
       "      <th>language</th>\n",
       "      <th>patient_full_name</th>\n",
       "      <th>patient_id</th>\n",
       "      <th>patient_mobile</th>\n",
       "      <th>patient_status</th>\n",
       "      <th>time_accepted</th>\n",
       "      <th>time_booked</th>\n",
       "      <th>time_finished</th>\n",
       "      <th>time_started</th>\n",
       "      <th>transaction_reference</th>\n",
       "    </tr>\n",
       "  </thead>\n",
       "  <tbody>\n",
       "  </tbody>\n",
       "</table>\n",
       "</div>"
      ],
      "text/plain": [
       "Empty DataFrame\n",
       "Columns: [id, consultation_cost, audio_detailed_description, patient_body_area, consent, doctor_full_name, doctor_id, language, patient_full_name, patient_id, patient_mobile, patient_status, time_accepted, time_booked, time_finished, time_started, transaction_reference]\n",
       "Index: []"
      ]
     },
     "execution_count": 1521,
     "metadata": {},
     "output_type": "execute_result"
    }
   ],
   "source": [
    "# for consultation dataframe\n",
    "consultation_dataframe[consultation_dataframe.duplicated()==True]"
   ]
  },
  {
   "attachments": {},
   "cell_type": "markdown",
   "metadata": {},
   "source": [
    "### Check missing value(s)"
   ]
  },
  {
   "cell_type": "code",
   "execution_count": 1522,
   "metadata": {},
   "outputs": [
    {
     "data": {
      "text/html": [
       "<div>\n",
       "<style scoped>\n",
       "    .dataframe tbody tr th:only-of-type {\n",
       "        vertical-align: middle;\n",
       "    }\n",
       "\n",
       "    .dataframe tbody tr th {\n",
       "        vertical-align: top;\n",
       "    }\n",
       "\n",
       "    .dataframe thead th {\n",
       "        text-align: right;\n",
       "    }\n",
       "</style>\n",
       "<table border=\"1\" class=\"dataframe\">\n",
       "  <thead>\n",
       "    <tr style=\"text-align: right;\">\n",
       "      <th></th>\n",
       "      <th>Missing value</th>\n",
       "    </tr>\n",
       "  </thead>\n",
       "  <tbody>\n",
       "    <tr>\n",
       "      <th>allergies</th>\n",
       "      <td>80</td>\n",
       "    </tr>\n",
       "    <tr>\n",
       "      <th>medical_problems</th>\n",
       "      <td>50</td>\n",
       "    </tr>\n",
       "    <tr>\n",
       "      <th>disabilities</th>\n",
       "      <td>38</td>\n",
       "    </tr>\n",
       "  </tbody>\n",
       "</table>\n",
       "</div>"
      ],
      "text/plain": [
       "                  Missing value\n",
       "allergies                    80\n",
       "medical_problems             50\n",
       "disabilities                 38"
      ]
     },
     "execution_count": 1522,
     "metadata": {},
     "output_type": "execute_result"
    }
   ],
   "source": [
    "# for patient dataframe\n",
    "nan=pd.DataFrame({'Missing value': patient_dataframe.isnull().sum().sort_values(ascending=False)})\n",
    "nan[nan['Missing value'] > 0]"
   ]
  },
  {
   "cell_type": "code",
   "execution_count": 1523,
   "metadata": {},
   "outputs": [
    {
     "data": {
      "text/html": [
       "<div>\n",
       "<style scoped>\n",
       "    .dataframe tbody tr th:only-of-type {\n",
       "        vertical-align: middle;\n",
       "    }\n",
       "\n",
       "    .dataframe tbody tr th {\n",
       "        vertical-align: top;\n",
       "    }\n",
       "\n",
       "    .dataframe thead th {\n",
       "        text-align: right;\n",
       "    }\n",
       "</style>\n",
       "<table border=\"1\" class=\"dataframe\">\n",
       "  <thead>\n",
       "    <tr style=\"text-align: right;\">\n",
       "      <th></th>\n",
       "      <th>Missing value</th>\n",
       "    </tr>\n",
       "  </thead>\n",
       "  <tbody>\n",
       "    <tr>\n",
       "      <th>cv</th>\n",
       "      <td>214</td>\n",
       "    </tr>\n",
       "  </tbody>\n",
       "</table>\n",
       "</div>"
      ],
      "text/plain": [
       "    Missing value\n",
       "cv            214"
      ]
     },
     "execution_count": 1523,
     "metadata": {},
     "output_type": "execute_result"
    }
   ],
   "source": [
    "# for doctor dataframe\n",
    "nan=pd.DataFrame({'Missing value': doctor_dataframe.isnull().sum().sort_values(ascending=False)})\n",
    "nan[nan['Missing value'] > 0]"
   ]
  },
  {
   "cell_type": "code",
   "execution_count": 1524,
   "metadata": {},
   "outputs": [
    {
     "data": {
      "text/html": [
       "<div>\n",
       "<style scoped>\n",
       "    .dataframe tbody tr th:only-of-type {\n",
       "        vertical-align: middle;\n",
       "    }\n",
       "\n",
       "    .dataframe tbody tr th {\n",
       "        vertical-align: top;\n",
       "    }\n",
       "\n",
       "    .dataframe thead th {\n",
       "        text-align: right;\n",
       "    }\n",
       "</style>\n",
       "<table border=\"1\" class=\"dataframe\">\n",
       "  <thead>\n",
       "    <tr style=\"text-align: right;\">\n",
       "      <th></th>\n",
       "      <th>Missing value</th>\n",
       "    </tr>\n",
       "  </thead>\n",
       "  <tbody>\n",
       "    <tr>\n",
       "      <th>audio_detailed_description</th>\n",
       "      <td>520</td>\n",
       "    </tr>\n",
       "  </tbody>\n",
       "</table>\n",
       "</div>"
      ],
      "text/plain": [
       "                            Missing value\n",
       "audio_detailed_description            520"
      ]
     },
     "execution_count": 1524,
     "metadata": {},
     "output_type": "execute_result"
    }
   ],
   "source": [
    "# for consultation dataframe\n",
    "nan=pd.DataFrame({'Missing value': consultation_dataframe.isnull().sum().sort_values(ascending=False)})\n",
    "nan[nan['Missing value'] > 0]"
   ]
  },
  {
   "attachments": {},
   "cell_type": "markdown",
   "metadata": {},
   "source": [
    "    N.B. Since medical data require medical examination, filling the missing variable(s) would be inappropriat. Hence droping missing variable(s) is recommended."
   ]
  },
  {
   "cell_type": "code",
   "execution_count": 1525,
   "metadata": {},
   "outputs": [],
   "source": [
    "# Drop missing varaiables in patient dataframe\n",
    "patient_dataframe.dropna(axis=1, inplace=True)\n",
    "patient_dataframe.reset_index(drop=True, inplace=True)"
   ]
  },
  {
   "cell_type": "code",
   "execution_count": 1526,
   "metadata": {},
   "outputs": [
    {
     "data": {
      "text/html": [
       "<div>\n",
       "<style scoped>\n",
       "    .dataframe tbody tr th:only-of-type {\n",
       "        vertical-align: middle;\n",
       "    }\n",
       "\n",
       "    .dataframe tbody tr th {\n",
       "        vertical-align: top;\n",
       "    }\n",
       "\n",
       "    .dataframe thead th {\n",
       "        text-align: right;\n",
       "    }\n",
       "</style>\n",
       "<table border=\"1\" class=\"dataframe\">\n",
       "  <thead>\n",
       "    <tr style=\"text-align: right;\">\n",
       "      <th></th>\n",
       "      <th>Missing value</th>\n",
       "    </tr>\n",
       "  </thead>\n",
       "  <tbody>\n",
       "  </tbody>\n",
       "</table>\n",
       "</div>"
      ],
      "text/plain": [
       "Empty DataFrame\n",
       "Columns: [Missing value]\n",
       "Index: []"
      ]
     },
     "execution_count": 1526,
     "metadata": {},
     "output_type": "execute_result"
    }
   ],
   "source": [
    "nan=pd.DataFrame({'Missing value': patient_dataframe.isnull().sum().sort_values(ascending=False)})\n",
    "nan[nan['Missing value'] > 0]"
   ]
  },
  {
   "cell_type": "code",
   "execution_count": 1527,
   "metadata": {},
   "outputs": [
    {
     "data": {
      "text/plain": [
       "(250, 26)"
      ]
     },
     "execution_count": 1527,
     "metadata": {},
     "output_type": "execute_result"
    }
   ],
   "source": [
    "patient_dataframe.shape"
   ]
  },
  {
   "cell_type": "code",
   "execution_count": 1528,
   "metadata": {},
   "outputs": [
    {
     "data": {
      "text/html": [
       "<div>\n",
       "<style scoped>\n",
       "    .dataframe tbody tr th:only-of-type {\n",
       "        vertical-align: middle;\n",
       "    }\n",
       "\n",
       "    .dataframe tbody tr th {\n",
       "        vertical-align: top;\n",
       "    }\n",
       "\n",
       "    .dataframe thead th {\n",
       "        text-align: right;\n",
       "    }\n",
       "</style>\n",
       "<table border=\"1\" class=\"dataframe\">\n",
       "  <thead>\n",
       "    <tr style=\"text-align: right;\">\n",
       "      <th></th>\n",
       "      <th>patient_id</th>\n",
       "      <th>address</th>\n",
       "      <th>blood_type</th>\n",
       "      <th>closest_hospital</th>\n",
       "      <th>community</th>\n",
       "      <th>country</th>\n",
       "      <th>date_of_birth</th>\n",
       "      <th>first_name</th>\n",
       "      <th>gender</th>\n",
       "      <th>has_children</th>\n",
       "      <th>...</th>\n",
       "      <th>num_of_dependents</th>\n",
       "      <th>post_code</th>\n",
       "      <th>preferred_language</th>\n",
       "      <th>purpose_of_visit</th>\n",
       "      <th>state</th>\n",
       "      <th>sur_name</th>\n",
       "      <th>title</th>\n",
       "      <th>user_id</th>\n",
       "      <th>weight</th>\n",
       "      <th>hospital_id</th>\n",
       "    </tr>\n",
       "  </thead>\n",
       "  <tbody>\n",
       "    <tr>\n",
       "      <th>0</th>\n",
       "      <td>1</td>\n",
       "      <td>Ap #266-429 Velit St.</td>\n",
       "      <td>AB+</td>\n",
       "      <td>Blue Cross Hospital</td>\n",
       "      <td>suburban</td>\n",
       "      <td>nigeria</td>\n",
       "      <td>4/13/2009</td>\n",
       "      <td>ACRA</td>\n",
       "      <td>Female</td>\n",
       "      <td>Yes</td>\n",
       "      <td>...</td>\n",
       "      <td>2</td>\n",
       "      <td>10201</td>\n",
       "      <td>english</td>\n",
       "      <td>medical examination</td>\n",
       "      <td>Lagos</td>\n",
       "      <td>SMITH</td>\n",
       "      <td>Mrs.</td>\n",
       "      <td>1</td>\n",
       "      <td>69</td>\n",
       "      <td>1</td>\n",
       "    </tr>\n",
       "    <tr>\n",
       "      <th>1</th>\n",
       "      <td>2</td>\n",
       "      <td>315-4283 Nam Street</td>\n",
       "      <td>O-</td>\n",
       "      <td>Krown Hospital</td>\n",
       "      <td>suburban</td>\n",
       "      <td>nigeria</td>\n",
       "      <td>7/8/2011</td>\n",
       "      <td>ADOLPH</td>\n",
       "      <td>Male</td>\n",
       "      <td>Yes</td>\n",
       "      <td>...</td>\n",
       "      <td>2</td>\n",
       "      <td>12224</td>\n",
       "      <td>english</td>\n",
       "      <td>medical examination</td>\n",
       "      <td>Lagos</td>\n",
       "      <td>NEILON</td>\n",
       "      <td>Mr.</td>\n",
       "      <td>2</td>\n",
       "      <td>80</td>\n",
       "      <td>1</td>\n",
       "    </tr>\n",
       "    <tr>\n",
       "      <th>2</th>\n",
       "      <td>3</td>\n",
       "      <td>921-1491 Nonummy Ave</td>\n",
       "      <td>A-</td>\n",
       "      <td>Ave Maria Hospital</td>\n",
       "      <td>suburban</td>\n",
       "      <td>nigeria</td>\n",
       "      <td>12/30/2000</td>\n",
       "      <td>ANKI</td>\n",
       "      <td>Male</td>\n",
       "      <td>Yes</td>\n",
       "      <td>...</td>\n",
       "      <td>3</td>\n",
       "      <td>53510</td>\n",
       "      <td>english</td>\n",
       "      <td>medical examination</td>\n",
       "      <td>Lagos</td>\n",
       "      <td>HENDRI</td>\n",
       "      <td>Mr.</td>\n",
       "      <td>3</td>\n",
       "      <td>67</td>\n",
       "      <td>1</td>\n",
       "    </tr>\n",
       "    <tr>\n",
       "      <th>3</th>\n",
       "      <td>4</td>\n",
       "      <td>Ap #299-4324 Mauris Avenue</td>\n",
       "      <td>O-</td>\n",
       "      <td>Isolo General Hospital</td>\n",
       "      <td>urban</td>\n",
       "      <td>nigeria</td>\n",
       "      <td>9/15/1987</td>\n",
       "      <td>GARBO</td>\n",
       "      <td>Male</td>\n",
       "      <td>No</td>\n",
       "      <td>...</td>\n",
       "      <td>3</td>\n",
       "      <td>25193</td>\n",
       "      <td>english</td>\n",
       "      <td>medical examination</td>\n",
       "      <td>Lagos</td>\n",
       "      <td>SHARRON</td>\n",
       "      <td>Mr.</td>\n",
       "      <td>4</td>\n",
       "      <td>74</td>\n",
       "      <td>1</td>\n",
       "    </tr>\n",
       "    <tr>\n",
       "      <th>4</th>\n",
       "      <td>5</td>\n",
       "      <td>P.O. Box 913, 6976 Magnis Rd.</td>\n",
       "      <td>O-</td>\n",
       "      <td>Lagoon Hospitals</td>\n",
       "      <td>rural</td>\n",
       "      <td>nigeria</td>\n",
       "      <td>10/10/2002</td>\n",
       "      <td>ADONAI</td>\n",
       "      <td>Female</td>\n",
       "      <td>No</td>\n",
       "      <td>...</td>\n",
       "      <td>1</td>\n",
       "      <td>37171</td>\n",
       "      <td>english</td>\n",
       "      <td>medical examination</td>\n",
       "      <td>Lagos</td>\n",
       "      <td>NEIVA</td>\n",
       "      <td>Ms.</td>\n",
       "      <td>5</td>\n",
       "      <td>62</td>\n",
       "      <td>1</td>\n",
       "    </tr>\n",
       "  </tbody>\n",
       "</table>\n",
       "<p>5 rows × 26 columns</p>\n",
       "</div>"
      ],
      "text/plain": [
       "   patient_id                        address blood_type  \\\n",
       "0           1          Ap #266-429 Velit St.        AB+   \n",
       "1           2            315-4283 Nam Street         O-   \n",
       "2           3           921-1491 Nonummy Ave         A-   \n",
       "3           4     Ap #299-4324 Mauris Avenue         O-   \n",
       "4           5  P.O. Box 913, 6976 Magnis Rd.         O-   \n",
       "\n",
       "         closest_hospital community  country date_of_birth first_name  gender  \\\n",
       "0     Blue Cross Hospital  suburban  nigeria     4/13/2009       ACRA  Female   \n",
       "1          Krown Hospital  suburban  nigeria      7/8/2011     ADOLPH    Male   \n",
       "2      Ave Maria Hospital  suburban  nigeria    12/30/2000       ANKI    Male   \n",
       "3  Isolo General Hospital     urban  nigeria     9/15/1987      GARBO    Male   \n",
       "4        Lagoon Hospitals     rural  nigeria    10/10/2002     ADONAI  Female   \n",
       "\n",
       "  has_children  ... num_of_dependents  post_code preferred_language  \\\n",
       "0          Yes  ...                 2      10201            english   \n",
       "1          Yes  ...                 2      12224            english   \n",
       "2          Yes  ...                 3      53510            english   \n",
       "3           No  ...                 3      25193            english   \n",
       "4           No  ...                 1      37171            english   \n",
       "\n",
       "      purpose_of_visit  state  sur_name  title  user_id weight hospital_id  \n",
       "0  medical examination  Lagos     SMITH   Mrs.        1     69           1  \n",
       "1  medical examination  Lagos    NEILON    Mr.        2     80           1  \n",
       "2  medical examination  Lagos    HENDRI    Mr.        3     67           1  \n",
       "3  medical examination  Lagos   SHARRON    Mr.        4     74           1  \n",
       "4  medical examination  Lagos     NEIVA    Ms.        5     62           1  \n",
       "\n",
       "[5 rows x 26 columns]"
      ]
     },
     "execution_count": 1528,
     "metadata": {},
     "output_type": "execute_result"
    }
   ],
   "source": [
    "patient_dataframe.head()"
   ]
  },
  {
   "cell_type": "code",
   "execution_count": 1529,
   "metadata": {},
   "outputs": [],
   "source": [
    "# cleaned patient dataset\n",
    "patient_dataframe.to_csv('cleaned_patient.csv', index=False)"
   ]
  },
  {
   "cell_type": "code",
   "execution_count": 1530,
   "metadata": {},
   "outputs": [],
   "source": [
    "# Drop missing varaiables in doctor dataframe\n",
    "doctor_dataframe.dropna(axis=1, inplace=True)\n",
    "doctor_dataframe.reset_index(drop=True, inplace=True)"
   ]
  },
  {
   "cell_type": "code",
   "execution_count": 1531,
   "metadata": {},
   "outputs": [
    {
     "data": {
      "text/html": [
       "<div>\n",
       "<style scoped>\n",
       "    .dataframe tbody tr th:only-of-type {\n",
       "        vertical-align: middle;\n",
       "    }\n",
       "\n",
       "    .dataframe tbody tr th {\n",
       "        vertical-align: top;\n",
       "    }\n",
       "\n",
       "    .dataframe thead th {\n",
       "        text-align: right;\n",
       "    }\n",
       "</style>\n",
       "<table border=\"1\" class=\"dataframe\">\n",
       "  <thead>\n",
       "    <tr style=\"text-align: right;\">\n",
       "      <th></th>\n",
       "      <th>Missing value</th>\n",
       "    </tr>\n",
       "  </thead>\n",
       "  <tbody>\n",
       "  </tbody>\n",
       "</table>\n",
       "</div>"
      ],
      "text/plain": [
       "Empty DataFrame\n",
       "Columns: [Missing value]\n",
       "Index: []"
      ]
     },
     "execution_count": 1531,
     "metadata": {},
     "output_type": "execute_result"
    }
   ],
   "source": [
    "nan=pd.DataFrame({'Missing value': doctor_dataframe.isnull().sum().sort_values(ascending=False)})\n",
    "nan[nan['Missing value'] > 0]"
   ]
  },
  {
   "cell_type": "code",
   "execution_count": 1532,
   "metadata": {},
   "outputs": [
    {
     "data": {
      "text/plain": [
       "(214, 21)"
      ]
     },
     "execution_count": 1532,
     "metadata": {},
     "output_type": "execute_result"
    }
   ],
   "source": [
    "doctor_dataframe.shape"
   ]
  },
  {
   "cell_type": "code",
   "execution_count": 1533,
   "metadata": {},
   "outputs": [
    {
     "data": {
      "text/html": [
       "<div>\n",
       "<style scoped>\n",
       "    .dataframe tbody tr th:only-of-type {\n",
       "        vertical-align: middle;\n",
       "    }\n",
       "\n",
       "    .dataframe tbody tr th {\n",
       "        vertical-align: top;\n",
       "    }\n",
       "\n",
       "    .dataframe thead th {\n",
       "        text-align: right;\n",
       "    }\n",
       "</style>\n",
       "<table border=\"1\" class=\"dataframe\">\n",
       "  <thead>\n",
       "    <tr style=\"text-align: right;\">\n",
       "      <th></th>\n",
       "      <th>doctor_id</th>\n",
       "      <th>approved</th>\n",
       "      <th>city</th>\n",
       "      <th>date_of_birth</th>\n",
       "      <th>dependant_stand_by</th>\n",
       "      <th>full_name</th>\n",
       "      <th>doctor_gender</th>\n",
       "      <th>graduation_date</th>\n",
       "      <th>is_student</th>\n",
       "      <th>marital_status</th>\n",
       "      <th>...</th>\n",
       "      <th>name_of_university</th>\n",
       "      <th>national_identification_number</th>\n",
       "      <th>office_address</th>\n",
       "      <th>reference_doctor_email</th>\n",
       "      <th>reference_doctor_full_name</th>\n",
       "      <th>reference_doctor_phone_number</th>\n",
       "      <th>state</th>\n",
       "      <th>student_number</th>\n",
       "      <th>system_status</th>\n",
       "      <th>title</th>\n",
       "    </tr>\n",
       "  </thead>\n",
       "  <tbody>\n",
       "    <tr>\n",
       "      <th>0</th>\n",
       "      <td>1</td>\n",
       "      <td>Yes</td>\n",
       "      <td>Lagos</td>\n",
       "      <td>8/5/1972</td>\n",
       "      <td>1</td>\n",
       "      <td>ACRA SMITH</td>\n",
       "      <td>Male</td>\n",
       "      <td>9/6/2019</td>\n",
       "      <td>No</td>\n",
       "      <td>Married</td>\n",
       "      <td>...</td>\n",
       "      <td>Caleb University- Lagos</td>\n",
       "      <td>1122458</td>\n",
       "      <td>618-3434 Sagittis Av.</td>\n",
       "      <td>acrasmith@gmail.com</td>\n",
       "      <td>ACRA SMITH</td>\n",
       "      <td>53488888</td>\n",
       "      <td>Lagos</td>\n",
       "      <td>2710</td>\n",
       "      <td>very good</td>\n",
       "      <td>Mr.</td>\n",
       "    </tr>\n",
       "    <tr>\n",
       "      <th>1</th>\n",
       "      <td>2</td>\n",
       "      <td>Yes</td>\n",
       "      <td>Lagos</td>\n",
       "      <td>7/12/1989</td>\n",
       "      <td>2</td>\n",
       "      <td>ADOLPH NEILON</td>\n",
       "      <td>Female</td>\n",
       "      <td>6/25/2006</td>\n",
       "      <td>Yes</td>\n",
       "      <td>Married</td>\n",
       "      <td>...</td>\n",
       "      <td>National Open University of Nigeria- Lagos</td>\n",
       "      <td>4563751</td>\n",
       "      <td>405-9892 Ultrices Rd.</td>\n",
       "      <td>adolphneilon@gmail.com</td>\n",
       "      <td>ADOLPH NEILON</td>\n",
       "      <td>50989139</td>\n",
       "      <td>Lagos</td>\n",
       "      <td>5370</td>\n",
       "      <td>good</td>\n",
       "      <td>Ms.</td>\n",
       "    </tr>\n",
       "    <tr>\n",
       "      <th>2</th>\n",
       "      <td>3</td>\n",
       "      <td>Yes</td>\n",
       "      <td>Lagos</td>\n",
       "      <td>9/30/1965</td>\n",
       "      <td>1</td>\n",
       "      <td>ANKI HENDRI</td>\n",
       "      <td>Male</td>\n",
       "      <td>12/20/2008</td>\n",
       "      <td>Yes</td>\n",
       "      <td>Married</td>\n",
       "      <td>...</td>\n",
       "      <td>James Hope University- Lagos</td>\n",
       "      <td>1877514</td>\n",
       "      <td>Ap #561-9293 Sociis St.</td>\n",
       "      <td>ankihendri@gmail.com</td>\n",
       "      <td>ANKI HENDRI</td>\n",
       "      <td>42144921</td>\n",
       "      <td>Lagos</td>\n",
       "      <td>6696</td>\n",
       "      <td>excellent</td>\n",
       "      <td>Mr.</td>\n",
       "    </tr>\n",
       "    <tr>\n",
       "      <th>3</th>\n",
       "      <td>4</td>\n",
       "      <td>Yes</td>\n",
       "      <td>Lagos</td>\n",
       "      <td>8/12/1964</td>\n",
       "      <td>1</td>\n",
       "      <td>GARBO SHARRON</td>\n",
       "      <td>Male</td>\n",
       "      <td>8/22/2013</td>\n",
       "      <td>No</td>\n",
       "      <td>Married</td>\n",
       "      <td>...</td>\n",
       "      <td>Lagos State University of Science and Technolo...</td>\n",
       "      <td>2513477</td>\n",
       "      <td>Ap #381-3175 Sed, Street</td>\n",
       "      <td>garbosharron@gmail.com</td>\n",
       "      <td>GARBO SHARRON</td>\n",
       "      <td>52477143</td>\n",
       "      <td>Lagos</td>\n",
       "      <td>4343</td>\n",
       "      <td>fair</td>\n",
       "      <td>Mr.</td>\n",
       "    </tr>\n",
       "    <tr>\n",
       "      <th>4</th>\n",
       "      <td>5</td>\n",
       "      <td>Yes</td>\n",
       "      <td>Lagos</td>\n",
       "      <td>12/5/1963</td>\n",
       "      <td>0</td>\n",
       "      <td>ADONAI NEIVA</td>\n",
       "      <td>Female</td>\n",
       "      <td>12/28/2021</td>\n",
       "      <td>No</td>\n",
       "      <td>Married</td>\n",
       "      <td>...</td>\n",
       "      <td>Lagos State University of Science and Technolo...</td>\n",
       "      <td>3463224</td>\n",
       "      <td>Ap #230-5566 Amet, St.</td>\n",
       "      <td>adonaineiva@gmail.com</td>\n",
       "      <td>ADONAI NEIVA</td>\n",
       "      <td>29517478</td>\n",
       "      <td>Lagos</td>\n",
       "      <td>4300</td>\n",
       "      <td>very good</td>\n",
       "      <td>Ms.</td>\n",
       "    </tr>\n",
       "  </tbody>\n",
       "</table>\n",
       "<p>5 rows × 21 columns</p>\n",
       "</div>"
      ],
      "text/plain": [
       "   doctor_id approved   city date_of_birth  dependant_stand_by      full_name  \\\n",
       "0          1      Yes  Lagos      8/5/1972                   1     ACRA SMITH   \n",
       "1          2      Yes  Lagos     7/12/1989                   2  ADOLPH NEILON   \n",
       "2          3      Yes  Lagos     9/30/1965                   1    ANKI HENDRI   \n",
       "3          4      Yes  Lagos     8/12/1964                   1  GARBO SHARRON   \n",
       "4          5      Yes  Lagos     12/5/1963                   0   ADONAI NEIVA   \n",
       "\n",
       "  doctor_gender graduation_date is_student marital_status  ...  \\\n",
       "0          Male        9/6/2019         No        Married  ...   \n",
       "1        Female       6/25/2006        Yes        Married  ...   \n",
       "2          Male      12/20/2008        Yes        Married  ...   \n",
       "3          Male       8/22/2013         No        Married  ...   \n",
       "4        Female      12/28/2021         No        Married  ...   \n",
       "\n",
       "                                  name_of_university  \\\n",
       "0                            Caleb University- Lagos   \n",
       "1         National Open University of Nigeria- Lagos   \n",
       "2                       James Hope University- Lagos   \n",
       "3  Lagos State University of Science and Technolo...   \n",
       "4  Lagos State University of Science and Technolo...   \n",
       "\n",
       "  national_identification_number            office_address  \\\n",
       "0                        1122458     618-3434 Sagittis Av.   \n",
       "1                        4563751     405-9892 Ultrices Rd.   \n",
       "2                        1877514   Ap #561-9293 Sociis St.   \n",
       "3                        2513477  Ap #381-3175 Sed, Street   \n",
       "4                        3463224    Ap #230-5566 Amet, St.   \n",
       "\n",
       "   reference_doctor_email reference_doctor_full_name  \\\n",
       "0     acrasmith@gmail.com                 ACRA SMITH   \n",
       "1  adolphneilon@gmail.com              ADOLPH NEILON   \n",
       "2    ankihendri@gmail.com                ANKI HENDRI   \n",
       "3  garbosharron@gmail.com              GARBO SHARRON   \n",
       "4   adonaineiva@gmail.com               ADONAI NEIVA   \n",
       "\n",
       "  reference_doctor_phone_number  state student_number  system_status title  \n",
       "0                      53488888  Lagos           2710      very good   Mr.  \n",
       "1                      50989139  Lagos           5370           good   Ms.  \n",
       "2                      42144921  Lagos           6696      excellent   Mr.  \n",
       "3                      52477143  Lagos           4343           fair   Mr.  \n",
       "4                      29517478  Lagos           4300      very good   Ms.  \n",
       "\n",
       "[5 rows x 21 columns]"
      ]
     },
     "execution_count": 1533,
     "metadata": {},
     "output_type": "execute_result"
    }
   ],
   "source": [
    "doctor_dataframe.head()"
   ]
  },
  {
   "cell_type": "code",
   "execution_count": 1534,
   "metadata": {},
   "outputs": [],
   "source": [
    "# cleaned doctor dataset\n",
    "doctor_dataframe.to_csv('cleaned_doctor.csv', index=False)"
   ]
  },
  {
   "cell_type": "code",
   "execution_count": 1535,
   "metadata": {},
   "outputs": [],
   "source": [
    "# Drop missing varaiables in consultation dataframe\n",
    "consultation_dataframe.dropna(axis=1, inplace=True)\n",
    "consultation_dataframe.reset_index(drop=True, inplace=True)"
   ]
  },
  {
   "cell_type": "code",
   "execution_count": 1536,
   "metadata": {},
   "outputs": [
    {
     "data": {
      "text/html": [
       "<div>\n",
       "<style scoped>\n",
       "    .dataframe tbody tr th:only-of-type {\n",
       "        vertical-align: middle;\n",
       "    }\n",
       "\n",
       "    .dataframe tbody tr th {\n",
       "        vertical-align: top;\n",
       "    }\n",
       "\n",
       "    .dataframe thead th {\n",
       "        text-align: right;\n",
       "    }\n",
       "</style>\n",
       "<table border=\"1\" class=\"dataframe\">\n",
       "  <thead>\n",
       "    <tr style=\"text-align: right;\">\n",
       "      <th></th>\n",
       "      <th>Missing value</th>\n",
       "    </tr>\n",
       "  </thead>\n",
       "  <tbody>\n",
       "  </tbody>\n",
       "</table>\n",
       "</div>"
      ],
      "text/plain": [
       "Empty DataFrame\n",
       "Columns: [Missing value]\n",
       "Index: []"
      ]
     },
     "execution_count": 1536,
     "metadata": {},
     "output_type": "execute_result"
    }
   ],
   "source": [
    "nan=pd.DataFrame({'Missing value': consultation_dataframe.isnull().sum().sort_values(ascending=False)})\n",
    "nan[nan['Missing value'] > 0]"
   ]
  },
  {
   "cell_type": "code",
   "execution_count": 1537,
   "metadata": {},
   "outputs": [
    {
     "data": {
      "text/plain": [
       "(520, 16)"
      ]
     },
     "execution_count": 1537,
     "metadata": {},
     "output_type": "execute_result"
    }
   ],
   "source": [
    "consultation_dataframe.shape"
   ]
  },
  {
   "cell_type": "code",
   "execution_count": 1538,
   "metadata": {},
   "outputs": [
    {
     "data": {
      "text/html": [
       "<div>\n",
       "<style scoped>\n",
       "    .dataframe tbody tr th:only-of-type {\n",
       "        vertical-align: middle;\n",
       "    }\n",
       "\n",
       "    .dataframe tbody tr th {\n",
       "        vertical-align: top;\n",
       "    }\n",
       "\n",
       "    .dataframe thead th {\n",
       "        text-align: right;\n",
       "    }\n",
       "</style>\n",
       "<table border=\"1\" class=\"dataframe\">\n",
       "  <thead>\n",
       "    <tr style=\"text-align: right;\">\n",
       "      <th></th>\n",
       "      <th>id</th>\n",
       "      <th>consultation_cost</th>\n",
       "      <th>patient_body_area</th>\n",
       "      <th>consent</th>\n",
       "      <th>doctor_full_name</th>\n",
       "      <th>doctor_id</th>\n",
       "      <th>language</th>\n",
       "      <th>patient_full_name</th>\n",
       "      <th>patient_id</th>\n",
       "      <th>patient_mobile</th>\n",
       "      <th>patient_status</th>\n",
       "      <th>time_accepted</th>\n",
       "      <th>time_booked</th>\n",
       "      <th>time_finished</th>\n",
       "      <th>time_started</th>\n",
       "      <th>transaction_reference</th>\n",
       "    </tr>\n",
       "  </thead>\n",
       "  <tbody>\n",
       "    <tr>\n",
       "      <th>0</th>\n",
       "      <td>1</td>\n",
       "      <td>1900</td>\n",
       "      <td>legs</td>\n",
       "      <td>Yes</td>\n",
       "      <td>ACRA SMITH</td>\n",
       "      <td>1</td>\n",
       "      <td>english</td>\n",
       "      <td>ADRIATIK NELL</td>\n",
       "      <td>100</td>\n",
       "      <td>6780843</td>\n",
       "      <td>under appointment</td>\n",
       "      <td>13:30</td>\n",
       "      <td>2:00 PM</td>\n",
       "      <td>5:10 PM</td>\n",
       "      <td>3:10 PM</td>\n",
       "      <td>1</td>\n",
       "    </tr>\n",
       "    <tr>\n",
       "      <th>1</th>\n",
       "      <td>2</td>\n",
       "      <td>9100</td>\n",
       "      <td>chest area</td>\n",
       "      <td>Yes</td>\n",
       "      <td>ADOLPH NEILON</td>\n",
       "      <td>2</td>\n",
       "      <td>english</td>\n",
       "      <td>ANNAMARIE HERA</td>\n",
       "      <td>72</td>\n",
       "      <td>4272348</td>\n",
       "      <td>new consultation</td>\n",
       "      <td>10:15</td>\n",
       "      <td>10:45 AM</td>\n",
       "      <td>12:45 PM</td>\n",
       "      <td>11:45 AM</td>\n",
       "      <td>2</td>\n",
       "    </tr>\n",
       "    <tr>\n",
       "      <th>2</th>\n",
       "      <td>3</td>\n",
       "      <td>8200</td>\n",
       "      <td>head</td>\n",
       "      <td>Yes</td>\n",
       "      <td>ANKI HENDRI</td>\n",
       "      <td>3</td>\n",
       "      <td>english</td>\n",
       "      <td>GARRICK SHATISHA</td>\n",
       "      <td>150</td>\n",
       "      <td>6183602</td>\n",
       "      <td>new consultation</td>\n",
       "      <td>8:45</td>\n",
       "      <td>9:35 AM</td>\n",
       "      <td>12:15 PM</td>\n",
       "      <td>10:35 AM</td>\n",
       "      <td>3</td>\n",
       "    </tr>\n",
       "    <tr>\n",
       "      <th>3</th>\n",
       "      <td>4</td>\n",
       "      <td>5600</td>\n",
       "      <td>back</td>\n",
       "      <td>Yes</td>\n",
       "      <td>GARBO SHARRON</td>\n",
       "      <td>4</td>\n",
       "      <td>english</td>\n",
       "      <td>ADRIELLE NELLI</td>\n",
       "      <td>27</td>\n",
       "      <td>6822469</td>\n",
       "      <td>appointed session</td>\n",
       "      <td>13:15</td>\n",
       "      <td>1:55 PM</td>\n",
       "      <td>4:35 PM</td>\n",
       "      <td>2:45 PM</td>\n",
       "      <td>4</td>\n",
       "    </tr>\n",
       "    <tr>\n",
       "      <th>4</th>\n",
       "      <td>5</td>\n",
       "      <td>1200</td>\n",
       "      <td>stomach</td>\n",
       "      <td>Yes</td>\n",
       "      <td>ADONAI NEIVA</td>\n",
       "      <td>5</td>\n",
       "      <td>english</td>\n",
       "      <td>ANNASTASIA HERARD</td>\n",
       "      <td>191</td>\n",
       "      <td>7229498</td>\n",
       "      <td>new consultation</td>\n",
       "      <td>9:00</td>\n",
       "      <td>9:30 AM</td>\n",
       "      <td>11:20 AM</td>\n",
       "      <td>10:30 AM</td>\n",
       "      <td>5</td>\n",
       "    </tr>\n",
       "  </tbody>\n",
       "</table>\n",
       "</div>"
      ],
      "text/plain": [
       "   id  consultation_cost patient_body_area consent doctor_full_name  \\\n",
       "0   1               1900              legs     Yes       ACRA SMITH   \n",
       "1   2               9100        chest area     Yes    ADOLPH NEILON   \n",
       "2   3               8200              head     Yes      ANKI HENDRI   \n",
       "3   4               5600              back     Yes    GARBO SHARRON   \n",
       "4   5               1200           stomach     Yes     ADONAI NEIVA   \n",
       "\n",
       "   doctor_id language  patient_full_name  patient_id  patient_mobile  \\\n",
       "0          1  english      ADRIATIK NELL         100         6780843   \n",
       "1          2  english     ANNAMARIE HERA          72         4272348   \n",
       "2          3  english   GARRICK SHATISHA         150         6183602   \n",
       "3          4  english     ADRIELLE NELLI          27         6822469   \n",
       "4          5  english  ANNASTASIA HERARD         191         7229498   \n",
       "\n",
       "      patient_status time_accepted time_booked time_finished time_started  \\\n",
       "0  under appointment         13:30     2:00 PM       5:10 PM      3:10 PM   \n",
       "1   new consultation         10:15    10:45 AM      12:45 PM     11:45 AM   \n",
       "2   new consultation          8:45     9:35 AM      12:15 PM     10:35 AM   \n",
       "3  appointed session         13:15     1:55 PM       4:35 PM      2:45 PM   \n",
       "4   new consultation          9:00     9:30 AM      11:20 AM     10:30 AM   \n",
       "\n",
       "   transaction_reference  \n",
       "0                      1  \n",
       "1                      2  \n",
       "2                      3  \n",
       "3                      4  \n",
       "4                      5  "
      ]
     },
     "execution_count": 1538,
     "metadata": {},
     "output_type": "execute_result"
    }
   ],
   "source": [
    "consultation_dataframe.head()"
   ]
  },
  {
   "cell_type": "code",
   "execution_count": 1539,
   "metadata": {},
   "outputs": [],
   "source": [
    "# cleaned consultation dataset\n",
    "consultation_dataframe.to_csv('cleaned_consultation.csv', index=False)"
   ]
  },
  {
   "attachments": {},
   "cell_type": "markdown",
   "metadata": {},
   "source": [
    "### Creating the new simulated dataset via merg"
   ]
  },
  {
   "cell_type": "code",
   "execution_count": 1540,
   "metadata": {},
   "outputs": [],
   "source": [
    "# Calculate variable age using variable date_of_birth in the patient_dataframe\n",
    "\n",
    "from datetime import datetime\n",
    "\n",
    "# Convert date_of_birth column to datetime\n",
    "patient_dataframe['date_of_birth'] = pd.to_datetime(patient_dataframe['date_of_birth'])\n",
    "\n",
    "# Calculate age by subtracting date_of_birth from current date\n",
    "patient_dataframe['age'] = (datetime.now() - patient_dataframe['date_of_birth']) // pd.Timedelta(days=365)\n"
   ]
  },
  {
   "cell_type": "code",
   "execution_count": 1541,
   "metadata": {},
   "outputs": [
    {
     "data": {
      "text/html": [
       "<div>\n",
       "<style scoped>\n",
       "    .dataframe tbody tr th:only-of-type {\n",
       "        vertical-align: middle;\n",
       "    }\n",
       "\n",
       "    .dataframe tbody tr th {\n",
       "        vertical-align: top;\n",
       "    }\n",
       "\n",
       "    .dataframe thead th {\n",
       "        text-align: right;\n",
       "    }\n",
       "</style>\n",
       "<table border=\"1\" class=\"dataframe\">\n",
       "  <thead>\n",
       "    <tr style=\"text-align: right;\">\n",
       "      <th></th>\n",
       "      <th>patient_id</th>\n",
       "      <th>address</th>\n",
       "      <th>blood_type</th>\n",
       "      <th>closest_hospital</th>\n",
       "      <th>community</th>\n",
       "      <th>country</th>\n",
       "      <th>date_of_birth</th>\n",
       "      <th>first_name</th>\n",
       "      <th>gender</th>\n",
       "      <th>has_children</th>\n",
       "      <th>...</th>\n",
       "      <th>post_code</th>\n",
       "      <th>preferred_language</th>\n",
       "      <th>purpose_of_visit</th>\n",
       "      <th>state</th>\n",
       "      <th>sur_name</th>\n",
       "      <th>title</th>\n",
       "      <th>user_id</th>\n",
       "      <th>weight</th>\n",
       "      <th>hospital_id</th>\n",
       "      <th>age</th>\n",
       "    </tr>\n",
       "  </thead>\n",
       "  <tbody>\n",
       "    <tr>\n",
       "      <th>0</th>\n",
       "      <td>1</td>\n",
       "      <td>Ap #266-429 Velit St.</td>\n",
       "      <td>AB+</td>\n",
       "      <td>Blue Cross Hospital</td>\n",
       "      <td>suburban</td>\n",
       "      <td>nigeria</td>\n",
       "      <td>2009-04-13</td>\n",
       "      <td>ACRA</td>\n",
       "      <td>Female</td>\n",
       "      <td>Yes</td>\n",
       "      <td>...</td>\n",
       "      <td>10201</td>\n",
       "      <td>english</td>\n",
       "      <td>medical examination</td>\n",
       "      <td>Lagos</td>\n",
       "      <td>SMITH</td>\n",
       "      <td>Mrs.</td>\n",
       "      <td>1</td>\n",
       "      <td>69</td>\n",
       "      <td>1</td>\n",
       "      <td>14</td>\n",
       "    </tr>\n",
       "    <tr>\n",
       "      <th>1</th>\n",
       "      <td>2</td>\n",
       "      <td>315-4283 Nam Street</td>\n",
       "      <td>O-</td>\n",
       "      <td>Krown Hospital</td>\n",
       "      <td>suburban</td>\n",
       "      <td>nigeria</td>\n",
       "      <td>2011-07-08</td>\n",
       "      <td>ADOLPH</td>\n",
       "      <td>Male</td>\n",
       "      <td>Yes</td>\n",
       "      <td>...</td>\n",
       "      <td>12224</td>\n",
       "      <td>english</td>\n",
       "      <td>medical examination</td>\n",
       "      <td>Lagos</td>\n",
       "      <td>NEILON</td>\n",
       "      <td>Mr.</td>\n",
       "      <td>2</td>\n",
       "      <td>80</td>\n",
       "      <td>1</td>\n",
       "      <td>11</td>\n",
       "    </tr>\n",
       "    <tr>\n",
       "      <th>2</th>\n",
       "      <td>3</td>\n",
       "      <td>921-1491 Nonummy Ave</td>\n",
       "      <td>A-</td>\n",
       "      <td>Ave Maria Hospital</td>\n",
       "      <td>suburban</td>\n",
       "      <td>nigeria</td>\n",
       "      <td>2000-12-30</td>\n",
       "      <td>ANKI</td>\n",
       "      <td>Male</td>\n",
       "      <td>Yes</td>\n",
       "      <td>...</td>\n",
       "      <td>53510</td>\n",
       "      <td>english</td>\n",
       "      <td>medical examination</td>\n",
       "      <td>Lagos</td>\n",
       "      <td>HENDRI</td>\n",
       "      <td>Mr.</td>\n",
       "      <td>3</td>\n",
       "      <td>67</td>\n",
       "      <td>1</td>\n",
       "      <td>22</td>\n",
       "    </tr>\n",
       "    <tr>\n",
       "      <th>3</th>\n",
       "      <td>4</td>\n",
       "      <td>Ap #299-4324 Mauris Avenue</td>\n",
       "      <td>O-</td>\n",
       "      <td>Isolo General Hospital</td>\n",
       "      <td>urban</td>\n",
       "      <td>nigeria</td>\n",
       "      <td>1987-09-15</td>\n",
       "      <td>GARBO</td>\n",
       "      <td>Male</td>\n",
       "      <td>No</td>\n",
       "      <td>...</td>\n",
       "      <td>25193</td>\n",
       "      <td>english</td>\n",
       "      <td>medical examination</td>\n",
       "      <td>Lagos</td>\n",
       "      <td>SHARRON</td>\n",
       "      <td>Mr.</td>\n",
       "      <td>4</td>\n",
       "      <td>74</td>\n",
       "      <td>1</td>\n",
       "      <td>35</td>\n",
       "    </tr>\n",
       "    <tr>\n",
       "      <th>4</th>\n",
       "      <td>5</td>\n",
       "      <td>P.O. Box 913, 6976 Magnis Rd.</td>\n",
       "      <td>O-</td>\n",
       "      <td>Lagoon Hospitals</td>\n",
       "      <td>rural</td>\n",
       "      <td>nigeria</td>\n",
       "      <td>2002-10-10</td>\n",
       "      <td>ADONAI</td>\n",
       "      <td>Female</td>\n",
       "      <td>No</td>\n",
       "      <td>...</td>\n",
       "      <td>37171</td>\n",
       "      <td>english</td>\n",
       "      <td>medical examination</td>\n",
       "      <td>Lagos</td>\n",
       "      <td>NEIVA</td>\n",
       "      <td>Ms.</td>\n",
       "      <td>5</td>\n",
       "      <td>62</td>\n",
       "      <td>1</td>\n",
       "      <td>20</td>\n",
       "    </tr>\n",
       "  </tbody>\n",
       "</table>\n",
       "<p>5 rows × 27 columns</p>\n",
       "</div>"
      ],
      "text/plain": [
       "   patient_id                        address blood_type  \\\n",
       "0           1          Ap #266-429 Velit St.        AB+   \n",
       "1           2            315-4283 Nam Street         O-   \n",
       "2           3           921-1491 Nonummy Ave         A-   \n",
       "3           4     Ap #299-4324 Mauris Avenue         O-   \n",
       "4           5  P.O. Box 913, 6976 Magnis Rd.         O-   \n",
       "\n",
       "         closest_hospital community  country date_of_birth first_name  gender  \\\n",
       "0     Blue Cross Hospital  suburban  nigeria    2009-04-13       ACRA  Female   \n",
       "1          Krown Hospital  suburban  nigeria    2011-07-08     ADOLPH    Male   \n",
       "2      Ave Maria Hospital  suburban  nigeria    2000-12-30       ANKI    Male   \n",
       "3  Isolo General Hospital     urban  nigeria    1987-09-15      GARBO    Male   \n",
       "4        Lagoon Hospitals     rural  nigeria    2002-10-10     ADONAI  Female   \n",
       "\n",
       "  has_children  ... post_code  preferred_language     purpose_of_visit  state  \\\n",
       "0          Yes  ...     10201             english  medical examination  Lagos   \n",
       "1          Yes  ...     12224             english  medical examination  Lagos   \n",
       "2          Yes  ...     53510             english  medical examination  Lagos   \n",
       "3           No  ...     25193             english  medical examination  Lagos   \n",
       "4           No  ...     37171             english  medical examination  Lagos   \n",
       "\n",
       "   sur_name  title  user_id  weight hospital_id age  \n",
       "0     SMITH   Mrs.        1      69           1  14  \n",
       "1    NEILON    Mr.        2      80           1  11  \n",
       "2    HENDRI    Mr.        3      67           1  22  \n",
       "3   SHARRON    Mr.        4      74           1  35  \n",
       "4     NEIVA    Ms.        5      62           1  20  \n",
       "\n",
       "[5 rows x 27 columns]"
      ]
     },
     "execution_count": 1541,
     "metadata": {},
     "output_type": "execute_result"
    }
   ],
   "source": [
    "patient_dataframe.head()"
   ]
  },
  {
   "cell_type": "code",
   "execution_count": 1542,
   "metadata": {},
   "outputs": [],
   "source": [
    "# Calculate variable years_of_experience using variable graduation_date in doctor_dataframe\n",
    "\n",
    "# Convert graduation_date column to datetime\n",
    "doctor_dataframe['graduation_date'] = pd.to_datetime(doctor_dataframe['graduation_date'])\n",
    "\n",
    "# Calculate years_of_experience by subtracting graduation_date from current date\n",
    "doctor_dataframe['years_of_experience'] = (datetime.now() - doctor_dataframe['graduation_date']) // pd.Timedelta(days=365)"
   ]
  },
  {
   "cell_type": "code",
   "execution_count": 1543,
   "metadata": {},
   "outputs": [
    {
     "data": {
      "text/html": [
       "<div>\n",
       "<style scoped>\n",
       "    .dataframe tbody tr th:only-of-type {\n",
       "        vertical-align: middle;\n",
       "    }\n",
       "\n",
       "    .dataframe tbody tr th {\n",
       "        vertical-align: top;\n",
       "    }\n",
       "\n",
       "    .dataframe thead th {\n",
       "        text-align: right;\n",
       "    }\n",
       "</style>\n",
       "<table border=\"1\" class=\"dataframe\">\n",
       "  <thead>\n",
       "    <tr style=\"text-align: right;\">\n",
       "      <th></th>\n",
       "      <th>doctor_id</th>\n",
       "      <th>approved</th>\n",
       "      <th>city</th>\n",
       "      <th>date_of_birth</th>\n",
       "      <th>dependant_stand_by</th>\n",
       "      <th>full_name</th>\n",
       "      <th>doctor_gender</th>\n",
       "      <th>graduation_date</th>\n",
       "      <th>is_student</th>\n",
       "      <th>marital_status</th>\n",
       "      <th>...</th>\n",
       "      <th>national_identification_number</th>\n",
       "      <th>office_address</th>\n",
       "      <th>reference_doctor_email</th>\n",
       "      <th>reference_doctor_full_name</th>\n",
       "      <th>reference_doctor_phone_number</th>\n",
       "      <th>state</th>\n",
       "      <th>student_number</th>\n",
       "      <th>system_status</th>\n",
       "      <th>title</th>\n",
       "      <th>years_of_experience</th>\n",
       "    </tr>\n",
       "  </thead>\n",
       "  <tbody>\n",
       "    <tr>\n",
       "      <th>0</th>\n",
       "      <td>1</td>\n",
       "      <td>Yes</td>\n",
       "      <td>Lagos</td>\n",
       "      <td>8/5/1972</td>\n",
       "      <td>1</td>\n",
       "      <td>ACRA SMITH</td>\n",
       "      <td>Male</td>\n",
       "      <td>2019-09-06</td>\n",
       "      <td>No</td>\n",
       "      <td>Married</td>\n",
       "      <td>...</td>\n",
       "      <td>1122458</td>\n",
       "      <td>618-3434 Sagittis Av.</td>\n",
       "      <td>acrasmith@gmail.com</td>\n",
       "      <td>ACRA SMITH</td>\n",
       "      <td>53488888</td>\n",
       "      <td>Lagos</td>\n",
       "      <td>2710</td>\n",
       "      <td>very good</td>\n",
       "      <td>Mr.</td>\n",
       "      <td>3</td>\n",
       "    </tr>\n",
       "    <tr>\n",
       "      <th>1</th>\n",
       "      <td>2</td>\n",
       "      <td>Yes</td>\n",
       "      <td>Lagos</td>\n",
       "      <td>7/12/1989</td>\n",
       "      <td>2</td>\n",
       "      <td>ADOLPH NEILON</td>\n",
       "      <td>Female</td>\n",
       "      <td>2006-06-25</td>\n",
       "      <td>Yes</td>\n",
       "      <td>Married</td>\n",
       "      <td>...</td>\n",
       "      <td>4563751</td>\n",
       "      <td>405-9892 Ultrices Rd.</td>\n",
       "      <td>adolphneilon@gmail.com</td>\n",
       "      <td>ADOLPH NEILON</td>\n",
       "      <td>50989139</td>\n",
       "      <td>Lagos</td>\n",
       "      <td>5370</td>\n",
       "      <td>good</td>\n",
       "      <td>Ms.</td>\n",
       "      <td>16</td>\n",
       "    </tr>\n",
       "    <tr>\n",
       "      <th>2</th>\n",
       "      <td>3</td>\n",
       "      <td>Yes</td>\n",
       "      <td>Lagos</td>\n",
       "      <td>9/30/1965</td>\n",
       "      <td>1</td>\n",
       "      <td>ANKI HENDRI</td>\n",
       "      <td>Male</td>\n",
       "      <td>2008-12-20</td>\n",
       "      <td>Yes</td>\n",
       "      <td>Married</td>\n",
       "      <td>...</td>\n",
       "      <td>1877514</td>\n",
       "      <td>Ap #561-9293 Sociis St.</td>\n",
       "      <td>ankihendri@gmail.com</td>\n",
       "      <td>ANKI HENDRI</td>\n",
       "      <td>42144921</td>\n",
       "      <td>Lagos</td>\n",
       "      <td>6696</td>\n",
       "      <td>excellent</td>\n",
       "      <td>Mr.</td>\n",
       "      <td>14</td>\n",
       "    </tr>\n",
       "    <tr>\n",
       "      <th>3</th>\n",
       "      <td>4</td>\n",
       "      <td>Yes</td>\n",
       "      <td>Lagos</td>\n",
       "      <td>8/12/1964</td>\n",
       "      <td>1</td>\n",
       "      <td>GARBO SHARRON</td>\n",
       "      <td>Male</td>\n",
       "      <td>2013-08-22</td>\n",
       "      <td>No</td>\n",
       "      <td>Married</td>\n",
       "      <td>...</td>\n",
       "      <td>2513477</td>\n",
       "      <td>Ap #381-3175 Sed, Street</td>\n",
       "      <td>garbosharron@gmail.com</td>\n",
       "      <td>GARBO SHARRON</td>\n",
       "      <td>52477143</td>\n",
       "      <td>Lagos</td>\n",
       "      <td>4343</td>\n",
       "      <td>fair</td>\n",
       "      <td>Mr.</td>\n",
       "      <td>9</td>\n",
       "    </tr>\n",
       "    <tr>\n",
       "      <th>4</th>\n",
       "      <td>5</td>\n",
       "      <td>Yes</td>\n",
       "      <td>Lagos</td>\n",
       "      <td>12/5/1963</td>\n",
       "      <td>0</td>\n",
       "      <td>ADONAI NEIVA</td>\n",
       "      <td>Female</td>\n",
       "      <td>2021-12-28</td>\n",
       "      <td>No</td>\n",
       "      <td>Married</td>\n",
       "      <td>...</td>\n",
       "      <td>3463224</td>\n",
       "      <td>Ap #230-5566 Amet, St.</td>\n",
       "      <td>adonaineiva@gmail.com</td>\n",
       "      <td>ADONAI NEIVA</td>\n",
       "      <td>29517478</td>\n",
       "      <td>Lagos</td>\n",
       "      <td>4300</td>\n",
       "      <td>very good</td>\n",
       "      <td>Ms.</td>\n",
       "      <td>1</td>\n",
       "    </tr>\n",
       "  </tbody>\n",
       "</table>\n",
       "<p>5 rows × 22 columns</p>\n",
       "</div>"
      ],
      "text/plain": [
       "   doctor_id approved   city date_of_birth  dependant_stand_by      full_name  \\\n",
       "0          1      Yes  Lagos      8/5/1972                   1     ACRA SMITH   \n",
       "1          2      Yes  Lagos     7/12/1989                   2  ADOLPH NEILON   \n",
       "2          3      Yes  Lagos     9/30/1965                   1    ANKI HENDRI   \n",
       "3          4      Yes  Lagos     8/12/1964                   1  GARBO SHARRON   \n",
       "4          5      Yes  Lagos     12/5/1963                   0   ADONAI NEIVA   \n",
       "\n",
       "  doctor_gender graduation_date is_student marital_status  ...  \\\n",
       "0          Male      2019-09-06         No        Married  ...   \n",
       "1        Female      2006-06-25        Yes        Married  ...   \n",
       "2          Male      2008-12-20        Yes        Married  ...   \n",
       "3          Male      2013-08-22         No        Married  ...   \n",
       "4        Female      2021-12-28         No        Married  ...   \n",
       "\n",
       "   national_identification_number            office_address  \\\n",
       "0                         1122458     618-3434 Sagittis Av.   \n",
       "1                         4563751     405-9892 Ultrices Rd.   \n",
       "2                         1877514   Ap #561-9293 Sociis St.   \n",
       "3                         2513477  Ap #381-3175 Sed, Street   \n",
       "4                         3463224    Ap #230-5566 Amet, St.   \n",
       "\n",
       "   reference_doctor_email reference_doctor_full_name  \\\n",
       "0     acrasmith@gmail.com                 ACRA SMITH   \n",
       "1  adolphneilon@gmail.com              ADOLPH NEILON   \n",
       "2    ankihendri@gmail.com                ANKI HENDRI   \n",
       "3  garbosharron@gmail.com              GARBO SHARRON   \n",
       "4   adonaineiva@gmail.com               ADONAI NEIVA   \n",
       "\n",
       "  reference_doctor_phone_number  state  student_number system_status  title  \\\n",
       "0                      53488888  Lagos            2710     very good    Mr.   \n",
       "1                      50989139  Lagos            5370          good    Ms.   \n",
       "2                      42144921  Lagos            6696     excellent    Mr.   \n",
       "3                      52477143  Lagos            4343          fair    Mr.   \n",
       "4                      29517478  Lagos            4300     very good    Ms.   \n",
       "\n",
       "  years_of_experience  \n",
       "0                   3  \n",
       "1                  16  \n",
       "2                  14  \n",
       "3                   9  \n",
       "4                   1  \n",
       "\n",
       "[5 rows x 22 columns]"
      ]
     },
     "execution_count": 1543,
     "metadata": {},
     "output_type": "execute_result"
    }
   ],
   "source": [
    "doctor_dataframe.head()"
   ]
  },
  {
   "cell_type": "code",
   "execution_count": 1544,
   "metadata": {},
   "outputs": [
    {
     "data": {
      "text/plain": [
       "(520, 15)"
      ]
     },
     "execution_count": 1544,
     "metadata": {},
     "output_type": "execute_result"
    }
   ],
   "source": [
    "# Merging patient_datafram and doctor_datafram to consultation_dataframe\n",
    "patient_consultation = pd.merge(consultation_dataframe[['id', 'consultation_cost', 'patient_body_area', 'patient_status', 'patient_id', 'doctor_id']], \n",
    "                                patient_dataframe[[\"patient_id\", 'community', 'marital_status', 'has_children', 'has_dependent', 'num_of_children', 'num_of_dependents', \"age\", \"gender\"]], on=\"patient_id\", how=\"left\")\n",
    "doctor_patient_consultation = pd.merge(patient_consultation, doctor_dataframe[[\"doctor_id\", \"years_of_experience\"]], on=\"doctor_id\", how=\"left\")\n",
    "doctor_patient_consultation.shape"
   ]
  },
  {
   "cell_type": "code",
   "execution_count": 1545,
   "metadata": {},
   "outputs": [
    {
     "data": {
      "text/html": [
       "<div>\n",
       "<style scoped>\n",
       "    .dataframe tbody tr th:only-of-type {\n",
       "        vertical-align: middle;\n",
       "    }\n",
       "\n",
       "    .dataframe tbody tr th {\n",
       "        vertical-align: top;\n",
       "    }\n",
       "\n",
       "    .dataframe thead th {\n",
       "        text-align: right;\n",
       "    }\n",
       "</style>\n",
       "<table border=\"1\" class=\"dataframe\">\n",
       "  <thead>\n",
       "    <tr style=\"text-align: right;\">\n",
       "      <th></th>\n",
       "      <th>id</th>\n",
       "      <th>consultation_cost</th>\n",
       "      <th>patient_body_area</th>\n",
       "      <th>patient_status</th>\n",
       "      <th>patient_id</th>\n",
       "      <th>doctor_id</th>\n",
       "      <th>community</th>\n",
       "      <th>marital_status</th>\n",
       "      <th>has_children</th>\n",
       "      <th>has_dependent</th>\n",
       "      <th>num_of_children</th>\n",
       "      <th>num_of_dependents</th>\n",
       "      <th>age</th>\n",
       "      <th>gender</th>\n",
       "      <th>years_of_experience</th>\n",
       "    </tr>\n",
       "  </thead>\n",
       "  <tbody>\n",
       "    <tr>\n",
       "      <th>0</th>\n",
       "      <td>1</td>\n",
       "      <td>1900</td>\n",
       "      <td>legs</td>\n",
       "      <td>under appointment</td>\n",
       "      <td>100</td>\n",
       "      <td>1</td>\n",
       "      <td>suburban</td>\n",
       "      <td>Divorced</td>\n",
       "      <td>Yes</td>\n",
       "      <td>No</td>\n",
       "      <td>4</td>\n",
       "      <td>3</td>\n",
       "      <td>29</td>\n",
       "      <td>Female</td>\n",
       "      <td>3</td>\n",
       "    </tr>\n",
       "    <tr>\n",
       "      <th>1</th>\n",
       "      <td>2</td>\n",
       "      <td>9100</td>\n",
       "      <td>chest area</td>\n",
       "      <td>new consultation</td>\n",
       "      <td>72</td>\n",
       "      <td>2</td>\n",
       "      <td>rural</td>\n",
       "      <td>Married</td>\n",
       "      <td>No</td>\n",
       "      <td>Yes</td>\n",
       "      <td>3</td>\n",
       "      <td>2</td>\n",
       "      <td>12</td>\n",
       "      <td>Female</td>\n",
       "      <td>16</td>\n",
       "    </tr>\n",
       "    <tr>\n",
       "      <th>2</th>\n",
       "      <td>3</td>\n",
       "      <td>8200</td>\n",
       "      <td>head</td>\n",
       "      <td>new consultation</td>\n",
       "      <td>150</td>\n",
       "      <td>3</td>\n",
       "      <td>rural</td>\n",
       "      <td>Married</td>\n",
       "      <td>Yes</td>\n",
       "      <td>Yes</td>\n",
       "      <td>2</td>\n",
       "      <td>1</td>\n",
       "      <td>35</td>\n",
       "      <td>Male</td>\n",
       "      <td>14</td>\n",
       "    </tr>\n",
       "    <tr>\n",
       "      <th>3</th>\n",
       "      <td>4</td>\n",
       "      <td>5600</td>\n",
       "      <td>back</td>\n",
       "      <td>appointed session</td>\n",
       "      <td>27</td>\n",
       "      <td>4</td>\n",
       "      <td>rural</td>\n",
       "      <td>Married</td>\n",
       "      <td>Yes</td>\n",
       "      <td>No</td>\n",
       "      <td>2</td>\n",
       "      <td>1</td>\n",
       "      <td>25</td>\n",
       "      <td>Female</td>\n",
       "      <td>9</td>\n",
       "    </tr>\n",
       "    <tr>\n",
       "      <th>4</th>\n",
       "      <td>5</td>\n",
       "      <td>1200</td>\n",
       "      <td>stomach</td>\n",
       "      <td>new consultation</td>\n",
       "      <td>191</td>\n",
       "      <td>5</td>\n",
       "      <td>suburban</td>\n",
       "      <td>Single</td>\n",
       "      <td>No</td>\n",
       "      <td>Yes</td>\n",
       "      <td>1</td>\n",
       "      <td>1</td>\n",
       "      <td>39</td>\n",
       "      <td>Female</td>\n",
       "      <td>1</td>\n",
       "    </tr>\n",
       "  </tbody>\n",
       "</table>\n",
       "</div>"
      ],
      "text/plain": [
       "   id  consultation_cost patient_body_area     patient_status  patient_id  \\\n",
       "0   1               1900              legs  under appointment         100   \n",
       "1   2               9100        chest area   new consultation          72   \n",
       "2   3               8200              head   new consultation         150   \n",
       "3   4               5600              back  appointed session          27   \n",
       "4   5               1200           stomach   new consultation         191   \n",
       "\n",
       "   doctor_id community marital_status has_children has_dependent  \\\n",
       "0          1  suburban       Divorced          Yes            No   \n",
       "1          2     rural        Married           No           Yes   \n",
       "2          3     rural        Married          Yes           Yes   \n",
       "3          4     rural        Married          Yes            No   \n",
       "4          5  suburban         Single           No           Yes   \n",
       "\n",
       "   num_of_children  num_of_dependents  age  gender  years_of_experience  \n",
       "0                4                  3   29  Female                    3  \n",
       "1                3                  2   12  Female                   16  \n",
       "2                2                  1   35    Male                   14  \n",
       "3                2                  1   25  Female                    9  \n",
       "4                1                  1   39  Female                    1  "
      ]
     },
     "execution_count": 1545,
     "metadata": {},
     "output_type": "execute_result"
    }
   ],
   "source": [
    "doctor_patient_consultation.head()"
   ]
  },
  {
   "attachments": {},
   "cell_type": "markdown",
   "metadata": {},
   "source": [
    "#### The Simulated dataframe"
   ]
  },
  {
   "cell_type": "code",
   "execution_count": 1546,
   "metadata": {},
   "outputs": [
    {
     "data": {
      "text/plain": [
       "(520, 13)"
      ]
     },
     "execution_count": 1546,
     "metadata": {},
     "output_type": "execute_result"
    }
   ],
   "source": [
    "simulated_dataframe = doctor_patient_consultation.drop([\"doctor_id\", \"patient_id\"], axis=1)\n",
    "# Renaming variables\n",
    "simulated_dataframe=pd.DataFrame({'consult_id':doctor_patient_consultation['id'], 'consult_cost':doctor_patient_consultation['consultation_cost'] , 'patient_anatomy':doctor_patient_consultation['patient_body_area'],\n",
    "                         'patient_consult_status':doctor_patient_consultation['patient_status'], 'patient_community':doctor_patient_consultation['community'], 'patient_marital_status':doctor_patient_consultation['marital_status'], \n",
    "                         'patient_has_children':doctor_patient_consultation['has_children'], 'patient_has_dependent':doctor_patient_consultation['has_dependent'], 'patient_num_of_children':doctor_patient_consultation['num_of_children'], \n",
    "                         'patient_num_of_dependents':doctor_patient_consultation['num_of_dependents'], 'patient_age':doctor_patient_consultation['age'], 'patient_gender':doctor_patient_consultation['gender'], \n",
    "                         'consultant_doctor_experience':doctor_patient_consultation['years_of_experience']})\n",
    "\n",
    "simulated_dataframe.shape"
   ]
  },
  {
   "cell_type": "code",
   "execution_count": 1547,
   "metadata": {},
   "outputs": [
    {
     "data": {
      "text/html": [
       "<div>\n",
       "<style scoped>\n",
       "    .dataframe tbody tr th:only-of-type {\n",
       "        vertical-align: middle;\n",
       "    }\n",
       "\n",
       "    .dataframe tbody tr th {\n",
       "        vertical-align: top;\n",
       "    }\n",
       "\n",
       "    .dataframe thead th {\n",
       "        text-align: right;\n",
       "    }\n",
       "</style>\n",
       "<table border=\"1\" class=\"dataframe\">\n",
       "  <thead>\n",
       "    <tr style=\"text-align: right;\">\n",
       "      <th></th>\n",
       "      <th>consult_id</th>\n",
       "      <th>consult_cost</th>\n",
       "      <th>patient_anatomy</th>\n",
       "      <th>patient_consult_status</th>\n",
       "      <th>patient_community</th>\n",
       "      <th>patient_marital_status</th>\n",
       "      <th>patient_has_children</th>\n",
       "      <th>patient_has_dependent</th>\n",
       "      <th>patient_num_of_children</th>\n",
       "      <th>patient_num_of_dependents</th>\n",
       "      <th>patient_age</th>\n",
       "      <th>patient_gender</th>\n",
       "      <th>consultant_doctor_experience</th>\n",
       "    </tr>\n",
       "  </thead>\n",
       "  <tbody>\n",
       "    <tr>\n",
       "      <th>0</th>\n",
       "      <td>1</td>\n",
       "      <td>1900</td>\n",
       "      <td>legs</td>\n",
       "      <td>under appointment</td>\n",
       "      <td>suburban</td>\n",
       "      <td>Divorced</td>\n",
       "      <td>Yes</td>\n",
       "      <td>No</td>\n",
       "      <td>4</td>\n",
       "      <td>3</td>\n",
       "      <td>29</td>\n",
       "      <td>Female</td>\n",
       "      <td>3</td>\n",
       "    </tr>\n",
       "    <tr>\n",
       "      <th>1</th>\n",
       "      <td>2</td>\n",
       "      <td>9100</td>\n",
       "      <td>chest area</td>\n",
       "      <td>new consultation</td>\n",
       "      <td>rural</td>\n",
       "      <td>Married</td>\n",
       "      <td>No</td>\n",
       "      <td>Yes</td>\n",
       "      <td>3</td>\n",
       "      <td>2</td>\n",
       "      <td>12</td>\n",
       "      <td>Female</td>\n",
       "      <td>16</td>\n",
       "    </tr>\n",
       "    <tr>\n",
       "      <th>2</th>\n",
       "      <td>3</td>\n",
       "      <td>8200</td>\n",
       "      <td>head</td>\n",
       "      <td>new consultation</td>\n",
       "      <td>rural</td>\n",
       "      <td>Married</td>\n",
       "      <td>Yes</td>\n",
       "      <td>Yes</td>\n",
       "      <td>2</td>\n",
       "      <td>1</td>\n",
       "      <td>35</td>\n",
       "      <td>Male</td>\n",
       "      <td>14</td>\n",
       "    </tr>\n",
       "    <tr>\n",
       "      <th>3</th>\n",
       "      <td>4</td>\n",
       "      <td>5600</td>\n",
       "      <td>back</td>\n",
       "      <td>appointed session</td>\n",
       "      <td>rural</td>\n",
       "      <td>Married</td>\n",
       "      <td>Yes</td>\n",
       "      <td>No</td>\n",
       "      <td>2</td>\n",
       "      <td>1</td>\n",
       "      <td>25</td>\n",
       "      <td>Female</td>\n",
       "      <td>9</td>\n",
       "    </tr>\n",
       "    <tr>\n",
       "      <th>4</th>\n",
       "      <td>5</td>\n",
       "      <td>1200</td>\n",
       "      <td>stomach</td>\n",
       "      <td>new consultation</td>\n",
       "      <td>suburban</td>\n",
       "      <td>Single</td>\n",
       "      <td>No</td>\n",
       "      <td>Yes</td>\n",
       "      <td>1</td>\n",
       "      <td>1</td>\n",
       "      <td>39</td>\n",
       "      <td>Female</td>\n",
       "      <td>1</td>\n",
       "    </tr>\n",
       "  </tbody>\n",
       "</table>\n",
       "</div>"
      ],
      "text/plain": [
       "   consult_id  consult_cost patient_anatomy patient_consult_status  \\\n",
       "0           1          1900            legs      under appointment   \n",
       "1           2          9100      chest area       new consultation   \n",
       "2           3          8200            head       new consultation   \n",
       "3           4          5600            back      appointed session   \n",
       "4           5          1200         stomach       new consultation   \n",
       "\n",
       "  patient_community patient_marital_status patient_has_children  \\\n",
       "0          suburban               Divorced                  Yes   \n",
       "1             rural                Married                   No   \n",
       "2             rural                Married                  Yes   \n",
       "3             rural                Married                  Yes   \n",
       "4          suburban                 Single                   No   \n",
       "\n",
       "  patient_has_dependent  patient_num_of_children  patient_num_of_dependents  \\\n",
       "0                    No                        4                          3   \n",
       "1                   Yes                        3                          2   \n",
       "2                   Yes                        2                          1   \n",
       "3                    No                        2                          1   \n",
       "4                   Yes                        1                          1   \n",
       "\n",
       "   patient_age patient_gender  consultant_doctor_experience  \n",
       "0           29         Female                             3  \n",
       "1           12         Female                            16  \n",
       "2           35           Male                            14  \n",
       "3           25         Female                             9  \n",
       "4           39         Female                             1  "
      ]
     },
     "execution_count": 1547,
     "metadata": {},
     "output_type": "execute_result"
    }
   ],
   "source": [
    "simulated_dataframe.head()"
   ]
  },
  {
   "cell_type": "code",
   "execution_count": 1548,
   "metadata": {},
   "outputs": [
    {
     "name": "stdout",
     "output_type": "stream",
     "text": [
      "<class 'pandas.core.frame.DataFrame'>\n",
      "Int64Index: 520 entries, 0 to 519\n",
      "Data columns (total 13 columns):\n",
      " #   Column                        Non-Null Count  Dtype \n",
      "---  ------                        --------------  ----- \n",
      " 0   consult_id                    520 non-null    int64 \n",
      " 1   consult_cost                  520 non-null    int64 \n",
      " 2   patient_anatomy               520 non-null    object\n",
      " 3   patient_consult_status        520 non-null    object\n",
      " 4   patient_community             520 non-null    object\n",
      " 5   patient_marital_status        520 non-null    object\n",
      " 6   patient_has_children          520 non-null    object\n",
      " 7   patient_has_dependent         520 non-null    object\n",
      " 8   patient_num_of_children       520 non-null    int64 \n",
      " 9   patient_num_of_dependents     520 non-null    int64 \n",
      " 10  patient_age                   520 non-null    int64 \n",
      " 11  patient_gender                520 non-null    object\n",
      " 12  consultant_doctor_experience  520 non-null    int64 \n",
      "dtypes: int64(6), object(7)\n",
      "memory usage: 56.9+ KB\n"
     ]
    }
   ],
   "source": [
    "simulated_dataframe.info()"
   ]
  },
  {
   "attachments": {},
   "cell_type": "markdown",
   "metadata": {},
   "source": [
    "#### Transform the catagorical features to dummy-variable format"
   ]
  },
  {
   "cell_type": "code",
   "execution_count": 1549,
   "metadata": {},
   "outputs": [
    {
     "name": "stdout",
     "output_type": "stream",
     "text": [
      "['legs' 'chest area' 'head' 'back' 'stomach' 'upper chest area' 'shoulder']\n",
      "['under appointment' 'new consultation' 'appointed session' 'admitted']\n",
      "['suburban' 'rural' 'urban']\n",
      "['Divorced' 'Married' 'Single']\n",
      "['Yes' 'No']\n",
      "['No' 'Yes']\n",
      "['Female' 'Male']\n"
     ]
    }
   ],
   "source": [
    "print(simulated_dataframe['patient_anatomy'].unique())\n",
    "print(simulated_dataframe['patient_consult_status'].unique())\n",
    "print(simulated_dataframe['patient_community'].unique())\n",
    "print(simulated_dataframe['patient_marital_status'].unique())\n",
    "print(simulated_dataframe['patient_has_children'].unique())\n",
    "print(simulated_dataframe['patient_has_dependent'].unique())\n",
    "print(simulated_dataframe['patient_gender'].unique())"
   ]
  },
  {
   "cell_type": "code",
   "execution_count": 1550,
   "metadata": {},
   "outputs": [],
   "source": [
    "simulated_dataframe = pd.concat([simulated_dataframe, pd.get_dummies(simulated_dataframe['patient_anatomy'], prefix='patient_anatomy', drop_first=True)],axis=1)\n",
    "simulated_dataframe = pd.concat([simulated_dataframe, pd.get_dummies(simulated_dataframe['patient_consult_status'], prefix='patient_consult_status', drop_first=True)],axis=1)\n",
    "simulated_dataframe = pd.concat([simulated_dataframe, pd.get_dummies(simulated_dataframe['patient_community'], prefix='patient_community', drop_first=True)],axis=1)\n",
    "simulated_dataframe = pd.concat([simulated_dataframe, pd.get_dummies(simulated_dataframe['patient_marital_status'], prefix='patient_marital_status', drop_first=True)],axis=1)\n",
    "simulated_dataframe = pd.concat([simulated_dataframe, pd.get_dummies(simulated_dataframe['patient_has_children'], prefix='patient_has_children', drop_first=True)],axis=1)\n",
    "simulated_dataframe = pd.concat([simulated_dataframe, pd.get_dummies(simulated_dataframe['patient_has_dependent'], prefix='patient_has_dependent', drop_first=True)],axis=1)\n",
    "simulated_dataframe = pd.concat([simulated_dataframe, pd.get_dummies(simulated_dataframe['patient_gender'], prefix='patient_gender', drop_first=True)],axis=1)\n",
    "simulated_dataframe.drop(['patient_anatomy','patient_consult_status','patient_community', 'patient_marital_status', 'patient_has_children', 'patient_has_dependent', 'patient_gender' ], axis=1, inplace=True)"
   ]
  },
  {
   "cell_type": "code",
   "execution_count": 1551,
   "metadata": {},
   "outputs": [],
   "source": [
    "# The simulated dataset\n",
    "simulated_dataframe.to_csv('simulated_data.csv', index=False)"
   ]
  },
  {
   "cell_type": "code",
   "execution_count": 1552,
   "metadata": {},
   "outputs": [
    {
     "data": {
      "text/html": [
       "<div>\n",
       "<style scoped>\n",
       "    .dataframe tbody tr th:only-of-type {\n",
       "        vertical-align: middle;\n",
       "    }\n",
       "\n",
       "    .dataframe tbody tr th {\n",
       "        vertical-align: top;\n",
       "    }\n",
       "\n",
       "    .dataframe thead th {\n",
       "        text-align: right;\n",
       "    }\n",
       "</style>\n",
       "<table border=\"1\" class=\"dataframe\">\n",
       "  <thead>\n",
       "    <tr style=\"text-align: right;\">\n",
       "      <th></th>\n",
       "      <th>consult_cost</th>\n",
       "      <th>patient_num_of_children</th>\n",
       "      <th>patient_num_of_dependents</th>\n",
       "      <th>patient_age</th>\n",
       "      <th>consultant_doctor_experience</th>\n",
       "      <th>patient_anatomy_chest area</th>\n",
       "      <th>patient_anatomy_head</th>\n",
       "      <th>patient_anatomy_legs</th>\n",
       "      <th>patient_anatomy_shoulder</th>\n",
       "      <th>patient_anatomy_stomach</th>\n",
       "      <th>...</th>\n",
       "      <th>patient_consult_status_appointed session</th>\n",
       "      <th>patient_consult_status_new consultation</th>\n",
       "      <th>patient_consult_status_under appointment</th>\n",
       "      <th>patient_community_suburban</th>\n",
       "      <th>patient_community_urban</th>\n",
       "      <th>patient_marital_status_Married</th>\n",
       "      <th>patient_marital_status_Single</th>\n",
       "      <th>patient_has_children_Yes</th>\n",
       "      <th>patient_has_dependent_Yes</th>\n",
       "      <th>patient_gender_Male</th>\n",
       "    </tr>\n",
       "    <tr>\n",
       "      <th>consult_id</th>\n",
       "      <th></th>\n",
       "      <th></th>\n",
       "      <th></th>\n",
       "      <th></th>\n",
       "      <th></th>\n",
       "      <th></th>\n",
       "      <th></th>\n",
       "      <th></th>\n",
       "      <th></th>\n",
       "      <th></th>\n",
       "      <th></th>\n",
       "      <th></th>\n",
       "      <th></th>\n",
       "      <th></th>\n",
       "      <th></th>\n",
       "      <th></th>\n",
       "      <th></th>\n",
       "      <th></th>\n",
       "      <th></th>\n",
       "      <th></th>\n",
       "      <th></th>\n",
       "    </tr>\n",
       "  </thead>\n",
       "  <tbody>\n",
       "    <tr>\n",
       "      <th>1</th>\n",
       "      <td>1900</td>\n",
       "      <td>4</td>\n",
       "      <td>3</td>\n",
       "      <td>29</td>\n",
       "      <td>3</td>\n",
       "      <td>0</td>\n",
       "      <td>0</td>\n",
       "      <td>1</td>\n",
       "      <td>0</td>\n",
       "      <td>0</td>\n",
       "      <td>...</td>\n",
       "      <td>0</td>\n",
       "      <td>0</td>\n",
       "      <td>1</td>\n",
       "      <td>1</td>\n",
       "      <td>0</td>\n",
       "      <td>0</td>\n",
       "      <td>0</td>\n",
       "      <td>1</td>\n",
       "      <td>0</td>\n",
       "      <td>0</td>\n",
       "    </tr>\n",
       "    <tr>\n",
       "      <th>2</th>\n",
       "      <td>9100</td>\n",
       "      <td>3</td>\n",
       "      <td>2</td>\n",
       "      <td>12</td>\n",
       "      <td>16</td>\n",
       "      <td>1</td>\n",
       "      <td>0</td>\n",
       "      <td>0</td>\n",
       "      <td>0</td>\n",
       "      <td>0</td>\n",
       "      <td>...</td>\n",
       "      <td>0</td>\n",
       "      <td>1</td>\n",
       "      <td>0</td>\n",
       "      <td>0</td>\n",
       "      <td>0</td>\n",
       "      <td>1</td>\n",
       "      <td>0</td>\n",
       "      <td>0</td>\n",
       "      <td>1</td>\n",
       "      <td>0</td>\n",
       "    </tr>\n",
       "    <tr>\n",
       "      <th>3</th>\n",
       "      <td>8200</td>\n",
       "      <td>2</td>\n",
       "      <td>1</td>\n",
       "      <td>35</td>\n",
       "      <td>14</td>\n",
       "      <td>0</td>\n",
       "      <td>1</td>\n",
       "      <td>0</td>\n",
       "      <td>0</td>\n",
       "      <td>0</td>\n",
       "      <td>...</td>\n",
       "      <td>0</td>\n",
       "      <td>1</td>\n",
       "      <td>0</td>\n",
       "      <td>0</td>\n",
       "      <td>0</td>\n",
       "      <td>1</td>\n",
       "      <td>0</td>\n",
       "      <td>1</td>\n",
       "      <td>1</td>\n",
       "      <td>1</td>\n",
       "    </tr>\n",
       "    <tr>\n",
       "      <th>4</th>\n",
       "      <td>5600</td>\n",
       "      <td>2</td>\n",
       "      <td>1</td>\n",
       "      <td>25</td>\n",
       "      <td>9</td>\n",
       "      <td>0</td>\n",
       "      <td>0</td>\n",
       "      <td>0</td>\n",
       "      <td>0</td>\n",
       "      <td>0</td>\n",
       "      <td>...</td>\n",
       "      <td>1</td>\n",
       "      <td>0</td>\n",
       "      <td>0</td>\n",
       "      <td>0</td>\n",
       "      <td>0</td>\n",
       "      <td>1</td>\n",
       "      <td>0</td>\n",
       "      <td>1</td>\n",
       "      <td>0</td>\n",
       "      <td>0</td>\n",
       "    </tr>\n",
       "    <tr>\n",
       "      <th>5</th>\n",
       "      <td>1200</td>\n",
       "      <td>1</td>\n",
       "      <td>1</td>\n",
       "      <td>39</td>\n",
       "      <td>1</td>\n",
       "      <td>0</td>\n",
       "      <td>0</td>\n",
       "      <td>0</td>\n",
       "      <td>0</td>\n",
       "      <td>1</td>\n",
       "      <td>...</td>\n",
       "      <td>0</td>\n",
       "      <td>1</td>\n",
       "      <td>0</td>\n",
       "      <td>1</td>\n",
       "      <td>0</td>\n",
       "      <td>0</td>\n",
       "      <td>1</td>\n",
       "      <td>0</td>\n",
       "      <td>1</td>\n",
       "      <td>0</td>\n",
       "    </tr>\n",
       "  </tbody>\n",
       "</table>\n",
       "<p>5 rows × 21 columns</p>\n",
       "</div>"
      ],
      "text/plain": [
       "            consult_cost  patient_num_of_children  patient_num_of_dependents  \\\n",
       "consult_id                                                                     \n",
       "1                   1900                        4                          3   \n",
       "2                   9100                        3                          2   \n",
       "3                   8200                        2                          1   \n",
       "4                   5600                        2                          1   \n",
       "5                   1200                        1                          1   \n",
       "\n",
       "            patient_age  consultant_doctor_experience  \\\n",
       "consult_id                                              \n",
       "1                    29                             3   \n",
       "2                    12                            16   \n",
       "3                    35                            14   \n",
       "4                    25                             9   \n",
       "5                    39                             1   \n",
       "\n",
       "            patient_anatomy_chest area  patient_anatomy_head  \\\n",
       "consult_id                                                     \n",
       "1                                    0                     0   \n",
       "2                                    1                     0   \n",
       "3                                    0                     1   \n",
       "4                                    0                     0   \n",
       "5                                    0                     0   \n",
       "\n",
       "            patient_anatomy_legs  patient_anatomy_shoulder  \\\n",
       "consult_id                                                   \n",
       "1                              1                         0   \n",
       "2                              0                         0   \n",
       "3                              0                         0   \n",
       "4                              0                         0   \n",
       "5                              0                         0   \n",
       "\n",
       "            patient_anatomy_stomach  ...  \\\n",
       "consult_id                           ...   \n",
       "1                                 0  ...   \n",
       "2                                 0  ...   \n",
       "3                                 0  ...   \n",
       "4                                 0  ...   \n",
       "5                                 1  ...   \n",
       "\n",
       "            patient_consult_status_appointed session  \\\n",
       "consult_id                                             \n",
       "1                                                  0   \n",
       "2                                                  0   \n",
       "3                                                  0   \n",
       "4                                                  1   \n",
       "5                                                  0   \n",
       "\n",
       "            patient_consult_status_new consultation  \\\n",
       "consult_id                                            \n",
       "1                                                 0   \n",
       "2                                                 1   \n",
       "3                                                 1   \n",
       "4                                                 0   \n",
       "5                                                 1   \n",
       "\n",
       "            patient_consult_status_under appointment  \\\n",
       "consult_id                                             \n",
       "1                                                  1   \n",
       "2                                                  0   \n",
       "3                                                  0   \n",
       "4                                                  0   \n",
       "5                                                  0   \n",
       "\n",
       "            patient_community_suburban  patient_community_urban  \\\n",
       "consult_id                                                        \n",
       "1                                    1                        0   \n",
       "2                                    0                        0   \n",
       "3                                    0                        0   \n",
       "4                                    0                        0   \n",
       "5                                    1                        0   \n",
       "\n",
       "            patient_marital_status_Married  patient_marital_status_Single  \\\n",
       "consult_id                                                                  \n",
       "1                                        0                              0   \n",
       "2                                        1                              0   \n",
       "3                                        1                              0   \n",
       "4                                        1                              0   \n",
       "5                                        0                              1   \n",
       "\n",
       "            patient_has_children_Yes  patient_has_dependent_Yes  \\\n",
       "consult_id                                                        \n",
       "1                                  1                          0   \n",
       "2                                  0                          1   \n",
       "3                                  1                          1   \n",
       "4                                  1                          0   \n",
       "5                                  0                          1   \n",
       "\n",
       "            patient_gender_Male  \n",
       "consult_id                       \n",
       "1                             0  \n",
       "2                             0  \n",
       "3                             1  \n",
       "4                             0  \n",
       "5                             0  \n",
       "\n",
       "[5 rows x 21 columns]"
      ]
     },
     "execution_count": 1552,
     "metadata": {},
     "output_type": "execute_result"
    }
   ],
   "source": [
    "simulated_dataframe=pd.read_csv('simulated_data.csv', index_col='consult_id')\n",
    "simulated_dataframe.head()"
   ]
  },
  {
   "cell_type": "code",
   "execution_count": 1553,
   "metadata": {},
   "outputs": [
    {
     "data": {
      "text/plain": [
       "(520, 21)"
      ]
     },
     "execution_count": 1553,
     "metadata": {},
     "output_type": "execute_result"
    }
   ],
   "source": [
    "simulated_dataframe.shape"
   ]
  },
  {
   "attachments": {},
   "cell_type": "markdown",
   "metadata": {},
   "source": [
    "#### Describe or summarize "
   ]
  },
  {
   "cell_type": "code",
   "execution_count": 1554,
   "metadata": {},
   "outputs": [
    {
     "data": {
      "text/html": [
       "<div>\n",
       "<style scoped>\n",
       "    .dataframe tbody tr th:only-of-type {\n",
       "        vertical-align: middle;\n",
       "    }\n",
       "\n",
       "    .dataframe tbody tr th {\n",
       "        vertical-align: top;\n",
       "    }\n",
       "\n",
       "    .dataframe thead th {\n",
       "        text-align: right;\n",
       "    }\n",
       "</style>\n",
       "<table border=\"1\" class=\"dataframe\">\n",
       "  <thead>\n",
       "    <tr style=\"text-align: right;\">\n",
       "      <th></th>\n",
       "      <th>consult_cost</th>\n",
       "      <th>patient_num_of_children</th>\n",
       "      <th>patient_num_of_dependents</th>\n",
       "      <th>patient_age</th>\n",
       "      <th>consultant_doctor_experience</th>\n",
       "      <th>patient_anatomy_chest area</th>\n",
       "      <th>patient_anatomy_head</th>\n",
       "      <th>patient_anatomy_legs</th>\n",
       "      <th>patient_anatomy_shoulder</th>\n",
       "      <th>patient_anatomy_stomach</th>\n",
       "      <th>...</th>\n",
       "      <th>patient_consult_status_appointed session</th>\n",
       "      <th>patient_consult_status_new consultation</th>\n",
       "      <th>patient_consult_status_under appointment</th>\n",
       "      <th>patient_community_suburban</th>\n",
       "      <th>patient_community_urban</th>\n",
       "      <th>patient_marital_status_Married</th>\n",
       "      <th>patient_marital_status_Single</th>\n",
       "      <th>patient_has_children_Yes</th>\n",
       "      <th>patient_has_dependent_Yes</th>\n",
       "      <th>patient_gender_Male</th>\n",
       "    </tr>\n",
       "  </thead>\n",
       "  <tbody>\n",
       "    <tr>\n",
       "      <th>count</th>\n",
       "      <td>520.000000</td>\n",
       "      <td>520.000000</td>\n",
       "      <td>520.000000</td>\n",
       "      <td>520.000000</td>\n",
       "      <td>520.000000</td>\n",
       "      <td>520.000000</td>\n",
       "      <td>520.000000</td>\n",
       "      <td>520.000000</td>\n",
       "      <td>520.000000</td>\n",
       "      <td>520.000000</td>\n",
       "      <td>...</td>\n",
       "      <td>520.000000</td>\n",
       "      <td>520.000000</td>\n",
       "      <td>520.000000</td>\n",
       "      <td>520.000000</td>\n",
       "      <td>520.000000</td>\n",
       "      <td>520.000000</td>\n",
       "      <td>520.000000</td>\n",
       "      <td>520.000000</td>\n",
       "      <td>520.000000</td>\n",
       "      <td>520.000000</td>\n",
       "    </tr>\n",
       "    <tr>\n",
       "      <th>mean</th>\n",
       "      <td>5439.807692</td>\n",
       "      <td>1.984615</td>\n",
       "      <td>1.988462</td>\n",
       "      <td>24.869231</td>\n",
       "      <td>8.940385</td>\n",
       "      <td>0.090385</td>\n",
       "      <td>0.171154</td>\n",
       "      <td>0.119231</td>\n",
       "      <td>0.098077</td>\n",
       "      <td>0.209615</td>\n",
       "      <td>...</td>\n",
       "      <td>0.169231</td>\n",
       "      <td>0.434615</td>\n",
       "      <td>0.198077</td>\n",
       "      <td>0.357692</td>\n",
       "      <td>0.317308</td>\n",
       "      <td>0.359615</td>\n",
       "      <td>0.267308</td>\n",
       "      <td>0.505769</td>\n",
       "      <td>0.517308</td>\n",
       "      <td>0.500000</td>\n",
       "    </tr>\n",
       "    <tr>\n",
       "      <th>std</th>\n",
       "      <td>2814.354199</td>\n",
       "      <td>1.267556</td>\n",
       "      <td>1.325553</td>\n",
       "      <td>8.737568</td>\n",
       "      <td>5.074617</td>\n",
       "      <td>0.287008</td>\n",
       "      <td>0.377006</td>\n",
       "      <td>0.324372</td>\n",
       "      <td>0.297705</td>\n",
       "      <td>0.407426</td>\n",
       "      <td>...</td>\n",
       "      <td>0.375317</td>\n",
       "      <td>0.496184</td>\n",
       "      <td>0.398934</td>\n",
       "      <td>0.479782</td>\n",
       "      <td>0.465876</td>\n",
       "      <td>0.480350</td>\n",
       "      <td>0.442980</td>\n",
       "      <td>0.500448</td>\n",
       "      <td>0.500182</td>\n",
       "      <td>0.500481</td>\n",
       "    </tr>\n",
       "    <tr>\n",
       "      <th>min</th>\n",
       "      <td>1100.000000</td>\n",
       "      <td>0.000000</td>\n",
       "      <td>0.000000</td>\n",
       "      <td>10.000000</td>\n",
       "      <td>1.000000</td>\n",
       "      <td>0.000000</td>\n",
       "      <td>0.000000</td>\n",
       "      <td>0.000000</td>\n",
       "      <td>0.000000</td>\n",
       "      <td>0.000000</td>\n",
       "      <td>...</td>\n",
       "      <td>0.000000</td>\n",
       "      <td>0.000000</td>\n",
       "      <td>0.000000</td>\n",
       "      <td>0.000000</td>\n",
       "      <td>0.000000</td>\n",
       "      <td>0.000000</td>\n",
       "      <td>0.000000</td>\n",
       "      <td>0.000000</td>\n",
       "      <td>0.000000</td>\n",
       "      <td>0.000000</td>\n",
       "    </tr>\n",
       "    <tr>\n",
       "      <th>25%</th>\n",
       "      <td>2900.000000</td>\n",
       "      <td>1.000000</td>\n",
       "      <td>1.000000</td>\n",
       "      <td>17.000000</td>\n",
       "      <td>4.000000</td>\n",
       "      <td>0.000000</td>\n",
       "      <td>0.000000</td>\n",
       "      <td>0.000000</td>\n",
       "      <td>0.000000</td>\n",
       "      <td>0.000000</td>\n",
       "      <td>...</td>\n",
       "      <td>0.000000</td>\n",
       "      <td>0.000000</td>\n",
       "      <td>0.000000</td>\n",
       "      <td>0.000000</td>\n",
       "      <td>0.000000</td>\n",
       "      <td>0.000000</td>\n",
       "      <td>0.000000</td>\n",
       "      <td>0.000000</td>\n",
       "      <td>0.000000</td>\n",
       "      <td>0.000000</td>\n",
       "    </tr>\n",
       "    <tr>\n",
       "      <th>50%</th>\n",
       "      <td>5350.000000</td>\n",
       "      <td>2.000000</td>\n",
       "      <td>2.000000</td>\n",
       "      <td>24.500000</td>\n",
       "      <td>8.000000</td>\n",
       "      <td>0.000000</td>\n",
       "      <td>0.000000</td>\n",
       "      <td>0.000000</td>\n",
       "      <td>0.000000</td>\n",
       "      <td>0.000000</td>\n",
       "      <td>...</td>\n",
       "      <td>0.000000</td>\n",
       "      <td>0.000000</td>\n",
       "      <td>0.000000</td>\n",
       "      <td>0.000000</td>\n",
       "      <td>0.000000</td>\n",
       "      <td>0.000000</td>\n",
       "      <td>0.000000</td>\n",
       "      <td>1.000000</td>\n",
       "      <td>1.000000</td>\n",
       "      <td>0.500000</td>\n",
       "    </tr>\n",
       "    <tr>\n",
       "      <th>75%</th>\n",
       "      <td>8000.000000</td>\n",
       "      <td>3.000000</td>\n",
       "      <td>3.000000</td>\n",
       "      <td>32.000000</td>\n",
       "      <td>14.000000</td>\n",
       "      <td>0.000000</td>\n",
       "      <td>0.000000</td>\n",
       "      <td>0.000000</td>\n",
       "      <td>0.000000</td>\n",
       "      <td>0.000000</td>\n",
       "      <td>...</td>\n",
       "      <td>0.000000</td>\n",
       "      <td>1.000000</td>\n",
       "      <td>0.000000</td>\n",
       "      <td>1.000000</td>\n",
       "      <td>1.000000</td>\n",
       "      <td>1.000000</td>\n",
       "      <td>1.000000</td>\n",
       "      <td>1.000000</td>\n",
       "      <td>1.000000</td>\n",
       "      <td>1.000000</td>\n",
       "    </tr>\n",
       "    <tr>\n",
       "      <th>max</th>\n",
       "      <td>10700.000000</td>\n",
       "      <td>4.000000</td>\n",
       "      <td>4.000000</td>\n",
       "      <td>40.000000</td>\n",
       "      <td>18.000000</td>\n",
       "      <td>1.000000</td>\n",
       "      <td>1.000000</td>\n",
       "      <td>1.000000</td>\n",
       "      <td>1.000000</td>\n",
       "      <td>1.000000</td>\n",
       "      <td>...</td>\n",
       "      <td>1.000000</td>\n",
       "      <td>1.000000</td>\n",
       "      <td>1.000000</td>\n",
       "      <td>1.000000</td>\n",
       "      <td>1.000000</td>\n",
       "      <td>1.000000</td>\n",
       "      <td>1.000000</td>\n",
       "      <td>1.000000</td>\n",
       "      <td>1.000000</td>\n",
       "      <td>1.000000</td>\n",
       "    </tr>\n",
       "  </tbody>\n",
       "</table>\n",
       "<p>8 rows × 21 columns</p>\n",
       "</div>"
      ],
      "text/plain": [
       "       consult_cost  patient_num_of_children  patient_num_of_dependents  \\\n",
       "count    520.000000               520.000000                 520.000000   \n",
       "mean    5439.807692                 1.984615                   1.988462   \n",
       "std     2814.354199                 1.267556                   1.325553   \n",
       "min     1100.000000                 0.000000                   0.000000   \n",
       "25%     2900.000000                 1.000000                   1.000000   \n",
       "50%     5350.000000                 2.000000                   2.000000   \n",
       "75%     8000.000000                 3.000000                   3.000000   \n",
       "max    10700.000000                 4.000000                   4.000000   \n",
       "\n",
       "       patient_age  consultant_doctor_experience  patient_anatomy_chest area  \\\n",
       "count   520.000000                    520.000000                  520.000000   \n",
       "mean     24.869231                      8.940385                    0.090385   \n",
       "std       8.737568                      5.074617                    0.287008   \n",
       "min      10.000000                      1.000000                    0.000000   \n",
       "25%      17.000000                      4.000000                    0.000000   \n",
       "50%      24.500000                      8.000000                    0.000000   \n",
       "75%      32.000000                     14.000000                    0.000000   \n",
       "max      40.000000                     18.000000                    1.000000   \n",
       "\n",
       "       patient_anatomy_head  patient_anatomy_legs  patient_anatomy_shoulder  \\\n",
       "count            520.000000            520.000000                520.000000   \n",
       "mean               0.171154              0.119231                  0.098077   \n",
       "std                0.377006              0.324372                  0.297705   \n",
       "min                0.000000              0.000000                  0.000000   \n",
       "25%                0.000000              0.000000                  0.000000   \n",
       "50%                0.000000              0.000000                  0.000000   \n",
       "75%                0.000000              0.000000                  0.000000   \n",
       "max                1.000000              1.000000                  1.000000   \n",
       "\n",
       "       patient_anatomy_stomach  ...  patient_consult_status_appointed session  \\\n",
       "count               520.000000  ...                                520.000000   \n",
       "mean                  0.209615  ...                                  0.169231   \n",
       "std                   0.407426  ...                                  0.375317   \n",
       "min                   0.000000  ...                                  0.000000   \n",
       "25%                   0.000000  ...                                  0.000000   \n",
       "50%                   0.000000  ...                                  0.000000   \n",
       "75%                   0.000000  ...                                  0.000000   \n",
       "max                   1.000000  ...                                  1.000000   \n",
       "\n",
       "       patient_consult_status_new consultation  \\\n",
       "count                               520.000000   \n",
       "mean                                  0.434615   \n",
       "std                                   0.496184   \n",
       "min                                   0.000000   \n",
       "25%                                   0.000000   \n",
       "50%                                   0.000000   \n",
       "75%                                   1.000000   \n",
       "max                                   1.000000   \n",
       "\n",
       "       patient_consult_status_under appointment  patient_community_suburban  \\\n",
       "count                                520.000000                  520.000000   \n",
       "mean                                   0.198077                    0.357692   \n",
       "std                                    0.398934                    0.479782   \n",
       "min                                    0.000000                    0.000000   \n",
       "25%                                    0.000000                    0.000000   \n",
       "50%                                    0.000000                    0.000000   \n",
       "75%                                    0.000000                    1.000000   \n",
       "max                                    1.000000                    1.000000   \n",
       "\n",
       "       patient_community_urban  patient_marital_status_Married  \\\n",
       "count               520.000000                      520.000000   \n",
       "mean                  0.317308                        0.359615   \n",
       "std                   0.465876                        0.480350   \n",
       "min                   0.000000                        0.000000   \n",
       "25%                   0.000000                        0.000000   \n",
       "50%                   0.000000                        0.000000   \n",
       "75%                   1.000000                        1.000000   \n",
       "max                   1.000000                        1.000000   \n",
       "\n",
       "       patient_marital_status_Single  patient_has_children_Yes  \\\n",
       "count                     520.000000                520.000000   \n",
       "mean                        0.267308                  0.505769   \n",
       "std                         0.442980                  0.500448   \n",
       "min                         0.000000                  0.000000   \n",
       "25%                         0.000000                  0.000000   \n",
       "50%                         0.000000                  1.000000   \n",
       "75%                         1.000000                  1.000000   \n",
       "max                         1.000000                  1.000000   \n",
       "\n",
       "       patient_has_dependent_Yes  patient_gender_Male  \n",
       "count                 520.000000           520.000000  \n",
       "mean                    0.517308             0.500000  \n",
       "std                     0.500182             0.500481  \n",
       "min                     0.000000             0.000000  \n",
       "25%                     0.000000             0.000000  \n",
       "50%                     1.000000             0.500000  \n",
       "75%                     1.000000             1.000000  \n",
       "max                     1.000000             1.000000  \n",
       "\n",
       "[8 rows x 21 columns]"
      ]
     },
     "execution_count": 1554,
     "metadata": {},
     "output_type": "execute_result"
    }
   ],
   "source": [
    "simulated_dataframe.describe()"
   ]
  },
  {
   "cell_type": "code",
   "execution_count": 1555,
   "metadata": {},
   "outputs": [
    {
     "data": {
      "application/vnd.plotly.v1+json": {
       "config": {
        "plotlyServerURL": "https://plot.ly"
       },
       "data": [
        {
         "alignmentgroup": "True",
         "bingroup": "x",
         "hovertemplate": "consult_cost=%{x}<br>count=%{y}<extra></extra>",
         "legendgroup": "",
         "marker": {
          "color": "#636efa",
          "pattern": {
           "shape": ""
          }
         },
         "name": "",
         "offsetgroup": "",
         "orientation": "v",
         "showlegend": false,
         "type": "histogram",
         "x": [
          1900,
          9100,
          8200,
          5600,
          1200,
          2800,
          7300,
          3300,
          6000,
          4700,
          1200,
          8400,
          7300,
          5400,
          9400,
          9400,
          5200,
          7700,
          4400,
          8900,
          3300,
          1800,
          1200,
          8400,
          1700,
          9100,
          1100,
          7300,
          8900,
          8200,
          5900,
          6800,
          2500,
          6400,
          8300,
          1700,
          3300,
          5600,
          2100,
          7900,
          3300,
          3800,
          9300,
          3500,
          2500,
          7800,
          3400,
          2600,
          7700,
          10500,
          8300,
          3000,
          1300,
          7600,
          8900,
          4000,
          1400,
          4000,
          8900,
          1300,
          1500,
          5300,
          9300,
          1300,
          3300,
          7200,
          4100,
          4700,
          6600,
          1800,
          9200,
          7000,
          9900,
          5300,
          2100,
          5200,
          8300,
          6900,
          4000,
          7600,
          6800,
          9300,
          9300,
          4700,
          5200,
          3300,
          3300,
          4200,
          9600,
          1900,
          6600,
          7700,
          4500,
          8000,
          8200,
          9900,
          8400,
          6900,
          4500,
          5200,
          10500,
          4700,
          3800,
          1100,
          9700,
          7800,
          7200,
          8300,
          4100,
          2900,
          2200,
          5400,
          4600,
          9600,
          5900,
          8300,
          4000,
          3300,
          5600,
          2200,
          2200,
          8400,
          5400,
          1200,
          8700,
          6600,
          2000,
          9900,
          10200,
          9600,
          9100,
          2500,
          1800,
          3800,
          8200,
          3500,
          6800,
          8700,
          2400,
          6900,
          1400,
          9900,
          5700,
          5300,
          1100,
          1400,
          1300,
          1200,
          1400,
          3000,
          1300,
          1100,
          7300,
          2100,
          7900,
          5900,
          2100,
          2200,
          6300,
          6400,
          6400,
          1500,
          6300,
          1400,
          8400,
          1400,
          1700,
          5300,
          7400,
          8400,
          8700,
          4100,
          4500,
          8300,
          2600,
          2400,
          9300,
          4000,
          6200,
          4800,
          1400,
          6800,
          7200,
          5300,
          7200,
          6400,
          7900,
          7300,
          8800,
          1300,
          5300,
          10200,
          1500,
          5300,
          8800,
          2500,
          3300,
          5200,
          4900,
          2000,
          9300,
          8400,
          6000,
          1100,
          2700,
          7200,
          3500,
          6000,
          4900,
          1400,
          8200,
          7400,
          5200,
          9100,
          9400,
          5300,
          7800,
          5000,
          8700,
          3500,
          1700,
          1300,
          8300,
          2100,
          9400,
          1200,
          7300,
          8800,
          8200,
          5900,
          6900,
          2400,
          6300,
          8400,
          2200,
          3300,
          5900,
          1800,
          7900,
          3500,
          4200,
          9100,
          3400,
          2700,
          7700,
          3400,
          2500,
          7800,
          10200,
          8300,
          2700,
          1300,
          7700,
          8600,
          3800,
          1500,
          4200,
          8700,
          1100,
          1300,
          5300,
          9400,
          1400,
          3400,
          7200,
          4200,
          4900,
          6200,
          2200,
          9100,
          6800,
          9600,
          5200,
          1900,
          5400,
          8200,
          6800,
          4000,
          7900,
          6800,
          9200,
          9400,
          4800,
          5200,
          3500,
          3300,
          4100,
          9600,
          1700,
          6300,
          8000,
          4500,
          7600,
          8200,
          9600,
          8400,
          6800,
          4500,
          5400,
          10500,
          5000,
          3900,
          1300,
          9600,
          8000,
          7300,
          8300,
          3900,
          2900,
          1700,
          5200,
          4500,
          9900,
          5600,
          8400,
          4200,
          3500,
          5800,
          2000,
          2100,
          8300,
          5300,
          1200,
          8800,
          6300,
          1700,
          9800,
          10300,
          9800,
          9100,
          2400,
          2100,
          4100,
          8400,
          3300,
          7000,
          8800,
          2900,
          6800,
          1300,
          9800,
          5700,
          5400,
          1400,
          1400,
          1100,
          1500,
          1500,
          3000,
          1400,
          1300,
          7200,
          1700,
          8000,
          6000,
          2100,
          1900,
          6400,
          6400,
          6600,
          1100,
          6600,
          1400,
          8200,
          1400,
          2100,
          5400,
          7300,
          8200,
          8800,
          4200,
          5000,
          8400,
          3000,
          2800,
          9400,
          4200,
          6400,
          4900,
          1300,
          6800,
          7300,
          5300,
          7300,
          6300,
          7600,
          7200,
          8600,
          1500,
          5400,
          10200,
          1500,
          5300,
          8800,
          2700,
          3300,
          5400,
          4800,
          1300,
          1200,
          8200,
          4400,
          8400,
          2500,
          8000,
          9900,
          1400,
          1200,
          7400,
          1500,
          4500,
          2900,
          1800,
          9300,
          8300,
          5800,
          1300,
          3000,
          7300,
          3400,
          5800,
          4800,
          1300,
          8400,
          7200,
          5200,
          9300,
          9100,
          5400,
          8000,
          5000,
          8900,
          3400,
          1700,
          1500,
          8400,
          2200,
          9400,
          1100,
          7200,
          8600,
          8400,
          5700,
          6800,
          2400,
          6300,
          8300,
          1700,
          3300,
          5800,
          1700,
          7700,
          3500,
          4100,
          9200,
          3300,
          2400,
          7700,
          3400,
          2400,
          7700,
          10700,
          8200,
          2600,
          1300,
          7900,
          8900,
          4000,
          1500,
          3800,
          8600,
          1400,
          1300,
          5300,
          9300,
          1200,
          3500,
          7400,
          3800,
          4400,
          6600,
          2100,
          9200,
          7000,
          9800,
          5200,
          2100,
          5300,
          8200,
          7000,
          4200,
          7600,
          7000,
          9200,
          9100,
          4700,
          5200,
          3500,
          3400,
          4000,
          9800,
          1700,
          6400,
          8000,
          4900,
          7600,
          8200,
          9800,
          8300,
          6900,
          5000,
          5300,
          10400,
          4600,
          4200,
          1200,
          9700,
          7900,
          7400,
          8400
         ],
         "xaxis": "x",
         "yaxis": "y"
        },
        {
         "alignmentgroup": "True",
         "hovertemplate": "consult_cost=%{x}<extra></extra>",
         "legendgroup": "",
         "marker": {
          "color": "#636efa"
         },
         "name": "",
         "notched": true,
         "offsetgroup": "",
         "showlegend": false,
         "type": "box",
         "x": [
          1900,
          9100,
          8200,
          5600,
          1200,
          2800,
          7300,
          3300,
          6000,
          4700,
          1200,
          8400,
          7300,
          5400,
          9400,
          9400,
          5200,
          7700,
          4400,
          8900,
          3300,
          1800,
          1200,
          8400,
          1700,
          9100,
          1100,
          7300,
          8900,
          8200,
          5900,
          6800,
          2500,
          6400,
          8300,
          1700,
          3300,
          5600,
          2100,
          7900,
          3300,
          3800,
          9300,
          3500,
          2500,
          7800,
          3400,
          2600,
          7700,
          10500,
          8300,
          3000,
          1300,
          7600,
          8900,
          4000,
          1400,
          4000,
          8900,
          1300,
          1500,
          5300,
          9300,
          1300,
          3300,
          7200,
          4100,
          4700,
          6600,
          1800,
          9200,
          7000,
          9900,
          5300,
          2100,
          5200,
          8300,
          6900,
          4000,
          7600,
          6800,
          9300,
          9300,
          4700,
          5200,
          3300,
          3300,
          4200,
          9600,
          1900,
          6600,
          7700,
          4500,
          8000,
          8200,
          9900,
          8400,
          6900,
          4500,
          5200,
          10500,
          4700,
          3800,
          1100,
          9700,
          7800,
          7200,
          8300,
          4100,
          2900,
          2200,
          5400,
          4600,
          9600,
          5900,
          8300,
          4000,
          3300,
          5600,
          2200,
          2200,
          8400,
          5400,
          1200,
          8700,
          6600,
          2000,
          9900,
          10200,
          9600,
          9100,
          2500,
          1800,
          3800,
          8200,
          3500,
          6800,
          8700,
          2400,
          6900,
          1400,
          9900,
          5700,
          5300,
          1100,
          1400,
          1300,
          1200,
          1400,
          3000,
          1300,
          1100,
          7300,
          2100,
          7900,
          5900,
          2100,
          2200,
          6300,
          6400,
          6400,
          1500,
          6300,
          1400,
          8400,
          1400,
          1700,
          5300,
          7400,
          8400,
          8700,
          4100,
          4500,
          8300,
          2600,
          2400,
          9300,
          4000,
          6200,
          4800,
          1400,
          6800,
          7200,
          5300,
          7200,
          6400,
          7900,
          7300,
          8800,
          1300,
          5300,
          10200,
          1500,
          5300,
          8800,
          2500,
          3300,
          5200,
          4900,
          2000,
          9300,
          8400,
          6000,
          1100,
          2700,
          7200,
          3500,
          6000,
          4900,
          1400,
          8200,
          7400,
          5200,
          9100,
          9400,
          5300,
          7800,
          5000,
          8700,
          3500,
          1700,
          1300,
          8300,
          2100,
          9400,
          1200,
          7300,
          8800,
          8200,
          5900,
          6900,
          2400,
          6300,
          8400,
          2200,
          3300,
          5900,
          1800,
          7900,
          3500,
          4200,
          9100,
          3400,
          2700,
          7700,
          3400,
          2500,
          7800,
          10200,
          8300,
          2700,
          1300,
          7700,
          8600,
          3800,
          1500,
          4200,
          8700,
          1100,
          1300,
          5300,
          9400,
          1400,
          3400,
          7200,
          4200,
          4900,
          6200,
          2200,
          9100,
          6800,
          9600,
          5200,
          1900,
          5400,
          8200,
          6800,
          4000,
          7900,
          6800,
          9200,
          9400,
          4800,
          5200,
          3500,
          3300,
          4100,
          9600,
          1700,
          6300,
          8000,
          4500,
          7600,
          8200,
          9600,
          8400,
          6800,
          4500,
          5400,
          10500,
          5000,
          3900,
          1300,
          9600,
          8000,
          7300,
          8300,
          3900,
          2900,
          1700,
          5200,
          4500,
          9900,
          5600,
          8400,
          4200,
          3500,
          5800,
          2000,
          2100,
          8300,
          5300,
          1200,
          8800,
          6300,
          1700,
          9800,
          10300,
          9800,
          9100,
          2400,
          2100,
          4100,
          8400,
          3300,
          7000,
          8800,
          2900,
          6800,
          1300,
          9800,
          5700,
          5400,
          1400,
          1400,
          1100,
          1500,
          1500,
          3000,
          1400,
          1300,
          7200,
          1700,
          8000,
          6000,
          2100,
          1900,
          6400,
          6400,
          6600,
          1100,
          6600,
          1400,
          8200,
          1400,
          2100,
          5400,
          7300,
          8200,
          8800,
          4200,
          5000,
          8400,
          3000,
          2800,
          9400,
          4200,
          6400,
          4900,
          1300,
          6800,
          7300,
          5300,
          7300,
          6300,
          7600,
          7200,
          8600,
          1500,
          5400,
          10200,
          1500,
          5300,
          8800,
          2700,
          3300,
          5400,
          4800,
          1300,
          1200,
          8200,
          4400,
          8400,
          2500,
          8000,
          9900,
          1400,
          1200,
          7400,
          1500,
          4500,
          2900,
          1800,
          9300,
          8300,
          5800,
          1300,
          3000,
          7300,
          3400,
          5800,
          4800,
          1300,
          8400,
          7200,
          5200,
          9300,
          9100,
          5400,
          8000,
          5000,
          8900,
          3400,
          1700,
          1500,
          8400,
          2200,
          9400,
          1100,
          7200,
          8600,
          8400,
          5700,
          6800,
          2400,
          6300,
          8300,
          1700,
          3300,
          5800,
          1700,
          7700,
          3500,
          4100,
          9200,
          3300,
          2400,
          7700,
          3400,
          2400,
          7700,
          10700,
          8200,
          2600,
          1300,
          7900,
          8900,
          4000,
          1500,
          3800,
          8600,
          1400,
          1300,
          5300,
          9300,
          1200,
          3500,
          7400,
          3800,
          4400,
          6600,
          2100,
          9200,
          7000,
          9800,
          5200,
          2100,
          5300,
          8200,
          7000,
          4200,
          7600,
          7000,
          9200,
          9100,
          4700,
          5200,
          3500,
          3400,
          4000,
          9800,
          1700,
          6400,
          8000,
          4900,
          7600,
          8200,
          9800,
          8300,
          6900,
          5000,
          5300,
          10400,
          4600,
          4200,
          1200,
          9700,
          7900,
          7400,
          8400
         ],
         "xaxis": "x2",
         "yaxis": "y2"
        }
       ],
       "layout": {
        "barmode": "relative",
        "legend": {
         "tracegroupgap": 0
        },
        "margin": {
         "t": 60
        },
        "template": {
         "data": {
          "bar": [
           {
            "error_x": {
             "color": "#2a3f5f"
            },
            "error_y": {
             "color": "#2a3f5f"
            },
            "marker": {
             "line": {
              "color": "#E5ECF6",
              "width": 0.5
             },
             "pattern": {
              "fillmode": "overlay",
              "size": 10,
              "solidity": 0.2
             }
            },
            "type": "bar"
           }
          ],
          "barpolar": [
           {
            "marker": {
             "line": {
              "color": "#E5ECF6",
              "width": 0.5
             },
             "pattern": {
              "fillmode": "overlay",
              "size": 10,
              "solidity": 0.2
             }
            },
            "type": "barpolar"
           }
          ],
          "carpet": [
           {
            "aaxis": {
             "endlinecolor": "#2a3f5f",
             "gridcolor": "white",
             "linecolor": "white",
             "minorgridcolor": "white",
             "startlinecolor": "#2a3f5f"
            },
            "baxis": {
             "endlinecolor": "#2a3f5f",
             "gridcolor": "white",
             "linecolor": "white",
             "minorgridcolor": "white",
             "startlinecolor": "#2a3f5f"
            },
            "type": "carpet"
           }
          ],
          "choropleth": [
           {
            "colorbar": {
             "outlinewidth": 0,
             "ticks": ""
            },
            "type": "choropleth"
           }
          ],
          "contour": [
           {
            "colorbar": {
             "outlinewidth": 0,
             "ticks": ""
            },
            "colorscale": [
             [
              0,
              "#0d0887"
             ],
             [
              0.1111111111111111,
              "#46039f"
             ],
             [
              0.2222222222222222,
              "#7201a8"
             ],
             [
              0.3333333333333333,
              "#9c179e"
             ],
             [
              0.4444444444444444,
              "#bd3786"
             ],
             [
              0.5555555555555556,
              "#d8576b"
             ],
             [
              0.6666666666666666,
              "#ed7953"
             ],
             [
              0.7777777777777778,
              "#fb9f3a"
             ],
             [
              0.8888888888888888,
              "#fdca26"
             ],
             [
              1,
              "#f0f921"
             ]
            ],
            "type": "contour"
           }
          ],
          "contourcarpet": [
           {
            "colorbar": {
             "outlinewidth": 0,
             "ticks": ""
            },
            "type": "contourcarpet"
           }
          ],
          "heatmap": [
           {
            "colorbar": {
             "outlinewidth": 0,
             "ticks": ""
            },
            "colorscale": [
             [
              0,
              "#0d0887"
             ],
             [
              0.1111111111111111,
              "#46039f"
             ],
             [
              0.2222222222222222,
              "#7201a8"
             ],
             [
              0.3333333333333333,
              "#9c179e"
             ],
             [
              0.4444444444444444,
              "#bd3786"
             ],
             [
              0.5555555555555556,
              "#d8576b"
             ],
             [
              0.6666666666666666,
              "#ed7953"
             ],
             [
              0.7777777777777778,
              "#fb9f3a"
             ],
             [
              0.8888888888888888,
              "#fdca26"
             ],
             [
              1,
              "#f0f921"
             ]
            ],
            "type": "heatmap"
           }
          ],
          "heatmapgl": [
           {
            "colorbar": {
             "outlinewidth": 0,
             "ticks": ""
            },
            "colorscale": [
             [
              0,
              "#0d0887"
             ],
             [
              0.1111111111111111,
              "#46039f"
             ],
             [
              0.2222222222222222,
              "#7201a8"
             ],
             [
              0.3333333333333333,
              "#9c179e"
             ],
             [
              0.4444444444444444,
              "#bd3786"
             ],
             [
              0.5555555555555556,
              "#d8576b"
             ],
             [
              0.6666666666666666,
              "#ed7953"
             ],
             [
              0.7777777777777778,
              "#fb9f3a"
             ],
             [
              0.8888888888888888,
              "#fdca26"
             ],
             [
              1,
              "#f0f921"
             ]
            ],
            "type": "heatmapgl"
           }
          ],
          "histogram": [
           {
            "marker": {
             "pattern": {
              "fillmode": "overlay",
              "size": 10,
              "solidity": 0.2
             }
            },
            "type": "histogram"
           }
          ],
          "histogram2d": [
           {
            "colorbar": {
             "outlinewidth": 0,
             "ticks": ""
            },
            "colorscale": [
             [
              0,
              "#0d0887"
             ],
             [
              0.1111111111111111,
              "#46039f"
             ],
             [
              0.2222222222222222,
              "#7201a8"
             ],
             [
              0.3333333333333333,
              "#9c179e"
             ],
             [
              0.4444444444444444,
              "#bd3786"
             ],
             [
              0.5555555555555556,
              "#d8576b"
             ],
             [
              0.6666666666666666,
              "#ed7953"
             ],
             [
              0.7777777777777778,
              "#fb9f3a"
             ],
             [
              0.8888888888888888,
              "#fdca26"
             ],
             [
              1,
              "#f0f921"
             ]
            ],
            "type": "histogram2d"
           }
          ],
          "histogram2dcontour": [
           {
            "colorbar": {
             "outlinewidth": 0,
             "ticks": ""
            },
            "colorscale": [
             [
              0,
              "#0d0887"
             ],
             [
              0.1111111111111111,
              "#46039f"
             ],
             [
              0.2222222222222222,
              "#7201a8"
             ],
             [
              0.3333333333333333,
              "#9c179e"
             ],
             [
              0.4444444444444444,
              "#bd3786"
             ],
             [
              0.5555555555555556,
              "#d8576b"
             ],
             [
              0.6666666666666666,
              "#ed7953"
             ],
             [
              0.7777777777777778,
              "#fb9f3a"
             ],
             [
              0.8888888888888888,
              "#fdca26"
             ],
             [
              1,
              "#f0f921"
             ]
            ],
            "type": "histogram2dcontour"
           }
          ],
          "mesh3d": [
           {
            "colorbar": {
             "outlinewidth": 0,
             "ticks": ""
            },
            "type": "mesh3d"
           }
          ],
          "parcoords": [
           {
            "line": {
             "colorbar": {
              "outlinewidth": 0,
              "ticks": ""
             }
            },
            "type": "parcoords"
           }
          ],
          "pie": [
           {
            "automargin": true,
            "type": "pie"
           }
          ],
          "scatter": [
           {
            "fillpattern": {
             "fillmode": "overlay",
             "size": 10,
             "solidity": 0.2
            },
            "type": "scatter"
           }
          ],
          "scatter3d": [
           {
            "line": {
             "colorbar": {
              "outlinewidth": 0,
              "ticks": ""
             }
            },
            "marker": {
             "colorbar": {
              "outlinewidth": 0,
              "ticks": ""
             }
            },
            "type": "scatter3d"
           }
          ],
          "scattercarpet": [
           {
            "marker": {
             "colorbar": {
              "outlinewidth": 0,
              "ticks": ""
             }
            },
            "type": "scattercarpet"
           }
          ],
          "scattergeo": [
           {
            "marker": {
             "colorbar": {
              "outlinewidth": 0,
              "ticks": ""
             }
            },
            "type": "scattergeo"
           }
          ],
          "scattergl": [
           {
            "marker": {
             "colorbar": {
              "outlinewidth": 0,
              "ticks": ""
             }
            },
            "type": "scattergl"
           }
          ],
          "scattermapbox": [
           {
            "marker": {
             "colorbar": {
              "outlinewidth": 0,
              "ticks": ""
             }
            },
            "type": "scattermapbox"
           }
          ],
          "scatterpolar": [
           {
            "marker": {
             "colorbar": {
              "outlinewidth": 0,
              "ticks": ""
             }
            },
            "type": "scatterpolar"
           }
          ],
          "scatterpolargl": [
           {
            "marker": {
             "colorbar": {
              "outlinewidth": 0,
              "ticks": ""
             }
            },
            "type": "scatterpolargl"
           }
          ],
          "scatterternary": [
           {
            "marker": {
             "colorbar": {
              "outlinewidth": 0,
              "ticks": ""
             }
            },
            "type": "scatterternary"
           }
          ],
          "surface": [
           {
            "colorbar": {
             "outlinewidth": 0,
             "ticks": ""
            },
            "colorscale": [
             [
              0,
              "#0d0887"
             ],
             [
              0.1111111111111111,
              "#46039f"
             ],
             [
              0.2222222222222222,
              "#7201a8"
             ],
             [
              0.3333333333333333,
              "#9c179e"
             ],
             [
              0.4444444444444444,
              "#bd3786"
             ],
             [
              0.5555555555555556,
              "#d8576b"
             ],
             [
              0.6666666666666666,
              "#ed7953"
             ],
             [
              0.7777777777777778,
              "#fb9f3a"
             ],
             [
              0.8888888888888888,
              "#fdca26"
             ],
             [
              1,
              "#f0f921"
             ]
            ],
            "type": "surface"
           }
          ],
          "table": [
           {
            "cells": {
             "fill": {
              "color": "#EBF0F8"
             },
             "line": {
              "color": "white"
             }
            },
            "header": {
             "fill": {
              "color": "#C8D4E3"
             },
             "line": {
              "color": "white"
             }
            },
            "type": "table"
           }
          ]
         },
         "layout": {
          "annotationdefaults": {
           "arrowcolor": "#2a3f5f",
           "arrowhead": 0,
           "arrowwidth": 1
          },
          "autotypenumbers": "strict",
          "coloraxis": {
           "colorbar": {
            "outlinewidth": 0,
            "ticks": ""
           }
          },
          "colorscale": {
           "diverging": [
            [
             0,
             "#8e0152"
            ],
            [
             0.1,
             "#c51b7d"
            ],
            [
             0.2,
             "#de77ae"
            ],
            [
             0.3,
             "#f1b6da"
            ],
            [
             0.4,
             "#fde0ef"
            ],
            [
             0.5,
             "#f7f7f7"
            ],
            [
             0.6,
             "#e6f5d0"
            ],
            [
             0.7,
             "#b8e186"
            ],
            [
             0.8,
             "#7fbc41"
            ],
            [
             0.9,
             "#4d9221"
            ],
            [
             1,
             "#276419"
            ]
           ],
           "sequential": [
            [
             0,
             "#0d0887"
            ],
            [
             0.1111111111111111,
             "#46039f"
            ],
            [
             0.2222222222222222,
             "#7201a8"
            ],
            [
             0.3333333333333333,
             "#9c179e"
            ],
            [
             0.4444444444444444,
             "#bd3786"
            ],
            [
             0.5555555555555556,
             "#d8576b"
            ],
            [
             0.6666666666666666,
             "#ed7953"
            ],
            [
             0.7777777777777778,
             "#fb9f3a"
            ],
            [
             0.8888888888888888,
             "#fdca26"
            ],
            [
             1,
             "#f0f921"
            ]
           ],
           "sequentialminus": [
            [
             0,
             "#0d0887"
            ],
            [
             0.1111111111111111,
             "#46039f"
            ],
            [
             0.2222222222222222,
             "#7201a8"
            ],
            [
             0.3333333333333333,
             "#9c179e"
            ],
            [
             0.4444444444444444,
             "#bd3786"
            ],
            [
             0.5555555555555556,
             "#d8576b"
            ],
            [
             0.6666666666666666,
             "#ed7953"
            ],
            [
             0.7777777777777778,
             "#fb9f3a"
            ],
            [
             0.8888888888888888,
             "#fdca26"
            ],
            [
             1,
             "#f0f921"
            ]
           ]
          },
          "colorway": [
           "#636efa",
           "#EF553B",
           "#00cc96",
           "#ab63fa",
           "#FFA15A",
           "#19d3f3",
           "#FF6692",
           "#B6E880",
           "#FF97FF",
           "#FECB52"
          ],
          "font": {
           "color": "#2a3f5f"
          },
          "geo": {
           "bgcolor": "white",
           "lakecolor": "white",
           "landcolor": "#E5ECF6",
           "showlakes": true,
           "showland": true,
           "subunitcolor": "white"
          },
          "hoverlabel": {
           "align": "left"
          },
          "hovermode": "closest",
          "mapbox": {
           "style": "light"
          },
          "paper_bgcolor": "white",
          "plot_bgcolor": "#E5ECF6",
          "polar": {
           "angularaxis": {
            "gridcolor": "white",
            "linecolor": "white",
            "ticks": ""
           },
           "bgcolor": "#E5ECF6",
           "radialaxis": {
            "gridcolor": "white",
            "linecolor": "white",
            "ticks": ""
           }
          },
          "scene": {
           "xaxis": {
            "backgroundcolor": "#E5ECF6",
            "gridcolor": "white",
            "gridwidth": 2,
            "linecolor": "white",
            "showbackground": true,
            "ticks": "",
            "zerolinecolor": "white"
           },
           "yaxis": {
            "backgroundcolor": "#E5ECF6",
            "gridcolor": "white",
            "gridwidth": 2,
            "linecolor": "white",
            "showbackground": true,
            "ticks": "",
            "zerolinecolor": "white"
           },
           "zaxis": {
            "backgroundcolor": "#E5ECF6",
            "gridcolor": "white",
            "gridwidth": 2,
            "linecolor": "white",
            "showbackground": true,
            "ticks": "",
            "zerolinecolor": "white"
           }
          },
          "shapedefaults": {
           "line": {
            "color": "#2a3f5f"
           }
          },
          "ternary": {
           "aaxis": {
            "gridcolor": "white",
            "linecolor": "white",
            "ticks": ""
           },
           "baxis": {
            "gridcolor": "white",
            "linecolor": "white",
            "ticks": ""
           },
           "bgcolor": "#E5ECF6",
           "caxis": {
            "gridcolor": "white",
            "linecolor": "white",
            "ticks": ""
           }
          },
          "title": {
           "x": 0.05
          },
          "xaxis": {
           "automargin": true,
           "gridcolor": "white",
           "linecolor": "white",
           "ticks": "",
           "title": {
            "standoff": 15
           },
           "zerolinecolor": "white",
           "zerolinewidth": 2
          },
          "yaxis": {
           "automargin": true,
           "gridcolor": "white",
           "linecolor": "white",
           "ticks": "",
           "title": {
            "standoff": 15
           },
           "zerolinecolor": "white",
           "zerolinewidth": 2
          }
         }
        },
        "xaxis": {
         "anchor": "y",
         "domain": [
          0,
          1
         ],
         "title": {
          "text": "consult_cost"
         }
        },
        "xaxis2": {
         "anchor": "y2",
         "domain": [
          0,
          1
         ],
         "matches": "x",
         "showgrid": true,
         "showticklabels": false
        },
        "yaxis": {
         "anchor": "x",
         "domain": [
          0,
          0.8316
         ],
         "title": {
          "text": "count"
         }
        },
        "yaxis2": {
         "anchor": "x2",
         "domain": [
          0.8416,
          1
         ],
         "matches": "y2",
         "showgrid": false,
         "showline": false,
         "showticklabels": false,
         "ticks": ""
        }
       }
      }
     },
     "metadata": {},
     "output_type": "display_data"
    }
   ],
   "source": [
    "px.histogram(simulated_dataframe, x=\"consult_cost\", marginal=\"box\")"
   ]
  },
  {
   "cell_type": "code",
   "execution_count": 1556,
   "metadata": {},
   "outputs": [
    {
     "data": {
      "application/vnd.plotly.v1+json": {
       "config": {
        "plotlyServerURL": "https://plot.ly"
       },
       "data": [
        {
         "alignmentgroup": "True",
         "bingroup": "x",
         "hovertemplate": "consultant_doctor_experience=%{x}<br>count=%{y}<extra></extra>",
         "legendgroup": "",
         "marker": {
          "color": "#636efa",
          "pattern": {
           "shape": ""
          }
         },
         "name": "",
         "offsetgroup": "",
         "orientation": "v",
         "showlegend": false,
         "type": "histogram",
         "x": [
          3,
          16,
          14,
          9,
          1,
          4,
          13,
          5,
          9,
          7,
          2,
          14,
          12,
          8,
          16,
          17,
          8,
          13,
          7,
          15,
          5,
          3,
          3,
          14,
          4,
          16,
          3,
          12,
          15,
          15,
          9,
          11,
          5,
          10,
          14,
          3,
          5,
          10,
          3,
          13,
          5,
          6,
          17,
          5,
          4,
          13,
          5,
          4,
          14,
          18,
          15,
          4,
          2,
          14,
          16,
          6,
          1,
          6,
          15,
          1,
          2,
          8,
          16,
          2,
          5,
          12,
          6,
          7,
          10,
          3,
          16,
          11,
          17,
          8,
          3,
          8,
          14,
          11,
          6,
          13,
          11,
          16,
          16,
          7,
          8,
          5,
          6,
          6,
          17,
          3,
          10,
          13,
          8,
          14,
          14,
          17,
          14,
          11,
          7,
          8,
          18,
          7,
          6,
          2,
          17,
          13,
          12,
          14,
          6,
          4,
          3,
          8,
          7,
          17,
          9,
          15,
          6,
          5,
          9,
          3,
          4,
          15,
          8,
          1,
          15,
          11,
          4,
          17,
          18,
          17,
          17,
          4,
          3,
          6,
          14,
          5,
          11,
          15,
          4,
          11,
          2,
          18,
          10,
          8,
          1,
          2,
          1,
          2,
          2,
          5,
          1,
          2,
          12,
          3,
          13,
          9,
          3,
          3,
          10,
          10,
          10,
          2,
          10,
          3,
          14,
          1,
          3,
          8,
          12,
          14,
          15,
          6,
          7,
          14,
          4,
          4,
          16,
          6,
          10,
          7,
          1,
          11,
          12,
          9,
          13,
          10,
          14,
          12,
          15,
          3,
          8,
          18,
          3,
          8,
          15,
          4,
          5,
          8,
          7,
          3,
          16,
          14,
          9,
          1,
          4,
          13,
          5,
          9,
          7,
          2,
          14,
          12,
          8,
          16,
          17,
          8,
          13,
          7,
          15,
          5,
          3,
          3,
          14,
          4,
          16,
          3,
          12,
          15,
          15,
          9,
          11,
          5,
          10,
          14,
          3,
          5,
          10,
          3,
          13,
          5,
          6,
          17,
          5,
          4,
          13,
          5,
          4,
          14,
          18,
          15,
          4,
          2,
          14,
          16,
          6,
          1,
          6,
          15,
          1,
          2,
          8,
          16,
          2,
          5,
          12,
          6,
          7,
          10,
          3,
          16,
          11,
          17,
          8,
          3,
          8,
          14,
          11,
          6,
          13,
          11,
          16,
          16,
          7,
          8,
          5,
          6,
          6,
          17,
          3,
          10,
          13,
          8,
          14,
          14,
          17,
          14,
          11,
          7,
          8,
          18,
          7,
          6,
          2,
          17,
          13,
          12,
          14,
          6,
          4,
          3,
          8,
          7,
          17,
          9,
          15,
          6,
          5,
          9,
          3,
          4,
          15,
          8,
          1,
          15,
          11,
          4,
          17,
          18,
          17,
          17,
          4,
          3,
          6,
          14,
          5,
          11,
          15,
          4,
          11,
          2,
          18,
          10,
          8,
          1,
          2,
          1,
          2,
          2,
          5,
          1,
          2,
          12,
          3,
          13,
          9,
          3,
          3,
          10,
          10,
          10,
          2,
          10,
          3,
          14,
          1,
          3,
          8,
          12,
          14,
          15,
          6,
          7,
          14,
          4,
          4,
          16,
          6,
          10,
          7,
          1,
          11,
          12,
          9,
          13,
          10,
          14,
          12,
          15,
          3,
          8,
          18,
          3,
          8,
          15,
          4,
          5,
          8,
          7,
          2,
          1,
          14,
          7,
          14,
          4,
          14,
          18,
          1,
          2,
          12,
          2,
          7,
          4,
          3,
          16,
          14,
          9,
          1,
          4,
          13,
          5,
          9,
          7,
          2,
          14,
          12,
          8,
          16,
          17,
          8,
          13,
          7,
          15,
          5,
          3,
          3,
          14,
          4,
          16,
          3,
          12,
          15,
          15,
          9,
          11,
          5,
          10,
          14,
          3,
          5,
          10,
          3,
          13,
          5,
          6,
          17,
          5,
          4,
          13,
          5,
          4,
          14,
          18,
          15,
          4,
          2,
          14,
          16,
          6,
          1,
          6,
          15,
          1,
          2,
          8,
          16,
          2,
          5,
          12,
          6,
          7,
          10,
          3,
          16,
          11,
          17,
          8,
          3,
          8,
          14,
          11,
          6,
          13,
          11,
          16,
          16,
          7,
          8,
          5,
          6,
          6,
          17,
          3,
          10,
          13,
          8,
          14,
          14,
          17,
          14,
          11,
          7,
          8,
          18,
          7,
          6,
          2,
          17,
          13,
          12,
          14
         ],
         "xaxis": "x",
         "yaxis": "y"
        },
        {
         "alignmentgroup": "True",
         "hovertemplate": "consultant_doctor_experience=%{x}<extra></extra>",
         "legendgroup": "",
         "marker": {
          "color": "#636efa"
         },
         "name": "",
         "notched": true,
         "offsetgroup": "",
         "showlegend": false,
         "type": "box",
         "x": [
          3,
          16,
          14,
          9,
          1,
          4,
          13,
          5,
          9,
          7,
          2,
          14,
          12,
          8,
          16,
          17,
          8,
          13,
          7,
          15,
          5,
          3,
          3,
          14,
          4,
          16,
          3,
          12,
          15,
          15,
          9,
          11,
          5,
          10,
          14,
          3,
          5,
          10,
          3,
          13,
          5,
          6,
          17,
          5,
          4,
          13,
          5,
          4,
          14,
          18,
          15,
          4,
          2,
          14,
          16,
          6,
          1,
          6,
          15,
          1,
          2,
          8,
          16,
          2,
          5,
          12,
          6,
          7,
          10,
          3,
          16,
          11,
          17,
          8,
          3,
          8,
          14,
          11,
          6,
          13,
          11,
          16,
          16,
          7,
          8,
          5,
          6,
          6,
          17,
          3,
          10,
          13,
          8,
          14,
          14,
          17,
          14,
          11,
          7,
          8,
          18,
          7,
          6,
          2,
          17,
          13,
          12,
          14,
          6,
          4,
          3,
          8,
          7,
          17,
          9,
          15,
          6,
          5,
          9,
          3,
          4,
          15,
          8,
          1,
          15,
          11,
          4,
          17,
          18,
          17,
          17,
          4,
          3,
          6,
          14,
          5,
          11,
          15,
          4,
          11,
          2,
          18,
          10,
          8,
          1,
          2,
          1,
          2,
          2,
          5,
          1,
          2,
          12,
          3,
          13,
          9,
          3,
          3,
          10,
          10,
          10,
          2,
          10,
          3,
          14,
          1,
          3,
          8,
          12,
          14,
          15,
          6,
          7,
          14,
          4,
          4,
          16,
          6,
          10,
          7,
          1,
          11,
          12,
          9,
          13,
          10,
          14,
          12,
          15,
          3,
          8,
          18,
          3,
          8,
          15,
          4,
          5,
          8,
          7,
          3,
          16,
          14,
          9,
          1,
          4,
          13,
          5,
          9,
          7,
          2,
          14,
          12,
          8,
          16,
          17,
          8,
          13,
          7,
          15,
          5,
          3,
          3,
          14,
          4,
          16,
          3,
          12,
          15,
          15,
          9,
          11,
          5,
          10,
          14,
          3,
          5,
          10,
          3,
          13,
          5,
          6,
          17,
          5,
          4,
          13,
          5,
          4,
          14,
          18,
          15,
          4,
          2,
          14,
          16,
          6,
          1,
          6,
          15,
          1,
          2,
          8,
          16,
          2,
          5,
          12,
          6,
          7,
          10,
          3,
          16,
          11,
          17,
          8,
          3,
          8,
          14,
          11,
          6,
          13,
          11,
          16,
          16,
          7,
          8,
          5,
          6,
          6,
          17,
          3,
          10,
          13,
          8,
          14,
          14,
          17,
          14,
          11,
          7,
          8,
          18,
          7,
          6,
          2,
          17,
          13,
          12,
          14,
          6,
          4,
          3,
          8,
          7,
          17,
          9,
          15,
          6,
          5,
          9,
          3,
          4,
          15,
          8,
          1,
          15,
          11,
          4,
          17,
          18,
          17,
          17,
          4,
          3,
          6,
          14,
          5,
          11,
          15,
          4,
          11,
          2,
          18,
          10,
          8,
          1,
          2,
          1,
          2,
          2,
          5,
          1,
          2,
          12,
          3,
          13,
          9,
          3,
          3,
          10,
          10,
          10,
          2,
          10,
          3,
          14,
          1,
          3,
          8,
          12,
          14,
          15,
          6,
          7,
          14,
          4,
          4,
          16,
          6,
          10,
          7,
          1,
          11,
          12,
          9,
          13,
          10,
          14,
          12,
          15,
          3,
          8,
          18,
          3,
          8,
          15,
          4,
          5,
          8,
          7,
          2,
          1,
          14,
          7,
          14,
          4,
          14,
          18,
          1,
          2,
          12,
          2,
          7,
          4,
          3,
          16,
          14,
          9,
          1,
          4,
          13,
          5,
          9,
          7,
          2,
          14,
          12,
          8,
          16,
          17,
          8,
          13,
          7,
          15,
          5,
          3,
          3,
          14,
          4,
          16,
          3,
          12,
          15,
          15,
          9,
          11,
          5,
          10,
          14,
          3,
          5,
          10,
          3,
          13,
          5,
          6,
          17,
          5,
          4,
          13,
          5,
          4,
          14,
          18,
          15,
          4,
          2,
          14,
          16,
          6,
          1,
          6,
          15,
          1,
          2,
          8,
          16,
          2,
          5,
          12,
          6,
          7,
          10,
          3,
          16,
          11,
          17,
          8,
          3,
          8,
          14,
          11,
          6,
          13,
          11,
          16,
          16,
          7,
          8,
          5,
          6,
          6,
          17,
          3,
          10,
          13,
          8,
          14,
          14,
          17,
          14,
          11,
          7,
          8,
          18,
          7,
          6,
          2,
          17,
          13,
          12,
          14
         ],
         "xaxis": "x2",
         "yaxis": "y2"
        }
       ],
       "layout": {
        "barmode": "relative",
        "legend": {
         "tracegroupgap": 0
        },
        "margin": {
         "t": 60
        },
        "template": {
         "data": {
          "bar": [
           {
            "error_x": {
             "color": "#2a3f5f"
            },
            "error_y": {
             "color": "#2a3f5f"
            },
            "marker": {
             "line": {
              "color": "#E5ECF6",
              "width": 0.5
             },
             "pattern": {
              "fillmode": "overlay",
              "size": 10,
              "solidity": 0.2
             }
            },
            "type": "bar"
           }
          ],
          "barpolar": [
           {
            "marker": {
             "line": {
              "color": "#E5ECF6",
              "width": 0.5
             },
             "pattern": {
              "fillmode": "overlay",
              "size": 10,
              "solidity": 0.2
             }
            },
            "type": "barpolar"
           }
          ],
          "carpet": [
           {
            "aaxis": {
             "endlinecolor": "#2a3f5f",
             "gridcolor": "white",
             "linecolor": "white",
             "minorgridcolor": "white",
             "startlinecolor": "#2a3f5f"
            },
            "baxis": {
             "endlinecolor": "#2a3f5f",
             "gridcolor": "white",
             "linecolor": "white",
             "minorgridcolor": "white",
             "startlinecolor": "#2a3f5f"
            },
            "type": "carpet"
           }
          ],
          "choropleth": [
           {
            "colorbar": {
             "outlinewidth": 0,
             "ticks": ""
            },
            "type": "choropleth"
           }
          ],
          "contour": [
           {
            "colorbar": {
             "outlinewidth": 0,
             "ticks": ""
            },
            "colorscale": [
             [
              0,
              "#0d0887"
             ],
             [
              0.1111111111111111,
              "#46039f"
             ],
             [
              0.2222222222222222,
              "#7201a8"
             ],
             [
              0.3333333333333333,
              "#9c179e"
             ],
             [
              0.4444444444444444,
              "#bd3786"
             ],
             [
              0.5555555555555556,
              "#d8576b"
             ],
             [
              0.6666666666666666,
              "#ed7953"
             ],
             [
              0.7777777777777778,
              "#fb9f3a"
             ],
             [
              0.8888888888888888,
              "#fdca26"
             ],
             [
              1,
              "#f0f921"
             ]
            ],
            "type": "contour"
           }
          ],
          "contourcarpet": [
           {
            "colorbar": {
             "outlinewidth": 0,
             "ticks": ""
            },
            "type": "contourcarpet"
           }
          ],
          "heatmap": [
           {
            "colorbar": {
             "outlinewidth": 0,
             "ticks": ""
            },
            "colorscale": [
             [
              0,
              "#0d0887"
             ],
             [
              0.1111111111111111,
              "#46039f"
             ],
             [
              0.2222222222222222,
              "#7201a8"
             ],
             [
              0.3333333333333333,
              "#9c179e"
             ],
             [
              0.4444444444444444,
              "#bd3786"
             ],
             [
              0.5555555555555556,
              "#d8576b"
             ],
             [
              0.6666666666666666,
              "#ed7953"
             ],
             [
              0.7777777777777778,
              "#fb9f3a"
             ],
             [
              0.8888888888888888,
              "#fdca26"
             ],
             [
              1,
              "#f0f921"
             ]
            ],
            "type": "heatmap"
           }
          ],
          "heatmapgl": [
           {
            "colorbar": {
             "outlinewidth": 0,
             "ticks": ""
            },
            "colorscale": [
             [
              0,
              "#0d0887"
             ],
             [
              0.1111111111111111,
              "#46039f"
             ],
             [
              0.2222222222222222,
              "#7201a8"
             ],
             [
              0.3333333333333333,
              "#9c179e"
             ],
             [
              0.4444444444444444,
              "#bd3786"
             ],
             [
              0.5555555555555556,
              "#d8576b"
             ],
             [
              0.6666666666666666,
              "#ed7953"
             ],
             [
              0.7777777777777778,
              "#fb9f3a"
             ],
             [
              0.8888888888888888,
              "#fdca26"
             ],
             [
              1,
              "#f0f921"
             ]
            ],
            "type": "heatmapgl"
           }
          ],
          "histogram": [
           {
            "marker": {
             "pattern": {
              "fillmode": "overlay",
              "size": 10,
              "solidity": 0.2
             }
            },
            "type": "histogram"
           }
          ],
          "histogram2d": [
           {
            "colorbar": {
             "outlinewidth": 0,
             "ticks": ""
            },
            "colorscale": [
             [
              0,
              "#0d0887"
             ],
             [
              0.1111111111111111,
              "#46039f"
             ],
             [
              0.2222222222222222,
              "#7201a8"
             ],
             [
              0.3333333333333333,
              "#9c179e"
             ],
             [
              0.4444444444444444,
              "#bd3786"
             ],
             [
              0.5555555555555556,
              "#d8576b"
             ],
             [
              0.6666666666666666,
              "#ed7953"
             ],
             [
              0.7777777777777778,
              "#fb9f3a"
             ],
             [
              0.8888888888888888,
              "#fdca26"
             ],
             [
              1,
              "#f0f921"
             ]
            ],
            "type": "histogram2d"
           }
          ],
          "histogram2dcontour": [
           {
            "colorbar": {
             "outlinewidth": 0,
             "ticks": ""
            },
            "colorscale": [
             [
              0,
              "#0d0887"
             ],
             [
              0.1111111111111111,
              "#46039f"
             ],
             [
              0.2222222222222222,
              "#7201a8"
             ],
             [
              0.3333333333333333,
              "#9c179e"
             ],
             [
              0.4444444444444444,
              "#bd3786"
             ],
             [
              0.5555555555555556,
              "#d8576b"
             ],
             [
              0.6666666666666666,
              "#ed7953"
             ],
             [
              0.7777777777777778,
              "#fb9f3a"
             ],
             [
              0.8888888888888888,
              "#fdca26"
             ],
             [
              1,
              "#f0f921"
             ]
            ],
            "type": "histogram2dcontour"
           }
          ],
          "mesh3d": [
           {
            "colorbar": {
             "outlinewidth": 0,
             "ticks": ""
            },
            "type": "mesh3d"
           }
          ],
          "parcoords": [
           {
            "line": {
             "colorbar": {
              "outlinewidth": 0,
              "ticks": ""
             }
            },
            "type": "parcoords"
           }
          ],
          "pie": [
           {
            "automargin": true,
            "type": "pie"
           }
          ],
          "scatter": [
           {
            "fillpattern": {
             "fillmode": "overlay",
             "size": 10,
             "solidity": 0.2
            },
            "type": "scatter"
           }
          ],
          "scatter3d": [
           {
            "line": {
             "colorbar": {
              "outlinewidth": 0,
              "ticks": ""
             }
            },
            "marker": {
             "colorbar": {
              "outlinewidth": 0,
              "ticks": ""
             }
            },
            "type": "scatter3d"
           }
          ],
          "scattercarpet": [
           {
            "marker": {
             "colorbar": {
              "outlinewidth": 0,
              "ticks": ""
             }
            },
            "type": "scattercarpet"
           }
          ],
          "scattergeo": [
           {
            "marker": {
             "colorbar": {
              "outlinewidth": 0,
              "ticks": ""
             }
            },
            "type": "scattergeo"
           }
          ],
          "scattergl": [
           {
            "marker": {
             "colorbar": {
              "outlinewidth": 0,
              "ticks": ""
             }
            },
            "type": "scattergl"
           }
          ],
          "scattermapbox": [
           {
            "marker": {
             "colorbar": {
              "outlinewidth": 0,
              "ticks": ""
             }
            },
            "type": "scattermapbox"
           }
          ],
          "scatterpolar": [
           {
            "marker": {
             "colorbar": {
              "outlinewidth": 0,
              "ticks": ""
             }
            },
            "type": "scatterpolar"
           }
          ],
          "scatterpolargl": [
           {
            "marker": {
             "colorbar": {
              "outlinewidth": 0,
              "ticks": ""
             }
            },
            "type": "scatterpolargl"
           }
          ],
          "scatterternary": [
           {
            "marker": {
             "colorbar": {
              "outlinewidth": 0,
              "ticks": ""
             }
            },
            "type": "scatterternary"
           }
          ],
          "surface": [
           {
            "colorbar": {
             "outlinewidth": 0,
             "ticks": ""
            },
            "colorscale": [
             [
              0,
              "#0d0887"
             ],
             [
              0.1111111111111111,
              "#46039f"
             ],
             [
              0.2222222222222222,
              "#7201a8"
             ],
             [
              0.3333333333333333,
              "#9c179e"
             ],
             [
              0.4444444444444444,
              "#bd3786"
             ],
             [
              0.5555555555555556,
              "#d8576b"
             ],
             [
              0.6666666666666666,
              "#ed7953"
             ],
             [
              0.7777777777777778,
              "#fb9f3a"
             ],
             [
              0.8888888888888888,
              "#fdca26"
             ],
             [
              1,
              "#f0f921"
             ]
            ],
            "type": "surface"
           }
          ],
          "table": [
           {
            "cells": {
             "fill": {
              "color": "#EBF0F8"
             },
             "line": {
              "color": "white"
             }
            },
            "header": {
             "fill": {
              "color": "#C8D4E3"
             },
             "line": {
              "color": "white"
             }
            },
            "type": "table"
           }
          ]
         },
         "layout": {
          "annotationdefaults": {
           "arrowcolor": "#2a3f5f",
           "arrowhead": 0,
           "arrowwidth": 1
          },
          "autotypenumbers": "strict",
          "coloraxis": {
           "colorbar": {
            "outlinewidth": 0,
            "ticks": ""
           }
          },
          "colorscale": {
           "diverging": [
            [
             0,
             "#8e0152"
            ],
            [
             0.1,
             "#c51b7d"
            ],
            [
             0.2,
             "#de77ae"
            ],
            [
             0.3,
             "#f1b6da"
            ],
            [
             0.4,
             "#fde0ef"
            ],
            [
             0.5,
             "#f7f7f7"
            ],
            [
             0.6,
             "#e6f5d0"
            ],
            [
             0.7,
             "#b8e186"
            ],
            [
             0.8,
             "#7fbc41"
            ],
            [
             0.9,
             "#4d9221"
            ],
            [
             1,
             "#276419"
            ]
           ],
           "sequential": [
            [
             0,
             "#0d0887"
            ],
            [
             0.1111111111111111,
             "#46039f"
            ],
            [
             0.2222222222222222,
             "#7201a8"
            ],
            [
             0.3333333333333333,
             "#9c179e"
            ],
            [
             0.4444444444444444,
             "#bd3786"
            ],
            [
             0.5555555555555556,
             "#d8576b"
            ],
            [
             0.6666666666666666,
             "#ed7953"
            ],
            [
             0.7777777777777778,
             "#fb9f3a"
            ],
            [
             0.8888888888888888,
             "#fdca26"
            ],
            [
             1,
             "#f0f921"
            ]
           ],
           "sequentialminus": [
            [
             0,
             "#0d0887"
            ],
            [
             0.1111111111111111,
             "#46039f"
            ],
            [
             0.2222222222222222,
             "#7201a8"
            ],
            [
             0.3333333333333333,
             "#9c179e"
            ],
            [
             0.4444444444444444,
             "#bd3786"
            ],
            [
             0.5555555555555556,
             "#d8576b"
            ],
            [
             0.6666666666666666,
             "#ed7953"
            ],
            [
             0.7777777777777778,
             "#fb9f3a"
            ],
            [
             0.8888888888888888,
             "#fdca26"
            ],
            [
             1,
             "#f0f921"
            ]
           ]
          },
          "colorway": [
           "#636efa",
           "#EF553B",
           "#00cc96",
           "#ab63fa",
           "#FFA15A",
           "#19d3f3",
           "#FF6692",
           "#B6E880",
           "#FF97FF",
           "#FECB52"
          ],
          "font": {
           "color": "#2a3f5f"
          },
          "geo": {
           "bgcolor": "white",
           "lakecolor": "white",
           "landcolor": "#E5ECF6",
           "showlakes": true,
           "showland": true,
           "subunitcolor": "white"
          },
          "hoverlabel": {
           "align": "left"
          },
          "hovermode": "closest",
          "mapbox": {
           "style": "light"
          },
          "paper_bgcolor": "white",
          "plot_bgcolor": "#E5ECF6",
          "polar": {
           "angularaxis": {
            "gridcolor": "white",
            "linecolor": "white",
            "ticks": ""
           },
           "bgcolor": "#E5ECF6",
           "radialaxis": {
            "gridcolor": "white",
            "linecolor": "white",
            "ticks": ""
           }
          },
          "scene": {
           "xaxis": {
            "backgroundcolor": "#E5ECF6",
            "gridcolor": "white",
            "gridwidth": 2,
            "linecolor": "white",
            "showbackground": true,
            "ticks": "",
            "zerolinecolor": "white"
           },
           "yaxis": {
            "backgroundcolor": "#E5ECF6",
            "gridcolor": "white",
            "gridwidth": 2,
            "linecolor": "white",
            "showbackground": true,
            "ticks": "",
            "zerolinecolor": "white"
           },
           "zaxis": {
            "backgroundcolor": "#E5ECF6",
            "gridcolor": "white",
            "gridwidth": 2,
            "linecolor": "white",
            "showbackground": true,
            "ticks": "",
            "zerolinecolor": "white"
           }
          },
          "shapedefaults": {
           "line": {
            "color": "#2a3f5f"
           }
          },
          "ternary": {
           "aaxis": {
            "gridcolor": "white",
            "linecolor": "white",
            "ticks": ""
           },
           "baxis": {
            "gridcolor": "white",
            "linecolor": "white",
            "ticks": ""
           },
           "bgcolor": "#E5ECF6",
           "caxis": {
            "gridcolor": "white",
            "linecolor": "white",
            "ticks": ""
           }
          },
          "title": {
           "x": 0.05
          },
          "xaxis": {
           "automargin": true,
           "gridcolor": "white",
           "linecolor": "white",
           "ticks": "",
           "title": {
            "standoff": 15
           },
           "zerolinecolor": "white",
           "zerolinewidth": 2
          },
          "yaxis": {
           "automargin": true,
           "gridcolor": "white",
           "linecolor": "white",
           "ticks": "",
           "title": {
            "standoff": 15
           },
           "zerolinecolor": "white",
           "zerolinewidth": 2
          }
         }
        },
        "xaxis": {
         "anchor": "y",
         "domain": [
          0,
          1
         ],
         "title": {
          "text": "consultant_doctor_experience"
         }
        },
        "xaxis2": {
         "anchor": "y2",
         "domain": [
          0,
          1
         ],
         "matches": "x",
         "showgrid": true,
         "showticklabels": false
        },
        "yaxis": {
         "anchor": "x",
         "domain": [
          0,
          0.8316
         ],
         "title": {
          "text": "count"
         }
        },
        "yaxis2": {
         "anchor": "x2",
         "domain": [
          0.8416,
          1
         ],
         "matches": "y2",
         "showgrid": false,
         "showline": false,
         "showticklabels": false,
         "ticks": ""
        }
       }
      }
     },
     "metadata": {},
     "output_type": "display_data"
    }
   ],
   "source": [
    "px.histogram(simulated_dataframe, x=\"consultant_doctor_experience\", marginal=\"box\")"
   ]
  },
  {
   "cell_type": "code",
   "execution_count": 1557,
   "metadata": {},
   "outputs": [
    {
     "data": {
      "application/vnd.plotly.v1+json": {
       "config": {
        "plotlyServerURL": "https://plot.ly"
       },
       "data": [
        {
         "alignmentgroup": "True",
         "bingroup": "x",
         "hovertemplate": "patient_age=%{x}<br>count=%{y}<extra></extra>",
         "legendgroup": "",
         "marker": {
          "color": "#636efa",
          "pattern": {
           "shape": ""
          }
         },
         "name": "",
         "offsetgroup": "",
         "orientation": "v",
         "showlegend": false,
         "type": "histogram",
         "x": [
          29,
          12,
          35,
          25,
          39,
          12,
          15,
          23,
          26,
          13,
          12,
          11,
          21,
          30,
          27,
          16,
          37,
          30,
          21,
          15,
          31,
          31,
          28,
          26,
          18,
          29,
          15,
          16,
          21,
          22,
          15,
          40,
          25,
          26,
          20,
          38,
          15,
          24,
          28,
          36,
          26,
          27,
          13,
          37,
          15,
          24,
          18,
          13,
          16,
          29,
          21,
          20,
          22,
          15,
          29,
          21,
          39,
          18,
          38,
          15,
          15,
          28,
          40,
          33,
          15,
          12,
          35,
          23,
          13,
          16,
          37,
          21,
          20,
          37,
          32,
          19,
          39,
          29,
          40,
          32,
          25,
          33,
          38,
          35,
          34,
          20,
          25,
          37,
          23,
          22,
          14,
          21,
          32,
          20,
          29,
          15,
          11,
          17,
          31,
          21,
          32,
          26,
          16,
          26,
          32,
          12,
          20,
          22,
          35,
          13,
          18,
          32,
          36,
          20,
          13,
          38,
          29,
          40,
          19,
          16,
          11,
          14,
          31,
          10,
          15,
          33,
          25,
          15,
          36,
          37,
          29,
          13,
          39,
          15,
          16,
          37,
          29,
          29,
          30,
          24,
          16,
          10,
          29,
          16,
          20,
          16,
          26,
          39,
          22,
          33,
          32,
          30,
          36,
          17,
          39,
          25,
          17,
          16,
          12,
          28,
          24,
          24,
          12,
          40,
          39,
          23,
          15,
          21,
          35,
          24,
          31,
          23,
          37,
          12,
          37,
          15,
          38,
          29,
          38,
          18,
          37,
          33,
          15,
          18,
          15,
          22,
          19,
          29,
          12,
          38,
          15,
          39,
          19,
          18,
          20,
          36,
          14,
          23,
          23,
          18,
          17,
          36,
          15,
          35,
          35,
          33,
          20,
          23,
          35,
          17,
          37,
          29,
          30,
          33,
          27,
          31,
          15,
          31,
          15,
          33,
          22,
          32,
          32,
          29,
          14,
          20,
          12,
          26,
          36,
          25,
          31,
          14,
          16,
          30,
          28,
          18,
          35,
          14,
          37,
          18,
          29,
          16,
          20,
          21,
          36,
          11,
          20,
          19,
          15,
          15,
          17,
          32,
          39,
          21,
          16,
          29,
          16,
          23,
          27,
          16,
          35,
          36,
          37,
          31,
          39,
          17,
          28,
          34,
          19,
          30,
          23,
          36,
          26,
          11,
          35,
          31,
          38,
          13,
          35,
          30,
          12,
          16,
          32,
          33,
          28,
          38,
          38,
          13,
          24,
          27,
          39,
          37,
          17,
          26,
          40,
          14,
          28,
          31,
          30,
          18,
          28,
          20,
          35,
          18,
          15,
          12,
          25,
          32,
          35,
          24,
          28,
          19,
          27,
          12,
          22,
          26,
          16,
          20,
          38,
          37,
          31,
          15,
          37,
          10,
          20,
          14,
          20,
          20,
          31,
          17,
          16,
          32,
          20,
          15,
          34,
          25,
          37,
          31,
          11,
          15,
          35,
          33,
          29,
          13,
          14,
          20,
          35,
          33,
          20,
          35,
          12,
          16,
          25,
          27,
          16,
          40,
          10,
          21,
          18,
          29,
          37,
          37,
          17,
          39,
          15,
          37,
          17,
          33,
          37,
          25,
          32,
          33,
          31,
          32,
          36,
          27,
          17,
          31,
          23,
          22,
          33,
          16,
          14,
          32,
          22,
          18,
          32,
          35,
          40,
          21,
          38,
          18,
          37,
          29,
          21,
          28,
          29,
          20,
          15,
          29,
          33,
          13,
          38,
          20,
          15,
          15,
          16,
          29,
          36,
          30,
          12,
          14,
          18,
          12,
          24,
          24,
          37,
          15,
          22,
          20,
          21,
          37,
          19,
          29,
          28,
          35,
          24,
          15,
          30,
          35,
          18,
          30,
          38,
          21,
          19,
          39,
          23,
          12,
          16,
          32,
          31,
          16,
          18,
          19,
          28,
          33,
          11,
          37,
          20,
          13,
          24,
          20,
          26,
          15,
          10,
          25,
          17,
          15,
          36,
          15,
          31,
          12,
          37,
          12,
          29,
          10,
          15,
          10,
          29,
          35,
          35,
          27,
          25,
          22,
          15,
          20,
          30,
          20,
          18,
          35,
          37,
          37,
          21,
          30,
          36,
          22,
          39,
          36,
          36,
          16,
          29,
          13,
          11,
          14,
          33,
          39,
          39,
          21,
          35,
          36,
          35,
          17,
          20,
          12,
          20,
          19,
          20,
          16,
          32,
          31,
          29,
          25,
          32,
          27,
          27,
          24,
          19,
          15,
          29,
          10
         ],
         "xaxis": "x",
         "yaxis": "y"
        },
        {
         "alignmentgroup": "True",
         "hovertemplate": "patient_age=%{x}<extra></extra>",
         "legendgroup": "",
         "marker": {
          "color": "#636efa"
         },
         "name": "",
         "notched": true,
         "offsetgroup": "",
         "showlegend": false,
         "type": "box",
         "x": [
          29,
          12,
          35,
          25,
          39,
          12,
          15,
          23,
          26,
          13,
          12,
          11,
          21,
          30,
          27,
          16,
          37,
          30,
          21,
          15,
          31,
          31,
          28,
          26,
          18,
          29,
          15,
          16,
          21,
          22,
          15,
          40,
          25,
          26,
          20,
          38,
          15,
          24,
          28,
          36,
          26,
          27,
          13,
          37,
          15,
          24,
          18,
          13,
          16,
          29,
          21,
          20,
          22,
          15,
          29,
          21,
          39,
          18,
          38,
          15,
          15,
          28,
          40,
          33,
          15,
          12,
          35,
          23,
          13,
          16,
          37,
          21,
          20,
          37,
          32,
          19,
          39,
          29,
          40,
          32,
          25,
          33,
          38,
          35,
          34,
          20,
          25,
          37,
          23,
          22,
          14,
          21,
          32,
          20,
          29,
          15,
          11,
          17,
          31,
          21,
          32,
          26,
          16,
          26,
          32,
          12,
          20,
          22,
          35,
          13,
          18,
          32,
          36,
          20,
          13,
          38,
          29,
          40,
          19,
          16,
          11,
          14,
          31,
          10,
          15,
          33,
          25,
          15,
          36,
          37,
          29,
          13,
          39,
          15,
          16,
          37,
          29,
          29,
          30,
          24,
          16,
          10,
          29,
          16,
          20,
          16,
          26,
          39,
          22,
          33,
          32,
          30,
          36,
          17,
          39,
          25,
          17,
          16,
          12,
          28,
          24,
          24,
          12,
          40,
          39,
          23,
          15,
          21,
          35,
          24,
          31,
          23,
          37,
          12,
          37,
          15,
          38,
          29,
          38,
          18,
          37,
          33,
          15,
          18,
          15,
          22,
          19,
          29,
          12,
          38,
          15,
          39,
          19,
          18,
          20,
          36,
          14,
          23,
          23,
          18,
          17,
          36,
          15,
          35,
          35,
          33,
          20,
          23,
          35,
          17,
          37,
          29,
          30,
          33,
          27,
          31,
          15,
          31,
          15,
          33,
          22,
          32,
          32,
          29,
          14,
          20,
          12,
          26,
          36,
          25,
          31,
          14,
          16,
          30,
          28,
          18,
          35,
          14,
          37,
          18,
          29,
          16,
          20,
          21,
          36,
          11,
          20,
          19,
          15,
          15,
          17,
          32,
          39,
          21,
          16,
          29,
          16,
          23,
          27,
          16,
          35,
          36,
          37,
          31,
          39,
          17,
          28,
          34,
          19,
          30,
          23,
          36,
          26,
          11,
          35,
          31,
          38,
          13,
          35,
          30,
          12,
          16,
          32,
          33,
          28,
          38,
          38,
          13,
          24,
          27,
          39,
          37,
          17,
          26,
          40,
          14,
          28,
          31,
          30,
          18,
          28,
          20,
          35,
          18,
          15,
          12,
          25,
          32,
          35,
          24,
          28,
          19,
          27,
          12,
          22,
          26,
          16,
          20,
          38,
          37,
          31,
          15,
          37,
          10,
          20,
          14,
          20,
          20,
          31,
          17,
          16,
          32,
          20,
          15,
          34,
          25,
          37,
          31,
          11,
          15,
          35,
          33,
          29,
          13,
          14,
          20,
          35,
          33,
          20,
          35,
          12,
          16,
          25,
          27,
          16,
          40,
          10,
          21,
          18,
          29,
          37,
          37,
          17,
          39,
          15,
          37,
          17,
          33,
          37,
          25,
          32,
          33,
          31,
          32,
          36,
          27,
          17,
          31,
          23,
          22,
          33,
          16,
          14,
          32,
          22,
          18,
          32,
          35,
          40,
          21,
          38,
          18,
          37,
          29,
          21,
          28,
          29,
          20,
          15,
          29,
          33,
          13,
          38,
          20,
          15,
          15,
          16,
          29,
          36,
          30,
          12,
          14,
          18,
          12,
          24,
          24,
          37,
          15,
          22,
          20,
          21,
          37,
          19,
          29,
          28,
          35,
          24,
          15,
          30,
          35,
          18,
          30,
          38,
          21,
          19,
          39,
          23,
          12,
          16,
          32,
          31,
          16,
          18,
          19,
          28,
          33,
          11,
          37,
          20,
          13,
          24,
          20,
          26,
          15,
          10,
          25,
          17,
          15,
          36,
          15,
          31,
          12,
          37,
          12,
          29,
          10,
          15,
          10,
          29,
          35,
          35,
          27,
          25,
          22,
          15,
          20,
          30,
          20,
          18,
          35,
          37,
          37,
          21,
          30,
          36,
          22,
          39,
          36,
          36,
          16,
          29,
          13,
          11,
          14,
          33,
          39,
          39,
          21,
          35,
          36,
          35,
          17,
          20,
          12,
          20,
          19,
          20,
          16,
          32,
          31,
          29,
          25,
          32,
          27,
          27,
          24,
          19,
          15,
          29,
          10
         ],
         "xaxis": "x2",
         "yaxis": "y2"
        }
       ],
       "layout": {
        "barmode": "relative",
        "legend": {
         "tracegroupgap": 0
        },
        "margin": {
         "t": 60
        },
        "template": {
         "data": {
          "bar": [
           {
            "error_x": {
             "color": "#2a3f5f"
            },
            "error_y": {
             "color": "#2a3f5f"
            },
            "marker": {
             "line": {
              "color": "#E5ECF6",
              "width": 0.5
             },
             "pattern": {
              "fillmode": "overlay",
              "size": 10,
              "solidity": 0.2
             }
            },
            "type": "bar"
           }
          ],
          "barpolar": [
           {
            "marker": {
             "line": {
              "color": "#E5ECF6",
              "width": 0.5
             },
             "pattern": {
              "fillmode": "overlay",
              "size": 10,
              "solidity": 0.2
             }
            },
            "type": "barpolar"
           }
          ],
          "carpet": [
           {
            "aaxis": {
             "endlinecolor": "#2a3f5f",
             "gridcolor": "white",
             "linecolor": "white",
             "minorgridcolor": "white",
             "startlinecolor": "#2a3f5f"
            },
            "baxis": {
             "endlinecolor": "#2a3f5f",
             "gridcolor": "white",
             "linecolor": "white",
             "minorgridcolor": "white",
             "startlinecolor": "#2a3f5f"
            },
            "type": "carpet"
           }
          ],
          "choropleth": [
           {
            "colorbar": {
             "outlinewidth": 0,
             "ticks": ""
            },
            "type": "choropleth"
           }
          ],
          "contour": [
           {
            "colorbar": {
             "outlinewidth": 0,
             "ticks": ""
            },
            "colorscale": [
             [
              0,
              "#0d0887"
             ],
             [
              0.1111111111111111,
              "#46039f"
             ],
             [
              0.2222222222222222,
              "#7201a8"
             ],
             [
              0.3333333333333333,
              "#9c179e"
             ],
             [
              0.4444444444444444,
              "#bd3786"
             ],
             [
              0.5555555555555556,
              "#d8576b"
             ],
             [
              0.6666666666666666,
              "#ed7953"
             ],
             [
              0.7777777777777778,
              "#fb9f3a"
             ],
             [
              0.8888888888888888,
              "#fdca26"
             ],
             [
              1,
              "#f0f921"
             ]
            ],
            "type": "contour"
           }
          ],
          "contourcarpet": [
           {
            "colorbar": {
             "outlinewidth": 0,
             "ticks": ""
            },
            "type": "contourcarpet"
           }
          ],
          "heatmap": [
           {
            "colorbar": {
             "outlinewidth": 0,
             "ticks": ""
            },
            "colorscale": [
             [
              0,
              "#0d0887"
             ],
             [
              0.1111111111111111,
              "#46039f"
             ],
             [
              0.2222222222222222,
              "#7201a8"
             ],
             [
              0.3333333333333333,
              "#9c179e"
             ],
             [
              0.4444444444444444,
              "#bd3786"
             ],
             [
              0.5555555555555556,
              "#d8576b"
             ],
             [
              0.6666666666666666,
              "#ed7953"
             ],
             [
              0.7777777777777778,
              "#fb9f3a"
             ],
             [
              0.8888888888888888,
              "#fdca26"
             ],
             [
              1,
              "#f0f921"
             ]
            ],
            "type": "heatmap"
           }
          ],
          "heatmapgl": [
           {
            "colorbar": {
             "outlinewidth": 0,
             "ticks": ""
            },
            "colorscale": [
             [
              0,
              "#0d0887"
             ],
             [
              0.1111111111111111,
              "#46039f"
             ],
             [
              0.2222222222222222,
              "#7201a8"
             ],
             [
              0.3333333333333333,
              "#9c179e"
             ],
             [
              0.4444444444444444,
              "#bd3786"
             ],
             [
              0.5555555555555556,
              "#d8576b"
             ],
             [
              0.6666666666666666,
              "#ed7953"
             ],
             [
              0.7777777777777778,
              "#fb9f3a"
             ],
             [
              0.8888888888888888,
              "#fdca26"
             ],
             [
              1,
              "#f0f921"
             ]
            ],
            "type": "heatmapgl"
           }
          ],
          "histogram": [
           {
            "marker": {
             "pattern": {
              "fillmode": "overlay",
              "size": 10,
              "solidity": 0.2
             }
            },
            "type": "histogram"
           }
          ],
          "histogram2d": [
           {
            "colorbar": {
             "outlinewidth": 0,
             "ticks": ""
            },
            "colorscale": [
             [
              0,
              "#0d0887"
             ],
             [
              0.1111111111111111,
              "#46039f"
             ],
             [
              0.2222222222222222,
              "#7201a8"
             ],
             [
              0.3333333333333333,
              "#9c179e"
             ],
             [
              0.4444444444444444,
              "#bd3786"
             ],
             [
              0.5555555555555556,
              "#d8576b"
             ],
             [
              0.6666666666666666,
              "#ed7953"
             ],
             [
              0.7777777777777778,
              "#fb9f3a"
             ],
             [
              0.8888888888888888,
              "#fdca26"
             ],
             [
              1,
              "#f0f921"
             ]
            ],
            "type": "histogram2d"
           }
          ],
          "histogram2dcontour": [
           {
            "colorbar": {
             "outlinewidth": 0,
             "ticks": ""
            },
            "colorscale": [
             [
              0,
              "#0d0887"
             ],
             [
              0.1111111111111111,
              "#46039f"
             ],
             [
              0.2222222222222222,
              "#7201a8"
             ],
             [
              0.3333333333333333,
              "#9c179e"
             ],
             [
              0.4444444444444444,
              "#bd3786"
             ],
             [
              0.5555555555555556,
              "#d8576b"
             ],
             [
              0.6666666666666666,
              "#ed7953"
             ],
             [
              0.7777777777777778,
              "#fb9f3a"
             ],
             [
              0.8888888888888888,
              "#fdca26"
             ],
             [
              1,
              "#f0f921"
             ]
            ],
            "type": "histogram2dcontour"
           }
          ],
          "mesh3d": [
           {
            "colorbar": {
             "outlinewidth": 0,
             "ticks": ""
            },
            "type": "mesh3d"
           }
          ],
          "parcoords": [
           {
            "line": {
             "colorbar": {
              "outlinewidth": 0,
              "ticks": ""
             }
            },
            "type": "parcoords"
           }
          ],
          "pie": [
           {
            "automargin": true,
            "type": "pie"
           }
          ],
          "scatter": [
           {
            "fillpattern": {
             "fillmode": "overlay",
             "size": 10,
             "solidity": 0.2
            },
            "type": "scatter"
           }
          ],
          "scatter3d": [
           {
            "line": {
             "colorbar": {
              "outlinewidth": 0,
              "ticks": ""
             }
            },
            "marker": {
             "colorbar": {
              "outlinewidth": 0,
              "ticks": ""
             }
            },
            "type": "scatter3d"
           }
          ],
          "scattercarpet": [
           {
            "marker": {
             "colorbar": {
              "outlinewidth": 0,
              "ticks": ""
             }
            },
            "type": "scattercarpet"
           }
          ],
          "scattergeo": [
           {
            "marker": {
             "colorbar": {
              "outlinewidth": 0,
              "ticks": ""
             }
            },
            "type": "scattergeo"
           }
          ],
          "scattergl": [
           {
            "marker": {
             "colorbar": {
              "outlinewidth": 0,
              "ticks": ""
             }
            },
            "type": "scattergl"
           }
          ],
          "scattermapbox": [
           {
            "marker": {
             "colorbar": {
              "outlinewidth": 0,
              "ticks": ""
             }
            },
            "type": "scattermapbox"
           }
          ],
          "scatterpolar": [
           {
            "marker": {
             "colorbar": {
              "outlinewidth": 0,
              "ticks": ""
             }
            },
            "type": "scatterpolar"
           }
          ],
          "scatterpolargl": [
           {
            "marker": {
             "colorbar": {
              "outlinewidth": 0,
              "ticks": ""
             }
            },
            "type": "scatterpolargl"
           }
          ],
          "scatterternary": [
           {
            "marker": {
             "colorbar": {
              "outlinewidth": 0,
              "ticks": ""
             }
            },
            "type": "scatterternary"
           }
          ],
          "surface": [
           {
            "colorbar": {
             "outlinewidth": 0,
             "ticks": ""
            },
            "colorscale": [
             [
              0,
              "#0d0887"
             ],
             [
              0.1111111111111111,
              "#46039f"
             ],
             [
              0.2222222222222222,
              "#7201a8"
             ],
             [
              0.3333333333333333,
              "#9c179e"
             ],
             [
              0.4444444444444444,
              "#bd3786"
             ],
             [
              0.5555555555555556,
              "#d8576b"
             ],
             [
              0.6666666666666666,
              "#ed7953"
             ],
             [
              0.7777777777777778,
              "#fb9f3a"
             ],
             [
              0.8888888888888888,
              "#fdca26"
             ],
             [
              1,
              "#f0f921"
             ]
            ],
            "type": "surface"
           }
          ],
          "table": [
           {
            "cells": {
             "fill": {
              "color": "#EBF0F8"
             },
             "line": {
              "color": "white"
             }
            },
            "header": {
             "fill": {
              "color": "#C8D4E3"
             },
             "line": {
              "color": "white"
             }
            },
            "type": "table"
           }
          ]
         },
         "layout": {
          "annotationdefaults": {
           "arrowcolor": "#2a3f5f",
           "arrowhead": 0,
           "arrowwidth": 1
          },
          "autotypenumbers": "strict",
          "coloraxis": {
           "colorbar": {
            "outlinewidth": 0,
            "ticks": ""
           }
          },
          "colorscale": {
           "diverging": [
            [
             0,
             "#8e0152"
            ],
            [
             0.1,
             "#c51b7d"
            ],
            [
             0.2,
             "#de77ae"
            ],
            [
             0.3,
             "#f1b6da"
            ],
            [
             0.4,
             "#fde0ef"
            ],
            [
             0.5,
             "#f7f7f7"
            ],
            [
             0.6,
             "#e6f5d0"
            ],
            [
             0.7,
             "#b8e186"
            ],
            [
             0.8,
             "#7fbc41"
            ],
            [
             0.9,
             "#4d9221"
            ],
            [
             1,
             "#276419"
            ]
           ],
           "sequential": [
            [
             0,
             "#0d0887"
            ],
            [
             0.1111111111111111,
             "#46039f"
            ],
            [
             0.2222222222222222,
             "#7201a8"
            ],
            [
             0.3333333333333333,
             "#9c179e"
            ],
            [
             0.4444444444444444,
             "#bd3786"
            ],
            [
             0.5555555555555556,
             "#d8576b"
            ],
            [
             0.6666666666666666,
             "#ed7953"
            ],
            [
             0.7777777777777778,
             "#fb9f3a"
            ],
            [
             0.8888888888888888,
             "#fdca26"
            ],
            [
             1,
             "#f0f921"
            ]
           ],
           "sequentialminus": [
            [
             0,
             "#0d0887"
            ],
            [
             0.1111111111111111,
             "#46039f"
            ],
            [
             0.2222222222222222,
             "#7201a8"
            ],
            [
             0.3333333333333333,
             "#9c179e"
            ],
            [
             0.4444444444444444,
             "#bd3786"
            ],
            [
             0.5555555555555556,
             "#d8576b"
            ],
            [
             0.6666666666666666,
             "#ed7953"
            ],
            [
             0.7777777777777778,
             "#fb9f3a"
            ],
            [
             0.8888888888888888,
             "#fdca26"
            ],
            [
             1,
             "#f0f921"
            ]
           ]
          },
          "colorway": [
           "#636efa",
           "#EF553B",
           "#00cc96",
           "#ab63fa",
           "#FFA15A",
           "#19d3f3",
           "#FF6692",
           "#B6E880",
           "#FF97FF",
           "#FECB52"
          ],
          "font": {
           "color": "#2a3f5f"
          },
          "geo": {
           "bgcolor": "white",
           "lakecolor": "white",
           "landcolor": "#E5ECF6",
           "showlakes": true,
           "showland": true,
           "subunitcolor": "white"
          },
          "hoverlabel": {
           "align": "left"
          },
          "hovermode": "closest",
          "mapbox": {
           "style": "light"
          },
          "paper_bgcolor": "white",
          "plot_bgcolor": "#E5ECF6",
          "polar": {
           "angularaxis": {
            "gridcolor": "white",
            "linecolor": "white",
            "ticks": ""
           },
           "bgcolor": "#E5ECF6",
           "radialaxis": {
            "gridcolor": "white",
            "linecolor": "white",
            "ticks": ""
           }
          },
          "scene": {
           "xaxis": {
            "backgroundcolor": "#E5ECF6",
            "gridcolor": "white",
            "gridwidth": 2,
            "linecolor": "white",
            "showbackground": true,
            "ticks": "",
            "zerolinecolor": "white"
           },
           "yaxis": {
            "backgroundcolor": "#E5ECF6",
            "gridcolor": "white",
            "gridwidth": 2,
            "linecolor": "white",
            "showbackground": true,
            "ticks": "",
            "zerolinecolor": "white"
           },
           "zaxis": {
            "backgroundcolor": "#E5ECF6",
            "gridcolor": "white",
            "gridwidth": 2,
            "linecolor": "white",
            "showbackground": true,
            "ticks": "",
            "zerolinecolor": "white"
           }
          },
          "shapedefaults": {
           "line": {
            "color": "#2a3f5f"
           }
          },
          "ternary": {
           "aaxis": {
            "gridcolor": "white",
            "linecolor": "white",
            "ticks": ""
           },
           "baxis": {
            "gridcolor": "white",
            "linecolor": "white",
            "ticks": ""
           },
           "bgcolor": "#E5ECF6",
           "caxis": {
            "gridcolor": "white",
            "linecolor": "white",
            "ticks": ""
           }
          },
          "title": {
           "x": 0.05
          },
          "xaxis": {
           "automargin": true,
           "gridcolor": "white",
           "linecolor": "white",
           "ticks": "",
           "title": {
            "standoff": 15
           },
           "zerolinecolor": "white",
           "zerolinewidth": 2
          },
          "yaxis": {
           "automargin": true,
           "gridcolor": "white",
           "linecolor": "white",
           "ticks": "",
           "title": {
            "standoff": 15
           },
           "zerolinecolor": "white",
           "zerolinewidth": 2
          }
         }
        },
        "xaxis": {
         "anchor": "y",
         "domain": [
          0,
          1
         ],
         "title": {
          "text": "patient_age"
         }
        },
        "xaxis2": {
         "anchor": "y2",
         "domain": [
          0,
          1
         ],
         "matches": "x",
         "showgrid": true,
         "showticklabels": false
        },
        "yaxis": {
         "anchor": "x",
         "domain": [
          0,
          0.8316
         ],
         "title": {
          "text": "count"
         }
        },
        "yaxis2": {
         "anchor": "x2",
         "domain": [
          0.8416,
          1
         ],
         "matches": "y2",
         "showgrid": false,
         "showline": false,
         "showticklabels": false,
         "ticks": ""
        }
       }
      }
     },
     "metadata": {},
     "output_type": "display_data"
    }
   ],
   "source": [
    "px.histogram(simulated_dataframe, x=\"patient_age\", marginal=\"box\")"
   ]
  },
  {
   "attachments": {},
   "cell_type": "markdown",
   "metadata": {},
   "source": [
    "#### correlation"
   ]
  },
  {
   "cell_type": "code",
   "execution_count": 1558,
   "metadata": {},
   "outputs": [
    {
     "data": {
      "application/vnd.plotly.v1+json": {
       "config": {
        "plotlyServerURL": "https://plot.ly"
       },
       "data": [
        {
         "coloraxis": "coloraxis",
         "hovertemplate": "x: %{x}<br>y: %{y}<br>color: %{z}<extra></extra>",
         "name": "0",
         "texttemplate": "%{z}",
         "type": "heatmap",
         "x": [
          "consult_cost",
          "patient_num_of_children",
          "patient_num_of_dependents",
          "patient_age",
          "consultant_doctor_experience",
          "patient_anatomy_chest area",
          "patient_anatomy_head",
          "patient_anatomy_legs",
          "patient_anatomy_shoulder",
          "patient_anatomy_stomach",
          "patient_anatomy_upper chest area",
          "patient_consult_status_appointed session",
          "patient_consult_status_new consultation",
          "patient_consult_status_under appointment",
          "patient_community_suburban",
          "patient_community_urban",
          "patient_marital_status_Married",
          "patient_marital_status_Single",
          "patient_has_children_Yes",
          "patient_has_dependent_Yes",
          "patient_gender_Male"
         ],
         "xaxis": "x",
         "y": [
          "consult_cost",
          "patient_num_of_children",
          "patient_num_of_dependents",
          "patient_age",
          "consultant_doctor_experience",
          "patient_anatomy_chest area",
          "patient_anatomy_head",
          "patient_anatomy_legs",
          "patient_anatomy_shoulder",
          "patient_anatomy_stomach",
          "patient_anatomy_upper chest area",
          "patient_consult_status_appointed session",
          "patient_consult_status_new consultation",
          "patient_consult_status_under appointment",
          "patient_community_suburban",
          "patient_community_urban",
          "patient_marital_status_Married",
          "patient_marital_status_Single",
          "patient_has_children_Yes",
          "patient_has_dependent_Yes",
          "patient_gender_Male"
         ],
         "yaxis": "y",
         "z": [
          [
           1,
           -0.02899422753881196,
           0.01334534323409473,
           -0.001966152578392213,
           0.9925927325320587,
           0.0795028181795769,
           -0.016239895389895388,
           -0.12403725146039775,
           0.025916970497716574,
           -0.00913960040876377,
           0.013268721154940715,
           -0.03740029863930756,
           0.05850765133438557,
           -0.010640395199070094,
           -0.03810567028179052,
           0.010480404127996093,
           0.03613902260856775,
           0.02220379984157619,
           -0.01993137027621163,
           -0.017668279167318036,
           -0.02619598112115887
          ],
          [
           -0.02899422753881196,
           1,
           0.3852015597787667,
           0.027479255387307347,
           -0.03908370971971332,
           0.00912590326448352,
           0.05390430805940161,
           0.07476313604791159,
           -0.047053577712760634,
           -0.08701665386784385,
           0.0652780018018433,
           -0.006667114378225829,
           -0.01692013802155106,
           0.05176204205826385,
           0.11361872346669101,
           -0.08633952118181266,
           0.25593659900397864,
           -0.6446421237863352,
           -0.024159249823579695,
           -0.03300874691550848,
           0.08504237445928532
          ],
          [
           0.01334534323409473,
           0.3852015597787667,
           1,
           0.020165200371645795,
           0.005339883561704373,
           0.06858575359877807,
           -0.030740650466229945,
           0.01216812062904027,
           -0.01177452566272942,
           0.06513770619808223,
           -0.026422260936938318,
           0.007805405438257564,
           0.0398636749526053,
           -0.02481871606024976,
           0.00044279354409063553,
           -0.13446309438101123,
           0.2758488256575782,
           -0.6936620429280099,
           -0.043467452083702215,
           0.032268677920526866,
           0.017426037309845106
          ],
          [
           -0.001966152578392213,
           0.027479255387307347,
           0.020165200371645795,
           1,
           -0.012691171492958415,
           -0.009875998212500478,
           0.0021281956660160473,
           0.02182769682707109,
           0.08567887244077875,
           0.018539695090247787,
           -0.07431731949491763,
           -0.008514942921206426,
           0.00957909098354583,
           -0.01742911480423949,
           -0.057303846472796655,
           -0.02150046265926612,
           -0.07370286838414133,
           -0.0974813167086907,
           0.05393082847991206,
           -0.09735513439937382,
           -0.12248949731742537
          ],
          [
           0.9925927325320587,
           -0.03908370971971332,
           0.005339883561704373,
           -0.012691171492958415,
           1,
           0.08043638389464644,
           -0.01782020807012136,
           -0.12443286942536849,
           0.01790697458890271,
           -0.007923147359693251,
           0.010254630976058365,
           -0.031112216331480445,
           0.05010136846520002,
           -0.005576955673552556,
           -0.04424726780220469,
           0.008016796651055898,
           0.032525302541615064,
           0.030245021042082317,
           -0.01845246800348154,
           -0.01591346367747215,
           -0.023897470146285498
          ],
          [
           0.0795028181795769,
           0.00912590326448352,
           0.06858575359877807,
           -0.009875998212500478,
           0.08043638389464644,
           1,
           -0.14324343497580017,
           -0.11597956201492435,
           -0.10394821243152366,
           -0.1623344510091893,
           -0.10394821243152366,
           -0.03494869785640952,
           -0.05989601586819564,
           0.045274282386203714,
           -0.053332807408481404,
           0.0012470298975145895,
           -0.04055709316688074,
           0.006615710156163599,
           -0.023759412353694186,
           0.022636386119267868,
           -0.006706879454586354
          ],
          [
           -0.016239895389895388,
           0.05390430805940161,
           -0.030740650466229945,
           0.0021281956660160473,
           -0.01782020807012136,
           -0.14324343497580017,
           1,
           -0.16719353259687506,
           -0.1498494091684914,
           -0.2340176997987643,
           -0.14984940916849152,
           0.012779179609207771,
           0.013588220714207386,
           -0.02086714972023509,
           0.07632723087953401,
           -0.05748793642419258,
           0.08505570841224663,
           -0.009118812702042508,
           -0.0511991742743444,
           -0.010630424955393746,
           0.005105830127456255
          ],
          [
           -0.12403725146039775,
           0.07476313604791159,
           0.01216812062904027,
           0.02182769682707109,
           -0.12443286942536849,
           -0.11597956201492435,
           -0.16719353259687506,
           1,
           -0.1213282049993633,
           -0.1894765392283844,
           -0.12132820499936327,
           -0.023618370334217327,
           0.024587523281963425,
           0.02559895843594189,
           0.05971304840774785,
           -0.03408239205275083,
           -0.053126556233050834,
           -0.03450306224979679,
           0.031362719442792744,
           -0.024619383664438468,
           -0.02373730486392938
          ],
          [
           0.025916970497716574,
           -0.047053577712760634,
           -0.01177452566272942,
           0.08567887244077875,
           0.01790697458890271,
           -0.10394821243152366,
           -0.1498494091684914,
           -0.1213282049993633,
           1,
           -0.16982084781426882,
           -0.10874200426439215,
           -0.028121671667975835,
           0.036974140683023966,
           -0.017877075435099712,
           -0.043737741690588416,
           0.025246672735891314,
           -0.0315337883808152,
           0.0053665103325366064,
           0.13198760315561067,
           0.04680629714868542,
           0.01939767797829044
          ],
          [
           -0.00913960040876377,
           -0.08701665386784385,
           0.06513770619808223,
           0.018539695090247787,
           -0.007923147359693251,
           -0.1623344510091893,
           -0.2340176997987643,
           -0.1894765392283844,
           -0.16982084781426882,
           1,
           -0.1698208478142688,
           0.13298318593174016,
           -0.022617943507774158,
           -0.0425621461043805,
           -0.019600027167704256,
           0.024499285417614182,
           0.037430841378072455,
           -0.02280919778262264,
           -0.010667422723107533,
           0.04361974147893427,
           0.07086912964375153
          ],
          [
           0.013268721154940715,
           0.0652780018018433,
           -0.026422260936938318,
           -0.07431731949491763,
           0.010254630976058365,
           -0.10394821243152366,
           -0.14984940916849152,
           -0.12132820499936327,
           -0.10874200426439215,
           -0.1698208478142688,
           1,
           -0.0798549355854786,
           -0.054332421112231986,
           0.04701702038515751,
           -0.030248046744499456,
           0.06692371979196583,
           -0.0315337883808152,
           0.005366510332536637,
           -0.023204151826678864,
           -0.017891402259385836,
           -0.04526124861601105
          ],
          [
           -0.03740029863930756,
           -0.006667114378225829,
           0.007805405438257564,
           -0.008514942921206426,
           -0.031112216331480445,
           -0.03494869785640952,
           0.012779179609207771,
           -0.023618370334217327,
           -0.028121671667975835,
           0.13298318593174016,
           -0.0798549355854786,
           1,
           -0.3957127257878706,
           -0.22431072937535848,
           -0.026503482804472442,
           -0.08730876758036259,
           -0.01759331324066975,
           0.005527116050565853,
           -0.025724677921182538,
           -0.10800649644207201,
           1.1530603751121136e-17
          ],
          [
           0.05850765133438557,
           -0.01692013802155106,
           0.0398636749526053,
           0.00957909098354583,
           0.05010136846520002,
           -0.05989601586819564,
           0.013588220714207386,
           0.024587523281963425,
           0.036974140683023966,
           -0.022617943507774158,
           -0.054332421112231986,
           -0.3957127257878706,
           1,
           -0.43574372252797916,
           -0.006786235066487892,
           0.0024044028032965026,
           0.030128878629501022,
           -0.02113974594732173,
           0.036439578006073794,
           0.03950471694018495,
           -0.08534828446470354
          ],
          [
           -0.010640395199070094,
           0.05176204205826385,
           -0.02481871606024976,
           -0.01742911480423949,
           -0.005576955673552556,
           0.045274282386203714,
           -0.02086714972023509,
           0.02559895843594189,
           -0.017877075435099712,
           -0.0425621461043805,
           0.04701702038515751,
           -0.22431072937535848,
           -0.43574372252797916,
           1,
           0.001587440685920865,
           0.02402394132201971,
           0.019703556526173817,
           -0.02761399533567942,
           -0.04916441574978667,
           0.026238712519010218,
           0.043426604113387036
          ],
          [
           -0.03810567028179052,
           0.11361872346669101,
           0.00044279354409063553,
           -0.057303846472796655,
           -0.04424726780220469,
           -0.053332807408481404,
           0.07632723087953401,
           0.05971304840774785,
           -0.043737741690588416,
           -0.019600027167704256,
           -0.030248046744499456,
           -0.026503482804472442,
           -0.006786235066487892,
           0.001587440685920865,
           1,
           -0.5087577456790997,
           0.009292984502233377,
           -0.09717786892161454,
           -0.04070995757462756,
           0.06247167812245093,
           0.008024173123980485
          ],
          [
           0.010480404127996093,
           -0.08633952118181266,
           -0.13446309438101123,
           -0.02150046265926612,
           0.008016796651055898,
           0.0012470298975145895,
           -0.05748793642419258,
           -0.03408239205275083,
           0.025246672735891314,
           0.024499285417614182,
           0.06692371979196583,
           -0.08730876758036259,
           0.0024044028032965026,
           0.02402394132201971,
           -0.5087577456790997,
           1,
           0.005712418624232866,
           0.10171239428056807,
           0.07064333290278187,
           -0.12697135991879976,
           0.05371396398929653
          ],
          [
           0.03613902260856775,
           0.25593659900397864,
           0.2758488256575782,
           -0.07370286838414133,
           0.032525302541615064,
           -0.04055709316688074,
           0.08505570841224663,
           -0.053126556233050834,
           -0.0315337883808152,
           0.037430841378072455,
           -0.0315337883808152,
           -0.01759331324066975,
           0.030128878629501022,
           0.019703556526173817,
           0.009292984502233377,
           0.005712418624232866,
           1,
           -0.4526302746216681,
           0.12360409454172899,
           -0.021945676819417944,
           0.2123894545484734
          ],
          [
           0.02220379984157619,
           -0.6446421237863352,
           -0.6936620429280099,
           -0.0974813167086907,
           0.030245021042082317,
           0.006615710156163599,
           -0.009118812702042508,
           -0.03450306224979679,
           0.0053665103325366064,
           -0.02280919778262264,
           0.005366510332536637,
           0.005527116050565853,
           -0.02113974594732173,
           -0.02761399533567942,
           -0.09717786892161454,
           0.10171239428056807,
           -0.4526302746216681,
           1,
           0.04083279826737478,
           0.04429952500499358,
           -0.10863508805244428
          ],
          [
           -0.01993137027621163,
           -0.024159249823579695,
           -0.043467452083702215,
           0.05393082847991206,
           -0.01845246800348154,
           -0.023759412353694186,
           -0.0511991742743444,
           0.031362719442792744,
           0.13198760315561067,
           -0.010667422723107533,
           -0.023204151826678864,
           -0.025724677921182538,
           0.036439578006073794,
           -0.04916441574978667,
           -0.04070995757462756,
           0.07064333290278187,
           0.12360409454172899,
           0.04083279826737478,
           1,
           -0.04658427128776464,
           0.06538896834544439
          ],
          [
           -0.017668279167318036,
           -0.03300874691550848,
           0.032268677920526866,
           -0.09735513439937382,
           -0.01591346367747215,
           0.022636386119267868,
           -0.010630424955393746,
           -0.024619383664438468,
           0.04680629714868542,
           0.04361974147893427,
           -0.017891402259385836,
           -0.10800649644207201,
           0.03950471694018495,
           0.026238712519010218,
           0.06247167812245093,
           -0.12697135991879976,
           -0.021945676819417944,
           0.04429952500499358,
           -0.04658427128776464,
           1,
           -0.019242300987841434
          ],
          [
           -0.02619598112115887,
           0.08504237445928532,
           0.017426037309845106,
           -0.12248949731742537,
           -0.023897470146285498,
           -0.006706879454586354,
           0.005105830127456255,
           -0.02373730486392938,
           0.01939767797829044,
           0.07086912964375153,
           -0.04526124861601105,
           1.1530603751121136e-17,
           -0.08534828446470354,
           0.043426604113387036,
           0.008024173123980485,
           0.05371396398929653,
           0.2123894545484734,
           -0.10863508805244428,
           0.06538896834544439,
           -0.019242300987841434,
           1
          ]
         ]
        }
       ],
       "layout": {
        "coloraxis": {
         "colorscale": [
          [
           0,
           "#0d0887"
          ],
          [
           0.1111111111111111,
           "#46039f"
          ],
          [
           0.2222222222222222,
           "#7201a8"
          ],
          [
           0.3333333333333333,
           "#9c179e"
          ],
          [
           0.4444444444444444,
           "#bd3786"
          ],
          [
           0.5555555555555556,
           "#d8576b"
          ],
          [
           0.6666666666666666,
           "#ed7953"
          ],
          [
           0.7777777777777778,
           "#fb9f3a"
          ],
          [
           0.8888888888888888,
           "#fdca26"
          ],
          [
           1,
           "#f0f921"
          ]
         ]
        },
        "margin": {
         "t": 60
        },
        "template": {
         "data": {
          "bar": [
           {
            "error_x": {
             "color": "#2a3f5f"
            },
            "error_y": {
             "color": "#2a3f5f"
            },
            "marker": {
             "line": {
              "color": "#E5ECF6",
              "width": 0.5
             },
             "pattern": {
              "fillmode": "overlay",
              "size": 10,
              "solidity": 0.2
             }
            },
            "type": "bar"
           }
          ],
          "barpolar": [
           {
            "marker": {
             "line": {
              "color": "#E5ECF6",
              "width": 0.5
             },
             "pattern": {
              "fillmode": "overlay",
              "size": 10,
              "solidity": 0.2
             }
            },
            "type": "barpolar"
           }
          ],
          "carpet": [
           {
            "aaxis": {
             "endlinecolor": "#2a3f5f",
             "gridcolor": "white",
             "linecolor": "white",
             "minorgridcolor": "white",
             "startlinecolor": "#2a3f5f"
            },
            "baxis": {
             "endlinecolor": "#2a3f5f",
             "gridcolor": "white",
             "linecolor": "white",
             "minorgridcolor": "white",
             "startlinecolor": "#2a3f5f"
            },
            "type": "carpet"
           }
          ],
          "choropleth": [
           {
            "colorbar": {
             "outlinewidth": 0,
             "ticks": ""
            },
            "type": "choropleth"
           }
          ],
          "contour": [
           {
            "colorbar": {
             "outlinewidth": 0,
             "ticks": ""
            },
            "colorscale": [
             [
              0,
              "#0d0887"
             ],
             [
              0.1111111111111111,
              "#46039f"
             ],
             [
              0.2222222222222222,
              "#7201a8"
             ],
             [
              0.3333333333333333,
              "#9c179e"
             ],
             [
              0.4444444444444444,
              "#bd3786"
             ],
             [
              0.5555555555555556,
              "#d8576b"
             ],
             [
              0.6666666666666666,
              "#ed7953"
             ],
             [
              0.7777777777777778,
              "#fb9f3a"
             ],
             [
              0.8888888888888888,
              "#fdca26"
             ],
             [
              1,
              "#f0f921"
             ]
            ],
            "type": "contour"
           }
          ],
          "contourcarpet": [
           {
            "colorbar": {
             "outlinewidth": 0,
             "ticks": ""
            },
            "type": "contourcarpet"
           }
          ],
          "heatmap": [
           {
            "colorbar": {
             "outlinewidth": 0,
             "ticks": ""
            },
            "colorscale": [
             [
              0,
              "#0d0887"
             ],
             [
              0.1111111111111111,
              "#46039f"
             ],
             [
              0.2222222222222222,
              "#7201a8"
             ],
             [
              0.3333333333333333,
              "#9c179e"
             ],
             [
              0.4444444444444444,
              "#bd3786"
             ],
             [
              0.5555555555555556,
              "#d8576b"
             ],
             [
              0.6666666666666666,
              "#ed7953"
             ],
             [
              0.7777777777777778,
              "#fb9f3a"
             ],
             [
              0.8888888888888888,
              "#fdca26"
             ],
             [
              1,
              "#f0f921"
             ]
            ],
            "type": "heatmap"
           }
          ],
          "heatmapgl": [
           {
            "colorbar": {
             "outlinewidth": 0,
             "ticks": ""
            },
            "colorscale": [
             [
              0,
              "#0d0887"
             ],
             [
              0.1111111111111111,
              "#46039f"
             ],
             [
              0.2222222222222222,
              "#7201a8"
             ],
             [
              0.3333333333333333,
              "#9c179e"
             ],
             [
              0.4444444444444444,
              "#bd3786"
             ],
             [
              0.5555555555555556,
              "#d8576b"
             ],
             [
              0.6666666666666666,
              "#ed7953"
             ],
             [
              0.7777777777777778,
              "#fb9f3a"
             ],
             [
              0.8888888888888888,
              "#fdca26"
             ],
             [
              1,
              "#f0f921"
             ]
            ],
            "type": "heatmapgl"
           }
          ],
          "histogram": [
           {
            "marker": {
             "pattern": {
              "fillmode": "overlay",
              "size": 10,
              "solidity": 0.2
             }
            },
            "type": "histogram"
           }
          ],
          "histogram2d": [
           {
            "colorbar": {
             "outlinewidth": 0,
             "ticks": ""
            },
            "colorscale": [
             [
              0,
              "#0d0887"
             ],
             [
              0.1111111111111111,
              "#46039f"
             ],
             [
              0.2222222222222222,
              "#7201a8"
             ],
             [
              0.3333333333333333,
              "#9c179e"
             ],
             [
              0.4444444444444444,
              "#bd3786"
             ],
             [
              0.5555555555555556,
              "#d8576b"
             ],
             [
              0.6666666666666666,
              "#ed7953"
             ],
             [
              0.7777777777777778,
              "#fb9f3a"
             ],
             [
              0.8888888888888888,
              "#fdca26"
             ],
             [
              1,
              "#f0f921"
             ]
            ],
            "type": "histogram2d"
           }
          ],
          "histogram2dcontour": [
           {
            "colorbar": {
             "outlinewidth": 0,
             "ticks": ""
            },
            "colorscale": [
             [
              0,
              "#0d0887"
             ],
             [
              0.1111111111111111,
              "#46039f"
             ],
             [
              0.2222222222222222,
              "#7201a8"
             ],
             [
              0.3333333333333333,
              "#9c179e"
             ],
             [
              0.4444444444444444,
              "#bd3786"
             ],
             [
              0.5555555555555556,
              "#d8576b"
             ],
             [
              0.6666666666666666,
              "#ed7953"
             ],
             [
              0.7777777777777778,
              "#fb9f3a"
             ],
             [
              0.8888888888888888,
              "#fdca26"
             ],
             [
              1,
              "#f0f921"
             ]
            ],
            "type": "histogram2dcontour"
           }
          ],
          "mesh3d": [
           {
            "colorbar": {
             "outlinewidth": 0,
             "ticks": ""
            },
            "type": "mesh3d"
           }
          ],
          "parcoords": [
           {
            "line": {
             "colorbar": {
              "outlinewidth": 0,
              "ticks": ""
             }
            },
            "type": "parcoords"
           }
          ],
          "pie": [
           {
            "automargin": true,
            "type": "pie"
           }
          ],
          "scatter": [
           {
            "fillpattern": {
             "fillmode": "overlay",
             "size": 10,
             "solidity": 0.2
            },
            "type": "scatter"
           }
          ],
          "scatter3d": [
           {
            "line": {
             "colorbar": {
              "outlinewidth": 0,
              "ticks": ""
             }
            },
            "marker": {
             "colorbar": {
              "outlinewidth": 0,
              "ticks": ""
             }
            },
            "type": "scatter3d"
           }
          ],
          "scattercarpet": [
           {
            "marker": {
             "colorbar": {
              "outlinewidth": 0,
              "ticks": ""
             }
            },
            "type": "scattercarpet"
           }
          ],
          "scattergeo": [
           {
            "marker": {
             "colorbar": {
              "outlinewidth": 0,
              "ticks": ""
             }
            },
            "type": "scattergeo"
           }
          ],
          "scattergl": [
           {
            "marker": {
             "colorbar": {
              "outlinewidth": 0,
              "ticks": ""
             }
            },
            "type": "scattergl"
           }
          ],
          "scattermapbox": [
           {
            "marker": {
             "colorbar": {
              "outlinewidth": 0,
              "ticks": ""
             }
            },
            "type": "scattermapbox"
           }
          ],
          "scatterpolar": [
           {
            "marker": {
             "colorbar": {
              "outlinewidth": 0,
              "ticks": ""
             }
            },
            "type": "scatterpolar"
           }
          ],
          "scatterpolargl": [
           {
            "marker": {
             "colorbar": {
              "outlinewidth": 0,
              "ticks": ""
             }
            },
            "type": "scatterpolargl"
           }
          ],
          "scatterternary": [
           {
            "marker": {
             "colorbar": {
              "outlinewidth": 0,
              "ticks": ""
             }
            },
            "type": "scatterternary"
           }
          ],
          "surface": [
           {
            "colorbar": {
             "outlinewidth": 0,
             "ticks": ""
            },
            "colorscale": [
             [
              0,
              "#0d0887"
             ],
             [
              0.1111111111111111,
              "#46039f"
             ],
             [
              0.2222222222222222,
              "#7201a8"
             ],
             [
              0.3333333333333333,
              "#9c179e"
             ],
             [
              0.4444444444444444,
              "#bd3786"
             ],
             [
              0.5555555555555556,
              "#d8576b"
             ],
             [
              0.6666666666666666,
              "#ed7953"
             ],
             [
              0.7777777777777778,
              "#fb9f3a"
             ],
             [
              0.8888888888888888,
              "#fdca26"
             ],
             [
              1,
              "#f0f921"
             ]
            ],
            "type": "surface"
           }
          ],
          "table": [
           {
            "cells": {
             "fill": {
              "color": "#EBF0F8"
             },
             "line": {
              "color": "white"
             }
            },
            "header": {
             "fill": {
              "color": "#C8D4E3"
             },
             "line": {
              "color": "white"
             }
            },
            "type": "table"
           }
          ]
         },
         "layout": {
          "annotationdefaults": {
           "arrowcolor": "#2a3f5f",
           "arrowhead": 0,
           "arrowwidth": 1
          },
          "autotypenumbers": "strict",
          "coloraxis": {
           "colorbar": {
            "outlinewidth": 0,
            "ticks": ""
           }
          },
          "colorscale": {
           "diverging": [
            [
             0,
             "#8e0152"
            ],
            [
             0.1,
             "#c51b7d"
            ],
            [
             0.2,
             "#de77ae"
            ],
            [
             0.3,
             "#f1b6da"
            ],
            [
             0.4,
             "#fde0ef"
            ],
            [
             0.5,
             "#f7f7f7"
            ],
            [
             0.6,
             "#e6f5d0"
            ],
            [
             0.7,
             "#b8e186"
            ],
            [
             0.8,
             "#7fbc41"
            ],
            [
             0.9,
             "#4d9221"
            ],
            [
             1,
             "#276419"
            ]
           ],
           "sequential": [
            [
             0,
             "#0d0887"
            ],
            [
             0.1111111111111111,
             "#46039f"
            ],
            [
             0.2222222222222222,
             "#7201a8"
            ],
            [
             0.3333333333333333,
             "#9c179e"
            ],
            [
             0.4444444444444444,
             "#bd3786"
            ],
            [
             0.5555555555555556,
             "#d8576b"
            ],
            [
             0.6666666666666666,
             "#ed7953"
            ],
            [
             0.7777777777777778,
             "#fb9f3a"
            ],
            [
             0.8888888888888888,
             "#fdca26"
            ],
            [
             1,
             "#f0f921"
            ]
           ],
           "sequentialminus": [
            [
             0,
             "#0d0887"
            ],
            [
             0.1111111111111111,
             "#46039f"
            ],
            [
             0.2222222222222222,
             "#7201a8"
            ],
            [
             0.3333333333333333,
             "#9c179e"
            ],
            [
             0.4444444444444444,
             "#bd3786"
            ],
            [
             0.5555555555555556,
             "#d8576b"
            ],
            [
             0.6666666666666666,
             "#ed7953"
            ],
            [
             0.7777777777777778,
             "#fb9f3a"
            ],
            [
             0.8888888888888888,
             "#fdca26"
            ],
            [
             1,
             "#f0f921"
            ]
           ]
          },
          "colorway": [
           "#636efa",
           "#EF553B",
           "#00cc96",
           "#ab63fa",
           "#FFA15A",
           "#19d3f3",
           "#FF6692",
           "#B6E880",
           "#FF97FF",
           "#FECB52"
          ],
          "font": {
           "color": "#2a3f5f"
          },
          "geo": {
           "bgcolor": "white",
           "lakecolor": "white",
           "landcolor": "#E5ECF6",
           "showlakes": true,
           "showland": true,
           "subunitcolor": "white"
          },
          "hoverlabel": {
           "align": "left"
          },
          "hovermode": "closest",
          "mapbox": {
           "style": "light"
          },
          "paper_bgcolor": "white",
          "plot_bgcolor": "#E5ECF6",
          "polar": {
           "angularaxis": {
            "gridcolor": "white",
            "linecolor": "white",
            "ticks": ""
           },
           "bgcolor": "#E5ECF6",
           "radialaxis": {
            "gridcolor": "white",
            "linecolor": "white",
            "ticks": ""
           }
          },
          "scene": {
           "xaxis": {
            "backgroundcolor": "#E5ECF6",
            "gridcolor": "white",
            "gridwidth": 2,
            "linecolor": "white",
            "showbackground": true,
            "ticks": "",
            "zerolinecolor": "white"
           },
           "yaxis": {
            "backgroundcolor": "#E5ECF6",
            "gridcolor": "white",
            "gridwidth": 2,
            "linecolor": "white",
            "showbackground": true,
            "ticks": "",
            "zerolinecolor": "white"
           },
           "zaxis": {
            "backgroundcolor": "#E5ECF6",
            "gridcolor": "white",
            "gridwidth": 2,
            "linecolor": "white",
            "showbackground": true,
            "ticks": "",
            "zerolinecolor": "white"
           }
          },
          "shapedefaults": {
           "line": {
            "color": "#2a3f5f"
           }
          },
          "ternary": {
           "aaxis": {
            "gridcolor": "white",
            "linecolor": "white",
            "ticks": ""
           },
           "baxis": {
            "gridcolor": "white",
            "linecolor": "white",
            "ticks": ""
           },
           "bgcolor": "#E5ECF6",
           "caxis": {
            "gridcolor": "white",
            "linecolor": "white",
            "ticks": ""
           }
          },
          "title": {
           "x": 0.05
          },
          "xaxis": {
           "automargin": true,
           "gridcolor": "white",
           "linecolor": "white",
           "ticks": "",
           "title": {
            "standoff": 15
           },
           "zerolinecolor": "white",
           "zerolinewidth": 2
          },
          "yaxis": {
           "automargin": true,
           "gridcolor": "white",
           "linecolor": "white",
           "ticks": "",
           "title": {
            "standoff": 15
           },
           "zerolinecolor": "white",
           "zerolinewidth": 2
          }
         }
        },
        "title": {
         "text": "Correlation matrix plot of the simulated dataset"
        },
        "xaxis": {
         "anchor": "y",
         "domain": [
          0,
          1
         ]
        },
        "yaxis": {
         "anchor": "x",
         "autorange": "reversed",
         "domain": [
          0,
          1
         ]
        }
       }
      }
     },
     "metadata": {},
     "output_type": "display_data"
    }
   ],
   "source": [
    "corr = simulated_dataframe.corr()\n",
    "fig = px.imshow(corr, text_auto=True, aspect=\"auto\")\n",
    "\n",
    "# Title\n",
    "fig.update_layout(title_text=\"Correlation matrix plot of the simulated dataset\")\n",
    "\n",
    "fig.show()"
   ]
  },
  {
   "cell_type": "code",
   "execution_count": 1559,
   "metadata": {},
   "outputs": [],
   "source": [
    "# use logarithm of target variable (consult_cost) to minimize outlier and mean square error(MSE) \n",
    "simulated_dataframe['consult_cost'] = np.log(simulated_dataframe['consult_cost'])"
   ]
  },
  {
   "attachments": {},
   "cell_type": "markdown",
   "metadata": {},
   "source": [
    "## Choices for Insurance Model\n",
    "        Choose a suitable machine learning predictive model that forcasts the value of the target."
   ]
  },
  {
   "attachments": {},
   "cell_type": "markdown",
   "metadata": {},
   "source": [
    "Getting the train and test datasets "
   ]
  },
  {
   "cell_type": "code",
   "execution_count": 1560,
   "metadata": {},
   "outputs": [],
   "source": [
    "target_variable = 'consult_cost'\n",
    "X = simulated_dataframe.drop(target_variable, axis=1)\n",
    "\n",
    "#Apply robust scaling to explanatory variables to reduce outliers\n",
    "robust_scaler = RobustScaler()\n",
    "X = robust_scaler.fit_transform(X)  # x_new=x-median(data)/(Q3-Q1)\n",
    "\n",
    "y = simulated_dataframe[target_variable]\n",
    "x_train, x_test, y_train, y_test = train_test_split(X, y, test_size=0.2, random_state=23)"
   ]
  },
  {
   "attachments": {},
   "cell_type": "markdown",
   "metadata": {},
   "source": [
    "Preparing dataframe for model analysis"
   ]
  },
  {
   "cell_type": "code",
   "execution_count": 1561,
   "metadata": {},
   "outputs": [],
   "source": [
    "mean_Model = pd.DataFrame(index=['train_MSE', 'test_MSE'], columns=['MLR', 'RF', 'KNN', 'LASSO'])\n",
    "r_Model = pd.DataFrame(index=['train_R2', 'test_R2'], columns=['MLR', 'RF', 'KNN', 'LASSO'])"
   ]
  },
  {
   "attachments": {},
   "cell_type": "markdown",
   "metadata": {},
   "source": [
    "Building models "
   ]
  },
  {
   "attachments": {},
   "cell_type": "markdown",
   "metadata": {},
   "source": [
    "    Multiple Linear Regression (MLR)"
   ]
  },
  {
   "cell_type": "code",
   "execution_count": 1562,
   "metadata": {},
   "outputs": [],
   "source": [
    "# 1. Import the estimator object (model)\n",
    "from sklearn.linear_model import LinearRegression\n",
    "# 2. Create an instance of the estimator\n",
    "linear_regression = LinearRegression()\n",
    "# 3. Use the trainning data to train the estimator\n",
    "linear_regression.fit(x_train, y_train)\n",
    "# 4. Evaluate the model\n",
    "mean_Model.loc['train_MSE','MLR'] = mean_squared_error(y_pred=linear_regression.predict(x_train), y_true=y_train)\n",
    "mean_Model.loc['test_MSE','MLR'] = mean_squared_error(y_pred=linear_regression.predict(x_test), y_true=y_test)\n",
    "r_Model.loc['train_R2','MLR'] = r2_score(y_pred=linear_regression.predict(x_train), y_true=y_train)\n",
    "r_Model.loc['test_R2','MLR'] = r2_score(y_pred=linear_regression.predict(x_test), y_true=y_test)"
   ]
  },
  {
   "attachments": {},
   "cell_type": "markdown",
   "metadata": {},
   "source": [
    "    Random Forest (RF)"
   ]
  },
  {
   "cell_type": "code",
   "execution_count": 1563,
   "metadata": {},
   "outputs": [],
   "source": [
    "# 1. Import the estimator object (model)\n",
    "from sklearn.ensemble import RandomForestRegressor\n",
    "# 2. Create an instance of the estimator\n",
    "RF = RandomForestRegressor(n_estimators=100, random_state=21)\n",
    "# 3. Use the trainning data to train the estimator\n",
    "RF.fit(x_train, y_train)\n",
    "# 4. Evaluate the model\n",
    "mean_Model.loc['train_MSE','RF'] = mean_squared_error(y_pred=RF.predict(x_train), y_true=y_train)\n",
    "mean_Model.loc['test_MSE','RF'] = mean_squared_error(y_pred=RF.predict(x_test), y_true=y_test)\n",
    "r_Model.loc['train_R2','RF'] = r2_score(y_pred=RF.predict(x_train), y_true=y_train)\n",
    "r_Model.loc['test_R2','RF'] = r2_score(y_pred=RF.predict(x_test), y_true=y_test)"
   ]
  },
  {
   "attachments": {},
   "cell_type": "markdown",
   "metadata": {},
   "source": [
    "    K-Nearest Neighbor (KNN)"
   ]
  },
  {
   "cell_type": "code",
   "execution_count": 1564,
   "metadata": {},
   "outputs": [],
   "source": [
    "# 1. Import the estimator object (model)\n",
    "from sklearn.neighbors import KNeighborsRegressor\n",
    "# 2. Create an instance of the estimator\n",
    "knn = KNeighborsRegressor(n_neighbors=7, weights='distance', metric='euclidean', n_jobs=-1)\n",
    "# 3. Use the training data to train the estimator\n",
    "knn.fit(x_train, y_train)\n",
    "# 4. Evaluate the model\n",
    "mean_Model.loc['train_MSE','KNN'] = mean_squared_error(y_pred=knn.predict(x_train), y_true=y_train)\n",
    "mean_Model.loc['test_MSE','KNN'] = mean_squared_error(y_pred=knn.predict(x_test), y_true=y_test)\n",
    "r_Model.loc['train_R2','KNN'] = r2_score(y_pred=knn.predict(x_train), y_true=y_train)\n",
    "r_Model.loc['test_R2','KNN'] = r2_score(y_pred=knn.predict(x_test), y_true=y_test)"
   ]
  },
  {
   "attachments": {},
   "cell_type": "markdown",
   "metadata": {},
   "source": [
    "    Least Absolute Shrinkage and Selection Operator (LASSO)"
   ]
  },
  {
   "cell_type": "code",
   "execution_count": 1565,
   "metadata": {},
   "outputs": [],
   "source": [
    "# 1. Import the estimator object (model)\n",
    "from sklearn.linear_model import Lasso\n",
    "# 2. Create an instance of the estimator\n",
    "lasso = Lasso(alpha=0.05)\n",
    "# 3. Use the training data to train the estimator\n",
    "lasso.fit(x_train, y_train)\n",
    "# 4. Evaluate the model\n",
    "mean_Model.loc['train_MSE','LASSO'] = mean_squared_error(y_pred=lasso.predict(x_train), y_true=y_train)\n",
    "mean_Model.loc['test_MSE','LASSO'] = mean_squared_error(y_pred=lasso.predict(x_test), y_true=y_test)\n",
    "r_Model.loc['train_R2','LASSO'] = r2_score(y_pred=lasso.predict(x_train), y_true=y_train)\n",
    "r_Model.loc['test_R2','LASSO'] = r2_score(y_pred=lasso.predict(x_test), y_true=y_test)"
   ]
  },
  {
   "cell_type": "code",
   "execution_count": 1566,
   "metadata": {},
   "outputs": [
    {
     "data": {
      "text/html": [
       "<div>\n",
       "<style scoped>\n",
       "    .dataframe tbody tr th:only-of-type {\n",
       "        vertical-align: middle;\n",
       "    }\n",
       "\n",
       "    .dataframe tbody tr th {\n",
       "        vertical-align: top;\n",
       "    }\n",
       "\n",
       "    .dataframe thead th {\n",
       "        text-align: right;\n",
       "    }\n",
       "</style>\n",
       "<table border=\"1\" class=\"dataframe\">\n",
       "  <thead>\n",
       "    <tr style=\"text-align: right;\">\n",
       "      <th></th>\n",
       "      <th>MLR</th>\n",
       "      <th>RF</th>\n",
       "      <th>KNN</th>\n",
       "      <th>LASSO</th>\n",
       "    </tr>\n",
       "  </thead>\n",
       "  <tbody>\n",
       "    <tr>\n",
       "      <th>train_MSE</th>\n",
       "      <td>0.047812</td>\n",
       "      <td>0.00114</td>\n",
       "      <td>0.0</td>\n",
       "      <td>0.059459</td>\n",
       "    </tr>\n",
       "    <tr>\n",
       "      <th>test_MSE</th>\n",
       "      <td>0.053529</td>\n",
       "      <td>0.012112</td>\n",
       "      <td>0.203082</td>\n",
       "      <td>0.060388</td>\n",
       "    </tr>\n",
       "  </tbody>\n",
       "</table>\n",
       "</div>"
      ],
      "text/plain": [
       "                MLR        RF       KNN     LASSO\n",
       "train_MSE  0.047812   0.00114       0.0  0.059459\n",
       "test_MSE   0.053529  0.012112  0.203082  0.060388"
      ]
     },
     "execution_count": 1566,
     "metadata": {},
     "output_type": "execute_result"
    }
   ],
   "source": [
    "mean_Model"
   ]
  },
  {
   "cell_type": "code",
   "execution_count": 1567,
   "metadata": {},
   "outputs": [
    {
     "data": {
      "application/vnd.plotly.v1+json": {
       "config": {
        "plotlyServerURL": "https://plot.ly"
       },
       "data": [
        {
         "name": "train_MSE",
         "orientation": "h",
         "type": "bar",
         "x": [
          0.047812271148517486,
          0.0011402240749707469,
          4.700758456235508e-16,
          0.05945851888802556
         ],
         "y": [
          "MLR",
          "RF",
          "KNN",
          "LASSO"
         ]
        },
        {
         "name": "test_MSE",
         "orientation": "h",
         "type": "bar",
         "x": [
          0.0535292397424176,
          0.012112362449434609,
          0.20308161618627849,
          0.06038846873633898
         ],
         "y": [
          "MLR",
          "RF",
          "KNN",
          "LASSO"
         ]
        }
       ],
       "layout": {
        "barmode": "group",
        "template": {
         "data": {
          "bar": [
           {
            "error_x": {
             "color": "#2a3f5f"
            },
            "error_y": {
             "color": "#2a3f5f"
            },
            "marker": {
             "line": {
              "color": "#E5ECF6",
              "width": 0.5
             },
             "pattern": {
              "fillmode": "overlay",
              "size": 10,
              "solidity": 0.2
             }
            },
            "type": "bar"
           }
          ],
          "barpolar": [
           {
            "marker": {
             "line": {
              "color": "#E5ECF6",
              "width": 0.5
             },
             "pattern": {
              "fillmode": "overlay",
              "size": 10,
              "solidity": 0.2
             }
            },
            "type": "barpolar"
           }
          ],
          "carpet": [
           {
            "aaxis": {
             "endlinecolor": "#2a3f5f",
             "gridcolor": "white",
             "linecolor": "white",
             "minorgridcolor": "white",
             "startlinecolor": "#2a3f5f"
            },
            "baxis": {
             "endlinecolor": "#2a3f5f",
             "gridcolor": "white",
             "linecolor": "white",
             "minorgridcolor": "white",
             "startlinecolor": "#2a3f5f"
            },
            "type": "carpet"
           }
          ],
          "choropleth": [
           {
            "colorbar": {
             "outlinewidth": 0,
             "ticks": ""
            },
            "type": "choropleth"
           }
          ],
          "contour": [
           {
            "colorbar": {
             "outlinewidth": 0,
             "ticks": ""
            },
            "colorscale": [
             [
              0,
              "#0d0887"
             ],
             [
              0.1111111111111111,
              "#46039f"
             ],
             [
              0.2222222222222222,
              "#7201a8"
             ],
             [
              0.3333333333333333,
              "#9c179e"
             ],
             [
              0.4444444444444444,
              "#bd3786"
             ],
             [
              0.5555555555555556,
              "#d8576b"
             ],
             [
              0.6666666666666666,
              "#ed7953"
             ],
             [
              0.7777777777777778,
              "#fb9f3a"
             ],
             [
              0.8888888888888888,
              "#fdca26"
             ],
             [
              1,
              "#f0f921"
             ]
            ],
            "type": "contour"
           }
          ],
          "contourcarpet": [
           {
            "colorbar": {
             "outlinewidth": 0,
             "ticks": ""
            },
            "type": "contourcarpet"
           }
          ],
          "heatmap": [
           {
            "colorbar": {
             "outlinewidth": 0,
             "ticks": ""
            },
            "colorscale": [
             [
              0,
              "#0d0887"
             ],
             [
              0.1111111111111111,
              "#46039f"
             ],
             [
              0.2222222222222222,
              "#7201a8"
             ],
             [
              0.3333333333333333,
              "#9c179e"
             ],
             [
              0.4444444444444444,
              "#bd3786"
             ],
             [
              0.5555555555555556,
              "#d8576b"
             ],
             [
              0.6666666666666666,
              "#ed7953"
             ],
             [
              0.7777777777777778,
              "#fb9f3a"
             ],
             [
              0.8888888888888888,
              "#fdca26"
             ],
             [
              1,
              "#f0f921"
             ]
            ],
            "type": "heatmap"
           }
          ],
          "heatmapgl": [
           {
            "colorbar": {
             "outlinewidth": 0,
             "ticks": ""
            },
            "colorscale": [
             [
              0,
              "#0d0887"
             ],
             [
              0.1111111111111111,
              "#46039f"
             ],
             [
              0.2222222222222222,
              "#7201a8"
             ],
             [
              0.3333333333333333,
              "#9c179e"
             ],
             [
              0.4444444444444444,
              "#bd3786"
             ],
             [
              0.5555555555555556,
              "#d8576b"
             ],
             [
              0.6666666666666666,
              "#ed7953"
             ],
             [
              0.7777777777777778,
              "#fb9f3a"
             ],
             [
              0.8888888888888888,
              "#fdca26"
             ],
             [
              1,
              "#f0f921"
             ]
            ],
            "type": "heatmapgl"
           }
          ],
          "histogram": [
           {
            "marker": {
             "pattern": {
              "fillmode": "overlay",
              "size": 10,
              "solidity": 0.2
             }
            },
            "type": "histogram"
           }
          ],
          "histogram2d": [
           {
            "colorbar": {
             "outlinewidth": 0,
             "ticks": ""
            },
            "colorscale": [
             [
              0,
              "#0d0887"
             ],
             [
              0.1111111111111111,
              "#46039f"
             ],
             [
              0.2222222222222222,
              "#7201a8"
             ],
             [
              0.3333333333333333,
              "#9c179e"
             ],
             [
              0.4444444444444444,
              "#bd3786"
             ],
             [
              0.5555555555555556,
              "#d8576b"
             ],
             [
              0.6666666666666666,
              "#ed7953"
             ],
             [
              0.7777777777777778,
              "#fb9f3a"
             ],
             [
              0.8888888888888888,
              "#fdca26"
             ],
             [
              1,
              "#f0f921"
             ]
            ],
            "type": "histogram2d"
           }
          ],
          "histogram2dcontour": [
           {
            "colorbar": {
             "outlinewidth": 0,
             "ticks": ""
            },
            "colorscale": [
             [
              0,
              "#0d0887"
             ],
             [
              0.1111111111111111,
              "#46039f"
             ],
             [
              0.2222222222222222,
              "#7201a8"
             ],
             [
              0.3333333333333333,
              "#9c179e"
             ],
             [
              0.4444444444444444,
              "#bd3786"
             ],
             [
              0.5555555555555556,
              "#d8576b"
             ],
             [
              0.6666666666666666,
              "#ed7953"
             ],
             [
              0.7777777777777778,
              "#fb9f3a"
             ],
             [
              0.8888888888888888,
              "#fdca26"
             ],
             [
              1,
              "#f0f921"
             ]
            ],
            "type": "histogram2dcontour"
           }
          ],
          "mesh3d": [
           {
            "colorbar": {
             "outlinewidth": 0,
             "ticks": ""
            },
            "type": "mesh3d"
           }
          ],
          "parcoords": [
           {
            "line": {
             "colorbar": {
              "outlinewidth": 0,
              "ticks": ""
             }
            },
            "type": "parcoords"
           }
          ],
          "pie": [
           {
            "automargin": true,
            "type": "pie"
           }
          ],
          "scatter": [
           {
            "fillpattern": {
             "fillmode": "overlay",
             "size": 10,
             "solidity": 0.2
            },
            "type": "scatter"
           }
          ],
          "scatter3d": [
           {
            "line": {
             "colorbar": {
              "outlinewidth": 0,
              "ticks": ""
             }
            },
            "marker": {
             "colorbar": {
              "outlinewidth": 0,
              "ticks": ""
             }
            },
            "type": "scatter3d"
           }
          ],
          "scattercarpet": [
           {
            "marker": {
             "colorbar": {
              "outlinewidth": 0,
              "ticks": ""
             }
            },
            "type": "scattercarpet"
           }
          ],
          "scattergeo": [
           {
            "marker": {
             "colorbar": {
              "outlinewidth": 0,
              "ticks": ""
             }
            },
            "type": "scattergeo"
           }
          ],
          "scattergl": [
           {
            "marker": {
             "colorbar": {
              "outlinewidth": 0,
              "ticks": ""
             }
            },
            "type": "scattergl"
           }
          ],
          "scattermapbox": [
           {
            "marker": {
             "colorbar": {
              "outlinewidth": 0,
              "ticks": ""
             }
            },
            "type": "scattermapbox"
           }
          ],
          "scatterpolar": [
           {
            "marker": {
             "colorbar": {
              "outlinewidth": 0,
              "ticks": ""
             }
            },
            "type": "scatterpolar"
           }
          ],
          "scatterpolargl": [
           {
            "marker": {
             "colorbar": {
              "outlinewidth": 0,
              "ticks": ""
             }
            },
            "type": "scatterpolargl"
           }
          ],
          "scatterternary": [
           {
            "marker": {
             "colorbar": {
              "outlinewidth": 0,
              "ticks": ""
             }
            },
            "type": "scatterternary"
           }
          ],
          "surface": [
           {
            "colorbar": {
             "outlinewidth": 0,
             "ticks": ""
            },
            "colorscale": [
             [
              0,
              "#0d0887"
             ],
             [
              0.1111111111111111,
              "#46039f"
             ],
             [
              0.2222222222222222,
              "#7201a8"
             ],
             [
              0.3333333333333333,
              "#9c179e"
             ],
             [
              0.4444444444444444,
              "#bd3786"
             ],
             [
              0.5555555555555556,
              "#d8576b"
             ],
             [
              0.6666666666666666,
              "#ed7953"
             ],
             [
              0.7777777777777778,
              "#fb9f3a"
             ],
             [
              0.8888888888888888,
              "#fdca26"
             ],
             [
              1,
              "#f0f921"
             ]
            ],
            "type": "surface"
           }
          ],
          "table": [
           {
            "cells": {
             "fill": {
              "color": "#EBF0F8"
             },
             "line": {
              "color": "white"
             }
            },
            "header": {
             "fill": {
              "color": "#C8D4E3"
             },
             "line": {
              "color": "white"
             }
            },
            "type": "table"
           }
          ]
         },
         "layout": {
          "annotationdefaults": {
           "arrowcolor": "#2a3f5f",
           "arrowhead": 0,
           "arrowwidth": 1
          },
          "autotypenumbers": "strict",
          "coloraxis": {
           "colorbar": {
            "outlinewidth": 0,
            "ticks": ""
           }
          },
          "colorscale": {
           "diverging": [
            [
             0,
             "#8e0152"
            ],
            [
             0.1,
             "#c51b7d"
            ],
            [
             0.2,
             "#de77ae"
            ],
            [
             0.3,
             "#f1b6da"
            ],
            [
             0.4,
             "#fde0ef"
            ],
            [
             0.5,
             "#f7f7f7"
            ],
            [
             0.6,
             "#e6f5d0"
            ],
            [
             0.7,
             "#b8e186"
            ],
            [
             0.8,
             "#7fbc41"
            ],
            [
             0.9,
             "#4d9221"
            ],
            [
             1,
             "#276419"
            ]
           ],
           "sequential": [
            [
             0,
             "#0d0887"
            ],
            [
             0.1111111111111111,
             "#46039f"
            ],
            [
             0.2222222222222222,
             "#7201a8"
            ],
            [
             0.3333333333333333,
             "#9c179e"
            ],
            [
             0.4444444444444444,
             "#bd3786"
            ],
            [
             0.5555555555555556,
             "#d8576b"
            ],
            [
             0.6666666666666666,
             "#ed7953"
            ],
            [
             0.7777777777777778,
             "#fb9f3a"
            ],
            [
             0.8888888888888888,
             "#fdca26"
            ],
            [
             1,
             "#f0f921"
            ]
           ],
           "sequentialminus": [
            [
             0,
             "#0d0887"
            ],
            [
             0.1111111111111111,
             "#46039f"
            ],
            [
             0.2222222222222222,
             "#7201a8"
            ],
            [
             0.3333333333333333,
             "#9c179e"
            ],
            [
             0.4444444444444444,
             "#bd3786"
            ],
            [
             0.5555555555555556,
             "#d8576b"
            ],
            [
             0.6666666666666666,
             "#ed7953"
            ],
            [
             0.7777777777777778,
             "#fb9f3a"
            ],
            [
             0.8888888888888888,
             "#fdca26"
            ],
            [
             1,
             "#f0f921"
            ]
           ]
          },
          "colorway": [
           "#636efa",
           "#EF553B",
           "#00cc96",
           "#ab63fa",
           "#FFA15A",
           "#19d3f3",
           "#FF6692",
           "#B6E880",
           "#FF97FF",
           "#FECB52"
          ],
          "font": {
           "color": "#2a3f5f"
          },
          "geo": {
           "bgcolor": "white",
           "lakecolor": "white",
           "landcolor": "#E5ECF6",
           "showlakes": true,
           "showland": true,
           "subunitcolor": "white"
          },
          "hoverlabel": {
           "align": "left"
          },
          "hovermode": "closest",
          "mapbox": {
           "style": "light"
          },
          "paper_bgcolor": "white",
          "plot_bgcolor": "#E5ECF6",
          "polar": {
           "angularaxis": {
            "gridcolor": "white",
            "linecolor": "white",
            "ticks": ""
           },
           "bgcolor": "#E5ECF6",
           "radialaxis": {
            "gridcolor": "white",
            "linecolor": "white",
            "ticks": ""
           }
          },
          "scene": {
           "xaxis": {
            "backgroundcolor": "#E5ECF6",
            "gridcolor": "white",
            "gridwidth": 2,
            "linecolor": "white",
            "showbackground": true,
            "ticks": "",
            "zerolinecolor": "white"
           },
           "yaxis": {
            "backgroundcolor": "#E5ECF6",
            "gridcolor": "white",
            "gridwidth": 2,
            "linecolor": "white",
            "showbackground": true,
            "ticks": "",
            "zerolinecolor": "white"
           },
           "zaxis": {
            "backgroundcolor": "#E5ECF6",
            "gridcolor": "white",
            "gridwidth": 2,
            "linecolor": "white",
            "showbackground": true,
            "ticks": "",
            "zerolinecolor": "white"
           }
          },
          "shapedefaults": {
           "line": {
            "color": "#2a3f5f"
           }
          },
          "ternary": {
           "aaxis": {
            "gridcolor": "white",
            "linecolor": "white",
            "ticks": ""
           },
           "baxis": {
            "gridcolor": "white",
            "linecolor": "white",
            "ticks": ""
           },
           "bgcolor": "#E5ECF6",
           "caxis": {
            "gridcolor": "white",
            "linecolor": "white",
            "ticks": ""
           }
          },
          "title": {
           "x": 0.05
          },
          "xaxis": {
           "automargin": true,
           "gridcolor": "white",
           "linecolor": "white",
           "ticks": "",
           "title": {
            "standoff": 15
           },
           "zerolinecolor": "white",
           "zerolinewidth": 2
          },
          "yaxis": {
           "automargin": true,
           "gridcolor": "white",
           "linecolor": "white",
           "ticks": "",
           "title": {
            "standoff": 15
           },
           "zerolinecolor": "white",
           "zerolinewidth": 2
          }
         }
        },
        "title": {
         "text": "Mean square error (MSE) plot of the predictive models using train and test data"
        }
       }
      }
     },
     "metadata": {},
     "output_type": "display_data"
    }
   ],
   "source": [
    "\n",
    "y=['MLR', 'RF', 'KNN', 'LASSO'] \n",
    "x1= mean_Model.loc['train_MSE']\n",
    "x2= mean_Model.loc['test_MSE']\n",
    "\n",
    "trace1 = go.Bar(y=y, x=x1, name='train_MSE', orientation='h')\n",
    "trace2 = go.Bar(y=y, x=x2, name='test_MSE', orientation='h')\n",
    "\n",
    "data = [trace1, trace2]\n",
    "\n",
    "layout = go.Layout(barmode='group', title='Mean square error (MSE) plot of the predictive models using train and test data')\n",
    "\n",
    "fig = go.Figure(data=data, layout=layout)\n",
    "fig.show()\n"
   ]
  },
  {
   "cell_type": "code",
   "execution_count": 1568,
   "metadata": {},
   "outputs": [
    {
     "data": {
      "text/html": [
       "<div>\n",
       "<style scoped>\n",
       "    .dataframe tbody tr th:only-of-type {\n",
       "        vertical-align: middle;\n",
       "    }\n",
       "\n",
       "    .dataframe tbody tr th {\n",
       "        vertical-align: top;\n",
       "    }\n",
       "\n",
       "    .dataframe thead th {\n",
       "        text-align: right;\n",
       "    }\n",
       "</style>\n",
       "<table border=\"1\" class=\"dataframe\">\n",
       "  <thead>\n",
       "    <tr style=\"text-align: right;\">\n",
       "      <th></th>\n",
       "      <th>MLR</th>\n",
       "      <th>RF</th>\n",
       "      <th>KNN</th>\n",
       "      <th>LASSO</th>\n",
       "    </tr>\n",
       "  </thead>\n",
       "  <tbody>\n",
       "    <tr>\n",
       "      <th>train_R2</th>\n",
       "      <td>0.893301</td>\n",
       "      <td>0.997455</td>\n",
       "      <td>1.0</td>\n",
       "      <td>0.867311</td>\n",
       "    </tr>\n",
       "    <tr>\n",
       "      <th>test_R2</th>\n",
       "      <td>0.869506</td>\n",
       "      <td>0.970472</td>\n",
       "      <td>0.504924</td>\n",
       "      <td>0.852784</td>\n",
       "    </tr>\n",
       "  </tbody>\n",
       "</table>\n",
       "</div>"
      ],
      "text/plain": [
       "               MLR        RF       KNN     LASSO\n",
       "train_R2  0.893301  0.997455       1.0  0.867311\n",
       "test_R2   0.869506  0.970472  0.504924  0.852784"
      ]
     },
     "execution_count": 1568,
     "metadata": {},
     "output_type": "execute_result"
    }
   ],
   "source": [
    "r_Model"
   ]
  },
  {
   "cell_type": "code",
   "execution_count": 1569,
   "metadata": {},
   "outputs": [
    {
     "data": {
      "application/vnd.plotly.v1+json": {
       "config": {
        "plotlyServerURL": "https://plot.ly"
       },
       "data": [
        {
         "name": "train_R2",
         "orientation": "h",
         "type": "bar",
         "x": [
          0.8933012590717514,
          0.9974554550484007,
          0.999999999999999,
          0.8673112790834758
         ],
         "y": [
          "MLR",
          "RF",
          "KNN",
          "LASSO"
         ]
        },
        {
         "name": "test_R2",
         "orientation": "h",
         "type": "bar",
         "x": [
          0.8695055370874945,
          0.9704722831849212,
          0.5049242888717496,
          0.8527839955923634
         ],
         "y": [
          "MLR",
          "RF",
          "KNN",
          "LASSO"
         ]
        }
       ],
       "layout": {
        "barmode": "group",
        "template": {
         "data": {
          "bar": [
           {
            "error_x": {
             "color": "#2a3f5f"
            },
            "error_y": {
             "color": "#2a3f5f"
            },
            "marker": {
             "line": {
              "color": "#E5ECF6",
              "width": 0.5
             },
             "pattern": {
              "fillmode": "overlay",
              "size": 10,
              "solidity": 0.2
             }
            },
            "type": "bar"
           }
          ],
          "barpolar": [
           {
            "marker": {
             "line": {
              "color": "#E5ECF6",
              "width": 0.5
             },
             "pattern": {
              "fillmode": "overlay",
              "size": 10,
              "solidity": 0.2
             }
            },
            "type": "barpolar"
           }
          ],
          "carpet": [
           {
            "aaxis": {
             "endlinecolor": "#2a3f5f",
             "gridcolor": "white",
             "linecolor": "white",
             "minorgridcolor": "white",
             "startlinecolor": "#2a3f5f"
            },
            "baxis": {
             "endlinecolor": "#2a3f5f",
             "gridcolor": "white",
             "linecolor": "white",
             "minorgridcolor": "white",
             "startlinecolor": "#2a3f5f"
            },
            "type": "carpet"
           }
          ],
          "choropleth": [
           {
            "colorbar": {
             "outlinewidth": 0,
             "ticks": ""
            },
            "type": "choropleth"
           }
          ],
          "contour": [
           {
            "colorbar": {
             "outlinewidth": 0,
             "ticks": ""
            },
            "colorscale": [
             [
              0,
              "#0d0887"
             ],
             [
              0.1111111111111111,
              "#46039f"
             ],
             [
              0.2222222222222222,
              "#7201a8"
             ],
             [
              0.3333333333333333,
              "#9c179e"
             ],
             [
              0.4444444444444444,
              "#bd3786"
             ],
             [
              0.5555555555555556,
              "#d8576b"
             ],
             [
              0.6666666666666666,
              "#ed7953"
             ],
             [
              0.7777777777777778,
              "#fb9f3a"
             ],
             [
              0.8888888888888888,
              "#fdca26"
             ],
             [
              1,
              "#f0f921"
             ]
            ],
            "type": "contour"
           }
          ],
          "contourcarpet": [
           {
            "colorbar": {
             "outlinewidth": 0,
             "ticks": ""
            },
            "type": "contourcarpet"
           }
          ],
          "heatmap": [
           {
            "colorbar": {
             "outlinewidth": 0,
             "ticks": ""
            },
            "colorscale": [
             [
              0,
              "#0d0887"
             ],
             [
              0.1111111111111111,
              "#46039f"
             ],
             [
              0.2222222222222222,
              "#7201a8"
             ],
             [
              0.3333333333333333,
              "#9c179e"
             ],
             [
              0.4444444444444444,
              "#bd3786"
             ],
             [
              0.5555555555555556,
              "#d8576b"
             ],
             [
              0.6666666666666666,
              "#ed7953"
             ],
             [
              0.7777777777777778,
              "#fb9f3a"
             ],
             [
              0.8888888888888888,
              "#fdca26"
             ],
             [
              1,
              "#f0f921"
             ]
            ],
            "type": "heatmap"
           }
          ],
          "heatmapgl": [
           {
            "colorbar": {
             "outlinewidth": 0,
             "ticks": ""
            },
            "colorscale": [
             [
              0,
              "#0d0887"
             ],
             [
              0.1111111111111111,
              "#46039f"
             ],
             [
              0.2222222222222222,
              "#7201a8"
             ],
             [
              0.3333333333333333,
              "#9c179e"
             ],
             [
              0.4444444444444444,
              "#bd3786"
             ],
             [
              0.5555555555555556,
              "#d8576b"
             ],
             [
              0.6666666666666666,
              "#ed7953"
             ],
             [
              0.7777777777777778,
              "#fb9f3a"
             ],
             [
              0.8888888888888888,
              "#fdca26"
             ],
             [
              1,
              "#f0f921"
             ]
            ],
            "type": "heatmapgl"
           }
          ],
          "histogram": [
           {
            "marker": {
             "pattern": {
              "fillmode": "overlay",
              "size": 10,
              "solidity": 0.2
             }
            },
            "type": "histogram"
           }
          ],
          "histogram2d": [
           {
            "colorbar": {
             "outlinewidth": 0,
             "ticks": ""
            },
            "colorscale": [
             [
              0,
              "#0d0887"
             ],
             [
              0.1111111111111111,
              "#46039f"
             ],
             [
              0.2222222222222222,
              "#7201a8"
             ],
             [
              0.3333333333333333,
              "#9c179e"
             ],
             [
              0.4444444444444444,
              "#bd3786"
             ],
             [
              0.5555555555555556,
              "#d8576b"
             ],
             [
              0.6666666666666666,
              "#ed7953"
             ],
             [
              0.7777777777777778,
              "#fb9f3a"
             ],
             [
              0.8888888888888888,
              "#fdca26"
             ],
             [
              1,
              "#f0f921"
             ]
            ],
            "type": "histogram2d"
           }
          ],
          "histogram2dcontour": [
           {
            "colorbar": {
             "outlinewidth": 0,
             "ticks": ""
            },
            "colorscale": [
             [
              0,
              "#0d0887"
             ],
             [
              0.1111111111111111,
              "#46039f"
             ],
             [
              0.2222222222222222,
              "#7201a8"
             ],
             [
              0.3333333333333333,
              "#9c179e"
             ],
             [
              0.4444444444444444,
              "#bd3786"
             ],
             [
              0.5555555555555556,
              "#d8576b"
             ],
             [
              0.6666666666666666,
              "#ed7953"
             ],
             [
              0.7777777777777778,
              "#fb9f3a"
             ],
             [
              0.8888888888888888,
              "#fdca26"
             ],
             [
              1,
              "#f0f921"
             ]
            ],
            "type": "histogram2dcontour"
           }
          ],
          "mesh3d": [
           {
            "colorbar": {
             "outlinewidth": 0,
             "ticks": ""
            },
            "type": "mesh3d"
           }
          ],
          "parcoords": [
           {
            "line": {
             "colorbar": {
              "outlinewidth": 0,
              "ticks": ""
             }
            },
            "type": "parcoords"
           }
          ],
          "pie": [
           {
            "automargin": true,
            "type": "pie"
           }
          ],
          "scatter": [
           {
            "fillpattern": {
             "fillmode": "overlay",
             "size": 10,
             "solidity": 0.2
            },
            "type": "scatter"
           }
          ],
          "scatter3d": [
           {
            "line": {
             "colorbar": {
              "outlinewidth": 0,
              "ticks": ""
             }
            },
            "marker": {
             "colorbar": {
              "outlinewidth": 0,
              "ticks": ""
             }
            },
            "type": "scatter3d"
           }
          ],
          "scattercarpet": [
           {
            "marker": {
             "colorbar": {
              "outlinewidth": 0,
              "ticks": ""
             }
            },
            "type": "scattercarpet"
           }
          ],
          "scattergeo": [
           {
            "marker": {
             "colorbar": {
              "outlinewidth": 0,
              "ticks": ""
             }
            },
            "type": "scattergeo"
           }
          ],
          "scattergl": [
           {
            "marker": {
             "colorbar": {
              "outlinewidth": 0,
              "ticks": ""
             }
            },
            "type": "scattergl"
           }
          ],
          "scattermapbox": [
           {
            "marker": {
             "colorbar": {
              "outlinewidth": 0,
              "ticks": ""
             }
            },
            "type": "scattermapbox"
           }
          ],
          "scatterpolar": [
           {
            "marker": {
             "colorbar": {
              "outlinewidth": 0,
              "ticks": ""
             }
            },
            "type": "scatterpolar"
           }
          ],
          "scatterpolargl": [
           {
            "marker": {
             "colorbar": {
              "outlinewidth": 0,
              "ticks": ""
             }
            },
            "type": "scatterpolargl"
           }
          ],
          "scatterternary": [
           {
            "marker": {
             "colorbar": {
              "outlinewidth": 0,
              "ticks": ""
             }
            },
            "type": "scatterternary"
           }
          ],
          "surface": [
           {
            "colorbar": {
             "outlinewidth": 0,
             "ticks": ""
            },
            "colorscale": [
             [
              0,
              "#0d0887"
             ],
             [
              0.1111111111111111,
              "#46039f"
             ],
             [
              0.2222222222222222,
              "#7201a8"
             ],
             [
              0.3333333333333333,
              "#9c179e"
             ],
             [
              0.4444444444444444,
              "#bd3786"
             ],
             [
              0.5555555555555556,
              "#d8576b"
             ],
             [
              0.6666666666666666,
              "#ed7953"
             ],
             [
              0.7777777777777778,
              "#fb9f3a"
             ],
             [
              0.8888888888888888,
              "#fdca26"
             ],
             [
              1,
              "#f0f921"
             ]
            ],
            "type": "surface"
           }
          ],
          "table": [
           {
            "cells": {
             "fill": {
              "color": "#EBF0F8"
             },
             "line": {
              "color": "white"
             }
            },
            "header": {
             "fill": {
              "color": "#C8D4E3"
             },
             "line": {
              "color": "white"
             }
            },
            "type": "table"
           }
          ]
         },
         "layout": {
          "annotationdefaults": {
           "arrowcolor": "#2a3f5f",
           "arrowhead": 0,
           "arrowwidth": 1
          },
          "autotypenumbers": "strict",
          "coloraxis": {
           "colorbar": {
            "outlinewidth": 0,
            "ticks": ""
           }
          },
          "colorscale": {
           "diverging": [
            [
             0,
             "#8e0152"
            ],
            [
             0.1,
             "#c51b7d"
            ],
            [
             0.2,
             "#de77ae"
            ],
            [
             0.3,
             "#f1b6da"
            ],
            [
             0.4,
             "#fde0ef"
            ],
            [
             0.5,
             "#f7f7f7"
            ],
            [
             0.6,
             "#e6f5d0"
            ],
            [
             0.7,
             "#b8e186"
            ],
            [
             0.8,
             "#7fbc41"
            ],
            [
             0.9,
             "#4d9221"
            ],
            [
             1,
             "#276419"
            ]
           ],
           "sequential": [
            [
             0,
             "#0d0887"
            ],
            [
             0.1111111111111111,
             "#46039f"
            ],
            [
             0.2222222222222222,
             "#7201a8"
            ],
            [
             0.3333333333333333,
             "#9c179e"
            ],
            [
             0.4444444444444444,
             "#bd3786"
            ],
            [
             0.5555555555555556,
             "#d8576b"
            ],
            [
             0.6666666666666666,
             "#ed7953"
            ],
            [
             0.7777777777777778,
             "#fb9f3a"
            ],
            [
             0.8888888888888888,
             "#fdca26"
            ],
            [
             1,
             "#f0f921"
            ]
           ],
           "sequentialminus": [
            [
             0,
             "#0d0887"
            ],
            [
             0.1111111111111111,
             "#46039f"
            ],
            [
             0.2222222222222222,
             "#7201a8"
            ],
            [
             0.3333333333333333,
             "#9c179e"
            ],
            [
             0.4444444444444444,
             "#bd3786"
            ],
            [
             0.5555555555555556,
             "#d8576b"
            ],
            [
             0.6666666666666666,
             "#ed7953"
            ],
            [
             0.7777777777777778,
             "#fb9f3a"
            ],
            [
             0.8888888888888888,
             "#fdca26"
            ],
            [
             1,
             "#f0f921"
            ]
           ]
          },
          "colorway": [
           "#636efa",
           "#EF553B",
           "#00cc96",
           "#ab63fa",
           "#FFA15A",
           "#19d3f3",
           "#FF6692",
           "#B6E880",
           "#FF97FF",
           "#FECB52"
          ],
          "font": {
           "color": "#2a3f5f"
          },
          "geo": {
           "bgcolor": "white",
           "lakecolor": "white",
           "landcolor": "#E5ECF6",
           "showlakes": true,
           "showland": true,
           "subunitcolor": "white"
          },
          "hoverlabel": {
           "align": "left"
          },
          "hovermode": "closest",
          "mapbox": {
           "style": "light"
          },
          "paper_bgcolor": "white",
          "plot_bgcolor": "#E5ECF6",
          "polar": {
           "angularaxis": {
            "gridcolor": "white",
            "linecolor": "white",
            "ticks": ""
           },
           "bgcolor": "#E5ECF6",
           "radialaxis": {
            "gridcolor": "white",
            "linecolor": "white",
            "ticks": ""
           }
          },
          "scene": {
           "xaxis": {
            "backgroundcolor": "#E5ECF6",
            "gridcolor": "white",
            "gridwidth": 2,
            "linecolor": "white",
            "showbackground": true,
            "ticks": "",
            "zerolinecolor": "white"
           },
           "yaxis": {
            "backgroundcolor": "#E5ECF6",
            "gridcolor": "white",
            "gridwidth": 2,
            "linecolor": "white",
            "showbackground": true,
            "ticks": "",
            "zerolinecolor": "white"
           },
           "zaxis": {
            "backgroundcolor": "#E5ECF6",
            "gridcolor": "white",
            "gridwidth": 2,
            "linecolor": "white",
            "showbackground": true,
            "ticks": "",
            "zerolinecolor": "white"
           }
          },
          "shapedefaults": {
           "line": {
            "color": "#2a3f5f"
           }
          },
          "ternary": {
           "aaxis": {
            "gridcolor": "white",
            "linecolor": "white",
            "ticks": ""
           },
           "baxis": {
            "gridcolor": "white",
            "linecolor": "white",
            "ticks": ""
           },
           "bgcolor": "#E5ECF6",
           "caxis": {
            "gridcolor": "white",
            "linecolor": "white",
            "ticks": ""
           }
          },
          "title": {
           "x": 0.05
          },
          "xaxis": {
           "automargin": true,
           "gridcolor": "white",
           "linecolor": "white",
           "ticks": "",
           "title": {
            "standoff": 15
           },
           "zerolinecolor": "white",
           "zerolinewidth": 2
          },
          "yaxis": {
           "automargin": true,
           "gridcolor": "white",
           "linecolor": "white",
           "ticks": "",
           "title": {
            "standoff": 15
           },
           "zerolinecolor": "white",
           "zerolinewidth": 2
          }
         }
        },
        "title": {
         "text": "R-square score (R2) plot of the predictive models using train and test data"
        }
       }
      }
     },
     "metadata": {},
     "output_type": "display_data"
    }
   ],
   "source": [
    "\n",
    "y=['MLR', 'RF', 'KNN', 'LASSO']\n",
    "x1= r_Model.loc['train_R2']\n",
    "x2= r_Model.loc['test_R2']\n",
    "\n",
    "trace1 = go.Bar(y=y, x=x1, name='train_R2', orientation='h')\n",
    "trace2 = go.Bar(y=y, x=x2, name='test_R2', orientation='h')\n",
    "\n",
    "data = [trace1, trace2]\n",
    "\n",
    "layout = go.Layout(barmode='group', title='R-square score (R2) plot of the predictive models using train and test data')\n",
    "\n",
    "fig = go.Figure(data=data, layout=layout)\n",
    "fig.show()\n"
   ]
  },
  {
   "cell_type": "code",
   "execution_count": 1570,
   "metadata": {},
   "outputs": [
    {
     "data": {
      "application/vnd.plotly.v1+json": {
       "config": {
        "plotlyServerURL": "https://plot.ly"
       },
       "data": [
        {
         "marker": {
          "color": "blue"
         },
         "mode": "markers",
         "type": "scatter",
         "x": [
          8.160518247477505,
          8.987196820661973,
          7.170119543449628,
          8.476371196895983,
          7.438383530044307,
          7.170119543449628,
          9.011889433252344,
          7.24422751560335,
          8.83927669058535,
          9.20029003612268,
          7.24422751560335,
          8.68270762989381,
          9.126958731588145,
          8.68270762989381,
          7.783224108058157,
          8.575462099540212,
          9.0595174822416,
          8.389359819906353,
          8.594154232552366,
          8.794824928014517,
          8.948975607841776,
          8.732304571033183,
          7.649692623711514,
          7.090076835776092,
          8.895629627136483,
          7.90100705199242,
          7.549609165154532,
          8.594154232552366,
          7.649692623711514,
          8.131530710604252,
          8.006367567650246,
          8.881836230923671,
          9.137769679141348,
          7.170119543449628,
          7.24422751560335,
          7.696212639346407,
          9.259130536145614,
          9.035986984831405,
          8.594154232552366,
          9.035986984831405,
          7.438383530044307,
          8.496990484098719,
          7.170119543449628,
          7.495541943884256,
          8.594154232552366,
          9.024010753706207,
          9.082507000466299,
          7.170119543449628,
          9.07107828201756,
          7.003065458786462,
          8.895629627136483,
          8.732304571033183,
          8.101677747454572,
          8.575462099540212,
          8.517193191416238,
          7.170119543449628,
          8.476371196895983,
          8.517193191416238,
          9.011889433252344,
          8.68270762989381,
          7.313220387090301,
          9.137769646900761,
          9.169518377455928,
          8.824677891164198,
          8.764053269347762,
          8.83927669058535,
          8.006367567650246,
          7.495541943884256,
          8.895629627136483,
          9.230142999272362,
          9.071078304642676,
          8.45531778769815,
          8.895629627136483,
          8.160518247477505,
          9.011889433252344,
          9.02401079378469,
          8.824677891164198,
          8.294049640102028,
          8.764053269347762,
          8.575462099540212,
          8.699514748210191,
          9.02401079378469,
          9.20029003612268,
          9.035986984831405,
          7.649692623711514,
          8.517193191416238,
          8.131530710604252,
          7.003065458786462,
          7.783224016336037,
          8.974618038455112,
          8.935903526274423,
          8.34283980427146,
          8.987196820661973,
          7.313220387090301,
          8.34283980427146,
          7.8632667240095735,
          9.082507000466299,
          8.85366542803745,
          8.83927669058535,
          8.68270762989381,
          9.093806555720231,
          9.011889433252344,
          8.517193191416238,
          9.190137664658664,
          8.45531778769815,
          8.794824928014517,
          7.824046080489611,
          7.696212639346407,
          8.881836305004146,
          7.170119543449628,
          8.556413904569519,
          8.556413904569519,
          7.170119543449628,
          7.937374696163295,
          7.170119543449628,
          9.035986984831405,
          9.093806555720231,
          7.783224016336037,
          9.011889433252344,
          8.881836305004146,
          7.8632667240095735,
          8.556413904569519,
          8.909235279192261,
          8.594154232552366,
          9.093806555720231,
          8.935903526274423,
          8.101677747454572,
          8.496990484098719,
          8.824677891164198,
          9.035986984831405,
          7.090076835776092,
          7.24422751560335,
          8.160518247477505,
          9.093806555720231,
          8.34283980427146,
          8.45531778769815,
          9.0595174822416,
          8.268731832117737,
          7.24422762328431,
          7.824046010856292,
          8.85366542803745,
          8.389359819906353,
          8.881836305004146,
          7.696212639346407,
          7.824046010856292,
          9.116029692504942,
          9.011889433252344,
          9.148464968258095,
          8.85366542803745,
          7.003065458786462,
          7.090076835776092,
          8.496990484098719,
          9.20029003612268,
          9.169518329685749,
          7.495541943884256,
          8.594154232552366,
          8.411832675758411,
          8.909235279192261,
          8.411832675758411,
          8.575462099540212,
          9.126958763037132,
          8.160518247477505,
          7.003065458786462,
          9.148464968258095,
          7.090076835776092,
          9.071078304642676,
          9.137769679141348,
          9.190137664658664,
          8.974618038455112,
          8.961879012677683,
          9.011889433252344,
          8.794824928014517,
          8.294049640102028,
          8.948975607841776,
          8.961878971609176,
          7.696212698781394,
          8.131530710604252,
          7.244227672915141,
          7.24422751560335,
          9.230142999272362,
          9.20029003612268,
          8.556413904569519,
          8.45531778769815,
          9.179881164491475,
          7.313220387090301,
          9.035986984831405,
          8.824677891164198,
          7.696212639346407,
          8.268731832117737,
          9.137769679141348,
          9.169518377455928,
          9.02401079378469,
          9.137769679141348,
          8.630521876723241,
          9.116029692504942,
          8.411832675758411,
          8.34283980427146,
          8.881836305004146,
          9.093806555720231,
          8.294049640102028,
          9.035986984831405,
          7.438383530044307,
          9.169518377455928,
          8.556413904569519,
          8.824677891164198,
          7.003065458786462,
          8.66561319653451,
          7.972466054259172,
          8.895629627136483,
          7.170119543449628,
          7.24422751560335,
          9.230142966230497,
          7.24422751560335,
          8.318742252692399,
          7.649692623711514,
          7.649692623711514,
          8.476371196895983,
          8.895629627136483,
          9.035986984831405,
          9.035986893788605,
          8.648221453822641,
          8.948975607841776,
          7.313220387090301,
          8.748304912379623,
          8.101677747454572,
          7.600902459542082,
          8.131530710604252,
          7.696212639346407,
          7.438383530044307,
          7.649692623711514,
          8.101677747454572,
          9.03598694098265,
          7.313220387090301,
          8.242756345714477,
          8.895629627136483,
          7.9724660159745655,
          8.131530710604252,
          8.575462099540212,
          8.006367567650246,
          8.45531778769815,
          7.600902459542082,
          7.438383530044307,
          8.389359819906353,
          9.02401079378469,
          7.170119543449628,
          7.824046010856292,
          8.764053269347762,
          9.082507000466299,
          8.748304912379623,
          7.696212639346407,
          8.101677747454572,
          7.24422751560335,
          9.035986984831405,
          8.66561319653451,
          8.85366542803745,
          8.101677747454572,
          7.313220387090301,
          8.34283980427146,
          9.190137664658664,
          8.83927669058535,
          9.230142999272362,
          8.824677891164198,
          8.935903526274423,
          8.948975607841776,
          9.169518302203045,
          7.549609165154532,
          9.179881164491475,
          9.126958748135783,
          9.071078304642676,
          8.974618038455112,
          8.987196820661973,
          8.66561319653451,
          8.496990484098719,
          7.438383530044307,
          9.190137664658664,
          7.170119543449628,
          9.116029692504942,
          8.160518247477505,
          8.496990484098719,
          9.116029692504942,
          9.137769679141348,
          8.556413904569519,
          8.594154232552366,
          8.987196820661973,
          8.575462099540212,
          8.34283980427146,
          8.764053269347762,
          8.575462099540212,
          8.101677747454572,
          8.594154232552366,
          7.438383530044307,
          8.68270762989381,
          8.294049640102028,
          8.160518247477505,
          9.082507000466299,
          7.937374696163295,
          9.148464968258095,
          8.948975607841776,
          9.011889433252344,
          8.101677747454572,
          8.160518247477505,
          8.34283980427146,
          8.748304912379623,
          7.649692623711514,
          8.34283980427146,
          7.003065458786462,
          8.160518247477505,
          8.648221453822641,
          9.02401079378469,
          7.090076835776092,
          8.987196820661973,
          7.090077043185074,
          8.935903526274423,
          9.137769679141348,
          8.101677747454572,
          8.881836305004146,
          8.824677891164198,
          8.411832675758411,
          8.824677891164198,
          9.148464901206019,
          7.90100705199242,
          9.035986984831405,
          9.20029003612268,
          9.0595174822416,
          8.556413904569519,
          8.630521876723241,
          8.476371196895983,
          8.66561319653451,
          8.242756345714477,
          9.116029666319001,
          9.035986984831405,
          7.549609165154532,
          7.24422751560335,
          8.764053269347762,
          8.824677891164198,
          8.10167778765116,
          7.170119543449628,
          8.794824928014517,
          7.8632667240095735,
          8.294049640102028,
          9.137769679141348,
          8.961879012677683,
          8.85366542803745,
          8.699514748210191,
          9.259130536145614,
          8.94897559873617,
          9.024010743888446,
          7.600902459542082,
          8.556413904569519,
          8.881836305004146,
          7.090076835776092,
          9.126958763037132,
          9.08250693151709,
          8.294049640102028,
          7.313220387090301,
          8.648221453822641,
          9.093806555720231,
          8.699514748210191,
          7.824046010856292,
          9.249561085129464,
          9.200290015008296,
          7.549609165154532,
          9.011889433252344,
          7.170119543449628,
          8.974617953191409,
          7.438383676508559,
          7.090076835776092,
          8.160518247477505,
          9.116029692504942,
          7.244227584450091,
          7.438383530044307,
          8.794824928014517,
          8.131530710604252,
          9.190137664658664,
          9.116029692504942,
          8.630521876723241,
          8.974618038455112,
          8.909235279192261,
          7.003065458786462,
          9.148464968258095,
          9.148464968258095,
          8.318742252692399,
          9.035986984831405,
          8.935903526274423,
          8.881836305004146,
          8.101677747454572,
          7.090076835776092,
          8.433811582477187,
          8.895629627136483,
          8.006367589802343,
          7.824046010856292,
          8.294049640102028,
          9.02401079378469,
          7.313220387090301,
          8.935903526274423,
          8.411832675758411,
          8.948975607841776,
          7.495541943884256,
          8.83927669058535,
          7.313220387090301,
          8.556413904569519,
          8.242756345714477,
          7.78322412156014,
          9.082507000466299,
          9.259130536145614,
          8.895629627136483,
          8.987196820661973,
          7.170119543449628,
          8.895629540273394,
          8.974618038455112,
          7.313220387090301,
          8.948975607841776,
          7.495541943884256,
          8.824677891164198,
          9.011889433252344,
          8.101677747454572
         ],
         "y": [
          8.160518247477505,
          8.987196820661973,
          7.170119543449628,
          8.476371196895983,
          7.438383530044307,
          7.170119543449628,
          9.011889433252344,
          7.24422751560335,
          8.83927669058535,
          9.20029003612268,
          7.24422751560335,
          8.68270762989381,
          9.126958763037132,
          8.68270762989381,
          7.783224016336037,
          8.575462099540212,
          9.0595174822416,
          8.389359819906353,
          8.594154232552366,
          8.794824928014517,
          8.948975607841776,
          8.732304571033183,
          7.649692623711514,
          7.090076835776092,
          8.895629627136483,
          7.90100705199242,
          7.549609165154532,
          8.594154232552366,
          7.649692623711514,
          8.131530710604252,
          8.006367567650246,
          8.881836305004146,
          9.137769679141348,
          7.170119543449628,
          7.24422751560335,
          7.696212639346407,
          9.259130536145614,
          9.035986984831405,
          8.594154232552366,
          9.035986984831405,
          7.438383530044307,
          8.496990484098719,
          7.170119543449628,
          7.495541943884256,
          8.594154232552366,
          9.02401079378469,
          9.082507000466299,
          7.170119543449628,
          9.071078304642676,
          7.003065458786462,
          8.895629627136483,
          8.732304571033183,
          8.101677747454572,
          8.575462099540212,
          8.517193191416238,
          7.170119543449628,
          8.476371196895983,
          8.517193191416238,
          9.011889433252344,
          8.68270762989381,
          7.313220387090301,
          9.137769679141348,
          9.169518377455928,
          8.824677891164198,
          8.764053269347762,
          8.83927669058535,
          8.006367567650246,
          7.495541943884256,
          8.895629627136483,
          9.230142999272362,
          9.071078304642676,
          8.45531778769815,
          8.895629627136483,
          8.160518247477505,
          9.011889433252344,
          9.02401079378469,
          8.824677891164198,
          8.294049640102028,
          8.764053269347762,
          8.575462099540212,
          8.699514748210191,
          9.02401079378469,
          9.20029003612268,
          9.035986984831405,
          7.649692623711514,
          8.517193191416238,
          8.131530710604252,
          7.003065458786462,
          7.783224016336037,
          8.974618038455112,
          8.935903526274423,
          8.34283980427146,
          8.987196820661973,
          7.313220387090301,
          8.34283980427146,
          7.8632667240095735,
          9.082507000466299,
          8.85366542803745,
          8.83927669058535,
          8.68270762989381,
          9.093806555720231,
          9.011889433252344,
          8.517193191416238,
          9.190137664658664,
          8.45531778769815,
          8.794824928014517,
          7.824046010856292,
          7.696212639346407,
          8.881836305004146,
          7.170119543449628,
          8.556413904569519,
          8.556413904569519,
          7.170119543449628,
          7.937374696163295,
          7.170119543449628,
          9.035986984831405,
          9.093806555720231,
          7.783224016336037,
          9.011889433252344,
          8.881836305004146,
          7.8632667240095735,
          8.556413904569519,
          8.909235279192261,
          8.594154232552366,
          9.093806555720231,
          8.935903526274423,
          8.101677747454572,
          8.496990484098719,
          8.824677891164198,
          9.035986984831405,
          7.090076835776092,
          7.24422751560335,
          8.160518247477505,
          9.093806555720231,
          8.34283980427146,
          8.45531778769815,
          9.0595174822416,
          8.268731832117737,
          7.24422751560335,
          7.824046010856292,
          8.85366542803745,
          8.389359819906353,
          8.881836305004146,
          7.696212639346407,
          7.824046010856292,
          9.116029692504942,
          9.011889433252344,
          9.148464968258095,
          8.85366542803745,
          7.003065458786462,
          7.090076835776092,
          8.496990484098719,
          9.20029003612268,
          9.169518377455928,
          7.495541943884256,
          8.594154232552366,
          8.411832675758411,
          8.909235279192261,
          8.411832675758411,
          8.575462099540212,
          9.126958763037132,
          8.160518247477505,
          7.003065458786462,
          9.148464968258095,
          7.090076835776092,
          9.071078304642676,
          9.137769679141348,
          9.190137664658664,
          8.974618038455112,
          8.961879012677683,
          9.011889433252344,
          8.794824928014517,
          8.294049640102028,
          8.948975607841776,
          8.961879012677683,
          7.696212639346407,
          8.131530710604252,
          7.24422751560335,
          7.24422751560335,
          9.230142999272362,
          9.20029003612268,
          8.556413904569519,
          8.45531778769815,
          9.179881164491475,
          7.313220387090301,
          9.035986984831405,
          8.824677891164198,
          7.696212639346407,
          8.268731832117737,
          9.137769679141348,
          9.169518377455928,
          9.02401079378469,
          9.137769679141348,
          8.630521876723241,
          9.116029692504942,
          8.411832675758411,
          8.34283980427146,
          8.881836305004146,
          9.093806555720231,
          8.294049640102028,
          9.035986984831405,
          7.438383530044307,
          9.169518377455928,
          8.556413904569519,
          8.824677891164198,
          7.003065458786462,
          8.66561319653451,
          7.9724660159745655,
          8.895629627136483,
          7.170119543449628,
          7.24422751560335,
          9.230142999272362,
          7.24422751560335,
          8.318742252692399,
          7.649692623711514,
          7.649692623711514,
          8.476371196895983,
          8.895629627136483,
          9.035986984831405,
          9.035986984831405,
          8.648221453822641,
          8.948975607841776,
          7.313220387090301,
          8.748304912379623,
          8.101677747454572,
          7.600902459542082,
          8.131530710604252,
          7.696212639346407,
          7.438383530044307,
          7.649692623711514,
          8.101677747454572,
          9.035986984831405,
          7.313220387090301,
          8.242756345714477,
          8.895629627136483,
          7.9724660159745655,
          8.131530710604252,
          8.575462099540212,
          8.006367567650246,
          8.45531778769815,
          7.600902459542082,
          7.438383530044307,
          8.389359819906353,
          9.02401079378469,
          7.170119543449628,
          7.824046010856292,
          8.764053269347762,
          9.082507000466299,
          8.748304912379623,
          7.696212639346407,
          8.101677747454572,
          7.24422751560335,
          9.035986984831405,
          8.66561319653451,
          8.85366542803745,
          8.101677747454572,
          7.313220387090301,
          8.34283980427146,
          9.190137664658664,
          8.83927669058535,
          9.230142999272362,
          8.824677891164198,
          8.935903526274423,
          8.948975607841776,
          9.169518377455928,
          7.549609165154532,
          9.179881164491475,
          9.126958763037132,
          9.071078304642676,
          8.974618038455112,
          8.987196820661973,
          8.66561319653451,
          8.496990484098719,
          7.438383530044307,
          9.190137664658664,
          7.170119543449628,
          9.116029692504942,
          8.160518247477505,
          8.496990484098719,
          9.116029692504942,
          9.137769679141348,
          8.556413904569519,
          8.594154232552366,
          8.987196820661973,
          8.575462099540212,
          8.34283980427146,
          8.764053269347762,
          8.575462099540212,
          8.101677747454572,
          8.594154232552366,
          7.438383530044307,
          8.68270762989381,
          8.294049640102028,
          8.160518247477505,
          9.082507000466299,
          7.937374696163295,
          9.148464968258095,
          8.948975607841776,
          9.011889433252344,
          8.101677747454572,
          8.160518247477505,
          8.34283980427146,
          8.748304912379623,
          7.649692623711514,
          8.34283980427146,
          7.003065458786462,
          8.160518247477505,
          8.648221453822641,
          9.02401079378469,
          7.090076835776092,
          8.987196820661973,
          7.090076835776092,
          8.935903526274423,
          9.137769679141348,
          8.101677747454572,
          8.881836305004146,
          8.824677891164198,
          8.411832675758411,
          8.824677891164198,
          9.148464968258095,
          7.90100705199242,
          9.035986984831405,
          9.20029003612268,
          9.0595174822416,
          8.556413904569519,
          8.630521876723241,
          8.476371196895983,
          8.66561319653451,
          8.242756345714477,
          9.116029692504942,
          9.035986984831405,
          7.549609165154532,
          7.24422751560335,
          8.764053269347762,
          8.824677891164198,
          8.101677747454572,
          7.170119543449628,
          8.794824928014517,
          7.8632667240095735,
          8.294049640102028,
          9.137769679141348,
          8.961879012677683,
          8.85366542803745,
          8.699514748210191,
          9.259130536145614,
          8.948975607841776,
          9.02401079378469,
          7.600902459542082,
          8.556413904569519,
          8.881836305004146,
          7.090076835776092,
          9.126958763037132,
          9.082507000466299,
          8.294049640102028,
          7.313220387090301,
          8.648221453822641,
          9.093806555720231,
          8.699514748210191,
          7.824046010856292,
          9.249561085129464,
          9.20029003612268,
          7.549609165154532,
          9.011889433252344,
          7.170119543449628,
          8.974618038455112,
          7.438383530044307,
          7.090076835776092,
          8.160518247477505,
          9.116029692504942,
          7.24422751560335,
          7.438383530044307,
          8.794824928014517,
          8.131530710604252,
          9.190137664658664,
          9.116029692504942,
          8.630521876723241,
          8.974618038455112,
          8.909235279192261,
          7.003065458786462,
          9.148464968258095,
          9.148464968258095,
          8.318742252692399,
          9.035986984831405,
          8.935903526274423,
          8.881836305004146,
          8.101677747454572,
          7.090076835776092,
          8.433811582477187,
          8.895629627136483,
          8.006367567650246,
          7.824046010856292,
          8.294049640102028,
          9.02401079378469,
          7.313220387090301,
          8.935903526274423,
          8.411832675758411,
          8.948975607841776,
          7.495541943884256,
          8.83927669058535,
          7.313220387090301,
          8.556413904569519,
          8.242756345714477,
          7.783224016336037,
          9.082507000466299,
          9.259130536145614,
          8.895629627136483,
          8.987196820661973,
          7.170119543449628,
          8.895629627136483,
          8.974618038455112,
          7.313220387090301,
          8.948975607841776,
          7.495541943884256,
          8.824677891164198,
          9.011889433252344,
          8.101677747454572
         ]
        },
        {
         "line": {
          "color": "red"
         },
         "mode": "lines",
         "type": "scatter",
         "x": [
          8.160518247477505,
          8.987196820661973,
          7.170119543449628,
          8.476371196895983,
          7.438383530044307,
          7.170119543449628,
          9.011889433252344,
          7.24422751560335,
          8.83927669058535,
          9.20029003612268,
          7.24422751560335,
          8.68270762989381,
          9.126958763037132,
          8.68270762989381,
          7.783224016336037,
          8.575462099540212,
          9.0595174822416,
          8.389359819906353,
          8.594154232552366,
          8.794824928014517,
          8.948975607841776,
          8.732304571033183,
          7.649692623711514,
          7.090076835776092,
          8.895629627136483,
          7.90100705199242,
          7.549609165154532,
          8.594154232552366,
          7.649692623711514,
          8.131530710604252,
          8.006367567650246,
          8.881836305004146,
          9.137769679141348,
          7.170119543449628,
          7.24422751560335,
          7.696212639346407,
          9.259130536145614,
          9.035986984831405,
          8.594154232552366,
          9.035986984831405,
          7.438383530044307,
          8.496990484098719,
          7.170119543449628,
          7.495541943884256,
          8.594154232552366,
          9.02401079378469,
          9.082507000466299,
          7.170119543449628,
          9.071078304642676,
          7.003065458786462,
          8.895629627136483,
          8.732304571033183,
          8.101677747454572,
          8.575462099540212,
          8.517193191416238,
          7.170119543449628,
          8.476371196895983,
          8.517193191416238,
          9.011889433252344,
          8.68270762989381,
          7.313220387090301,
          9.137769679141348,
          9.169518377455928,
          8.824677891164198,
          8.764053269347762,
          8.83927669058535,
          8.006367567650246,
          7.495541943884256,
          8.895629627136483,
          9.230142999272362,
          9.071078304642676,
          8.45531778769815,
          8.895629627136483,
          8.160518247477505,
          9.011889433252344,
          9.02401079378469,
          8.824677891164198,
          8.294049640102028,
          8.764053269347762,
          8.575462099540212,
          8.699514748210191,
          9.02401079378469,
          9.20029003612268,
          9.035986984831405,
          7.649692623711514,
          8.517193191416238,
          8.131530710604252,
          7.003065458786462,
          7.783224016336037,
          8.974618038455112,
          8.935903526274423,
          8.34283980427146,
          8.987196820661973,
          7.313220387090301,
          8.34283980427146,
          7.8632667240095735,
          9.082507000466299,
          8.85366542803745,
          8.83927669058535,
          8.68270762989381,
          9.093806555720231,
          9.011889433252344,
          8.517193191416238,
          9.190137664658664,
          8.45531778769815,
          8.794824928014517,
          7.824046010856292,
          7.696212639346407,
          8.881836305004146,
          7.170119543449628,
          8.556413904569519,
          8.556413904569519,
          7.170119543449628,
          7.937374696163295,
          7.170119543449628,
          9.035986984831405,
          9.093806555720231,
          7.783224016336037,
          9.011889433252344,
          8.881836305004146,
          7.8632667240095735,
          8.556413904569519,
          8.909235279192261,
          8.594154232552366,
          9.093806555720231,
          8.935903526274423,
          8.101677747454572,
          8.496990484098719,
          8.824677891164198,
          9.035986984831405,
          7.090076835776092,
          7.24422751560335,
          8.160518247477505,
          9.093806555720231,
          8.34283980427146,
          8.45531778769815,
          9.0595174822416,
          8.268731832117737,
          7.24422751560335,
          7.824046010856292,
          8.85366542803745,
          8.389359819906353,
          8.881836305004146,
          7.696212639346407,
          7.824046010856292,
          9.116029692504942,
          9.011889433252344,
          9.148464968258095,
          8.85366542803745,
          7.003065458786462,
          7.090076835776092,
          8.496990484098719,
          9.20029003612268,
          9.169518377455928,
          7.495541943884256,
          8.594154232552366,
          8.411832675758411,
          8.909235279192261,
          8.411832675758411,
          8.575462099540212,
          9.126958763037132,
          8.160518247477505,
          7.003065458786462,
          9.148464968258095,
          7.090076835776092,
          9.071078304642676,
          9.137769679141348,
          9.190137664658664,
          8.974618038455112,
          8.961879012677683,
          9.011889433252344,
          8.794824928014517,
          8.294049640102028,
          8.948975607841776,
          8.961879012677683,
          7.696212639346407,
          8.131530710604252,
          7.24422751560335,
          7.24422751560335,
          9.230142999272362,
          9.20029003612268,
          8.556413904569519,
          8.45531778769815,
          9.179881164491475,
          7.313220387090301,
          9.035986984831405,
          8.824677891164198,
          7.696212639346407,
          8.268731832117737,
          9.137769679141348,
          9.169518377455928,
          9.02401079378469,
          9.137769679141348,
          8.630521876723241,
          9.116029692504942,
          8.411832675758411,
          8.34283980427146,
          8.881836305004146,
          9.093806555720231,
          8.294049640102028,
          9.035986984831405,
          7.438383530044307,
          9.169518377455928,
          8.556413904569519,
          8.824677891164198,
          7.003065458786462,
          8.66561319653451,
          7.9724660159745655,
          8.895629627136483,
          7.170119543449628,
          7.24422751560335,
          9.230142999272362,
          7.24422751560335,
          8.318742252692399,
          7.649692623711514,
          7.649692623711514,
          8.476371196895983,
          8.895629627136483,
          9.035986984831405,
          9.035986984831405,
          8.648221453822641,
          8.948975607841776,
          7.313220387090301,
          8.748304912379623,
          8.101677747454572,
          7.600902459542082,
          8.131530710604252,
          7.696212639346407,
          7.438383530044307,
          7.649692623711514,
          8.101677747454572,
          9.035986984831405,
          7.313220387090301,
          8.242756345714477,
          8.895629627136483,
          7.9724660159745655,
          8.131530710604252,
          8.575462099540212,
          8.006367567650246,
          8.45531778769815,
          7.600902459542082,
          7.438383530044307,
          8.389359819906353,
          9.02401079378469,
          7.170119543449628,
          7.824046010856292,
          8.764053269347762,
          9.082507000466299,
          8.748304912379623,
          7.696212639346407,
          8.101677747454572,
          7.24422751560335,
          9.035986984831405,
          8.66561319653451,
          8.85366542803745,
          8.101677747454572,
          7.313220387090301,
          8.34283980427146,
          9.190137664658664,
          8.83927669058535,
          9.230142999272362,
          8.824677891164198,
          8.935903526274423,
          8.948975607841776,
          9.169518377455928,
          7.549609165154532,
          9.179881164491475,
          9.126958763037132,
          9.071078304642676,
          8.974618038455112,
          8.987196820661973,
          8.66561319653451,
          8.496990484098719,
          7.438383530044307,
          9.190137664658664,
          7.170119543449628,
          9.116029692504942,
          8.160518247477505,
          8.496990484098719,
          9.116029692504942,
          9.137769679141348,
          8.556413904569519,
          8.594154232552366,
          8.987196820661973,
          8.575462099540212,
          8.34283980427146,
          8.764053269347762,
          8.575462099540212,
          8.101677747454572,
          8.594154232552366,
          7.438383530044307,
          8.68270762989381,
          8.294049640102028,
          8.160518247477505,
          9.082507000466299,
          7.937374696163295,
          9.148464968258095,
          8.948975607841776,
          9.011889433252344,
          8.101677747454572,
          8.160518247477505,
          8.34283980427146,
          8.748304912379623,
          7.649692623711514,
          8.34283980427146,
          7.003065458786462,
          8.160518247477505,
          8.648221453822641,
          9.02401079378469,
          7.090076835776092,
          8.987196820661973,
          7.090076835776092,
          8.935903526274423,
          9.137769679141348,
          8.101677747454572,
          8.881836305004146,
          8.824677891164198,
          8.411832675758411,
          8.824677891164198,
          9.148464968258095,
          7.90100705199242,
          9.035986984831405,
          9.20029003612268,
          9.0595174822416,
          8.556413904569519,
          8.630521876723241,
          8.476371196895983,
          8.66561319653451,
          8.242756345714477,
          9.116029692504942,
          9.035986984831405,
          7.549609165154532,
          7.24422751560335,
          8.764053269347762,
          8.824677891164198,
          8.101677747454572,
          7.170119543449628,
          8.794824928014517,
          7.8632667240095735,
          8.294049640102028,
          9.137769679141348,
          8.961879012677683,
          8.85366542803745,
          8.699514748210191,
          9.259130536145614,
          8.948975607841776,
          9.02401079378469,
          7.600902459542082,
          8.556413904569519,
          8.881836305004146,
          7.090076835776092,
          9.126958763037132,
          9.082507000466299,
          8.294049640102028,
          7.313220387090301,
          8.648221453822641,
          9.093806555720231,
          8.699514748210191,
          7.824046010856292,
          9.249561085129464,
          9.20029003612268,
          7.549609165154532,
          9.011889433252344,
          7.170119543449628,
          8.974618038455112,
          7.438383530044307,
          7.090076835776092,
          8.160518247477505,
          9.116029692504942,
          7.24422751560335,
          7.438383530044307,
          8.794824928014517,
          8.131530710604252,
          9.190137664658664,
          9.116029692504942,
          8.630521876723241,
          8.974618038455112,
          8.909235279192261,
          7.003065458786462,
          9.148464968258095,
          9.148464968258095,
          8.318742252692399,
          9.035986984831405,
          8.935903526274423,
          8.881836305004146,
          8.101677747454572,
          7.090076835776092,
          8.433811582477187,
          8.895629627136483,
          8.006367567650246,
          7.824046010856292,
          8.294049640102028,
          9.02401079378469,
          7.313220387090301,
          8.935903526274423,
          8.411832675758411,
          8.948975607841776,
          7.495541943884256,
          8.83927669058535,
          7.313220387090301,
          8.556413904569519,
          8.242756345714477,
          7.783224016336037,
          9.082507000466299,
          9.259130536145614,
          8.895629627136483,
          8.987196820661973,
          7.170119543449628,
          8.895629627136483,
          8.974618038455112,
          7.313220387090301,
          8.948975607841776,
          7.495541943884256,
          8.824677891164198,
          9.011889433252344,
          8.101677747454572
         ],
         "y": [
          8.160518247477505,
          8.987196820661973,
          7.170119543449628,
          8.476371196895983,
          7.438383530044307,
          7.170119543449628,
          9.011889433252344,
          7.24422751560335,
          8.83927669058535,
          9.20029003612268,
          7.24422751560335,
          8.68270762989381,
          9.126958763037132,
          8.68270762989381,
          7.783224016336037,
          8.575462099540212,
          9.0595174822416,
          8.389359819906353,
          8.594154232552366,
          8.794824928014517,
          8.948975607841776,
          8.732304571033183,
          7.649692623711514,
          7.090076835776092,
          8.895629627136483,
          7.90100705199242,
          7.549609165154532,
          8.594154232552366,
          7.649692623711514,
          8.131530710604252,
          8.006367567650246,
          8.881836305004146,
          9.137769679141348,
          7.170119543449628,
          7.24422751560335,
          7.696212639346407,
          9.259130536145614,
          9.035986984831405,
          8.594154232552366,
          9.035986984831405,
          7.438383530044307,
          8.496990484098719,
          7.170119543449628,
          7.495541943884256,
          8.594154232552366,
          9.02401079378469,
          9.082507000466299,
          7.170119543449628,
          9.071078304642676,
          7.003065458786462,
          8.895629627136483,
          8.732304571033183,
          8.101677747454572,
          8.575462099540212,
          8.517193191416238,
          7.170119543449628,
          8.476371196895983,
          8.517193191416238,
          9.011889433252344,
          8.68270762989381,
          7.313220387090301,
          9.137769679141348,
          9.169518377455928,
          8.824677891164198,
          8.764053269347762,
          8.83927669058535,
          8.006367567650246,
          7.495541943884256,
          8.895629627136483,
          9.230142999272362,
          9.071078304642676,
          8.45531778769815,
          8.895629627136483,
          8.160518247477505,
          9.011889433252344,
          9.02401079378469,
          8.824677891164198,
          8.294049640102028,
          8.764053269347762,
          8.575462099540212,
          8.699514748210191,
          9.02401079378469,
          9.20029003612268,
          9.035986984831405,
          7.649692623711514,
          8.517193191416238,
          8.131530710604252,
          7.003065458786462,
          7.783224016336037,
          8.974618038455112,
          8.935903526274423,
          8.34283980427146,
          8.987196820661973,
          7.313220387090301,
          8.34283980427146,
          7.8632667240095735,
          9.082507000466299,
          8.85366542803745,
          8.83927669058535,
          8.68270762989381,
          9.093806555720231,
          9.011889433252344,
          8.517193191416238,
          9.190137664658664,
          8.45531778769815,
          8.794824928014517,
          7.824046010856292,
          7.696212639346407,
          8.881836305004146,
          7.170119543449628,
          8.556413904569519,
          8.556413904569519,
          7.170119543449628,
          7.937374696163295,
          7.170119543449628,
          9.035986984831405,
          9.093806555720231,
          7.783224016336037,
          9.011889433252344,
          8.881836305004146,
          7.8632667240095735,
          8.556413904569519,
          8.909235279192261,
          8.594154232552366,
          9.093806555720231,
          8.935903526274423,
          8.101677747454572,
          8.496990484098719,
          8.824677891164198,
          9.035986984831405,
          7.090076835776092,
          7.24422751560335,
          8.160518247477505,
          9.093806555720231,
          8.34283980427146,
          8.45531778769815,
          9.0595174822416,
          8.268731832117737,
          7.24422751560335,
          7.824046010856292,
          8.85366542803745,
          8.389359819906353,
          8.881836305004146,
          7.696212639346407,
          7.824046010856292,
          9.116029692504942,
          9.011889433252344,
          9.148464968258095,
          8.85366542803745,
          7.003065458786462,
          7.090076835776092,
          8.496990484098719,
          9.20029003612268,
          9.169518377455928,
          7.495541943884256,
          8.594154232552366,
          8.411832675758411,
          8.909235279192261,
          8.411832675758411,
          8.575462099540212,
          9.126958763037132,
          8.160518247477505,
          7.003065458786462,
          9.148464968258095,
          7.090076835776092,
          9.071078304642676,
          9.137769679141348,
          9.190137664658664,
          8.974618038455112,
          8.961879012677683,
          9.011889433252344,
          8.794824928014517,
          8.294049640102028,
          8.948975607841776,
          8.961879012677683,
          7.696212639346407,
          8.131530710604252,
          7.24422751560335,
          7.24422751560335,
          9.230142999272362,
          9.20029003612268,
          8.556413904569519,
          8.45531778769815,
          9.179881164491475,
          7.313220387090301,
          9.035986984831405,
          8.824677891164198,
          7.696212639346407,
          8.268731832117737,
          9.137769679141348,
          9.169518377455928,
          9.02401079378469,
          9.137769679141348,
          8.630521876723241,
          9.116029692504942,
          8.411832675758411,
          8.34283980427146,
          8.881836305004146,
          9.093806555720231,
          8.294049640102028,
          9.035986984831405,
          7.438383530044307,
          9.169518377455928,
          8.556413904569519,
          8.824677891164198,
          7.003065458786462,
          8.66561319653451,
          7.9724660159745655,
          8.895629627136483,
          7.170119543449628,
          7.24422751560335,
          9.230142999272362,
          7.24422751560335,
          8.318742252692399,
          7.649692623711514,
          7.649692623711514,
          8.476371196895983,
          8.895629627136483,
          9.035986984831405,
          9.035986984831405,
          8.648221453822641,
          8.948975607841776,
          7.313220387090301,
          8.748304912379623,
          8.101677747454572,
          7.600902459542082,
          8.131530710604252,
          7.696212639346407,
          7.438383530044307,
          7.649692623711514,
          8.101677747454572,
          9.035986984831405,
          7.313220387090301,
          8.242756345714477,
          8.895629627136483,
          7.9724660159745655,
          8.131530710604252,
          8.575462099540212,
          8.006367567650246,
          8.45531778769815,
          7.600902459542082,
          7.438383530044307,
          8.389359819906353,
          9.02401079378469,
          7.170119543449628,
          7.824046010856292,
          8.764053269347762,
          9.082507000466299,
          8.748304912379623,
          7.696212639346407,
          8.101677747454572,
          7.24422751560335,
          9.035986984831405,
          8.66561319653451,
          8.85366542803745,
          8.101677747454572,
          7.313220387090301,
          8.34283980427146,
          9.190137664658664,
          8.83927669058535,
          9.230142999272362,
          8.824677891164198,
          8.935903526274423,
          8.948975607841776,
          9.169518377455928,
          7.549609165154532,
          9.179881164491475,
          9.126958763037132,
          9.071078304642676,
          8.974618038455112,
          8.987196820661973,
          8.66561319653451,
          8.496990484098719,
          7.438383530044307,
          9.190137664658664,
          7.170119543449628,
          9.116029692504942,
          8.160518247477505,
          8.496990484098719,
          9.116029692504942,
          9.137769679141348,
          8.556413904569519,
          8.594154232552366,
          8.987196820661973,
          8.575462099540212,
          8.34283980427146,
          8.764053269347762,
          8.575462099540212,
          8.101677747454572,
          8.594154232552366,
          7.438383530044307,
          8.68270762989381,
          8.294049640102028,
          8.160518247477505,
          9.082507000466299,
          7.937374696163295,
          9.148464968258095,
          8.948975607841776,
          9.011889433252344,
          8.101677747454572,
          8.160518247477505,
          8.34283980427146,
          8.748304912379623,
          7.649692623711514,
          8.34283980427146,
          7.003065458786462,
          8.160518247477505,
          8.648221453822641,
          9.02401079378469,
          7.090076835776092,
          8.987196820661973,
          7.090076835776092,
          8.935903526274423,
          9.137769679141348,
          8.101677747454572,
          8.881836305004146,
          8.824677891164198,
          8.411832675758411,
          8.824677891164198,
          9.148464968258095,
          7.90100705199242,
          9.035986984831405,
          9.20029003612268,
          9.0595174822416,
          8.556413904569519,
          8.630521876723241,
          8.476371196895983,
          8.66561319653451,
          8.242756345714477,
          9.116029692504942,
          9.035986984831405,
          7.549609165154532,
          7.24422751560335,
          8.764053269347762,
          8.824677891164198,
          8.101677747454572,
          7.170119543449628,
          8.794824928014517,
          7.8632667240095735,
          8.294049640102028,
          9.137769679141348,
          8.961879012677683,
          8.85366542803745,
          8.699514748210191,
          9.259130536145614,
          8.948975607841776,
          9.02401079378469,
          7.600902459542082,
          8.556413904569519,
          8.881836305004146,
          7.090076835776092,
          9.126958763037132,
          9.082507000466299,
          8.294049640102028,
          7.313220387090301,
          8.648221453822641,
          9.093806555720231,
          8.699514748210191,
          7.824046010856292,
          9.249561085129464,
          9.20029003612268,
          7.549609165154532,
          9.011889433252344,
          7.170119543449628,
          8.974618038455112,
          7.438383530044307,
          7.090076835776092,
          8.160518247477505,
          9.116029692504942,
          7.24422751560335,
          7.438383530044307,
          8.794824928014517,
          8.131530710604252,
          9.190137664658664,
          9.116029692504942,
          8.630521876723241,
          8.974618038455112,
          8.909235279192261,
          7.003065458786462,
          9.148464968258095,
          9.148464968258095,
          8.318742252692399,
          9.035986984831405,
          8.935903526274423,
          8.881836305004146,
          8.101677747454572,
          7.090076835776092,
          8.433811582477187,
          8.895629627136483,
          8.006367567650246,
          7.824046010856292,
          8.294049640102028,
          9.02401079378469,
          7.313220387090301,
          8.935903526274423,
          8.411832675758411,
          8.948975607841776,
          7.495541943884256,
          8.83927669058535,
          7.313220387090301,
          8.556413904569519,
          8.242756345714477,
          7.783224016336037,
          9.082507000466299,
          9.259130536145614,
          8.895629627136483,
          8.987196820661973,
          7.170119543449628,
          8.895629627136483,
          8.974618038455112,
          7.313220387090301,
          8.948975607841776,
          7.495541943884256,
          8.824677891164198,
          9.011889433252344,
          8.101677747454572
         ]
        }
       ],
       "layout": {
        "height": 500,
        "template": {
         "data": {
          "bar": [
           {
            "error_x": {
             "color": "#2a3f5f"
            },
            "error_y": {
             "color": "#2a3f5f"
            },
            "marker": {
             "line": {
              "color": "#E5ECF6",
              "width": 0.5
             },
             "pattern": {
              "fillmode": "overlay",
              "size": 10,
              "solidity": 0.2
             }
            },
            "type": "bar"
           }
          ],
          "barpolar": [
           {
            "marker": {
             "line": {
              "color": "#E5ECF6",
              "width": 0.5
             },
             "pattern": {
              "fillmode": "overlay",
              "size": 10,
              "solidity": 0.2
             }
            },
            "type": "barpolar"
           }
          ],
          "carpet": [
           {
            "aaxis": {
             "endlinecolor": "#2a3f5f",
             "gridcolor": "white",
             "linecolor": "white",
             "minorgridcolor": "white",
             "startlinecolor": "#2a3f5f"
            },
            "baxis": {
             "endlinecolor": "#2a3f5f",
             "gridcolor": "white",
             "linecolor": "white",
             "minorgridcolor": "white",
             "startlinecolor": "#2a3f5f"
            },
            "type": "carpet"
           }
          ],
          "choropleth": [
           {
            "colorbar": {
             "outlinewidth": 0,
             "ticks": ""
            },
            "type": "choropleth"
           }
          ],
          "contour": [
           {
            "colorbar": {
             "outlinewidth": 0,
             "ticks": ""
            },
            "colorscale": [
             [
              0,
              "#0d0887"
             ],
             [
              0.1111111111111111,
              "#46039f"
             ],
             [
              0.2222222222222222,
              "#7201a8"
             ],
             [
              0.3333333333333333,
              "#9c179e"
             ],
             [
              0.4444444444444444,
              "#bd3786"
             ],
             [
              0.5555555555555556,
              "#d8576b"
             ],
             [
              0.6666666666666666,
              "#ed7953"
             ],
             [
              0.7777777777777778,
              "#fb9f3a"
             ],
             [
              0.8888888888888888,
              "#fdca26"
             ],
             [
              1,
              "#f0f921"
             ]
            ],
            "type": "contour"
           }
          ],
          "contourcarpet": [
           {
            "colorbar": {
             "outlinewidth": 0,
             "ticks": ""
            },
            "type": "contourcarpet"
           }
          ],
          "heatmap": [
           {
            "colorbar": {
             "outlinewidth": 0,
             "ticks": ""
            },
            "colorscale": [
             [
              0,
              "#0d0887"
             ],
             [
              0.1111111111111111,
              "#46039f"
             ],
             [
              0.2222222222222222,
              "#7201a8"
             ],
             [
              0.3333333333333333,
              "#9c179e"
             ],
             [
              0.4444444444444444,
              "#bd3786"
             ],
             [
              0.5555555555555556,
              "#d8576b"
             ],
             [
              0.6666666666666666,
              "#ed7953"
             ],
             [
              0.7777777777777778,
              "#fb9f3a"
             ],
             [
              0.8888888888888888,
              "#fdca26"
             ],
             [
              1,
              "#f0f921"
             ]
            ],
            "type": "heatmap"
           }
          ],
          "heatmapgl": [
           {
            "colorbar": {
             "outlinewidth": 0,
             "ticks": ""
            },
            "colorscale": [
             [
              0,
              "#0d0887"
             ],
             [
              0.1111111111111111,
              "#46039f"
             ],
             [
              0.2222222222222222,
              "#7201a8"
             ],
             [
              0.3333333333333333,
              "#9c179e"
             ],
             [
              0.4444444444444444,
              "#bd3786"
             ],
             [
              0.5555555555555556,
              "#d8576b"
             ],
             [
              0.6666666666666666,
              "#ed7953"
             ],
             [
              0.7777777777777778,
              "#fb9f3a"
             ],
             [
              0.8888888888888888,
              "#fdca26"
             ],
             [
              1,
              "#f0f921"
             ]
            ],
            "type": "heatmapgl"
           }
          ],
          "histogram": [
           {
            "marker": {
             "pattern": {
              "fillmode": "overlay",
              "size": 10,
              "solidity": 0.2
             }
            },
            "type": "histogram"
           }
          ],
          "histogram2d": [
           {
            "colorbar": {
             "outlinewidth": 0,
             "ticks": ""
            },
            "colorscale": [
             [
              0,
              "#0d0887"
             ],
             [
              0.1111111111111111,
              "#46039f"
             ],
             [
              0.2222222222222222,
              "#7201a8"
             ],
             [
              0.3333333333333333,
              "#9c179e"
             ],
             [
              0.4444444444444444,
              "#bd3786"
             ],
             [
              0.5555555555555556,
              "#d8576b"
             ],
             [
              0.6666666666666666,
              "#ed7953"
             ],
             [
              0.7777777777777778,
              "#fb9f3a"
             ],
             [
              0.8888888888888888,
              "#fdca26"
             ],
             [
              1,
              "#f0f921"
             ]
            ],
            "type": "histogram2d"
           }
          ],
          "histogram2dcontour": [
           {
            "colorbar": {
             "outlinewidth": 0,
             "ticks": ""
            },
            "colorscale": [
             [
              0,
              "#0d0887"
             ],
             [
              0.1111111111111111,
              "#46039f"
             ],
             [
              0.2222222222222222,
              "#7201a8"
             ],
             [
              0.3333333333333333,
              "#9c179e"
             ],
             [
              0.4444444444444444,
              "#bd3786"
             ],
             [
              0.5555555555555556,
              "#d8576b"
             ],
             [
              0.6666666666666666,
              "#ed7953"
             ],
             [
              0.7777777777777778,
              "#fb9f3a"
             ],
             [
              0.8888888888888888,
              "#fdca26"
             ],
             [
              1,
              "#f0f921"
             ]
            ],
            "type": "histogram2dcontour"
           }
          ],
          "mesh3d": [
           {
            "colorbar": {
             "outlinewidth": 0,
             "ticks": ""
            },
            "type": "mesh3d"
           }
          ],
          "parcoords": [
           {
            "line": {
             "colorbar": {
              "outlinewidth": 0,
              "ticks": ""
             }
            },
            "type": "parcoords"
           }
          ],
          "pie": [
           {
            "automargin": true,
            "type": "pie"
           }
          ],
          "scatter": [
           {
            "fillpattern": {
             "fillmode": "overlay",
             "size": 10,
             "solidity": 0.2
            },
            "type": "scatter"
           }
          ],
          "scatter3d": [
           {
            "line": {
             "colorbar": {
              "outlinewidth": 0,
              "ticks": ""
             }
            },
            "marker": {
             "colorbar": {
              "outlinewidth": 0,
              "ticks": ""
             }
            },
            "type": "scatter3d"
           }
          ],
          "scattercarpet": [
           {
            "marker": {
             "colorbar": {
              "outlinewidth": 0,
              "ticks": ""
             }
            },
            "type": "scattercarpet"
           }
          ],
          "scattergeo": [
           {
            "marker": {
             "colorbar": {
              "outlinewidth": 0,
              "ticks": ""
             }
            },
            "type": "scattergeo"
           }
          ],
          "scattergl": [
           {
            "marker": {
             "colorbar": {
              "outlinewidth": 0,
              "ticks": ""
             }
            },
            "type": "scattergl"
           }
          ],
          "scattermapbox": [
           {
            "marker": {
             "colorbar": {
              "outlinewidth": 0,
              "ticks": ""
             }
            },
            "type": "scattermapbox"
           }
          ],
          "scatterpolar": [
           {
            "marker": {
             "colorbar": {
              "outlinewidth": 0,
              "ticks": ""
             }
            },
            "type": "scatterpolar"
           }
          ],
          "scatterpolargl": [
           {
            "marker": {
             "colorbar": {
              "outlinewidth": 0,
              "ticks": ""
             }
            },
            "type": "scatterpolargl"
           }
          ],
          "scatterternary": [
           {
            "marker": {
             "colorbar": {
              "outlinewidth": 0,
              "ticks": ""
             }
            },
            "type": "scatterternary"
           }
          ],
          "surface": [
           {
            "colorbar": {
             "outlinewidth": 0,
             "ticks": ""
            },
            "colorscale": [
             [
              0,
              "#0d0887"
             ],
             [
              0.1111111111111111,
              "#46039f"
             ],
             [
              0.2222222222222222,
              "#7201a8"
             ],
             [
              0.3333333333333333,
              "#9c179e"
             ],
             [
              0.4444444444444444,
              "#bd3786"
             ],
             [
              0.5555555555555556,
              "#d8576b"
             ],
             [
              0.6666666666666666,
              "#ed7953"
             ],
             [
              0.7777777777777778,
              "#fb9f3a"
             ],
             [
              0.8888888888888888,
              "#fdca26"
             ],
             [
              1,
              "#f0f921"
             ]
            ],
            "type": "surface"
           }
          ],
          "table": [
           {
            "cells": {
             "fill": {
              "color": "#EBF0F8"
             },
             "line": {
              "color": "white"
             }
            },
            "header": {
             "fill": {
              "color": "#C8D4E3"
             },
             "line": {
              "color": "white"
             }
            },
            "type": "table"
           }
          ]
         },
         "layout": {
          "annotationdefaults": {
           "arrowcolor": "#2a3f5f",
           "arrowhead": 0,
           "arrowwidth": 1
          },
          "autotypenumbers": "strict",
          "coloraxis": {
           "colorbar": {
            "outlinewidth": 0,
            "ticks": ""
           }
          },
          "colorscale": {
           "diverging": [
            [
             0,
             "#8e0152"
            ],
            [
             0.1,
             "#c51b7d"
            ],
            [
             0.2,
             "#de77ae"
            ],
            [
             0.3,
             "#f1b6da"
            ],
            [
             0.4,
             "#fde0ef"
            ],
            [
             0.5,
             "#f7f7f7"
            ],
            [
             0.6,
             "#e6f5d0"
            ],
            [
             0.7,
             "#b8e186"
            ],
            [
             0.8,
             "#7fbc41"
            ],
            [
             0.9,
             "#4d9221"
            ],
            [
             1,
             "#276419"
            ]
           ],
           "sequential": [
            [
             0,
             "#0d0887"
            ],
            [
             0.1111111111111111,
             "#46039f"
            ],
            [
             0.2222222222222222,
             "#7201a8"
            ],
            [
             0.3333333333333333,
             "#9c179e"
            ],
            [
             0.4444444444444444,
             "#bd3786"
            ],
            [
             0.5555555555555556,
             "#d8576b"
            ],
            [
             0.6666666666666666,
             "#ed7953"
            ],
            [
             0.7777777777777778,
             "#fb9f3a"
            ],
            [
             0.8888888888888888,
             "#fdca26"
            ],
            [
             1,
             "#f0f921"
            ]
           ],
           "sequentialminus": [
            [
             0,
             "#0d0887"
            ],
            [
             0.1111111111111111,
             "#46039f"
            ],
            [
             0.2222222222222222,
             "#7201a8"
            ],
            [
             0.3333333333333333,
             "#9c179e"
            ],
            [
             0.4444444444444444,
             "#bd3786"
            ],
            [
             0.5555555555555556,
             "#d8576b"
            ],
            [
             0.6666666666666666,
             "#ed7953"
            ],
            [
             0.7777777777777778,
             "#fb9f3a"
            ],
            [
             0.8888888888888888,
             "#fdca26"
            ],
            [
             1,
             "#f0f921"
            ]
           ]
          },
          "colorway": [
           "#636efa",
           "#EF553B",
           "#00cc96",
           "#ab63fa",
           "#FFA15A",
           "#19d3f3",
           "#FF6692",
           "#B6E880",
           "#FF97FF",
           "#FECB52"
          ],
          "font": {
           "color": "#2a3f5f"
          },
          "geo": {
           "bgcolor": "white",
           "lakecolor": "white",
           "landcolor": "#E5ECF6",
           "showlakes": true,
           "showland": true,
           "subunitcolor": "white"
          },
          "hoverlabel": {
           "align": "left"
          },
          "hovermode": "closest",
          "mapbox": {
           "style": "light"
          },
          "paper_bgcolor": "white",
          "plot_bgcolor": "#E5ECF6",
          "polar": {
           "angularaxis": {
            "gridcolor": "white",
            "linecolor": "white",
            "ticks": ""
           },
           "bgcolor": "#E5ECF6",
           "radialaxis": {
            "gridcolor": "white",
            "linecolor": "white",
            "ticks": ""
           }
          },
          "scene": {
           "xaxis": {
            "backgroundcolor": "#E5ECF6",
            "gridcolor": "white",
            "gridwidth": 2,
            "linecolor": "white",
            "showbackground": true,
            "ticks": "",
            "zerolinecolor": "white"
           },
           "yaxis": {
            "backgroundcolor": "#E5ECF6",
            "gridcolor": "white",
            "gridwidth": 2,
            "linecolor": "white",
            "showbackground": true,
            "ticks": "",
            "zerolinecolor": "white"
           },
           "zaxis": {
            "backgroundcolor": "#E5ECF6",
            "gridcolor": "white",
            "gridwidth": 2,
            "linecolor": "white",
            "showbackground": true,
            "ticks": "",
            "zerolinecolor": "white"
           }
          },
          "shapedefaults": {
           "line": {
            "color": "#2a3f5f"
           }
          },
          "ternary": {
           "aaxis": {
            "gridcolor": "white",
            "linecolor": "white",
            "ticks": ""
           },
           "baxis": {
            "gridcolor": "white",
            "linecolor": "white",
            "ticks": ""
           },
           "bgcolor": "#E5ECF6",
           "caxis": {
            "gridcolor": "white",
            "linecolor": "white",
            "ticks": ""
           }
          },
          "title": {
           "x": 0.05
          },
          "xaxis": {
           "automargin": true,
           "gridcolor": "white",
           "linecolor": "white",
           "ticks": "",
           "title": {
            "standoff": 15
           },
           "zerolinecolor": "white",
           "zerolinewidth": 2
          },
          "yaxis": {
           "automargin": true,
           "gridcolor": "white",
           "linecolor": "white",
           "ticks": "",
           "title": {
            "standoff": 15
           },
           "zerolinecolor": "white",
           "zerolinewidth": 2
          }
         }
        },
        "title": {
         "text": "KNN:Observed target vs Predicted target using train data"
        },
        "width": 800,
        "xaxis": {
         "title": {
          "text": "Observed consult_cost"
         }
        },
        "yaxis": {
         "title": {
          "text": "Predicted consult_cost"
         }
        }
       }
      }
     },
     "metadata": {},
     "output_type": "display_data"
    }
   ],
   "source": [
    "\n",
    "fig = go.Figure()\n",
    "\n",
    "# scatter plot using trained data\n",
    "fig.add_trace(go.Scatter(y=y_train, x=knn.predict(x_train), mode='markers', marker=dict(color='blue')))\n",
    "\n",
    "# diagonal line to represent predictions\n",
    "fig.add_trace(go.Scatter(y=y_train, x=y_train, mode='lines', line=dict(color='red')))\n",
    "\n",
    "fig.update_layout(title='KNN:Observed target vs Predicted target using train data', xaxis_title='Observed consult_cost', \n",
    "                  yaxis_title='Predicted consult_cost', width=800, height=500)\n",
    "fig.show()"
   ]
  },
  {
   "cell_type": "code",
   "execution_count": 1571,
   "metadata": {},
   "outputs": [
    {
     "data": {
      "application/vnd.plotly.v1+json": {
       "config": {
        "plotlyServerURL": "https://plot.ly"
       },
       "data": [
        {
         "marker": {
          "color": "blue"
         },
         "mode": "markers",
         "type": "scatter",
         "x": [
          8.14941644083803,
          8.974885272925837,
          7.173875996832831,
          8.466572995268224,
          7.471028423718415,
          7.187885361181831,
          9.002099999418594,
          7.21096314391303,
          8.841989544504349,
          9.18322341779601,
          7.220142291500853,
          8.661856715633744,
          9.125498592656916,
          8.664497459284824,
          7.8072240374851,
          8.616190365051072,
          9.058000994662072,
          8.42621860542185,
          8.587385897852538,
          8.763011335944947,
          8.958379451728037,
          8.738365752109912,
          7.6224690745138375,
          7.247241989136584,
          8.895195183764093,
          7.897198952948241,
          7.511155112126671,
          8.551893645000394,
          7.576319270164206,
          8.126983532029678,
          8.022714579133083,
          8.884447652705475,
          9.128524651177736,
          7.164025043199326,
          7.2103363028490755,
          7.6469872415288025,
          9.250610974892545,
          9.026057480674691,
          8.586606682596006,
          9.03623707256825,
          7.482370865728853,
          8.520605319055601,
          7.199777565109986,
          7.470822437450812,
          8.580029234749578,
          9.036159225893417,
          9.075487843065208,
          7.16003110416418,
          9.065110458754388,
          7.244669856591998,
          8.895198937165626,
          8.746650815531288,
          8.037415893737869,
          8.608008629801676,
          8.48427979119377,
          7.173945986265781,
          8.475982154607223,
          8.490063731285522,
          9.018754914079409,
          8.686302540861782,
          7.32985811609475,
          9.132649837642173,
          9.171970737987355,
          8.828714132993547,
          8.762409298657628,
          8.842869673709,
          7.973459334687574,
          7.5033503997785855,
          8.893279132271694,
          9.22722983512167,
          9.061585375555806,
          8.4590291192396,
          8.893972551779841,
          8.150242795630406,
          9.012026514299336,
          9.02110721997378,
          8.826854855575238,
          8.279780378331406,
          8.746725389068596,
          8.572573745262245,
          8.67973385101393,
          9.017808485008988,
          9.17685983321165,
          9.015360599957557,
          7.5905076222415655,
          8.502160446053296,
          8.191444915590221,
          7.063599961453714,
          7.897633939089324,
          8.969289198069953,
          8.93279229205665,
          8.337423148438699,
          8.97262352795601,
          7.2803457766678275,
          8.317474660460782,
          7.878337647039853,
          9.077402226752632,
          8.845417634056554,
          8.83993655475462,
          8.668048068413903,
          9.0691607304617,
          9.026049595329116,
          8.498215766956317,
          9.182270242411635,
          8.46184111314662,
          8.77324391761841,
          7.815859081264819,
          7.6002763007569385,
          8.891439082875351,
          7.244963448564837,
          8.556173281673068,
          8.56089410611849,
          7.178261700574517,
          7.928532893743757,
          7.159775179056901,
          9.026197904305606,
          9.08395039327867,
          7.7954312192971065,
          9.001503438602327,
          8.887476553472284,
          7.851009546543679,
          8.514362227715372,
          8.901170410464031,
          8.58175873989156,
          9.08809589712448,
          8.956265439598049,
          8.105020186885273,
          8.49123403075314,
          8.827862067196884,
          9.017696645927366,
          7.157211816360979,
          7.233316506898221,
          8.142303655258692,
          9.078218893153176,
          8.339108423357256,
          8.460698585858927,
          9.0596419497829,
          8.278856241562469,
          7.228179723271529,
          7.813097800613677,
          8.845531357403402,
          8.420887297669303,
          8.889107355018211,
          7.592998240644765,
          7.8717011597807875,
          9.131202334329384,
          8.992206718893575,
          9.144346873728674,
          8.848032562450218,
          7.167604998958594,
          7.119301322360769,
          8.469003499660394,
          9.192589702185051,
          9.155664644879613,
          7.5538971228739795,
          8.588316943883559,
          8.436961871996527,
          8.904044487702636,
          8.460464341344176,
          8.568813876442604,
          9.129177025289321,
          8.146149923417093,
          7.077275311145087,
          9.1322610771342,
          7.124390998016301,
          9.062764211499108,
          9.128371470357079,
          9.175692938785215,
          8.969789639272612,
          8.954983089905136,
          9.010413634040587,
          8.76387610562776,
          8.291823014041494,
          8.975737036199696,
          8.959371916042757,
          7.7458497887923095,
          8.138751632034268,
          7.2081437425238555,
          7.352407580929568,
          9.227658928406155,
          9.211472058565565,
          8.564891591559022,
          8.45396176735578,
          9.181156368044547,
          7.25381640076797,
          9.030509171593206,
          8.827425952049937,
          7.732153537718485,
          8.287066311579908,
          9.129070053758834,
          9.162456545923872,
          9.002091789079865,
          9.13025042788995,
          8.650556817374774,
          9.139485899231811,
          8.44315255598141,
          8.332634293550383,
          8.909256839456752,
          9.106393996525263,
          8.293231938886583,
          9.026618309650665,
          7.477651928412993,
          9.167839732322285,
          8.559846482806218,
          8.818844632265709,
          7.092142343371299,
          8.66733636772882,
          7.929095206052219,
          8.895325610182354,
          7.167296438199429,
          7.215876204735308,
          9.227774856105917,
          7.2100541549552135,
          8.299740562867726,
          7.600527375353178,
          7.585775229698002,
          8.4597502581483,
          8.893683548431838,
          9.015493425678612,
          9.038697174862333,
          8.64402380265817,
          8.951969064562661,
          7.271866605614628,
          8.73982550854462,
          8.11704551156265,
          7.58983092204822,
          8.128085520601056,
          7.574524367255499,
          7.414605605071729,
          7.592512178006579,
          8.123167511357092,
          9.045564577658876,
          7.384533471829525,
          8.267135631642603,
          8.914342985408654,
          7.930720684760319,
          8.06819517505915,
          8.566952709496833,
          8.014201063452054,
          8.444745819953063,
          7.681722333336649,
          7.45192034276142,
          8.421393177437455,
          9.020216124941493,
          7.176504667320363,
          7.85369118962251,
          8.766071538790605,
          9.070946914689648,
          8.746609558579006,
          7.617526392392289,
          8.115288950824725,
          7.216154744999301,
          9.027338634152152,
          8.670148699070442,
          8.842437042548967,
          8.044030525449248,
          7.26650899533815,
          8.309853859696723,
          9.199139452040528,
          8.8351738188416,
          9.2225574974827,
          8.825312634244854,
          8.962500980096008,
          8.955802713225772,
          9.159543508171536,
          7.539465401933229,
          9.179572623984363,
          9.131445212488556,
          9.06978427388826,
          8.971322611982545,
          8.969656335790454,
          8.658121712619778,
          8.46920025081693,
          7.4859050909936835,
          9.180893201455046,
          7.202324479594262,
          9.137432839113105,
          8.155555749158,
          8.486600421986644,
          9.132636954221935,
          9.135365329946332,
          8.550432548134012,
          8.584031705447769,
          8.973603742908084,
          8.570791042648121,
          8.312271976096044,
          8.723747488369916,
          8.567611244054545,
          8.123781879145612,
          8.573734779959631,
          7.4543471489172,
          8.668170943140824,
          8.277530252349228,
          8.145851393785597,
          9.069172936941204,
          7.8487298848074945,
          9.134239298875409,
          8.946963306008673,
          9.028623154937566,
          8.116439798036891,
          8.146167231942622,
          8.323164817947989,
          8.741747419180081,
          7.712016518769096,
          8.32891694872539,
          7.065547445258051,
          8.145219717471546,
          8.669744321828668,
          9.020862763159238,
          7.115356561416804,
          8.989106735309813,
          7.133472336078306,
          8.952227291645071,
          9.152017039616846,
          8.166517422567338,
          8.88376361670115,
          8.828166898687455,
          8.456219694361899,
          8.818103685628198,
          9.144013498629267,
          7.906824271905154,
          9.020259871288227,
          9.182113747511865,
          9.085246363488558,
          8.560897666738073,
          8.659406170061123,
          8.472567690940897,
          8.689424904707831,
          8.265710434442566,
          9.122825466708091,
          9.028270517584861,
          7.524935380430947,
          7.2103895968451805,
          8.746047023398717,
          8.83005423951375,
          8.11053843950907,
          7.1718557279539,
          8.750500624799328,
          7.846762193570422,
          8.294533530970707,
          9.133980811214414,
          8.969159130031498,
          8.84976576458754,
          8.685787095138897,
          9.247956245729828,
          8.943264792064241,
          9.030806730448353,
          7.5064767068258105,
          8.550786663536453,
          8.888291015894865,
          7.122583056698836,
          9.128706792573377,
          9.07075581977302,
          8.281329700257896,
          7.237338248893133,
          8.68461086550153,
          9.109957922290585,
          8.684049942308866,
          7.921771832763694,
          9.247295374840045,
          9.202021190183277,
          7.534678989874112,
          9.038746310349822,
          7.1682672566763825,
          8.95869700623421,
          7.412912075371261,
          7.240627559548044,
          8.130331751739996,
          9.118615612254283,
          7.1867839832462685,
          7.348040312518051,
          8.805258257211056,
          8.134027083506904,
          9.177871996248836,
          9.11473330362852,
          8.650239274846156,
          8.982306705651608,
          8.899929011472123,
          7.038251468077136,
          9.151012954125294,
          9.155895365670972,
          8.311813984376494,
          9.020691019550915,
          8.956504873661196,
          8.887202563730408,
          8.101538615524687,
          7.140580306723889,
          8.45240566585688,
          8.896701188994054,
          7.956759348961182,
          7.855693497928175,
          8.28002570838645,
          9.01181890630586,
          7.253132731920848,
          8.938357177793206,
          8.439621665070817,
          8.968762176013,
          7.459884547631452,
          8.83547444909279,
          7.378725240454628,
          8.544044382918104,
          8.21224404983621,
          7.790761061513552,
          9.081046121172951,
          9.252956894288527,
          8.895741286547091,
          8.974965131793642,
          7.157609144258049,
          8.926111259538997,
          8.962277669717757,
          7.263227261000082,
          8.972301924533873,
          7.4579310822843725,
          8.828140935899157,
          9.000136159742151,
          8.12198204709387
         ],
         "y": [
          8.160518247477505,
          8.987196820661973,
          7.170119543449628,
          8.476371196895983,
          7.438383530044307,
          7.170119543449628,
          9.011889433252344,
          7.24422751560335,
          8.83927669058535,
          9.20029003612268,
          7.24422751560335,
          8.68270762989381,
          9.126958763037132,
          8.68270762989381,
          7.783224016336037,
          8.575462099540212,
          9.0595174822416,
          8.389359819906353,
          8.594154232552366,
          8.794824928014517,
          8.948975607841776,
          8.732304571033183,
          7.649692623711514,
          7.090076835776092,
          8.895629627136483,
          7.90100705199242,
          7.549609165154532,
          8.594154232552366,
          7.649692623711514,
          8.131530710604252,
          8.006367567650246,
          8.881836305004146,
          9.137769679141348,
          7.170119543449628,
          7.24422751560335,
          7.696212639346407,
          9.259130536145614,
          9.035986984831405,
          8.594154232552366,
          9.035986984831405,
          7.438383530044307,
          8.496990484098719,
          7.170119543449628,
          7.495541943884256,
          8.594154232552366,
          9.02401079378469,
          9.082507000466299,
          7.170119543449628,
          9.071078304642676,
          7.003065458786462,
          8.895629627136483,
          8.732304571033183,
          8.101677747454572,
          8.575462099540212,
          8.517193191416238,
          7.170119543449628,
          8.476371196895983,
          8.517193191416238,
          9.011889433252344,
          8.68270762989381,
          7.313220387090301,
          9.137769679141348,
          9.169518377455928,
          8.824677891164198,
          8.764053269347762,
          8.83927669058535,
          8.006367567650246,
          7.495541943884256,
          8.895629627136483,
          9.230142999272362,
          9.071078304642676,
          8.45531778769815,
          8.895629627136483,
          8.160518247477505,
          9.011889433252344,
          9.02401079378469,
          8.824677891164198,
          8.294049640102028,
          8.764053269347762,
          8.575462099540212,
          8.699514748210191,
          9.02401079378469,
          9.20029003612268,
          9.035986984831405,
          7.649692623711514,
          8.517193191416238,
          8.131530710604252,
          7.003065458786462,
          7.783224016336037,
          8.974618038455112,
          8.935903526274423,
          8.34283980427146,
          8.987196820661973,
          7.313220387090301,
          8.34283980427146,
          7.8632667240095735,
          9.082507000466299,
          8.85366542803745,
          8.83927669058535,
          8.68270762989381,
          9.093806555720231,
          9.011889433252344,
          8.517193191416238,
          9.190137664658664,
          8.45531778769815,
          8.794824928014517,
          7.824046010856292,
          7.696212639346407,
          8.881836305004146,
          7.170119543449628,
          8.556413904569519,
          8.556413904569519,
          7.170119543449628,
          7.937374696163295,
          7.170119543449628,
          9.035986984831405,
          9.093806555720231,
          7.783224016336037,
          9.011889433252344,
          8.881836305004146,
          7.8632667240095735,
          8.556413904569519,
          8.909235279192261,
          8.594154232552366,
          9.093806555720231,
          8.935903526274423,
          8.101677747454572,
          8.496990484098719,
          8.824677891164198,
          9.035986984831405,
          7.090076835776092,
          7.24422751560335,
          8.160518247477505,
          9.093806555720231,
          8.34283980427146,
          8.45531778769815,
          9.0595174822416,
          8.268731832117737,
          7.24422751560335,
          7.824046010856292,
          8.85366542803745,
          8.389359819906353,
          8.881836305004146,
          7.696212639346407,
          7.824046010856292,
          9.116029692504942,
          9.011889433252344,
          9.148464968258095,
          8.85366542803745,
          7.003065458786462,
          7.090076835776092,
          8.496990484098719,
          9.20029003612268,
          9.169518377455928,
          7.495541943884256,
          8.594154232552366,
          8.411832675758411,
          8.909235279192261,
          8.411832675758411,
          8.575462099540212,
          9.126958763037132,
          8.160518247477505,
          7.003065458786462,
          9.148464968258095,
          7.090076835776092,
          9.071078304642676,
          9.137769679141348,
          9.190137664658664,
          8.974618038455112,
          8.961879012677683,
          9.011889433252344,
          8.794824928014517,
          8.294049640102028,
          8.948975607841776,
          8.961879012677683,
          7.696212639346407,
          8.131530710604252,
          7.24422751560335,
          7.24422751560335,
          9.230142999272362,
          9.20029003612268,
          8.556413904569519,
          8.45531778769815,
          9.179881164491475,
          7.313220387090301,
          9.035986984831405,
          8.824677891164198,
          7.696212639346407,
          8.268731832117737,
          9.137769679141348,
          9.169518377455928,
          9.02401079378469,
          9.137769679141348,
          8.630521876723241,
          9.116029692504942,
          8.411832675758411,
          8.34283980427146,
          8.881836305004146,
          9.093806555720231,
          8.294049640102028,
          9.035986984831405,
          7.438383530044307,
          9.169518377455928,
          8.556413904569519,
          8.824677891164198,
          7.003065458786462,
          8.66561319653451,
          7.9724660159745655,
          8.895629627136483,
          7.170119543449628,
          7.24422751560335,
          9.230142999272362,
          7.24422751560335,
          8.318742252692399,
          7.649692623711514,
          7.649692623711514,
          8.476371196895983,
          8.895629627136483,
          9.035986984831405,
          9.035986984831405,
          8.648221453822641,
          8.948975607841776,
          7.313220387090301,
          8.748304912379623,
          8.101677747454572,
          7.600902459542082,
          8.131530710604252,
          7.696212639346407,
          7.438383530044307,
          7.649692623711514,
          8.101677747454572,
          9.035986984831405,
          7.313220387090301,
          8.242756345714477,
          8.895629627136483,
          7.9724660159745655,
          8.131530710604252,
          8.575462099540212,
          8.006367567650246,
          8.45531778769815,
          7.600902459542082,
          7.438383530044307,
          8.389359819906353,
          9.02401079378469,
          7.170119543449628,
          7.824046010856292,
          8.764053269347762,
          9.082507000466299,
          8.748304912379623,
          7.696212639346407,
          8.101677747454572,
          7.24422751560335,
          9.035986984831405,
          8.66561319653451,
          8.85366542803745,
          8.101677747454572,
          7.313220387090301,
          8.34283980427146,
          9.190137664658664,
          8.83927669058535,
          9.230142999272362,
          8.824677891164198,
          8.935903526274423,
          8.948975607841776,
          9.169518377455928,
          7.549609165154532,
          9.179881164491475,
          9.126958763037132,
          9.071078304642676,
          8.974618038455112,
          8.987196820661973,
          8.66561319653451,
          8.496990484098719,
          7.438383530044307,
          9.190137664658664,
          7.170119543449628,
          9.116029692504942,
          8.160518247477505,
          8.496990484098719,
          9.116029692504942,
          9.137769679141348,
          8.556413904569519,
          8.594154232552366,
          8.987196820661973,
          8.575462099540212,
          8.34283980427146,
          8.764053269347762,
          8.575462099540212,
          8.101677747454572,
          8.594154232552366,
          7.438383530044307,
          8.68270762989381,
          8.294049640102028,
          8.160518247477505,
          9.082507000466299,
          7.937374696163295,
          9.148464968258095,
          8.948975607841776,
          9.011889433252344,
          8.101677747454572,
          8.160518247477505,
          8.34283980427146,
          8.748304912379623,
          7.649692623711514,
          8.34283980427146,
          7.003065458786462,
          8.160518247477505,
          8.648221453822641,
          9.02401079378469,
          7.090076835776092,
          8.987196820661973,
          7.090076835776092,
          8.935903526274423,
          9.137769679141348,
          8.101677747454572,
          8.881836305004146,
          8.824677891164198,
          8.411832675758411,
          8.824677891164198,
          9.148464968258095,
          7.90100705199242,
          9.035986984831405,
          9.20029003612268,
          9.0595174822416,
          8.556413904569519,
          8.630521876723241,
          8.476371196895983,
          8.66561319653451,
          8.242756345714477,
          9.116029692504942,
          9.035986984831405,
          7.549609165154532,
          7.24422751560335,
          8.764053269347762,
          8.824677891164198,
          8.101677747454572,
          7.170119543449628,
          8.794824928014517,
          7.8632667240095735,
          8.294049640102028,
          9.137769679141348,
          8.961879012677683,
          8.85366542803745,
          8.699514748210191,
          9.259130536145614,
          8.948975607841776,
          9.02401079378469,
          7.600902459542082,
          8.556413904569519,
          8.881836305004146,
          7.090076835776092,
          9.126958763037132,
          9.082507000466299,
          8.294049640102028,
          7.313220387090301,
          8.648221453822641,
          9.093806555720231,
          8.699514748210191,
          7.824046010856292,
          9.249561085129464,
          9.20029003612268,
          7.549609165154532,
          9.011889433252344,
          7.170119543449628,
          8.974618038455112,
          7.438383530044307,
          7.090076835776092,
          8.160518247477505,
          9.116029692504942,
          7.24422751560335,
          7.438383530044307,
          8.794824928014517,
          8.131530710604252,
          9.190137664658664,
          9.116029692504942,
          8.630521876723241,
          8.974618038455112,
          8.909235279192261,
          7.003065458786462,
          9.148464968258095,
          9.148464968258095,
          8.318742252692399,
          9.035986984831405,
          8.935903526274423,
          8.881836305004146,
          8.101677747454572,
          7.090076835776092,
          8.433811582477187,
          8.895629627136483,
          8.006367567650246,
          7.824046010856292,
          8.294049640102028,
          9.02401079378469,
          7.313220387090301,
          8.935903526274423,
          8.411832675758411,
          8.948975607841776,
          7.495541943884256,
          8.83927669058535,
          7.313220387090301,
          8.556413904569519,
          8.242756345714477,
          7.783224016336037,
          9.082507000466299,
          9.259130536145614,
          8.895629627136483,
          8.987196820661973,
          7.170119543449628,
          8.895629627136483,
          8.974618038455112,
          7.313220387090301,
          8.948975607841776,
          7.495541943884256,
          8.824677891164198,
          9.011889433252344,
          8.101677747454572
         ]
        },
        {
         "line": {
          "color": "red"
         },
         "mode": "lines",
         "type": "scatter",
         "x": [
          8.160518247477505,
          8.987196820661973,
          7.170119543449628,
          8.476371196895983,
          7.438383530044307,
          7.170119543449628,
          9.011889433252344,
          7.24422751560335,
          8.83927669058535,
          9.20029003612268,
          7.24422751560335,
          8.68270762989381,
          9.126958763037132,
          8.68270762989381,
          7.783224016336037,
          8.575462099540212,
          9.0595174822416,
          8.389359819906353,
          8.594154232552366,
          8.794824928014517,
          8.948975607841776,
          8.732304571033183,
          7.649692623711514,
          7.090076835776092,
          8.895629627136483,
          7.90100705199242,
          7.549609165154532,
          8.594154232552366,
          7.649692623711514,
          8.131530710604252,
          8.006367567650246,
          8.881836305004146,
          9.137769679141348,
          7.170119543449628,
          7.24422751560335,
          7.696212639346407,
          9.259130536145614,
          9.035986984831405,
          8.594154232552366,
          9.035986984831405,
          7.438383530044307,
          8.496990484098719,
          7.170119543449628,
          7.495541943884256,
          8.594154232552366,
          9.02401079378469,
          9.082507000466299,
          7.170119543449628,
          9.071078304642676,
          7.003065458786462,
          8.895629627136483,
          8.732304571033183,
          8.101677747454572,
          8.575462099540212,
          8.517193191416238,
          7.170119543449628,
          8.476371196895983,
          8.517193191416238,
          9.011889433252344,
          8.68270762989381,
          7.313220387090301,
          9.137769679141348,
          9.169518377455928,
          8.824677891164198,
          8.764053269347762,
          8.83927669058535,
          8.006367567650246,
          7.495541943884256,
          8.895629627136483,
          9.230142999272362,
          9.071078304642676,
          8.45531778769815,
          8.895629627136483,
          8.160518247477505,
          9.011889433252344,
          9.02401079378469,
          8.824677891164198,
          8.294049640102028,
          8.764053269347762,
          8.575462099540212,
          8.699514748210191,
          9.02401079378469,
          9.20029003612268,
          9.035986984831405,
          7.649692623711514,
          8.517193191416238,
          8.131530710604252,
          7.003065458786462,
          7.783224016336037,
          8.974618038455112,
          8.935903526274423,
          8.34283980427146,
          8.987196820661973,
          7.313220387090301,
          8.34283980427146,
          7.8632667240095735,
          9.082507000466299,
          8.85366542803745,
          8.83927669058535,
          8.68270762989381,
          9.093806555720231,
          9.011889433252344,
          8.517193191416238,
          9.190137664658664,
          8.45531778769815,
          8.794824928014517,
          7.824046010856292,
          7.696212639346407,
          8.881836305004146,
          7.170119543449628,
          8.556413904569519,
          8.556413904569519,
          7.170119543449628,
          7.937374696163295,
          7.170119543449628,
          9.035986984831405,
          9.093806555720231,
          7.783224016336037,
          9.011889433252344,
          8.881836305004146,
          7.8632667240095735,
          8.556413904569519,
          8.909235279192261,
          8.594154232552366,
          9.093806555720231,
          8.935903526274423,
          8.101677747454572,
          8.496990484098719,
          8.824677891164198,
          9.035986984831405,
          7.090076835776092,
          7.24422751560335,
          8.160518247477505,
          9.093806555720231,
          8.34283980427146,
          8.45531778769815,
          9.0595174822416,
          8.268731832117737,
          7.24422751560335,
          7.824046010856292,
          8.85366542803745,
          8.389359819906353,
          8.881836305004146,
          7.696212639346407,
          7.824046010856292,
          9.116029692504942,
          9.011889433252344,
          9.148464968258095,
          8.85366542803745,
          7.003065458786462,
          7.090076835776092,
          8.496990484098719,
          9.20029003612268,
          9.169518377455928,
          7.495541943884256,
          8.594154232552366,
          8.411832675758411,
          8.909235279192261,
          8.411832675758411,
          8.575462099540212,
          9.126958763037132,
          8.160518247477505,
          7.003065458786462,
          9.148464968258095,
          7.090076835776092,
          9.071078304642676,
          9.137769679141348,
          9.190137664658664,
          8.974618038455112,
          8.961879012677683,
          9.011889433252344,
          8.794824928014517,
          8.294049640102028,
          8.948975607841776,
          8.961879012677683,
          7.696212639346407,
          8.131530710604252,
          7.24422751560335,
          7.24422751560335,
          9.230142999272362,
          9.20029003612268,
          8.556413904569519,
          8.45531778769815,
          9.179881164491475,
          7.313220387090301,
          9.035986984831405,
          8.824677891164198,
          7.696212639346407,
          8.268731832117737,
          9.137769679141348,
          9.169518377455928,
          9.02401079378469,
          9.137769679141348,
          8.630521876723241,
          9.116029692504942,
          8.411832675758411,
          8.34283980427146,
          8.881836305004146,
          9.093806555720231,
          8.294049640102028,
          9.035986984831405,
          7.438383530044307,
          9.169518377455928,
          8.556413904569519,
          8.824677891164198,
          7.003065458786462,
          8.66561319653451,
          7.9724660159745655,
          8.895629627136483,
          7.170119543449628,
          7.24422751560335,
          9.230142999272362,
          7.24422751560335,
          8.318742252692399,
          7.649692623711514,
          7.649692623711514,
          8.476371196895983,
          8.895629627136483,
          9.035986984831405,
          9.035986984831405,
          8.648221453822641,
          8.948975607841776,
          7.313220387090301,
          8.748304912379623,
          8.101677747454572,
          7.600902459542082,
          8.131530710604252,
          7.696212639346407,
          7.438383530044307,
          7.649692623711514,
          8.101677747454572,
          9.035986984831405,
          7.313220387090301,
          8.242756345714477,
          8.895629627136483,
          7.9724660159745655,
          8.131530710604252,
          8.575462099540212,
          8.006367567650246,
          8.45531778769815,
          7.600902459542082,
          7.438383530044307,
          8.389359819906353,
          9.02401079378469,
          7.170119543449628,
          7.824046010856292,
          8.764053269347762,
          9.082507000466299,
          8.748304912379623,
          7.696212639346407,
          8.101677747454572,
          7.24422751560335,
          9.035986984831405,
          8.66561319653451,
          8.85366542803745,
          8.101677747454572,
          7.313220387090301,
          8.34283980427146,
          9.190137664658664,
          8.83927669058535,
          9.230142999272362,
          8.824677891164198,
          8.935903526274423,
          8.948975607841776,
          9.169518377455928,
          7.549609165154532,
          9.179881164491475,
          9.126958763037132,
          9.071078304642676,
          8.974618038455112,
          8.987196820661973,
          8.66561319653451,
          8.496990484098719,
          7.438383530044307,
          9.190137664658664,
          7.170119543449628,
          9.116029692504942,
          8.160518247477505,
          8.496990484098719,
          9.116029692504942,
          9.137769679141348,
          8.556413904569519,
          8.594154232552366,
          8.987196820661973,
          8.575462099540212,
          8.34283980427146,
          8.764053269347762,
          8.575462099540212,
          8.101677747454572,
          8.594154232552366,
          7.438383530044307,
          8.68270762989381,
          8.294049640102028,
          8.160518247477505,
          9.082507000466299,
          7.937374696163295,
          9.148464968258095,
          8.948975607841776,
          9.011889433252344,
          8.101677747454572,
          8.160518247477505,
          8.34283980427146,
          8.748304912379623,
          7.649692623711514,
          8.34283980427146,
          7.003065458786462,
          8.160518247477505,
          8.648221453822641,
          9.02401079378469,
          7.090076835776092,
          8.987196820661973,
          7.090076835776092,
          8.935903526274423,
          9.137769679141348,
          8.101677747454572,
          8.881836305004146,
          8.824677891164198,
          8.411832675758411,
          8.824677891164198,
          9.148464968258095,
          7.90100705199242,
          9.035986984831405,
          9.20029003612268,
          9.0595174822416,
          8.556413904569519,
          8.630521876723241,
          8.476371196895983,
          8.66561319653451,
          8.242756345714477,
          9.116029692504942,
          9.035986984831405,
          7.549609165154532,
          7.24422751560335,
          8.764053269347762,
          8.824677891164198,
          8.101677747454572,
          7.170119543449628,
          8.794824928014517,
          7.8632667240095735,
          8.294049640102028,
          9.137769679141348,
          8.961879012677683,
          8.85366542803745,
          8.699514748210191,
          9.259130536145614,
          8.948975607841776,
          9.02401079378469,
          7.600902459542082,
          8.556413904569519,
          8.881836305004146,
          7.090076835776092,
          9.126958763037132,
          9.082507000466299,
          8.294049640102028,
          7.313220387090301,
          8.648221453822641,
          9.093806555720231,
          8.699514748210191,
          7.824046010856292,
          9.249561085129464,
          9.20029003612268,
          7.549609165154532,
          9.011889433252344,
          7.170119543449628,
          8.974618038455112,
          7.438383530044307,
          7.090076835776092,
          8.160518247477505,
          9.116029692504942,
          7.24422751560335,
          7.438383530044307,
          8.794824928014517,
          8.131530710604252,
          9.190137664658664,
          9.116029692504942,
          8.630521876723241,
          8.974618038455112,
          8.909235279192261,
          7.003065458786462,
          9.148464968258095,
          9.148464968258095,
          8.318742252692399,
          9.035986984831405,
          8.935903526274423,
          8.881836305004146,
          8.101677747454572,
          7.090076835776092,
          8.433811582477187,
          8.895629627136483,
          8.006367567650246,
          7.824046010856292,
          8.294049640102028,
          9.02401079378469,
          7.313220387090301,
          8.935903526274423,
          8.411832675758411,
          8.948975607841776,
          7.495541943884256,
          8.83927669058535,
          7.313220387090301,
          8.556413904569519,
          8.242756345714477,
          7.783224016336037,
          9.082507000466299,
          9.259130536145614,
          8.895629627136483,
          8.987196820661973,
          7.170119543449628,
          8.895629627136483,
          8.974618038455112,
          7.313220387090301,
          8.948975607841776,
          7.495541943884256,
          8.824677891164198,
          9.011889433252344,
          8.101677747454572
         ],
         "y": [
          8.160518247477505,
          8.987196820661973,
          7.170119543449628,
          8.476371196895983,
          7.438383530044307,
          7.170119543449628,
          9.011889433252344,
          7.24422751560335,
          8.83927669058535,
          9.20029003612268,
          7.24422751560335,
          8.68270762989381,
          9.126958763037132,
          8.68270762989381,
          7.783224016336037,
          8.575462099540212,
          9.0595174822416,
          8.389359819906353,
          8.594154232552366,
          8.794824928014517,
          8.948975607841776,
          8.732304571033183,
          7.649692623711514,
          7.090076835776092,
          8.895629627136483,
          7.90100705199242,
          7.549609165154532,
          8.594154232552366,
          7.649692623711514,
          8.131530710604252,
          8.006367567650246,
          8.881836305004146,
          9.137769679141348,
          7.170119543449628,
          7.24422751560335,
          7.696212639346407,
          9.259130536145614,
          9.035986984831405,
          8.594154232552366,
          9.035986984831405,
          7.438383530044307,
          8.496990484098719,
          7.170119543449628,
          7.495541943884256,
          8.594154232552366,
          9.02401079378469,
          9.082507000466299,
          7.170119543449628,
          9.071078304642676,
          7.003065458786462,
          8.895629627136483,
          8.732304571033183,
          8.101677747454572,
          8.575462099540212,
          8.517193191416238,
          7.170119543449628,
          8.476371196895983,
          8.517193191416238,
          9.011889433252344,
          8.68270762989381,
          7.313220387090301,
          9.137769679141348,
          9.169518377455928,
          8.824677891164198,
          8.764053269347762,
          8.83927669058535,
          8.006367567650246,
          7.495541943884256,
          8.895629627136483,
          9.230142999272362,
          9.071078304642676,
          8.45531778769815,
          8.895629627136483,
          8.160518247477505,
          9.011889433252344,
          9.02401079378469,
          8.824677891164198,
          8.294049640102028,
          8.764053269347762,
          8.575462099540212,
          8.699514748210191,
          9.02401079378469,
          9.20029003612268,
          9.035986984831405,
          7.649692623711514,
          8.517193191416238,
          8.131530710604252,
          7.003065458786462,
          7.783224016336037,
          8.974618038455112,
          8.935903526274423,
          8.34283980427146,
          8.987196820661973,
          7.313220387090301,
          8.34283980427146,
          7.8632667240095735,
          9.082507000466299,
          8.85366542803745,
          8.83927669058535,
          8.68270762989381,
          9.093806555720231,
          9.011889433252344,
          8.517193191416238,
          9.190137664658664,
          8.45531778769815,
          8.794824928014517,
          7.824046010856292,
          7.696212639346407,
          8.881836305004146,
          7.170119543449628,
          8.556413904569519,
          8.556413904569519,
          7.170119543449628,
          7.937374696163295,
          7.170119543449628,
          9.035986984831405,
          9.093806555720231,
          7.783224016336037,
          9.011889433252344,
          8.881836305004146,
          7.8632667240095735,
          8.556413904569519,
          8.909235279192261,
          8.594154232552366,
          9.093806555720231,
          8.935903526274423,
          8.101677747454572,
          8.496990484098719,
          8.824677891164198,
          9.035986984831405,
          7.090076835776092,
          7.24422751560335,
          8.160518247477505,
          9.093806555720231,
          8.34283980427146,
          8.45531778769815,
          9.0595174822416,
          8.268731832117737,
          7.24422751560335,
          7.824046010856292,
          8.85366542803745,
          8.389359819906353,
          8.881836305004146,
          7.696212639346407,
          7.824046010856292,
          9.116029692504942,
          9.011889433252344,
          9.148464968258095,
          8.85366542803745,
          7.003065458786462,
          7.090076835776092,
          8.496990484098719,
          9.20029003612268,
          9.169518377455928,
          7.495541943884256,
          8.594154232552366,
          8.411832675758411,
          8.909235279192261,
          8.411832675758411,
          8.575462099540212,
          9.126958763037132,
          8.160518247477505,
          7.003065458786462,
          9.148464968258095,
          7.090076835776092,
          9.071078304642676,
          9.137769679141348,
          9.190137664658664,
          8.974618038455112,
          8.961879012677683,
          9.011889433252344,
          8.794824928014517,
          8.294049640102028,
          8.948975607841776,
          8.961879012677683,
          7.696212639346407,
          8.131530710604252,
          7.24422751560335,
          7.24422751560335,
          9.230142999272362,
          9.20029003612268,
          8.556413904569519,
          8.45531778769815,
          9.179881164491475,
          7.313220387090301,
          9.035986984831405,
          8.824677891164198,
          7.696212639346407,
          8.268731832117737,
          9.137769679141348,
          9.169518377455928,
          9.02401079378469,
          9.137769679141348,
          8.630521876723241,
          9.116029692504942,
          8.411832675758411,
          8.34283980427146,
          8.881836305004146,
          9.093806555720231,
          8.294049640102028,
          9.035986984831405,
          7.438383530044307,
          9.169518377455928,
          8.556413904569519,
          8.824677891164198,
          7.003065458786462,
          8.66561319653451,
          7.9724660159745655,
          8.895629627136483,
          7.170119543449628,
          7.24422751560335,
          9.230142999272362,
          7.24422751560335,
          8.318742252692399,
          7.649692623711514,
          7.649692623711514,
          8.476371196895983,
          8.895629627136483,
          9.035986984831405,
          9.035986984831405,
          8.648221453822641,
          8.948975607841776,
          7.313220387090301,
          8.748304912379623,
          8.101677747454572,
          7.600902459542082,
          8.131530710604252,
          7.696212639346407,
          7.438383530044307,
          7.649692623711514,
          8.101677747454572,
          9.035986984831405,
          7.313220387090301,
          8.242756345714477,
          8.895629627136483,
          7.9724660159745655,
          8.131530710604252,
          8.575462099540212,
          8.006367567650246,
          8.45531778769815,
          7.600902459542082,
          7.438383530044307,
          8.389359819906353,
          9.02401079378469,
          7.170119543449628,
          7.824046010856292,
          8.764053269347762,
          9.082507000466299,
          8.748304912379623,
          7.696212639346407,
          8.101677747454572,
          7.24422751560335,
          9.035986984831405,
          8.66561319653451,
          8.85366542803745,
          8.101677747454572,
          7.313220387090301,
          8.34283980427146,
          9.190137664658664,
          8.83927669058535,
          9.230142999272362,
          8.824677891164198,
          8.935903526274423,
          8.948975607841776,
          9.169518377455928,
          7.549609165154532,
          9.179881164491475,
          9.126958763037132,
          9.071078304642676,
          8.974618038455112,
          8.987196820661973,
          8.66561319653451,
          8.496990484098719,
          7.438383530044307,
          9.190137664658664,
          7.170119543449628,
          9.116029692504942,
          8.160518247477505,
          8.496990484098719,
          9.116029692504942,
          9.137769679141348,
          8.556413904569519,
          8.594154232552366,
          8.987196820661973,
          8.575462099540212,
          8.34283980427146,
          8.764053269347762,
          8.575462099540212,
          8.101677747454572,
          8.594154232552366,
          7.438383530044307,
          8.68270762989381,
          8.294049640102028,
          8.160518247477505,
          9.082507000466299,
          7.937374696163295,
          9.148464968258095,
          8.948975607841776,
          9.011889433252344,
          8.101677747454572,
          8.160518247477505,
          8.34283980427146,
          8.748304912379623,
          7.649692623711514,
          8.34283980427146,
          7.003065458786462,
          8.160518247477505,
          8.648221453822641,
          9.02401079378469,
          7.090076835776092,
          8.987196820661973,
          7.090076835776092,
          8.935903526274423,
          9.137769679141348,
          8.101677747454572,
          8.881836305004146,
          8.824677891164198,
          8.411832675758411,
          8.824677891164198,
          9.148464968258095,
          7.90100705199242,
          9.035986984831405,
          9.20029003612268,
          9.0595174822416,
          8.556413904569519,
          8.630521876723241,
          8.476371196895983,
          8.66561319653451,
          8.242756345714477,
          9.116029692504942,
          9.035986984831405,
          7.549609165154532,
          7.24422751560335,
          8.764053269347762,
          8.824677891164198,
          8.101677747454572,
          7.170119543449628,
          8.794824928014517,
          7.8632667240095735,
          8.294049640102028,
          9.137769679141348,
          8.961879012677683,
          8.85366542803745,
          8.699514748210191,
          9.259130536145614,
          8.948975607841776,
          9.02401079378469,
          7.600902459542082,
          8.556413904569519,
          8.881836305004146,
          7.090076835776092,
          9.126958763037132,
          9.082507000466299,
          8.294049640102028,
          7.313220387090301,
          8.648221453822641,
          9.093806555720231,
          8.699514748210191,
          7.824046010856292,
          9.249561085129464,
          9.20029003612268,
          7.549609165154532,
          9.011889433252344,
          7.170119543449628,
          8.974618038455112,
          7.438383530044307,
          7.090076835776092,
          8.160518247477505,
          9.116029692504942,
          7.24422751560335,
          7.438383530044307,
          8.794824928014517,
          8.131530710604252,
          9.190137664658664,
          9.116029692504942,
          8.630521876723241,
          8.974618038455112,
          8.909235279192261,
          7.003065458786462,
          9.148464968258095,
          9.148464968258095,
          8.318742252692399,
          9.035986984831405,
          8.935903526274423,
          8.881836305004146,
          8.101677747454572,
          7.090076835776092,
          8.433811582477187,
          8.895629627136483,
          8.006367567650246,
          7.824046010856292,
          8.294049640102028,
          9.02401079378469,
          7.313220387090301,
          8.935903526274423,
          8.411832675758411,
          8.948975607841776,
          7.495541943884256,
          8.83927669058535,
          7.313220387090301,
          8.556413904569519,
          8.242756345714477,
          7.783224016336037,
          9.082507000466299,
          9.259130536145614,
          8.895629627136483,
          8.987196820661973,
          7.170119543449628,
          8.895629627136483,
          8.974618038455112,
          7.313220387090301,
          8.948975607841776,
          7.495541943884256,
          8.824677891164198,
          9.011889433252344,
          8.101677747454572
         ]
        }
       ],
       "layout": {
        "height": 500,
        "template": {
         "data": {
          "bar": [
           {
            "error_x": {
             "color": "#2a3f5f"
            },
            "error_y": {
             "color": "#2a3f5f"
            },
            "marker": {
             "line": {
              "color": "#E5ECF6",
              "width": 0.5
             },
             "pattern": {
              "fillmode": "overlay",
              "size": 10,
              "solidity": 0.2
             }
            },
            "type": "bar"
           }
          ],
          "barpolar": [
           {
            "marker": {
             "line": {
              "color": "#E5ECF6",
              "width": 0.5
             },
             "pattern": {
              "fillmode": "overlay",
              "size": 10,
              "solidity": 0.2
             }
            },
            "type": "barpolar"
           }
          ],
          "carpet": [
           {
            "aaxis": {
             "endlinecolor": "#2a3f5f",
             "gridcolor": "white",
             "linecolor": "white",
             "minorgridcolor": "white",
             "startlinecolor": "#2a3f5f"
            },
            "baxis": {
             "endlinecolor": "#2a3f5f",
             "gridcolor": "white",
             "linecolor": "white",
             "minorgridcolor": "white",
             "startlinecolor": "#2a3f5f"
            },
            "type": "carpet"
           }
          ],
          "choropleth": [
           {
            "colorbar": {
             "outlinewidth": 0,
             "ticks": ""
            },
            "type": "choropleth"
           }
          ],
          "contour": [
           {
            "colorbar": {
             "outlinewidth": 0,
             "ticks": ""
            },
            "colorscale": [
             [
              0,
              "#0d0887"
             ],
             [
              0.1111111111111111,
              "#46039f"
             ],
             [
              0.2222222222222222,
              "#7201a8"
             ],
             [
              0.3333333333333333,
              "#9c179e"
             ],
             [
              0.4444444444444444,
              "#bd3786"
             ],
             [
              0.5555555555555556,
              "#d8576b"
             ],
             [
              0.6666666666666666,
              "#ed7953"
             ],
             [
              0.7777777777777778,
              "#fb9f3a"
             ],
             [
              0.8888888888888888,
              "#fdca26"
             ],
             [
              1,
              "#f0f921"
             ]
            ],
            "type": "contour"
           }
          ],
          "contourcarpet": [
           {
            "colorbar": {
             "outlinewidth": 0,
             "ticks": ""
            },
            "type": "contourcarpet"
           }
          ],
          "heatmap": [
           {
            "colorbar": {
             "outlinewidth": 0,
             "ticks": ""
            },
            "colorscale": [
             [
              0,
              "#0d0887"
             ],
             [
              0.1111111111111111,
              "#46039f"
             ],
             [
              0.2222222222222222,
              "#7201a8"
             ],
             [
              0.3333333333333333,
              "#9c179e"
             ],
             [
              0.4444444444444444,
              "#bd3786"
             ],
             [
              0.5555555555555556,
              "#d8576b"
             ],
             [
              0.6666666666666666,
              "#ed7953"
             ],
             [
              0.7777777777777778,
              "#fb9f3a"
             ],
             [
              0.8888888888888888,
              "#fdca26"
             ],
             [
              1,
              "#f0f921"
             ]
            ],
            "type": "heatmap"
           }
          ],
          "heatmapgl": [
           {
            "colorbar": {
             "outlinewidth": 0,
             "ticks": ""
            },
            "colorscale": [
             [
              0,
              "#0d0887"
             ],
             [
              0.1111111111111111,
              "#46039f"
             ],
             [
              0.2222222222222222,
              "#7201a8"
             ],
             [
              0.3333333333333333,
              "#9c179e"
             ],
             [
              0.4444444444444444,
              "#bd3786"
             ],
             [
              0.5555555555555556,
              "#d8576b"
             ],
             [
              0.6666666666666666,
              "#ed7953"
             ],
             [
              0.7777777777777778,
              "#fb9f3a"
             ],
             [
              0.8888888888888888,
              "#fdca26"
             ],
             [
              1,
              "#f0f921"
             ]
            ],
            "type": "heatmapgl"
           }
          ],
          "histogram": [
           {
            "marker": {
             "pattern": {
              "fillmode": "overlay",
              "size": 10,
              "solidity": 0.2
             }
            },
            "type": "histogram"
           }
          ],
          "histogram2d": [
           {
            "colorbar": {
             "outlinewidth": 0,
             "ticks": ""
            },
            "colorscale": [
             [
              0,
              "#0d0887"
             ],
             [
              0.1111111111111111,
              "#46039f"
             ],
             [
              0.2222222222222222,
              "#7201a8"
             ],
             [
              0.3333333333333333,
              "#9c179e"
             ],
             [
              0.4444444444444444,
              "#bd3786"
             ],
             [
              0.5555555555555556,
              "#d8576b"
             ],
             [
              0.6666666666666666,
              "#ed7953"
             ],
             [
              0.7777777777777778,
              "#fb9f3a"
             ],
             [
              0.8888888888888888,
              "#fdca26"
             ],
             [
              1,
              "#f0f921"
             ]
            ],
            "type": "histogram2d"
           }
          ],
          "histogram2dcontour": [
           {
            "colorbar": {
             "outlinewidth": 0,
             "ticks": ""
            },
            "colorscale": [
             [
              0,
              "#0d0887"
             ],
             [
              0.1111111111111111,
              "#46039f"
             ],
             [
              0.2222222222222222,
              "#7201a8"
             ],
             [
              0.3333333333333333,
              "#9c179e"
             ],
             [
              0.4444444444444444,
              "#bd3786"
             ],
             [
              0.5555555555555556,
              "#d8576b"
             ],
             [
              0.6666666666666666,
              "#ed7953"
             ],
             [
              0.7777777777777778,
              "#fb9f3a"
             ],
             [
              0.8888888888888888,
              "#fdca26"
             ],
             [
              1,
              "#f0f921"
             ]
            ],
            "type": "histogram2dcontour"
           }
          ],
          "mesh3d": [
           {
            "colorbar": {
             "outlinewidth": 0,
             "ticks": ""
            },
            "type": "mesh3d"
           }
          ],
          "parcoords": [
           {
            "line": {
             "colorbar": {
              "outlinewidth": 0,
              "ticks": ""
             }
            },
            "type": "parcoords"
           }
          ],
          "pie": [
           {
            "automargin": true,
            "type": "pie"
           }
          ],
          "scatter": [
           {
            "fillpattern": {
             "fillmode": "overlay",
             "size": 10,
             "solidity": 0.2
            },
            "type": "scatter"
           }
          ],
          "scatter3d": [
           {
            "line": {
             "colorbar": {
              "outlinewidth": 0,
              "ticks": ""
             }
            },
            "marker": {
             "colorbar": {
              "outlinewidth": 0,
              "ticks": ""
             }
            },
            "type": "scatter3d"
           }
          ],
          "scattercarpet": [
           {
            "marker": {
             "colorbar": {
              "outlinewidth": 0,
              "ticks": ""
             }
            },
            "type": "scattercarpet"
           }
          ],
          "scattergeo": [
           {
            "marker": {
             "colorbar": {
              "outlinewidth": 0,
              "ticks": ""
             }
            },
            "type": "scattergeo"
           }
          ],
          "scattergl": [
           {
            "marker": {
             "colorbar": {
              "outlinewidth": 0,
              "ticks": ""
             }
            },
            "type": "scattergl"
           }
          ],
          "scattermapbox": [
           {
            "marker": {
             "colorbar": {
              "outlinewidth": 0,
              "ticks": ""
             }
            },
            "type": "scattermapbox"
           }
          ],
          "scatterpolar": [
           {
            "marker": {
             "colorbar": {
              "outlinewidth": 0,
              "ticks": ""
             }
            },
            "type": "scatterpolar"
           }
          ],
          "scatterpolargl": [
           {
            "marker": {
             "colorbar": {
              "outlinewidth": 0,
              "ticks": ""
             }
            },
            "type": "scatterpolargl"
           }
          ],
          "scatterternary": [
           {
            "marker": {
             "colorbar": {
              "outlinewidth": 0,
              "ticks": ""
             }
            },
            "type": "scatterternary"
           }
          ],
          "surface": [
           {
            "colorbar": {
             "outlinewidth": 0,
             "ticks": ""
            },
            "colorscale": [
             [
              0,
              "#0d0887"
             ],
             [
              0.1111111111111111,
              "#46039f"
             ],
             [
              0.2222222222222222,
              "#7201a8"
             ],
             [
              0.3333333333333333,
              "#9c179e"
             ],
             [
              0.4444444444444444,
              "#bd3786"
             ],
             [
              0.5555555555555556,
              "#d8576b"
             ],
             [
              0.6666666666666666,
              "#ed7953"
             ],
             [
              0.7777777777777778,
              "#fb9f3a"
             ],
             [
              0.8888888888888888,
              "#fdca26"
             ],
             [
              1,
              "#f0f921"
             ]
            ],
            "type": "surface"
           }
          ],
          "table": [
           {
            "cells": {
             "fill": {
              "color": "#EBF0F8"
             },
             "line": {
              "color": "white"
             }
            },
            "header": {
             "fill": {
              "color": "#C8D4E3"
             },
             "line": {
              "color": "white"
             }
            },
            "type": "table"
           }
          ]
         },
         "layout": {
          "annotationdefaults": {
           "arrowcolor": "#2a3f5f",
           "arrowhead": 0,
           "arrowwidth": 1
          },
          "autotypenumbers": "strict",
          "coloraxis": {
           "colorbar": {
            "outlinewidth": 0,
            "ticks": ""
           }
          },
          "colorscale": {
           "diverging": [
            [
             0,
             "#8e0152"
            ],
            [
             0.1,
             "#c51b7d"
            ],
            [
             0.2,
             "#de77ae"
            ],
            [
             0.3,
             "#f1b6da"
            ],
            [
             0.4,
             "#fde0ef"
            ],
            [
             0.5,
             "#f7f7f7"
            ],
            [
             0.6,
             "#e6f5d0"
            ],
            [
             0.7,
             "#b8e186"
            ],
            [
             0.8,
             "#7fbc41"
            ],
            [
             0.9,
             "#4d9221"
            ],
            [
             1,
             "#276419"
            ]
           ],
           "sequential": [
            [
             0,
             "#0d0887"
            ],
            [
             0.1111111111111111,
             "#46039f"
            ],
            [
             0.2222222222222222,
             "#7201a8"
            ],
            [
             0.3333333333333333,
             "#9c179e"
            ],
            [
             0.4444444444444444,
             "#bd3786"
            ],
            [
             0.5555555555555556,
             "#d8576b"
            ],
            [
             0.6666666666666666,
             "#ed7953"
            ],
            [
             0.7777777777777778,
             "#fb9f3a"
            ],
            [
             0.8888888888888888,
             "#fdca26"
            ],
            [
             1,
             "#f0f921"
            ]
           ],
           "sequentialminus": [
            [
             0,
             "#0d0887"
            ],
            [
             0.1111111111111111,
             "#46039f"
            ],
            [
             0.2222222222222222,
             "#7201a8"
            ],
            [
             0.3333333333333333,
             "#9c179e"
            ],
            [
             0.4444444444444444,
             "#bd3786"
            ],
            [
             0.5555555555555556,
             "#d8576b"
            ],
            [
             0.6666666666666666,
             "#ed7953"
            ],
            [
             0.7777777777777778,
             "#fb9f3a"
            ],
            [
             0.8888888888888888,
             "#fdca26"
            ],
            [
             1,
             "#f0f921"
            ]
           ]
          },
          "colorway": [
           "#636efa",
           "#EF553B",
           "#00cc96",
           "#ab63fa",
           "#FFA15A",
           "#19d3f3",
           "#FF6692",
           "#B6E880",
           "#FF97FF",
           "#FECB52"
          ],
          "font": {
           "color": "#2a3f5f"
          },
          "geo": {
           "bgcolor": "white",
           "lakecolor": "white",
           "landcolor": "#E5ECF6",
           "showlakes": true,
           "showland": true,
           "subunitcolor": "white"
          },
          "hoverlabel": {
           "align": "left"
          },
          "hovermode": "closest",
          "mapbox": {
           "style": "light"
          },
          "paper_bgcolor": "white",
          "plot_bgcolor": "#E5ECF6",
          "polar": {
           "angularaxis": {
            "gridcolor": "white",
            "linecolor": "white",
            "ticks": ""
           },
           "bgcolor": "#E5ECF6",
           "radialaxis": {
            "gridcolor": "white",
            "linecolor": "white",
            "ticks": ""
           }
          },
          "scene": {
           "xaxis": {
            "backgroundcolor": "#E5ECF6",
            "gridcolor": "white",
            "gridwidth": 2,
            "linecolor": "white",
            "showbackground": true,
            "ticks": "",
            "zerolinecolor": "white"
           },
           "yaxis": {
            "backgroundcolor": "#E5ECF6",
            "gridcolor": "white",
            "gridwidth": 2,
            "linecolor": "white",
            "showbackground": true,
            "ticks": "",
            "zerolinecolor": "white"
           },
           "zaxis": {
            "backgroundcolor": "#E5ECF6",
            "gridcolor": "white",
            "gridwidth": 2,
            "linecolor": "white",
            "showbackground": true,
            "ticks": "",
            "zerolinecolor": "white"
           }
          },
          "shapedefaults": {
           "line": {
            "color": "#2a3f5f"
           }
          },
          "ternary": {
           "aaxis": {
            "gridcolor": "white",
            "linecolor": "white",
            "ticks": ""
           },
           "baxis": {
            "gridcolor": "white",
            "linecolor": "white",
            "ticks": ""
           },
           "bgcolor": "#E5ECF6",
           "caxis": {
            "gridcolor": "white",
            "linecolor": "white",
            "ticks": ""
           }
          },
          "title": {
           "x": 0.05
          },
          "xaxis": {
           "automargin": true,
           "gridcolor": "white",
           "linecolor": "white",
           "ticks": "",
           "title": {
            "standoff": 15
           },
           "zerolinecolor": "white",
           "zerolinewidth": 2
          },
          "yaxis": {
           "automargin": true,
           "gridcolor": "white",
           "linecolor": "white",
           "ticks": "",
           "title": {
            "standoff": 15
           },
           "zerolinecolor": "white",
           "zerolinewidth": 2
          }
         }
        },
        "title": {
         "text": "RF:Observed target vs Predicted target using train data"
        },
        "width": 800,
        "xaxis": {
         "title": {
          "text": "Observed consult_cost"
         }
        },
        "yaxis": {
         "title": {
          "text": "Predicted consult_cost"
         }
        }
       }
      }
     },
     "metadata": {},
     "output_type": "display_data"
    }
   ],
   "source": [
    "\n",
    "fig = go.Figure()\n",
    "\n",
    "# scatter plot using test data\n",
    "fig.add_trace(go.Scatter(y=y_train, x=RF.predict(x_train), mode='markers', marker=dict(color='blue')))\n",
    "\n",
    "# diagonal line to represent predictions\n",
    "fig.add_trace(go.Scatter(y=y_train, x=y_train, mode='lines', line=dict(color='red')))\n",
    "\n",
    "fig.update_layout(title='RF:Observed target vs Predicted target using train data', xaxis_title='Observed consult_cost', \n",
    "                  yaxis_title='Predicted consult_cost', width=800, height=500)\n",
    "fig.show()"
   ]
  },
  {
   "cell_type": "code",
   "execution_count": 1572,
   "metadata": {},
   "outputs": [
    {
     "data": {
      "application/vnd.plotly.v1+json": {
       "config": {
        "plotlyServerURL": "https://plot.ly"
       },
       "data": [
        {
         "marker": {
          "color": "blue"
         },
         "mode": "markers",
         "type": "scatter",
         "x": [
          7.9489894767169345,
          8.902247878478862,
          7.487572387578511,
          8.139988964548346,
          7.706163900930954,
          7.598398114114794,
          8.958624224518772,
          7.436498420114256,
          8.684062033948576,
          9.418024634048887,
          7.508871828618355,
          8.494675820856422,
          9.310144889578917,
          8.397609999125862,
          7.8298468149941485,
          8.342366847376638,
          9.199012813011423,
          8.094800800377671,
          8.327420725202646,
          8.623621067745217,
          8.856295224440732,
          8.558242111493252,
          7.623203376561865,
          7.704356430421107,
          8.803008555137033,
          7.850672304009289,
          7.630058599476999,
          8.321564760586377,
          7.6932712322251335,
          7.962113466486156,
          7.962223252615698,
          8.841201097774073,
          9.304776686252008,
          7.439887904045041,
          7.435589265092966,
          7.584459024181595,
          9.517013431082008,
          9.079867464087405,
          8.349525099811686,
          9.201372056851442,
          7.679923257703089,
          8.339487008065861,
          7.546174206276632,
          7.697876584446197,
          8.337669263753533,
          9.132454812004065,
          9.074486561253886,
          7.5043622330517135,
          9.094927300840949,
          7.579319686906802,
          8.798232094778252,
          8.562192707554868,
          8.02335724754111,
          8.297100621109784,
          8.182601231338868,
          7.584037693365391,
          8.159057992800172,
          8.110868707011715,
          9.004436984842258,
          8.484171691484374,
          7.607582841901512,
          9.344754945382773,
          9.416048480875636,
          8.677889954442595,
          8.572384619553368,
          8.662173672244522,
          7.826821857093672,
          7.694992580408129,
          8.706662659978445,
          9.590214425969434,
          9.179591125200927,
          8.152809473006828,
          8.768844528366118,
          7.946089188561001,
          9.020324776723903,
          9.064819016772518,
          8.63871527799093,
          8.015064639167825,
          8.561495161693268,
          8.37091007691134,
          8.434870377784204,
          9.02292166248433,
          9.376288944625989,
          8.981627879150317,
          7.7620156843213834,
          8.203271131904996,
          8.087516303555315,
          7.446690487733148,
          7.890329603208431,
          8.887290772416707,
          8.91177215073658,
          8.074956654538713,
          8.902444234621159,
          7.6878666805314,
          8.076290957536898,
          7.861777984805968,
          9.17099133733243,
          8.63581708548511,
          8.576978278146795,
          8.453447496491105,
          9.184922083131763,
          9.107933456599723,
          8.184645200588939,
          9.378017376926495,
          8.200592431734075,
          8.54956485572212,
          7.845038874714678,
          7.667305111305694,
          8.70503382198337,
          7.654112975383229,
          8.280408076158924,
          8.37686275412962,
          7.533579612727822,
          7.793382380825548,
          7.461206114249306,
          9.007851202209993,
          9.089675791474411,
          7.819708595281494,
          9.039909154044667,
          8.787765180793143,
          7.743642497872697,
          8.348330628224783,
          8.701421887746674,
          8.236812699492182,
          9.138503885029793,
          8.99425188014141,
          7.871874775974349,
          8.13383497659587,
          8.701316531044228,
          8.942489918158287,
          7.526393518803827,
          7.388336980636507,
          7.940615173226644,
          9.061506046650068,
          8.058667572921205,
          8.197325300053135,
          9.194222198331296,
          8.114047009205013,
          7.367910530850622,
          7.723450719760204,
          8.627568681269588,
          8.164340329204306,
          8.857399026261644,
          7.697170744754105,
          7.863787896790802,
          9.336084474520208,
          8.947641937823917,
          9.27186525592509,
          8.71396499232396,
          7.651488089220971,
          7.551572764625572,
          8.176036436087527,
          9.413064045700292,
          9.39136855907418,
          7.571793578104609,
          8.255710110385184,
          8.179753453914076,
          8.815535305319795,
          8.347102510947371,
          8.27477560942231,
          9.295127618181818,
          7.863564612962764,
          7.405170806691597,
          9.31058180877532,
          7.521573547350678,
          9.117814344935631,
          9.266610946048415,
          9.293292258500534,
          8.81307984798522,
          8.922908826984246,
          9.056380926425573,
          8.601377388479113,
          8.001431920454124,
          9.065790949683832,
          8.938928051655653,
          7.68963648520247,
          7.9240358408906,
          7.537263629190072,
          7.782195020331038,
          9.506729108628683,
          9.449708275539482,
          8.273346629950751,
          8.212398749919313,
          9.362348287765304,
          7.5390824458740475,
          9.065233347131946,
          8.677701836491849,
          7.775498886822049,
          8.093636432435142,
          9.316588717725274,
          9.333375495264892,
          9.05662022414222,
          9.299622705879436,
          8.43269624587877,
          9.381169610737484,
          8.22512444640127,
          8.086137620333004,
          8.982722546218023,
          9.32525813135204,
          8.087205920103772,
          9.037179517742228,
          7.597155661772978,
          9.433895347363453,
          8.356982823636084,
          8.68685260923892,
          7.4699551890494,
          8.457614079777278,
          7.8244715766563635,
          8.783623288951398,
          7.470976091082312,
          7.481592054919686,
          9.590647661895149,
          7.457491136901912,
          8.062843104113641,
          7.618634379322694,
          7.637828437025372,
          8.24372044245015,
          8.798011501772312,
          9.039621544102001,
          9.159643881748604,
          8.410985449859993,
          8.938028886895369,
          7.553772828069133,
          8.55326654015653,
          7.9628925738380305,
          7.65896830608524,
          7.929892620253395,
          7.635929381035567,
          7.65203627220101,
          7.680153250231575,
          7.978730397990487,
          9.120920581730264,
          7.72737217376547,
          8.118042858074544,
          8.908991305143632,
          7.833789564599829,
          7.901562099884626,
          8.28545744537632,
          7.96515788177042,
          8.252577501725524,
          7.8190475444121175,
          7.665359524671153,
          8.171103649546481,
          9.105010334142415,
          7.527585785211076,
          7.757046590566477,
          8.607645717747594,
          9.236945222253606,
          8.597794558583098,
          7.6560149084198414,
          7.969145959891761,
          7.5593666432551805,
          9.08526605713737,
          8.481180704597195,
          8.697041705952527,
          7.916494975931617,
          7.45839737800354,
          8.128023195562422,
          9.475180339372628,
          8.691590646613633,
          9.557410483888516,
          8.670954161846854,
          9.05809870352007,
          8.83684238515768,
          9.468587161454984,
          7.6521854350537675,
          9.401426927754898,
          9.40476841166038,
          9.139984409533259,
          8.950082475108099,
          8.884740208730955,
          8.413796139218464,
          8.179261763416013,
          7.713558720344379,
          9.40172121434156,
          7.578975291002762,
          9.405987219740314,
          7.948174220561572,
          8.175125751820689,
          9.373542206764855,
          9.381042805600096,
          8.31856394202871,
          8.322735870342358,
          8.941712295962551,
          8.295042904128334,
          8.032494982934578,
          8.554663836164355,
          8.291826277188802,
          7.914790756413991,
          8.2344821656164,
          7.6085236672457945,
          8.402744254791132,
          8.081308690853922,
          7.998349762317287,
          9.182754591927965,
          7.767488605046876,
          9.241327941376879,
          8.946073234025128,
          9.208528937697901,
          7.957960558010723,
          7.9941577430891755,
          8.041206691536022,
          8.524970207905405,
          7.7313268215854665,
          8.087954088155822,
          7.537926706829422,
          7.980698394497394,
          8.587861496851168,
          9.028101815338209,
          7.531570666526768,
          9.034460282893368,
          7.461133600328924,
          8.992626907073088,
          9.4026911119099,
          8.000161129752913,
          8.774197677841281,
          8.677885692017227,
          8.377424644520767,
          8.709998270160373,
          9.252177924123776,
          7.793881169491496,
          8.989555130349334,
          9.416451849947398,
          9.177839081582585,
          8.282237807431121,
          8.512618817158339,
          8.222530792645872,
          8.595876179714693,
          8.054658605403565,
          9.307211215380086,
          9.06523092683252,
          7.599058032819112,
          7.401374596922425,
          8.490805036946126,
          8.688495965676976,
          7.926412048623687,
          7.464669114527823,
          8.606083008314034,
          7.814035347289661,
          7.976249190828169,
          9.31672226183059,
          9.043742302078886,
          8.588164309661233,
          8.473011876894082,
          9.425405128581552,
          8.957987434013134,
          9.222019971529292,
          7.67064993040525,
          8.326657352372365,
          8.780413984363708,
          7.521758086386967,
          9.313521767522312,
          9.152680141223055,
          8.041593597314426,
          7.471405391343011,
          8.580417742962087,
          9.270440353583632,
          8.457441379040946,
          7.973700321001874,
          9.557722246855304,
          9.525620968962329,
          7.688052753014881,
          9.189090874842769,
          7.496291484340675,
          8.980852380944746,
          7.7521255247870755,
          7.6915331568022065,
          7.961915446897011,
          9.322780237073973,
          7.421810530926638,
          7.61156223359526,
          8.69817516207464,
          7.995688362625743,
          9.339851614056464,
          9.318225637946435,
          8.506347363318529,
          9.115668252661301,
          8.846157121612451,
          7.471553088124941,
          9.39551502308859,
          9.433569605494249,
          8.108680536041344,
          9.061086967533134,
          8.949245087906094,
          8.717382140944693,
          7.971699260859394,
          7.473839116018313,
          8.202278888587717,
          8.846493710278544,
          7.763520566107799,
          7.8756200220239565,
          7.952648245061586,
          8.916005619480606,
          7.521252488142994,
          8.903364729615355,
          8.17765194744802,
          9.056368613522352,
          7.698825507131767,
          8.656673471073699,
          7.706378340138128,
          8.342558061196096,
          8.017788447411831,
          7.827440139131004,
          9.128645199543387,
          9.549723778311357,
          8.74000166140865,
          8.868112958623104,
          7.463960410546557,
          8.896136140638426,
          8.930753205691243,
          7.584436773893056,
          9.021501530497927,
          7.626156166029049,
          8.698124456288978,
          9.057687628839906,
          7.988387368077036
         ],
         "y": [
          8.160518247477505,
          8.987196820661973,
          7.170119543449628,
          8.476371196895983,
          7.438383530044307,
          7.170119543449628,
          9.011889433252344,
          7.24422751560335,
          8.83927669058535,
          9.20029003612268,
          7.24422751560335,
          8.68270762989381,
          9.126958763037132,
          8.68270762989381,
          7.783224016336037,
          8.575462099540212,
          9.0595174822416,
          8.389359819906353,
          8.594154232552366,
          8.794824928014517,
          8.948975607841776,
          8.732304571033183,
          7.649692623711514,
          7.090076835776092,
          8.895629627136483,
          7.90100705199242,
          7.549609165154532,
          8.594154232552366,
          7.649692623711514,
          8.131530710604252,
          8.006367567650246,
          8.881836305004146,
          9.137769679141348,
          7.170119543449628,
          7.24422751560335,
          7.696212639346407,
          9.259130536145614,
          9.035986984831405,
          8.594154232552366,
          9.035986984831405,
          7.438383530044307,
          8.496990484098719,
          7.170119543449628,
          7.495541943884256,
          8.594154232552366,
          9.02401079378469,
          9.082507000466299,
          7.170119543449628,
          9.071078304642676,
          7.003065458786462,
          8.895629627136483,
          8.732304571033183,
          8.101677747454572,
          8.575462099540212,
          8.517193191416238,
          7.170119543449628,
          8.476371196895983,
          8.517193191416238,
          9.011889433252344,
          8.68270762989381,
          7.313220387090301,
          9.137769679141348,
          9.169518377455928,
          8.824677891164198,
          8.764053269347762,
          8.83927669058535,
          8.006367567650246,
          7.495541943884256,
          8.895629627136483,
          9.230142999272362,
          9.071078304642676,
          8.45531778769815,
          8.895629627136483,
          8.160518247477505,
          9.011889433252344,
          9.02401079378469,
          8.824677891164198,
          8.294049640102028,
          8.764053269347762,
          8.575462099540212,
          8.699514748210191,
          9.02401079378469,
          9.20029003612268,
          9.035986984831405,
          7.649692623711514,
          8.517193191416238,
          8.131530710604252,
          7.003065458786462,
          7.783224016336037,
          8.974618038455112,
          8.935903526274423,
          8.34283980427146,
          8.987196820661973,
          7.313220387090301,
          8.34283980427146,
          7.8632667240095735,
          9.082507000466299,
          8.85366542803745,
          8.83927669058535,
          8.68270762989381,
          9.093806555720231,
          9.011889433252344,
          8.517193191416238,
          9.190137664658664,
          8.45531778769815,
          8.794824928014517,
          7.824046010856292,
          7.696212639346407,
          8.881836305004146,
          7.170119543449628,
          8.556413904569519,
          8.556413904569519,
          7.170119543449628,
          7.937374696163295,
          7.170119543449628,
          9.035986984831405,
          9.093806555720231,
          7.783224016336037,
          9.011889433252344,
          8.881836305004146,
          7.8632667240095735,
          8.556413904569519,
          8.909235279192261,
          8.594154232552366,
          9.093806555720231,
          8.935903526274423,
          8.101677747454572,
          8.496990484098719,
          8.824677891164198,
          9.035986984831405,
          7.090076835776092,
          7.24422751560335,
          8.160518247477505,
          9.093806555720231,
          8.34283980427146,
          8.45531778769815,
          9.0595174822416,
          8.268731832117737,
          7.24422751560335,
          7.824046010856292,
          8.85366542803745,
          8.389359819906353,
          8.881836305004146,
          7.696212639346407,
          7.824046010856292,
          9.116029692504942,
          9.011889433252344,
          9.148464968258095,
          8.85366542803745,
          7.003065458786462,
          7.090076835776092,
          8.496990484098719,
          9.20029003612268,
          9.169518377455928,
          7.495541943884256,
          8.594154232552366,
          8.411832675758411,
          8.909235279192261,
          8.411832675758411,
          8.575462099540212,
          9.126958763037132,
          8.160518247477505,
          7.003065458786462,
          9.148464968258095,
          7.090076835776092,
          9.071078304642676,
          9.137769679141348,
          9.190137664658664,
          8.974618038455112,
          8.961879012677683,
          9.011889433252344,
          8.794824928014517,
          8.294049640102028,
          8.948975607841776,
          8.961879012677683,
          7.696212639346407,
          8.131530710604252,
          7.24422751560335,
          7.24422751560335,
          9.230142999272362,
          9.20029003612268,
          8.556413904569519,
          8.45531778769815,
          9.179881164491475,
          7.313220387090301,
          9.035986984831405,
          8.824677891164198,
          7.696212639346407,
          8.268731832117737,
          9.137769679141348,
          9.169518377455928,
          9.02401079378469,
          9.137769679141348,
          8.630521876723241,
          9.116029692504942,
          8.411832675758411,
          8.34283980427146,
          8.881836305004146,
          9.093806555720231,
          8.294049640102028,
          9.035986984831405,
          7.438383530044307,
          9.169518377455928,
          8.556413904569519,
          8.824677891164198,
          7.003065458786462,
          8.66561319653451,
          7.9724660159745655,
          8.895629627136483,
          7.170119543449628,
          7.24422751560335,
          9.230142999272362,
          7.24422751560335,
          8.318742252692399,
          7.649692623711514,
          7.649692623711514,
          8.476371196895983,
          8.895629627136483,
          9.035986984831405,
          9.035986984831405,
          8.648221453822641,
          8.948975607841776,
          7.313220387090301,
          8.748304912379623,
          8.101677747454572,
          7.600902459542082,
          8.131530710604252,
          7.696212639346407,
          7.438383530044307,
          7.649692623711514,
          8.101677747454572,
          9.035986984831405,
          7.313220387090301,
          8.242756345714477,
          8.895629627136483,
          7.9724660159745655,
          8.131530710604252,
          8.575462099540212,
          8.006367567650246,
          8.45531778769815,
          7.600902459542082,
          7.438383530044307,
          8.389359819906353,
          9.02401079378469,
          7.170119543449628,
          7.824046010856292,
          8.764053269347762,
          9.082507000466299,
          8.748304912379623,
          7.696212639346407,
          8.101677747454572,
          7.24422751560335,
          9.035986984831405,
          8.66561319653451,
          8.85366542803745,
          8.101677747454572,
          7.313220387090301,
          8.34283980427146,
          9.190137664658664,
          8.83927669058535,
          9.230142999272362,
          8.824677891164198,
          8.935903526274423,
          8.948975607841776,
          9.169518377455928,
          7.549609165154532,
          9.179881164491475,
          9.126958763037132,
          9.071078304642676,
          8.974618038455112,
          8.987196820661973,
          8.66561319653451,
          8.496990484098719,
          7.438383530044307,
          9.190137664658664,
          7.170119543449628,
          9.116029692504942,
          8.160518247477505,
          8.496990484098719,
          9.116029692504942,
          9.137769679141348,
          8.556413904569519,
          8.594154232552366,
          8.987196820661973,
          8.575462099540212,
          8.34283980427146,
          8.764053269347762,
          8.575462099540212,
          8.101677747454572,
          8.594154232552366,
          7.438383530044307,
          8.68270762989381,
          8.294049640102028,
          8.160518247477505,
          9.082507000466299,
          7.937374696163295,
          9.148464968258095,
          8.948975607841776,
          9.011889433252344,
          8.101677747454572,
          8.160518247477505,
          8.34283980427146,
          8.748304912379623,
          7.649692623711514,
          8.34283980427146,
          7.003065458786462,
          8.160518247477505,
          8.648221453822641,
          9.02401079378469,
          7.090076835776092,
          8.987196820661973,
          7.090076835776092,
          8.935903526274423,
          9.137769679141348,
          8.101677747454572,
          8.881836305004146,
          8.824677891164198,
          8.411832675758411,
          8.824677891164198,
          9.148464968258095,
          7.90100705199242,
          9.035986984831405,
          9.20029003612268,
          9.0595174822416,
          8.556413904569519,
          8.630521876723241,
          8.476371196895983,
          8.66561319653451,
          8.242756345714477,
          9.116029692504942,
          9.035986984831405,
          7.549609165154532,
          7.24422751560335,
          8.764053269347762,
          8.824677891164198,
          8.101677747454572,
          7.170119543449628,
          8.794824928014517,
          7.8632667240095735,
          8.294049640102028,
          9.137769679141348,
          8.961879012677683,
          8.85366542803745,
          8.699514748210191,
          9.259130536145614,
          8.948975607841776,
          9.02401079378469,
          7.600902459542082,
          8.556413904569519,
          8.881836305004146,
          7.090076835776092,
          9.126958763037132,
          9.082507000466299,
          8.294049640102028,
          7.313220387090301,
          8.648221453822641,
          9.093806555720231,
          8.699514748210191,
          7.824046010856292,
          9.249561085129464,
          9.20029003612268,
          7.549609165154532,
          9.011889433252344,
          7.170119543449628,
          8.974618038455112,
          7.438383530044307,
          7.090076835776092,
          8.160518247477505,
          9.116029692504942,
          7.24422751560335,
          7.438383530044307,
          8.794824928014517,
          8.131530710604252,
          9.190137664658664,
          9.116029692504942,
          8.630521876723241,
          8.974618038455112,
          8.909235279192261,
          7.003065458786462,
          9.148464968258095,
          9.148464968258095,
          8.318742252692399,
          9.035986984831405,
          8.935903526274423,
          8.881836305004146,
          8.101677747454572,
          7.090076835776092,
          8.433811582477187,
          8.895629627136483,
          8.006367567650246,
          7.824046010856292,
          8.294049640102028,
          9.02401079378469,
          7.313220387090301,
          8.935903526274423,
          8.411832675758411,
          8.948975607841776,
          7.495541943884256,
          8.83927669058535,
          7.313220387090301,
          8.556413904569519,
          8.242756345714477,
          7.783224016336037,
          9.082507000466299,
          9.259130536145614,
          8.895629627136483,
          8.987196820661973,
          7.170119543449628,
          8.895629627136483,
          8.974618038455112,
          7.313220387090301,
          8.948975607841776,
          7.495541943884256,
          8.824677891164198,
          9.011889433252344,
          8.101677747454572
         ]
        },
        {
         "line": {
          "color": "red"
         },
         "mode": "lines",
         "type": "scatter",
         "x": [
          8.160518247477505,
          8.987196820661973,
          7.170119543449628,
          8.476371196895983,
          7.438383530044307,
          7.170119543449628,
          9.011889433252344,
          7.24422751560335,
          8.83927669058535,
          9.20029003612268,
          7.24422751560335,
          8.68270762989381,
          9.126958763037132,
          8.68270762989381,
          7.783224016336037,
          8.575462099540212,
          9.0595174822416,
          8.389359819906353,
          8.594154232552366,
          8.794824928014517,
          8.948975607841776,
          8.732304571033183,
          7.649692623711514,
          7.090076835776092,
          8.895629627136483,
          7.90100705199242,
          7.549609165154532,
          8.594154232552366,
          7.649692623711514,
          8.131530710604252,
          8.006367567650246,
          8.881836305004146,
          9.137769679141348,
          7.170119543449628,
          7.24422751560335,
          7.696212639346407,
          9.259130536145614,
          9.035986984831405,
          8.594154232552366,
          9.035986984831405,
          7.438383530044307,
          8.496990484098719,
          7.170119543449628,
          7.495541943884256,
          8.594154232552366,
          9.02401079378469,
          9.082507000466299,
          7.170119543449628,
          9.071078304642676,
          7.003065458786462,
          8.895629627136483,
          8.732304571033183,
          8.101677747454572,
          8.575462099540212,
          8.517193191416238,
          7.170119543449628,
          8.476371196895983,
          8.517193191416238,
          9.011889433252344,
          8.68270762989381,
          7.313220387090301,
          9.137769679141348,
          9.169518377455928,
          8.824677891164198,
          8.764053269347762,
          8.83927669058535,
          8.006367567650246,
          7.495541943884256,
          8.895629627136483,
          9.230142999272362,
          9.071078304642676,
          8.45531778769815,
          8.895629627136483,
          8.160518247477505,
          9.011889433252344,
          9.02401079378469,
          8.824677891164198,
          8.294049640102028,
          8.764053269347762,
          8.575462099540212,
          8.699514748210191,
          9.02401079378469,
          9.20029003612268,
          9.035986984831405,
          7.649692623711514,
          8.517193191416238,
          8.131530710604252,
          7.003065458786462,
          7.783224016336037,
          8.974618038455112,
          8.935903526274423,
          8.34283980427146,
          8.987196820661973,
          7.313220387090301,
          8.34283980427146,
          7.8632667240095735,
          9.082507000466299,
          8.85366542803745,
          8.83927669058535,
          8.68270762989381,
          9.093806555720231,
          9.011889433252344,
          8.517193191416238,
          9.190137664658664,
          8.45531778769815,
          8.794824928014517,
          7.824046010856292,
          7.696212639346407,
          8.881836305004146,
          7.170119543449628,
          8.556413904569519,
          8.556413904569519,
          7.170119543449628,
          7.937374696163295,
          7.170119543449628,
          9.035986984831405,
          9.093806555720231,
          7.783224016336037,
          9.011889433252344,
          8.881836305004146,
          7.8632667240095735,
          8.556413904569519,
          8.909235279192261,
          8.594154232552366,
          9.093806555720231,
          8.935903526274423,
          8.101677747454572,
          8.496990484098719,
          8.824677891164198,
          9.035986984831405,
          7.090076835776092,
          7.24422751560335,
          8.160518247477505,
          9.093806555720231,
          8.34283980427146,
          8.45531778769815,
          9.0595174822416,
          8.268731832117737,
          7.24422751560335,
          7.824046010856292,
          8.85366542803745,
          8.389359819906353,
          8.881836305004146,
          7.696212639346407,
          7.824046010856292,
          9.116029692504942,
          9.011889433252344,
          9.148464968258095,
          8.85366542803745,
          7.003065458786462,
          7.090076835776092,
          8.496990484098719,
          9.20029003612268,
          9.169518377455928,
          7.495541943884256,
          8.594154232552366,
          8.411832675758411,
          8.909235279192261,
          8.411832675758411,
          8.575462099540212,
          9.126958763037132,
          8.160518247477505,
          7.003065458786462,
          9.148464968258095,
          7.090076835776092,
          9.071078304642676,
          9.137769679141348,
          9.190137664658664,
          8.974618038455112,
          8.961879012677683,
          9.011889433252344,
          8.794824928014517,
          8.294049640102028,
          8.948975607841776,
          8.961879012677683,
          7.696212639346407,
          8.131530710604252,
          7.24422751560335,
          7.24422751560335,
          9.230142999272362,
          9.20029003612268,
          8.556413904569519,
          8.45531778769815,
          9.179881164491475,
          7.313220387090301,
          9.035986984831405,
          8.824677891164198,
          7.696212639346407,
          8.268731832117737,
          9.137769679141348,
          9.169518377455928,
          9.02401079378469,
          9.137769679141348,
          8.630521876723241,
          9.116029692504942,
          8.411832675758411,
          8.34283980427146,
          8.881836305004146,
          9.093806555720231,
          8.294049640102028,
          9.035986984831405,
          7.438383530044307,
          9.169518377455928,
          8.556413904569519,
          8.824677891164198,
          7.003065458786462,
          8.66561319653451,
          7.9724660159745655,
          8.895629627136483,
          7.170119543449628,
          7.24422751560335,
          9.230142999272362,
          7.24422751560335,
          8.318742252692399,
          7.649692623711514,
          7.649692623711514,
          8.476371196895983,
          8.895629627136483,
          9.035986984831405,
          9.035986984831405,
          8.648221453822641,
          8.948975607841776,
          7.313220387090301,
          8.748304912379623,
          8.101677747454572,
          7.600902459542082,
          8.131530710604252,
          7.696212639346407,
          7.438383530044307,
          7.649692623711514,
          8.101677747454572,
          9.035986984831405,
          7.313220387090301,
          8.242756345714477,
          8.895629627136483,
          7.9724660159745655,
          8.131530710604252,
          8.575462099540212,
          8.006367567650246,
          8.45531778769815,
          7.600902459542082,
          7.438383530044307,
          8.389359819906353,
          9.02401079378469,
          7.170119543449628,
          7.824046010856292,
          8.764053269347762,
          9.082507000466299,
          8.748304912379623,
          7.696212639346407,
          8.101677747454572,
          7.24422751560335,
          9.035986984831405,
          8.66561319653451,
          8.85366542803745,
          8.101677747454572,
          7.313220387090301,
          8.34283980427146,
          9.190137664658664,
          8.83927669058535,
          9.230142999272362,
          8.824677891164198,
          8.935903526274423,
          8.948975607841776,
          9.169518377455928,
          7.549609165154532,
          9.179881164491475,
          9.126958763037132,
          9.071078304642676,
          8.974618038455112,
          8.987196820661973,
          8.66561319653451,
          8.496990484098719,
          7.438383530044307,
          9.190137664658664,
          7.170119543449628,
          9.116029692504942,
          8.160518247477505,
          8.496990484098719,
          9.116029692504942,
          9.137769679141348,
          8.556413904569519,
          8.594154232552366,
          8.987196820661973,
          8.575462099540212,
          8.34283980427146,
          8.764053269347762,
          8.575462099540212,
          8.101677747454572,
          8.594154232552366,
          7.438383530044307,
          8.68270762989381,
          8.294049640102028,
          8.160518247477505,
          9.082507000466299,
          7.937374696163295,
          9.148464968258095,
          8.948975607841776,
          9.011889433252344,
          8.101677747454572,
          8.160518247477505,
          8.34283980427146,
          8.748304912379623,
          7.649692623711514,
          8.34283980427146,
          7.003065458786462,
          8.160518247477505,
          8.648221453822641,
          9.02401079378469,
          7.090076835776092,
          8.987196820661973,
          7.090076835776092,
          8.935903526274423,
          9.137769679141348,
          8.101677747454572,
          8.881836305004146,
          8.824677891164198,
          8.411832675758411,
          8.824677891164198,
          9.148464968258095,
          7.90100705199242,
          9.035986984831405,
          9.20029003612268,
          9.0595174822416,
          8.556413904569519,
          8.630521876723241,
          8.476371196895983,
          8.66561319653451,
          8.242756345714477,
          9.116029692504942,
          9.035986984831405,
          7.549609165154532,
          7.24422751560335,
          8.764053269347762,
          8.824677891164198,
          8.101677747454572,
          7.170119543449628,
          8.794824928014517,
          7.8632667240095735,
          8.294049640102028,
          9.137769679141348,
          8.961879012677683,
          8.85366542803745,
          8.699514748210191,
          9.259130536145614,
          8.948975607841776,
          9.02401079378469,
          7.600902459542082,
          8.556413904569519,
          8.881836305004146,
          7.090076835776092,
          9.126958763037132,
          9.082507000466299,
          8.294049640102028,
          7.313220387090301,
          8.648221453822641,
          9.093806555720231,
          8.699514748210191,
          7.824046010856292,
          9.249561085129464,
          9.20029003612268,
          7.549609165154532,
          9.011889433252344,
          7.170119543449628,
          8.974618038455112,
          7.438383530044307,
          7.090076835776092,
          8.160518247477505,
          9.116029692504942,
          7.24422751560335,
          7.438383530044307,
          8.794824928014517,
          8.131530710604252,
          9.190137664658664,
          9.116029692504942,
          8.630521876723241,
          8.974618038455112,
          8.909235279192261,
          7.003065458786462,
          9.148464968258095,
          9.148464968258095,
          8.318742252692399,
          9.035986984831405,
          8.935903526274423,
          8.881836305004146,
          8.101677747454572,
          7.090076835776092,
          8.433811582477187,
          8.895629627136483,
          8.006367567650246,
          7.824046010856292,
          8.294049640102028,
          9.02401079378469,
          7.313220387090301,
          8.935903526274423,
          8.411832675758411,
          8.948975607841776,
          7.495541943884256,
          8.83927669058535,
          7.313220387090301,
          8.556413904569519,
          8.242756345714477,
          7.783224016336037,
          9.082507000466299,
          9.259130536145614,
          8.895629627136483,
          8.987196820661973,
          7.170119543449628,
          8.895629627136483,
          8.974618038455112,
          7.313220387090301,
          8.948975607841776,
          7.495541943884256,
          8.824677891164198,
          9.011889433252344,
          8.101677747454572
         ],
         "y": [
          8.160518247477505,
          8.987196820661973,
          7.170119543449628,
          8.476371196895983,
          7.438383530044307,
          7.170119543449628,
          9.011889433252344,
          7.24422751560335,
          8.83927669058535,
          9.20029003612268,
          7.24422751560335,
          8.68270762989381,
          9.126958763037132,
          8.68270762989381,
          7.783224016336037,
          8.575462099540212,
          9.0595174822416,
          8.389359819906353,
          8.594154232552366,
          8.794824928014517,
          8.948975607841776,
          8.732304571033183,
          7.649692623711514,
          7.090076835776092,
          8.895629627136483,
          7.90100705199242,
          7.549609165154532,
          8.594154232552366,
          7.649692623711514,
          8.131530710604252,
          8.006367567650246,
          8.881836305004146,
          9.137769679141348,
          7.170119543449628,
          7.24422751560335,
          7.696212639346407,
          9.259130536145614,
          9.035986984831405,
          8.594154232552366,
          9.035986984831405,
          7.438383530044307,
          8.496990484098719,
          7.170119543449628,
          7.495541943884256,
          8.594154232552366,
          9.02401079378469,
          9.082507000466299,
          7.170119543449628,
          9.071078304642676,
          7.003065458786462,
          8.895629627136483,
          8.732304571033183,
          8.101677747454572,
          8.575462099540212,
          8.517193191416238,
          7.170119543449628,
          8.476371196895983,
          8.517193191416238,
          9.011889433252344,
          8.68270762989381,
          7.313220387090301,
          9.137769679141348,
          9.169518377455928,
          8.824677891164198,
          8.764053269347762,
          8.83927669058535,
          8.006367567650246,
          7.495541943884256,
          8.895629627136483,
          9.230142999272362,
          9.071078304642676,
          8.45531778769815,
          8.895629627136483,
          8.160518247477505,
          9.011889433252344,
          9.02401079378469,
          8.824677891164198,
          8.294049640102028,
          8.764053269347762,
          8.575462099540212,
          8.699514748210191,
          9.02401079378469,
          9.20029003612268,
          9.035986984831405,
          7.649692623711514,
          8.517193191416238,
          8.131530710604252,
          7.003065458786462,
          7.783224016336037,
          8.974618038455112,
          8.935903526274423,
          8.34283980427146,
          8.987196820661973,
          7.313220387090301,
          8.34283980427146,
          7.8632667240095735,
          9.082507000466299,
          8.85366542803745,
          8.83927669058535,
          8.68270762989381,
          9.093806555720231,
          9.011889433252344,
          8.517193191416238,
          9.190137664658664,
          8.45531778769815,
          8.794824928014517,
          7.824046010856292,
          7.696212639346407,
          8.881836305004146,
          7.170119543449628,
          8.556413904569519,
          8.556413904569519,
          7.170119543449628,
          7.937374696163295,
          7.170119543449628,
          9.035986984831405,
          9.093806555720231,
          7.783224016336037,
          9.011889433252344,
          8.881836305004146,
          7.8632667240095735,
          8.556413904569519,
          8.909235279192261,
          8.594154232552366,
          9.093806555720231,
          8.935903526274423,
          8.101677747454572,
          8.496990484098719,
          8.824677891164198,
          9.035986984831405,
          7.090076835776092,
          7.24422751560335,
          8.160518247477505,
          9.093806555720231,
          8.34283980427146,
          8.45531778769815,
          9.0595174822416,
          8.268731832117737,
          7.24422751560335,
          7.824046010856292,
          8.85366542803745,
          8.389359819906353,
          8.881836305004146,
          7.696212639346407,
          7.824046010856292,
          9.116029692504942,
          9.011889433252344,
          9.148464968258095,
          8.85366542803745,
          7.003065458786462,
          7.090076835776092,
          8.496990484098719,
          9.20029003612268,
          9.169518377455928,
          7.495541943884256,
          8.594154232552366,
          8.411832675758411,
          8.909235279192261,
          8.411832675758411,
          8.575462099540212,
          9.126958763037132,
          8.160518247477505,
          7.003065458786462,
          9.148464968258095,
          7.090076835776092,
          9.071078304642676,
          9.137769679141348,
          9.190137664658664,
          8.974618038455112,
          8.961879012677683,
          9.011889433252344,
          8.794824928014517,
          8.294049640102028,
          8.948975607841776,
          8.961879012677683,
          7.696212639346407,
          8.131530710604252,
          7.24422751560335,
          7.24422751560335,
          9.230142999272362,
          9.20029003612268,
          8.556413904569519,
          8.45531778769815,
          9.179881164491475,
          7.313220387090301,
          9.035986984831405,
          8.824677891164198,
          7.696212639346407,
          8.268731832117737,
          9.137769679141348,
          9.169518377455928,
          9.02401079378469,
          9.137769679141348,
          8.630521876723241,
          9.116029692504942,
          8.411832675758411,
          8.34283980427146,
          8.881836305004146,
          9.093806555720231,
          8.294049640102028,
          9.035986984831405,
          7.438383530044307,
          9.169518377455928,
          8.556413904569519,
          8.824677891164198,
          7.003065458786462,
          8.66561319653451,
          7.9724660159745655,
          8.895629627136483,
          7.170119543449628,
          7.24422751560335,
          9.230142999272362,
          7.24422751560335,
          8.318742252692399,
          7.649692623711514,
          7.649692623711514,
          8.476371196895983,
          8.895629627136483,
          9.035986984831405,
          9.035986984831405,
          8.648221453822641,
          8.948975607841776,
          7.313220387090301,
          8.748304912379623,
          8.101677747454572,
          7.600902459542082,
          8.131530710604252,
          7.696212639346407,
          7.438383530044307,
          7.649692623711514,
          8.101677747454572,
          9.035986984831405,
          7.313220387090301,
          8.242756345714477,
          8.895629627136483,
          7.9724660159745655,
          8.131530710604252,
          8.575462099540212,
          8.006367567650246,
          8.45531778769815,
          7.600902459542082,
          7.438383530044307,
          8.389359819906353,
          9.02401079378469,
          7.170119543449628,
          7.824046010856292,
          8.764053269347762,
          9.082507000466299,
          8.748304912379623,
          7.696212639346407,
          8.101677747454572,
          7.24422751560335,
          9.035986984831405,
          8.66561319653451,
          8.85366542803745,
          8.101677747454572,
          7.313220387090301,
          8.34283980427146,
          9.190137664658664,
          8.83927669058535,
          9.230142999272362,
          8.824677891164198,
          8.935903526274423,
          8.948975607841776,
          9.169518377455928,
          7.549609165154532,
          9.179881164491475,
          9.126958763037132,
          9.071078304642676,
          8.974618038455112,
          8.987196820661973,
          8.66561319653451,
          8.496990484098719,
          7.438383530044307,
          9.190137664658664,
          7.170119543449628,
          9.116029692504942,
          8.160518247477505,
          8.496990484098719,
          9.116029692504942,
          9.137769679141348,
          8.556413904569519,
          8.594154232552366,
          8.987196820661973,
          8.575462099540212,
          8.34283980427146,
          8.764053269347762,
          8.575462099540212,
          8.101677747454572,
          8.594154232552366,
          7.438383530044307,
          8.68270762989381,
          8.294049640102028,
          8.160518247477505,
          9.082507000466299,
          7.937374696163295,
          9.148464968258095,
          8.948975607841776,
          9.011889433252344,
          8.101677747454572,
          8.160518247477505,
          8.34283980427146,
          8.748304912379623,
          7.649692623711514,
          8.34283980427146,
          7.003065458786462,
          8.160518247477505,
          8.648221453822641,
          9.02401079378469,
          7.090076835776092,
          8.987196820661973,
          7.090076835776092,
          8.935903526274423,
          9.137769679141348,
          8.101677747454572,
          8.881836305004146,
          8.824677891164198,
          8.411832675758411,
          8.824677891164198,
          9.148464968258095,
          7.90100705199242,
          9.035986984831405,
          9.20029003612268,
          9.0595174822416,
          8.556413904569519,
          8.630521876723241,
          8.476371196895983,
          8.66561319653451,
          8.242756345714477,
          9.116029692504942,
          9.035986984831405,
          7.549609165154532,
          7.24422751560335,
          8.764053269347762,
          8.824677891164198,
          8.101677747454572,
          7.170119543449628,
          8.794824928014517,
          7.8632667240095735,
          8.294049640102028,
          9.137769679141348,
          8.961879012677683,
          8.85366542803745,
          8.699514748210191,
          9.259130536145614,
          8.948975607841776,
          9.02401079378469,
          7.600902459542082,
          8.556413904569519,
          8.881836305004146,
          7.090076835776092,
          9.126958763037132,
          9.082507000466299,
          8.294049640102028,
          7.313220387090301,
          8.648221453822641,
          9.093806555720231,
          8.699514748210191,
          7.824046010856292,
          9.249561085129464,
          9.20029003612268,
          7.549609165154532,
          9.011889433252344,
          7.170119543449628,
          8.974618038455112,
          7.438383530044307,
          7.090076835776092,
          8.160518247477505,
          9.116029692504942,
          7.24422751560335,
          7.438383530044307,
          8.794824928014517,
          8.131530710604252,
          9.190137664658664,
          9.116029692504942,
          8.630521876723241,
          8.974618038455112,
          8.909235279192261,
          7.003065458786462,
          9.148464968258095,
          9.148464968258095,
          8.318742252692399,
          9.035986984831405,
          8.935903526274423,
          8.881836305004146,
          8.101677747454572,
          7.090076835776092,
          8.433811582477187,
          8.895629627136483,
          8.006367567650246,
          7.824046010856292,
          8.294049640102028,
          9.02401079378469,
          7.313220387090301,
          8.935903526274423,
          8.411832675758411,
          8.948975607841776,
          7.495541943884256,
          8.83927669058535,
          7.313220387090301,
          8.556413904569519,
          8.242756345714477,
          7.783224016336037,
          9.082507000466299,
          9.259130536145614,
          8.895629627136483,
          8.987196820661973,
          7.170119543449628,
          8.895629627136483,
          8.974618038455112,
          7.313220387090301,
          8.948975607841776,
          7.495541943884256,
          8.824677891164198,
          9.011889433252344,
          8.101677747454572
         ]
        }
       ],
       "layout": {
        "height": 500,
        "template": {
         "data": {
          "bar": [
           {
            "error_x": {
             "color": "#2a3f5f"
            },
            "error_y": {
             "color": "#2a3f5f"
            },
            "marker": {
             "line": {
              "color": "#E5ECF6",
              "width": 0.5
             },
             "pattern": {
              "fillmode": "overlay",
              "size": 10,
              "solidity": 0.2
             }
            },
            "type": "bar"
           }
          ],
          "barpolar": [
           {
            "marker": {
             "line": {
              "color": "#E5ECF6",
              "width": 0.5
             },
             "pattern": {
              "fillmode": "overlay",
              "size": 10,
              "solidity": 0.2
             }
            },
            "type": "barpolar"
           }
          ],
          "carpet": [
           {
            "aaxis": {
             "endlinecolor": "#2a3f5f",
             "gridcolor": "white",
             "linecolor": "white",
             "minorgridcolor": "white",
             "startlinecolor": "#2a3f5f"
            },
            "baxis": {
             "endlinecolor": "#2a3f5f",
             "gridcolor": "white",
             "linecolor": "white",
             "minorgridcolor": "white",
             "startlinecolor": "#2a3f5f"
            },
            "type": "carpet"
           }
          ],
          "choropleth": [
           {
            "colorbar": {
             "outlinewidth": 0,
             "ticks": ""
            },
            "type": "choropleth"
           }
          ],
          "contour": [
           {
            "colorbar": {
             "outlinewidth": 0,
             "ticks": ""
            },
            "colorscale": [
             [
              0,
              "#0d0887"
             ],
             [
              0.1111111111111111,
              "#46039f"
             ],
             [
              0.2222222222222222,
              "#7201a8"
             ],
             [
              0.3333333333333333,
              "#9c179e"
             ],
             [
              0.4444444444444444,
              "#bd3786"
             ],
             [
              0.5555555555555556,
              "#d8576b"
             ],
             [
              0.6666666666666666,
              "#ed7953"
             ],
             [
              0.7777777777777778,
              "#fb9f3a"
             ],
             [
              0.8888888888888888,
              "#fdca26"
             ],
             [
              1,
              "#f0f921"
             ]
            ],
            "type": "contour"
           }
          ],
          "contourcarpet": [
           {
            "colorbar": {
             "outlinewidth": 0,
             "ticks": ""
            },
            "type": "contourcarpet"
           }
          ],
          "heatmap": [
           {
            "colorbar": {
             "outlinewidth": 0,
             "ticks": ""
            },
            "colorscale": [
             [
              0,
              "#0d0887"
             ],
             [
              0.1111111111111111,
              "#46039f"
             ],
             [
              0.2222222222222222,
              "#7201a8"
             ],
             [
              0.3333333333333333,
              "#9c179e"
             ],
             [
              0.4444444444444444,
              "#bd3786"
             ],
             [
              0.5555555555555556,
              "#d8576b"
             ],
             [
              0.6666666666666666,
              "#ed7953"
             ],
             [
              0.7777777777777778,
              "#fb9f3a"
             ],
             [
              0.8888888888888888,
              "#fdca26"
             ],
             [
              1,
              "#f0f921"
             ]
            ],
            "type": "heatmap"
           }
          ],
          "heatmapgl": [
           {
            "colorbar": {
             "outlinewidth": 0,
             "ticks": ""
            },
            "colorscale": [
             [
              0,
              "#0d0887"
             ],
             [
              0.1111111111111111,
              "#46039f"
             ],
             [
              0.2222222222222222,
              "#7201a8"
             ],
             [
              0.3333333333333333,
              "#9c179e"
             ],
             [
              0.4444444444444444,
              "#bd3786"
             ],
             [
              0.5555555555555556,
              "#d8576b"
             ],
             [
              0.6666666666666666,
              "#ed7953"
             ],
             [
              0.7777777777777778,
              "#fb9f3a"
             ],
             [
              0.8888888888888888,
              "#fdca26"
             ],
             [
              1,
              "#f0f921"
             ]
            ],
            "type": "heatmapgl"
           }
          ],
          "histogram": [
           {
            "marker": {
             "pattern": {
              "fillmode": "overlay",
              "size": 10,
              "solidity": 0.2
             }
            },
            "type": "histogram"
           }
          ],
          "histogram2d": [
           {
            "colorbar": {
             "outlinewidth": 0,
             "ticks": ""
            },
            "colorscale": [
             [
              0,
              "#0d0887"
             ],
             [
              0.1111111111111111,
              "#46039f"
             ],
             [
              0.2222222222222222,
              "#7201a8"
             ],
             [
              0.3333333333333333,
              "#9c179e"
             ],
             [
              0.4444444444444444,
              "#bd3786"
             ],
             [
              0.5555555555555556,
              "#d8576b"
             ],
             [
              0.6666666666666666,
              "#ed7953"
             ],
             [
              0.7777777777777778,
              "#fb9f3a"
             ],
             [
              0.8888888888888888,
              "#fdca26"
             ],
             [
              1,
              "#f0f921"
             ]
            ],
            "type": "histogram2d"
           }
          ],
          "histogram2dcontour": [
           {
            "colorbar": {
             "outlinewidth": 0,
             "ticks": ""
            },
            "colorscale": [
             [
              0,
              "#0d0887"
             ],
             [
              0.1111111111111111,
              "#46039f"
             ],
             [
              0.2222222222222222,
              "#7201a8"
             ],
             [
              0.3333333333333333,
              "#9c179e"
             ],
             [
              0.4444444444444444,
              "#bd3786"
             ],
             [
              0.5555555555555556,
              "#d8576b"
             ],
             [
              0.6666666666666666,
              "#ed7953"
             ],
             [
              0.7777777777777778,
              "#fb9f3a"
             ],
             [
              0.8888888888888888,
              "#fdca26"
             ],
             [
              1,
              "#f0f921"
             ]
            ],
            "type": "histogram2dcontour"
           }
          ],
          "mesh3d": [
           {
            "colorbar": {
             "outlinewidth": 0,
             "ticks": ""
            },
            "type": "mesh3d"
           }
          ],
          "parcoords": [
           {
            "line": {
             "colorbar": {
              "outlinewidth": 0,
              "ticks": ""
             }
            },
            "type": "parcoords"
           }
          ],
          "pie": [
           {
            "automargin": true,
            "type": "pie"
           }
          ],
          "scatter": [
           {
            "fillpattern": {
             "fillmode": "overlay",
             "size": 10,
             "solidity": 0.2
            },
            "type": "scatter"
           }
          ],
          "scatter3d": [
           {
            "line": {
             "colorbar": {
              "outlinewidth": 0,
              "ticks": ""
             }
            },
            "marker": {
             "colorbar": {
              "outlinewidth": 0,
              "ticks": ""
             }
            },
            "type": "scatter3d"
           }
          ],
          "scattercarpet": [
           {
            "marker": {
             "colorbar": {
              "outlinewidth": 0,
              "ticks": ""
             }
            },
            "type": "scattercarpet"
           }
          ],
          "scattergeo": [
           {
            "marker": {
             "colorbar": {
              "outlinewidth": 0,
              "ticks": ""
             }
            },
            "type": "scattergeo"
           }
          ],
          "scattergl": [
           {
            "marker": {
             "colorbar": {
              "outlinewidth": 0,
              "ticks": ""
             }
            },
            "type": "scattergl"
           }
          ],
          "scattermapbox": [
           {
            "marker": {
             "colorbar": {
              "outlinewidth": 0,
              "ticks": ""
             }
            },
            "type": "scattermapbox"
           }
          ],
          "scatterpolar": [
           {
            "marker": {
             "colorbar": {
              "outlinewidth": 0,
              "ticks": ""
             }
            },
            "type": "scatterpolar"
           }
          ],
          "scatterpolargl": [
           {
            "marker": {
             "colorbar": {
              "outlinewidth": 0,
              "ticks": ""
             }
            },
            "type": "scatterpolargl"
           }
          ],
          "scatterternary": [
           {
            "marker": {
             "colorbar": {
              "outlinewidth": 0,
              "ticks": ""
             }
            },
            "type": "scatterternary"
           }
          ],
          "surface": [
           {
            "colorbar": {
             "outlinewidth": 0,
             "ticks": ""
            },
            "colorscale": [
             [
              0,
              "#0d0887"
             ],
             [
              0.1111111111111111,
              "#46039f"
             ],
             [
              0.2222222222222222,
              "#7201a8"
             ],
             [
              0.3333333333333333,
              "#9c179e"
             ],
             [
              0.4444444444444444,
              "#bd3786"
             ],
             [
              0.5555555555555556,
              "#d8576b"
             ],
             [
              0.6666666666666666,
              "#ed7953"
             ],
             [
              0.7777777777777778,
              "#fb9f3a"
             ],
             [
              0.8888888888888888,
              "#fdca26"
             ],
             [
              1,
              "#f0f921"
             ]
            ],
            "type": "surface"
           }
          ],
          "table": [
           {
            "cells": {
             "fill": {
              "color": "#EBF0F8"
             },
             "line": {
              "color": "white"
             }
            },
            "header": {
             "fill": {
              "color": "#C8D4E3"
             },
             "line": {
              "color": "white"
             }
            },
            "type": "table"
           }
          ]
         },
         "layout": {
          "annotationdefaults": {
           "arrowcolor": "#2a3f5f",
           "arrowhead": 0,
           "arrowwidth": 1
          },
          "autotypenumbers": "strict",
          "coloraxis": {
           "colorbar": {
            "outlinewidth": 0,
            "ticks": ""
           }
          },
          "colorscale": {
           "diverging": [
            [
             0,
             "#8e0152"
            ],
            [
             0.1,
             "#c51b7d"
            ],
            [
             0.2,
             "#de77ae"
            ],
            [
             0.3,
             "#f1b6da"
            ],
            [
             0.4,
             "#fde0ef"
            ],
            [
             0.5,
             "#f7f7f7"
            ],
            [
             0.6,
             "#e6f5d0"
            ],
            [
             0.7,
             "#b8e186"
            ],
            [
             0.8,
             "#7fbc41"
            ],
            [
             0.9,
             "#4d9221"
            ],
            [
             1,
             "#276419"
            ]
           ],
           "sequential": [
            [
             0,
             "#0d0887"
            ],
            [
             0.1111111111111111,
             "#46039f"
            ],
            [
             0.2222222222222222,
             "#7201a8"
            ],
            [
             0.3333333333333333,
             "#9c179e"
            ],
            [
             0.4444444444444444,
             "#bd3786"
            ],
            [
             0.5555555555555556,
             "#d8576b"
            ],
            [
             0.6666666666666666,
             "#ed7953"
            ],
            [
             0.7777777777777778,
             "#fb9f3a"
            ],
            [
             0.8888888888888888,
             "#fdca26"
            ],
            [
             1,
             "#f0f921"
            ]
           ],
           "sequentialminus": [
            [
             0,
             "#0d0887"
            ],
            [
             0.1111111111111111,
             "#46039f"
            ],
            [
             0.2222222222222222,
             "#7201a8"
            ],
            [
             0.3333333333333333,
             "#9c179e"
            ],
            [
             0.4444444444444444,
             "#bd3786"
            ],
            [
             0.5555555555555556,
             "#d8576b"
            ],
            [
             0.6666666666666666,
             "#ed7953"
            ],
            [
             0.7777777777777778,
             "#fb9f3a"
            ],
            [
             0.8888888888888888,
             "#fdca26"
            ],
            [
             1,
             "#f0f921"
            ]
           ]
          },
          "colorway": [
           "#636efa",
           "#EF553B",
           "#00cc96",
           "#ab63fa",
           "#FFA15A",
           "#19d3f3",
           "#FF6692",
           "#B6E880",
           "#FF97FF",
           "#FECB52"
          ],
          "font": {
           "color": "#2a3f5f"
          },
          "geo": {
           "bgcolor": "white",
           "lakecolor": "white",
           "landcolor": "#E5ECF6",
           "showlakes": true,
           "showland": true,
           "subunitcolor": "white"
          },
          "hoverlabel": {
           "align": "left"
          },
          "hovermode": "closest",
          "mapbox": {
           "style": "light"
          },
          "paper_bgcolor": "white",
          "plot_bgcolor": "#E5ECF6",
          "polar": {
           "angularaxis": {
            "gridcolor": "white",
            "linecolor": "white",
            "ticks": ""
           },
           "bgcolor": "#E5ECF6",
           "radialaxis": {
            "gridcolor": "white",
            "linecolor": "white",
            "ticks": ""
           }
          },
          "scene": {
           "xaxis": {
            "backgroundcolor": "#E5ECF6",
            "gridcolor": "white",
            "gridwidth": 2,
            "linecolor": "white",
            "showbackground": true,
            "ticks": "",
            "zerolinecolor": "white"
           },
           "yaxis": {
            "backgroundcolor": "#E5ECF6",
            "gridcolor": "white",
            "gridwidth": 2,
            "linecolor": "white",
            "showbackground": true,
            "ticks": "",
            "zerolinecolor": "white"
           },
           "zaxis": {
            "backgroundcolor": "#E5ECF6",
            "gridcolor": "white",
            "gridwidth": 2,
            "linecolor": "white",
            "showbackground": true,
            "ticks": "",
            "zerolinecolor": "white"
           }
          },
          "shapedefaults": {
           "line": {
            "color": "#2a3f5f"
           }
          },
          "ternary": {
           "aaxis": {
            "gridcolor": "white",
            "linecolor": "white",
            "ticks": ""
           },
           "baxis": {
            "gridcolor": "white",
            "linecolor": "white",
            "ticks": ""
           },
           "bgcolor": "#E5ECF6",
           "caxis": {
            "gridcolor": "white",
            "linecolor": "white",
            "ticks": ""
           }
          },
          "title": {
           "x": 0.05
          },
          "xaxis": {
           "automargin": true,
           "gridcolor": "white",
           "linecolor": "white",
           "ticks": "",
           "title": {
            "standoff": 15
           },
           "zerolinecolor": "white",
           "zerolinewidth": 2
          },
          "yaxis": {
           "automargin": true,
           "gridcolor": "white",
           "linecolor": "white",
           "ticks": "",
           "title": {
            "standoff": 15
           },
           "zerolinecolor": "white",
           "zerolinewidth": 2
          }
         }
        },
        "title": {
         "text": "MLR:Observed target vs Predicted target using train data"
        },
        "width": 800,
        "xaxis": {
         "title": {
          "text": "Observed consult_cost"
         }
        },
        "yaxis": {
         "title": {
          "text": "Predicted consult_cost"
         }
        }
       }
      }
     },
     "metadata": {},
     "output_type": "display_data"
    }
   ],
   "source": [
    "\n",
    "fig = go.Figure()\n",
    "\n",
    "# scatter plot using test data\n",
    "fig.add_trace(go.Scatter(y=y_train, x=linear_regression.predict(x_train), mode='markers', marker=dict(color='blue')))\n",
    "\n",
    "# diagonal line to represent predictions\n",
    "fig.add_trace(go.Scatter(y=y_train, x=y_train, mode='lines', line=dict(color='red')))\n",
    "\n",
    "fig.update_layout(title='MLR:Observed target vs Predicted target using train data', xaxis_title='Observed consult_cost', \n",
    "                  yaxis_title='Predicted consult_cost', width=800, height=500)\n",
    "fig.show()"
   ]
  },
  {
   "cell_type": "code",
   "execution_count": 1573,
   "metadata": {},
   "outputs": [
    {
     "data": {
      "application/vnd.plotly.v1+json": {
       "config": {
        "plotlyServerURL": "https://plot.ly"
       },
       "data": [
        {
         "marker": {
          "color": "blue"
         },
         "mode": "markers",
         "type": "scatter",
         "x": [
          8.004055452180125,
          8.837019872342665,
          7.691693794619174,
          8.21229655722076,
          7.795814347139491,
          7.691693794619174,
          8.941140424862981,
          7.691693794619174,
          8.62877876730203,
          9.253502082423934,
          7.691693794619174,
          8.420537662261395,
          9.149381529903616,
          8.420537662261395,
          7.899934899659809,
          8.420537662261395,
          9.045260977383299,
          8.21229655722076,
          8.316417109741078,
          8.524658214781713,
          8.837019872342665,
          8.524658214781713,
          7.795814347139491,
          7.795814347139491,
          8.732899319822348,
          7.899934899659809,
          7.795814347139491,
          8.316417109741078,
          7.795814347139491,
          8.004055452180125,
          8.004055452180125,
          8.732899319822348,
          9.149381529903616,
          7.587573242098856,
          7.587573242098856,
          7.795814347139491,
          9.357622634944251,
          8.941140424862981,
          8.316417109741078,
          9.045260977383299,
          7.795814347139491,
          8.316417109741078,
          7.691693794619174,
          7.795814347139491,
          8.316417109741078,
          9.045260977383299,
          9.045260977383299,
          7.587573242098856,
          9.045260977383299,
          7.795814347139491,
          8.732899319822348,
          8.524658214781713,
          8.004055452180125,
          8.420537662261395,
          8.21229655722076,
          7.691693794619174,
          8.21229655722076,
          8.21229655722076,
          8.941140424862981,
          8.524658214781713,
          7.795814347139491,
          9.149381529903616,
          9.253502082423934,
          8.62877876730203,
          8.524658214781713,
          8.62877876730203,
          7.899934899659809,
          7.795814347139491,
          8.732899319822348,
          9.357622634944251,
          9.045260977383299,
          8.21229655722076,
          8.732899319822348,
          8.004055452180125,
          8.941140424862981,
          8.941140424862981,
          8.62877876730203,
          8.108176004700443,
          8.524658214781713,
          8.316417109741078,
          8.420537662261395,
          8.941140424862981,
          9.253502082423934,
          8.941140424862981,
          7.795814347139491,
          8.21229655722076,
          8.108176004700443,
          7.587573242098856,
          8.004055452180125,
          8.837019872342665,
          8.837019872342665,
          8.108176004700443,
          8.837019872342665,
          7.795814347139491,
          8.108176004700443,
          7.899934899659809,
          9.045260977383299,
          8.62877876730203,
          8.62877876730203,
          8.420537662261395,
          9.045260977383299,
          9.045260977383299,
          8.21229655722076,
          9.253502082423934,
          8.21229655722076,
          8.524658214781713,
          7.899934899659809,
          7.795814347139491,
          8.732899319822348,
          7.795814347139491,
          8.316417109741078,
          8.316417109741078,
          7.691693794619174,
          7.899934899659809,
          7.691693794619174,
          8.941140424862981,
          9.045260977383299,
          7.899934899659809,
          8.941140424862981,
          8.732899319822348,
          7.899934899659809,
          8.316417109741078,
          8.732899319822348,
          8.316417109741078,
          9.045260977383299,
          8.941140424862981,
          8.004055452180125,
          8.21229655722076,
          8.62877876730203,
          8.941140424862981,
          7.691693794619174,
          7.587573242098856,
          8.004055452180125,
          9.045260977383299,
          8.108176004700443,
          8.21229655722076,
          9.045260977383299,
          8.108176004700443,
          7.587573242098856,
          7.899934899659809,
          8.62877876730203,
          8.21229655722076,
          8.732899319822348,
          7.795814347139491,
          7.899934899659809,
          9.253502082423934,
          8.941140424862981,
          9.149381529903616,
          8.62877876730203,
          7.795814347139491,
          7.691693794619174,
          8.21229655722076,
          9.253502082423934,
          9.253502082423934,
          7.795814347139491,
          8.316417109741078,
          8.21229655722076,
          8.732899319822348,
          8.316417109741078,
          8.316417109741078,
          9.149381529903616,
          8.004055452180125,
          7.587573242098856,
          9.149381529903616,
          7.691693794619174,
          9.045260977383299,
          9.149381529903616,
          9.253502082423934,
          8.837019872342665,
          8.837019872342665,
          8.941140424862981,
          8.524658214781713,
          8.108176004700443,
          8.941140424862981,
          8.837019872342665,
          7.899934899659809,
          8.004055452180125,
          7.691693794619174,
          7.795814347139491,
          9.357622634944251,
          9.357622634944251,
          8.316417109741078,
          8.21229655722076,
          9.253502082423934,
          7.691693794619174,
          8.941140424862981,
          8.62877876730203,
          7.899934899659809,
          8.108176004700443,
          9.149381529903616,
          9.253502082423934,
          8.941140424862981,
          9.149381529903616,
          8.420537662261395,
          9.253502082423934,
          8.21229655722076,
          8.108176004700443,
          8.837019872342665,
          9.149381529903616,
          8.108176004700443,
          8.941140424862981,
          7.795814347139491,
          9.253502082423934,
          8.316417109741078,
          8.62877876730203,
          7.587573242098856,
          8.420537662261395,
          7.899934899659809,
          8.732899319822348,
          7.691693794619174,
          7.587573242098856,
          9.357622634944251,
          7.587573242098856,
          8.108176004700443,
          7.795814347139491,
          7.795814347139491,
          8.21229655722076,
          8.732899319822348,
          8.941140424862981,
          9.045260977383299,
          8.420537662261395,
          8.837019872342665,
          7.691693794619174,
          8.524658214781713,
          8.004055452180125,
          7.795814347139491,
          8.004055452180125,
          7.795814347139491,
          7.795814347139491,
          7.795814347139491,
          8.004055452180125,
          9.045260977383299,
          7.795814347139491,
          8.108176004700443,
          8.837019872342665,
          7.899934899659809,
          8.004055452180125,
          8.316417109741078,
          8.004055452180125,
          8.21229655722076,
          7.899934899659809,
          7.795814347139491,
          8.21229655722076,
          8.941140424862981,
          7.691693794619174,
          7.899934899659809,
          8.524658214781713,
          9.045260977383299,
          8.524658214781713,
          7.795814347139491,
          8.004055452180125,
          7.691693794619174,
          8.941140424862981,
          8.420537662261395,
          8.62877876730203,
          8.004055452180125,
          7.587573242098856,
          8.108176004700443,
          9.357622634944251,
          8.62877876730203,
          9.357622634944251,
          8.62877876730203,
          8.941140424862981,
          8.837019872342665,
          9.253502082423934,
          7.795814347139491,
          9.253502082423934,
          9.253502082423934,
          9.045260977383299,
          8.837019872342665,
          8.837019872342665,
          8.420537662261395,
          8.21229655722076,
          7.795814347139491,
          9.253502082423934,
          7.691693794619174,
          9.253502082423934,
          8.004055452180125,
          8.21229655722076,
          9.253502082423934,
          9.149381529903616,
          8.316417109741078,
          8.316417109741078,
          8.837019872342665,
          8.316417109741078,
          8.108176004700443,
          8.524658214781713,
          8.316417109741078,
          8.004055452180125,
          8.316417109741078,
          7.795814347139491,
          8.420537662261395,
          8.108176004700443,
          8.004055452180125,
          9.045260977383299,
          7.899934899659809,
          9.149381529903616,
          8.837019872342665,
          9.045260977383299,
          8.004055452180125,
          8.004055452180125,
          8.108176004700443,
          8.524658214781713,
          7.899934899659809,
          8.108176004700443,
          7.691693794619174,
          8.004055452180125,
          8.524658214781713,
          8.941140424862981,
          7.691693794619174,
          8.941140424862981,
          7.587573242098856,
          8.941140424862981,
          9.253502082423934,
          8.108176004700443,
          8.732899319822348,
          8.62877876730203,
          8.316417109741078,
          8.62877876730203,
          9.149381529903616,
          7.899934899659809,
          8.941140424862981,
          9.253502082423934,
          9.149381529903616,
          8.316417109741078,
          8.524658214781713,
          8.21229655722076,
          8.524658214781713,
          8.108176004700443,
          9.149381529903616,
          8.941140424862981,
          7.795814347139491,
          7.587573242098856,
          8.524658214781713,
          8.62877876730203,
          8.004055452180125,
          7.587573242098856,
          8.524658214781713,
          7.899934899659809,
          8.108176004700443,
          9.149381529903616,
          8.941140424862981,
          8.62877876730203,
          8.420537662261395,
          9.357622634944251,
          8.837019872342665,
          9.045260977383299,
          7.795814347139491,
          8.316417109741078,
          8.732899319822348,
          7.587573242098856,
          9.149381529903616,
          9.045260977383299,
          8.108176004700443,
          7.587573242098856,
          8.524658214781713,
          9.149381529903616,
          8.420537662261395,
          8.004055452180125,
          9.357622634944251,
          9.357622634944251,
          7.795814347139491,
          9.045260977383299,
          7.691693794619174,
          8.837019872342665,
          7.795814347139491,
          7.795814347139491,
          8.004055452180125,
          9.149381529903616,
          7.587573242098856,
          7.795814347139491,
          8.62877876730203,
          8.004055452180125,
          9.253502082423934,
          9.149381529903616,
          8.420537662261395,
          8.941140424862981,
          8.732899319822348,
          7.691693794619174,
          9.253502082423934,
          9.253502082423934,
          8.108176004700443,
          8.941140424862981,
          8.941140424862981,
          8.732899319822348,
          8.004055452180125,
          7.587573242098856,
          8.21229655722076,
          8.732899319822348,
          7.899934899659809,
          7.899934899659809,
          8.108176004700443,
          8.941140424862981,
          7.691693794619174,
          8.837019872342665,
          8.21229655722076,
          8.941140424862981,
          7.795814347139491,
          8.62877876730203,
          7.795814347139491,
          8.316417109741078,
          8.108176004700443,
          7.899934899659809,
          9.045260977383299,
          9.357622634944251,
          8.732899319822348,
          8.837019872342665,
          7.587573242098856,
          8.837019872342665,
          8.837019872342665,
          7.691693794619174,
          8.941140424862981,
          7.795814347139491,
          8.62877876730203,
          8.941140424862981,
          8.004055452180125
         ],
         "y": [
          8.160518247477505,
          8.987196820661973,
          7.170119543449628,
          8.476371196895983,
          7.438383530044307,
          7.170119543449628,
          9.011889433252344,
          7.24422751560335,
          8.83927669058535,
          9.20029003612268,
          7.24422751560335,
          8.68270762989381,
          9.126958763037132,
          8.68270762989381,
          7.783224016336037,
          8.575462099540212,
          9.0595174822416,
          8.389359819906353,
          8.594154232552366,
          8.794824928014517,
          8.948975607841776,
          8.732304571033183,
          7.649692623711514,
          7.090076835776092,
          8.895629627136483,
          7.90100705199242,
          7.549609165154532,
          8.594154232552366,
          7.649692623711514,
          8.131530710604252,
          8.006367567650246,
          8.881836305004146,
          9.137769679141348,
          7.170119543449628,
          7.24422751560335,
          7.696212639346407,
          9.259130536145614,
          9.035986984831405,
          8.594154232552366,
          9.035986984831405,
          7.438383530044307,
          8.496990484098719,
          7.170119543449628,
          7.495541943884256,
          8.594154232552366,
          9.02401079378469,
          9.082507000466299,
          7.170119543449628,
          9.071078304642676,
          7.003065458786462,
          8.895629627136483,
          8.732304571033183,
          8.101677747454572,
          8.575462099540212,
          8.517193191416238,
          7.170119543449628,
          8.476371196895983,
          8.517193191416238,
          9.011889433252344,
          8.68270762989381,
          7.313220387090301,
          9.137769679141348,
          9.169518377455928,
          8.824677891164198,
          8.764053269347762,
          8.83927669058535,
          8.006367567650246,
          7.495541943884256,
          8.895629627136483,
          9.230142999272362,
          9.071078304642676,
          8.45531778769815,
          8.895629627136483,
          8.160518247477505,
          9.011889433252344,
          9.02401079378469,
          8.824677891164198,
          8.294049640102028,
          8.764053269347762,
          8.575462099540212,
          8.699514748210191,
          9.02401079378469,
          9.20029003612268,
          9.035986984831405,
          7.649692623711514,
          8.517193191416238,
          8.131530710604252,
          7.003065458786462,
          7.783224016336037,
          8.974618038455112,
          8.935903526274423,
          8.34283980427146,
          8.987196820661973,
          7.313220387090301,
          8.34283980427146,
          7.8632667240095735,
          9.082507000466299,
          8.85366542803745,
          8.83927669058535,
          8.68270762989381,
          9.093806555720231,
          9.011889433252344,
          8.517193191416238,
          9.190137664658664,
          8.45531778769815,
          8.794824928014517,
          7.824046010856292,
          7.696212639346407,
          8.881836305004146,
          7.170119543449628,
          8.556413904569519,
          8.556413904569519,
          7.170119543449628,
          7.937374696163295,
          7.170119543449628,
          9.035986984831405,
          9.093806555720231,
          7.783224016336037,
          9.011889433252344,
          8.881836305004146,
          7.8632667240095735,
          8.556413904569519,
          8.909235279192261,
          8.594154232552366,
          9.093806555720231,
          8.935903526274423,
          8.101677747454572,
          8.496990484098719,
          8.824677891164198,
          9.035986984831405,
          7.090076835776092,
          7.24422751560335,
          8.160518247477505,
          9.093806555720231,
          8.34283980427146,
          8.45531778769815,
          9.0595174822416,
          8.268731832117737,
          7.24422751560335,
          7.824046010856292,
          8.85366542803745,
          8.389359819906353,
          8.881836305004146,
          7.696212639346407,
          7.824046010856292,
          9.116029692504942,
          9.011889433252344,
          9.148464968258095,
          8.85366542803745,
          7.003065458786462,
          7.090076835776092,
          8.496990484098719,
          9.20029003612268,
          9.169518377455928,
          7.495541943884256,
          8.594154232552366,
          8.411832675758411,
          8.909235279192261,
          8.411832675758411,
          8.575462099540212,
          9.126958763037132,
          8.160518247477505,
          7.003065458786462,
          9.148464968258095,
          7.090076835776092,
          9.071078304642676,
          9.137769679141348,
          9.190137664658664,
          8.974618038455112,
          8.961879012677683,
          9.011889433252344,
          8.794824928014517,
          8.294049640102028,
          8.948975607841776,
          8.961879012677683,
          7.696212639346407,
          8.131530710604252,
          7.24422751560335,
          7.24422751560335,
          9.230142999272362,
          9.20029003612268,
          8.556413904569519,
          8.45531778769815,
          9.179881164491475,
          7.313220387090301,
          9.035986984831405,
          8.824677891164198,
          7.696212639346407,
          8.268731832117737,
          9.137769679141348,
          9.169518377455928,
          9.02401079378469,
          9.137769679141348,
          8.630521876723241,
          9.116029692504942,
          8.411832675758411,
          8.34283980427146,
          8.881836305004146,
          9.093806555720231,
          8.294049640102028,
          9.035986984831405,
          7.438383530044307,
          9.169518377455928,
          8.556413904569519,
          8.824677891164198,
          7.003065458786462,
          8.66561319653451,
          7.9724660159745655,
          8.895629627136483,
          7.170119543449628,
          7.24422751560335,
          9.230142999272362,
          7.24422751560335,
          8.318742252692399,
          7.649692623711514,
          7.649692623711514,
          8.476371196895983,
          8.895629627136483,
          9.035986984831405,
          9.035986984831405,
          8.648221453822641,
          8.948975607841776,
          7.313220387090301,
          8.748304912379623,
          8.101677747454572,
          7.600902459542082,
          8.131530710604252,
          7.696212639346407,
          7.438383530044307,
          7.649692623711514,
          8.101677747454572,
          9.035986984831405,
          7.313220387090301,
          8.242756345714477,
          8.895629627136483,
          7.9724660159745655,
          8.131530710604252,
          8.575462099540212,
          8.006367567650246,
          8.45531778769815,
          7.600902459542082,
          7.438383530044307,
          8.389359819906353,
          9.02401079378469,
          7.170119543449628,
          7.824046010856292,
          8.764053269347762,
          9.082507000466299,
          8.748304912379623,
          7.696212639346407,
          8.101677747454572,
          7.24422751560335,
          9.035986984831405,
          8.66561319653451,
          8.85366542803745,
          8.101677747454572,
          7.313220387090301,
          8.34283980427146,
          9.190137664658664,
          8.83927669058535,
          9.230142999272362,
          8.824677891164198,
          8.935903526274423,
          8.948975607841776,
          9.169518377455928,
          7.549609165154532,
          9.179881164491475,
          9.126958763037132,
          9.071078304642676,
          8.974618038455112,
          8.987196820661973,
          8.66561319653451,
          8.496990484098719,
          7.438383530044307,
          9.190137664658664,
          7.170119543449628,
          9.116029692504942,
          8.160518247477505,
          8.496990484098719,
          9.116029692504942,
          9.137769679141348,
          8.556413904569519,
          8.594154232552366,
          8.987196820661973,
          8.575462099540212,
          8.34283980427146,
          8.764053269347762,
          8.575462099540212,
          8.101677747454572,
          8.594154232552366,
          7.438383530044307,
          8.68270762989381,
          8.294049640102028,
          8.160518247477505,
          9.082507000466299,
          7.937374696163295,
          9.148464968258095,
          8.948975607841776,
          9.011889433252344,
          8.101677747454572,
          8.160518247477505,
          8.34283980427146,
          8.748304912379623,
          7.649692623711514,
          8.34283980427146,
          7.003065458786462,
          8.160518247477505,
          8.648221453822641,
          9.02401079378469,
          7.090076835776092,
          8.987196820661973,
          7.090076835776092,
          8.935903526274423,
          9.137769679141348,
          8.101677747454572,
          8.881836305004146,
          8.824677891164198,
          8.411832675758411,
          8.824677891164198,
          9.148464968258095,
          7.90100705199242,
          9.035986984831405,
          9.20029003612268,
          9.0595174822416,
          8.556413904569519,
          8.630521876723241,
          8.476371196895983,
          8.66561319653451,
          8.242756345714477,
          9.116029692504942,
          9.035986984831405,
          7.549609165154532,
          7.24422751560335,
          8.764053269347762,
          8.824677891164198,
          8.101677747454572,
          7.170119543449628,
          8.794824928014517,
          7.8632667240095735,
          8.294049640102028,
          9.137769679141348,
          8.961879012677683,
          8.85366542803745,
          8.699514748210191,
          9.259130536145614,
          8.948975607841776,
          9.02401079378469,
          7.600902459542082,
          8.556413904569519,
          8.881836305004146,
          7.090076835776092,
          9.126958763037132,
          9.082507000466299,
          8.294049640102028,
          7.313220387090301,
          8.648221453822641,
          9.093806555720231,
          8.699514748210191,
          7.824046010856292,
          9.249561085129464,
          9.20029003612268,
          7.549609165154532,
          9.011889433252344,
          7.170119543449628,
          8.974618038455112,
          7.438383530044307,
          7.090076835776092,
          8.160518247477505,
          9.116029692504942,
          7.24422751560335,
          7.438383530044307,
          8.794824928014517,
          8.131530710604252,
          9.190137664658664,
          9.116029692504942,
          8.630521876723241,
          8.974618038455112,
          8.909235279192261,
          7.003065458786462,
          9.148464968258095,
          9.148464968258095,
          8.318742252692399,
          9.035986984831405,
          8.935903526274423,
          8.881836305004146,
          8.101677747454572,
          7.090076835776092,
          8.433811582477187,
          8.895629627136483,
          8.006367567650246,
          7.824046010856292,
          8.294049640102028,
          9.02401079378469,
          7.313220387090301,
          8.935903526274423,
          8.411832675758411,
          8.948975607841776,
          7.495541943884256,
          8.83927669058535,
          7.313220387090301,
          8.556413904569519,
          8.242756345714477,
          7.783224016336037,
          9.082507000466299,
          9.259130536145614,
          8.895629627136483,
          8.987196820661973,
          7.170119543449628,
          8.895629627136483,
          8.974618038455112,
          7.313220387090301,
          8.948975607841776,
          7.495541943884256,
          8.824677891164198,
          9.011889433252344,
          8.101677747454572
         ]
        },
        {
         "line": {
          "color": "red"
         },
         "mode": "lines",
         "type": "scatter",
         "x": [
          8.160518247477505,
          8.987196820661973,
          7.170119543449628,
          8.476371196895983,
          7.438383530044307,
          7.170119543449628,
          9.011889433252344,
          7.24422751560335,
          8.83927669058535,
          9.20029003612268,
          7.24422751560335,
          8.68270762989381,
          9.126958763037132,
          8.68270762989381,
          7.783224016336037,
          8.575462099540212,
          9.0595174822416,
          8.389359819906353,
          8.594154232552366,
          8.794824928014517,
          8.948975607841776,
          8.732304571033183,
          7.649692623711514,
          7.090076835776092,
          8.895629627136483,
          7.90100705199242,
          7.549609165154532,
          8.594154232552366,
          7.649692623711514,
          8.131530710604252,
          8.006367567650246,
          8.881836305004146,
          9.137769679141348,
          7.170119543449628,
          7.24422751560335,
          7.696212639346407,
          9.259130536145614,
          9.035986984831405,
          8.594154232552366,
          9.035986984831405,
          7.438383530044307,
          8.496990484098719,
          7.170119543449628,
          7.495541943884256,
          8.594154232552366,
          9.02401079378469,
          9.082507000466299,
          7.170119543449628,
          9.071078304642676,
          7.003065458786462,
          8.895629627136483,
          8.732304571033183,
          8.101677747454572,
          8.575462099540212,
          8.517193191416238,
          7.170119543449628,
          8.476371196895983,
          8.517193191416238,
          9.011889433252344,
          8.68270762989381,
          7.313220387090301,
          9.137769679141348,
          9.169518377455928,
          8.824677891164198,
          8.764053269347762,
          8.83927669058535,
          8.006367567650246,
          7.495541943884256,
          8.895629627136483,
          9.230142999272362,
          9.071078304642676,
          8.45531778769815,
          8.895629627136483,
          8.160518247477505,
          9.011889433252344,
          9.02401079378469,
          8.824677891164198,
          8.294049640102028,
          8.764053269347762,
          8.575462099540212,
          8.699514748210191,
          9.02401079378469,
          9.20029003612268,
          9.035986984831405,
          7.649692623711514,
          8.517193191416238,
          8.131530710604252,
          7.003065458786462,
          7.783224016336037,
          8.974618038455112,
          8.935903526274423,
          8.34283980427146,
          8.987196820661973,
          7.313220387090301,
          8.34283980427146,
          7.8632667240095735,
          9.082507000466299,
          8.85366542803745,
          8.83927669058535,
          8.68270762989381,
          9.093806555720231,
          9.011889433252344,
          8.517193191416238,
          9.190137664658664,
          8.45531778769815,
          8.794824928014517,
          7.824046010856292,
          7.696212639346407,
          8.881836305004146,
          7.170119543449628,
          8.556413904569519,
          8.556413904569519,
          7.170119543449628,
          7.937374696163295,
          7.170119543449628,
          9.035986984831405,
          9.093806555720231,
          7.783224016336037,
          9.011889433252344,
          8.881836305004146,
          7.8632667240095735,
          8.556413904569519,
          8.909235279192261,
          8.594154232552366,
          9.093806555720231,
          8.935903526274423,
          8.101677747454572,
          8.496990484098719,
          8.824677891164198,
          9.035986984831405,
          7.090076835776092,
          7.24422751560335,
          8.160518247477505,
          9.093806555720231,
          8.34283980427146,
          8.45531778769815,
          9.0595174822416,
          8.268731832117737,
          7.24422751560335,
          7.824046010856292,
          8.85366542803745,
          8.389359819906353,
          8.881836305004146,
          7.696212639346407,
          7.824046010856292,
          9.116029692504942,
          9.011889433252344,
          9.148464968258095,
          8.85366542803745,
          7.003065458786462,
          7.090076835776092,
          8.496990484098719,
          9.20029003612268,
          9.169518377455928,
          7.495541943884256,
          8.594154232552366,
          8.411832675758411,
          8.909235279192261,
          8.411832675758411,
          8.575462099540212,
          9.126958763037132,
          8.160518247477505,
          7.003065458786462,
          9.148464968258095,
          7.090076835776092,
          9.071078304642676,
          9.137769679141348,
          9.190137664658664,
          8.974618038455112,
          8.961879012677683,
          9.011889433252344,
          8.794824928014517,
          8.294049640102028,
          8.948975607841776,
          8.961879012677683,
          7.696212639346407,
          8.131530710604252,
          7.24422751560335,
          7.24422751560335,
          9.230142999272362,
          9.20029003612268,
          8.556413904569519,
          8.45531778769815,
          9.179881164491475,
          7.313220387090301,
          9.035986984831405,
          8.824677891164198,
          7.696212639346407,
          8.268731832117737,
          9.137769679141348,
          9.169518377455928,
          9.02401079378469,
          9.137769679141348,
          8.630521876723241,
          9.116029692504942,
          8.411832675758411,
          8.34283980427146,
          8.881836305004146,
          9.093806555720231,
          8.294049640102028,
          9.035986984831405,
          7.438383530044307,
          9.169518377455928,
          8.556413904569519,
          8.824677891164198,
          7.003065458786462,
          8.66561319653451,
          7.9724660159745655,
          8.895629627136483,
          7.170119543449628,
          7.24422751560335,
          9.230142999272362,
          7.24422751560335,
          8.318742252692399,
          7.649692623711514,
          7.649692623711514,
          8.476371196895983,
          8.895629627136483,
          9.035986984831405,
          9.035986984831405,
          8.648221453822641,
          8.948975607841776,
          7.313220387090301,
          8.748304912379623,
          8.101677747454572,
          7.600902459542082,
          8.131530710604252,
          7.696212639346407,
          7.438383530044307,
          7.649692623711514,
          8.101677747454572,
          9.035986984831405,
          7.313220387090301,
          8.242756345714477,
          8.895629627136483,
          7.9724660159745655,
          8.131530710604252,
          8.575462099540212,
          8.006367567650246,
          8.45531778769815,
          7.600902459542082,
          7.438383530044307,
          8.389359819906353,
          9.02401079378469,
          7.170119543449628,
          7.824046010856292,
          8.764053269347762,
          9.082507000466299,
          8.748304912379623,
          7.696212639346407,
          8.101677747454572,
          7.24422751560335,
          9.035986984831405,
          8.66561319653451,
          8.85366542803745,
          8.101677747454572,
          7.313220387090301,
          8.34283980427146,
          9.190137664658664,
          8.83927669058535,
          9.230142999272362,
          8.824677891164198,
          8.935903526274423,
          8.948975607841776,
          9.169518377455928,
          7.549609165154532,
          9.179881164491475,
          9.126958763037132,
          9.071078304642676,
          8.974618038455112,
          8.987196820661973,
          8.66561319653451,
          8.496990484098719,
          7.438383530044307,
          9.190137664658664,
          7.170119543449628,
          9.116029692504942,
          8.160518247477505,
          8.496990484098719,
          9.116029692504942,
          9.137769679141348,
          8.556413904569519,
          8.594154232552366,
          8.987196820661973,
          8.575462099540212,
          8.34283980427146,
          8.764053269347762,
          8.575462099540212,
          8.101677747454572,
          8.594154232552366,
          7.438383530044307,
          8.68270762989381,
          8.294049640102028,
          8.160518247477505,
          9.082507000466299,
          7.937374696163295,
          9.148464968258095,
          8.948975607841776,
          9.011889433252344,
          8.101677747454572,
          8.160518247477505,
          8.34283980427146,
          8.748304912379623,
          7.649692623711514,
          8.34283980427146,
          7.003065458786462,
          8.160518247477505,
          8.648221453822641,
          9.02401079378469,
          7.090076835776092,
          8.987196820661973,
          7.090076835776092,
          8.935903526274423,
          9.137769679141348,
          8.101677747454572,
          8.881836305004146,
          8.824677891164198,
          8.411832675758411,
          8.824677891164198,
          9.148464968258095,
          7.90100705199242,
          9.035986984831405,
          9.20029003612268,
          9.0595174822416,
          8.556413904569519,
          8.630521876723241,
          8.476371196895983,
          8.66561319653451,
          8.242756345714477,
          9.116029692504942,
          9.035986984831405,
          7.549609165154532,
          7.24422751560335,
          8.764053269347762,
          8.824677891164198,
          8.101677747454572,
          7.170119543449628,
          8.794824928014517,
          7.8632667240095735,
          8.294049640102028,
          9.137769679141348,
          8.961879012677683,
          8.85366542803745,
          8.699514748210191,
          9.259130536145614,
          8.948975607841776,
          9.02401079378469,
          7.600902459542082,
          8.556413904569519,
          8.881836305004146,
          7.090076835776092,
          9.126958763037132,
          9.082507000466299,
          8.294049640102028,
          7.313220387090301,
          8.648221453822641,
          9.093806555720231,
          8.699514748210191,
          7.824046010856292,
          9.249561085129464,
          9.20029003612268,
          7.549609165154532,
          9.011889433252344,
          7.170119543449628,
          8.974618038455112,
          7.438383530044307,
          7.090076835776092,
          8.160518247477505,
          9.116029692504942,
          7.24422751560335,
          7.438383530044307,
          8.794824928014517,
          8.131530710604252,
          9.190137664658664,
          9.116029692504942,
          8.630521876723241,
          8.974618038455112,
          8.909235279192261,
          7.003065458786462,
          9.148464968258095,
          9.148464968258095,
          8.318742252692399,
          9.035986984831405,
          8.935903526274423,
          8.881836305004146,
          8.101677747454572,
          7.090076835776092,
          8.433811582477187,
          8.895629627136483,
          8.006367567650246,
          7.824046010856292,
          8.294049640102028,
          9.02401079378469,
          7.313220387090301,
          8.935903526274423,
          8.411832675758411,
          8.948975607841776,
          7.495541943884256,
          8.83927669058535,
          7.313220387090301,
          8.556413904569519,
          8.242756345714477,
          7.783224016336037,
          9.082507000466299,
          9.259130536145614,
          8.895629627136483,
          8.987196820661973,
          7.170119543449628,
          8.895629627136483,
          8.974618038455112,
          7.313220387090301,
          8.948975607841776,
          7.495541943884256,
          8.824677891164198,
          9.011889433252344,
          8.101677747454572
         ],
         "y": [
          8.160518247477505,
          8.987196820661973,
          7.170119543449628,
          8.476371196895983,
          7.438383530044307,
          7.170119543449628,
          9.011889433252344,
          7.24422751560335,
          8.83927669058535,
          9.20029003612268,
          7.24422751560335,
          8.68270762989381,
          9.126958763037132,
          8.68270762989381,
          7.783224016336037,
          8.575462099540212,
          9.0595174822416,
          8.389359819906353,
          8.594154232552366,
          8.794824928014517,
          8.948975607841776,
          8.732304571033183,
          7.649692623711514,
          7.090076835776092,
          8.895629627136483,
          7.90100705199242,
          7.549609165154532,
          8.594154232552366,
          7.649692623711514,
          8.131530710604252,
          8.006367567650246,
          8.881836305004146,
          9.137769679141348,
          7.170119543449628,
          7.24422751560335,
          7.696212639346407,
          9.259130536145614,
          9.035986984831405,
          8.594154232552366,
          9.035986984831405,
          7.438383530044307,
          8.496990484098719,
          7.170119543449628,
          7.495541943884256,
          8.594154232552366,
          9.02401079378469,
          9.082507000466299,
          7.170119543449628,
          9.071078304642676,
          7.003065458786462,
          8.895629627136483,
          8.732304571033183,
          8.101677747454572,
          8.575462099540212,
          8.517193191416238,
          7.170119543449628,
          8.476371196895983,
          8.517193191416238,
          9.011889433252344,
          8.68270762989381,
          7.313220387090301,
          9.137769679141348,
          9.169518377455928,
          8.824677891164198,
          8.764053269347762,
          8.83927669058535,
          8.006367567650246,
          7.495541943884256,
          8.895629627136483,
          9.230142999272362,
          9.071078304642676,
          8.45531778769815,
          8.895629627136483,
          8.160518247477505,
          9.011889433252344,
          9.02401079378469,
          8.824677891164198,
          8.294049640102028,
          8.764053269347762,
          8.575462099540212,
          8.699514748210191,
          9.02401079378469,
          9.20029003612268,
          9.035986984831405,
          7.649692623711514,
          8.517193191416238,
          8.131530710604252,
          7.003065458786462,
          7.783224016336037,
          8.974618038455112,
          8.935903526274423,
          8.34283980427146,
          8.987196820661973,
          7.313220387090301,
          8.34283980427146,
          7.8632667240095735,
          9.082507000466299,
          8.85366542803745,
          8.83927669058535,
          8.68270762989381,
          9.093806555720231,
          9.011889433252344,
          8.517193191416238,
          9.190137664658664,
          8.45531778769815,
          8.794824928014517,
          7.824046010856292,
          7.696212639346407,
          8.881836305004146,
          7.170119543449628,
          8.556413904569519,
          8.556413904569519,
          7.170119543449628,
          7.937374696163295,
          7.170119543449628,
          9.035986984831405,
          9.093806555720231,
          7.783224016336037,
          9.011889433252344,
          8.881836305004146,
          7.8632667240095735,
          8.556413904569519,
          8.909235279192261,
          8.594154232552366,
          9.093806555720231,
          8.935903526274423,
          8.101677747454572,
          8.496990484098719,
          8.824677891164198,
          9.035986984831405,
          7.090076835776092,
          7.24422751560335,
          8.160518247477505,
          9.093806555720231,
          8.34283980427146,
          8.45531778769815,
          9.0595174822416,
          8.268731832117737,
          7.24422751560335,
          7.824046010856292,
          8.85366542803745,
          8.389359819906353,
          8.881836305004146,
          7.696212639346407,
          7.824046010856292,
          9.116029692504942,
          9.011889433252344,
          9.148464968258095,
          8.85366542803745,
          7.003065458786462,
          7.090076835776092,
          8.496990484098719,
          9.20029003612268,
          9.169518377455928,
          7.495541943884256,
          8.594154232552366,
          8.411832675758411,
          8.909235279192261,
          8.411832675758411,
          8.575462099540212,
          9.126958763037132,
          8.160518247477505,
          7.003065458786462,
          9.148464968258095,
          7.090076835776092,
          9.071078304642676,
          9.137769679141348,
          9.190137664658664,
          8.974618038455112,
          8.961879012677683,
          9.011889433252344,
          8.794824928014517,
          8.294049640102028,
          8.948975607841776,
          8.961879012677683,
          7.696212639346407,
          8.131530710604252,
          7.24422751560335,
          7.24422751560335,
          9.230142999272362,
          9.20029003612268,
          8.556413904569519,
          8.45531778769815,
          9.179881164491475,
          7.313220387090301,
          9.035986984831405,
          8.824677891164198,
          7.696212639346407,
          8.268731832117737,
          9.137769679141348,
          9.169518377455928,
          9.02401079378469,
          9.137769679141348,
          8.630521876723241,
          9.116029692504942,
          8.411832675758411,
          8.34283980427146,
          8.881836305004146,
          9.093806555720231,
          8.294049640102028,
          9.035986984831405,
          7.438383530044307,
          9.169518377455928,
          8.556413904569519,
          8.824677891164198,
          7.003065458786462,
          8.66561319653451,
          7.9724660159745655,
          8.895629627136483,
          7.170119543449628,
          7.24422751560335,
          9.230142999272362,
          7.24422751560335,
          8.318742252692399,
          7.649692623711514,
          7.649692623711514,
          8.476371196895983,
          8.895629627136483,
          9.035986984831405,
          9.035986984831405,
          8.648221453822641,
          8.948975607841776,
          7.313220387090301,
          8.748304912379623,
          8.101677747454572,
          7.600902459542082,
          8.131530710604252,
          7.696212639346407,
          7.438383530044307,
          7.649692623711514,
          8.101677747454572,
          9.035986984831405,
          7.313220387090301,
          8.242756345714477,
          8.895629627136483,
          7.9724660159745655,
          8.131530710604252,
          8.575462099540212,
          8.006367567650246,
          8.45531778769815,
          7.600902459542082,
          7.438383530044307,
          8.389359819906353,
          9.02401079378469,
          7.170119543449628,
          7.824046010856292,
          8.764053269347762,
          9.082507000466299,
          8.748304912379623,
          7.696212639346407,
          8.101677747454572,
          7.24422751560335,
          9.035986984831405,
          8.66561319653451,
          8.85366542803745,
          8.101677747454572,
          7.313220387090301,
          8.34283980427146,
          9.190137664658664,
          8.83927669058535,
          9.230142999272362,
          8.824677891164198,
          8.935903526274423,
          8.948975607841776,
          9.169518377455928,
          7.549609165154532,
          9.179881164491475,
          9.126958763037132,
          9.071078304642676,
          8.974618038455112,
          8.987196820661973,
          8.66561319653451,
          8.496990484098719,
          7.438383530044307,
          9.190137664658664,
          7.170119543449628,
          9.116029692504942,
          8.160518247477505,
          8.496990484098719,
          9.116029692504942,
          9.137769679141348,
          8.556413904569519,
          8.594154232552366,
          8.987196820661973,
          8.575462099540212,
          8.34283980427146,
          8.764053269347762,
          8.575462099540212,
          8.101677747454572,
          8.594154232552366,
          7.438383530044307,
          8.68270762989381,
          8.294049640102028,
          8.160518247477505,
          9.082507000466299,
          7.937374696163295,
          9.148464968258095,
          8.948975607841776,
          9.011889433252344,
          8.101677747454572,
          8.160518247477505,
          8.34283980427146,
          8.748304912379623,
          7.649692623711514,
          8.34283980427146,
          7.003065458786462,
          8.160518247477505,
          8.648221453822641,
          9.02401079378469,
          7.090076835776092,
          8.987196820661973,
          7.090076835776092,
          8.935903526274423,
          9.137769679141348,
          8.101677747454572,
          8.881836305004146,
          8.824677891164198,
          8.411832675758411,
          8.824677891164198,
          9.148464968258095,
          7.90100705199242,
          9.035986984831405,
          9.20029003612268,
          9.0595174822416,
          8.556413904569519,
          8.630521876723241,
          8.476371196895983,
          8.66561319653451,
          8.242756345714477,
          9.116029692504942,
          9.035986984831405,
          7.549609165154532,
          7.24422751560335,
          8.764053269347762,
          8.824677891164198,
          8.101677747454572,
          7.170119543449628,
          8.794824928014517,
          7.8632667240095735,
          8.294049640102028,
          9.137769679141348,
          8.961879012677683,
          8.85366542803745,
          8.699514748210191,
          9.259130536145614,
          8.948975607841776,
          9.02401079378469,
          7.600902459542082,
          8.556413904569519,
          8.881836305004146,
          7.090076835776092,
          9.126958763037132,
          9.082507000466299,
          8.294049640102028,
          7.313220387090301,
          8.648221453822641,
          9.093806555720231,
          8.699514748210191,
          7.824046010856292,
          9.249561085129464,
          9.20029003612268,
          7.549609165154532,
          9.011889433252344,
          7.170119543449628,
          8.974618038455112,
          7.438383530044307,
          7.090076835776092,
          8.160518247477505,
          9.116029692504942,
          7.24422751560335,
          7.438383530044307,
          8.794824928014517,
          8.131530710604252,
          9.190137664658664,
          9.116029692504942,
          8.630521876723241,
          8.974618038455112,
          8.909235279192261,
          7.003065458786462,
          9.148464968258095,
          9.148464968258095,
          8.318742252692399,
          9.035986984831405,
          8.935903526274423,
          8.881836305004146,
          8.101677747454572,
          7.090076835776092,
          8.433811582477187,
          8.895629627136483,
          8.006367567650246,
          7.824046010856292,
          8.294049640102028,
          9.02401079378469,
          7.313220387090301,
          8.935903526274423,
          8.411832675758411,
          8.948975607841776,
          7.495541943884256,
          8.83927669058535,
          7.313220387090301,
          8.556413904569519,
          8.242756345714477,
          7.783224016336037,
          9.082507000466299,
          9.259130536145614,
          8.895629627136483,
          8.987196820661973,
          7.170119543449628,
          8.895629627136483,
          8.974618038455112,
          7.313220387090301,
          8.948975607841776,
          7.495541943884256,
          8.824677891164198,
          9.011889433252344,
          8.101677747454572
         ]
        }
       ],
       "layout": {
        "height": 500,
        "template": {
         "data": {
          "bar": [
           {
            "error_x": {
             "color": "#2a3f5f"
            },
            "error_y": {
             "color": "#2a3f5f"
            },
            "marker": {
             "line": {
              "color": "#E5ECF6",
              "width": 0.5
             },
             "pattern": {
              "fillmode": "overlay",
              "size": 10,
              "solidity": 0.2
             }
            },
            "type": "bar"
           }
          ],
          "barpolar": [
           {
            "marker": {
             "line": {
              "color": "#E5ECF6",
              "width": 0.5
             },
             "pattern": {
              "fillmode": "overlay",
              "size": 10,
              "solidity": 0.2
             }
            },
            "type": "barpolar"
           }
          ],
          "carpet": [
           {
            "aaxis": {
             "endlinecolor": "#2a3f5f",
             "gridcolor": "white",
             "linecolor": "white",
             "minorgridcolor": "white",
             "startlinecolor": "#2a3f5f"
            },
            "baxis": {
             "endlinecolor": "#2a3f5f",
             "gridcolor": "white",
             "linecolor": "white",
             "minorgridcolor": "white",
             "startlinecolor": "#2a3f5f"
            },
            "type": "carpet"
           }
          ],
          "choropleth": [
           {
            "colorbar": {
             "outlinewidth": 0,
             "ticks": ""
            },
            "type": "choropleth"
           }
          ],
          "contour": [
           {
            "colorbar": {
             "outlinewidth": 0,
             "ticks": ""
            },
            "colorscale": [
             [
              0,
              "#0d0887"
             ],
             [
              0.1111111111111111,
              "#46039f"
             ],
             [
              0.2222222222222222,
              "#7201a8"
             ],
             [
              0.3333333333333333,
              "#9c179e"
             ],
             [
              0.4444444444444444,
              "#bd3786"
             ],
             [
              0.5555555555555556,
              "#d8576b"
             ],
             [
              0.6666666666666666,
              "#ed7953"
             ],
             [
              0.7777777777777778,
              "#fb9f3a"
             ],
             [
              0.8888888888888888,
              "#fdca26"
             ],
             [
              1,
              "#f0f921"
             ]
            ],
            "type": "contour"
           }
          ],
          "contourcarpet": [
           {
            "colorbar": {
             "outlinewidth": 0,
             "ticks": ""
            },
            "type": "contourcarpet"
           }
          ],
          "heatmap": [
           {
            "colorbar": {
             "outlinewidth": 0,
             "ticks": ""
            },
            "colorscale": [
             [
              0,
              "#0d0887"
             ],
             [
              0.1111111111111111,
              "#46039f"
             ],
             [
              0.2222222222222222,
              "#7201a8"
             ],
             [
              0.3333333333333333,
              "#9c179e"
             ],
             [
              0.4444444444444444,
              "#bd3786"
             ],
             [
              0.5555555555555556,
              "#d8576b"
             ],
             [
              0.6666666666666666,
              "#ed7953"
             ],
             [
              0.7777777777777778,
              "#fb9f3a"
             ],
             [
              0.8888888888888888,
              "#fdca26"
             ],
             [
              1,
              "#f0f921"
             ]
            ],
            "type": "heatmap"
           }
          ],
          "heatmapgl": [
           {
            "colorbar": {
             "outlinewidth": 0,
             "ticks": ""
            },
            "colorscale": [
             [
              0,
              "#0d0887"
             ],
             [
              0.1111111111111111,
              "#46039f"
             ],
             [
              0.2222222222222222,
              "#7201a8"
             ],
             [
              0.3333333333333333,
              "#9c179e"
             ],
             [
              0.4444444444444444,
              "#bd3786"
             ],
             [
              0.5555555555555556,
              "#d8576b"
             ],
             [
              0.6666666666666666,
              "#ed7953"
             ],
             [
              0.7777777777777778,
              "#fb9f3a"
             ],
             [
              0.8888888888888888,
              "#fdca26"
             ],
             [
              1,
              "#f0f921"
             ]
            ],
            "type": "heatmapgl"
           }
          ],
          "histogram": [
           {
            "marker": {
             "pattern": {
              "fillmode": "overlay",
              "size": 10,
              "solidity": 0.2
             }
            },
            "type": "histogram"
           }
          ],
          "histogram2d": [
           {
            "colorbar": {
             "outlinewidth": 0,
             "ticks": ""
            },
            "colorscale": [
             [
              0,
              "#0d0887"
             ],
             [
              0.1111111111111111,
              "#46039f"
             ],
             [
              0.2222222222222222,
              "#7201a8"
             ],
             [
              0.3333333333333333,
              "#9c179e"
             ],
             [
              0.4444444444444444,
              "#bd3786"
             ],
             [
              0.5555555555555556,
              "#d8576b"
             ],
             [
              0.6666666666666666,
              "#ed7953"
             ],
             [
              0.7777777777777778,
              "#fb9f3a"
             ],
             [
              0.8888888888888888,
              "#fdca26"
             ],
             [
              1,
              "#f0f921"
             ]
            ],
            "type": "histogram2d"
           }
          ],
          "histogram2dcontour": [
           {
            "colorbar": {
             "outlinewidth": 0,
             "ticks": ""
            },
            "colorscale": [
             [
              0,
              "#0d0887"
             ],
             [
              0.1111111111111111,
              "#46039f"
             ],
             [
              0.2222222222222222,
              "#7201a8"
             ],
             [
              0.3333333333333333,
              "#9c179e"
             ],
             [
              0.4444444444444444,
              "#bd3786"
             ],
             [
              0.5555555555555556,
              "#d8576b"
             ],
             [
              0.6666666666666666,
              "#ed7953"
             ],
             [
              0.7777777777777778,
              "#fb9f3a"
             ],
             [
              0.8888888888888888,
              "#fdca26"
             ],
             [
              1,
              "#f0f921"
             ]
            ],
            "type": "histogram2dcontour"
           }
          ],
          "mesh3d": [
           {
            "colorbar": {
             "outlinewidth": 0,
             "ticks": ""
            },
            "type": "mesh3d"
           }
          ],
          "parcoords": [
           {
            "line": {
             "colorbar": {
              "outlinewidth": 0,
              "ticks": ""
             }
            },
            "type": "parcoords"
           }
          ],
          "pie": [
           {
            "automargin": true,
            "type": "pie"
           }
          ],
          "scatter": [
           {
            "fillpattern": {
             "fillmode": "overlay",
             "size": 10,
             "solidity": 0.2
            },
            "type": "scatter"
           }
          ],
          "scatter3d": [
           {
            "line": {
             "colorbar": {
              "outlinewidth": 0,
              "ticks": ""
             }
            },
            "marker": {
             "colorbar": {
              "outlinewidth": 0,
              "ticks": ""
             }
            },
            "type": "scatter3d"
           }
          ],
          "scattercarpet": [
           {
            "marker": {
             "colorbar": {
              "outlinewidth": 0,
              "ticks": ""
             }
            },
            "type": "scattercarpet"
           }
          ],
          "scattergeo": [
           {
            "marker": {
             "colorbar": {
              "outlinewidth": 0,
              "ticks": ""
             }
            },
            "type": "scattergeo"
           }
          ],
          "scattergl": [
           {
            "marker": {
             "colorbar": {
              "outlinewidth": 0,
              "ticks": ""
             }
            },
            "type": "scattergl"
           }
          ],
          "scattermapbox": [
           {
            "marker": {
             "colorbar": {
              "outlinewidth": 0,
              "ticks": ""
             }
            },
            "type": "scattermapbox"
           }
          ],
          "scatterpolar": [
           {
            "marker": {
             "colorbar": {
              "outlinewidth": 0,
              "ticks": ""
             }
            },
            "type": "scatterpolar"
           }
          ],
          "scatterpolargl": [
           {
            "marker": {
             "colorbar": {
              "outlinewidth": 0,
              "ticks": ""
             }
            },
            "type": "scatterpolargl"
           }
          ],
          "scatterternary": [
           {
            "marker": {
             "colorbar": {
              "outlinewidth": 0,
              "ticks": ""
             }
            },
            "type": "scatterternary"
           }
          ],
          "surface": [
           {
            "colorbar": {
             "outlinewidth": 0,
             "ticks": ""
            },
            "colorscale": [
             [
              0,
              "#0d0887"
             ],
             [
              0.1111111111111111,
              "#46039f"
             ],
             [
              0.2222222222222222,
              "#7201a8"
             ],
             [
              0.3333333333333333,
              "#9c179e"
             ],
             [
              0.4444444444444444,
              "#bd3786"
             ],
             [
              0.5555555555555556,
              "#d8576b"
             ],
             [
              0.6666666666666666,
              "#ed7953"
             ],
             [
              0.7777777777777778,
              "#fb9f3a"
             ],
             [
              0.8888888888888888,
              "#fdca26"
             ],
             [
              1,
              "#f0f921"
             ]
            ],
            "type": "surface"
           }
          ],
          "table": [
           {
            "cells": {
             "fill": {
              "color": "#EBF0F8"
             },
             "line": {
              "color": "white"
             }
            },
            "header": {
             "fill": {
              "color": "#C8D4E3"
             },
             "line": {
              "color": "white"
             }
            },
            "type": "table"
           }
          ]
         },
         "layout": {
          "annotationdefaults": {
           "arrowcolor": "#2a3f5f",
           "arrowhead": 0,
           "arrowwidth": 1
          },
          "autotypenumbers": "strict",
          "coloraxis": {
           "colorbar": {
            "outlinewidth": 0,
            "ticks": ""
           }
          },
          "colorscale": {
           "diverging": [
            [
             0,
             "#8e0152"
            ],
            [
             0.1,
             "#c51b7d"
            ],
            [
             0.2,
             "#de77ae"
            ],
            [
             0.3,
             "#f1b6da"
            ],
            [
             0.4,
             "#fde0ef"
            ],
            [
             0.5,
             "#f7f7f7"
            ],
            [
             0.6,
             "#e6f5d0"
            ],
            [
             0.7,
             "#b8e186"
            ],
            [
             0.8,
             "#7fbc41"
            ],
            [
             0.9,
             "#4d9221"
            ],
            [
             1,
             "#276419"
            ]
           ],
           "sequential": [
            [
             0,
             "#0d0887"
            ],
            [
             0.1111111111111111,
             "#46039f"
            ],
            [
             0.2222222222222222,
             "#7201a8"
            ],
            [
             0.3333333333333333,
             "#9c179e"
            ],
            [
             0.4444444444444444,
             "#bd3786"
            ],
            [
             0.5555555555555556,
             "#d8576b"
            ],
            [
             0.6666666666666666,
             "#ed7953"
            ],
            [
             0.7777777777777778,
             "#fb9f3a"
            ],
            [
             0.8888888888888888,
             "#fdca26"
            ],
            [
             1,
             "#f0f921"
            ]
           ],
           "sequentialminus": [
            [
             0,
             "#0d0887"
            ],
            [
             0.1111111111111111,
             "#46039f"
            ],
            [
             0.2222222222222222,
             "#7201a8"
            ],
            [
             0.3333333333333333,
             "#9c179e"
            ],
            [
             0.4444444444444444,
             "#bd3786"
            ],
            [
             0.5555555555555556,
             "#d8576b"
            ],
            [
             0.6666666666666666,
             "#ed7953"
            ],
            [
             0.7777777777777778,
             "#fb9f3a"
            ],
            [
             0.8888888888888888,
             "#fdca26"
            ],
            [
             1,
             "#f0f921"
            ]
           ]
          },
          "colorway": [
           "#636efa",
           "#EF553B",
           "#00cc96",
           "#ab63fa",
           "#FFA15A",
           "#19d3f3",
           "#FF6692",
           "#B6E880",
           "#FF97FF",
           "#FECB52"
          ],
          "font": {
           "color": "#2a3f5f"
          },
          "geo": {
           "bgcolor": "white",
           "lakecolor": "white",
           "landcolor": "#E5ECF6",
           "showlakes": true,
           "showland": true,
           "subunitcolor": "white"
          },
          "hoverlabel": {
           "align": "left"
          },
          "hovermode": "closest",
          "mapbox": {
           "style": "light"
          },
          "paper_bgcolor": "white",
          "plot_bgcolor": "#E5ECF6",
          "polar": {
           "angularaxis": {
            "gridcolor": "white",
            "linecolor": "white",
            "ticks": ""
           },
           "bgcolor": "#E5ECF6",
           "radialaxis": {
            "gridcolor": "white",
            "linecolor": "white",
            "ticks": ""
           }
          },
          "scene": {
           "xaxis": {
            "backgroundcolor": "#E5ECF6",
            "gridcolor": "white",
            "gridwidth": 2,
            "linecolor": "white",
            "showbackground": true,
            "ticks": "",
            "zerolinecolor": "white"
           },
           "yaxis": {
            "backgroundcolor": "#E5ECF6",
            "gridcolor": "white",
            "gridwidth": 2,
            "linecolor": "white",
            "showbackground": true,
            "ticks": "",
            "zerolinecolor": "white"
           },
           "zaxis": {
            "backgroundcolor": "#E5ECF6",
            "gridcolor": "white",
            "gridwidth": 2,
            "linecolor": "white",
            "showbackground": true,
            "ticks": "",
            "zerolinecolor": "white"
           }
          },
          "shapedefaults": {
           "line": {
            "color": "#2a3f5f"
           }
          },
          "ternary": {
           "aaxis": {
            "gridcolor": "white",
            "linecolor": "white",
            "ticks": ""
           },
           "baxis": {
            "gridcolor": "white",
            "linecolor": "white",
            "ticks": ""
           },
           "bgcolor": "#E5ECF6",
           "caxis": {
            "gridcolor": "white",
            "linecolor": "white",
            "ticks": ""
           }
          },
          "title": {
           "x": 0.05
          },
          "xaxis": {
           "automargin": true,
           "gridcolor": "white",
           "linecolor": "white",
           "ticks": "",
           "title": {
            "standoff": 15
           },
           "zerolinecolor": "white",
           "zerolinewidth": 2
          },
          "yaxis": {
           "automargin": true,
           "gridcolor": "white",
           "linecolor": "white",
           "ticks": "",
           "title": {
            "standoff": 15
           },
           "zerolinecolor": "white",
           "zerolinewidth": 2
          }
         }
        },
        "title": {
         "text": "LASSO:Observed target vs Predicted target using train data"
        },
        "width": 800,
        "xaxis": {
         "title": {
          "text": "Observed consult_cost"
         }
        },
        "yaxis": {
         "title": {
          "text": "Predicted consult_cost"
         }
        }
       }
      }
     },
     "metadata": {},
     "output_type": "display_data"
    }
   ],
   "source": [
    "\n",
    "fig = go.Figure()\n",
    "\n",
    "# scatter plot using test data\n",
    "fig.add_trace(go.Scatter(y=y_train, x=lasso.predict(x_train), mode='markers', marker=dict(color='blue')))\n",
    "\n",
    "# diagonal line to represent predictions\n",
    "fig.add_trace(go.Scatter(y=y_train, x=y_train, mode='lines', line=dict(color='red')))\n",
    "\n",
    "fig.update_layout(title='LASSO:Observed target vs Predicted target using train data', xaxis_title='Observed consult_cost', \n",
    "                  yaxis_title='Predicted consult_cost', width=800, height=500)\n",
    "fig.show()"
   ]
  }
 ],
 "metadata": {
  "kernelspec": {
   "display_name": "base",
   "language": "python",
   "name": "python3"
  },
  "language_info": {
   "codemirror_mode": {
    "name": "ipython",
    "version": 3
   },
   "file_extension": ".py",
   "mimetype": "text/x-python",
   "name": "python",
   "nbconvert_exporter": "python",
   "pygments_lexer": "ipython3",
   "version": "3.9.12"
  },
  "orig_nbformat": 4
 },
 "nbformat": 4,
 "nbformat_minor": 2
}
