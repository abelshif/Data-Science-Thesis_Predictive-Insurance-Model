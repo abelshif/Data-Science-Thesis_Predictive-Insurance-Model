{
 "cells": [
  {
   "attachments": {},
   "cell_type": "markdown",
   "metadata": {},
   "source": [
    "# A Simulation Study for Choosing Predictive Insurance Model"
   ]
  },
  {
   "attachments": {},
   "cell_type": "markdown",
   "metadata": {},
   "source": [
    "## Pre-processing"
   ]
  },
  {
   "cell_type": "code",
   "execution_count": 1,
   "metadata": {},
   "outputs": [],
   "source": [
    "# Importing useful libraries\n",
    "import numpy as np\n",
    "import pandas as pd\n",
    "from sklearn.preprocessing import RobustScaler\n",
    "from sklearn.model_selection import train_test_split\n",
    "from sklearn.metrics import mean_squared_error, r2_score\n",
    "import plotly.express as px\n",
    "import plotly.graph_objs as go\n",
    "import warnings"
   ]
  },
  {
   "cell_type": "code",
   "execution_count": 2,
   "metadata": {},
   "outputs": [],
   "source": [
    "warnings.filterwarnings(\"ignore\")"
   ]
  },
  {
   "attachments": {},
   "cell_type": "markdown",
   "metadata": {},
   "source": [
    "### Create dataframe"
   ]
  },
  {
   "cell_type": "code",
   "execution_count": 3,
   "metadata": {},
   "outputs": [
    {
     "data": {
      "text/plain": [
       "(250, 29)"
      ]
     },
     "execution_count": 3,
     "metadata": {},
     "output_type": "execute_result"
    }
   ],
   "source": [
    "# patient dataframe\n",
    "patient_dataframe = pd.read_csv('./Populated_data/patient.csv')\n",
    "patient_dataframe.shape"
   ]
  },
  {
   "cell_type": "code",
   "execution_count": 4,
   "metadata": {},
   "outputs": [
    {
     "data": {
      "text/plain": [
       "(214, 22)"
      ]
     },
     "execution_count": 4,
     "metadata": {},
     "output_type": "execute_result"
    }
   ],
   "source": [
    "# doctor dataframe\n",
    "doctor_dataframe = pd.read_csv('./Populated_data/doctor.csv')\n",
    "doctor_dataframe.shape"
   ]
  },
  {
   "cell_type": "code",
   "execution_count": 5,
   "metadata": {},
   "outputs": [
    {
     "data": {
      "text/plain": [
       "(520, 17)"
      ]
     },
     "execution_count": 5,
     "metadata": {},
     "output_type": "execute_result"
    }
   ],
   "source": [
    "# consultation dataframe\n",
    "consultation_dataframe = pd.read_csv('./Populated_data/consultation.csv')\n",
    "consultation_dataframe.shape"
   ]
  },
  {
   "attachments": {},
   "cell_type": "markdown",
   "metadata": {},
   "source": [
    "### Check duplicates"
   ]
  },
  {
   "cell_type": "code",
   "execution_count": 6,
   "metadata": {},
   "outputs": [
    {
     "data": {
      "text/html": [
       "<div>\n",
       "<style scoped>\n",
       "    .dataframe tbody tr th:only-of-type {\n",
       "        vertical-align: middle;\n",
       "    }\n",
       "\n",
       "    .dataframe tbody tr th {\n",
       "        vertical-align: top;\n",
       "    }\n",
       "\n",
       "    .dataframe thead th {\n",
       "        text-align: right;\n",
       "    }\n",
       "</style>\n",
       "<table border=\"1\" class=\"dataframe\">\n",
       "  <thead>\n",
       "    <tr style=\"text-align: right;\">\n",
       "      <th></th>\n",
       "      <th>patient_id</th>\n",
       "      <th>address</th>\n",
       "      <th>allergies</th>\n",
       "      <th>blood_type</th>\n",
       "      <th>closest_hospital</th>\n",
       "      <th>community</th>\n",
       "      <th>country</th>\n",
       "      <th>date_of_birth</th>\n",
       "      <th>disabilities</th>\n",
       "      <th>first_name</th>\n",
       "      <th>...</th>\n",
       "      <th>num_of_dependents</th>\n",
       "      <th>post_code</th>\n",
       "      <th>preferred_language</th>\n",
       "      <th>purpose_of_visit</th>\n",
       "      <th>state</th>\n",
       "      <th>sur_name</th>\n",
       "      <th>title</th>\n",
       "      <th>user_id</th>\n",
       "      <th>weight</th>\n",
       "      <th>hospital_id</th>\n",
       "    </tr>\n",
       "  </thead>\n",
       "  <tbody>\n",
       "  </tbody>\n",
       "</table>\n",
       "<p>0 rows × 29 columns</p>\n",
       "</div>"
      ],
      "text/plain": [
       "Empty DataFrame\n",
       "Columns: [patient_id, address, allergies, blood_type, closest_hospital, community, country, date_of_birth, disabilities, first_name, gender, has_children, has_dependent, height_cm, language, marital_status, medical_problems, national_id_number, num_of_children, num_of_dependents, post_code, preferred_language, purpose_of_visit, state, sur_name, title, user_id, weight, hospital_id]\n",
       "Index: []\n",
       "\n",
       "[0 rows x 29 columns]"
      ]
     },
     "execution_count": 6,
     "metadata": {},
     "output_type": "execute_result"
    }
   ],
   "source": [
    "# for patient dataframe\n",
    "patient_dataframe[patient_dataframe.duplicated()==True]"
   ]
  },
  {
   "cell_type": "code",
   "execution_count": 7,
   "metadata": {},
   "outputs": [
    {
     "data": {
      "text/html": [
       "<div>\n",
       "<style scoped>\n",
       "    .dataframe tbody tr th:only-of-type {\n",
       "        vertical-align: middle;\n",
       "    }\n",
       "\n",
       "    .dataframe tbody tr th {\n",
       "        vertical-align: top;\n",
       "    }\n",
       "\n",
       "    .dataframe thead th {\n",
       "        text-align: right;\n",
       "    }\n",
       "</style>\n",
       "<table border=\"1\" class=\"dataframe\">\n",
       "  <thead>\n",
       "    <tr style=\"text-align: right;\">\n",
       "      <th></th>\n",
       "      <th>doctor_id</th>\n",
       "      <th>approved</th>\n",
       "      <th>city</th>\n",
       "      <th>cv</th>\n",
       "      <th>date_of_birth</th>\n",
       "      <th>dependant_stand_by</th>\n",
       "      <th>full_name</th>\n",
       "      <th>doctor_gender</th>\n",
       "      <th>graduation_date</th>\n",
       "      <th>is_student</th>\n",
       "      <th>...</th>\n",
       "      <th>name_of_university</th>\n",
       "      <th>national_identification_number</th>\n",
       "      <th>office_address</th>\n",
       "      <th>reference_doctor_email</th>\n",
       "      <th>reference_doctor_full_name</th>\n",
       "      <th>reference_doctor_phone_number</th>\n",
       "      <th>state</th>\n",
       "      <th>student_number</th>\n",
       "      <th>system_status</th>\n",
       "      <th>title</th>\n",
       "    </tr>\n",
       "  </thead>\n",
       "  <tbody>\n",
       "  </tbody>\n",
       "</table>\n",
       "<p>0 rows × 22 columns</p>\n",
       "</div>"
      ],
      "text/plain": [
       "Empty DataFrame\n",
       "Columns: [doctor_id, approved, city, cv, date_of_birth, dependant_stand_by, full_name, doctor_gender, graduation_date, is_student, marital_status, mdcn_certificate_number, name_of_university, national_identification_number, office_address, reference_doctor_email, reference_doctor_full_name, reference_doctor_phone_number, state, student_number, system_status, title]\n",
       "Index: []\n",
       "\n",
       "[0 rows x 22 columns]"
      ]
     },
     "execution_count": 7,
     "metadata": {},
     "output_type": "execute_result"
    }
   ],
   "source": [
    "# for doctor dataframe\n",
    "doctor_dataframe[doctor_dataframe.duplicated()==True]"
   ]
  },
  {
   "cell_type": "code",
   "execution_count": 8,
   "metadata": {},
   "outputs": [
    {
     "data": {
      "text/html": [
       "<div>\n",
       "<style scoped>\n",
       "    .dataframe tbody tr th:only-of-type {\n",
       "        vertical-align: middle;\n",
       "    }\n",
       "\n",
       "    .dataframe tbody tr th {\n",
       "        vertical-align: top;\n",
       "    }\n",
       "\n",
       "    .dataframe thead th {\n",
       "        text-align: right;\n",
       "    }\n",
       "</style>\n",
       "<table border=\"1\" class=\"dataframe\">\n",
       "  <thead>\n",
       "    <tr style=\"text-align: right;\">\n",
       "      <th></th>\n",
       "      <th>id</th>\n",
       "      <th>consultation_cost</th>\n",
       "      <th>audio_detailed_description</th>\n",
       "      <th>patient_body_area</th>\n",
       "      <th>consent</th>\n",
       "      <th>doctor_full_name</th>\n",
       "      <th>doctor_id</th>\n",
       "      <th>language</th>\n",
       "      <th>patient_full_name</th>\n",
       "      <th>patient_id</th>\n",
       "      <th>patient_mobile</th>\n",
       "      <th>patient_status</th>\n",
       "      <th>time_accepted</th>\n",
       "      <th>time_booked</th>\n",
       "      <th>time_finished</th>\n",
       "      <th>time_started</th>\n",
       "      <th>transaction_reference</th>\n",
       "    </tr>\n",
       "  </thead>\n",
       "  <tbody>\n",
       "  </tbody>\n",
       "</table>\n",
       "</div>"
      ],
      "text/plain": [
       "Empty DataFrame\n",
       "Columns: [id, consultation_cost, audio_detailed_description, patient_body_area, consent, doctor_full_name, doctor_id, language, patient_full_name, patient_id, patient_mobile, patient_status, time_accepted, time_booked, time_finished, time_started, transaction_reference]\n",
       "Index: []"
      ]
     },
     "execution_count": 8,
     "metadata": {},
     "output_type": "execute_result"
    }
   ],
   "source": [
    "# for consultation dataframe\n",
    "consultation_dataframe[consultation_dataframe.duplicated()==True]"
   ]
  },
  {
   "attachments": {},
   "cell_type": "markdown",
   "metadata": {},
   "source": [
    "### Check missing value(s)"
   ]
  },
  {
   "cell_type": "code",
   "execution_count": 9,
   "metadata": {},
   "outputs": [
    {
     "data": {
      "text/html": [
       "<div>\n",
       "<style scoped>\n",
       "    .dataframe tbody tr th:only-of-type {\n",
       "        vertical-align: middle;\n",
       "    }\n",
       "\n",
       "    .dataframe tbody tr th {\n",
       "        vertical-align: top;\n",
       "    }\n",
       "\n",
       "    .dataframe thead th {\n",
       "        text-align: right;\n",
       "    }\n",
       "</style>\n",
       "<table border=\"1\" class=\"dataframe\">\n",
       "  <thead>\n",
       "    <tr style=\"text-align: right;\">\n",
       "      <th></th>\n",
       "      <th>Missing value</th>\n",
       "    </tr>\n",
       "  </thead>\n",
       "  <tbody>\n",
       "    <tr>\n",
       "      <th>allergies</th>\n",
       "      <td>80</td>\n",
       "    </tr>\n",
       "    <tr>\n",
       "      <th>medical_problems</th>\n",
       "      <td>50</td>\n",
       "    </tr>\n",
       "    <tr>\n",
       "      <th>disabilities</th>\n",
       "      <td>38</td>\n",
       "    </tr>\n",
       "  </tbody>\n",
       "</table>\n",
       "</div>"
      ],
      "text/plain": [
       "                  Missing value\n",
       "allergies                    80\n",
       "medical_problems             50\n",
       "disabilities                 38"
      ]
     },
     "execution_count": 9,
     "metadata": {},
     "output_type": "execute_result"
    }
   ],
   "source": [
    "# for patient dataframe\n",
    "nan=pd.DataFrame({'Missing value': patient_dataframe.isnull().sum().sort_values(ascending=False)})\n",
    "nan[nan['Missing value'] > 0]"
   ]
  },
  {
   "cell_type": "code",
   "execution_count": 10,
   "metadata": {},
   "outputs": [
    {
     "data": {
      "text/html": [
       "<div>\n",
       "<style scoped>\n",
       "    .dataframe tbody tr th:only-of-type {\n",
       "        vertical-align: middle;\n",
       "    }\n",
       "\n",
       "    .dataframe tbody tr th {\n",
       "        vertical-align: top;\n",
       "    }\n",
       "\n",
       "    .dataframe thead th {\n",
       "        text-align: right;\n",
       "    }\n",
       "</style>\n",
       "<table border=\"1\" class=\"dataframe\">\n",
       "  <thead>\n",
       "    <tr style=\"text-align: right;\">\n",
       "      <th></th>\n",
       "      <th>Missing value</th>\n",
       "    </tr>\n",
       "  </thead>\n",
       "  <tbody>\n",
       "    <tr>\n",
       "      <th>cv</th>\n",
       "      <td>214</td>\n",
       "    </tr>\n",
       "  </tbody>\n",
       "</table>\n",
       "</div>"
      ],
      "text/plain": [
       "    Missing value\n",
       "cv            214"
      ]
     },
     "execution_count": 10,
     "metadata": {},
     "output_type": "execute_result"
    }
   ],
   "source": [
    "# for doctor dataframe\n",
    "nan=pd.DataFrame({'Missing value': doctor_dataframe.isnull().sum().sort_values(ascending=False)})\n",
    "nan[nan['Missing value'] > 0]"
   ]
  },
  {
   "cell_type": "code",
   "execution_count": 11,
   "metadata": {},
   "outputs": [
    {
     "data": {
      "text/html": [
       "<div>\n",
       "<style scoped>\n",
       "    .dataframe tbody tr th:only-of-type {\n",
       "        vertical-align: middle;\n",
       "    }\n",
       "\n",
       "    .dataframe tbody tr th {\n",
       "        vertical-align: top;\n",
       "    }\n",
       "\n",
       "    .dataframe thead th {\n",
       "        text-align: right;\n",
       "    }\n",
       "</style>\n",
       "<table border=\"1\" class=\"dataframe\">\n",
       "  <thead>\n",
       "    <tr style=\"text-align: right;\">\n",
       "      <th></th>\n",
       "      <th>Missing value</th>\n",
       "    </tr>\n",
       "  </thead>\n",
       "  <tbody>\n",
       "    <tr>\n",
       "      <th>audio_detailed_description</th>\n",
       "      <td>520</td>\n",
       "    </tr>\n",
       "  </tbody>\n",
       "</table>\n",
       "</div>"
      ],
      "text/plain": [
       "                            Missing value\n",
       "audio_detailed_description            520"
      ]
     },
     "execution_count": 11,
     "metadata": {},
     "output_type": "execute_result"
    }
   ],
   "source": [
    "# for consultation dataframe\n",
    "nan=pd.DataFrame({'Missing value': consultation_dataframe.isnull().sum().sort_values(ascending=False)})\n",
    "nan[nan['Missing value'] > 0]"
   ]
  },
  {
   "attachments": {},
   "cell_type": "markdown",
   "metadata": {},
   "source": [
    "    N.B. Since medical data require medical examination, filling the missing variable(s) would be inappropriat. Hence droping missing variable(s) is recommended."
   ]
  },
  {
   "cell_type": "code",
   "execution_count": 12,
   "metadata": {},
   "outputs": [],
   "source": [
    "# Drop missing varaiables in patient dataframe\n",
    "patient_dataframe.dropna(axis=1, inplace=True)\n",
    "patient_dataframe.reset_index(drop=True, inplace=True)"
   ]
  },
  {
   "cell_type": "code",
   "execution_count": 13,
   "metadata": {},
   "outputs": [
    {
     "data": {
      "text/html": [
       "<div>\n",
       "<style scoped>\n",
       "    .dataframe tbody tr th:only-of-type {\n",
       "        vertical-align: middle;\n",
       "    }\n",
       "\n",
       "    .dataframe tbody tr th {\n",
       "        vertical-align: top;\n",
       "    }\n",
       "\n",
       "    .dataframe thead th {\n",
       "        text-align: right;\n",
       "    }\n",
       "</style>\n",
       "<table border=\"1\" class=\"dataframe\">\n",
       "  <thead>\n",
       "    <tr style=\"text-align: right;\">\n",
       "      <th></th>\n",
       "      <th>Missing value</th>\n",
       "    </tr>\n",
       "  </thead>\n",
       "  <tbody>\n",
       "  </tbody>\n",
       "</table>\n",
       "</div>"
      ],
      "text/plain": [
       "Empty DataFrame\n",
       "Columns: [Missing value]\n",
       "Index: []"
      ]
     },
     "execution_count": 13,
     "metadata": {},
     "output_type": "execute_result"
    }
   ],
   "source": [
    "nan=pd.DataFrame({'Missing value': patient_dataframe.isnull().sum().sort_values(ascending=False)})\n",
    "nan[nan['Missing value'] > 0]"
   ]
  },
  {
   "cell_type": "code",
   "execution_count": 14,
   "metadata": {},
   "outputs": [
    {
     "data": {
      "text/plain": [
       "(250, 26)"
      ]
     },
     "execution_count": 14,
     "metadata": {},
     "output_type": "execute_result"
    }
   ],
   "source": [
    "patient_dataframe.shape"
   ]
  },
  {
   "cell_type": "code",
   "execution_count": 15,
   "metadata": {},
   "outputs": [
    {
     "data": {
      "text/html": [
       "<div>\n",
       "<style scoped>\n",
       "    .dataframe tbody tr th:only-of-type {\n",
       "        vertical-align: middle;\n",
       "    }\n",
       "\n",
       "    .dataframe tbody tr th {\n",
       "        vertical-align: top;\n",
       "    }\n",
       "\n",
       "    .dataframe thead th {\n",
       "        text-align: right;\n",
       "    }\n",
       "</style>\n",
       "<table border=\"1\" class=\"dataframe\">\n",
       "  <thead>\n",
       "    <tr style=\"text-align: right;\">\n",
       "      <th></th>\n",
       "      <th>patient_id</th>\n",
       "      <th>address</th>\n",
       "      <th>blood_type</th>\n",
       "      <th>closest_hospital</th>\n",
       "      <th>community</th>\n",
       "      <th>country</th>\n",
       "      <th>date_of_birth</th>\n",
       "      <th>first_name</th>\n",
       "      <th>gender</th>\n",
       "      <th>has_children</th>\n",
       "      <th>...</th>\n",
       "      <th>num_of_dependents</th>\n",
       "      <th>post_code</th>\n",
       "      <th>preferred_language</th>\n",
       "      <th>purpose_of_visit</th>\n",
       "      <th>state</th>\n",
       "      <th>sur_name</th>\n",
       "      <th>title</th>\n",
       "      <th>user_id</th>\n",
       "      <th>weight</th>\n",
       "      <th>hospital_id</th>\n",
       "    </tr>\n",
       "  </thead>\n",
       "  <tbody>\n",
       "    <tr>\n",
       "      <th>0</th>\n",
       "      <td>1</td>\n",
       "      <td>Ap #266-429 Velit St.</td>\n",
       "      <td>AB+</td>\n",
       "      <td>Blue Cross Hospital</td>\n",
       "      <td>suburban</td>\n",
       "      <td>nigeria</td>\n",
       "      <td>4/13/2009</td>\n",
       "      <td>ACRA</td>\n",
       "      <td>Female</td>\n",
       "      <td>Yes</td>\n",
       "      <td>...</td>\n",
       "      <td>2</td>\n",
       "      <td>10201</td>\n",
       "      <td>english</td>\n",
       "      <td>medical examination</td>\n",
       "      <td>Lagos</td>\n",
       "      <td>SMITH</td>\n",
       "      <td>Mrs.</td>\n",
       "      <td>1</td>\n",
       "      <td>69</td>\n",
       "      <td>1</td>\n",
       "    </tr>\n",
       "    <tr>\n",
       "      <th>1</th>\n",
       "      <td>2</td>\n",
       "      <td>315-4283 Nam Street</td>\n",
       "      <td>O-</td>\n",
       "      <td>Krown Hospital</td>\n",
       "      <td>suburban</td>\n",
       "      <td>nigeria</td>\n",
       "      <td>7/8/2011</td>\n",
       "      <td>ADOLPH</td>\n",
       "      <td>Male</td>\n",
       "      <td>Yes</td>\n",
       "      <td>...</td>\n",
       "      <td>2</td>\n",
       "      <td>12224</td>\n",
       "      <td>english</td>\n",
       "      <td>medical examination</td>\n",
       "      <td>Lagos</td>\n",
       "      <td>NEILON</td>\n",
       "      <td>Mr.</td>\n",
       "      <td>2</td>\n",
       "      <td>80</td>\n",
       "      <td>1</td>\n",
       "    </tr>\n",
       "    <tr>\n",
       "      <th>2</th>\n",
       "      <td>3</td>\n",
       "      <td>921-1491 Nonummy Ave</td>\n",
       "      <td>A-</td>\n",
       "      <td>Ave Maria Hospital</td>\n",
       "      <td>suburban</td>\n",
       "      <td>nigeria</td>\n",
       "      <td>12/30/2000</td>\n",
       "      <td>ANKI</td>\n",
       "      <td>Male</td>\n",
       "      <td>Yes</td>\n",
       "      <td>...</td>\n",
       "      <td>3</td>\n",
       "      <td>53510</td>\n",
       "      <td>english</td>\n",
       "      <td>medical examination</td>\n",
       "      <td>Lagos</td>\n",
       "      <td>HENDRI</td>\n",
       "      <td>Mr.</td>\n",
       "      <td>3</td>\n",
       "      <td>67</td>\n",
       "      <td>1</td>\n",
       "    </tr>\n",
       "    <tr>\n",
       "      <th>3</th>\n",
       "      <td>4</td>\n",
       "      <td>Ap #299-4324 Mauris Avenue</td>\n",
       "      <td>O-</td>\n",
       "      <td>Isolo General Hospital</td>\n",
       "      <td>urban</td>\n",
       "      <td>nigeria</td>\n",
       "      <td>9/15/1987</td>\n",
       "      <td>GARBO</td>\n",
       "      <td>Male</td>\n",
       "      <td>No</td>\n",
       "      <td>...</td>\n",
       "      <td>3</td>\n",
       "      <td>25193</td>\n",
       "      <td>english</td>\n",
       "      <td>medical examination</td>\n",
       "      <td>Lagos</td>\n",
       "      <td>SHARRON</td>\n",
       "      <td>Mr.</td>\n",
       "      <td>4</td>\n",
       "      <td>74</td>\n",
       "      <td>1</td>\n",
       "    </tr>\n",
       "    <tr>\n",
       "      <th>4</th>\n",
       "      <td>5</td>\n",
       "      <td>P.O. Box 913, 6976 Magnis Rd.</td>\n",
       "      <td>O-</td>\n",
       "      <td>Lagoon Hospitals</td>\n",
       "      <td>rural</td>\n",
       "      <td>nigeria</td>\n",
       "      <td>10/10/2002</td>\n",
       "      <td>ADONAI</td>\n",
       "      <td>Female</td>\n",
       "      <td>No</td>\n",
       "      <td>...</td>\n",
       "      <td>1</td>\n",
       "      <td>37171</td>\n",
       "      <td>english</td>\n",
       "      <td>medical examination</td>\n",
       "      <td>Lagos</td>\n",
       "      <td>NEIVA</td>\n",
       "      <td>Ms.</td>\n",
       "      <td>5</td>\n",
       "      <td>62</td>\n",
       "      <td>1</td>\n",
       "    </tr>\n",
       "  </tbody>\n",
       "</table>\n",
       "<p>5 rows × 26 columns</p>\n",
       "</div>"
      ],
      "text/plain": [
       "   patient_id                        address blood_type  \\\n",
       "0           1          Ap #266-429 Velit St.        AB+   \n",
       "1           2            315-4283 Nam Street         O-   \n",
       "2           3           921-1491 Nonummy Ave         A-   \n",
       "3           4     Ap #299-4324 Mauris Avenue         O-   \n",
       "4           5  P.O. Box 913, 6976 Magnis Rd.         O-   \n",
       "\n",
       "         closest_hospital community  country date_of_birth first_name  gender  \\\n",
       "0     Blue Cross Hospital  suburban  nigeria     4/13/2009       ACRA  Female   \n",
       "1          Krown Hospital  suburban  nigeria      7/8/2011     ADOLPH    Male   \n",
       "2      Ave Maria Hospital  suburban  nigeria    12/30/2000       ANKI    Male   \n",
       "3  Isolo General Hospital     urban  nigeria     9/15/1987      GARBO    Male   \n",
       "4        Lagoon Hospitals     rural  nigeria    10/10/2002     ADONAI  Female   \n",
       "\n",
       "  has_children  ... num_of_dependents  post_code preferred_language  \\\n",
       "0          Yes  ...                 2      10201            english   \n",
       "1          Yes  ...                 2      12224            english   \n",
       "2          Yes  ...                 3      53510            english   \n",
       "3           No  ...                 3      25193            english   \n",
       "4           No  ...                 1      37171            english   \n",
       "\n",
       "      purpose_of_visit  state  sur_name  title  user_id weight hospital_id  \n",
       "0  medical examination  Lagos     SMITH   Mrs.        1     69           1  \n",
       "1  medical examination  Lagos    NEILON    Mr.        2     80           1  \n",
       "2  medical examination  Lagos    HENDRI    Mr.        3     67           1  \n",
       "3  medical examination  Lagos   SHARRON    Mr.        4     74           1  \n",
       "4  medical examination  Lagos     NEIVA    Ms.        5     62           1  \n",
       "\n",
       "[5 rows x 26 columns]"
      ]
     },
     "execution_count": 15,
     "metadata": {},
     "output_type": "execute_result"
    }
   ],
   "source": [
    "patient_dataframe.head()"
   ]
  },
  {
   "cell_type": "code",
   "execution_count": 16,
   "metadata": {},
   "outputs": [],
   "source": [
    "# cleaned patient dataset\n",
    "patient_dataframe.to_csv('cleaned_patient.csv', index=False)"
   ]
  },
  {
   "cell_type": "code",
   "execution_count": 17,
   "metadata": {},
   "outputs": [],
   "source": [
    "# Drop missing varaiables in doctor dataframe\n",
    "doctor_dataframe.dropna(axis=1, inplace=True)\n",
    "doctor_dataframe.reset_index(drop=True, inplace=True)"
   ]
  },
  {
   "cell_type": "code",
   "execution_count": 18,
   "metadata": {},
   "outputs": [
    {
     "data": {
      "text/html": [
       "<div>\n",
       "<style scoped>\n",
       "    .dataframe tbody tr th:only-of-type {\n",
       "        vertical-align: middle;\n",
       "    }\n",
       "\n",
       "    .dataframe tbody tr th {\n",
       "        vertical-align: top;\n",
       "    }\n",
       "\n",
       "    .dataframe thead th {\n",
       "        text-align: right;\n",
       "    }\n",
       "</style>\n",
       "<table border=\"1\" class=\"dataframe\">\n",
       "  <thead>\n",
       "    <tr style=\"text-align: right;\">\n",
       "      <th></th>\n",
       "      <th>Missing value</th>\n",
       "    </tr>\n",
       "  </thead>\n",
       "  <tbody>\n",
       "  </tbody>\n",
       "</table>\n",
       "</div>"
      ],
      "text/plain": [
       "Empty DataFrame\n",
       "Columns: [Missing value]\n",
       "Index: []"
      ]
     },
     "execution_count": 18,
     "metadata": {},
     "output_type": "execute_result"
    }
   ],
   "source": [
    "nan=pd.DataFrame({'Missing value': doctor_dataframe.isnull().sum().sort_values(ascending=False)})\n",
    "nan[nan['Missing value'] > 0]"
   ]
  },
  {
   "cell_type": "code",
   "execution_count": 19,
   "metadata": {},
   "outputs": [
    {
     "data": {
      "text/plain": [
       "(214, 21)"
      ]
     },
     "execution_count": 19,
     "metadata": {},
     "output_type": "execute_result"
    }
   ],
   "source": [
    "doctor_dataframe.shape"
   ]
  },
  {
   "cell_type": "code",
   "execution_count": 20,
   "metadata": {},
   "outputs": [
    {
     "data": {
      "text/html": [
       "<div>\n",
       "<style scoped>\n",
       "    .dataframe tbody tr th:only-of-type {\n",
       "        vertical-align: middle;\n",
       "    }\n",
       "\n",
       "    .dataframe tbody tr th {\n",
       "        vertical-align: top;\n",
       "    }\n",
       "\n",
       "    .dataframe thead th {\n",
       "        text-align: right;\n",
       "    }\n",
       "</style>\n",
       "<table border=\"1\" class=\"dataframe\">\n",
       "  <thead>\n",
       "    <tr style=\"text-align: right;\">\n",
       "      <th></th>\n",
       "      <th>doctor_id</th>\n",
       "      <th>approved</th>\n",
       "      <th>city</th>\n",
       "      <th>date_of_birth</th>\n",
       "      <th>dependant_stand_by</th>\n",
       "      <th>full_name</th>\n",
       "      <th>doctor_gender</th>\n",
       "      <th>graduation_date</th>\n",
       "      <th>is_student</th>\n",
       "      <th>marital_status</th>\n",
       "      <th>...</th>\n",
       "      <th>name_of_university</th>\n",
       "      <th>national_identification_number</th>\n",
       "      <th>office_address</th>\n",
       "      <th>reference_doctor_email</th>\n",
       "      <th>reference_doctor_full_name</th>\n",
       "      <th>reference_doctor_phone_number</th>\n",
       "      <th>state</th>\n",
       "      <th>student_number</th>\n",
       "      <th>system_status</th>\n",
       "      <th>title</th>\n",
       "    </tr>\n",
       "  </thead>\n",
       "  <tbody>\n",
       "    <tr>\n",
       "      <th>0</th>\n",
       "      <td>1</td>\n",
       "      <td>Yes</td>\n",
       "      <td>Lagos</td>\n",
       "      <td>8/5/1972</td>\n",
       "      <td>1</td>\n",
       "      <td>ACRA SMITH</td>\n",
       "      <td>Male</td>\n",
       "      <td>9/6/2019</td>\n",
       "      <td>No</td>\n",
       "      <td>Married</td>\n",
       "      <td>...</td>\n",
       "      <td>Caleb University- Lagos</td>\n",
       "      <td>1122458</td>\n",
       "      <td>618-3434 Sagittis Av.</td>\n",
       "      <td>acrasmith@gmail.com</td>\n",
       "      <td>ACRA SMITH</td>\n",
       "      <td>53488888</td>\n",
       "      <td>Lagos</td>\n",
       "      <td>2710</td>\n",
       "      <td>very good</td>\n",
       "      <td>Mr.</td>\n",
       "    </tr>\n",
       "    <tr>\n",
       "      <th>1</th>\n",
       "      <td>2</td>\n",
       "      <td>Yes</td>\n",
       "      <td>Lagos</td>\n",
       "      <td>7/12/1989</td>\n",
       "      <td>2</td>\n",
       "      <td>ADOLPH NEILON</td>\n",
       "      <td>Female</td>\n",
       "      <td>6/25/2006</td>\n",
       "      <td>Yes</td>\n",
       "      <td>Married</td>\n",
       "      <td>...</td>\n",
       "      <td>National Open University of Nigeria- Lagos</td>\n",
       "      <td>4563751</td>\n",
       "      <td>405-9892 Ultrices Rd.</td>\n",
       "      <td>adolphneilon@gmail.com</td>\n",
       "      <td>ADOLPH NEILON</td>\n",
       "      <td>50989139</td>\n",
       "      <td>Lagos</td>\n",
       "      <td>5370</td>\n",
       "      <td>good</td>\n",
       "      <td>Ms.</td>\n",
       "    </tr>\n",
       "    <tr>\n",
       "      <th>2</th>\n",
       "      <td>3</td>\n",
       "      <td>Yes</td>\n",
       "      <td>Lagos</td>\n",
       "      <td>9/30/1965</td>\n",
       "      <td>1</td>\n",
       "      <td>ANKI HENDRI</td>\n",
       "      <td>Male</td>\n",
       "      <td>12/20/2008</td>\n",
       "      <td>Yes</td>\n",
       "      <td>Married</td>\n",
       "      <td>...</td>\n",
       "      <td>James Hope University- Lagos</td>\n",
       "      <td>1877514</td>\n",
       "      <td>Ap #561-9293 Sociis St.</td>\n",
       "      <td>ankihendri@gmail.com</td>\n",
       "      <td>ANKI HENDRI</td>\n",
       "      <td>42144921</td>\n",
       "      <td>Lagos</td>\n",
       "      <td>6696</td>\n",
       "      <td>excellent</td>\n",
       "      <td>Mr.</td>\n",
       "    </tr>\n",
       "    <tr>\n",
       "      <th>3</th>\n",
       "      <td>4</td>\n",
       "      <td>Yes</td>\n",
       "      <td>Lagos</td>\n",
       "      <td>8/12/1964</td>\n",
       "      <td>1</td>\n",
       "      <td>GARBO SHARRON</td>\n",
       "      <td>Male</td>\n",
       "      <td>8/22/2013</td>\n",
       "      <td>No</td>\n",
       "      <td>Married</td>\n",
       "      <td>...</td>\n",
       "      <td>Lagos State University of Science and Technolo...</td>\n",
       "      <td>2513477</td>\n",
       "      <td>Ap #381-3175 Sed, Street</td>\n",
       "      <td>garbosharron@gmail.com</td>\n",
       "      <td>GARBO SHARRON</td>\n",
       "      <td>52477143</td>\n",
       "      <td>Lagos</td>\n",
       "      <td>4343</td>\n",
       "      <td>fair</td>\n",
       "      <td>Mr.</td>\n",
       "    </tr>\n",
       "    <tr>\n",
       "      <th>4</th>\n",
       "      <td>5</td>\n",
       "      <td>Yes</td>\n",
       "      <td>Lagos</td>\n",
       "      <td>12/5/1963</td>\n",
       "      <td>0</td>\n",
       "      <td>ADONAI NEIVA</td>\n",
       "      <td>Female</td>\n",
       "      <td>12/28/2021</td>\n",
       "      <td>No</td>\n",
       "      <td>Married</td>\n",
       "      <td>...</td>\n",
       "      <td>Lagos State University of Science and Technolo...</td>\n",
       "      <td>3463224</td>\n",
       "      <td>Ap #230-5566 Amet, St.</td>\n",
       "      <td>adonaineiva@gmail.com</td>\n",
       "      <td>ADONAI NEIVA</td>\n",
       "      <td>29517478</td>\n",
       "      <td>Lagos</td>\n",
       "      <td>4300</td>\n",
       "      <td>very good</td>\n",
       "      <td>Ms.</td>\n",
       "    </tr>\n",
       "  </tbody>\n",
       "</table>\n",
       "<p>5 rows × 21 columns</p>\n",
       "</div>"
      ],
      "text/plain": [
       "   doctor_id approved   city date_of_birth  dependant_stand_by      full_name  \\\n",
       "0          1      Yes  Lagos      8/5/1972                   1     ACRA SMITH   \n",
       "1          2      Yes  Lagos     7/12/1989                   2  ADOLPH NEILON   \n",
       "2          3      Yes  Lagos     9/30/1965                   1    ANKI HENDRI   \n",
       "3          4      Yes  Lagos     8/12/1964                   1  GARBO SHARRON   \n",
       "4          5      Yes  Lagos     12/5/1963                   0   ADONAI NEIVA   \n",
       "\n",
       "  doctor_gender graduation_date is_student marital_status  ...  \\\n",
       "0          Male        9/6/2019         No        Married  ...   \n",
       "1        Female       6/25/2006        Yes        Married  ...   \n",
       "2          Male      12/20/2008        Yes        Married  ...   \n",
       "3          Male       8/22/2013         No        Married  ...   \n",
       "4        Female      12/28/2021         No        Married  ...   \n",
       "\n",
       "                                  name_of_university  \\\n",
       "0                            Caleb University- Lagos   \n",
       "1         National Open University of Nigeria- Lagos   \n",
       "2                       James Hope University- Lagos   \n",
       "3  Lagos State University of Science and Technolo...   \n",
       "4  Lagos State University of Science and Technolo...   \n",
       "\n",
       "  national_identification_number            office_address  \\\n",
       "0                        1122458     618-3434 Sagittis Av.   \n",
       "1                        4563751     405-9892 Ultrices Rd.   \n",
       "2                        1877514   Ap #561-9293 Sociis St.   \n",
       "3                        2513477  Ap #381-3175 Sed, Street   \n",
       "4                        3463224    Ap #230-5566 Amet, St.   \n",
       "\n",
       "   reference_doctor_email reference_doctor_full_name  \\\n",
       "0     acrasmith@gmail.com                 ACRA SMITH   \n",
       "1  adolphneilon@gmail.com              ADOLPH NEILON   \n",
       "2    ankihendri@gmail.com                ANKI HENDRI   \n",
       "3  garbosharron@gmail.com              GARBO SHARRON   \n",
       "4   adonaineiva@gmail.com               ADONAI NEIVA   \n",
       "\n",
       "  reference_doctor_phone_number  state student_number  system_status title  \n",
       "0                      53488888  Lagos           2710      very good   Mr.  \n",
       "1                      50989139  Lagos           5370           good   Ms.  \n",
       "2                      42144921  Lagos           6696      excellent   Mr.  \n",
       "3                      52477143  Lagos           4343           fair   Mr.  \n",
       "4                      29517478  Lagos           4300      very good   Ms.  \n",
       "\n",
       "[5 rows x 21 columns]"
      ]
     },
     "execution_count": 20,
     "metadata": {},
     "output_type": "execute_result"
    }
   ],
   "source": [
    "doctor_dataframe.head()"
   ]
  },
  {
   "cell_type": "code",
   "execution_count": 21,
   "metadata": {},
   "outputs": [],
   "source": [
    "# cleaned doctor dataset\n",
    "doctor_dataframe.to_csv('cleaned_doctor.csv', index=False)"
   ]
  },
  {
   "cell_type": "code",
   "execution_count": 22,
   "metadata": {},
   "outputs": [],
   "source": [
    "# Drop missing varaiables in consultation dataframe\n",
    "consultation_dataframe.dropna(axis=1, inplace=True)\n",
    "consultation_dataframe.reset_index(drop=True, inplace=True)"
   ]
  },
  {
   "cell_type": "code",
   "execution_count": 23,
   "metadata": {},
   "outputs": [
    {
     "data": {
      "text/html": [
       "<div>\n",
       "<style scoped>\n",
       "    .dataframe tbody tr th:only-of-type {\n",
       "        vertical-align: middle;\n",
       "    }\n",
       "\n",
       "    .dataframe tbody tr th {\n",
       "        vertical-align: top;\n",
       "    }\n",
       "\n",
       "    .dataframe thead th {\n",
       "        text-align: right;\n",
       "    }\n",
       "</style>\n",
       "<table border=\"1\" class=\"dataframe\">\n",
       "  <thead>\n",
       "    <tr style=\"text-align: right;\">\n",
       "      <th></th>\n",
       "      <th>Missing value</th>\n",
       "    </tr>\n",
       "  </thead>\n",
       "  <tbody>\n",
       "  </tbody>\n",
       "</table>\n",
       "</div>"
      ],
      "text/plain": [
       "Empty DataFrame\n",
       "Columns: [Missing value]\n",
       "Index: []"
      ]
     },
     "execution_count": 23,
     "metadata": {},
     "output_type": "execute_result"
    }
   ],
   "source": [
    "nan=pd.DataFrame({'Missing value': consultation_dataframe.isnull().sum().sort_values(ascending=False)})\n",
    "nan[nan['Missing value'] > 0]"
   ]
  },
  {
   "cell_type": "code",
   "execution_count": 24,
   "metadata": {},
   "outputs": [
    {
     "data": {
      "text/plain": [
       "(520, 16)"
      ]
     },
     "execution_count": 24,
     "metadata": {},
     "output_type": "execute_result"
    }
   ],
   "source": [
    "consultation_dataframe.shape"
   ]
  },
  {
   "cell_type": "code",
   "execution_count": 25,
   "metadata": {},
   "outputs": [
    {
     "data": {
      "text/html": [
       "<div>\n",
       "<style scoped>\n",
       "    .dataframe tbody tr th:only-of-type {\n",
       "        vertical-align: middle;\n",
       "    }\n",
       "\n",
       "    .dataframe tbody tr th {\n",
       "        vertical-align: top;\n",
       "    }\n",
       "\n",
       "    .dataframe thead th {\n",
       "        text-align: right;\n",
       "    }\n",
       "</style>\n",
       "<table border=\"1\" class=\"dataframe\">\n",
       "  <thead>\n",
       "    <tr style=\"text-align: right;\">\n",
       "      <th></th>\n",
       "      <th>id</th>\n",
       "      <th>consultation_cost</th>\n",
       "      <th>patient_body_area</th>\n",
       "      <th>consent</th>\n",
       "      <th>doctor_full_name</th>\n",
       "      <th>doctor_id</th>\n",
       "      <th>language</th>\n",
       "      <th>patient_full_name</th>\n",
       "      <th>patient_id</th>\n",
       "      <th>patient_mobile</th>\n",
       "      <th>patient_status</th>\n",
       "      <th>time_accepted</th>\n",
       "      <th>time_booked</th>\n",
       "      <th>time_finished</th>\n",
       "      <th>time_started</th>\n",
       "      <th>transaction_reference</th>\n",
       "    </tr>\n",
       "  </thead>\n",
       "  <tbody>\n",
       "    <tr>\n",
       "      <th>0</th>\n",
       "      <td>1</td>\n",
       "      <td>1900</td>\n",
       "      <td>legs</td>\n",
       "      <td>Yes</td>\n",
       "      <td>ACRA SMITH</td>\n",
       "      <td>1</td>\n",
       "      <td>english</td>\n",
       "      <td>ADRIATIK NELL</td>\n",
       "      <td>100</td>\n",
       "      <td>6780843</td>\n",
       "      <td>under appointment</td>\n",
       "      <td>13:30</td>\n",
       "      <td>2:00 PM</td>\n",
       "      <td>5:10 PM</td>\n",
       "      <td>3:10 PM</td>\n",
       "      <td>1</td>\n",
       "    </tr>\n",
       "    <tr>\n",
       "      <th>1</th>\n",
       "      <td>2</td>\n",
       "      <td>9100</td>\n",
       "      <td>chest area</td>\n",
       "      <td>Yes</td>\n",
       "      <td>ADOLPH NEILON</td>\n",
       "      <td>2</td>\n",
       "      <td>english</td>\n",
       "      <td>ANNAMARIE HERA</td>\n",
       "      <td>72</td>\n",
       "      <td>4272348</td>\n",
       "      <td>new consultation</td>\n",
       "      <td>10:15</td>\n",
       "      <td>10:45 AM</td>\n",
       "      <td>12:45 PM</td>\n",
       "      <td>11:45 AM</td>\n",
       "      <td>2</td>\n",
       "    </tr>\n",
       "    <tr>\n",
       "      <th>2</th>\n",
       "      <td>3</td>\n",
       "      <td>8200</td>\n",
       "      <td>head</td>\n",
       "      <td>Yes</td>\n",
       "      <td>ANKI HENDRI</td>\n",
       "      <td>3</td>\n",
       "      <td>english</td>\n",
       "      <td>GARRICK SHATISHA</td>\n",
       "      <td>150</td>\n",
       "      <td>6183602</td>\n",
       "      <td>new consultation</td>\n",
       "      <td>8:45</td>\n",
       "      <td>9:35 AM</td>\n",
       "      <td>12:15 PM</td>\n",
       "      <td>10:35 AM</td>\n",
       "      <td>3</td>\n",
       "    </tr>\n",
       "    <tr>\n",
       "      <th>3</th>\n",
       "      <td>4</td>\n",
       "      <td>5600</td>\n",
       "      <td>back</td>\n",
       "      <td>Yes</td>\n",
       "      <td>GARBO SHARRON</td>\n",
       "      <td>4</td>\n",
       "      <td>english</td>\n",
       "      <td>ADRIELLE NELLI</td>\n",
       "      <td>27</td>\n",
       "      <td>6822469</td>\n",
       "      <td>appointed session</td>\n",
       "      <td>13:15</td>\n",
       "      <td>1:55 PM</td>\n",
       "      <td>4:35 PM</td>\n",
       "      <td>2:45 PM</td>\n",
       "      <td>4</td>\n",
       "    </tr>\n",
       "    <tr>\n",
       "      <th>4</th>\n",
       "      <td>5</td>\n",
       "      <td>1200</td>\n",
       "      <td>stomach</td>\n",
       "      <td>Yes</td>\n",
       "      <td>ADONAI NEIVA</td>\n",
       "      <td>5</td>\n",
       "      <td>english</td>\n",
       "      <td>ANNASTASIA HERARD</td>\n",
       "      <td>191</td>\n",
       "      <td>7229498</td>\n",
       "      <td>new consultation</td>\n",
       "      <td>9:00</td>\n",
       "      <td>9:30 AM</td>\n",
       "      <td>11:20 AM</td>\n",
       "      <td>10:30 AM</td>\n",
       "      <td>5</td>\n",
       "    </tr>\n",
       "  </tbody>\n",
       "</table>\n",
       "</div>"
      ],
      "text/plain": [
       "   id  consultation_cost patient_body_area consent doctor_full_name  \\\n",
       "0   1               1900              legs     Yes       ACRA SMITH   \n",
       "1   2               9100        chest area     Yes    ADOLPH NEILON   \n",
       "2   3               8200              head     Yes      ANKI HENDRI   \n",
       "3   4               5600              back     Yes    GARBO SHARRON   \n",
       "4   5               1200           stomach     Yes     ADONAI NEIVA   \n",
       "\n",
       "   doctor_id language  patient_full_name  patient_id  patient_mobile  \\\n",
       "0          1  english      ADRIATIK NELL         100         6780843   \n",
       "1          2  english     ANNAMARIE HERA          72         4272348   \n",
       "2          3  english   GARRICK SHATISHA         150         6183602   \n",
       "3          4  english     ADRIELLE NELLI          27         6822469   \n",
       "4          5  english  ANNASTASIA HERARD         191         7229498   \n",
       "\n",
       "      patient_status time_accepted time_booked time_finished time_started  \\\n",
       "0  under appointment         13:30     2:00 PM       5:10 PM      3:10 PM   \n",
       "1   new consultation         10:15    10:45 AM      12:45 PM     11:45 AM   \n",
       "2   new consultation          8:45     9:35 AM      12:15 PM     10:35 AM   \n",
       "3  appointed session         13:15     1:55 PM       4:35 PM      2:45 PM   \n",
       "4   new consultation          9:00     9:30 AM      11:20 AM     10:30 AM   \n",
       "\n",
       "   transaction_reference  \n",
       "0                      1  \n",
       "1                      2  \n",
       "2                      3  \n",
       "3                      4  \n",
       "4                      5  "
      ]
     },
     "execution_count": 25,
     "metadata": {},
     "output_type": "execute_result"
    }
   ],
   "source": [
    "consultation_dataframe.head()"
   ]
  },
  {
   "cell_type": "code",
   "execution_count": 26,
   "metadata": {},
   "outputs": [],
   "source": [
    "# cleaned consultation dataset\n",
    "consultation_dataframe.to_csv('cleaned_consultation.csv', index=False)"
   ]
  },
  {
   "attachments": {},
   "cell_type": "markdown",
   "metadata": {},
   "source": [
    "### Creating the new simulated dataset via merg"
   ]
  },
  {
   "cell_type": "code",
   "execution_count": 27,
   "metadata": {},
   "outputs": [],
   "source": [
    "# Calculate variable age using variable date_of_birth in the patient_dataframe\n",
    "\n",
    "from datetime import datetime\n",
    "\n",
    "# Convert date_of_birth column to datetime\n",
    "patient_dataframe['date_of_birth'] = pd.to_datetime(patient_dataframe['date_of_birth'])\n",
    "\n",
    "# Calculate age by subtracting date_of_birth from current date\n",
    "patient_dataframe['age'] = (datetime.now() - patient_dataframe['date_of_birth']) // pd.Timedelta(days=365)\n"
   ]
  },
  {
   "cell_type": "code",
   "execution_count": 28,
   "metadata": {},
   "outputs": [
    {
     "data": {
      "text/html": [
       "<div>\n",
       "<style scoped>\n",
       "    .dataframe tbody tr th:only-of-type {\n",
       "        vertical-align: middle;\n",
       "    }\n",
       "\n",
       "    .dataframe tbody tr th {\n",
       "        vertical-align: top;\n",
       "    }\n",
       "\n",
       "    .dataframe thead th {\n",
       "        text-align: right;\n",
       "    }\n",
       "</style>\n",
       "<table border=\"1\" class=\"dataframe\">\n",
       "  <thead>\n",
       "    <tr style=\"text-align: right;\">\n",
       "      <th></th>\n",
       "      <th>patient_id</th>\n",
       "      <th>address</th>\n",
       "      <th>blood_type</th>\n",
       "      <th>closest_hospital</th>\n",
       "      <th>community</th>\n",
       "      <th>country</th>\n",
       "      <th>date_of_birth</th>\n",
       "      <th>first_name</th>\n",
       "      <th>gender</th>\n",
       "      <th>has_children</th>\n",
       "      <th>...</th>\n",
       "      <th>post_code</th>\n",
       "      <th>preferred_language</th>\n",
       "      <th>purpose_of_visit</th>\n",
       "      <th>state</th>\n",
       "      <th>sur_name</th>\n",
       "      <th>title</th>\n",
       "      <th>user_id</th>\n",
       "      <th>weight</th>\n",
       "      <th>hospital_id</th>\n",
       "      <th>age</th>\n",
       "    </tr>\n",
       "  </thead>\n",
       "  <tbody>\n",
       "    <tr>\n",
       "      <th>0</th>\n",
       "      <td>1</td>\n",
       "      <td>Ap #266-429 Velit St.</td>\n",
       "      <td>AB+</td>\n",
       "      <td>Blue Cross Hospital</td>\n",
       "      <td>suburban</td>\n",
       "      <td>nigeria</td>\n",
       "      <td>2009-04-13</td>\n",
       "      <td>ACRA</td>\n",
       "      <td>Female</td>\n",
       "      <td>Yes</td>\n",
       "      <td>...</td>\n",
       "      <td>10201</td>\n",
       "      <td>english</td>\n",
       "      <td>medical examination</td>\n",
       "      <td>Lagos</td>\n",
       "      <td>SMITH</td>\n",
       "      <td>Mrs.</td>\n",
       "      <td>1</td>\n",
       "      <td>69</td>\n",
       "      <td>1</td>\n",
       "      <td>14</td>\n",
       "    </tr>\n",
       "    <tr>\n",
       "      <th>1</th>\n",
       "      <td>2</td>\n",
       "      <td>315-4283 Nam Street</td>\n",
       "      <td>O-</td>\n",
       "      <td>Krown Hospital</td>\n",
       "      <td>suburban</td>\n",
       "      <td>nigeria</td>\n",
       "      <td>2011-07-08</td>\n",
       "      <td>ADOLPH</td>\n",
       "      <td>Male</td>\n",
       "      <td>Yes</td>\n",
       "      <td>...</td>\n",
       "      <td>12224</td>\n",
       "      <td>english</td>\n",
       "      <td>medical examination</td>\n",
       "      <td>Lagos</td>\n",
       "      <td>NEILON</td>\n",
       "      <td>Mr.</td>\n",
       "      <td>2</td>\n",
       "      <td>80</td>\n",
       "      <td>1</td>\n",
       "      <td>11</td>\n",
       "    </tr>\n",
       "    <tr>\n",
       "      <th>2</th>\n",
       "      <td>3</td>\n",
       "      <td>921-1491 Nonummy Ave</td>\n",
       "      <td>A-</td>\n",
       "      <td>Ave Maria Hospital</td>\n",
       "      <td>suburban</td>\n",
       "      <td>nigeria</td>\n",
       "      <td>2000-12-30</td>\n",
       "      <td>ANKI</td>\n",
       "      <td>Male</td>\n",
       "      <td>Yes</td>\n",
       "      <td>...</td>\n",
       "      <td>53510</td>\n",
       "      <td>english</td>\n",
       "      <td>medical examination</td>\n",
       "      <td>Lagos</td>\n",
       "      <td>HENDRI</td>\n",
       "      <td>Mr.</td>\n",
       "      <td>3</td>\n",
       "      <td>67</td>\n",
       "      <td>1</td>\n",
       "      <td>22</td>\n",
       "    </tr>\n",
       "    <tr>\n",
       "      <th>3</th>\n",
       "      <td>4</td>\n",
       "      <td>Ap #299-4324 Mauris Avenue</td>\n",
       "      <td>O-</td>\n",
       "      <td>Isolo General Hospital</td>\n",
       "      <td>urban</td>\n",
       "      <td>nigeria</td>\n",
       "      <td>1987-09-15</td>\n",
       "      <td>GARBO</td>\n",
       "      <td>Male</td>\n",
       "      <td>No</td>\n",
       "      <td>...</td>\n",
       "      <td>25193</td>\n",
       "      <td>english</td>\n",
       "      <td>medical examination</td>\n",
       "      <td>Lagos</td>\n",
       "      <td>SHARRON</td>\n",
       "      <td>Mr.</td>\n",
       "      <td>4</td>\n",
       "      <td>74</td>\n",
       "      <td>1</td>\n",
       "      <td>35</td>\n",
       "    </tr>\n",
       "    <tr>\n",
       "      <th>4</th>\n",
       "      <td>5</td>\n",
       "      <td>P.O. Box 913, 6976 Magnis Rd.</td>\n",
       "      <td>O-</td>\n",
       "      <td>Lagoon Hospitals</td>\n",
       "      <td>rural</td>\n",
       "      <td>nigeria</td>\n",
       "      <td>2002-10-10</td>\n",
       "      <td>ADONAI</td>\n",
       "      <td>Female</td>\n",
       "      <td>No</td>\n",
       "      <td>...</td>\n",
       "      <td>37171</td>\n",
       "      <td>english</td>\n",
       "      <td>medical examination</td>\n",
       "      <td>Lagos</td>\n",
       "      <td>NEIVA</td>\n",
       "      <td>Ms.</td>\n",
       "      <td>5</td>\n",
       "      <td>62</td>\n",
       "      <td>1</td>\n",
       "      <td>20</td>\n",
       "    </tr>\n",
       "  </tbody>\n",
       "</table>\n",
       "<p>5 rows × 27 columns</p>\n",
       "</div>"
      ],
      "text/plain": [
       "   patient_id                        address blood_type  \\\n",
       "0           1          Ap #266-429 Velit St.        AB+   \n",
       "1           2            315-4283 Nam Street         O-   \n",
       "2           3           921-1491 Nonummy Ave         A-   \n",
       "3           4     Ap #299-4324 Mauris Avenue         O-   \n",
       "4           5  P.O. Box 913, 6976 Magnis Rd.         O-   \n",
       "\n",
       "         closest_hospital community  country date_of_birth first_name  gender  \\\n",
       "0     Blue Cross Hospital  suburban  nigeria    2009-04-13       ACRA  Female   \n",
       "1          Krown Hospital  suburban  nigeria    2011-07-08     ADOLPH    Male   \n",
       "2      Ave Maria Hospital  suburban  nigeria    2000-12-30       ANKI    Male   \n",
       "3  Isolo General Hospital     urban  nigeria    1987-09-15      GARBO    Male   \n",
       "4        Lagoon Hospitals     rural  nigeria    2002-10-10     ADONAI  Female   \n",
       "\n",
       "  has_children  ... post_code  preferred_language     purpose_of_visit  state  \\\n",
       "0          Yes  ...     10201             english  medical examination  Lagos   \n",
       "1          Yes  ...     12224             english  medical examination  Lagos   \n",
       "2          Yes  ...     53510             english  medical examination  Lagos   \n",
       "3           No  ...     25193             english  medical examination  Lagos   \n",
       "4           No  ...     37171             english  medical examination  Lagos   \n",
       "\n",
       "   sur_name  title  user_id  weight hospital_id age  \n",
       "0     SMITH   Mrs.        1      69           1  14  \n",
       "1    NEILON    Mr.        2      80           1  11  \n",
       "2    HENDRI    Mr.        3      67           1  22  \n",
       "3   SHARRON    Mr.        4      74           1  35  \n",
       "4     NEIVA    Ms.        5      62           1  20  \n",
       "\n",
       "[5 rows x 27 columns]"
      ]
     },
     "execution_count": 28,
     "metadata": {},
     "output_type": "execute_result"
    }
   ],
   "source": [
    "patient_dataframe.head()"
   ]
  },
  {
   "cell_type": "code",
   "execution_count": 29,
   "metadata": {},
   "outputs": [],
   "source": [
    "# Calculate variable years_of_experience using variable graduation_date in doctor_dataframe\n",
    "\n",
    "# Convert graduation_date column to datetime\n",
    "doctor_dataframe['graduation_date'] = pd.to_datetime(doctor_dataframe['graduation_date'])\n",
    "\n",
    "# Calculate years_of_experience by subtracting graduation_date from current date\n",
    "doctor_dataframe['years_of_experience'] = (datetime.now() - doctor_dataframe['graduation_date']) // pd.Timedelta(days=365)"
   ]
  },
  {
   "cell_type": "code",
   "execution_count": 30,
   "metadata": {},
   "outputs": [
    {
     "data": {
      "text/html": [
       "<div>\n",
       "<style scoped>\n",
       "    .dataframe tbody tr th:only-of-type {\n",
       "        vertical-align: middle;\n",
       "    }\n",
       "\n",
       "    .dataframe tbody tr th {\n",
       "        vertical-align: top;\n",
       "    }\n",
       "\n",
       "    .dataframe thead th {\n",
       "        text-align: right;\n",
       "    }\n",
       "</style>\n",
       "<table border=\"1\" class=\"dataframe\">\n",
       "  <thead>\n",
       "    <tr style=\"text-align: right;\">\n",
       "      <th></th>\n",
       "      <th>doctor_id</th>\n",
       "      <th>approved</th>\n",
       "      <th>city</th>\n",
       "      <th>date_of_birth</th>\n",
       "      <th>dependant_stand_by</th>\n",
       "      <th>full_name</th>\n",
       "      <th>doctor_gender</th>\n",
       "      <th>graduation_date</th>\n",
       "      <th>is_student</th>\n",
       "      <th>marital_status</th>\n",
       "      <th>...</th>\n",
       "      <th>national_identification_number</th>\n",
       "      <th>office_address</th>\n",
       "      <th>reference_doctor_email</th>\n",
       "      <th>reference_doctor_full_name</th>\n",
       "      <th>reference_doctor_phone_number</th>\n",
       "      <th>state</th>\n",
       "      <th>student_number</th>\n",
       "      <th>system_status</th>\n",
       "      <th>title</th>\n",
       "      <th>years_of_experience</th>\n",
       "    </tr>\n",
       "  </thead>\n",
       "  <tbody>\n",
       "    <tr>\n",
       "      <th>0</th>\n",
       "      <td>1</td>\n",
       "      <td>Yes</td>\n",
       "      <td>Lagos</td>\n",
       "      <td>8/5/1972</td>\n",
       "      <td>1</td>\n",
       "      <td>ACRA SMITH</td>\n",
       "      <td>Male</td>\n",
       "      <td>2019-09-06</td>\n",
       "      <td>No</td>\n",
       "      <td>Married</td>\n",
       "      <td>...</td>\n",
       "      <td>1122458</td>\n",
       "      <td>618-3434 Sagittis Av.</td>\n",
       "      <td>acrasmith@gmail.com</td>\n",
       "      <td>ACRA SMITH</td>\n",
       "      <td>53488888</td>\n",
       "      <td>Lagos</td>\n",
       "      <td>2710</td>\n",
       "      <td>very good</td>\n",
       "      <td>Mr.</td>\n",
       "      <td>3</td>\n",
       "    </tr>\n",
       "    <tr>\n",
       "      <th>1</th>\n",
       "      <td>2</td>\n",
       "      <td>Yes</td>\n",
       "      <td>Lagos</td>\n",
       "      <td>7/12/1989</td>\n",
       "      <td>2</td>\n",
       "      <td>ADOLPH NEILON</td>\n",
       "      <td>Female</td>\n",
       "      <td>2006-06-25</td>\n",
       "      <td>Yes</td>\n",
       "      <td>Married</td>\n",
       "      <td>...</td>\n",
       "      <td>4563751</td>\n",
       "      <td>405-9892 Ultrices Rd.</td>\n",
       "      <td>adolphneilon@gmail.com</td>\n",
       "      <td>ADOLPH NEILON</td>\n",
       "      <td>50989139</td>\n",
       "      <td>Lagos</td>\n",
       "      <td>5370</td>\n",
       "      <td>good</td>\n",
       "      <td>Ms.</td>\n",
       "      <td>16</td>\n",
       "    </tr>\n",
       "    <tr>\n",
       "      <th>2</th>\n",
       "      <td>3</td>\n",
       "      <td>Yes</td>\n",
       "      <td>Lagos</td>\n",
       "      <td>9/30/1965</td>\n",
       "      <td>1</td>\n",
       "      <td>ANKI HENDRI</td>\n",
       "      <td>Male</td>\n",
       "      <td>2008-12-20</td>\n",
       "      <td>Yes</td>\n",
       "      <td>Married</td>\n",
       "      <td>...</td>\n",
       "      <td>1877514</td>\n",
       "      <td>Ap #561-9293 Sociis St.</td>\n",
       "      <td>ankihendri@gmail.com</td>\n",
       "      <td>ANKI HENDRI</td>\n",
       "      <td>42144921</td>\n",
       "      <td>Lagos</td>\n",
       "      <td>6696</td>\n",
       "      <td>excellent</td>\n",
       "      <td>Mr.</td>\n",
       "      <td>14</td>\n",
       "    </tr>\n",
       "    <tr>\n",
       "      <th>3</th>\n",
       "      <td>4</td>\n",
       "      <td>Yes</td>\n",
       "      <td>Lagos</td>\n",
       "      <td>8/12/1964</td>\n",
       "      <td>1</td>\n",
       "      <td>GARBO SHARRON</td>\n",
       "      <td>Male</td>\n",
       "      <td>2013-08-22</td>\n",
       "      <td>No</td>\n",
       "      <td>Married</td>\n",
       "      <td>...</td>\n",
       "      <td>2513477</td>\n",
       "      <td>Ap #381-3175 Sed, Street</td>\n",
       "      <td>garbosharron@gmail.com</td>\n",
       "      <td>GARBO SHARRON</td>\n",
       "      <td>52477143</td>\n",
       "      <td>Lagos</td>\n",
       "      <td>4343</td>\n",
       "      <td>fair</td>\n",
       "      <td>Mr.</td>\n",
       "      <td>9</td>\n",
       "    </tr>\n",
       "    <tr>\n",
       "      <th>4</th>\n",
       "      <td>5</td>\n",
       "      <td>Yes</td>\n",
       "      <td>Lagos</td>\n",
       "      <td>12/5/1963</td>\n",
       "      <td>0</td>\n",
       "      <td>ADONAI NEIVA</td>\n",
       "      <td>Female</td>\n",
       "      <td>2021-12-28</td>\n",
       "      <td>No</td>\n",
       "      <td>Married</td>\n",
       "      <td>...</td>\n",
       "      <td>3463224</td>\n",
       "      <td>Ap #230-5566 Amet, St.</td>\n",
       "      <td>adonaineiva@gmail.com</td>\n",
       "      <td>ADONAI NEIVA</td>\n",
       "      <td>29517478</td>\n",
       "      <td>Lagos</td>\n",
       "      <td>4300</td>\n",
       "      <td>very good</td>\n",
       "      <td>Ms.</td>\n",
       "      <td>1</td>\n",
       "    </tr>\n",
       "  </tbody>\n",
       "</table>\n",
       "<p>5 rows × 22 columns</p>\n",
       "</div>"
      ],
      "text/plain": [
       "   doctor_id approved   city date_of_birth  dependant_stand_by      full_name  \\\n",
       "0          1      Yes  Lagos      8/5/1972                   1     ACRA SMITH   \n",
       "1          2      Yes  Lagos     7/12/1989                   2  ADOLPH NEILON   \n",
       "2          3      Yes  Lagos     9/30/1965                   1    ANKI HENDRI   \n",
       "3          4      Yes  Lagos     8/12/1964                   1  GARBO SHARRON   \n",
       "4          5      Yes  Lagos     12/5/1963                   0   ADONAI NEIVA   \n",
       "\n",
       "  doctor_gender graduation_date is_student marital_status  ...  \\\n",
       "0          Male      2019-09-06         No        Married  ...   \n",
       "1        Female      2006-06-25        Yes        Married  ...   \n",
       "2          Male      2008-12-20        Yes        Married  ...   \n",
       "3          Male      2013-08-22         No        Married  ...   \n",
       "4        Female      2021-12-28         No        Married  ...   \n",
       "\n",
       "   national_identification_number            office_address  \\\n",
       "0                         1122458     618-3434 Sagittis Av.   \n",
       "1                         4563751     405-9892 Ultrices Rd.   \n",
       "2                         1877514   Ap #561-9293 Sociis St.   \n",
       "3                         2513477  Ap #381-3175 Sed, Street   \n",
       "4                         3463224    Ap #230-5566 Amet, St.   \n",
       "\n",
       "   reference_doctor_email reference_doctor_full_name  \\\n",
       "0     acrasmith@gmail.com                 ACRA SMITH   \n",
       "1  adolphneilon@gmail.com              ADOLPH NEILON   \n",
       "2    ankihendri@gmail.com                ANKI HENDRI   \n",
       "3  garbosharron@gmail.com              GARBO SHARRON   \n",
       "4   adonaineiva@gmail.com               ADONAI NEIVA   \n",
       "\n",
       "  reference_doctor_phone_number  state  student_number system_status  title  \\\n",
       "0                      53488888  Lagos            2710     very good    Mr.   \n",
       "1                      50989139  Lagos            5370          good    Ms.   \n",
       "2                      42144921  Lagos            6696     excellent    Mr.   \n",
       "3                      52477143  Lagos            4343          fair    Mr.   \n",
       "4                      29517478  Lagos            4300     very good    Ms.   \n",
       "\n",
       "  years_of_experience  \n",
       "0                   3  \n",
       "1                  16  \n",
       "2                  14  \n",
       "3                   9  \n",
       "4                   1  \n",
       "\n",
       "[5 rows x 22 columns]"
      ]
     },
     "execution_count": 30,
     "metadata": {},
     "output_type": "execute_result"
    }
   ],
   "source": [
    "doctor_dataframe.head()"
   ]
  },
  {
   "cell_type": "code",
   "execution_count": 31,
   "metadata": {},
   "outputs": [
    {
     "data": {
      "text/plain": [
       "(520, 15)"
      ]
     },
     "execution_count": 31,
     "metadata": {},
     "output_type": "execute_result"
    }
   ],
   "source": [
    "# Merging patient_datafram and doctor_datafram to consultation_dataframe\n",
    "patient_consultation = pd.merge(consultation_dataframe[['id', 'consultation_cost', 'patient_body_area', 'patient_status', 'patient_id', 'doctor_id']], \n",
    "                                patient_dataframe[[\"patient_id\", 'community', 'marital_status', 'has_children', 'has_dependent', 'num_of_children', 'num_of_dependents', \"age\", \"gender\"]], on=\"patient_id\", how=\"left\")\n",
    "doctor_patient_consultation = pd.merge(patient_consultation, doctor_dataframe[[\"doctor_id\", \"years_of_experience\"]], on=\"doctor_id\", how=\"left\")\n",
    "doctor_patient_consultation.shape"
   ]
  },
  {
   "cell_type": "code",
   "execution_count": 32,
   "metadata": {},
   "outputs": [
    {
     "data": {
      "text/html": [
       "<div>\n",
       "<style scoped>\n",
       "    .dataframe tbody tr th:only-of-type {\n",
       "        vertical-align: middle;\n",
       "    }\n",
       "\n",
       "    .dataframe tbody tr th {\n",
       "        vertical-align: top;\n",
       "    }\n",
       "\n",
       "    .dataframe thead th {\n",
       "        text-align: right;\n",
       "    }\n",
       "</style>\n",
       "<table border=\"1\" class=\"dataframe\">\n",
       "  <thead>\n",
       "    <tr style=\"text-align: right;\">\n",
       "      <th></th>\n",
       "      <th>id</th>\n",
       "      <th>consultation_cost</th>\n",
       "      <th>patient_body_area</th>\n",
       "      <th>patient_status</th>\n",
       "      <th>patient_id</th>\n",
       "      <th>doctor_id</th>\n",
       "      <th>community</th>\n",
       "      <th>marital_status</th>\n",
       "      <th>has_children</th>\n",
       "      <th>has_dependent</th>\n",
       "      <th>num_of_children</th>\n",
       "      <th>num_of_dependents</th>\n",
       "      <th>age</th>\n",
       "      <th>gender</th>\n",
       "      <th>years_of_experience</th>\n",
       "    </tr>\n",
       "  </thead>\n",
       "  <tbody>\n",
       "    <tr>\n",
       "      <th>0</th>\n",
       "      <td>1</td>\n",
       "      <td>1900</td>\n",
       "      <td>legs</td>\n",
       "      <td>under appointment</td>\n",
       "      <td>100</td>\n",
       "      <td>1</td>\n",
       "      <td>suburban</td>\n",
       "      <td>Divorced</td>\n",
       "      <td>Yes</td>\n",
       "      <td>No</td>\n",
       "      <td>4</td>\n",
       "      <td>3</td>\n",
       "      <td>29</td>\n",
       "      <td>Female</td>\n",
       "      <td>3</td>\n",
       "    </tr>\n",
       "    <tr>\n",
       "      <th>1</th>\n",
       "      <td>2</td>\n",
       "      <td>9100</td>\n",
       "      <td>chest area</td>\n",
       "      <td>new consultation</td>\n",
       "      <td>72</td>\n",
       "      <td>2</td>\n",
       "      <td>rural</td>\n",
       "      <td>Married</td>\n",
       "      <td>No</td>\n",
       "      <td>Yes</td>\n",
       "      <td>3</td>\n",
       "      <td>2</td>\n",
       "      <td>12</td>\n",
       "      <td>Female</td>\n",
       "      <td>16</td>\n",
       "    </tr>\n",
       "    <tr>\n",
       "      <th>2</th>\n",
       "      <td>3</td>\n",
       "      <td>8200</td>\n",
       "      <td>head</td>\n",
       "      <td>new consultation</td>\n",
       "      <td>150</td>\n",
       "      <td>3</td>\n",
       "      <td>rural</td>\n",
       "      <td>Married</td>\n",
       "      <td>Yes</td>\n",
       "      <td>Yes</td>\n",
       "      <td>2</td>\n",
       "      <td>1</td>\n",
       "      <td>35</td>\n",
       "      <td>Male</td>\n",
       "      <td>14</td>\n",
       "    </tr>\n",
       "    <tr>\n",
       "      <th>3</th>\n",
       "      <td>4</td>\n",
       "      <td>5600</td>\n",
       "      <td>back</td>\n",
       "      <td>appointed session</td>\n",
       "      <td>27</td>\n",
       "      <td>4</td>\n",
       "      <td>rural</td>\n",
       "      <td>Married</td>\n",
       "      <td>Yes</td>\n",
       "      <td>No</td>\n",
       "      <td>2</td>\n",
       "      <td>1</td>\n",
       "      <td>25</td>\n",
       "      <td>Female</td>\n",
       "      <td>9</td>\n",
       "    </tr>\n",
       "    <tr>\n",
       "      <th>4</th>\n",
       "      <td>5</td>\n",
       "      <td>1200</td>\n",
       "      <td>stomach</td>\n",
       "      <td>new consultation</td>\n",
       "      <td>191</td>\n",
       "      <td>5</td>\n",
       "      <td>suburban</td>\n",
       "      <td>Single</td>\n",
       "      <td>No</td>\n",
       "      <td>Yes</td>\n",
       "      <td>1</td>\n",
       "      <td>1</td>\n",
       "      <td>39</td>\n",
       "      <td>Female</td>\n",
       "      <td>1</td>\n",
       "    </tr>\n",
       "  </tbody>\n",
       "</table>\n",
       "</div>"
      ],
      "text/plain": [
       "   id  consultation_cost patient_body_area     patient_status  patient_id  \\\n",
       "0   1               1900              legs  under appointment         100   \n",
       "1   2               9100        chest area   new consultation          72   \n",
       "2   3               8200              head   new consultation         150   \n",
       "3   4               5600              back  appointed session          27   \n",
       "4   5               1200           stomach   new consultation         191   \n",
       "\n",
       "   doctor_id community marital_status has_children has_dependent  \\\n",
       "0          1  suburban       Divorced          Yes            No   \n",
       "1          2     rural        Married           No           Yes   \n",
       "2          3     rural        Married          Yes           Yes   \n",
       "3          4     rural        Married          Yes            No   \n",
       "4          5  suburban         Single           No           Yes   \n",
       "\n",
       "   num_of_children  num_of_dependents  age  gender  years_of_experience  \n",
       "0                4                  3   29  Female                    3  \n",
       "1                3                  2   12  Female                   16  \n",
       "2                2                  1   35    Male                   14  \n",
       "3                2                  1   25  Female                    9  \n",
       "4                1                  1   39  Female                    1  "
      ]
     },
     "execution_count": 32,
     "metadata": {},
     "output_type": "execute_result"
    }
   ],
   "source": [
    "doctor_patient_consultation.head()"
   ]
  },
  {
   "attachments": {},
   "cell_type": "markdown",
   "metadata": {},
   "source": [
    "#### The Simulated dataframe"
   ]
  },
  {
   "cell_type": "code",
   "execution_count": 33,
   "metadata": {},
   "outputs": [
    {
     "data": {
      "text/html": [
       "<div>\n",
       "<style scoped>\n",
       "    .dataframe tbody tr th:only-of-type {\n",
       "        vertical-align: middle;\n",
       "    }\n",
       "\n",
       "    .dataframe tbody tr th {\n",
       "        vertical-align: top;\n",
       "    }\n",
       "\n",
       "    .dataframe thead th {\n",
       "        text-align: right;\n",
       "    }\n",
       "</style>\n",
       "<table border=\"1\" class=\"dataframe\">\n",
       "  <thead>\n",
       "    <tr style=\"text-align: right;\">\n",
       "      <th></th>\n",
       "      <th>consult_id</th>\n",
       "      <th>consult_cost</th>\n",
       "      <th>patient_anatomy</th>\n",
       "      <th>patient_consult_status</th>\n",
       "      <th>patient_community</th>\n",
       "      <th>patient_marital_status</th>\n",
       "      <th>patient_has_children</th>\n",
       "      <th>patient_has_dependent</th>\n",
       "      <th>patient_num_of_children</th>\n",
       "      <th>patient_num_of_dependents</th>\n",
       "      <th>patient_age</th>\n",
       "      <th>patient_gender</th>\n",
       "      <th>consultant_doctor_experience</th>\n",
       "    </tr>\n",
       "  </thead>\n",
       "  <tbody>\n",
       "    <tr>\n",
       "      <th>0</th>\n",
       "      <td>1</td>\n",
       "      <td>1900</td>\n",
       "      <td>legs</td>\n",
       "      <td>under appointment</td>\n",
       "      <td>suburban</td>\n",
       "      <td>Divorced</td>\n",
       "      <td>Yes</td>\n",
       "      <td>No</td>\n",
       "      <td>4</td>\n",
       "      <td>3</td>\n",
       "      <td>29</td>\n",
       "      <td>Female</td>\n",
       "      <td>3</td>\n",
       "    </tr>\n",
       "    <tr>\n",
       "      <th>1</th>\n",
       "      <td>2</td>\n",
       "      <td>9100</td>\n",
       "      <td>chest area</td>\n",
       "      <td>new consultation</td>\n",
       "      <td>rural</td>\n",
       "      <td>Married</td>\n",
       "      <td>No</td>\n",
       "      <td>Yes</td>\n",
       "      <td>3</td>\n",
       "      <td>2</td>\n",
       "      <td>12</td>\n",
       "      <td>Female</td>\n",
       "      <td>16</td>\n",
       "    </tr>\n",
       "    <tr>\n",
       "      <th>2</th>\n",
       "      <td>3</td>\n",
       "      <td>8200</td>\n",
       "      <td>head</td>\n",
       "      <td>new consultation</td>\n",
       "      <td>rural</td>\n",
       "      <td>Married</td>\n",
       "      <td>Yes</td>\n",
       "      <td>Yes</td>\n",
       "      <td>2</td>\n",
       "      <td>1</td>\n",
       "      <td>35</td>\n",
       "      <td>Male</td>\n",
       "      <td>14</td>\n",
       "    </tr>\n",
       "    <tr>\n",
       "      <th>3</th>\n",
       "      <td>4</td>\n",
       "      <td>5600</td>\n",
       "      <td>back</td>\n",
       "      <td>appointed session</td>\n",
       "      <td>rural</td>\n",
       "      <td>Married</td>\n",
       "      <td>Yes</td>\n",
       "      <td>No</td>\n",
       "      <td>2</td>\n",
       "      <td>1</td>\n",
       "      <td>25</td>\n",
       "      <td>Female</td>\n",
       "      <td>9</td>\n",
       "    </tr>\n",
       "    <tr>\n",
       "      <th>4</th>\n",
       "      <td>5</td>\n",
       "      <td>1200</td>\n",
       "      <td>stomach</td>\n",
       "      <td>new consultation</td>\n",
       "      <td>suburban</td>\n",
       "      <td>Single</td>\n",
       "      <td>No</td>\n",
       "      <td>Yes</td>\n",
       "      <td>1</td>\n",
       "      <td>1</td>\n",
       "      <td>39</td>\n",
       "      <td>Female</td>\n",
       "      <td>1</td>\n",
       "    </tr>\n",
       "  </tbody>\n",
       "</table>\n",
       "</div>"
      ],
      "text/plain": [
       "   consult_id  consult_cost patient_anatomy patient_consult_status  \\\n",
       "0           1          1900            legs      under appointment   \n",
       "1           2          9100      chest area       new consultation   \n",
       "2           3          8200            head       new consultation   \n",
       "3           4          5600            back      appointed session   \n",
       "4           5          1200         stomach       new consultation   \n",
       "\n",
       "  patient_community patient_marital_status patient_has_children  \\\n",
       "0          suburban               Divorced                  Yes   \n",
       "1             rural                Married                   No   \n",
       "2             rural                Married                  Yes   \n",
       "3             rural                Married                  Yes   \n",
       "4          suburban                 Single                   No   \n",
       "\n",
       "  patient_has_dependent  patient_num_of_children  patient_num_of_dependents  \\\n",
       "0                    No                        4                          3   \n",
       "1                   Yes                        3                          2   \n",
       "2                   Yes                        2                          1   \n",
       "3                    No                        2                          1   \n",
       "4                   Yes                        1                          1   \n",
       "\n",
       "   patient_age patient_gender  consultant_doctor_experience  \n",
       "0           29         Female                             3  \n",
       "1           12         Female                            16  \n",
       "2           35           Male                            14  \n",
       "3           25         Female                             9  \n",
       "4           39         Female                             1  "
      ]
     },
     "execution_count": 33,
     "metadata": {},
     "output_type": "execute_result"
    }
   ],
   "source": [
    "simulated_dataframe = doctor_patient_consultation.drop([\"doctor_id\", \"patient_id\"], axis=1)\n",
    "simulated_dataframe=pd.DataFrame({'consult_id':doctor_patient_consultation['id'], 'consult_cost':doctor_patient_consultation['consultation_cost'] , 'patient_anatomy':doctor_patient_consultation['patient_body_area'],\n",
    "                         'patient_consult_status':doctor_patient_consultation['patient_status'], 'patient_community':doctor_patient_consultation['community'], 'patient_marital_status':doctor_patient_consultation['marital_status'], \n",
    "                         'patient_has_children':doctor_patient_consultation['has_children'], 'patient_has_dependent':doctor_patient_consultation['has_dependent'], 'patient_num_of_children':doctor_patient_consultation['num_of_children'], \n",
    "                         'patient_num_of_dependents':doctor_patient_consultation['num_of_dependents'], 'patient_age':doctor_patient_consultation['age'], 'patient_gender':doctor_patient_consultation['gender'], \n",
    "                         'consultant_doctor_experience':doctor_patient_consultation['years_of_experience']})\n",
    "\n",
    "simulated_dataframe.head()"
   ]
  },
  {
   "cell_type": "code",
   "execution_count": 34,
   "metadata": {},
   "outputs": [
    {
     "data": {
      "text/plain": [
       "(520, 13)"
      ]
     },
     "execution_count": 34,
     "metadata": {},
     "output_type": "execute_result"
    }
   ],
   "source": [
    "simulated_dataframe.shape"
   ]
  },
  {
   "cell_type": "code",
   "execution_count": 35,
   "metadata": {},
   "outputs": [
    {
     "name": "stdout",
     "output_type": "stream",
     "text": [
      "<class 'pandas.core.frame.DataFrame'>\n",
      "Int64Index: 520 entries, 0 to 519\n",
      "Data columns (total 13 columns):\n",
      " #   Column                        Non-Null Count  Dtype \n",
      "---  ------                        --------------  ----- \n",
      " 0   consult_id                    520 non-null    int64 \n",
      " 1   consult_cost                  520 non-null    int64 \n",
      " 2   patient_anatomy               520 non-null    object\n",
      " 3   patient_consult_status        520 non-null    object\n",
      " 4   patient_community             520 non-null    object\n",
      " 5   patient_marital_status        520 non-null    object\n",
      " 6   patient_has_children          520 non-null    object\n",
      " 7   patient_has_dependent         520 non-null    object\n",
      " 8   patient_num_of_children       520 non-null    int64 \n",
      " 9   patient_num_of_dependents     520 non-null    int64 \n",
      " 10  patient_age                   520 non-null    int64 \n",
      " 11  patient_gender                520 non-null    object\n",
      " 12  consultant_doctor_experience  520 non-null    int64 \n",
      "dtypes: int64(6), object(7)\n",
      "memory usage: 56.9+ KB\n"
     ]
    }
   ],
   "source": [
    "simulated_dataframe.info()"
   ]
  },
  {
   "attachments": {},
   "cell_type": "markdown",
   "metadata": {},
   "source": [
    "#### Transform the catagorical features to dummy-variable format"
   ]
  },
  {
   "cell_type": "code",
   "execution_count": 36,
   "metadata": {},
   "outputs": [
    {
     "name": "stdout",
     "output_type": "stream",
     "text": [
      "['legs' 'chest area' 'head' 'back' 'stomach' 'upper chest area' 'shoulder']\n",
      "['under appointment' 'new consultation' 'appointed session' 'admitted']\n",
      "['suburban' 'rural' 'urban']\n",
      "['Divorced' 'Married' 'Single']\n",
      "['Yes' 'No']\n",
      "['No' 'Yes']\n",
      "['Female' 'Male']\n"
     ]
    }
   ],
   "source": [
    "print(simulated_dataframe['patient_anatomy'].unique())\n",
    "print(simulated_dataframe['patient_consult_status'].unique())\n",
    "print(simulated_dataframe['patient_community'].unique())\n",
    "print(simulated_dataframe['patient_marital_status'].unique())\n",
    "print(simulated_dataframe['patient_has_children'].unique())\n",
    "print(simulated_dataframe['patient_has_dependent'].unique())\n",
    "print(simulated_dataframe['patient_gender'].unique())"
   ]
  },
  {
   "cell_type": "code",
   "execution_count": 37,
   "metadata": {},
   "outputs": [],
   "source": [
    "simulated_dataframe = pd.concat([simulated_dataframe, pd.get_dummies(simulated_dataframe['patient_anatomy'], prefix='patient_anatomy', drop_first=True)],axis=1)\n",
    "simulated_dataframe = pd.concat([simulated_dataframe, pd.get_dummies(simulated_dataframe['patient_consult_status'], prefix='patient_consult_status', drop_first=True)],axis=1)\n",
    "simulated_dataframe = pd.concat([simulated_dataframe, pd.get_dummies(simulated_dataframe['patient_community'], prefix='patient_community', drop_first=True)],axis=1)\n",
    "simulated_dataframe = pd.concat([simulated_dataframe, pd.get_dummies(simulated_dataframe['patient_marital_status'], prefix='patient_marital_status', drop_first=True)],axis=1)\n",
    "simulated_dataframe = pd.concat([simulated_dataframe, pd.get_dummies(simulated_dataframe['patient_has_children'], prefix='patient_has_children', drop_first=True)],axis=1)\n",
    "simulated_dataframe = pd.concat([simulated_dataframe, pd.get_dummies(simulated_dataframe['patient_has_dependent'], prefix='patient_has_dependent', drop_first=True)],axis=1)\n",
    "simulated_dataframe = pd.concat([simulated_dataframe, pd.get_dummies(simulated_dataframe['patient_gender'], prefix='patient_gender', drop_first=True)],axis=1)\n",
    "simulated_dataframe.drop(['patient_anatomy','patient_consult_status','patient_community', 'patient_marital_status', 'patient_has_children', 'patient_has_dependent', 'patient_gender' ], axis=1, inplace=True)"
   ]
  },
  {
   "cell_type": "code",
   "execution_count": 38,
   "metadata": {},
   "outputs": [],
   "source": [
    "# The simulated dataset\n",
    "simulated_dataframe.to_csv('simulated_data.csv', index=False)"
   ]
  },
  {
   "cell_type": "code",
   "execution_count": 39,
   "metadata": {},
   "outputs": [
    {
     "data": {
      "text/html": [
       "<div>\n",
       "<style scoped>\n",
       "    .dataframe tbody tr th:only-of-type {\n",
       "        vertical-align: middle;\n",
       "    }\n",
       "\n",
       "    .dataframe tbody tr th {\n",
       "        vertical-align: top;\n",
       "    }\n",
       "\n",
       "    .dataframe thead th {\n",
       "        text-align: right;\n",
       "    }\n",
       "</style>\n",
       "<table border=\"1\" class=\"dataframe\">\n",
       "  <thead>\n",
       "    <tr style=\"text-align: right;\">\n",
       "      <th></th>\n",
       "      <th>consult_cost</th>\n",
       "      <th>patient_num_of_children</th>\n",
       "      <th>patient_num_of_dependents</th>\n",
       "      <th>patient_age</th>\n",
       "      <th>consultant_doctor_experience</th>\n",
       "      <th>patient_anatomy_chest area</th>\n",
       "      <th>patient_anatomy_head</th>\n",
       "      <th>patient_anatomy_legs</th>\n",
       "      <th>patient_anatomy_shoulder</th>\n",
       "      <th>patient_anatomy_stomach</th>\n",
       "      <th>...</th>\n",
       "      <th>patient_consult_status_appointed session</th>\n",
       "      <th>patient_consult_status_new consultation</th>\n",
       "      <th>patient_consult_status_under appointment</th>\n",
       "      <th>patient_community_suburban</th>\n",
       "      <th>patient_community_urban</th>\n",
       "      <th>patient_marital_status_Married</th>\n",
       "      <th>patient_marital_status_Single</th>\n",
       "      <th>patient_has_children_Yes</th>\n",
       "      <th>patient_has_dependent_Yes</th>\n",
       "      <th>patient_gender_Male</th>\n",
       "    </tr>\n",
       "    <tr>\n",
       "      <th>consult_id</th>\n",
       "      <th></th>\n",
       "      <th></th>\n",
       "      <th></th>\n",
       "      <th></th>\n",
       "      <th></th>\n",
       "      <th></th>\n",
       "      <th></th>\n",
       "      <th></th>\n",
       "      <th></th>\n",
       "      <th></th>\n",
       "      <th></th>\n",
       "      <th></th>\n",
       "      <th></th>\n",
       "      <th></th>\n",
       "      <th></th>\n",
       "      <th></th>\n",
       "      <th></th>\n",
       "      <th></th>\n",
       "      <th></th>\n",
       "      <th></th>\n",
       "      <th></th>\n",
       "    </tr>\n",
       "  </thead>\n",
       "  <tbody>\n",
       "    <tr>\n",
       "      <th>1</th>\n",
       "      <td>1900</td>\n",
       "      <td>4</td>\n",
       "      <td>3</td>\n",
       "      <td>29</td>\n",
       "      <td>3</td>\n",
       "      <td>0</td>\n",
       "      <td>0</td>\n",
       "      <td>1</td>\n",
       "      <td>0</td>\n",
       "      <td>0</td>\n",
       "      <td>...</td>\n",
       "      <td>0</td>\n",
       "      <td>0</td>\n",
       "      <td>1</td>\n",
       "      <td>1</td>\n",
       "      <td>0</td>\n",
       "      <td>0</td>\n",
       "      <td>0</td>\n",
       "      <td>1</td>\n",
       "      <td>0</td>\n",
       "      <td>0</td>\n",
       "    </tr>\n",
       "    <tr>\n",
       "      <th>2</th>\n",
       "      <td>9100</td>\n",
       "      <td>3</td>\n",
       "      <td>2</td>\n",
       "      <td>12</td>\n",
       "      <td>16</td>\n",
       "      <td>1</td>\n",
       "      <td>0</td>\n",
       "      <td>0</td>\n",
       "      <td>0</td>\n",
       "      <td>0</td>\n",
       "      <td>...</td>\n",
       "      <td>0</td>\n",
       "      <td>1</td>\n",
       "      <td>0</td>\n",
       "      <td>0</td>\n",
       "      <td>0</td>\n",
       "      <td>1</td>\n",
       "      <td>0</td>\n",
       "      <td>0</td>\n",
       "      <td>1</td>\n",
       "      <td>0</td>\n",
       "    </tr>\n",
       "    <tr>\n",
       "      <th>3</th>\n",
       "      <td>8200</td>\n",
       "      <td>2</td>\n",
       "      <td>1</td>\n",
       "      <td>35</td>\n",
       "      <td>14</td>\n",
       "      <td>0</td>\n",
       "      <td>1</td>\n",
       "      <td>0</td>\n",
       "      <td>0</td>\n",
       "      <td>0</td>\n",
       "      <td>...</td>\n",
       "      <td>0</td>\n",
       "      <td>1</td>\n",
       "      <td>0</td>\n",
       "      <td>0</td>\n",
       "      <td>0</td>\n",
       "      <td>1</td>\n",
       "      <td>0</td>\n",
       "      <td>1</td>\n",
       "      <td>1</td>\n",
       "      <td>1</td>\n",
       "    </tr>\n",
       "    <tr>\n",
       "      <th>4</th>\n",
       "      <td>5600</td>\n",
       "      <td>2</td>\n",
       "      <td>1</td>\n",
       "      <td>25</td>\n",
       "      <td>9</td>\n",
       "      <td>0</td>\n",
       "      <td>0</td>\n",
       "      <td>0</td>\n",
       "      <td>0</td>\n",
       "      <td>0</td>\n",
       "      <td>...</td>\n",
       "      <td>1</td>\n",
       "      <td>0</td>\n",
       "      <td>0</td>\n",
       "      <td>0</td>\n",
       "      <td>0</td>\n",
       "      <td>1</td>\n",
       "      <td>0</td>\n",
       "      <td>1</td>\n",
       "      <td>0</td>\n",
       "      <td>0</td>\n",
       "    </tr>\n",
       "    <tr>\n",
       "      <th>5</th>\n",
       "      <td>1200</td>\n",
       "      <td>1</td>\n",
       "      <td>1</td>\n",
       "      <td>39</td>\n",
       "      <td>1</td>\n",
       "      <td>0</td>\n",
       "      <td>0</td>\n",
       "      <td>0</td>\n",
       "      <td>0</td>\n",
       "      <td>1</td>\n",
       "      <td>...</td>\n",
       "      <td>0</td>\n",
       "      <td>1</td>\n",
       "      <td>0</td>\n",
       "      <td>1</td>\n",
       "      <td>0</td>\n",
       "      <td>0</td>\n",
       "      <td>1</td>\n",
       "      <td>0</td>\n",
       "      <td>1</td>\n",
       "      <td>0</td>\n",
       "    </tr>\n",
       "  </tbody>\n",
       "</table>\n",
       "<p>5 rows × 21 columns</p>\n",
       "</div>"
      ],
      "text/plain": [
       "            consult_cost  patient_num_of_children  patient_num_of_dependents  \\\n",
       "consult_id                                                                     \n",
       "1                   1900                        4                          3   \n",
       "2                   9100                        3                          2   \n",
       "3                   8200                        2                          1   \n",
       "4                   5600                        2                          1   \n",
       "5                   1200                        1                          1   \n",
       "\n",
       "            patient_age  consultant_doctor_experience  \\\n",
       "consult_id                                              \n",
       "1                    29                             3   \n",
       "2                    12                            16   \n",
       "3                    35                            14   \n",
       "4                    25                             9   \n",
       "5                    39                             1   \n",
       "\n",
       "            patient_anatomy_chest area  patient_anatomy_head  \\\n",
       "consult_id                                                     \n",
       "1                                    0                     0   \n",
       "2                                    1                     0   \n",
       "3                                    0                     1   \n",
       "4                                    0                     0   \n",
       "5                                    0                     0   \n",
       "\n",
       "            patient_anatomy_legs  patient_anatomy_shoulder  \\\n",
       "consult_id                                                   \n",
       "1                              1                         0   \n",
       "2                              0                         0   \n",
       "3                              0                         0   \n",
       "4                              0                         0   \n",
       "5                              0                         0   \n",
       "\n",
       "            patient_anatomy_stomach  ...  \\\n",
       "consult_id                           ...   \n",
       "1                                 0  ...   \n",
       "2                                 0  ...   \n",
       "3                                 0  ...   \n",
       "4                                 0  ...   \n",
       "5                                 1  ...   \n",
       "\n",
       "            patient_consult_status_appointed session  \\\n",
       "consult_id                                             \n",
       "1                                                  0   \n",
       "2                                                  0   \n",
       "3                                                  0   \n",
       "4                                                  1   \n",
       "5                                                  0   \n",
       "\n",
       "            patient_consult_status_new consultation  \\\n",
       "consult_id                                            \n",
       "1                                                 0   \n",
       "2                                                 1   \n",
       "3                                                 1   \n",
       "4                                                 0   \n",
       "5                                                 1   \n",
       "\n",
       "            patient_consult_status_under appointment  \\\n",
       "consult_id                                             \n",
       "1                                                  1   \n",
       "2                                                  0   \n",
       "3                                                  0   \n",
       "4                                                  0   \n",
       "5                                                  0   \n",
       "\n",
       "            patient_community_suburban  patient_community_urban  \\\n",
       "consult_id                                                        \n",
       "1                                    1                        0   \n",
       "2                                    0                        0   \n",
       "3                                    0                        0   \n",
       "4                                    0                        0   \n",
       "5                                    1                        0   \n",
       "\n",
       "            patient_marital_status_Married  patient_marital_status_Single  \\\n",
       "consult_id                                                                  \n",
       "1                                        0                              0   \n",
       "2                                        1                              0   \n",
       "3                                        1                              0   \n",
       "4                                        1                              0   \n",
       "5                                        0                              1   \n",
       "\n",
       "            patient_has_children_Yes  patient_has_dependent_Yes  \\\n",
       "consult_id                                                        \n",
       "1                                  1                          0   \n",
       "2                                  0                          1   \n",
       "3                                  1                          1   \n",
       "4                                  1                          0   \n",
       "5                                  0                          1   \n",
       "\n",
       "            patient_gender_Male  \n",
       "consult_id                       \n",
       "1                             0  \n",
       "2                             0  \n",
       "3                             1  \n",
       "4                             0  \n",
       "5                             0  \n",
       "\n",
       "[5 rows x 21 columns]"
      ]
     },
     "execution_count": 39,
     "metadata": {},
     "output_type": "execute_result"
    }
   ],
   "source": [
    "simulated_dataframe=pd.read_csv('simulated_data.csv', index_col='consult_id')\n",
    "simulated_dataframe.head()"
   ]
  },
  {
   "cell_type": "code",
   "execution_count": 40,
   "metadata": {},
   "outputs": [
    {
     "data": {
      "text/plain": [
       "(520, 21)"
      ]
     },
     "execution_count": 40,
     "metadata": {},
     "output_type": "execute_result"
    }
   ],
   "source": [
    "simulated_dataframe.shape"
   ]
  },
  {
   "attachments": {},
   "cell_type": "markdown",
   "metadata": {},
   "source": [
    "#### Describe or summarize "
   ]
  },
  {
   "cell_type": "code",
   "execution_count": 41,
   "metadata": {},
   "outputs": [
    {
     "data": {
      "text/html": [
       "<div>\n",
       "<style scoped>\n",
       "    .dataframe tbody tr th:only-of-type {\n",
       "        vertical-align: middle;\n",
       "    }\n",
       "\n",
       "    .dataframe tbody tr th {\n",
       "        vertical-align: top;\n",
       "    }\n",
       "\n",
       "    .dataframe thead th {\n",
       "        text-align: right;\n",
       "    }\n",
       "</style>\n",
       "<table border=\"1\" class=\"dataframe\">\n",
       "  <thead>\n",
       "    <tr style=\"text-align: right;\">\n",
       "      <th></th>\n",
       "      <th>consult_cost</th>\n",
       "      <th>patient_num_of_children</th>\n",
       "      <th>patient_num_of_dependents</th>\n",
       "      <th>patient_age</th>\n",
       "      <th>consultant_doctor_experience</th>\n",
       "      <th>patient_anatomy_chest area</th>\n",
       "      <th>patient_anatomy_head</th>\n",
       "      <th>patient_anatomy_legs</th>\n",
       "      <th>patient_anatomy_shoulder</th>\n",
       "      <th>patient_anatomy_stomach</th>\n",
       "      <th>...</th>\n",
       "      <th>patient_consult_status_appointed session</th>\n",
       "      <th>patient_consult_status_new consultation</th>\n",
       "      <th>patient_consult_status_under appointment</th>\n",
       "      <th>patient_community_suburban</th>\n",
       "      <th>patient_community_urban</th>\n",
       "      <th>patient_marital_status_Married</th>\n",
       "      <th>patient_marital_status_Single</th>\n",
       "      <th>patient_has_children_Yes</th>\n",
       "      <th>patient_has_dependent_Yes</th>\n",
       "      <th>patient_gender_Male</th>\n",
       "    </tr>\n",
       "  </thead>\n",
       "  <tbody>\n",
       "    <tr>\n",
       "      <th>count</th>\n",
       "      <td>520.000000</td>\n",
       "      <td>520.000000</td>\n",
       "      <td>520.000000</td>\n",
       "      <td>520.000000</td>\n",
       "      <td>520.000000</td>\n",
       "      <td>520.000000</td>\n",
       "      <td>520.000000</td>\n",
       "      <td>520.000000</td>\n",
       "      <td>520.000000</td>\n",
       "      <td>520.000000</td>\n",
       "      <td>...</td>\n",
       "      <td>520.000000</td>\n",
       "      <td>520.000000</td>\n",
       "      <td>520.000000</td>\n",
       "      <td>520.000000</td>\n",
       "      <td>520.000000</td>\n",
       "      <td>520.000000</td>\n",
       "      <td>520.000000</td>\n",
       "      <td>520.000000</td>\n",
       "      <td>520.000000</td>\n",
       "      <td>520.000000</td>\n",
       "    </tr>\n",
       "    <tr>\n",
       "      <th>mean</th>\n",
       "      <td>5439.807692</td>\n",
       "      <td>1.984615</td>\n",
       "      <td>1.988462</td>\n",
       "      <td>24.838462</td>\n",
       "      <td>8.925000</td>\n",
       "      <td>0.090385</td>\n",
       "      <td>0.171154</td>\n",
       "      <td>0.119231</td>\n",
       "      <td>0.098077</td>\n",
       "      <td>0.209615</td>\n",
       "      <td>...</td>\n",
       "      <td>0.169231</td>\n",
       "      <td>0.434615</td>\n",
       "      <td>0.198077</td>\n",
       "      <td>0.357692</td>\n",
       "      <td>0.317308</td>\n",
       "      <td>0.359615</td>\n",
       "      <td>0.267308</td>\n",
       "      <td>0.505769</td>\n",
       "      <td>0.517308</td>\n",
       "      <td>0.500000</td>\n",
       "    </tr>\n",
       "    <tr>\n",
       "      <th>std</th>\n",
       "      <td>2814.354199</td>\n",
       "      <td>1.267556</td>\n",
       "      <td>1.325553</td>\n",
       "      <td>8.744107</td>\n",
       "      <td>5.063009</td>\n",
       "      <td>0.287008</td>\n",
       "      <td>0.377006</td>\n",
       "      <td>0.324372</td>\n",
       "      <td>0.297705</td>\n",
       "      <td>0.407426</td>\n",
       "      <td>...</td>\n",
       "      <td>0.375317</td>\n",
       "      <td>0.496184</td>\n",
       "      <td>0.398934</td>\n",
       "      <td>0.479782</td>\n",
       "      <td>0.465876</td>\n",
       "      <td>0.480350</td>\n",
       "      <td>0.442980</td>\n",
       "      <td>0.500448</td>\n",
       "      <td>0.500182</td>\n",
       "      <td>0.500481</td>\n",
       "    </tr>\n",
       "    <tr>\n",
       "      <th>min</th>\n",
       "      <td>1100.000000</td>\n",
       "      <td>0.000000</td>\n",
       "      <td>0.000000</td>\n",
       "      <td>10.000000</td>\n",
       "      <td>1.000000</td>\n",
       "      <td>0.000000</td>\n",
       "      <td>0.000000</td>\n",
       "      <td>0.000000</td>\n",
       "      <td>0.000000</td>\n",
       "      <td>0.000000</td>\n",
       "      <td>...</td>\n",
       "      <td>0.000000</td>\n",
       "      <td>0.000000</td>\n",
       "      <td>0.000000</td>\n",
       "      <td>0.000000</td>\n",
       "      <td>0.000000</td>\n",
       "      <td>0.000000</td>\n",
       "      <td>0.000000</td>\n",
       "      <td>0.000000</td>\n",
       "      <td>0.000000</td>\n",
       "      <td>0.000000</td>\n",
       "    </tr>\n",
       "    <tr>\n",
       "      <th>25%</th>\n",
       "      <td>2900.000000</td>\n",
       "      <td>1.000000</td>\n",
       "      <td>1.000000</td>\n",
       "      <td>17.000000</td>\n",
       "      <td>4.000000</td>\n",
       "      <td>0.000000</td>\n",
       "      <td>0.000000</td>\n",
       "      <td>0.000000</td>\n",
       "      <td>0.000000</td>\n",
       "      <td>0.000000</td>\n",
       "      <td>...</td>\n",
       "      <td>0.000000</td>\n",
       "      <td>0.000000</td>\n",
       "      <td>0.000000</td>\n",
       "      <td>0.000000</td>\n",
       "      <td>0.000000</td>\n",
       "      <td>0.000000</td>\n",
       "      <td>0.000000</td>\n",
       "      <td>0.000000</td>\n",
       "      <td>0.000000</td>\n",
       "      <td>0.000000</td>\n",
       "    </tr>\n",
       "    <tr>\n",
       "      <th>50%</th>\n",
       "      <td>5350.000000</td>\n",
       "      <td>2.000000</td>\n",
       "      <td>2.000000</td>\n",
       "      <td>24.500000</td>\n",
       "      <td>8.000000</td>\n",
       "      <td>0.000000</td>\n",
       "      <td>0.000000</td>\n",
       "      <td>0.000000</td>\n",
       "      <td>0.000000</td>\n",
       "      <td>0.000000</td>\n",
       "      <td>...</td>\n",
       "      <td>0.000000</td>\n",
       "      <td>0.000000</td>\n",
       "      <td>0.000000</td>\n",
       "      <td>0.000000</td>\n",
       "      <td>0.000000</td>\n",
       "      <td>0.000000</td>\n",
       "      <td>0.000000</td>\n",
       "      <td>1.000000</td>\n",
       "      <td>1.000000</td>\n",
       "      <td>0.500000</td>\n",
       "    </tr>\n",
       "    <tr>\n",
       "      <th>75%</th>\n",
       "      <td>8000.000000</td>\n",
       "      <td>3.000000</td>\n",
       "      <td>3.000000</td>\n",
       "      <td>32.000000</td>\n",
       "      <td>14.000000</td>\n",
       "      <td>0.000000</td>\n",
       "      <td>0.000000</td>\n",
       "      <td>0.000000</td>\n",
       "      <td>0.000000</td>\n",
       "      <td>0.000000</td>\n",
       "      <td>...</td>\n",
       "      <td>0.000000</td>\n",
       "      <td>1.000000</td>\n",
       "      <td>0.000000</td>\n",
       "      <td>1.000000</td>\n",
       "      <td>1.000000</td>\n",
       "      <td>1.000000</td>\n",
       "      <td>1.000000</td>\n",
       "      <td>1.000000</td>\n",
       "      <td>1.000000</td>\n",
       "      <td>1.000000</td>\n",
       "    </tr>\n",
       "    <tr>\n",
       "      <th>max</th>\n",
       "      <td>10700.000000</td>\n",
       "      <td>4.000000</td>\n",
       "      <td>4.000000</td>\n",
       "      <td>40.000000</td>\n",
       "      <td>18.000000</td>\n",
       "      <td>1.000000</td>\n",
       "      <td>1.000000</td>\n",
       "      <td>1.000000</td>\n",
       "      <td>1.000000</td>\n",
       "      <td>1.000000</td>\n",
       "      <td>...</td>\n",
       "      <td>1.000000</td>\n",
       "      <td>1.000000</td>\n",
       "      <td>1.000000</td>\n",
       "      <td>1.000000</td>\n",
       "      <td>1.000000</td>\n",
       "      <td>1.000000</td>\n",
       "      <td>1.000000</td>\n",
       "      <td>1.000000</td>\n",
       "      <td>1.000000</td>\n",
       "      <td>1.000000</td>\n",
       "    </tr>\n",
       "  </tbody>\n",
       "</table>\n",
       "<p>8 rows × 21 columns</p>\n",
       "</div>"
      ],
      "text/plain": [
       "       consult_cost  patient_num_of_children  patient_num_of_dependents  \\\n",
       "count    520.000000               520.000000                 520.000000   \n",
       "mean    5439.807692                 1.984615                   1.988462   \n",
       "std     2814.354199                 1.267556                   1.325553   \n",
       "min     1100.000000                 0.000000                   0.000000   \n",
       "25%     2900.000000                 1.000000                   1.000000   \n",
       "50%     5350.000000                 2.000000                   2.000000   \n",
       "75%     8000.000000                 3.000000                   3.000000   \n",
       "max    10700.000000                 4.000000                   4.000000   \n",
       "\n",
       "       patient_age  consultant_doctor_experience  patient_anatomy_chest area  \\\n",
       "count   520.000000                    520.000000                  520.000000   \n",
       "mean     24.838462                      8.925000                    0.090385   \n",
       "std       8.744107                      5.063009                    0.287008   \n",
       "min      10.000000                      1.000000                    0.000000   \n",
       "25%      17.000000                      4.000000                    0.000000   \n",
       "50%      24.500000                      8.000000                    0.000000   \n",
       "75%      32.000000                     14.000000                    0.000000   \n",
       "max      40.000000                     18.000000                    1.000000   \n",
       "\n",
       "       patient_anatomy_head  patient_anatomy_legs  patient_anatomy_shoulder  \\\n",
       "count            520.000000            520.000000                520.000000   \n",
       "mean               0.171154              0.119231                  0.098077   \n",
       "std                0.377006              0.324372                  0.297705   \n",
       "min                0.000000              0.000000                  0.000000   \n",
       "25%                0.000000              0.000000                  0.000000   \n",
       "50%                0.000000              0.000000                  0.000000   \n",
       "75%                0.000000              0.000000                  0.000000   \n",
       "max                1.000000              1.000000                  1.000000   \n",
       "\n",
       "       patient_anatomy_stomach  ...  patient_consult_status_appointed session  \\\n",
       "count               520.000000  ...                                520.000000   \n",
       "mean                  0.209615  ...                                  0.169231   \n",
       "std                   0.407426  ...                                  0.375317   \n",
       "min                   0.000000  ...                                  0.000000   \n",
       "25%                   0.000000  ...                                  0.000000   \n",
       "50%                   0.000000  ...                                  0.000000   \n",
       "75%                   0.000000  ...                                  0.000000   \n",
       "max                   1.000000  ...                                  1.000000   \n",
       "\n",
       "       patient_consult_status_new consultation  \\\n",
       "count                               520.000000   \n",
       "mean                                  0.434615   \n",
       "std                                   0.496184   \n",
       "min                                   0.000000   \n",
       "25%                                   0.000000   \n",
       "50%                                   0.000000   \n",
       "75%                                   1.000000   \n",
       "max                                   1.000000   \n",
       "\n",
       "       patient_consult_status_under appointment  patient_community_suburban  \\\n",
       "count                                520.000000                  520.000000   \n",
       "mean                                   0.198077                    0.357692   \n",
       "std                                    0.398934                    0.479782   \n",
       "min                                    0.000000                    0.000000   \n",
       "25%                                    0.000000                    0.000000   \n",
       "50%                                    0.000000                    0.000000   \n",
       "75%                                    0.000000                    1.000000   \n",
       "max                                    1.000000                    1.000000   \n",
       "\n",
       "       patient_community_urban  patient_marital_status_Married  \\\n",
       "count               520.000000                      520.000000   \n",
       "mean                  0.317308                        0.359615   \n",
       "std                   0.465876                        0.480350   \n",
       "min                   0.000000                        0.000000   \n",
       "25%                   0.000000                        0.000000   \n",
       "50%                   0.000000                        0.000000   \n",
       "75%                   1.000000                        1.000000   \n",
       "max                   1.000000                        1.000000   \n",
       "\n",
       "       patient_marital_status_Single  patient_has_children_Yes  \\\n",
       "count                     520.000000                520.000000   \n",
       "mean                        0.267308                  0.505769   \n",
       "std                         0.442980                  0.500448   \n",
       "min                         0.000000                  0.000000   \n",
       "25%                         0.000000                  0.000000   \n",
       "50%                         0.000000                  1.000000   \n",
       "75%                         1.000000                  1.000000   \n",
       "max                         1.000000                  1.000000   \n",
       "\n",
       "       patient_has_dependent_Yes  patient_gender_Male  \n",
       "count                 520.000000           520.000000  \n",
       "mean                    0.517308             0.500000  \n",
       "std                     0.500182             0.500481  \n",
       "min                     0.000000             0.000000  \n",
       "25%                     0.000000             0.000000  \n",
       "50%                     1.000000             0.500000  \n",
       "75%                     1.000000             1.000000  \n",
       "max                     1.000000             1.000000  \n",
       "\n",
       "[8 rows x 21 columns]"
      ]
     },
     "execution_count": 41,
     "metadata": {},
     "output_type": "execute_result"
    }
   ],
   "source": [
    "simulated_dataframe.describe()"
   ]
  },
  {
   "cell_type": "code",
   "execution_count": 42,
   "metadata": {},
   "outputs": [
    {
     "data": {
      "application/vnd.plotly.v1+json": {
       "config": {
        "plotlyServerURL": "https://plot.ly"
       },
       "data": [
        {
         "alignmentgroup": "True",
         "bingroup": "x",
         "hovertemplate": "consult_cost=%{x}<br>count=%{y}<extra></extra>",
         "legendgroup": "",
         "marker": {
          "color": "#636efa",
          "pattern": {
           "shape": ""
          }
         },
         "name": "",
         "offsetgroup": "",
         "orientation": "v",
         "showlegend": false,
         "type": "histogram",
         "x": [
          1900,
          9100,
          8200,
          5600,
          1200,
          2800,
          7300,
          3300,
          6000,
          4700,
          1200,
          8400,
          7300,
          5400,
          9400,
          9400,
          5200,
          7700,
          4400,
          8900,
          3300,
          1800,
          1200,
          8400,
          1700,
          9100,
          1100,
          7300,
          8900,
          8200,
          5900,
          6800,
          2500,
          6400,
          8300,
          1700,
          3300,
          5600,
          2100,
          7900,
          3300,
          3800,
          9300,
          3500,
          2500,
          7800,
          3400,
          2600,
          7700,
          10500,
          8300,
          3000,
          1300,
          7600,
          8900,
          4000,
          1400,
          4000,
          8900,
          1300,
          1500,
          5300,
          9300,
          1300,
          3300,
          7200,
          4100,
          4700,
          6600,
          1800,
          9200,
          7000,
          9900,
          5300,
          2100,
          5200,
          8300,
          6900,
          4000,
          7600,
          6800,
          9300,
          9300,
          4700,
          5200,
          3300,
          3300,
          4200,
          9600,
          1900,
          6600,
          7700,
          4500,
          8000,
          8200,
          9900,
          8400,
          6900,
          4500,
          5200,
          10500,
          4700,
          3800,
          1100,
          9700,
          7800,
          7200,
          8300,
          4100,
          2900,
          2200,
          5400,
          4600,
          9600,
          5900,
          8300,
          4000,
          3300,
          5600,
          2200,
          2200,
          8400,
          5400,
          1200,
          8700,
          6600,
          2000,
          9900,
          10200,
          9600,
          9100,
          2500,
          1800,
          3800,
          8200,
          3500,
          6800,
          8700,
          2400,
          6900,
          1400,
          9900,
          5700,
          5300,
          1100,
          1400,
          1300,
          1200,
          1400,
          3000,
          1300,
          1100,
          7300,
          2100,
          7900,
          5900,
          2100,
          2200,
          6300,
          6400,
          6400,
          1500,
          6300,
          1400,
          8400,
          1400,
          1700,
          5300,
          7400,
          8400,
          8700,
          4100,
          4500,
          8300,
          2600,
          2400,
          9300,
          4000,
          6200,
          4800,
          1400,
          6800,
          7200,
          5300,
          7200,
          6400,
          7900,
          7300,
          8800,
          1300,
          5300,
          10200,
          1500,
          5300,
          8800,
          2500,
          3300,
          5200,
          4900,
          2000,
          9300,
          8400,
          6000,
          1100,
          2700,
          7200,
          3500,
          6000,
          4900,
          1400,
          8200,
          7400,
          5200,
          9100,
          9400,
          5300,
          7800,
          5000,
          8700,
          3500,
          1700,
          1300,
          8300,
          2100,
          9400,
          1200,
          7300,
          8800,
          8200,
          5900,
          6900,
          2400,
          6300,
          8400,
          2200,
          3300,
          5900,
          1800,
          7900,
          3500,
          4200,
          9100,
          3400,
          2700,
          7700,
          3400,
          2500,
          7800,
          10200,
          8300,
          2700,
          1300,
          7700,
          8600,
          3800,
          1500,
          4200,
          8700,
          1100,
          1300,
          5300,
          9400,
          1400,
          3400,
          7200,
          4200,
          4900,
          6200,
          2200,
          9100,
          6800,
          9600,
          5200,
          1900,
          5400,
          8200,
          6800,
          4000,
          7900,
          6800,
          9200,
          9400,
          4800,
          5200,
          3500,
          3300,
          4100,
          9600,
          1700,
          6300,
          8000,
          4500,
          7600,
          8200,
          9600,
          8400,
          6800,
          4500,
          5400,
          10500,
          5000,
          3900,
          1300,
          9600,
          8000,
          7300,
          8300,
          3900,
          2900,
          1700,
          5200,
          4500,
          9900,
          5600,
          8400,
          4200,
          3500,
          5800,
          2000,
          2100,
          8300,
          5300,
          1200,
          8800,
          6300,
          1700,
          9800,
          10300,
          9800,
          9100,
          2400,
          2100,
          4100,
          8400,
          3300,
          7000,
          8800,
          2900,
          6800,
          1300,
          9800,
          5700,
          5400,
          1400,
          1400,
          1100,
          1500,
          1500,
          3000,
          1400,
          1300,
          7200,
          1700,
          8000,
          6000,
          2100,
          1900,
          6400,
          6400,
          6600,
          1100,
          6600,
          1400,
          8200,
          1400,
          2100,
          5400,
          7300,
          8200,
          8800,
          4200,
          5000,
          8400,
          3000,
          2800,
          9400,
          4200,
          6400,
          4900,
          1300,
          6800,
          7300,
          5300,
          7300,
          6300,
          7600,
          7200,
          8600,
          1500,
          5400,
          10200,
          1500,
          5300,
          8800,
          2700,
          3300,
          5400,
          4800,
          1300,
          1200,
          8200,
          4400,
          8400,
          2500,
          8000,
          9900,
          1400,
          1200,
          7400,
          1500,
          4500,
          2900,
          1800,
          9300,
          8300,
          5800,
          1300,
          3000,
          7300,
          3400,
          5800,
          4800,
          1300,
          8400,
          7200,
          5200,
          9300,
          9100,
          5400,
          8000,
          5000,
          8900,
          3400,
          1700,
          1500,
          8400,
          2200,
          9400,
          1100,
          7200,
          8600,
          8400,
          5700,
          6800,
          2400,
          6300,
          8300,
          1700,
          3300,
          5800,
          1700,
          7700,
          3500,
          4100,
          9200,
          3300,
          2400,
          7700,
          3400,
          2400,
          7700,
          10700,
          8200,
          2600,
          1300,
          7900,
          8900,
          4000,
          1500,
          3800,
          8600,
          1400,
          1300,
          5300,
          9300,
          1200,
          3500,
          7400,
          3800,
          4400,
          6600,
          2100,
          9200,
          7000,
          9800,
          5200,
          2100,
          5300,
          8200,
          7000,
          4200,
          7600,
          7000,
          9200,
          9100,
          4700,
          5200,
          3500,
          3400,
          4000,
          9800,
          1700,
          6400,
          8000,
          4900,
          7600,
          8200,
          9800,
          8300,
          6900,
          5000,
          5300,
          10400,
          4600,
          4200,
          1200,
          9700,
          7900,
          7400,
          8400
         ],
         "xaxis": "x",
         "yaxis": "y"
        },
        {
         "alignmentgroup": "True",
         "hovertemplate": "consult_cost=%{x}<extra></extra>",
         "legendgroup": "",
         "marker": {
          "color": "#636efa"
         },
         "name": "",
         "notched": true,
         "offsetgroup": "",
         "showlegend": false,
         "type": "box",
         "x": [
          1900,
          9100,
          8200,
          5600,
          1200,
          2800,
          7300,
          3300,
          6000,
          4700,
          1200,
          8400,
          7300,
          5400,
          9400,
          9400,
          5200,
          7700,
          4400,
          8900,
          3300,
          1800,
          1200,
          8400,
          1700,
          9100,
          1100,
          7300,
          8900,
          8200,
          5900,
          6800,
          2500,
          6400,
          8300,
          1700,
          3300,
          5600,
          2100,
          7900,
          3300,
          3800,
          9300,
          3500,
          2500,
          7800,
          3400,
          2600,
          7700,
          10500,
          8300,
          3000,
          1300,
          7600,
          8900,
          4000,
          1400,
          4000,
          8900,
          1300,
          1500,
          5300,
          9300,
          1300,
          3300,
          7200,
          4100,
          4700,
          6600,
          1800,
          9200,
          7000,
          9900,
          5300,
          2100,
          5200,
          8300,
          6900,
          4000,
          7600,
          6800,
          9300,
          9300,
          4700,
          5200,
          3300,
          3300,
          4200,
          9600,
          1900,
          6600,
          7700,
          4500,
          8000,
          8200,
          9900,
          8400,
          6900,
          4500,
          5200,
          10500,
          4700,
          3800,
          1100,
          9700,
          7800,
          7200,
          8300,
          4100,
          2900,
          2200,
          5400,
          4600,
          9600,
          5900,
          8300,
          4000,
          3300,
          5600,
          2200,
          2200,
          8400,
          5400,
          1200,
          8700,
          6600,
          2000,
          9900,
          10200,
          9600,
          9100,
          2500,
          1800,
          3800,
          8200,
          3500,
          6800,
          8700,
          2400,
          6900,
          1400,
          9900,
          5700,
          5300,
          1100,
          1400,
          1300,
          1200,
          1400,
          3000,
          1300,
          1100,
          7300,
          2100,
          7900,
          5900,
          2100,
          2200,
          6300,
          6400,
          6400,
          1500,
          6300,
          1400,
          8400,
          1400,
          1700,
          5300,
          7400,
          8400,
          8700,
          4100,
          4500,
          8300,
          2600,
          2400,
          9300,
          4000,
          6200,
          4800,
          1400,
          6800,
          7200,
          5300,
          7200,
          6400,
          7900,
          7300,
          8800,
          1300,
          5300,
          10200,
          1500,
          5300,
          8800,
          2500,
          3300,
          5200,
          4900,
          2000,
          9300,
          8400,
          6000,
          1100,
          2700,
          7200,
          3500,
          6000,
          4900,
          1400,
          8200,
          7400,
          5200,
          9100,
          9400,
          5300,
          7800,
          5000,
          8700,
          3500,
          1700,
          1300,
          8300,
          2100,
          9400,
          1200,
          7300,
          8800,
          8200,
          5900,
          6900,
          2400,
          6300,
          8400,
          2200,
          3300,
          5900,
          1800,
          7900,
          3500,
          4200,
          9100,
          3400,
          2700,
          7700,
          3400,
          2500,
          7800,
          10200,
          8300,
          2700,
          1300,
          7700,
          8600,
          3800,
          1500,
          4200,
          8700,
          1100,
          1300,
          5300,
          9400,
          1400,
          3400,
          7200,
          4200,
          4900,
          6200,
          2200,
          9100,
          6800,
          9600,
          5200,
          1900,
          5400,
          8200,
          6800,
          4000,
          7900,
          6800,
          9200,
          9400,
          4800,
          5200,
          3500,
          3300,
          4100,
          9600,
          1700,
          6300,
          8000,
          4500,
          7600,
          8200,
          9600,
          8400,
          6800,
          4500,
          5400,
          10500,
          5000,
          3900,
          1300,
          9600,
          8000,
          7300,
          8300,
          3900,
          2900,
          1700,
          5200,
          4500,
          9900,
          5600,
          8400,
          4200,
          3500,
          5800,
          2000,
          2100,
          8300,
          5300,
          1200,
          8800,
          6300,
          1700,
          9800,
          10300,
          9800,
          9100,
          2400,
          2100,
          4100,
          8400,
          3300,
          7000,
          8800,
          2900,
          6800,
          1300,
          9800,
          5700,
          5400,
          1400,
          1400,
          1100,
          1500,
          1500,
          3000,
          1400,
          1300,
          7200,
          1700,
          8000,
          6000,
          2100,
          1900,
          6400,
          6400,
          6600,
          1100,
          6600,
          1400,
          8200,
          1400,
          2100,
          5400,
          7300,
          8200,
          8800,
          4200,
          5000,
          8400,
          3000,
          2800,
          9400,
          4200,
          6400,
          4900,
          1300,
          6800,
          7300,
          5300,
          7300,
          6300,
          7600,
          7200,
          8600,
          1500,
          5400,
          10200,
          1500,
          5300,
          8800,
          2700,
          3300,
          5400,
          4800,
          1300,
          1200,
          8200,
          4400,
          8400,
          2500,
          8000,
          9900,
          1400,
          1200,
          7400,
          1500,
          4500,
          2900,
          1800,
          9300,
          8300,
          5800,
          1300,
          3000,
          7300,
          3400,
          5800,
          4800,
          1300,
          8400,
          7200,
          5200,
          9300,
          9100,
          5400,
          8000,
          5000,
          8900,
          3400,
          1700,
          1500,
          8400,
          2200,
          9400,
          1100,
          7200,
          8600,
          8400,
          5700,
          6800,
          2400,
          6300,
          8300,
          1700,
          3300,
          5800,
          1700,
          7700,
          3500,
          4100,
          9200,
          3300,
          2400,
          7700,
          3400,
          2400,
          7700,
          10700,
          8200,
          2600,
          1300,
          7900,
          8900,
          4000,
          1500,
          3800,
          8600,
          1400,
          1300,
          5300,
          9300,
          1200,
          3500,
          7400,
          3800,
          4400,
          6600,
          2100,
          9200,
          7000,
          9800,
          5200,
          2100,
          5300,
          8200,
          7000,
          4200,
          7600,
          7000,
          9200,
          9100,
          4700,
          5200,
          3500,
          3400,
          4000,
          9800,
          1700,
          6400,
          8000,
          4900,
          7600,
          8200,
          9800,
          8300,
          6900,
          5000,
          5300,
          10400,
          4600,
          4200,
          1200,
          9700,
          7900,
          7400,
          8400
         ],
         "xaxis": "x2",
         "yaxis": "y2"
        }
       ],
       "layout": {
        "barmode": "relative",
        "legend": {
         "tracegroupgap": 0
        },
        "margin": {
         "t": 60
        },
        "template": {
         "data": {
          "bar": [
           {
            "error_x": {
             "color": "#2a3f5f"
            },
            "error_y": {
             "color": "#2a3f5f"
            },
            "marker": {
             "line": {
              "color": "#E5ECF6",
              "width": 0.5
             },
             "pattern": {
              "fillmode": "overlay",
              "size": 10,
              "solidity": 0.2
             }
            },
            "type": "bar"
           }
          ],
          "barpolar": [
           {
            "marker": {
             "line": {
              "color": "#E5ECF6",
              "width": 0.5
             },
             "pattern": {
              "fillmode": "overlay",
              "size": 10,
              "solidity": 0.2
             }
            },
            "type": "barpolar"
           }
          ],
          "carpet": [
           {
            "aaxis": {
             "endlinecolor": "#2a3f5f",
             "gridcolor": "white",
             "linecolor": "white",
             "minorgridcolor": "white",
             "startlinecolor": "#2a3f5f"
            },
            "baxis": {
             "endlinecolor": "#2a3f5f",
             "gridcolor": "white",
             "linecolor": "white",
             "minorgridcolor": "white",
             "startlinecolor": "#2a3f5f"
            },
            "type": "carpet"
           }
          ],
          "choropleth": [
           {
            "colorbar": {
             "outlinewidth": 0,
             "ticks": ""
            },
            "type": "choropleth"
           }
          ],
          "contour": [
           {
            "colorbar": {
             "outlinewidth": 0,
             "ticks": ""
            },
            "colorscale": [
             [
              0,
              "#0d0887"
             ],
             [
              0.1111111111111111,
              "#46039f"
             ],
             [
              0.2222222222222222,
              "#7201a8"
             ],
             [
              0.3333333333333333,
              "#9c179e"
             ],
             [
              0.4444444444444444,
              "#bd3786"
             ],
             [
              0.5555555555555556,
              "#d8576b"
             ],
             [
              0.6666666666666666,
              "#ed7953"
             ],
             [
              0.7777777777777778,
              "#fb9f3a"
             ],
             [
              0.8888888888888888,
              "#fdca26"
             ],
             [
              1,
              "#f0f921"
             ]
            ],
            "type": "contour"
           }
          ],
          "contourcarpet": [
           {
            "colorbar": {
             "outlinewidth": 0,
             "ticks": ""
            },
            "type": "contourcarpet"
           }
          ],
          "heatmap": [
           {
            "colorbar": {
             "outlinewidth": 0,
             "ticks": ""
            },
            "colorscale": [
             [
              0,
              "#0d0887"
             ],
             [
              0.1111111111111111,
              "#46039f"
             ],
             [
              0.2222222222222222,
              "#7201a8"
             ],
             [
              0.3333333333333333,
              "#9c179e"
             ],
             [
              0.4444444444444444,
              "#bd3786"
             ],
             [
              0.5555555555555556,
              "#d8576b"
             ],
             [
              0.6666666666666666,
              "#ed7953"
             ],
             [
              0.7777777777777778,
              "#fb9f3a"
             ],
             [
              0.8888888888888888,
              "#fdca26"
             ],
             [
              1,
              "#f0f921"
             ]
            ],
            "type": "heatmap"
           }
          ],
          "heatmapgl": [
           {
            "colorbar": {
             "outlinewidth": 0,
             "ticks": ""
            },
            "colorscale": [
             [
              0,
              "#0d0887"
             ],
             [
              0.1111111111111111,
              "#46039f"
             ],
             [
              0.2222222222222222,
              "#7201a8"
             ],
             [
              0.3333333333333333,
              "#9c179e"
             ],
             [
              0.4444444444444444,
              "#bd3786"
             ],
             [
              0.5555555555555556,
              "#d8576b"
             ],
             [
              0.6666666666666666,
              "#ed7953"
             ],
             [
              0.7777777777777778,
              "#fb9f3a"
             ],
             [
              0.8888888888888888,
              "#fdca26"
             ],
             [
              1,
              "#f0f921"
             ]
            ],
            "type": "heatmapgl"
           }
          ],
          "histogram": [
           {
            "marker": {
             "pattern": {
              "fillmode": "overlay",
              "size": 10,
              "solidity": 0.2
             }
            },
            "type": "histogram"
           }
          ],
          "histogram2d": [
           {
            "colorbar": {
             "outlinewidth": 0,
             "ticks": ""
            },
            "colorscale": [
             [
              0,
              "#0d0887"
             ],
             [
              0.1111111111111111,
              "#46039f"
             ],
             [
              0.2222222222222222,
              "#7201a8"
             ],
             [
              0.3333333333333333,
              "#9c179e"
             ],
             [
              0.4444444444444444,
              "#bd3786"
             ],
             [
              0.5555555555555556,
              "#d8576b"
             ],
             [
              0.6666666666666666,
              "#ed7953"
             ],
             [
              0.7777777777777778,
              "#fb9f3a"
             ],
             [
              0.8888888888888888,
              "#fdca26"
             ],
             [
              1,
              "#f0f921"
             ]
            ],
            "type": "histogram2d"
           }
          ],
          "histogram2dcontour": [
           {
            "colorbar": {
             "outlinewidth": 0,
             "ticks": ""
            },
            "colorscale": [
             [
              0,
              "#0d0887"
             ],
             [
              0.1111111111111111,
              "#46039f"
             ],
             [
              0.2222222222222222,
              "#7201a8"
             ],
             [
              0.3333333333333333,
              "#9c179e"
             ],
             [
              0.4444444444444444,
              "#bd3786"
             ],
             [
              0.5555555555555556,
              "#d8576b"
             ],
             [
              0.6666666666666666,
              "#ed7953"
             ],
             [
              0.7777777777777778,
              "#fb9f3a"
             ],
             [
              0.8888888888888888,
              "#fdca26"
             ],
             [
              1,
              "#f0f921"
             ]
            ],
            "type": "histogram2dcontour"
           }
          ],
          "mesh3d": [
           {
            "colorbar": {
             "outlinewidth": 0,
             "ticks": ""
            },
            "type": "mesh3d"
           }
          ],
          "parcoords": [
           {
            "line": {
             "colorbar": {
              "outlinewidth": 0,
              "ticks": ""
             }
            },
            "type": "parcoords"
           }
          ],
          "pie": [
           {
            "automargin": true,
            "type": "pie"
           }
          ],
          "scatter": [
           {
            "fillpattern": {
             "fillmode": "overlay",
             "size": 10,
             "solidity": 0.2
            },
            "type": "scatter"
           }
          ],
          "scatter3d": [
           {
            "line": {
             "colorbar": {
              "outlinewidth": 0,
              "ticks": ""
             }
            },
            "marker": {
             "colorbar": {
              "outlinewidth": 0,
              "ticks": ""
             }
            },
            "type": "scatter3d"
           }
          ],
          "scattercarpet": [
           {
            "marker": {
             "colorbar": {
              "outlinewidth": 0,
              "ticks": ""
             }
            },
            "type": "scattercarpet"
           }
          ],
          "scattergeo": [
           {
            "marker": {
             "colorbar": {
              "outlinewidth": 0,
              "ticks": ""
             }
            },
            "type": "scattergeo"
           }
          ],
          "scattergl": [
           {
            "marker": {
             "colorbar": {
              "outlinewidth": 0,
              "ticks": ""
             }
            },
            "type": "scattergl"
           }
          ],
          "scattermapbox": [
           {
            "marker": {
             "colorbar": {
              "outlinewidth": 0,
              "ticks": ""
             }
            },
            "type": "scattermapbox"
           }
          ],
          "scatterpolar": [
           {
            "marker": {
             "colorbar": {
              "outlinewidth": 0,
              "ticks": ""
             }
            },
            "type": "scatterpolar"
           }
          ],
          "scatterpolargl": [
           {
            "marker": {
             "colorbar": {
              "outlinewidth": 0,
              "ticks": ""
             }
            },
            "type": "scatterpolargl"
           }
          ],
          "scatterternary": [
           {
            "marker": {
             "colorbar": {
              "outlinewidth": 0,
              "ticks": ""
             }
            },
            "type": "scatterternary"
           }
          ],
          "surface": [
           {
            "colorbar": {
             "outlinewidth": 0,
             "ticks": ""
            },
            "colorscale": [
             [
              0,
              "#0d0887"
             ],
             [
              0.1111111111111111,
              "#46039f"
             ],
             [
              0.2222222222222222,
              "#7201a8"
             ],
             [
              0.3333333333333333,
              "#9c179e"
             ],
             [
              0.4444444444444444,
              "#bd3786"
             ],
             [
              0.5555555555555556,
              "#d8576b"
             ],
             [
              0.6666666666666666,
              "#ed7953"
             ],
             [
              0.7777777777777778,
              "#fb9f3a"
             ],
             [
              0.8888888888888888,
              "#fdca26"
             ],
             [
              1,
              "#f0f921"
             ]
            ],
            "type": "surface"
           }
          ],
          "table": [
           {
            "cells": {
             "fill": {
              "color": "#EBF0F8"
             },
             "line": {
              "color": "white"
             }
            },
            "header": {
             "fill": {
              "color": "#C8D4E3"
             },
             "line": {
              "color": "white"
             }
            },
            "type": "table"
           }
          ]
         },
         "layout": {
          "annotationdefaults": {
           "arrowcolor": "#2a3f5f",
           "arrowhead": 0,
           "arrowwidth": 1
          },
          "autotypenumbers": "strict",
          "coloraxis": {
           "colorbar": {
            "outlinewidth": 0,
            "ticks": ""
           }
          },
          "colorscale": {
           "diverging": [
            [
             0,
             "#8e0152"
            ],
            [
             0.1,
             "#c51b7d"
            ],
            [
             0.2,
             "#de77ae"
            ],
            [
             0.3,
             "#f1b6da"
            ],
            [
             0.4,
             "#fde0ef"
            ],
            [
             0.5,
             "#f7f7f7"
            ],
            [
             0.6,
             "#e6f5d0"
            ],
            [
             0.7,
             "#b8e186"
            ],
            [
             0.8,
             "#7fbc41"
            ],
            [
             0.9,
             "#4d9221"
            ],
            [
             1,
             "#276419"
            ]
           ],
           "sequential": [
            [
             0,
             "#0d0887"
            ],
            [
             0.1111111111111111,
             "#46039f"
            ],
            [
             0.2222222222222222,
             "#7201a8"
            ],
            [
             0.3333333333333333,
             "#9c179e"
            ],
            [
             0.4444444444444444,
             "#bd3786"
            ],
            [
             0.5555555555555556,
             "#d8576b"
            ],
            [
             0.6666666666666666,
             "#ed7953"
            ],
            [
             0.7777777777777778,
             "#fb9f3a"
            ],
            [
             0.8888888888888888,
             "#fdca26"
            ],
            [
             1,
             "#f0f921"
            ]
           ],
           "sequentialminus": [
            [
             0,
             "#0d0887"
            ],
            [
             0.1111111111111111,
             "#46039f"
            ],
            [
             0.2222222222222222,
             "#7201a8"
            ],
            [
             0.3333333333333333,
             "#9c179e"
            ],
            [
             0.4444444444444444,
             "#bd3786"
            ],
            [
             0.5555555555555556,
             "#d8576b"
            ],
            [
             0.6666666666666666,
             "#ed7953"
            ],
            [
             0.7777777777777778,
             "#fb9f3a"
            ],
            [
             0.8888888888888888,
             "#fdca26"
            ],
            [
             1,
             "#f0f921"
            ]
           ]
          },
          "colorway": [
           "#636efa",
           "#EF553B",
           "#00cc96",
           "#ab63fa",
           "#FFA15A",
           "#19d3f3",
           "#FF6692",
           "#B6E880",
           "#FF97FF",
           "#FECB52"
          ],
          "font": {
           "color": "#2a3f5f"
          },
          "geo": {
           "bgcolor": "white",
           "lakecolor": "white",
           "landcolor": "#E5ECF6",
           "showlakes": true,
           "showland": true,
           "subunitcolor": "white"
          },
          "hoverlabel": {
           "align": "left"
          },
          "hovermode": "closest",
          "mapbox": {
           "style": "light"
          },
          "paper_bgcolor": "white",
          "plot_bgcolor": "#E5ECF6",
          "polar": {
           "angularaxis": {
            "gridcolor": "white",
            "linecolor": "white",
            "ticks": ""
           },
           "bgcolor": "#E5ECF6",
           "radialaxis": {
            "gridcolor": "white",
            "linecolor": "white",
            "ticks": ""
           }
          },
          "scene": {
           "xaxis": {
            "backgroundcolor": "#E5ECF6",
            "gridcolor": "white",
            "gridwidth": 2,
            "linecolor": "white",
            "showbackground": true,
            "ticks": "",
            "zerolinecolor": "white"
           },
           "yaxis": {
            "backgroundcolor": "#E5ECF6",
            "gridcolor": "white",
            "gridwidth": 2,
            "linecolor": "white",
            "showbackground": true,
            "ticks": "",
            "zerolinecolor": "white"
           },
           "zaxis": {
            "backgroundcolor": "#E5ECF6",
            "gridcolor": "white",
            "gridwidth": 2,
            "linecolor": "white",
            "showbackground": true,
            "ticks": "",
            "zerolinecolor": "white"
           }
          },
          "shapedefaults": {
           "line": {
            "color": "#2a3f5f"
           }
          },
          "ternary": {
           "aaxis": {
            "gridcolor": "white",
            "linecolor": "white",
            "ticks": ""
           },
           "baxis": {
            "gridcolor": "white",
            "linecolor": "white",
            "ticks": ""
           },
           "bgcolor": "#E5ECF6",
           "caxis": {
            "gridcolor": "white",
            "linecolor": "white",
            "ticks": ""
           }
          },
          "title": {
           "x": 0.05
          },
          "xaxis": {
           "automargin": true,
           "gridcolor": "white",
           "linecolor": "white",
           "ticks": "",
           "title": {
            "standoff": 15
           },
           "zerolinecolor": "white",
           "zerolinewidth": 2
          },
          "yaxis": {
           "automargin": true,
           "gridcolor": "white",
           "linecolor": "white",
           "ticks": "",
           "title": {
            "standoff": 15
           },
           "zerolinecolor": "white",
           "zerolinewidth": 2
          }
         }
        },
        "xaxis": {
         "anchor": "y",
         "domain": [
          0,
          1
         ],
         "title": {
          "text": "consult_cost"
         }
        },
        "xaxis2": {
         "anchor": "y2",
         "domain": [
          0,
          1
         ],
         "matches": "x",
         "showgrid": true,
         "showticklabels": false
        },
        "yaxis": {
         "anchor": "x",
         "domain": [
          0,
          0.8316
         ],
         "title": {
          "text": "count"
         }
        },
        "yaxis2": {
         "anchor": "x2",
         "domain": [
          0.8416,
          1
         ],
         "matches": "y2",
         "showgrid": false,
         "showline": false,
         "showticklabels": false,
         "ticks": ""
        }
       }
      }
     },
     "metadata": {},
     "output_type": "display_data"
    }
   ],
   "source": [
    "px.histogram(simulated_dataframe, x=\"consult_cost\", marginal=\"box\")"
   ]
  },
  {
   "cell_type": "code",
   "execution_count": 43,
   "metadata": {},
   "outputs": [
    {
     "data": {
      "application/vnd.plotly.v1+json": {
       "config": {
        "plotlyServerURL": "https://plot.ly"
       },
       "data": [
        {
         "alignmentgroup": "True",
         "bingroup": "x",
         "hovertemplate": "consultant_doctor_experience=%{x}<br>count=%{y}<extra></extra>",
         "legendgroup": "",
         "marker": {
          "color": "#636efa",
          "pattern": {
           "shape": ""
          }
         },
         "name": "",
         "offsetgroup": "",
         "orientation": "v",
         "showlegend": false,
         "type": "histogram",
         "x": [
          3,
          16,
          14,
          9,
          1,
          4,
          13,
          5,
          9,
          7,
          2,
          14,
          12,
          8,
          16,
          17,
          8,
          13,
          7,
          15,
          5,
          3,
          3,
          14,
          4,
          16,
          3,
          12,
          15,
          15,
          9,
          11,
          5,
          10,
          14,
          3,
          5,
          9,
          3,
          13,
          5,
          6,
          17,
          5,
          4,
          13,
          5,
          4,
          13,
          18,
          15,
          4,
          2,
          14,
          16,
          6,
          1,
          6,
          15,
          1,
          2,
          8,
          16,
          2,
          5,
          12,
          6,
          7,
          10,
          3,
          16,
          11,
          17,
          8,
          3,
          8,
          14,
          11,
          6,
          13,
          11,
          16,
          16,
          7,
          8,
          5,
          6,
          6,
          17,
          3,
          10,
          13,
          8,
          14,
          14,
          17,
          14,
          11,
          7,
          8,
          18,
          7,
          6,
          2,
          17,
          13,
          12,
          14,
          6,
          4,
          3,
          8,
          7,
          17,
          9,
          15,
          6,
          5,
          9,
          3,
          4,
          15,
          8,
          1,
          15,
          11,
          4,
          17,
          18,
          17,
          16,
          4,
          3,
          6,
          14,
          5,
          11,
          15,
          4,
          11,
          2,
          18,
          10,
          8,
          1,
          2,
          1,
          2,
          2,
          5,
          1,
          2,
          12,
          3,
          13,
          9,
          3,
          3,
          10,
          10,
          10,
          2,
          10,
          3,
          14,
          1,
          3,
          8,
          12,
          14,
          15,
          6,
          7,
          14,
          4,
          4,
          16,
          6,
          10,
          7,
          1,
          11,
          12,
          9,
          13,
          10,
          14,
          12,
          15,
          3,
          8,
          18,
          3,
          8,
          15,
          4,
          5,
          8,
          7,
          3,
          16,
          14,
          9,
          1,
          4,
          13,
          5,
          9,
          7,
          2,
          14,
          12,
          8,
          16,
          17,
          8,
          13,
          7,
          15,
          5,
          3,
          3,
          14,
          4,
          16,
          3,
          12,
          15,
          15,
          9,
          11,
          5,
          10,
          14,
          3,
          5,
          9,
          3,
          13,
          5,
          6,
          17,
          5,
          4,
          13,
          5,
          4,
          13,
          18,
          15,
          4,
          2,
          14,
          16,
          6,
          1,
          6,
          15,
          1,
          2,
          8,
          16,
          2,
          5,
          12,
          6,
          7,
          10,
          3,
          16,
          11,
          17,
          8,
          3,
          8,
          14,
          11,
          6,
          13,
          11,
          16,
          16,
          7,
          8,
          5,
          6,
          6,
          17,
          3,
          10,
          13,
          8,
          14,
          14,
          17,
          14,
          11,
          7,
          8,
          18,
          7,
          6,
          2,
          17,
          13,
          12,
          14,
          6,
          4,
          3,
          8,
          7,
          17,
          9,
          15,
          6,
          5,
          9,
          3,
          4,
          15,
          8,
          1,
          15,
          11,
          4,
          17,
          18,
          17,
          16,
          4,
          3,
          6,
          14,
          5,
          11,
          15,
          4,
          11,
          2,
          18,
          10,
          8,
          1,
          2,
          1,
          2,
          2,
          5,
          1,
          2,
          12,
          3,
          13,
          9,
          3,
          3,
          10,
          10,
          10,
          2,
          10,
          3,
          14,
          1,
          3,
          8,
          12,
          14,
          15,
          6,
          7,
          14,
          4,
          4,
          16,
          6,
          10,
          7,
          1,
          11,
          12,
          9,
          13,
          10,
          14,
          12,
          15,
          3,
          8,
          18,
          3,
          8,
          15,
          4,
          5,
          8,
          7,
          2,
          1,
          14,
          7,
          14,
          4,
          14,
          18,
          1,
          2,
          12,
          2,
          7,
          4,
          3,
          16,
          14,
          9,
          1,
          4,
          13,
          5,
          9,
          7,
          2,
          14,
          12,
          8,
          16,
          17,
          8,
          13,
          7,
          15,
          5,
          3,
          3,
          14,
          4,
          16,
          3,
          12,
          15,
          15,
          9,
          11,
          5,
          10,
          14,
          3,
          5,
          9,
          3,
          13,
          5,
          6,
          17,
          5,
          4,
          13,
          5,
          4,
          13,
          18,
          15,
          4,
          2,
          14,
          16,
          6,
          1,
          6,
          15,
          1,
          2,
          8,
          16,
          2,
          5,
          12,
          6,
          7,
          10,
          3,
          16,
          11,
          17,
          8,
          3,
          8,
          14,
          11,
          6,
          13,
          11,
          16,
          16,
          7,
          8,
          5,
          6,
          6,
          17,
          3,
          10,
          13,
          8,
          14,
          14,
          17,
          14,
          11,
          7,
          8,
          18,
          7,
          6,
          2,
          17,
          13,
          12,
          14
         ],
         "xaxis": "x",
         "yaxis": "y"
        },
        {
         "alignmentgroup": "True",
         "hovertemplate": "consultant_doctor_experience=%{x}<extra></extra>",
         "legendgroup": "",
         "marker": {
          "color": "#636efa"
         },
         "name": "",
         "notched": true,
         "offsetgroup": "",
         "showlegend": false,
         "type": "box",
         "x": [
          3,
          16,
          14,
          9,
          1,
          4,
          13,
          5,
          9,
          7,
          2,
          14,
          12,
          8,
          16,
          17,
          8,
          13,
          7,
          15,
          5,
          3,
          3,
          14,
          4,
          16,
          3,
          12,
          15,
          15,
          9,
          11,
          5,
          10,
          14,
          3,
          5,
          9,
          3,
          13,
          5,
          6,
          17,
          5,
          4,
          13,
          5,
          4,
          13,
          18,
          15,
          4,
          2,
          14,
          16,
          6,
          1,
          6,
          15,
          1,
          2,
          8,
          16,
          2,
          5,
          12,
          6,
          7,
          10,
          3,
          16,
          11,
          17,
          8,
          3,
          8,
          14,
          11,
          6,
          13,
          11,
          16,
          16,
          7,
          8,
          5,
          6,
          6,
          17,
          3,
          10,
          13,
          8,
          14,
          14,
          17,
          14,
          11,
          7,
          8,
          18,
          7,
          6,
          2,
          17,
          13,
          12,
          14,
          6,
          4,
          3,
          8,
          7,
          17,
          9,
          15,
          6,
          5,
          9,
          3,
          4,
          15,
          8,
          1,
          15,
          11,
          4,
          17,
          18,
          17,
          16,
          4,
          3,
          6,
          14,
          5,
          11,
          15,
          4,
          11,
          2,
          18,
          10,
          8,
          1,
          2,
          1,
          2,
          2,
          5,
          1,
          2,
          12,
          3,
          13,
          9,
          3,
          3,
          10,
          10,
          10,
          2,
          10,
          3,
          14,
          1,
          3,
          8,
          12,
          14,
          15,
          6,
          7,
          14,
          4,
          4,
          16,
          6,
          10,
          7,
          1,
          11,
          12,
          9,
          13,
          10,
          14,
          12,
          15,
          3,
          8,
          18,
          3,
          8,
          15,
          4,
          5,
          8,
          7,
          3,
          16,
          14,
          9,
          1,
          4,
          13,
          5,
          9,
          7,
          2,
          14,
          12,
          8,
          16,
          17,
          8,
          13,
          7,
          15,
          5,
          3,
          3,
          14,
          4,
          16,
          3,
          12,
          15,
          15,
          9,
          11,
          5,
          10,
          14,
          3,
          5,
          9,
          3,
          13,
          5,
          6,
          17,
          5,
          4,
          13,
          5,
          4,
          13,
          18,
          15,
          4,
          2,
          14,
          16,
          6,
          1,
          6,
          15,
          1,
          2,
          8,
          16,
          2,
          5,
          12,
          6,
          7,
          10,
          3,
          16,
          11,
          17,
          8,
          3,
          8,
          14,
          11,
          6,
          13,
          11,
          16,
          16,
          7,
          8,
          5,
          6,
          6,
          17,
          3,
          10,
          13,
          8,
          14,
          14,
          17,
          14,
          11,
          7,
          8,
          18,
          7,
          6,
          2,
          17,
          13,
          12,
          14,
          6,
          4,
          3,
          8,
          7,
          17,
          9,
          15,
          6,
          5,
          9,
          3,
          4,
          15,
          8,
          1,
          15,
          11,
          4,
          17,
          18,
          17,
          16,
          4,
          3,
          6,
          14,
          5,
          11,
          15,
          4,
          11,
          2,
          18,
          10,
          8,
          1,
          2,
          1,
          2,
          2,
          5,
          1,
          2,
          12,
          3,
          13,
          9,
          3,
          3,
          10,
          10,
          10,
          2,
          10,
          3,
          14,
          1,
          3,
          8,
          12,
          14,
          15,
          6,
          7,
          14,
          4,
          4,
          16,
          6,
          10,
          7,
          1,
          11,
          12,
          9,
          13,
          10,
          14,
          12,
          15,
          3,
          8,
          18,
          3,
          8,
          15,
          4,
          5,
          8,
          7,
          2,
          1,
          14,
          7,
          14,
          4,
          14,
          18,
          1,
          2,
          12,
          2,
          7,
          4,
          3,
          16,
          14,
          9,
          1,
          4,
          13,
          5,
          9,
          7,
          2,
          14,
          12,
          8,
          16,
          17,
          8,
          13,
          7,
          15,
          5,
          3,
          3,
          14,
          4,
          16,
          3,
          12,
          15,
          15,
          9,
          11,
          5,
          10,
          14,
          3,
          5,
          9,
          3,
          13,
          5,
          6,
          17,
          5,
          4,
          13,
          5,
          4,
          13,
          18,
          15,
          4,
          2,
          14,
          16,
          6,
          1,
          6,
          15,
          1,
          2,
          8,
          16,
          2,
          5,
          12,
          6,
          7,
          10,
          3,
          16,
          11,
          17,
          8,
          3,
          8,
          14,
          11,
          6,
          13,
          11,
          16,
          16,
          7,
          8,
          5,
          6,
          6,
          17,
          3,
          10,
          13,
          8,
          14,
          14,
          17,
          14,
          11,
          7,
          8,
          18,
          7,
          6,
          2,
          17,
          13,
          12,
          14
         ],
         "xaxis": "x2",
         "yaxis": "y2"
        }
       ],
       "layout": {
        "barmode": "relative",
        "legend": {
         "tracegroupgap": 0
        },
        "margin": {
         "t": 60
        },
        "template": {
         "data": {
          "bar": [
           {
            "error_x": {
             "color": "#2a3f5f"
            },
            "error_y": {
             "color": "#2a3f5f"
            },
            "marker": {
             "line": {
              "color": "#E5ECF6",
              "width": 0.5
             },
             "pattern": {
              "fillmode": "overlay",
              "size": 10,
              "solidity": 0.2
             }
            },
            "type": "bar"
           }
          ],
          "barpolar": [
           {
            "marker": {
             "line": {
              "color": "#E5ECF6",
              "width": 0.5
             },
             "pattern": {
              "fillmode": "overlay",
              "size": 10,
              "solidity": 0.2
             }
            },
            "type": "barpolar"
           }
          ],
          "carpet": [
           {
            "aaxis": {
             "endlinecolor": "#2a3f5f",
             "gridcolor": "white",
             "linecolor": "white",
             "minorgridcolor": "white",
             "startlinecolor": "#2a3f5f"
            },
            "baxis": {
             "endlinecolor": "#2a3f5f",
             "gridcolor": "white",
             "linecolor": "white",
             "minorgridcolor": "white",
             "startlinecolor": "#2a3f5f"
            },
            "type": "carpet"
           }
          ],
          "choropleth": [
           {
            "colorbar": {
             "outlinewidth": 0,
             "ticks": ""
            },
            "type": "choropleth"
           }
          ],
          "contour": [
           {
            "colorbar": {
             "outlinewidth": 0,
             "ticks": ""
            },
            "colorscale": [
             [
              0,
              "#0d0887"
             ],
             [
              0.1111111111111111,
              "#46039f"
             ],
             [
              0.2222222222222222,
              "#7201a8"
             ],
             [
              0.3333333333333333,
              "#9c179e"
             ],
             [
              0.4444444444444444,
              "#bd3786"
             ],
             [
              0.5555555555555556,
              "#d8576b"
             ],
             [
              0.6666666666666666,
              "#ed7953"
             ],
             [
              0.7777777777777778,
              "#fb9f3a"
             ],
             [
              0.8888888888888888,
              "#fdca26"
             ],
             [
              1,
              "#f0f921"
             ]
            ],
            "type": "contour"
           }
          ],
          "contourcarpet": [
           {
            "colorbar": {
             "outlinewidth": 0,
             "ticks": ""
            },
            "type": "contourcarpet"
           }
          ],
          "heatmap": [
           {
            "colorbar": {
             "outlinewidth": 0,
             "ticks": ""
            },
            "colorscale": [
             [
              0,
              "#0d0887"
             ],
             [
              0.1111111111111111,
              "#46039f"
             ],
             [
              0.2222222222222222,
              "#7201a8"
             ],
             [
              0.3333333333333333,
              "#9c179e"
             ],
             [
              0.4444444444444444,
              "#bd3786"
             ],
             [
              0.5555555555555556,
              "#d8576b"
             ],
             [
              0.6666666666666666,
              "#ed7953"
             ],
             [
              0.7777777777777778,
              "#fb9f3a"
             ],
             [
              0.8888888888888888,
              "#fdca26"
             ],
             [
              1,
              "#f0f921"
             ]
            ],
            "type": "heatmap"
           }
          ],
          "heatmapgl": [
           {
            "colorbar": {
             "outlinewidth": 0,
             "ticks": ""
            },
            "colorscale": [
             [
              0,
              "#0d0887"
             ],
             [
              0.1111111111111111,
              "#46039f"
             ],
             [
              0.2222222222222222,
              "#7201a8"
             ],
             [
              0.3333333333333333,
              "#9c179e"
             ],
             [
              0.4444444444444444,
              "#bd3786"
             ],
             [
              0.5555555555555556,
              "#d8576b"
             ],
             [
              0.6666666666666666,
              "#ed7953"
             ],
             [
              0.7777777777777778,
              "#fb9f3a"
             ],
             [
              0.8888888888888888,
              "#fdca26"
             ],
             [
              1,
              "#f0f921"
             ]
            ],
            "type": "heatmapgl"
           }
          ],
          "histogram": [
           {
            "marker": {
             "pattern": {
              "fillmode": "overlay",
              "size": 10,
              "solidity": 0.2
             }
            },
            "type": "histogram"
           }
          ],
          "histogram2d": [
           {
            "colorbar": {
             "outlinewidth": 0,
             "ticks": ""
            },
            "colorscale": [
             [
              0,
              "#0d0887"
             ],
             [
              0.1111111111111111,
              "#46039f"
             ],
             [
              0.2222222222222222,
              "#7201a8"
             ],
             [
              0.3333333333333333,
              "#9c179e"
             ],
             [
              0.4444444444444444,
              "#bd3786"
             ],
             [
              0.5555555555555556,
              "#d8576b"
             ],
             [
              0.6666666666666666,
              "#ed7953"
             ],
             [
              0.7777777777777778,
              "#fb9f3a"
             ],
             [
              0.8888888888888888,
              "#fdca26"
             ],
             [
              1,
              "#f0f921"
             ]
            ],
            "type": "histogram2d"
           }
          ],
          "histogram2dcontour": [
           {
            "colorbar": {
             "outlinewidth": 0,
             "ticks": ""
            },
            "colorscale": [
             [
              0,
              "#0d0887"
             ],
             [
              0.1111111111111111,
              "#46039f"
             ],
             [
              0.2222222222222222,
              "#7201a8"
             ],
             [
              0.3333333333333333,
              "#9c179e"
             ],
             [
              0.4444444444444444,
              "#bd3786"
             ],
             [
              0.5555555555555556,
              "#d8576b"
             ],
             [
              0.6666666666666666,
              "#ed7953"
             ],
             [
              0.7777777777777778,
              "#fb9f3a"
             ],
             [
              0.8888888888888888,
              "#fdca26"
             ],
             [
              1,
              "#f0f921"
             ]
            ],
            "type": "histogram2dcontour"
           }
          ],
          "mesh3d": [
           {
            "colorbar": {
             "outlinewidth": 0,
             "ticks": ""
            },
            "type": "mesh3d"
           }
          ],
          "parcoords": [
           {
            "line": {
             "colorbar": {
              "outlinewidth": 0,
              "ticks": ""
             }
            },
            "type": "parcoords"
           }
          ],
          "pie": [
           {
            "automargin": true,
            "type": "pie"
           }
          ],
          "scatter": [
           {
            "fillpattern": {
             "fillmode": "overlay",
             "size": 10,
             "solidity": 0.2
            },
            "type": "scatter"
           }
          ],
          "scatter3d": [
           {
            "line": {
             "colorbar": {
              "outlinewidth": 0,
              "ticks": ""
             }
            },
            "marker": {
             "colorbar": {
              "outlinewidth": 0,
              "ticks": ""
             }
            },
            "type": "scatter3d"
           }
          ],
          "scattercarpet": [
           {
            "marker": {
             "colorbar": {
              "outlinewidth": 0,
              "ticks": ""
             }
            },
            "type": "scattercarpet"
           }
          ],
          "scattergeo": [
           {
            "marker": {
             "colorbar": {
              "outlinewidth": 0,
              "ticks": ""
             }
            },
            "type": "scattergeo"
           }
          ],
          "scattergl": [
           {
            "marker": {
             "colorbar": {
              "outlinewidth": 0,
              "ticks": ""
             }
            },
            "type": "scattergl"
           }
          ],
          "scattermapbox": [
           {
            "marker": {
             "colorbar": {
              "outlinewidth": 0,
              "ticks": ""
             }
            },
            "type": "scattermapbox"
           }
          ],
          "scatterpolar": [
           {
            "marker": {
             "colorbar": {
              "outlinewidth": 0,
              "ticks": ""
             }
            },
            "type": "scatterpolar"
           }
          ],
          "scatterpolargl": [
           {
            "marker": {
             "colorbar": {
              "outlinewidth": 0,
              "ticks": ""
             }
            },
            "type": "scatterpolargl"
           }
          ],
          "scatterternary": [
           {
            "marker": {
             "colorbar": {
              "outlinewidth": 0,
              "ticks": ""
             }
            },
            "type": "scatterternary"
           }
          ],
          "surface": [
           {
            "colorbar": {
             "outlinewidth": 0,
             "ticks": ""
            },
            "colorscale": [
             [
              0,
              "#0d0887"
             ],
             [
              0.1111111111111111,
              "#46039f"
             ],
             [
              0.2222222222222222,
              "#7201a8"
             ],
             [
              0.3333333333333333,
              "#9c179e"
             ],
             [
              0.4444444444444444,
              "#bd3786"
             ],
             [
              0.5555555555555556,
              "#d8576b"
             ],
             [
              0.6666666666666666,
              "#ed7953"
             ],
             [
              0.7777777777777778,
              "#fb9f3a"
             ],
             [
              0.8888888888888888,
              "#fdca26"
             ],
             [
              1,
              "#f0f921"
             ]
            ],
            "type": "surface"
           }
          ],
          "table": [
           {
            "cells": {
             "fill": {
              "color": "#EBF0F8"
             },
             "line": {
              "color": "white"
             }
            },
            "header": {
             "fill": {
              "color": "#C8D4E3"
             },
             "line": {
              "color": "white"
             }
            },
            "type": "table"
           }
          ]
         },
         "layout": {
          "annotationdefaults": {
           "arrowcolor": "#2a3f5f",
           "arrowhead": 0,
           "arrowwidth": 1
          },
          "autotypenumbers": "strict",
          "coloraxis": {
           "colorbar": {
            "outlinewidth": 0,
            "ticks": ""
           }
          },
          "colorscale": {
           "diverging": [
            [
             0,
             "#8e0152"
            ],
            [
             0.1,
             "#c51b7d"
            ],
            [
             0.2,
             "#de77ae"
            ],
            [
             0.3,
             "#f1b6da"
            ],
            [
             0.4,
             "#fde0ef"
            ],
            [
             0.5,
             "#f7f7f7"
            ],
            [
             0.6,
             "#e6f5d0"
            ],
            [
             0.7,
             "#b8e186"
            ],
            [
             0.8,
             "#7fbc41"
            ],
            [
             0.9,
             "#4d9221"
            ],
            [
             1,
             "#276419"
            ]
           ],
           "sequential": [
            [
             0,
             "#0d0887"
            ],
            [
             0.1111111111111111,
             "#46039f"
            ],
            [
             0.2222222222222222,
             "#7201a8"
            ],
            [
             0.3333333333333333,
             "#9c179e"
            ],
            [
             0.4444444444444444,
             "#bd3786"
            ],
            [
             0.5555555555555556,
             "#d8576b"
            ],
            [
             0.6666666666666666,
             "#ed7953"
            ],
            [
             0.7777777777777778,
             "#fb9f3a"
            ],
            [
             0.8888888888888888,
             "#fdca26"
            ],
            [
             1,
             "#f0f921"
            ]
           ],
           "sequentialminus": [
            [
             0,
             "#0d0887"
            ],
            [
             0.1111111111111111,
             "#46039f"
            ],
            [
             0.2222222222222222,
             "#7201a8"
            ],
            [
             0.3333333333333333,
             "#9c179e"
            ],
            [
             0.4444444444444444,
             "#bd3786"
            ],
            [
             0.5555555555555556,
             "#d8576b"
            ],
            [
             0.6666666666666666,
             "#ed7953"
            ],
            [
             0.7777777777777778,
             "#fb9f3a"
            ],
            [
             0.8888888888888888,
             "#fdca26"
            ],
            [
             1,
             "#f0f921"
            ]
           ]
          },
          "colorway": [
           "#636efa",
           "#EF553B",
           "#00cc96",
           "#ab63fa",
           "#FFA15A",
           "#19d3f3",
           "#FF6692",
           "#B6E880",
           "#FF97FF",
           "#FECB52"
          ],
          "font": {
           "color": "#2a3f5f"
          },
          "geo": {
           "bgcolor": "white",
           "lakecolor": "white",
           "landcolor": "#E5ECF6",
           "showlakes": true,
           "showland": true,
           "subunitcolor": "white"
          },
          "hoverlabel": {
           "align": "left"
          },
          "hovermode": "closest",
          "mapbox": {
           "style": "light"
          },
          "paper_bgcolor": "white",
          "plot_bgcolor": "#E5ECF6",
          "polar": {
           "angularaxis": {
            "gridcolor": "white",
            "linecolor": "white",
            "ticks": ""
           },
           "bgcolor": "#E5ECF6",
           "radialaxis": {
            "gridcolor": "white",
            "linecolor": "white",
            "ticks": ""
           }
          },
          "scene": {
           "xaxis": {
            "backgroundcolor": "#E5ECF6",
            "gridcolor": "white",
            "gridwidth": 2,
            "linecolor": "white",
            "showbackground": true,
            "ticks": "",
            "zerolinecolor": "white"
           },
           "yaxis": {
            "backgroundcolor": "#E5ECF6",
            "gridcolor": "white",
            "gridwidth": 2,
            "linecolor": "white",
            "showbackground": true,
            "ticks": "",
            "zerolinecolor": "white"
           },
           "zaxis": {
            "backgroundcolor": "#E5ECF6",
            "gridcolor": "white",
            "gridwidth": 2,
            "linecolor": "white",
            "showbackground": true,
            "ticks": "",
            "zerolinecolor": "white"
           }
          },
          "shapedefaults": {
           "line": {
            "color": "#2a3f5f"
           }
          },
          "ternary": {
           "aaxis": {
            "gridcolor": "white",
            "linecolor": "white",
            "ticks": ""
           },
           "baxis": {
            "gridcolor": "white",
            "linecolor": "white",
            "ticks": ""
           },
           "bgcolor": "#E5ECF6",
           "caxis": {
            "gridcolor": "white",
            "linecolor": "white",
            "ticks": ""
           }
          },
          "title": {
           "x": 0.05
          },
          "xaxis": {
           "automargin": true,
           "gridcolor": "white",
           "linecolor": "white",
           "ticks": "",
           "title": {
            "standoff": 15
           },
           "zerolinecolor": "white",
           "zerolinewidth": 2
          },
          "yaxis": {
           "automargin": true,
           "gridcolor": "white",
           "linecolor": "white",
           "ticks": "",
           "title": {
            "standoff": 15
           },
           "zerolinecolor": "white",
           "zerolinewidth": 2
          }
         }
        },
        "xaxis": {
         "anchor": "y",
         "domain": [
          0,
          1
         ],
         "title": {
          "text": "consultant_doctor_experience"
         }
        },
        "xaxis2": {
         "anchor": "y2",
         "domain": [
          0,
          1
         ],
         "matches": "x",
         "showgrid": true,
         "showticklabels": false
        },
        "yaxis": {
         "anchor": "x",
         "domain": [
          0,
          0.8316
         ],
         "title": {
          "text": "count"
         }
        },
        "yaxis2": {
         "anchor": "x2",
         "domain": [
          0.8416,
          1
         ],
         "matches": "y2",
         "showgrid": false,
         "showline": false,
         "showticklabels": false,
         "ticks": ""
        }
       }
      }
     },
     "metadata": {},
     "output_type": "display_data"
    }
   ],
   "source": [
    "px.histogram(simulated_dataframe, x=\"consultant_doctor_experience\", marginal=\"box\")"
   ]
  },
  {
   "cell_type": "code",
   "execution_count": 44,
   "metadata": {},
   "outputs": [
    {
     "data": {
      "application/vnd.plotly.v1+json": {
       "config": {
        "plotlyServerURL": "https://plot.ly"
       },
       "data": [
        {
         "alignmentgroup": "True",
         "bingroup": "x",
         "hovertemplate": "patient_age=%{x}<br>count=%{y}<extra></extra>",
         "legendgroup": "",
         "marker": {
          "color": "#636efa",
          "pattern": {
           "shape": ""
          }
         },
         "name": "",
         "offsetgroup": "",
         "orientation": "v",
         "showlegend": false,
         "type": "histogram",
         "x": [
          29,
          12,
          35,
          25,
          39,
          12,
          15,
          23,
          26,
          13,
          12,
          11,
          21,
          30,
          27,
          16,
          37,
          30,
          21,
          15,
          31,
          31,
          28,
          26,
          18,
          29,
          14,
          16,
          21,
          22,
          15,
          40,
          25,
          26,
          20,
          38,
          15,
          24,
          28,
          36,
          26,
          27,
          13,
          37,
          15,
          24,
          18,
          12,
          16,
          29,
          21,
          20,
          21,
          15,
          29,
          21,
          39,
          18,
          38,
          15,
          15,
          28,
          40,
          33,
          15,
          12,
          35,
          23,
          13,
          16,
          37,
          21,
          20,
          37,
          32,
          19,
          39,
          29,
          40,
          31,
          25,
          33,
          38,
          35,
          34,
          20,
          25,
          37,
          23,
          22,
          14,
          21,
          32,
          20,
          29,
          15,
          11,
          17,
          31,
          21,
          31,
          26,
          16,
          26,
          31,
          12,
          20,
          22,
          35,
          12,
          18,
          32,
          36,
          20,
          13,
          38,
          29,
          40,
          19,
          16,
          11,
          14,
          31,
          10,
          15,
          33,
          25,
          15,
          36,
          37,
          29,
          13,
          39,
          15,
          16,
          37,
          29,
          29,
          30,
          24,
          16,
          10,
          29,
          16,
          20,
          16,
          26,
          39,
          22,
          33,
          31,
          30,
          36,
          17,
          39,
          25,
          17,
          16,
          12,
          28,
          24,
          24,
          12,
          40,
          39,
          23,
          15,
          21,
          35,
          24,
          31,
          23,
          37,
          12,
          37,
          15,
          38,
          29,
          38,
          18,
          37,
          33,
          15,
          18,
          15,
          21,
          19,
          29,
          12,
          38,
          15,
          39,
          19,
          18,
          20,
          36,
          14,
          23,
          23,
          18,
          17,
          36,
          15,
          35,
          35,
          33,
          20,
          23,
          35,
          17,
          37,
          29,
          30,
          33,
          27,
          31,
          15,
          31,
          15,
          33,
          22,
          31,
          32,
          29,
          14,
          20,
          12,
          26,
          36,
          25,
          31,
          14,
          16,
          30,
          28,
          18,
          35,
          14,
          37,
          18,
          29,
          16,
          20,
          21,
          36,
          11,
          20,
          19,
          15,
          15,
          17,
          31,
          39,
          21,
          16,
          29,
          16,
          23,
          27,
          16,
          35,
          36,
          37,
          31,
          39,
          17,
          28,
          34,
          19,
          30,
          23,
          36,
          26,
          11,
          35,
          31,
          38,
          13,
          35,
          30,
          12,
          16,
          32,
          33,
          28,
          38,
          38,
          13,
          24,
          27,
          39,
          37,
          17,
          26,
          40,
          14,
          28,
          31,
          30,
          18,
          28,
          20,
          35,
          18,
          15,
          12,
          25,
          32,
          35,
          24,
          28,
          19,
          27,
          12,
          22,
          26,
          16,
          20,
          38,
          37,
          31,
          15,
          37,
          10,
          20,
          14,
          20,
          20,
          31,
          17,
          16,
          32,
          20,
          15,
          34,
          25,
          37,
          31,
          11,
          14,
          35,
          33,
          29,
          13,
          14,
          20,
          35,
          33,
          20,
          35,
          12,
          16,
          25,
          27,
          16,
          40,
          10,
          21,
          18,
          29,
          37,
          37,
          17,
          39,
          15,
          37,
          17,
          33,
          37,
          25,
          31,
          33,
          31,
          32,
          36,
          27,
          17,
          31,
          23,
          22,
          33,
          16,
          14,
          32,
          22,
          18,
          32,
          35,
          40,
          21,
          38,
          18,
          37,
          29,
          21,
          28,
          29,
          20,
          15,
          29,
          33,
          13,
          38,
          20,
          14,
          15,
          16,
          29,
          36,
          30,
          12,
          14,
          18,
          12,
          24,
          24,
          37,
          15,
          22,
          20,
          21,
          37,
          19,
          29,
          28,
          35,
          24,
          15,
          30,
          35,
          18,
          30,
          38,
          21,
          19,
          39,
          23,
          12,
          16,
          32,
          31,
          16,
          18,
          19,
          28,
          33,
          11,
          37,
          20,
          13,
          24,
          20,
          26,
          14,
          10,
          25,
          17,
          15,
          36,
          15,
          31,
          12,
          37,
          12,
          29,
          10,
          15,
          10,
          29,
          35,
          35,
          27,
          25,
          22,
          15,
          20,
          30,
          20,
          18,
          35,
          37,
          37,
          21,
          30,
          36,
          21,
          39,
          36,
          36,
          16,
          29,
          13,
          11,
          14,
          33,
          39,
          39,
          21,
          35,
          36,
          35,
          17,
          20,
          12,
          20,
          19,
          20,
          16,
          32,
          31,
          29,
          25,
          32,
          27,
          27,
          24,
          19,
          15,
          29,
          10
         ],
         "xaxis": "x",
         "yaxis": "y"
        },
        {
         "alignmentgroup": "True",
         "hovertemplate": "patient_age=%{x}<extra></extra>",
         "legendgroup": "",
         "marker": {
          "color": "#636efa"
         },
         "name": "",
         "notched": true,
         "offsetgroup": "",
         "showlegend": false,
         "type": "box",
         "x": [
          29,
          12,
          35,
          25,
          39,
          12,
          15,
          23,
          26,
          13,
          12,
          11,
          21,
          30,
          27,
          16,
          37,
          30,
          21,
          15,
          31,
          31,
          28,
          26,
          18,
          29,
          14,
          16,
          21,
          22,
          15,
          40,
          25,
          26,
          20,
          38,
          15,
          24,
          28,
          36,
          26,
          27,
          13,
          37,
          15,
          24,
          18,
          12,
          16,
          29,
          21,
          20,
          21,
          15,
          29,
          21,
          39,
          18,
          38,
          15,
          15,
          28,
          40,
          33,
          15,
          12,
          35,
          23,
          13,
          16,
          37,
          21,
          20,
          37,
          32,
          19,
          39,
          29,
          40,
          31,
          25,
          33,
          38,
          35,
          34,
          20,
          25,
          37,
          23,
          22,
          14,
          21,
          32,
          20,
          29,
          15,
          11,
          17,
          31,
          21,
          31,
          26,
          16,
          26,
          31,
          12,
          20,
          22,
          35,
          12,
          18,
          32,
          36,
          20,
          13,
          38,
          29,
          40,
          19,
          16,
          11,
          14,
          31,
          10,
          15,
          33,
          25,
          15,
          36,
          37,
          29,
          13,
          39,
          15,
          16,
          37,
          29,
          29,
          30,
          24,
          16,
          10,
          29,
          16,
          20,
          16,
          26,
          39,
          22,
          33,
          31,
          30,
          36,
          17,
          39,
          25,
          17,
          16,
          12,
          28,
          24,
          24,
          12,
          40,
          39,
          23,
          15,
          21,
          35,
          24,
          31,
          23,
          37,
          12,
          37,
          15,
          38,
          29,
          38,
          18,
          37,
          33,
          15,
          18,
          15,
          21,
          19,
          29,
          12,
          38,
          15,
          39,
          19,
          18,
          20,
          36,
          14,
          23,
          23,
          18,
          17,
          36,
          15,
          35,
          35,
          33,
          20,
          23,
          35,
          17,
          37,
          29,
          30,
          33,
          27,
          31,
          15,
          31,
          15,
          33,
          22,
          31,
          32,
          29,
          14,
          20,
          12,
          26,
          36,
          25,
          31,
          14,
          16,
          30,
          28,
          18,
          35,
          14,
          37,
          18,
          29,
          16,
          20,
          21,
          36,
          11,
          20,
          19,
          15,
          15,
          17,
          31,
          39,
          21,
          16,
          29,
          16,
          23,
          27,
          16,
          35,
          36,
          37,
          31,
          39,
          17,
          28,
          34,
          19,
          30,
          23,
          36,
          26,
          11,
          35,
          31,
          38,
          13,
          35,
          30,
          12,
          16,
          32,
          33,
          28,
          38,
          38,
          13,
          24,
          27,
          39,
          37,
          17,
          26,
          40,
          14,
          28,
          31,
          30,
          18,
          28,
          20,
          35,
          18,
          15,
          12,
          25,
          32,
          35,
          24,
          28,
          19,
          27,
          12,
          22,
          26,
          16,
          20,
          38,
          37,
          31,
          15,
          37,
          10,
          20,
          14,
          20,
          20,
          31,
          17,
          16,
          32,
          20,
          15,
          34,
          25,
          37,
          31,
          11,
          14,
          35,
          33,
          29,
          13,
          14,
          20,
          35,
          33,
          20,
          35,
          12,
          16,
          25,
          27,
          16,
          40,
          10,
          21,
          18,
          29,
          37,
          37,
          17,
          39,
          15,
          37,
          17,
          33,
          37,
          25,
          31,
          33,
          31,
          32,
          36,
          27,
          17,
          31,
          23,
          22,
          33,
          16,
          14,
          32,
          22,
          18,
          32,
          35,
          40,
          21,
          38,
          18,
          37,
          29,
          21,
          28,
          29,
          20,
          15,
          29,
          33,
          13,
          38,
          20,
          14,
          15,
          16,
          29,
          36,
          30,
          12,
          14,
          18,
          12,
          24,
          24,
          37,
          15,
          22,
          20,
          21,
          37,
          19,
          29,
          28,
          35,
          24,
          15,
          30,
          35,
          18,
          30,
          38,
          21,
          19,
          39,
          23,
          12,
          16,
          32,
          31,
          16,
          18,
          19,
          28,
          33,
          11,
          37,
          20,
          13,
          24,
          20,
          26,
          14,
          10,
          25,
          17,
          15,
          36,
          15,
          31,
          12,
          37,
          12,
          29,
          10,
          15,
          10,
          29,
          35,
          35,
          27,
          25,
          22,
          15,
          20,
          30,
          20,
          18,
          35,
          37,
          37,
          21,
          30,
          36,
          21,
          39,
          36,
          36,
          16,
          29,
          13,
          11,
          14,
          33,
          39,
          39,
          21,
          35,
          36,
          35,
          17,
          20,
          12,
          20,
          19,
          20,
          16,
          32,
          31,
          29,
          25,
          32,
          27,
          27,
          24,
          19,
          15,
          29,
          10
         ],
         "xaxis": "x2",
         "yaxis": "y2"
        }
       ],
       "layout": {
        "barmode": "relative",
        "legend": {
         "tracegroupgap": 0
        },
        "margin": {
         "t": 60
        },
        "template": {
         "data": {
          "bar": [
           {
            "error_x": {
             "color": "#2a3f5f"
            },
            "error_y": {
             "color": "#2a3f5f"
            },
            "marker": {
             "line": {
              "color": "#E5ECF6",
              "width": 0.5
             },
             "pattern": {
              "fillmode": "overlay",
              "size": 10,
              "solidity": 0.2
             }
            },
            "type": "bar"
           }
          ],
          "barpolar": [
           {
            "marker": {
             "line": {
              "color": "#E5ECF6",
              "width": 0.5
             },
             "pattern": {
              "fillmode": "overlay",
              "size": 10,
              "solidity": 0.2
             }
            },
            "type": "barpolar"
           }
          ],
          "carpet": [
           {
            "aaxis": {
             "endlinecolor": "#2a3f5f",
             "gridcolor": "white",
             "linecolor": "white",
             "minorgridcolor": "white",
             "startlinecolor": "#2a3f5f"
            },
            "baxis": {
             "endlinecolor": "#2a3f5f",
             "gridcolor": "white",
             "linecolor": "white",
             "minorgridcolor": "white",
             "startlinecolor": "#2a3f5f"
            },
            "type": "carpet"
           }
          ],
          "choropleth": [
           {
            "colorbar": {
             "outlinewidth": 0,
             "ticks": ""
            },
            "type": "choropleth"
           }
          ],
          "contour": [
           {
            "colorbar": {
             "outlinewidth": 0,
             "ticks": ""
            },
            "colorscale": [
             [
              0,
              "#0d0887"
             ],
             [
              0.1111111111111111,
              "#46039f"
             ],
             [
              0.2222222222222222,
              "#7201a8"
             ],
             [
              0.3333333333333333,
              "#9c179e"
             ],
             [
              0.4444444444444444,
              "#bd3786"
             ],
             [
              0.5555555555555556,
              "#d8576b"
             ],
             [
              0.6666666666666666,
              "#ed7953"
             ],
             [
              0.7777777777777778,
              "#fb9f3a"
             ],
             [
              0.8888888888888888,
              "#fdca26"
             ],
             [
              1,
              "#f0f921"
             ]
            ],
            "type": "contour"
           }
          ],
          "contourcarpet": [
           {
            "colorbar": {
             "outlinewidth": 0,
             "ticks": ""
            },
            "type": "contourcarpet"
           }
          ],
          "heatmap": [
           {
            "colorbar": {
             "outlinewidth": 0,
             "ticks": ""
            },
            "colorscale": [
             [
              0,
              "#0d0887"
             ],
             [
              0.1111111111111111,
              "#46039f"
             ],
             [
              0.2222222222222222,
              "#7201a8"
             ],
             [
              0.3333333333333333,
              "#9c179e"
             ],
             [
              0.4444444444444444,
              "#bd3786"
             ],
             [
              0.5555555555555556,
              "#d8576b"
             ],
             [
              0.6666666666666666,
              "#ed7953"
             ],
             [
              0.7777777777777778,
              "#fb9f3a"
             ],
             [
              0.8888888888888888,
              "#fdca26"
             ],
             [
              1,
              "#f0f921"
             ]
            ],
            "type": "heatmap"
           }
          ],
          "heatmapgl": [
           {
            "colorbar": {
             "outlinewidth": 0,
             "ticks": ""
            },
            "colorscale": [
             [
              0,
              "#0d0887"
             ],
             [
              0.1111111111111111,
              "#46039f"
             ],
             [
              0.2222222222222222,
              "#7201a8"
             ],
             [
              0.3333333333333333,
              "#9c179e"
             ],
             [
              0.4444444444444444,
              "#bd3786"
             ],
             [
              0.5555555555555556,
              "#d8576b"
             ],
             [
              0.6666666666666666,
              "#ed7953"
             ],
             [
              0.7777777777777778,
              "#fb9f3a"
             ],
             [
              0.8888888888888888,
              "#fdca26"
             ],
             [
              1,
              "#f0f921"
             ]
            ],
            "type": "heatmapgl"
           }
          ],
          "histogram": [
           {
            "marker": {
             "pattern": {
              "fillmode": "overlay",
              "size": 10,
              "solidity": 0.2
             }
            },
            "type": "histogram"
           }
          ],
          "histogram2d": [
           {
            "colorbar": {
             "outlinewidth": 0,
             "ticks": ""
            },
            "colorscale": [
             [
              0,
              "#0d0887"
             ],
             [
              0.1111111111111111,
              "#46039f"
             ],
             [
              0.2222222222222222,
              "#7201a8"
             ],
             [
              0.3333333333333333,
              "#9c179e"
             ],
             [
              0.4444444444444444,
              "#bd3786"
             ],
             [
              0.5555555555555556,
              "#d8576b"
             ],
             [
              0.6666666666666666,
              "#ed7953"
             ],
             [
              0.7777777777777778,
              "#fb9f3a"
             ],
             [
              0.8888888888888888,
              "#fdca26"
             ],
             [
              1,
              "#f0f921"
             ]
            ],
            "type": "histogram2d"
           }
          ],
          "histogram2dcontour": [
           {
            "colorbar": {
             "outlinewidth": 0,
             "ticks": ""
            },
            "colorscale": [
             [
              0,
              "#0d0887"
             ],
             [
              0.1111111111111111,
              "#46039f"
             ],
             [
              0.2222222222222222,
              "#7201a8"
             ],
             [
              0.3333333333333333,
              "#9c179e"
             ],
             [
              0.4444444444444444,
              "#bd3786"
             ],
             [
              0.5555555555555556,
              "#d8576b"
             ],
             [
              0.6666666666666666,
              "#ed7953"
             ],
             [
              0.7777777777777778,
              "#fb9f3a"
             ],
             [
              0.8888888888888888,
              "#fdca26"
             ],
             [
              1,
              "#f0f921"
             ]
            ],
            "type": "histogram2dcontour"
           }
          ],
          "mesh3d": [
           {
            "colorbar": {
             "outlinewidth": 0,
             "ticks": ""
            },
            "type": "mesh3d"
           }
          ],
          "parcoords": [
           {
            "line": {
             "colorbar": {
              "outlinewidth": 0,
              "ticks": ""
             }
            },
            "type": "parcoords"
           }
          ],
          "pie": [
           {
            "automargin": true,
            "type": "pie"
           }
          ],
          "scatter": [
           {
            "fillpattern": {
             "fillmode": "overlay",
             "size": 10,
             "solidity": 0.2
            },
            "type": "scatter"
           }
          ],
          "scatter3d": [
           {
            "line": {
             "colorbar": {
              "outlinewidth": 0,
              "ticks": ""
             }
            },
            "marker": {
             "colorbar": {
              "outlinewidth": 0,
              "ticks": ""
             }
            },
            "type": "scatter3d"
           }
          ],
          "scattercarpet": [
           {
            "marker": {
             "colorbar": {
              "outlinewidth": 0,
              "ticks": ""
             }
            },
            "type": "scattercarpet"
           }
          ],
          "scattergeo": [
           {
            "marker": {
             "colorbar": {
              "outlinewidth": 0,
              "ticks": ""
             }
            },
            "type": "scattergeo"
           }
          ],
          "scattergl": [
           {
            "marker": {
             "colorbar": {
              "outlinewidth": 0,
              "ticks": ""
             }
            },
            "type": "scattergl"
           }
          ],
          "scattermapbox": [
           {
            "marker": {
             "colorbar": {
              "outlinewidth": 0,
              "ticks": ""
             }
            },
            "type": "scattermapbox"
           }
          ],
          "scatterpolar": [
           {
            "marker": {
             "colorbar": {
              "outlinewidth": 0,
              "ticks": ""
             }
            },
            "type": "scatterpolar"
           }
          ],
          "scatterpolargl": [
           {
            "marker": {
             "colorbar": {
              "outlinewidth": 0,
              "ticks": ""
             }
            },
            "type": "scatterpolargl"
           }
          ],
          "scatterternary": [
           {
            "marker": {
             "colorbar": {
              "outlinewidth": 0,
              "ticks": ""
             }
            },
            "type": "scatterternary"
           }
          ],
          "surface": [
           {
            "colorbar": {
             "outlinewidth": 0,
             "ticks": ""
            },
            "colorscale": [
             [
              0,
              "#0d0887"
             ],
             [
              0.1111111111111111,
              "#46039f"
             ],
             [
              0.2222222222222222,
              "#7201a8"
             ],
             [
              0.3333333333333333,
              "#9c179e"
             ],
             [
              0.4444444444444444,
              "#bd3786"
             ],
             [
              0.5555555555555556,
              "#d8576b"
             ],
             [
              0.6666666666666666,
              "#ed7953"
             ],
             [
              0.7777777777777778,
              "#fb9f3a"
             ],
             [
              0.8888888888888888,
              "#fdca26"
             ],
             [
              1,
              "#f0f921"
             ]
            ],
            "type": "surface"
           }
          ],
          "table": [
           {
            "cells": {
             "fill": {
              "color": "#EBF0F8"
             },
             "line": {
              "color": "white"
             }
            },
            "header": {
             "fill": {
              "color": "#C8D4E3"
             },
             "line": {
              "color": "white"
             }
            },
            "type": "table"
           }
          ]
         },
         "layout": {
          "annotationdefaults": {
           "arrowcolor": "#2a3f5f",
           "arrowhead": 0,
           "arrowwidth": 1
          },
          "autotypenumbers": "strict",
          "coloraxis": {
           "colorbar": {
            "outlinewidth": 0,
            "ticks": ""
           }
          },
          "colorscale": {
           "diverging": [
            [
             0,
             "#8e0152"
            ],
            [
             0.1,
             "#c51b7d"
            ],
            [
             0.2,
             "#de77ae"
            ],
            [
             0.3,
             "#f1b6da"
            ],
            [
             0.4,
             "#fde0ef"
            ],
            [
             0.5,
             "#f7f7f7"
            ],
            [
             0.6,
             "#e6f5d0"
            ],
            [
             0.7,
             "#b8e186"
            ],
            [
             0.8,
             "#7fbc41"
            ],
            [
             0.9,
             "#4d9221"
            ],
            [
             1,
             "#276419"
            ]
           ],
           "sequential": [
            [
             0,
             "#0d0887"
            ],
            [
             0.1111111111111111,
             "#46039f"
            ],
            [
             0.2222222222222222,
             "#7201a8"
            ],
            [
             0.3333333333333333,
             "#9c179e"
            ],
            [
             0.4444444444444444,
             "#bd3786"
            ],
            [
             0.5555555555555556,
             "#d8576b"
            ],
            [
             0.6666666666666666,
             "#ed7953"
            ],
            [
             0.7777777777777778,
             "#fb9f3a"
            ],
            [
             0.8888888888888888,
             "#fdca26"
            ],
            [
             1,
             "#f0f921"
            ]
           ],
           "sequentialminus": [
            [
             0,
             "#0d0887"
            ],
            [
             0.1111111111111111,
             "#46039f"
            ],
            [
             0.2222222222222222,
             "#7201a8"
            ],
            [
             0.3333333333333333,
             "#9c179e"
            ],
            [
             0.4444444444444444,
             "#bd3786"
            ],
            [
             0.5555555555555556,
             "#d8576b"
            ],
            [
             0.6666666666666666,
             "#ed7953"
            ],
            [
             0.7777777777777778,
             "#fb9f3a"
            ],
            [
             0.8888888888888888,
             "#fdca26"
            ],
            [
             1,
             "#f0f921"
            ]
           ]
          },
          "colorway": [
           "#636efa",
           "#EF553B",
           "#00cc96",
           "#ab63fa",
           "#FFA15A",
           "#19d3f3",
           "#FF6692",
           "#B6E880",
           "#FF97FF",
           "#FECB52"
          ],
          "font": {
           "color": "#2a3f5f"
          },
          "geo": {
           "bgcolor": "white",
           "lakecolor": "white",
           "landcolor": "#E5ECF6",
           "showlakes": true,
           "showland": true,
           "subunitcolor": "white"
          },
          "hoverlabel": {
           "align": "left"
          },
          "hovermode": "closest",
          "mapbox": {
           "style": "light"
          },
          "paper_bgcolor": "white",
          "plot_bgcolor": "#E5ECF6",
          "polar": {
           "angularaxis": {
            "gridcolor": "white",
            "linecolor": "white",
            "ticks": ""
           },
           "bgcolor": "#E5ECF6",
           "radialaxis": {
            "gridcolor": "white",
            "linecolor": "white",
            "ticks": ""
           }
          },
          "scene": {
           "xaxis": {
            "backgroundcolor": "#E5ECF6",
            "gridcolor": "white",
            "gridwidth": 2,
            "linecolor": "white",
            "showbackground": true,
            "ticks": "",
            "zerolinecolor": "white"
           },
           "yaxis": {
            "backgroundcolor": "#E5ECF6",
            "gridcolor": "white",
            "gridwidth": 2,
            "linecolor": "white",
            "showbackground": true,
            "ticks": "",
            "zerolinecolor": "white"
           },
           "zaxis": {
            "backgroundcolor": "#E5ECF6",
            "gridcolor": "white",
            "gridwidth": 2,
            "linecolor": "white",
            "showbackground": true,
            "ticks": "",
            "zerolinecolor": "white"
           }
          },
          "shapedefaults": {
           "line": {
            "color": "#2a3f5f"
           }
          },
          "ternary": {
           "aaxis": {
            "gridcolor": "white",
            "linecolor": "white",
            "ticks": ""
           },
           "baxis": {
            "gridcolor": "white",
            "linecolor": "white",
            "ticks": ""
           },
           "bgcolor": "#E5ECF6",
           "caxis": {
            "gridcolor": "white",
            "linecolor": "white",
            "ticks": ""
           }
          },
          "title": {
           "x": 0.05
          },
          "xaxis": {
           "automargin": true,
           "gridcolor": "white",
           "linecolor": "white",
           "ticks": "",
           "title": {
            "standoff": 15
           },
           "zerolinecolor": "white",
           "zerolinewidth": 2
          },
          "yaxis": {
           "automargin": true,
           "gridcolor": "white",
           "linecolor": "white",
           "ticks": "",
           "title": {
            "standoff": 15
           },
           "zerolinecolor": "white",
           "zerolinewidth": 2
          }
         }
        },
        "xaxis": {
         "anchor": "y",
         "domain": [
          0,
          1
         ],
         "title": {
          "text": "patient_age"
         }
        },
        "xaxis2": {
         "anchor": "y2",
         "domain": [
          0,
          1
         ],
         "matches": "x",
         "showgrid": true,
         "showticklabels": false
        },
        "yaxis": {
         "anchor": "x",
         "domain": [
          0,
          0.8316
         ],
         "title": {
          "text": "count"
         }
        },
        "yaxis2": {
         "anchor": "x2",
         "domain": [
          0.8416,
          1
         ],
         "matches": "y2",
         "showgrid": false,
         "showline": false,
         "showticklabels": false,
         "ticks": ""
        }
       }
      }
     },
     "metadata": {},
     "output_type": "display_data"
    }
   ],
   "source": [
    "px.histogram(simulated_dataframe, x=\"patient_age\", marginal=\"box\")"
   ]
  },
  {
   "attachments": {},
   "cell_type": "markdown",
   "metadata": {},
   "source": [
    "#### correlation"
   ]
  },
  {
   "cell_type": "code",
   "execution_count": 45,
   "metadata": {},
   "outputs": [
    {
     "data": {
      "application/vnd.plotly.v1+json": {
       "config": {
        "plotlyServerURL": "https://plot.ly"
       },
       "data": [
        {
         "coloraxis": "coloraxis",
         "hovertemplate": "x: %{x}<br>y: %{y}<br>color: %{z}<extra></extra>",
         "name": "0",
         "texttemplate": "%{z}",
         "type": "heatmap",
         "x": [
          "consult_cost",
          "patient_num_of_children",
          "patient_num_of_dependents",
          "patient_age",
          "consultant_doctor_experience",
          "patient_anatomy_chest area",
          "patient_anatomy_head",
          "patient_anatomy_legs",
          "patient_anatomy_shoulder",
          "patient_anatomy_stomach",
          "patient_anatomy_upper chest area",
          "patient_consult_status_appointed session",
          "patient_consult_status_new consultation",
          "patient_consult_status_under appointment",
          "patient_community_suburban",
          "patient_community_urban",
          "patient_marital_status_Married",
          "patient_marital_status_Single",
          "patient_has_children_Yes",
          "patient_has_dependent_Yes",
          "patient_gender_Male"
         ],
         "xaxis": "x",
         "y": [
          "consult_cost",
          "patient_num_of_children",
          "patient_num_of_dependents",
          "patient_age",
          "consultant_doctor_experience",
          "patient_anatomy_chest area",
          "patient_anatomy_head",
          "patient_anatomy_legs",
          "patient_anatomy_shoulder",
          "patient_anatomy_stomach",
          "patient_anatomy_upper chest area",
          "patient_consult_status_appointed session",
          "patient_consult_status_new consultation",
          "patient_consult_status_under appointment",
          "patient_community_suburban",
          "patient_community_urban",
          "patient_marital_status_Married",
          "patient_marital_status_Single",
          "patient_has_children_Yes",
          "patient_has_dependent_Yes",
          "patient_gender_Male"
         ],
         "yaxis": "y",
         "z": [
          [
           1,
           -0.02899422753881196,
           0.01334534323409473,
           -0.0005368080095838863,
           0.9928156744584792,
           0.0795028181795769,
           -0.016239895389895388,
           -0.12403725146039775,
           0.025916970497716574,
           -0.00913960040876377,
           0.013268721154940715,
           -0.03740029863930756,
           0.05850765133438557,
           -0.010640395199070094,
           -0.03810567028179052,
           0.010480404127996093,
           0.03613902260856775,
           0.02220379984157619,
           -0.01993137027621163,
           -0.017668279167318036,
           -0.02619598112115887
          ],
          [
           -0.02899422753881196,
           1,
           0.3852015597787667,
           0.02950199714933981,
           -0.03800934501547313,
           0.00912590326448352,
           0.05390430805940161,
           0.07476313604791159,
           -0.047053577712760634,
           -0.08701665386784385,
           0.0652780018018433,
           -0.006667114378225829,
           -0.01692013802155106,
           0.05176204205826385,
           0.11361872346669101,
           -0.08633952118181266,
           0.25593659900397864,
           -0.6446421237863352,
           -0.024159249823579695,
           -0.03300874691550848,
           0.08504237445928532
          ],
          [
           0.01334534323409473,
           0.3852015597787667,
           1,
           0.01729345393796957,
           0.005612721389904137,
           0.06858575359877807,
           -0.030740650466229945,
           0.01216812062904027,
           -0.01177452566272942,
           0.06513770619808223,
           -0.026422260936938318,
           0.007805405438257564,
           0.0398636749526053,
           -0.02481871606024976,
           0.00044279354409063553,
           -0.13446309438101123,
           0.2758488256575782,
           -0.6936620429280099,
           -0.043467452083702215,
           0.032268677920526866,
           0.017426037309845106
          ],
          [
           -0.0005368080095838863,
           0.02950199714933981,
           0.01729345393796957,
           1,
           -0.010762982657418705,
           -0.009526076261136118,
           0.002558219552207131,
           0.022427988019188647,
           0.0852959637280622,
           0.017635527015783123,
           -0.07384042143977293,
           -0.008680192562703965,
           0.00955143156114074,
           -0.017322607195184535,
           -0.0555510811252636,
           -0.02050203438854779,
           -0.07192574522806551,
           -0.09677324398623043,
           0.05172959779662084,
           -0.09627925149534082,
           -0.1206367845608592
          ],
          [
           0.9928156744584792,
           -0.03800934501547313,
           0.005612721389904137,
           -0.010762982657418705,
           1,
           0.08157957765547846,
           -0.017488353949581852,
           -0.12359909355642973,
           0.018951017043667404,
           -0.008243087003394193,
           0.0112811281895693,
           -0.0308247599864152,
           0.05211597965346306,
           -0.007893883127420861,
           -0.043665350177165566,
           0.00765816038128697,
           0.031710110114919844,
           0.0304333177562038,
           -0.016938798678749565,
           -0.01508375691422252,
           -0.023952262102878635
          ],
          [
           0.0795028181795769,
           0.00912590326448352,
           0.06858575359877807,
           -0.009526076261136118,
           0.08157957765547846,
           1,
           -0.14324343497580017,
           -0.11597956201492435,
           -0.10394821243152366,
           -0.1623344510091893,
           -0.10394821243152366,
           -0.03494869785640952,
           -0.05989601586819564,
           0.045274282386203714,
           -0.053332807408481404,
           0.0012470298975145895,
           -0.04055709316688074,
           0.006615710156163599,
           -0.023759412353694186,
           0.022636386119267868,
           -0.006706879454586354
          ],
          [
           -0.016239895389895388,
           0.05390430805940161,
           -0.030740650466229945,
           0.002558219552207131,
           -0.017488353949581852,
           -0.14324343497580017,
           1,
           -0.16719353259687506,
           -0.1498494091684914,
           -0.2340176997987643,
           -0.14984940916849152,
           0.012779179609207771,
           0.013588220714207386,
           -0.02086714972023509,
           0.07632723087953401,
           -0.05748793642419258,
           0.08505570841224663,
           -0.009118812702042508,
           -0.0511991742743444,
           -0.010630424955393746,
           0.005105830127456255
          ],
          [
           -0.12403725146039775,
           0.07476313604791159,
           0.01216812062904027,
           0.022427988019188647,
           -0.12359909355642973,
           -0.11597956201492435,
           -0.16719353259687506,
           1,
           -0.1213282049993633,
           -0.1894765392283844,
           -0.12132820499936327,
           -0.023618370334217327,
           0.024587523281963425,
           0.02559895843594189,
           0.05971304840774785,
           -0.03408239205275083,
           -0.053126556233050834,
           -0.03450306224979679,
           0.031362719442792744,
           -0.024619383664438468,
           -0.02373730486392938
          ],
          [
           0.025916970497716574,
           -0.047053577712760634,
           -0.01177452566272942,
           0.0852959637280622,
           0.018951017043667404,
           -0.10394821243152366,
           -0.1498494091684914,
           -0.1213282049993633,
           1,
           -0.16982084781426882,
           -0.10874200426439215,
           -0.028121671667975835,
           0.036974140683023966,
           -0.017877075435099712,
           -0.043737741690588416,
           0.025246672735891314,
           -0.0315337883808152,
           0.0053665103325366064,
           0.13198760315561067,
           0.04680629714868542,
           0.01939767797829044
          ],
          [
           -0.00913960040876377,
           -0.08701665386784385,
           0.06513770619808223,
           0.017635527015783123,
           -0.008243087003394193,
           -0.1623344510091893,
           -0.2340176997987643,
           -0.1894765392283844,
           -0.16982084781426882,
           1,
           -0.1698208478142688,
           0.13298318593174016,
           -0.022617943507774158,
           -0.0425621461043805,
           -0.019600027167704256,
           0.024499285417614182,
           0.037430841378072455,
           -0.02280919778262264,
           -0.010667422723107533,
           0.04361974147893427,
           0.07086912964375153
          ],
          [
           0.013268721154940715,
           0.0652780018018433,
           -0.026422260936938318,
           -0.07384042143977293,
           0.0112811281895693,
           -0.10394821243152366,
           -0.14984940916849152,
           -0.12132820499936327,
           -0.10874200426439215,
           -0.1698208478142688,
           1,
           -0.0798549355854786,
           -0.054332421112231986,
           0.04701702038515751,
           -0.030248046744499456,
           0.06692371979196583,
           -0.0315337883808152,
           0.005366510332536637,
           -0.023204151826678864,
           -0.017891402259385836,
           -0.04526124861601105
          ],
          [
           -0.03740029863930756,
           -0.006667114378225829,
           0.007805405438257564,
           -0.008680192562703965,
           -0.0308247599864152,
           -0.03494869785640952,
           0.012779179609207771,
           -0.023618370334217327,
           -0.028121671667975835,
           0.13298318593174016,
           -0.0798549355854786,
           1,
           -0.3957127257878706,
           -0.22431072937535848,
           -0.026503482804472442,
           -0.08730876758036259,
           -0.01759331324066975,
           0.005527116050565853,
           -0.025724677921182538,
           -0.10800649644207201,
           1.1530603751121136e-17
          ],
          [
           0.05850765133438557,
           -0.01692013802155106,
           0.0398636749526053,
           0.00955143156114074,
           0.05211597965346306,
           -0.05989601586819564,
           0.013588220714207386,
           0.024587523281963425,
           0.036974140683023966,
           -0.022617943507774158,
           -0.054332421112231986,
           -0.3957127257878706,
           1,
           -0.43574372252797916,
           -0.006786235066487892,
           0.0024044028032965026,
           0.030128878629501022,
           -0.02113974594732173,
           0.036439578006073794,
           0.03950471694018495,
           -0.08534828446470354
          ],
          [
           -0.010640395199070094,
           0.05176204205826385,
           -0.02481871606024976,
           -0.017322607195184535,
           -0.007893883127420861,
           0.045274282386203714,
           -0.02086714972023509,
           0.02559895843594189,
           -0.017877075435099712,
           -0.0425621461043805,
           0.04701702038515751,
           -0.22431072937535848,
           -0.43574372252797916,
           1,
           0.001587440685920865,
           0.02402394132201971,
           0.019703556526173817,
           -0.02761399533567942,
           -0.04916441574978667,
           0.026238712519010218,
           0.043426604113387036
          ],
          [
           -0.03810567028179052,
           0.11361872346669101,
           0.00044279354409063553,
           -0.0555510811252636,
           -0.043665350177165566,
           -0.053332807408481404,
           0.07632723087953401,
           0.05971304840774785,
           -0.043737741690588416,
           -0.019600027167704256,
           -0.030248046744499456,
           -0.026503482804472442,
           -0.006786235066487892,
           0.001587440685920865,
           1,
           -0.5087577456790997,
           0.009292984502233377,
           -0.09717786892161454,
           -0.04070995757462756,
           0.06247167812245093,
           0.008024173123980485
          ],
          [
           0.010480404127996093,
           -0.08633952118181266,
           -0.13446309438101123,
           -0.02050203438854779,
           0.00765816038128697,
           0.0012470298975145895,
           -0.05748793642419258,
           -0.03408239205275083,
           0.025246672735891314,
           0.024499285417614182,
           0.06692371979196583,
           -0.08730876758036259,
           0.0024044028032965026,
           0.02402394132201971,
           -0.5087577456790997,
           1,
           0.005712418624232866,
           0.10171239428056807,
           0.07064333290278187,
           -0.12697135991879976,
           0.05371396398929653
          ],
          [
           0.03613902260856775,
           0.25593659900397864,
           0.2758488256575782,
           -0.07192574522806551,
           0.031710110114919844,
           -0.04055709316688074,
           0.08505570841224663,
           -0.053126556233050834,
           -0.0315337883808152,
           0.037430841378072455,
           -0.0315337883808152,
           -0.01759331324066975,
           0.030128878629501022,
           0.019703556526173817,
           0.009292984502233377,
           0.005712418624232866,
           1,
           -0.4526302746216681,
           0.12360409454172899,
           -0.021945676819417944,
           0.2123894545484734
          ],
          [
           0.02220379984157619,
           -0.6446421237863352,
           -0.6936620429280099,
           -0.09677324398623043,
           0.0304333177562038,
           0.006615710156163599,
           -0.009118812702042508,
           -0.03450306224979679,
           0.0053665103325366064,
           -0.02280919778262264,
           0.005366510332536637,
           0.005527116050565853,
           -0.02113974594732173,
           -0.02761399533567942,
           -0.09717786892161454,
           0.10171239428056807,
           -0.4526302746216681,
           1,
           0.04083279826737478,
           0.04429952500499358,
           -0.10863508805244428
          ],
          [
           -0.01993137027621163,
           -0.024159249823579695,
           -0.043467452083702215,
           0.05172959779662084,
           -0.016938798678749565,
           -0.023759412353694186,
           -0.0511991742743444,
           0.031362719442792744,
           0.13198760315561067,
           -0.010667422723107533,
           -0.023204151826678864,
           -0.025724677921182538,
           0.036439578006073794,
           -0.04916441574978667,
           -0.04070995757462756,
           0.07064333290278187,
           0.12360409454172899,
           0.04083279826737478,
           1,
           -0.04658427128776464,
           0.06538896834544439
          ],
          [
           -0.017668279167318036,
           -0.03300874691550848,
           0.032268677920526866,
           -0.09627925149534082,
           -0.01508375691422252,
           0.022636386119267868,
           -0.010630424955393746,
           -0.024619383664438468,
           0.04680629714868542,
           0.04361974147893427,
           -0.017891402259385836,
           -0.10800649644207201,
           0.03950471694018495,
           0.026238712519010218,
           0.06247167812245093,
           -0.12697135991879976,
           -0.021945676819417944,
           0.04429952500499358,
           -0.04658427128776464,
           1,
           -0.019242300987841434
          ],
          [
           -0.02619598112115887,
           0.08504237445928532,
           0.017426037309845106,
           -0.1206367845608592,
           -0.023952262102878635,
           -0.006706879454586354,
           0.005105830127456255,
           -0.02373730486392938,
           0.01939767797829044,
           0.07086912964375153,
           -0.04526124861601105,
           1.1530603751121136e-17,
           -0.08534828446470354,
           0.043426604113387036,
           0.008024173123980485,
           0.05371396398929653,
           0.2123894545484734,
           -0.10863508805244428,
           0.06538896834544439,
           -0.019242300987841434,
           1
          ]
         ]
        }
       ],
       "layout": {
        "coloraxis": {
         "colorscale": [
          [
           0,
           "#0d0887"
          ],
          [
           0.1111111111111111,
           "#46039f"
          ],
          [
           0.2222222222222222,
           "#7201a8"
          ],
          [
           0.3333333333333333,
           "#9c179e"
          ],
          [
           0.4444444444444444,
           "#bd3786"
          ],
          [
           0.5555555555555556,
           "#d8576b"
          ],
          [
           0.6666666666666666,
           "#ed7953"
          ],
          [
           0.7777777777777778,
           "#fb9f3a"
          ],
          [
           0.8888888888888888,
           "#fdca26"
          ],
          [
           1,
           "#f0f921"
          ]
         ]
        },
        "margin": {
         "t": 60
        },
        "template": {
         "data": {
          "bar": [
           {
            "error_x": {
             "color": "#2a3f5f"
            },
            "error_y": {
             "color": "#2a3f5f"
            },
            "marker": {
             "line": {
              "color": "#E5ECF6",
              "width": 0.5
             },
             "pattern": {
              "fillmode": "overlay",
              "size": 10,
              "solidity": 0.2
             }
            },
            "type": "bar"
           }
          ],
          "barpolar": [
           {
            "marker": {
             "line": {
              "color": "#E5ECF6",
              "width": 0.5
             },
             "pattern": {
              "fillmode": "overlay",
              "size": 10,
              "solidity": 0.2
             }
            },
            "type": "barpolar"
           }
          ],
          "carpet": [
           {
            "aaxis": {
             "endlinecolor": "#2a3f5f",
             "gridcolor": "white",
             "linecolor": "white",
             "minorgridcolor": "white",
             "startlinecolor": "#2a3f5f"
            },
            "baxis": {
             "endlinecolor": "#2a3f5f",
             "gridcolor": "white",
             "linecolor": "white",
             "minorgridcolor": "white",
             "startlinecolor": "#2a3f5f"
            },
            "type": "carpet"
           }
          ],
          "choropleth": [
           {
            "colorbar": {
             "outlinewidth": 0,
             "ticks": ""
            },
            "type": "choropleth"
           }
          ],
          "contour": [
           {
            "colorbar": {
             "outlinewidth": 0,
             "ticks": ""
            },
            "colorscale": [
             [
              0,
              "#0d0887"
             ],
             [
              0.1111111111111111,
              "#46039f"
             ],
             [
              0.2222222222222222,
              "#7201a8"
             ],
             [
              0.3333333333333333,
              "#9c179e"
             ],
             [
              0.4444444444444444,
              "#bd3786"
             ],
             [
              0.5555555555555556,
              "#d8576b"
             ],
             [
              0.6666666666666666,
              "#ed7953"
             ],
             [
              0.7777777777777778,
              "#fb9f3a"
             ],
             [
              0.8888888888888888,
              "#fdca26"
             ],
             [
              1,
              "#f0f921"
             ]
            ],
            "type": "contour"
           }
          ],
          "contourcarpet": [
           {
            "colorbar": {
             "outlinewidth": 0,
             "ticks": ""
            },
            "type": "contourcarpet"
           }
          ],
          "heatmap": [
           {
            "colorbar": {
             "outlinewidth": 0,
             "ticks": ""
            },
            "colorscale": [
             [
              0,
              "#0d0887"
             ],
             [
              0.1111111111111111,
              "#46039f"
             ],
             [
              0.2222222222222222,
              "#7201a8"
             ],
             [
              0.3333333333333333,
              "#9c179e"
             ],
             [
              0.4444444444444444,
              "#bd3786"
             ],
             [
              0.5555555555555556,
              "#d8576b"
             ],
             [
              0.6666666666666666,
              "#ed7953"
             ],
             [
              0.7777777777777778,
              "#fb9f3a"
             ],
             [
              0.8888888888888888,
              "#fdca26"
             ],
             [
              1,
              "#f0f921"
             ]
            ],
            "type": "heatmap"
           }
          ],
          "heatmapgl": [
           {
            "colorbar": {
             "outlinewidth": 0,
             "ticks": ""
            },
            "colorscale": [
             [
              0,
              "#0d0887"
             ],
             [
              0.1111111111111111,
              "#46039f"
             ],
             [
              0.2222222222222222,
              "#7201a8"
             ],
             [
              0.3333333333333333,
              "#9c179e"
             ],
             [
              0.4444444444444444,
              "#bd3786"
             ],
             [
              0.5555555555555556,
              "#d8576b"
             ],
             [
              0.6666666666666666,
              "#ed7953"
             ],
             [
              0.7777777777777778,
              "#fb9f3a"
             ],
             [
              0.8888888888888888,
              "#fdca26"
             ],
             [
              1,
              "#f0f921"
             ]
            ],
            "type": "heatmapgl"
           }
          ],
          "histogram": [
           {
            "marker": {
             "pattern": {
              "fillmode": "overlay",
              "size": 10,
              "solidity": 0.2
             }
            },
            "type": "histogram"
           }
          ],
          "histogram2d": [
           {
            "colorbar": {
             "outlinewidth": 0,
             "ticks": ""
            },
            "colorscale": [
             [
              0,
              "#0d0887"
             ],
             [
              0.1111111111111111,
              "#46039f"
             ],
             [
              0.2222222222222222,
              "#7201a8"
             ],
             [
              0.3333333333333333,
              "#9c179e"
             ],
             [
              0.4444444444444444,
              "#bd3786"
             ],
             [
              0.5555555555555556,
              "#d8576b"
             ],
             [
              0.6666666666666666,
              "#ed7953"
             ],
             [
              0.7777777777777778,
              "#fb9f3a"
             ],
             [
              0.8888888888888888,
              "#fdca26"
             ],
             [
              1,
              "#f0f921"
             ]
            ],
            "type": "histogram2d"
           }
          ],
          "histogram2dcontour": [
           {
            "colorbar": {
             "outlinewidth": 0,
             "ticks": ""
            },
            "colorscale": [
             [
              0,
              "#0d0887"
             ],
             [
              0.1111111111111111,
              "#46039f"
             ],
             [
              0.2222222222222222,
              "#7201a8"
             ],
             [
              0.3333333333333333,
              "#9c179e"
             ],
             [
              0.4444444444444444,
              "#bd3786"
             ],
             [
              0.5555555555555556,
              "#d8576b"
             ],
             [
              0.6666666666666666,
              "#ed7953"
             ],
             [
              0.7777777777777778,
              "#fb9f3a"
             ],
             [
              0.8888888888888888,
              "#fdca26"
             ],
             [
              1,
              "#f0f921"
             ]
            ],
            "type": "histogram2dcontour"
           }
          ],
          "mesh3d": [
           {
            "colorbar": {
             "outlinewidth": 0,
             "ticks": ""
            },
            "type": "mesh3d"
           }
          ],
          "parcoords": [
           {
            "line": {
             "colorbar": {
              "outlinewidth": 0,
              "ticks": ""
             }
            },
            "type": "parcoords"
           }
          ],
          "pie": [
           {
            "automargin": true,
            "type": "pie"
           }
          ],
          "scatter": [
           {
            "fillpattern": {
             "fillmode": "overlay",
             "size": 10,
             "solidity": 0.2
            },
            "type": "scatter"
           }
          ],
          "scatter3d": [
           {
            "line": {
             "colorbar": {
              "outlinewidth": 0,
              "ticks": ""
             }
            },
            "marker": {
             "colorbar": {
              "outlinewidth": 0,
              "ticks": ""
             }
            },
            "type": "scatter3d"
           }
          ],
          "scattercarpet": [
           {
            "marker": {
             "colorbar": {
              "outlinewidth": 0,
              "ticks": ""
             }
            },
            "type": "scattercarpet"
           }
          ],
          "scattergeo": [
           {
            "marker": {
             "colorbar": {
              "outlinewidth": 0,
              "ticks": ""
             }
            },
            "type": "scattergeo"
           }
          ],
          "scattergl": [
           {
            "marker": {
             "colorbar": {
              "outlinewidth": 0,
              "ticks": ""
             }
            },
            "type": "scattergl"
           }
          ],
          "scattermapbox": [
           {
            "marker": {
             "colorbar": {
              "outlinewidth": 0,
              "ticks": ""
             }
            },
            "type": "scattermapbox"
           }
          ],
          "scatterpolar": [
           {
            "marker": {
             "colorbar": {
              "outlinewidth": 0,
              "ticks": ""
             }
            },
            "type": "scatterpolar"
           }
          ],
          "scatterpolargl": [
           {
            "marker": {
             "colorbar": {
              "outlinewidth": 0,
              "ticks": ""
             }
            },
            "type": "scatterpolargl"
           }
          ],
          "scatterternary": [
           {
            "marker": {
             "colorbar": {
              "outlinewidth": 0,
              "ticks": ""
             }
            },
            "type": "scatterternary"
           }
          ],
          "surface": [
           {
            "colorbar": {
             "outlinewidth": 0,
             "ticks": ""
            },
            "colorscale": [
             [
              0,
              "#0d0887"
             ],
             [
              0.1111111111111111,
              "#46039f"
             ],
             [
              0.2222222222222222,
              "#7201a8"
             ],
             [
              0.3333333333333333,
              "#9c179e"
             ],
             [
              0.4444444444444444,
              "#bd3786"
             ],
             [
              0.5555555555555556,
              "#d8576b"
             ],
             [
              0.6666666666666666,
              "#ed7953"
             ],
             [
              0.7777777777777778,
              "#fb9f3a"
             ],
             [
              0.8888888888888888,
              "#fdca26"
             ],
             [
              1,
              "#f0f921"
             ]
            ],
            "type": "surface"
           }
          ],
          "table": [
           {
            "cells": {
             "fill": {
              "color": "#EBF0F8"
             },
             "line": {
              "color": "white"
             }
            },
            "header": {
             "fill": {
              "color": "#C8D4E3"
             },
             "line": {
              "color": "white"
             }
            },
            "type": "table"
           }
          ]
         },
         "layout": {
          "annotationdefaults": {
           "arrowcolor": "#2a3f5f",
           "arrowhead": 0,
           "arrowwidth": 1
          },
          "autotypenumbers": "strict",
          "coloraxis": {
           "colorbar": {
            "outlinewidth": 0,
            "ticks": ""
           }
          },
          "colorscale": {
           "diverging": [
            [
             0,
             "#8e0152"
            ],
            [
             0.1,
             "#c51b7d"
            ],
            [
             0.2,
             "#de77ae"
            ],
            [
             0.3,
             "#f1b6da"
            ],
            [
             0.4,
             "#fde0ef"
            ],
            [
             0.5,
             "#f7f7f7"
            ],
            [
             0.6,
             "#e6f5d0"
            ],
            [
             0.7,
             "#b8e186"
            ],
            [
             0.8,
             "#7fbc41"
            ],
            [
             0.9,
             "#4d9221"
            ],
            [
             1,
             "#276419"
            ]
           ],
           "sequential": [
            [
             0,
             "#0d0887"
            ],
            [
             0.1111111111111111,
             "#46039f"
            ],
            [
             0.2222222222222222,
             "#7201a8"
            ],
            [
             0.3333333333333333,
             "#9c179e"
            ],
            [
             0.4444444444444444,
             "#bd3786"
            ],
            [
             0.5555555555555556,
             "#d8576b"
            ],
            [
             0.6666666666666666,
             "#ed7953"
            ],
            [
             0.7777777777777778,
             "#fb9f3a"
            ],
            [
             0.8888888888888888,
             "#fdca26"
            ],
            [
             1,
             "#f0f921"
            ]
           ],
           "sequentialminus": [
            [
             0,
             "#0d0887"
            ],
            [
             0.1111111111111111,
             "#46039f"
            ],
            [
             0.2222222222222222,
             "#7201a8"
            ],
            [
             0.3333333333333333,
             "#9c179e"
            ],
            [
             0.4444444444444444,
             "#bd3786"
            ],
            [
             0.5555555555555556,
             "#d8576b"
            ],
            [
             0.6666666666666666,
             "#ed7953"
            ],
            [
             0.7777777777777778,
             "#fb9f3a"
            ],
            [
             0.8888888888888888,
             "#fdca26"
            ],
            [
             1,
             "#f0f921"
            ]
           ]
          },
          "colorway": [
           "#636efa",
           "#EF553B",
           "#00cc96",
           "#ab63fa",
           "#FFA15A",
           "#19d3f3",
           "#FF6692",
           "#B6E880",
           "#FF97FF",
           "#FECB52"
          ],
          "font": {
           "color": "#2a3f5f"
          },
          "geo": {
           "bgcolor": "white",
           "lakecolor": "white",
           "landcolor": "#E5ECF6",
           "showlakes": true,
           "showland": true,
           "subunitcolor": "white"
          },
          "hoverlabel": {
           "align": "left"
          },
          "hovermode": "closest",
          "mapbox": {
           "style": "light"
          },
          "paper_bgcolor": "white",
          "plot_bgcolor": "#E5ECF6",
          "polar": {
           "angularaxis": {
            "gridcolor": "white",
            "linecolor": "white",
            "ticks": ""
           },
           "bgcolor": "#E5ECF6",
           "radialaxis": {
            "gridcolor": "white",
            "linecolor": "white",
            "ticks": ""
           }
          },
          "scene": {
           "xaxis": {
            "backgroundcolor": "#E5ECF6",
            "gridcolor": "white",
            "gridwidth": 2,
            "linecolor": "white",
            "showbackground": true,
            "ticks": "",
            "zerolinecolor": "white"
           },
           "yaxis": {
            "backgroundcolor": "#E5ECF6",
            "gridcolor": "white",
            "gridwidth": 2,
            "linecolor": "white",
            "showbackground": true,
            "ticks": "",
            "zerolinecolor": "white"
           },
           "zaxis": {
            "backgroundcolor": "#E5ECF6",
            "gridcolor": "white",
            "gridwidth": 2,
            "linecolor": "white",
            "showbackground": true,
            "ticks": "",
            "zerolinecolor": "white"
           }
          },
          "shapedefaults": {
           "line": {
            "color": "#2a3f5f"
           }
          },
          "ternary": {
           "aaxis": {
            "gridcolor": "white",
            "linecolor": "white",
            "ticks": ""
           },
           "baxis": {
            "gridcolor": "white",
            "linecolor": "white",
            "ticks": ""
           },
           "bgcolor": "#E5ECF6",
           "caxis": {
            "gridcolor": "white",
            "linecolor": "white",
            "ticks": ""
           }
          },
          "title": {
           "x": 0.05
          },
          "xaxis": {
           "automargin": true,
           "gridcolor": "white",
           "linecolor": "white",
           "ticks": "",
           "title": {
            "standoff": 15
           },
           "zerolinecolor": "white",
           "zerolinewidth": 2
          },
          "yaxis": {
           "automargin": true,
           "gridcolor": "white",
           "linecolor": "white",
           "ticks": "",
           "title": {
            "standoff": 15
           },
           "zerolinecolor": "white",
           "zerolinewidth": 2
          }
         }
        },
        "title": {
         "text": "Correlation matrix plot of the simulated dataset"
        },
        "xaxis": {
         "anchor": "y",
         "domain": [
          0,
          1
         ]
        },
        "yaxis": {
         "anchor": "x",
         "autorange": "reversed",
         "domain": [
          0,
          1
         ]
        }
       }
      }
     },
     "metadata": {},
     "output_type": "display_data"
    }
   ],
   "source": [
    "corr = simulated_dataframe.corr()\n",
    "fig = px.imshow(corr, text_auto=True, aspect=\"auto\")\n",
    "\n",
    "# Title\n",
    "fig.update_layout(title_text=\"Correlation matrix plot of the simulated dataset\")\n",
    "\n",
    "fig.show()"
   ]
  },
  {
   "cell_type": "code",
   "execution_count": 46,
   "metadata": {},
   "outputs": [],
   "source": [
    "# use logarithm of target variable (consult_cost) to minimize outlier and mean square error(MSE) \n",
    "simulated_dataframe['consult_cost'] = np.log(simulated_dataframe['consult_cost'])"
   ]
  },
  {
   "attachments": {},
   "cell_type": "markdown",
   "metadata": {},
   "source": [
    "## Choices for Insurance Model\n",
    "        Choose a suitable machine learning predictive model that forcasts the value of the target."
   ]
  },
  {
   "attachments": {},
   "cell_type": "markdown",
   "metadata": {},
   "source": [
    "Getting the train and test datasets "
   ]
  },
  {
   "cell_type": "code",
   "execution_count": 47,
   "metadata": {},
   "outputs": [],
   "source": [
    "target_variable = 'consult_cost'\n",
    "X = simulated_dataframe.drop(target_variable, axis=1)\n",
    "\n",
    "#Apply robust scaling to explanatory variables to reduce outliers\n",
    "robust_scaler = RobustScaler()\n",
    "X = robust_scaler.fit_transform(X)  # x_new=x-median(data)/(Q3-Q1)\n",
    "\n",
    "y = simulated_dataframe[target_variable]\n",
    "x_train, x_test, y_train, y_test = train_test_split(X, y, test_size=0.2, random_state=23)"
   ]
  },
  {
   "attachments": {},
   "cell_type": "markdown",
   "metadata": {},
   "source": [
    "Preparing dataframe for model analysis"
   ]
  },
  {
   "cell_type": "code",
   "execution_count": 48,
   "metadata": {},
   "outputs": [],
   "source": [
    "mean_Model = pd.DataFrame(index=['train_MSE', 'test_MSE'], columns=['MLR', 'RF', 'KNN', 'LASSO'])\n",
    "r_Model = pd.DataFrame(index=['train_R2', 'test_R2'], columns=['MLR', 'RF', 'KNN', 'LASSO'])"
   ]
  },
  {
   "attachments": {},
   "cell_type": "markdown",
   "metadata": {},
   "source": [
    "Building models "
   ]
  },
  {
   "attachments": {},
   "cell_type": "markdown",
   "metadata": {},
   "source": [
    "    Multiple Linear Regression (MLR)"
   ]
  },
  {
   "cell_type": "code",
   "execution_count": 49,
   "metadata": {},
   "outputs": [],
   "source": [
    "# 1. Import the estimator object (model)\n",
    "from sklearn.linear_model import LinearRegression\n",
    "# 2. Create an instance of the estimator\n",
    "linear_regression = LinearRegression()\n",
    "# 3. Use the trainning data to train the estimator\n",
    "linear_regression.fit(x_train, y_train)\n",
    "# 4. Evaluate the model\n",
    "mean_Model.loc['train_MSE','MLR'] = mean_squared_error(y_pred=linear_regression.predict(x_train), y_true=y_train)\n",
    "mean_Model.loc['test_MSE','MLR'] = mean_squared_error(y_pred=linear_regression.predict(x_test), y_true=y_test)\n",
    "r_Model.loc['train_R2','MLR'] = r2_score(y_pred=linear_regression.predict(x_train), y_true=y_train)\n",
    "r_Model.loc['test_R2','MLR'] = r2_score(y_pred=linear_regression.predict(x_test), y_true=y_test)"
   ]
  },
  {
   "attachments": {},
   "cell_type": "markdown",
   "metadata": {},
   "source": [
    "    Random Forest (RF)"
   ]
  },
  {
   "cell_type": "code",
   "execution_count": 50,
   "metadata": {},
   "outputs": [],
   "source": [
    "# 1. Import the estimator object (model)\n",
    "from sklearn.ensemble import RandomForestRegressor\n",
    "# 2. Create an instance of the estimator\n",
    "RF = RandomForestRegressor(n_estimators=100, random_state=21)\n",
    "# 3. Use the trainning data to train the estimator\n",
    "RF.fit(x_train, y_train)\n",
    "# 4. Evaluate the model\n",
    "mean_Model.loc['train_MSE','RF'] = mean_squared_error(y_pred=RF.predict(x_train), y_true=y_train)\n",
    "mean_Model.loc['test_MSE','RF'] = mean_squared_error(y_pred=RF.predict(x_test), y_true=y_test)\n",
    "r_Model.loc['train_R2','RF'] = r2_score(y_pred=RF.predict(x_train), y_true=y_train)\n",
    "r_Model.loc['test_R2','RF'] = r2_score(y_pred=RF.predict(x_test), y_true=y_test)"
   ]
  },
  {
   "attachments": {},
   "cell_type": "markdown",
   "metadata": {},
   "source": [
    "    K-Nearest Neighbor (KNN)"
   ]
  },
  {
   "cell_type": "code",
   "execution_count": 51,
   "metadata": {},
   "outputs": [],
   "source": [
    "# 1. Import the estimator object (model)\n",
    "from sklearn.neighbors import KNeighborsRegressor\n",
    "# 2. Create an instance of the estimator\n",
    "knn = KNeighborsRegressor(n_neighbors=7, weights='distance', metric='euclidean', n_jobs=-1)\n",
    "# 3. Use the training data to train the estimator\n",
    "knn.fit(x_train, y_train)\n",
    "# 4. Evaluate the model\n",
    "mean_Model.loc['train_MSE','KNN'] = mean_squared_error(y_pred=knn.predict(x_train), y_true=y_train)\n",
    "mean_Model.loc['test_MSE','KNN'] = mean_squared_error(y_pred=knn.predict(x_test), y_true=y_test)\n",
    "r_Model.loc['train_R2','KNN'] = r2_score(y_pred=knn.predict(x_train), y_true=y_train)\n",
    "r_Model.loc['test_R2','KNN'] = r2_score(y_pred=knn.predict(x_test), y_true=y_test)"
   ]
  },
  {
   "attachments": {},
   "cell_type": "markdown",
   "metadata": {},
   "source": [
    "    Least Absolute Shrinkage and Selection Operator (LASSO)"
   ]
  },
  {
   "cell_type": "code",
   "execution_count": 52,
   "metadata": {},
   "outputs": [],
   "source": [
    "# 1. Import the estimator object (model)\n",
    "from sklearn.linear_model import Lasso\n",
    "# 2. Create an instance of the estimator\n",
    "lasso = Lasso(alpha=0.05)\n",
    "# 3. Use the training data to train the estimator\n",
    "lasso.fit(x_train, y_train)\n",
    "# 4. Evaluate the model\n",
    "mean_Model.loc['train_MSE','LASSO'] = mean_squared_error(y_pred=lasso.predict(x_train), y_true=y_train)\n",
    "mean_Model.loc['test_MSE','LASSO'] = mean_squared_error(y_pred=lasso.predict(x_test), y_true=y_test)\n",
    "r_Model.loc['train_R2','LASSO'] = r2_score(y_pred=lasso.predict(x_train), y_true=y_train)\n",
    "r_Model.loc['test_R2','LASSO'] = r2_score(y_pred=lasso.predict(x_test), y_true=y_test)"
   ]
  },
  {
   "cell_type": "code",
   "execution_count": 53,
   "metadata": {},
   "outputs": [
    {
     "data": {
      "text/html": [
       "<div>\n",
       "<style scoped>\n",
       "    .dataframe tbody tr th:only-of-type {\n",
       "        vertical-align: middle;\n",
       "    }\n",
       "\n",
       "    .dataframe tbody tr th {\n",
       "        vertical-align: top;\n",
       "    }\n",
       "\n",
       "    .dataframe thead th {\n",
       "        text-align: right;\n",
       "    }\n",
       "</style>\n",
       "<table border=\"1\" class=\"dataframe\">\n",
       "  <thead>\n",
       "    <tr style=\"text-align: right;\">\n",
       "      <th></th>\n",
       "      <th>MLR</th>\n",
       "      <th>RF</th>\n",
       "      <th>KNN</th>\n",
       "      <th>LASSO</th>\n",
       "    </tr>\n",
       "  </thead>\n",
       "  <tbody>\n",
       "    <tr>\n",
       "      <th>train_MSE</th>\n",
       "      <td>0.047844</td>\n",
       "      <td>0.001109</td>\n",
       "      <td>0.0</td>\n",
       "      <td>0.059509</td>\n",
       "    </tr>\n",
       "    <tr>\n",
       "      <th>test_MSE</th>\n",
       "      <td>0.053387</td>\n",
       "      <td>0.01185</td>\n",
       "      <td>0.201801</td>\n",
       "      <td>0.060107</td>\n",
       "    </tr>\n",
       "  </tbody>\n",
       "</table>\n",
       "</div>"
      ],
      "text/plain": [
       "                MLR        RF       KNN     LASSO\n",
       "train_MSE  0.047844  0.001109       0.0  0.059509\n",
       "test_MSE   0.053387   0.01185  0.201801  0.060107"
      ]
     },
     "execution_count": 53,
     "metadata": {},
     "output_type": "execute_result"
    }
   ],
   "source": [
    "mean_Model"
   ]
  },
  {
   "cell_type": "code",
   "execution_count": 54,
   "metadata": {},
   "outputs": [
    {
     "data": {
      "application/vnd.plotly.v1+json": {
       "config": {
        "plotlyServerURL": "https://plot.ly"
       },
       "data": [
        {
         "name": "train_MSE",
         "orientation": "h",
         "type": "bar",
         "x": [
          0.047843746907097334,
          0.0011091714417224676,
          4.665773617348892e-16,
          0.059508950660994944
         ],
         "y": [
          "MLR",
          "RF",
          "KNN",
          "LASSO"
         ]
        },
        {
         "name": "test_MSE",
         "orientation": "h",
         "type": "bar",
         "x": [
          0.053386594027491914,
          0.011850328427985066,
          0.2018012244843993,
          0.06010740294736902
         ],
         "y": [
          "MLR",
          "RF",
          "KNN",
          "LASSO"
         ]
        }
       ],
       "layout": {
        "barmode": "group",
        "template": {
         "data": {
          "bar": [
           {
            "error_x": {
             "color": "#2a3f5f"
            },
            "error_y": {
             "color": "#2a3f5f"
            },
            "marker": {
             "line": {
              "color": "#E5ECF6",
              "width": 0.5
             },
             "pattern": {
              "fillmode": "overlay",
              "size": 10,
              "solidity": 0.2
             }
            },
            "type": "bar"
           }
          ],
          "barpolar": [
           {
            "marker": {
             "line": {
              "color": "#E5ECF6",
              "width": 0.5
             },
             "pattern": {
              "fillmode": "overlay",
              "size": 10,
              "solidity": 0.2
             }
            },
            "type": "barpolar"
           }
          ],
          "carpet": [
           {
            "aaxis": {
             "endlinecolor": "#2a3f5f",
             "gridcolor": "white",
             "linecolor": "white",
             "minorgridcolor": "white",
             "startlinecolor": "#2a3f5f"
            },
            "baxis": {
             "endlinecolor": "#2a3f5f",
             "gridcolor": "white",
             "linecolor": "white",
             "minorgridcolor": "white",
             "startlinecolor": "#2a3f5f"
            },
            "type": "carpet"
           }
          ],
          "choropleth": [
           {
            "colorbar": {
             "outlinewidth": 0,
             "ticks": ""
            },
            "type": "choropleth"
           }
          ],
          "contour": [
           {
            "colorbar": {
             "outlinewidth": 0,
             "ticks": ""
            },
            "colorscale": [
             [
              0,
              "#0d0887"
             ],
             [
              0.1111111111111111,
              "#46039f"
             ],
             [
              0.2222222222222222,
              "#7201a8"
             ],
             [
              0.3333333333333333,
              "#9c179e"
             ],
             [
              0.4444444444444444,
              "#bd3786"
             ],
             [
              0.5555555555555556,
              "#d8576b"
             ],
             [
              0.6666666666666666,
              "#ed7953"
             ],
             [
              0.7777777777777778,
              "#fb9f3a"
             ],
             [
              0.8888888888888888,
              "#fdca26"
             ],
             [
              1,
              "#f0f921"
             ]
            ],
            "type": "contour"
           }
          ],
          "contourcarpet": [
           {
            "colorbar": {
             "outlinewidth": 0,
             "ticks": ""
            },
            "type": "contourcarpet"
           }
          ],
          "heatmap": [
           {
            "colorbar": {
             "outlinewidth": 0,
             "ticks": ""
            },
            "colorscale": [
             [
              0,
              "#0d0887"
             ],
             [
              0.1111111111111111,
              "#46039f"
             ],
             [
              0.2222222222222222,
              "#7201a8"
             ],
             [
              0.3333333333333333,
              "#9c179e"
             ],
             [
              0.4444444444444444,
              "#bd3786"
             ],
             [
              0.5555555555555556,
              "#d8576b"
             ],
             [
              0.6666666666666666,
              "#ed7953"
             ],
             [
              0.7777777777777778,
              "#fb9f3a"
             ],
             [
              0.8888888888888888,
              "#fdca26"
             ],
             [
              1,
              "#f0f921"
             ]
            ],
            "type": "heatmap"
           }
          ],
          "heatmapgl": [
           {
            "colorbar": {
             "outlinewidth": 0,
             "ticks": ""
            },
            "colorscale": [
             [
              0,
              "#0d0887"
             ],
             [
              0.1111111111111111,
              "#46039f"
             ],
             [
              0.2222222222222222,
              "#7201a8"
             ],
             [
              0.3333333333333333,
              "#9c179e"
             ],
             [
              0.4444444444444444,
              "#bd3786"
             ],
             [
              0.5555555555555556,
              "#d8576b"
             ],
             [
              0.6666666666666666,
              "#ed7953"
             ],
             [
              0.7777777777777778,
              "#fb9f3a"
             ],
             [
              0.8888888888888888,
              "#fdca26"
             ],
             [
              1,
              "#f0f921"
             ]
            ],
            "type": "heatmapgl"
           }
          ],
          "histogram": [
           {
            "marker": {
             "pattern": {
              "fillmode": "overlay",
              "size": 10,
              "solidity": 0.2
             }
            },
            "type": "histogram"
           }
          ],
          "histogram2d": [
           {
            "colorbar": {
             "outlinewidth": 0,
             "ticks": ""
            },
            "colorscale": [
             [
              0,
              "#0d0887"
             ],
             [
              0.1111111111111111,
              "#46039f"
             ],
             [
              0.2222222222222222,
              "#7201a8"
             ],
             [
              0.3333333333333333,
              "#9c179e"
             ],
             [
              0.4444444444444444,
              "#bd3786"
             ],
             [
              0.5555555555555556,
              "#d8576b"
             ],
             [
              0.6666666666666666,
              "#ed7953"
             ],
             [
              0.7777777777777778,
              "#fb9f3a"
             ],
             [
              0.8888888888888888,
              "#fdca26"
             ],
             [
              1,
              "#f0f921"
             ]
            ],
            "type": "histogram2d"
           }
          ],
          "histogram2dcontour": [
           {
            "colorbar": {
             "outlinewidth": 0,
             "ticks": ""
            },
            "colorscale": [
             [
              0,
              "#0d0887"
             ],
             [
              0.1111111111111111,
              "#46039f"
             ],
             [
              0.2222222222222222,
              "#7201a8"
             ],
             [
              0.3333333333333333,
              "#9c179e"
             ],
             [
              0.4444444444444444,
              "#bd3786"
             ],
             [
              0.5555555555555556,
              "#d8576b"
             ],
             [
              0.6666666666666666,
              "#ed7953"
             ],
             [
              0.7777777777777778,
              "#fb9f3a"
             ],
             [
              0.8888888888888888,
              "#fdca26"
             ],
             [
              1,
              "#f0f921"
             ]
            ],
            "type": "histogram2dcontour"
           }
          ],
          "mesh3d": [
           {
            "colorbar": {
             "outlinewidth": 0,
             "ticks": ""
            },
            "type": "mesh3d"
           }
          ],
          "parcoords": [
           {
            "line": {
             "colorbar": {
              "outlinewidth": 0,
              "ticks": ""
             }
            },
            "type": "parcoords"
           }
          ],
          "pie": [
           {
            "automargin": true,
            "type": "pie"
           }
          ],
          "scatter": [
           {
            "fillpattern": {
             "fillmode": "overlay",
             "size": 10,
             "solidity": 0.2
            },
            "type": "scatter"
           }
          ],
          "scatter3d": [
           {
            "line": {
             "colorbar": {
              "outlinewidth": 0,
              "ticks": ""
             }
            },
            "marker": {
             "colorbar": {
              "outlinewidth": 0,
              "ticks": ""
             }
            },
            "type": "scatter3d"
           }
          ],
          "scattercarpet": [
           {
            "marker": {
             "colorbar": {
              "outlinewidth": 0,
              "ticks": ""
             }
            },
            "type": "scattercarpet"
           }
          ],
          "scattergeo": [
           {
            "marker": {
             "colorbar": {
              "outlinewidth": 0,
              "ticks": ""
             }
            },
            "type": "scattergeo"
           }
          ],
          "scattergl": [
           {
            "marker": {
             "colorbar": {
              "outlinewidth": 0,
              "ticks": ""
             }
            },
            "type": "scattergl"
           }
          ],
          "scattermapbox": [
           {
            "marker": {
             "colorbar": {
              "outlinewidth": 0,
              "ticks": ""
             }
            },
            "type": "scattermapbox"
           }
          ],
          "scatterpolar": [
           {
            "marker": {
             "colorbar": {
              "outlinewidth": 0,
              "ticks": ""
             }
            },
            "type": "scatterpolar"
           }
          ],
          "scatterpolargl": [
           {
            "marker": {
             "colorbar": {
              "outlinewidth": 0,
              "ticks": ""
             }
            },
            "type": "scatterpolargl"
           }
          ],
          "scatterternary": [
           {
            "marker": {
             "colorbar": {
              "outlinewidth": 0,
              "ticks": ""
             }
            },
            "type": "scatterternary"
           }
          ],
          "surface": [
           {
            "colorbar": {
             "outlinewidth": 0,
             "ticks": ""
            },
            "colorscale": [
             [
              0,
              "#0d0887"
             ],
             [
              0.1111111111111111,
              "#46039f"
             ],
             [
              0.2222222222222222,
              "#7201a8"
             ],
             [
              0.3333333333333333,
              "#9c179e"
             ],
             [
              0.4444444444444444,
              "#bd3786"
             ],
             [
              0.5555555555555556,
              "#d8576b"
             ],
             [
              0.6666666666666666,
              "#ed7953"
             ],
             [
              0.7777777777777778,
              "#fb9f3a"
             ],
             [
              0.8888888888888888,
              "#fdca26"
             ],
             [
              1,
              "#f0f921"
             ]
            ],
            "type": "surface"
           }
          ],
          "table": [
           {
            "cells": {
             "fill": {
              "color": "#EBF0F8"
             },
             "line": {
              "color": "white"
             }
            },
            "header": {
             "fill": {
              "color": "#C8D4E3"
             },
             "line": {
              "color": "white"
             }
            },
            "type": "table"
           }
          ]
         },
         "layout": {
          "annotationdefaults": {
           "arrowcolor": "#2a3f5f",
           "arrowhead": 0,
           "arrowwidth": 1
          },
          "autotypenumbers": "strict",
          "coloraxis": {
           "colorbar": {
            "outlinewidth": 0,
            "ticks": ""
           }
          },
          "colorscale": {
           "diverging": [
            [
             0,
             "#8e0152"
            ],
            [
             0.1,
             "#c51b7d"
            ],
            [
             0.2,
             "#de77ae"
            ],
            [
             0.3,
             "#f1b6da"
            ],
            [
             0.4,
             "#fde0ef"
            ],
            [
             0.5,
             "#f7f7f7"
            ],
            [
             0.6,
             "#e6f5d0"
            ],
            [
             0.7,
             "#b8e186"
            ],
            [
             0.8,
             "#7fbc41"
            ],
            [
             0.9,
             "#4d9221"
            ],
            [
             1,
             "#276419"
            ]
           ],
           "sequential": [
            [
             0,
             "#0d0887"
            ],
            [
             0.1111111111111111,
             "#46039f"
            ],
            [
             0.2222222222222222,
             "#7201a8"
            ],
            [
             0.3333333333333333,
             "#9c179e"
            ],
            [
             0.4444444444444444,
             "#bd3786"
            ],
            [
             0.5555555555555556,
             "#d8576b"
            ],
            [
             0.6666666666666666,
             "#ed7953"
            ],
            [
             0.7777777777777778,
             "#fb9f3a"
            ],
            [
             0.8888888888888888,
             "#fdca26"
            ],
            [
             1,
             "#f0f921"
            ]
           ],
           "sequentialminus": [
            [
             0,
             "#0d0887"
            ],
            [
             0.1111111111111111,
             "#46039f"
            ],
            [
             0.2222222222222222,
             "#7201a8"
            ],
            [
             0.3333333333333333,
             "#9c179e"
            ],
            [
             0.4444444444444444,
             "#bd3786"
            ],
            [
             0.5555555555555556,
             "#d8576b"
            ],
            [
             0.6666666666666666,
             "#ed7953"
            ],
            [
             0.7777777777777778,
             "#fb9f3a"
            ],
            [
             0.8888888888888888,
             "#fdca26"
            ],
            [
             1,
             "#f0f921"
            ]
           ]
          },
          "colorway": [
           "#636efa",
           "#EF553B",
           "#00cc96",
           "#ab63fa",
           "#FFA15A",
           "#19d3f3",
           "#FF6692",
           "#B6E880",
           "#FF97FF",
           "#FECB52"
          ],
          "font": {
           "color": "#2a3f5f"
          },
          "geo": {
           "bgcolor": "white",
           "lakecolor": "white",
           "landcolor": "#E5ECF6",
           "showlakes": true,
           "showland": true,
           "subunitcolor": "white"
          },
          "hoverlabel": {
           "align": "left"
          },
          "hovermode": "closest",
          "mapbox": {
           "style": "light"
          },
          "paper_bgcolor": "white",
          "plot_bgcolor": "#E5ECF6",
          "polar": {
           "angularaxis": {
            "gridcolor": "white",
            "linecolor": "white",
            "ticks": ""
           },
           "bgcolor": "#E5ECF6",
           "radialaxis": {
            "gridcolor": "white",
            "linecolor": "white",
            "ticks": ""
           }
          },
          "scene": {
           "xaxis": {
            "backgroundcolor": "#E5ECF6",
            "gridcolor": "white",
            "gridwidth": 2,
            "linecolor": "white",
            "showbackground": true,
            "ticks": "",
            "zerolinecolor": "white"
           },
           "yaxis": {
            "backgroundcolor": "#E5ECF6",
            "gridcolor": "white",
            "gridwidth": 2,
            "linecolor": "white",
            "showbackground": true,
            "ticks": "",
            "zerolinecolor": "white"
           },
           "zaxis": {
            "backgroundcolor": "#E5ECF6",
            "gridcolor": "white",
            "gridwidth": 2,
            "linecolor": "white",
            "showbackground": true,
            "ticks": "",
            "zerolinecolor": "white"
           }
          },
          "shapedefaults": {
           "line": {
            "color": "#2a3f5f"
           }
          },
          "ternary": {
           "aaxis": {
            "gridcolor": "white",
            "linecolor": "white",
            "ticks": ""
           },
           "baxis": {
            "gridcolor": "white",
            "linecolor": "white",
            "ticks": ""
           },
           "bgcolor": "#E5ECF6",
           "caxis": {
            "gridcolor": "white",
            "linecolor": "white",
            "ticks": ""
           }
          },
          "title": {
           "x": 0.05
          },
          "xaxis": {
           "automargin": true,
           "gridcolor": "white",
           "linecolor": "white",
           "ticks": "",
           "title": {
            "standoff": 15
           },
           "zerolinecolor": "white",
           "zerolinewidth": 2
          },
          "yaxis": {
           "automargin": true,
           "gridcolor": "white",
           "linecolor": "white",
           "ticks": "",
           "title": {
            "standoff": 15
           },
           "zerolinecolor": "white",
           "zerolinewidth": 2
          }
         }
        },
        "title": {
         "text": "Mean square error (MSE) plot of the predictive models using train and test data"
        }
       }
      }
     },
     "metadata": {},
     "output_type": "display_data"
    }
   ],
   "source": [
    "\n",
    "y=['MLR', 'RF', 'KNN', 'LASSO'] \n",
    "x1= mean_Model.loc['train_MSE']\n",
    "x2= mean_Model.loc['test_MSE']\n",
    "\n",
    "trace1 = go.Bar(y=y, x=x1, name='train_MSE', orientation='h')\n",
    "trace2 = go.Bar(y=y, x=x2, name='test_MSE', orientation='h')\n",
    "\n",
    "data = [trace1, trace2]\n",
    "\n",
    "layout = go.Layout(barmode='group', title='Mean square error (MSE) plot of the predictive models using train and test data')\n",
    "\n",
    "fig = go.Figure(data=data, layout=layout)\n",
    "fig.show()\n"
   ]
  },
  {
   "cell_type": "code",
   "execution_count": 55,
   "metadata": {},
   "outputs": [
    {
     "data": {
      "text/html": [
       "<div>\n",
       "<style scoped>\n",
       "    .dataframe tbody tr th:only-of-type {\n",
       "        vertical-align: middle;\n",
       "    }\n",
       "\n",
       "    .dataframe tbody tr th {\n",
       "        vertical-align: top;\n",
       "    }\n",
       "\n",
       "    .dataframe thead th {\n",
       "        text-align: right;\n",
       "    }\n",
       "</style>\n",
       "<table border=\"1\" class=\"dataframe\">\n",
       "  <thead>\n",
       "    <tr style=\"text-align: right;\">\n",
       "      <th></th>\n",
       "      <th>MLR</th>\n",
       "      <th>RF</th>\n",
       "      <th>KNN</th>\n",
       "      <th>LASSO</th>\n",
       "    </tr>\n",
       "  </thead>\n",
       "  <tbody>\n",
       "    <tr>\n",
       "      <th>train_R2</th>\n",
       "      <td>0.893231</td>\n",
       "      <td>0.997525</td>\n",
       "      <td>1.0</td>\n",
       "      <td>0.867199</td>\n",
       "    </tr>\n",
       "    <tr>\n",
       "      <th>test_R2</th>\n",
       "      <td>0.869853</td>\n",
       "      <td>0.971111</td>\n",
       "      <td>0.508046</td>\n",
       "      <td>0.853469</td>\n",
       "    </tr>\n",
       "  </tbody>\n",
       "</table>\n",
       "</div>"
      ],
      "text/plain": [
       "               MLR        RF       KNN     LASSO\n",
       "train_R2  0.893231  0.997525       1.0  0.867199\n",
       "test_R2   0.869853  0.971111  0.508046  0.853469"
      ]
     },
     "execution_count": 55,
     "metadata": {},
     "output_type": "execute_result"
    }
   ],
   "source": [
    "r_Model"
   ]
  },
  {
   "cell_type": "code",
   "execution_count": 56,
   "metadata": {},
   "outputs": [
    {
     "data": {
      "application/vnd.plotly.v1+json": {
       "config": {
        "plotlyServerURL": "https://plot.ly"
       },
       "data": [
        {
         "name": "train_R2",
         "orientation": "h",
         "type": "bar",
         "x": [
          0.8932310171917998,
          0.9975247526741046,
          0.999999999999999,
          0.8671987346142559
         ],
         "y": [
          "MLR",
          "RF",
          "KNN",
          "LASSO"
         ]
        },
        {
         "name": "test_R2",
         "orientation": "h",
         "type": "bar",
         "x": [
          0.8698532811624257,
          0.9711110740412532,
          0.5080456488659949,
          0.8534691824052381
         ],
         "y": [
          "MLR",
          "RF",
          "KNN",
          "LASSO"
         ]
        }
       ],
       "layout": {
        "barmode": "group",
        "template": {
         "data": {
          "bar": [
           {
            "error_x": {
             "color": "#2a3f5f"
            },
            "error_y": {
             "color": "#2a3f5f"
            },
            "marker": {
             "line": {
              "color": "#E5ECF6",
              "width": 0.5
             },
             "pattern": {
              "fillmode": "overlay",
              "size": 10,
              "solidity": 0.2
             }
            },
            "type": "bar"
           }
          ],
          "barpolar": [
           {
            "marker": {
             "line": {
              "color": "#E5ECF6",
              "width": 0.5
             },
             "pattern": {
              "fillmode": "overlay",
              "size": 10,
              "solidity": 0.2
             }
            },
            "type": "barpolar"
           }
          ],
          "carpet": [
           {
            "aaxis": {
             "endlinecolor": "#2a3f5f",
             "gridcolor": "white",
             "linecolor": "white",
             "minorgridcolor": "white",
             "startlinecolor": "#2a3f5f"
            },
            "baxis": {
             "endlinecolor": "#2a3f5f",
             "gridcolor": "white",
             "linecolor": "white",
             "minorgridcolor": "white",
             "startlinecolor": "#2a3f5f"
            },
            "type": "carpet"
           }
          ],
          "choropleth": [
           {
            "colorbar": {
             "outlinewidth": 0,
             "ticks": ""
            },
            "type": "choropleth"
           }
          ],
          "contour": [
           {
            "colorbar": {
             "outlinewidth": 0,
             "ticks": ""
            },
            "colorscale": [
             [
              0,
              "#0d0887"
             ],
             [
              0.1111111111111111,
              "#46039f"
             ],
             [
              0.2222222222222222,
              "#7201a8"
             ],
             [
              0.3333333333333333,
              "#9c179e"
             ],
             [
              0.4444444444444444,
              "#bd3786"
             ],
             [
              0.5555555555555556,
              "#d8576b"
             ],
             [
              0.6666666666666666,
              "#ed7953"
             ],
             [
              0.7777777777777778,
              "#fb9f3a"
             ],
             [
              0.8888888888888888,
              "#fdca26"
             ],
             [
              1,
              "#f0f921"
             ]
            ],
            "type": "contour"
           }
          ],
          "contourcarpet": [
           {
            "colorbar": {
             "outlinewidth": 0,
             "ticks": ""
            },
            "type": "contourcarpet"
           }
          ],
          "heatmap": [
           {
            "colorbar": {
             "outlinewidth": 0,
             "ticks": ""
            },
            "colorscale": [
             [
              0,
              "#0d0887"
             ],
             [
              0.1111111111111111,
              "#46039f"
             ],
             [
              0.2222222222222222,
              "#7201a8"
             ],
             [
              0.3333333333333333,
              "#9c179e"
             ],
             [
              0.4444444444444444,
              "#bd3786"
             ],
             [
              0.5555555555555556,
              "#d8576b"
             ],
             [
              0.6666666666666666,
              "#ed7953"
             ],
             [
              0.7777777777777778,
              "#fb9f3a"
             ],
             [
              0.8888888888888888,
              "#fdca26"
             ],
             [
              1,
              "#f0f921"
             ]
            ],
            "type": "heatmap"
           }
          ],
          "heatmapgl": [
           {
            "colorbar": {
             "outlinewidth": 0,
             "ticks": ""
            },
            "colorscale": [
             [
              0,
              "#0d0887"
             ],
             [
              0.1111111111111111,
              "#46039f"
             ],
             [
              0.2222222222222222,
              "#7201a8"
             ],
             [
              0.3333333333333333,
              "#9c179e"
             ],
             [
              0.4444444444444444,
              "#bd3786"
             ],
             [
              0.5555555555555556,
              "#d8576b"
             ],
             [
              0.6666666666666666,
              "#ed7953"
             ],
             [
              0.7777777777777778,
              "#fb9f3a"
             ],
             [
              0.8888888888888888,
              "#fdca26"
             ],
             [
              1,
              "#f0f921"
             ]
            ],
            "type": "heatmapgl"
           }
          ],
          "histogram": [
           {
            "marker": {
             "pattern": {
              "fillmode": "overlay",
              "size": 10,
              "solidity": 0.2
             }
            },
            "type": "histogram"
           }
          ],
          "histogram2d": [
           {
            "colorbar": {
             "outlinewidth": 0,
             "ticks": ""
            },
            "colorscale": [
             [
              0,
              "#0d0887"
             ],
             [
              0.1111111111111111,
              "#46039f"
             ],
             [
              0.2222222222222222,
              "#7201a8"
             ],
             [
              0.3333333333333333,
              "#9c179e"
             ],
             [
              0.4444444444444444,
              "#bd3786"
             ],
             [
              0.5555555555555556,
              "#d8576b"
             ],
             [
              0.6666666666666666,
              "#ed7953"
             ],
             [
              0.7777777777777778,
              "#fb9f3a"
             ],
             [
              0.8888888888888888,
              "#fdca26"
             ],
             [
              1,
              "#f0f921"
             ]
            ],
            "type": "histogram2d"
           }
          ],
          "histogram2dcontour": [
           {
            "colorbar": {
             "outlinewidth": 0,
             "ticks": ""
            },
            "colorscale": [
             [
              0,
              "#0d0887"
             ],
             [
              0.1111111111111111,
              "#46039f"
             ],
             [
              0.2222222222222222,
              "#7201a8"
             ],
             [
              0.3333333333333333,
              "#9c179e"
             ],
             [
              0.4444444444444444,
              "#bd3786"
             ],
             [
              0.5555555555555556,
              "#d8576b"
             ],
             [
              0.6666666666666666,
              "#ed7953"
             ],
             [
              0.7777777777777778,
              "#fb9f3a"
             ],
             [
              0.8888888888888888,
              "#fdca26"
             ],
             [
              1,
              "#f0f921"
             ]
            ],
            "type": "histogram2dcontour"
           }
          ],
          "mesh3d": [
           {
            "colorbar": {
             "outlinewidth": 0,
             "ticks": ""
            },
            "type": "mesh3d"
           }
          ],
          "parcoords": [
           {
            "line": {
             "colorbar": {
              "outlinewidth": 0,
              "ticks": ""
             }
            },
            "type": "parcoords"
           }
          ],
          "pie": [
           {
            "automargin": true,
            "type": "pie"
           }
          ],
          "scatter": [
           {
            "fillpattern": {
             "fillmode": "overlay",
             "size": 10,
             "solidity": 0.2
            },
            "type": "scatter"
           }
          ],
          "scatter3d": [
           {
            "line": {
             "colorbar": {
              "outlinewidth": 0,
              "ticks": ""
             }
            },
            "marker": {
             "colorbar": {
              "outlinewidth": 0,
              "ticks": ""
             }
            },
            "type": "scatter3d"
           }
          ],
          "scattercarpet": [
           {
            "marker": {
             "colorbar": {
              "outlinewidth": 0,
              "ticks": ""
             }
            },
            "type": "scattercarpet"
           }
          ],
          "scattergeo": [
           {
            "marker": {
             "colorbar": {
              "outlinewidth": 0,
              "ticks": ""
             }
            },
            "type": "scattergeo"
           }
          ],
          "scattergl": [
           {
            "marker": {
             "colorbar": {
              "outlinewidth": 0,
              "ticks": ""
             }
            },
            "type": "scattergl"
           }
          ],
          "scattermapbox": [
           {
            "marker": {
             "colorbar": {
              "outlinewidth": 0,
              "ticks": ""
             }
            },
            "type": "scattermapbox"
           }
          ],
          "scatterpolar": [
           {
            "marker": {
             "colorbar": {
              "outlinewidth": 0,
              "ticks": ""
             }
            },
            "type": "scatterpolar"
           }
          ],
          "scatterpolargl": [
           {
            "marker": {
             "colorbar": {
              "outlinewidth": 0,
              "ticks": ""
             }
            },
            "type": "scatterpolargl"
           }
          ],
          "scatterternary": [
           {
            "marker": {
             "colorbar": {
              "outlinewidth": 0,
              "ticks": ""
             }
            },
            "type": "scatterternary"
           }
          ],
          "surface": [
           {
            "colorbar": {
             "outlinewidth": 0,
             "ticks": ""
            },
            "colorscale": [
             [
              0,
              "#0d0887"
             ],
             [
              0.1111111111111111,
              "#46039f"
             ],
             [
              0.2222222222222222,
              "#7201a8"
             ],
             [
              0.3333333333333333,
              "#9c179e"
             ],
             [
              0.4444444444444444,
              "#bd3786"
             ],
             [
              0.5555555555555556,
              "#d8576b"
             ],
             [
              0.6666666666666666,
              "#ed7953"
             ],
             [
              0.7777777777777778,
              "#fb9f3a"
             ],
             [
              0.8888888888888888,
              "#fdca26"
             ],
             [
              1,
              "#f0f921"
             ]
            ],
            "type": "surface"
           }
          ],
          "table": [
           {
            "cells": {
             "fill": {
              "color": "#EBF0F8"
             },
             "line": {
              "color": "white"
             }
            },
            "header": {
             "fill": {
              "color": "#C8D4E3"
             },
             "line": {
              "color": "white"
             }
            },
            "type": "table"
           }
          ]
         },
         "layout": {
          "annotationdefaults": {
           "arrowcolor": "#2a3f5f",
           "arrowhead": 0,
           "arrowwidth": 1
          },
          "autotypenumbers": "strict",
          "coloraxis": {
           "colorbar": {
            "outlinewidth": 0,
            "ticks": ""
           }
          },
          "colorscale": {
           "diverging": [
            [
             0,
             "#8e0152"
            ],
            [
             0.1,
             "#c51b7d"
            ],
            [
             0.2,
             "#de77ae"
            ],
            [
             0.3,
             "#f1b6da"
            ],
            [
             0.4,
             "#fde0ef"
            ],
            [
             0.5,
             "#f7f7f7"
            ],
            [
             0.6,
             "#e6f5d0"
            ],
            [
             0.7,
             "#b8e186"
            ],
            [
             0.8,
             "#7fbc41"
            ],
            [
             0.9,
             "#4d9221"
            ],
            [
             1,
             "#276419"
            ]
           ],
           "sequential": [
            [
             0,
             "#0d0887"
            ],
            [
             0.1111111111111111,
             "#46039f"
            ],
            [
             0.2222222222222222,
             "#7201a8"
            ],
            [
             0.3333333333333333,
             "#9c179e"
            ],
            [
             0.4444444444444444,
             "#bd3786"
            ],
            [
             0.5555555555555556,
             "#d8576b"
            ],
            [
             0.6666666666666666,
             "#ed7953"
            ],
            [
             0.7777777777777778,
             "#fb9f3a"
            ],
            [
             0.8888888888888888,
             "#fdca26"
            ],
            [
             1,
             "#f0f921"
            ]
           ],
           "sequentialminus": [
            [
             0,
             "#0d0887"
            ],
            [
             0.1111111111111111,
             "#46039f"
            ],
            [
             0.2222222222222222,
             "#7201a8"
            ],
            [
             0.3333333333333333,
             "#9c179e"
            ],
            [
             0.4444444444444444,
             "#bd3786"
            ],
            [
             0.5555555555555556,
             "#d8576b"
            ],
            [
             0.6666666666666666,
             "#ed7953"
            ],
            [
             0.7777777777777778,
             "#fb9f3a"
            ],
            [
             0.8888888888888888,
             "#fdca26"
            ],
            [
             1,
             "#f0f921"
            ]
           ]
          },
          "colorway": [
           "#636efa",
           "#EF553B",
           "#00cc96",
           "#ab63fa",
           "#FFA15A",
           "#19d3f3",
           "#FF6692",
           "#B6E880",
           "#FF97FF",
           "#FECB52"
          ],
          "font": {
           "color": "#2a3f5f"
          },
          "geo": {
           "bgcolor": "white",
           "lakecolor": "white",
           "landcolor": "#E5ECF6",
           "showlakes": true,
           "showland": true,
           "subunitcolor": "white"
          },
          "hoverlabel": {
           "align": "left"
          },
          "hovermode": "closest",
          "mapbox": {
           "style": "light"
          },
          "paper_bgcolor": "white",
          "plot_bgcolor": "#E5ECF6",
          "polar": {
           "angularaxis": {
            "gridcolor": "white",
            "linecolor": "white",
            "ticks": ""
           },
           "bgcolor": "#E5ECF6",
           "radialaxis": {
            "gridcolor": "white",
            "linecolor": "white",
            "ticks": ""
           }
          },
          "scene": {
           "xaxis": {
            "backgroundcolor": "#E5ECF6",
            "gridcolor": "white",
            "gridwidth": 2,
            "linecolor": "white",
            "showbackground": true,
            "ticks": "",
            "zerolinecolor": "white"
           },
           "yaxis": {
            "backgroundcolor": "#E5ECF6",
            "gridcolor": "white",
            "gridwidth": 2,
            "linecolor": "white",
            "showbackground": true,
            "ticks": "",
            "zerolinecolor": "white"
           },
           "zaxis": {
            "backgroundcolor": "#E5ECF6",
            "gridcolor": "white",
            "gridwidth": 2,
            "linecolor": "white",
            "showbackground": true,
            "ticks": "",
            "zerolinecolor": "white"
           }
          },
          "shapedefaults": {
           "line": {
            "color": "#2a3f5f"
           }
          },
          "ternary": {
           "aaxis": {
            "gridcolor": "white",
            "linecolor": "white",
            "ticks": ""
           },
           "baxis": {
            "gridcolor": "white",
            "linecolor": "white",
            "ticks": ""
           },
           "bgcolor": "#E5ECF6",
           "caxis": {
            "gridcolor": "white",
            "linecolor": "white",
            "ticks": ""
           }
          },
          "title": {
           "x": 0.05
          },
          "xaxis": {
           "automargin": true,
           "gridcolor": "white",
           "linecolor": "white",
           "ticks": "",
           "title": {
            "standoff": 15
           },
           "zerolinecolor": "white",
           "zerolinewidth": 2
          },
          "yaxis": {
           "automargin": true,
           "gridcolor": "white",
           "linecolor": "white",
           "ticks": "",
           "title": {
            "standoff": 15
           },
           "zerolinecolor": "white",
           "zerolinewidth": 2
          }
         }
        },
        "title": {
         "text": "R-square score (R2) plot of the predictive models using train and test data"
        }
       }
      }
     },
     "metadata": {},
     "output_type": "display_data"
    }
   ],
   "source": [
    "\n",
    "y=['MLR', 'RF', 'KNN', 'LASSO']\n",
    "x1= r_Model.loc['train_R2']\n",
    "x2= r_Model.loc['test_R2']\n",
    "\n",
    "trace1 = go.Bar(y=y, x=x1, name='train_R2', orientation='h')\n",
    "trace2 = go.Bar(y=y, x=x2, name='test_R2', orientation='h')\n",
    "\n",
    "data = [trace1, trace2]\n",
    "\n",
    "layout = go.Layout(barmode='group', title='R-square score (R2) plot of the predictive models using train and test data')\n",
    "\n",
    "fig = go.Figure(data=data, layout=layout)\n",
    "fig.show()\n"
   ]
  },
  {
   "cell_type": "code",
   "execution_count": 57,
   "metadata": {},
   "outputs": [
    {
     "data": {
      "application/vnd.plotly.v1+json": {
       "config": {
        "plotlyServerURL": "https://plot.ly"
       },
       "data": [
        {
         "marker": {
          "color": "blue"
         },
         "mode": "markers",
         "type": "scatter",
         "x": [
          8.160518247477505,
          8.987196820661973,
          7.170119543449628,
          8.476371196895983,
          7.438383530044307,
          7.170119543449628,
          9.011889433252344,
          7.24422751560335,
          8.83927669058535,
          9.20029003612268,
          7.24422751560335,
          8.68270762989381,
          9.126958731588145,
          8.68270762989381,
          7.783224108058157,
          8.575462099540212,
          9.0595174822416,
          8.389359819906353,
          8.594154232552366,
          8.794824928014517,
          8.948975607841776,
          8.732304571033183,
          7.649692623711514,
          7.090076835776092,
          8.895629627136483,
          7.90100705199242,
          7.549609165154532,
          8.594154232552366,
          7.649692623711514,
          8.131530710604252,
          8.006367567650246,
          8.881836230923671,
          9.137769679141348,
          7.170119543449628,
          7.24422751560335,
          7.696212639346407,
          9.259130536145614,
          9.035986984831405,
          8.594154232552366,
          9.035986984831405,
          7.438383530044307,
          8.496990484098719,
          7.170119543449628,
          7.495541943884256,
          8.594154232552366,
          9.024010753715308,
          9.082507000466299,
          7.170119543449628,
          9.07107828201756,
          7.003065458786462,
          8.895629627136483,
          8.732304571033183,
          8.101677747454572,
          8.575462099540212,
          8.517193191416238,
          7.170119543449628,
          8.476371196895983,
          8.517193191416238,
          9.011889433252344,
          8.68270762989381,
          7.313220387090301,
          9.137769646900761,
          9.169518377455928,
          8.824677891164198,
          8.764053269347762,
          8.83927669058535,
          8.006367567650246,
          7.495541943884256,
          8.895629627136483,
          9.230142999272362,
          9.071078304642676,
          8.45531778769815,
          8.895629627136483,
          8.160518247477505,
          9.011889433252344,
          9.02401079378469,
          8.824677891164198,
          8.294049640102028,
          8.764053269347762,
          8.575462099540212,
          8.699514748210191,
          9.02401079378469,
          9.20029003612268,
          9.035986984831405,
          7.649692623711514,
          8.517193191416238,
          8.131530710604252,
          7.003065458786462,
          7.783224016336037,
          8.974618038455112,
          8.935903526274423,
          8.34283980427146,
          8.987196820661973,
          7.313220387090301,
          8.34283980427146,
          7.8632667240095735,
          9.082507000466299,
          8.85366542803745,
          8.83927669058535,
          8.68270762989381,
          9.093806555720231,
          9.011889433252344,
          8.517193191416238,
          9.190137664658664,
          8.45531778769815,
          8.794824928014517,
          7.824046080489611,
          7.696212639346407,
          8.881836305004146,
          7.170119543449628,
          8.556413904569519,
          8.556413904569519,
          7.170119543449628,
          7.937374696163295,
          7.170119543449628,
          9.035986984831405,
          9.093806555720231,
          7.783224016336037,
          9.011889433252344,
          8.881836305004146,
          7.8632667240095735,
          8.556413904569519,
          8.909235279192261,
          8.594154232552366,
          9.093806555720231,
          8.935903526274423,
          8.101677747454572,
          8.496990484098719,
          8.824677891164198,
          9.035986984831405,
          7.090076835776092,
          7.24422751560335,
          8.160518247477505,
          9.093806555720231,
          8.34283980427146,
          8.45531778769815,
          9.0595174822416,
          8.268731832117737,
          7.24422762328431,
          7.824046010856292,
          8.85366542803745,
          8.389359819906353,
          8.881836305004146,
          7.696212639346407,
          7.824046010856292,
          9.116029692504942,
          9.011889433252344,
          9.148464968258095,
          8.85366542803745,
          7.003065458786462,
          7.090076835776092,
          8.496990484098719,
          9.20029003612268,
          9.169518329685749,
          7.495541943884256,
          8.594154232552366,
          8.411832675758411,
          8.909235279192261,
          8.411832675758411,
          8.575462099540212,
          9.126958763037132,
          8.160518247477505,
          7.003065458786462,
          9.148464968258095,
          7.090076835776092,
          9.071078304642676,
          9.137769679141348,
          9.190137664658664,
          8.974618038455112,
          8.961879012677683,
          9.011889433252344,
          8.794824928014517,
          8.294049640102028,
          8.948975607841776,
          8.961878971609176,
          7.696212698781394,
          8.131530710604252,
          7.244227672915141,
          7.24422751560335,
          9.230142999272362,
          9.20029003612268,
          8.556413904569519,
          8.45531778769815,
          9.179881164491475,
          7.313220387090301,
          9.035986984831405,
          8.824677891164198,
          7.696212639346407,
          8.268731832117737,
          9.137769679141348,
          9.169518377455928,
          9.02401079378469,
          9.137769679141348,
          8.630521876723241,
          9.116029692504942,
          8.411832675758411,
          8.34283980427146,
          8.881836305004146,
          9.093806555720231,
          8.294049640102028,
          9.035986984831405,
          7.438383530044307,
          9.169518377455928,
          8.556413904569519,
          8.824677891164198,
          7.003065458786462,
          8.66561319653451,
          7.9724660159745655,
          8.895629627136483,
          7.170119543449628,
          7.24422751560335,
          9.230142966230497,
          7.24422751560335,
          8.318742252692399,
          7.649692623711514,
          7.649692623711514,
          8.476371196895983,
          8.895629627136483,
          9.035986984831405,
          9.035986893788605,
          8.648221453822641,
          8.948975607841776,
          7.313220387090301,
          8.748304912379623,
          8.101677747454572,
          7.600902459542082,
          8.131530710604252,
          7.696212639346407,
          7.438383530044307,
          7.649692623711514,
          8.101677747454572,
          9.035986940991931,
          7.313220387090301,
          8.242756345714477,
          8.895629627136483,
          7.9724660159745655,
          8.131530710604252,
          8.575462099540212,
          8.006367567650246,
          8.45531778769815,
          7.600902459542082,
          7.438383530044307,
          8.389359819906353,
          9.02401079378469,
          7.170119543449628,
          7.824046010856292,
          8.764053269347762,
          9.082507000466299,
          8.748304912379623,
          7.696212639346407,
          8.101677747454572,
          7.24422751560335,
          9.035986984831405,
          8.66561319653451,
          8.85366542803745,
          8.101677747454572,
          7.313220387090301,
          8.34283980427146,
          9.190137664658664,
          8.83927669058535,
          9.230142999272362,
          8.824677891164198,
          8.935903526274423,
          8.948975607841776,
          9.169518302203045,
          7.549609165154532,
          9.179881164491475,
          9.126958748135783,
          9.071078304642676,
          8.974618038455112,
          8.987196820661973,
          8.66561319653451,
          8.496990484098719,
          7.438383530044307,
          9.190137664658664,
          7.170119543449628,
          9.116029692504942,
          8.160518247477505,
          8.496990484098719,
          9.116029692504942,
          9.137769679141348,
          8.556413904569519,
          8.594154232552366,
          8.987196820661973,
          8.575462099540212,
          8.34283980427146,
          8.764053269347762,
          8.575462099540212,
          8.101677747454572,
          8.594154232552366,
          7.438383530044307,
          8.68270762989381,
          8.294049640102028,
          8.160518247477505,
          9.082507000466299,
          7.937374696163295,
          9.148464968258095,
          8.948975607841776,
          9.011889433252344,
          8.101677747454572,
          8.160518247477505,
          8.34283980427146,
          8.748304912379623,
          7.649692623711514,
          8.34283980427146,
          7.003065458786462,
          8.160518247477505,
          8.648221453822641,
          9.02401079378469,
          7.090076835776092,
          8.987196820661973,
          7.090077043185074,
          8.935903526274423,
          9.137769679141348,
          8.101677747454572,
          8.881836305004146,
          8.824677891164198,
          8.411832675758411,
          8.824677891164198,
          9.148464901206019,
          7.90100705199242,
          9.035986984831405,
          9.20029003612268,
          9.0595174822416,
          8.556413904569519,
          8.630521876723241,
          8.476371196895983,
          8.66561319653451,
          8.242756345714477,
          9.116029666350695,
          9.035986984831405,
          7.549609165154532,
          7.24422751560335,
          8.764053269347762,
          8.824677891164198,
          8.101677787824272,
          7.170119543449628,
          8.794824928014517,
          7.8632667240095735,
          8.294049640102028,
          9.137769679141348,
          8.961879012677683,
          8.85366542803745,
          8.699514748210191,
          9.259130536145614,
          8.94897559873617,
          9.024010743888446,
          7.600902459542082,
          8.556413904569519,
          8.881836305004146,
          7.090076835776092,
          9.126958763037132,
          9.08250693151709,
          8.294049640102028,
          7.313220387090301,
          8.648221453822641,
          9.093806555720231,
          8.699514748210191,
          7.824046010856292,
          9.249561085129464,
          9.200290015017842,
          7.549609165154532,
          9.011889433252344,
          7.170119543449628,
          8.974617953191409,
          7.438383676508559,
          7.090076835776092,
          8.160518247477505,
          9.116029692504942,
          7.244227584450091,
          7.438383530044307,
          8.794824928014517,
          8.131530710604252,
          9.190137664658664,
          9.116029692504942,
          8.630521876723241,
          8.974618038455112,
          8.909235279192261,
          7.003065458786462,
          9.148464968258095,
          9.148464968258095,
          8.318742252692399,
          9.035986984831405,
          8.935903526274423,
          8.881836305004146,
          8.101677747454572,
          7.090076835776092,
          8.433811582477187,
          8.895629627136483,
          8.006367589802343,
          7.824046010856292,
          8.294049640102028,
          9.02401079378469,
          7.313220387090301,
          8.935903526274423,
          8.411832675758411,
          8.948975607841776,
          7.495541943884256,
          8.83927669058535,
          7.313220387090301,
          8.556413904569519,
          8.242756345714477,
          7.78322412156014,
          9.082507000466299,
          9.259130536145614,
          8.895629627136483,
          8.987196820661973,
          7.170119543449628,
          8.895629540273394,
          8.974618038455112,
          7.313220387090301,
          8.948975607841776,
          7.495541943884256,
          8.824677891164198,
          9.011889433252344,
          8.101677747454572
         ],
         "y": [
          8.160518247477505,
          8.987196820661973,
          7.170119543449628,
          8.476371196895983,
          7.438383530044307,
          7.170119543449628,
          9.011889433252344,
          7.24422751560335,
          8.83927669058535,
          9.20029003612268,
          7.24422751560335,
          8.68270762989381,
          9.126958763037132,
          8.68270762989381,
          7.783224016336037,
          8.575462099540212,
          9.0595174822416,
          8.389359819906353,
          8.594154232552366,
          8.794824928014517,
          8.948975607841776,
          8.732304571033183,
          7.649692623711514,
          7.090076835776092,
          8.895629627136483,
          7.90100705199242,
          7.549609165154532,
          8.594154232552366,
          7.649692623711514,
          8.131530710604252,
          8.006367567650246,
          8.881836305004146,
          9.137769679141348,
          7.170119543449628,
          7.24422751560335,
          7.696212639346407,
          9.259130536145614,
          9.035986984831405,
          8.594154232552366,
          9.035986984831405,
          7.438383530044307,
          8.496990484098719,
          7.170119543449628,
          7.495541943884256,
          8.594154232552366,
          9.02401079378469,
          9.082507000466299,
          7.170119543449628,
          9.071078304642676,
          7.003065458786462,
          8.895629627136483,
          8.732304571033183,
          8.101677747454572,
          8.575462099540212,
          8.517193191416238,
          7.170119543449628,
          8.476371196895983,
          8.517193191416238,
          9.011889433252344,
          8.68270762989381,
          7.313220387090301,
          9.137769679141348,
          9.169518377455928,
          8.824677891164198,
          8.764053269347762,
          8.83927669058535,
          8.006367567650246,
          7.495541943884256,
          8.895629627136483,
          9.230142999272362,
          9.071078304642676,
          8.45531778769815,
          8.895629627136483,
          8.160518247477505,
          9.011889433252344,
          9.02401079378469,
          8.824677891164198,
          8.294049640102028,
          8.764053269347762,
          8.575462099540212,
          8.699514748210191,
          9.02401079378469,
          9.20029003612268,
          9.035986984831405,
          7.649692623711514,
          8.517193191416238,
          8.131530710604252,
          7.003065458786462,
          7.783224016336037,
          8.974618038455112,
          8.935903526274423,
          8.34283980427146,
          8.987196820661973,
          7.313220387090301,
          8.34283980427146,
          7.8632667240095735,
          9.082507000466299,
          8.85366542803745,
          8.83927669058535,
          8.68270762989381,
          9.093806555720231,
          9.011889433252344,
          8.517193191416238,
          9.190137664658664,
          8.45531778769815,
          8.794824928014517,
          7.824046010856292,
          7.696212639346407,
          8.881836305004146,
          7.170119543449628,
          8.556413904569519,
          8.556413904569519,
          7.170119543449628,
          7.937374696163295,
          7.170119543449628,
          9.035986984831405,
          9.093806555720231,
          7.783224016336037,
          9.011889433252344,
          8.881836305004146,
          7.8632667240095735,
          8.556413904569519,
          8.909235279192261,
          8.594154232552366,
          9.093806555720231,
          8.935903526274423,
          8.101677747454572,
          8.496990484098719,
          8.824677891164198,
          9.035986984831405,
          7.090076835776092,
          7.24422751560335,
          8.160518247477505,
          9.093806555720231,
          8.34283980427146,
          8.45531778769815,
          9.0595174822416,
          8.268731832117737,
          7.24422751560335,
          7.824046010856292,
          8.85366542803745,
          8.389359819906353,
          8.881836305004146,
          7.696212639346407,
          7.824046010856292,
          9.116029692504942,
          9.011889433252344,
          9.148464968258095,
          8.85366542803745,
          7.003065458786462,
          7.090076835776092,
          8.496990484098719,
          9.20029003612268,
          9.169518377455928,
          7.495541943884256,
          8.594154232552366,
          8.411832675758411,
          8.909235279192261,
          8.411832675758411,
          8.575462099540212,
          9.126958763037132,
          8.160518247477505,
          7.003065458786462,
          9.148464968258095,
          7.090076835776092,
          9.071078304642676,
          9.137769679141348,
          9.190137664658664,
          8.974618038455112,
          8.961879012677683,
          9.011889433252344,
          8.794824928014517,
          8.294049640102028,
          8.948975607841776,
          8.961879012677683,
          7.696212639346407,
          8.131530710604252,
          7.24422751560335,
          7.24422751560335,
          9.230142999272362,
          9.20029003612268,
          8.556413904569519,
          8.45531778769815,
          9.179881164491475,
          7.313220387090301,
          9.035986984831405,
          8.824677891164198,
          7.696212639346407,
          8.268731832117737,
          9.137769679141348,
          9.169518377455928,
          9.02401079378469,
          9.137769679141348,
          8.630521876723241,
          9.116029692504942,
          8.411832675758411,
          8.34283980427146,
          8.881836305004146,
          9.093806555720231,
          8.294049640102028,
          9.035986984831405,
          7.438383530044307,
          9.169518377455928,
          8.556413904569519,
          8.824677891164198,
          7.003065458786462,
          8.66561319653451,
          7.9724660159745655,
          8.895629627136483,
          7.170119543449628,
          7.24422751560335,
          9.230142999272362,
          7.24422751560335,
          8.318742252692399,
          7.649692623711514,
          7.649692623711514,
          8.476371196895983,
          8.895629627136483,
          9.035986984831405,
          9.035986984831405,
          8.648221453822641,
          8.948975607841776,
          7.313220387090301,
          8.748304912379623,
          8.101677747454572,
          7.600902459542082,
          8.131530710604252,
          7.696212639346407,
          7.438383530044307,
          7.649692623711514,
          8.101677747454572,
          9.035986984831405,
          7.313220387090301,
          8.242756345714477,
          8.895629627136483,
          7.9724660159745655,
          8.131530710604252,
          8.575462099540212,
          8.006367567650246,
          8.45531778769815,
          7.600902459542082,
          7.438383530044307,
          8.389359819906353,
          9.02401079378469,
          7.170119543449628,
          7.824046010856292,
          8.764053269347762,
          9.082507000466299,
          8.748304912379623,
          7.696212639346407,
          8.101677747454572,
          7.24422751560335,
          9.035986984831405,
          8.66561319653451,
          8.85366542803745,
          8.101677747454572,
          7.313220387090301,
          8.34283980427146,
          9.190137664658664,
          8.83927669058535,
          9.230142999272362,
          8.824677891164198,
          8.935903526274423,
          8.948975607841776,
          9.169518377455928,
          7.549609165154532,
          9.179881164491475,
          9.126958763037132,
          9.071078304642676,
          8.974618038455112,
          8.987196820661973,
          8.66561319653451,
          8.496990484098719,
          7.438383530044307,
          9.190137664658664,
          7.170119543449628,
          9.116029692504942,
          8.160518247477505,
          8.496990484098719,
          9.116029692504942,
          9.137769679141348,
          8.556413904569519,
          8.594154232552366,
          8.987196820661973,
          8.575462099540212,
          8.34283980427146,
          8.764053269347762,
          8.575462099540212,
          8.101677747454572,
          8.594154232552366,
          7.438383530044307,
          8.68270762989381,
          8.294049640102028,
          8.160518247477505,
          9.082507000466299,
          7.937374696163295,
          9.148464968258095,
          8.948975607841776,
          9.011889433252344,
          8.101677747454572,
          8.160518247477505,
          8.34283980427146,
          8.748304912379623,
          7.649692623711514,
          8.34283980427146,
          7.003065458786462,
          8.160518247477505,
          8.648221453822641,
          9.02401079378469,
          7.090076835776092,
          8.987196820661973,
          7.090076835776092,
          8.935903526274423,
          9.137769679141348,
          8.101677747454572,
          8.881836305004146,
          8.824677891164198,
          8.411832675758411,
          8.824677891164198,
          9.148464968258095,
          7.90100705199242,
          9.035986984831405,
          9.20029003612268,
          9.0595174822416,
          8.556413904569519,
          8.630521876723241,
          8.476371196895983,
          8.66561319653451,
          8.242756345714477,
          9.116029692504942,
          9.035986984831405,
          7.549609165154532,
          7.24422751560335,
          8.764053269347762,
          8.824677891164198,
          8.101677747454572,
          7.170119543449628,
          8.794824928014517,
          7.8632667240095735,
          8.294049640102028,
          9.137769679141348,
          8.961879012677683,
          8.85366542803745,
          8.699514748210191,
          9.259130536145614,
          8.948975607841776,
          9.02401079378469,
          7.600902459542082,
          8.556413904569519,
          8.881836305004146,
          7.090076835776092,
          9.126958763037132,
          9.082507000466299,
          8.294049640102028,
          7.313220387090301,
          8.648221453822641,
          9.093806555720231,
          8.699514748210191,
          7.824046010856292,
          9.249561085129464,
          9.20029003612268,
          7.549609165154532,
          9.011889433252344,
          7.170119543449628,
          8.974618038455112,
          7.438383530044307,
          7.090076835776092,
          8.160518247477505,
          9.116029692504942,
          7.24422751560335,
          7.438383530044307,
          8.794824928014517,
          8.131530710604252,
          9.190137664658664,
          9.116029692504942,
          8.630521876723241,
          8.974618038455112,
          8.909235279192261,
          7.003065458786462,
          9.148464968258095,
          9.148464968258095,
          8.318742252692399,
          9.035986984831405,
          8.935903526274423,
          8.881836305004146,
          8.101677747454572,
          7.090076835776092,
          8.433811582477187,
          8.895629627136483,
          8.006367567650246,
          7.824046010856292,
          8.294049640102028,
          9.02401079378469,
          7.313220387090301,
          8.935903526274423,
          8.411832675758411,
          8.948975607841776,
          7.495541943884256,
          8.83927669058535,
          7.313220387090301,
          8.556413904569519,
          8.242756345714477,
          7.783224016336037,
          9.082507000466299,
          9.259130536145614,
          8.895629627136483,
          8.987196820661973,
          7.170119543449628,
          8.895629627136483,
          8.974618038455112,
          7.313220387090301,
          8.948975607841776,
          7.495541943884256,
          8.824677891164198,
          9.011889433252344,
          8.101677747454572
         ]
        },
        {
         "line": {
          "color": "red"
         },
         "mode": "lines",
         "type": "scatter",
         "x": [
          8.160518247477505,
          8.987196820661973,
          7.170119543449628,
          8.476371196895983,
          7.438383530044307,
          7.170119543449628,
          9.011889433252344,
          7.24422751560335,
          8.83927669058535,
          9.20029003612268,
          7.24422751560335,
          8.68270762989381,
          9.126958763037132,
          8.68270762989381,
          7.783224016336037,
          8.575462099540212,
          9.0595174822416,
          8.389359819906353,
          8.594154232552366,
          8.794824928014517,
          8.948975607841776,
          8.732304571033183,
          7.649692623711514,
          7.090076835776092,
          8.895629627136483,
          7.90100705199242,
          7.549609165154532,
          8.594154232552366,
          7.649692623711514,
          8.131530710604252,
          8.006367567650246,
          8.881836305004146,
          9.137769679141348,
          7.170119543449628,
          7.24422751560335,
          7.696212639346407,
          9.259130536145614,
          9.035986984831405,
          8.594154232552366,
          9.035986984831405,
          7.438383530044307,
          8.496990484098719,
          7.170119543449628,
          7.495541943884256,
          8.594154232552366,
          9.02401079378469,
          9.082507000466299,
          7.170119543449628,
          9.071078304642676,
          7.003065458786462,
          8.895629627136483,
          8.732304571033183,
          8.101677747454572,
          8.575462099540212,
          8.517193191416238,
          7.170119543449628,
          8.476371196895983,
          8.517193191416238,
          9.011889433252344,
          8.68270762989381,
          7.313220387090301,
          9.137769679141348,
          9.169518377455928,
          8.824677891164198,
          8.764053269347762,
          8.83927669058535,
          8.006367567650246,
          7.495541943884256,
          8.895629627136483,
          9.230142999272362,
          9.071078304642676,
          8.45531778769815,
          8.895629627136483,
          8.160518247477505,
          9.011889433252344,
          9.02401079378469,
          8.824677891164198,
          8.294049640102028,
          8.764053269347762,
          8.575462099540212,
          8.699514748210191,
          9.02401079378469,
          9.20029003612268,
          9.035986984831405,
          7.649692623711514,
          8.517193191416238,
          8.131530710604252,
          7.003065458786462,
          7.783224016336037,
          8.974618038455112,
          8.935903526274423,
          8.34283980427146,
          8.987196820661973,
          7.313220387090301,
          8.34283980427146,
          7.8632667240095735,
          9.082507000466299,
          8.85366542803745,
          8.83927669058535,
          8.68270762989381,
          9.093806555720231,
          9.011889433252344,
          8.517193191416238,
          9.190137664658664,
          8.45531778769815,
          8.794824928014517,
          7.824046010856292,
          7.696212639346407,
          8.881836305004146,
          7.170119543449628,
          8.556413904569519,
          8.556413904569519,
          7.170119543449628,
          7.937374696163295,
          7.170119543449628,
          9.035986984831405,
          9.093806555720231,
          7.783224016336037,
          9.011889433252344,
          8.881836305004146,
          7.8632667240095735,
          8.556413904569519,
          8.909235279192261,
          8.594154232552366,
          9.093806555720231,
          8.935903526274423,
          8.101677747454572,
          8.496990484098719,
          8.824677891164198,
          9.035986984831405,
          7.090076835776092,
          7.24422751560335,
          8.160518247477505,
          9.093806555720231,
          8.34283980427146,
          8.45531778769815,
          9.0595174822416,
          8.268731832117737,
          7.24422751560335,
          7.824046010856292,
          8.85366542803745,
          8.389359819906353,
          8.881836305004146,
          7.696212639346407,
          7.824046010856292,
          9.116029692504942,
          9.011889433252344,
          9.148464968258095,
          8.85366542803745,
          7.003065458786462,
          7.090076835776092,
          8.496990484098719,
          9.20029003612268,
          9.169518377455928,
          7.495541943884256,
          8.594154232552366,
          8.411832675758411,
          8.909235279192261,
          8.411832675758411,
          8.575462099540212,
          9.126958763037132,
          8.160518247477505,
          7.003065458786462,
          9.148464968258095,
          7.090076835776092,
          9.071078304642676,
          9.137769679141348,
          9.190137664658664,
          8.974618038455112,
          8.961879012677683,
          9.011889433252344,
          8.794824928014517,
          8.294049640102028,
          8.948975607841776,
          8.961879012677683,
          7.696212639346407,
          8.131530710604252,
          7.24422751560335,
          7.24422751560335,
          9.230142999272362,
          9.20029003612268,
          8.556413904569519,
          8.45531778769815,
          9.179881164491475,
          7.313220387090301,
          9.035986984831405,
          8.824677891164198,
          7.696212639346407,
          8.268731832117737,
          9.137769679141348,
          9.169518377455928,
          9.02401079378469,
          9.137769679141348,
          8.630521876723241,
          9.116029692504942,
          8.411832675758411,
          8.34283980427146,
          8.881836305004146,
          9.093806555720231,
          8.294049640102028,
          9.035986984831405,
          7.438383530044307,
          9.169518377455928,
          8.556413904569519,
          8.824677891164198,
          7.003065458786462,
          8.66561319653451,
          7.9724660159745655,
          8.895629627136483,
          7.170119543449628,
          7.24422751560335,
          9.230142999272362,
          7.24422751560335,
          8.318742252692399,
          7.649692623711514,
          7.649692623711514,
          8.476371196895983,
          8.895629627136483,
          9.035986984831405,
          9.035986984831405,
          8.648221453822641,
          8.948975607841776,
          7.313220387090301,
          8.748304912379623,
          8.101677747454572,
          7.600902459542082,
          8.131530710604252,
          7.696212639346407,
          7.438383530044307,
          7.649692623711514,
          8.101677747454572,
          9.035986984831405,
          7.313220387090301,
          8.242756345714477,
          8.895629627136483,
          7.9724660159745655,
          8.131530710604252,
          8.575462099540212,
          8.006367567650246,
          8.45531778769815,
          7.600902459542082,
          7.438383530044307,
          8.389359819906353,
          9.02401079378469,
          7.170119543449628,
          7.824046010856292,
          8.764053269347762,
          9.082507000466299,
          8.748304912379623,
          7.696212639346407,
          8.101677747454572,
          7.24422751560335,
          9.035986984831405,
          8.66561319653451,
          8.85366542803745,
          8.101677747454572,
          7.313220387090301,
          8.34283980427146,
          9.190137664658664,
          8.83927669058535,
          9.230142999272362,
          8.824677891164198,
          8.935903526274423,
          8.948975607841776,
          9.169518377455928,
          7.549609165154532,
          9.179881164491475,
          9.126958763037132,
          9.071078304642676,
          8.974618038455112,
          8.987196820661973,
          8.66561319653451,
          8.496990484098719,
          7.438383530044307,
          9.190137664658664,
          7.170119543449628,
          9.116029692504942,
          8.160518247477505,
          8.496990484098719,
          9.116029692504942,
          9.137769679141348,
          8.556413904569519,
          8.594154232552366,
          8.987196820661973,
          8.575462099540212,
          8.34283980427146,
          8.764053269347762,
          8.575462099540212,
          8.101677747454572,
          8.594154232552366,
          7.438383530044307,
          8.68270762989381,
          8.294049640102028,
          8.160518247477505,
          9.082507000466299,
          7.937374696163295,
          9.148464968258095,
          8.948975607841776,
          9.011889433252344,
          8.101677747454572,
          8.160518247477505,
          8.34283980427146,
          8.748304912379623,
          7.649692623711514,
          8.34283980427146,
          7.003065458786462,
          8.160518247477505,
          8.648221453822641,
          9.02401079378469,
          7.090076835776092,
          8.987196820661973,
          7.090076835776092,
          8.935903526274423,
          9.137769679141348,
          8.101677747454572,
          8.881836305004146,
          8.824677891164198,
          8.411832675758411,
          8.824677891164198,
          9.148464968258095,
          7.90100705199242,
          9.035986984831405,
          9.20029003612268,
          9.0595174822416,
          8.556413904569519,
          8.630521876723241,
          8.476371196895983,
          8.66561319653451,
          8.242756345714477,
          9.116029692504942,
          9.035986984831405,
          7.549609165154532,
          7.24422751560335,
          8.764053269347762,
          8.824677891164198,
          8.101677747454572,
          7.170119543449628,
          8.794824928014517,
          7.8632667240095735,
          8.294049640102028,
          9.137769679141348,
          8.961879012677683,
          8.85366542803745,
          8.699514748210191,
          9.259130536145614,
          8.948975607841776,
          9.02401079378469,
          7.600902459542082,
          8.556413904569519,
          8.881836305004146,
          7.090076835776092,
          9.126958763037132,
          9.082507000466299,
          8.294049640102028,
          7.313220387090301,
          8.648221453822641,
          9.093806555720231,
          8.699514748210191,
          7.824046010856292,
          9.249561085129464,
          9.20029003612268,
          7.549609165154532,
          9.011889433252344,
          7.170119543449628,
          8.974618038455112,
          7.438383530044307,
          7.090076835776092,
          8.160518247477505,
          9.116029692504942,
          7.24422751560335,
          7.438383530044307,
          8.794824928014517,
          8.131530710604252,
          9.190137664658664,
          9.116029692504942,
          8.630521876723241,
          8.974618038455112,
          8.909235279192261,
          7.003065458786462,
          9.148464968258095,
          9.148464968258095,
          8.318742252692399,
          9.035986984831405,
          8.935903526274423,
          8.881836305004146,
          8.101677747454572,
          7.090076835776092,
          8.433811582477187,
          8.895629627136483,
          8.006367567650246,
          7.824046010856292,
          8.294049640102028,
          9.02401079378469,
          7.313220387090301,
          8.935903526274423,
          8.411832675758411,
          8.948975607841776,
          7.495541943884256,
          8.83927669058535,
          7.313220387090301,
          8.556413904569519,
          8.242756345714477,
          7.783224016336037,
          9.082507000466299,
          9.259130536145614,
          8.895629627136483,
          8.987196820661973,
          7.170119543449628,
          8.895629627136483,
          8.974618038455112,
          7.313220387090301,
          8.948975607841776,
          7.495541943884256,
          8.824677891164198,
          9.011889433252344,
          8.101677747454572
         ],
         "y": [
          8.160518247477505,
          8.987196820661973,
          7.170119543449628,
          8.476371196895983,
          7.438383530044307,
          7.170119543449628,
          9.011889433252344,
          7.24422751560335,
          8.83927669058535,
          9.20029003612268,
          7.24422751560335,
          8.68270762989381,
          9.126958763037132,
          8.68270762989381,
          7.783224016336037,
          8.575462099540212,
          9.0595174822416,
          8.389359819906353,
          8.594154232552366,
          8.794824928014517,
          8.948975607841776,
          8.732304571033183,
          7.649692623711514,
          7.090076835776092,
          8.895629627136483,
          7.90100705199242,
          7.549609165154532,
          8.594154232552366,
          7.649692623711514,
          8.131530710604252,
          8.006367567650246,
          8.881836305004146,
          9.137769679141348,
          7.170119543449628,
          7.24422751560335,
          7.696212639346407,
          9.259130536145614,
          9.035986984831405,
          8.594154232552366,
          9.035986984831405,
          7.438383530044307,
          8.496990484098719,
          7.170119543449628,
          7.495541943884256,
          8.594154232552366,
          9.02401079378469,
          9.082507000466299,
          7.170119543449628,
          9.071078304642676,
          7.003065458786462,
          8.895629627136483,
          8.732304571033183,
          8.101677747454572,
          8.575462099540212,
          8.517193191416238,
          7.170119543449628,
          8.476371196895983,
          8.517193191416238,
          9.011889433252344,
          8.68270762989381,
          7.313220387090301,
          9.137769679141348,
          9.169518377455928,
          8.824677891164198,
          8.764053269347762,
          8.83927669058535,
          8.006367567650246,
          7.495541943884256,
          8.895629627136483,
          9.230142999272362,
          9.071078304642676,
          8.45531778769815,
          8.895629627136483,
          8.160518247477505,
          9.011889433252344,
          9.02401079378469,
          8.824677891164198,
          8.294049640102028,
          8.764053269347762,
          8.575462099540212,
          8.699514748210191,
          9.02401079378469,
          9.20029003612268,
          9.035986984831405,
          7.649692623711514,
          8.517193191416238,
          8.131530710604252,
          7.003065458786462,
          7.783224016336037,
          8.974618038455112,
          8.935903526274423,
          8.34283980427146,
          8.987196820661973,
          7.313220387090301,
          8.34283980427146,
          7.8632667240095735,
          9.082507000466299,
          8.85366542803745,
          8.83927669058535,
          8.68270762989381,
          9.093806555720231,
          9.011889433252344,
          8.517193191416238,
          9.190137664658664,
          8.45531778769815,
          8.794824928014517,
          7.824046010856292,
          7.696212639346407,
          8.881836305004146,
          7.170119543449628,
          8.556413904569519,
          8.556413904569519,
          7.170119543449628,
          7.937374696163295,
          7.170119543449628,
          9.035986984831405,
          9.093806555720231,
          7.783224016336037,
          9.011889433252344,
          8.881836305004146,
          7.8632667240095735,
          8.556413904569519,
          8.909235279192261,
          8.594154232552366,
          9.093806555720231,
          8.935903526274423,
          8.101677747454572,
          8.496990484098719,
          8.824677891164198,
          9.035986984831405,
          7.090076835776092,
          7.24422751560335,
          8.160518247477505,
          9.093806555720231,
          8.34283980427146,
          8.45531778769815,
          9.0595174822416,
          8.268731832117737,
          7.24422751560335,
          7.824046010856292,
          8.85366542803745,
          8.389359819906353,
          8.881836305004146,
          7.696212639346407,
          7.824046010856292,
          9.116029692504942,
          9.011889433252344,
          9.148464968258095,
          8.85366542803745,
          7.003065458786462,
          7.090076835776092,
          8.496990484098719,
          9.20029003612268,
          9.169518377455928,
          7.495541943884256,
          8.594154232552366,
          8.411832675758411,
          8.909235279192261,
          8.411832675758411,
          8.575462099540212,
          9.126958763037132,
          8.160518247477505,
          7.003065458786462,
          9.148464968258095,
          7.090076835776092,
          9.071078304642676,
          9.137769679141348,
          9.190137664658664,
          8.974618038455112,
          8.961879012677683,
          9.011889433252344,
          8.794824928014517,
          8.294049640102028,
          8.948975607841776,
          8.961879012677683,
          7.696212639346407,
          8.131530710604252,
          7.24422751560335,
          7.24422751560335,
          9.230142999272362,
          9.20029003612268,
          8.556413904569519,
          8.45531778769815,
          9.179881164491475,
          7.313220387090301,
          9.035986984831405,
          8.824677891164198,
          7.696212639346407,
          8.268731832117737,
          9.137769679141348,
          9.169518377455928,
          9.02401079378469,
          9.137769679141348,
          8.630521876723241,
          9.116029692504942,
          8.411832675758411,
          8.34283980427146,
          8.881836305004146,
          9.093806555720231,
          8.294049640102028,
          9.035986984831405,
          7.438383530044307,
          9.169518377455928,
          8.556413904569519,
          8.824677891164198,
          7.003065458786462,
          8.66561319653451,
          7.9724660159745655,
          8.895629627136483,
          7.170119543449628,
          7.24422751560335,
          9.230142999272362,
          7.24422751560335,
          8.318742252692399,
          7.649692623711514,
          7.649692623711514,
          8.476371196895983,
          8.895629627136483,
          9.035986984831405,
          9.035986984831405,
          8.648221453822641,
          8.948975607841776,
          7.313220387090301,
          8.748304912379623,
          8.101677747454572,
          7.600902459542082,
          8.131530710604252,
          7.696212639346407,
          7.438383530044307,
          7.649692623711514,
          8.101677747454572,
          9.035986984831405,
          7.313220387090301,
          8.242756345714477,
          8.895629627136483,
          7.9724660159745655,
          8.131530710604252,
          8.575462099540212,
          8.006367567650246,
          8.45531778769815,
          7.600902459542082,
          7.438383530044307,
          8.389359819906353,
          9.02401079378469,
          7.170119543449628,
          7.824046010856292,
          8.764053269347762,
          9.082507000466299,
          8.748304912379623,
          7.696212639346407,
          8.101677747454572,
          7.24422751560335,
          9.035986984831405,
          8.66561319653451,
          8.85366542803745,
          8.101677747454572,
          7.313220387090301,
          8.34283980427146,
          9.190137664658664,
          8.83927669058535,
          9.230142999272362,
          8.824677891164198,
          8.935903526274423,
          8.948975607841776,
          9.169518377455928,
          7.549609165154532,
          9.179881164491475,
          9.126958763037132,
          9.071078304642676,
          8.974618038455112,
          8.987196820661973,
          8.66561319653451,
          8.496990484098719,
          7.438383530044307,
          9.190137664658664,
          7.170119543449628,
          9.116029692504942,
          8.160518247477505,
          8.496990484098719,
          9.116029692504942,
          9.137769679141348,
          8.556413904569519,
          8.594154232552366,
          8.987196820661973,
          8.575462099540212,
          8.34283980427146,
          8.764053269347762,
          8.575462099540212,
          8.101677747454572,
          8.594154232552366,
          7.438383530044307,
          8.68270762989381,
          8.294049640102028,
          8.160518247477505,
          9.082507000466299,
          7.937374696163295,
          9.148464968258095,
          8.948975607841776,
          9.011889433252344,
          8.101677747454572,
          8.160518247477505,
          8.34283980427146,
          8.748304912379623,
          7.649692623711514,
          8.34283980427146,
          7.003065458786462,
          8.160518247477505,
          8.648221453822641,
          9.02401079378469,
          7.090076835776092,
          8.987196820661973,
          7.090076835776092,
          8.935903526274423,
          9.137769679141348,
          8.101677747454572,
          8.881836305004146,
          8.824677891164198,
          8.411832675758411,
          8.824677891164198,
          9.148464968258095,
          7.90100705199242,
          9.035986984831405,
          9.20029003612268,
          9.0595174822416,
          8.556413904569519,
          8.630521876723241,
          8.476371196895983,
          8.66561319653451,
          8.242756345714477,
          9.116029692504942,
          9.035986984831405,
          7.549609165154532,
          7.24422751560335,
          8.764053269347762,
          8.824677891164198,
          8.101677747454572,
          7.170119543449628,
          8.794824928014517,
          7.8632667240095735,
          8.294049640102028,
          9.137769679141348,
          8.961879012677683,
          8.85366542803745,
          8.699514748210191,
          9.259130536145614,
          8.948975607841776,
          9.02401079378469,
          7.600902459542082,
          8.556413904569519,
          8.881836305004146,
          7.090076835776092,
          9.126958763037132,
          9.082507000466299,
          8.294049640102028,
          7.313220387090301,
          8.648221453822641,
          9.093806555720231,
          8.699514748210191,
          7.824046010856292,
          9.249561085129464,
          9.20029003612268,
          7.549609165154532,
          9.011889433252344,
          7.170119543449628,
          8.974618038455112,
          7.438383530044307,
          7.090076835776092,
          8.160518247477505,
          9.116029692504942,
          7.24422751560335,
          7.438383530044307,
          8.794824928014517,
          8.131530710604252,
          9.190137664658664,
          9.116029692504942,
          8.630521876723241,
          8.974618038455112,
          8.909235279192261,
          7.003065458786462,
          9.148464968258095,
          9.148464968258095,
          8.318742252692399,
          9.035986984831405,
          8.935903526274423,
          8.881836305004146,
          8.101677747454572,
          7.090076835776092,
          8.433811582477187,
          8.895629627136483,
          8.006367567650246,
          7.824046010856292,
          8.294049640102028,
          9.02401079378469,
          7.313220387090301,
          8.935903526274423,
          8.411832675758411,
          8.948975607841776,
          7.495541943884256,
          8.83927669058535,
          7.313220387090301,
          8.556413904569519,
          8.242756345714477,
          7.783224016336037,
          9.082507000466299,
          9.259130536145614,
          8.895629627136483,
          8.987196820661973,
          7.170119543449628,
          8.895629627136483,
          8.974618038455112,
          7.313220387090301,
          8.948975607841776,
          7.495541943884256,
          8.824677891164198,
          9.011889433252344,
          8.101677747454572
         ]
        }
       ],
       "layout": {
        "height": 500,
        "template": {
         "data": {
          "bar": [
           {
            "error_x": {
             "color": "#2a3f5f"
            },
            "error_y": {
             "color": "#2a3f5f"
            },
            "marker": {
             "line": {
              "color": "#E5ECF6",
              "width": 0.5
             },
             "pattern": {
              "fillmode": "overlay",
              "size": 10,
              "solidity": 0.2
             }
            },
            "type": "bar"
           }
          ],
          "barpolar": [
           {
            "marker": {
             "line": {
              "color": "#E5ECF6",
              "width": 0.5
             },
             "pattern": {
              "fillmode": "overlay",
              "size": 10,
              "solidity": 0.2
             }
            },
            "type": "barpolar"
           }
          ],
          "carpet": [
           {
            "aaxis": {
             "endlinecolor": "#2a3f5f",
             "gridcolor": "white",
             "linecolor": "white",
             "minorgridcolor": "white",
             "startlinecolor": "#2a3f5f"
            },
            "baxis": {
             "endlinecolor": "#2a3f5f",
             "gridcolor": "white",
             "linecolor": "white",
             "minorgridcolor": "white",
             "startlinecolor": "#2a3f5f"
            },
            "type": "carpet"
           }
          ],
          "choropleth": [
           {
            "colorbar": {
             "outlinewidth": 0,
             "ticks": ""
            },
            "type": "choropleth"
           }
          ],
          "contour": [
           {
            "colorbar": {
             "outlinewidth": 0,
             "ticks": ""
            },
            "colorscale": [
             [
              0,
              "#0d0887"
             ],
             [
              0.1111111111111111,
              "#46039f"
             ],
             [
              0.2222222222222222,
              "#7201a8"
             ],
             [
              0.3333333333333333,
              "#9c179e"
             ],
             [
              0.4444444444444444,
              "#bd3786"
             ],
             [
              0.5555555555555556,
              "#d8576b"
             ],
             [
              0.6666666666666666,
              "#ed7953"
             ],
             [
              0.7777777777777778,
              "#fb9f3a"
             ],
             [
              0.8888888888888888,
              "#fdca26"
             ],
             [
              1,
              "#f0f921"
             ]
            ],
            "type": "contour"
           }
          ],
          "contourcarpet": [
           {
            "colorbar": {
             "outlinewidth": 0,
             "ticks": ""
            },
            "type": "contourcarpet"
           }
          ],
          "heatmap": [
           {
            "colorbar": {
             "outlinewidth": 0,
             "ticks": ""
            },
            "colorscale": [
             [
              0,
              "#0d0887"
             ],
             [
              0.1111111111111111,
              "#46039f"
             ],
             [
              0.2222222222222222,
              "#7201a8"
             ],
             [
              0.3333333333333333,
              "#9c179e"
             ],
             [
              0.4444444444444444,
              "#bd3786"
             ],
             [
              0.5555555555555556,
              "#d8576b"
             ],
             [
              0.6666666666666666,
              "#ed7953"
             ],
             [
              0.7777777777777778,
              "#fb9f3a"
             ],
             [
              0.8888888888888888,
              "#fdca26"
             ],
             [
              1,
              "#f0f921"
             ]
            ],
            "type": "heatmap"
           }
          ],
          "heatmapgl": [
           {
            "colorbar": {
             "outlinewidth": 0,
             "ticks": ""
            },
            "colorscale": [
             [
              0,
              "#0d0887"
             ],
             [
              0.1111111111111111,
              "#46039f"
             ],
             [
              0.2222222222222222,
              "#7201a8"
             ],
             [
              0.3333333333333333,
              "#9c179e"
             ],
             [
              0.4444444444444444,
              "#bd3786"
             ],
             [
              0.5555555555555556,
              "#d8576b"
             ],
             [
              0.6666666666666666,
              "#ed7953"
             ],
             [
              0.7777777777777778,
              "#fb9f3a"
             ],
             [
              0.8888888888888888,
              "#fdca26"
             ],
             [
              1,
              "#f0f921"
             ]
            ],
            "type": "heatmapgl"
           }
          ],
          "histogram": [
           {
            "marker": {
             "pattern": {
              "fillmode": "overlay",
              "size": 10,
              "solidity": 0.2
             }
            },
            "type": "histogram"
           }
          ],
          "histogram2d": [
           {
            "colorbar": {
             "outlinewidth": 0,
             "ticks": ""
            },
            "colorscale": [
             [
              0,
              "#0d0887"
             ],
             [
              0.1111111111111111,
              "#46039f"
             ],
             [
              0.2222222222222222,
              "#7201a8"
             ],
             [
              0.3333333333333333,
              "#9c179e"
             ],
             [
              0.4444444444444444,
              "#bd3786"
             ],
             [
              0.5555555555555556,
              "#d8576b"
             ],
             [
              0.6666666666666666,
              "#ed7953"
             ],
             [
              0.7777777777777778,
              "#fb9f3a"
             ],
             [
              0.8888888888888888,
              "#fdca26"
             ],
             [
              1,
              "#f0f921"
             ]
            ],
            "type": "histogram2d"
           }
          ],
          "histogram2dcontour": [
           {
            "colorbar": {
             "outlinewidth": 0,
             "ticks": ""
            },
            "colorscale": [
             [
              0,
              "#0d0887"
             ],
             [
              0.1111111111111111,
              "#46039f"
             ],
             [
              0.2222222222222222,
              "#7201a8"
             ],
             [
              0.3333333333333333,
              "#9c179e"
             ],
             [
              0.4444444444444444,
              "#bd3786"
             ],
             [
              0.5555555555555556,
              "#d8576b"
             ],
             [
              0.6666666666666666,
              "#ed7953"
             ],
             [
              0.7777777777777778,
              "#fb9f3a"
             ],
             [
              0.8888888888888888,
              "#fdca26"
             ],
             [
              1,
              "#f0f921"
             ]
            ],
            "type": "histogram2dcontour"
           }
          ],
          "mesh3d": [
           {
            "colorbar": {
             "outlinewidth": 0,
             "ticks": ""
            },
            "type": "mesh3d"
           }
          ],
          "parcoords": [
           {
            "line": {
             "colorbar": {
              "outlinewidth": 0,
              "ticks": ""
             }
            },
            "type": "parcoords"
           }
          ],
          "pie": [
           {
            "automargin": true,
            "type": "pie"
           }
          ],
          "scatter": [
           {
            "fillpattern": {
             "fillmode": "overlay",
             "size": 10,
             "solidity": 0.2
            },
            "type": "scatter"
           }
          ],
          "scatter3d": [
           {
            "line": {
             "colorbar": {
              "outlinewidth": 0,
              "ticks": ""
             }
            },
            "marker": {
             "colorbar": {
              "outlinewidth": 0,
              "ticks": ""
             }
            },
            "type": "scatter3d"
           }
          ],
          "scattercarpet": [
           {
            "marker": {
             "colorbar": {
              "outlinewidth": 0,
              "ticks": ""
             }
            },
            "type": "scattercarpet"
           }
          ],
          "scattergeo": [
           {
            "marker": {
             "colorbar": {
              "outlinewidth": 0,
              "ticks": ""
             }
            },
            "type": "scattergeo"
           }
          ],
          "scattergl": [
           {
            "marker": {
             "colorbar": {
              "outlinewidth": 0,
              "ticks": ""
             }
            },
            "type": "scattergl"
           }
          ],
          "scattermapbox": [
           {
            "marker": {
             "colorbar": {
              "outlinewidth": 0,
              "ticks": ""
             }
            },
            "type": "scattermapbox"
           }
          ],
          "scatterpolar": [
           {
            "marker": {
             "colorbar": {
              "outlinewidth": 0,
              "ticks": ""
             }
            },
            "type": "scatterpolar"
           }
          ],
          "scatterpolargl": [
           {
            "marker": {
             "colorbar": {
              "outlinewidth": 0,
              "ticks": ""
             }
            },
            "type": "scatterpolargl"
           }
          ],
          "scatterternary": [
           {
            "marker": {
             "colorbar": {
              "outlinewidth": 0,
              "ticks": ""
             }
            },
            "type": "scatterternary"
           }
          ],
          "surface": [
           {
            "colorbar": {
             "outlinewidth": 0,
             "ticks": ""
            },
            "colorscale": [
             [
              0,
              "#0d0887"
             ],
             [
              0.1111111111111111,
              "#46039f"
             ],
             [
              0.2222222222222222,
              "#7201a8"
             ],
             [
              0.3333333333333333,
              "#9c179e"
             ],
             [
              0.4444444444444444,
              "#bd3786"
             ],
             [
              0.5555555555555556,
              "#d8576b"
             ],
             [
              0.6666666666666666,
              "#ed7953"
             ],
             [
              0.7777777777777778,
              "#fb9f3a"
             ],
             [
              0.8888888888888888,
              "#fdca26"
             ],
             [
              1,
              "#f0f921"
             ]
            ],
            "type": "surface"
           }
          ],
          "table": [
           {
            "cells": {
             "fill": {
              "color": "#EBF0F8"
             },
             "line": {
              "color": "white"
             }
            },
            "header": {
             "fill": {
              "color": "#C8D4E3"
             },
             "line": {
              "color": "white"
             }
            },
            "type": "table"
           }
          ]
         },
         "layout": {
          "annotationdefaults": {
           "arrowcolor": "#2a3f5f",
           "arrowhead": 0,
           "arrowwidth": 1
          },
          "autotypenumbers": "strict",
          "coloraxis": {
           "colorbar": {
            "outlinewidth": 0,
            "ticks": ""
           }
          },
          "colorscale": {
           "diverging": [
            [
             0,
             "#8e0152"
            ],
            [
             0.1,
             "#c51b7d"
            ],
            [
             0.2,
             "#de77ae"
            ],
            [
             0.3,
             "#f1b6da"
            ],
            [
             0.4,
             "#fde0ef"
            ],
            [
             0.5,
             "#f7f7f7"
            ],
            [
             0.6,
             "#e6f5d0"
            ],
            [
             0.7,
             "#b8e186"
            ],
            [
             0.8,
             "#7fbc41"
            ],
            [
             0.9,
             "#4d9221"
            ],
            [
             1,
             "#276419"
            ]
           ],
           "sequential": [
            [
             0,
             "#0d0887"
            ],
            [
             0.1111111111111111,
             "#46039f"
            ],
            [
             0.2222222222222222,
             "#7201a8"
            ],
            [
             0.3333333333333333,
             "#9c179e"
            ],
            [
             0.4444444444444444,
             "#bd3786"
            ],
            [
             0.5555555555555556,
             "#d8576b"
            ],
            [
             0.6666666666666666,
             "#ed7953"
            ],
            [
             0.7777777777777778,
             "#fb9f3a"
            ],
            [
             0.8888888888888888,
             "#fdca26"
            ],
            [
             1,
             "#f0f921"
            ]
           ],
           "sequentialminus": [
            [
             0,
             "#0d0887"
            ],
            [
             0.1111111111111111,
             "#46039f"
            ],
            [
             0.2222222222222222,
             "#7201a8"
            ],
            [
             0.3333333333333333,
             "#9c179e"
            ],
            [
             0.4444444444444444,
             "#bd3786"
            ],
            [
             0.5555555555555556,
             "#d8576b"
            ],
            [
             0.6666666666666666,
             "#ed7953"
            ],
            [
             0.7777777777777778,
             "#fb9f3a"
            ],
            [
             0.8888888888888888,
             "#fdca26"
            ],
            [
             1,
             "#f0f921"
            ]
           ]
          },
          "colorway": [
           "#636efa",
           "#EF553B",
           "#00cc96",
           "#ab63fa",
           "#FFA15A",
           "#19d3f3",
           "#FF6692",
           "#B6E880",
           "#FF97FF",
           "#FECB52"
          ],
          "font": {
           "color": "#2a3f5f"
          },
          "geo": {
           "bgcolor": "white",
           "lakecolor": "white",
           "landcolor": "#E5ECF6",
           "showlakes": true,
           "showland": true,
           "subunitcolor": "white"
          },
          "hoverlabel": {
           "align": "left"
          },
          "hovermode": "closest",
          "mapbox": {
           "style": "light"
          },
          "paper_bgcolor": "white",
          "plot_bgcolor": "#E5ECF6",
          "polar": {
           "angularaxis": {
            "gridcolor": "white",
            "linecolor": "white",
            "ticks": ""
           },
           "bgcolor": "#E5ECF6",
           "radialaxis": {
            "gridcolor": "white",
            "linecolor": "white",
            "ticks": ""
           }
          },
          "scene": {
           "xaxis": {
            "backgroundcolor": "#E5ECF6",
            "gridcolor": "white",
            "gridwidth": 2,
            "linecolor": "white",
            "showbackground": true,
            "ticks": "",
            "zerolinecolor": "white"
           },
           "yaxis": {
            "backgroundcolor": "#E5ECF6",
            "gridcolor": "white",
            "gridwidth": 2,
            "linecolor": "white",
            "showbackground": true,
            "ticks": "",
            "zerolinecolor": "white"
           },
           "zaxis": {
            "backgroundcolor": "#E5ECF6",
            "gridcolor": "white",
            "gridwidth": 2,
            "linecolor": "white",
            "showbackground": true,
            "ticks": "",
            "zerolinecolor": "white"
           }
          },
          "shapedefaults": {
           "line": {
            "color": "#2a3f5f"
           }
          },
          "ternary": {
           "aaxis": {
            "gridcolor": "white",
            "linecolor": "white",
            "ticks": ""
           },
           "baxis": {
            "gridcolor": "white",
            "linecolor": "white",
            "ticks": ""
           },
           "bgcolor": "#E5ECF6",
           "caxis": {
            "gridcolor": "white",
            "linecolor": "white",
            "ticks": ""
           }
          },
          "title": {
           "x": 0.05
          },
          "xaxis": {
           "automargin": true,
           "gridcolor": "white",
           "linecolor": "white",
           "ticks": "",
           "title": {
            "standoff": 15
           },
           "zerolinecolor": "white",
           "zerolinewidth": 2
          },
          "yaxis": {
           "automargin": true,
           "gridcolor": "white",
           "linecolor": "white",
           "ticks": "",
           "title": {
            "standoff": 15
           },
           "zerolinecolor": "white",
           "zerolinewidth": 2
          }
         }
        },
        "title": {
         "text": "KNN:Observed target vs Predicted target using train data"
        },
        "width": 800,
        "xaxis": {
         "title": {
          "text": "Observed consult_cost"
         }
        },
        "yaxis": {
         "title": {
          "text": "Predicted consult_cost"
         }
        }
       }
      }
     },
     "metadata": {},
     "output_type": "display_data"
    }
   ],
   "source": [
    "\n",
    "fig = go.Figure()\n",
    "\n",
    "# scatter plot using trained data\n",
    "fig.add_trace(go.Scatter(y=y_train, x=knn.predict(x_train), mode='markers', marker=dict(color='blue')))\n",
    "\n",
    "# diagonal line to represent predictions\n",
    "fig.add_trace(go.Scatter(y=y_train, x=y_train, mode='lines', line=dict(color='red')))\n",
    "\n",
    "fig.update_layout(title='KNN:Observed target vs Predicted target using train data', xaxis_title='Observed consult_cost', \n",
    "                  yaxis_title='Predicted consult_cost', width=800, height=500)\n",
    "fig.show()"
   ]
  },
  {
   "cell_type": "code",
   "execution_count": 58,
   "metadata": {},
   "outputs": [
    {
     "data": {
      "application/vnd.plotly.v1+json": {
       "config": {
        "plotlyServerURL": "https://plot.ly"
       },
       "data": [
        {
         "marker": {
          "color": "blue"
         },
         "mode": "markers",
         "type": "scatter",
         "x": [
          8.149126565469295,
          8.973559683174365,
          7.171464376264662,
          8.46781178888147,
          7.466642280087078,
          7.187885361181831,
          9.010860996036763,
          7.21076442317151,
          8.842133431878871,
          9.1882074404377,
          7.220142291500853,
          8.665068467526448,
          9.125265697889402,
          8.670962164583939,
          7.801812579954393,
          8.611107857193343,
          9.058128974625323,
          8.426195728515404,
          8.587763301132368,
          8.775778815660937,
          8.957487511527374,
          8.746981351081699,
          7.6200265420199695,
          7.247876669092135,
          8.895059127243535,
          7.894409929100242,
          7.509445100351902,
          8.55146304424842,
          7.583506997446196,
          8.126983532029678,
          8.010274959519837,
          8.884313472885683,
          9.131580367636339,
          7.163896009150967,
          7.20890529441267,
          7.642967946996043,
          9.251022719867679,
          9.029672577576171,
          8.586426366864831,
          9.036941802354187,
          7.482339953803155,
          8.519279066646822,
          7.2004674938248545,
          7.4608714635106015,
          8.576005400333873,
          9.035092348095318,
          9.076066103934473,
          7.1621335056289634,
          9.063420359661071,
          7.244927184686755,
          8.894924947423746,
          8.749834851468473,
          8.037705769106601,
          8.607293678828754,
          8.484306422367967,
          7.173835487903915,
          8.477219251150483,
          8.49178542313882,
          9.017278079072373,
          8.663619565218836,
          7.3272443548738035,
          9.132020411714517,
          9.17103901711432,
          8.829025518127189,
          8.765247573952294,
          8.84315954907773,
          7.974373991960964,
          7.501420800228596,
          8.89314119905037,
          9.227229622813727,
          9.062165022959551,
          8.458827092166427,
          8.893284762373991,
          8.148477580629718,
          9.01587061019489,
          9.022260316348335,
          8.826116009557413,
          8.283179090019862,
          8.765051317775352,
          8.574714123898396,
          8.672565818221,
          9.020808770518535,
          9.179784208085469,
          9.012453392287048,
          7.590069717531629,
          8.501354394889532,
          8.191432086852092,
          7.064289890168584,
          7.897344063720593,
          8.969227889472215,
          8.932222373681812,
          8.337917626864584,
          8.972081754375118,
          7.282024579373848,
          8.317715334632748,
          7.878836025949592,
          9.07812165023104,
          8.845125658068133,
          8.839492037128911,
          8.66890622098715,
          9.068447984021091,
          9.024999403245873,
          8.497982531378993,
          9.185765570489364,
          8.460778253014833,
          8.779683268286842,
          7.816223966668494,
          7.599074073098302,
          8.891573262695145,
          7.24602293434493,
          8.557301930892969,
          8.55925781188067,
          7.177391586804621,
          7.928193878227001,
          7.1605941418201295,
          9.026588762397623,
          9.084425227774032,
          7.795197842627305,
          9.010885517959109,
          8.887480306873819,
          7.849446009121397,
          8.514649481188826,
          8.901582333427235,
          8.580914283047328,
          9.08732754053255,
          8.962867143069118,
          8.10442312762228,
          8.491404487160787,
          8.828016709453859,
          9.016172928079099,
          7.155039728203035,
          7.233316506898221,
          8.142303655258692,
          9.081507504592388,
          8.338639301063802,
          8.460702751657779,
          9.059300380313891,
          8.277367505335205,
          7.227379296194794,
          7.812522584360176,
          8.844799065028653,
          8.421510042084238,
          8.889383221460859,
          7.600866644013851,
          7.869954719738992,
          9.116207503597941,
          8.999070881271685,
          9.141992552819518,
          8.848331092081716,
          7.165598292003974,
          7.119301322360769,
          8.47095519598885,
          9.195670387504459,
          9.155605252450496,
          7.550795573590941,
          8.58925511115375,
          8.437167466597172,
          8.903906554481313,
          8.459900016734226,
          8.567815889982896,
          9.128642467255471,
          8.146132614891565,
          7.080557045483154,
          9.129912329682929,
          7.124390998016301,
          9.062749422677852,
          9.128450085526389,
          9.176422045265774,
          8.9714932219781,
          8.95788616847094,
          9.012739490527888,
          8.75016056268008,
          8.294572339718362,
          8.975368243257943,
          8.959377371486081,
          7.753568510631559,
          8.139041507403,
          7.213656912375063,
          7.3411913116912,
          9.226992349729239,
          9.210805267580703,
          8.564891591559022,
          8.451845215642434,
          9.180137292809647,
          7.251584965254827,
          9.033464726237321,
          8.828312886681664,
          7.730426016660707,
          8.287313237705812,
          9.129297640742536,
          9.172560120247114,
          9.000442801819489,
          9.132220123816888,
          8.649642727296735,
          9.142369671794134,
          8.442318739892018,
          8.334395613379808,
          8.90517228669966,
          9.105412768540333,
          8.29421399412391,
          9.027886918890006,
          7.476133123100067,
          9.171341775098966,
          8.556173203173367,
          8.818247573002715,
          7.092142343371299,
          8.659798574044293,
          7.9283319577765905,
          8.895463543403677,
          7.168037517920966,
          7.215876204735308,
          9.22717847180706,
          7.20844296146378,
          8.299394417540341,
          7.595186607311897,
          7.604690042496569,
          8.45996079224028,
          8.893273502169398,
          9.010888817502751,
          9.039513288216796,
          8.640606490445498,
          8.951502922623423,
          7.2711255258930905,
          8.754139097674983,
          8.117932446194375,
          7.588706705102698,
          8.128748747030366,
          7.576020950540594,
          7.418505961867163,
          7.593313528486981,
          8.123176165619856,
          9.043802438792802,
          7.377227998336075,
          8.268384018528153,
          8.91497749131464,
          7.927666579056079,
          8.06819517505915,
          8.565884300488548,
          8.019745043921256,
          8.445308555399663,
          7.679245829867657,
          7.455534824988335,
          8.420362273766223,
          9.020187329003065,
          7.178676755478308,
          7.852195303341317,
          8.766514735726906,
          9.069313301554576,
          8.754892164646392,
          7.618751112696345,
          8.115578826193458,
          7.215354317922565,
          9.029204156074458,
          8.668996227159147,
          8.841696095911454,
          8.041799089936104,
          7.26650899533815,
          8.305259090168299,
          9.19874243606062,
          8.83561833646731,
          9.223230540271757,
          8.824290466501372,
          8.960419086929777,
          8.954595986847911,
          9.16962597492949,
          7.540194852995274,
          9.181653921660363,
          9.134048575929182,
          9.067582714700507,
          8.970679126886214,
          8.970835685792368,
          8.654450072356012,
          8.471806250906669,
          7.485230081486024,
          9.176151132488952,
          7.201634550879391,
          9.118614612573403,
          8.15496734415777,
          8.485977139989231,
          9.134871533040789,
          9.136343219720407,
          8.550208595969961,
          8.582208489879829,
          8.972089650399361,
          8.56925151993405,
          8.313947227995383,
          8.737615598117667,
          8.564342216198495,
          8.123483349514116,
          8.573327467085045,
          7.464358445035312,
          8.66750292185884,
          8.275526319033855,
          8.146729674154559,
          9.068107956036705,
          7.847241896159943,
          9.134158208948904,
          8.944580657548611,
          9.028978221822136,
          8.116158576930923,
          8.146746982680087,
          8.323665548327812,
          8.757104397206698,
          7.712497812907617,
          8.329541303434798,
          7.070120814646202,
          8.145219717471546,
          8.671576556237728,
          9.022066189043336,
          7.115356561416804,
          8.994708194302817,
          7.132782407363436,
          8.956223710366583,
          9.15114164447001,
          8.16701157616297,
          8.883489626959271,
          8.827436958716397,
          8.45766550665001,
          8.819596333785684,
          9.142835543825257,
          7.903524638835073,
          9.022442862661688,
          9.185614414885945,
          9.082108640739637,
          8.563799973173053,
          8.637108426321166,
          8.47170709399229,
          8.657413837228923,
          8.264709599856996,
          9.122719522418722,
          9.031637161364092,
          7.526217923786184,
          7.211879952636787,
          8.746724659789994,
          8.828737995162152,
          8.110239909877572,
          7.171745229592034,
          8.782738779442015,
          7.8527355092580615,
          8.295744359159773,
          9.133039713333892,
          8.962533541046447,
          8.84976576458754,
          8.68627008262875,
          9.249454477563809,
          8.943597887339191,
          9.033021502142077,
          7.508753493890605,
          8.549598195127036,
          8.888702938858069,
          7.1168385507859355,
          9.125336398498757,
          9.06937233029338,
          8.281101553480234,
          7.237338248893133,
          8.685078991426899,
          9.107731530861134,
          8.683819276227855,
          7.920818730965651,
          9.247646115359935,
          9.203389176896112,
          7.528982552068245,
          9.038396873006318,
          7.167526176954846,
          8.958738107760128,
          7.414063897910824,
          7.240117383616255,
          8.129378649941954,
          9.115067097549744,
          7.185983556169533,
          7.352153960820406,
          8.805112269216846,
          8.134905363875866,
          9.181180858987775,
          9.114521891533515,
          8.64929796547912,
          8.98188906879394,
          8.900480744357418,
          7.041514666728708,
          9.154723578547031,
          9.160207661421307,
          8.312314088582239,
          9.02890321129604,
          8.96277782020384,
          8.887198810328877,
          8.100370459786992,
          7.139149298287482,
          8.452020147397025,
          8.896432829354472,
          7.956732165163407,
          7.857637964995432,
          8.283251055674226,
          9.012716888496282,
          7.251462191074216,
          8.940974320044706,
          8.440658667720891,
          8.950007869700922,
          7.458725252961382,
          8.83606495471271,
          7.379700616542766,
          8.5450068965039,
          8.212180243766564,
          7.789394066294599,
          9.079680645083952,
          9.252951065084048,
          8.895875466366885,
          8.974354244024054,
          7.158479258027946,
          8.925105166980543,
          8.96004912189012,
          7.2631679136448835,
          8.947216216107472,
          7.459285481216683,
          8.829171757905403,
          9.014897754373267,
          8.12168351746237
         ],
         "y": [
          8.160518247477505,
          8.987196820661973,
          7.170119543449628,
          8.476371196895983,
          7.438383530044307,
          7.170119543449628,
          9.011889433252344,
          7.24422751560335,
          8.83927669058535,
          9.20029003612268,
          7.24422751560335,
          8.68270762989381,
          9.126958763037132,
          8.68270762989381,
          7.783224016336037,
          8.575462099540212,
          9.0595174822416,
          8.389359819906353,
          8.594154232552366,
          8.794824928014517,
          8.948975607841776,
          8.732304571033183,
          7.649692623711514,
          7.090076835776092,
          8.895629627136483,
          7.90100705199242,
          7.549609165154532,
          8.594154232552366,
          7.649692623711514,
          8.131530710604252,
          8.006367567650246,
          8.881836305004146,
          9.137769679141348,
          7.170119543449628,
          7.24422751560335,
          7.696212639346407,
          9.259130536145614,
          9.035986984831405,
          8.594154232552366,
          9.035986984831405,
          7.438383530044307,
          8.496990484098719,
          7.170119543449628,
          7.495541943884256,
          8.594154232552366,
          9.02401079378469,
          9.082507000466299,
          7.170119543449628,
          9.071078304642676,
          7.003065458786462,
          8.895629627136483,
          8.732304571033183,
          8.101677747454572,
          8.575462099540212,
          8.517193191416238,
          7.170119543449628,
          8.476371196895983,
          8.517193191416238,
          9.011889433252344,
          8.68270762989381,
          7.313220387090301,
          9.137769679141348,
          9.169518377455928,
          8.824677891164198,
          8.764053269347762,
          8.83927669058535,
          8.006367567650246,
          7.495541943884256,
          8.895629627136483,
          9.230142999272362,
          9.071078304642676,
          8.45531778769815,
          8.895629627136483,
          8.160518247477505,
          9.011889433252344,
          9.02401079378469,
          8.824677891164198,
          8.294049640102028,
          8.764053269347762,
          8.575462099540212,
          8.699514748210191,
          9.02401079378469,
          9.20029003612268,
          9.035986984831405,
          7.649692623711514,
          8.517193191416238,
          8.131530710604252,
          7.003065458786462,
          7.783224016336037,
          8.974618038455112,
          8.935903526274423,
          8.34283980427146,
          8.987196820661973,
          7.313220387090301,
          8.34283980427146,
          7.8632667240095735,
          9.082507000466299,
          8.85366542803745,
          8.83927669058535,
          8.68270762989381,
          9.093806555720231,
          9.011889433252344,
          8.517193191416238,
          9.190137664658664,
          8.45531778769815,
          8.794824928014517,
          7.824046010856292,
          7.696212639346407,
          8.881836305004146,
          7.170119543449628,
          8.556413904569519,
          8.556413904569519,
          7.170119543449628,
          7.937374696163295,
          7.170119543449628,
          9.035986984831405,
          9.093806555720231,
          7.783224016336037,
          9.011889433252344,
          8.881836305004146,
          7.8632667240095735,
          8.556413904569519,
          8.909235279192261,
          8.594154232552366,
          9.093806555720231,
          8.935903526274423,
          8.101677747454572,
          8.496990484098719,
          8.824677891164198,
          9.035986984831405,
          7.090076835776092,
          7.24422751560335,
          8.160518247477505,
          9.093806555720231,
          8.34283980427146,
          8.45531778769815,
          9.0595174822416,
          8.268731832117737,
          7.24422751560335,
          7.824046010856292,
          8.85366542803745,
          8.389359819906353,
          8.881836305004146,
          7.696212639346407,
          7.824046010856292,
          9.116029692504942,
          9.011889433252344,
          9.148464968258095,
          8.85366542803745,
          7.003065458786462,
          7.090076835776092,
          8.496990484098719,
          9.20029003612268,
          9.169518377455928,
          7.495541943884256,
          8.594154232552366,
          8.411832675758411,
          8.909235279192261,
          8.411832675758411,
          8.575462099540212,
          9.126958763037132,
          8.160518247477505,
          7.003065458786462,
          9.148464968258095,
          7.090076835776092,
          9.071078304642676,
          9.137769679141348,
          9.190137664658664,
          8.974618038455112,
          8.961879012677683,
          9.011889433252344,
          8.794824928014517,
          8.294049640102028,
          8.948975607841776,
          8.961879012677683,
          7.696212639346407,
          8.131530710604252,
          7.24422751560335,
          7.24422751560335,
          9.230142999272362,
          9.20029003612268,
          8.556413904569519,
          8.45531778769815,
          9.179881164491475,
          7.313220387090301,
          9.035986984831405,
          8.824677891164198,
          7.696212639346407,
          8.268731832117737,
          9.137769679141348,
          9.169518377455928,
          9.02401079378469,
          9.137769679141348,
          8.630521876723241,
          9.116029692504942,
          8.411832675758411,
          8.34283980427146,
          8.881836305004146,
          9.093806555720231,
          8.294049640102028,
          9.035986984831405,
          7.438383530044307,
          9.169518377455928,
          8.556413904569519,
          8.824677891164198,
          7.003065458786462,
          8.66561319653451,
          7.9724660159745655,
          8.895629627136483,
          7.170119543449628,
          7.24422751560335,
          9.230142999272362,
          7.24422751560335,
          8.318742252692399,
          7.649692623711514,
          7.649692623711514,
          8.476371196895983,
          8.895629627136483,
          9.035986984831405,
          9.035986984831405,
          8.648221453822641,
          8.948975607841776,
          7.313220387090301,
          8.748304912379623,
          8.101677747454572,
          7.600902459542082,
          8.131530710604252,
          7.696212639346407,
          7.438383530044307,
          7.649692623711514,
          8.101677747454572,
          9.035986984831405,
          7.313220387090301,
          8.242756345714477,
          8.895629627136483,
          7.9724660159745655,
          8.131530710604252,
          8.575462099540212,
          8.006367567650246,
          8.45531778769815,
          7.600902459542082,
          7.438383530044307,
          8.389359819906353,
          9.02401079378469,
          7.170119543449628,
          7.824046010856292,
          8.764053269347762,
          9.082507000466299,
          8.748304912379623,
          7.696212639346407,
          8.101677747454572,
          7.24422751560335,
          9.035986984831405,
          8.66561319653451,
          8.85366542803745,
          8.101677747454572,
          7.313220387090301,
          8.34283980427146,
          9.190137664658664,
          8.83927669058535,
          9.230142999272362,
          8.824677891164198,
          8.935903526274423,
          8.948975607841776,
          9.169518377455928,
          7.549609165154532,
          9.179881164491475,
          9.126958763037132,
          9.071078304642676,
          8.974618038455112,
          8.987196820661973,
          8.66561319653451,
          8.496990484098719,
          7.438383530044307,
          9.190137664658664,
          7.170119543449628,
          9.116029692504942,
          8.160518247477505,
          8.496990484098719,
          9.116029692504942,
          9.137769679141348,
          8.556413904569519,
          8.594154232552366,
          8.987196820661973,
          8.575462099540212,
          8.34283980427146,
          8.764053269347762,
          8.575462099540212,
          8.101677747454572,
          8.594154232552366,
          7.438383530044307,
          8.68270762989381,
          8.294049640102028,
          8.160518247477505,
          9.082507000466299,
          7.937374696163295,
          9.148464968258095,
          8.948975607841776,
          9.011889433252344,
          8.101677747454572,
          8.160518247477505,
          8.34283980427146,
          8.748304912379623,
          7.649692623711514,
          8.34283980427146,
          7.003065458786462,
          8.160518247477505,
          8.648221453822641,
          9.02401079378469,
          7.090076835776092,
          8.987196820661973,
          7.090076835776092,
          8.935903526274423,
          9.137769679141348,
          8.101677747454572,
          8.881836305004146,
          8.824677891164198,
          8.411832675758411,
          8.824677891164198,
          9.148464968258095,
          7.90100705199242,
          9.035986984831405,
          9.20029003612268,
          9.0595174822416,
          8.556413904569519,
          8.630521876723241,
          8.476371196895983,
          8.66561319653451,
          8.242756345714477,
          9.116029692504942,
          9.035986984831405,
          7.549609165154532,
          7.24422751560335,
          8.764053269347762,
          8.824677891164198,
          8.101677747454572,
          7.170119543449628,
          8.794824928014517,
          7.8632667240095735,
          8.294049640102028,
          9.137769679141348,
          8.961879012677683,
          8.85366542803745,
          8.699514748210191,
          9.259130536145614,
          8.948975607841776,
          9.02401079378469,
          7.600902459542082,
          8.556413904569519,
          8.881836305004146,
          7.090076835776092,
          9.126958763037132,
          9.082507000466299,
          8.294049640102028,
          7.313220387090301,
          8.648221453822641,
          9.093806555720231,
          8.699514748210191,
          7.824046010856292,
          9.249561085129464,
          9.20029003612268,
          7.549609165154532,
          9.011889433252344,
          7.170119543449628,
          8.974618038455112,
          7.438383530044307,
          7.090076835776092,
          8.160518247477505,
          9.116029692504942,
          7.24422751560335,
          7.438383530044307,
          8.794824928014517,
          8.131530710604252,
          9.190137664658664,
          9.116029692504942,
          8.630521876723241,
          8.974618038455112,
          8.909235279192261,
          7.003065458786462,
          9.148464968258095,
          9.148464968258095,
          8.318742252692399,
          9.035986984831405,
          8.935903526274423,
          8.881836305004146,
          8.101677747454572,
          7.090076835776092,
          8.433811582477187,
          8.895629627136483,
          8.006367567650246,
          7.824046010856292,
          8.294049640102028,
          9.02401079378469,
          7.313220387090301,
          8.935903526274423,
          8.411832675758411,
          8.948975607841776,
          7.495541943884256,
          8.83927669058535,
          7.313220387090301,
          8.556413904569519,
          8.242756345714477,
          7.783224016336037,
          9.082507000466299,
          9.259130536145614,
          8.895629627136483,
          8.987196820661973,
          7.170119543449628,
          8.895629627136483,
          8.974618038455112,
          7.313220387090301,
          8.948975607841776,
          7.495541943884256,
          8.824677891164198,
          9.011889433252344,
          8.101677747454572
         ]
        },
        {
         "line": {
          "color": "red"
         },
         "mode": "lines",
         "type": "scatter",
         "x": [
          8.160518247477505,
          8.987196820661973,
          7.170119543449628,
          8.476371196895983,
          7.438383530044307,
          7.170119543449628,
          9.011889433252344,
          7.24422751560335,
          8.83927669058535,
          9.20029003612268,
          7.24422751560335,
          8.68270762989381,
          9.126958763037132,
          8.68270762989381,
          7.783224016336037,
          8.575462099540212,
          9.0595174822416,
          8.389359819906353,
          8.594154232552366,
          8.794824928014517,
          8.948975607841776,
          8.732304571033183,
          7.649692623711514,
          7.090076835776092,
          8.895629627136483,
          7.90100705199242,
          7.549609165154532,
          8.594154232552366,
          7.649692623711514,
          8.131530710604252,
          8.006367567650246,
          8.881836305004146,
          9.137769679141348,
          7.170119543449628,
          7.24422751560335,
          7.696212639346407,
          9.259130536145614,
          9.035986984831405,
          8.594154232552366,
          9.035986984831405,
          7.438383530044307,
          8.496990484098719,
          7.170119543449628,
          7.495541943884256,
          8.594154232552366,
          9.02401079378469,
          9.082507000466299,
          7.170119543449628,
          9.071078304642676,
          7.003065458786462,
          8.895629627136483,
          8.732304571033183,
          8.101677747454572,
          8.575462099540212,
          8.517193191416238,
          7.170119543449628,
          8.476371196895983,
          8.517193191416238,
          9.011889433252344,
          8.68270762989381,
          7.313220387090301,
          9.137769679141348,
          9.169518377455928,
          8.824677891164198,
          8.764053269347762,
          8.83927669058535,
          8.006367567650246,
          7.495541943884256,
          8.895629627136483,
          9.230142999272362,
          9.071078304642676,
          8.45531778769815,
          8.895629627136483,
          8.160518247477505,
          9.011889433252344,
          9.02401079378469,
          8.824677891164198,
          8.294049640102028,
          8.764053269347762,
          8.575462099540212,
          8.699514748210191,
          9.02401079378469,
          9.20029003612268,
          9.035986984831405,
          7.649692623711514,
          8.517193191416238,
          8.131530710604252,
          7.003065458786462,
          7.783224016336037,
          8.974618038455112,
          8.935903526274423,
          8.34283980427146,
          8.987196820661973,
          7.313220387090301,
          8.34283980427146,
          7.8632667240095735,
          9.082507000466299,
          8.85366542803745,
          8.83927669058535,
          8.68270762989381,
          9.093806555720231,
          9.011889433252344,
          8.517193191416238,
          9.190137664658664,
          8.45531778769815,
          8.794824928014517,
          7.824046010856292,
          7.696212639346407,
          8.881836305004146,
          7.170119543449628,
          8.556413904569519,
          8.556413904569519,
          7.170119543449628,
          7.937374696163295,
          7.170119543449628,
          9.035986984831405,
          9.093806555720231,
          7.783224016336037,
          9.011889433252344,
          8.881836305004146,
          7.8632667240095735,
          8.556413904569519,
          8.909235279192261,
          8.594154232552366,
          9.093806555720231,
          8.935903526274423,
          8.101677747454572,
          8.496990484098719,
          8.824677891164198,
          9.035986984831405,
          7.090076835776092,
          7.24422751560335,
          8.160518247477505,
          9.093806555720231,
          8.34283980427146,
          8.45531778769815,
          9.0595174822416,
          8.268731832117737,
          7.24422751560335,
          7.824046010856292,
          8.85366542803745,
          8.389359819906353,
          8.881836305004146,
          7.696212639346407,
          7.824046010856292,
          9.116029692504942,
          9.011889433252344,
          9.148464968258095,
          8.85366542803745,
          7.003065458786462,
          7.090076835776092,
          8.496990484098719,
          9.20029003612268,
          9.169518377455928,
          7.495541943884256,
          8.594154232552366,
          8.411832675758411,
          8.909235279192261,
          8.411832675758411,
          8.575462099540212,
          9.126958763037132,
          8.160518247477505,
          7.003065458786462,
          9.148464968258095,
          7.090076835776092,
          9.071078304642676,
          9.137769679141348,
          9.190137664658664,
          8.974618038455112,
          8.961879012677683,
          9.011889433252344,
          8.794824928014517,
          8.294049640102028,
          8.948975607841776,
          8.961879012677683,
          7.696212639346407,
          8.131530710604252,
          7.24422751560335,
          7.24422751560335,
          9.230142999272362,
          9.20029003612268,
          8.556413904569519,
          8.45531778769815,
          9.179881164491475,
          7.313220387090301,
          9.035986984831405,
          8.824677891164198,
          7.696212639346407,
          8.268731832117737,
          9.137769679141348,
          9.169518377455928,
          9.02401079378469,
          9.137769679141348,
          8.630521876723241,
          9.116029692504942,
          8.411832675758411,
          8.34283980427146,
          8.881836305004146,
          9.093806555720231,
          8.294049640102028,
          9.035986984831405,
          7.438383530044307,
          9.169518377455928,
          8.556413904569519,
          8.824677891164198,
          7.003065458786462,
          8.66561319653451,
          7.9724660159745655,
          8.895629627136483,
          7.170119543449628,
          7.24422751560335,
          9.230142999272362,
          7.24422751560335,
          8.318742252692399,
          7.649692623711514,
          7.649692623711514,
          8.476371196895983,
          8.895629627136483,
          9.035986984831405,
          9.035986984831405,
          8.648221453822641,
          8.948975607841776,
          7.313220387090301,
          8.748304912379623,
          8.101677747454572,
          7.600902459542082,
          8.131530710604252,
          7.696212639346407,
          7.438383530044307,
          7.649692623711514,
          8.101677747454572,
          9.035986984831405,
          7.313220387090301,
          8.242756345714477,
          8.895629627136483,
          7.9724660159745655,
          8.131530710604252,
          8.575462099540212,
          8.006367567650246,
          8.45531778769815,
          7.600902459542082,
          7.438383530044307,
          8.389359819906353,
          9.02401079378469,
          7.170119543449628,
          7.824046010856292,
          8.764053269347762,
          9.082507000466299,
          8.748304912379623,
          7.696212639346407,
          8.101677747454572,
          7.24422751560335,
          9.035986984831405,
          8.66561319653451,
          8.85366542803745,
          8.101677747454572,
          7.313220387090301,
          8.34283980427146,
          9.190137664658664,
          8.83927669058535,
          9.230142999272362,
          8.824677891164198,
          8.935903526274423,
          8.948975607841776,
          9.169518377455928,
          7.549609165154532,
          9.179881164491475,
          9.126958763037132,
          9.071078304642676,
          8.974618038455112,
          8.987196820661973,
          8.66561319653451,
          8.496990484098719,
          7.438383530044307,
          9.190137664658664,
          7.170119543449628,
          9.116029692504942,
          8.160518247477505,
          8.496990484098719,
          9.116029692504942,
          9.137769679141348,
          8.556413904569519,
          8.594154232552366,
          8.987196820661973,
          8.575462099540212,
          8.34283980427146,
          8.764053269347762,
          8.575462099540212,
          8.101677747454572,
          8.594154232552366,
          7.438383530044307,
          8.68270762989381,
          8.294049640102028,
          8.160518247477505,
          9.082507000466299,
          7.937374696163295,
          9.148464968258095,
          8.948975607841776,
          9.011889433252344,
          8.101677747454572,
          8.160518247477505,
          8.34283980427146,
          8.748304912379623,
          7.649692623711514,
          8.34283980427146,
          7.003065458786462,
          8.160518247477505,
          8.648221453822641,
          9.02401079378469,
          7.090076835776092,
          8.987196820661973,
          7.090076835776092,
          8.935903526274423,
          9.137769679141348,
          8.101677747454572,
          8.881836305004146,
          8.824677891164198,
          8.411832675758411,
          8.824677891164198,
          9.148464968258095,
          7.90100705199242,
          9.035986984831405,
          9.20029003612268,
          9.0595174822416,
          8.556413904569519,
          8.630521876723241,
          8.476371196895983,
          8.66561319653451,
          8.242756345714477,
          9.116029692504942,
          9.035986984831405,
          7.549609165154532,
          7.24422751560335,
          8.764053269347762,
          8.824677891164198,
          8.101677747454572,
          7.170119543449628,
          8.794824928014517,
          7.8632667240095735,
          8.294049640102028,
          9.137769679141348,
          8.961879012677683,
          8.85366542803745,
          8.699514748210191,
          9.259130536145614,
          8.948975607841776,
          9.02401079378469,
          7.600902459542082,
          8.556413904569519,
          8.881836305004146,
          7.090076835776092,
          9.126958763037132,
          9.082507000466299,
          8.294049640102028,
          7.313220387090301,
          8.648221453822641,
          9.093806555720231,
          8.699514748210191,
          7.824046010856292,
          9.249561085129464,
          9.20029003612268,
          7.549609165154532,
          9.011889433252344,
          7.170119543449628,
          8.974618038455112,
          7.438383530044307,
          7.090076835776092,
          8.160518247477505,
          9.116029692504942,
          7.24422751560335,
          7.438383530044307,
          8.794824928014517,
          8.131530710604252,
          9.190137664658664,
          9.116029692504942,
          8.630521876723241,
          8.974618038455112,
          8.909235279192261,
          7.003065458786462,
          9.148464968258095,
          9.148464968258095,
          8.318742252692399,
          9.035986984831405,
          8.935903526274423,
          8.881836305004146,
          8.101677747454572,
          7.090076835776092,
          8.433811582477187,
          8.895629627136483,
          8.006367567650246,
          7.824046010856292,
          8.294049640102028,
          9.02401079378469,
          7.313220387090301,
          8.935903526274423,
          8.411832675758411,
          8.948975607841776,
          7.495541943884256,
          8.83927669058535,
          7.313220387090301,
          8.556413904569519,
          8.242756345714477,
          7.783224016336037,
          9.082507000466299,
          9.259130536145614,
          8.895629627136483,
          8.987196820661973,
          7.170119543449628,
          8.895629627136483,
          8.974618038455112,
          7.313220387090301,
          8.948975607841776,
          7.495541943884256,
          8.824677891164198,
          9.011889433252344,
          8.101677747454572
         ],
         "y": [
          8.160518247477505,
          8.987196820661973,
          7.170119543449628,
          8.476371196895983,
          7.438383530044307,
          7.170119543449628,
          9.011889433252344,
          7.24422751560335,
          8.83927669058535,
          9.20029003612268,
          7.24422751560335,
          8.68270762989381,
          9.126958763037132,
          8.68270762989381,
          7.783224016336037,
          8.575462099540212,
          9.0595174822416,
          8.389359819906353,
          8.594154232552366,
          8.794824928014517,
          8.948975607841776,
          8.732304571033183,
          7.649692623711514,
          7.090076835776092,
          8.895629627136483,
          7.90100705199242,
          7.549609165154532,
          8.594154232552366,
          7.649692623711514,
          8.131530710604252,
          8.006367567650246,
          8.881836305004146,
          9.137769679141348,
          7.170119543449628,
          7.24422751560335,
          7.696212639346407,
          9.259130536145614,
          9.035986984831405,
          8.594154232552366,
          9.035986984831405,
          7.438383530044307,
          8.496990484098719,
          7.170119543449628,
          7.495541943884256,
          8.594154232552366,
          9.02401079378469,
          9.082507000466299,
          7.170119543449628,
          9.071078304642676,
          7.003065458786462,
          8.895629627136483,
          8.732304571033183,
          8.101677747454572,
          8.575462099540212,
          8.517193191416238,
          7.170119543449628,
          8.476371196895983,
          8.517193191416238,
          9.011889433252344,
          8.68270762989381,
          7.313220387090301,
          9.137769679141348,
          9.169518377455928,
          8.824677891164198,
          8.764053269347762,
          8.83927669058535,
          8.006367567650246,
          7.495541943884256,
          8.895629627136483,
          9.230142999272362,
          9.071078304642676,
          8.45531778769815,
          8.895629627136483,
          8.160518247477505,
          9.011889433252344,
          9.02401079378469,
          8.824677891164198,
          8.294049640102028,
          8.764053269347762,
          8.575462099540212,
          8.699514748210191,
          9.02401079378469,
          9.20029003612268,
          9.035986984831405,
          7.649692623711514,
          8.517193191416238,
          8.131530710604252,
          7.003065458786462,
          7.783224016336037,
          8.974618038455112,
          8.935903526274423,
          8.34283980427146,
          8.987196820661973,
          7.313220387090301,
          8.34283980427146,
          7.8632667240095735,
          9.082507000466299,
          8.85366542803745,
          8.83927669058535,
          8.68270762989381,
          9.093806555720231,
          9.011889433252344,
          8.517193191416238,
          9.190137664658664,
          8.45531778769815,
          8.794824928014517,
          7.824046010856292,
          7.696212639346407,
          8.881836305004146,
          7.170119543449628,
          8.556413904569519,
          8.556413904569519,
          7.170119543449628,
          7.937374696163295,
          7.170119543449628,
          9.035986984831405,
          9.093806555720231,
          7.783224016336037,
          9.011889433252344,
          8.881836305004146,
          7.8632667240095735,
          8.556413904569519,
          8.909235279192261,
          8.594154232552366,
          9.093806555720231,
          8.935903526274423,
          8.101677747454572,
          8.496990484098719,
          8.824677891164198,
          9.035986984831405,
          7.090076835776092,
          7.24422751560335,
          8.160518247477505,
          9.093806555720231,
          8.34283980427146,
          8.45531778769815,
          9.0595174822416,
          8.268731832117737,
          7.24422751560335,
          7.824046010856292,
          8.85366542803745,
          8.389359819906353,
          8.881836305004146,
          7.696212639346407,
          7.824046010856292,
          9.116029692504942,
          9.011889433252344,
          9.148464968258095,
          8.85366542803745,
          7.003065458786462,
          7.090076835776092,
          8.496990484098719,
          9.20029003612268,
          9.169518377455928,
          7.495541943884256,
          8.594154232552366,
          8.411832675758411,
          8.909235279192261,
          8.411832675758411,
          8.575462099540212,
          9.126958763037132,
          8.160518247477505,
          7.003065458786462,
          9.148464968258095,
          7.090076835776092,
          9.071078304642676,
          9.137769679141348,
          9.190137664658664,
          8.974618038455112,
          8.961879012677683,
          9.011889433252344,
          8.794824928014517,
          8.294049640102028,
          8.948975607841776,
          8.961879012677683,
          7.696212639346407,
          8.131530710604252,
          7.24422751560335,
          7.24422751560335,
          9.230142999272362,
          9.20029003612268,
          8.556413904569519,
          8.45531778769815,
          9.179881164491475,
          7.313220387090301,
          9.035986984831405,
          8.824677891164198,
          7.696212639346407,
          8.268731832117737,
          9.137769679141348,
          9.169518377455928,
          9.02401079378469,
          9.137769679141348,
          8.630521876723241,
          9.116029692504942,
          8.411832675758411,
          8.34283980427146,
          8.881836305004146,
          9.093806555720231,
          8.294049640102028,
          9.035986984831405,
          7.438383530044307,
          9.169518377455928,
          8.556413904569519,
          8.824677891164198,
          7.003065458786462,
          8.66561319653451,
          7.9724660159745655,
          8.895629627136483,
          7.170119543449628,
          7.24422751560335,
          9.230142999272362,
          7.24422751560335,
          8.318742252692399,
          7.649692623711514,
          7.649692623711514,
          8.476371196895983,
          8.895629627136483,
          9.035986984831405,
          9.035986984831405,
          8.648221453822641,
          8.948975607841776,
          7.313220387090301,
          8.748304912379623,
          8.101677747454572,
          7.600902459542082,
          8.131530710604252,
          7.696212639346407,
          7.438383530044307,
          7.649692623711514,
          8.101677747454572,
          9.035986984831405,
          7.313220387090301,
          8.242756345714477,
          8.895629627136483,
          7.9724660159745655,
          8.131530710604252,
          8.575462099540212,
          8.006367567650246,
          8.45531778769815,
          7.600902459542082,
          7.438383530044307,
          8.389359819906353,
          9.02401079378469,
          7.170119543449628,
          7.824046010856292,
          8.764053269347762,
          9.082507000466299,
          8.748304912379623,
          7.696212639346407,
          8.101677747454572,
          7.24422751560335,
          9.035986984831405,
          8.66561319653451,
          8.85366542803745,
          8.101677747454572,
          7.313220387090301,
          8.34283980427146,
          9.190137664658664,
          8.83927669058535,
          9.230142999272362,
          8.824677891164198,
          8.935903526274423,
          8.948975607841776,
          9.169518377455928,
          7.549609165154532,
          9.179881164491475,
          9.126958763037132,
          9.071078304642676,
          8.974618038455112,
          8.987196820661973,
          8.66561319653451,
          8.496990484098719,
          7.438383530044307,
          9.190137664658664,
          7.170119543449628,
          9.116029692504942,
          8.160518247477505,
          8.496990484098719,
          9.116029692504942,
          9.137769679141348,
          8.556413904569519,
          8.594154232552366,
          8.987196820661973,
          8.575462099540212,
          8.34283980427146,
          8.764053269347762,
          8.575462099540212,
          8.101677747454572,
          8.594154232552366,
          7.438383530044307,
          8.68270762989381,
          8.294049640102028,
          8.160518247477505,
          9.082507000466299,
          7.937374696163295,
          9.148464968258095,
          8.948975607841776,
          9.011889433252344,
          8.101677747454572,
          8.160518247477505,
          8.34283980427146,
          8.748304912379623,
          7.649692623711514,
          8.34283980427146,
          7.003065458786462,
          8.160518247477505,
          8.648221453822641,
          9.02401079378469,
          7.090076835776092,
          8.987196820661973,
          7.090076835776092,
          8.935903526274423,
          9.137769679141348,
          8.101677747454572,
          8.881836305004146,
          8.824677891164198,
          8.411832675758411,
          8.824677891164198,
          9.148464968258095,
          7.90100705199242,
          9.035986984831405,
          9.20029003612268,
          9.0595174822416,
          8.556413904569519,
          8.630521876723241,
          8.476371196895983,
          8.66561319653451,
          8.242756345714477,
          9.116029692504942,
          9.035986984831405,
          7.549609165154532,
          7.24422751560335,
          8.764053269347762,
          8.824677891164198,
          8.101677747454572,
          7.170119543449628,
          8.794824928014517,
          7.8632667240095735,
          8.294049640102028,
          9.137769679141348,
          8.961879012677683,
          8.85366542803745,
          8.699514748210191,
          9.259130536145614,
          8.948975607841776,
          9.02401079378469,
          7.600902459542082,
          8.556413904569519,
          8.881836305004146,
          7.090076835776092,
          9.126958763037132,
          9.082507000466299,
          8.294049640102028,
          7.313220387090301,
          8.648221453822641,
          9.093806555720231,
          8.699514748210191,
          7.824046010856292,
          9.249561085129464,
          9.20029003612268,
          7.549609165154532,
          9.011889433252344,
          7.170119543449628,
          8.974618038455112,
          7.438383530044307,
          7.090076835776092,
          8.160518247477505,
          9.116029692504942,
          7.24422751560335,
          7.438383530044307,
          8.794824928014517,
          8.131530710604252,
          9.190137664658664,
          9.116029692504942,
          8.630521876723241,
          8.974618038455112,
          8.909235279192261,
          7.003065458786462,
          9.148464968258095,
          9.148464968258095,
          8.318742252692399,
          9.035986984831405,
          8.935903526274423,
          8.881836305004146,
          8.101677747454572,
          7.090076835776092,
          8.433811582477187,
          8.895629627136483,
          8.006367567650246,
          7.824046010856292,
          8.294049640102028,
          9.02401079378469,
          7.313220387090301,
          8.935903526274423,
          8.411832675758411,
          8.948975607841776,
          7.495541943884256,
          8.83927669058535,
          7.313220387090301,
          8.556413904569519,
          8.242756345714477,
          7.783224016336037,
          9.082507000466299,
          9.259130536145614,
          8.895629627136483,
          8.987196820661973,
          7.170119543449628,
          8.895629627136483,
          8.974618038455112,
          7.313220387090301,
          8.948975607841776,
          7.495541943884256,
          8.824677891164198,
          9.011889433252344,
          8.101677747454572
         ]
        }
       ],
       "layout": {
        "height": 500,
        "template": {
         "data": {
          "bar": [
           {
            "error_x": {
             "color": "#2a3f5f"
            },
            "error_y": {
             "color": "#2a3f5f"
            },
            "marker": {
             "line": {
              "color": "#E5ECF6",
              "width": 0.5
             },
             "pattern": {
              "fillmode": "overlay",
              "size": 10,
              "solidity": 0.2
             }
            },
            "type": "bar"
           }
          ],
          "barpolar": [
           {
            "marker": {
             "line": {
              "color": "#E5ECF6",
              "width": 0.5
             },
             "pattern": {
              "fillmode": "overlay",
              "size": 10,
              "solidity": 0.2
             }
            },
            "type": "barpolar"
           }
          ],
          "carpet": [
           {
            "aaxis": {
             "endlinecolor": "#2a3f5f",
             "gridcolor": "white",
             "linecolor": "white",
             "minorgridcolor": "white",
             "startlinecolor": "#2a3f5f"
            },
            "baxis": {
             "endlinecolor": "#2a3f5f",
             "gridcolor": "white",
             "linecolor": "white",
             "minorgridcolor": "white",
             "startlinecolor": "#2a3f5f"
            },
            "type": "carpet"
           }
          ],
          "choropleth": [
           {
            "colorbar": {
             "outlinewidth": 0,
             "ticks": ""
            },
            "type": "choropleth"
           }
          ],
          "contour": [
           {
            "colorbar": {
             "outlinewidth": 0,
             "ticks": ""
            },
            "colorscale": [
             [
              0,
              "#0d0887"
             ],
             [
              0.1111111111111111,
              "#46039f"
             ],
             [
              0.2222222222222222,
              "#7201a8"
             ],
             [
              0.3333333333333333,
              "#9c179e"
             ],
             [
              0.4444444444444444,
              "#bd3786"
             ],
             [
              0.5555555555555556,
              "#d8576b"
             ],
             [
              0.6666666666666666,
              "#ed7953"
             ],
             [
              0.7777777777777778,
              "#fb9f3a"
             ],
             [
              0.8888888888888888,
              "#fdca26"
             ],
             [
              1,
              "#f0f921"
             ]
            ],
            "type": "contour"
           }
          ],
          "contourcarpet": [
           {
            "colorbar": {
             "outlinewidth": 0,
             "ticks": ""
            },
            "type": "contourcarpet"
           }
          ],
          "heatmap": [
           {
            "colorbar": {
             "outlinewidth": 0,
             "ticks": ""
            },
            "colorscale": [
             [
              0,
              "#0d0887"
             ],
             [
              0.1111111111111111,
              "#46039f"
             ],
             [
              0.2222222222222222,
              "#7201a8"
             ],
             [
              0.3333333333333333,
              "#9c179e"
             ],
             [
              0.4444444444444444,
              "#bd3786"
             ],
             [
              0.5555555555555556,
              "#d8576b"
             ],
             [
              0.6666666666666666,
              "#ed7953"
             ],
             [
              0.7777777777777778,
              "#fb9f3a"
             ],
             [
              0.8888888888888888,
              "#fdca26"
             ],
             [
              1,
              "#f0f921"
             ]
            ],
            "type": "heatmap"
           }
          ],
          "heatmapgl": [
           {
            "colorbar": {
             "outlinewidth": 0,
             "ticks": ""
            },
            "colorscale": [
             [
              0,
              "#0d0887"
             ],
             [
              0.1111111111111111,
              "#46039f"
             ],
             [
              0.2222222222222222,
              "#7201a8"
             ],
             [
              0.3333333333333333,
              "#9c179e"
             ],
             [
              0.4444444444444444,
              "#bd3786"
             ],
             [
              0.5555555555555556,
              "#d8576b"
             ],
             [
              0.6666666666666666,
              "#ed7953"
             ],
             [
              0.7777777777777778,
              "#fb9f3a"
             ],
             [
              0.8888888888888888,
              "#fdca26"
             ],
             [
              1,
              "#f0f921"
             ]
            ],
            "type": "heatmapgl"
           }
          ],
          "histogram": [
           {
            "marker": {
             "pattern": {
              "fillmode": "overlay",
              "size": 10,
              "solidity": 0.2
             }
            },
            "type": "histogram"
           }
          ],
          "histogram2d": [
           {
            "colorbar": {
             "outlinewidth": 0,
             "ticks": ""
            },
            "colorscale": [
             [
              0,
              "#0d0887"
             ],
             [
              0.1111111111111111,
              "#46039f"
             ],
             [
              0.2222222222222222,
              "#7201a8"
             ],
             [
              0.3333333333333333,
              "#9c179e"
             ],
             [
              0.4444444444444444,
              "#bd3786"
             ],
             [
              0.5555555555555556,
              "#d8576b"
             ],
             [
              0.6666666666666666,
              "#ed7953"
             ],
             [
              0.7777777777777778,
              "#fb9f3a"
             ],
             [
              0.8888888888888888,
              "#fdca26"
             ],
             [
              1,
              "#f0f921"
             ]
            ],
            "type": "histogram2d"
           }
          ],
          "histogram2dcontour": [
           {
            "colorbar": {
             "outlinewidth": 0,
             "ticks": ""
            },
            "colorscale": [
             [
              0,
              "#0d0887"
             ],
             [
              0.1111111111111111,
              "#46039f"
             ],
             [
              0.2222222222222222,
              "#7201a8"
             ],
             [
              0.3333333333333333,
              "#9c179e"
             ],
             [
              0.4444444444444444,
              "#bd3786"
             ],
             [
              0.5555555555555556,
              "#d8576b"
             ],
             [
              0.6666666666666666,
              "#ed7953"
             ],
             [
              0.7777777777777778,
              "#fb9f3a"
             ],
             [
              0.8888888888888888,
              "#fdca26"
             ],
             [
              1,
              "#f0f921"
             ]
            ],
            "type": "histogram2dcontour"
           }
          ],
          "mesh3d": [
           {
            "colorbar": {
             "outlinewidth": 0,
             "ticks": ""
            },
            "type": "mesh3d"
           }
          ],
          "parcoords": [
           {
            "line": {
             "colorbar": {
              "outlinewidth": 0,
              "ticks": ""
             }
            },
            "type": "parcoords"
           }
          ],
          "pie": [
           {
            "automargin": true,
            "type": "pie"
           }
          ],
          "scatter": [
           {
            "fillpattern": {
             "fillmode": "overlay",
             "size": 10,
             "solidity": 0.2
            },
            "type": "scatter"
           }
          ],
          "scatter3d": [
           {
            "line": {
             "colorbar": {
              "outlinewidth": 0,
              "ticks": ""
             }
            },
            "marker": {
             "colorbar": {
              "outlinewidth": 0,
              "ticks": ""
             }
            },
            "type": "scatter3d"
           }
          ],
          "scattercarpet": [
           {
            "marker": {
             "colorbar": {
              "outlinewidth": 0,
              "ticks": ""
             }
            },
            "type": "scattercarpet"
           }
          ],
          "scattergeo": [
           {
            "marker": {
             "colorbar": {
              "outlinewidth": 0,
              "ticks": ""
             }
            },
            "type": "scattergeo"
           }
          ],
          "scattergl": [
           {
            "marker": {
             "colorbar": {
              "outlinewidth": 0,
              "ticks": ""
             }
            },
            "type": "scattergl"
           }
          ],
          "scattermapbox": [
           {
            "marker": {
             "colorbar": {
              "outlinewidth": 0,
              "ticks": ""
             }
            },
            "type": "scattermapbox"
           }
          ],
          "scatterpolar": [
           {
            "marker": {
             "colorbar": {
              "outlinewidth": 0,
              "ticks": ""
             }
            },
            "type": "scatterpolar"
           }
          ],
          "scatterpolargl": [
           {
            "marker": {
             "colorbar": {
              "outlinewidth": 0,
              "ticks": ""
             }
            },
            "type": "scatterpolargl"
           }
          ],
          "scatterternary": [
           {
            "marker": {
             "colorbar": {
              "outlinewidth": 0,
              "ticks": ""
             }
            },
            "type": "scatterternary"
           }
          ],
          "surface": [
           {
            "colorbar": {
             "outlinewidth": 0,
             "ticks": ""
            },
            "colorscale": [
             [
              0,
              "#0d0887"
             ],
             [
              0.1111111111111111,
              "#46039f"
             ],
             [
              0.2222222222222222,
              "#7201a8"
             ],
             [
              0.3333333333333333,
              "#9c179e"
             ],
             [
              0.4444444444444444,
              "#bd3786"
             ],
             [
              0.5555555555555556,
              "#d8576b"
             ],
             [
              0.6666666666666666,
              "#ed7953"
             ],
             [
              0.7777777777777778,
              "#fb9f3a"
             ],
             [
              0.8888888888888888,
              "#fdca26"
             ],
             [
              1,
              "#f0f921"
             ]
            ],
            "type": "surface"
           }
          ],
          "table": [
           {
            "cells": {
             "fill": {
              "color": "#EBF0F8"
             },
             "line": {
              "color": "white"
             }
            },
            "header": {
             "fill": {
              "color": "#C8D4E3"
             },
             "line": {
              "color": "white"
             }
            },
            "type": "table"
           }
          ]
         },
         "layout": {
          "annotationdefaults": {
           "arrowcolor": "#2a3f5f",
           "arrowhead": 0,
           "arrowwidth": 1
          },
          "autotypenumbers": "strict",
          "coloraxis": {
           "colorbar": {
            "outlinewidth": 0,
            "ticks": ""
           }
          },
          "colorscale": {
           "diverging": [
            [
             0,
             "#8e0152"
            ],
            [
             0.1,
             "#c51b7d"
            ],
            [
             0.2,
             "#de77ae"
            ],
            [
             0.3,
             "#f1b6da"
            ],
            [
             0.4,
             "#fde0ef"
            ],
            [
             0.5,
             "#f7f7f7"
            ],
            [
             0.6,
             "#e6f5d0"
            ],
            [
             0.7,
             "#b8e186"
            ],
            [
             0.8,
             "#7fbc41"
            ],
            [
             0.9,
             "#4d9221"
            ],
            [
             1,
             "#276419"
            ]
           ],
           "sequential": [
            [
             0,
             "#0d0887"
            ],
            [
             0.1111111111111111,
             "#46039f"
            ],
            [
             0.2222222222222222,
             "#7201a8"
            ],
            [
             0.3333333333333333,
             "#9c179e"
            ],
            [
             0.4444444444444444,
             "#bd3786"
            ],
            [
             0.5555555555555556,
             "#d8576b"
            ],
            [
             0.6666666666666666,
             "#ed7953"
            ],
            [
             0.7777777777777778,
             "#fb9f3a"
            ],
            [
             0.8888888888888888,
             "#fdca26"
            ],
            [
             1,
             "#f0f921"
            ]
           ],
           "sequentialminus": [
            [
             0,
             "#0d0887"
            ],
            [
             0.1111111111111111,
             "#46039f"
            ],
            [
             0.2222222222222222,
             "#7201a8"
            ],
            [
             0.3333333333333333,
             "#9c179e"
            ],
            [
             0.4444444444444444,
             "#bd3786"
            ],
            [
             0.5555555555555556,
             "#d8576b"
            ],
            [
             0.6666666666666666,
             "#ed7953"
            ],
            [
             0.7777777777777778,
             "#fb9f3a"
            ],
            [
             0.8888888888888888,
             "#fdca26"
            ],
            [
             1,
             "#f0f921"
            ]
           ]
          },
          "colorway": [
           "#636efa",
           "#EF553B",
           "#00cc96",
           "#ab63fa",
           "#FFA15A",
           "#19d3f3",
           "#FF6692",
           "#B6E880",
           "#FF97FF",
           "#FECB52"
          ],
          "font": {
           "color": "#2a3f5f"
          },
          "geo": {
           "bgcolor": "white",
           "lakecolor": "white",
           "landcolor": "#E5ECF6",
           "showlakes": true,
           "showland": true,
           "subunitcolor": "white"
          },
          "hoverlabel": {
           "align": "left"
          },
          "hovermode": "closest",
          "mapbox": {
           "style": "light"
          },
          "paper_bgcolor": "white",
          "plot_bgcolor": "#E5ECF6",
          "polar": {
           "angularaxis": {
            "gridcolor": "white",
            "linecolor": "white",
            "ticks": ""
           },
           "bgcolor": "#E5ECF6",
           "radialaxis": {
            "gridcolor": "white",
            "linecolor": "white",
            "ticks": ""
           }
          },
          "scene": {
           "xaxis": {
            "backgroundcolor": "#E5ECF6",
            "gridcolor": "white",
            "gridwidth": 2,
            "linecolor": "white",
            "showbackground": true,
            "ticks": "",
            "zerolinecolor": "white"
           },
           "yaxis": {
            "backgroundcolor": "#E5ECF6",
            "gridcolor": "white",
            "gridwidth": 2,
            "linecolor": "white",
            "showbackground": true,
            "ticks": "",
            "zerolinecolor": "white"
           },
           "zaxis": {
            "backgroundcolor": "#E5ECF6",
            "gridcolor": "white",
            "gridwidth": 2,
            "linecolor": "white",
            "showbackground": true,
            "ticks": "",
            "zerolinecolor": "white"
           }
          },
          "shapedefaults": {
           "line": {
            "color": "#2a3f5f"
           }
          },
          "ternary": {
           "aaxis": {
            "gridcolor": "white",
            "linecolor": "white",
            "ticks": ""
           },
           "baxis": {
            "gridcolor": "white",
            "linecolor": "white",
            "ticks": ""
           },
           "bgcolor": "#E5ECF6",
           "caxis": {
            "gridcolor": "white",
            "linecolor": "white",
            "ticks": ""
           }
          },
          "title": {
           "x": 0.05
          },
          "xaxis": {
           "automargin": true,
           "gridcolor": "white",
           "linecolor": "white",
           "ticks": "",
           "title": {
            "standoff": 15
           },
           "zerolinecolor": "white",
           "zerolinewidth": 2
          },
          "yaxis": {
           "automargin": true,
           "gridcolor": "white",
           "linecolor": "white",
           "ticks": "",
           "title": {
            "standoff": 15
           },
           "zerolinecolor": "white",
           "zerolinewidth": 2
          }
         }
        },
        "title": {
         "text": "RF:Observed target vs Predicted target using train data"
        },
        "width": 800,
        "xaxis": {
         "title": {
          "text": "Observed consult_cost"
         }
        },
        "yaxis": {
         "title": {
          "text": "Predicted consult_cost"
         }
        }
       }
      }
     },
     "metadata": {},
     "output_type": "display_data"
    }
   ],
   "source": [
    "\n",
    "fig = go.Figure()\n",
    "\n",
    "# scatter plot using test data\n",
    "fig.add_trace(go.Scatter(y=y_train, x=RF.predict(x_train), mode='markers', marker=dict(color='blue')))\n",
    "\n",
    "# diagonal line to represent predictions\n",
    "fig.add_trace(go.Scatter(y=y_train, x=y_train, mode='lines', line=dict(color='red')))\n",
    "\n",
    "fig.update_layout(title='RF:Observed target vs Predicted target using train data', xaxis_title='Observed consult_cost', \n",
    "                  yaxis_title='Predicted consult_cost', width=800, height=500)\n",
    "fig.show()"
   ]
  },
  {
   "cell_type": "code",
   "execution_count": 59,
   "metadata": {},
   "outputs": [
    {
     "data": {
      "application/vnd.plotly.v1+json": {
       "config": {
        "plotlyServerURL": "https://plot.ly"
       },
       "data": [
        {
         "marker": {
          "color": "blue"
         },
         "mode": "markers",
         "type": "scatter",
         "x": [
          7.952816076391996,
          8.903970578021216,
          7.49254967664088,
          8.13894186704062,
          7.70561433791144,
          7.593310099112593,
          8.967993507603673,
          7.437407177506415,
          8.68591871376585,
          9.418871142185537,
          7.511173638562232,
          8.499939275238733,
          9.309839182784536,
          8.398889092865646,
          7.830120240663848,
          8.341097591824829,
          9.195928263511783,
          8.096529523437221,
          8.326923664078363,
          8.620794027347614,
          8.859375346876432,
          8.55994505481033,
          7.619411408006316,
          7.701318718452774,
          8.811469395835413,
          7.8488791358335455,
          7.624459012873652,
          8.324094489239373,
          7.699095248682637,
          7.956881836828473,
          7.966395817600622,
          8.845638849875458,
          9.310697508150932,
          7.439580543554451,
          7.437911001921105,
          7.582306701820665,
          9.51978503014263,
          9.09112505270502,
          8.348716861411118,
          9.203997872866395,
          7.680210448411916,
          8.339863105208542,
          7.544123543000082,
          7.692626035640625,
          8.341004944016337,
          9.139492184624666,
          9.078954296019587,
          7.511861752763349,
          9.10033635930682,
          7.5803538293742925,
          8.797284664690306,
          8.567824542129955,
          8.021621638524552,
          8.304317074661485,
          8.182489347934109,
          7.585501185510106,
          8.161420073874865,
          8.105225738769416,
          9.00624514915601,
          8.373565145581331,
          7.606113959229363,
          9.345940267592105,
          9.418348791541888,
          8.680553991906166,
          8.578437478435694,
          8.668543736778137,
          7.826389429658832,
          7.694232385497448,
          8.716155358657552,
          9.591984787856635,
          9.19258932733897,
          8.15009610013814,
          8.767905253895346,
          7.95168957064044,
          9.02872873923135,
          9.069221962021807,
          8.642384559791358,
          8.019641189431471,
          8.562958504574492,
          8.382780846425744,
          8.435701581164995,
          9.033513141867195,
          9.378249280782246,
          8.982213332083521,
          7.765867758062768,
          8.20914641687709,
          8.08884806546834,
          7.446838466351034,
          7.887172429169301,
          8.890438506197649,
          8.917901196492453,
          8.077590226039163,
          8.901152442926284,
          7.69669625320334,
          8.079766989736267,
          7.862813277712921,
          9.168502546845373,
          8.645931529695897,
          8.577525730300275,
          8.457082653394107,
          9.186437377271561,
          9.109163461192175,
          8.185145220667602,
          9.390792789767103,
          8.196924802854097,
          8.549338580226394,
          7.8456306209057916,
          7.6691718741500345,
          8.703265809744444,
          7.6531129343991395,
          8.292822539765202,
          8.37787013556562,
          7.537942277185339,
          7.789755409124487,
          7.459571165023007,
          9.014055215549913,
          9.0909103378365,
          7.816068367597991,
          9.044044268169905,
          8.790561659946663,
          7.74596141207998,
          8.354665967104049,
          8.711989278157459,
          8.242578635832563,
          9.142972686981928,
          8.99531121205989,
          7.875410801874011,
          8.140122852053183,
          8.703944521771113,
          8.949189349968668,
          7.52305355964938,
          7.382611914356277,
          7.9400767618836845,
          9.068968996801816,
          8.05739660574506,
          8.202742514107939,
          9.199170584575793,
          8.111329352635526,
          7.362959169229551,
          7.724150714987176,
          8.625047263964575,
          8.163076535038433,
          8.859153611269873,
          7.699539627505207,
          7.866984007267505,
          9.224429639325244,
          8.948418917122236,
          9.271251321762312,
          8.723319920731559,
          7.655522993376921,
          7.550547236297453,
          8.174679216788567,
          9.420227485228155,
          9.392953571121161,
          7.5708850529557274,
          8.255605857367376,
          8.181918243889669,
          8.816199484513263,
          8.35002891915746,
          8.277180190164637,
          9.301386629003256,
          7.867783706112312,
          7.409021639377745,
          9.312901991206823,
          7.531007427993855,
          9.126636589122391,
          9.277627323208376,
          9.297107205635022,
          8.813469786520983,
          8.92550031970657,
          9.063822508492558,
          8.598408251643052,
          8.003516569840416,
          9.07160085877358,
          8.945749482251847,
          7.692878162910784,
          7.922880829502171,
          7.5371936447427395,
          7.7846835674099655,
          9.511469549718386,
          9.458313886772435,
          8.278336363698815,
          8.211101926677,
          9.36520689577585,
          7.536949290615352,
          9.065524793244577,
          8.678102796250156,
          7.779332634686494,
          8.101593000880873,
          9.322150113007392,
          9.338690661156072,
          9.058185870500454,
          9.301017805505822,
          8.441139455148635,
          9.384920413511079,
          8.223612154709857,
          8.089926723940598,
          8.984776693245315,
          9.327199814555286,
          8.088306811965538,
          9.040871992558076,
          7.603224973345404,
          9.440667026204824,
          8.35720052752553,
          8.686716095466634,
          7.4743593151623875,
          8.457861400309593,
          7.825099446775137,
          8.791579018591628,
          7.468498992590835,
          7.490228241650757,
          9.592729282881605,
          7.452294207539719,
          8.060824250814782,
          7.620941180309265,
          7.637252240545478,
          8.239137376551437,
          8.802678087512591,
          9.03755335317066,
          9.157598290965407,
          8.411085092531367,
          8.943526772309918,
          7.551616451377065,
          8.550072869337765,
          7.966821796004072,
          7.65591604507268,
          7.938866952087793,
          7.639364822147043,
          7.647261868786055,
          7.675814755308081,
          7.97610266864789,
          9.123177689455803,
          7.728249046488017,
          8.116818003641589,
          8.914589597744568,
          7.830458219120672,
          7.898783550302508,
          8.288879646274586,
          7.961400818028774,
          8.24967637242958,
          7.826028154487313,
          7.669208158376834,
          8.17302378015457,
          9.108819809161622,
          7.5275099853635865,
          7.7528511233564235,
          8.603475723176004,
          9.241234568960216,
          8.591810262573935,
          7.6560792117174294,
          7.967174647184527,
          7.56155123030998,
          9.092741540214476,
          8.47835596567592,
          8.699800879107453,
          7.915648015235166,
          7.4593586451851115,
          8.126407926775226,
          9.494180475044839,
          8.702792330004433,
          9.5583114605157,
          8.674684948204659,
          9.060733230573357,
          8.842006256941735,
          9.479139325332707,
          7.654120419793907,
          9.406252675872137,
          9.405984826074262,
          9.147237385965997,
          8.953697681988633,
          8.889426568571308,
          8.418313423722147,
          8.179101291065694,
          7.718978715255961,
          9.408415096691447,
          7.5787592276901545,
          9.292996460758323,
          7.9519036633265525,
          8.173595261101124,
          9.371625405683083,
          9.37975456658478,
          8.324060625470695,
          8.33032224064577,
          8.944985633274367,
          8.30193377107114,
          8.031678902278689,
          8.558802615037116,
          8.29045196604328,
          7.915069563992891,
          8.233384564535125,
          7.607302004099431,
          8.4014452557347,
          8.081687601346898,
          7.998599902859315,
          9.183559670014656,
          7.77056661169341,
          9.251354785826788,
          8.946408054204937,
          9.210558471555442,
          7.966073791048834,
          7.993833734247696,
          8.045247102984291,
          8.531131290982083,
          7.737770906281029,
          8.088971189913703,
          7.539349632202012,
          7.985541199024096,
          8.586542025213479,
          9.033805652860384,
          7.528998677976219,
          9.046067293278172,
          7.458896488781016,
          8.992944903255761,
          9.40999023702151,
          8.001473090225023,
          8.775864647082404,
          8.684663968689662,
          8.376577242006688,
          8.710803250659026,
          9.255849863502542,
          7.793473427869011,
          8.995248733466944,
          9.421558722158036,
          9.183072535417024,
          8.288984553774283,
          8.401906300718638,
          8.221603227723834,
          8.479281946028154,
          8.057033287900783,
          9.308361444939703,
          9.068867659504246,
          7.601041147415496,
          7.398172143554115,
          8.494734445251167,
          8.69617577168941,
          7.931745492056903,
          7.458260542833218,
          8.605924869470648,
          7.815377828537401,
          7.981471831541036,
          9.319017221235445,
          8.926722937412089,
          8.600818042676647,
          8.476572069478665,
          9.427640603804631,
          8.959630775412009,
          9.22056400621469,
          7.671537039474795,
          8.322826407561225,
          8.786864132888198,
          7.518717573060741,
          9.310760596322556,
          9.156477569999089,
          8.040253738904468,
          7.469573833676995,
          8.577797381925034,
          9.278840017726985,
          8.462331527835898,
          7.975782171641585,
          9.56149538287634,
          9.542071685927604,
          7.68708083745362,
          9.195105310665125,
          7.496897082570431,
          8.978363914626032,
          7.747165251822775,
          7.689098673170618,
          7.9646411133522435,
          9.325308221880844,
          7.417232165809134,
          7.609800662589897,
          8.703752761366983,
          8.003421255672897,
          9.344373481990468,
          9.316907004199233,
          8.5012078777864,
          9.111150254995176,
          8.85696863447978,
          7.475128560054925,
          9.396863161082562,
          9.446758289167711,
          8.10606687335301,
          9.060680820443316,
          8.956693435710282,
          8.727518745291352,
          7.9784086011381765,
          7.466569269718951,
          8.196494494699001,
          8.854630116353592,
          7.760338868281215,
          7.87557764272705,
          7.951373482217458,
          8.91373427330874,
          7.523353468746771,
          8.904673729481308,
          8.178793998784895,
          8.943177217100978,
          7.699890213266822,
          8.662748184573898,
          7.707783568922846,
          8.343551470669851,
          8.018637495203112,
          7.834729011795335,
          9.135789655305155,
          9.552778857254644,
          8.746251077421697,
          8.872855705221703,
          7.464206454694347,
          8.901494818968315,
          8.9322951853989,
          7.5831374319034754,
          8.91301108738305,
          7.624791562103418,
          8.696696958123002,
          9.068051978433068,
          7.986491739932021
         ],
         "y": [
          8.160518247477505,
          8.987196820661973,
          7.170119543449628,
          8.476371196895983,
          7.438383530044307,
          7.170119543449628,
          9.011889433252344,
          7.24422751560335,
          8.83927669058535,
          9.20029003612268,
          7.24422751560335,
          8.68270762989381,
          9.126958763037132,
          8.68270762989381,
          7.783224016336037,
          8.575462099540212,
          9.0595174822416,
          8.389359819906353,
          8.594154232552366,
          8.794824928014517,
          8.948975607841776,
          8.732304571033183,
          7.649692623711514,
          7.090076835776092,
          8.895629627136483,
          7.90100705199242,
          7.549609165154532,
          8.594154232552366,
          7.649692623711514,
          8.131530710604252,
          8.006367567650246,
          8.881836305004146,
          9.137769679141348,
          7.170119543449628,
          7.24422751560335,
          7.696212639346407,
          9.259130536145614,
          9.035986984831405,
          8.594154232552366,
          9.035986984831405,
          7.438383530044307,
          8.496990484098719,
          7.170119543449628,
          7.495541943884256,
          8.594154232552366,
          9.02401079378469,
          9.082507000466299,
          7.170119543449628,
          9.071078304642676,
          7.003065458786462,
          8.895629627136483,
          8.732304571033183,
          8.101677747454572,
          8.575462099540212,
          8.517193191416238,
          7.170119543449628,
          8.476371196895983,
          8.517193191416238,
          9.011889433252344,
          8.68270762989381,
          7.313220387090301,
          9.137769679141348,
          9.169518377455928,
          8.824677891164198,
          8.764053269347762,
          8.83927669058535,
          8.006367567650246,
          7.495541943884256,
          8.895629627136483,
          9.230142999272362,
          9.071078304642676,
          8.45531778769815,
          8.895629627136483,
          8.160518247477505,
          9.011889433252344,
          9.02401079378469,
          8.824677891164198,
          8.294049640102028,
          8.764053269347762,
          8.575462099540212,
          8.699514748210191,
          9.02401079378469,
          9.20029003612268,
          9.035986984831405,
          7.649692623711514,
          8.517193191416238,
          8.131530710604252,
          7.003065458786462,
          7.783224016336037,
          8.974618038455112,
          8.935903526274423,
          8.34283980427146,
          8.987196820661973,
          7.313220387090301,
          8.34283980427146,
          7.8632667240095735,
          9.082507000466299,
          8.85366542803745,
          8.83927669058535,
          8.68270762989381,
          9.093806555720231,
          9.011889433252344,
          8.517193191416238,
          9.190137664658664,
          8.45531778769815,
          8.794824928014517,
          7.824046010856292,
          7.696212639346407,
          8.881836305004146,
          7.170119543449628,
          8.556413904569519,
          8.556413904569519,
          7.170119543449628,
          7.937374696163295,
          7.170119543449628,
          9.035986984831405,
          9.093806555720231,
          7.783224016336037,
          9.011889433252344,
          8.881836305004146,
          7.8632667240095735,
          8.556413904569519,
          8.909235279192261,
          8.594154232552366,
          9.093806555720231,
          8.935903526274423,
          8.101677747454572,
          8.496990484098719,
          8.824677891164198,
          9.035986984831405,
          7.090076835776092,
          7.24422751560335,
          8.160518247477505,
          9.093806555720231,
          8.34283980427146,
          8.45531778769815,
          9.0595174822416,
          8.268731832117737,
          7.24422751560335,
          7.824046010856292,
          8.85366542803745,
          8.389359819906353,
          8.881836305004146,
          7.696212639346407,
          7.824046010856292,
          9.116029692504942,
          9.011889433252344,
          9.148464968258095,
          8.85366542803745,
          7.003065458786462,
          7.090076835776092,
          8.496990484098719,
          9.20029003612268,
          9.169518377455928,
          7.495541943884256,
          8.594154232552366,
          8.411832675758411,
          8.909235279192261,
          8.411832675758411,
          8.575462099540212,
          9.126958763037132,
          8.160518247477505,
          7.003065458786462,
          9.148464968258095,
          7.090076835776092,
          9.071078304642676,
          9.137769679141348,
          9.190137664658664,
          8.974618038455112,
          8.961879012677683,
          9.011889433252344,
          8.794824928014517,
          8.294049640102028,
          8.948975607841776,
          8.961879012677683,
          7.696212639346407,
          8.131530710604252,
          7.24422751560335,
          7.24422751560335,
          9.230142999272362,
          9.20029003612268,
          8.556413904569519,
          8.45531778769815,
          9.179881164491475,
          7.313220387090301,
          9.035986984831405,
          8.824677891164198,
          7.696212639346407,
          8.268731832117737,
          9.137769679141348,
          9.169518377455928,
          9.02401079378469,
          9.137769679141348,
          8.630521876723241,
          9.116029692504942,
          8.411832675758411,
          8.34283980427146,
          8.881836305004146,
          9.093806555720231,
          8.294049640102028,
          9.035986984831405,
          7.438383530044307,
          9.169518377455928,
          8.556413904569519,
          8.824677891164198,
          7.003065458786462,
          8.66561319653451,
          7.9724660159745655,
          8.895629627136483,
          7.170119543449628,
          7.24422751560335,
          9.230142999272362,
          7.24422751560335,
          8.318742252692399,
          7.649692623711514,
          7.649692623711514,
          8.476371196895983,
          8.895629627136483,
          9.035986984831405,
          9.035986984831405,
          8.648221453822641,
          8.948975607841776,
          7.313220387090301,
          8.748304912379623,
          8.101677747454572,
          7.600902459542082,
          8.131530710604252,
          7.696212639346407,
          7.438383530044307,
          7.649692623711514,
          8.101677747454572,
          9.035986984831405,
          7.313220387090301,
          8.242756345714477,
          8.895629627136483,
          7.9724660159745655,
          8.131530710604252,
          8.575462099540212,
          8.006367567650246,
          8.45531778769815,
          7.600902459542082,
          7.438383530044307,
          8.389359819906353,
          9.02401079378469,
          7.170119543449628,
          7.824046010856292,
          8.764053269347762,
          9.082507000466299,
          8.748304912379623,
          7.696212639346407,
          8.101677747454572,
          7.24422751560335,
          9.035986984831405,
          8.66561319653451,
          8.85366542803745,
          8.101677747454572,
          7.313220387090301,
          8.34283980427146,
          9.190137664658664,
          8.83927669058535,
          9.230142999272362,
          8.824677891164198,
          8.935903526274423,
          8.948975607841776,
          9.169518377455928,
          7.549609165154532,
          9.179881164491475,
          9.126958763037132,
          9.071078304642676,
          8.974618038455112,
          8.987196820661973,
          8.66561319653451,
          8.496990484098719,
          7.438383530044307,
          9.190137664658664,
          7.170119543449628,
          9.116029692504942,
          8.160518247477505,
          8.496990484098719,
          9.116029692504942,
          9.137769679141348,
          8.556413904569519,
          8.594154232552366,
          8.987196820661973,
          8.575462099540212,
          8.34283980427146,
          8.764053269347762,
          8.575462099540212,
          8.101677747454572,
          8.594154232552366,
          7.438383530044307,
          8.68270762989381,
          8.294049640102028,
          8.160518247477505,
          9.082507000466299,
          7.937374696163295,
          9.148464968258095,
          8.948975607841776,
          9.011889433252344,
          8.101677747454572,
          8.160518247477505,
          8.34283980427146,
          8.748304912379623,
          7.649692623711514,
          8.34283980427146,
          7.003065458786462,
          8.160518247477505,
          8.648221453822641,
          9.02401079378469,
          7.090076835776092,
          8.987196820661973,
          7.090076835776092,
          8.935903526274423,
          9.137769679141348,
          8.101677747454572,
          8.881836305004146,
          8.824677891164198,
          8.411832675758411,
          8.824677891164198,
          9.148464968258095,
          7.90100705199242,
          9.035986984831405,
          9.20029003612268,
          9.0595174822416,
          8.556413904569519,
          8.630521876723241,
          8.476371196895983,
          8.66561319653451,
          8.242756345714477,
          9.116029692504942,
          9.035986984831405,
          7.549609165154532,
          7.24422751560335,
          8.764053269347762,
          8.824677891164198,
          8.101677747454572,
          7.170119543449628,
          8.794824928014517,
          7.8632667240095735,
          8.294049640102028,
          9.137769679141348,
          8.961879012677683,
          8.85366542803745,
          8.699514748210191,
          9.259130536145614,
          8.948975607841776,
          9.02401079378469,
          7.600902459542082,
          8.556413904569519,
          8.881836305004146,
          7.090076835776092,
          9.126958763037132,
          9.082507000466299,
          8.294049640102028,
          7.313220387090301,
          8.648221453822641,
          9.093806555720231,
          8.699514748210191,
          7.824046010856292,
          9.249561085129464,
          9.20029003612268,
          7.549609165154532,
          9.011889433252344,
          7.170119543449628,
          8.974618038455112,
          7.438383530044307,
          7.090076835776092,
          8.160518247477505,
          9.116029692504942,
          7.24422751560335,
          7.438383530044307,
          8.794824928014517,
          8.131530710604252,
          9.190137664658664,
          9.116029692504942,
          8.630521876723241,
          8.974618038455112,
          8.909235279192261,
          7.003065458786462,
          9.148464968258095,
          9.148464968258095,
          8.318742252692399,
          9.035986984831405,
          8.935903526274423,
          8.881836305004146,
          8.101677747454572,
          7.090076835776092,
          8.433811582477187,
          8.895629627136483,
          8.006367567650246,
          7.824046010856292,
          8.294049640102028,
          9.02401079378469,
          7.313220387090301,
          8.935903526274423,
          8.411832675758411,
          8.948975607841776,
          7.495541943884256,
          8.83927669058535,
          7.313220387090301,
          8.556413904569519,
          8.242756345714477,
          7.783224016336037,
          9.082507000466299,
          9.259130536145614,
          8.895629627136483,
          8.987196820661973,
          7.170119543449628,
          8.895629627136483,
          8.974618038455112,
          7.313220387090301,
          8.948975607841776,
          7.495541943884256,
          8.824677891164198,
          9.011889433252344,
          8.101677747454572
         ]
        },
        {
         "line": {
          "color": "red"
         },
         "mode": "lines",
         "type": "scatter",
         "x": [
          8.160518247477505,
          8.987196820661973,
          7.170119543449628,
          8.476371196895983,
          7.438383530044307,
          7.170119543449628,
          9.011889433252344,
          7.24422751560335,
          8.83927669058535,
          9.20029003612268,
          7.24422751560335,
          8.68270762989381,
          9.126958763037132,
          8.68270762989381,
          7.783224016336037,
          8.575462099540212,
          9.0595174822416,
          8.389359819906353,
          8.594154232552366,
          8.794824928014517,
          8.948975607841776,
          8.732304571033183,
          7.649692623711514,
          7.090076835776092,
          8.895629627136483,
          7.90100705199242,
          7.549609165154532,
          8.594154232552366,
          7.649692623711514,
          8.131530710604252,
          8.006367567650246,
          8.881836305004146,
          9.137769679141348,
          7.170119543449628,
          7.24422751560335,
          7.696212639346407,
          9.259130536145614,
          9.035986984831405,
          8.594154232552366,
          9.035986984831405,
          7.438383530044307,
          8.496990484098719,
          7.170119543449628,
          7.495541943884256,
          8.594154232552366,
          9.02401079378469,
          9.082507000466299,
          7.170119543449628,
          9.071078304642676,
          7.003065458786462,
          8.895629627136483,
          8.732304571033183,
          8.101677747454572,
          8.575462099540212,
          8.517193191416238,
          7.170119543449628,
          8.476371196895983,
          8.517193191416238,
          9.011889433252344,
          8.68270762989381,
          7.313220387090301,
          9.137769679141348,
          9.169518377455928,
          8.824677891164198,
          8.764053269347762,
          8.83927669058535,
          8.006367567650246,
          7.495541943884256,
          8.895629627136483,
          9.230142999272362,
          9.071078304642676,
          8.45531778769815,
          8.895629627136483,
          8.160518247477505,
          9.011889433252344,
          9.02401079378469,
          8.824677891164198,
          8.294049640102028,
          8.764053269347762,
          8.575462099540212,
          8.699514748210191,
          9.02401079378469,
          9.20029003612268,
          9.035986984831405,
          7.649692623711514,
          8.517193191416238,
          8.131530710604252,
          7.003065458786462,
          7.783224016336037,
          8.974618038455112,
          8.935903526274423,
          8.34283980427146,
          8.987196820661973,
          7.313220387090301,
          8.34283980427146,
          7.8632667240095735,
          9.082507000466299,
          8.85366542803745,
          8.83927669058535,
          8.68270762989381,
          9.093806555720231,
          9.011889433252344,
          8.517193191416238,
          9.190137664658664,
          8.45531778769815,
          8.794824928014517,
          7.824046010856292,
          7.696212639346407,
          8.881836305004146,
          7.170119543449628,
          8.556413904569519,
          8.556413904569519,
          7.170119543449628,
          7.937374696163295,
          7.170119543449628,
          9.035986984831405,
          9.093806555720231,
          7.783224016336037,
          9.011889433252344,
          8.881836305004146,
          7.8632667240095735,
          8.556413904569519,
          8.909235279192261,
          8.594154232552366,
          9.093806555720231,
          8.935903526274423,
          8.101677747454572,
          8.496990484098719,
          8.824677891164198,
          9.035986984831405,
          7.090076835776092,
          7.24422751560335,
          8.160518247477505,
          9.093806555720231,
          8.34283980427146,
          8.45531778769815,
          9.0595174822416,
          8.268731832117737,
          7.24422751560335,
          7.824046010856292,
          8.85366542803745,
          8.389359819906353,
          8.881836305004146,
          7.696212639346407,
          7.824046010856292,
          9.116029692504942,
          9.011889433252344,
          9.148464968258095,
          8.85366542803745,
          7.003065458786462,
          7.090076835776092,
          8.496990484098719,
          9.20029003612268,
          9.169518377455928,
          7.495541943884256,
          8.594154232552366,
          8.411832675758411,
          8.909235279192261,
          8.411832675758411,
          8.575462099540212,
          9.126958763037132,
          8.160518247477505,
          7.003065458786462,
          9.148464968258095,
          7.090076835776092,
          9.071078304642676,
          9.137769679141348,
          9.190137664658664,
          8.974618038455112,
          8.961879012677683,
          9.011889433252344,
          8.794824928014517,
          8.294049640102028,
          8.948975607841776,
          8.961879012677683,
          7.696212639346407,
          8.131530710604252,
          7.24422751560335,
          7.24422751560335,
          9.230142999272362,
          9.20029003612268,
          8.556413904569519,
          8.45531778769815,
          9.179881164491475,
          7.313220387090301,
          9.035986984831405,
          8.824677891164198,
          7.696212639346407,
          8.268731832117737,
          9.137769679141348,
          9.169518377455928,
          9.02401079378469,
          9.137769679141348,
          8.630521876723241,
          9.116029692504942,
          8.411832675758411,
          8.34283980427146,
          8.881836305004146,
          9.093806555720231,
          8.294049640102028,
          9.035986984831405,
          7.438383530044307,
          9.169518377455928,
          8.556413904569519,
          8.824677891164198,
          7.003065458786462,
          8.66561319653451,
          7.9724660159745655,
          8.895629627136483,
          7.170119543449628,
          7.24422751560335,
          9.230142999272362,
          7.24422751560335,
          8.318742252692399,
          7.649692623711514,
          7.649692623711514,
          8.476371196895983,
          8.895629627136483,
          9.035986984831405,
          9.035986984831405,
          8.648221453822641,
          8.948975607841776,
          7.313220387090301,
          8.748304912379623,
          8.101677747454572,
          7.600902459542082,
          8.131530710604252,
          7.696212639346407,
          7.438383530044307,
          7.649692623711514,
          8.101677747454572,
          9.035986984831405,
          7.313220387090301,
          8.242756345714477,
          8.895629627136483,
          7.9724660159745655,
          8.131530710604252,
          8.575462099540212,
          8.006367567650246,
          8.45531778769815,
          7.600902459542082,
          7.438383530044307,
          8.389359819906353,
          9.02401079378469,
          7.170119543449628,
          7.824046010856292,
          8.764053269347762,
          9.082507000466299,
          8.748304912379623,
          7.696212639346407,
          8.101677747454572,
          7.24422751560335,
          9.035986984831405,
          8.66561319653451,
          8.85366542803745,
          8.101677747454572,
          7.313220387090301,
          8.34283980427146,
          9.190137664658664,
          8.83927669058535,
          9.230142999272362,
          8.824677891164198,
          8.935903526274423,
          8.948975607841776,
          9.169518377455928,
          7.549609165154532,
          9.179881164491475,
          9.126958763037132,
          9.071078304642676,
          8.974618038455112,
          8.987196820661973,
          8.66561319653451,
          8.496990484098719,
          7.438383530044307,
          9.190137664658664,
          7.170119543449628,
          9.116029692504942,
          8.160518247477505,
          8.496990484098719,
          9.116029692504942,
          9.137769679141348,
          8.556413904569519,
          8.594154232552366,
          8.987196820661973,
          8.575462099540212,
          8.34283980427146,
          8.764053269347762,
          8.575462099540212,
          8.101677747454572,
          8.594154232552366,
          7.438383530044307,
          8.68270762989381,
          8.294049640102028,
          8.160518247477505,
          9.082507000466299,
          7.937374696163295,
          9.148464968258095,
          8.948975607841776,
          9.011889433252344,
          8.101677747454572,
          8.160518247477505,
          8.34283980427146,
          8.748304912379623,
          7.649692623711514,
          8.34283980427146,
          7.003065458786462,
          8.160518247477505,
          8.648221453822641,
          9.02401079378469,
          7.090076835776092,
          8.987196820661973,
          7.090076835776092,
          8.935903526274423,
          9.137769679141348,
          8.101677747454572,
          8.881836305004146,
          8.824677891164198,
          8.411832675758411,
          8.824677891164198,
          9.148464968258095,
          7.90100705199242,
          9.035986984831405,
          9.20029003612268,
          9.0595174822416,
          8.556413904569519,
          8.630521876723241,
          8.476371196895983,
          8.66561319653451,
          8.242756345714477,
          9.116029692504942,
          9.035986984831405,
          7.549609165154532,
          7.24422751560335,
          8.764053269347762,
          8.824677891164198,
          8.101677747454572,
          7.170119543449628,
          8.794824928014517,
          7.8632667240095735,
          8.294049640102028,
          9.137769679141348,
          8.961879012677683,
          8.85366542803745,
          8.699514748210191,
          9.259130536145614,
          8.948975607841776,
          9.02401079378469,
          7.600902459542082,
          8.556413904569519,
          8.881836305004146,
          7.090076835776092,
          9.126958763037132,
          9.082507000466299,
          8.294049640102028,
          7.313220387090301,
          8.648221453822641,
          9.093806555720231,
          8.699514748210191,
          7.824046010856292,
          9.249561085129464,
          9.20029003612268,
          7.549609165154532,
          9.011889433252344,
          7.170119543449628,
          8.974618038455112,
          7.438383530044307,
          7.090076835776092,
          8.160518247477505,
          9.116029692504942,
          7.24422751560335,
          7.438383530044307,
          8.794824928014517,
          8.131530710604252,
          9.190137664658664,
          9.116029692504942,
          8.630521876723241,
          8.974618038455112,
          8.909235279192261,
          7.003065458786462,
          9.148464968258095,
          9.148464968258095,
          8.318742252692399,
          9.035986984831405,
          8.935903526274423,
          8.881836305004146,
          8.101677747454572,
          7.090076835776092,
          8.433811582477187,
          8.895629627136483,
          8.006367567650246,
          7.824046010856292,
          8.294049640102028,
          9.02401079378469,
          7.313220387090301,
          8.935903526274423,
          8.411832675758411,
          8.948975607841776,
          7.495541943884256,
          8.83927669058535,
          7.313220387090301,
          8.556413904569519,
          8.242756345714477,
          7.783224016336037,
          9.082507000466299,
          9.259130536145614,
          8.895629627136483,
          8.987196820661973,
          7.170119543449628,
          8.895629627136483,
          8.974618038455112,
          7.313220387090301,
          8.948975607841776,
          7.495541943884256,
          8.824677891164198,
          9.011889433252344,
          8.101677747454572
         ],
         "y": [
          8.160518247477505,
          8.987196820661973,
          7.170119543449628,
          8.476371196895983,
          7.438383530044307,
          7.170119543449628,
          9.011889433252344,
          7.24422751560335,
          8.83927669058535,
          9.20029003612268,
          7.24422751560335,
          8.68270762989381,
          9.126958763037132,
          8.68270762989381,
          7.783224016336037,
          8.575462099540212,
          9.0595174822416,
          8.389359819906353,
          8.594154232552366,
          8.794824928014517,
          8.948975607841776,
          8.732304571033183,
          7.649692623711514,
          7.090076835776092,
          8.895629627136483,
          7.90100705199242,
          7.549609165154532,
          8.594154232552366,
          7.649692623711514,
          8.131530710604252,
          8.006367567650246,
          8.881836305004146,
          9.137769679141348,
          7.170119543449628,
          7.24422751560335,
          7.696212639346407,
          9.259130536145614,
          9.035986984831405,
          8.594154232552366,
          9.035986984831405,
          7.438383530044307,
          8.496990484098719,
          7.170119543449628,
          7.495541943884256,
          8.594154232552366,
          9.02401079378469,
          9.082507000466299,
          7.170119543449628,
          9.071078304642676,
          7.003065458786462,
          8.895629627136483,
          8.732304571033183,
          8.101677747454572,
          8.575462099540212,
          8.517193191416238,
          7.170119543449628,
          8.476371196895983,
          8.517193191416238,
          9.011889433252344,
          8.68270762989381,
          7.313220387090301,
          9.137769679141348,
          9.169518377455928,
          8.824677891164198,
          8.764053269347762,
          8.83927669058535,
          8.006367567650246,
          7.495541943884256,
          8.895629627136483,
          9.230142999272362,
          9.071078304642676,
          8.45531778769815,
          8.895629627136483,
          8.160518247477505,
          9.011889433252344,
          9.02401079378469,
          8.824677891164198,
          8.294049640102028,
          8.764053269347762,
          8.575462099540212,
          8.699514748210191,
          9.02401079378469,
          9.20029003612268,
          9.035986984831405,
          7.649692623711514,
          8.517193191416238,
          8.131530710604252,
          7.003065458786462,
          7.783224016336037,
          8.974618038455112,
          8.935903526274423,
          8.34283980427146,
          8.987196820661973,
          7.313220387090301,
          8.34283980427146,
          7.8632667240095735,
          9.082507000466299,
          8.85366542803745,
          8.83927669058535,
          8.68270762989381,
          9.093806555720231,
          9.011889433252344,
          8.517193191416238,
          9.190137664658664,
          8.45531778769815,
          8.794824928014517,
          7.824046010856292,
          7.696212639346407,
          8.881836305004146,
          7.170119543449628,
          8.556413904569519,
          8.556413904569519,
          7.170119543449628,
          7.937374696163295,
          7.170119543449628,
          9.035986984831405,
          9.093806555720231,
          7.783224016336037,
          9.011889433252344,
          8.881836305004146,
          7.8632667240095735,
          8.556413904569519,
          8.909235279192261,
          8.594154232552366,
          9.093806555720231,
          8.935903526274423,
          8.101677747454572,
          8.496990484098719,
          8.824677891164198,
          9.035986984831405,
          7.090076835776092,
          7.24422751560335,
          8.160518247477505,
          9.093806555720231,
          8.34283980427146,
          8.45531778769815,
          9.0595174822416,
          8.268731832117737,
          7.24422751560335,
          7.824046010856292,
          8.85366542803745,
          8.389359819906353,
          8.881836305004146,
          7.696212639346407,
          7.824046010856292,
          9.116029692504942,
          9.011889433252344,
          9.148464968258095,
          8.85366542803745,
          7.003065458786462,
          7.090076835776092,
          8.496990484098719,
          9.20029003612268,
          9.169518377455928,
          7.495541943884256,
          8.594154232552366,
          8.411832675758411,
          8.909235279192261,
          8.411832675758411,
          8.575462099540212,
          9.126958763037132,
          8.160518247477505,
          7.003065458786462,
          9.148464968258095,
          7.090076835776092,
          9.071078304642676,
          9.137769679141348,
          9.190137664658664,
          8.974618038455112,
          8.961879012677683,
          9.011889433252344,
          8.794824928014517,
          8.294049640102028,
          8.948975607841776,
          8.961879012677683,
          7.696212639346407,
          8.131530710604252,
          7.24422751560335,
          7.24422751560335,
          9.230142999272362,
          9.20029003612268,
          8.556413904569519,
          8.45531778769815,
          9.179881164491475,
          7.313220387090301,
          9.035986984831405,
          8.824677891164198,
          7.696212639346407,
          8.268731832117737,
          9.137769679141348,
          9.169518377455928,
          9.02401079378469,
          9.137769679141348,
          8.630521876723241,
          9.116029692504942,
          8.411832675758411,
          8.34283980427146,
          8.881836305004146,
          9.093806555720231,
          8.294049640102028,
          9.035986984831405,
          7.438383530044307,
          9.169518377455928,
          8.556413904569519,
          8.824677891164198,
          7.003065458786462,
          8.66561319653451,
          7.9724660159745655,
          8.895629627136483,
          7.170119543449628,
          7.24422751560335,
          9.230142999272362,
          7.24422751560335,
          8.318742252692399,
          7.649692623711514,
          7.649692623711514,
          8.476371196895983,
          8.895629627136483,
          9.035986984831405,
          9.035986984831405,
          8.648221453822641,
          8.948975607841776,
          7.313220387090301,
          8.748304912379623,
          8.101677747454572,
          7.600902459542082,
          8.131530710604252,
          7.696212639346407,
          7.438383530044307,
          7.649692623711514,
          8.101677747454572,
          9.035986984831405,
          7.313220387090301,
          8.242756345714477,
          8.895629627136483,
          7.9724660159745655,
          8.131530710604252,
          8.575462099540212,
          8.006367567650246,
          8.45531778769815,
          7.600902459542082,
          7.438383530044307,
          8.389359819906353,
          9.02401079378469,
          7.170119543449628,
          7.824046010856292,
          8.764053269347762,
          9.082507000466299,
          8.748304912379623,
          7.696212639346407,
          8.101677747454572,
          7.24422751560335,
          9.035986984831405,
          8.66561319653451,
          8.85366542803745,
          8.101677747454572,
          7.313220387090301,
          8.34283980427146,
          9.190137664658664,
          8.83927669058535,
          9.230142999272362,
          8.824677891164198,
          8.935903526274423,
          8.948975607841776,
          9.169518377455928,
          7.549609165154532,
          9.179881164491475,
          9.126958763037132,
          9.071078304642676,
          8.974618038455112,
          8.987196820661973,
          8.66561319653451,
          8.496990484098719,
          7.438383530044307,
          9.190137664658664,
          7.170119543449628,
          9.116029692504942,
          8.160518247477505,
          8.496990484098719,
          9.116029692504942,
          9.137769679141348,
          8.556413904569519,
          8.594154232552366,
          8.987196820661973,
          8.575462099540212,
          8.34283980427146,
          8.764053269347762,
          8.575462099540212,
          8.101677747454572,
          8.594154232552366,
          7.438383530044307,
          8.68270762989381,
          8.294049640102028,
          8.160518247477505,
          9.082507000466299,
          7.937374696163295,
          9.148464968258095,
          8.948975607841776,
          9.011889433252344,
          8.101677747454572,
          8.160518247477505,
          8.34283980427146,
          8.748304912379623,
          7.649692623711514,
          8.34283980427146,
          7.003065458786462,
          8.160518247477505,
          8.648221453822641,
          9.02401079378469,
          7.090076835776092,
          8.987196820661973,
          7.090076835776092,
          8.935903526274423,
          9.137769679141348,
          8.101677747454572,
          8.881836305004146,
          8.824677891164198,
          8.411832675758411,
          8.824677891164198,
          9.148464968258095,
          7.90100705199242,
          9.035986984831405,
          9.20029003612268,
          9.0595174822416,
          8.556413904569519,
          8.630521876723241,
          8.476371196895983,
          8.66561319653451,
          8.242756345714477,
          9.116029692504942,
          9.035986984831405,
          7.549609165154532,
          7.24422751560335,
          8.764053269347762,
          8.824677891164198,
          8.101677747454572,
          7.170119543449628,
          8.794824928014517,
          7.8632667240095735,
          8.294049640102028,
          9.137769679141348,
          8.961879012677683,
          8.85366542803745,
          8.699514748210191,
          9.259130536145614,
          8.948975607841776,
          9.02401079378469,
          7.600902459542082,
          8.556413904569519,
          8.881836305004146,
          7.090076835776092,
          9.126958763037132,
          9.082507000466299,
          8.294049640102028,
          7.313220387090301,
          8.648221453822641,
          9.093806555720231,
          8.699514748210191,
          7.824046010856292,
          9.249561085129464,
          9.20029003612268,
          7.549609165154532,
          9.011889433252344,
          7.170119543449628,
          8.974618038455112,
          7.438383530044307,
          7.090076835776092,
          8.160518247477505,
          9.116029692504942,
          7.24422751560335,
          7.438383530044307,
          8.794824928014517,
          8.131530710604252,
          9.190137664658664,
          9.116029692504942,
          8.630521876723241,
          8.974618038455112,
          8.909235279192261,
          7.003065458786462,
          9.148464968258095,
          9.148464968258095,
          8.318742252692399,
          9.035986984831405,
          8.935903526274423,
          8.881836305004146,
          8.101677747454572,
          7.090076835776092,
          8.433811582477187,
          8.895629627136483,
          8.006367567650246,
          7.824046010856292,
          8.294049640102028,
          9.02401079378469,
          7.313220387090301,
          8.935903526274423,
          8.411832675758411,
          8.948975607841776,
          7.495541943884256,
          8.83927669058535,
          7.313220387090301,
          8.556413904569519,
          8.242756345714477,
          7.783224016336037,
          9.082507000466299,
          9.259130536145614,
          8.895629627136483,
          8.987196820661973,
          7.170119543449628,
          8.895629627136483,
          8.974618038455112,
          7.313220387090301,
          8.948975607841776,
          7.495541943884256,
          8.824677891164198,
          9.011889433252344,
          8.101677747454572
         ]
        }
       ],
       "layout": {
        "height": 500,
        "template": {
         "data": {
          "bar": [
           {
            "error_x": {
             "color": "#2a3f5f"
            },
            "error_y": {
             "color": "#2a3f5f"
            },
            "marker": {
             "line": {
              "color": "#E5ECF6",
              "width": 0.5
             },
             "pattern": {
              "fillmode": "overlay",
              "size": 10,
              "solidity": 0.2
             }
            },
            "type": "bar"
           }
          ],
          "barpolar": [
           {
            "marker": {
             "line": {
              "color": "#E5ECF6",
              "width": 0.5
             },
             "pattern": {
              "fillmode": "overlay",
              "size": 10,
              "solidity": 0.2
             }
            },
            "type": "barpolar"
           }
          ],
          "carpet": [
           {
            "aaxis": {
             "endlinecolor": "#2a3f5f",
             "gridcolor": "white",
             "linecolor": "white",
             "minorgridcolor": "white",
             "startlinecolor": "#2a3f5f"
            },
            "baxis": {
             "endlinecolor": "#2a3f5f",
             "gridcolor": "white",
             "linecolor": "white",
             "minorgridcolor": "white",
             "startlinecolor": "#2a3f5f"
            },
            "type": "carpet"
           }
          ],
          "choropleth": [
           {
            "colorbar": {
             "outlinewidth": 0,
             "ticks": ""
            },
            "type": "choropleth"
           }
          ],
          "contour": [
           {
            "colorbar": {
             "outlinewidth": 0,
             "ticks": ""
            },
            "colorscale": [
             [
              0,
              "#0d0887"
             ],
             [
              0.1111111111111111,
              "#46039f"
             ],
             [
              0.2222222222222222,
              "#7201a8"
             ],
             [
              0.3333333333333333,
              "#9c179e"
             ],
             [
              0.4444444444444444,
              "#bd3786"
             ],
             [
              0.5555555555555556,
              "#d8576b"
             ],
             [
              0.6666666666666666,
              "#ed7953"
             ],
             [
              0.7777777777777778,
              "#fb9f3a"
             ],
             [
              0.8888888888888888,
              "#fdca26"
             ],
             [
              1,
              "#f0f921"
             ]
            ],
            "type": "contour"
           }
          ],
          "contourcarpet": [
           {
            "colorbar": {
             "outlinewidth": 0,
             "ticks": ""
            },
            "type": "contourcarpet"
           }
          ],
          "heatmap": [
           {
            "colorbar": {
             "outlinewidth": 0,
             "ticks": ""
            },
            "colorscale": [
             [
              0,
              "#0d0887"
             ],
             [
              0.1111111111111111,
              "#46039f"
             ],
             [
              0.2222222222222222,
              "#7201a8"
             ],
             [
              0.3333333333333333,
              "#9c179e"
             ],
             [
              0.4444444444444444,
              "#bd3786"
             ],
             [
              0.5555555555555556,
              "#d8576b"
             ],
             [
              0.6666666666666666,
              "#ed7953"
             ],
             [
              0.7777777777777778,
              "#fb9f3a"
             ],
             [
              0.8888888888888888,
              "#fdca26"
             ],
             [
              1,
              "#f0f921"
             ]
            ],
            "type": "heatmap"
           }
          ],
          "heatmapgl": [
           {
            "colorbar": {
             "outlinewidth": 0,
             "ticks": ""
            },
            "colorscale": [
             [
              0,
              "#0d0887"
             ],
             [
              0.1111111111111111,
              "#46039f"
             ],
             [
              0.2222222222222222,
              "#7201a8"
             ],
             [
              0.3333333333333333,
              "#9c179e"
             ],
             [
              0.4444444444444444,
              "#bd3786"
             ],
             [
              0.5555555555555556,
              "#d8576b"
             ],
             [
              0.6666666666666666,
              "#ed7953"
             ],
             [
              0.7777777777777778,
              "#fb9f3a"
             ],
             [
              0.8888888888888888,
              "#fdca26"
             ],
             [
              1,
              "#f0f921"
             ]
            ],
            "type": "heatmapgl"
           }
          ],
          "histogram": [
           {
            "marker": {
             "pattern": {
              "fillmode": "overlay",
              "size": 10,
              "solidity": 0.2
             }
            },
            "type": "histogram"
           }
          ],
          "histogram2d": [
           {
            "colorbar": {
             "outlinewidth": 0,
             "ticks": ""
            },
            "colorscale": [
             [
              0,
              "#0d0887"
             ],
             [
              0.1111111111111111,
              "#46039f"
             ],
             [
              0.2222222222222222,
              "#7201a8"
             ],
             [
              0.3333333333333333,
              "#9c179e"
             ],
             [
              0.4444444444444444,
              "#bd3786"
             ],
             [
              0.5555555555555556,
              "#d8576b"
             ],
             [
              0.6666666666666666,
              "#ed7953"
             ],
             [
              0.7777777777777778,
              "#fb9f3a"
             ],
             [
              0.8888888888888888,
              "#fdca26"
             ],
             [
              1,
              "#f0f921"
             ]
            ],
            "type": "histogram2d"
           }
          ],
          "histogram2dcontour": [
           {
            "colorbar": {
             "outlinewidth": 0,
             "ticks": ""
            },
            "colorscale": [
             [
              0,
              "#0d0887"
             ],
             [
              0.1111111111111111,
              "#46039f"
             ],
             [
              0.2222222222222222,
              "#7201a8"
             ],
             [
              0.3333333333333333,
              "#9c179e"
             ],
             [
              0.4444444444444444,
              "#bd3786"
             ],
             [
              0.5555555555555556,
              "#d8576b"
             ],
             [
              0.6666666666666666,
              "#ed7953"
             ],
             [
              0.7777777777777778,
              "#fb9f3a"
             ],
             [
              0.8888888888888888,
              "#fdca26"
             ],
             [
              1,
              "#f0f921"
             ]
            ],
            "type": "histogram2dcontour"
           }
          ],
          "mesh3d": [
           {
            "colorbar": {
             "outlinewidth": 0,
             "ticks": ""
            },
            "type": "mesh3d"
           }
          ],
          "parcoords": [
           {
            "line": {
             "colorbar": {
              "outlinewidth": 0,
              "ticks": ""
             }
            },
            "type": "parcoords"
           }
          ],
          "pie": [
           {
            "automargin": true,
            "type": "pie"
           }
          ],
          "scatter": [
           {
            "fillpattern": {
             "fillmode": "overlay",
             "size": 10,
             "solidity": 0.2
            },
            "type": "scatter"
           }
          ],
          "scatter3d": [
           {
            "line": {
             "colorbar": {
              "outlinewidth": 0,
              "ticks": ""
             }
            },
            "marker": {
             "colorbar": {
              "outlinewidth": 0,
              "ticks": ""
             }
            },
            "type": "scatter3d"
           }
          ],
          "scattercarpet": [
           {
            "marker": {
             "colorbar": {
              "outlinewidth": 0,
              "ticks": ""
             }
            },
            "type": "scattercarpet"
           }
          ],
          "scattergeo": [
           {
            "marker": {
             "colorbar": {
              "outlinewidth": 0,
              "ticks": ""
             }
            },
            "type": "scattergeo"
           }
          ],
          "scattergl": [
           {
            "marker": {
             "colorbar": {
              "outlinewidth": 0,
              "ticks": ""
             }
            },
            "type": "scattergl"
           }
          ],
          "scattermapbox": [
           {
            "marker": {
             "colorbar": {
              "outlinewidth": 0,
              "ticks": ""
             }
            },
            "type": "scattermapbox"
           }
          ],
          "scatterpolar": [
           {
            "marker": {
             "colorbar": {
              "outlinewidth": 0,
              "ticks": ""
             }
            },
            "type": "scatterpolar"
           }
          ],
          "scatterpolargl": [
           {
            "marker": {
             "colorbar": {
              "outlinewidth": 0,
              "ticks": ""
             }
            },
            "type": "scatterpolargl"
           }
          ],
          "scatterternary": [
           {
            "marker": {
             "colorbar": {
              "outlinewidth": 0,
              "ticks": ""
             }
            },
            "type": "scatterternary"
           }
          ],
          "surface": [
           {
            "colorbar": {
             "outlinewidth": 0,
             "ticks": ""
            },
            "colorscale": [
             [
              0,
              "#0d0887"
             ],
             [
              0.1111111111111111,
              "#46039f"
             ],
             [
              0.2222222222222222,
              "#7201a8"
             ],
             [
              0.3333333333333333,
              "#9c179e"
             ],
             [
              0.4444444444444444,
              "#bd3786"
             ],
             [
              0.5555555555555556,
              "#d8576b"
             ],
             [
              0.6666666666666666,
              "#ed7953"
             ],
             [
              0.7777777777777778,
              "#fb9f3a"
             ],
             [
              0.8888888888888888,
              "#fdca26"
             ],
             [
              1,
              "#f0f921"
             ]
            ],
            "type": "surface"
           }
          ],
          "table": [
           {
            "cells": {
             "fill": {
              "color": "#EBF0F8"
             },
             "line": {
              "color": "white"
             }
            },
            "header": {
             "fill": {
              "color": "#C8D4E3"
             },
             "line": {
              "color": "white"
             }
            },
            "type": "table"
           }
          ]
         },
         "layout": {
          "annotationdefaults": {
           "arrowcolor": "#2a3f5f",
           "arrowhead": 0,
           "arrowwidth": 1
          },
          "autotypenumbers": "strict",
          "coloraxis": {
           "colorbar": {
            "outlinewidth": 0,
            "ticks": ""
           }
          },
          "colorscale": {
           "diverging": [
            [
             0,
             "#8e0152"
            ],
            [
             0.1,
             "#c51b7d"
            ],
            [
             0.2,
             "#de77ae"
            ],
            [
             0.3,
             "#f1b6da"
            ],
            [
             0.4,
             "#fde0ef"
            ],
            [
             0.5,
             "#f7f7f7"
            ],
            [
             0.6,
             "#e6f5d0"
            ],
            [
             0.7,
             "#b8e186"
            ],
            [
             0.8,
             "#7fbc41"
            ],
            [
             0.9,
             "#4d9221"
            ],
            [
             1,
             "#276419"
            ]
           ],
           "sequential": [
            [
             0,
             "#0d0887"
            ],
            [
             0.1111111111111111,
             "#46039f"
            ],
            [
             0.2222222222222222,
             "#7201a8"
            ],
            [
             0.3333333333333333,
             "#9c179e"
            ],
            [
             0.4444444444444444,
             "#bd3786"
            ],
            [
             0.5555555555555556,
             "#d8576b"
            ],
            [
             0.6666666666666666,
             "#ed7953"
            ],
            [
             0.7777777777777778,
             "#fb9f3a"
            ],
            [
             0.8888888888888888,
             "#fdca26"
            ],
            [
             1,
             "#f0f921"
            ]
           ],
           "sequentialminus": [
            [
             0,
             "#0d0887"
            ],
            [
             0.1111111111111111,
             "#46039f"
            ],
            [
             0.2222222222222222,
             "#7201a8"
            ],
            [
             0.3333333333333333,
             "#9c179e"
            ],
            [
             0.4444444444444444,
             "#bd3786"
            ],
            [
             0.5555555555555556,
             "#d8576b"
            ],
            [
             0.6666666666666666,
             "#ed7953"
            ],
            [
             0.7777777777777778,
             "#fb9f3a"
            ],
            [
             0.8888888888888888,
             "#fdca26"
            ],
            [
             1,
             "#f0f921"
            ]
           ]
          },
          "colorway": [
           "#636efa",
           "#EF553B",
           "#00cc96",
           "#ab63fa",
           "#FFA15A",
           "#19d3f3",
           "#FF6692",
           "#B6E880",
           "#FF97FF",
           "#FECB52"
          ],
          "font": {
           "color": "#2a3f5f"
          },
          "geo": {
           "bgcolor": "white",
           "lakecolor": "white",
           "landcolor": "#E5ECF6",
           "showlakes": true,
           "showland": true,
           "subunitcolor": "white"
          },
          "hoverlabel": {
           "align": "left"
          },
          "hovermode": "closest",
          "mapbox": {
           "style": "light"
          },
          "paper_bgcolor": "white",
          "plot_bgcolor": "#E5ECF6",
          "polar": {
           "angularaxis": {
            "gridcolor": "white",
            "linecolor": "white",
            "ticks": ""
           },
           "bgcolor": "#E5ECF6",
           "radialaxis": {
            "gridcolor": "white",
            "linecolor": "white",
            "ticks": ""
           }
          },
          "scene": {
           "xaxis": {
            "backgroundcolor": "#E5ECF6",
            "gridcolor": "white",
            "gridwidth": 2,
            "linecolor": "white",
            "showbackground": true,
            "ticks": "",
            "zerolinecolor": "white"
           },
           "yaxis": {
            "backgroundcolor": "#E5ECF6",
            "gridcolor": "white",
            "gridwidth": 2,
            "linecolor": "white",
            "showbackground": true,
            "ticks": "",
            "zerolinecolor": "white"
           },
           "zaxis": {
            "backgroundcolor": "#E5ECF6",
            "gridcolor": "white",
            "gridwidth": 2,
            "linecolor": "white",
            "showbackground": true,
            "ticks": "",
            "zerolinecolor": "white"
           }
          },
          "shapedefaults": {
           "line": {
            "color": "#2a3f5f"
           }
          },
          "ternary": {
           "aaxis": {
            "gridcolor": "white",
            "linecolor": "white",
            "ticks": ""
           },
           "baxis": {
            "gridcolor": "white",
            "linecolor": "white",
            "ticks": ""
           },
           "bgcolor": "#E5ECF6",
           "caxis": {
            "gridcolor": "white",
            "linecolor": "white",
            "ticks": ""
           }
          },
          "title": {
           "x": 0.05
          },
          "xaxis": {
           "automargin": true,
           "gridcolor": "white",
           "linecolor": "white",
           "ticks": "",
           "title": {
            "standoff": 15
           },
           "zerolinecolor": "white",
           "zerolinewidth": 2
          },
          "yaxis": {
           "automargin": true,
           "gridcolor": "white",
           "linecolor": "white",
           "ticks": "",
           "title": {
            "standoff": 15
           },
           "zerolinecolor": "white",
           "zerolinewidth": 2
          }
         }
        },
        "title": {
         "text": "MLR:Observed target vs Predicted target using train data"
        },
        "width": 800,
        "xaxis": {
         "title": {
          "text": "Observed consult_cost"
         }
        },
        "yaxis": {
         "title": {
          "text": "Predicted consult_cost"
         }
        }
       }
      }
     },
     "metadata": {},
     "output_type": "display_data"
    }
   ],
   "source": [
    "\n",
    "fig = go.Figure()\n",
    "\n",
    "# scatter plot using test data\n",
    "fig.add_trace(go.Scatter(y=y_train, x=linear_regression.predict(x_train), mode='markers', marker=dict(color='blue')))\n",
    "\n",
    "# diagonal line to represent predictions\n",
    "fig.add_trace(go.Scatter(y=y_train, x=y_train, mode='lines', line=dict(color='red')))\n",
    "\n",
    "fig.update_layout(title='MLR:Observed target vs Predicted target using train data', xaxis_title='Observed consult_cost', \n",
    "                  yaxis_title='Predicted consult_cost', width=800, height=500)\n",
    "fig.show()"
   ]
  },
  {
   "cell_type": "code",
   "execution_count": 60,
   "metadata": {},
   "outputs": [
    {
     "data": {
      "application/vnd.plotly.v1+json": {
       "config": {
        "plotlyServerURL": "https://plot.ly"
       },
       "data": [
        {
         "marker": {
          "color": "blue"
         },
         "mode": "markers",
         "type": "scatter",
         "x": [
          8.005120031652643,
          8.839971268548412,
          7.692050817816728,
          8.213832840876584,
          7.7964072224287,
          7.692050817816728,
          8.944327673160384,
          7.692050817816728,
          8.631258459324469,
          9.257396886996297,
          7.692050817816728,
          8.422545650100528,
          9.153040482384327,
          8.422545650100528,
          7.900763627040671,
          8.422545650100528,
          9.048684077772355,
          8.213832840876584,
          8.318189245488556,
          8.5269020547125,
          8.839971268548412,
          8.5269020547125,
          7.7964072224287,
          7.7964072224287,
          8.73561486393644,
          7.900763627040671,
          7.7964072224287,
          8.318189245488556,
          7.7964072224287,
          8.005120031652643,
          8.005120031652643,
          8.73561486393644,
          9.153040482384327,
          7.5876944132047575,
          7.5876944132047575,
          7.7964072224287,
          9.361753291608268,
          8.944327673160384,
          8.318189245488556,
          9.048684077772355,
          7.7964072224287,
          8.318189245488556,
          7.692050817816728,
          7.7964072224287,
          8.318189245488556,
          9.048684077772355,
          9.048684077772355,
          7.5876944132047575,
          9.048684077772355,
          7.7964072224287,
          8.73561486393644,
          8.5269020547125,
          8.005120031652643,
          8.422545650100528,
          8.213832840876584,
          7.692050817816728,
          8.213832840876584,
          8.213832840876584,
          8.944327673160384,
          8.422545650100528,
          7.7964072224287,
          9.153040482384327,
          9.257396886996297,
          8.631258459324469,
          8.5269020547125,
          8.631258459324469,
          7.900763627040671,
          7.7964072224287,
          8.73561486393644,
          9.361753291608268,
          9.048684077772355,
          8.213832840876584,
          8.73561486393644,
          8.005120031652643,
          8.944327673160384,
          8.944327673160384,
          8.631258459324469,
          8.109476436264613,
          8.5269020547125,
          8.318189245488556,
          8.422545650100528,
          8.944327673160384,
          9.257396886996297,
          8.944327673160384,
          7.7964072224287,
          8.213832840876584,
          8.109476436264613,
          7.5876944132047575,
          8.005120031652643,
          8.839971268548412,
          8.839971268548412,
          8.109476436264613,
          8.839971268548412,
          7.7964072224287,
          8.109476436264613,
          7.900763627040671,
          9.048684077772355,
          8.631258459324469,
          8.631258459324469,
          8.422545650100528,
          9.048684077772355,
          9.048684077772355,
          8.213832840876584,
          9.257396886996297,
          8.213832840876584,
          8.5269020547125,
          7.900763627040671,
          7.7964072224287,
          8.73561486393644,
          7.7964072224287,
          8.318189245488556,
          8.318189245488556,
          7.692050817816728,
          7.900763627040671,
          7.692050817816728,
          8.944327673160384,
          9.048684077772355,
          7.900763627040671,
          8.944327673160384,
          8.73561486393644,
          7.900763627040671,
          8.318189245488556,
          8.73561486393644,
          8.318189245488556,
          9.048684077772355,
          8.944327673160384,
          8.005120031652643,
          8.213832840876584,
          8.631258459324469,
          8.944327673160384,
          7.692050817816728,
          7.5876944132047575,
          8.005120031652643,
          9.048684077772355,
          8.109476436264613,
          8.213832840876584,
          9.048684077772355,
          8.109476436264613,
          7.5876944132047575,
          7.900763627040671,
          8.631258459324469,
          8.213832840876584,
          8.73561486393644,
          7.7964072224287,
          7.900763627040671,
          9.153040482384327,
          8.944327673160384,
          9.153040482384327,
          8.631258459324469,
          7.7964072224287,
          7.692050817816728,
          8.213832840876584,
          9.257396886996297,
          9.257396886996297,
          7.7964072224287,
          8.318189245488556,
          8.213832840876584,
          8.73561486393644,
          8.318189245488556,
          8.318189245488556,
          9.153040482384327,
          8.005120031652643,
          7.5876944132047575,
          9.153040482384327,
          7.692050817816728,
          9.048684077772355,
          9.153040482384327,
          9.257396886996297,
          8.839971268548412,
          8.839971268548412,
          8.944327673160384,
          8.5269020547125,
          8.109476436264613,
          8.944327673160384,
          8.839971268548412,
          7.900763627040671,
          8.005120031652643,
          7.692050817816728,
          7.7964072224287,
          9.361753291608268,
          9.361753291608268,
          8.318189245488556,
          8.213832840876584,
          9.257396886996297,
          7.692050817816728,
          8.944327673160384,
          8.631258459324469,
          7.900763627040671,
          8.109476436264613,
          9.153040482384327,
          9.257396886996297,
          8.944327673160384,
          9.153040482384327,
          8.422545650100528,
          9.257396886996297,
          8.213832840876584,
          8.109476436264613,
          8.839971268548412,
          9.153040482384327,
          8.109476436264613,
          8.944327673160384,
          7.7964072224287,
          9.257396886996297,
          8.318189245488556,
          8.631258459324469,
          7.5876944132047575,
          8.422545650100528,
          7.900763627040671,
          8.73561486393644,
          7.692050817816728,
          7.5876944132047575,
          9.361753291608268,
          7.5876944132047575,
          8.109476436264613,
          7.7964072224287,
          7.7964072224287,
          8.213832840876584,
          8.73561486393644,
          8.944327673160384,
          9.048684077772355,
          8.422545650100528,
          8.839971268548412,
          7.692050817816728,
          8.5269020547125,
          8.005120031652643,
          7.7964072224287,
          8.005120031652643,
          7.7964072224287,
          7.7964072224287,
          7.7964072224287,
          8.005120031652643,
          9.048684077772355,
          7.7964072224287,
          8.109476436264613,
          8.839971268548412,
          7.900763627040671,
          8.005120031652643,
          8.318189245488556,
          8.005120031652643,
          8.213832840876584,
          7.900763627040671,
          7.7964072224287,
          8.213832840876584,
          8.944327673160384,
          7.692050817816728,
          7.900763627040671,
          8.5269020547125,
          9.048684077772355,
          8.5269020547125,
          7.7964072224287,
          8.005120031652643,
          7.692050817816728,
          8.944327673160384,
          8.422545650100528,
          8.631258459324469,
          8.005120031652643,
          7.5876944132047575,
          8.109476436264613,
          9.361753291608268,
          8.631258459324469,
          9.361753291608268,
          8.631258459324469,
          8.944327673160384,
          8.839971268548412,
          9.257396886996297,
          7.7964072224287,
          9.257396886996297,
          9.257396886996297,
          9.048684077772355,
          8.839971268548412,
          8.839971268548412,
          8.422545650100528,
          8.213832840876584,
          7.7964072224287,
          9.257396886996297,
          7.692050817816728,
          9.153040482384327,
          8.005120031652643,
          8.213832840876584,
          9.257396886996297,
          9.153040482384327,
          8.318189245488556,
          8.318189245488556,
          8.839971268548412,
          8.318189245488556,
          8.109476436264613,
          8.5269020547125,
          8.318189245488556,
          8.005120031652643,
          8.318189245488556,
          7.7964072224287,
          8.422545650100528,
          8.109476436264613,
          8.005120031652643,
          9.048684077772355,
          7.900763627040671,
          9.153040482384327,
          8.839971268548412,
          9.048684077772355,
          8.005120031652643,
          8.005120031652643,
          8.109476436264613,
          8.5269020547125,
          7.900763627040671,
          8.109476436264613,
          7.692050817816728,
          8.005120031652643,
          8.5269020547125,
          8.944327673160384,
          7.692050817816728,
          8.944327673160384,
          7.5876944132047575,
          8.944327673160384,
          9.257396886996297,
          8.109476436264613,
          8.73561486393644,
          8.631258459324469,
          8.318189245488556,
          8.631258459324469,
          9.153040482384327,
          7.900763627040671,
          8.944327673160384,
          9.257396886996297,
          9.153040482384327,
          8.318189245488556,
          8.422545650100528,
          8.213832840876584,
          8.422545650100528,
          8.109476436264613,
          9.153040482384327,
          8.944327673160384,
          7.7964072224287,
          7.5876944132047575,
          8.5269020547125,
          8.631258459324469,
          8.005120031652643,
          7.5876944132047575,
          8.5269020547125,
          7.900763627040671,
          8.109476436264613,
          9.153040482384327,
          8.839971268548412,
          8.631258459324469,
          8.422545650100528,
          9.361753291608268,
          8.839971268548412,
          9.048684077772355,
          7.7964072224287,
          8.318189245488556,
          8.73561486393644,
          7.5876944132047575,
          9.153040482384327,
          9.048684077772355,
          8.109476436264613,
          7.5876944132047575,
          8.5269020547125,
          9.153040482384327,
          8.422545650100528,
          8.005120031652643,
          9.361753291608268,
          9.361753291608268,
          7.7964072224287,
          9.048684077772355,
          7.692050817816728,
          8.839971268548412,
          7.7964072224287,
          7.7964072224287,
          8.005120031652643,
          9.153040482384327,
          7.5876944132047575,
          7.7964072224287,
          8.631258459324469,
          8.005120031652643,
          9.257396886996297,
          9.153040482384327,
          8.422545650100528,
          8.944327673160384,
          8.73561486393644,
          7.692050817816728,
          9.257396886996297,
          9.257396886996297,
          8.109476436264613,
          8.944327673160384,
          8.944327673160384,
          8.73561486393644,
          8.005120031652643,
          7.5876944132047575,
          8.213832840876584,
          8.73561486393644,
          7.900763627040671,
          7.900763627040671,
          8.109476436264613,
          8.944327673160384,
          7.692050817816728,
          8.839971268548412,
          8.213832840876584,
          8.839971268548412,
          7.7964072224287,
          8.631258459324469,
          7.7964072224287,
          8.318189245488556,
          8.109476436264613,
          7.900763627040671,
          9.048684077772355,
          9.361753291608268,
          8.73561486393644,
          8.839971268548412,
          7.5876944132047575,
          8.839971268548412,
          8.839971268548412,
          7.692050817816728,
          8.839971268548412,
          7.7964072224287,
          8.631258459324469,
          8.944327673160384,
          8.005120031652643
         ],
         "y": [
          8.160518247477505,
          8.987196820661973,
          7.170119543449628,
          8.476371196895983,
          7.438383530044307,
          7.170119543449628,
          9.011889433252344,
          7.24422751560335,
          8.83927669058535,
          9.20029003612268,
          7.24422751560335,
          8.68270762989381,
          9.126958763037132,
          8.68270762989381,
          7.783224016336037,
          8.575462099540212,
          9.0595174822416,
          8.389359819906353,
          8.594154232552366,
          8.794824928014517,
          8.948975607841776,
          8.732304571033183,
          7.649692623711514,
          7.090076835776092,
          8.895629627136483,
          7.90100705199242,
          7.549609165154532,
          8.594154232552366,
          7.649692623711514,
          8.131530710604252,
          8.006367567650246,
          8.881836305004146,
          9.137769679141348,
          7.170119543449628,
          7.24422751560335,
          7.696212639346407,
          9.259130536145614,
          9.035986984831405,
          8.594154232552366,
          9.035986984831405,
          7.438383530044307,
          8.496990484098719,
          7.170119543449628,
          7.495541943884256,
          8.594154232552366,
          9.02401079378469,
          9.082507000466299,
          7.170119543449628,
          9.071078304642676,
          7.003065458786462,
          8.895629627136483,
          8.732304571033183,
          8.101677747454572,
          8.575462099540212,
          8.517193191416238,
          7.170119543449628,
          8.476371196895983,
          8.517193191416238,
          9.011889433252344,
          8.68270762989381,
          7.313220387090301,
          9.137769679141348,
          9.169518377455928,
          8.824677891164198,
          8.764053269347762,
          8.83927669058535,
          8.006367567650246,
          7.495541943884256,
          8.895629627136483,
          9.230142999272362,
          9.071078304642676,
          8.45531778769815,
          8.895629627136483,
          8.160518247477505,
          9.011889433252344,
          9.02401079378469,
          8.824677891164198,
          8.294049640102028,
          8.764053269347762,
          8.575462099540212,
          8.699514748210191,
          9.02401079378469,
          9.20029003612268,
          9.035986984831405,
          7.649692623711514,
          8.517193191416238,
          8.131530710604252,
          7.003065458786462,
          7.783224016336037,
          8.974618038455112,
          8.935903526274423,
          8.34283980427146,
          8.987196820661973,
          7.313220387090301,
          8.34283980427146,
          7.8632667240095735,
          9.082507000466299,
          8.85366542803745,
          8.83927669058535,
          8.68270762989381,
          9.093806555720231,
          9.011889433252344,
          8.517193191416238,
          9.190137664658664,
          8.45531778769815,
          8.794824928014517,
          7.824046010856292,
          7.696212639346407,
          8.881836305004146,
          7.170119543449628,
          8.556413904569519,
          8.556413904569519,
          7.170119543449628,
          7.937374696163295,
          7.170119543449628,
          9.035986984831405,
          9.093806555720231,
          7.783224016336037,
          9.011889433252344,
          8.881836305004146,
          7.8632667240095735,
          8.556413904569519,
          8.909235279192261,
          8.594154232552366,
          9.093806555720231,
          8.935903526274423,
          8.101677747454572,
          8.496990484098719,
          8.824677891164198,
          9.035986984831405,
          7.090076835776092,
          7.24422751560335,
          8.160518247477505,
          9.093806555720231,
          8.34283980427146,
          8.45531778769815,
          9.0595174822416,
          8.268731832117737,
          7.24422751560335,
          7.824046010856292,
          8.85366542803745,
          8.389359819906353,
          8.881836305004146,
          7.696212639346407,
          7.824046010856292,
          9.116029692504942,
          9.011889433252344,
          9.148464968258095,
          8.85366542803745,
          7.003065458786462,
          7.090076835776092,
          8.496990484098719,
          9.20029003612268,
          9.169518377455928,
          7.495541943884256,
          8.594154232552366,
          8.411832675758411,
          8.909235279192261,
          8.411832675758411,
          8.575462099540212,
          9.126958763037132,
          8.160518247477505,
          7.003065458786462,
          9.148464968258095,
          7.090076835776092,
          9.071078304642676,
          9.137769679141348,
          9.190137664658664,
          8.974618038455112,
          8.961879012677683,
          9.011889433252344,
          8.794824928014517,
          8.294049640102028,
          8.948975607841776,
          8.961879012677683,
          7.696212639346407,
          8.131530710604252,
          7.24422751560335,
          7.24422751560335,
          9.230142999272362,
          9.20029003612268,
          8.556413904569519,
          8.45531778769815,
          9.179881164491475,
          7.313220387090301,
          9.035986984831405,
          8.824677891164198,
          7.696212639346407,
          8.268731832117737,
          9.137769679141348,
          9.169518377455928,
          9.02401079378469,
          9.137769679141348,
          8.630521876723241,
          9.116029692504942,
          8.411832675758411,
          8.34283980427146,
          8.881836305004146,
          9.093806555720231,
          8.294049640102028,
          9.035986984831405,
          7.438383530044307,
          9.169518377455928,
          8.556413904569519,
          8.824677891164198,
          7.003065458786462,
          8.66561319653451,
          7.9724660159745655,
          8.895629627136483,
          7.170119543449628,
          7.24422751560335,
          9.230142999272362,
          7.24422751560335,
          8.318742252692399,
          7.649692623711514,
          7.649692623711514,
          8.476371196895983,
          8.895629627136483,
          9.035986984831405,
          9.035986984831405,
          8.648221453822641,
          8.948975607841776,
          7.313220387090301,
          8.748304912379623,
          8.101677747454572,
          7.600902459542082,
          8.131530710604252,
          7.696212639346407,
          7.438383530044307,
          7.649692623711514,
          8.101677747454572,
          9.035986984831405,
          7.313220387090301,
          8.242756345714477,
          8.895629627136483,
          7.9724660159745655,
          8.131530710604252,
          8.575462099540212,
          8.006367567650246,
          8.45531778769815,
          7.600902459542082,
          7.438383530044307,
          8.389359819906353,
          9.02401079378469,
          7.170119543449628,
          7.824046010856292,
          8.764053269347762,
          9.082507000466299,
          8.748304912379623,
          7.696212639346407,
          8.101677747454572,
          7.24422751560335,
          9.035986984831405,
          8.66561319653451,
          8.85366542803745,
          8.101677747454572,
          7.313220387090301,
          8.34283980427146,
          9.190137664658664,
          8.83927669058535,
          9.230142999272362,
          8.824677891164198,
          8.935903526274423,
          8.948975607841776,
          9.169518377455928,
          7.549609165154532,
          9.179881164491475,
          9.126958763037132,
          9.071078304642676,
          8.974618038455112,
          8.987196820661973,
          8.66561319653451,
          8.496990484098719,
          7.438383530044307,
          9.190137664658664,
          7.170119543449628,
          9.116029692504942,
          8.160518247477505,
          8.496990484098719,
          9.116029692504942,
          9.137769679141348,
          8.556413904569519,
          8.594154232552366,
          8.987196820661973,
          8.575462099540212,
          8.34283980427146,
          8.764053269347762,
          8.575462099540212,
          8.101677747454572,
          8.594154232552366,
          7.438383530044307,
          8.68270762989381,
          8.294049640102028,
          8.160518247477505,
          9.082507000466299,
          7.937374696163295,
          9.148464968258095,
          8.948975607841776,
          9.011889433252344,
          8.101677747454572,
          8.160518247477505,
          8.34283980427146,
          8.748304912379623,
          7.649692623711514,
          8.34283980427146,
          7.003065458786462,
          8.160518247477505,
          8.648221453822641,
          9.02401079378469,
          7.090076835776092,
          8.987196820661973,
          7.090076835776092,
          8.935903526274423,
          9.137769679141348,
          8.101677747454572,
          8.881836305004146,
          8.824677891164198,
          8.411832675758411,
          8.824677891164198,
          9.148464968258095,
          7.90100705199242,
          9.035986984831405,
          9.20029003612268,
          9.0595174822416,
          8.556413904569519,
          8.630521876723241,
          8.476371196895983,
          8.66561319653451,
          8.242756345714477,
          9.116029692504942,
          9.035986984831405,
          7.549609165154532,
          7.24422751560335,
          8.764053269347762,
          8.824677891164198,
          8.101677747454572,
          7.170119543449628,
          8.794824928014517,
          7.8632667240095735,
          8.294049640102028,
          9.137769679141348,
          8.961879012677683,
          8.85366542803745,
          8.699514748210191,
          9.259130536145614,
          8.948975607841776,
          9.02401079378469,
          7.600902459542082,
          8.556413904569519,
          8.881836305004146,
          7.090076835776092,
          9.126958763037132,
          9.082507000466299,
          8.294049640102028,
          7.313220387090301,
          8.648221453822641,
          9.093806555720231,
          8.699514748210191,
          7.824046010856292,
          9.249561085129464,
          9.20029003612268,
          7.549609165154532,
          9.011889433252344,
          7.170119543449628,
          8.974618038455112,
          7.438383530044307,
          7.090076835776092,
          8.160518247477505,
          9.116029692504942,
          7.24422751560335,
          7.438383530044307,
          8.794824928014517,
          8.131530710604252,
          9.190137664658664,
          9.116029692504942,
          8.630521876723241,
          8.974618038455112,
          8.909235279192261,
          7.003065458786462,
          9.148464968258095,
          9.148464968258095,
          8.318742252692399,
          9.035986984831405,
          8.935903526274423,
          8.881836305004146,
          8.101677747454572,
          7.090076835776092,
          8.433811582477187,
          8.895629627136483,
          8.006367567650246,
          7.824046010856292,
          8.294049640102028,
          9.02401079378469,
          7.313220387090301,
          8.935903526274423,
          8.411832675758411,
          8.948975607841776,
          7.495541943884256,
          8.83927669058535,
          7.313220387090301,
          8.556413904569519,
          8.242756345714477,
          7.783224016336037,
          9.082507000466299,
          9.259130536145614,
          8.895629627136483,
          8.987196820661973,
          7.170119543449628,
          8.895629627136483,
          8.974618038455112,
          7.313220387090301,
          8.948975607841776,
          7.495541943884256,
          8.824677891164198,
          9.011889433252344,
          8.101677747454572
         ]
        },
        {
         "line": {
          "color": "red"
         },
         "mode": "lines",
         "type": "scatter",
         "x": [
          8.160518247477505,
          8.987196820661973,
          7.170119543449628,
          8.476371196895983,
          7.438383530044307,
          7.170119543449628,
          9.011889433252344,
          7.24422751560335,
          8.83927669058535,
          9.20029003612268,
          7.24422751560335,
          8.68270762989381,
          9.126958763037132,
          8.68270762989381,
          7.783224016336037,
          8.575462099540212,
          9.0595174822416,
          8.389359819906353,
          8.594154232552366,
          8.794824928014517,
          8.948975607841776,
          8.732304571033183,
          7.649692623711514,
          7.090076835776092,
          8.895629627136483,
          7.90100705199242,
          7.549609165154532,
          8.594154232552366,
          7.649692623711514,
          8.131530710604252,
          8.006367567650246,
          8.881836305004146,
          9.137769679141348,
          7.170119543449628,
          7.24422751560335,
          7.696212639346407,
          9.259130536145614,
          9.035986984831405,
          8.594154232552366,
          9.035986984831405,
          7.438383530044307,
          8.496990484098719,
          7.170119543449628,
          7.495541943884256,
          8.594154232552366,
          9.02401079378469,
          9.082507000466299,
          7.170119543449628,
          9.071078304642676,
          7.003065458786462,
          8.895629627136483,
          8.732304571033183,
          8.101677747454572,
          8.575462099540212,
          8.517193191416238,
          7.170119543449628,
          8.476371196895983,
          8.517193191416238,
          9.011889433252344,
          8.68270762989381,
          7.313220387090301,
          9.137769679141348,
          9.169518377455928,
          8.824677891164198,
          8.764053269347762,
          8.83927669058535,
          8.006367567650246,
          7.495541943884256,
          8.895629627136483,
          9.230142999272362,
          9.071078304642676,
          8.45531778769815,
          8.895629627136483,
          8.160518247477505,
          9.011889433252344,
          9.02401079378469,
          8.824677891164198,
          8.294049640102028,
          8.764053269347762,
          8.575462099540212,
          8.699514748210191,
          9.02401079378469,
          9.20029003612268,
          9.035986984831405,
          7.649692623711514,
          8.517193191416238,
          8.131530710604252,
          7.003065458786462,
          7.783224016336037,
          8.974618038455112,
          8.935903526274423,
          8.34283980427146,
          8.987196820661973,
          7.313220387090301,
          8.34283980427146,
          7.8632667240095735,
          9.082507000466299,
          8.85366542803745,
          8.83927669058535,
          8.68270762989381,
          9.093806555720231,
          9.011889433252344,
          8.517193191416238,
          9.190137664658664,
          8.45531778769815,
          8.794824928014517,
          7.824046010856292,
          7.696212639346407,
          8.881836305004146,
          7.170119543449628,
          8.556413904569519,
          8.556413904569519,
          7.170119543449628,
          7.937374696163295,
          7.170119543449628,
          9.035986984831405,
          9.093806555720231,
          7.783224016336037,
          9.011889433252344,
          8.881836305004146,
          7.8632667240095735,
          8.556413904569519,
          8.909235279192261,
          8.594154232552366,
          9.093806555720231,
          8.935903526274423,
          8.101677747454572,
          8.496990484098719,
          8.824677891164198,
          9.035986984831405,
          7.090076835776092,
          7.24422751560335,
          8.160518247477505,
          9.093806555720231,
          8.34283980427146,
          8.45531778769815,
          9.0595174822416,
          8.268731832117737,
          7.24422751560335,
          7.824046010856292,
          8.85366542803745,
          8.389359819906353,
          8.881836305004146,
          7.696212639346407,
          7.824046010856292,
          9.116029692504942,
          9.011889433252344,
          9.148464968258095,
          8.85366542803745,
          7.003065458786462,
          7.090076835776092,
          8.496990484098719,
          9.20029003612268,
          9.169518377455928,
          7.495541943884256,
          8.594154232552366,
          8.411832675758411,
          8.909235279192261,
          8.411832675758411,
          8.575462099540212,
          9.126958763037132,
          8.160518247477505,
          7.003065458786462,
          9.148464968258095,
          7.090076835776092,
          9.071078304642676,
          9.137769679141348,
          9.190137664658664,
          8.974618038455112,
          8.961879012677683,
          9.011889433252344,
          8.794824928014517,
          8.294049640102028,
          8.948975607841776,
          8.961879012677683,
          7.696212639346407,
          8.131530710604252,
          7.24422751560335,
          7.24422751560335,
          9.230142999272362,
          9.20029003612268,
          8.556413904569519,
          8.45531778769815,
          9.179881164491475,
          7.313220387090301,
          9.035986984831405,
          8.824677891164198,
          7.696212639346407,
          8.268731832117737,
          9.137769679141348,
          9.169518377455928,
          9.02401079378469,
          9.137769679141348,
          8.630521876723241,
          9.116029692504942,
          8.411832675758411,
          8.34283980427146,
          8.881836305004146,
          9.093806555720231,
          8.294049640102028,
          9.035986984831405,
          7.438383530044307,
          9.169518377455928,
          8.556413904569519,
          8.824677891164198,
          7.003065458786462,
          8.66561319653451,
          7.9724660159745655,
          8.895629627136483,
          7.170119543449628,
          7.24422751560335,
          9.230142999272362,
          7.24422751560335,
          8.318742252692399,
          7.649692623711514,
          7.649692623711514,
          8.476371196895983,
          8.895629627136483,
          9.035986984831405,
          9.035986984831405,
          8.648221453822641,
          8.948975607841776,
          7.313220387090301,
          8.748304912379623,
          8.101677747454572,
          7.600902459542082,
          8.131530710604252,
          7.696212639346407,
          7.438383530044307,
          7.649692623711514,
          8.101677747454572,
          9.035986984831405,
          7.313220387090301,
          8.242756345714477,
          8.895629627136483,
          7.9724660159745655,
          8.131530710604252,
          8.575462099540212,
          8.006367567650246,
          8.45531778769815,
          7.600902459542082,
          7.438383530044307,
          8.389359819906353,
          9.02401079378469,
          7.170119543449628,
          7.824046010856292,
          8.764053269347762,
          9.082507000466299,
          8.748304912379623,
          7.696212639346407,
          8.101677747454572,
          7.24422751560335,
          9.035986984831405,
          8.66561319653451,
          8.85366542803745,
          8.101677747454572,
          7.313220387090301,
          8.34283980427146,
          9.190137664658664,
          8.83927669058535,
          9.230142999272362,
          8.824677891164198,
          8.935903526274423,
          8.948975607841776,
          9.169518377455928,
          7.549609165154532,
          9.179881164491475,
          9.126958763037132,
          9.071078304642676,
          8.974618038455112,
          8.987196820661973,
          8.66561319653451,
          8.496990484098719,
          7.438383530044307,
          9.190137664658664,
          7.170119543449628,
          9.116029692504942,
          8.160518247477505,
          8.496990484098719,
          9.116029692504942,
          9.137769679141348,
          8.556413904569519,
          8.594154232552366,
          8.987196820661973,
          8.575462099540212,
          8.34283980427146,
          8.764053269347762,
          8.575462099540212,
          8.101677747454572,
          8.594154232552366,
          7.438383530044307,
          8.68270762989381,
          8.294049640102028,
          8.160518247477505,
          9.082507000466299,
          7.937374696163295,
          9.148464968258095,
          8.948975607841776,
          9.011889433252344,
          8.101677747454572,
          8.160518247477505,
          8.34283980427146,
          8.748304912379623,
          7.649692623711514,
          8.34283980427146,
          7.003065458786462,
          8.160518247477505,
          8.648221453822641,
          9.02401079378469,
          7.090076835776092,
          8.987196820661973,
          7.090076835776092,
          8.935903526274423,
          9.137769679141348,
          8.101677747454572,
          8.881836305004146,
          8.824677891164198,
          8.411832675758411,
          8.824677891164198,
          9.148464968258095,
          7.90100705199242,
          9.035986984831405,
          9.20029003612268,
          9.0595174822416,
          8.556413904569519,
          8.630521876723241,
          8.476371196895983,
          8.66561319653451,
          8.242756345714477,
          9.116029692504942,
          9.035986984831405,
          7.549609165154532,
          7.24422751560335,
          8.764053269347762,
          8.824677891164198,
          8.101677747454572,
          7.170119543449628,
          8.794824928014517,
          7.8632667240095735,
          8.294049640102028,
          9.137769679141348,
          8.961879012677683,
          8.85366542803745,
          8.699514748210191,
          9.259130536145614,
          8.948975607841776,
          9.02401079378469,
          7.600902459542082,
          8.556413904569519,
          8.881836305004146,
          7.090076835776092,
          9.126958763037132,
          9.082507000466299,
          8.294049640102028,
          7.313220387090301,
          8.648221453822641,
          9.093806555720231,
          8.699514748210191,
          7.824046010856292,
          9.249561085129464,
          9.20029003612268,
          7.549609165154532,
          9.011889433252344,
          7.170119543449628,
          8.974618038455112,
          7.438383530044307,
          7.090076835776092,
          8.160518247477505,
          9.116029692504942,
          7.24422751560335,
          7.438383530044307,
          8.794824928014517,
          8.131530710604252,
          9.190137664658664,
          9.116029692504942,
          8.630521876723241,
          8.974618038455112,
          8.909235279192261,
          7.003065458786462,
          9.148464968258095,
          9.148464968258095,
          8.318742252692399,
          9.035986984831405,
          8.935903526274423,
          8.881836305004146,
          8.101677747454572,
          7.090076835776092,
          8.433811582477187,
          8.895629627136483,
          8.006367567650246,
          7.824046010856292,
          8.294049640102028,
          9.02401079378469,
          7.313220387090301,
          8.935903526274423,
          8.411832675758411,
          8.948975607841776,
          7.495541943884256,
          8.83927669058535,
          7.313220387090301,
          8.556413904569519,
          8.242756345714477,
          7.783224016336037,
          9.082507000466299,
          9.259130536145614,
          8.895629627136483,
          8.987196820661973,
          7.170119543449628,
          8.895629627136483,
          8.974618038455112,
          7.313220387090301,
          8.948975607841776,
          7.495541943884256,
          8.824677891164198,
          9.011889433252344,
          8.101677747454572
         ],
         "y": [
          8.160518247477505,
          8.987196820661973,
          7.170119543449628,
          8.476371196895983,
          7.438383530044307,
          7.170119543449628,
          9.011889433252344,
          7.24422751560335,
          8.83927669058535,
          9.20029003612268,
          7.24422751560335,
          8.68270762989381,
          9.126958763037132,
          8.68270762989381,
          7.783224016336037,
          8.575462099540212,
          9.0595174822416,
          8.389359819906353,
          8.594154232552366,
          8.794824928014517,
          8.948975607841776,
          8.732304571033183,
          7.649692623711514,
          7.090076835776092,
          8.895629627136483,
          7.90100705199242,
          7.549609165154532,
          8.594154232552366,
          7.649692623711514,
          8.131530710604252,
          8.006367567650246,
          8.881836305004146,
          9.137769679141348,
          7.170119543449628,
          7.24422751560335,
          7.696212639346407,
          9.259130536145614,
          9.035986984831405,
          8.594154232552366,
          9.035986984831405,
          7.438383530044307,
          8.496990484098719,
          7.170119543449628,
          7.495541943884256,
          8.594154232552366,
          9.02401079378469,
          9.082507000466299,
          7.170119543449628,
          9.071078304642676,
          7.003065458786462,
          8.895629627136483,
          8.732304571033183,
          8.101677747454572,
          8.575462099540212,
          8.517193191416238,
          7.170119543449628,
          8.476371196895983,
          8.517193191416238,
          9.011889433252344,
          8.68270762989381,
          7.313220387090301,
          9.137769679141348,
          9.169518377455928,
          8.824677891164198,
          8.764053269347762,
          8.83927669058535,
          8.006367567650246,
          7.495541943884256,
          8.895629627136483,
          9.230142999272362,
          9.071078304642676,
          8.45531778769815,
          8.895629627136483,
          8.160518247477505,
          9.011889433252344,
          9.02401079378469,
          8.824677891164198,
          8.294049640102028,
          8.764053269347762,
          8.575462099540212,
          8.699514748210191,
          9.02401079378469,
          9.20029003612268,
          9.035986984831405,
          7.649692623711514,
          8.517193191416238,
          8.131530710604252,
          7.003065458786462,
          7.783224016336037,
          8.974618038455112,
          8.935903526274423,
          8.34283980427146,
          8.987196820661973,
          7.313220387090301,
          8.34283980427146,
          7.8632667240095735,
          9.082507000466299,
          8.85366542803745,
          8.83927669058535,
          8.68270762989381,
          9.093806555720231,
          9.011889433252344,
          8.517193191416238,
          9.190137664658664,
          8.45531778769815,
          8.794824928014517,
          7.824046010856292,
          7.696212639346407,
          8.881836305004146,
          7.170119543449628,
          8.556413904569519,
          8.556413904569519,
          7.170119543449628,
          7.937374696163295,
          7.170119543449628,
          9.035986984831405,
          9.093806555720231,
          7.783224016336037,
          9.011889433252344,
          8.881836305004146,
          7.8632667240095735,
          8.556413904569519,
          8.909235279192261,
          8.594154232552366,
          9.093806555720231,
          8.935903526274423,
          8.101677747454572,
          8.496990484098719,
          8.824677891164198,
          9.035986984831405,
          7.090076835776092,
          7.24422751560335,
          8.160518247477505,
          9.093806555720231,
          8.34283980427146,
          8.45531778769815,
          9.0595174822416,
          8.268731832117737,
          7.24422751560335,
          7.824046010856292,
          8.85366542803745,
          8.389359819906353,
          8.881836305004146,
          7.696212639346407,
          7.824046010856292,
          9.116029692504942,
          9.011889433252344,
          9.148464968258095,
          8.85366542803745,
          7.003065458786462,
          7.090076835776092,
          8.496990484098719,
          9.20029003612268,
          9.169518377455928,
          7.495541943884256,
          8.594154232552366,
          8.411832675758411,
          8.909235279192261,
          8.411832675758411,
          8.575462099540212,
          9.126958763037132,
          8.160518247477505,
          7.003065458786462,
          9.148464968258095,
          7.090076835776092,
          9.071078304642676,
          9.137769679141348,
          9.190137664658664,
          8.974618038455112,
          8.961879012677683,
          9.011889433252344,
          8.794824928014517,
          8.294049640102028,
          8.948975607841776,
          8.961879012677683,
          7.696212639346407,
          8.131530710604252,
          7.24422751560335,
          7.24422751560335,
          9.230142999272362,
          9.20029003612268,
          8.556413904569519,
          8.45531778769815,
          9.179881164491475,
          7.313220387090301,
          9.035986984831405,
          8.824677891164198,
          7.696212639346407,
          8.268731832117737,
          9.137769679141348,
          9.169518377455928,
          9.02401079378469,
          9.137769679141348,
          8.630521876723241,
          9.116029692504942,
          8.411832675758411,
          8.34283980427146,
          8.881836305004146,
          9.093806555720231,
          8.294049640102028,
          9.035986984831405,
          7.438383530044307,
          9.169518377455928,
          8.556413904569519,
          8.824677891164198,
          7.003065458786462,
          8.66561319653451,
          7.9724660159745655,
          8.895629627136483,
          7.170119543449628,
          7.24422751560335,
          9.230142999272362,
          7.24422751560335,
          8.318742252692399,
          7.649692623711514,
          7.649692623711514,
          8.476371196895983,
          8.895629627136483,
          9.035986984831405,
          9.035986984831405,
          8.648221453822641,
          8.948975607841776,
          7.313220387090301,
          8.748304912379623,
          8.101677747454572,
          7.600902459542082,
          8.131530710604252,
          7.696212639346407,
          7.438383530044307,
          7.649692623711514,
          8.101677747454572,
          9.035986984831405,
          7.313220387090301,
          8.242756345714477,
          8.895629627136483,
          7.9724660159745655,
          8.131530710604252,
          8.575462099540212,
          8.006367567650246,
          8.45531778769815,
          7.600902459542082,
          7.438383530044307,
          8.389359819906353,
          9.02401079378469,
          7.170119543449628,
          7.824046010856292,
          8.764053269347762,
          9.082507000466299,
          8.748304912379623,
          7.696212639346407,
          8.101677747454572,
          7.24422751560335,
          9.035986984831405,
          8.66561319653451,
          8.85366542803745,
          8.101677747454572,
          7.313220387090301,
          8.34283980427146,
          9.190137664658664,
          8.83927669058535,
          9.230142999272362,
          8.824677891164198,
          8.935903526274423,
          8.948975607841776,
          9.169518377455928,
          7.549609165154532,
          9.179881164491475,
          9.126958763037132,
          9.071078304642676,
          8.974618038455112,
          8.987196820661973,
          8.66561319653451,
          8.496990484098719,
          7.438383530044307,
          9.190137664658664,
          7.170119543449628,
          9.116029692504942,
          8.160518247477505,
          8.496990484098719,
          9.116029692504942,
          9.137769679141348,
          8.556413904569519,
          8.594154232552366,
          8.987196820661973,
          8.575462099540212,
          8.34283980427146,
          8.764053269347762,
          8.575462099540212,
          8.101677747454572,
          8.594154232552366,
          7.438383530044307,
          8.68270762989381,
          8.294049640102028,
          8.160518247477505,
          9.082507000466299,
          7.937374696163295,
          9.148464968258095,
          8.948975607841776,
          9.011889433252344,
          8.101677747454572,
          8.160518247477505,
          8.34283980427146,
          8.748304912379623,
          7.649692623711514,
          8.34283980427146,
          7.003065458786462,
          8.160518247477505,
          8.648221453822641,
          9.02401079378469,
          7.090076835776092,
          8.987196820661973,
          7.090076835776092,
          8.935903526274423,
          9.137769679141348,
          8.101677747454572,
          8.881836305004146,
          8.824677891164198,
          8.411832675758411,
          8.824677891164198,
          9.148464968258095,
          7.90100705199242,
          9.035986984831405,
          9.20029003612268,
          9.0595174822416,
          8.556413904569519,
          8.630521876723241,
          8.476371196895983,
          8.66561319653451,
          8.242756345714477,
          9.116029692504942,
          9.035986984831405,
          7.549609165154532,
          7.24422751560335,
          8.764053269347762,
          8.824677891164198,
          8.101677747454572,
          7.170119543449628,
          8.794824928014517,
          7.8632667240095735,
          8.294049640102028,
          9.137769679141348,
          8.961879012677683,
          8.85366542803745,
          8.699514748210191,
          9.259130536145614,
          8.948975607841776,
          9.02401079378469,
          7.600902459542082,
          8.556413904569519,
          8.881836305004146,
          7.090076835776092,
          9.126958763037132,
          9.082507000466299,
          8.294049640102028,
          7.313220387090301,
          8.648221453822641,
          9.093806555720231,
          8.699514748210191,
          7.824046010856292,
          9.249561085129464,
          9.20029003612268,
          7.549609165154532,
          9.011889433252344,
          7.170119543449628,
          8.974618038455112,
          7.438383530044307,
          7.090076835776092,
          8.160518247477505,
          9.116029692504942,
          7.24422751560335,
          7.438383530044307,
          8.794824928014517,
          8.131530710604252,
          9.190137664658664,
          9.116029692504942,
          8.630521876723241,
          8.974618038455112,
          8.909235279192261,
          7.003065458786462,
          9.148464968258095,
          9.148464968258095,
          8.318742252692399,
          9.035986984831405,
          8.935903526274423,
          8.881836305004146,
          8.101677747454572,
          7.090076835776092,
          8.433811582477187,
          8.895629627136483,
          8.006367567650246,
          7.824046010856292,
          8.294049640102028,
          9.02401079378469,
          7.313220387090301,
          8.935903526274423,
          8.411832675758411,
          8.948975607841776,
          7.495541943884256,
          8.83927669058535,
          7.313220387090301,
          8.556413904569519,
          8.242756345714477,
          7.783224016336037,
          9.082507000466299,
          9.259130536145614,
          8.895629627136483,
          8.987196820661973,
          7.170119543449628,
          8.895629627136483,
          8.974618038455112,
          7.313220387090301,
          8.948975607841776,
          7.495541943884256,
          8.824677891164198,
          9.011889433252344,
          8.101677747454572
         ]
        }
       ],
       "layout": {
        "height": 500,
        "template": {
         "data": {
          "bar": [
           {
            "error_x": {
             "color": "#2a3f5f"
            },
            "error_y": {
             "color": "#2a3f5f"
            },
            "marker": {
             "line": {
              "color": "#E5ECF6",
              "width": 0.5
             },
             "pattern": {
              "fillmode": "overlay",
              "size": 10,
              "solidity": 0.2
             }
            },
            "type": "bar"
           }
          ],
          "barpolar": [
           {
            "marker": {
             "line": {
              "color": "#E5ECF6",
              "width": 0.5
             },
             "pattern": {
              "fillmode": "overlay",
              "size": 10,
              "solidity": 0.2
             }
            },
            "type": "barpolar"
           }
          ],
          "carpet": [
           {
            "aaxis": {
             "endlinecolor": "#2a3f5f",
             "gridcolor": "white",
             "linecolor": "white",
             "minorgridcolor": "white",
             "startlinecolor": "#2a3f5f"
            },
            "baxis": {
             "endlinecolor": "#2a3f5f",
             "gridcolor": "white",
             "linecolor": "white",
             "minorgridcolor": "white",
             "startlinecolor": "#2a3f5f"
            },
            "type": "carpet"
           }
          ],
          "choropleth": [
           {
            "colorbar": {
             "outlinewidth": 0,
             "ticks": ""
            },
            "type": "choropleth"
           }
          ],
          "contour": [
           {
            "colorbar": {
             "outlinewidth": 0,
             "ticks": ""
            },
            "colorscale": [
             [
              0,
              "#0d0887"
             ],
             [
              0.1111111111111111,
              "#46039f"
             ],
             [
              0.2222222222222222,
              "#7201a8"
             ],
             [
              0.3333333333333333,
              "#9c179e"
             ],
             [
              0.4444444444444444,
              "#bd3786"
             ],
             [
              0.5555555555555556,
              "#d8576b"
             ],
             [
              0.6666666666666666,
              "#ed7953"
             ],
             [
              0.7777777777777778,
              "#fb9f3a"
             ],
             [
              0.8888888888888888,
              "#fdca26"
             ],
             [
              1,
              "#f0f921"
             ]
            ],
            "type": "contour"
           }
          ],
          "contourcarpet": [
           {
            "colorbar": {
             "outlinewidth": 0,
             "ticks": ""
            },
            "type": "contourcarpet"
           }
          ],
          "heatmap": [
           {
            "colorbar": {
             "outlinewidth": 0,
             "ticks": ""
            },
            "colorscale": [
             [
              0,
              "#0d0887"
             ],
             [
              0.1111111111111111,
              "#46039f"
             ],
             [
              0.2222222222222222,
              "#7201a8"
             ],
             [
              0.3333333333333333,
              "#9c179e"
             ],
             [
              0.4444444444444444,
              "#bd3786"
             ],
             [
              0.5555555555555556,
              "#d8576b"
             ],
             [
              0.6666666666666666,
              "#ed7953"
             ],
             [
              0.7777777777777778,
              "#fb9f3a"
             ],
             [
              0.8888888888888888,
              "#fdca26"
             ],
             [
              1,
              "#f0f921"
             ]
            ],
            "type": "heatmap"
           }
          ],
          "heatmapgl": [
           {
            "colorbar": {
             "outlinewidth": 0,
             "ticks": ""
            },
            "colorscale": [
             [
              0,
              "#0d0887"
             ],
             [
              0.1111111111111111,
              "#46039f"
             ],
             [
              0.2222222222222222,
              "#7201a8"
             ],
             [
              0.3333333333333333,
              "#9c179e"
             ],
             [
              0.4444444444444444,
              "#bd3786"
             ],
             [
              0.5555555555555556,
              "#d8576b"
             ],
             [
              0.6666666666666666,
              "#ed7953"
             ],
             [
              0.7777777777777778,
              "#fb9f3a"
             ],
             [
              0.8888888888888888,
              "#fdca26"
             ],
             [
              1,
              "#f0f921"
             ]
            ],
            "type": "heatmapgl"
           }
          ],
          "histogram": [
           {
            "marker": {
             "pattern": {
              "fillmode": "overlay",
              "size": 10,
              "solidity": 0.2
             }
            },
            "type": "histogram"
           }
          ],
          "histogram2d": [
           {
            "colorbar": {
             "outlinewidth": 0,
             "ticks": ""
            },
            "colorscale": [
             [
              0,
              "#0d0887"
             ],
             [
              0.1111111111111111,
              "#46039f"
             ],
             [
              0.2222222222222222,
              "#7201a8"
             ],
             [
              0.3333333333333333,
              "#9c179e"
             ],
             [
              0.4444444444444444,
              "#bd3786"
             ],
             [
              0.5555555555555556,
              "#d8576b"
             ],
             [
              0.6666666666666666,
              "#ed7953"
             ],
             [
              0.7777777777777778,
              "#fb9f3a"
             ],
             [
              0.8888888888888888,
              "#fdca26"
             ],
             [
              1,
              "#f0f921"
             ]
            ],
            "type": "histogram2d"
           }
          ],
          "histogram2dcontour": [
           {
            "colorbar": {
             "outlinewidth": 0,
             "ticks": ""
            },
            "colorscale": [
             [
              0,
              "#0d0887"
             ],
             [
              0.1111111111111111,
              "#46039f"
             ],
             [
              0.2222222222222222,
              "#7201a8"
             ],
             [
              0.3333333333333333,
              "#9c179e"
             ],
             [
              0.4444444444444444,
              "#bd3786"
             ],
             [
              0.5555555555555556,
              "#d8576b"
             ],
             [
              0.6666666666666666,
              "#ed7953"
             ],
             [
              0.7777777777777778,
              "#fb9f3a"
             ],
             [
              0.8888888888888888,
              "#fdca26"
             ],
             [
              1,
              "#f0f921"
             ]
            ],
            "type": "histogram2dcontour"
           }
          ],
          "mesh3d": [
           {
            "colorbar": {
             "outlinewidth": 0,
             "ticks": ""
            },
            "type": "mesh3d"
           }
          ],
          "parcoords": [
           {
            "line": {
             "colorbar": {
              "outlinewidth": 0,
              "ticks": ""
             }
            },
            "type": "parcoords"
           }
          ],
          "pie": [
           {
            "automargin": true,
            "type": "pie"
           }
          ],
          "scatter": [
           {
            "fillpattern": {
             "fillmode": "overlay",
             "size": 10,
             "solidity": 0.2
            },
            "type": "scatter"
           }
          ],
          "scatter3d": [
           {
            "line": {
             "colorbar": {
              "outlinewidth": 0,
              "ticks": ""
             }
            },
            "marker": {
             "colorbar": {
              "outlinewidth": 0,
              "ticks": ""
             }
            },
            "type": "scatter3d"
           }
          ],
          "scattercarpet": [
           {
            "marker": {
             "colorbar": {
              "outlinewidth": 0,
              "ticks": ""
             }
            },
            "type": "scattercarpet"
           }
          ],
          "scattergeo": [
           {
            "marker": {
             "colorbar": {
              "outlinewidth": 0,
              "ticks": ""
             }
            },
            "type": "scattergeo"
           }
          ],
          "scattergl": [
           {
            "marker": {
             "colorbar": {
              "outlinewidth": 0,
              "ticks": ""
             }
            },
            "type": "scattergl"
           }
          ],
          "scattermapbox": [
           {
            "marker": {
             "colorbar": {
              "outlinewidth": 0,
              "ticks": ""
             }
            },
            "type": "scattermapbox"
           }
          ],
          "scatterpolar": [
           {
            "marker": {
             "colorbar": {
              "outlinewidth": 0,
              "ticks": ""
             }
            },
            "type": "scatterpolar"
           }
          ],
          "scatterpolargl": [
           {
            "marker": {
             "colorbar": {
              "outlinewidth": 0,
              "ticks": ""
             }
            },
            "type": "scatterpolargl"
           }
          ],
          "scatterternary": [
           {
            "marker": {
             "colorbar": {
              "outlinewidth": 0,
              "ticks": ""
             }
            },
            "type": "scatterternary"
           }
          ],
          "surface": [
           {
            "colorbar": {
             "outlinewidth": 0,
             "ticks": ""
            },
            "colorscale": [
             [
              0,
              "#0d0887"
             ],
             [
              0.1111111111111111,
              "#46039f"
             ],
             [
              0.2222222222222222,
              "#7201a8"
             ],
             [
              0.3333333333333333,
              "#9c179e"
             ],
             [
              0.4444444444444444,
              "#bd3786"
             ],
             [
              0.5555555555555556,
              "#d8576b"
             ],
             [
              0.6666666666666666,
              "#ed7953"
             ],
             [
              0.7777777777777778,
              "#fb9f3a"
             ],
             [
              0.8888888888888888,
              "#fdca26"
             ],
             [
              1,
              "#f0f921"
             ]
            ],
            "type": "surface"
           }
          ],
          "table": [
           {
            "cells": {
             "fill": {
              "color": "#EBF0F8"
             },
             "line": {
              "color": "white"
             }
            },
            "header": {
             "fill": {
              "color": "#C8D4E3"
             },
             "line": {
              "color": "white"
             }
            },
            "type": "table"
           }
          ]
         },
         "layout": {
          "annotationdefaults": {
           "arrowcolor": "#2a3f5f",
           "arrowhead": 0,
           "arrowwidth": 1
          },
          "autotypenumbers": "strict",
          "coloraxis": {
           "colorbar": {
            "outlinewidth": 0,
            "ticks": ""
           }
          },
          "colorscale": {
           "diverging": [
            [
             0,
             "#8e0152"
            ],
            [
             0.1,
             "#c51b7d"
            ],
            [
             0.2,
             "#de77ae"
            ],
            [
             0.3,
             "#f1b6da"
            ],
            [
             0.4,
             "#fde0ef"
            ],
            [
             0.5,
             "#f7f7f7"
            ],
            [
             0.6,
             "#e6f5d0"
            ],
            [
             0.7,
             "#b8e186"
            ],
            [
             0.8,
             "#7fbc41"
            ],
            [
             0.9,
             "#4d9221"
            ],
            [
             1,
             "#276419"
            ]
           ],
           "sequential": [
            [
             0,
             "#0d0887"
            ],
            [
             0.1111111111111111,
             "#46039f"
            ],
            [
             0.2222222222222222,
             "#7201a8"
            ],
            [
             0.3333333333333333,
             "#9c179e"
            ],
            [
             0.4444444444444444,
             "#bd3786"
            ],
            [
             0.5555555555555556,
             "#d8576b"
            ],
            [
             0.6666666666666666,
             "#ed7953"
            ],
            [
             0.7777777777777778,
             "#fb9f3a"
            ],
            [
             0.8888888888888888,
             "#fdca26"
            ],
            [
             1,
             "#f0f921"
            ]
           ],
           "sequentialminus": [
            [
             0,
             "#0d0887"
            ],
            [
             0.1111111111111111,
             "#46039f"
            ],
            [
             0.2222222222222222,
             "#7201a8"
            ],
            [
             0.3333333333333333,
             "#9c179e"
            ],
            [
             0.4444444444444444,
             "#bd3786"
            ],
            [
             0.5555555555555556,
             "#d8576b"
            ],
            [
             0.6666666666666666,
             "#ed7953"
            ],
            [
             0.7777777777777778,
             "#fb9f3a"
            ],
            [
             0.8888888888888888,
             "#fdca26"
            ],
            [
             1,
             "#f0f921"
            ]
           ]
          },
          "colorway": [
           "#636efa",
           "#EF553B",
           "#00cc96",
           "#ab63fa",
           "#FFA15A",
           "#19d3f3",
           "#FF6692",
           "#B6E880",
           "#FF97FF",
           "#FECB52"
          ],
          "font": {
           "color": "#2a3f5f"
          },
          "geo": {
           "bgcolor": "white",
           "lakecolor": "white",
           "landcolor": "#E5ECF6",
           "showlakes": true,
           "showland": true,
           "subunitcolor": "white"
          },
          "hoverlabel": {
           "align": "left"
          },
          "hovermode": "closest",
          "mapbox": {
           "style": "light"
          },
          "paper_bgcolor": "white",
          "plot_bgcolor": "#E5ECF6",
          "polar": {
           "angularaxis": {
            "gridcolor": "white",
            "linecolor": "white",
            "ticks": ""
           },
           "bgcolor": "#E5ECF6",
           "radialaxis": {
            "gridcolor": "white",
            "linecolor": "white",
            "ticks": ""
           }
          },
          "scene": {
           "xaxis": {
            "backgroundcolor": "#E5ECF6",
            "gridcolor": "white",
            "gridwidth": 2,
            "linecolor": "white",
            "showbackground": true,
            "ticks": "",
            "zerolinecolor": "white"
           },
           "yaxis": {
            "backgroundcolor": "#E5ECF6",
            "gridcolor": "white",
            "gridwidth": 2,
            "linecolor": "white",
            "showbackground": true,
            "ticks": "",
            "zerolinecolor": "white"
           },
           "zaxis": {
            "backgroundcolor": "#E5ECF6",
            "gridcolor": "white",
            "gridwidth": 2,
            "linecolor": "white",
            "showbackground": true,
            "ticks": "",
            "zerolinecolor": "white"
           }
          },
          "shapedefaults": {
           "line": {
            "color": "#2a3f5f"
           }
          },
          "ternary": {
           "aaxis": {
            "gridcolor": "white",
            "linecolor": "white",
            "ticks": ""
           },
           "baxis": {
            "gridcolor": "white",
            "linecolor": "white",
            "ticks": ""
           },
           "bgcolor": "#E5ECF6",
           "caxis": {
            "gridcolor": "white",
            "linecolor": "white",
            "ticks": ""
           }
          },
          "title": {
           "x": 0.05
          },
          "xaxis": {
           "automargin": true,
           "gridcolor": "white",
           "linecolor": "white",
           "ticks": "",
           "title": {
            "standoff": 15
           },
           "zerolinecolor": "white",
           "zerolinewidth": 2
          },
          "yaxis": {
           "automargin": true,
           "gridcolor": "white",
           "linecolor": "white",
           "ticks": "",
           "title": {
            "standoff": 15
           },
           "zerolinecolor": "white",
           "zerolinewidth": 2
          }
         }
        },
        "title": {
         "text": "LASSO:Observed target vs Predicted target using train data"
        },
        "width": 800,
        "xaxis": {
         "title": {
          "text": "Observed consult_cost"
         }
        },
        "yaxis": {
         "title": {
          "text": "Predicted consult_cost"
         }
        }
       }
      }
     },
     "metadata": {},
     "output_type": "display_data"
    }
   ],
   "source": [
    "\n",
    "fig = go.Figure()\n",
    "\n",
    "# scatter plot using test data\n",
    "fig.add_trace(go.Scatter(y=y_train, x=lasso.predict(x_train), mode='markers', marker=dict(color='blue')))\n",
    "\n",
    "# diagonal line to represent predictions\n",
    "fig.add_trace(go.Scatter(y=y_train, x=y_train, mode='lines', line=dict(color='red')))\n",
    "\n",
    "fig.update_layout(title='LASSO:Observed target vs Predicted target using train data', xaxis_title='Observed consult_cost', \n",
    "                  yaxis_title='Predicted consult_cost', width=800, height=500)\n",
    "fig.show()"
   ]
  }
 ],
 "metadata": {
  "kernelspec": {
   "display_name": "base",
   "language": "python",
   "name": "python3"
  },
  "language_info": {
   "codemirror_mode": {
    "name": "ipython",
    "version": 3
   },
   "file_extension": ".py",
   "mimetype": "text/x-python",
   "name": "python",
   "nbconvert_exporter": "python",
   "pygments_lexer": "ipython3",
   "version": "3.9.12"
  },
  "orig_nbformat": 4
 },
 "nbformat": 4,
 "nbformat_minor": 2
}
