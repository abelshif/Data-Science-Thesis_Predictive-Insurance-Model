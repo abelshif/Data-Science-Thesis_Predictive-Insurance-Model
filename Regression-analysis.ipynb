{
 "cells": [
  {
   "attachments": {},
   "cell_type": "markdown",
   "metadata": {},
   "source": [
    "# A Simulation Study for Choosing Predictive Insurance Model"
   ]
  },
  {
   "cell_type": "code",
   "execution_count": 129,
   "metadata": {},
   "outputs": [],
   "source": [
    "# Import useful libraries\n",
    "import numpy as np\n",
    "import pandas as pd\n",
    "from sklearn.preprocessing import RobustScaler\n",
    "from sklearn.model_selection import train_test_split\n",
    "from sklearn.metrics import mean_squared_error, r2_score\n",
    "import plotly.express as px\n",
    "import plotly.graph_objs as go\n",
    "import warnings"
   ]
  },
  {
   "cell_type": "code",
   "execution_count": 130,
   "metadata": {},
   "outputs": [],
   "source": [
    "warnings.filterwarnings(\"ignore\")"
   ]
  },
  {
   "attachments": {},
   "cell_type": "markdown",
   "metadata": {},
   "source": [
    "## Pre-processing"
   ]
  },
  {
   "attachments": {},
   "cell_type": "markdown",
   "metadata": {},
   "source": [
    "### Create dataframe"
   ]
  },
  {
   "cell_type": "code",
   "execution_count": 131,
   "metadata": {},
   "outputs": [
    {
     "data": {
      "text/plain": [
       "(250, 29)"
      ]
     },
     "execution_count": 131,
     "metadata": {},
     "output_type": "execute_result"
    }
   ],
   "source": [
    "# patient dataframe\n",
    "patient_dataframe = pd.read_csv('./Populated_data/patient.csv')\n",
    "patient_dataframe.shape"
   ]
  },
  {
   "cell_type": "code",
   "execution_count": 132,
   "metadata": {},
   "outputs": [
    {
     "data": {
      "text/html": [
       "<div>\n",
       "<style scoped>\n",
       "    .dataframe tbody tr th:only-of-type {\n",
       "        vertical-align: middle;\n",
       "    }\n",
       "\n",
       "    .dataframe tbody tr th {\n",
       "        vertical-align: top;\n",
       "    }\n",
       "\n",
       "    .dataframe thead th {\n",
       "        text-align: right;\n",
       "    }\n",
       "</style>\n",
       "<table border=\"1\" class=\"dataframe\">\n",
       "  <thead>\n",
       "    <tr style=\"text-align: right;\">\n",
       "      <th></th>\n",
       "      <th>patient_id</th>\n",
       "      <th>address</th>\n",
       "      <th>allergies</th>\n",
       "      <th>blood_type</th>\n",
       "      <th>closest_hospital</th>\n",
       "      <th>community</th>\n",
       "      <th>country</th>\n",
       "      <th>date_of_birth</th>\n",
       "      <th>disabilities</th>\n",
       "      <th>first_name</th>\n",
       "      <th>...</th>\n",
       "      <th>num_of_dependents</th>\n",
       "      <th>post_code</th>\n",
       "      <th>preferred_language</th>\n",
       "      <th>purpose_of_visit</th>\n",
       "      <th>state</th>\n",
       "      <th>sur_name</th>\n",
       "      <th>title</th>\n",
       "      <th>user_id</th>\n",
       "      <th>weight</th>\n",
       "      <th>hospital_id</th>\n",
       "    </tr>\n",
       "  </thead>\n",
       "  <tbody>\n",
       "    <tr>\n",
       "      <th>0</th>\n",
       "      <td>1</td>\n",
       "      <td>Ap #266-429 Velit St.</td>\n",
       "      <td>NaN</td>\n",
       "      <td>AB+</td>\n",
       "      <td>Blue Cross Hospital</td>\n",
       "      <td>suburban</td>\n",
       "      <td>nigeria</td>\n",
       "      <td>4/13/2009</td>\n",
       "      <td>none</td>\n",
       "      <td>ACRA</td>\n",
       "      <td>...</td>\n",
       "      <td>2</td>\n",
       "      <td>10201</td>\n",
       "      <td>english</td>\n",
       "      <td>medical examination</td>\n",
       "      <td>Lagos</td>\n",
       "      <td>SMITH</td>\n",
       "      <td>Mrs.</td>\n",
       "      <td>1</td>\n",
       "      <td>69</td>\n",
       "      <td>1</td>\n",
       "    </tr>\n",
       "    <tr>\n",
       "      <th>1</th>\n",
       "      <td>2</td>\n",
       "      <td>315-4283 Nam Street</td>\n",
       "      <td>pollen</td>\n",
       "      <td>O-</td>\n",
       "      <td>Krown Hospital</td>\n",
       "      <td>suburban</td>\n",
       "      <td>nigeria</td>\n",
       "      <td>7/8/2011</td>\n",
       "      <td>atherosclerosis</td>\n",
       "      <td>ADOLPH</td>\n",
       "      <td>...</td>\n",
       "      <td>2</td>\n",
       "      <td>12224</td>\n",
       "      <td>english</td>\n",
       "      <td>medical examination</td>\n",
       "      <td>Lagos</td>\n",
       "      <td>NEILON</td>\n",
       "      <td>Mr.</td>\n",
       "      <td>2</td>\n",
       "      <td>80</td>\n",
       "      <td>1</td>\n",
       "    </tr>\n",
       "    <tr>\n",
       "      <th>2</th>\n",
       "      <td>3</td>\n",
       "      <td>921-1491 Nonummy Ave</td>\n",
       "      <td>nuts</td>\n",
       "      <td>A-</td>\n",
       "      <td>Ave Maria Hospital</td>\n",
       "      <td>suburban</td>\n",
       "      <td>nigeria</td>\n",
       "      <td>12/30/2000</td>\n",
       "      <td>fibromas</td>\n",
       "      <td>ANKI</td>\n",
       "      <td>...</td>\n",
       "      <td>3</td>\n",
       "      <td>53510</td>\n",
       "      <td>english</td>\n",
       "      <td>medical examination</td>\n",
       "      <td>Lagos</td>\n",
       "      <td>HENDRI</td>\n",
       "      <td>Mr.</td>\n",
       "      <td>3</td>\n",
       "      <td>67</td>\n",
       "      <td>1</td>\n",
       "    </tr>\n",
       "    <tr>\n",
       "      <th>3</th>\n",
       "      <td>4</td>\n",
       "      <td>Ap #299-4324 Mauris Avenue</td>\n",
       "      <td>dust</td>\n",
       "      <td>O-</td>\n",
       "      <td>Isolo General Hospital</td>\n",
       "      <td>urban</td>\n",
       "      <td>nigeria</td>\n",
       "      <td>9/15/1987</td>\n",
       "      <td>ruptured discs</td>\n",
       "      <td>GARBO</td>\n",
       "      <td>...</td>\n",
       "      <td>3</td>\n",
       "      <td>25193</td>\n",
       "      <td>english</td>\n",
       "      <td>medical examination</td>\n",
       "      <td>Lagos</td>\n",
       "      <td>SHARRON</td>\n",
       "      <td>Mr.</td>\n",
       "      <td>4</td>\n",
       "      <td>74</td>\n",
       "      <td>1</td>\n",
       "    </tr>\n",
       "    <tr>\n",
       "      <th>4</th>\n",
       "      <td>5</td>\n",
       "      <td>P.O. Box 913, 6976 Magnis Rd.</td>\n",
       "      <td>flowers</td>\n",
       "      <td>O-</td>\n",
       "      <td>Lagoon Hospitals</td>\n",
       "      <td>rural</td>\n",
       "      <td>nigeria</td>\n",
       "      <td>10/10/2002</td>\n",
       "      <td>arthritis</td>\n",
       "      <td>ADONAI</td>\n",
       "      <td>...</td>\n",
       "      <td>1</td>\n",
       "      <td>37171</td>\n",
       "      <td>english</td>\n",
       "      <td>medical examination</td>\n",
       "      <td>Lagos</td>\n",
       "      <td>NEIVA</td>\n",
       "      <td>Ms.</td>\n",
       "      <td>5</td>\n",
       "      <td>62</td>\n",
       "      <td>1</td>\n",
       "    </tr>\n",
       "  </tbody>\n",
       "</table>\n",
       "<p>5 rows × 29 columns</p>\n",
       "</div>"
      ],
      "text/plain": [
       "   patient_id                        address allergies blood_type  \\\n",
       "0           1          Ap #266-429 Velit St.       NaN        AB+   \n",
       "1           2            315-4283 Nam Street    pollen         O-   \n",
       "2           3           921-1491 Nonummy Ave      nuts         A-   \n",
       "3           4     Ap #299-4324 Mauris Avenue      dust         O-   \n",
       "4           5  P.O. Box 913, 6976 Magnis Rd.   flowers         O-   \n",
       "\n",
       "         closest_hospital community  country date_of_birth     disabilities  \\\n",
       "0     Blue Cross Hospital  suburban  nigeria     4/13/2009             none   \n",
       "1          Krown Hospital  suburban  nigeria      7/8/2011  atherosclerosis   \n",
       "2      Ave Maria Hospital  suburban  nigeria    12/30/2000         fibromas   \n",
       "3  Isolo General Hospital     urban  nigeria     9/15/1987   ruptured discs   \n",
       "4        Lagoon Hospitals     rural  nigeria    10/10/2002        arthritis   \n",
       "\n",
       "  first_name  ... num_of_dependents post_code preferred_language  \\\n",
       "0       ACRA  ...                 2     10201            english   \n",
       "1     ADOLPH  ...                 2     12224            english   \n",
       "2       ANKI  ...                 3     53510            english   \n",
       "3      GARBO  ...                 3     25193            english   \n",
       "4     ADONAI  ...                 1     37171            english   \n",
       "\n",
       "      purpose_of_visit  state sur_name title  user_id  weight  hospital_id  \n",
       "0  medical examination  Lagos    SMITH  Mrs.        1      69            1  \n",
       "1  medical examination  Lagos   NEILON   Mr.        2      80            1  \n",
       "2  medical examination  Lagos   HENDRI   Mr.        3      67            1  \n",
       "3  medical examination  Lagos  SHARRON   Mr.        4      74            1  \n",
       "4  medical examination  Lagos    NEIVA   Ms.        5      62            1  \n",
       "\n",
       "[5 rows x 29 columns]"
      ]
     },
     "execution_count": 132,
     "metadata": {},
     "output_type": "execute_result"
    }
   ],
   "source": [
    "patient_dataframe.head()"
   ]
  },
  {
   "cell_type": "code",
   "execution_count": 133,
   "metadata": {},
   "outputs": [
    {
     "data": {
      "text/plain": [
       "(214, 22)"
      ]
     },
     "execution_count": 133,
     "metadata": {},
     "output_type": "execute_result"
    }
   ],
   "source": [
    "# doctor dataframe\n",
    "doctor_dataframe = pd.read_csv('./Populated_data/doctor.csv')\n",
    "doctor_dataframe.shape"
   ]
  },
  {
   "cell_type": "code",
   "execution_count": 134,
   "metadata": {},
   "outputs": [
    {
     "data": {
      "text/html": [
       "<div>\n",
       "<style scoped>\n",
       "    .dataframe tbody tr th:only-of-type {\n",
       "        vertical-align: middle;\n",
       "    }\n",
       "\n",
       "    .dataframe tbody tr th {\n",
       "        vertical-align: top;\n",
       "    }\n",
       "\n",
       "    .dataframe thead th {\n",
       "        text-align: right;\n",
       "    }\n",
       "</style>\n",
       "<table border=\"1\" class=\"dataframe\">\n",
       "  <thead>\n",
       "    <tr style=\"text-align: right;\">\n",
       "      <th></th>\n",
       "      <th>doctor_id</th>\n",
       "      <th>approved</th>\n",
       "      <th>city</th>\n",
       "      <th>cv</th>\n",
       "      <th>date_of_birth</th>\n",
       "      <th>dependant_stand_by</th>\n",
       "      <th>full_name</th>\n",
       "      <th>doctor_gender</th>\n",
       "      <th>graduation_date</th>\n",
       "      <th>is_student</th>\n",
       "      <th>...</th>\n",
       "      <th>name_of_university</th>\n",
       "      <th>national_identification_number</th>\n",
       "      <th>office_address</th>\n",
       "      <th>reference_doctor_email</th>\n",
       "      <th>reference_doctor_full_name</th>\n",
       "      <th>reference_doctor_phone_number</th>\n",
       "      <th>state</th>\n",
       "      <th>student_number</th>\n",
       "      <th>system_status</th>\n",
       "      <th>title</th>\n",
       "    </tr>\n",
       "  </thead>\n",
       "  <tbody>\n",
       "    <tr>\n",
       "      <th>0</th>\n",
       "      <td>1</td>\n",
       "      <td>Yes</td>\n",
       "      <td>Lagos</td>\n",
       "      <td>NaN</td>\n",
       "      <td>8/5/1972</td>\n",
       "      <td>1</td>\n",
       "      <td>ACRA SMITH</td>\n",
       "      <td>Male</td>\n",
       "      <td>9/6/2019</td>\n",
       "      <td>No</td>\n",
       "      <td>...</td>\n",
       "      <td>Caleb University- Lagos</td>\n",
       "      <td>1122458</td>\n",
       "      <td>618-3434 Sagittis Av.</td>\n",
       "      <td>acrasmith@gmail.com</td>\n",
       "      <td>ACRA SMITH</td>\n",
       "      <td>53488888</td>\n",
       "      <td>Lagos</td>\n",
       "      <td>2710</td>\n",
       "      <td>very good</td>\n",
       "      <td>Mr.</td>\n",
       "    </tr>\n",
       "    <tr>\n",
       "      <th>1</th>\n",
       "      <td>2</td>\n",
       "      <td>Yes</td>\n",
       "      <td>Lagos</td>\n",
       "      <td>NaN</td>\n",
       "      <td>7/12/1989</td>\n",
       "      <td>2</td>\n",
       "      <td>ADOLPH NEILON</td>\n",
       "      <td>Female</td>\n",
       "      <td>6/25/2006</td>\n",
       "      <td>Yes</td>\n",
       "      <td>...</td>\n",
       "      <td>National Open University of Nigeria- Lagos</td>\n",
       "      <td>4563751</td>\n",
       "      <td>405-9892 Ultrices Rd.</td>\n",
       "      <td>adolphneilon@gmail.com</td>\n",
       "      <td>ADOLPH NEILON</td>\n",
       "      <td>50989139</td>\n",
       "      <td>Lagos</td>\n",
       "      <td>5370</td>\n",
       "      <td>good</td>\n",
       "      <td>Ms.</td>\n",
       "    </tr>\n",
       "    <tr>\n",
       "      <th>2</th>\n",
       "      <td>3</td>\n",
       "      <td>Yes</td>\n",
       "      <td>Lagos</td>\n",
       "      <td>NaN</td>\n",
       "      <td>9/30/1965</td>\n",
       "      <td>1</td>\n",
       "      <td>ANKI HENDRI</td>\n",
       "      <td>Male</td>\n",
       "      <td>12/20/2008</td>\n",
       "      <td>Yes</td>\n",
       "      <td>...</td>\n",
       "      <td>James Hope University- Lagos</td>\n",
       "      <td>1877514</td>\n",
       "      <td>Ap #561-9293 Sociis St.</td>\n",
       "      <td>ankihendri@gmail.com</td>\n",
       "      <td>ANKI HENDRI</td>\n",
       "      <td>42144921</td>\n",
       "      <td>Lagos</td>\n",
       "      <td>6696</td>\n",
       "      <td>excellent</td>\n",
       "      <td>Mr.</td>\n",
       "    </tr>\n",
       "    <tr>\n",
       "      <th>3</th>\n",
       "      <td>4</td>\n",
       "      <td>Yes</td>\n",
       "      <td>Lagos</td>\n",
       "      <td>NaN</td>\n",
       "      <td>8/12/1964</td>\n",
       "      <td>1</td>\n",
       "      <td>GARBO SHARRON</td>\n",
       "      <td>Male</td>\n",
       "      <td>8/22/2013</td>\n",
       "      <td>No</td>\n",
       "      <td>...</td>\n",
       "      <td>Lagos State University of Science and Technolo...</td>\n",
       "      <td>2513477</td>\n",
       "      <td>Ap #381-3175 Sed, Street</td>\n",
       "      <td>garbosharron@gmail.com</td>\n",
       "      <td>GARBO SHARRON</td>\n",
       "      <td>52477143</td>\n",
       "      <td>Lagos</td>\n",
       "      <td>4343</td>\n",
       "      <td>fair</td>\n",
       "      <td>Mr.</td>\n",
       "    </tr>\n",
       "    <tr>\n",
       "      <th>4</th>\n",
       "      <td>5</td>\n",
       "      <td>Yes</td>\n",
       "      <td>Lagos</td>\n",
       "      <td>NaN</td>\n",
       "      <td>12/5/1963</td>\n",
       "      <td>0</td>\n",
       "      <td>ADONAI NEIVA</td>\n",
       "      <td>Female</td>\n",
       "      <td>12/28/2021</td>\n",
       "      <td>No</td>\n",
       "      <td>...</td>\n",
       "      <td>Lagos State University of Science and Technolo...</td>\n",
       "      <td>3463224</td>\n",
       "      <td>Ap #230-5566 Amet, St.</td>\n",
       "      <td>adonaineiva@gmail.com</td>\n",
       "      <td>ADONAI NEIVA</td>\n",
       "      <td>29517478</td>\n",
       "      <td>Lagos</td>\n",
       "      <td>4300</td>\n",
       "      <td>very good</td>\n",
       "      <td>Ms.</td>\n",
       "    </tr>\n",
       "  </tbody>\n",
       "</table>\n",
       "<p>5 rows × 22 columns</p>\n",
       "</div>"
      ],
      "text/plain": [
       "   doctor_id approved   city  cv date_of_birth  dependant_stand_by  \\\n",
       "0          1      Yes  Lagos NaN      8/5/1972                   1   \n",
       "1          2      Yes  Lagos NaN     7/12/1989                   2   \n",
       "2          3      Yes  Lagos NaN     9/30/1965                   1   \n",
       "3          4      Yes  Lagos NaN     8/12/1964                   1   \n",
       "4          5      Yes  Lagos NaN     12/5/1963                   0   \n",
       "\n",
       "       full_name doctor_gender graduation_date is_student  ...  \\\n",
       "0     ACRA SMITH          Male        9/6/2019         No  ...   \n",
       "1  ADOLPH NEILON        Female       6/25/2006        Yes  ...   \n",
       "2    ANKI HENDRI          Male      12/20/2008        Yes  ...   \n",
       "3  GARBO SHARRON          Male       8/22/2013         No  ...   \n",
       "4   ADONAI NEIVA        Female      12/28/2021         No  ...   \n",
       "\n",
       "                                  name_of_university  \\\n",
       "0                            Caleb University- Lagos   \n",
       "1         National Open University of Nigeria- Lagos   \n",
       "2                       James Hope University- Lagos   \n",
       "3  Lagos State University of Science and Technolo...   \n",
       "4  Lagos State University of Science and Technolo...   \n",
       "\n",
       "   national_identification_number            office_address  \\\n",
       "0                         1122458     618-3434 Sagittis Av.   \n",
       "1                         4563751     405-9892 Ultrices Rd.   \n",
       "2                         1877514   Ap #561-9293 Sociis St.   \n",
       "3                         2513477  Ap #381-3175 Sed, Street   \n",
       "4                         3463224    Ap #230-5566 Amet, St.   \n",
       "\n",
       "   reference_doctor_email reference_doctor_full_name  \\\n",
       "0     acrasmith@gmail.com                 ACRA SMITH   \n",
       "1  adolphneilon@gmail.com              ADOLPH NEILON   \n",
       "2    ankihendri@gmail.com                ANKI HENDRI   \n",
       "3  garbosharron@gmail.com              GARBO SHARRON   \n",
       "4   adonaineiva@gmail.com               ADONAI NEIVA   \n",
       "\n",
       "  reference_doctor_phone_number  state  student_number system_status  title  \n",
       "0                      53488888  Lagos            2710     very good    Mr.  \n",
       "1                      50989139  Lagos            5370          good    Ms.  \n",
       "2                      42144921  Lagos            6696     excellent    Mr.  \n",
       "3                      52477143  Lagos            4343          fair    Mr.  \n",
       "4                      29517478  Lagos            4300     very good    Ms.  \n",
       "\n",
       "[5 rows x 22 columns]"
      ]
     },
     "execution_count": 134,
     "metadata": {},
     "output_type": "execute_result"
    }
   ],
   "source": [
    "doctor_dataframe.head()"
   ]
  },
  {
   "cell_type": "code",
   "execution_count": 135,
   "metadata": {},
   "outputs": [
    {
     "data": {
      "text/plain": [
       "(520, 17)"
      ]
     },
     "execution_count": 135,
     "metadata": {},
     "output_type": "execute_result"
    }
   ],
   "source": [
    "# consultation dataframe\n",
    "consultation_dataframe = pd.read_csv('./Populated_data/consultation.csv')\n",
    "consultation_dataframe.shape"
   ]
  },
  {
   "cell_type": "code",
   "execution_count": 136,
   "metadata": {},
   "outputs": [
    {
     "data": {
      "text/html": [
       "<div>\n",
       "<style scoped>\n",
       "    .dataframe tbody tr th:only-of-type {\n",
       "        vertical-align: middle;\n",
       "    }\n",
       "\n",
       "    .dataframe tbody tr th {\n",
       "        vertical-align: top;\n",
       "    }\n",
       "\n",
       "    .dataframe thead th {\n",
       "        text-align: right;\n",
       "    }\n",
       "</style>\n",
       "<table border=\"1\" class=\"dataframe\">\n",
       "  <thead>\n",
       "    <tr style=\"text-align: right;\">\n",
       "      <th></th>\n",
       "      <th>id</th>\n",
       "      <th>consultation_cost</th>\n",
       "      <th>audio_detailed_description</th>\n",
       "      <th>patient_body_area</th>\n",
       "      <th>consent</th>\n",
       "      <th>doctor_full_name</th>\n",
       "      <th>doctor_id</th>\n",
       "      <th>language</th>\n",
       "      <th>patient_full_name</th>\n",
       "      <th>patient_id</th>\n",
       "      <th>patient_mobile</th>\n",
       "      <th>patient_status</th>\n",
       "      <th>time_accepted</th>\n",
       "      <th>time_booked</th>\n",
       "      <th>time_finished</th>\n",
       "      <th>time_started</th>\n",
       "      <th>transaction_reference</th>\n",
       "    </tr>\n",
       "  </thead>\n",
       "  <tbody>\n",
       "    <tr>\n",
       "      <th>0</th>\n",
       "      <td>1</td>\n",
       "      <td>1900</td>\n",
       "      <td>NaN</td>\n",
       "      <td>legs</td>\n",
       "      <td>Yes</td>\n",
       "      <td>ACRA SMITH</td>\n",
       "      <td>1</td>\n",
       "      <td>english</td>\n",
       "      <td>ADRIATIK NELL</td>\n",
       "      <td>100</td>\n",
       "      <td>6780843</td>\n",
       "      <td>under appointment</td>\n",
       "      <td>13:30</td>\n",
       "      <td>2:00 PM</td>\n",
       "      <td>5:10 PM</td>\n",
       "      <td>3:10 PM</td>\n",
       "      <td>1</td>\n",
       "    </tr>\n",
       "    <tr>\n",
       "      <th>1</th>\n",
       "      <td>2</td>\n",
       "      <td>9100</td>\n",
       "      <td>NaN</td>\n",
       "      <td>chest area</td>\n",
       "      <td>Yes</td>\n",
       "      <td>ADOLPH NEILON</td>\n",
       "      <td>2</td>\n",
       "      <td>english</td>\n",
       "      <td>ANNAMARIE HERA</td>\n",
       "      <td>72</td>\n",
       "      <td>4272348</td>\n",
       "      <td>new consultation</td>\n",
       "      <td>10:15</td>\n",
       "      <td>10:45 AM</td>\n",
       "      <td>12:45 PM</td>\n",
       "      <td>11:45 AM</td>\n",
       "      <td>2</td>\n",
       "    </tr>\n",
       "    <tr>\n",
       "      <th>2</th>\n",
       "      <td>3</td>\n",
       "      <td>8200</td>\n",
       "      <td>NaN</td>\n",
       "      <td>head</td>\n",
       "      <td>Yes</td>\n",
       "      <td>ANKI HENDRI</td>\n",
       "      <td>3</td>\n",
       "      <td>english</td>\n",
       "      <td>GARRICK SHATISHA</td>\n",
       "      <td>150</td>\n",
       "      <td>6183602</td>\n",
       "      <td>new consultation</td>\n",
       "      <td>8:45</td>\n",
       "      <td>9:35 AM</td>\n",
       "      <td>12:15 PM</td>\n",
       "      <td>10:35 AM</td>\n",
       "      <td>3</td>\n",
       "    </tr>\n",
       "    <tr>\n",
       "      <th>3</th>\n",
       "      <td>4</td>\n",
       "      <td>5600</td>\n",
       "      <td>NaN</td>\n",
       "      <td>back</td>\n",
       "      <td>Yes</td>\n",
       "      <td>GARBO SHARRON</td>\n",
       "      <td>4</td>\n",
       "      <td>english</td>\n",
       "      <td>ADRIELLE NELLI</td>\n",
       "      <td>27</td>\n",
       "      <td>6822469</td>\n",
       "      <td>appointed session</td>\n",
       "      <td>13:15</td>\n",
       "      <td>1:55 PM</td>\n",
       "      <td>4:35 PM</td>\n",
       "      <td>2:45 PM</td>\n",
       "      <td>4</td>\n",
       "    </tr>\n",
       "    <tr>\n",
       "      <th>4</th>\n",
       "      <td>5</td>\n",
       "      <td>1200</td>\n",
       "      <td>NaN</td>\n",
       "      <td>stomach</td>\n",
       "      <td>Yes</td>\n",
       "      <td>ADONAI NEIVA</td>\n",
       "      <td>5</td>\n",
       "      <td>english</td>\n",
       "      <td>ANNASTASIA HERARD</td>\n",
       "      <td>191</td>\n",
       "      <td>7229498</td>\n",
       "      <td>new consultation</td>\n",
       "      <td>9:00</td>\n",
       "      <td>9:30 AM</td>\n",
       "      <td>11:20 AM</td>\n",
       "      <td>10:30 AM</td>\n",
       "      <td>5</td>\n",
       "    </tr>\n",
       "  </tbody>\n",
       "</table>\n",
       "</div>"
      ],
      "text/plain": [
       "   id  consultation_cost  audio_detailed_description patient_body_area  \\\n",
       "0   1               1900                         NaN              legs   \n",
       "1   2               9100                         NaN        chest area   \n",
       "2   3               8200                         NaN              head   \n",
       "3   4               5600                         NaN              back   \n",
       "4   5               1200                         NaN           stomach   \n",
       "\n",
       "  consent doctor_full_name  doctor_id language  patient_full_name  patient_id  \\\n",
       "0     Yes       ACRA SMITH          1  english      ADRIATIK NELL         100   \n",
       "1     Yes    ADOLPH NEILON          2  english     ANNAMARIE HERA          72   \n",
       "2     Yes      ANKI HENDRI          3  english   GARRICK SHATISHA         150   \n",
       "3     Yes    GARBO SHARRON          4  english     ADRIELLE NELLI          27   \n",
       "4     Yes     ADONAI NEIVA          5  english  ANNASTASIA HERARD         191   \n",
       "\n",
       "   patient_mobile     patient_status time_accepted time_booked time_finished  \\\n",
       "0         6780843  under appointment         13:30     2:00 PM       5:10 PM   \n",
       "1         4272348   new consultation         10:15    10:45 AM      12:45 PM   \n",
       "2         6183602   new consultation          8:45     9:35 AM      12:15 PM   \n",
       "3         6822469  appointed session         13:15     1:55 PM       4:35 PM   \n",
       "4         7229498   new consultation          9:00     9:30 AM      11:20 AM   \n",
       "\n",
       "  time_started  transaction_reference  \n",
       "0      3:10 PM                      1  \n",
       "1     11:45 AM                      2  \n",
       "2     10:35 AM                      3  \n",
       "3      2:45 PM                      4  \n",
       "4     10:30 AM                      5  "
      ]
     },
     "execution_count": 136,
     "metadata": {},
     "output_type": "execute_result"
    }
   ],
   "source": [
    "consultation_dataframe.head()"
   ]
  },
  {
   "attachments": {},
   "cell_type": "markdown",
   "metadata": {},
   "source": [
    "### Check duplicates"
   ]
  },
  {
   "cell_type": "code",
   "execution_count": 137,
   "metadata": {},
   "outputs": [
    {
     "data": {
      "text/html": [
       "<div>\n",
       "<style scoped>\n",
       "    .dataframe tbody tr th:only-of-type {\n",
       "        vertical-align: middle;\n",
       "    }\n",
       "\n",
       "    .dataframe tbody tr th {\n",
       "        vertical-align: top;\n",
       "    }\n",
       "\n",
       "    .dataframe thead th {\n",
       "        text-align: right;\n",
       "    }\n",
       "</style>\n",
       "<table border=\"1\" class=\"dataframe\">\n",
       "  <thead>\n",
       "    <tr style=\"text-align: right;\">\n",
       "      <th></th>\n",
       "      <th>patient_id</th>\n",
       "      <th>address</th>\n",
       "      <th>allergies</th>\n",
       "      <th>blood_type</th>\n",
       "      <th>closest_hospital</th>\n",
       "      <th>community</th>\n",
       "      <th>country</th>\n",
       "      <th>date_of_birth</th>\n",
       "      <th>disabilities</th>\n",
       "      <th>first_name</th>\n",
       "      <th>...</th>\n",
       "      <th>num_of_dependents</th>\n",
       "      <th>post_code</th>\n",
       "      <th>preferred_language</th>\n",
       "      <th>purpose_of_visit</th>\n",
       "      <th>state</th>\n",
       "      <th>sur_name</th>\n",
       "      <th>title</th>\n",
       "      <th>user_id</th>\n",
       "      <th>weight</th>\n",
       "      <th>hospital_id</th>\n",
       "    </tr>\n",
       "  </thead>\n",
       "  <tbody>\n",
       "  </tbody>\n",
       "</table>\n",
       "<p>0 rows × 29 columns</p>\n",
       "</div>"
      ],
      "text/plain": [
       "Empty DataFrame\n",
       "Columns: [patient_id, address, allergies, blood_type, closest_hospital, community, country, date_of_birth, disabilities, first_name, gender, has_children, has_dependent, height_cm, language, marital_status, medical_problems, national_id_number, num_of_children, num_of_dependents, post_code, preferred_language, purpose_of_visit, state, sur_name, title, user_id, weight, hospital_id]\n",
       "Index: []\n",
       "\n",
       "[0 rows x 29 columns]"
      ]
     },
     "execution_count": 137,
     "metadata": {},
     "output_type": "execute_result"
    }
   ],
   "source": [
    "# for patient dataframe\n",
    "patient_dataframe[patient_dataframe.duplicated()==True]"
   ]
  },
  {
   "cell_type": "code",
   "execution_count": 138,
   "metadata": {},
   "outputs": [
    {
     "data": {
      "text/html": [
       "<div>\n",
       "<style scoped>\n",
       "    .dataframe tbody tr th:only-of-type {\n",
       "        vertical-align: middle;\n",
       "    }\n",
       "\n",
       "    .dataframe tbody tr th {\n",
       "        vertical-align: top;\n",
       "    }\n",
       "\n",
       "    .dataframe thead th {\n",
       "        text-align: right;\n",
       "    }\n",
       "</style>\n",
       "<table border=\"1\" class=\"dataframe\">\n",
       "  <thead>\n",
       "    <tr style=\"text-align: right;\">\n",
       "      <th></th>\n",
       "      <th>doctor_id</th>\n",
       "      <th>approved</th>\n",
       "      <th>city</th>\n",
       "      <th>cv</th>\n",
       "      <th>date_of_birth</th>\n",
       "      <th>dependant_stand_by</th>\n",
       "      <th>full_name</th>\n",
       "      <th>doctor_gender</th>\n",
       "      <th>graduation_date</th>\n",
       "      <th>is_student</th>\n",
       "      <th>...</th>\n",
       "      <th>name_of_university</th>\n",
       "      <th>national_identification_number</th>\n",
       "      <th>office_address</th>\n",
       "      <th>reference_doctor_email</th>\n",
       "      <th>reference_doctor_full_name</th>\n",
       "      <th>reference_doctor_phone_number</th>\n",
       "      <th>state</th>\n",
       "      <th>student_number</th>\n",
       "      <th>system_status</th>\n",
       "      <th>title</th>\n",
       "    </tr>\n",
       "  </thead>\n",
       "  <tbody>\n",
       "  </tbody>\n",
       "</table>\n",
       "<p>0 rows × 22 columns</p>\n",
       "</div>"
      ],
      "text/plain": [
       "Empty DataFrame\n",
       "Columns: [doctor_id, approved, city, cv, date_of_birth, dependant_stand_by, full_name, doctor_gender, graduation_date, is_student, marital_status, mdcn_certificate_number, name_of_university, national_identification_number, office_address, reference_doctor_email, reference_doctor_full_name, reference_doctor_phone_number, state, student_number, system_status, title]\n",
       "Index: []\n",
       "\n",
       "[0 rows x 22 columns]"
      ]
     },
     "execution_count": 138,
     "metadata": {},
     "output_type": "execute_result"
    }
   ],
   "source": [
    "# for doctor dataframe\n",
    "doctor_dataframe[doctor_dataframe.duplicated()==True]"
   ]
  },
  {
   "cell_type": "code",
   "execution_count": 139,
   "metadata": {},
   "outputs": [
    {
     "data": {
      "text/html": [
       "<div>\n",
       "<style scoped>\n",
       "    .dataframe tbody tr th:only-of-type {\n",
       "        vertical-align: middle;\n",
       "    }\n",
       "\n",
       "    .dataframe tbody tr th {\n",
       "        vertical-align: top;\n",
       "    }\n",
       "\n",
       "    .dataframe thead th {\n",
       "        text-align: right;\n",
       "    }\n",
       "</style>\n",
       "<table border=\"1\" class=\"dataframe\">\n",
       "  <thead>\n",
       "    <tr style=\"text-align: right;\">\n",
       "      <th></th>\n",
       "      <th>id</th>\n",
       "      <th>consultation_cost</th>\n",
       "      <th>audio_detailed_description</th>\n",
       "      <th>patient_body_area</th>\n",
       "      <th>consent</th>\n",
       "      <th>doctor_full_name</th>\n",
       "      <th>doctor_id</th>\n",
       "      <th>language</th>\n",
       "      <th>patient_full_name</th>\n",
       "      <th>patient_id</th>\n",
       "      <th>patient_mobile</th>\n",
       "      <th>patient_status</th>\n",
       "      <th>time_accepted</th>\n",
       "      <th>time_booked</th>\n",
       "      <th>time_finished</th>\n",
       "      <th>time_started</th>\n",
       "      <th>transaction_reference</th>\n",
       "    </tr>\n",
       "  </thead>\n",
       "  <tbody>\n",
       "  </tbody>\n",
       "</table>\n",
       "</div>"
      ],
      "text/plain": [
       "Empty DataFrame\n",
       "Columns: [id, consultation_cost, audio_detailed_description, patient_body_area, consent, doctor_full_name, doctor_id, language, patient_full_name, patient_id, patient_mobile, patient_status, time_accepted, time_booked, time_finished, time_started, transaction_reference]\n",
       "Index: []"
      ]
     },
     "execution_count": 139,
     "metadata": {},
     "output_type": "execute_result"
    }
   ],
   "source": [
    "# for consultation dataframe\n",
    "consultation_dataframe[consultation_dataframe.duplicated()==True]"
   ]
  },
  {
   "attachments": {},
   "cell_type": "markdown",
   "metadata": {},
   "source": [
    "### Check missing value(s)"
   ]
  },
  {
   "cell_type": "code",
   "execution_count": 140,
   "metadata": {},
   "outputs": [
    {
     "data": {
      "text/html": [
       "<div>\n",
       "<style scoped>\n",
       "    .dataframe tbody tr th:only-of-type {\n",
       "        vertical-align: middle;\n",
       "    }\n",
       "\n",
       "    .dataframe tbody tr th {\n",
       "        vertical-align: top;\n",
       "    }\n",
       "\n",
       "    .dataframe thead th {\n",
       "        text-align: right;\n",
       "    }\n",
       "</style>\n",
       "<table border=\"1\" class=\"dataframe\">\n",
       "  <thead>\n",
       "    <tr style=\"text-align: right;\">\n",
       "      <th></th>\n",
       "      <th>Missing value</th>\n",
       "    </tr>\n",
       "  </thead>\n",
       "  <tbody>\n",
       "    <tr>\n",
       "      <th>allergies</th>\n",
       "      <td>80</td>\n",
       "    </tr>\n",
       "    <tr>\n",
       "      <th>medical_problems</th>\n",
       "      <td>50</td>\n",
       "    </tr>\n",
       "    <tr>\n",
       "      <th>disabilities</th>\n",
       "      <td>38</td>\n",
       "    </tr>\n",
       "  </tbody>\n",
       "</table>\n",
       "</div>"
      ],
      "text/plain": [
       "                  Missing value\n",
       "allergies                    80\n",
       "medical_problems             50\n",
       "disabilities                 38"
      ]
     },
     "execution_count": 140,
     "metadata": {},
     "output_type": "execute_result"
    }
   ],
   "source": [
    "# for patient dataframe\n",
    "nan=pd.DataFrame({'Missing value': patient_dataframe.isnull().sum().sort_values(ascending=False)})\n",
    "nan[nan['Missing value'] > 0]"
   ]
  },
  {
   "cell_type": "code",
   "execution_count": 141,
   "metadata": {},
   "outputs": [
    {
     "data": {
      "text/html": [
       "<div>\n",
       "<style scoped>\n",
       "    .dataframe tbody tr th:only-of-type {\n",
       "        vertical-align: middle;\n",
       "    }\n",
       "\n",
       "    .dataframe tbody tr th {\n",
       "        vertical-align: top;\n",
       "    }\n",
       "\n",
       "    .dataframe thead th {\n",
       "        text-align: right;\n",
       "    }\n",
       "</style>\n",
       "<table border=\"1\" class=\"dataframe\">\n",
       "  <thead>\n",
       "    <tr style=\"text-align: right;\">\n",
       "      <th></th>\n",
       "      <th>Missing value</th>\n",
       "    </tr>\n",
       "  </thead>\n",
       "  <tbody>\n",
       "    <tr>\n",
       "      <th>cv</th>\n",
       "      <td>214</td>\n",
       "    </tr>\n",
       "  </tbody>\n",
       "</table>\n",
       "</div>"
      ],
      "text/plain": [
       "    Missing value\n",
       "cv            214"
      ]
     },
     "execution_count": 141,
     "metadata": {},
     "output_type": "execute_result"
    }
   ],
   "source": [
    "# for doctor dataframe\n",
    "nan=pd.DataFrame({'Missing value': doctor_dataframe.isnull().sum().sort_values(ascending=False)})\n",
    "nan[nan['Missing value'] > 0]"
   ]
  },
  {
   "cell_type": "code",
   "execution_count": 142,
   "metadata": {},
   "outputs": [
    {
     "data": {
      "text/html": [
       "<div>\n",
       "<style scoped>\n",
       "    .dataframe tbody tr th:only-of-type {\n",
       "        vertical-align: middle;\n",
       "    }\n",
       "\n",
       "    .dataframe tbody tr th {\n",
       "        vertical-align: top;\n",
       "    }\n",
       "\n",
       "    .dataframe thead th {\n",
       "        text-align: right;\n",
       "    }\n",
       "</style>\n",
       "<table border=\"1\" class=\"dataframe\">\n",
       "  <thead>\n",
       "    <tr style=\"text-align: right;\">\n",
       "      <th></th>\n",
       "      <th>Missing value</th>\n",
       "    </tr>\n",
       "  </thead>\n",
       "  <tbody>\n",
       "    <tr>\n",
       "      <th>audio_detailed_description</th>\n",
       "      <td>520</td>\n",
       "    </tr>\n",
       "  </tbody>\n",
       "</table>\n",
       "</div>"
      ],
      "text/plain": [
       "                            Missing value\n",
       "audio_detailed_description            520"
      ]
     },
     "execution_count": 142,
     "metadata": {},
     "output_type": "execute_result"
    }
   ],
   "source": [
    "# for consultation dataframe\n",
    "nan=pd.DataFrame({'Missing value': consultation_dataframe.isnull().sum().sort_values(ascending=False)})\n",
    "nan[nan['Missing value'] > 0]"
   ]
  },
  {
   "attachments": {},
   "cell_type": "markdown",
   "metadata": {},
   "source": [
    "    N.B. Since medical data require medical examination, filling the missing variable(s) would be inappropriat. Hence droping missing variable(s) is recommended."
   ]
  },
  {
   "cell_type": "code",
   "execution_count": 143,
   "metadata": {},
   "outputs": [],
   "source": [
    "# Drop missing varaiables in patient dataframe\n",
    "patient_dataframe.dropna(axis=1, inplace=True)\n",
    "patient_dataframe.reset_index(drop=True, inplace=True)"
   ]
  },
  {
   "cell_type": "code",
   "execution_count": 144,
   "metadata": {},
   "outputs": [
    {
     "data": {
      "text/html": [
       "<div>\n",
       "<style scoped>\n",
       "    .dataframe tbody tr th:only-of-type {\n",
       "        vertical-align: middle;\n",
       "    }\n",
       "\n",
       "    .dataframe tbody tr th {\n",
       "        vertical-align: top;\n",
       "    }\n",
       "\n",
       "    .dataframe thead th {\n",
       "        text-align: right;\n",
       "    }\n",
       "</style>\n",
       "<table border=\"1\" class=\"dataframe\">\n",
       "  <thead>\n",
       "    <tr style=\"text-align: right;\">\n",
       "      <th></th>\n",
       "      <th>Missing value</th>\n",
       "    </tr>\n",
       "  </thead>\n",
       "  <tbody>\n",
       "  </tbody>\n",
       "</table>\n",
       "</div>"
      ],
      "text/plain": [
       "Empty DataFrame\n",
       "Columns: [Missing value]\n",
       "Index: []"
      ]
     },
     "execution_count": 144,
     "metadata": {},
     "output_type": "execute_result"
    }
   ],
   "source": [
    "nan=pd.DataFrame({'Missing value': patient_dataframe.isnull().sum().sort_values(ascending=False)})\n",
    "nan[nan['Missing value'] > 0]"
   ]
  },
  {
   "cell_type": "code",
   "execution_count": 145,
   "metadata": {},
   "outputs": [
    {
     "data": {
      "text/plain": [
       "(250, 26)"
      ]
     },
     "execution_count": 145,
     "metadata": {},
     "output_type": "execute_result"
    }
   ],
   "source": [
    "patient_dataframe.shape"
   ]
  },
  {
   "cell_type": "code",
   "execution_count": 146,
   "metadata": {},
   "outputs": [
    {
     "data": {
      "text/html": [
       "<div>\n",
       "<style scoped>\n",
       "    .dataframe tbody tr th:only-of-type {\n",
       "        vertical-align: middle;\n",
       "    }\n",
       "\n",
       "    .dataframe tbody tr th {\n",
       "        vertical-align: top;\n",
       "    }\n",
       "\n",
       "    .dataframe thead th {\n",
       "        text-align: right;\n",
       "    }\n",
       "</style>\n",
       "<table border=\"1\" class=\"dataframe\">\n",
       "  <thead>\n",
       "    <tr style=\"text-align: right;\">\n",
       "      <th></th>\n",
       "      <th>patient_id</th>\n",
       "      <th>address</th>\n",
       "      <th>blood_type</th>\n",
       "      <th>closest_hospital</th>\n",
       "      <th>community</th>\n",
       "      <th>country</th>\n",
       "      <th>date_of_birth</th>\n",
       "      <th>first_name</th>\n",
       "      <th>gender</th>\n",
       "      <th>has_children</th>\n",
       "      <th>...</th>\n",
       "      <th>num_of_dependents</th>\n",
       "      <th>post_code</th>\n",
       "      <th>preferred_language</th>\n",
       "      <th>purpose_of_visit</th>\n",
       "      <th>state</th>\n",
       "      <th>sur_name</th>\n",
       "      <th>title</th>\n",
       "      <th>user_id</th>\n",
       "      <th>weight</th>\n",
       "      <th>hospital_id</th>\n",
       "    </tr>\n",
       "  </thead>\n",
       "  <tbody>\n",
       "    <tr>\n",
       "      <th>0</th>\n",
       "      <td>1</td>\n",
       "      <td>Ap #266-429 Velit St.</td>\n",
       "      <td>AB+</td>\n",
       "      <td>Blue Cross Hospital</td>\n",
       "      <td>suburban</td>\n",
       "      <td>nigeria</td>\n",
       "      <td>4/13/2009</td>\n",
       "      <td>ACRA</td>\n",
       "      <td>Female</td>\n",
       "      <td>Yes</td>\n",
       "      <td>...</td>\n",
       "      <td>2</td>\n",
       "      <td>10201</td>\n",
       "      <td>english</td>\n",
       "      <td>medical examination</td>\n",
       "      <td>Lagos</td>\n",
       "      <td>SMITH</td>\n",
       "      <td>Mrs.</td>\n",
       "      <td>1</td>\n",
       "      <td>69</td>\n",
       "      <td>1</td>\n",
       "    </tr>\n",
       "    <tr>\n",
       "      <th>1</th>\n",
       "      <td>2</td>\n",
       "      <td>315-4283 Nam Street</td>\n",
       "      <td>O-</td>\n",
       "      <td>Krown Hospital</td>\n",
       "      <td>suburban</td>\n",
       "      <td>nigeria</td>\n",
       "      <td>7/8/2011</td>\n",
       "      <td>ADOLPH</td>\n",
       "      <td>Male</td>\n",
       "      <td>Yes</td>\n",
       "      <td>...</td>\n",
       "      <td>2</td>\n",
       "      <td>12224</td>\n",
       "      <td>english</td>\n",
       "      <td>medical examination</td>\n",
       "      <td>Lagos</td>\n",
       "      <td>NEILON</td>\n",
       "      <td>Mr.</td>\n",
       "      <td>2</td>\n",
       "      <td>80</td>\n",
       "      <td>1</td>\n",
       "    </tr>\n",
       "    <tr>\n",
       "      <th>2</th>\n",
       "      <td>3</td>\n",
       "      <td>921-1491 Nonummy Ave</td>\n",
       "      <td>A-</td>\n",
       "      <td>Ave Maria Hospital</td>\n",
       "      <td>suburban</td>\n",
       "      <td>nigeria</td>\n",
       "      <td>12/30/2000</td>\n",
       "      <td>ANKI</td>\n",
       "      <td>Male</td>\n",
       "      <td>Yes</td>\n",
       "      <td>...</td>\n",
       "      <td>3</td>\n",
       "      <td>53510</td>\n",
       "      <td>english</td>\n",
       "      <td>medical examination</td>\n",
       "      <td>Lagos</td>\n",
       "      <td>HENDRI</td>\n",
       "      <td>Mr.</td>\n",
       "      <td>3</td>\n",
       "      <td>67</td>\n",
       "      <td>1</td>\n",
       "    </tr>\n",
       "    <tr>\n",
       "      <th>3</th>\n",
       "      <td>4</td>\n",
       "      <td>Ap #299-4324 Mauris Avenue</td>\n",
       "      <td>O-</td>\n",
       "      <td>Isolo General Hospital</td>\n",
       "      <td>urban</td>\n",
       "      <td>nigeria</td>\n",
       "      <td>9/15/1987</td>\n",
       "      <td>GARBO</td>\n",
       "      <td>Male</td>\n",
       "      <td>No</td>\n",
       "      <td>...</td>\n",
       "      <td>3</td>\n",
       "      <td>25193</td>\n",
       "      <td>english</td>\n",
       "      <td>medical examination</td>\n",
       "      <td>Lagos</td>\n",
       "      <td>SHARRON</td>\n",
       "      <td>Mr.</td>\n",
       "      <td>4</td>\n",
       "      <td>74</td>\n",
       "      <td>1</td>\n",
       "    </tr>\n",
       "    <tr>\n",
       "      <th>4</th>\n",
       "      <td>5</td>\n",
       "      <td>P.O. Box 913, 6976 Magnis Rd.</td>\n",
       "      <td>O-</td>\n",
       "      <td>Lagoon Hospitals</td>\n",
       "      <td>rural</td>\n",
       "      <td>nigeria</td>\n",
       "      <td>10/10/2002</td>\n",
       "      <td>ADONAI</td>\n",
       "      <td>Female</td>\n",
       "      <td>No</td>\n",
       "      <td>...</td>\n",
       "      <td>1</td>\n",
       "      <td>37171</td>\n",
       "      <td>english</td>\n",
       "      <td>medical examination</td>\n",
       "      <td>Lagos</td>\n",
       "      <td>NEIVA</td>\n",
       "      <td>Ms.</td>\n",
       "      <td>5</td>\n",
       "      <td>62</td>\n",
       "      <td>1</td>\n",
       "    </tr>\n",
       "  </tbody>\n",
       "</table>\n",
       "<p>5 rows × 26 columns</p>\n",
       "</div>"
      ],
      "text/plain": [
       "   patient_id                        address blood_type  \\\n",
       "0           1          Ap #266-429 Velit St.        AB+   \n",
       "1           2            315-4283 Nam Street         O-   \n",
       "2           3           921-1491 Nonummy Ave         A-   \n",
       "3           4     Ap #299-4324 Mauris Avenue         O-   \n",
       "4           5  P.O. Box 913, 6976 Magnis Rd.         O-   \n",
       "\n",
       "         closest_hospital community  country date_of_birth first_name  gender  \\\n",
       "0     Blue Cross Hospital  suburban  nigeria     4/13/2009       ACRA  Female   \n",
       "1          Krown Hospital  suburban  nigeria      7/8/2011     ADOLPH    Male   \n",
       "2      Ave Maria Hospital  suburban  nigeria    12/30/2000       ANKI    Male   \n",
       "3  Isolo General Hospital     urban  nigeria     9/15/1987      GARBO    Male   \n",
       "4        Lagoon Hospitals     rural  nigeria    10/10/2002     ADONAI  Female   \n",
       "\n",
       "  has_children  ... num_of_dependents  post_code preferred_language  \\\n",
       "0          Yes  ...                 2      10201            english   \n",
       "1          Yes  ...                 2      12224            english   \n",
       "2          Yes  ...                 3      53510            english   \n",
       "3           No  ...                 3      25193            english   \n",
       "4           No  ...                 1      37171            english   \n",
       "\n",
       "      purpose_of_visit  state  sur_name  title  user_id weight hospital_id  \n",
       "0  medical examination  Lagos     SMITH   Mrs.        1     69           1  \n",
       "1  medical examination  Lagos    NEILON    Mr.        2     80           1  \n",
       "2  medical examination  Lagos    HENDRI    Mr.        3     67           1  \n",
       "3  medical examination  Lagos   SHARRON    Mr.        4     74           1  \n",
       "4  medical examination  Lagos     NEIVA    Ms.        5     62           1  \n",
       "\n",
       "[5 rows x 26 columns]"
      ]
     },
     "execution_count": 146,
     "metadata": {},
     "output_type": "execute_result"
    }
   ],
   "source": [
    "patient_dataframe.head()"
   ]
  },
  {
   "cell_type": "code",
   "execution_count": 147,
   "metadata": {},
   "outputs": [],
   "source": [
    "# cleaned patient dataset\n",
    "patient_dataframe.to_csv('cleaned_patient.csv', index=False)"
   ]
  },
  {
   "cell_type": "code",
   "execution_count": 148,
   "metadata": {},
   "outputs": [],
   "source": [
    "# Drop missing varaiables in doctor dataframe\n",
    "doctor_dataframe.dropna(axis=1, inplace=True)\n",
    "doctor_dataframe.reset_index(drop=True, inplace=True)"
   ]
  },
  {
   "cell_type": "code",
   "execution_count": 149,
   "metadata": {},
   "outputs": [
    {
     "data": {
      "text/html": [
       "<div>\n",
       "<style scoped>\n",
       "    .dataframe tbody tr th:only-of-type {\n",
       "        vertical-align: middle;\n",
       "    }\n",
       "\n",
       "    .dataframe tbody tr th {\n",
       "        vertical-align: top;\n",
       "    }\n",
       "\n",
       "    .dataframe thead th {\n",
       "        text-align: right;\n",
       "    }\n",
       "</style>\n",
       "<table border=\"1\" class=\"dataframe\">\n",
       "  <thead>\n",
       "    <tr style=\"text-align: right;\">\n",
       "      <th></th>\n",
       "      <th>Missing value</th>\n",
       "    </tr>\n",
       "  </thead>\n",
       "  <tbody>\n",
       "  </tbody>\n",
       "</table>\n",
       "</div>"
      ],
      "text/plain": [
       "Empty DataFrame\n",
       "Columns: [Missing value]\n",
       "Index: []"
      ]
     },
     "execution_count": 149,
     "metadata": {},
     "output_type": "execute_result"
    }
   ],
   "source": [
    "nan=pd.DataFrame({'Missing value': doctor_dataframe.isnull().sum().sort_values(ascending=False)})\n",
    "nan[nan['Missing value'] > 0]"
   ]
  },
  {
   "cell_type": "code",
   "execution_count": 150,
   "metadata": {},
   "outputs": [
    {
     "data": {
      "text/plain": [
       "(214, 21)"
      ]
     },
     "execution_count": 150,
     "metadata": {},
     "output_type": "execute_result"
    }
   ],
   "source": [
    "doctor_dataframe.shape"
   ]
  },
  {
   "cell_type": "code",
   "execution_count": 151,
   "metadata": {},
   "outputs": [
    {
     "data": {
      "text/html": [
       "<div>\n",
       "<style scoped>\n",
       "    .dataframe tbody tr th:only-of-type {\n",
       "        vertical-align: middle;\n",
       "    }\n",
       "\n",
       "    .dataframe tbody tr th {\n",
       "        vertical-align: top;\n",
       "    }\n",
       "\n",
       "    .dataframe thead th {\n",
       "        text-align: right;\n",
       "    }\n",
       "</style>\n",
       "<table border=\"1\" class=\"dataframe\">\n",
       "  <thead>\n",
       "    <tr style=\"text-align: right;\">\n",
       "      <th></th>\n",
       "      <th>doctor_id</th>\n",
       "      <th>approved</th>\n",
       "      <th>city</th>\n",
       "      <th>date_of_birth</th>\n",
       "      <th>dependant_stand_by</th>\n",
       "      <th>full_name</th>\n",
       "      <th>doctor_gender</th>\n",
       "      <th>graduation_date</th>\n",
       "      <th>is_student</th>\n",
       "      <th>marital_status</th>\n",
       "      <th>...</th>\n",
       "      <th>name_of_university</th>\n",
       "      <th>national_identification_number</th>\n",
       "      <th>office_address</th>\n",
       "      <th>reference_doctor_email</th>\n",
       "      <th>reference_doctor_full_name</th>\n",
       "      <th>reference_doctor_phone_number</th>\n",
       "      <th>state</th>\n",
       "      <th>student_number</th>\n",
       "      <th>system_status</th>\n",
       "      <th>title</th>\n",
       "    </tr>\n",
       "  </thead>\n",
       "  <tbody>\n",
       "    <tr>\n",
       "      <th>0</th>\n",
       "      <td>1</td>\n",
       "      <td>Yes</td>\n",
       "      <td>Lagos</td>\n",
       "      <td>8/5/1972</td>\n",
       "      <td>1</td>\n",
       "      <td>ACRA SMITH</td>\n",
       "      <td>Male</td>\n",
       "      <td>9/6/2019</td>\n",
       "      <td>No</td>\n",
       "      <td>Married</td>\n",
       "      <td>...</td>\n",
       "      <td>Caleb University- Lagos</td>\n",
       "      <td>1122458</td>\n",
       "      <td>618-3434 Sagittis Av.</td>\n",
       "      <td>acrasmith@gmail.com</td>\n",
       "      <td>ACRA SMITH</td>\n",
       "      <td>53488888</td>\n",
       "      <td>Lagos</td>\n",
       "      <td>2710</td>\n",
       "      <td>very good</td>\n",
       "      <td>Mr.</td>\n",
       "    </tr>\n",
       "    <tr>\n",
       "      <th>1</th>\n",
       "      <td>2</td>\n",
       "      <td>Yes</td>\n",
       "      <td>Lagos</td>\n",
       "      <td>7/12/1989</td>\n",
       "      <td>2</td>\n",
       "      <td>ADOLPH NEILON</td>\n",
       "      <td>Female</td>\n",
       "      <td>6/25/2006</td>\n",
       "      <td>Yes</td>\n",
       "      <td>Married</td>\n",
       "      <td>...</td>\n",
       "      <td>National Open University of Nigeria- Lagos</td>\n",
       "      <td>4563751</td>\n",
       "      <td>405-9892 Ultrices Rd.</td>\n",
       "      <td>adolphneilon@gmail.com</td>\n",
       "      <td>ADOLPH NEILON</td>\n",
       "      <td>50989139</td>\n",
       "      <td>Lagos</td>\n",
       "      <td>5370</td>\n",
       "      <td>good</td>\n",
       "      <td>Ms.</td>\n",
       "    </tr>\n",
       "    <tr>\n",
       "      <th>2</th>\n",
       "      <td>3</td>\n",
       "      <td>Yes</td>\n",
       "      <td>Lagos</td>\n",
       "      <td>9/30/1965</td>\n",
       "      <td>1</td>\n",
       "      <td>ANKI HENDRI</td>\n",
       "      <td>Male</td>\n",
       "      <td>12/20/2008</td>\n",
       "      <td>Yes</td>\n",
       "      <td>Married</td>\n",
       "      <td>...</td>\n",
       "      <td>James Hope University- Lagos</td>\n",
       "      <td>1877514</td>\n",
       "      <td>Ap #561-9293 Sociis St.</td>\n",
       "      <td>ankihendri@gmail.com</td>\n",
       "      <td>ANKI HENDRI</td>\n",
       "      <td>42144921</td>\n",
       "      <td>Lagos</td>\n",
       "      <td>6696</td>\n",
       "      <td>excellent</td>\n",
       "      <td>Mr.</td>\n",
       "    </tr>\n",
       "    <tr>\n",
       "      <th>3</th>\n",
       "      <td>4</td>\n",
       "      <td>Yes</td>\n",
       "      <td>Lagos</td>\n",
       "      <td>8/12/1964</td>\n",
       "      <td>1</td>\n",
       "      <td>GARBO SHARRON</td>\n",
       "      <td>Male</td>\n",
       "      <td>8/22/2013</td>\n",
       "      <td>No</td>\n",
       "      <td>Married</td>\n",
       "      <td>...</td>\n",
       "      <td>Lagos State University of Science and Technolo...</td>\n",
       "      <td>2513477</td>\n",
       "      <td>Ap #381-3175 Sed, Street</td>\n",
       "      <td>garbosharron@gmail.com</td>\n",
       "      <td>GARBO SHARRON</td>\n",
       "      <td>52477143</td>\n",
       "      <td>Lagos</td>\n",
       "      <td>4343</td>\n",
       "      <td>fair</td>\n",
       "      <td>Mr.</td>\n",
       "    </tr>\n",
       "    <tr>\n",
       "      <th>4</th>\n",
       "      <td>5</td>\n",
       "      <td>Yes</td>\n",
       "      <td>Lagos</td>\n",
       "      <td>12/5/1963</td>\n",
       "      <td>0</td>\n",
       "      <td>ADONAI NEIVA</td>\n",
       "      <td>Female</td>\n",
       "      <td>12/28/2021</td>\n",
       "      <td>No</td>\n",
       "      <td>Married</td>\n",
       "      <td>...</td>\n",
       "      <td>Lagos State University of Science and Technolo...</td>\n",
       "      <td>3463224</td>\n",
       "      <td>Ap #230-5566 Amet, St.</td>\n",
       "      <td>adonaineiva@gmail.com</td>\n",
       "      <td>ADONAI NEIVA</td>\n",
       "      <td>29517478</td>\n",
       "      <td>Lagos</td>\n",
       "      <td>4300</td>\n",
       "      <td>very good</td>\n",
       "      <td>Ms.</td>\n",
       "    </tr>\n",
       "  </tbody>\n",
       "</table>\n",
       "<p>5 rows × 21 columns</p>\n",
       "</div>"
      ],
      "text/plain": [
       "   doctor_id approved   city date_of_birth  dependant_stand_by      full_name  \\\n",
       "0          1      Yes  Lagos      8/5/1972                   1     ACRA SMITH   \n",
       "1          2      Yes  Lagos     7/12/1989                   2  ADOLPH NEILON   \n",
       "2          3      Yes  Lagos     9/30/1965                   1    ANKI HENDRI   \n",
       "3          4      Yes  Lagos     8/12/1964                   1  GARBO SHARRON   \n",
       "4          5      Yes  Lagos     12/5/1963                   0   ADONAI NEIVA   \n",
       "\n",
       "  doctor_gender graduation_date is_student marital_status  ...  \\\n",
       "0          Male        9/6/2019         No        Married  ...   \n",
       "1        Female       6/25/2006        Yes        Married  ...   \n",
       "2          Male      12/20/2008        Yes        Married  ...   \n",
       "3          Male       8/22/2013         No        Married  ...   \n",
       "4        Female      12/28/2021         No        Married  ...   \n",
       "\n",
       "                                  name_of_university  \\\n",
       "0                            Caleb University- Lagos   \n",
       "1         National Open University of Nigeria- Lagos   \n",
       "2                       James Hope University- Lagos   \n",
       "3  Lagos State University of Science and Technolo...   \n",
       "4  Lagos State University of Science and Technolo...   \n",
       "\n",
       "  national_identification_number            office_address  \\\n",
       "0                        1122458     618-3434 Sagittis Av.   \n",
       "1                        4563751     405-9892 Ultrices Rd.   \n",
       "2                        1877514   Ap #561-9293 Sociis St.   \n",
       "3                        2513477  Ap #381-3175 Sed, Street   \n",
       "4                        3463224    Ap #230-5566 Amet, St.   \n",
       "\n",
       "   reference_doctor_email reference_doctor_full_name  \\\n",
       "0     acrasmith@gmail.com                 ACRA SMITH   \n",
       "1  adolphneilon@gmail.com              ADOLPH NEILON   \n",
       "2    ankihendri@gmail.com                ANKI HENDRI   \n",
       "3  garbosharron@gmail.com              GARBO SHARRON   \n",
       "4   adonaineiva@gmail.com               ADONAI NEIVA   \n",
       "\n",
       "  reference_doctor_phone_number  state student_number  system_status title  \n",
       "0                      53488888  Lagos           2710      very good   Mr.  \n",
       "1                      50989139  Lagos           5370           good   Ms.  \n",
       "2                      42144921  Lagos           6696      excellent   Mr.  \n",
       "3                      52477143  Lagos           4343           fair   Mr.  \n",
       "4                      29517478  Lagos           4300      very good   Ms.  \n",
       "\n",
       "[5 rows x 21 columns]"
      ]
     },
     "execution_count": 151,
     "metadata": {},
     "output_type": "execute_result"
    }
   ],
   "source": [
    "doctor_dataframe.head()"
   ]
  },
  {
   "cell_type": "code",
   "execution_count": 152,
   "metadata": {},
   "outputs": [],
   "source": [
    "# cleaned doctor dataset\n",
    "doctor_dataframe.to_csv('cleaned_doctor.csv', index=False)"
   ]
  },
  {
   "cell_type": "code",
   "execution_count": 153,
   "metadata": {},
   "outputs": [],
   "source": [
    "# Drop missing varaiables in consultation dataframe\n",
    "consultation_dataframe.dropna(axis=1, inplace=True)\n",
    "consultation_dataframe.reset_index(drop=True, inplace=True)"
   ]
  },
  {
   "cell_type": "code",
   "execution_count": 154,
   "metadata": {},
   "outputs": [
    {
     "data": {
      "text/html": [
       "<div>\n",
       "<style scoped>\n",
       "    .dataframe tbody tr th:only-of-type {\n",
       "        vertical-align: middle;\n",
       "    }\n",
       "\n",
       "    .dataframe tbody tr th {\n",
       "        vertical-align: top;\n",
       "    }\n",
       "\n",
       "    .dataframe thead th {\n",
       "        text-align: right;\n",
       "    }\n",
       "</style>\n",
       "<table border=\"1\" class=\"dataframe\">\n",
       "  <thead>\n",
       "    <tr style=\"text-align: right;\">\n",
       "      <th></th>\n",
       "      <th>Missing value</th>\n",
       "    </tr>\n",
       "  </thead>\n",
       "  <tbody>\n",
       "  </tbody>\n",
       "</table>\n",
       "</div>"
      ],
      "text/plain": [
       "Empty DataFrame\n",
       "Columns: [Missing value]\n",
       "Index: []"
      ]
     },
     "execution_count": 154,
     "metadata": {},
     "output_type": "execute_result"
    }
   ],
   "source": [
    "nan=pd.DataFrame({'Missing value': consultation_dataframe.isnull().sum().sort_values(ascending=False)})\n",
    "nan[nan['Missing value'] > 0]"
   ]
  },
  {
   "cell_type": "code",
   "execution_count": 155,
   "metadata": {},
   "outputs": [
    {
     "data": {
      "text/plain": [
       "(520, 16)"
      ]
     },
     "execution_count": 155,
     "metadata": {},
     "output_type": "execute_result"
    }
   ],
   "source": [
    "consultation_dataframe.shape"
   ]
  },
  {
   "cell_type": "code",
   "execution_count": 156,
   "metadata": {},
   "outputs": [
    {
     "data": {
      "text/html": [
       "<div>\n",
       "<style scoped>\n",
       "    .dataframe tbody tr th:only-of-type {\n",
       "        vertical-align: middle;\n",
       "    }\n",
       "\n",
       "    .dataframe tbody tr th {\n",
       "        vertical-align: top;\n",
       "    }\n",
       "\n",
       "    .dataframe thead th {\n",
       "        text-align: right;\n",
       "    }\n",
       "</style>\n",
       "<table border=\"1\" class=\"dataframe\">\n",
       "  <thead>\n",
       "    <tr style=\"text-align: right;\">\n",
       "      <th></th>\n",
       "      <th>id</th>\n",
       "      <th>consultation_cost</th>\n",
       "      <th>patient_body_area</th>\n",
       "      <th>consent</th>\n",
       "      <th>doctor_full_name</th>\n",
       "      <th>doctor_id</th>\n",
       "      <th>language</th>\n",
       "      <th>patient_full_name</th>\n",
       "      <th>patient_id</th>\n",
       "      <th>patient_mobile</th>\n",
       "      <th>patient_status</th>\n",
       "      <th>time_accepted</th>\n",
       "      <th>time_booked</th>\n",
       "      <th>time_finished</th>\n",
       "      <th>time_started</th>\n",
       "      <th>transaction_reference</th>\n",
       "    </tr>\n",
       "  </thead>\n",
       "  <tbody>\n",
       "    <tr>\n",
       "      <th>0</th>\n",
       "      <td>1</td>\n",
       "      <td>1900</td>\n",
       "      <td>legs</td>\n",
       "      <td>Yes</td>\n",
       "      <td>ACRA SMITH</td>\n",
       "      <td>1</td>\n",
       "      <td>english</td>\n",
       "      <td>ADRIATIK NELL</td>\n",
       "      <td>100</td>\n",
       "      <td>6780843</td>\n",
       "      <td>under appointment</td>\n",
       "      <td>13:30</td>\n",
       "      <td>2:00 PM</td>\n",
       "      <td>5:10 PM</td>\n",
       "      <td>3:10 PM</td>\n",
       "      <td>1</td>\n",
       "    </tr>\n",
       "    <tr>\n",
       "      <th>1</th>\n",
       "      <td>2</td>\n",
       "      <td>9100</td>\n",
       "      <td>chest area</td>\n",
       "      <td>Yes</td>\n",
       "      <td>ADOLPH NEILON</td>\n",
       "      <td>2</td>\n",
       "      <td>english</td>\n",
       "      <td>ANNAMARIE HERA</td>\n",
       "      <td>72</td>\n",
       "      <td>4272348</td>\n",
       "      <td>new consultation</td>\n",
       "      <td>10:15</td>\n",
       "      <td>10:45 AM</td>\n",
       "      <td>12:45 PM</td>\n",
       "      <td>11:45 AM</td>\n",
       "      <td>2</td>\n",
       "    </tr>\n",
       "    <tr>\n",
       "      <th>2</th>\n",
       "      <td>3</td>\n",
       "      <td>8200</td>\n",
       "      <td>head</td>\n",
       "      <td>Yes</td>\n",
       "      <td>ANKI HENDRI</td>\n",
       "      <td>3</td>\n",
       "      <td>english</td>\n",
       "      <td>GARRICK SHATISHA</td>\n",
       "      <td>150</td>\n",
       "      <td>6183602</td>\n",
       "      <td>new consultation</td>\n",
       "      <td>8:45</td>\n",
       "      <td>9:35 AM</td>\n",
       "      <td>12:15 PM</td>\n",
       "      <td>10:35 AM</td>\n",
       "      <td>3</td>\n",
       "    </tr>\n",
       "    <tr>\n",
       "      <th>3</th>\n",
       "      <td>4</td>\n",
       "      <td>5600</td>\n",
       "      <td>back</td>\n",
       "      <td>Yes</td>\n",
       "      <td>GARBO SHARRON</td>\n",
       "      <td>4</td>\n",
       "      <td>english</td>\n",
       "      <td>ADRIELLE NELLI</td>\n",
       "      <td>27</td>\n",
       "      <td>6822469</td>\n",
       "      <td>appointed session</td>\n",
       "      <td>13:15</td>\n",
       "      <td>1:55 PM</td>\n",
       "      <td>4:35 PM</td>\n",
       "      <td>2:45 PM</td>\n",
       "      <td>4</td>\n",
       "    </tr>\n",
       "    <tr>\n",
       "      <th>4</th>\n",
       "      <td>5</td>\n",
       "      <td>1200</td>\n",
       "      <td>stomach</td>\n",
       "      <td>Yes</td>\n",
       "      <td>ADONAI NEIVA</td>\n",
       "      <td>5</td>\n",
       "      <td>english</td>\n",
       "      <td>ANNASTASIA HERARD</td>\n",
       "      <td>191</td>\n",
       "      <td>7229498</td>\n",
       "      <td>new consultation</td>\n",
       "      <td>9:00</td>\n",
       "      <td>9:30 AM</td>\n",
       "      <td>11:20 AM</td>\n",
       "      <td>10:30 AM</td>\n",
       "      <td>5</td>\n",
       "    </tr>\n",
       "  </tbody>\n",
       "</table>\n",
       "</div>"
      ],
      "text/plain": [
       "   id  consultation_cost patient_body_area consent doctor_full_name  \\\n",
       "0   1               1900              legs     Yes       ACRA SMITH   \n",
       "1   2               9100        chest area     Yes    ADOLPH NEILON   \n",
       "2   3               8200              head     Yes      ANKI HENDRI   \n",
       "3   4               5600              back     Yes    GARBO SHARRON   \n",
       "4   5               1200           stomach     Yes     ADONAI NEIVA   \n",
       "\n",
       "   doctor_id language  patient_full_name  patient_id  patient_mobile  \\\n",
       "0          1  english      ADRIATIK NELL         100         6780843   \n",
       "1          2  english     ANNAMARIE HERA          72         4272348   \n",
       "2          3  english   GARRICK SHATISHA         150         6183602   \n",
       "3          4  english     ADRIELLE NELLI          27         6822469   \n",
       "4          5  english  ANNASTASIA HERARD         191         7229498   \n",
       "\n",
       "      patient_status time_accepted time_booked time_finished time_started  \\\n",
       "0  under appointment         13:30     2:00 PM       5:10 PM      3:10 PM   \n",
       "1   new consultation         10:15    10:45 AM      12:45 PM     11:45 AM   \n",
       "2   new consultation          8:45     9:35 AM      12:15 PM     10:35 AM   \n",
       "3  appointed session         13:15     1:55 PM       4:35 PM      2:45 PM   \n",
       "4   new consultation          9:00     9:30 AM      11:20 AM     10:30 AM   \n",
       "\n",
       "   transaction_reference  \n",
       "0                      1  \n",
       "1                      2  \n",
       "2                      3  \n",
       "3                      4  \n",
       "4                      5  "
      ]
     },
     "execution_count": 156,
     "metadata": {},
     "output_type": "execute_result"
    }
   ],
   "source": [
    "consultation_dataframe.head()"
   ]
  },
  {
   "cell_type": "code",
   "execution_count": 157,
   "metadata": {},
   "outputs": [],
   "source": [
    "# cleaned consultation dataset\n",
    "consultation_dataframe.to_csv('cleaned_consultation.csv', index=False)"
   ]
  },
  {
   "attachments": {},
   "cell_type": "markdown",
   "metadata": {},
   "source": [
    "### Create the new simulated dataset via merg"
   ]
  },
  {
   "cell_type": "code",
   "execution_count": 158,
   "metadata": {},
   "outputs": [],
   "source": [
    "# Calculate variable age using variable date_of_birth in the patient_dataframe\n",
    "\n",
    "from datetime import datetime\n",
    "\n",
    "# Convert date_of_birth column to datetime\n",
    "patient_dataframe['date_of_birth'] = pd.to_datetime(patient_dataframe['date_of_birth'])\n",
    "\n",
    "# Calculate age by subtracting date_of_birth from current date\n",
    "patient_dataframe['age'] = (datetime.now() - patient_dataframe['date_of_birth']) // pd.Timedelta(days=365)\n"
   ]
  },
  {
   "cell_type": "code",
   "execution_count": 159,
   "metadata": {},
   "outputs": [
    {
     "data": {
      "text/html": [
       "<div>\n",
       "<style scoped>\n",
       "    .dataframe tbody tr th:only-of-type {\n",
       "        vertical-align: middle;\n",
       "    }\n",
       "\n",
       "    .dataframe tbody tr th {\n",
       "        vertical-align: top;\n",
       "    }\n",
       "\n",
       "    .dataframe thead th {\n",
       "        text-align: right;\n",
       "    }\n",
       "</style>\n",
       "<table border=\"1\" class=\"dataframe\">\n",
       "  <thead>\n",
       "    <tr style=\"text-align: right;\">\n",
       "      <th></th>\n",
       "      <th>patient_id</th>\n",
       "      <th>address</th>\n",
       "      <th>blood_type</th>\n",
       "      <th>closest_hospital</th>\n",
       "      <th>community</th>\n",
       "      <th>country</th>\n",
       "      <th>date_of_birth</th>\n",
       "      <th>first_name</th>\n",
       "      <th>gender</th>\n",
       "      <th>has_children</th>\n",
       "      <th>...</th>\n",
       "      <th>post_code</th>\n",
       "      <th>preferred_language</th>\n",
       "      <th>purpose_of_visit</th>\n",
       "      <th>state</th>\n",
       "      <th>sur_name</th>\n",
       "      <th>title</th>\n",
       "      <th>user_id</th>\n",
       "      <th>weight</th>\n",
       "      <th>hospital_id</th>\n",
       "      <th>age</th>\n",
       "    </tr>\n",
       "  </thead>\n",
       "  <tbody>\n",
       "    <tr>\n",
       "      <th>0</th>\n",
       "      <td>1</td>\n",
       "      <td>Ap #266-429 Velit St.</td>\n",
       "      <td>AB+</td>\n",
       "      <td>Blue Cross Hospital</td>\n",
       "      <td>suburban</td>\n",
       "      <td>nigeria</td>\n",
       "      <td>2009-04-13</td>\n",
       "      <td>ACRA</td>\n",
       "      <td>Female</td>\n",
       "      <td>Yes</td>\n",
       "      <td>...</td>\n",
       "      <td>10201</td>\n",
       "      <td>english</td>\n",
       "      <td>medical examination</td>\n",
       "      <td>Lagos</td>\n",
       "      <td>SMITH</td>\n",
       "      <td>Mrs.</td>\n",
       "      <td>1</td>\n",
       "      <td>69</td>\n",
       "      <td>1</td>\n",
       "      <td>14</td>\n",
       "    </tr>\n",
       "    <tr>\n",
       "      <th>1</th>\n",
       "      <td>2</td>\n",
       "      <td>315-4283 Nam Street</td>\n",
       "      <td>O-</td>\n",
       "      <td>Krown Hospital</td>\n",
       "      <td>suburban</td>\n",
       "      <td>nigeria</td>\n",
       "      <td>2011-07-08</td>\n",
       "      <td>ADOLPH</td>\n",
       "      <td>Male</td>\n",
       "      <td>Yes</td>\n",
       "      <td>...</td>\n",
       "      <td>12224</td>\n",
       "      <td>english</td>\n",
       "      <td>medical examination</td>\n",
       "      <td>Lagos</td>\n",
       "      <td>NEILON</td>\n",
       "      <td>Mr.</td>\n",
       "      <td>2</td>\n",
       "      <td>80</td>\n",
       "      <td>1</td>\n",
       "      <td>11</td>\n",
       "    </tr>\n",
       "    <tr>\n",
       "      <th>2</th>\n",
       "      <td>3</td>\n",
       "      <td>921-1491 Nonummy Ave</td>\n",
       "      <td>A-</td>\n",
       "      <td>Ave Maria Hospital</td>\n",
       "      <td>suburban</td>\n",
       "      <td>nigeria</td>\n",
       "      <td>2000-12-30</td>\n",
       "      <td>ANKI</td>\n",
       "      <td>Male</td>\n",
       "      <td>Yes</td>\n",
       "      <td>...</td>\n",
       "      <td>53510</td>\n",
       "      <td>english</td>\n",
       "      <td>medical examination</td>\n",
       "      <td>Lagos</td>\n",
       "      <td>HENDRI</td>\n",
       "      <td>Mr.</td>\n",
       "      <td>3</td>\n",
       "      <td>67</td>\n",
       "      <td>1</td>\n",
       "      <td>22</td>\n",
       "    </tr>\n",
       "    <tr>\n",
       "      <th>3</th>\n",
       "      <td>4</td>\n",
       "      <td>Ap #299-4324 Mauris Avenue</td>\n",
       "      <td>O-</td>\n",
       "      <td>Isolo General Hospital</td>\n",
       "      <td>urban</td>\n",
       "      <td>nigeria</td>\n",
       "      <td>1987-09-15</td>\n",
       "      <td>GARBO</td>\n",
       "      <td>Male</td>\n",
       "      <td>No</td>\n",
       "      <td>...</td>\n",
       "      <td>25193</td>\n",
       "      <td>english</td>\n",
       "      <td>medical examination</td>\n",
       "      <td>Lagos</td>\n",
       "      <td>SHARRON</td>\n",
       "      <td>Mr.</td>\n",
       "      <td>4</td>\n",
       "      <td>74</td>\n",
       "      <td>1</td>\n",
       "      <td>35</td>\n",
       "    </tr>\n",
       "    <tr>\n",
       "      <th>4</th>\n",
       "      <td>5</td>\n",
       "      <td>P.O. Box 913, 6976 Magnis Rd.</td>\n",
       "      <td>O-</td>\n",
       "      <td>Lagoon Hospitals</td>\n",
       "      <td>rural</td>\n",
       "      <td>nigeria</td>\n",
       "      <td>2002-10-10</td>\n",
       "      <td>ADONAI</td>\n",
       "      <td>Female</td>\n",
       "      <td>No</td>\n",
       "      <td>...</td>\n",
       "      <td>37171</td>\n",
       "      <td>english</td>\n",
       "      <td>medical examination</td>\n",
       "      <td>Lagos</td>\n",
       "      <td>NEIVA</td>\n",
       "      <td>Ms.</td>\n",
       "      <td>5</td>\n",
       "      <td>62</td>\n",
       "      <td>1</td>\n",
       "      <td>20</td>\n",
       "    </tr>\n",
       "  </tbody>\n",
       "</table>\n",
       "<p>5 rows × 27 columns</p>\n",
       "</div>"
      ],
      "text/plain": [
       "   patient_id                        address blood_type  \\\n",
       "0           1          Ap #266-429 Velit St.        AB+   \n",
       "1           2            315-4283 Nam Street         O-   \n",
       "2           3           921-1491 Nonummy Ave         A-   \n",
       "3           4     Ap #299-4324 Mauris Avenue         O-   \n",
       "4           5  P.O. Box 913, 6976 Magnis Rd.         O-   \n",
       "\n",
       "         closest_hospital community  country date_of_birth first_name  gender  \\\n",
       "0     Blue Cross Hospital  suburban  nigeria    2009-04-13       ACRA  Female   \n",
       "1          Krown Hospital  suburban  nigeria    2011-07-08     ADOLPH    Male   \n",
       "2      Ave Maria Hospital  suburban  nigeria    2000-12-30       ANKI    Male   \n",
       "3  Isolo General Hospital     urban  nigeria    1987-09-15      GARBO    Male   \n",
       "4        Lagoon Hospitals     rural  nigeria    2002-10-10     ADONAI  Female   \n",
       "\n",
       "  has_children  ... post_code  preferred_language     purpose_of_visit  state  \\\n",
       "0          Yes  ...     10201             english  medical examination  Lagos   \n",
       "1          Yes  ...     12224             english  medical examination  Lagos   \n",
       "2          Yes  ...     53510             english  medical examination  Lagos   \n",
       "3           No  ...     25193             english  medical examination  Lagos   \n",
       "4           No  ...     37171             english  medical examination  Lagos   \n",
       "\n",
       "   sur_name  title  user_id  weight hospital_id age  \n",
       "0     SMITH   Mrs.        1      69           1  14  \n",
       "1    NEILON    Mr.        2      80           1  11  \n",
       "2    HENDRI    Mr.        3      67           1  22  \n",
       "3   SHARRON    Mr.        4      74           1  35  \n",
       "4     NEIVA    Ms.        5      62           1  20  \n",
       "\n",
       "[5 rows x 27 columns]"
      ]
     },
     "execution_count": 159,
     "metadata": {},
     "output_type": "execute_result"
    }
   ],
   "source": [
    "patient_dataframe.head()"
   ]
  },
  {
   "cell_type": "code",
   "execution_count": 160,
   "metadata": {},
   "outputs": [],
   "source": [
    "# Calculate variable years_of_experience using variable graduation_date in doctor_dataframe\n",
    "\n",
    "# Convert graduation_date column to datetime\n",
    "doctor_dataframe['graduation_date'] = pd.to_datetime(doctor_dataframe['graduation_date'])\n",
    "\n",
    "# Calculate years_of_experience by subtracting graduation_date from current date\n",
    "doctor_dataframe['years_of_experience'] = (datetime.now() - doctor_dataframe['graduation_date']) // pd.Timedelta(days=365)"
   ]
  },
  {
   "cell_type": "code",
   "execution_count": 161,
   "metadata": {},
   "outputs": [
    {
     "data": {
      "text/html": [
       "<div>\n",
       "<style scoped>\n",
       "    .dataframe tbody tr th:only-of-type {\n",
       "        vertical-align: middle;\n",
       "    }\n",
       "\n",
       "    .dataframe tbody tr th {\n",
       "        vertical-align: top;\n",
       "    }\n",
       "\n",
       "    .dataframe thead th {\n",
       "        text-align: right;\n",
       "    }\n",
       "</style>\n",
       "<table border=\"1\" class=\"dataframe\">\n",
       "  <thead>\n",
       "    <tr style=\"text-align: right;\">\n",
       "      <th></th>\n",
       "      <th>doctor_id</th>\n",
       "      <th>approved</th>\n",
       "      <th>city</th>\n",
       "      <th>date_of_birth</th>\n",
       "      <th>dependant_stand_by</th>\n",
       "      <th>full_name</th>\n",
       "      <th>doctor_gender</th>\n",
       "      <th>graduation_date</th>\n",
       "      <th>is_student</th>\n",
       "      <th>marital_status</th>\n",
       "      <th>...</th>\n",
       "      <th>national_identification_number</th>\n",
       "      <th>office_address</th>\n",
       "      <th>reference_doctor_email</th>\n",
       "      <th>reference_doctor_full_name</th>\n",
       "      <th>reference_doctor_phone_number</th>\n",
       "      <th>state</th>\n",
       "      <th>student_number</th>\n",
       "      <th>system_status</th>\n",
       "      <th>title</th>\n",
       "      <th>years_of_experience</th>\n",
       "    </tr>\n",
       "  </thead>\n",
       "  <tbody>\n",
       "    <tr>\n",
       "      <th>0</th>\n",
       "      <td>1</td>\n",
       "      <td>Yes</td>\n",
       "      <td>Lagos</td>\n",
       "      <td>8/5/1972</td>\n",
       "      <td>1</td>\n",
       "      <td>ACRA SMITH</td>\n",
       "      <td>Male</td>\n",
       "      <td>2019-09-06</td>\n",
       "      <td>No</td>\n",
       "      <td>Married</td>\n",
       "      <td>...</td>\n",
       "      <td>1122458</td>\n",
       "      <td>618-3434 Sagittis Av.</td>\n",
       "      <td>acrasmith@gmail.com</td>\n",
       "      <td>ACRA SMITH</td>\n",
       "      <td>53488888</td>\n",
       "      <td>Lagos</td>\n",
       "      <td>2710</td>\n",
       "      <td>very good</td>\n",
       "      <td>Mr.</td>\n",
       "      <td>3</td>\n",
       "    </tr>\n",
       "    <tr>\n",
       "      <th>1</th>\n",
       "      <td>2</td>\n",
       "      <td>Yes</td>\n",
       "      <td>Lagos</td>\n",
       "      <td>7/12/1989</td>\n",
       "      <td>2</td>\n",
       "      <td>ADOLPH NEILON</td>\n",
       "      <td>Female</td>\n",
       "      <td>2006-06-25</td>\n",
       "      <td>Yes</td>\n",
       "      <td>Married</td>\n",
       "      <td>...</td>\n",
       "      <td>4563751</td>\n",
       "      <td>405-9892 Ultrices Rd.</td>\n",
       "      <td>adolphneilon@gmail.com</td>\n",
       "      <td>ADOLPH NEILON</td>\n",
       "      <td>50989139</td>\n",
       "      <td>Lagos</td>\n",
       "      <td>5370</td>\n",
       "      <td>good</td>\n",
       "      <td>Ms.</td>\n",
       "      <td>16</td>\n",
       "    </tr>\n",
       "    <tr>\n",
       "      <th>2</th>\n",
       "      <td>3</td>\n",
       "      <td>Yes</td>\n",
       "      <td>Lagos</td>\n",
       "      <td>9/30/1965</td>\n",
       "      <td>1</td>\n",
       "      <td>ANKI HENDRI</td>\n",
       "      <td>Male</td>\n",
       "      <td>2008-12-20</td>\n",
       "      <td>Yes</td>\n",
       "      <td>Married</td>\n",
       "      <td>...</td>\n",
       "      <td>1877514</td>\n",
       "      <td>Ap #561-9293 Sociis St.</td>\n",
       "      <td>ankihendri@gmail.com</td>\n",
       "      <td>ANKI HENDRI</td>\n",
       "      <td>42144921</td>\n",
       "      <td>Lagos</td>\n",
       "      <td>6696</td>\n",
       "      <td>excellent</td>\n",
       "      <td>Mr.</td>\n",
       "      <td>14</td>\n",
       "    </tr>\n",
       "    <tr>\n",
       "      <th>3</th>\n",
       "      <td>4</td>\n",
       "      <td>Yes</td>\n",
       "      <td>Lagos</td>\n",
       "      <td>8/12/1964</td>\n",
       "      <td>1</td>\n",
       "      <td>GARBO SHARRON</td>\n",
       "      <td>Male</td>\n",
       "      <td>2013-08-22</td>\n",
       "      <td>No</td>\n",
       "      <td>Married</td>\n",
       "      <td>...</td>\n",
       "      <td>2513477</td>\n",
       "      <td>Ap #381-3175 Sed, Street</td>\n",
       "      <td>garbosharron@gmail.com</td>\n",
       "      <td>GARBO SHARRON</td>\n",
       "      <td>52477143</td>\n",
       "      <td>Lagos</td>\n",
       "      <td>4343</td>\n",
       "      <td>fair</td>\n",
       "      <td>Mr.</td>\n",
       "      <td>9</td>\n",
       "    </tr>\n",
       "    <tr>\n",
       "      <th>4</th>\n",
       "      <td>5</td>\n",
       "      <td>Yes</td>\n",
       "      <td>Lagos</td>\n",
       "      <td>12/5/1963</td>\n",
       "      <td>0</td>\n",
       "      <td>ADONAI NEIVA</td>\n",
       "      <td>Female</td>\n",
       "      <td>2021-12-28</td>\n",
       "      <td>No</td>\n",
       "      <td>Married</td>\n",
       "      <td>...</td>\n",
       "      <td>3463224</td>\n",
       "      <td>Ap #230-5566 Amet, St.</td>\n",
       "      <td>adonaineiva@gmail.com</td>\n",
       "      <td>ADONAI NEIVA</td>\n",
       "      <td>29517478</td>\n",
       "      <td>Lagos</td>\n",
       "      <td>4300</td>\n",
       "      <td>very good</td>\n",
       "      <td>Ms.</td>\n",
       "      <td>1</td>\n",
       "    </tr>\n",
       "  </tbody>\n",
       "</table>\n",
       "<p>5 rows × 22 columns</p>\n",
       "</div>"
      ],
      "text/plain": [
       "   doctor_id approved   city date_of_birth  dependant_stand_by      full_name  \\\n",
       "0          1      Yes  Lagos      8/5/1972                   1     ACRA SMITH   \n",
       "1          2      Yes  Lagos     7/12/1989                   2  ADOLPH NEILON   \n",
       "2          3      Yes  Lagos     9/30/1965                   1    ANKI HENDRI   \n",
       "3          4      Yes  Lagos     8/12/1964                   1  GARBO SHARRON   \n",
       "4          5      Yes  Lagos     12/5/1963                   0   ADONAI NEIVA   \n",
       "\n",
       "  doctor_gender graduation_date is_student marital_status  ...  \\\n",
       "0          Male      2019-09-06         No        Married  ...   \n",
       "1        Female      2006-06-25        Yes        Married  ...   \n",
       "2          Male      2008-12-20        Yes        Married  ...   \n",
       "3          Male      2013-08-22         No        Married  ...   \n",
       "4        Female      2021-12-28         No        Married  ...   \n",
       "\n",
       "   national_identification_number            office_address  \\\n",
       "0                         1122458     618-3434 Sagittis Av.   \n",
       "1                         4563751     405-9892 Ultrices Rd.   \n",
       "2                         1877514   Ap #561-9293 Sociis St.   \n",
       "3                         2513477  Ap #381-3175 Sed, Street   \n",
       "4                         3463224    Ap #230-5566 Amet, St.   \n",
       "\n",
       "   reference_doctor_email reference_doctor_full_name  \\\n",
       "0     acrasmith@gmail.com                 ACRA SMITH   \n",
       "1  adolphneilon@gmail.com              ADOLPH NEILON   \n",
       "2    ankihendri@gmail.com                ANKI HENDRI   \n",
       "3  garbosharron@gmail.com              GARBO SHARRON   \n",
       "4   adonaineiva@gmail.com               ADONAI NEIVA   \n",
       "\n",
       "  reference_doctor_phone_number  state  student_number system_status  title  \\\n",
       "0                      53488888  Lagos            2710     very good    Mr.   \n",
       "1                      50989139  Lagos            5370          good    Ms.   \n",
       "2                      42144921  Lagos            6696     excellent    Mr.   \n",
       "3                      52477143  Lagos            4343          fair    Mr.   \n",
       "4                      29517478  Lagos            4300     very good    Ms.   \n",
       "\n",
       "  years_of_experience  \n",
       "0                   3  \n",
       "1                  16  \n",
       "2                  14  \n",
       "3                   9  \n",
       "4                   1  \n",
       "\n",
       "[5 rows x 22 columns]"
      ]
     },
     "execution_count": 161,
     "metadata": {},
     "output_type": "execute_result"
    }
   ],
   "source": [
    "doctor_dataframe.head()"
   ]
  },
  {
   "cell_type": "code",
   "execution_count": 162,
   "metadata": {},
   "outputs": [
    {
     "data": {
      "text/plain": [
       "(520, 15)"
      ]
     },
     "execution_count": 162,
     "metadata": {},
     "output_type": "execute_result"
    }
   ],
   "source": [
    "# Merging patient_datafram and doctor_datafram to consultation_dataframe\n",
    "patient_consultation = pd.merge(consultation_dataframe[['id', 'consultation_cost', 'patient_body_area', 'patient_status', 'patient_id', 'doctor_id']], \n",
    "                                patient_dataframe[[\"patient_id\", 'community', 'marital_status', 'has_children', 'has_dependent', 'num_of_children', 'num_of_dependents', \"age\", \"gender\"]], on=\"patient_id\", how=\"left\")\n",
    "doctor_patient_consultation = pd.merge(patient_consultation, doctor_dataframe[[\"doctor_id\", \"years_of_experience\"]], on=\"doctor_id\", how=\"left\")\n",
    "doctor_patient_consultation.shape"
   ]
  },
  {
   "cell_type": "code",
   "execution_count": 163,
   "metadata": {},
   "outputs": [
    {
     "data": {
      "text/html": [
       "<div>\n",
       "<style scoped>\n",
       "    .dataframe tbody tr th:only-of-type {\n",
       "        vertical-align: middle;\n",
       "    }\n",
       "\n",
       "    .dataframe tbody tr th {\n",
       "        vertical-align: top;\n",
       "    }\n",
       "\n",
       "    .dataframe thead th {\n",
       "        text-align: right;\n",
       "    }\n",
       "</style>\n",
       "<table border=\"1\" class=\"dataframe\">\n",
       "  <thead>\n",
       "    <tr style=\"text-align: right;\">\n",
       "      <th></th>\n",
       "      <th>id</th>\n",
       "      <th>consultation_cost</th>\n",
       "      <th>patient_body_area</th>\n",
       "      <th>patient_status</th>\n",
       "      <th>patient_id</th>\n",
       "      <th>doctor_id</th>\n",
       "      <th>community</th>\n",
       "      <th>marital_status</th>\n",
       "      <th>has_children</th>\n",
       "      <th>has_dependent</th>\n",
       "      <th>num_of_children</th>\n",
       "      <th>num_of_dependents</th>\n",
       "      <th>age</th>\n",
       "      <th>gender</th>\n",
       "      <th>years_of_experience</th>\n",
       "    </tr>\n",
       "  </thead>\n",
       "  <tbody>\n",
       "    <tr>\n",
       "      <th>0</th>\n",
       "      <td>1</td>\n",
       "      <td>1900</td>\n",
       "      <td>legs</td>\n",
       "      <td>under appointment</td>\n",
       "      <td>100</td>\n",
       "      <td>1</td>\n",
       "      <td>suburban</td>\n",
       "      <td>Divorced</td>\n",
       "      <td>Yes</td>\n",
       "      <td>No</td>\n",
       "      <td>4</td>\n",
       "      <td>3</td>\n",
       "      <td>29</td>\n",
       "      <td>Female</td>\n",
       "      <td>3</td>\n",
       "    </tr>\n",
       "    <tr>\n",
       "      <th>1</th>\n",
       "      <td>2</td>\n",
       "      <td>9100</td>\n",
       "      <td>chest area</td>\n",
       "      <td>new consultation</td>\n",
       "      <td>72</td>\n",
       "      <td>2</td>\n",
       "      <td>rural</td>\n",
       "      <td>Married</td>\n",
       "      <td>No</td>\n",
       "      <td>Yes</td>\n",
       "      <td>3</td>\n",
       "      <td>2</td>\n",
       "      <td>12</td>\n",
       "      <td>Female</td>\n",
       "      <td>16</td>\n",
       "    </tr>\n",
       "    <tr>\n",
       "      <th>2</th>\n",
       "      <td>3</td>\n",
       "      <td>8200</td>\n",
       "      <td>head</td>\n",
       "      <td>new consultation</td>\n",
       "      <td>150</td>\n",
       "      <td>3</td>\n",
       "      <td>rural</td>\n",
       "      <td>Married</td>\n",
       "      <td>Yes</td>\n",
       "      <td>Yes</td>\n",
       "      <td>2</td>\n",
       "      <td>1</td>\n",
       "      <td>35</td>\n",
       "      <td>Male</td>\n",
       "      <td>14</td>\n",
       "    </tr>\n",
       "    <tr>\n",
       "      <th>3</th>\n",
       "      <td>4</td>\n",
       "      <td>5600</td>\n",
       "      <td>back</td>\n",
       "      <td>appointed session</td>\n",
       "      <td>27</td>\n",
       "      <td>4</td>\n",
       "      <td>rural</td>\n",
       "      <td>Married</td>\n",
       "      <td>Yes</td>\n",
       "      <td>No</td>\n",
       "      <td>2</td>\n",
       "      <td>1</td>\n",
       "      <td>25</td>\n",
       "      <td>Female</td>\n",
       "      <td>9</td>\n",
       "    </tr>\n",
       "    <tr>\n",
       "      <th>4</th>\n",
       "      <td>5</td>\n",
       "      <td>1200</td>\n",
       "      <td>stomach</td>\n",
       "      <td>new consultation</td>\n",
       "      <td>191</td>\n",
       "      <td>5</td>\n",
       "      <td>suburban</td>\n",
       "      <td>Single</td>\n",
       "      <td>No</td>\n",
       "      <td>Yes</td>\n",
       "      <td>1</td>\n",
       "      <td>1</td>\n",
       "      <td>39</td>\n",
       "      <td>Female</td>\n",
       "      <td>1</td>\n",
       "    </tr>\n",
       "  </tbody>\n",
       "</table>\n",
       "</div>"
      ],
      "text/plain": [
       "   id  consultation_cost patient_body_area     patient_status  patient_id  \\\n",
       "0   1               1900              legs  under appointment         100   \n",
       "1   2               9100        chest area   new consultation          72   \n",
       "2   3               8200              head   new consultation         150   \n",
       "3   4               5600              back  appointed session          27   \n",
       "4   5               1200           stomach   new consultation         191   \n",
       "\n",
       "   doctor_id community marital_status has_children has_dependent  \\\n",
       "0          1  suburban       Divorced          Yes            No   \n",
       "1          2     rural        Married           No           Yes   \n",
       "2          3     rural        Married          Yes           Yes   \n",
       "3          4     rural        Married          Yes            No   \n",
       "4          5  suburban         Single           No           Yes   \n",
       "\n",
       "   num_of_children  num_of_dependents  age  gender  years_of_experience  \n",
       "0                4                  3   29  Female                    3  \n",
       "1                3                  2   12  Female                   16  \n",
       "2                2                  1   35    Male                   14  \n",
       "3                2                  1   25  Female                    9  \n",
       "4                1                  1   39  Female                    1  "
      ]
     },
     "execution_count": 163,
     "metadata": {},
     "output_type": "execute_result"
    }
   ],
   "source": [
    "doctor_patient_consultation.head()"
   ]
  },
  {
   "attachments": {},
   "cell_type": "markdown",
   "metadata": {},
   "source": [
    "#### The Simulated dataframe"
   ]
  },
  {
   "cell_type": "code",
   "execution_count": 164,
   "metadata": {},
   "outputs": [
    {
     "data": {
      "text/plain": [
       "(520, 13)"
      ]
     },
     "execution_count": 164,
     "metadata": {},
     "output_type": "execute_result"
    }
   ],
   "source": [
    "simulated_dataframe = doctor_patient_consultation.drop([\"doctor_id\", \"patient_id\"], axis=1)\n",
    "\n",
    "# Renaming variables\n",
    "simulated_dataframe=pd.DataFrame({'consult_id':doctor_patient_consultation['id'], 'consult_cost':doctor_patient_consultation['consultation_cost'] , 'patient_anatomy':doctor_patient_consultation['patient_body_area'],\n",
    "                         'patient_consult_status':doctor_patient_consultation['patient_status'], 'patient_community':doctor_patient_consultation['community'], 'patient_marital_status':doctor_patient_consultation['marital_status'], \n",
    "                         'patient_has_children':doctor_patient_consultation['has_children'], 'patient_has_dependent':doctor_patient_consultation['has_dependent'], 'patient_num_of_children':doctor_patient_consultation['num_of_children'], \n",
    "                         'patient_num_of_dependents':doctor_patient_consultation['num_of_dependents'], 'patient_age':doctor_patient_consultation['age'], 'patient_gender':doctor_patient_consultation['gender'], \n",
    "                         'consultant_doctor_experience':doctor_patient_consultation['years_of_experience']})\n",
    "\n",
    "simulated_dataframe.shape"
   ]
  },
  {
   "cell_type": "code",
   "execution_count": 165,
   "metadata": {},
   "outputs": [],
   "source": [
    "# The simulated dataset\n",
    "simulated_dataframe.to_csv('simulated_data.csv', index=False)"
   ]
  },
  {
   "cell_type": "code",
   "execution_count": 166,
   "metadata": {},
   "outputs": [
    {
     "data": {
      "text/plain": [
       "(520, 12)"
      ]
     },
     "execution_count": 166,
     "metadata": {},
     "output_type": "execute_result"
    }
   ],
   "source": [
    "simulated_dataframe=pd.read_csv('simulated_data.csv', index_col='consult_id')\n",
    "simulated_dataframe.shape"
   ]
  },
  {
   "cell_type": "code",
   "execution_count": 167,
   "metadata": {},
   "outputs": [
    {
     "data": {
      "text/html": [
       "<div>\n",
       "<style scoped>\n",
       "    .dataframe tbody tr th:only-of-type {\n",
       "        vertical-align: middle;\n",
       "    }\n",
       "\n",
       "    .dataframe tbody tr th {\n",
       "        vertical-align: top;\n",
       "    }\n",
       "\n",
       "    .dataframe thead th {\n",
       "        text-align: right;\n",
       "    }\n",
       "</style>\n",
       "<table border=\"1\" class=\"dataframe\">\n",
       "  <thead>\n",
       "    <tr style=\"text-align: right;\">\n",
       "      <th></th>\n",
       "      <th>consult_cost</th>\n",
       "      <th>patient_anatomy</th>\n",
       "      <th>patient_consult_status</th>\n",
       "      <th>patient_community</th>\n",
       "      <th>patient_marital_status</th>\n",
       "      <th>patient_has_children</th>\n",
       "      <th>patient_has_dependent</th>\n",
       "      <th>patient_num_of_children</th>\n",
       "      <th>patient_num_of_dependents</th>\n",
       "      <th>patient_age</th>\n",
       "      <th>patient_gender</th>\n",
       "      <th>consultant_doctor_experience</th>\n",
       "    </tr>\n",
       "    <tr>\n",
       "      <th>consult_id</th>\n",
       "      <th></th>\n",
       "      <th></th>\n",
       "      <th></th>\n",
       "      <th></th>\n",
       "      <th></th>\n",
       "      <th></th>\n",
       "      <th></th>\n",
       "      <th></th>\n",
       "      <th></th>\n",
       "      <th></th>\n",
       "      <th></th>\n",
       "      <th></th>\n",
       "    </tr>\n",
       "  </thead>\n",
       "  <tbody>\n",
       "    <tr>\n",
       "      <th>1</th>\n",
       "      <td>1900</td>\n",
       "      <td>legs</td>\n",
       "      <td>under appointment</td>\n",
       "      <td>suburban</td>\n",
       "      <td>Divorced</td>\n",
       "      <td>Yes</td>\n",
       "      <td>No</td>\n",
       "      <td>4</td>\n",
       "      <td>3</td>\n",
       "      <td>29</td>\n",
       "      <td>Female</td>\n",
       "      <td>3</td>\n",
       "    </tr>\n",
       "    <tr>\n",
       "      <th>2</th>\n",
       "      <td>9100</td>\n",
       "      <td>chest area</td>\n",
       "      <td>new consultation</td>\n",
       "      <td>rural</td>\n",
       "      <td>Married</td>\n",
       "      <td>No</td>\n",
       "      <td>Yes</td>\n",
       "      <td>3</td>\n",
       "      <td>2</td>\n",
       "      <td>12</td>\n",
       "      <td>Female</td>\n",
       "      <td>16</td>\n",
       "    </tr>\n",
       "    <tr>\n",
       "      <th>3</th>\n",
       "      <td>8200</td>\n",
       "      <td>head</td>\n",
       "      <td>new consultation</td>\n",
       "      <td>rural</td>\n",
       "      <td>Married</td>\n",
       "      <td>Yes</td>\n",
       "      <td>Yes</td>\n",
       "      <td>2</td>\n",
       "      <td>1</td>\n",
       "      <td>35</td>\n",
       "      <td>Male</td>\n",
       "      <td>14</td>\n",
       "    </tr>\n",
       "    <tr>\n",
       "      <th>4</th>\n",
       "      <td>5600</td>\n",
       "      <td>back</td>\n",
       "      <td>appointed session</td>\n",
       "      <td>rural</td>\n",
       "      <td>Married</td>\n",
       "      <td>Yes</td>\n",
       "      <td>No</td>\n",
       "      <td>2</td>\n",
       "      <td>1</td>\n",
       "      <td>25</td>\n",
       "      <td>Female</td>\n",
       "      <td>9</td>\n",
       "    </tr>\n",
       "    <tr>\n",
       "      <th>5</th>\n",
       "      <td>1200</td>\n",
       "      <td>stomach</td>\n",
       "      <td>new consultation</td>\n",
       "      <td>suburban</td>\n",
       "      <td>Single</td>\n",
       "      <td>No</td>\n",
       "      <td>Yes</td>\n",
       "      <td>1</td>\n",
       "      <td>1</td>\n",
       "      <td>39</td>\n",
       "      <td>Female</td>\n",
       "      <td>1</td>\n",
       "    </tr>\n",
       "  </tbody>\n",
       "</table>\n",
       "</div>"
      ],
      "text/plain": [
       "            consult_cost patient_anatomy patient_consult_status  \\\n",
       "consult_id                                                        \n",
       "1                   1900            legs      under appointment   \n",
       "2                   9100      chest area       new consultation   \n",
       "3                   8200            head       new consultation   \n",
       "4                   5600            back      appointed session   \n",
       "5                   1200         stomach       new consultation   \n",
       "\n",
       "           patient_community patient_marital_status patient_has_children  \\\n",
       "consult_id                                                                 \n",
       "1                   suburban               Divorced                  Yes   \n",
       "2                      rural                Married                   No   \n",
       "3                      rural                Married                  Yes   \n",
       "4                      rural                Married                  Yes   \n",
       "5                   suburban                 Single                   No   \n",
       "\n",
       "           patient_has_dependent  patient_num_of_children  \\\n",
       "consult_id                                                  \n",
       "1                             No                        4   \n",
       "2                            Yes                        3   \n",
       "3                            Yes                        2   \n",
       "4                             No                        2   \n",
       "5                            Yes                        1   \n",
       "\n",
       "            patient_num_of_dependents  patient_age patient_gender  \\\n",
       "consult_id                                                          \n",
       "1                                   3           29         Female   \n",
       "2                                   2           12         Female   \n",
       "3                                   1           35           Male   \n",
       "4                                   1           25         Female   \n",
       "5                                   1           39         Female   \n",
       "\n",
       "            consultant_doctor_experience  \n",
       "consult_id                                \n",
       "1                                      3  \n",
       "2                                     16  \n",
       "3                                     14  \n",
       "4                                      9  \n",
       "5                                      1  "
      ]
     },
     "execution_count": 167,
     "metadata": {},
     "output_type": "execute_result"
    }
   ],
   "source": [
    "simulated_dataframe.head()"
   ]
  },
  {
   "cell_type": "code",
   "execution_count": 168,
   "metadata": {},
   "outputs": [
    {
     "name": "stdout",
     "output_type": "stream",
     "text": [
      "<class 'pandas.core.frame.DataFrame'>\n",
      "Int64Index: 520 entries, 1 to 520\n",
      "Data columns (total 12 columns):\n",
      " #   Column                        Non-Null Count  Dtype \n",
      "---  ------                        --------------  ----- \n",
      " 0   consult_cost                  520 non-null    int64 \n",
      " 1   patient_anatomy               520 non-null    object\n",
      " 2   patient_consult_status        520 non-null    object\n",
      " 3   patient_community             520 non-null    object\n",
      " 4   patient_marital_status        520 non-null    object\n",
      " 5   patient_has_children          520 non-null    object\n",
      " 6   patient_has_dependent         520 non-null    object\n",
      " 7   patient_num_of_children       520 non-null    int64 \n",
      " 8   patient_num_of_dependents     520 non-null    int64 \n",
      " 9   patient_age                   520 non-null    int64 \n",
      " 10  patient_gender                520 non-null    object\n",
      " 11  consultant_doctor_experience  520 non-null    int64 \n",
      "dtypes: int64(5), object(7)\n",
      "memory usage: 52.8+ KB\n"
     ]
    }
   ],
   "source": [
    "simulated_dataframe.info()"
   ]
  },
  {
   "attachments": {},
   "cell_type": "markdown",
   "metadata": {},
   "source": [
    "#### Transform the catagorical features to dummy-variable format"
   ]
  },
  {
   "cell_type": "code",
   "execution_count": 169,
   "metadata": {},
   "outputs": [
    {
     "name": "stdout",
     "output_type": "stream",
     "text": [
      "['legs' 'chest area' 'head' 'back' 'stomach' 'upper chest area' 'shoulder']\n",
      "['under appointment' 'new consultation' 'appointed session' 'admitted']\n",
      "['suburban' 'rural' 'urban']\n",
      "['Divorced' 'Married' 'Single']\n",
      "['Yes' 'No']\n",
      "['No' 'Yes']\n",
      "['Female' 'Male']\n"
     ]
    }
   ],
   "source": [
    "print(simulated_dataframe['patient_anatomy'].unique())\n",
    "print(simulated_dataframe['patient_consult_status'].unique())\n",
    "print(simulated_dataframe['patient_community'].unique())\n",
    "print(simulated_dataframe['patient_marital_status'].unique())\n",
    "print(simulated_dataframe['patient_has_children'].unique())\n",
    "print(simulated_dataframe['patient_has_dependent'].unique())\n",
    "print(simulated_dataframe['patient_gender'].unique())"
   ]
  },
  {
   "cell_type": "code",
   "execution_count": 170,
   "metadata": {},
   "outputs": [],
   "source": [
    "simulated_dataframe = pd.concat([simulated_dataframe, pd.get_dummies(simulated_dataframe['patient_anatomy'], prefix='patient_anatomy', drop_first=True)],axis=1)\n",
    "simulated_dataframe = pd.concat([simulated_dataframe, pd.get_dummies(simulated_dataframe['patient_consult_status'], prefix='patient_consult_status', drop_first=True)],axis=1)\n",
    "simulated_dataframe = pd.concat([simulated_dataframe, pd.get_dummies(simulated_dataframe['patient_community'], prefix='patient_community', drop_first=True)],axis=1)\n",
    "simulated_dataframe = pd.concat([simulated_dataframe, pd.get_dummies(simulated_dataframe['patient_marital_status'], prefix='patient_marital_status', drop_first=True)],axis=1)\n",
    "simulated_dataframe = pd.concat([simulated_dataframe, pd.get_dummies(simulated_dataframe['patient_has_children'], prefix='patient_has_children', drop_first=True)],axis=1)\n",
    "simulated_dataframe = pd.concat([simulated_dataframe, pd.get_dummies(simulated_dataframe['patient_has_dependent'], prefix='patient_has_dependent', drop_first=True)],axis=1)\n",
    "simulated_dataframe = pd.concat([simulated_dataframe, pd.get_dummies(simulated_dataframe['patient_gender'], prefix='patient_gender', drop_first=True)],axis=1)\n",
    "simulated_dataframe.drop(['patient_anatomy','patient_consult_status','patient_community', 'patient_marital_status', 'patient_has_children', 'patient_has_dependent', 'patient_gender' ], axis=1, inplace=True)"
   ]
  },
  {
   "cell_type": "code",
   "execution_count": 171,
   "metadata": {},
   "outputs": [
    {
     "data": {
      "text/html": [
       "<div>\n",
       "<style scoped>\n",
       "    .dataframe tbody tr th:only-of-type {\n",
       "        vertical-align: middle;\n",
       "    }\n",
       "\n",
       "    .dataframe tbody tr th {\n",
       "        vertical-align: top;\n",
       "    }\n",
       "\n",
       "    .dataframe thead th {\n",
       "        text-align: right;\n",
       "    }\n",
       "</style>\n",
       "<table border=\"1\" class=\"dataframe\">\n",
       "  <thead>\n",
       "    <tr style=\"text-align: right;\">\n",
       "      <th></th>\n",
       "      <th>consult_cost</th>\n",
       "      <th>patient_num_of_children</th>\n",
       "      <th>patient_num_of_dependents</th>\n",
       "      <th>patient_age</th>\n",
       "      <th>consultant_doctor_experience</th>\n",
       "      <th>patient_anatomy_chest area</th>\n",
       "      <th>patient_anatomy_head</th>\n",
       "      <th>patient_anatomy_legs</th>\n",
       "      <th>patient_anatomy_shoulder</th>\n",
       "      <th>patient_anatomy_stomach</th>\n",
       "      <th>...</th>\n",
       "      <th>patient_consult_status_appointed session</th>\n",
       "      <th>patient_consult_status_new consultation</th>\n",
       "      <th>patient_consult_status_under appointment</th>\n",
       "      <th>patient_community_suburban</th>\n",
       "      <th>patient_community_urban</th>\n",
       "      <th>patient_marital_status_Married</th>\n",
       "      <th>patient_marital_status_Single</th>\n",
       "      <th>patient_has_children_Yes</th>\n",
       "      <th>patient_has_dependent_Yes</th>\n",
       "      <th>patient_gender_Male</th>\n",
       "    </tr>\n",
       "    <tr>\n",
       "      <th>consult_id</th>\n",
       "      <th></th>\n",
       "      <th></th>\n",
       "      <th></th>\n",
       "      <th></th>\n",
       "      <th></th>\n",
       "      <th></th>\n",
       "      <th></th>\n",
       "      <th></th>\n",
       "      <th></th>\n",
       "      <th></th>\n",
       "      <th></th>\n",
       "      <th></th>\n",
       "      <th></th>\n",
       "      <th></th>\n",
       "      <th></th>\n",
       "      <th></th>\n",
       "      <th></th>\n",
       "      <th></th>\n",
       "      <th></th>\n",
       "      <th></th>\n",
       "      <th></th>\n",
       "    </tr>\n",
       "  </thead>\n",
       "  <tbody>\n",
       "    <tr>\n",
       "      <th>1</th>\n",
       "      <td>1900</td>\n",
       "      <td>4</td>\n",
       "      <td>3</td>\n",
       "      <td>29</td>\n",
       "      <td>3</td>\n",
       "      <td>0</td>\n",
       "      <td>0</td>\n",
       "      <td>1</td>\n",
       "      <td>0</td>\n",
       "      <td>0</td>\n",
       "      <td>...</td>\n",
       "      <td>0</td>\n",
       "      <td>0</td>\n",
       "      <td>1</td>\n",
       "      <td>1</td>\n",
       "      <td>0</td>\n",
       "      <td>0</td>\n",
       "      <td>0</td>\n",
       "      <td>1</td>\n",
       "      <td>0</td>\n",
       "      <td>0</td>\n",
       "    </tr>\n",
       "    <tr>\n",
       "      <th>2</th>\n",
       "      <td>9100</td>\n",
       "      <td>3</td>\n",
       "      <td>2</td>\n",
       "      <td>12</td>\n",
       "      <td>16</td>\n",
       "      <td>1</td>\n",
       "      <td>0</td>\n",
       "      <td>0</td>\n",
       "      <td>0</td>\n",
       "      <td>0</td>\n",
       "      <td>...</td>\n",
       "      <td>0</td>\n",
       "      <td>1</td>\n",
       "      <td>0</td>\n",
       "      <td>0</td>\n",
       "      <td>0</td>\n",
       "      <td>1</td>\n",
       "      <td>0</td>\n",
       "      <td>0</td>\n",
       "      <td>1</td>\n",
       "      <td>0</td>\n",
       "    </tr>\n",
       "    <tr>\n",
       "      <th>3</th>\n",
       "      <td>8200</td>\n",
       "      <td>2</td>\n",
       "      <td>1</td>\n",
       "      <td>35</td>\n",
       "      <td>14</td>\n",
       "      <td>0</td>\n",
       "      <td>1</td>\n",
       "      <td>0</td>\n",
       "      <td>0</td>\n",
       "      <td>0</td>\n",
       "      <td>...</td>\n",
       "      <td>0</td>\n",
       "      <td>1</td>\n",
       "      <td>0</td>\n",
       "      <td>0</td>\n",
       "      <td>0</td>\n",
       "      <td>1</td>\n",
       "      <td>0</td>\n",
       "      <td>1</td>\n",
       "      <td>1</td>\n",
       "      <td>1</td>\n",
       "    </tr>\n",
       "    <tr>\n",
       "      <th>4</th>\n",
       "      <td>5600</td>\n",
       "      <td>2</td>\n",
       "      <td>1</td>\n",
       "      <td>25</td>\n",
       "      <td>9</td>\n",
       "      <td>0</td>\n",
       "      <td>0</td>\n",
       "      <td>0</td>\n",
       "      <td>0</td>\n",
       "      <td>0</td>\n",
       "      <td>...</td>\n",
       "      <td>1</td>\n",
       "      <td>0</td>\n",
       "      <td>0</td>\n",
       "      <td>0</td>\n",
       "      <td>0</td>\n",
       "      <td>1</td>\n",
       "      <td>0</td>\n",
       "      <td>1</td>\n",
       "      <td>0</td>\n",
       "      <td>0</td>\n",
       "    </tr>\n",
       "    <tr>\n",
       "      <th>5</th>\n",
       "      <td>1200</td>\n",
       "      <td>1</td>\n",
       "      <td>1</td>\n",
       "      <td>39</td>\n",
       "      <td>1</td>\n",
       "      <td>0</td>\n",
       "      <td>0</td>\n",
       "      <td>0</td>\n",
       "      <td>0</td>\n",
       "      <td>1</td>\n",
       "      <td>...</td>\n",
       "      <td>0</td>\n",
       "      <td>1</td>\n",
       "      <td>0</td>\n",
       "      <td>1</td>\n",
       "      <td>0</td>\n",
       "      <td>0</td>\n",
       "      <td>1</td>\n",
       "      <td>0</td>\n",
       "      <td>1</td>\n",
       "      <td>0</td>\n",
       "    </tr>\n",
       "  </tbody>\n",
       "</table>\n",
       "<p>5 rows × 21 columns</p>\n",
       "</div>"
      ],
      "text/plain": [
       "            consult_cost  patient_num_of_children  patient_num_of_dependents  \\\n",
       "consult_id                                                                     \n",
       "1                   1900                        4                          3   \n",
       "2                   9100                        3                          2   \n",
       "3                   8200                        2                          1   \n",
       "4                   5600                        2                          1   \n",
       "5                   1200                        1                          1   \n",
       "\n",
       "            patient_age  consultant_doctor_experience  \\\n",
       "consult_id                                              \n",
       "1                    29                             3   \n",
       "2                    12                            16   \n",
       "3                    35                            14   \n",
       "4                    25                             9   \n",
       "5                    39                             1   \n",
       "\n",
       "            patient_anatomy_chest area  patient_anatomy_head  \\\n",
       "consult_id                                                     \n",
       "1                                    0                     0   \n",
       "2                                    1                     0   \n",
       "3                                    0                     1   \n",
       "4                                    0                     0   \n",
       "5                                    0                     0   \n",
       "\n",
       "            patient_anatomy_legs  patient_anatomy_shoulder  \\\n",
       "consult_id                                                   \n",
       "1                              1                         0   \n",
       "2                              0                         0   \n",
       "3                              0                         0   \n",
       "4                              0                         0   \n",
       "5                              0                         0   \n",
       "\n",
       "            patient_anatomy_stomach  ...  \\\n",
       "consult_id                           ...   \n",
       "1                                 0  ...   \n",
       "2                                 0  ...   \n",
       "3                                 0  ...   \n",
       "4                                 0  ...   \n",
       "5                                 1  ...   \n",
       "\n",
       "            patient_consult_status_appointed session  \\\n",
       "consult_id                                             \n",
       "1                                                  0   \n",
       "2                                                  0   \n",
       "3                                                  0   \n",
       "4                                                  1   \n",
       "5                                                  0   \n",
       "\n",
       "            patient_consult_status_new consultation  \\\n",
       "consult_id                                            \n",
       "1                                                 0   \n",
       "2                                                 1   \n",
       "3                                                 1   \n",
       "4                                                 0   \n",
       "5                                                 1   \n",
       "\n",
       "            patient_consult_status_under appointment  \\\n",
       "consult_id                                             \n",
       "1                                                  1   \n",
       "2                                                  0   \n",
       "3                                                  0   \n",
       "4                                                  0   \n",
       "5                                                  0   \n",
       "\n",
       "            patient_community_suburban  patient_community_urban  \\\n",
       "consult_id                                                        \n",
       "1                                    1                        0   \n",
       "2                                    0                        0   \n",
       "3                                    0                        0   \n",
       "4                                    0                        0   \n",
       "5                                    1                        0   \n",
       "\n",
       "            patient_marital_status_Married  patient_marital_status_Single  \\\n",
       "consult_id                                                                  \n",
       "1                                        0                              0   \n",
       "2                                        1                              0   \n",
       "3                                        1                              0   \n",
       "4                                        1                              0   \n",
       "5                                        0                              1   \n",
       "\n",
       "            patient_has_children_Yes  patient_has_dependent_Yes  \\\n",
       "consult_id                                                        \n",
       "1                                  1                          0   \n",
       "2                                  0                          1   \n",
       "3                                  1                          1   \n",
       "4                                  1                          0   \n",
       "5                                  0                          1   \n",
       "\n",
       "            patient_gender_Male  \n",
       "consult_id                       \n",
       "1                             0  \n",
       "2                             0  \n",
       "3                             1  \n",
       "4                             0  \n",
       "5                             0  \n",
       "\n",
       "[5 rows x 21 columns]"
      ]
     },
     "execution_count": 171,
     "metadata": {},
     "output_type": "execute_result"
    }
   ],
   "source": [
    "simulated_dataframe.head()"
   ]
  },
  {
   "cell_type": "code",
   "execution_count": 172,
   "metadata": {},
   "outputs": [
    {
     "data": {
      "text/plain": [
       "(520, 21)"
      ]
     },
     "execution_count": 172,
     "metadata": {},
     "output_type": "execute_result"
    }
   ],
   "source": [
    "simulated_dataframe.shape"
   ]
  },
  {
   "attachments": {},
   "cell_type": "markdown",
   "metadata": {},
   "source": [
    "#### Describe or summarize "
   ]
  },
  {
   "cell_type": "code",
   "execution_count": 173,
   "metadata": {},
   "outputs": [
    {
     "data": {
      "text/html": [
       "<div>\n",
       "<style scoped>\n",
       "    .dataframe tbody tr th:only-of-type {\n",
       "        vertical-align: middle;\n",
       "    }\n",
       "\n",
       "    .dataframe tbody tr th {\n",
       "        vertical-align: top;\n",
       "    }\n",
       "\n",
       "    .dataframe thead th {\n",
       "        text-align: right;\n",
       "    }\n",
       "</style>\n",
       "<table border=\"1\" class=\"dataframe\">\n",
       "  <thead>\n",
       "    <tr style=\"text-align: right;\">\n",
       "      <th></th>\n",
       "      <th>consult_cost</th>\n",
       "      <th>patient_num_of_children</th>\n",
       "      <th>patient_num_of_dependents</th>\n",
       "      <th>patient_age</th>\n",
       "      <th>consultant_doctor_experience</th>\n",
       "      <th>patient_anatomy_chest area</th>\n",
       "      <th>patient_anatomy_head</th>\n",
       "      <th>patient_anatomy_legs</th>\n",
       "      <th>patient_anatomy_shoulder</th>\n",
       "      <th>patient_anatomy_stomach</th>\n",
       "      <th>...</th>\n",
       "      <th>patient_consult_status_appointed session</th>\n",
       "      <th>patient_consult_status_new consultation</th>\n",
       "      <th>patient_consult_status_under appointment</th>\n",
       "      <th>patient_community_suburban</th>\n",
       "      <th>patient_community_urban</th>\n",
       "      <th>patient_marital_status_Married</th>\n",
       "      <th>patient_marital_status_Single</th>\n",
       "      <th>patient_has_children_Yes</th>\n",
       "      <th>patient_has_dependent_Yes</th>\n",
       "      <th>patient_gender_Male</th>\n",
       "    </tr>\n",
       "  </thead>\n",
       "  <tbody>\n",
       "    <tr>\n",
       "      <th>count</th>\n",
       "      <td>520.000000</td>\n",
       "      <td>520.000000</td>\n",
       "      <td>520.000000</td>\n",
       "      <td>520.000000</td>\n",
       "      <td>520.000000</td>\n",
       "      <td>520.000000</td>\n",
       "      <td>520.000000</td>\n",
       "      <td>520.000000</td>\n",
       "      <td>520.000000</td>\n",
       "      <td>520.000000</td>\n",
       "      <td>...</td>\n",
       "      <td>520.000000</td>\n",
       "      <td>520.000000</td>\n",
       "      <td>520.000000</td>\n",
       "      <td>520.000000</td>\n",
       "      <td>520.000000</td>\n",
       "      <td>520.000000</td>\n",
       "      <td>520.000000</td>\n",
       "      <td>520.000000</td>\n",
       "      <td>520.000000</td>\n",
       "      <td>520.000000</td>\n",
       "    </tr>\n",
       "    <tr>\n",
       "      <th>mean</th>\n",
       "      <td>5439.807692</td>\n",
       "      <td>1.984615</td>\n",
       "      <td>1.988462</td>\n",
       "      <td>24.900000</td>\n",
       "      <td>8.965385</td>\n",
       "      <td>0.090385</td>\n",
       "      <td>0.171154</td>\n",
       "      <td>0.119231</td>\n",
       "      <td>0.098077</td>\n",
       "      <td>0.209615</td>\n",
       "      <td>...</td>\n",
       "      <td>0.169231</td>\n",
       "      <td>0.434615</td>\n",
       "      <td>0.198077</td>\n",
       "      <td>0.357692</td>\n",
       "      <td>0.317308</td>\n",
       "      <td>0.359615</td>\n",
       "      <td>0.267308</td>\n",
       "      <td>0.505769</td>\n",
       "      <td>0.517308</td>\n",
       "      <td>0.500000</td>\n",
       "    </tr>\n",
       "    <tr>\n",
       "      <th>std</th>\n",
       "      <td>2814.354199</td>\n",
       "      <td>1.267556</td>\n",
       "      <td>1.325553</td>\n",
       "      <td>8.704837</td>\n",
       "      <td>5.089446</td>\n",
       "      <td>0.287008</td>\n",
       "      <td>0.377006</td>\n",
       "      <td>0.324372</td>\n",
       "      <td>0.297705</td>\n",
       "      <td>0.407426</td>\n",
       "      <td>...</td>\n",
       "      <td>0.375317</td>\n",
       "      <td>0.496184</td>\n",
       "      <td>0.398934</td>\n",
       "      <td>0.479782</td>\n",
       "      <td>0.465876</td>\n",
       "      <td>0.480350</td>\n",
       "      <td>0.442980</td>\n",
       "      <td>0.500448</td>\n",
       "      <td>0.500182</td>\n",
       "      <td>0.500481</td>\n",
       "    </tr>\n",
       "    <tr>\n",
       "      <th>min</th>\n",
       "      <td>1100.000000</td>\n",
       "      <td>0.000000</td>\n",
       "      <td>0.000000</td>\n",
       "      <td>10.000000</td>\n",
       "      <td>1.000000</td>\n",
       "      <td>0.000000</td>\n",
       "      <td>0.000000</td>\n",
       "      <td>0.000000</td>\n",
       "      <td>0.000000</td>\n",
       "      <td>0.000000</td>\n",
       "      <td>...</td>\n",
       "      <td>0.000000</td>\n",
       "      <td>0.000000</td>\n",
       "      <td>0.000000</td>\n",
       "      <td>0.000000</td>\n",
       "      <td>0.000000</td>\n",
       "      <td>0.000000</td>\n",
       "      <td>0.000000</td>\n",
       "      <td>0.000000</td>\n",
       "      <td>0.000000</td>\n",
       "      <td>0.000000</td>\n",
       "    </tr>\n",
       "    <tr>\n",
       "      <th>25%</th>\n",
       "      <td>2900.000000</td>\n",
       "      <td>1.000000</td>\n",
       "      <td>1.000000</td>\n",
       "      <td>17.000000</td>\n",
       "      <td>4.000000</td>\n",
       "      <td>0.000000</td>\n",
       "      <td>0.000000</td>\n",
       "      <td>0.000000</td>\n",
       "      <td>0.000000</td>\n",
       "      <td>0.000000</td>\n",
       "      <td>...</td>\n",
       "      <td>0.000000</td>\n",
       "      <td>0.000000</td>\n",
       "      <td>0.000000</td>\n",
       "      <td>0.000000</td>\n",
       "      <td>0.000000</td>\n",
       "      <td>0.000000</td>\n",
       "      <td>0.000000</td>\n",
       "      <td>0.000000</td>\n",
       "      <td>0.000000</td>\n",
       "      <td>0.000000</td>\n",
       "    </tr>\n",
       "    <tr>\n",
       "      <th>50%</th>\n",
       "      <td>5350.000000</td>\n",
       "      <td>2.000000</td>\n",
       "      <td>2.000000</td>\n",
       "      <td>24.500000</td>\n",
       "      <td>8.000000</td>\n",
       "      <td>0.000000</td>\n",
       "      <td>0.000000</td>\n",
       "      <td>0.000000</td>\n",
       "      <td>0.000000</td>\n",
       "      <td>0.000000</td>\n",
       "      <td>...</td>\n",
       "      <td>0.000000</td>\n",
       "      <td>0.000000</td>\n",
       "      <td>0.000000</td>\n",
       "      <td>0.000000</td>\n",
       "      <td>0.000000</td>\n",
       "      <td>0.000000</td>\n",
       "      <td>0.000000</td>\n",
       "      <td>1.000000</td>\n",
       "      <td>1.000000</td>\n",
       "      <td>0.500000</td>\n",
       "    </tr>\n",
       "    <tr>\n",
       "      <th>75%</th>\n",
       "      <td>8000.000000</td>\n",
       "      <td>3.000000</td>\n",
       "      <td>3.000000</td>\n",
       "      <td>32.000000</td>\n",
       "      <td>14.000000</td>\n",
       "      <td>0.000000</td>\n",
       "      <td>0.000000</td>\n",
       "      <td>0.000000</td>\n",
       "      <td>0.000000</td>\n",
       "      <td>0.000000</td>\n",
       "      <td>...</td>\n",
       "      <td>0.000000</td>\n",
       "      <td>1.000000</td>\n",
       "      <td>0.000000</td>\n",
       "      <td>1.000000</td>\n",
       "      <td>1.000000</td>\n",
       "      <td>1.000000</td>\n",
       "      <td>1.000000</td>\n",
       "      <td>1.000000</td>\n",
       "      <td>1.000000</td>\n",
       "      <td>1.000000</td>\n",
       "    </tr>\n",
       "    <tr>\n",
       "      <th>max</th>\n",
       "      <td>10700.000000</td>\n",
       "      <td>4.000000</td>\n",
       "      <td>4.000000</td>\n",
       "      <td>40.000000</td>\n",
       "      <td>18.000000</td>\n",
       "      <td>1.000000</td>\n",
       "      <td>1.000000</td>\n",
       "      <td>1.000000</td>\n",
       "      <td>1.000000</td>\n",
       "      <td>1.000000</td>\n",
       "      <td>...</td>\n",
       "      <td>1.000000</td>\n",
       "      <td>1.000000</td>\n",
       "      <td>1.000000</td>\n",
       "      <td>1.000000</td>\n",
       "      <td>1.000000</td>\n",
       "      <td>1.000000</td>\n",
       "      <td>1.000000</td>\n",
       "      <td>1.000000</td>\n",
       "      <td>1.000000</td>\n",
       "      <td>1.000000</td>\n",
       "    </tr>\n",
       "  </tbody>\n",
       "</table>\n",
       "<p>8 rows × 21 columns</p>\n",
       "</div>"
      ],
      "text/plain": [
       "       consult_cost  patient_num_of_children  patient_num_of_dependents  \\\n",
       "count    520.000000               520.000000                 520.000000   \n",
       "mean    5439.807692                 1.984615                   1.988462   \n",
       "std     2814.354199                 1.267556                   1.325553   \n",
       "min     1100.000000                 0.000000                   0.000000   \n",
       "25%     2900.000000                 1.000000                   1.000000   \n",
       "50%     5350.000000                 2.000000                   2.000000   \n",
       "75%     8000.000000                 3.000000                   3.000000   \n",
       "max    10700.000000                 4.000000                   4.000000   \n",
       "\n",
       "       patient_age  consultant_doctor_experience  patient_anatomy_chest area  \\\n",
       "count   520.000000                    520.000000                  520.000000   \n",
       "mean     24.900000                      8.965385                    0.090385   \n",
       "std       8.704837                      5.089446                    0.287008   \n",
       "min      10.000000                      1.000000                    0.000000   \n",
       "25%      17.000000                      4.000000                    0.000000   \n",
       "50%      24.500000                      8.000000                    0.000000   \n",
       "75%      32.000000                     14.000000                    0.000000   \n",
       "max      40.000000                     18.000000                    1.000000   \n",
       "\n",
       "       patient_anatomy_head  patient_anatomy_legs  patient_anatomy_shoulder  \\\n",
       "count            520.000000            520.000000                520.000000   \n",
       "mean               0.171154              0.119231                  0.098077   \n",
       "std                0.377006              0.324372                  0.297705   \n",
       "min                0.000000              0.000000                  0.000000   \n",
       "25%                0.000000              0.000000                  0.000000   \n",
       "50%                0.000000              0.000000                  0.000000   \n",
       "75%                0.000000              0.000000                  0.000000   \n",
       "max                1.000000              1.000000                  1.000000   \n",
       "\n",
       "       patient_anatomy_stomach  ...  patient_consult_status_appointed session  \\\n",
       "count               520.000000  ...                                520.000000   \n",
       "mean                  0.209615  ...                                  0.169231   \n",
       "std                   0.407426  ...                                  0.375317   \n",
       "min                   0.000000  ...                                  0.000000   \n",
       "25%                   0.000000  ...                                  0.000000   \n",
       "50%                   0.000000  ...                                  0.000000   \n",
       "75%                   0.000000  ...                                  0.000000   \n",
       "max                   1.000000  ...                                  1.000000   \n",
       "\n",
       "       patient_consult_status_new consultation  \\\n",
       "count                               520.000000   \n",
       "mean                                  0.434615   \n",
       "std                                   0.496184   \n",
       "min                                   0.000000   \n",
       "25%                                   0.000000   \n",
       "50%                                   0.000000   \n",
       "75%                                   1.000000   \n",
       "max                                   1.000000   \n",
       "\n",
       "       patient_consult_status_under appointment  patient_community_suburban  \\\n",
       "count                                520.000000                  520.000000   \n",
       "mean                                   0.198077                    0.357692   \n",
       "std                                    0.398934                    0.479782   \n",
       "min                                    0.000000                    0.000000   \n",
       "25%                                    0.000000                    0.000000   \n",
       "50%                                    0.000000                    0.000000   \n",
       "75%                                    0.000000                    1.000000   \n",
       "max                                    1.000000                    1.000000   \n",
       "\n",
       "       patient_community_urban  patient_marital_status_Married  \\\n",
       "count               520.000000                      520.000000   \n",
       "mean                  0.317308                        0.359615   \n",
       "std                   0.465876                        0.480350   \n",
       "min                   0.000000                        0.000000   \n",
       "25%                   0.000000                        0.000000   \n",
       "50%                   0.000000                        0.000000   \n",
       "75%                   1.000000                        1.000000   \n",
       "max                   1.000000                        1.000000   \n",
       "\n",
       "       patient_marital_status_Single  patient_has_children_Yes  \\\n",
       "count                     520.000000                520.000000   \n",
       "mean                        0.267308                  0.505769   \n",
       "std                         0.442980                  0.500448   \n",
       "min                         0.000000                  0.000000   \n",
       "25%                         0.000000                  0.000000   \n",
       "50%                         0.000000                  1.000000   \n",
       "75%                         1.000000                  1.000000   \n",
       "max                         1.000000                  1.000000   \n",
       "\n",
       "       patient_has_dependent_Yes  patient_gender_Male  \n",
       "count                 520.000000           520.000000  \n",
       "mean                    0.517308             0.500000  \n",
       "std                     0.500182             0.500481  \n",
       "min                     0.000000             0.000000  \n",
       "25%                     0.000000             0.000000  \n",
       "50%                     1.000000             0.500000  \n",
       "75%                     1.000000             1.000000  \n",
       "max                     1.000000             1.000000  \n",
       "\n",
       "[8 rows x 21 columns]"
      ]
     },
     "execution_count": 173,
     "metadata": {},
     "output_type": "execute_result"
    }
   ],
   "source": [
    "simulated_dataframe.describe()"
   ]
  },
  {
   "cell_type": "code",
   "execution_count": 174,
   "metadata": {},
   "outputs": [
    {
     "data": {
      "application/vnd.plotly.v1+json": {
       "config": {
        "plotlyServerURL": "https://plot.ly"
       },
       "data": [
        {
         "alignmentgroup": "True",
         "bingroup": "x",
         "hovertemplate": "consult_cost=%{x}<br>count=%{y}<extra></extra>",
         "legendgroup": "",
         "marker": {
          "color": "#636efa",
          "pattern": {
           "shape": ""
          }
         },
         "name": "",
         "offsetgroup": "",
         "orientation": "v",
         "showlegend": false,
         "type": "histogram",
         "x": [
          1900,
          9100,
          8200,
          5600,
          1200,
          2800,
          7300,
          3300,
          6000,
          4700,
          1200,
          8400,
          7300,
          5400,
          9400,
          9400,
          5200,
          7700,
          4400,
          8900,
          3300,
          1800,
          1200,
          8400,
          1700,
          9100,
          1100,
          7300,
          8900,
          8200,
          5900,
          6800,
          2500,
          6400,
          8300,
          1700,
          3300,
          5600,
          2100,
          7900,
          3300,
          3800,
          9300,
          3500,
          2500,
          7800,
          3400,
          2600,
          7700,
          10500,
          8300,
          3000,
          1300,
          7600,
          8900,
          4000,
          1400,
          4000,
          8900,
          1300,
          1500,
          5300,
          9300,
          1300,
          3300,
          7200,
          4100,
          4700,
          6600,
          1800,
          9200,
          7000,
          9900,
          5300,
          2100,
          5200,
          8300,
          6900,
          4000,
          7600,
          6800,
          9300,
          9300,
          4700,
          5200,
          3300,
          3300,
          4200,
          9600,
          1900,
          6600,
          7700,
          4500,
          8000,
          8200,
          9900,
          8400,
          6900,
          4500,
          5200,
          10500,
          4700,
          3800,
          1100,
          9700,
          7800,
          7200,
          8300,
          4100,
          2900,
          2200,
          5400,
          4600,
          9600,
          5900,
          8300,
          4000,
          3300,
          5600,
          2200,
          2200,
          8400,
          5400,
          1200,
          8700,
          6600,
          2000,
          9900,
          10200,
          9600,
          9100,
          2500,
          1800,
          3800,
          8200,
          3500,
          6800,
          8700,
          2400,
          6900,
          1400,
          9900,
          5700,
          5300,
          1100,
          1400,
          1300,
          1200,
          1400,
          3000,
          1300,
          1100,
          7300,
          2100,
          7900,
          5900,
          2100,
          2200,
          6300,
          6400,
          6400,
          1500,
          6300,
          1400,
          8400,
          1400,
          1700,
          5300,
          7400,
          8400,
          8700,
          4100,
          4500,
          8300,
          2600,
          2400,
          9300,
          4000,
          6200,
          4800,
          1400,
          6800,
          7200,
          5300,
          7200,
          6400,
          7900,
          7300,
          8800,
          1300,
          5300,
          10200,
          1500,
          5300,
          8800,
          2500,
          3300,
          5200,
          4900,
          2000,
          9300,
          8400,
          6000,
          1100,
          2700,
          7200,
          3500,
          6000,
          4900,
          1400,
          8200,
          7400,
          5200,
          9100,
          9400,
          5300,
          7800,
          5000,
          8700,
          3500,
          1700,
          1300,
          8300,
          2100,
          9400,
          1200,
          7300,
          8800,
          8200,
          5900,
          6900,
          2400,
          6300,
          8400,
          2200,
          3300,
          5900,
          1800,
          7900,
          3500,
          4200,
          9100,
          3400,
          2700,
          7700,
          3400,
          2500,
          7800,
          10200,
          8300,
          2700,
          1300,
          7700,
          8600,
          3800,
          1500,
          4200,
          8700,
          1100,
          1300,
          5300,
          9400,
          1400,
          3400,
          7200,
          4200,
          4900,
          6200,
          2200,
          9100,
          6800,
          9600,
          5200,
          1900,
          5400,
          8200,
          6800,
          4000,
          7900,
          6800,
          9200,
          9400,
          4800,
          5200,
          3500,
          3300,
          4100,
          9600,
          1700,
          6300,
          8000,
          4500,
          7600,
          8200,
          9600,
          8400,
          6800,
          4500,
          5400,
          10500,
          5000,
          3900,
          1300,
          9600,
          8000,
          7300,
          8300,
          3900,
          2900,
          1700,
          5200,
          4500,
          9900,
          5600,
          8400,
          4200,
          3500,
          5800,
          2000,
          2100,
          8300,
          5300,
          1200,
          8800,
          6300,
          1700,
          9800,
          10300,
          9800,
          9100,
          2400,
          2100,
          4100,
          8400,
          3300,
          7000,
          8800,
          2900,
          6800,
          1300,
          9800,
          5700,
          5400,
          1400,
          1400,
          1100,
          1500,
          1500,
          3000,
          1400,
          1300,
          7200,
          1700,
          8000,
          6000,
          2100,
          1900,
          6400,
          6400,
          6600,
          1100,
          6600,
          1400,
          8200,
          1400,
          2100,
          5400,
          7300,
          8200,
          8800,
          4200,
          5000,
          8400,
          3000,
          2800,
          9400,
          4200,
          6400,
          4900,
          1300,
          6800,
          7300,
          5300,
          7300,
          6300,
          7600,
          7200,
          8600,
          1500,
          5400,
          10200,
          1500,
          5300,
          8800,
          2700,
          3300,
          5400,
          4800,
          1300,
          1200,
          8200,
          4400,
          8400,
          2500,
          8000,
          9900,
          1400,
          1200,
          7400,
          1500,
          4500,
          2900,
          1800,
          9300,
          8300,
          5800,
          1300,
          3000,
          7300,
          3400,
          5800,
          4800,
          1300,
          8400,
          7200,
          5200,
          9300,
          9100,
          5400,
          8000,
          5000,
          8900,
          3400,
          1700,
          1500,
          8400,
          2200,
          9400,
          1100,
          7200,
          8600,
          8400,
          5700,
          6800,
          2400,
          6300,
          8300,
          1700,
          3300,
          5800,
          1700,
          7700,
          3500,
          4100,
          9200,
          3300,
          2400,
          7700,
          3400,
          2400,
          7700,
          10700,
          8200,
          2600,
          1300,
          7900,
          8900,
          4000,
          1500,
          3800,
          8600,
          1400,
          1300,
          5300,
          9300,
          1200,
          3500,
          7400,
          3800,
          4400,
          6600,
          2100,
          9200,
          7000,
          9800,
          5200,
          2100,
          5300,
          8200,
          7000,
          4200,
          7600,
          7000,
          9200,
          9100,
          4700,
          5200,
          3500,
          3400,
          4000,
          9800,
          1700,
          6400,
          8000,
          4900,
          7600,
          8200,
          9800,
          8300,
          6900,
          5000,
          5300,
          10400,
          4600,
          4200,
          1200,
          9700,
          7900,
          7400,
          8400
         ],
         "xaxis": "x",
         "yaxis": "y"
        },
        {
         "alignmentgroup": "True",
         "hovertemplate": "consult_cost=%{x}<extra></extra>",
         "legendgroup": "",
         "marker": {
          "color": "#636efa"
         },
         "name": "",
         "notched": true,
         "offsetgroup": "",
         "showlegend": false,
         "type": "box",
         "x": [
          1900,
          9100,
          8200,
          5600,
          1200,
          2800,
          7300,
          3300,
          6000,
          4700,
          1200,
          8400,
          7300,
          5400,
          9400,
          9400,
          5200,
          7700,
          4400,
          8900,
          3300,
          1800,
          1200,
          8400,
          1700,
          9100,
          1100,
          7300,
          8900,
          8200,
          5900,
          6800,
          2500,
          6400,
          8300,
          1700,
          3300,
          5600,
          2100,
          7900,
          3300,
          3800,
          9300,
          3500,
          2500,
          7800,
          3400,
          2600,
          7700,
          10500,
          8300,
          3000,
          1300,
          7600,
          8900,
          4000,
          1400,
          4000,
          8900,
          1300,
          1500,
          5300,
          9300,
          1300,
          3300,
          7200,
          4100,
          4700,
          6600,
          1800,
          9200,
          7000,
          9900,
          5300,
          2100,
          5200,
          8300,
          6900,
          4000,
          7600,
          6800,
          9300,
          9300,
          4700,
          5200,
          3300,
          3300,
          4200,
          9600,
          1900,
          6600,
          7700,
          4500,
          8000,
          8200,
          9900,
          8400,
          6900,
          4500,
          5200,
          10500,
          4700,
          3800,
          1100,
          9700,
          7800,
          7200,
          8300,
          4100,
          2900,
          2200,
          5400,
          4600,
          9600,
          5900,
          8300,
          4000,
          3300,
          5600,
          2200,
          2200,
          8400,
          5400,
          1200,
          8700,
          6600,
          2000,
          9900,
          10200,
          9600,
          9100,
          2500,
          1800,
          3800,
          8200,
          3500,
          6800,
          8700,
          2400,
          6900,
          1400,
          9900,
          5700,
          5300,
          1100,
          1400,
          1300,
          1200,
          1400,
          3000,
          1300,
          1100,
          7300,
          2100,
          7900,
          5900,
          2100,
          2200,
          6300,
          6400,
          6400,
          1500,
          6300,
          1400,
          8400,
          1400,
          1700,
          5300,
          7400,
          8400,
          8700,
          4100,
          4500,
          8300,
          2600,
          2400,
          9300,
          4000,
          6200,
          4800,
          1400,
          6800,
          7200,
          5300,
          7200,
          6400,
          7900,
          7300,
          8800,
          1300,
          5300,
          10200,
          1500,
          5300,
          8800,
          2500,
          3300,
          5200,
          4900,
          2000,
          9300,
          8400,
          6000,
          1100,
          2700,
          7200,
          3500,
          6000,
          4900,
          1400,
          8200,
          7400,
          5200,
          9100,
          9400,
          5300,
          7800,
          5000,
          8700,
          3500,
          1700,
          1300,
          8300,
          2100,
          9400,
          1200,
          7300,
          8800,
          8200,
          5900,
          6900,
          2400,
          6300,
          8400,
          2200,
          3300,
          5900,
          1800,
          7900,
          3500,
          4200,
          9100,
          3400,
          2700,
          7700,
          3400,
          2500,
          7800,
          10200,
          8300,
          2700,
          1300,
          7700,
          8600,
          3800,
          1500,
          4200,
          8700,
          1100,
          1300,
          5300,
          9400,
          1400,
          3400,
          7200,
          4200,
          4900,
          6200,
          2200,
          9100,
          6800,
          9600,
          5200,
          1900,
          5400,
          8200,
          6800,
          4000,
          7900,
          6800,
          9200,
          9400,
          4800,
          5200,
          3500,
          3300,
          4100,
          9600,
          1700,
          6300,
          8000,
          4500,
          7600,
          8200,
          9600,
          8400,
          6800,
          4500,
          5400,
          10500,
          5000,
          3900,
          1300,
          9600,
          8000,
          7300,
          8300,
          3900,
          2900,
          1700,
          5200,
          4500,
          9900,
          5600,
          8400,
          4200,
          3500,
          5800,
          2000,
          2100,
          8300,
          5300,
          1200,
          8800,
          6300,
          1700,
          9800,
          10300,
          9800,
          9100,
          2400,
          2100,
          4100,
          8400,
          3300,
          7000,
          8800,
          2900,
          6800,
          1300,
          9800,
          5700,
          5400,
          1400,
          1400,
          1100,
          1500,
          1500,
          3000,
          1400,
          1300,
          7200,
          1700,
          8000,
          6000,
          2100,
          1900,
          6400,
          6400,
          6600,
          1100,
          6600,
          1400,
          8200,
          1400,
          2100,
          5400,
          7300,
          8200,
          8800,
          4200,
          5000,
          8400,
          3000,
          2800,
          9400,
          4200,
          6400,
          4900,
          1300,
          6800,
          7300,
          5300,
          7300,
          6300,
          7600,
          7200,
          8600,
          1500,
          5400,
          10200,
          1500,
          5300,
          8800,
          2700,
          3300,
          5400,
          4800,
          1300,
          1200,
          8200,
          4400,
          8400,
          2500,
          8000,
          9900,
          1400,
          1200,
          7400,
          1500,
          4500,
          2900,
          1800,
          9300,
          8300,
          5800,
          1300,
          3000,
          7300,
          3400,
          5800,
          4800,
          1300,
          8400,
          7200,
          5200,
          9300,
          9100,
          5400,
          8000,
          5000,
          8900,
          3400,
          1700,
          1500,
          8400,
          2200,
          9400,
          1100,
          7200,
          8600,
          8400,
          5700,
          6800,
          2400,
          6300,
          8300,
          1700,
          3300,
          5800,
          1700,
          7700,
          3500,
          4100,
          9200,
          3300,
          2400,
          7700,
          3400,
          2400,
          7700,
          10700,
          8200,
          2600,
          1300,
          7900,
          8900,
          4000,
          1500,
          3800,
          8600,
          1400,
          1300,
          5300,
          9300,
          1200,
          3500,
          7400,
          3800,
          4400,
          6600,
          2100,
          9200,
          7000,
          9800,
          5200,
          2100,
          5300,
          8200,
          7000,
          4200,
          7600,
          7000,
          9200,
          9100,
          4700,
          5200,
          3500,
          3400,
          4000,
          9800,
          1700,
          6400,
          8000,
          4900,
          7600,
          8200,
          9800,
          8300,
          6900,
          5000,
          5300,
          10400,
          4600,
          4200,
          1200,
          9700,
          7900,
          7400,
          8400
         ],
         "xaxis": "x2",
         "yaxis": "y2"
        }
       ],
       "layout": {
        "barmode": "relative",
        "legend": {
         "tracegroupgap": 0
        },
        "margin": {
         "t": 60
        },
        "template": {
         "data": {
          "bar": [
           {
            "error_x": {
             "color": "#2a3f5f"
            },
            "error_y": {
             "color": "#2a3f5f"
            },
            "marker": {
             "line": {
              "color": "#E5ECF6",
              "width": 0.5
             },
             "pattern": {
              "fillmode": "overlay",
              "size": 10,
              "solidity": 0.2
             }
            },
            "type": "bar"
           }
          ],
          "barpolar": [
           {
            "marker": {
             "line": {
              "color": "#E5ECF6",
              "width": 0.5
             },
             "pattern": {
              "fillmode": "overlay",
              "size": 10,
              "solidity": 0.2
             }
            },
            "type": "barpolar"
           }
          ],
          "carpet": [
           {
            "aaxis": {
             "endlinecolor": "#2a3f5f",
             "gridcolor": "white",
             "linecolor": "white",
             "minorgridcolor": "white",
             "startlinecolor": "#2a3f5f"
            },
            "baxis": {
             "endlinecolor": "#2a3f5f",
             "gridcolor": "white",
             "linecolor": "white",
             "minorgridcolor": "white",
             "startlinecolor": "#2a3f5f"
            },
            "type": "carpet"
           }
          ],
          "choropleth": [
           {
            "colorbar": {
             "outlinewidth": 0,
             "ticks": ""
            },
            "type": "choropleth"
           }
          ],
          "contour": [
           {
            "colorbar": {
             "outlinewidth": 0,
             "ticks": ""
            },
            "colorscale": [
             [
              0,
              "#0d0887"
             ],
             [
              0.1111111111111111,
              "#46039f"
             ],
             [
              0.2222222222222222,
              "#7201a8"
             ],
             [
              0.3333333333333333,
              "#9c179e"
             ],
             [
              0.4444444444444444,
              "#bd3786"
             ],
             [
              0.5555555555555556,
              "#d8576b"
             ],
             [
              0.6666666666666666,
              "#ed7953"
             ],
             [
              0.7777777777777778,
              "#fb9f3a"
             ],
             [
              0.8888888888888888,
              "#fdca26"
             ],
             [
              1,
              "#f0f921"
             ]
            ],
            "type": "contour"
           }
          ],
          "contourcarpet": [
           {
            "colorbar": {
             "outlinewidth": 0,
             "ticks": ""
            },
            "type": "contourcarpet"
           }
          ],
          "heatmap": [
           {
            "colorbar": {
             "outlinewidth": 0,
             "ticks": ""
            },
            "colorscale": [
             [
              0,
              "#0d0887"
             ],
             [
              0.1111111111111111,
              "#46039f"
             ],
             [
              0.2222222222222222,
              "#7201a8"
             ],
             [
              0.3333333333333333,
              "#9c179e"
             ],
             [
              0.4444444444444444,
              "#bd3786"
             ],
             [
              0.5555555555555556,
              "#d8576b"
             ],
             [
              0.6666666666666666,
              "#ed7953"
             ],
             [
              0.7777777777777778,
              "#fb9f3a"
             ],
             [
              0.8888888888888888,
              "#fdca26"
             ],
             [
              1,
              "#f0f921"
             ]
            ],
            "type": "heatmap"
           }
          ],
          "heatmapgl": [
           {
            "colorbar": {
             "outlinewidth": 0,
             "ticks": ""
            },
            "colorscale": [
             [
              0,
              "#0d0887"
             ],
             [
              0.1111111111111111,
              "#46039f"
             ],
             [
              0.2222222222222222,
              "#7201a8"
             ],
             [
              0.3333333333333333,
              "#9c179e"
             ],
             [
              0.4444444444444444,
              "#bd3786"
             ],
             [
              0.5555555555555556,
              "#d8576b"
             ],
             [
              0.6666666666666666,
              "#ed7953"
             ],
             [
              0.7777777777777778,
              "#fb9f3a"
             ],
             [
              0.8888888888888888,
              "#fdca26"
             ],
             [
              1,
              "#f0f921"
             ]
            ],
            "type": "heatmapgl"
           }
          ],
          "histogram": [
           {
            "marker": {
             "pattern": {
              "fillmode": "overlay",
              "size": 10,
              "solidity": 0.2
             }
            },
            "type": "histogram"
           }
          ],
          "histogram2d": [
           {
            "colorbar": {
             "outlinewidth": 0,
             "ticks": ""
            },
            "colorscale": [
             [
              0,
              "#0d0887"
             ],
             [
              0.1111111111111111,
              "#46039f"
             ],
             [
              0.2222222222222222,
              "#7201a8"
             ],
             [
              0.3333333333333333,
              "#9c179e"
             ],
             [
              0.4444444444444444,
              "#bd3786"
             ],
             [
              0.5555555555555556,
              "#d8576b"
             ],
             [
              0.6666666666666666,
              "#ed7953"
             ],
             [
              0.7777777777777778,
              "#fb9f3a"
             ],
             [
              0.8888888888888888,
              "#fdca26"
             ],
             [
              1,
              "#f0f921"
             ]
            ],
            "type": "histogram2d"
           }
          ],
          "histogram2dcontour": [
           {
            "colorbar": {
             "outlinewidth": 0,
             "ticks": ""
            },
            "colorscale": [
             [
              0,
              "#0d0887"
             ],
             [
              0.1111111111111111,
              "#46039f"
             ],
             [
              0.2222222222222222,
              "#7201a8"
             ],
             [
              0.3333333333333333,
              "#9c179e"
             ],
             [
              0.4444444444444444,
              "#bd3786"
             ],
             [
              0.5555555555555556,
              "#d8576b"
             ],
             [
              0.6666666666666666,
              "#ed7953"
             ],
             [
              0.7777777777777778,
              "#fb9f3a"
             ],
             [
              0.8888888888888888,
              "#fdca26"
             ],
             [
              1,
              "#f0f921"
             ]
            ],
            "type": "histogram2dcontour"
           }
          ],
          "mesh3d": [
           {
            "colorbar": {
             "outlinewidth": 0,
             "ticks": ""
            },
            "type": "mesh3d"
           }
          ],
          "parcoords": [
           {
            "line": {
             "colorbar": {
              "outlinewidth": 0,
              "ticks": ""
             }
            },
            "type": "parcoords"
           }
          ],
          "pie": [
           {
            "automargin": true,
            "type": "pie"
           }
          ],
          "scatter": [
           {
            "fillpattern": {
             "fillmode": "overlay",
             "size": 10,
             "solidity": 0.2
            },
            "type": "scatter"
           }
          ],
          "scatter3d": [
           {
            "line": {
             "colorbar": {
              "outlinewidth": 0,
              "ticks": ""
             }
            },
            "marker": {
             "colorbar": {
              "outlinewidth": 0,
              "ticks": ""
             }
            },
            "type": "scatter3d"
           }
          ],
          "scattercarpet": [
           {
            "marker": {
             "colorbar": {
              "outlinewidth": 0,
              "ticks": ""
             }
            },
            "type": "scattercarpet"
           }
          ],
          "scattergeo": [
           {
            "marker": {
             "colorbar": {
              "outlinewidth": 0,
              "ticks": ""
             }
            },
            "type": "scattergeo"
           }
          ],
          "scattergl": [
           {
            "marker": {
             "colorbar": {
              "outlinewidth": 0,
              "ticks": ""
             }
            },
            "type": "scattergl"
           }
          ],
          "scattermapbox": [
           {
            "marker": {
             "colorbar": {
              "outlinewidth": 0,
              "ticks": ""
             }
            },
            "type": "scattermapbox"
           }
          ],
          "scatterpolar": [
           {
            "marker": {
             "colorbar": {
              "outlinewidth": 0,
              "ticks": ""
             }
            },
            "type": "scatterpolar"
           }
          ],
          "scatterpolargl": [
           {
            "marker": {
             "colorbar": {
              "outlinewidth": 0,
              "ticks": ""
             }
            },
            "type": "scatterpolargl"
           }
          ],
          "scatterternary": [
           {
            "marker": {
             "colorbar": {
              "outlinewidth": 0,
              "ticks": ""
             }
            },
            "type": "scatterternary"
           }
          ],
          "surface": [
           {
            "colorbar": {
             "outlinewidth": 0,
             "ticks": ""
            },
            "colorscale": [
             [
              0,
              "#0d0887"
             ],
             [
              0.1111111111111111,
              "#46039f"
             ],
             [
              0.2222222222222222,
              "#7201a8"
             ],
             [
              0.3333333333333333,
              "#9c179e"
             ],
             [
              0.4444444444444444,
              "#bd3786"
             ],
             [
              0.5555555555555556,
              "#d8576b"
             ],
             [
              0.6666666666666666,
              "#ed7953"
             ],
             [
              0.7777777777777778,
              "#fb9f3a"
             ],
             [
              0.8888888888888888,
              "#fdca26"
             ],
             [
              1,
              "#f0f921"
             ]
            ],
            "type": "surface"
           }
          ],
          "table": [
           {
            "cells": {
             "fill": {
              "color": "#EBF0F8"
             },
             "line": {
              "color": "white"
             }
            },
            "header": {
             "fill": {
              "color": "#C8D4E3"
             },
             "line": {
              "color": "white"
             }
            },
            "type": "table"
           }
          ]
         },
         "layout": {
          "annotationdefaults": {
           "arrowcolor": "#2a3f5f",
           "arrowhead": 0,
           "arrowwidth": 1
          },
          "autotypenumbers": "strict",
          "coloraxis": {
           "colorbar": {
            "outlinewidth": 0,
            "ticks": ""
           }
          },
          "colorscale": {
           "diverging": [
            [
             0,
             "#8e0152"
            ],
            [
             0.1,
             "#c51b7d"
            ],
            [
             0.2,
             "#de77ae"
            ],
            [
             0.3,
             "#f1b6da"
            ],
            [
             0.4,
             "#fde0ef"
            ],
            [
             0.5,
             "#f7f7f7"
            ],
            [
             0.6,
             "#e6f5d0"
            ],
            [
             0.7,
             "#b8e186"
            ],
            [
             0.8,
             "#7fbc41"
            ],
            [
             0.9,
             "#4d9221"
            ],
            [
             1,
             "#276419"
            ]
           ],
           "sequential": [
            [
             0,
             "#0d0887"
            ],
            [
             0.1111111111111111,
             "#46039f"
            ],
            [
             0.2222222222222222,
             "#7201a8"
            ],
            [
             0.3333333333333333,
             "#9c179e"
            ],
            [
             0.4444444444444444,
             "#bd3786"
            ],
            [
             0.5555555555555556,
             "#d8576b"
            ],
            [
             0.6666666666666666,
             "#ed7953"
            ],
            [
             0.7777777777777778,
             "#fb9f3a"
            ],
            [
             0.8888888888888888,
             "#fdca26"
            ],
            [
             1,
             "#f0f921"
            ]
           ],
           "sequentialminus": [
            [
             0,
             "#0d0887"
            ],
            [
             0.1111111111111111,
             "#46039f"
            ],
            [
             0.2222222222222222,
             "#7201a8"
            ],
            [
             0.3333333333333333,
             "#9c179e"
            ],
            [
             0.4444444444444444,
             "#bd3786"
            ],
            [
             0.5555555555555556,
             "#d8576b"
            ],
            [
             0.6666666666666666,
             "#ed7953"
            ],
            [
             0.7777777777777778,
             "#fb9f3a"
            ],
            [
             0.8888888888888888,
             "#fdca26"
            ],
            [
             1,
             "#f0f921"
            ]
           ]
          },
          "colorway": [
           "#636efa",
           "#EF553B",
           "#00cc96",
           "#ab63fa",
           "#FFA15A",
           "#19d3f3",
           "#FF6692",
           "#B6E880",
           "#FF97FF",
           "#FECB52"
          ],
          "font": {
           "color": "#2a3f5f"
          },
          "geo": {
           "bgcolor": "white",
           "lakecolor": "white",
           "landcolor": "#E5ECF6",
           "showlakes": true,
           "showland": true,
           "subunitcolor": "white"
          },
          "hoverlabel": {
           "align": "left"
          },
          "hovermode": "closest",
          "mapbox": {
           "style": "light"
          },
          "paper_bgcolor": "white",
          "plot_bgcolor": "#E5ECF6",
          "polar": {
           "angularaxis": {
            "gridcolor": "white",
            "linecolor": "white",
            "ticks": ""
           },
           "bgcolor": "#E5ECF6",
           "radialaxis": {
            "gridcolor": "white",
            "linecolor": "white",
            "ticks": ""
           }
          },
          "scene": {
           "xaxis": {
            "backgroundcolor": "#E5ECF6",
            "gridcolor": "white",
            "gridwidth": 2,
            "linecolor": "white",
            "showbackground": true,
            "ticks": "",
            "zerolinecolor": "white"
           },
           "yaxis": {
            "backgroundcolor": "#E5ECF6",
            "gridcolor": "white",
            "gridwidth": 2,
            "linecolor": "white",
            "showbackground": true,
            "ticks": "",
            "zerolinecolor": "white"
           },
           "zaxis": {
            "backgroundcolor": "#E5ECF6",
            "gridcolor": "white",
            "gridwidth": 2,
            "linecolor": "white",
            "showbackground": true,
            "ticks": "",
            "zerolinecolor": "white"
           }
          },
          "shapedefaults": {
           "line": {
            "color": "#2a3f5f"
           }
          },
          "ternary": {
           "aaxis": {
            "gridcolor": "white",
            "linecolor": "white",
            "ticks": ""
           },
           "baxis": {
            "gridcolor": "white",
            "linecolor": "white",
            "ticks": ""
           },
           "bgcolor": "#E5ECF6",
           "caxis": {
            "gridcolor": "white",
            "linecolor": "white",
            "ticks": ""
           }
          },
          "title": {
           "x": 0.05
          },
          "xaxis": {
           "automargin": true,
           "gridcolor": "white",
           "linecolor": "white",
           "ticks": "",
           "title": {
            "standoff": 15
           },
           "zerolinecolor": "white",
           "zerolinewidth": 2
          },
          "yaxis": {
           "automargin": true,
           "gridcolor": "white",
           "linecolor": "white",
           "ticks": "",
           "title": {
            "standoff": 15
           },
           "zerolinecolor": "white",
           "zerolinewidth": 2
          }
         }
        },
        "xaxis": {
         "anchor": "y",
         "domain": [
          0,
          1
         ],
         "title": {
          "text": "consult_cost"
         }
        },
        "xaxis2": {
         "anchor": "y2",
         "domain": [
          0,
          1
         ],
         "matches": "x",
         "showgrid": true,
         "showticklabels": false
        },
        "yaxis": {
         "anchor": "x",
         "domain": [
          0,
          0.8316
         ],
         "title": {
          "text": "count"
         }
        },
        "yaxis2": {
         "anchor": "x2",
         "domain": [
          0.8416,
          1
         ],
         "matches": "y2",
         "showgrid": false,
         "showline": false,
         "showticklabels": false,
         "ticks": ""
        }
       }
      }
     },
     "metadata": {},
     "output_type": "display_data"
    }
   ],
   "source": [
    "px.histogram(simulated_dataframe, x=\"consult_cost\", marginal=\"box\")"
   ]
  },
  {
   "cell_type": "code",
   "execution_count": 175,
   "metadata": {},
   "outputs": [
    {
     "data": {
      "application/vnd.plotly.v1+json": {
       "config": {
        "plotlyServerURL": "https://plot.ly"
       },
       "data": [
        {
         "alignmentgroup": "True",
         "bingroup": "x",
         "hovertemplate": "consultant_doctor_experience=%{x}<br>count=%{y}<extra></extra>",
         "legendgroup": "",
         "marker": {
          "color": "#636efa",
          "pattern": {
           "shape": ""
          }
         },
         "name": "",
         "offsetgroup": "",
         "orientation": "v",
         "showlegend": false,
         "type": "histogram",
         "x": [
          3,
          16,
          14,
          9,
          1,
          4,
          13,
          5,
          9,
          7,
          2,
          14,
          12,
          8,
          16,
          17,
          8,
          13,
          7,
          15,
          5,
          3,
          3,
          14,
          4,
          17,
          3,
          12,
          15,
          15,
          9,
          11,
          5,
          10,
          14,
          3,
          5,
          10,
          3,
          13,
          5,
          6,
          17,
          5,
          4,
          13,
          5,
          4,
          14,
          18,
          15,
          4,
          2,
          14,
          16,
          6,
          1,
          6,
          15,
          1,
          2,
          8,
          16,
          2,
          5,
          12,
          6,
          8,
          10,
          3,
          16,
          11,
          17,
          8,
          3,
          8,
          14,
          11,
          6,
          13,
          11,
          16,
          16,
          7,
          8,
          5,
          6,
          7,
          17,
          3,
          10,
          13,
          8,
          14,
          14,
          17,
          14,
          11,
          7,
          8,
          18,
          7,
          6,
          2,
          17,
          13,
          12,
          14,
          6,
          4,
          3,
          8,
          7,
          17,
          9,
          15,
          6,
          5,
          9,
          3,
          4,
          15,
          8,
          1,
          15,
          11,
          4,
          18,
          18,
          17,
          17,
          4,
          3,
          6,
          14,
          5,
          11,
          15,
          4,
          11,
          2,
          18,
          10,
          8,
          1,
          2,
          1,
          2,
          2,
          5,
          1,
          2,
          12,
          3,
          13,
          9,
          3,
          3,
          10,
          10,
          10,
          2,
          10,
          3,
          14,
          1,
          3,
          8,
          12,
          14,
          15,
          6,
          7,
          15,
          4,
          4,
          16,
          6,
          10,
          7,
          1,
          11,
          12,
          9,
          13,
          10,
          14,
          12,
          15,
          3,
          8,
          18,
          3,
          8,
          15,
          4,
          5,
          8,
          7,
          3,
          16,
          14,
          9,
          1,
          4,
          13,
          5,
          9,
          7,
          2,
          14,
          12,
          8,
          16,
          17,
          8,
          13,
          7,
          15,
          5,
          3,
          3,
          14,
          4,
          17,
          3,
          12,
          15,
          15,
          9,
          11,
          5,
          10,
          14,
          3,
          5,
          10,
          3,
          13,
          5,
          6,
          17,
          5,
          4,
          13,
          5,
          4,
          14,
          18,
          15,
          4,
          2,
          14,
          16,
          6,
          1,
          6,
          15,
          1,
          2,
          8,
          16,
          2,
          5,
          12,
          6,
          8,
          10,
          3,
          16,
          11,
          17,
          8,
          3,
          8,
          14,
          11,
          6,
          13,
          11,
          16,
          16,
          7,
          8,
          5,
          6,
          7,
          17,
          3,
          10,
          13,
          8,
          14,
          14,
          17,
          14,
          11,
          7,
          8,
          18,
          7,
          6,
          2,
          17,
          13,
          12,
          14,
          6,
          4,
          3,
          8,
          7,
          17,
          9,
          15,
          6,
          5,
          9,
          3,
          4,
          15,
          8,
          1,
          15,
          11,
          4,
          18,
          18,
          17,
          17,
          4,
          3,
          6,
          14,
          5,
          11,
          15,
          4,
          11,
          2,
          18,
          10,
          8,
          1,
          2,
          1,
          2,
          2,
          5,
          1,
          2,
          12,
          3,
          13,
          9,
          3,
          3,
          10,
          10,
          10,
          2,
          10,
          3,
          14,
          1,
          3,
          8,
          12,
          14,
          15,
          6,
          7,
          15,
          4,
          4,
          16,
          6,
          10,
          7,
          1,
          11,
          12,
          9,
          13,
          10,
          14,
          12,
          15,
          3,
          8,
          18,
          3,
          8,
          15,
          4,
          5,
          8,
          7,
          2,
          1,
          14,
          7,
          14,
          4,
          14,
          18,
          1,
          2,
          12,
          2,
          7,
          4,
          3,
          16,
          14,
          9,
          1,
          4,
          13,
          5,
          9,
          7,
          2,
          14,
          12,
          8,
          16,
          17,
          8,
          13,
          7,
          15,
          5,
          3,
          3,
          14,
          4,
          17,
          3,
          12,
          15,
          15,
          9,
          11,
          5,
          10,
          14,
          3,
          5,
          10,
          3,
          13,
          5,
          6,
          17,
          5,
          4,
          13,
          5,
          4,
          14,
          18,
          15,
          4,
          2,
          14,
          16,
          6,
          1,
          6,
          15,
          1,
          2,
          8,
          16,
          2,
          5,
          12,
          6,
          8,
          10,
          3,
          16,
          11,
          17,
          8,
          3,
          8,
          14,
          11,
          6,
          13,
          11,
          16,
          16,
          7,
          8,
          5,
          6,
          7,
          17,
          3,
          10,
          13,
          8,
          14,
          14,
          17,
          14,
          11,
          7,
          8,
          18,
          7,
          6,
          2,
          17,
          13,
          12,
          14
         ],
         "xaxis": "x",
         "yaxis": "y"
        },
        {
         "alignmentgroup": "True",
         "hovertemplate": "consultant_doctor_experience=%{x}<extra></extra>",
         "legendgroup": "",
         "marker": {
          "color": "#636efa"
         },
         "name": "",
         "notched": true,
         "offsetgroup": "",
         "showlegend": false,
         "type": "box",
         "x": [
          3,
          16,
          14,
          9,
          1,
          4,
          13,
          5,
          9,
          7,
          2,
          14,
          12,
          8,
          16,
          17,
          8,
          13,
          7,
          15,
          5,
          3,
          3,
          14,
          4,
          17,
          3,
          12,
          15,
          15,
          9,
          11,
          5,
          10,
          14,
          3,
          5,
          10,
          3,
          13,
          5,
          6,
          17,
          5,
          4,
          13,
          5,
          4,
          14,
          18,
          15,
          4,
          2,
          14,
          16,
          6,
          1,
          6,
          15,
          1,
          2,
          8,
          16,
          2,
          5,
          12,
          6,
          8,
          10,
          3,
          16,
          11,
          17,
          8,
          3,
          8,
          14,
          11,
          6,
          13,
          11,
          16,
          16,
          7,
          8,
          5,
          6,
          7,
          17,
          3,
          10,
          13,
          8,
          14,
          14,
          17,
          14,
          11,
          7,
          8,
          18,
          7,
          6,
          2,
          17,
          13,
          12,
          14,
          6,
          4,
          3,
          8,
          7,
          17,
          9,
          15,
          6,
          5,
          9,
          3,
          4,
          15,
          8,
          1,
          15,
          11,
          4,
          18,
          18,
          17,
          17,
          4,
          3,
          6,
          14,
          5,
          11,
          15,
          4,
          11,
          2,
          18,
          10,
          8,
          1,
          2,
          1,
          2,
          2,
          5,
          1,
          2,
          12,
          3,
          13,
          9,
          3,
          3,
          10,
          10,
          10,
          2,
          10,
          3,
          14,
          1,
          3,
          8,
          12,
          14,
          15,
          6,
          7,
          15,
          4,
          4,
          16,
          6,
          10,
          7,
          1,
          11,
          12,
          9,
          13,
          10,
          14,
          12,
          15,
          3,
          8,
          18,
          3,
          8,
          15,
          4,
          5,
          8,
          7,
          3,
          16,
          14,
          9,
          1,
          4,
          13,
          5,
          9,
          7,
          2,
          14,
          12,
          8,
          16,
          17,
          8,
          13,
          7,
          15,
          5,
          3,
          3,
          14,
          4,
          17,
          3,
          12,
          15,
          15,
          9,
          11,
          5,
          10,
          14,
          3,
          5,
          10,
          3,
          13,
          5,
          6,
          17,
          5,
          4,
          13,
          5,
          4,
          14,
          18,
          15,
          4,
          2,
          14,
          16,
          6,
          1,
          6,
          15,
          1,
          2,
          8,
          16,
          2,
          5,
          12,
          6,
          8,
          10,
          3,
          16,
          11,
          17,
          8,
          3,
          8,
          14,
          11,
          6,
          13,
          11,
          16,
          16,
          7,
          8,
          5,
          6,
          7,
          17,
          3,
          10,
          13,
          8,
          14,
          14,
          17,
          14,
          11,
          7,
          8,
          18,
          7,
          6,
          2,
          17,
          13,
          12,
          14,
          6,
          4,
          3,
          8,
          7,
          17,
          9,
          15,
          6,
          5,
          9,
          3,
          4,
          15,
          8,
          1,
          15,
          11,
          4,
          18,
          18,
          17,
          17,
          4,
          3,
          6,
          14,
          5,
          11,
          15,
          4,
          11,
          2,
          18,
          10,
          8,
          1,
          2,
          1,
          2,
          2,
          5,
          1,
          2,
          12,
          3,
          13,
          9,
          3,
          3,
          10,
          10,
          10,
          2,
          10,
          3,
          14,
          1,
          3,
          8,
          12,
          14,
          15,
          6,
          7,
          15,
          4,
          4,
          16,
          6,
          10,
          7,
          1,
          11,
          12,
          9,
          13,
          10,
          14,
          12,
          15,
          3,
          8,
          18,
          3,
          8,
          15,
          4,
          5,
          8,
          7,
          2,
          1,
          14,
          7,
          14,
          4,
          14,
          18,
          1,
          2,
          12,
          2,
          7,
          4,
          3,
          16,
          14,
          9,
          1,
          4,
          13,
          5,
          9,
          7,
          2,
          14,
          12,
          8,
          16,
          17,
          8,
          13,
          7,
          15,
          5,
          3,
          3,
          14,
          4,
          17,
          3,
          12,
          15,
          15,
          9,
          11,
          5,
          10,
          14,
          3,
          5,
          10,
          3,
          13,
          5,
          6,
          17,
          5,
          4,
          13,
          5,
          4,
          14,
          18,
          15,
          4,
          2,
          14,
          16,
          6,
          1,
          6,
          15,
          1,
          2,
          8,
          16,
          2,
          5,
          12,
          6,
          8,
          10,
          3,
          16,
          11,
          17,
          8,
          3,
          8,
          14,
          11,
          6,
          13,
          11,
          16,
          16,
          7,
          8,
          5,
          6,
          7,
          17,
          3,
          10,
          13,
          8,
          14,
          14,
          17,
          14,
          11,
          7,
          8,
          18,
          7,
          6,
          2,
          17,
          13,
          12,
          14
         ],
         "xaxis": "x2",
         "yaxis": "y2"
        }
       ],
       "layout": {
        "barmode": "relative",
        "legend": {
         "tracegroupgap": 0
        },
        "margin": {
         "t": 60
        },
        "template": {
         "data": {
          "bar": [
           {
            "error_x": {
             "color": "#2a3f5f"
            },
            "error_y": {
             "color": "#2a3f5f"
            },
            "marker": {
             "line": {
              "color": "#E5ECF6",
              "width": 0.5
             },
             "pattern": {
              "fillmode": "overlay",
              "size": 10,
              "solidity": 0.2
             }
            },
            "type": "bar"
           }
          ],
          "barpolar": [
           {
            "marker": {
             "line": {
              "color": "#E5ECF6",
              "width": 0.5
             },
             "pattern": {
              "fillmode": "overlay",
              "size": 10,
              "solidity": 0.2
             }
            },
            "type": "barpolar"
           }
          ],
          "carpet": [
           {
            "aaxis": {
             "endlinecolor": "#2a3f5f",
             "gridcolor": "white",
             "linecolor": "white",
             "minorgridcolor": "white",
             "startlinecolor": "#2a3f5f"
            },
            "baxis": {
             "endlinecolor": "#2a3f5f",
             "gridcolor": "white",
             "linecolor": "white",
             "minorgridcolor": "white",
             "startlinecolor": "#2a3f5f"
            },
            "type": "carpet"
           }
          ],
          "choropleth": [
           {
            "colorbar": {
             "outlinewidth": 0,
             "ticks": ""
            },
            "type": "choropleth"
           }
          ],
          "contour": [
           {
            "colorbar": {
             "outlinewidth": 0,
             "ticks": ""
            },
            "colorscale": [
             [
              0,
              "#0d0887"
             ],
             [
              0.1111111111111111,
              "#46039f"
             ],
             [
              0.2222222222222222,
              "#7201a8"
             ],
             [
              0.3333333333333333,
              "#9c179e"
             ],
             [
              0.4444444444444444,
              "#bd3786"
             ],
             [
              0.5555555555555556,
              "#d8576b"
             ],
             [
              0.6666666666666666,
              "#ed7953"
             ],
             [
              0.7777777777777778,
              "#fb9f3a"
             ],
             [
              0.8888888888888888,
              "#fdca26"
             ],
             [
              1,
              "#f0f921"
             ]
            ],
            "type": "contour"
           }
          ],
          "contourcarpet": [
           {
            "colorbar": {
             "outlinewidth": 0,
             "ticks": ""
            },
            "type": "contourcarpet"
           }
          ],
          "heatmap": [
           {
            "colorbar": {
             "outlinewidth": 0,
             "ticks": ""
            },
            "colorscale": [
             [
              0,
              "#0d0887"
             ],
             [
              0.1111111111111111,
              "#46039f"
             ],
             [
              0.2222222222222222,
              "#7201a8"
             ],
             [
              0.3333333333333333,
              "#9c179e"
             ],
             [
              0.4444444444444444,
              "#bd3786"
             ],
             [
              0.5555555555555556,
              "#d8576b"
             ],
             [
              0.6666666666666666,
              "#ed7953"
             ],
             [
              0.7777777777777778,
              "#fb9f3a"
             ],
             [
              0.8888888888888888,
              "#fdca26"
             ],
             [
              1,
              "#f0f921"
             ]
            ],
            "type": "heatmap"
           }
          ],
          "heatmapgl": [
           {
            "colorbar": {
             "outlinewidth": 0,
             "ticks": ""
            },
            "colorscale": [
             [
              0,
              "#0d0887"
             ],
             [
              0.1111111111111111,
              "#46039f"
             ],
             [
              0.2222222222222222,
              "#7201a8"
             ],
             [
              0.3333333333333333,
              "#9c179e"
             ],
             [
              0.4444444444444444,
              "#bd3786"
             ],
             [
              0.5555555555555556,
              "#d8576b"
             ],
             [
              0.6666666666666666,
              "#ed7953"
             ],
             [
              0.7777777777777778,
              "#fb9f3a"
             ],
             [
              0.8888888888888888,
              "#fdca26"
             ],
             [
              1,
              "#f0f921"
             ]
            ],
            "type": "heatmapgl"
           }
          ],
          "histogram": [
           {
            "marker": {
             "pattern": {
              "fillmode": "overlay",
              "size": 10,
              "solidity": 0.2
             }
            },
            "type": "histogram"
           }
          ],
          "histogram2d": [
           {
            "colorbar": {
             "outlinewidth": 0,
             "ticks": ""
            },
            "colorscale": [
             [
              0,
              "#0d0887"
             ],
             [
              0.1111111111111111,
              "#46039f"
             ],
             [
              0.2222222222222222,
              "#7201a8"
             ],
             [
              0.3333333333333333,
              "#9c179e"
             ],
             [
              0.4444444444444444,
              "#bd3786"
             ],
             [
              0.5555555555555556,
              "#d8576b"
             ],
             [
              0.6666666666666666,
              "#ed7953"
             ],
             [
              0.7777777777777778,
              "#fb9f3a"
             ],
             [
              0.8888888888888888,
              "#fdca26"
             ],
             [
              1,
              "#f0f921"
             ]
            ],
            "type": "histogram2d"
           }
          ],
          "histogram2dcontour": [
           {
            "colorbar": {
             "outlinewidth": 0,
             "ticks": ""
            },
            "colorscale": [
             [
              0,
              "#0d0887"
             ],
             [
              0.1111111111111111,
              "#46039f"
             ],
             [
              0.2222222222222222,
              "#7201a8"
             ],
             [
              0.3333333333333333,
              "#9c179e"
             ],
             [
              0.4444444444444444,
              "#bd3786"
             ],
             [
              0.5555555555555556,
              "#d8576b"
             ],
             [
              0.6666666666666666,
              "#ed7953"
             ],
             [
              0.7777777777777778,
              "#fb9f3a"
             ],
             [
              0.8888888888888888,
              "#fdca26"
             ],
             [
              1,
              "#f0f921"
             ]
            ],
            "type": "histogram2dcontour"
           }
          ],
          "mesh3d": [
           {
            "colorbar": {
             "outlinewidth": 0,
             "ticks": ""
            },
            "type": "mesh3d"
           }
          ],
          "parcoords": [
           {
            "line": {
             "colorbar": {
              "outlinewidth": 0,
              "ticks": ""
             }
            },
            "type": "parcoords"
           }
          ],
          "pie": [
           {
            "automargin": true,
            "type": "pie"
           }
          ],
          "scatter": [
           {
            "fillpattern": {
             "fillmode": "overlay",
             "size": 10,
             "solidity": 0.2
            },
            "type": "scatter"
           }
          ],
          "scatter3d": [
           {
            "line": {
             "colorbar": {
              "outlinewidth": 0,
              "ticks": ""
             }
            },
            "marker": {
             "colorbar": {
              "outlinewidth": 0,
              "ticks": ""
             }
            },
            "type": "scatter3d"
           }
          ],
          "scattercarpet": [
           {
            "marker": {
             "colorbar": {
              "outlinewidth": 0,
              "ticks": ""
             }
            },
            "type": "scattercarpet"
           }
          ],
          "scattergeo": [
           {
            "marker": {
             "colorbar": {
              "outlinewidth": 0,
              "ticks": ""
             }
            },
            "type": "scattergeo"
           }
          ],
          "scattergl": [
           {
            "marker": {
             "colorbar": {
              "outlinewidth": 0,
              "ticks": ""
             }
            },
            "type": "scattergl"
           }
          ],
          "scattermapbox": [
           {
            "marker": {
             "colorbar": {
              "outlinewidth": 0,
              "ticks": ""
             }
            },
            "type": "scattermapbox"
           }
          ],
          "scatterpolar": [
           {
            "marker": {
             "colorbar": {
              "outlinewidth": 0,
              "ticks": ""
             }
            },
            "type": "scatterpolar"
           }
          ],
          "scatterpolargl": [
           {
            "marker": {
             "colorbar": {
              "outlinewidth": 0,
              "ticks": ""
             }
            },
            "type": "scatterpolargl"
           }
          ],
          "scatterternary": [
           {
            "marker": {
             "colorbar": {
              "outlinewidth": 0,
              "ticks": ""
             }
            },
            "type": "scatterternary"
           }
          ],
          "surface": [
           {
            "colorbar": {
             "outlinewidth": 0,
             "ticks": ""
            },
            "colorscale": [
             [
              0,
              "#0d0887"
             ],
             [
              0.1111111111111111,
              "#46039f"
             ],
             [
              0.2222222222222222,
              "#7201a8"
             ],
             [
              0.3333333333333333,
              "#9c179e"
             ],
             [
              0.4444444444444444,
              "#bd3786"
             ],
             [
              0.5555555555555556,
              "#d8576b"
             ],
             [
              0.6666666666666666,
              "#ed7953"
             ],
             [
              0.7777777777777778,
              "#fb9f3a"
             ],
             [
              0.8888888888888888,
              "#fdca26"
             ],
             [
              1,
              "#f0f921"
             ]
            ],
            "type": "surface"
           }
          ],
          "table": [
           {
            "cells": {
             "fill": {
              "color": "#EBF0F8"
             },
             "line": {
              "color": "white"
             }
            },
            "header": {
             "fill": {
              "color": "#C8D4E3"
             },
             "line": {
              "color": "white"
             }
            },
            "type": "table"
           }
          ]
         },
         "layout": {
          "annotationdefaults": {
           "arrowcolor": "#2a3f5f",
           "arrowhead": 0,
           "arrowwidth": 1
          },
          "autotypenumbers": "strict",
          "coloraxis": {
           "colorbar": {
            "outlinewidth": 0,
            "ticks": ""
           }
          },
          "colorscale": {
           "diverging": [
            [
             0,
             "#8e0152"
            ],
            [
             0.1,
             "#c51b7d"
            ],
            [
             0.2,
             "#de77ae"
            ],
            [
             0.3,
             "#f1b6da"
            ],
            [
             0.4,
             "#fde0ef"
            ],
            [
             0.5,
             "#f7f7f7"
            ],
            [
             0.6,
             "#e6f5d0"
            ],
            [
             0.7,
             "#b8e186"
            ],
            [
             0.8,
             "#7fbc41"
            ],
            [
             0.9,
             "#4d9221"
            ],
            [
             1,
             "#276419"
            ]
           ],
           "sequential": [
            [
             0,
             "#0d0887"
            ],
            [
             0.1111111111111111,
             "#46039f"
            ],
            [
             0.2222222222222222,
             "#7201a8"
            ],
            [
             0.3333333333333333,
             "#9c179e"
            ],
            [
             0.4444444444444444,
             "#bd3786"
            ],
            [
             0.5555555555555556,
             "#d8576b"
            ],
            [
             0.6666666666666666,
             "#ed7953"
            ],
            [
             0.7777777777777778,
             "#fb9f3a"
            ],
            [
             0.8888888888888888,
             "#fdca26"
            ],
            [
             1,
             "#f0f921"
            ]
           ],
           "sequentialminus": [
            [
             0,
             "#0d0887"
            ],
            [
             0.1111111111111111,
             "#46039f"
            ],
            [
             0.2222222222222222,
             "#7201a8"
            ],
            [
             0.3333333333333333,
             "#9c179e"
            ],
            [
             0.4444444444444444,
             "#bd3786"
            ],
            [
             0.5555555555555556,
             "#d8576b"
            ],
            [
             0.6666666666666666,
             "#ed7953"
            ],
            [
             0.7777777777777778,
             "#fb9f3a"
            ],
            [
             0.8888888888888888,
             "#fdca26"
            ],
            [
             1,
             "#f0f921"
            ]
           ]
          },
          "colorway": [
           "#636efa",
           "#EF553B",
           "#00cc96",
           "#ab63fa",
           "#FFA15A",
           "#19d3f3",
           "#FF6692",
           "#B6E880",
           "#FF97FF",
           "#FECB52"
          ],
          "font": {
           "color": "#2a3f5f"
          },
          "geo": {
           "bgcolor": "white",
           "lakecolor": "white",
           "landcolor": "#E5ECF6",
           "showlakes": true,
           "showland": true,
           "subunitcolor": "white"
          },
          "hoverlabel": {
           "align": "left"
          },
          "hovermode": "closest",
          "mapbox": {
           "style": "light"
          },
          "paper_bgcolor": "white",
          "plot_bgcolor": "#E5ECF6",
          "polar": {
           "angularaxis": {
            "gridcolor": "white",
            "linecolor": "white",
            "ticks": ""
           },
           "bgcolor": "#E5ECF6",
           "radialaxis": {
            "gridcolor": "white",
            "linecolor": "white",
            "ticks": ""
           }
          },
          "scene": {
           "xaxis": {
            "backgroundcolor": "#E5ECF6",
            "gridcolor": "white",
            "gridwidth": 2,
            "linecolor": "white",
            "showbackground": true,
            "ticks": "",
            "zerolinecolor": "white"
           },
           "yaxis": {
            "backgroundcolor": "#E5ECF6",
            "gridcolor": "white",
            "gridwidth": 2,
            "linecolor": "white",
            "showbackground": true,
            "ticks": "",
            "zerolinecolor": "white"
           },
           "zaxis": {
            "backgroundcolor": "#E5ECF6",
            "gridcolor": "white",
            "gridwidth": 2,
            "linecolor": "white",
            "showbackground": true,
            "ticks": "",
            "zerolinecolor": "white"
           }
          },
          "shapedefaults": {
           "line": {
            "color": "#2a3f5f"
           }
          },
          "ternary": {
           "aaxis": {
            "gridcolor": "white",
            "linecolor": "white",
            "ticks": ""
           },
           "baxis": {
            "gridcolor": "white",
            "linecolor": "white",
            "ticks": ""
           },
           "bgcolor": "#E5ECF6",
           "caxis": {
            "gridcolor": "white",
            "linecolor": "white",
            "ticks": ""
           }
          },
          "title": {
           "x": 0.05
          },
          "xaxis": {
           "automargin": true,
           "gridcolor": "white",
           "linecolor": "white",
           "ticks": "",
           "title": {
            "standoff": 15
           },
           "zerolinecolor": "white",
           "zerolinewidth": 2
          },
          "yaxis": {
           "automargin": true,
           "gridcolor": "white",
           "linecolor": "white",
           "ticks": "",
           "title": {
            "standoff": 15
           },
           "zerolinecolor": "white",
           "zerolinewidth": 2
          }
         }
        },
        "xaxis": {
         "anchor": "y",
         "domain": [
          0,
          1
         ],
         "title": {
          "text": "consultant_doctor_experience"
         }
        },
        "xaxis2": {
         "anchor": "y2",
         "domain": [
          0,
          1
         ],
         "matches": "x",
         "showgrid": true,
         "showticklabels": false
        },
        "yaxis": {
         "anchor": "x",
         "domain": [
          0,
          0.8316
         ],
         "title": {
          "text": "count"
         }
        },
        "yaxis2": {
         "anchor": "x2",
         "domain": [
          0.8416,
          1
         ],
         "matches": "y2",
         "showgrid": false,
         "showline": false,
         "showticklabels": false,
         "ticks": ""
        }
       }
      }
     },
     "metadata": {},
     "output_type": "display_data"
    }
   ],
   "source": [
    "px.histogram(simulated_dataframe, x=\"consultant_doctor_experience\", marginal=\"box\")"
   ]
  },
  {
   "cell_type": "code",
   "execution_count": 176,
   "metadata": {},
   "outputs": [
    {
     "data": {
      "application/vnd.plotly.v1+json": {
       "config": {
        "plotlyServerURL": "https://plot.ly"
       },
       "data": [
        {
         "alignmentgroup": "True",
         "bingroup": "x",
         "hovertemplate": "patient_age=%{x}<br>count=%{y}<extra></extra>",
         "legendgroup": "",
         "marker": {
          "color": "#636efa",
          "pattern": {
           "shape": ""
          }
         },
         "name": "",
         "offsetgroup": "",
         "orientation": "v",
         "showlegend": false,
         "type": "histogram",
         "x": [
          29,
          12,
          35,
          25,
          39,
          12,
          15,
          23,
          26,
          13,
          12,
          11,
          21,
          30,
          27,
          16,
          37,
          30,
          21,
          16,
          31,
          31,
          28,
          26,
          18,
          29,
          15,
          16,
          21,
          22,
          15,
          40,
          25,
          26,
          20,
          38,
          15,
          24,
          28,
          36,
          26,
          27,
          13,
          37,
          15,
          24,
          18,
          13,
          16,
          29,
          21,
          20,
          22,
          15,
          29,
          21,
          39,
          18,
          38,
          15,
          15,
          28,
          40,
          33,
          16,
          12,
          35,
          23,
          13,
          16,
          37,
          21,
          20,
          37,
          32,
          19,
          39,
          29,
          40,
          32,
          25,
          33,
          38,
          35,
          34,
          20,
          25,
          37,
          23,
          22,
          15,
          21,
          32,
          20,
          29,
          15,
          11,
          17,
          31,
          21,
          32,
          26,
          16,
          26,
          32,
          12,
          20,
          22,
          35,
          13,
          18,
          32,
          36,
          20,
          13,
          38,
          29,
          40,
          19,
          16,
          11,
          14,
          31,
          10,
          16,
          33,
          25,
          16,
          36,
          37,
          29,
          13,
          39,
          15,
          16,
          37,
          29,
          29,
          30,
          24,
          17,
          10,
          29,
          16,
          20,
          16,
          26,
          39,
          22,
          33,
          32,
          30,
          36,
          17,
          39,
          25,
          17,
          17,
          12,
          28,
          24,
          24,
          12,
          40,
          39,
          23,
          15,
          21,
          35,
          24,
          31,
          23,
          37,
          12,
          37,
          15,
          38,
          29,
          38,
          18,
          37,
          33,
          15,
          18,
          15,
          22,
          19,
          29,
          12,
          38,
          15,
          39,
          19,
          18,
          20,
          36,
          14,
          23,
          23,
          18,
          17,
          36,
          15,
          35,
          35,
          33,
          20,
          23,
          35,
          17,
          37,
          29,
          30,
          33,
          27,
          31,
          15,
          31,
          16,
          33,
          22,
          32,
          32,
          29,
          14,
          20,
          12,
          26,
          36,
          25,
          31,
          14,
          16,
          30,
          28,
          18,
          35,
          14,
          37,
          18,
          29,
          16,
          20,
          21,
          36,
          11,
          20,
          19,
          15,
          16,
          17,
          32,
          39,
          21,
          16,
          29,
          16,
          23,
          27,
          17,
          35,
          36,
          37,
          31,
          39,
          17,
          28,
          34,
          19,
          30,
          23,
          36,
          26,
          11,
          35,
          31,
          38,
          13,
          35,
          30,
          12,
          16,
          32,
          33,
          28,
          38,
          38,
          13,
          24,
          27,
          39,
          37,
          17,
          26,
          40,
          14,
          28,
          31,
          30,
          18,
          28,
          20,
          35,
          18,
          15,
          12,
          25,
          32,
          35,
          24,
          28,
          19,
          27,
          12,
          22,
          26,
          16,
          20,
          38,
          37,
          31,
          15,
          37,
          10,
          20,
          14,
          20,
          20,
          31,
          17,
          16,
          32,
          20,
          15,
          34,
          25,
          37,
          31,
          11,
          15,
          35,
          33,
          29,
          13,
          14,
          20,
          35,
          33,
          20,
          35,
          12,
          16,
          25,
          27,
          16,
          40,
          10,
          21,
          18,
          29,
          37,
          37,
          17,
          39,
          15,
          37,
          17,
          33,
          37,
          25,
          32,
          33,
          31,
          32,
          36,
          27,
          17,
          31,
          23,
          22,
          33,
          17,
          14,
          32,
          22,
          18,
          32,
          35,
          40,
          21,
          38,
          18,
          37,
          29,
          21,
          28,
          29,
          20,
          16,
          29,
          33,
          13,
          38,
          20,
          15,
          15,
          16,
          29,
          36,
          30,
          12,
          15,
          18,
          12,
          24,
          24,
          37,
          15,
          22,
          20,
          21,
          37,
          19,
          29,
          28,
          35,
          24,
          15,
          30,
          35,
          18,
          30,
          38,
          21,
          19,
          39,
          23,
          12,
          16,
          32,
          31,
          17,
          18,
          19,
          28,
          33,
          11,
          37,
          20,
          13,
          24,
          20,
          26,
          15,
          10,
          25,
          17,
          15,
          36,
          15,
          31,
          12,
          37,
          12,
          29,
          10,
          15,
          10,
          29,
          35,
          35,
          27,
          25,
          22,
          16,
          20,
          30,
          20,
          18,
          35,
          37,
          37,
          21,
          30,
          36,
          22,
          39,
          36,
          36,
          16,
          29,
          13,
          11,
          15,
          33,
          39,
          39,
          21,
          35,
          36,
          35,
          17,
          20,
          12,
          20,
          19,
          20,
          16,
          32,
          31,
          29,
          25,
          32,
          27,
          27,
          24,
          19,
          15,
          29,
          10
         ],
         "xaxis": "x",
         "yaxis": "y"
        },
        {
         "alignmentgroup": "True",
         "hovertemplate": "patient_age=%{x}<extra></extra>",
         "legendgroup": "",
         "marker": {
          "color": "#636efa"
         },
         "name": "",
         "notched": true,
         "offsetgroup": "",
         "showlegend": false,
         "type": "box",
         "x": [
          29,
          12,
          35,
          25,
          39,
          12,
          15,
          23,
          26,
          13,
          12,
          11,
          21,
          30,
          27,
          16,
          37,
          30,
          21,
          16,
          31,
          31,
          28,
          26,
          18,
          29,
          15,
          16,
          21,
          22,
          15,
          40,
          25,
          26,
          20,
          38,
          15,
          24,
          28,
          36,
          26,
          27,
          13,
          37,
          15,
          24,
          18,
          13,
          16,
          29,
          21,
          20,
          22,
          15,
          29,
          21,
          39,
          18,
          38,
          15,
          15,
          28,
          40,
          33,
          16,
          12,
          35,
          23,
          13,
          16,
          37,
          21,
          20,
          37,
          32,
          19,
          39,
          29,
          40,
          32,
          25,
          33,
          38,
          35,
          34,
          20,
          25,
          37,
          23,
          22,
          15,
          21,
          32,
          20,
          29,
          15,
          11,
          17,
          31,
          21,
          32,
          26,
          16,
          26,
          32,
          12,
          20,
          22,
          35,
          13,
          18,
          32,
          36,
          20,
          13,
          38,
          29,
          40,
          19,
          16,
          11,
          14,
          31,
          10,
          16,
          33,
          25,
          16,
          36,
          37,
          29,
          13,
          39,
          15,
          16,
          37,
          29,
          29,
          30,
          24,
          17,
          10,
          29,
          16,
          20,
          16,
          26,
          39,
          22,
          33,
          32,
          30,
          36,
          17,
          39,
          25,
          17,
          17,
          12,
          28,
          24,
          24,
          12,
          40,
          39,
          23,
          15,
          21,
          35,
          24,
          31,
          23,
          37,
          12,
          37,
          15,
          38,
          29,
          38,
          18,
          37,
          33,
          15,
          18,
          15,
          22,
          19,
          29,
          12,
          38,
          15,
          39,
          19,
          18,
          20,
          36,
          14,
          23,
          23,
          18,
          17,
          36,
          15,
          35,
          35,
          33,
          20,
          23,
          35,
          17,
          37,
          29,
          30,
          33,
          27,
          31,
          15,
          31,
          16,
          33,
          22,
          32,
          32,
          29,
          14,
          20,
          12,
          26,
          36,
          25,
          31,
          14,
          16,
          30,
          28,
          18,
          35,
          14,
          37,
          18,
          29,
          16,
          20,
          21,
          36,
          11,
          20,
          19,
          15,
          16,
          17,
          32,
          39,
          21,
          16,
          29,
          16,
          23,
          27,
          17,
          35,
          36,
          37,
          31,
          39,
          17,
          28,
          34,
          19,
          30,
          23,
          36,
          26,
          11,
          35,
          31,
          38,
          13,
          35,
          30,
          12,
          16,
          32,
          33,
          28,
          38,
          38,
          13,
          24,
          27,
          39,
          37,
          17,
          26,
          40,
          14,
          28,
          31,
          30,
          18,
          28,
          20,
          35,
          18,
          15,
          12,
          25,
          32,
          35,
          24,
          28,
          19,
          27,
          12,
          22,
          26,
          16,
          20,
          38,
          37,
          31,
          15,
          37,
          10,
          20,
          14,
          20,
          20,
          31,
          17,
          16,
          32,
          20,
          15,
          34,
          25,
          37,
          31,
          11,
          15,
          35,
          33,
          29,
          13,
          14,
          20,
          35,
          33,
          20,
          35,
          12,
          16,
          25,
          27,
          16,
          40,
          10,
          21,
          18,
          29,
          37,
          37,
          17,
          39,
          15,
          37,
          17,
          33,
          37,
          25,
          32,
          33,
          31,
          32,
          36,
          27,
          17,
          31,
          23,
          22,
          33,
          17,
          14,
          32,
          22,
          18,
          32,
          35,
          40,
          21,
          38,
          18,
          37,
          29,
          21,
          28,
          29,
          20,
          16,
          29,
          33,
          13,
          38,
          20,
          15,
          15,
          16,
          29,
          36,
          30,
          12,
          15,
          18,
          12,
          24,
          24,
          37,
          15,
          22,
          20,
          21,
          37,
          19,
          29,
          28,
          35,
          24,
          15,
          30,
          35,
          18,
          30,
          38,
          21,
          19,
          39,
          23,
          12,
          16,
          32,
          31,
          17,
          18,
          19,
          28,
          33,
          11,
          37,
          20,
          13,
          24,
          20,
          26,
          15,
          10,
          25,
          17,
          15,
          36,
          15,
          31,
          12,
          37,
          12,
          29,
          10,
          15,
          10,
          29,
          35,
          35,
          27,
          25,
          22,
          16,
          20,
          30,
          20,
          18,
          35,
          37,
          37,
          21,
          30,
          36,
          22,
          39,
          36,
          36,
          16,
          29,
          13,
          11,
          15,
          33,
          39,
          39,
          21,
          35,
          36,
          35,
          17,
          20,
          12,
          20,
          19,
          20,
          16,
          32,
          31,
          29,
          25,
          32,
          27,
          27,
          24,
          19,
          15,
          29,
          10
         ],
         "xaxis": "x2",
         "yaxis": "y2"
        }
       ],
       "layout": {
        "barmode": "relative",
        "legend": {
         "tracegroupgap": 0
        },
        "margin": {
         "t": 60
        },
        "template": {
         "data": {
          "bar": [
           {
            "error_x": {
             "color": "#2a3f5f"
            },
            "error_y": {
             "color": "#2a3f5f"
            },
            "marker": {
             "line": {
              "color": "#E5ECF6",
              "width": 0.5
             },
             "pattern": {
              "fillmode": "overlay",
              "size": 10,
              "solidity": 0.2
             }
            },
            "type": "bar"
           }
          ],
          "barpolar": [
           {
            "marker": {
             "line": {
              "color": "#E5ECF6",
              "width": 0.5
             },
             "pattern": {
              "fillmode": "overlay",
              "size": 10,
              "solidity": 0.2
             }
            },
            "type": "barpolar"
           }
          ],
          "carpet": [
           {
            "aaxis": {
             "endlinecolor": "#2a3f5f",
             "gridcolor": "white",
             "linecolor": "white",
             "minorgridcolor": "white",
             "startlinecolor": "#2a3f5f"
            },
            "baxis": {
             "endlinecolor": "#2a3f5f",
             "gridcolor": "white",
             "linecolor": "white",
             "minorgridcolor": "white",
             "startlinecolor": "#2a3f5f"
            },
            "type": "carpet"
           }
          ],
          "choropleth": [
           {
            "colorbar": {
             "outlinewidth": 0,
             "ticks": ""
            },
            "type": "choropleth"
           }
          ],
          "contour": [
           {
            "colorbar": {
             "outlinewidth": 0,
             "ticks": ""
            },
            "colorscale": [
             [
              0,
              "#0d0887"
             ],
             [
              0.1111111111111111,
              "#46039f"
             ],
             [
              0.2222222222222222,
              "#7201a8"
             ],
             [
              0.3333333333333333,
              "#9c179e"
             ],
             [
              0.4444444444444444,
              "#bd3786"
             ],
             [
              0.5555555555555556,
              "#d8576b"
             ],
             [
              0.6666666666666666,
              "#ed7953"
             ],
             [
              0.7777777777777778,
              "#fb9f3a"
             ],
             [
              0.8888888888888888,
              "#fdca26"
             ],
             [
              1,
              "#f0f921"
             ]
            ],
            "type": "contour"
           }
          ],
          "contourcarpet": [
           {
            "colorbar": {
             "outlinewidth": 0,
             "ticks": ""
            },
            "type": "contourcarpet"
           }
          ],
          "heatmap": [
           {
            "colorbar": {
             "outlinewidth": 0,
             "ticks": ""
            },
            "colorscale": [
             [
              0,
              "#0d0887"
             ],
             [
              0.1111111111111111,
              "#46039f"
             ],
             [
              0.2222222222222222,
              "#7201a8"
             ],
             [
              0.3333333333333333,
              "#9c179e"
             ],
             [
              0.4444444444444444,
              "#bd3786"
             ],
             [
              0.5555555555555556,
              "#d8576b"
             ],
             [
              0.6666666666666666,
              "#ed7953"
             ],
             [
              0.7777777777777778,
              "#fb9f3a"
             ],
             [
              0.8888888888888888,
              "#fdca26"
             ],
             [
              1,
              "#f0f921"
             ]
            ],
            "type": "heatmap"
           }
          ],
          "heatmapgl": [
           {
            "colorbar": {
             "outlinewidth": 0,
             "ticks": ""
            },
            "colorscale": [
             [
              0,
              "#0d0887"
             ],
             [
              0.1111111111111111,
              "#46039f"
             ],
             [
              0.2222222222222222,
              "#7201a8"
             ],
             [
              0.3333333333333333,
              "#9c179e"
             ],
             [
              0.4444444444444444,
              "#bd3786"
             ],
             [
              0.5555555555555556,
              "#d8576b"
             ],
             [
              0.6666666666666666,
              "#ed7953"
             ],
             [
              0.7777777777777778,
              "#fb9f3a"
             ],
             [
              0.8888888888888888,
              "#fdca26"
             ],
             [
              1,
              "#f0f921"
             ]
            ],
            "type": "heatmapgl"
           }
          ],
          "histogram": [
           {
            "marker": {
             "pattern": {
              "fillmode": "overlay",
              "size": 10,
              "solidity": 0.2
             }
            },
            "type": "histogram"
           }
          ],
          "histogram2d": [
           {
            "colorbar": {
             "outlinewidth": 0,
             "ticks": ""
            },
            "colorscale": [
             [
              0,
              "#0d0887"
             ],
             [
              0.1111111111111111,
              "#46039f"
             ],
             [
              0.2222222222222222,
              "#7201a8"
             ],
             [
              0.3333333333333333,
              "#9c179e"
             ],
             [
              0.4444444444444444,
              "#bd3786"
             ],
             [
              0.5555555555555556,
              "#d8576b"
             ],
             [
              0.6666666666666666,
              "#ed7953"
             ],
             [
              0.7777777777777778,
              "#fb9f3a"
             ],
             [
              0.8888888888888888,
              "#fdca26"
             ],
             [
              1,
              "#f0f921"
             ]
            ],
            "type": "histogram2d"
           }
          ],
          "histogram2dcontour": [
           {
            "colorbar": {
             "outlinewidth": 0,
             "ticks": ""
            },
            "colorscale": [
             [
              0,
              "#0d0887"
             ],
             [
              0.1111111111111111,
              "#46039f"
             ],
             [
              0.2222222222222222,
              "#7201a8"
             ],
             [
              0.3333333333333333,
              "#9c179e"
             ],
             [
              0.4444444444444444,
              "#bd3786"
             ],
             [
              0.5555555555555556,
              "#d8576b"
             ],
             [
              0.6666666666666666,
              "#ed7953"
             ],
             [
              0.7777777777777778,
              "#fb9f3a"
             ],
             [
              0.8888888888888888,
              "#fdca26"
             ],
             [
              1,
              "#f0f921"
             ]
            ],
            "type": "histogram2dcontour"
           }
          ],
          "mesh3d": [
           {
            "colorbar": {
             "outlinewidth": 0,
             "ticks": ""
            },
            "type": "mesh3d"
           }
          ],
          "parcoords": [
           {
            "line": {
             "colorbar": {
              "outlinewidth": 0,
              "ticks": ""
             }
            },
            "type": "parcoords"
           }
          ],
          "pie": [
           {
            "automargin": true,
            "type": "pie"
           }
          ],
          "scatter": [
           {
            "fillpattern": {
             "fillmode": "overlay",
             "size": 10,
             "solidity": 0.2
            },
            "type": "scatter"
           }
          ],
          "scatter3d": [
           {
            "line": {
             "colorbar": {
              "outlinewidth": 0,
              "ticks": ""
             }
            },
            "marker": {
             "colorbar": {
              "outlinewidth": 0,
              "ticks": ""
             }
            },
            "type": "scatter3d"
           }
          ],
          "scattercarpet": [
           {
            "marker": {
             "colorbar": {
              "outlinewidth": 0,
              "ticks": ""
             }
            },
            "type": "scattercarpet"
           }
          ],
          "scattergeo": [
           {
            "marker": {
             "colorbar": {
              "outlinewidth": 0,
              "ticks": ""
             }
            },
            "type": "scattergeo"
           }
          ],
          "scattergl": [
           {
            "marker": {
             "colorbar": {
              "outlinewidth": 0,
              "ticks": ""
             }
            },
            "type": "scattergl"
           }
          ],
          "scattermapbox": [
           {
            "marker": {
             "colorbar": {
              "outlinewidth": 0,
              "ticks": ""
             }
            },
            "type": "scattermapbox"
           }
          ],
          "scatterpolar": [
           {
            "marker": {
             "colorbar": {
              "outlinewidth": 0,
              "ticks": ""
             }
            },
            "type": "scatterpolar"
           }
          ],
          "scatterpolargl": [
           {
            "marker": {
             "colorbar": {
              "outlinewidth": 0,
              "ticks": ""
             }
            },
            "type": "scatterpolargl"
           }
          ],
          "scatterternary": [
           {
            "marker": {
             "colorbar": {
              "outlinewidth": 0,
              "ticks": ""
             }
            },
            "type": "scatterternary"
           }
          ],
          "surface": [
           {
            "colorbar": {
             "outlinewidth": 0,
             "ticks": ""
            },
            "colorscale": [
             [
              0,
              "#0d0887"
             ],
             [
              0.1111111111111111,
              "#46039f"
             ],
             [
              0.2222222222222222,
              "#7201a8"
             ],
             [
              0.3333333333333333,
              "#9c179e"
             ],
             [
              0.4444444444444444,
              "#bd3786"
             ],
             [
              0.5555555555555556,
              "#d8576b"
             ],
             [
              0.6666666666666666,
              "#ed7953"
             ],
             [
              0.7777777777777778,
              "#fb9f3a"
             ],
             [
              0.8888888888888888,
              "#fdca26"
             ],
             [
              1,
              "#f0f921"
             ]
            ],
            "type": "surface"
           }
          ],
          "table": [
           {
            "cells": {
             "fill": {
              "color": "#EBF0F8"
             },
             "line": {
              "color": "white"
             }
            },
            "header": {
             "fill": {
              "color": "#C8D4E3"
             },
             "line": {
              "color": "white"
             }
            },
            "type": "table"
           }
          ]
         },
         "layout": {
          "annotationdefaults": {
           "arrowcolor": "#2a3f5f",
           "arrowhead": 0,
           "arrowwidth": 1
          },
          "autotypenumbers": "strict",
          "coloraxis": {
           "colorbar": {
            "outlinewidth": 0,
            "ticks": ""
           }
          },
          "colorscale": {
           "diverging": [
            [
             0,
             "#8e0152"
            ],
            [
             0.1,
             "#c51b7d"
            ],
            [
             0.2,
             "#de77ae"
            ],
            [
             0.3,
             "#f1b6da"
            ],
            [
             0.4,
             "#fde0ef"
            ],
            [
             0.5,
             "#f7f7f7"
            ],
            [
             0.6,
             "#e6f5d0"
            ],
            [
             0.7,
             "#b8e186"
            ],
            [
             0.8,
             "#7fbc41"
            ],
            [
             0.9,
             "#4d9221"
            ],
            [
             1,
             "#276419"
            ]
           ],
           "sequential": [
            [
             0,
             "#0d0887"
            ],
            [
             0.1111111111111111,
             "#46039f"
            ],
            [
             0.2222222222222222,
             "#7201a8"
            ],
            [
             0.3333333333333333,
             "#9c179e"
            ],
            [
             0.4444444444444444,
             "#bd3786"
            ],
            [
             0.5555555555555556,
             "#d8576b"
            ],
            [
             0.6666666666666666,
             "#ed7953"
            ],
            [
             0.7777777777777778,
             "#fb9f3a"
            ],
            [
             0.8888888888888888,
             "#fdca26"
            ],
            [
             1,
             "#f0f921"
            ]
           ],
           "sequentialminus": [
            [
             0,
             "#0d0887"
            ],
            [
             0.1111111111111111,
             "#46039f"
            ],
            [
             0.2222222222222222,
             "#7201a8"
            ],
            [
             0.3333333333333333,
             "#9c179e"
            ],
            [
             0.4444444444444444,
             "#bd3786"
            ],
            [
             0.5555555555555556,
             "#d8576b"
            ],
            [
             0.6666666666666666,
             "#ed7953"
            ],
            [
             0.7777777777777778,
             "#fb9f3a"
            ],
            [
             0.8888888888888888,
             "#fdca26"
            ],
            [
             1,
             "#f0f921"
            ]
           ]
          },
          "colorway": [
           "#636efa",
           "#EF553B",
           "#00cc96",
           "#ab63fa",
           "#FFA15A",
           "#19d3f3",
           "#FF6692",
           "#B6E880",
           "#FF97FF",
           "#FECB52"
          ],
          "font": {
           "color": "#2a3f5f"
          },
          "geo": {
           "bgcolor": "white",
           "lakecolor": "white",
           "landcolor": "#E5ECF6",
           "showlakes": true,
           "showland": true,
           "subunitcolor": "white"
          },
          "hoverlabel": {
           "align": "left"
          },
          "hovermode": "closest",
          "mapbox": {
           "style": "light"
          },
          "paper_bgcolor": "white",
          "plot_bgcolor": "#E5ECF6",
          "polar": {
           "angularaxis": {
            "gridcolor": "white",
            "linecolor": "white",
            "ticks": ""
           },
           "bgcolor": "#E5ECF6",
           "radialaxis": {
            "gridcolor": "white",
            "linecolor": "white",
            "ticks": ""
           }
          },
          "scene": {
           "xaxis": {
            "backgroundcolor": "#E5ECF6",
            "gridcolor": "white",
            "gridwidth": 2,
            "linecolor": "white",
            "showbackground": true,
            "ticks": "",
            "zerolinecolor": "white"
           },
           "yaxis": {
            "backgroundcolor": "#E5ECF6",
            "gridcolor": "white",
            "gridwidth": 2,
            "linecolor": "white",
            "showbackground": true,
            "ticks": "",
            "zerolinecolor": "white"
           },
           "zaxis": {
            "backgroundcolor": "#E5ECF6",
            "gridcolor": "white",
            "gridwidth": 2,
            "linecolor": "white",
            "showbackground": true,
            "ticks": "",
            "zerolinecolor": "white"
           }
          },
          "shapedefaults": {
           "line": {
            "color": "#2a3f5f"
           }
          },
          "ternary": {
           "aaxis": {
            "gridcolor": "white",
            "linecolor": "white",
            "ticks": ""
           },
           "baxis": {
            "gridcolor": "white",
            "linecolor": "white",
            "ticks": ""
           },
           "bgcolor": "#E5ECF6",
           "caxis": {
            "gridcolor": "white",
            "linecolor": "white",
            "ticks": ""
           }
          },
          "title": {
           "x": 0.05
          },
          "xaxis": {
           "automargin": true,
           "gridcolor": "white",
           "linecolor": "white",
           "ticks": "",
           "title": {
            "standoff": 15
           },
           "zerolinecolor": "white",
           "zerolinewidth": 2
          },
          "yaxis": {
           "automargin": true,
           "gridcolor": "white",
           "linecolor": "white",
           "ticks": "",
           "title": {
            "standoff": 15
           },
           "zerolinecolor": "white",
           "zerolinewidth": 2
          }
         }
        },
        "xaxis": {
         "anchor": "y",
         "domain": [
          0,
          1
         ],
         "title": {
          "text": "patient_age"
         }
        },
        "xaxis2": {
         "anchor": "y2",
         "domain": [
          0,
          1
         ],
         "matches": "x",
         "showgrid": true,
         "showticklabels": false
        },
        "yaxis": {
         "anchor": "x",
         "domain": [
          0,
          0.8316
         ],
         "title": {
          "text": "count"
         }
        },
        "yaxis2": {
         "anchor": "x2",
         "domain": [
          0.8416,
          1
         ],
         "matches": "y2",
         "showgrid": false,
         "showline": false,
         "showticklabels": false,
         "ticks": ""
        }
       }
      }
     },
     "metadata": {},
     "output_type": "display_data"
    }
   ],
   "source": [
    "px.histogram(simulated_dataframe, x=\"patient_age\", marginal=\"box\")"
   ]
  },
  {
   "attachments": {},
   "cell_type": "markdown",
   "metadata": {},
   "source": [
    "#### correlation"
   ]
  },
  {
   "cell_type": "code",
   "execution_count": 177,
   "metadata": {},
   "outputs": [
    {
     "data": {
      "application/vnd.plotly.v1+json": {
       "config": {
        "plotlyServerURL": "https://plot.ly"
       },
       "data": [
        {
         "coloraxis": "coloraxis",
         "hovertemplate": "x: %{x}<br>y: %{y}<br>color: %{z}<extra></extra>",
         "name": "0",
         "texttemplate": "%{z}",
         "type": "heatmap",
         "x": [
          "consult_cost",
          "patient_num_of_children",
          "patient_num_of_dependents",
          "patient_age",
          "consultant_doctor_experience",
          "patient_anatomy_chest area",
          "patient_anatomy_head",
          "patient_anatomy_legs",
          "patient_anatomy_shoulder",
          "patient_anatomy_stomach",
          "patient_anatomy_upper chest area",
          "patient_consult_status_appointed session",
          "patient_consult_status_new consultation",
          "patient_consult_status_under appointment",
          "patient_community_suburban",
          "patient_community_urban",
          "patient_marital_status_Married",
          "patient_marital_status_Single",
          "patient_has_children_Yes",
          "patient_has_dependent_Yes",
          "patient_gender_Male"
         ],
         "xaxis": "x",
         "y": [
          "consult_cost",
          "patient_num_of_children",
          "patient_num_of_dependents",
          "patient_age",
          "consultant_doctor_experience",
          "patient_anatomy_chest area",
          "patient_anatomy_head",
          "patient_anatomy_legs",
          "patient_anatomy_shoulder",
          "patient_anatomy_stomach",
          "patient_anatomy_upper chest area",
          "patient_consult_status_appointed session",
          "patient_consult_status_new consultation",
          "patient_consult_status_under appointment",
          "patient_community_suburban",
          "patient_community_urban",
          "patient_marital_status_Married",
          "patient_marital_status_Single",
          "patient_has_children_Yes",
          "patient_has_dependent_Yes",
          "patient_gender_Male"
         ],
         "yaxis": "y",
         "z": [
          [
           1,
           -0.02899422753881196,
           0.01334534323409473,
           -0.0011349052183920953,
           0.9923752173682542,
           0.0795028181795769,
           -0.016239895389895388,
           -0.12403725146039775,
           0.025916970497716574,
           -0.00913960040876377,
           0.013268721154940715,
           -0.03740029863930756,
           0.05850765133438557,
           -0.010640395199070094,
           -0.03810567028179052,
           0.010480404127996093,
           0.03613902260856775,
           0.02220379984157619,
           -0.01993137027621163,
           -0.017668279167318036,
           -0.02619598112115887
          ],
          [
           -0.02899422753881196,
           1,
           0.3852015597787667,
           0.02605394792389249,
           -0.03861142602070869,
           0.00912590326448352,
           0.05390430805940161,
           0.07476313604791159,
           -0.047053577712760634,
           -0.08701665386784385,
           0.0652780018018433,
           -0.006667114378225829,
           -0.01692013802155106,
           0.05176204205826385,
           0.11361872346669101,
           -0.08633952118181266,
           0.25593659900397864,
           -0.6446421237863352,
           -0.024159249823579695,
           -0.03300874691550848,
           0.08504237445928532
          ],
          [
           0.01334534323409473,
           0.3852015597787667,
           1,
           0.020271852952587963,
           0.006795187508168912,
           0.06858575359877807,
           -0.030740650466229945,
           0.01216812062904027,
           -0.01177452566272942,
           0.06513770619808223,
           -0.026422260936938318,
           0.007805405438257564,
           0.0398636749526053,
           -0.02481871606024976,
           0.00044279354409063553,
           -0.13446309438101123,
           0.2758488256575782,
           -0.6936620429280099,
           -0.043467452083702215,
           0.032268677920526866,
           0.017426037309845106
          ],
          [
           -0.0011349052183920953,
           0.02605394792389249,
           0.020271852952587963,
           1,
           -0.011472981642835943,
           -0.009485996916554069,
           0.0022897514128732217,
           0.020607994332902436,
           0.08632132090415531,
           0.020047008443540494,
           -0.07353297706650266,
           -0.008374569709086706,
           0.010081796370236379,
           -0.0170337042580164,
           -0.05646886768475079,
           -0.02209297348316039,
           -0.071101763605334,
           -0.09848591028510856,
           0.05541967851263759,
           -0.09695869105264562,
           -0.12118101391504665
          ],
          [
           0.9923752173682542,
           -0.03861142602070869,
           0.006795187508168912,
           -0.011472981642835943,
           1,
           0.07997118149341816,
           -0.017994227550343512,
           -0.12587936322786253,
           0.020048438147462277,
           -0.007644529497264994,
           0.009875041868681723,
           -0.033240717117402105,
           0.052511410546212285,
           -0.006106374520413004,
           -0.04620939218335941,
           0.00870448711973395,
           0.03032225424574297,
           0.029750948285177294,
           -0.019590174958473892,
           -0.015658951523886938,
           -0.02420606050056373
          ],
          [
           0.0795028181795769,
           0.00912590326448352,
           0.06858575359877807,
           -0.009485996916554069,
           0.07997118149341816,
           1,
           -0.14324343497580017,
           -0.11597956201492435,
           -0.10394821243152366,
           -0.1623344510091893,
           -0.10394821243152366,
           -0.03494869785640952,
           -0.05989601586819564,
           0.045274282386203714,
           -0.053332807408481404,
           0.0012470298975145895,
           -0.04055709316688074,
           0.006615710156163599,
           -0.023759412353694186,
           0.022636386119267868,
           -0.006706879454586354
          ],
          [
           -0.016239895389895388,
           0.05390430805940161,
           -0.030740650466229945,
           0.0022897514128732217,
           -0.017994227550343512,
           -0.14324343497580017,
           1,
           -0.16719353259687506,
           -0.1498494091684914,
           -0.2340176997987643,
           -0.14984940916849152,
           0.012779179609207771,
           0.013588220714207386,
           -0.02086714972023509,
           0.07632723087953401,
           -0.05748793642419258,
           0.08505570841224663,
           -0.009118812702042508,
           -0.0511991742743444,
           -0.010630424955393746,
           0.005105830127456255
          ],
          [
           -0.12403725146039775,
           0.07476313604791159,
           0.01216812062904027,
           0.020607994332902436,
           -0.12587936322786253,
           -0.11597956201492435,
           -0.16719353259687506,
           1,
           -0.1213282049993633,
           -0.1894765392283844,
           -0.12132820499936327,
           -0.023618370334217327,
           0.024587523281963425,
           0.02559895843594189,
           0.05971304840774785,
           -0.03408239205275083,
           -0.053126556233050834,
           -0.03450306224979679,
           0.031362719442792744,
           -0.024619383664438468,
           -0.02373730486392938
          ],
          [
           0.025916970497716574,
           -0.047053577712760634,
           -0.01177452566272942,
           0.08632132090415531,
           0.020048438147462277,
           -0.10394821243152366,
           -0.1498494091684914,
           -0.1213282049993633,
           1,
           -0.16982084781426882,
           -0.10874200426439215,
           -0.028121671667975835,
           0.036974140683023966,
           -0.017877075435099712,
           -0.043737741690588416,
           0.025246672735891314,
           -0.0315337883808152,
           0.0053665103325366064,
           0.13198760315561067,
           0.04680629714868542,
           0.01939767797829044
          ],
          [
           -0.00913960040876377,
           -0.08701665386784385,
           0.06513770619808223,
           0.020047008443540494,
           -0.007644529497264994,
           -0.1623344510091893,
           -0.2340176997987643,
           -0.1894765392283844,
           -0.16982084781426882,
           1,
           -0.1698208478142688,
           0.13298318593174016,
           -0.022617943507774158,
           -0.0425621461043805,
           -0.019600027167704256,
           0.024499285417614182,
           0.037430841378072455,
           -0.02280919778262264,
           -0.010667422723107533,
           0.04361974147893427,
           0.07086912964375153
          ],
          [
           0.013268721154940715,
           0.0652780018018433,
           -0.026422260936938318,
           -0.07353297706650266,
           0.009875041868681723,
           -0.10394821243152366,
           -0.14984940916849152,
           -0.12132820499936327,
           -0.10874200426439215,
           -0.1698208478142688,
           1,
           -0.0798549355854786,
           -0.054332421112231986,
           0.04701702038515751,
           -0.030248046744499456,
           0.06692371979196583,
           -0.0315337883808152,
           0.005366510332536637,
           -0.023204151826678864,
           -0.017891402259385836,
           -0.04526124861601105
          ],
          [
           -0.03740029863930756,
           -0.006667114378225829,
           0.007805405438257564,
           -0.008374569709086706,
           -0.033240717117402105,
           -0.03494869785640952,
           0.012779179609207771,
           -0.023618370334217327,
           -0.028121671667975835,
           0.13298318593174016,
           -0.0798549355854786,
           1,
           -0.3957127257878706,
           -0.22431072937535848,
           -0.026503482804472442,
           -0.08730876758036259,
           -0.01759331324066975,
           0.005527116050565853,
           -0.025724677921182538,
           -0.10800649644207201,
           1.1530603751121136e-17
          ],
          [
           0.05850765133438557,
           -0.01692013802155106,
           0.0398636749526053,
           0.010081796370236379,
           0.052511410546212285,
           -0.05989601586819564,
           0.013588220714207386,
           0.024587523281963425,
           0.036974140683023966,
           -0.022617943507774158,
           -0.054332421112231986,
           -0.3957127257878706,
           1,
           -0.43574372252797916,
           -0.006786235066487892,
           0.0024044028032965026,
           0.030128878629501022,
           -0.02113974594732173,
           0.036439578006073794,
           0.03950471694018495,
           -0.08534828446470354
          ],
          [
           -0.010640395199070094,
           0.05176204205826385,
           -0.02481871606024976,
           -0.0170337042580164,
           -0.006106374520413004,
           0.045274282386203714,
           -0.02086714972023509,
           0.02559895843594189,
           -0.017877075435099712,
           -0.0425621461043805,
           0.04701702038515751,
           -0.22431072937535848,
           -0.43574372252797916,
           1,
           0.001587440685920865,
           0.02402394132201971,
           0.019703556526173817,
           -0.02761399533567942,
           -0.04916441574978667,
           0.026238712519010218,
           0.043426604113387036
          ],
          [
           -0.03810567028179052,
           0.11361872346669101,
           0.00044279354409063553,
           -0.05646886768475079,
           -0.04620939218335941,
           -0.053332807408481404,
           0.07632723087953401,
           0.05971304840774785,
           -0.043737741690588416,
           -0.019600027167704256,
           -0.030248046744499456,
           -0.026503482804472442,
           -0.006786235066487892,
           0.001587440685920865,
           1,
           -0.5087577456790997,
           0.009292984502233377,
           -0.09717786892161454,
           -0.04070995757462756,
           0.06247167812245093,
           0.008024173123980485
          ],
          [
           0.010480404127996093,
           -0.08633952118181266,
           -0.13446309438101123,
           -0.02209297348316039,
           0.00870448711973395,
           0.0012470298975145895,
           -0.05748793642419258,
           -0.03408239205275083,
           0.025246672735891314,
           0.024499285417614182,
           0.06692371979196583,
           -0.08730876758036259,
           0.0024044028032965026,
           0.02402394132201971,
           -0.5087577456790997,
           1,
           0.005712418624232866,
           0.10171239428056807,
           0.07064333290278187,
           -0.12697135991879976,
           0.05371396398929653
          ],
          [
           0.03613902260856775,
           0.25593659900397864,
           0.2758488256575782,
           -0.071101763605334,
           0.03032225424574297,
           -0.04055709316688074,
           0.08505570841224663,
           -0.053126556233050834,
           -0.0315337883808152,
           0.037430841378072455,
           -0.0315337883808152,
           -0.01759331324066975,
           0.030128878629501022,
           0.019703556526173817,
           0.009292984502233377,
           0.005712418624232866,
           1,
           -0.4526302746216681,
           0.12360409454172899,
           -0.021945676819417944,
           0.2123894545484734
          ],
          [
           0.02220379984157619,
           -0.6446421237863352,
           -0.6936620429280099,
           -0.09848591028510856,
           0.029750948285177294,
           0.006615710156163599,
           -0.009118812702042508,
           -0.03450306224979679,
           0.0053665103325366064,
           -0.02280919778262264,
           0.005366510332536637,
           0.005527116050565853,
           -0.02113974594732173,
           -0.02761399533567942,
           -0.09717786892161454,
           0.10171239428056807,
           -0.4526302746216681,
           1,
           0.04083279826737478,
           0.04429952500499358,
           -0.10863508805244428
          ],
          [
           -0.01993137027621163,
           -0.024159249823579695,
           -0.043467452083702215,
           0.05541967851263759,
           -0.019590174958473892,
           -0.023759412353694186,
           -0.0511991742743444,
           0.031362719442792744,
           0.13198760315561067,
           -0.010667422723107533,
           -0.023204151826678864,
           -0.025724677921182538,
           0.036439578006073794,
           -0.04916441574978667,
           -0.04070995757462756,
           0.07064333290278187,
           0.12360409454172899,
           0.04083279826737478,
           1,
           -0.04658427128776464,
           0.06538896834544439
          ],
          [
           -0.017668279167318036,
           -0.03300874691550848,
           0.032268677920526866,
           -0.09695869105264562,
           -0.015658951523886938,
           0.022636386119267868,
           -0.010630424955393746,
           -0.024619383664438468,
           0.04680629714868542,
           0.04361974147893427,
           -0.017891402259385836,
           -0.10800649644207201,
           0.03950471694018495,
           0.026238712519010218,
           0.06247167812245093,
           -0.12697135991879976,
           -0.021945676819417944,
           0.04429952500499358,
           -0.04658427128776464,
           1,
           -0.019242300987841434
          ],
          [
           -0.02619598112115887,
           0.08504237445928532,
           0.017426037309845106,
           -0.12118101391504665,
           -0.02420606050056373,
           -0.006706879454586354,
           0.005105830127456255,
           -0.02373730486392938,
           0.01939767797829044,
           0.07086912964375153,
           -0.04526124861601105,
           1.1530603751121136e-17,
           -0.08534828446470354,
           0.043426604113387036,
           0.008024173123980485,
           0.05371396398929653,
           0.2123894545484734,
           -0.10863508805244428,
           0.06538896834544439,
           -0.019242300987841434,
           1
          ]
         ]
        }
       ],
       "layout": {
        "coloraxis": {
         "colorscale": [
          [
           0,
           "#0d0887"
          ],
          [
           0.1111111111111111,
           "#46039f"
          ],
          [
           0.2222222222222222,
           "#7201a8"
          ],
          [
           0.3333333333333333,
           "#9c179e"
          ],
          [
           0.4444444444444444,
           "#bd3786"
          ],
          [
           0.5555555555555556,
           "#d8576b"
          ],
          [
           0.6666666666666666,
           "#ed7953"
          ],
          [
           0.7777777777777778,
           "#fb9f3a"
          ],
          [
           0.8888888888888888,
           "#fdca26"
          ],
          [
           1,
           "#f0f921"
          ]
         ]
        },
        "margin": {
         "t": 60
        },
        "template": {
         "data": {
          "bar": [
           {
            "error_x": {
             "color": "#2a3f5f"
            },
            "error_y": {
             "color": "#2a3f5f"
            },
            "marker": {
             "line": {
              "color": "#E5ECF6",
              "width": 0.5
             },
             "pattern": {
              "fillmode": "overlay",
              "size": 10,
              "solidity": 0.2
             }
            },
            "type": "bar"
           }
          ],
          "barpolar": [
           {
            "marker": {
             "line": {
              "color": "#E5ECF6",
              "width": 0.5
             },
             "pattern": {
              "fillmode": "overlay",
              "size": 10,
              "solidity": 0.2
             }
            },
            "type": "barpolar"
           }
          ],
          "carpet": [
           {
            "aaxis": {
             "endlinecolor": "#2a3f5f",
             "gridcolor": "white",
             "linecolor": "white",
             "minorgridcolor": "white",
             "startlinecolor": "#2a3f5f"
            },
            "baxis": {
             "endlinecolor": "#2a3f5f",
             "gridcolor": "white",
             "linecolor": "white",
             "minorgridcolor": "white",
             "startlinecolor": "#2a3f5f"
            },
            "type": "carpet"
           }
          ],
          "choropleth": [
           {
            "colorbar": {
             "outlinewidth": 0,
             "ticks": ""
            },
            "type": "choropleth"
           }
          ],
          "contour": [
           {
            "colorbar": {
             "outlinewidth": 0,
             "ticks": ""
            },
            "colorscale": [
             [
              0,
              "#0d0887"
             ],
             [
              0.1111111111111111,
              "#46039f"
             ],
             [
              0.2222222222222222,
              "#7201a8"
             ],
             [
              0.3333333333333333,
              "#9c179e"
             ],
             [
              0.4444444444444444,
              "#bd3786"
             ],
             [
              0.5555555555555556,
              "#d8576b"
             ],
             [
              0.6666666666666666,
              "#ed7953"
             ],
             [
              0.7777777777777778,
              "#fb9f3a"
             ],
             [
              0.8888888888888888,
              "#fdca26"
             ],
             [
              1,
              "#f0f921"
             ]
            ],
            "type": "contour"
           }
          ],
          "contourcarpet": [
           {
            "colorbar": {
             "outlinewidth": 0,
             "ticks": ""
            },
            "type": "contourcarpet"
           }
          ],
          "heatmap": [
           {
            "colorbar": {
             "outlinewidth": 0,
             "ticks": ""
            },
            "colorscale": [
             [
              0,
              "#0d0887"
             ],
             [
              0.1111111111111111,
              "#46039f"
             ],
             [
              0.2222222222222222,
              "#7201a8"
             ],
             [
              0.3333333333333333,
              "#9c179e"
             ],
             [
              0.4444444444444444,
              "#bd3786"
             ],
             [
              0.5555555555555556,
              "#d8576b"
             ],
             [
              0.6666666666666666,
              "#ed7953"
             ],
             [
              0.7777777777777778,
              "#fb9f3a"
             ],
             [
              0.8888888888888888,
              "#fdca26"
             ],
             [
              1,
              "#f0f921"
             ]
            ],
            "type": "heatmap"
           }
          ],
          "heatmapgl": [
           {
            "colorbar": {
             "outlinewidth": 0,
             "ticks": ""
            },
            "colorscale": [
             [
              0,
              "#0d0887"
             ],
             [
              0.1111111111111111,
              "#46039f"
             ],
             [
              0.2222222222222222,
              "#7201a8"
             ],
             [
              0.3333333333333333,
              "#9c179e"
             ],
             [
              0.4444444444444444,
              "#bd3786"
             ],
             [
              0.5555555555555556,
              "#d8576b"
             ],
             [
              0.6666666666666666,
              "#ed7953"
             ],
             [
              0.7777777777777778,
              "#fb9f3a"
             ],
             [
              0.8888888888888888,
              "#fdca26"
             ],
             [
              1,
              "#f0f921"
             ]
            ],
            "type": "heatmapgl"
           }
          ],
          "histogram": [
           {
            "marker": {
             "pattern": {
              "fillmode": "overlay",
              "size": 10,
              "solidity": 0.2
             }
            },
            "type": "histogram"
           }
          ],
          "histogram2d": [
           {
            "colorbar": {
             "outlinewidth": 0,
             "ticks": ""
            },
            "colorscale": [
             [
              0,
              "#0d0887"
             ],
             [
              0.1111111111111111,
              "#46039f"
             ],
             [
              0.2222222222222222,
              "#7201a8"
             ],
             [
              0.3333333333333333,
              "#9c179e"
             ],
             [
              0.4444444444444444,
              "#bd3786"
             ],
             [
              0.5555555555555556,
              "#d8576b"
             ],
             [
              0.6666666666666666,
              "#ed7953"
             ],
             [
              0.7777777777777778,
              "#fb9f3a"
             ],
             [
              0.8888888888888888,
              "#fdca26"
             ],
             [
              1,
              "#f0f921"
             ]
            ],
            "type": "histogram2d"
           }
          ],
          "histogram2dcontour": [
           {
            "colorbar": {
             "outlinewidth": 0,
             "ticks": ""
            },
            "colorscale": [
             [
              0,
              "#0d0887"
             ],
             [
              0.1111111111111111,
              "#46039f"
             ],
             [
              0.2222222222222222,
              "#7201a8"
             ],
             [
              0.3333333333333333,
              "#9c179e"
             ],
             [
              0.4444444444444444,
              "#bd3786"
             ],
             [
              0.5555555555555556,
              "#d8576b"
             ],
             [
              0.6666666666666666,
              "#ed7953"
             ],
             [
              0.7777777777777778,
              "#fb9f3a"
             ],
             [
              0.8888888888888888,
              "#fdca26"
             ],
             [
              1,
              "#f0f921"
             ]
            ],
            "type": "histogram2dcontour"
           }
          ],
          "mesh3d": [
           {
            "colorbar": {
             "outlinewidth": 0,
             "ticks": ""
            },
            "type": "mesh3d"
           }
          ],
          "parcoords": [
           {
            "line": {
             "colorbar": {
              "outlinewidth": 0,
              "ticks": ""
             }
            },
            "type": "parcoords"
           }
          ],
          "pie": [
           {
            "automargin": true,
            "type": "pie"
           }
          ],
          "scatter": [
           {
            "fillpattern": {
             "fillmode": "overlay",
             "size": 10,
             "solidity": 0.2
            },
            "type": "scatter"
           }
          ],
          "scatter3d": [
           {
            "line": {
             "colorbar": {
              "outlinewidth": 0,
              "ticks": ""
             }
            },
            "marker": {
             "colorbar": {
              "outlinewidth": 0,
              "ticks": ""
             }
            },
            "type": "scatter3d"
           }
          ],
          "scattercarpet": [
           {
            "marker": {
             "colorbar": {
              "outlinewidth": 0,
              "ticks": ""
             }
            },
            "type": "scattercarpet"
           }
          ],
          "scattergeo": [
           {
            "marker": {
             "colorbar": {
              "outlinewidth": 0,
              "ticks": ""
             }
            },
            "type": "scattergeo"
           }
          ],
          "scattergl": [
           {
            "marker": {
             "colorbar": {
              "outlinewidth": 0,
              "ticks": ""
             }
            },
            "type": "scattergl"
           }
          ],
          "scattermapbox": [
           {
            "marker": {
             "colorbar": {
              "outlinewidth": 0,
              "ticks": ""
             }
            },
            "type": "scattermapbox"
           }
          ],
          "scatterpolar": [
           {
            "marker": {
             "colorbar": {
              "outlinewidth": 0,
              "ticks": ""
             }
            },
            "type": "scatterpolar"
           }
          ],
          "scatterpolargl": [
           {
            "marker": {
             "colorbar": {
              "outlinewidth": 0,
              "ticks": ""
             }
            },
            "type": "scatterpolargl"
           }
          ],
          "scatterternary": [
           {
            "marker": {
             "colorbar": {
              "outlinewidth": 0,
              "ticks": ""
             }
            },
            "type": "scatterternary"
           }
          ],
          "surface": [
           {
            "colorbar": {
             "outlinewidth": 0,
             "ticks": ""
            },
            "colorscale": [
             [
              0,
              "#0d0887"
             ],
             [
              0.1111111111111111,
              "#46039f"
             ],
             [
              0.2222222222222222,
              "#7201a8"
             ],
             [
              0.3333333333333333,
              "#9c179e"
             ],
             [
              0.4444444444444444,
              "#bd3786"
             ],
             [
              0.5555555555555556,
              "#d8576b"
             ],
             [
              0.6666666666666666,
              "#ed7953"
             ],
             [
              0.7777777777777778,
              "#fb9f3a"
             ],
             [
              0.8888888888888888,
              "#fdca26"
             ],
             [
              1,
              "#f0f921"
             ]
            ],
            "type": "surface"
           }
          ],
          "table": [
           {
            "cells": {
             "fill": {
              "color": "#EBF0F8"
             },
             "line": {
              "color": "white"
             }
            },
            "header": {
             "fill": {
              "color": "#C8D4E3"
             },
             "line": {
              "color": "white"
             }
            },
            "type": "table"
           }
          ]
         },
         "layout": {
          "annotationdefaults": {
           "arrowcolor": "#2a3f5f",
           "arrowhead": 0,
           "arrowwidth": 1
          },
          "autotypenumbers": "strict",
          "coloraxis": {
           "colorbar": {
            "outlinewidth": 0,
            "ticks": ""
           }
          },
          "colorscale": {
           "diverging": [
            [
             0,
             "#8e0152"
            ],
            [
             0.1,
             "#c51b7d"
            ],
            [
             0.2,
             "#de77ae"
            ],
            [
             0.3,
             "#f1b6da"
            ],
            [
             0.4,
             "#fde0ef"
            ],
            [
             0.5,
             "#f7f7f7"
            ],
            [
             0.6,
             "#e6f5d0"
            ],
            [
             0.7,
             "#b8e186"
            ],
            [
             0.8,
             "#7fbc41"
            ],
            [
             0.9,
             "#4d9221"
            ],
            [
             1,
             "#276419"
            ]
           ],
           "sequential": [
            [
             0,
             "#0d0887"
            ],
            [
             0.1111111111111111,
             "#46039f"
            ],
            [
             0.2222222222222222,
             "#7201a8"
            ],
            [
             0.3333333333333333,
             "#9c179e"
            ],
            [
             0.4444444444444444,
             "#bd3786"
            ],
            [
             0.5555555555555556,
             "#d8576b"
            ],
            [
             0.6666666666666666,
             "#ed7953"
            ],
            [
             0.7777777777777778,
             "#fb9f3a"
            ],
            [
             0.8888888888888888,
             "#fdca26"
            ],
            [
             1,
             "#f0f921"
            ]
           ],
           "sequentialminus": [
            [
             0,
             "#0d0887"
            ],
            [
             0.1111111111111111,
             "#46039f"
            ],
            [
             0.2222222222222222,
             "#7201a8"
            ],
            [
             0.3333333333333333,
             "#9c179e"
            ],
            [
             0.4444444444444444,
             "#bd3786"
            ],
            [
             0.5555555555555556,
             "#d8576b"
            ],
            [
             0.6666666666666666,
             "#ed7953"
            ],
            [
             0.7777777777777778,
             "#fb9f3a"
            ],
            [
             0.8888888888888888,
             "#fdca26"
            ],
            [
             1,
             "#f0f921"
            ]
           ]
          },
          "colorway": [
           "#636efa",
           "#EF553B",
           "#00cc96",
           "#ab63fa",
           "#FFA15A",
           "#19d3f3",
           "#FF6692",
           "#B6E880",
           "#FF97FF",
           "#FECB52"
          ],
          "font": {
           "color": "#2a3f5f"
          },
          "geo": {
           "bgcolor": "white",
           "lakecolor": "white",
           "landcolor": "#E5ECF6",
           "showlakes": true,
           "showland": true,
           "subunitcolor": "white"
          },
          "hoverlabel": {
           "align": "left"
          },
          "hovermode": "closest",
          "mapbox": {
           "style": "light"
          },
          "paper_bgcolor": "white",
          "plot_bgcolor": "#E5ECF6",
          "polar": {
           "angularaxis": {
            "gridcolor": "white",
            "linecolor": "white",
            "ticks": ""
           },
           "bgcolor": "#E5ECF6",
           "radialaxis": {
            "gridcolor": "white",
            "linecolor": "white",
            "ticks": ""
           }
          },
          "scene": {
           "xaxis": {
            "backgroundcolor": "#E5ECF6",
            "gridcolor": "white",
            "gridwidth": 2,
            "linecolor": "white",
            "showbackground": true,
            "ticks": "",
            "zerolinecolor": "white"
           },
           "yaxis": {
            "backgroundcolor": "#E5ECF6",
            "gridcolor": "white",
            "gridwidth": 2,
            "linecolor": "white",
            "showbackground": true,
            "ticks": "",
            "zerolinecolor": "white"
           },
           "zaxis": {
            "backgroundcolor": "#E5ECF6",
            "gridcolor": "white",
            "gridwidth": 2,
            "linecolor": "white",
            "showbackground": true,
            "ticks": "",
            "zerolinecolor": "white"
           }
          },
          "shapedefaults": {
           "line": {
            "color": "#2a3f5f"
           }
          },
          "ternary": {
           "aaxis": {
            "gridcolor": "white",
            "linecolor": "white",
            "ticks": ""
           },
           "baxis": {
            "gridcolor": "white",
            "linecolor": "white",
            "ticks": ""
           },
           "bgcolor": "#E5ECF6",
           "caxis": {
            "gridcolor": "white",
            "linecolor": "white",
            "ticks": ""
           }
          },
          "title": {
           "x": 0.05
          },
          "xaxis": {
           "automargin": true,
           "gridcolor": "white",
           "linecolor": "white",
           "ticks": "",
           "title": {
            "standoff": 15
           },
           "zerolinecolor": "white",
           "zerolinewidth": 2
          },
          "yaxis": {
           "automargin": true,
           "gridcolor": "white",
           "linecolor": "white",
           "ticks": "",
           "title": {
            "standoff": 15
           },
           "zerolinecolor": "white",
           "zerolinewidth": 2
          }
         }
        },
        "title": {
         "text": "Correlation matrix plot of the simulated dataset"
        },
        "xaxis": {
         "anchor": "y",
         "domain": [
          0,
          1
         ]
        },
        "yaxis": {
         "anchor": "x",
         "autorange": "reversed",
         "domain": [
          0,
          1
         ]
        }
       }
      }
     },
     "metadata": {},
     "output_type": "display_data"
    }
   ],
   "source": [
    "corr = simulated_dataframe.corr()\n",
    "fig = px.imshow(corr, text_auto=True, aspect=\"auto\")\n",
    "\n",
    "# Title\n",
    "fig.update_layout(title_text=\"Correlation matrix plot of the simulated dataset\")\n",
    "\n",
    "fig.show()"
   ]
  },
  {
   "cell_type": "code",
   "execution_count": 178,
   "metadata": {},
   "outputs": [],
   "source": [
    "# use logarithm of target variable \"log(consult_cost)\" to handel outlier and minimize mean square error(MSE) \n",
    "simulated_dataframe['consult_cost'] = np.log(simulated_dataframe['consult_cost'])"
   ]
  },
  {
   "attachments": {},
   "cell_type": "markdown",
   "metadata": {},
   "source": [
    "## Choices for Insurance Model\n",
    "        Choose a suitable machine learning (predictive) model that forcasts the observed target."
   ]
  },
  {
   "attachments": {},
   "cell_type": "markdown",
   "metadata": {},
   "source": [
    "Get the train and test datasets "
   ]
  },
  {
   "cell_type": "code",
   "execution_count": 179,
   "metadata": {},
   "outputs": [],
   "source": [
    "target_variable = 'consult_cost'\n",
    "X = simulated_dataframe.drop(target_variable, axis=1)\n",
    "\n",
    "#Apply robust scaling to explanatory variables to reduce outliers\n",
    "robust_scaler = RobustScaler()\n",
    "X = robust_scaler.fit_transform(X)  # x_new=x-median(data)/(Q3-Q1)\n",
    "\n",
    "y = simulated_dataframe[target_variable]\n",
    "x_train, x_test, y_train, y_test = train_test_split(X, y, test_size=0.2, random_state=23)"
   ]
  },
  {
   "attachments": {},
   "cell_type": "markdown",
   "metadata": {},
   "source": [
    "Prepare dataframe for model analysis"
   ]
  },
  {
   "cell_type": "code",
   "execution_count": 180,
   "metadata": {},
   "outputs": [],
   "source": [
    "mean_Model = pd.DataFrame(index=['train_MSE', 'test_MSE'], columns=['MLR', 'RF', 'KNN', 'LASSO'])\n",
    "r_Model = pd.DataFrame(index=['train_R2', 'test_R2'], columns=['MLR', 'RF', 'KNN', 'LASSO'])"
   ]
  },
  {
   "attachments": {},
   "cell_type": "markdown",
   "metadata": {},
   "source": [
    "Build models "
   ]
  },
  {
   "attachments": {},
   "cell_type": "markdown",
   "metadata": {},
   "source": [
    "    Multiple Linear Regression (MLR)"
   ]
  },
  {
   "cell_type": "code",
   "execution_count": 181,
   "metadata": {},
   "outputs": [],
   "source": [
    "# 1. Import the estimator object (model)\n",
    "from sklearn.linear_model import LinearRegression\n",
    "# 2. Create an instance of the estimator\n",
    "linear_regression = LinearRegression()\n",
    "# 3. Use the trainning data to train the estimator\n",
    "linear_regression.fit(x_train, y_train)\n",
    "# 4. Evaluate the model\n",
    "mean_Model.loc['train_MSE','MLR'] = mean_squared_error(y_pred=linear_regression.predict(x_train), y_true=y_train)\n",
    "mean_Model.loc['test_MSE','MLR'] = mean_squared_error(y_pred=linear_regression.predict(x_test), y_true=y_test)\n",
    "r_Model.loc['train_R2','MLR'] = r2_score(y_pred=linear_regression.predict(x_train), y_true=y_train)\n",
    "r_Model.loc['test_R2','MLR'] = r2_score(y_pred=linear_regression.predict(x_test), y_true=y_test)"
   ]
  },
  {
   "attachments": {},
   "cell_type": "markdown",
   "metadata": {},
   "source": [
    "    Random Forest (RF)"
   ]
  },
  {
   "cell_type": "code",
   "execution_count": 182,
   "metadata": {},
   "outputs": [],
   "source": [
    "# 1. Import the estimator object (model)\n",
    "from sklearn.ensemble import RandomForestRegressor\n",
    "# 2. Create an instance of the estimator\n",
    "RF = RandomForestRegressor(n_estimators=100, random_state=21)\n",
    "# 3. Use the trainning data to train the estimator\n",
    "RF.fit(x_train, y_train)\n",
    "# 4. Evaluate the model\n",
    "mean_Model.loc['train_MSE','RF'] = mean_squared_error(y_pred=RF.predict(x_train), y_true=y_train)\n",
    "mean_Model.loc['test_MSE','RF'] = mean_squared_error(y_pred=RF.predict(x_test), y_true=y_test)\n",
    "r_Model.loc['train_R2','RF'] = r2_score(y_pred=RF.predict(x_train), y_true=y_train)\n",
    "r_Model.loc['test_R2','RF'] = r2_score(y_pred=RF.predict(x_test), y_true=y_test)"
   ]
  },
  {
   "attachments": {},
   "cell_type": "markdown",
   "metadata": {},
   "source": [
    "    K-Nearest Neighbor (KNN)"
   ]
  },
  {
   "cell_type": "code",
   "execution_count": 183,
   "metadata": {},
   "outputs": [],
   "source": [
    "# 1. Import the estimator object (model)\n",
    "from sklearn.neighbors import KNeighborsRegressor\n",
    "# 2. Create an instance of the estimator\n",
    "knn = KNeighborsRegressor(n_neighbors=7, weights='distance', metric='euclidean', n_jobs=-1)\n",
    "# 3. Use the training data to train the estimator\n",
    "knn.fit(x_train, y_train)\n",
    "# 4. Evaluate the model\n",
    "mean_Model.loc['train_MSE','KNN'] = mean_squared_error(y_pred=knn.predict(x_train), y_true=y_train)\n",
    "mean_Model.loc['test_MSE','KNN'] = mean_squared_error(y_pred=knn.predict(x_test), y_true=y_test)\n",
    "r_Model.loc['train_R2','KNN'] = r2_score(y_pred=knn.predict(x_train), y_true=y_train)\n",
    "r_Model.loc['test_R2','KNN'] = r2_score(y_pred=knn.predict(x_test), y_true=y_test)"
   ]
  },
  {
   "attachments": {},
   "cell_type": "markdown",
   "metadata": {},
   "source": [
    "    Least Absolute Shrinkage and Selection Operator (LASSO)"
   ]
  },
  {
   "cell_type": "code",
   "execution_count": 184,
   "metadata": {},
   "outputs": [],
   "source": [
    "# 1. Import the estimator object (model)\n",
    "from sklearn.linear_model import Lasso\n",
    "# 2. Create an instance of the estimator\n",
    "lasso = Lasso(alpha=0.05)\n",
    "# 3. Use the training data to train the estimator\n",
    "lasso.fit(x_train, y_train)\n",
    "# 4. Evaluate the model\n",
    "mean_Model.loc['train_MSE','LASSO'] = mean_squared_error(y_pred=lasso.predict(x_train), y_true=y_train)\n",
    "mean_Model.loc['test_MSE','LASSO'] = mean_squared_error(y_pred=lasso.predict(x_test), y_true=y_test)\n",
    "r_Model.loc['train_R2','LASSO'] = r2_score(y_pred=lasso.predict(x_train), y_true=y_train)\n",
    "r_Model.loc['test_R2','LASSO'] = r2_score(y_pred=lasso.predict(x_test), y_true=y_test)"
   ]
  },
  {
   "cell_type": "code",
   "execution_count": 185,
   "metadata": {},
   "outputs": [
    {
     "data": {
      "text/html": [
       "<div>\n",
       "<style scoped>\n",
       "    .dataframe tbody tr th:only-of-type {\n",
       "        vertical-align: middle;\n",
       "    }\n",
       "\n",
       "    .dataframe tbody tr th {\n",
       "        vertical-align: top;\n",
       "    }\n",
       "\n",
       "    .dataframe thead th {\n",
       "        text-align: right;\n",
       "    }\n",
       "</style>\n",
       "<table border=\"1\" class=\"dataframe\">\n",
       "  <thead>\n",
       "    <tr style=\"text-align: right;\">\n",
       "      <th></th>\n",
       "      <th>MLR</th>\n",
       "      <th>RF</th>\n",
       "      <th>KNN</th>\n",
       "      <th>LASSO</th>\n",
       "    </tr>\n",
       "  </thead>\n",
       "  <tbody>\n",
       "    <tr>\n",
       "      <th>train_MSE</th>\n",
       "      <td>0.047846</td>\n",
       "      <td>0.001166</td>\n",
       "      <td>0.0</td>\n",
       "      <td>0.059402</td>\n",
       "    </tr>\n",
       "    <tr>\n",
       "      <th>test_MSE</th>\n",
       "      <td>0.054324</td>\n",
       "      <td>0.012235</td>\n",
       "      <td>0.20355</td>\n",
       "      <td>0.060788</td>\n",
       "    </tr>\n",
       "  </tbody>\n",
       "</table>\n",
       "</div>"
      ],
      "text/plain": [
       "                MLR        RF      KNN     LASSO\n",
       "train_MSE  0.047846  0.001166      0.0  0.059402\n",
       "test_MSE   0.054324  0.012235  0.20355  0.060788"
      ]
     },
     "execution_count": 185,
     "metadata": {},
     "output_type": "execute_result"
    }
   ],
   "source": [
    "mean_Model"
   ]
  },
  {
   "cell_type": "code",
   "execution_count": 186,
   "metadata": {},
   "outputs": [
    {
     "data": {
      "application/vnd.plotly.v1+json": {
       "config": {
        "plotlyServerURL": "https://plot.ly"
       },
       "data": [
        {
         "name": "train_MSE",
         "orientation": "h",
         "type": "bar",
         "x": [
          0.04784633624252656,
          0.0011663210415070345,
          4.720153103254986e-16,
          0.0594016788213311
         ],
         "y": [
          "MLR",
          "RF",
          "KNN",
          "LASSO"
         ]
        },
        {
         "name": "test_MSE",
         "orientation": "h",
         "type": "bar",
         "x": [
          0.05432391307071523,
          0.01223545354682182,
          0.20354980181332966,
          0.06078837390934601
         ],
         "y": [
          "MLR",
          "RF",
          "KNN",
          "LASSO"
         ]
        }
       ],
       "layout": {
        "barmode": "group",
        "template": {
         "data": {
          "bar": [
           {
            "error_x": {
             "color": "#2a3f5f"
            },
            "error_y": {
             "color": "#2a3f5f"
            },
            "marker": {
             "line": {
              "color": "#E5ECF6",
              "width": 0.5
             },
             "pattern": {
              "fillmode": "overlay",
              "size": 10,
              "solidity": 0.2
             }
            },
            "type": "bar"
           }
          ],
          "barpolar": [
           {
            "marker": {
             "line": {
              "color": "#E5ECF6",
              "width": 0.5
             },
             "pattern": {
              "fillmode": "overlay",
              "size": 10,
              "solidity": 0.2
             }
            },
            "type": "barpolar"
           }
          ],
          "carpet": [
           {
            "aaxis": {
             "endlinecolor": "#2a3f5f",
             "gridcolor": "white",
             "linecolor": "white",
             "minorgridcolor": "white",
             "startlinecolor": "#2a3f5f"
            },
            "baxis": {
             "endlinecolor": "#2a3f5f",
             "gridcolor": "white",
             "linecolor": "white",
             "minorgridcolor": "white",
             "startlinecolor": "#2a3f5f"
            },
            "type": "carpet"
           }
          ],
          "choropleth": [
           {
            "colorbar": {
             "outlinewidth": 0,
             "ticks": ""
            },
            "type": "choropleth"
           }
          ],
          "contour": [
           {
            "colorbar": {
             "outlinewidth": 0,
             "ticks": ""
            },
            "colorscale": [
             [
              0,
              "#0d0887"
             ],
             [
              0.1111111111111111,
              "#46039f"
             ],
             [
              0.2222222222222222,
              "#7201a8"
             ],
             [
              0.3333333333333333,
              "#9c179e"
             ],
             [
              0.4444444444444444,
              "#bd3786"
             ],
             [
              0.5555555555555556,
              "#d8576b"
             ],
             [
              0.6666666666666666,
              "#ed7953"
             ],
             [
              0.7777777777777778,
              "#fb9f3a"
             ],
             [
              0.8888888888888888,
              "#fdca26"
             ],
             [
              1,
              "#f0f921"
             ]
            ],
            "type": "contour"
           }
          ],
          "contourcarpet": [
           {
            "colorbar": {
             "outlinewidth": 0,
             "ticks": ""
            },
            "type": "contourcarpet"
           }
          ],
          "heatmap": [
           {
            "colorbar": {
             "outlinewidth": 0,
             "ticks": ""
            },
            "colorscale": [
             [
              0,
              "#0d0887"
             ],
             [
              0.1111111111111111,
              "#46039f"
             ],
             [
              0.2222222222222222,
              "#7201a8"
             ],
             [
              0.3333333333333333,
              "#9c179e"
             ],
             [
              0.4444444444444444,
              "#bd3786"
             ],
             [
              0.5555555555555556,
              "#d8576b"
             ],
             [
              0.6666666666666666,
              "#ed7953"
             ],
             [
              0.7777777777777778,
              "#fb9f3a"
             ],
             [
              0.8888888888888888,
              "#fdca26"
             ],
             [
              1,
              "#f0f921"
             ]
            ],
            "type": "heatmap"
           }
          ],
          "heatmapgl": [
           {
            "colorbar": {
             "outlinewidth": 0,
             "ticks": ""
            },
            "colorscale": [
             [
              0,
              "#0d0887"
             ],
             [
              0.1111111111111111,
              "#46039f"
             ],
             [
              0.2222222222222222,
              "#7201a8"
             ],
             [
              0.3333333333333333,
              "#9c179e"
             ],
             [
              0.4444444444444444,
              "#bd3786"
             ],
             [
              0.5555555555555556,
              "#d8576b"
             ],
             [
              0.6666666666666666,
              "#ed7953"
             ],
             [
              0.7777777777777778,
              "#fb9f3a"
             ],
             [
              0.8888888888888888,
              "#fdca26"
             ],
             [
              1,
              "#f0f921"
             ]
            ],
            "type": "heatmapgl"
           }
          ],
          "histogram": [
           {
            "marker": {
             "pattern": {
              "fillmode": "overlay",
              "size": 10,
              "solidity": 0.2
             }
            },
            "type": "histogram"
           }
          ],
          "histogram2d": [
           {
            "colorbar": {
             "outlinewidth": 0,
             "ticks": ""
            },
            "colorscale": [
             [
              0,
              "#0d0887"
             ],
             [
              0.1111111111111111,
              "#46039f"
             ],
             [
              0.2222222222222222,
              "#7201a8"
             ],
             [
              0.3333333333333333,
              "#9c179e"
             ],
             [
              0.4444444444444444,
              "#bd3786"
             ],
             [
              0.5555555555555556,
              "#d8576b"
             ],
             [
              0.6666666666666666,
              "#ed7953"
             ],
             [
              0.7777777777777778,
              "#fb9f3a"
             ],
             [
              0.8888888888888888,
              "#fdca26"
             ],
             [
              1,
              "#f0f921"
             ]
            ],
            "type": "histogram2d"
           }
          ],
          "histogram2dcontour": [
           {
            "colorbar": {
             "outlinewidth": 0,
             "ticks": ""
            },
            "colorscale": [
             [
              0,
              "#0d0887"
             ],
             [
              0.1111111111111111,
              "#46039f"
             ],
             [
              0.2222222222222222,
              "#7201a8"
             ],
             [
              0.3333333333333333,
              "#9c179e"
             ],
             [
              0.4444444444444444,
              "#bd3786"
             ],
             [
              0.5555555555555556,
              "#d8576b"
             ],
             [
              0.6666666666666666,
              "#ed7953"
             ],
             [
              0.7777777777777778,
              "#fb9f3a"
             ],
             [
              0.8888888888888888,
              "#fdca26"
             ],
             [
              1,
              "#f0f921"
             ]
            ],
            "type": "histogram2dcontour"
           }
          ],
          "mesh3d": [
           {
            "colorbar": {
             "outlinewidth": 0,
             "ticks": ""
            },
            "type": "mesh3d"
           }
          ],
          "parcoords": [
           {
            "line": {
             "colorbar": {
              "outlinewidth": 0,
              "ticks": ""
             }
            },
            "type": "parcoords"
           }
          ],
          "pie": [
           {
            "automargin": true,
            "type": "pie"
           }
          ],
          "scatter": [
           {
            "fillpattern": {
             "fillmode": "overlay",
             "size": 10,
             "solidity": 0.2
            },
            "type": "scatter"
           }
          ],
          "scatter3d": [
           {
            "line": {
             "colorbar": {
              "outlinewidth": 0,
              "ticks": ""
             }
            },
            "marker": {
             "colorbar": {
              "outlinewidth": 0,
              "ticks": ""
             }
            },
            "type": "scatter3d"
           }
          ],
          "scattercarpet": [
           {
            "marker": {
             "colorbar": {
              "outlinewidth": 0,
              "ticks": ""
             }
            },
            "type": "scattercarpet"
           }
          ],
          "scattergeo": [
           {
            "marker": {
             "colorbar": {
              "outlinewidth": 0,
              "ticks": ""
             }
            },
            "type": "scattergeo"
           }
          ],
          "scattergl": [
           {
            "marker": {
             "colorbar": {
              "outlinewidth": 0,
              "ticks": ""
             }
            },
            "type": "scattergl"
           }
          ],
          "scattermapbox": [
           {
            "marker": {
             "colorbar": {
              "outlinewidth": 0,
              "ticks": ""
             }
            },
            "type": "scattermapbox"
           }
          ],
          "scatterpolar": [
           {
            "marker": {
             "colorbar": {
              "outlinewidth": 0,
              "ticks": ""
             }
            },
            "type": "scatterpolar"
           }
          ],
          "scatterpolargl": [
           {
            "marker": {
             "colorbar": {
              "outlinewidth": 0,
              "ticks": ""
             }
            },
            "type": "scatterpolargl"
           }
          ],
          "scatterternary": [
           {
            "marker": {
             "colorbar": {
              "outlinewidth": 0,
              "ticks": ""
             }
            },
            "type": "scatterternary"
           }
          ],
          "surface": [
           {
            "colorbar": {
             "outlinewidth": 0,
             "ticks": ""
            },
            "colorscale": [
             [
              0,
              "#0d0887"
             ],
             [
              0.1111111111111111,
              "#46039f"
             ],
             [
              0.2222222222222222,
              "#7201a8"
             ],
             [
              0.3333333333333333,
              "#9c179e"
             ],
             [
              0.4444444444444444,
              "#bd3786"
             ],
             [
              0.5555555555555556,
              "#d8576b"
             ],
             [
              0.6666666666666666,
              "#ed7953"
             ],
             [
              0.7777777777777778,
              "#fb9f3a"
             ],
             [
              0.8888888888888888,
              "#fdca26"
             ],
             [
              1,
              "#f0f921"
             ]
            ],
            "type": "surface"
           }
          ],
          "table": [
           {
            "cells": {
             "fill": {
              "color": "#EBF0F8"
             },
             "line": {
              "color": "white"
             }
            },
            "header": {
             "fill": {
              "color": "#C8D4E3"
             },
             "line": {
              "color": "white"
             }
            },
            "type": "table"
           }
          ]
         },
         "layout": {
          "annotationdefaults": {
           "arrowcolor": "#2a3f5f",
           "arrowhead": 0,
           "arrowwidth": 1
          },
          "autotypenumbers": "strict",
          "coloraxis": {
           "colorbar": {
            "outlinewidth": 0,
            "ticks": ""
           }
          },
          "colorscale": {
           "diverging": [
            [
             0,
             "#8e0152"
            ],
            [
             0.1,
             "#c51b7d"
            ],
            [
             0.2,
             "#de77ae"
            ],
            [
             0.3,
             "#f1b6da"
            ],
            [
             0.4,
             "#fde0ef"
            ],
            [
             0.5,
             "#f7f7f7"
            ],
            [
             0.6,
             "#e6f5d0"
            ],
            [
             0.7,
             "#b8e186"
            ],
            [
             0.8,
             "#7fbc41"
            ],
            [
             0.9,
             "#4d9221"
            ],
            [
             1,
             "#276419"
            ]
           ],
           "sequential": [
            [
             0,
             "#0d0887"
            ],
            [
             0.1111111111111111,
             "#46039f"
            ],
            [
             0.2222222222222222,
             "#7201a8"
            ],
            [
             0.3333333333333333,
             "#9c179e"
            ],
            [
             0.4444444444444444,
             "#bd3786"
            ],
            [
             0.5555555555555556,
             "#d8576b"
            ],
            [
             0.6666666666666666,
             "#ed7953"
            ],
            [
             0.7777777777777778,
             "#fb9f3a"
            ],
            [
             0.8888888888888888,
             "#fdca26"
            ],
            [
             1,
             "#f0f921"
            ]
           ],
           "sequentialminus": [
            [
             0,
             "#0d0887"
            ],
            [
             0.1111111111111111,
             "#46039f"
            ],
            [
             0.2222222222222222,
             "#7201a8"
            ],
            [
             0.3333333333333333,
             "#9c179e"
            ],
            [
             0.4444444444444444,
             "#bd3786"
            ],
            [
             0.5555555555555556,
             "#d8576b"
            ],
            [
             0.6666666666666666,
             "#ed7953"
            ],
            [
             0.7777777777777778,
             "#fb9f3a"
            ],
            [
             0.8888888888888888,
             "#fdca26"
            ],
            [
             1,
             "#f0f921"
            ]
           ]
          },
          "colorway": [
           "#636efa",
           "#EF553B",
           "#00cc96",
           "#ab63fa",
           "#FFA15A",
           "#19d3f3",
           "#FF6692",
           "#B6E880",
           "#FF97FF",
           "#FECB52"
          ],
          "font": {
           "color": "#2a3f5f"
          },
          "geo": {
           "bgcolor": "white",
           "lakecolor": "white",
           "landcolor": "#E5ECF6",
           "showlakes": true,
           "showland": true,
           "subunitcolor": "white"
          },
          "hoverlabel": {
           "align": "left"
          },
          "hovermode": "closest",
          "mapbox": {
           "style": "light"
          },
          "paper_bgcolor": "white",
          "plot_bgcolor": "#E5ECF6",
          "polar": {
           "angularaxis": {
            "gridcolor": "white",
            "linecolor": "white",
            "ticks": ""
           },
           "bgcolor": "#E5ECF6",
           "radialaxis": {
            "gridcolor": "white",
            "linecolor": "white",
            "ticks": ""
           }
          },
          "scene": {
           "xaxis": {
            "backgroundcolor": "#E5ECF6",
            "gridcolor": "white",
            "gridwidth": 2,
            "linecolor": "white",
            "showbackground": true,
            "ticks": "",
            "zerolinecolor": "white"
           },
           "yaxis": {
            "backgroundcolor": "#E5ECF6",
            "gridcolor": "white",
            "gridwidth": 2,
            "linecolor": "white",
            "showbackground": true,
            "ticks": "",
            "zerolinecolor": "white"
           },
           "zaxis": {
            "backgroundcolor": "#E5ECF6",
            "gridcolor": "white",
            "gridwidth": 2,
            "linecolor": "white",
            "showbackground": true,
            "ticks": "",
            "zerolinecolor": "white"
           }
          },
          "shapedefaults": {
           "line": {
            "color": "#2a3f5f"
           }
          },
          "ternary": {
           "aaxis": {
            "gridcolor": "white",
            "linecolor": "white",
            "ticks": ""
           },
           "baxis": {
            "gridcolor": "white",
            "linecolor": "white",
            "ticks": ""
           },
           "bgcolor": "#E5ECF6",
           "caxis": {
            "gridcolor": "white",
            "linecolor": "white",
            "ticks": ""
           }
          },
          "title": {
           "x": 0.05
          },
          "xaxis": {
           "automargin": true,
           "gridcolor": "white",
           "linecolor": "white",
           "ticks": "",
           "title": {
            "standoff": 15
           },
           "zerolinecolor": "white",
           "zerolinewidth": 2
          },
          "yaxis": {
           "automargin": true,
           "gridcolor": "white",
           "linecolor": "white",
           "ticks": "",
           "title": {
            "standoff": 15
           },
           "zerolinecolor": "white",
           "zerolinewidth": 2
          }
         }
        },
        "title": {
         "text": "Mean square error (MSE) plot of the predictive models using train and test data"
        }
       }
      }
     },
     "metadata": {},
     "output_type": "display_data"
    }
   ],
   "source": [
    "\n",
    "y=['MLR', 'RF', 'KNN', 'LASSO'] \n",
    "x1= mean_Model.loc['train_MSE']\n",
    "x2= mean_Model.loc['test_MSE']\n",
    "\n",
    "trace1 = go.Bar(y=y, x=x1, name='train_MSE', orientation='h')\n",
    "trace2 = go.Bar(y=y, x=x2, name='test_MSE', orientation='h')\n",
    "\n",
    "data = [trace1, trace2]\n",
    "\n",
    "layout = go.Layout(barmode='group', title='Mean square error (MSE) plot of the predictive models using train and test data')\n",
    "\n",
    "fig = go.Figure(data=data, layout=layout)\n",
    "fig.show()\n"
   ]
  },
  {
   "cell_type": "code",
   "execution_count": 187,
   "metadata": {},
   "outputs": [
    {
     "data": {
      "text/html": [
       "<div>\n",
       "<style scoped>\n",
       "    .dataframe tbody tr th:only-of-type {\n",
       "        vertical-align: middle;\n",
       "    }\n",
       "\n",
       "    .dataframe tbody tr th {\n",
       "        vertical-align: top;\n",
       "    }\n",
       "\n",
       "    .dataframe thead th {\n",
       "        text-align: right;\n",
       "    }\n",
       "</style>\n",
       "<table border=\"1\" class=\"dataframe\">\n",
       "  <thead>\n",
       "    <tr style=\"text-align: right;\">\n",
       "      <th></th>\n",
       "      <th>MLR</th>\n",
       "      <th>RF</th>\n",
       "      <th>KNN</th>\n",
       "      <th>LASSO</th>\n",
       "    </tr>\n",
       "  </thead>\n",
       "  <tbody>\n",
       "    <tr>\n",
       "      <th>train_R2</th>\n",
       "      <td>0.893225</td>\n",
       "      <td>0.997397</td>\n",
       "      <td>1.0</td>\n",
       "      <td>0.867438</td>\n",
       "    </tr>\n",
       "    <tr>\n",
       "      <th>test_R2</th>\n",
       "      <td>0.867568</td>\n",
       "      <td>0.970172</td>\n",
       "      <td>0.503783</td>\n",
       "      <td>0.851809</td>\n",
       "    </tr>\n",
       "  </tbody>\n",
       "</table>\n",
       "</div>"
      ],
      "text/plain": [
       "               MLR        RF       KNN     LASSO\n",
       "train_R2  0.893225  0.997397       1.0  0.867438\n",
       "test_R2   0.867568  0.970172  0.503783  0.851809"
      ]
     },
     "execution_count": 187,
     "metadata": {},
     "output_type": "execute_result"
    }
   ],
   "source": [
    "r_Model"
   ]
  },
  {
   "cell_type": "code",
   "execution_count": 188,
   "metadata": {},
   "outputs": [
    {
     "data": {
      "application/vnd.plotly.v1+json": {
       "config": {
        "plotlyServerURL": "https://plot.ly"
       },
       "data": [
        {
         "name": "train_R2",
         "orientation": "h",
         "type": "bar",
         "x": [
          0.8932252387833807,
          0.9973972165793931,
          0.999999999999999,
          0.8674381244184682
         ],
         "y": [
          "MLR",
          "RF",
          "KNN",
          "LASSO"
         ]
        },
        {
         "name": "test_R2",
         "orientation": "h",
         "type": "bar",
         "x": [
          0.867568269349972,
          0.9701722096789243,
          0.503782938233493,
          0.8518091001703734
         ],
         "y": [
          "MLR",
          "RF",
          "KNN",
          "LASSO"
         ]
        }
       ],
       "layout": {
        "barmode": "group",
        "template": {
         "data": {
          "bar": [
           {
            "error_x": {
             "color": "#2a3f5f"
            },
            "error_y": {
             "color": "#2a3f5f"
            },
            "marker": {
             "line": {
              "color": "#E5ECF6",
              "width": 0.5
             },
             "pattern": {
              "fillmode": "overlay",
              "size": 10,
              "solidity": 0.2
             }
            },
            "type": "bar"
           }
          ],
          "barpolar": [
           {
            "marker": {
             "line": {
              "color": "#E5ECF6",
              "width": 0.5
             },
             "pattern": {
              "fillmode": "overlay",
              "size": 10,
              "solidity": 0.2
             }
            },
            "type": "barpolar"
           }
          ],
          "carpet": [
           {
            "aaxis": {
             "endlinecolor": "#2a3f5f",
             "gridcolor": "white",
             "linecolor": "white",
             "minorgridcolor": "white",
             "startlinecolor": "#2a3f5f"
            },
            "baxis": {
             "endlinecolor": "#2a3f5f",
             "gridcolor": "white",
             "linecolor": "white",
             "minorgridcolor": "white",
             "startlinecolor": "#2a3f5f"
            },
            "type": "carpet"
           }
          ],
          "choropleth": [
           {
            "colorbar": {
             "outlinewidth": 0,
             "ticks": ""
            },
            "type": "choropleth"
           }
          ],
          "contour": [
           {
            "colorbar": {
             "outlinewidth": 0,
             "ticks": ""
            },
            "colorscale": [
             [
              0,
              "#0d0887"
             ],
             [
              0.1111111111111111,
              "#46039f"
             ],
             [
              0.2222222222222222,
              "#7201a8"
             ],
             [
              0.3333333333333333,
              "#9c179e"
             ],
             [
              0.4444444444444444,
              "#bd3786"
             ],
             [
              0.5555555555555556,
              "#d8576b"
             ],
             [
              0.6666666666666666,
              "#ed7953"
             ],
             [
              0.7777777777777778,
              "#fb9f3a"
             ],
             [
              0.8888888888888888,
              "#fdca26"
             ],
             [
              1,
              "#f0f921"
             ]
            ],
            "type": "contour"
           }
          ],
          "contourcarpet": [
           {
            "colorbar": {
             "outlinewidth": 0,
             "ticks": ""
            },
            "type": "contourcarpet"
           }
          ],
          "heatmap": [
           {
            "colorbar": {
             "outlinewidth": 0,
             "ticks": ""
            },
            "colorscale": [
             [
              0,
              "#0d0887"
             ],
             [
              0.1111111111111111,
              "#46039f"
             ],
             [
              0.2222222222222222,
              "#7201a8"
             ],
             [
              0.3333333333333333,
              "#9c179e"
             ],
             [
              0.4444444444444444,
              "#bd3786"
             ],
             [
              0.5555555555555556,
              "#d8576b"
             ],
             [
              0.6666666666666666,
              "#ed7953"
             ],
             [
              0.7777777777777778,
              "#fb9f3a"
             ],
             [
              0.8888888888888888,
              "#fdca26"
             ],
             [
              1,
              "#f0f921"
             ]
            ],
            "type": "heatmap"
           }
          ],
          "heatmapgl": [
           {
            "colorbar": {
             "outlinewidth": 0,
             "ticks": ""
            },
            "colorscale": [
             [
              0,
              "#0d0887"
             ],
             [
              0.1111111111111111,
              "#46039f"
             ],
             [
              0.2222222222222222,
              "#7201a8"
             ],
             [
              0.3333333333333333,
              "#9c179e"
             ],
             [
              0.4444444444444444,
              "#bd3786"
             ],
             [
              0.5555555555555556,
              "#d8576b"
             ],
             [
              0.6666666666666666,
              "#ed7953"
             ],
             [
              0.7777777777777778,
              "#fb9f3a"
             ],
             [
              0.8888888888888888,
              "#fdca26"
             ],
             [
              1,
              "#f0f921"
             ]
            ],
            "type": "heatmapgl"
           }
          ],
          "histogram": [
           {
            "marker": {
             "pattern": {
              "fillmode": "overlay",
              "size": 10,
              "solidity": 0.2
             }
            },
            "type": "histogram"
           }
          ],
          "histogram2d": [
           {
            "colorbar": {
             "outlinewidth": 0,
             "ticks": ""
            },
            "colorscale": [
             [
              0,
              "#0d0887"
             ],
             [
              0.1111111111111111,
              "#46039f"
             ],
             [
              0.2222222222222222,
              "#7201a8"
             ],
             [
              0.3333333333333333,
              "#9c179e"
             ],
             [
              0.4444444444444444,
              "#bd3786"
             ],
             [
              0.5555555555555556,
              "#d8576b"
             ],
             [
              0.6666666666666666,
              "#ed7953"
             ],
             [
              0.7777777777777778,
              "#fb9f3a"
             ],
             [
              0.8888888888888888,
              "#fdca26"
             ],
             [
              1,
              "#f0f921"
             ]
            ],
            "type": "histogram2d"
           }
          ],
          "histogram2dcontour": [
           {
            "colorbar": {
             "outlinewidth": 0,
             "ticks": ""
            },
            "colorscale": [
             [
              0,
              "#0d0887"
             ],
             [
              0.1111111111111111,
              "#46039f"
             ],
             [
              0.2222222222222222,
              "#7201a8"
             ],
             [
              0.3333333333333333,
              "#9c179e"
             ],
             [
              0.4444444444444444,
              "#bd3786"
             ],
             [
              0.5555555555555556,
              "#d8576b"
             ],
             [
              0.6666666666666666,
              "#ed7953"
             ],
             [
              0.7777777777777778,
              "#fb9f3a"
             ],
             [
              0.8888888888888888,
              "#fdca26"
             ],
             [
              1,
              "#f0f921"
             ]
            ],
            "type": "histogram2dcontour"
           }
          ],
          "mesh3d": [
           {
            "colorbar": {
             "outlinewidth": 0,
             "ticks": ""
            },
            "type": "mesh3d"
           }
          ],
          "parcoords": [
           {
            "line": {
             "colorbar": {
              "outlinewidth": 0,
              "ticks": ""
             }
            },
            "type": "parcoords"
           }
          ],
          "pie": [
           {
            "automargin": true,
            "type": "pie"
           }
          ],
          "scatter": [
           {
            "fillpattern": {
             "fillmode": "overlay",
             "size": 10,
             "solidity": 0.2
            },
            "type": "scatter"
           }
          ],
          "scatter3d": [
           {
            "line": {
             "colorbar": {
              "outlinewidth": 0,
              "ticks": ""
             }
            },
            "marker": {
             "colorbar": {
              "outlinewidth": 0,
              "ticks": ""
             }
            },
            "type": "scatter3d"
           }
          ],
          "scattercarpet": [
           {
            "marker": {
             "colorbar": {
              "outlinewidth": 0,
              "ticks": ""
             }
            },
            "type": "scattercarpet"
           }
          ],
          "scattergeo": [
           {
            "marker": {
             "colorbar": {
              "outlinewidth": 0,
              "ticks": ""
             }
            },
            "type": "scattergeo"
           }
          ],
          "scattergl": [
           {
            "marker": {
             "colorbar": {
              "outlinewidth": 0,
              "ticks": ""
             }
            },
            "type": "scattergl"
           }
          ],
          "scattermapbox": [
           {
            "marker": {
             "colorbar": {
              "outlinewidth": 0,
              "ticks": ""
             }
            },
            "type": "scattermapbox"
           }
          ],
          "scatterpolar": [
           {
            "marker": {
             "colorbar": {
              "outlinewidth": 0,
              "ticks": ""
             }
            },
            "type": "scatterpolar"
           }
          ],
          "scatterpolargl": [
           {
            "marker": {
             "colorbar": {
              "outlinewidth": 0,
              "ticks": ""
             }
            },
            "type": "scatterpolargl"
           }
          ],
          "scatterternary": [
           {
            "marker": {
             "colorbar": {
              "outlinewidth": 0,
              "ticks": ""
             }
            },
            "type": "scatterternary"
           }
          ],
          "surface": [
           {
            "colorbar": {
             "outlinewidth": 0,
             "ticks": ""
            },
            "colorscale": [
             [
              0,
              "#0d0887"
             ],
             [
              0.1111111111111111,
              "#46039f"
             ],
             [
              0.2222222222222222,
              "#7201a8"
             ],
             [
              0.3333333333333333,
              "#9c179e"
             ],
             [
              0.4444444444444444,
              "#bd3786"
             ],
             [
              0.5555555555555556,
              "#d8576b"
             ],
             [
              0.6666666666666666,
              "#ed7953"
             ],
             [
              0.7777777777777778,
              "#fb9f3a"
             ],
             [
              0.8888888888888888,
              "#fdca26"
             ],
             [
              1,
              "#f0f921"
             ]
            ],
            "type": "surface"
           }
          ],
          "table": [
           {
            "cells": {
             "fill": {
              "color": "#EBF0F8"
             },
             "line": {
              "color": "white"
             }
            },
            "header": {
             "fill": {
              "color": "#C8D4E3"
             },
             "line": {
              "color": "white"
             }
            },
            "type": "table"
           }
          ]
         },
         "layout": {
          "annotationdefaults": {
           "arrowcolor": "#2a3f5f",
           "arrowhead": 0,
           "arrowwidth": 1
          },
          "autotypenumbers": "strict",
          "coloraxis": {
           "colorbar": {
            "outlinewidth": 0,
            "ticks": ""
           }
          },
          "colorscale": {
           "diverging": [
            [
             0,
             "#8e0152"
            ],
            [
             0.1,
             "#c51b7d"
            ],
            [
             0.2,
             "#de77ae"
            ],
            [
             0.3,
             "#f1b6da"
            ],
            [
             0.4,
             "#fde0ef"
            ],
            [
             0.5,
             "#f7f7f7"
            ],
            [
             0.6,
             "#e6f5d0"
            ],
            [
             0.7,
             "#b8e186"
            ],
            [
             0.8,
             "#7fbc41"
            ],
            [
             0.9,
             "#4d9221"
            ],
            [
             1,
             "#276419"
            ]
           ],
           "sequential": [
            [
             0,
             "#0d0887"
            ],
            [
             0.1111111111111111,
             "#46039f"
            ],
            [
             0.2222222222222222,
             "#7201a8"
            ],
            [
             0.3333333333333333,
             "#9c179e"
            ],
            [
             0.4444444444444444,
             "#bd3786"
            ],
            [
             0.5555555555555556,
             "#d8576b"
            ],
            [
             0.6666666666666666,
             "#ed7953"
            ],
            [
             0.7777777777777778,
             "#fb9f3a"
            ],
            [
             0.8888888888888888,
             "#fdca26"
            ],
            [
             1,
             "#f0f921"
            ]
           ],
           "sequentialminus": [
            [
             0,
             "#0d0887"
            ],
            [
             0.1111111111111111,
             "#46039f"
            ],
            [
             0.2222222222222222,
             "#7201a8"
            ],
            [
             0.3333333333333333,
             "#9c179e"
            ],
            [
             0.4444444444444444,
             "#bd3786"
            ],
            [
             0.5555555555555556,
             "#d8576b"
            ],
            [
             0.6666666666666666,
             "#ed7953"
            ],
            [
             0.7777777777777778,
             "#fb9f3a"
            ],
            [
             0.8888888888888888,
             "#fdca26"
            ],
            [
             1,
             "#f0f921"
            ]
           ]
          },
          "colorway": [
           "#636efa",
           "#EF553B",
           "#00cc96",
           "#ab63fa",
           "#FFA15A",
           "#19d3f3",
           "#FF6692",
           "#B6E880",
           "#FF97FF",
           "#FECB52"
          ],
          "font": {
           "color": "#2a3f5f"
          },
          "geo": {
           "bgcolor": "white",
           "lakecolor": "white",
           "landcolor": "#E5ECF6",
           "showlakes": true,
           "showland": true,
           "subunitcolor": "white"
          },
          "hoverlabel": {
           "align": "left"
          },
          "hovermode": "closest",
          "mapbox": {
           "style": "light"
          },
          "paper_bgcolor": "white",
          "plot_bgcolor": "#E5ECF6",
          "polar": {
           "angularaxis": {
            "gridcolor": "white",
            "linecolor": "white",
            "ticks": ""
           },
           "bgcolor": "#E5ECF6",
           "radialaxis": {
            "gridcolor": "white",
            "linecolor": "white",
            "ticks": ""
           }
          },
          "scene": {
           "xaxis": {
            "backgroundcolor": "#E5ECF6",
            "gridcolor": "white",
            "gridwidth": 2,
            "linecolor": "white",
            "showbackground": true,
            "ticks": "",
            "zerolinecolor": "white"
           },
           "yaxis": {
            "backgroundcolor": "#E5ECF6",
            "gridcolor": "white",
            "gridwidth": 2,
            "linecolor": "white",
            "showbackground": true,
            "ticks": "",
            "zerolinecolor": "white"
           },
           "zaxis": {
            "backgroundcolor": "#E5ECF6",
            "gridcolor": "white",
            "gridwidth": 2,
            "linecolor": "white",
            "showbackground": true,
            "ticks": "",
            "zerolinecolor": "white"
           }
          },
          "shapedefaults": {
           "line": {
            "color": "#2a3f5f"
           }
          },
          "ternary": {
           "aaxis": {
            "gridcolor": "white",
            "linecolor": "white",
            "ticks": ""
           },
           "baxis": {
            "gridcolor": "white",
            "linecolor": "white",
            "ticks": ""
           },
           "bgcolor": "#E5ECF6",
           "caxis": {
            "gridcolor": "white",
            "linecolor": "white",
            "ticks": ""
           }
          },
          "title": {
           "x": 0.05
          },
          "xaxis": {
           "automargin": true,
           "gridcolor": "white",
           "linecolor": "white",
           "ticks": "",
           "title": {
            "standoff": 15
           },
           "zerolinecolor": "white",
           "zerolinewidth": 2
          },
          "yaxis": {
           "automargin": true,
           "gridcolor": "white",
           "linecolor": "white",
           "ticks": "",
           "title": {
            "standoff": 15
           },
           "zerolinecolor": "white",
           "zerolinewidth": 2
          }
         }
        },
        "title": {
         "text": "R-square score (R2) plot of the predictive models using train and test data"
        }
       }
      }
     },
     "metadata": {},
     "output_type": "display_data"
    }
   ],
   "source": [
    "\n",
    "y=['MLR', 'RF', 'KNN', 'LASSO']\n",
    "x1= r_Model.loc['train_R2']\n",
    "x2= r_Model.loc['test_R2']\n",
    "\n",
    "trace1 = go.Bar(y=y, x=x1, name='train_R2', orientation='h')\n",
    "trace2 = go.Bar(y=y, x=x2, name='test_R2', orientation='h')\n",
    "\n",
    "data = [trace1, trace2]\n",
    "\n",
    "layout = go.Layout(barmode='group', title='R-square score (R2) plot of the predictive models using train and test data')\n",
    "\n",
    "fig = go.Figure(data=data, layout=layout)\n",
    "fig.show()\n"
   ]
  },
  {
   "cell_type": "code",
   "execution_count": 189,
   "metadata": {},
   "outputs": [
    {
     "data": {
      "application/vnd.plotly.v1+json": {
       "config": {
        "plotlyServerURL": "https://plot.ly"
       },
       "data": [
        {
         "marker": {
          "color": "blue"
         },
         "mode": "markers",
         "type": "scatter",
         "x": [
          8.160518247477505,
          8.987196820661973,
          7.170119543449628,
          8.476371196895983,
          7.438383530044307,
          7.170119543449628,
          9.011889433252344,
          7.24422751560335,
          8.83927669058535,
          9.20029003612268,
          7.24422751560335,
          8.68270762989381,
          9.126958731588145,
          8.68270762989381,
          7.783224108058157,
          8.575462099540212,
          9.0595174822416,
          8.389359819906353,
          8.594154232552366,
          8.794824928014517,
          8.948975607841776,
          8.732304571033183,
          7.649692623711514,
          7.090076835776092,
          8.895629627136483,
          7.90100705199242,
          7.549609165154532,
          8.594154232552366,
          7.649692623711514,
          8.131530710604252,
          8.006367567650246,
          8.881836230921222,
          9.137769679141348,
          7.170119543449628,
          7.24422751560335,
          7.696212639346407,
          9.259130536145614,
          9.035986984831405,
          8.594154232552366,
          9.035986984831405,
          7.438383530044307,
          8.496990484098719,
          7.170119543449628,
          7.495541943884256,
          8.594154232552366,
          9.024010753689643,
          9.082507000466299,
          7.170119543449628,
          9.071078281735236,
          7.003065458786462,
          8.895629627136483,
          8.732304571033183,
          8.101677747454572,
          8.575462099540212,
          8.517193191416238,
          7.170119543449628,
          8.476371196895983,
          8.517193191416238,
          9.011889433252344,
          8.68270762989381,
          7.313220387090301,
          9.137769646865479,
          9.169518377455928,
          8.824677891164198,
          8.764053269347762,
          8.83927669058535,
          8.006367567650246,
          7.495541943884256,
          8.895629627136483,
          9.230142999272362,
          9.071078304642676,
          8.45531778769815,
          8.895629627136483,
          8.160518247477505,
          9.011889433252344,
          9.02401079378469,
          8.824677891164198,
          8.294049640102028,
          8.764053269347762,
          8.575462099540212,
          8.699514748210191,
          9.02401079378469,
          9.20029003612268,
          9.035986984831405,
          7.649692623711514,
          8.517193191416238,
          8.131530710604252,
          7.003065458786462,
          7.783224016336037,
          8.974618038455112,
          8.935903526274423,
          8.34283980427146,
          8.987196820661973,
          7.313220387090301,
          8.34283980427146,
          7.8632667240095735,
          9.082507000466299,
          8.85366542803745,
          8.83927669058535,
          8.68270762989381,
          9.093806555720231,
          9.011889433252344,
          8.517193191416238,
          9.190137664658664,
          8.45531778769815,
          8.794824928014517,
          7.824046080489611,
          7.696212639346407,
          8.881836305004146,
          7.170119543449628,
          8.556413904569519,
          8.556413904569519,
          7.170119543449628,
          7.937374696163295,
          7.170119543449628,
          9.035986984831405,
          9.093806555720231,
          7.783224016336037,
          9.011889433252344,
          8.881836305004146,
          7.8632667240095735,
          8.556413904569519,
          8.909235279192261,
          8.594154232552366,
          9.093806481501941,
          8.935903526274423,
          8.101677747454572,
          8.496990484098719,
          8.824677891164198,
          9.035986984831405,
          7.090076835776092,
          7.24422751560335,
          8.160518247477505,
          9.093806555720231,
          8.34283980427146,
          8.45531778769815,
          9.0595174822416,
          8.268731832117737,
          7.24422762328431,
          7.824046010856292,
          8.85366542803745,
          8.389359819906353,
          8.881836305004146,
          7.696212639346407,
          7.824046010856292,
          9.116029692504942,
          9.011889433252344,
          9.148464968258095,
          8.85366542803745,
          7.003065458786462,
          7.090076835776092,
          8.496990484098719,
          9.20029003612268,
          9.169518329685749,
          7.495541943884256,
          8.594154232552366,
          8.411832675758411,
          8.909235279192261,
          8.411832675758411,
          8.575462099540212,
          9.126958763037132,
          8.160518247477505,
          7.003065458786462,
          9.148464968258095,
          7.090076835776092,
          9.071078304642676,
          9.137769679141348,
          9.190137664658664,
          8.974618038455112,
          8.961879012677683,
          9.011889433252344,
          8.794824928014517,
          8.294049640102028,
          8.948975607841776,
          8.961878971609176,
          7.696212698781394,
          8.131530710604252,
          7.244227672551951,
          7.24422751560335,
          9.230142999272362,
          9.20029003612268,
          8.556413904569519,
          8.45531778769815,
          9.179881164491475,
          7.313220387090301,
          9.035986984831405,
          8.824677891164198,
          7.696212639346407,
          8.268731832117737,
          9.137769679141348,
          9.169518377455928,
          9.02401079378469,
          9.137769679141348,
          8.630521876723241,
          9.116029692504942,
          8.411832675758411,
          8.34283980427146,
          8.881836305004146,
          9.093806555720231,
          8.294049640102028,
          9.035986984831405,
          7.438383530044307,
          9.169518377455928,
          8.556413904569519,
          8.824677891164198,
          7.003065458786462,
          8.66561319653451,
          7.972466054225639,
          8.895629627136483,
          7.170119543449628,
          7.24422751560335,
          9.230142966230497,
          7.24422751560335,
          8.318742252692399,
          7.649692623711514,
          7.649692623711514,
          8.476371196895983,
          8.895629627136483,
          9.035986984831405,
          9.035986893573396,
          8.648221453822641,
          8.948975607841776,
          7.313220387090301,
          8.748304912379623,
          8.101677747454572,
          7.600902459542082,
          8.131530710604252,
          7.696212639346407,
          7.438383530044307,
          7.649692623711514,
          8.101677747454572,
          9.035986984831405,
          7.313220387090301,
          8.242756345714477,
          8.895629627136483,
          7.9724660159745655,
          8.131530710604252,
          8.575462099540212,
          8.006367567650246,
          8.45531778769815,
          7.600902459542082,
          7.438383530044307,
          8.389359819906353,
          9.02401079378469,
          7.170119543449628,
          7.824046010856292,
          8.764053269347762,
          9.082507000466299,
          8.748304912379623,
          7.696212639346407,
          8.101677747454572,
          7.24422751560335,
          9.035986984831405,
          8.66561319653451,
          8.85366542803745,
          8.101677747454572,
          7.313220387090301,
          8.34283980427146,
          9.190137664658664,
          8.83927669058535,
          9.230142999272362,
          8.824677891164198,
          8.935903526274423,
          8.948975607841776,
          9.169518302203045,
          7.549609165154532,
          9.179881164491475,
          9.126958748162146,
          9.071078304642676,
          8.974618038455112,
          8.987196820661973,
          8.66561319653451,
          8.496990484098719,
          7.438383530044307,
          9.190137664658664,
          7.170119543449628,
          9.116029692504942,
          8.160518247477505,
          8.496990484098719,
          9.116029692504942,
          9.137769679141348,
          8.556413904569519,
          8.594154232552366,
          8.987196820661973,
          8.575462099540212,
          8.34283980427146,
          8.764053269347762,
          8.575462099540212,
          8.101677747454572,
          8.594154232552366,
          7.438383530044307,
          8.68270762989381,
          8.294049640102028,
          8.160518247477505,
          9.082507000466299,
          7.937374696163295,
          9.148464968258095,
          8.948975607841776,
          9.011889433252344,
          8.101677747454572,
          8.160518247477505,
          8.34283980427146,
          8.748304912379623,
          7.649692623711514,
          8.34283980427146,
          7.003065458786462,
          8.160518247477505,
          8.648221453822641,
          9.02401079378469,
          7.090076835776092,
          8.987196820661973,
          7.090077043185074,
          8.935903526274423,
          9.137769679141348,
          8.101677747454572,
          8.881836305004146,
          8.824677891164198,
          8.411832675758411,
          8.824677891164198,
          9.148464919955016,
          7.90100705199242,
          9.035986984831405,
          9.20029003612268,
          9.0595174822416,
          8.556413904569519,
          8.630521876723241,
          8.476371196895983,
          8.66561319653451,
          8.242756345714477,
          9.116029666317006,
          9.035986984831405,
          7.549609165154532,
          7.24422751560335,
          8.764053269347762,
          8.824677891164198,
          8.10167778765116,
          7.170119543449628,
          8.794824928014517,
          7.8632667240095735,
          8.294049640102028,
          9.137769679141348,
          8.961879012677683,
          8.85366542803745,
          8.699514748210191,
          9.259130536145614,
          8.94897559873617,
          9.024010749797062,
          7.600902459542082,
          8.556413904569519,
          8.881836305004146,
          7.090076835776092,
          9.126958763037132,
          9.08250693151709,
          8.294049640102028,
          7.313220387090301,
          8.648221453822641,
          9.093806555720231,
          8.699514748210191,
          7.824046010856292,
          9.249561085129464,
          9.20029001500779,
          7.549609165154532,
          9.011889433252344,
          7.170119543449628,
          8.974617953191409,
          7.438383676508559,
          7.090076835776092,
          8.160518247477505,
          9.116029692504942,
          7.244227584450091,
          7.438383530044307,
          8.794824928014517,
          8.131530710604252,
          9.190137664658664,
          9.116029692504942,
          8.630521876723241,
          8.974618038455112,
          8.909235279192261,
          7.003065458786462,
          9.148464968258095,
          9.148464968258095,
          8.318742252692399,
          9.035986984831405,
          8.935903526274423,
          8.881836305004146,
          8.101677747454572,
          7.090076835776092,
          8.433811582477187,
          8.895629627136483,
          8.006367589802343,
          7.824046010856292,
          8.294049640102028,
          9.02401079378469,
          7.313220387090301,
          8.935903526274423,
          8.411832675758411,
          8.948975607841776,
          7.495541943884256,
          8.83927669058535,
          7.313220387090301,
          8.556413904569519,
          8.242756345714477,
          7.78322412156014,
          9.082507000466299,
          9.259130536145614,
          8.895629627136483,
          8.987196820661973,
          7.170119543449628,
          8.895629540273394,
          8.974618038455112,
          7.313220387090301,
          8.948975607841776,
          7.495541943884256,
          8.824677891164198,
          9.011889433252344,
          8.101677747454572
         ],
         "y": [
          8.160518247477505,
          8.987196820661973,
          7.170119543449628,
          8.476371196895983,
          7.438383530044307,
          7.170119543449628,
          9.011889433252344,
          7.24422751560335,
          8.83927669058535,
          9.20029003612268,
          7.24422751560335,
          8.68270762989381,
          9.126958763037132,
          8.68270762989381,
          7.783224016336037,
          8.575462099540212,
          9.0595174822416,
          8.389359819906353,
          8.594154232552366,
          8.794824928014517,
          8.948975607841776,
          8.732304571033183,
          7.649692623711514,
          7.090076835776092,
          8.895629627136483,
          7.90100705199242,
          7.549609165154532,
          8.594154232552366,
          7.649692623711514,
          8.131530710604252,
          8.006367567650246,
          8.881836305004146,
          9.137769679141348,
          7.170119543449628,
          7.24422751560335,
          7.696212639346407,
          9.259130536145614,
          9.035986984831405,
          8.594154232552366,
          9.035986984831405,
          7.438383530044307,
          8.496990484098719,
          7.170119543449628,
          7.495541943884256,
          8.594154232552366,
          9.02401079378469,
          9.082507000466299,
          7.170119543449628,
          9.071078304642676,
          7.003065458786462,
          8.895629627136483,
          8.732304571033183,
          8.101677747454572,
          8.575462099540212,
          8.517193191416238,
          7.170119543449628,
          8.476371196895983,
          8.517193191416238,
          9.011889433252344,
          8.68270762989381,
          7.313220387090301,
          9.137769679141348,
          9.169518377455928,
          8.824677891164198,
          8.764053269347762,
          8.83927669058535,
          8.006367567650246,
          7.495541943884256,
          8.895629627136483,
          9.230142999272362,
          9.071078304642676,
          8.45531778769815,
          8.895629627136483,
          8.160518247477505,
          9.011889433252344,
          9.02401079378469,
          8.824677891164198,
          8.294049640102028,
          8.764053269347762,
          8.575462099540212,
          8.699514748210191,
          9.02401079378469,
          9.20029003612268,
          9.035986984831405,
          7.649692623711514,
          8.517193191416238,
          8.131530710604252,
          7.003065458786462,
          7.783224016336037,
          8.974618038455112,
          8.935903526274423,
          8.34283980427146,
          8.987196820661973,
          7.313220387090301,
          8.34283980427146,
          7.8632667240095735,
          9.082507000466299,
          8.85366542803745,
          8.83927669058535,
          8.68270762989381,
          9.093806555720231,
          9.011889433252344,
          8.517193191416238,
          9.190137664658664,
          8.45531778769815,
          8.794824928014517,
          7.824046010856292,
          7.696212639346407,
          8.881836305004146,
          7.170119543449628,
          8.556413904569519,
          8.556413904569519,
          7.170119543449628,
          7.937374696163295,
          7.170119543449628,
          9.035986984831405,
          9.093806555720231,
          7.783224016336037,
          9.011889433252344,
          8.881836305004146,
          7.8632667240095735,
          8.556413904569519,
          8.909235279192261,
          8.594154232552366,
          9.093806555720231,
          8.935903526274423,
          8.101677747454572,
          8.496990484098719,
          8.824677891164198,
          9.035986984831405,
          7.090076835776092,
          7.24422751560335,
          8.160518247477505,
          9.093806555720231,
          8.34283980427146,
          8.45531778769815,
          9.0595174822416,
          8.268731832117737,
          7.24422751560335,
          7.824046010856292,
          8.85366542803745,
          8.389359819906353,
          8.881836305004146,
          7.696212639346407,
          7.824046010856292,
          9.116029692504942,
          9.011889433252344,
          9.148464968258095,
          8.85366542803745,
          7.003065458786462,
          7.090076835776092,
          8.496990484098719,
          9.20029003612268,
          9.169518377455928,
          7.495541943884256,
          8.594154232552366,
          8.411832675758411,
          8.909235279192261,
          8.411832675758411,
          8.575462099540212,
          9.126958763037132,
          8.160518247477505,
          7.003065458786462,
          9.148464968258095,
          7.090076835776092,
          9.071078304642676,
          9.137769679141348,
          9.190137664658664,
          8.974618038455112,
          8.961879012677683,
          9.011889433252344,
          8.794824928014517,
          8.294049640102028,
          8.948975607841776,
          8.961879012677683,
          7.696212639346407,
          8.131530710604252,
          7.24422751560335,
          7.24422751560335,
          9.230142999272362,
          9.20029003612268,
          8.556413904569519,
          8.45531778769815,
          9.179881164491475,
          7.313220387090301,
          9.035986984831405,
          8.824677891164198,
          7.696212639346407,
          8.268731832117737,
          9.137769679141348,
          9.169518377455928,
          9.02401079378469,
          9.137769679141348,
          8.630521876723241,
          9.116029692504942,
          8.411832675758411,
          8.34283980427146,
          8.881836305004146,
          9.093806555720231,
          8.294049640102028,
          9.035986984831405,
          7.438383530044307,
          9.169518377455928,
          8.556413904569519,
          8.824677891164198,
          7.003065458786462,
          8.66561319653451,
          7.9724660159745655,
          8.895629627136483,
          7.170119543449628,
          7.24422751560335,
          9.230142999272362,
          7.24422751560335,
          8.318742252692399,
          7.649692623711514,
          7.649692623711514,
          8.476371196895983,
          8.895629627136483,
          9.035986984831405,
          9.035986984831405,
          8.648221453822641,
          8.948975607841776,
          7.313220387090301,
          8.748304912379623,
          8.101677747454572,
          7.600902459542082,
          8.131530710604252,
          7.696212639346407,
          7.438383530044307,
          7.649692623711514,
          8.101677747454572,
          9.035986984831405,
          7.313220387090301,
          8.242756345714477,
          8.895629627136483,
          7.9724660159745655,
          8.131530710604252,
          8.575462099540212,
          8.006367567650246,
          8.45531778769815,
          7.600902459542082,
          7.438383530044307,
          8.389359819906353,
          9.02401079378469,
          7.170119543449628,
          7.824046010856292,
          8.764053269347762,
          9.082507000466299,
          8.748304912379623,
          7.696212639346407,
          8.101677747454572,
          7.24422751560335,
          9.035986984831405,
          8.66561319653451,
          8.85366542803745,
          8.101677747454572,
          7.313220387090301,
          8.34283980427146,
          9.190137664658664,
          8.83927669058535,
          9.230142999272362,
          8.824677891164198,
          8.935903526274423,
          8.948975607841776,
          9.169518377455928,
          7.549609165154532,
          9.179881164491475,
          9.126958763037132,
          9.071078304642676,
          8.974618038455112,
          8.987196820661973,
          8.66561319653451,
          8.496990484098719,
          7.438383530044307,
          9.190137664658664,
          7.170119543449628,
          9.116029692504942,
          8.160518247477505,
          8.496990484098719,
          9.116029692504942,
          9.137769679141348,
          8.556413904569519,
          8.594154232552366,
          8.987196820661973,
          8.575462099540212,
          8.34283980427146,
          8.764053269347762,
          8.575462099540212,
          8.101677747454572,
          8.594154232552366,
          7.438383530044307,
          8.68270762989381,
          8.294049640102028,
          8.160518247477505,
          9.082507000466299,
          7.937374696163295,
          9.148464968258095,
          8.948975607841776,
          9.011889433252344,
          8.101677747454572,
          8.160518247477505,
          8.34283980427146,
          8.748304912379623,
          7.649692623711514,
          8.34283980427146,
          7.003065458786462,
          8.160518247477505,
          8.648221453822641,
          9.02401079378469,
          7.090076835776092,
          8.987196820661973,
          7.090076835776092,
          8.935903526274423,
          9.137769679141348,
          8.101677747454572,
          8.881836305004146,
          8.824677891164198,
          8.411832675758411,
          8.824677891164198,
          9.148464968258095,
          7.90100705199242,
          9.035986984831405,
          9.20029003612268,
          9.0595174822416,
          8.556413904569519,
          8.630521876723241,
          8.476371196895983,
          8.66561319653451,
          8.242756345714477,
          9.116029692504942,
          9.035986984831405,
          7.549609165154532,
          7.24422751560335,
          8.764053269347762,
          8.824677891164198,
          8.101677747454572,
          7.170119543449628,
          8.794824928014517,
          7.8632667240095735,
          8.294049640102028,
          9.137769679141348,
          8.961879012677683,
          8.85366542803745,
          8.699514748210191,
          9.259130536145614,
          8.948975607841776,
          9.02401079378469,
          7.600902459542082,
          8.556413904569519,
          8.881836305004146,
          7.090076835776092,
          9.126958763037132,
          9.082507000466299,
          8.294049640102028,
          7.313220387090301,
          8.648221453822641,
          9.093806555720231,
          8.699514748210191,
          7.824046010856292,
          9.249561085129464,
          9.20029003612268,
          7.549609165154532,
          9.011889433252344,
          7.170119543449628,
          8.974618038455112,
          7.438383530044307,
          7.090076835776092,
          8.160518247477505,
          9.116029692504942,
          7.24422751560335,
          7.438383530044307,
          8.794824928014517,
          8.131530710604252,
          9.190137664658664,
          9.116029692504942,
          8.630521876723241,
          8.974618038455112,
          8.909235279192261,
          7.003065458786462,
          9.148464968258095,
          9.148464968258095,
          8.318742252692399,
          9.035986984831405,
          8.935903526274423,
          8.881836305004146,
          8.101677747454572,
          7.090076835776092,
          8.433811582477187,
          8.895629627136483,
          8.006367567650246,
          7.824046010856292,
          8.294049640102028,
          9.02401079378469,
          7.313220387090301,
          8.935903526274423,
          8.411832675758411,
          8.948975607841776,
          7.495541943884256,
          8.83927669058535,
          7.313220387090301,
          8.556413904569519,
          8.242756345714477,
          7.783224016336037,
          9.082507000466299,
          9.259130536145614,
          8.895629627136483,
          8.987196820661973,
          7.170119543449628,
          8.895629627136483,
          8.974618038455112,
          7.313220387090301,
          8.948975607841776,
          7.495541943884256,
          8.824677891164198,
          9.011889433252344,
          8.101677747454572
         ]
        },
        {
         "line": {
          "color": "red"
         },
         "mode": "lines",
         "type": "scatter",
         "x": [
          8.160518247477505,
          8.987196820661973,
          7.170119543449628,
          8.476371196895983,
          7.438383530044307,
          7.170119543449628,
          9.011889433252344,
          7.24422751560335,
          8.83927669058535,
          9.20029003612268,
          7.24422751560335,
          8.68270762989381,
          9.126958763037132,
          8.68270762989381,
          7.783224016336037,
          8.575462099540212,
          9.0595174822416,
          8.389359819906353,
          8.594154232552366,
          8.794824928014517,
          8.948975607841776,
          8.732304571033183,
          7.649692623711514,
          7.090076835776092,
          8.895629627136483,
          7.90100705199242,
          7.549609165154532,
          8.594154232552366,
          7.649692623711514,
          8.131530710604252,
          8.006367567650246,
          8.881836305004146,
          9.137769679141348,
          7.170119543449628,
          7.24422751560335,
          7.696212639346407,
          9.259130536145614,
          9.035986984831405,
          8.594154232552366,
          9.035986984831405,
          7.438383530044307,
          8.496990484098719,
          7.170119543449628,
          7.495541943884256,
          8.594154232552366,
          9.02401079378469,
          9.082507000466299,
          7.170119543449628,
          9.071078304642676,
          7.003065458786462,
          8.895629627136483,
          8.732304571033183,
          8.101677747454572,
          8.575462099540212,
          8.517193191416238,
          7.170119543449628,
          8.476371196895983,
          8.517193191416238,
          9.011889433252344,
          8.68270762989381,
          7.313220387090301,
          9.137769679141348,
          9.169518377455928,
          8.824677891164198,
          8.764053269347762,
          8.83927669058535,
          8.006367567650246,
          7.495541943884256,
          8.895629627136483,
          9.230142999272362,
          9.071078304642676,
          8.45531778769815,
          8.895629627136483,
          8.160518247477505,
          9.011889433252344,
          9.02401079378469,
          8.824677891164198,
          8.294049640102028,
          8.764053269347762,
          8.575462099540212,
          8.699514748210191,
          9.02401079378469,
          9.20029003612268,
          9.035986984831405,
          7.649692623711514,
          8.517193191416238,
          8.131530710604252,
          7.003065458786462,
          7.783224016336037,
          8.974618038455112,
          8.935903526274423,
          8.34283980427146,
          8.987196820661973,
          7.313220387090301,
          8.34283980427146,
          7.8632667240095735,
          9.082507000466299,
          8.85366542803745,
          8.83927669058535,
          8.68270762989381,
          9.093806555720231,
          9.011889433252344,
          8.517193191416238,
          9.190137664658664,
          8.45531778769815,
          8.794824928014517,
          7.824046010856292,
          7.696212639346407,
          8.881836305004146,
          7.170119543449628,
          8.556413904569519,
          8.556413904569519,
          7.170119543449628,
          7.937374696163295,
          7.170119543449628,
          9.035986984831405,
          9.093806555720231,
          7.783224016336037,
          9.011889433252344,
          8.881836305004146,
          7.8632667240095735,
          8.556413904569519,
          8.909235279192261,
          8.594154232552366,
          9.093806555720231,
          8.935903526274423,
          8.101677747454572,
          8.496990484098719,
          8.824677891164198,
          9.035986984831405,
          7.090076835776092,
          7.24422751560335,
          8.160518247477505,
          9.093806555720231,
          8.34283980427146,
          8.45531778769815,
          9.0595174822416,
          8.268731832117737,
          7.24422751560335,
          7.824046010856292,
          8.85366542803745,
          8.389359819906353,
          8.881836305004146,
          7.696212639346407,
          7.824046010856292,
          9.116029692504942,
          9.011889433252344,
          9.148464968258095,
          8.85366542803745,
          7.003065458786462,
          7.090076835776092,
          8.496990484098719,
          9.20029003612268,
          9.169518377455928,
          7.495541943884256,
          8.594154232552366,
          8.411832675758411,
          8.909235279192261,
          8.411832675758411,
          8.575462099540212,
          9.126958763037132,
          8.160518247477505,
          7.003065458786462,
          9.148464968258095,
          7.090076835776092,
          9.071078304642676,
          9.137769679141348,
          9.190137664658664,
          8.974618038455112,
          8.961879012677683,
          9.011889433252344,
          8.794824928014517,
          8.294049640102028,
          8.948975607841776,
          8.961879012677683,
          7.696212639346407,
          8.131530710604252,
          7.24422751560335,
          7.24422751560335,
          9.230142999272362,
          9.20029003612268,
          8.556413904569519,
          8.45531778769815,
          9.179881164491475,
          7.313220387090301,
          9.035986984831405,
          8.824677891164198,
          7.696212639346407,
          8.268731832117737,
          9.137769679141348,
          9.169518377455928,
          9.02401079378469,
          9.137769679141348,
          8.630521876723241,
          9.116029692504942,
          8.411832675758411,
          8.34283980427146,
          8.881836305004146,
          9.093806555720231,
          8.294049640102028,
          9.035986984831405,
          7.438383530044307,
          9.169518377455928,
          8.556413904569519,
          8.824677891164198,
          7.003065458786462,
          8.66561319653451,
          7.9724660159745655,
          8.895629627136483,
          7.170119543449628,
          7.24422751560335,
          9.230142999272362,
          7.24422751560335,
          8.318742252692399,
          7.649692623711514,
          7.649692623711514,
          8.476371196895983,
          8.895629627136483,
          9.035986984831405,
          9.035986984831405,
          8.648221453822641,
          8.948975607841776,
          7.313220387090301,
          8.748304912379623,
          8.101677747454572,
          7.600902459542082,
          8.131530710604252,
          7.696212639346407,
          7.438383530044307,
          7.649692623711514,
          8.101677747454572,
          9.035986984831405,
          7.313220387090301,
          8.242756345714477,
          8.895629627136483,
          7.9724660159745655,
          8.131530710604252,
          8.575462099540212,
          8.006367567650246,
          8.45531778769815,
          7.600902459542082,
          7.438383530044307,
          8.389359819906353,
          9.02401079378469,
          7.170119543449628,
          7.824046010856292,
          8.764053269347762,
          9.082507000466299,
          8.748304912379623,
          7.696212639346407,
          8.101677747454572,
          7.24422751560335,
          9.035986984831405,
          8.66561319653451,
          8.85366542803745,
          8.101677747454572,
          7.313220387090301,
          8.34283980427146,
          9.190137664658664,
          8.83927669058535,
          9.230142999272362,
          8.824677891164198,
          8.935903526274423,
          8.948975607841776,
          9.169518377455928,
          7.549609165154532,
          9.179881164491475,
          9.126958763037132,
          9.071078304642676,
          8.974618038455112,
          8.987196820661973,
          8.66561319653451,
          8.496990484098719,
          7.438383530044307,
          9.190137664658664,
          7.170119543449628,
          9.116029692504942,
          8.160518247477505,
          8.496990484098719,
          9.116029692504942,
          9.137769679141348,
          8.556413904569519,
          8.594154232552366,
          8.987196820661973,
          8.575462099540212,
          8.34283980427146,
          8.764053269347762,
          8.575462099540212,
          8.101677747454572,
          8.594154232552366,
          7.438383530044307,
          8.68270762989381,
          8.294049640102028,
          8.160518247477505,
          9.082507000466299,
          7.937374696163295,
          9.148464968258095,
          8.948975607841776,
          9.011889433252344,
          8.101677747454572,
          8.160518247477505,
          8.34283980427146,
          8.748304912379623,
          7.649692623711514,
          8.34283980427146,
          7.003065458786462,
          8.160518247477505,
          8.648221453822641,
          9.02401079378469,
          7.090076835776092,
          8.987196820661973,
          7.090076835776092,
          8.935903526274423,
          9.137769679141348,
          8.101677747454572,
          8.881836305004146,
          8.824677891164198,
          8.411832675758411,
          8.824677891164198,
          9.148464968258095,
          7.90100705199242,
          9.035986984831405,
          9.20029003612268,
          9.0595174822416,
          8.556413904569519,
          8.630521876723241,
          8.476371196895983,
          8.66561319653451,
          8.242756345714477,
          9.116029692504942,
          9.035986984831405,
          7.549609165154532,
          7.24422751560335,
          8.764053269347762,
          8.824677891164198,
          8.101677747454572,
          7.170119543449628,
          8.794824928014517,
          7.8632667240095735,
          8.294049640102028,
          9.137769679141348,
          8.961879012677683,
          8.85366542803745,
          8.699514748210191,
          9.259130536145614,
          8.948975607841776,
          9.02401079378469,
          7.600902459542082,
          8.556413904569519,
          8.881836305004146,
          7.090076835776092,
          9.126958763037132,
          9.082507000466299,
          8.294049640102028,
          7.313220387090301,
          8.648221453822641,
          9.093806555720231,
          8.699514748210191,
          7.824046010856292,
          9.249561085129464,
          9.20029003612268,
          7.549609165154532,
          9.011889433252344,
          7.170119543449628,
          8.974618038455112,
          7.438383530044307,
          7.090076835776092,
          8.160518247477505,
          9.116029692504942,
          7.24422751560335,
          7.438383530044307,
          8.794824928014517,
          8.131530710604252,
          9.190137664658664,
          9.116029692504942,
          8.630521876723241,
          8.974618038455112,
          8.909235279192261,
          7.003065458786462,
          9.148464968258095,
          9.148464968258095,
          8.318742252692399,
          9.035986984831405,
          8.935903526274423,
          8.881836305004146,
          8.101677747454572,
          7.090076835776092,
          8.433811582477187,
          8.895629627136483,
          8.006367567650246,
          7.824046010856292,
          8.294049640102028,
          9.02401079378469,
          7.313220387090301,
          8.935903526274423,
          8.411832675758411,
          8.948975607841776,
          7.495541943884256,
          8.83927669058535,
          7.313220387090301,
          8.556413904569519,
          8.242756345714477,
          7.783224016336037,
          9.082507000466299,
          9.259130536145614,
          8.895629627136483,
          8.987196820661973,
          7.170119543449628,
          8.895629627136483,
          8.974618038455112,
          7.313220387090301,
          8.948975607841776,
          7.495541943884256,
          8.824677891164198,
          9.011889433252344,
          8.101677747454572
         ],
         "y": [
          8.160518247477505,
          8.987196820661973,
          7.170119543449628,
          8.476371196895983,
          7.438383530044307,
          7.170119543449628,
          9.011889433252344,
          7.24422751560335,
          8.83927669058535,
          9.20029003612268,
          7.24422751560335,
          8.68270762989381,
          9.126958763037132,
          8.68270762989381,
          7.783224016336037,
          8.575462099540212,
          9.0595174822416,
          8.389359819906353,
          8.594154232552366,
          8.794824928014517,
          8.948975607841776,
          8.732304571033183,
          7.649692623711514,
          7.090076835776092,
          8.895629627136483,
          7.90100705199242,
          7.549609165154532,
          8.594154232552366,
          7.649692623711514,
          8.131530710604252,
          8.006367567650246,
          8.881836305004146,
          9.137769679141348,
          7.170119543449628,
          7.24422751560335,
          7.696212639346407,
          9.259130536145614,
          9.035986984831405,
          8.594154232552366,
          9.035986984831405,
          7.438383530044307,
          8.496990484098719,
          7.170119543449628,
          7.495541943884256,
          8.594154232552366,
          9.02401079378469,
          9.082507000466299,
          7.170119543449628,
          9.071078304642676,
          7.003065458786462,
          8.895629627136483,
          8.732304571033183,
          8.101677747454572,
          8.575462099540212,
          8.517193191416238,
          7.170119543449628,
          8.476371196895983,
          8.517193191416238,
          9.011889433252344,
          8.68270762989381,
          7.313220387090301,
          9.137769679141348,
          9.169518377455928,
          8.824677891164198,
          8.764053269347762,
          8.83927669058535,
          8.006367567650246,
          7.495541943884256,
          8.895629627136483,
          9.230142999272362,
          9.071078304642676,
          8.45531778769815,
          8.895629627136483,
          8.160518247477505,
          9.011889433252344,
          9.02401079378469,
          8.824677891164198,
          8.294049640102028,
          8.764053269347762,
          8.575462099540212,
          8.699514748210191,
          9.02401079378469,
          9.20029003612268,
          9.035986984831405,
          7.649692623711514,
          8.517193191416238,
          8.131530710604252,
          7.003065458786462,
          7.783224016336037,
          8.974618038455112,
          8.935903526274423,
          8.34283980427146,
          8.987196820661973,
          7.313220387090301,
          8.34283980427146,
          7.8632667240095735,
          9.082507000466299,
          8.85366542803745,
          8.83927669058535,
          8.68270762989381,
          9.093806555720231,
          9.011889433252344,
          8.517193191416238,
          9.190137664658664,
          8.45531778769815,
          8.794824928014517,
          7.824046010856292,
          7.696212639346407,
          8.881836305004146,
          7.170119543449628,
          8.556413904569519,
          8.556413904569519,
          7.170119543449628,
          7.937374696163295,
          7.170119543449628,
          9.035986984831405,
          9.093806555720231,
          7.783224016336037,
          9.011889433252344,
          8.881836305004146,
          7.8632667240095735,
          8.556413904569519,
          8.909235279192261,
          8.594154232552366,
          9.093806555720231,
          8.935903526274423,
          8.101677747454572,
          8.496990484098719,
          8.824677891164198,
          9.035986984831405,
          7.090076835776092,
          7.24422751560335,
          8.160518247477505,
          9.093806555720231,
          8.34283980427146,
          8.45531778769815,
          9.0595174822416,
          8.268731832117737,
          7.24422751560335,
          7.824046010856292,
          8.85366542803745,
          8.389359819906353,
          8.881836305004146,
          7.696212639346407,
          7.824046010856292,
          9.116029692504942,
          9.011889433252344,
          9.148464968258095,
          8.85366542803745,
          7.003065458786462,
          7.090076835776092,
          8.496990484098719,
          9.20029003612268,
          9.169518377455928,
          7.495541943884256,
          8.594154232552366,
          8.411832675758411,
          8.909235279192261,
          8.411832675758411,
          8.575462099540212,
          9.126958763037132,
          8.160518247477505,
          7.003065458786462,
          9.148464968258095,
          7.090076835776092,
          9.071078304642676,
          9.137769679141348,
          9.190137664658664,
          8.974618038455112,
          8.961879012677683,
          9.011889433252344,
          8.794824928014517,
          8.294049640102028,
          8.948975607841776,
          8.961879012677683,
          7.696212639346407,
          8.131530710604252,
          7.24422751560335,
          7.24422751560335,
          9.230142999272362,
          9.20029003612268,
          8.556413904569519,
          8.45531778769815,
          9.179881164491475,
          7.313220387090301,
          9.035986984831405,
          8.824677891164198,
          7.696212639346407,
          8.268731832117737,
          9.137769679141348,
          9.169518377455928,
          9.02401079378469,
          9.137769679141348,
          8.630521876723241,
          9.116029692504942,
          8.411832675758411,
          8.34283980427146,
          8.881836305004146,
          9.093806555720231,
          8.294049640102028,
          9.035986984831405,
          7.438383530044307,
          9.169518377455928,
          8.556413904569519,
          8.824677891164198,
          7.003065458786462,
          8.66561319653451,
          7.9724660159745655,
          8.895629627136483,
          7.170119543449628,
          7.24422751560335,
          9.230142999272362,
          7.24422751560335,
          8.318742252692399,
          7.649692623711514,
          7.649692623711514,
          8.476371196895983,
          8.895629627136483,
          9.035986984831405,
          9.035986984831405,
          8.648221453822641,
          8.948975607841776,
          7.313220387090301,
          8.748304912379623,
          8.101677747454572,
          7.600902459542082,
          8.131530710604252,
          7.696212639346407,
          7.438383530044307,
          7.649692623711514,
          8.101677747454572,
          9.035986984831405,
          7.313220387090301,
          8.242756345714477,
          8.895629627136483,
          7.9724660159745655,
          8.131530710604252,
          8.575462099540212,
          8.006367567650246,
          8.45531778769815,
          7.600902459542082,
          7.438383530044307,
          8.389359819906353,
          9.02401079378469,
          7.170119543449628,
          7.824046010856292,
          8.764053269347762,
          9.082507000466299,
          8.748304912379623,
          7.696212639346407,
          8.101677747454572,
          7.24422751560335,
          9.035986984831405,
          8.66561319653451,
          8.85366542803745,
          8.101677747454572,
          7.313220387090301,
          8.34283980427146,
          9.190137664658664,
          8.83927669058535,
          9.230142999272362,
          8.824677891164198,
          8.935903526274423,
          8.948975607841776,
          9.169518377455928,
          7.549609165154532,
          9.179881164491475,
          9.126958763037132,
          9.071078304642676,
          8.974618038455112,
          8.987196820661973,
          8.66561319653451,
          8.496990484098719,
          7.438383530044307,
          9.190137664658664,
          7.170119543449628,
          9.116029692504942,
          8.160518247477505,
          8.496990484098719,
          9.116029692504942,
          9.137769679141348,
          8.556413904569519,
          8.594154232552366,
          8.987196820661973,
          8.575462099540212,
          8.34283980427146,
          8.764053269347762,
          8.575462099540212,
          8.101677747454572,
          8.594154232552366,
          7.438383530044307,
          8.68270762989381,
          8.294049640102028,
          8.160518247477505,
          9.082507000466299,
          7.937374696163295,
          9.148464968258095,
          8.948975607841776,
          9.011889433252344,
          8.101677747454572,
          8.160518247477505,
          8.34283980427146,
          8.748304912379623,
          7.649692623711514,
          8.34283980427146,
          7.003065458786462,
          8.160518247477505,
          8.648221453822641,
          9.02401079378469,
          7.090076835776092,
          8.987196820661973,
          7.090076835776092,
          8.935903526274423,
          9.137769679141348,
          8.101677747454572,
          8.881836305004146,
          8.824677891164198,
          8.411832675758411,
          8.824677891164198,
          9.148464968258095,
          7.90100705199242,
          9.035986984831405,
          9.20029003612268,
          9.0595174822416,
          8.556413904569519,
          8.630521876723241,
          8.476371196895983,
          8.66561319653451,
          8.242756345714477,
          9.116029692504942,
          9.035986984831405,
          7.549609165154532,
          7.24422751560335,
          8.764053269347762,
          8.824677891164198,
          8.101677747454572,
          7.170119543449628,
          8.794824928014517,
          7.8632667240095735,
          8.294049640102028,
          9.137769679141348,
          8.961879012677683,
          8.85366542803745,
          8.699514748210191,
          9.259130536145614,
          8.948975607841776,
          9.02401079378469,
          7.600902459542082,
          8.556413904569519,
          8.881836305004146,
          7.090076835776092,
          9.126958763037132,
          9.082507000466299,
          8.294049640102028,
          7.313220387090301,
          8.648221453822641,
          9.093806555720231,
          8.699514748210191,
          7.824046010856292,
          9.249561085129464,
          9.20029003612268,
          7.549609165154532,
          9.011889433252344,
          7.170119543449628,
          8.974618038455112,
          7.438383530044307,
          7.090076835776092,
          8.160518247477505,
          9.116029692504942,
          7.24422751560335,
          7.438383530044307,
          8.794824928014517,
          8.131530710604252,
          9.190137664658664,
          9.116029692504942,
          8.630521876723241,
          8.974618038455112,
          8.909235279192261,
          7.003065458786462,
          9.148464968258095,
          9.148464968258095,
          8.318742252692399,
          9.035986984831405,
          8.935903526274423,
          8.881836305004146,
          8.101677747454572,
          7.090076835776092,
          8.433811582477187,
          8.895629627136483,
          8.006367567650246,
          7.824046010856292,
          8.294049640102028,
          9.02401079378469,
          7.313220387090301,
          8.935903526274423,
          8.411832675758411,
          8.948975607841776,
          7.495541943884256,
          8.83927669058535,
          7.313220387090301,
          8.556413904569519,
          8.242756345714477,
          7.783224016336037,
          9.082507000466299,
          9.259130536145614,
          8.895629627136483,
          8.987196820661973,
          7.170119543449628,
          8.895629627136483,
          8.974618038455112,
          7.313220387090301,
          8.948975607841776,
          7.495541943884256,
          8.824677891164198,
          9.011889433252344,
          8.101677747454572
         ]
        }
       ],
       "layout": {
        "height": 500,
        "template": {
         "data": {
          "bar": [
           {
            "error_x": {
             "color": "#2a3f5f"
            },
            "error_y": {
             "color": "#2a3f5f"
            },
            "marker": {
             "line": {
              "color": "#E5ECF6",
              "width": 0.5
             },
             "pattern": {
              "fillmode": "overlay",
              "size": 10,
              "solidity": 0.2
             }
            },
            "type": "bar"
           }
          ],
          "barpolar": [
           {
            "marker": {
             "line": {
              "color": "#E5ECF6",
              "width": 0.5
             },
             "pattern": {
              "fillmode": "overlay",
              "size": 10,
              "solidity": 0.2
             }
            },
            "type": "barpolar"
           }
          ],
          "carpet": [
           {
            "aaxis": {
             "endlinecolor": "#2a3f5f",
             "gridcolor": "white",
             "linecolor": "white",
             "minorgridcolor": "white",
             "startlinecolor": "#2a3f5f"
            },
            "baxis": {
             "endlinecolor": "#2a3f5f",
             "gridcolor": "white",
             "linecolor": "white",
             "minorgridcolor": "white",
             "startlinecolor": "#2a3f5f"
            },
            "type": "carpet"
           }
          ],
          "choropleth": [
           {
            "colorbar": {
             "outlinewidth": 0,
             "ticks": ""
            },
            "type": "choropleth"
           }
          ],
          "contour": [
           {
            "colorbar": {
             "outlinewidth": 0,
             "ticks": ""
            },
            "colorscale": [
             [
              0,
              "#0d0887"
             ],
             [
              0.1111111111111111,
              "#46039f"
             ],
             [
              0.2222222222222222,
              "#7201a8"
             ],
             [
              0.3333333333333333,
              "#9c179e"
             ],
             [
              0.4444444444444444,
              "#bd3786"
             ],
             [
              0.5555555555555556,
              "#d8576b"
             ],
             [
              0.6666666666666666,
              "#ed7953"
             ],
             [
              0.7777777777777778,
              "#fb9f3a"
             ],
             [
              0.8888888888888888,
              "#fdca26"
             ],
             [
              1,
              "#f0f921"
             ]
            ],
            "type": "contour"
           }
          ],
          "contourcarpet": [
           {
            "colorbar": {
             "outlinewidth": 0,
             "ticks": ""
            },
            "type": "contourcarpet"
           }
          ],
          "heatmap": [
           {
            "colorbar": {
             "outlinewidth": 0,
             "ticks": ""
            },
            "colorscale": [
             [
              0,
              "#0d0887"
             ],
             [
              0.1111111111111111,
              "#46039f"
             ],
             [
              0.2222222222222222,
              "#7201a8"
             ],
             [
              0.3333333333333333,
              "#9c179e"
             ],
             [
              0.4444444444444444,
              "#bd3786"
             ],
             [
              0.5555555555555556,
              "#d8576b"
             ],
             [
              0.6666666666666666,
              "#ed7953"
             ],
             [
              0.7777777777777778,
              "#fb9f3a"
             ],
             [
              0.8888888888888888,
              "#fdca26"
             ],
             [
              1,
              "#f0f921"
             ]
            ],
            "type": "heatmap"
           }
          ],
          "heatmapgl": [
           {
            "colorbar": {
             "outlinewidth": 0,
             "ticks": ""
            },
            "colorscale": [
             [
              0,
              "#0d0887"
             ],
             [
              0.1111111111111111,
              "#46039f"
             ],
             [
              0.2222222222222222,
              "#7201a8"
             ],
             [
              0.3333333333333333,
              "#9c179e"
             ],
             [
              0.4444444444444444,
              "#bd3786"
             ],
             [
              0.5555555555555556,
              "#d8576b"
             ],
             [
              0.6666666666666666,
              "#ed7953"
             ],
             [
              0.7777777777777778,
              "#fb9f3a"
             ],
             [
              0.8888888888888888,
              "#fdca26"
             ],
             [
              1,
              "#f0f921"
             ]
            ],
            "type": "heatmapgl"
           }
          ],
          "histogram": [
           {
            "marker": {
             "pattern": {
              "fillmode": "overlay",
              "size": 10,
              "solidity": 0.2
             }
            },
            "type": "histogram"
           }
          ],
          "histogram2d": [
           {
            "colorbar": {
             "outlinewidth": 0,
             "ticks": ""
            },
            "colorscale": [
             [
              0,
              "#0d0887"
             ],
             [
              0.1111111111111111,
              "#46039f"
             ],
             [
              0.2222222222222222,
              "#7201a8"
             ],
             [
              0.3333333333333333,
              "#9c179e"
             ],
             [
              0.4444444444444444,
              "#bd3786"
             ],
             [
              0.5555555555555556,
              "#d8576b"
             ],
             [
              0.6666666666666666,
              "#ed7953"
             ],
             [
              0.7777777777777778,
              "#fb9f3a"
             ],
             [
              0.8888888888888888,
              "#fdca26"
             ],
             [
              1,
              "#f0f921"
             ]
            ],
            "type": "histogram2d"
           }
          ],
          "histogram2dcontour": [
           {
            "colorbar": {
             "outlinewidth": 0,
             "ticks": ""
            },
            "colorscale": [
             [
              0,
              "#0d0887"
             ],
             [
              0.1111111111111111,
              "#46039f"
             ],
             [
              0.2222222222222222,
              "#7201a8"
             ],
             [
              0.3333333333333333,
              "#9c179e"
             ],
             [
              0.4444444444444444,
              "#bd3786"
             ],
             [
              0.5555555555555556,
              "#d8576b"
             ],
             [
              0.6666666666666666,
              "#ed7953"
             ],
             [
              0.7777777777777778,
              "#fb9f3a"
             ],
             [
              0.8888888888888888,
              "#fdca26"
             ],
             [
              1,
              "#f0f921"
             ]
            ],
            "type": "histogram2dcontour"
           }
          ],
          "mesh3d": [
           {
            "colorbar": {
             "outlinewidth": 0,
             "ticks": ""
            },
            "type": "mesh3d"
           }
          ],
          "parcoords": [
           {
            "line": {
             "colorbar": {
              "outlinewidth": 0,
              "ticks": ""
             }
            },
            "type": "parcoords"
           }
          ],
          "pie": [
           {
            "automargin": true,
            "type": "pie"
           }
          ],
          "scatter": [
           {
            "fillpattern": {
             "fillmode": "overlay",
             "size": 10,
             "solidity": 0.2
            },
            "type": "scatter"
           }
          ],
          "scatter3d": [
           {
            "line": {
             "colorbar": {
              "outlinewidth": 0,
              "ticks": ""
             }
            },
            "marker": {
             "colorbar": {
              "outlinewidth": 0,
              "ticks": ""
             }
            },
            "type": "scatter3d"
           }
          ],
          "scattercarpet": [
           {
            "marker": {
             "colorbar": {
              "outlinewidth": 0,
              "ticks": ""
             }
            },
            "type": "scattercarpet"
           }
          ],
          "scattergeo": [
           {
            "marker": {
             "colorbar": {
              "outlinewidth": 0,
              "ticks": ""
             }
            },
            "type": "scattergeo"
           }
          ],
          "scattergl": [
           {
            "marker": {
             "colorbar": {
              "outlinewidth": 0,
              "ticks": ""
             }
            },
            "type": "scattergl"
           }
          ],
          "scattermapbox": [
           {
            "marker": {
             "colorbar": {
              "outlinewidth": 0,
              "ticks": ""
             }
            },
            "type": "scattermapbox"
           }
          ],
          "scatterpolar": [
           {
            "marker": {
             "colorbar": {
              "outlinewidth": 0,
              "ticks": ""
             }
            },
            "type": "scatterpolar"
           }
          ],
          "scatterpolargl": [
           {
            "marker": {
             "colorbar": {
              "outlinewidth": 0,
              "ticks": ""
             }
            },
            "type": "scatterpolargl"
           }
          ],
          "scatterternary": [
           {
            "marker": {
             "colorbar": {
              "outlinewidth": 0,
              "ticks": ""
             }
            },
            "type": "scatterternary"
           }
          ],
          "surface": [
           {
            "colorbar": {
             "outlinewidth": 0,
             "ticks": ""
            },
            "colorscale": [
             [
              0,
              "#0d0887"
             ],
             [
              0.1111111111111111,
              "#46039f"
             ],
             [
              0.2222222222222222,
              "#7201a8"
             ],
             [
              0.3333333333333333,
              "#9c179e"
             ],
             [
              0.4444444444444444,
              "#bd3786"
             ],
             [
              0.5555555555555556,
              "#d8576b"
             ],
             [
              0.6666666666666666,
              "#ed7953"
             ],
             [
              0.7777777777777778,
              "#fb9f3a"
             ],
             [
              0.8888888888888888,
              "#fdca26"
             ],
             [
              1,
              "#f0f921"
             ]
            ],
            "type": "surface"
           }
          ],
          "table": [
           {
            "cells": {
             "fill": {
              "color": "#EBF0F8"
             },
             "line": {
              "color": "white"
             }
            },
            "header": {
             "fill": {
              "color": "#C8D4E3"
             },
             "line": {
              "color": "white"
             }
            },
            "type": "table"
           }
          ]
         },
         "layout": {
          "annotationdefaults": {
           "arrowcolor": "#2a3f5f",
           "arrowhead": 0,
           "arrowwidth": 1
          },
          "autotypenumbers": "strict",
          "coloraxis": {
           "colorbar": {
            "outlinewidth": 0,
            "ticks": ""
           }
          },
          "colorscale": {
           "diverging": [
            [
             0,
             "#8e0152"
            ],
            [
             0.1,
             "#c51b7d"
            ],
            [
             0.2,
             "#de77ae"
            ],
            [
             0.3,
             "#f1b6da"
            ],
            [
             0.4,
             "#fde0ef"
            ],
            [
             0.5,
             "#f7f7f7"
            ],
            [
             0.6,
             "#e6f5d0"
            ],
            [
             0.7,
             "#b8e186"
            ],
            [
             0.8,
             "#7fbc41"
            ],
            [
             0.9,
             "#4d9221"
            ],
            [
             1,
             "#276419"
            ]
           ],
           "sequential": [
            [
             0,
             "#0d0887"
            ],
            [
             0.1111111111111111,
             "#46039f"
            ],
            [
             0.2222222222222222,
             "#7201a8"
            ],
            [
             0.3333333333333333,
             "#9c179e"
            ],
            [
             0.4444444444444444,
             "#bd3786"
            ],
            [
             0.5555555555555556,
             "#d8576b"
            ],
            [
             0.6666666666666666,
             "#ed7953"
            ],
            [
             0.7777777777777778,
             "#fb9f3a"
            ],
            [
             0.8888888888888888,
             "#fdca26"
            ],
            [
             1,
             "#f0f921"
            ]
           ],
           "sequentialminus": [
            [
             0,
             "#0d0887"
            ],
            [
             0.1111111111111111,
             "#46039f"
            ],
            [
             0.2222222222222222,
             "#7201a8"
            ],
            [
             0.3333333333333333,
             "#9c179e"
            ],
            [
             0.4444444444444444,
             "#bd3786"
            ],
            [
             0.5555555555555556,
             "#d8576b"
            ],
            [
             0.6666666666666666,
             "#ed7953"
            ],
            [
             0.7777777777777778,
             "#fb9f3a"
            ],
            [
             0.8888888888888888,
             "#fdca26"
            ],
            [
             1,
             "#f0f921"
            ]
           ]
          },
          "colorway": [
           "#636efa",
           "#EF553B",
           "#00cc96",
           "#ab63fa",
           "#FFA15A",
           "#19d3f3",
           "#FF6692",
           "#B6E880",
           "#FF97FF",
           "#FECB52"
          ],
          "font": {
           "color": "#2a3f5f"
          },
          "geo": {
           "bgcolor": "white",
           "lakecolor": "white",
           "landcolor": "#E5ECF6",
           "showlakes": true,
           "showland": true,
           "subunitcolor": "white"
          },
          "hoverlabel": {
           "align": "left"
          },
          "hovermode": "closest",
          "mapbox": {
           "style": "light"
          },
          "paper_bgcolor": "white",
          "plot_bgcolor": "#E5ECF6",
          "polar": {
           "angularaxis": {
            "gridcolor": "white",
            "linecolor": "white",
            "ticks": ""
           },
           "bgcolor": "#E5ECF6",
           "radialaxis": {
            "gridcolor": "white",
            "linecolor": "white",
            "ticks": ""
           }
          },
          "scene": {
           "xaxis": {
            "backgroundcolor": "#E5ECF6",
            "gridcolor": "white",
            "gridwidth": 2,
            "linecolor": "white",
            "showbackground": true,
            "ticks": "",
            "zerolinecolor": "white"
           },
           "yaxis": {
            "backgroundcolor": "#E5ECF6",
            "gridcolor": "white",
            "gridwidth": 2,
            "linecolor": "white",
            "showbackground": true,
            "ticks": "",
            "zerolinecolor": "white"
           },
           "zaxis": {
            "backgroundcolor": "#E5ECF6",
            "gridcolor": "white",
            "gridwidth": 2,
            "linecolor": "white",
            "showbackground": true,
            "ticks": "",
            "zerolinecolor": "white"
           }
          },
          "shapedefaults": {
           "line": {
            "color": "#2a3f5f"
           }
          },
          "ternary": {
           "aaxis": {
            "gridcolor": "white",
            "linecolor": "white",
            "ticks": ""
           },
           "baxis": {
            "gridcolor": "white",
            "linecolor": "white",
            "ticks": ""
           },
           "bgcolor": "#E5ECF6",
           "caxis": {
            "gridcolor": "white",
            "linecolor": "white",
            "ticks": ""
           }
          },
          "title": {
           "x": 0.05
          },
          "xaxis": {
           "automargin": true,
           "gridcolor": "white",
           "linecolor": "white",
           "ticks": "",
           "title": {
            "standoff": 15
           },
           "zerolinecolor": "white",
           "zerolinewidth": 2
          },
          "yaxis": {
           "automargin": true,
           "gridcolor": "white",
           "linecolor": "white",
           "ticks": "",
           "title": {
            "standoff": 15
           },
           "zerolinecolor": "white",
           "zerolinewidth": 2
          }
         }
        },
        "title": {
         "text": "KNN:Observed target vs Predicted target using train data"
        },
        "width": 800,
        "xaxis": {
         "title": {
          "text": "Observed consult_cost"
         }
        },
        "yaxis": {
         "title": {
          "text": "Predicted consult_cost"
         }
        }
       }
      }
     },
     "metadata": {},
     "output_type": "display_data"
    }
   ],
   "source": [
    "\n",
    "fig = go.Figure()\n",
    "\n",
    "# scatter plot using trained data\n",
    "fig.add_trace(go.Scatter(y=y_train, x=knn.predict(x_train), mode='markers', marker=dict(color='blue')))\n",
    "\n",
    "# diagonal line to represent predictions\n",
    "fig.add_trace(go.Scatter(y=y_train, x=y_train, mode='lines', line=dict(color='red')))\n",
    "\n",
    "fig.update_layout(title='KNN:Observed target vs Predicted target using train data', xaxis_title='Observed consult_cost', \n",
    "                  yaxis_title='Predicted consult_cost', width=800, height=500)\n",
    "fig.show()"
   ]
  },
  {
   "cell_type": "code",
   "execution_count": 190,
   "metadata": {},
   "outputs": [
    {
     "data": {
      "application/vnd.plotly.v1+json": {
       "config": {
        "plotlyServerURL": "https://plot.ly"
       },
       "data": [
        {
         "marker": {
          "color": "blue"
         },
         "mode": "markers",
         "type": "scatter",
         "x": [
          8.151181655838718,
          8.976068397850174,
          7.1753070052692385,
          8.472685789185702,
          7.467449298039823,
          7.187885361181831,
          9.005250913627059,
          7.208481836651698,
          8.84213553249856,
          9.218179114025936,
          7.220142291500853,
          8.661369549836468,
          9.124787339870542,
          8.664025713464387,
          7.806201248993897,
          8.616474676537035,
          9.057886707703835,
          8.398958341793907,
          8.580249976668078,
          8.76339697972367,
          8.959290190669687,
          8.73834809031213,
          7.625696057149887,
          7.2511213154300505,
          8.894785137501653,
          7.892859774190688,
          7.520560257286941,
          8.554950092298986,
          7.576677493177649,
          8.126693656660946,
          8.023004454501816,
          8.884447652705475,
          9.129821904466946,
          7.164895156969224,
          7.209466189079179,
          7.645033305145189,
          9.250915154640616,
          9.02678476230663,
          8.56674683454465,
          9.03895602112102,
          7.4827523833884975,
          8.509599156632698,
          7.201319071908258,
          7.467048784886901,
          8.57303818948708,
          9.038282422764068,
          9.074764307009294,
          7.160901217934077,
          9.059956063853903,
          7.247081477160167,
          8.895061003944305,
          8.744507440573985,
          8.044716922608693,
          8.607415365789576,
          8.47840733614079,
          7.1732049065442425,
          8.475492937112028,
          8.496944100281006,
          9.017016138234473,
          8.691641260801537,
          7.331860708669556,
          9.129354152207101,
          9.168467783999924,
          8.82886667463083,
          8.76040800682008,
          8.843157448458038,
          7.970696800921292,
          7.507524603589165,
          8.89314119905037,
          9.227728374816218,
          9.061703857309451,
          8.414571715150432,
          8.893560628816637,
          8.148121538094669,
          9.007071329118094,
          9.018271770076709,
          8.827578493687223,
          8.290254139304821,
          8.749353853717153,
          8.566331315193702,
          8.677051723563393,
          9.035967128194478,
          9.175719750653546,
          9.01334797188121,
          7.584803001209467,
          8.497936558090716,
          8.1918705520635,
          7.064289890168584,
          7.898587040887367,
          8.969264204754149,
          8.931875361908682,
          8.335694062869722,
          8.972999629841,
          7.300293474268634,
          8.317777576314736,
          7.877784380232622,
          9.075340823677914,
          8.845125658068133,
          8.838461215122663,
          8.664004315995818,
          9.065877090735507,
          9.025702735356782,
          8.488073273286414,
          9.198608874825224,
          8.46307486695323,
          8.770919221202309,
          7.816138267161663,
          7.60326983070965,
          8.89157513939591,
          7.248785411293191,
          8.554637241078883,
          8.541912926701203,
          7.177571771859647,
          7.9278566918670075,
          7.159775179056901,
          9.023079239940628,
          9.081960136835415,
          7.801092415806054,
          9.004783172216307,
          8.887202563730405,
          7.849380299630467,
          8.514715496075276,
          8.901444400205913,
          8.561535989090975,
          9.08915037332326,
          8.958746355757762,
          8.106953092766918,
          8.52217169026664,
          8.82757219182815,
          9.019311024897467,
          7.157211816360979,
          7.234057586619758,
          8.140454964566159,
          9.081295010902867,
          8.335958817339542,
          8.455549240946647,
          9.060224524627781,
          8.269731659260522,
          7.228179723271529,
          7.814638769320559,
          8.844500535397156,
          8.443103392854596,
          8.889243411538768,
          7.582917486768602,
          7.867804524265734,
          9.13152559913034,
          8.993665065671449,
          9.14281058015968,
          8.848041216712986,
          7.161785783504098,
          7.118431208590874,
          8.477155545903411,
          9.181279421273487,
          9.157559204299666,
          7.55264549144444,
          8.590581363562531,
          8.434861934040041,
          8.904458287366605,
          8.458984637819619,
          8.56515238943845,
          9.12470572498064,
          8.144973113416635,
          7.077275311145087,
          9.135980495766317,
          7.125951040501067,
          9.065923066681256,
          9.127166673586848,
          9.17586818971884,
          8.971296462479122,
          8.956678063046684,
          9.008038700048886,
          8.763022984215393,
          8.295807573035532,
          8.976851028875094,
          8.96011059849129,
          7.745681101257332,
          8.13962991240323,
          7.209013856293752,
          7.343729060080941,
          9.224522934854381,
          9.209008260587241,
          8.555621648770776,
          8.498833357140612,
          9.178357887903086,
          7.253015973691235,
          9.029111244968007,
          8.828740095781843,
          7.7320268708141775,
          8.285830753432487,
          9.130774450914199,
          9.164428863419515,
          9.005058368900555,
          9.133022822845929,
          8.650377153646797,
          9.136164685668769,
          8.438038420504654,
          8.334636588895599,
          8.908195488040448,
          9.109622166593262,
          8.292367557368726,
          9.026180102998138,
          7.477593277218471,
          9.167130572951978,
          8.550318740802272,
          8.818700744891188,
          7.09145241465643,
          8.66825786713337,
          7.931623154186733,
          8.895327486883119,
          7.169468526357374,
          7.215876204735308,
          9.228548542173966,
          7.208512648156941,
          8.35341569995554,
          7.599275743923638,
          7.585145587525934,
          8.439757064954943,
          8.892725522685636,
          9.013903288751052,
          9.03601205988722,
          8.646319941889637,
          8.954405151006554,
          7.271866605614628,
          8.739350516334117,
          8.117633916562879,
          7.592038827932673,
          8.127795645232323,
          7.586271991420895,
          7.414987122731373,
          7.590425155355357,
          8.122579106356863,
          9.048027370695687,
          7.382602236931258,
          8.268001611528302,
          8.917649997651212,
          7.935563532605794,
          8.06819517505915,
          8.567853924432795,
          8.010537811454345,
          8.447197489179265,
          7.678596982595856,
          7.449807251824748,
          8.414251150395543,
          9.013169775531708,
          7.177305094397098,
          7.851416557497924,
          8.764988649132151,
          9.069206818730038,
          8.747853766445663,
          7.610004037398147,
          8.11645710656242,
          7.216154744999301,
          9.028228768863087,
          8.66992583873102,
          8.842737672800158,
          8.041799089936106,
          7.265077986901742,
          8.38576368908099,
          9.199617466755406,
          8.835906111216351,
          9.223632359152631,
          8.824717675601551,
          8.957852473291082,
          8.955145071400857,
          9.16070397225793,
          7.538213770503688,
          9.172053997749424,
          9.133208451203142,
          9.072255219817478,
          8.974509769821674,
          8.973919624848278,
          8.65776456989118,
          8.456110748411298,
          7.478508419031735,
          9.177823800175005,
          7.202324479594262,
          9.137687024051885,
          8.155845624526732,
          8.491298213004189,
          9.132183654983283,
          9.135335969018373,
          8.551628059282903,
          8.577828409251241,
          8.971758364626975,
          8.56624735675303,
          8.32024864076509,
          8.726932099191368,
          8.539620907178401,
          8.123184819882619,
          8.573925261909338,
          7.450790280901541,
          8.668309446845726,
          8.355258837843037,
          8.146439798785826,
          9.072819673135202,
          7.84557135531331,
          9.152529705094008,
          8.94815977738018,
          9.030495089916338,
          8.115578826193458,
          8.146746982680087,
          8.327200065720463,
          8.742595047655138,
          7.710925546205552,
          8.333846027746695,
          7.0651685394615065,
          8.144929842102814,
          8.66769044723852,
          9.021009008066743,
          7.117897216033332,
          8.990334448043795,
          7.134213415799843,
          8.950215097647073,
          9.152961026510418,
          8.161500399711919,
          8.884039483143798,
          8.827299373200947,
          8.452156920950957,
          8.818700744891194,
          9.157946737607706,
          7.906437806714555,
          9.012455653648555,
          9.179238012617736,
          9.085213354413517,
          8.557443646882849,
          8.660297764530974,
          8.477472773697905,
          8.690053502755124,
          8.26048406534717,
          9.122574720745934,
          9.026264852106012,
          7.526972999311266,
          7.211079525560051,
          8.742649321657314,
          8.829328500782072,
          8.111425374140795,
          7.171114648232362,
          8.750802711332547,
          7.847283108214371,
          8.303695043819296,
          9.13562227865666,
          8.964752300301885,
          8.850201627950485,
          8.685733627047574,
          9.242668863594679,
          8.944187676405146,
          9.030802446441143,
          7.509520198075181,
          8.523036380873497,
          8.888976928599948,
          7.120861364845537,
          9.12944517706054,
          9.07102418129884,
          8.249624357389369,
          7.237338248893133,
          8.682982645072663,
          9.108771098306393,
          8.685918210024727,
          7.923023464193234,
          9.242431256784899,
          9.202795121779303,
          7.524265694913957,
          9.038067075488968,
          7.1682672566763825,
          8.959040956934313,
          7.409829061774716,
          7.230042777636912,
          8.1300332221085,
          9.11786201339536,
          7.1867839832462685,
          7.351658212964107,
          8.804968381842324,
          8.135203893507363,
          9.177082811454724,
          9.134183615344911,
          8.649396145723006,
          8.985740800384747,
          8.900478867656652,
          7.040663088645305,
          9.153129305664084,
          9.155405162761378,
          8.297736588775075,
          9.037864951420843,
          8.953839258939784,
          8.887340496951731,
          8.093702855533124,
          7.141270235438759,
          8.451801281707342,
          8.896567009174262,
          7.955639845707814,
          7.854784996395208,
          8.29771627495913,
          9.013010803157295,
          7.253132731920848,
          8.939932489380137,
          8.43977158928311,
          8.970678955592662,
          7.453554729049914,
          8.835626990730075,
          7.379678342252671,
          8.547266479647014,
          8.21214538092932,
          7.788367976631878,
          9.083607901987621,
          9.250701581548112,
          8.89546729680521,
          8.97430592714125,
          7.158479258027946,
          8.92480703918999,
          8.963582648274441,
          7.263227261000082,
          8.971691357592,
          7.454947877577806,
          8.828875328893599,
          9.004736793179706,
          8.121393642093638
         ],
         "y": [
          8.160518247477505,
          8.987196820661973,
          7.170119543449628,
          8.476371196895983,
          7.438383530044307,
          7.170119543449628,
          9.011889433252344,
          7.24422751560335,
          8.83927669058535,
          9.20029003612268,
          7.24422751560335,
          8.68270762989381,
          9.126958763037132,
          8.68270762989381,
          7.783224016336037,
          8.575462099540212,
          9.0595174822416,
          8.389359819906353,
          8.594154232552366,
          8.794824928014517,
          8.948975607841776,
          8.732304571033183,
          7.649692623711514,
          7.090076835776092,
          8.895629627136483,
          7.90100705199242,
          7.549609165154532,
          8.594154232552366,
          7.649692623711514,
          8.131530710604252,
          8.006367567650246,
          8.881836305004146,
          9.137769679141348,
          7.170119543449628,
          7.24422751560335,
          7.696212639346407,
          9.259130536145614,
          9.035986984831405,
          8.594154232552366,
          9.035986984831405,
          7.438383530044307,
          8.496990484098719,
          7.170119543449628,
          7.495541943884256,
          8.594154232552366,
          9.02401079378469,
          9.082507000466299,
          7.170119543449628,
          9.071078304642676,
          7.003065458786462,
          8.895629627136483,
          8.732304571033183,
          8.101677747454572,
          8.575462099540212,
          8.517193191416238,
          7.170119543449628,
          8.476371196895983,
          8.517193191416238,
          9.011889433252344,
          8.68270762989381,
          7.313220387090301,
          9.137769679141348,
          9.169518377455928,
          8.824677891164198,
          8.764053269347762,
          8.83927669058535,
          8.006367567650246,
          7.495541943884256,
          8.895629627136483,
          9.230142999272362,
          9.071078304642676,
          8.45531778769815,
          8.895629627136483,
          8.160518247477505,
          9.011889433252344,
          9.02401079378469,
          8.824677891164198,
          8.294049640102028,
          8.764053269347762,
          8.575462099540212,
          8.699514748210191,
          9.02401079378469,
          9.20029003612268,
          9.035986984831405,
          7.649692623711514,
          8.517193191416238,
          8.131530710604252,
          7.003065458786462,
          7.783224016336037,
          8.974618038455112,
          8.935903526274423,
          8.34283980427146,
          8.987196820661973,
          7.313220387090301,
          8.34283980427146,
          7.8632667240095735,
          9.082507000466299,
          8.85366542803745,
          8.83927669058535,
          8.68270762989381,
          9.093806555720231,
          9.011889433252344,
          8.517193191416238,
          9.190137664658664,
          8.45531778769815,
          8.794824928014517,
          7.824046010856292,
          7.696212639346407,
          8.881836305004146,
          7.170119543449628,
          8.556413904569519,
          8.556413904569519,
          7.170119543449628,
          7.937374696163295,
          7.170119543449628,
          9.035986984831405,
          9.093806555720231,
          7.783224016336037,
          9.011889433252344,
          8.881836305004146,
          7.8632667240095735,
          8.556413904569519,
          8.909235279192261,
          8.594154232552366,
          9.093806555720231,
          8.935903526274423,
          8.101677747454572,
          8.496990484098719,
          8.824677891164198,
          9.035986984831405,
          7.090076835776092,
          7.24422751560335,
          8.160518247477505,
          9.093806555720231,
          8.34283980427146,
          8.45531778769815,
          9.0595174822416,
          8.268731832117737,
          7.24422751560335,
          7.824046010856292,
          8.85366542803745,
          8.389359819906353,
          8.881836305004146,
          7.696212639346407,
          7.824046010856292,
          9.116029692504942,
          9.011889433252344,
          9.148464968258095,
          8.85366542803745,
          7.003065458786462,
          7.090076835776092,
          8.496990484098719,
          9.20029003612268,
          9.169518377455928,
          7.495541943884256,
          8.594154232552366,
          8.411832675758411,
          8.909235279192261,
          8.411832675758411,
          8.575462099540212,
          9.126958763037132,
          8.160518247477505,
          7.003065458786462,
          9.148464968258095,
          7.090076835776092,
          9.071078304642676,
          9.137769679141348,
          9.190137664658664,
          8.974618038455112,
          8.961879012677683,
          9.011889433252344,
          8.794824928014517,
          8.294049640102028,
          8.948975607841776,
          8.961879012677683,
          7.696212639346407,
          8.131530710604252,
          7.24422751560335,
          7.24422751560335,
          9.230142999272362,
          9.20029003612268,
          8.556413904569519,
          8.45531778769815,
          9.179881164491475,
          7.313220387090301,
          9.035986984831405,
          8.824677891164198,
          7.696212639346407,
          8.268731832117737,
          9.137769679141348,
          9.169518377455928,
          9.02401079378469,
          9.137769679141348,
          8.630521876723241,
          9.116029692504942,
          8.411832675758411,
          8.34283980427146,
          8.881836305004146,
          9.093806555720231,
          8.294049640102028,
          9.035986984831405,
          7.438383530044307,
          9.169518377455928,
          8.556413904569519,
          8.824677891164198,
          7.003065458786462,
          8.66561319653451,
          7.9724660159745655,
          8.895629627136483,
          7.170119543449628,
          7.24422751560335,
          9.230142999272362,
          7.24422751560335,
          8.318742252692399,
          7.649692623711514,
          7.649692623711514,
          8.476371196895983,
          8.895629627136483,
          9.035986984831405,
          9.035986984831405,
          8.648221453822641,
          8.948975607841776,
          7.313220387090301,
          8.748304912379623,
          8.101677747454572,
          7.600902459542082,
          8.131530710604252,
          7.696212639346407,
          7.438383530044307,
          7.649692623711514,
          8.101677747454572,
          9.035986984831405,
          7.313220387090301,
          8.242756345714477,
          8.895629627136483,
          7.9724660159745655,
          8.131530710604252,
          8.575462099540212,
          8.006367567650246,
          8.45531778769815,
          7.600902459542082,
          7.438383530044307,
          8.389359819906353,
          9.02401079378469,
          7.170119543449628,
          7.824046010856292,
          8.764053269347762,
          9.082507000466299,
          8.748304912379623,
          7.696212639346407,
          8.101677747454572,
          7.24422751560335,
          9.035986984831405,
          8.66561319653451,
          8.85366542803745,
          8.101677747454572,
          7.313220387090301,
          8.34283980427146,
          9.190137664658664,
          8.83927669058535,
          9.230142999272362,
          8.824677891164198,
          8.935903526274423,
          8.948975607841776,
          9.169518377455928,
          7.549609165154532,
          9.179881164491475,
          9.126958763037132,
          9.071078304642676,
          8.974618038455112,
          8.987196820661973,
          8.66561319653451,
          8.496990484098719,
          7.438383530044307,
          9.190137664658664,
          7.170119543449628,
          9.116029692504942,
          8.160518247477505,
          8.496990484098719,
          9.116029692504942,
          9.137769679141348,
          8.556413904569519,
          8.594154232552366,
          8.987196820661973,
          8.575462099540212,
          8.34283980427146,
          8.764053269347762,
          8.575462099540212,
          8.101677747454572,
          8.594154232552366,
          7.438383530044307,
          8.68270762989381,
          8.294049640102028,
          8.160518247477505,
          9.082507000466299,
          7.937374696163295,
          9.148464968258095,
          8.948975607841776,
          9.011889433252344,
          8.101677747454572,
          8.160518247477505,
          8.34283980427146,
          8.748304912379623,
          7.649692623711514,
          8.34283980427146,
          7.003065458786462,
          8.160518247477505,
          8.648221453822641,
          9.02401079378469,
          7.090076835776092,
          8.987196820661973,
          7.090076835776092,
          8.935903526274423,
          9.137769679141348,
          8.101677747454572,
          8.881836305004146,
          8.824677891164198,
          8.411832675758411,
          8.824677891164198,
          9.148464968258095,
          7.90100705199242,
          9.035986984831405,
          9.20029003612268,
          9.0595174822416,
          8.556413904569519,
          8.630521876723241,
          8.476371196895983,
          8.66561319653451,
          8.242756345714477,
          9.116029692504942,
          9.035986984831405,
          7.549609165154532,
          7.24422751560335,
          8.764053269347762,
          8.824677891164198,
          8.101677747454572,
          7.170119543449628,
          8.794824928014517,
          7.8632667240095735,
          8.294049640102028,
          9.137769679141348,
          8.961879012677683,
          8.85366542803745,
          8.699514748210191,
          9.259130536145614,
          8.948975607841776,
          9.02401079378469,
          7.600902459542082,
          8.556413904569519,
          8.881836305004146,
          7.090076835776092,
          9.126958763037132,
          9.082507000466299,
          8.294049640102028,
          7.313220387090301,
          8.648221453822641,
          9.093806555720231,
          8.699514748210191,
          7.824046010856292,
          9.249561085129464,
          9.20029003612268,
          7.549609165154532,
          9.011889433252344,
          7.170119543449628,
          8.974618038455112,
          7.438383530044307,
          7.090076835776092,
          8.160518247477505,
          9.116029692504942,
          7.24422751560335,
          7.438383530044307,
          8.794824928014517,
          8.131530710604252,
          9.190137664658664,
          9.116029692504942,
          8.630521876723241,
          8.974618038455112,
          8.909235279192261,
          7.003065458786462,
          9.148464968258095,
          9.148464968258095,
          8.318742252692399,
          9.035986984831405,
          8.935903526274423,
          8.881836305004146,
          8.101677747454572,
          7.090076835776092,
          8.433811582477187,
          8.895629627136483,
          8.006367567650246,
          7.824046010856292,
          8.294049640102028,
          9.02401079378469,
          7.313220387090301,
          8.935903526274423,
          8.411832675758411,
          8.948975607841776,
          7.495541943884256,
          8.83927669058535,
          7.313220387090301,
          8.556413904569519,
          8.242756345714477,
          7.783224016336037,
          9.082507000466299,
          9.259130536145614,
          8.895629627136483,
          8.987196820661973,
          7.170119543449628,
          8.895629627136483,
          8.974618038455112,
          7.313220387090301,
          8.948975607841776,
          7.495541943884256,
          8.824677891164198,
          9.011889433252344,
          8.101677747454572
         ]
        },
        {
         "line": {
          "color": "red"
         },
         "mode": "lines",
         "type": "scatter",
         "x": [
          8.160518247477505,
          8.987196820661973,
          7.170119543449628,
          8.476371196895983,
          7.438383530044307,
          7.170119543449628,
          9.011889433252344,
          7.24422751560335,
          8.83927669058535,
          9.20029003612268,
          7.24422751560335,
          8.68270762989381,
          9.126958763037132,
          8.68270762989381,
          7.783224016336037,
          8.575462099540212,
          9.0595174822416,
          8.389359819906353,
          8.594154232552366,
          8.794824928014517,
          8.948975607841776,
          8.732304571033183,
          7.649692623711514,
          7.090076835776092,
          8.895629627136483,
          7.90100705199242,
          7.549609165154532,
          8.594154232552366,
          7.649692623711514,
          8.131530710604252,
          8.006367567650246,
          8.881836305004146,
          9.137769679141348,
          7.170119543449628,
          7.24422751560335,
          7.696212639346407,
          9.259130536145614,
          9.035986984831405,
          8.594154232552366,
          9.035986984831405,
          7.438383530044307,
          8.496990484098719,
          7.170119543449628,
          7.495541943884256,
          8.594154232552366,
          9.02401079378469,
          9.082507000466299,
          7.170119543449628,
          9.071078304642676,
          7.003065458786462,
          8.895629627136483,
          8.732304571033183,
          8.101677747454572,
          8.575462099540212,
          8.517193191416238,
          7.170119543449628,
          8.476371196895983,
          8.517193191416238,
          9.011889433252344,
          8.68270762989381,
          7.313220387090301,
          9.137769679141348,
          9.169518377455928,
          8.824677891164198,
          8.764053269347762,
          8.83927669058535,
          8.006367567650246,
          7.495541943884256,
          8.895629627136483,
          9.230142999272362,
          9.071078304642676,
          8.45531778769815,
          8.895629627136483,
          8.160518247477505,
          9.011889433252344,
          9.02401079378469,
          8.824677891164198,
          8.294049640102028,
          8.764053269347762,
          8.575462099540212,
          8.699514748210191,
          9.02401079378469,
          9.20029003612268,
          9.035986984831405,
          7.649692623711514,
          8.517193191416238,
          8.131530710604252,
          7.003065458786462,
          7.783224016336037,
          8.974618038455112,
          8.935903526274423,
          8.34283980427146,
          8.987196820661973,
          7.313220387090301,
          8.34283980427146,
          7.8632667240095735,
          9.082507000466299,
          8.85366542803745,
          8.83927669058535,
          8.68270762989381,
          9.093806555720231,
          9.011889433252344,
          8.517193191416238,
          9.190137664658664,
          8.45531778769815,
          8.794824928014517,
          7.824046010856292,
          7.696212639346407,
          8.881836305004146,
          7.170119543449628,
          8.556413904569519,
          8.556413904569519,
          7.170119543449628,
          7.937374696163295,
          7.170119543449628,
          9.035986984831405,
          9.093806555720231,
          7.783224016336037,
          9.011889433252344,
          8.881836305004146,
          7.8632667240095735,
          8.556413904569519,
          8.909235279192261,
          8.594154232552366,
          9.093806555720231,
          8.935903526274423,
          8.101677747454572,
          8.496990484098719,
          8.824677891164198,
          9.035986984831405,
          7.090076835776092,
          7.24422751560335,
          8.160518247477505,
          9.093806555720231,
          8.34283980427146,
          8.45531778769815,
          9.0595174822416,
          8.268731832117737,
          7.24422751560335,
          7.824046010856292,
          8.85366542803745,
          8.389359819906353,
          8.881836305004146,
          7.696212639346407,
          7.824046010856292,
          9.116029692504942,
          9.011889433252344,
          9.148464968258095,
          8.85366542803745,
          7.003065458786462,
          7.090076835776092,
          8.496990484098719,
          9.20029003612268,
          9.169518377455928,
          7.495541943884256,
          8.594154232552366,
          8.411832675758411,
          8.909235279192261,
          8.411832675758411,
          8.575462099540212,
          9.126958763037132,
          8.160518247477505,
          7.003065458786462,
          9.148464968258095,
          7.090076835776092,
          9.071078304642676,
          9.137769679141348,
          9.190137664658664,
          8.974618038455112,
          8.961879012677683,
          9.011889433252344,
          8.794824928014517,
          8.294049640102028,
          8.948975607841776,
          8.961879012677683,
          7.696212639346407,
          8.131530710604252,
          7.24422751560335,
          7.24422751560335,
          9.230142999272362,
          9.20029003612268,
          8.556413904569519,
          8.45531778769815,
          9.179881164491475,
          7.313220387090301,
          9.035986984831405,
          8.824677891164198,
          7.696212639346407,
          8.268731832117737,
          9.137769679141348,
          9.169518377455928,
          9.02401079378469,
          9.137769679141348,
          8.630521876723241,
          9.116029692504942,
          8.411832675758411,
          8.34283980427146,
          8.881836305004146,
          9.093806555720231,
          8.294049640102028,
          9.035986984831405,
          7.438383530044307,
          9.169518377455928,
          8.556413904569519,
          8.824677891164198,
          7.003065458786462,
          8.66561319653451,
          7.9724660159745655,
          8.895629627136483,
          7.170119543449628,
          7.24422751560335,
          9.230142999272362,
          7.24422751560335,
          8.318742252692399,
          7.649692623711514,
          7.649692623711514,
          8.476371196895983,
          8.895629627136483,
          9.035986984831405,
          9.035986984831405,
          8.648221453822641,
          8.948975607841776,
          7.313220387090301,
          8.748304912379623,
          8.101677747454572,
          7.600902459542082,
          8.131530710604252,
          7.696212639346407,
          7.438383530044307,
          7.649692623711514,
          8.101677747454572,
          9.035986984831405,
          7.313220387090301,
          8.242756345714477,
          8.895629627136483,
          7.9724660159745655,
          8.131530710604252,
          8.575462099540212,
          8.006367567650246,
          8.45531778769815,
          7.600902459542082,
          7.438383530044307,
          8.389359819906353,
          9.02401079378469,
          7.170119543449628,
          7.824046010856292,
          8.764053269347762,
          9.082507000466299,
          8.748304912379623,
          7.696212639346407,
          8.101677747454572,
          7.24422751560335,
          9.035986984831405,
          8.66561319653451,
          8.85366542803745,
          8.101677747454572,
          7.313220387090301,
          8.34283980427146,
          9.190137664658664,
          8.83927669058535,
          9.230142999272362,
          8.824677891164198,
          8.935903526274423,
          8.948975607841776,
          9.169518377455928,
          7.549609165154532,
          9.179881164491475,
          9.126958763037132,
          9.071078304642676,
          8.974618038455112,
          8.987196820661973,
          8.66561319653451,
          8.496990484098719,
          7.438383530044307,
          9.190137664658664,
          7.170119543449628,
          9.116029692504942,
          8.160518247477505,
          8.496990484098719,
          9.116029692504942,
          9.137769679141348,
          8.556413904569519,
          8.594154232552366,
          8.987196820661973,
          8.575462099540212,
          8.34283980427146,
          8.764053269347762,
          8.575462099540212,
          8.101677747454572,
          8.594154232552366,
          7.438383530044307,
          8.68270762989381,
          8.294049640102028,
          8.160518247477505,
          9.082507000466299,
          7.937374696163295,
          9.148464968258095,
          8.948975607841776,
          9.011889433252344,
          8.101677747454572,
          8.160518247477505,
          8.34283980427146,
          8.748304912379623,
          7.649692623711514,
          8.34283980427146,
          7.003065458786462,
          8.160518247477505,
          8.648221453822641,
          9.02401079378469,
          7.090076835776092,
          8.987196820661973,
          7.090076835776092,
          8.935903526274423,
          9.137769679141348,
          8.101677747454572,
          8.881836305004146,
          8.824677891164198,
          8.411832675758411,
          8.824677891164198,
          9.148464968258095,
          7.90100705199242,
          9.035986984831405,
          9.20029003612268,
          9.0595174822416,
          8.556413904569519,
          8.630521876723241,
          8.476371196895983,
          8.66561319653451,
          8.242756345714477,
          9.116029692504942,
          9.035986984831405,
          7.549609165154532,
          7.24422751560335,
          8.764053269347762,
          8.824677891164198,
          8.101677747454572,
          7.170119543449628,
          8.794824928014517,
          7.8632667240095735,
          8.294049640102028,
          9.137769679141348,
          8.961879012677683,
          8.85366542803745,
          8.699514748210191,
          9.259130536145614,
          8.948975607841776,
          9.02401079378469,
          7.600902459542082,
          8.556413904569519,
          8.881836305004146,
          7.090076835776092,
          9.126958763037132,
          9.082507000466299,
          8.294049640102028,
          7.313220387090301,
          8.648221453822641,
          9.093806555720231,
          8.699514748210191,
          7.824046010856292,
          9.249561085129464,
          9.20029003612268,
          7.549609165154532,
          9.011889433252344,
          7.170119543449628,
          8.974618038455112,
          7.438383530044307,
          7.090076835776092,
          8.160518247477505,
          9.116029692504942,
          7.24422751560335,
          7.438383530044307,
          8.794824928014517,
          8.131530710604252,
          9.190137664658664,
          9.116029692504942,
          8.630521876723241,
          8.974618038455112,
          8.909235279192261,
          7.003065458786462,
          9.148464968258095,
          9.148464968258095,
          8.318742252692399,
          9.035986984831405,
          8.935903526274423,
          8.881836305004146,
          8.101677747454572,
          7.090076835776092,
          8.433811582477187,
          8.895629627136483,
          8.006367567650246,
          7.824046010856292,
          8.294049640102028,
          9.02401079378469,
          7.313220387090301,
          8.935903526274423,
          8.411832675758411,
          8.948975607841776,
          7.495541943884256,
          8.83927669058535,
          7.313220387090301,
          8.556413904569519,
          8.242756345714477,
          7.783224016336037,
          9.082507000466299,
          9.259130536145614,
          8.895629627136483,
          8.987196820661973,
          7.170119543449628,
          8.895629627136483,
          8.974618038455112,
          7.313220387090301,
          8.948975607841776,
          7.495541943884256,
          8.824677891164198,
          9.011889433252344,
          8.101677747454572
         ],
         "y": [
          8.160518247477505,
          8.987196820661973,
          7.170119543449628,
          8.476371196895983,
          7.438383530044307,
          7.170119543449628,
          9.011889433252344,
          7.24422751560335,
          8.83927669058535,
          9.20029003612268,
          7.24422751560335,
          8.68270762989381,
          9.126958763037132,
          8.68270762989381,
          7.783224016336037,
          8.575462099540212,
          9.0595174822416,
          8.389359819906353,
          8.594154232552366,
          8.794824928014517,
          8.948975607841776,
          8.732304571033183,
          7.649692623711514,
          7.090076835776092,
          8.895629627136483,
          7.90100705199242,
          7.549609165154532,
          8.594154232552366,
          7.649692623711514,
          8.131530710604252,
          8.006367567650246,
          8.881836305004146,
          9.137769679141348,
          7.170119543449628,
          7.24422751560335,
          7.696212639346407,
          9.259130536145614,
          9.035986984831405,
          8.594154232552366,
          9.035986984831405,
          7.438383530044307,
          8.496990484098719,
          7.170119543449628,
          7.495541943884256,
          8.594154232552366,
          9.02401079378469,
          9.082507000466299,
          7.170119543449628,
          9.071078304642676,
          7.003065458786462,
          8.895629627136483,
          8.732304571033183,
          8.101677747454572,
          8.575462099540212,
          8.517193191416238,
          7.170119543449628,
          8.476371196895983,
          8.517193191416238,
          9.011889433252344,
          8.68270762989381,
          7.313220387090301,
          9.137769679141348,
          9.169518377455928,
          8.824677891164198,
          8.764053269347762,
          8.83927669058535,
          8.006367567650246,
          7.495541943884256,
          8.895629627136483,
          9.230142999272362,
          9.071078304642676,
          8.45531778769815,
          8.895629627136483,
          8.160518247477505,
          9.011889433252344,
          9.02401079378469,
          8.824677891164198,
          8.294049640102028,
          8.764053269347762,
          8.575462099540212,
          8.699514748210191,
          9.02401079378469,
          9.20029003612268,
          9.035986984831405,
          7.649692623711514,
          8.517193191416238,
          8.131530710604252,
          7.003065458786462,
          7.783224016336037,
          8.974618038455112,
          8.935903526274423,
          8.34283980427146,
          8.987196820661973,
          7.313220387090301,
          8.34283980427146,
          7.8632667240095735,
          9.082507000466299,
          8.85366542803745,
          8.83927669058535,
          8.68270762989381,
          9.093806555720231,
          9.011889433252344,
          8.517193191416238,
          9.190137664658664,
          8.45531778769815,
          8.794824928014517,
          7.824046010856292,
          7.696212639346407,
          8.881836305004146,
          7.170119543449628,
          8.556413904569519,
          8.556413904569519,
          7.170119543449628,
          7.937374696163295,
          7.170119543449628,
          9.035986984831405,
          9.093806555720231,
          7.783224016336037,
          9.011889433252344,
          8.881836305004146,
          7.8632667240095735,
          8.556413904569519,
          8.909235279192261,
          8.594154232552366,
          9.093806555720231,
          8.935903526274423,
          8.101677747454572,
          8.496990484098719,
          8.824677891164198,
          9.035986984831405,
          7.090076835776092,
          7.24422751560335,
          8.160518247477505,
          9.093806555720231,
          8.34283980427146,
          8.45531778769815,
          9.0595174822416,
          8.268731832117737,
          7.24422751560335,
          7.824046010856292,
          8.85366542803745,
          8.389359819906353,
          8.881836305004146,
          7.696212639346407,
          7.824046010856292,
          9.116029692504942,
          9.011889433252344,
          9.148464968258095,
          8.85366542803745,
          7.003065458786462,
          7.090076835776092,
          8.496990484098719,
          9.20029003612268,
          9.169518377455928,
          7.495541943884256,
          8.594154232552366,
          8.411832675758411,
          8.909235279192261,
          8.411832675758411,
          8.575462099540212,
          9.126958763037132,
          8.160518247477505,
          7.003065458786462,
          9.148464968258095,
          7.090076835776092,
          9.071078304642676,
          9.137769679141348,
          9.190137664658664,
          8.974618038455112,
          8.961879012677683,
          9.011889433252344,
          8.794824928014517,
          8.294049640102028,
          8.948975607841776,
          8.961879012677683,
          7.696212639346407,
          8.131530710604252,
          7.24422751560335,
          7.24422751560335,
          9.230142999272362,
          9.20029003612268,
          8.556413904569519,
          8.45531778769815,
          9.179881164491475,
          7.313220387090301,
          9.035986984831405,
          8.824677891164198,
          7.696212639346407,
          8.268731832117737,
          9.137769679141348,
          9.169518377455928,
          9.02401079378469,
          9.137769679141348,
          8.630521876723241,
          9.116029692504942,
          8.411832675758411,
          8.34283980427146,
          8.881836305004146,
          9.093806555720231,
          8.294049640102028,
          9.035986984831405,
          7.438383530044307,
          9.169518377455928,
          8.556413904569519,
          8.824677891164198,
          7.003065458786462,
          8.66561319653451,
          7.9724660159745655,
          8.895629627136483,
          7.170119543449628,
          7.24422751560335,
          9.230142999272362,
          7.24422751560335,
          8.318742252692399,
          7.649692623711514,
          7.649692623711514,
          8.476371196895983,
          8.895629627136483,
          9.035986984831405,
          9.035986984831405,
          8.648221453822641,
          8.948975607841776,
          7.313220387090301,
          8.748304912379623,
          8.101677747454572,
          7.600902459542082,
          8.131530710604252,
          7.696212639346407,
          7.438383530044307,
          7.649692623711514,
          8.101677747454572,
          9.035986984831405,
          7.313220387090301,
          8.242756345714477,
          8.895629627136483,
          7.9724660159745655,
          8.131530710604252,
          8.575462099540212,
          8.006367567650246,
          8.45531778769815,
          7.600902459542082,
          7.438383530044307,
          8.389359819906353,
          9.02401079378469,
          7.170119543449628,
          7.824046010856292,
          8.764053269347762,
          9.082507000466299,
          8.748304912379623,
          7.696212639346407,
          8.101677747454572,
          7.24422751560335,
          9.035986984831405,
          8.66561319653451,
          8.85366542803745,
          8.101677747454572,
          7.313220387090301,
          8.34283980427146,
          9.190137664658664,
          8.83927669058535,
          9.230142999272362,
          8.824677891164198,
          8.935903526274423,
          8.948975607841776,
          9.169518377455928,
          7.549609165154532,
          9.179881164491475,
          9.126958763037132,
          9.071078304642676,
          8.974618038455112,
          8.987196820661973,
          8.66561319653451,
          8.496990484098719,
          7.438383530044307,
          9.190137664658664,
          7.170119543449628,
          9.116029692504942,
          8.160518247477505,
          8.496990484098719,
          9.116029692504942,
          9.137769679141348,
          8.556413904569519,
          8.594154232552366,
          8.987196820661973,
          8.575462099540212,
          8.34283980427146,
          8.764053269347762,
          8.575462099540212,
          8.101677747454572,
          8.594154232552366,
          7.438383530044307,
          8.68270762989381,
          8.294049640102028,
          8.160518247477505,
          9.082507000466299,
          7.937374696163295,
          9.148464968258095,
          8.948975607841776,
          9.011889433252344,
          8.101677747454572,
          8.160518247477505,
          8.34283980427146,
          8.748304912379623,
          7.649692623711514,
          8.34283980427146,
          7.003065458786462,
          8.160518247477505,
          8.648221453822641,
          9.02401079378469,
          7.090076835776092,
          8.987196820661973,
          7.090076835776092,
          8.935903526274423,
          9.137769679141348,
          8.101677747454572,
          8.881836305004146,
          8.824677891164198,
          8.411832675758411,
          8.824677891164198,
          9.148464968258095,
          7.90100705199242,
          9.035986984831405,
          9.20029003612268,
          9.0595174822416,
          8.556413904569519,
          8.630521876723241,
          8.476371196895983,
          8.66561319653451,
          8.242756345714477,
          9.116029692504942,
          9.035986984831405,
          7.549609165154532,
          7.24422751560335,
          8.764053269347762,
          8.824677891164198,
          8.101677747454572,
          7.170119543449628,
          8.794824928014517,
          7.8632667240095735,
          8.294049640102028,
          9.137769679141348,
          8.961879012677683,
          8.85366542803745,
          8.699514748210191,
          9.259130536145614,
          8.948975607841776,
          9.02401079378469,
          7.600902459542082,
          8.556413904569519,
          8.881836305004146,
          7.090076835776092,
          9.126958763037132,
          9.082507000466299,
          8.294049640102028,
          7.313220387090301,
          8.648221453822641,
          9.093806555720231,
          8.699514748210191,
          7.824046010856292,
          9.249561085129464,
          9.20029003612268,
          7.549609165154532,
          9.011889433252344,
          7.170119543449628,
          8.974618038455112,
          7.438383530044307,
          7.090076835776092,
          8.160518247477505,
          9.116029692504942,
          7.24422751560335,
          7.438383530044307,
          8.794824928014517,
          8.131530710604252,
          9.190137664658664,
          9.116029692504942,
          8.630521876723241,
          8.974618038455112,
          8.909235279192261,
          7.003065458786462,
          9.148464968258095,
          9.148464968258095,
          8.318742252692399,
          9.035986984831405,
          8.935903526274423,
          8.881836305004146,
          8.101677747454572,
          7.090076835776092,
          8.433811582477187,
          8.895629627136483,
          8.006367567650246,
          7.824046010856292,
          8.294049640102028,
          9.02401079378469,
          7.313220387090301,
          8.935903526274423,
          8.411832675758411,
          8.948975607841776,
          7.495541943884256,
          8.83927669058535,
          7.313220387090301,
          8.556413904569519,
          8.242756345714477,
          7.783224016336037,
          9.082507000466299,
          9.259130536145614,
          8.895629627136483,
          8.987196820661973,
          7.170119543449628,
          8.895629627136483,
          8.974618038455112,
          7.313220387090301,
          8.948975607841776,
          7.495541943884256,
          8.824677891164198,
          9.011889433252344,
          8.101677747454572
         ]
        }
       ],
       "layout": {
        "height": 500,
        "template": {
         "data": {
          "bar": [
           {
            "error_x": {
             "color": "#2a3f5f"
            },
            "error_y": {
             "color": "#2a3f5f"
            },
            "marker": {
             "line": {
              "color": "#E5ECF6",
              "width": 0.5
             },
             "pattern": {
              "fillmode": "overlay",
              "size": 10,
              "solidity": 0.2
             }
            },
            "type": "bar"
           }
          ],
          "barpolar": [
           {
            "marker": {
             "line": {
              "color": "#E5ECF6",
              "width": 0.5
             },
             "pattern": {
              "fillmode": "overlay",
              "size": 10,
              "solidity": 0.2
             }
            },
            "type": "barpolar"
           }
          ],
          "carpet": [
           {
            "aaxis": {
             "endlinecolor": "#2a3f5f",
             "gridcolor": "white",
             "linecolor": "white",
             "minorgridcolor": "white",
             "startlinecolor": "#2a3f5f"
            },
            "baxis": {
             "endlinecolor": "#2a3f5f",
             "gridcolor": "white",
             "linecolor": "white",
             "minorgridcolor": "white",
             "startlinecolor": "#2a3f5f"
            },
            "type": "carpet"
           }
          ],
          "choropleth": [
           {
            "colorbar": {
             "outlinewidth": 0,
             "ticks": ""
            },
            "type": "choropleth"
           }
          ],
          "contour": [
           {
            "colorbar": {
             "outlinewidth": 0,
             "ticks": ""
            },
            "colorscale": [
             [
              0,
              "#0d0887"
             ],
             [
              0.1111111111111111,
              "#46039f"
             ],
             [
              0.2222222222222222,
              "#7201a8"
             ],
             [
              0.3333333333333333,
              "#9c179e"
             ],
             [
              0.4444444444444444,
              "#bd3786"
             ],
             [
              0.5555555555555556,
              "#d8576b"
             ],
             [
              0.6666666666666666,
              "#ed7953"
             ],
             [
              0.7777777777777778,
              "#fb9f3a"
             ],
             [
              0.8888888888888888,
              "#fdca26"
             ],
             [
              1,
              "#f0f921"
             ]
            ],
            "type": "contour"
           }
          ],
          "contourcarpet": [
           {
            "colorbar": {
             "outlinewidth": 0,
             "ticks": ""
            },
            "type": "contourcarpet"
           }
          ],
          "heatmap": [
           {
            "colorbar": {
             "outlinewidth": 0,
             "ticks": ""
            },
            "colorscale": [
             [
              0,
              "#0d0887"
             ],
             [
              0.1111111111111111,
              "#46039f"
             ],
             [
              0.2222222222222222,
              "#7201a8"
             ],
             [
              0.3333333333333333,
              "#9c179e"
             ],
             [
              0.4444444444444444,
              "#bd3786"
             ],
             [
              0.5555555555555556,
              "#d8576b"
             ],
             [
              0.6666666666666666,
              "#ed7953"
             ],
             [
              0.7777777777777778,
              "#fb9f3a"
             ],
             [
              0.8888888888888888,
              "#fdca26"
             ],
             [
              1,
              "#f0f921"
             ]
            ],
            "type": "heatmap"
           }
          ],
          "heatmapgl": [
           {
            "colorbar": {
             "outlinewidth": 0,
             "ticks": ""
            },
            "colorscale": [
             [
              0,
              "#0d0887"
             ],
             [
              0.1111111111111111,
              "#46039f"
             ],
             [
              0.2222222222222222,
              "#7201a8"
             ],
             [
              0.3333333333333333,
              "#9c179e"
             ],
             [
              0.4444444444444444,
              "#bd3786"
             ],
             [
              0.5555555555555556,
              "#d8576b"
             ],
             [
              0.6666666666666666,
              "#ed7953"
             ],
             [
              0.7777777777777778,
              "#fb9f3a"
             ],
             [
              0.8888888888888888,
              "#fdca26"
             ],
             [
              1,
              "#f0f921"
             ]
            ],
            "type": "heatmapgl"
           }
          ],
          "histogram": [
           {
            "marker": {
             "pattern": {
              "fillmode": "overlay",
              "size": 10,
              "solidity": 0.2
             }
            },
            "type": "histogram"
           }
          ],
          "histogram2d": [
           {
            "colorbar": {
             "outlinewidth": 0,
             "ticks": ""
            },
            "colorscale": [
             [
              0,
              "#0d0887"
             ],
             [
              0.1111111111111111,
              "#46039f"
             ],
             [
              0.2222222222222222,
              "#7201a8"
             ],
             [
              0.3333333333333333,
              "#9c179e"
             ],
             [
              0.4444444444444444,
              "#bd3786"
             ],
             [
              0.5555555555555556,
              "#d8576b"
             ],
             [
              0.6666666666666666,
              "#ed7953"
             ],
             [
              0.7777777777777778,
              "#fb9f3a"
             ],
             [
              0.8888888888888888,
              "#fdca26"
             ],
             [
              1,
              "#f0f921"
             ]
            ],
            "type": "histogram2d"
           }
          ],
          "histogram2dcontour": [
           {
            "colorbar": {
             "outlinewidth": 0,
             "ticks": ""
            },
            "colorscale": [
             [
              0,
              "#0d0887"
             ],
             [
              0.1111111111111111,
              "#46039f"
             ],
             [
              0.2222222222222222,
              "#7201a8"
             ],
             [
              0.3333333333333333,
              "#9c179e"
             ],
             [
              0.4444444444444444,
              "#bd3786"
             ],
             [
              0.5555555555555556,
              "#d8576b"
             ],
             [
              0.6666666666666666,
              "#ed7953"
             ],
             [
              0.7777777777777778,
              "#fb9f3a"
             ],
             [
              0.8888888888888888,
              "#fdca26"
             ],
             [
              1,
              "#f0f921"
             ]
            ],
            "type": "histogram2dcontour"
           }
          ],
          "mesh3d": [
           {
            "colorbar": {
             "outlinewidth": 0,
             "ticks": ""
            },
            "type": "mesh3d"
           }
          ],
          "parcoords": [
           {
            "line": {
             "colorbar": {
              "outlinewidth": 0,
              "ticks": ""
             }
            },
            "type": "parcoords"
           }
          ],
          "pie": [
           {
            "automargin": true,
            "type": "pie"
           }
          ],
          "scatter": [
           {
            "fillpattern": {
             "fillmode": "overlay",
             "size": 10,
             "solidity": 0.2
            },
            "type": "scatter"
           }
          ],
          "scatter3d": [
           {
            "line": {
             "colorbar": {
              "outlinewidth": 0,
              "ticks": ""
             }
            },
            "marker": {
             "colorbar": {
              "outlinewidth": 0,
              "ticks": ""
             }
            },
            "type": "scatter3d"
           }
          ],
          "scattercarpet": [
           {
            "marker": {
             "colorbar": {
              "outlinewidth": 0,
              "ticks": ""
             }
            },
            "type": "scattercarpet"
           }
          ],
          "scattergeo": [
           {
            "marker": {
             "colorbar": {
              "outlinewidth": 0,
              "ticks": ""
             }
            },
            "type": "scattergeo"
           }
          ],
          "scattergl": [
           {
            "marker": {
             "colorbar": {
              "outlinewidth": 0,
              "ticks": ""
             }
            },
            "type": "scattergl"
           }
          ],
          "scattermapbox": [
           {
            "marker": {
             "colorbar": {
              "outlinewidth": 0,
              "ticks": ""
             }
            },
            "type": "scattermapbox"
           }
          ],
          "scatterpolar": [
           {
            "marker": {
             "colorbar": {
              "outlinewidth": 0,
              "ticks": ""
             }
            },
            "type": "scatterpolar"
           }
          ],
          "scatterpolargl": [
           {
            "marker": {
             "colorbar": {
              "outlinewidth": 0,
              "ticks": ""
             }
            },
            "type": "scatterpolargl"
           }
          ],
          "scatterternary": [
           {
            "marker": {
             "colorbar": {
              "outlinewidth": 0,
              "ticks": ""
             }
            },
            "type": "scatterternary"
           }
          ],
          "surface": [
           {
            "colorbar": {
             "outlinewidth": 0,
             "ticks": ""
            },
            "colorscale": [
             [
              0,
              "#0d0887"
             ],
             [
              0.1111111111111111,
              "#46039f"
             ],
             [
              0.2222222222222222,
              "#7201a8"
             ],
             [
              0.3333333333333333,
              "#9c179e"
             ],
             [
              0.4444444444444444,
              "#bd3786"
             ],
             [
              0.5555555555555556,
              "#d8576b"
             ],
             [
              0.6666666666666666,
              "#ed7953"
             ],
             [
              0.7777777777777778,
              "#fb9f3a"
             ],
             [
              0.8888888888888888,
              "#fdca26"
             ],
             [
              1,
              "#f0f921"
             ]
            ],
            "type": "surface"
           }
          ],
          "table": [
           {
            "cells": {
             "fill": {
              "color": "#EBF0F8"
             },
             "line": {
              "color": "white"
             }
            },
            "header": {
             "fill": {
              "color": "#C8D4E3"
             },
             "line": {
              "color": "white"
             }
            },
            "type": "table"
           }
          ]
         },
         "layout": {
          "annotationdefaults": {
           "arrowcolor": "#2a3f5f",
           "arrowhead": 0,
           "arrowwidth": 1
          },
          "autotypenumbers": "strict",
          "coloraxis": {
           "colorbar": {
            "outlinewidth": 0,
            "ticks": ""
           }
          },
          "colorscale": {
           "diverging": [
            [
             0,
             "#8e0152"
            ],
            [
             0.1,
             "#c51b7d"
            ],
            [
             0.2,
             "#de77ae"
            ],
            [
             0.3,
             "#f1b6da"
            ],
            [
             0.4,
             "#fde0ef"
            ],
            [
             0.5,
             "#f7f7f7"
            ],
            [
             0.6,
             "#e6f5d0"
            ],
            [
             0.7,
             "#b8e186"
            ],
            [
             0.8,
             "#7fbc41"
            ],
            [
             0.9,
             "#4d9221"
            ],
            [
             1,
             "#276419"
            ]
           ],
           "sequential": [
            [
             0,
             "#0d0887"
            ],
            [
             0.1111111111111111,
             "#46039f"
            ],
            [
             0.2222222222222222,
             "#7201a8"
            ],
            [
             0.3333333333333333,
             "#9c179e"
            ],
            [
             0.4444444444444444,
             "#bd3786"
            ],
            [
             0.5555555555555556,
             "#d8576b"
            ],
            [
             0.6666666666666666,
             "#ed7953"
            ],
            [
             0.7777777777777778,
             "#fb9f3a"
            ],
            [
             0.8888888888888888,
             "#fdca26"
            ],
            [
             1,
             "#f0f921"
            ]
           ],
           "sequentialminus": [
            [
             0,
             "#0d0887"
            ],
            [
             0.1111111111111111,
             "#46039f"
            ],
            [
             0.2222222222222222,
             "#7201a8"
            ],
            [
             0.3333333333333333,
             "#9c179e"
            ],
            [
             0.4444444444444444,
             "#bd3786"
            ],
            [
             0.5555555555555556,
             "#d8576b"
            ],
            [
             0.6666666666666666,
             "#ed7953"
            ],
            [
             0.7777777777777778,
             "#fb9f3a"
            ],
            [
             0.8888888888888888,
             "#fdca26"
            ],
            [
             1,
             "#f0f921"
            ]
           ]
          },
          "colorway": [
           "#636efa",
           "#EF553B",
           "#00cc96",
           "#ab63fa",
           "#FFA15A",
           "#19d3f3",
           "#FF6692",
           "#B6E880",
           "#FF97FF",
           "#FECB52"
          ],
          "font": {
           "color": "#2a3f5f"
          },
          "geo": {
           "bgcolor": "white",
           "lakecolor": "white",
           "landcolor": "#E5ECF6",
           "showlakes": true,
           "showland": true,
           "subunitcolor": "white"
          },
          "hoverlabel": {
           "align": "left"
          },
          "hovermode": "closest",
          "mapbox": {
           "style": "light"
          },
          "paper_bgcolor": "white",
          "plot_bgcolor": "#E5ECF6",
          "polar": {
           "angularaxis": {
            "gridcolor": "white",
            "linecolor": "white",
            "ticks": ""
           },
           "bgcolor": "#E5ECF6",
           "radialaxis": {
            "gridcolor": "white",
            "linecolor": "white",
            "ticks": ""
           }
          },
          "scene": {
           "xaxis": {
            "backgroundcolor": "#E5ECF6",
            "gridcolor": "white",
            "gridwidth": 2,
            "linecolor": "white",
            "showbackground": true,
            "ticks": "",
            "zerolinecolor": "white"
           },
           "yaxis": {
            "backgroundcolor": "#E5ECF6",
            "gridcolor": "white",
            "gridwidth": 2,
            "linecolor": "white",
            "showbackground": true,
            "ticks": "",
            "zerolinecolor": "white"
           },
           "zaxis": {
            "backgroundcolor": "#E5ECF6",
            "gridcolor": "white",
            "gridwidth": 2,
            "linecolor": "white",
            "showbackground": true,
            "ticks": "",
            "zerolinecolor": "white"
           }
          },
          "shapedefaults": {
           "line": {
            "color": "#2a3f5f"
           }
          },
          "ternary": {
           "aaxis": {
            "gridcolor": "white",
            "linecolor": "white",
            "ticks": ""
           },
           "baxis": {
            "gridcolor": "white",
            "linecolor": "white",
            "ticks": ""
           },
           "bgcolor": "#E5ECF6",
           "caxis": {
            "gridcolor": "white",
            "linecolor": "white",
            "ticks": ""
           }
          },
          "title": {
           "x": 0.05
          },
          "xaxis": {
           "automargin": true,
           "gridcolor": "white",
           "linecolor": "white",
           "ticks": "",
           "title": {
            "standoff": 15
           },
           "zerolinecolor": "white",
           "zerolinewidth": 2
          },
          "yaxis": {
           "automargin": true,
           "gridcolor": "white",
           "linecolor": "white",
           "ticks": "",
           "title": {
            "standoff": 15
           },
           "zerolinecolor": "white",
           "zerolinewidth": 2
          }
         }
        },
        "title": {
         "text": "RF:Observed target vs Predicted target using train data"
        },
        "width": 800,
        "xaxis": {
         "title": {
          "text": "Observed consult_cost"
         }
        },
        "yaxis": {
         "title": {
          "text": "Predicted consult_cost"
         }
        }
       }
      }
     },
     "metadata": {},
     "output_type": "display_data"
    }
   ],
   "source": [
    "\n",
    "fig = go.Figure()\n",
    "\n",
    "# scatter plot using test data\n",
    "fig.add_trace(go.Scatter(y=y_train, x=RF.predict(x_train), mode='markers', marker=dict(color='blue')))\n",
    "\n",
    "# diagonal line to represent predictions\n",
    "fig.add_trace(go.Scatter(y=y_train, x=y_train, mode='lines', line=dict(color='red')))\n",
    "\n",
    "fig.update_layout(title='RF:Observed target vs Predicted target using train data', xaxis_title='Observed consult_cost', \n",
    "                  yaxis_title='Predicted consult_cost', width=800, height=500)\n",
    "fig.show()"
   ]
  },
  {
   "cell_type": "code",
   "execution_count": 191,
   "metadata": {},
   "outputs": [
    {
     "data": {
      "application/vnd.plotly.v1+json": {
       "config": {
        "plotlyServerURL": "https://plot.ly"
       },
       "data": [
        {
         "marker": {
          "color": "blue"
         },
         "mode": "markers",
         "type": "scatter",
         "x": [
          7.95094027521032,
          8.90183225481394,
          7.486881663848597,
          8.13490841725876,
          7.705146203381823,
          7.5977639125065615,
          8.951191571234366,
          7.4392361751309135,
          8.681281799339764,
          9.535023875966498,
          7.5178635052635725,
          8.49323689878988,
          9.30988032569353,
          8.394627750269006,
          7.829459205980353,
          8.334585158699554,
          9.191897135339817,
          8.088869983557567,
          8.323645714646904,
          8.611668090534073,
          8.852659432825037,
          8.563733899527541,
          7.6233786609990215,
          7.7021053570983735,
          8.80655355194222,
          7.849914146295291,
          7.629630238196004,
          8.323683426031133,
          7.697913498506951,
          7.961234688382772,
          7.960531833348168,
          8.834866589876007,
          9.302904352247596,
          7.439498198540791,
          7.434456996174475,
          7.585889951265099,
          9.508815136951245,
          9.073283374051675,
          8.340379258070595,
          9.19984299471933,
          7.676932463779102,
          8.339660795787536,
          7.550256879609981,
          7.695896579815322,
          8.335474939064087,
          9.122212774679042,
          9.061381157321918,
          7.502881698364077,
          9.091059877949803,
          7.5713296213491805,
          8.793087164304067,
          8.554968843084998,
          8.022549799712257,
          8.29714069153614,
          8.176773163372815,
          7.5769674697401905,
          8.157112561246683,
          8.107184956993466,
          8.998398773273658,
          8.481145953151453,
          7.602827643212795,
          9.332908749771057,
          9.400314596468629,
          8.666875872403637,
          8.57051428283964,
          8.656150883550616,
          7.825188007257367,
          7.694713740781917,
          8.699581443572539,
          9.577508861889397,
          9.175766047693262,
          8.151181460395456,
          8.771618941816822,
          7.93926251496217,
          9.009397940392953,
          9.060067231771274,
          8.629812864206988,
          8.011223593426246,
          8.560819035542428,
          8.372131516405132,
          8.432920949410905,
          9.134648168767088,
          9.370990005877424,
          8.977836641485093,
          7.756446433050393,
          8.201741661710349,
          8.084389747135566,
          7.449625066873024,
          7.882469129908925,
          8.881418149549457,
          8.90681678206084,
          8.06616769397687,
          8.897750777314593,
          7.689137408750728,
          8.080119928385946,
          7.858051110949615,
          9.165873908721563,
          8.634686736299258,
          8.571394015955846,
          8.443088916582555,
          9.174408919539292,
          9.098113178850552,
          8.176329678598707,
          9.487421985827007,
          8.193917630246956,
          8.549300647709442,
          7.848230327602983,
          7.663762642111247,
          8.704045159632905,
          7.658837657419744,
          8.272176708218053,
          8.373832577027633,
          7.530784948602802,
          7.7860960771317105,
          7.4594336598933,
          9.007206195608578,
          9.077871835033813,
          7.824008759820273,
          9.037325141291891,
          8.775297421768752,
          7.751610914679814,
          8.347307365400438,
          8.69103779277605,
          8.23655899299393,
          9.13874435833414,
          8.993588325109451,
          7.872114654925082,
          8.245712785617226,
          8.702389763571132,
          8.941636995342332,
          7.526601093933935,
          7.3965976780785505,
          7.9344449985172085,
          9.057563811005194,
          8.047886026337036,
          8.198127731352772,
          9.184755583583794,
          8.109738420845325,
          7.373252277904985,
          7.721816809903282,
          8.624915424196228,
          8.279205466392478,
          8.845620998355669,
          7.697522388934324,
          7.862479906771691,
          9.331200863575672,
          8.95076568347663,
          9.265681976075536,
          8.712130180707897,
          7.656460256507708,
          7.547079478216235,
          8.173032376487512,
          9.408642405289989,
          9.384825735154568,
          7.5732112435192125,
          8.247076922876332,
          8.167857737427363,
          8.808492397614266,
          8.342658815526276,
          8.265539245381705,
          9.294626923291718,
          7.866364919244258,
          7.398262674164888,
          9.304841290236983,
          7.51652806150582,
          9.113034084645271,
          9.263258710878556,
          9.29292778174017,
          8.810727824829941,
          8.915886694565796,
          9.050945971454963,
          8.593621385642443,
          8.000614377977827,
          9.058277042491595,
          8.933070711412945,
          7.6964306004320555,
          7.931182925290037,
          7.536117532898587,
          7.777033194298316,
          9.493721646430739,
          9.43867435223996,
          8.266112382264852,
          8.32424111692909,
          9.349921466993344,
          7.540684843750224,
          9.067918483874886,
          8.675003364956186,
          7.775432815651196,
          8.097487864782407,
          9.31360310377141,
          9.323043965829143,
          9.048218683835366,
          9.289413402459862,
          8.437314629461538,
          9.380250120131231,
          8.219260971605033,
          8.081340040506054,
          8.974871585766333,
          9.32187517959431,
          8.082305028965138,
          9.035839790558855,
          7.593724910539068,
          9.425497413069705,
          8.358727080441257,
          8.680131594140116,
          7.469479110222808,
          8.451288716695263,
          7.8298473038840495,
          8.776060721006612,
          7.463594892227603,
          7.48679700639181,
          9.574762982728126,
          7.456556637988708,
          8.1775397822097,
          7.613813406460629,
          7.6318967960137405,
          8.230068205131982,
          8.79183218878803,
          9.026323516273878,
          9.146431346806935,
          8.408809806364207,
          8.93652361185712,
          7.559397866153209,
          8.545457638610923,
          7.956446986459203,
          7.657853978353774,
          7.929857296434956,
          7.639153199934447,
          7.643986623127628,
          7.675486762203048,
          7.977746323565497,
          9.120186287095358,
          7.73219843152587,
          8.110752245635666,
          8.898550745792356,
          7.823634953788018,
          7.899230406528715,
          8.282200023394507,
          7.961948648647231,
          8.253062906390722,
          7.825814349165688,
          7.664369139923824,
          8.1722182013034,
          9.091354022960731,
          7.53141847081287,
          7.75788664300321,
          8.604967174665841,
          9.235251053944427,
          8.60021809826541,
          7.656362356831522,
          7.971627715123303,
          7.5493890662817025,
          9.076105402001495,
          8.474888543578256,
          8.694842298778035,
          7.9130633000534765,
          7.464564310523118,
          8.240461231872512,
          9.469604760281042,
          8.683113619372063,
          9.548404134371975,
          8.662841186592873,
          9.05417880417438,
          8.833036969016824,
          9.459143110861778,
          7.652844059267399,
          9.386844625033918,
          9.4018579661052,
          9.137755329969018,
          8.951616425686304,
          8.878905977879988,
          8.408263391514636,
          8.16936206636512,
          7.717196468267153,
          9.401054804796791,
          7.585731454095565,
          9.399566201691298,
          7.9489037935035425,
          8.174409853462663,
          9.368293446104706,
          9.371360042786709,
          8.314250224541933,
          8.319138794836872,
          8.931122412967303,
          8.297094539004823,
          8.033847183810211,
          8.548653559495804,
          8.28015279495938,
          7.910154924772941,
          8.235569674092444,
          7.60849377194955,
          8.400842770197837,
          8.198125029805139,
          7.997831391526685,
          9.17992998457457,
          7.7676231521400725,
          9.354575773616157,
          8.94150590265203,
          9.20940318406272,
          7.958285898689258,
          7.993099632926578,
          8.038255295764653,
          8.512754861730707,
          7.728191010642666,
          8.083261483737601,
          7.53080696652853,
          7.975404897468965,
          8.585027131537995,
          9.027915910976251,
          7.525427557344014,
          9.030557800967486,
          7.458317955066155,
          8.985171074041311,
          9.396017006297521,
          8.000676802489355,
          8.772985921046077,
          8.676306108876647,
          8.374213896838425,
          8.708857443779623,
          9.358796895488668,
          7.788524551909172,
          8.977759023924081,
          9.413667229309036,
          9.174675617010662,
          8.27016852029977,
          8.50675104594889,
          8.220298218100982,
          8.600642083769614,
          8.052841656043356,
          9.301119685642282,
          9.061742466955545,
          7.603617673951868,
          7.406809409041928,
          8.490636124310022,
          8.68896879683778,
          7.928076799774838,
          7.459093533400203,
          8.604345683706098,
          7.813766408398973,
          7.974187731483024,
          9.307389109109453,
          9.03321824409536,
          8.582183717668658,
          8.467966421698499,
          9.420390792152649,
          8.948655672958438,
          9.210625415277725,
          7.670574288802081,
          8.317064449359874,
          8.781664459329233,
          7.522370974130369,
          9.301123462789201,
          9.144533136489141,
          8.043844902163459,
          7.469671836182565,
          8.574966384461916,
          9.259179892968627,
          8.45518986901699,
          7.977828422764007,
          9.545555113759459,
          9.517329792186507,
          7.690398031319524,
          9.18379156428324,
          7.49375225031593,
          8.976970276060221,
          7.751254283431681,
          7.685773248629986,
          7.959279833165063,
          9.315845833097207,
          7.414386395416534,
          7.619033738880748,
          8.691322865283068,
          7.99483832148709,
          9.332386754051768,
          9.433782208912948,
          8.496192167100984,
          9.10870280878513,
          8.845211183650184,
          7.4605762223475764,
          9.388083914037997,
          9.428880789847685,
          8.094248034284588,
          9.168935570438887,
          8.943862492275285,
          8.707413260402683,
          7.963947051002105,
          7.473837363125893,
          8.194462702901145,
          8.842093725534003,
          7.760375908409004,
          7.875531335467516,
          7.952790119442608,
          8.920232065228443,
          7.522780639789536,
          8.897314856655395,
          8.176093868841878,
          9.052881364241424,
          7.687902483277977,
          8.649107268426006,
          7.704605494373086,
          8.337646740547552,
          8.021321428629879,
          7.826752123863499,
          9.12716885679022,
          9.538882354559865,
          8.732857885736838,
          8.859763344134638,
          7.46366525655019,
          8.891727239847642,
          8.927122740773191,
          7.5805640020943095,
          9.011581316884334,
          7.624314052241287,
          8.692793820701587,
          9.056308110951958,
          7.9788206557998524
         ],
         "y": [
          8.160518247477505,
          8.987196820661973,
          7.170119543449628,
          8.476371196895983,
          7.438383530044307,
          7.170119543449628,
          9.011889433252344,
          7.24422751560335,
          8.83927669058535,
          9.20029003612268,
          7.24422751560335,
          8.68270762989381,
          9.126958763037132,
          8.68270762989381,
          7.783224016336037,
          8.575462099540212,
          9.0595174822416,
          8.389359819906353,
          8.594154232552366,
          8.794824928014517,
          8.948975607841776,
          8.732304571033183,
          7.649692623711514,
          7.090076835776092,
          8.895629627136483,
          7.90100705199242,
          7.549609165154532,
          8.594154232552366,
          7.649692623711514,
          8.131530710604252,
          8.006367567650246,
          8.881836305004146,
          9.137769679141348,
          7.170119543449628,
          7.24422751560335,
          7.696212639346407,
          9.259130536145614,
          9.035986984831405,
          8.594154232552366,
          9.035986984831405,
          7.438383530044307,
          8.496990484098719,
          7.170119543449628,
          7.495541943884256,
          8.594154232552366,
          9.02401079378469,
          9.082507000466299,
          7.170119543449628,
          9.071078304642676,
          7.003065458786462,
          8.895629627136483,
          8.732304571033183,
          8.101677747454572,
          8.575462099540212,
          8.517193191416238,
          7.170119543449628,
          8.476371196895983,
          8.517193191416238,
          9.011889433252344,
          8.68270762989381,
          7.313220387090301,
          9.137769679141348,
          9.169518377455928,
          8.824677891164198,
          8.764053269347762,
          8.83927669058535,
          8.006367567650246,
          7.495541943884256,
          8.895629627136483,
          9.230142999272362,
          9.071078304642676,
          8.45531778769815,
          8.895629627136483,
          8.160518247477505,
          9.011889433252344,
          9.02401079378469,
          8.824677891164198,
          8.294049640102028,
          8.764053269347762,
          8.575462099540212,
          8.699514748210191,
          9.02401079378469,
          9.20029003612268,
          9.035986984831405,
          7.649692623711514,
          8.517193191416238,
          8.131530710604252,
          7.003065458786462,
          7.783224016336037,
          8.974618038455112,
          8.935903526274423,
          8.34283980427146,
          8.987196820661973,
          7.313220387090301,
          8.34283980427146,
          7.8632667240095735,
          9.082507000466299,
          8.85366542803745,
          8.83927669058535,
          8.68270762989381,
          9.093806555720231,
          9.011889433252344,
          8.517193191416238,
          9.190137664658664,
          8.45531778769815,
          8.794824928014517,
          7.824046010856292,
          7.696212639346407,
          8.881836305004146,
          7.170119543449628,
          8.556413904569519,
          8.556413904569519,
          7.170119543449628,
          7.937374696163295,
          7.170119543449628,
          9.035986984831405,
          9.093806555720231,
          7.783224016336037,
          9.011889433252344,
          8.881836305004146,
          7.8632667240095735,
          8.556413904569519,
          8.909235279192261,
          8.594154232552366,
          9.093806555720231,
          8.935903526274423,
          8.101677747454572,
          8.496990484098719,
          8.824677891164198,
          9.035986984831405,
          7.090076835776092,
          7.24422751560335,
          8.160518247477505,
          9.093806555720231,
          8.34283980427146,
          8.45531778769815,
          9.0595174822416,
          8.268731832117737,
          7.24422751560335,
          7.824046010856292,
          8.85366542803745,
          8.389359819906353,
          8.881836305004146,
          7.696212639346407,
          7.824046010856292,
          9.116029692504942,
          9.011889433252344,
          9.148464968258095,
          8.85366542803745,
          7.003065458786462,
          7.090076835776092,
          8.496990484098719,
          9.20029003612268,
          9.169518377455928,
          7.495541943884256,
          8.594154232552366,
          8.411832675758411,
          8.909235279192261,
          8.411832675758411,
          8.575462099540212,
          9.126958763037132,
          8.160518247477505,
          7.003065458786462,
          9.148464968258095,
          7.090076835776092,
          9.071078304642676,
          9.137769679141348,
          9.190137664658664,
          8.974618038455112,
          8.961879012677683,
          9.011889433252344,
          8.794824928014517,
          8.294049640102028,
          8.948975607841776,
          8.961879012677683,
          7.696212639346407,
          8.131530710604252,
          7.24422751560335,
          7.24422751560335,
          9.230142999272362,
          9.20029003612268,
          8.556413904569519,
          8.45531778769815,
          9.179881164491475,
          7.313220387090301,
          9.035986984831405,
          8.824677891164198,
          7.696212639346407,
          8.268731832117737,
          9.137769679141348,
          9.169518377455928,
          9.02401079378469,
          9.137769679141348,
          8.630521876723241,
          9.116029692504942,
          8.411832675758411,
          8.34283980427146,
          8.881836305004146,
          9.093806555720231,
          8.294049640102028,
          9.035986984831405,
          7.438383530044307,
          9.169518377455928,
          8.556413904569519,
          8.824677891164198,
          7.003065458786462,
          8.66561319653451,
          7.9724660159745655,
          8.895629627136483,
          7.170119543449628,
          7.24422751560335,
          9.230142999272362,
          7.24422751560335,
          8.318742252692399,
          7.649692623711514,
          7.649692623711514,
          8.476371196895983,
          8.895629627136483,
          9.035986984831405,
          9.035986984831405,
          8.648221453822641,
          8.948975607841776,
          7.313220387090301,
          8.748304912379623,
          8.101677747454572,
          7.600902459542082,
          8.131530710604252,
          7.696212639346407,
          7.438383530044307,
          7.649692623711514,
          8.101677747454572,
          9.035986984831405,
          7.313220387090301,
          8.242756345714477,
          8.895629627136483,
          7.9724660159745655,
          8.131530710604252,
          8.575462099540212,
          8.006367567650246,
          8.45531778769815,
          7.600902459542082,
          7.438383530044307,
          8.389359819906353,
          9.02401079378469,
          7.170119543449628,
          7.824046010856292,
          8.764053269347762,
          9.082507000466299,
          8.748304912379623,
          7.696212639346407,
          8.101677747454572,
          7.24422751560335,
          9.035986984831405,
          8.66561319653451,
          8.85366542803745,
          8.101677747454572,
          7.313220387090301,
          8.34283980427146,
          9.190137664658664,
          8.83927669058535,
          9.230142999272362,
          8.824677891164198,
          8.935903526274423,
          8.948975607841776,
          9.169518377455928,
          7.549609165154532,
          9.179881164491475,
          9.126958763037132,
          9.071078304642676,
          8.974618038455112,
          8.987196820661973,
          8.66561319653451,
          8.496990484098719,
          7.438383530044307,
          9.190137664658664,
          7.170119543449628,
          9.116029692504942,
          8.160518247477505,
          8.496990484098719,
          9.116029692504942,
          9.137769679141348,
          8.556413904569519,
          8.594154232552366,
          8.987196820661973,
          8.575462099540212,
          8.34283980427146,
          8.764053269347762,
          8.575462099540212,
          8.101677747454572,
          8.594154232552366,
          7.438383530044307,
          8.68270762989381,
          8.294049640102028,
          8.160518247477505,
          9.082507000466299,
          7.937374696163295,
          9.148464968258095,
          8.948975607841776,
          9.011889433252344,
          8.101677747454572,
          8.160518247477505,
          8.34283980427146,
          8.748304912379623,
          7.649692623711514,
          8.34283980427146,
          7.003065458786462,
          8.160518247477505,
          8.648221453822641,
          9.02401079378469,
          7.090076835776092,
          8.987196820661973,
          7.090076835776092,
          8.935903526274423,
          9.137769679141348,
          8.101677747454572,
          8.881836305004146,
          8.824677891164198,
          8.411832675758411,
          8.824677891164198,
          9.148464968258095,
          7.90100705199242,
          9.035986984831405,
          9.20029003612268,
          9.0595174822416,
          8.556413904569519,
          8.630521876723241,
          8.476371196895983,
          8.66561319653451,
          8.242756345714477,
          9.116029692504942,
          9.035986984831405,
          7.549609165154532,
          7.24422751560335,
          8.764053269347762,
          8.824677891164198,
          8.101677747454572,
          7.170119543449628,
          8.794824928014517,
          7.8632667240095735,
          8.294049640102028,
          9.137769679141348,
          8.961879012677683,
          8.85366542803745,
          8.699514748210191,
          9.259130536145614,
          8.948975607841776,
          9.02401079378469,
          7.600902459542082,
          8.556413904569519,
          8.881836305004146,
          7.090076835776092,
          9.126958763037132,
          9.082507000466299,
          8.294049640102028,
          7.313220387090301,
          8.648221453822641,
          9.093806555720231,
          8.699514748210191,
          7.824046010856292,
          9.249561085129464,
          9.20029003612268,
          7.549609165154532,
          9.011889433252344,
          7.170119543449628,
          8.974618038455112,
          7.438383530044307,
          7.090076835776092,
          8.160518247477505,
          9.116029692504942,
          7.24422751560335,
          7.438383530044307,
          8.794824928014517,
          8.131530710604252,
          9.190137664658664,
          9.116029692504942,
          8.630521876723241,
          8.974618038455112,
          8.909235279192261,
          7.003065458786462,
          9.148464968258095,
          9.148464968258095,
          8.318742252692399,
          9.035986984831405,
          8.935903526274423,
          8.881836305004146,
          8.101677747454572,
          7.090076835776092,
          8.433811582477187,
          8.895629627136483,
          8.006367567650246,
          7.824046010856292,
          8.294049640102028,
          9.02401079378469,
          7.313220387090301,
          8.935903526274423,
          8.411832675758411,
          8.948975607841776,
          7.495541943884256,
          8.83927669058535,
          7.313220387090301,
          8.556413904569519,
          8.242756345714477,
          7.783224016336037,
          9.082507000466299,
          9.259130536145614,
          8.895629627136483,
          8.987196820661973,
          7.170119543449628,
          8.895629627136483,
          8.974618038455112,
          7.313220387090301,
          8.948975607841776,
          7.495541943884256,
          8.824677891164198,
          9.011889433252344,
          8.101677747454572
         ]
        },
        {
         "line": {
          "color": "red"
         },
         "mode": "lines",
         "type": "scatter",
         "x": [
          8.160518247477505,
          8.987196820661973,
          7.170119543449628,
          8.476371196895983,
          7.438383530044307,
          7.170119543449628,
          9.011889433252344,
          7.24422751560335,
          8.83927669058535,
          9.20029003612268,
          7.24422751560335,
          8.68270762989381,
          9.126958763037132,
          8.68270762989381,
          7.783224016336037,
          8.575462099540212,
          9.0595174822416,
          8.389359819906353,
          8.594154232552366,
          8.794824928014517,
          8.948975607841776,
          8.732304571033183,
          7.649692623711514,
          7.090076835776092,
          8.895629627136483,
          7.90100705199242,
          7.549609165154532,
          8.594154232552366,
          7.649692623711514,
          8.131530710604252,
          8.006367567650246,
          8.881836305004146,
          9.137769679141348,
          7.170119543449628,
          7.24422751560335,
          7.696212639346407,
          9.259130536145614,
          9.035986984831405,
          8.594154232552366,
          9.035986984831405,
          7.438383530044307,
          8.496990484098719,
          7.170119543449628,
          7.495541943884256,
          8.594154232552366,
          9.02401079378469,
          9.082507000466299,
          7.170119543449628,
          9.071078304642676,
          7.003065458786462,
          8.895629627136483,
          8.732304571033183,
          8.101677747454572,
          8.575462099540212,
          8.517193191416238,
          7.170119543449628,
          8.476371196895983,
          8.517193191416238,
          9.011889433252344,
          8.68270762989381,
          7.313220387090301,
          9.137769679141348,
          9.169518377455928,
          8.824677891164198,
          8.764053269347762,
          8.83927669058535,
          8.006367567650246,
          7.495541943884256,
          8.895629627136483,
          9.230142999272362,
          9.071078304642676,
          8.45531778769815,
          8.895629627136483,
          8.160518247477505,
          9.011889433252344,
          9.02401079378469,
          8.824677891164198,
          8.294049640102028,
          8.764053269347762,
          8.575462099540212,
          8.699514748210191,
          9.02401079378469,
          9.20029003612268,
          9.035986984831405,
          7.649692623711514,
          8.517193191416238,
          8.131530710604252,
          7.003065458786462,
          7.783224016336037,
          8.974618038455112,
          8.935903526274423,
          8.34283980427146,
          8.987196820661973,
          7.313220387090301,
          8.34283980427146,
          7.8632667240095735,
          9.082507000466299,
          8.85366542803745,
          8.83927669058535,
          8.68270762989381,
          9.093806555720231,
          9.011889433252344,
          8.517193191416238,
          9.190137664658664,
          8.45531778769815,
          8.794824928014517,
          7.824046010856292,
          7.696212639346407,
          8.881836305004146,
          7.170119543449628,
          8.556413904569519,
          8.556413904569519,
          7.170119543449628,
          7.937374696163295,
          7.170119543449628,
          9.035986984831405,
          9.093806555720231,
          7.783224016336037,
          9.011889433252344,
          8.881836305004146,
          7.8632667240095735,
          8.556413904569519,
          8.909235279192261,
          8.594154232552366,
          9.093806555720231,
          8.935903526274423,
          8.101677747454572,
          8.496990484098719,
          8.824677891164198,
          9.035986984831405,
          7.090076835776092,
          7.24422751560335,
          8.160518247477505,
          9.093806555720231,
          8.34283980427146,
          8.45531778769815,
          9.0595174822416,
          8.268731832117737,
          7.24422751560335,
          7.824046010856292,
          8.85366542803745,
          8.389359819906353,
          8.881836305004146,
          7.696212639346407,
          7.824046010856292,
          9.116029692504942,
          9.011889433252344,
          9.148464968258095,
          8.85366542803745,
          7.003065458786462,
          7.090076835776092,
          8.496990484098719,
          9.20029003612268,
          9.169518377455928,
          7.495541943884256,
          8.594154232552366,
          8.411832675758411,
          8.909235279192261,
          8.411832675758411,
          8.575462099540212,
          9.126958763037132,
          8.160518247477505,
          7.003065458786462,
          9.148464968258095,
          7.090076835776092,
          9.071078304642676,
          9.137769679141348,
          9.190137664658664,
          8.974618038455112,
          8.961879012677683,
          9.011889433252344,
          8.794824928014517,
          8.294049640102028,
          8.948975607841776,
          8.961879012677683,
          7.696212639346407,
          8.131530710604252,
          7.24422751560335,
          7.24422751560335,
          9.230142999272362,
          9.20029003612268,
          8.556413904569519,
          8.45531778769815,
          9.179881164491475,
          7.313220387090301,
          9.035986984831405,
          8.824677891164198,
          7.696212639346407,
          8.268731832117737,
          9.137769679141348,
          9.169518377455928,
          9.02401079378469,
          9.137769679141348,
          8.630521876723241,
          9.116029692504942,
          8.411832675758411,
          8.34283980427146,
          8.881836305004146,
          9.093806555720231,
          8.294049640102028,
          9.035986984831405,
          7.438383530044307,
          9.169518377455928,
          8.556413904569519,
          8.824677891164198,
          7.003065458786462,
          8.66561319653451,
          7.9724660159745655,
          8.895629627136483,
          7.170119543449628,
          7.24422751560335,
          9.230142999272362,
          7.24422751560335,
          8.318742252692399,
          7.649692623711514,
          7.649692623711514,
          8.476371196895983,
          8.895629627136483,
          9.035986984831405,
          9.035986984831405,
          8.648221453822641,
          8.948975607841776,
          7.313220387090301,
          8.748304912379623,
          8.101677747454572,
          7.600902459542082,
          8.131530710604252,
          7.696212639346407,
          7.438383530044307,
          7.649692623711514,
          8.101677747454572,
          9.035986984831405,
          7.313220387090301,
          8.242756345714477,
          8.895629627136483,
          7.9724660159745655,
          8.131530710604252,
          8.575462099540212,
          8.006367567650246,
          8.45531778769815,
          7.600902459542082,
          7.438383530044307,
          8.389359819906353,
          9.02401079378469,
          7.170119543449628,
          7.824046010856292,
          8.764053269347762,
          9.082507000466299,
          8.748304912379623,
          7.696212639346407,
          8.101677747454572,
          7.24422751560335,
          9.035986984831405,
          8.66561319653451,
          8.85366542803745,
          8.101677747454572,
          7.313220387090301,
          8.34283980427146,
          9.190137664658664,
          8.83927669058535,
          9.230142999272362,
          8.824677891164198,
          8.935903526274423,
          8.948975607841776,
          9.169518377455928,
          7.549609165154532,
          9.179881164491475,
          9.126958763037132,
          9.071078304642676,
          8.974618038455112,
          8.987196820661973,
          8.66561319653451,
          8.496990484098719,
          7.438383530044307,
          9.190137664658664,
          7.170119543449628,
          9.116029692504942,
          8.160518247477505,
          8.496990484098719,
          9.116029692504942,
          9.137769679141348,
          8.556413904569519,
          8.594154232552366,
          8.987196820661973,
          8.575462099540212,
          8.34283980427146,
          8.764053269347762,
          8.575462099540212,
          8.101677747454572,
          8.594154232552366,
          7.438383530044307,
          8.68270762989381,
          8.294049640102028,
          8.160518247477505,
          9.082507000466299,
          7.937374696163295,
          9.148464968258095,
          8.948975607841776,
          9.011889433252344,
          8.101677747454572,
          8.160518247477505,
          8.34283980427146,
          8.748304912379623,
          7.649692623711514,
          8.34283980427146,
          7.003065458786462,
          8.160518247477505,
          8.648221453822641,
          9.02401079378469,
          7.090076835776092,
          8.987196820661973,
          7.090076835776092,
          8.935903526274423,
          9.137769679141348,
          8.101677747454572,
          8.881836305004146,
          8.824677891164198,
          8.411832675758411,
          8.824677891164198,
          9.148464968258095,
          7.90100705199242,
          9.035986984831405,
          9.20029003612268,
          9.0595174822416,
          8.556413904569519,
          8.630521876723241,
          8.476371196895983,
          8.66561319653451,
          8.242756345714477,
          9.116029692504942,
          9.035986984831405,
          7.549609165154532,
          7.24422751560335,
          8.764053269347762,
          8.824677891164198,
          8.101677747454572,
          7.170119543449628,
          8.794824928014517,
          7.8632667240095735,
          8.294049640102028,
          9.137769679141348,
          8.961879012677683,
          8.85366542803745,
          8.699514748210191,
          9.259130536145614,
          8.948975607841776,
          9.02401079378469,
          7.600902459542082,
          8.556413904569519,
          8.881836305004146,
          7.090076835776092,
          9.126958763037132,
          9.082507000466299,
          8.294049640102028,
          7.313220387090301,
          8.648221453822641,
          9.093806555720231,
          8.699514748210191,
          7.824046010856292,
          9.249561085129464,
          9.20029003612268,
          7.549609165154532,
          9.011889433252344,
          7.170119543449628,
          8.974618038455112,
          7.438383530044307,
          7.090076835776092,
          8.160518247477505,
          9.116029692504942,
          7.24422751560335,
          7.438383530044307,
          8.794824928014517,
          8.131530710604252,
          9.190137664658664,
          9.116029692504942,
          8.630521876723241,
          8.974618038455112,
          8.909235279192261,
          7.003065458786462,
          9.148464968258095,
          9.148464968258095,
          8.318742252692399,
          9.035986984831405,
          8.935903526274423,
          8.881836305004146,
          8.101677747454572,
          7.090076835776092,
          8.433811582477187,
          8.895629627136483,
          8.006367567650246,
          7.824046010856292,
          8.294049640102028,
          9.02401079378469,
          7.313220387090301,
          8.935903526274423,
          8.411832675758411,
          8.948975607841776,
          7.495541943884256,
          8.83927669058535,
          7.313220387090301,
          8.556413904569519,
          8.242756345714477,
          7.783224016336037,
          9.082507000466299,
          9.259130536145614,
          8.895629627136483,
          8.987196820661973,
          7.170119543449628,
          8.895629627136483,
          8.974618038455112,
          7.313220387090301,
          8.948975607841776,
          7.495541943884256,
          8.824677891164198,
          9.011889433252344,
          8.101677747454572
         ],
         "y": [
          8.160518247477505,
          8.987196820661973,
          7.170119543449628,
          8.476371196895983,
          7.438383530044307,
          7.170119543449628,
          9.011889433252344,
          7.24422751560335,
          8.83927669058535,
          9.20029003612268,
          7.24422751560335,
          8.68270762989381,
          9.126958763037132,
          8.68270762989381,
          7.783224016336037,
          8.575462099540212,
          9.0595174822416,
          8.389359819906353,
          8.594154232552366,
          8.794824928014517,
          8.948975607841776,
          8.732304571033183,
          7.649692623711514,
          7.090076835776092,
          8.895629627136483,
          7.90100705199242,
          7.549609165154532,
          8.594154232552366,
          7.649692623711514,
          8.131530710604252,
          8.006367567650246,
          8.881836305004146,
          9.137769679141348,
          7.170119543449628,
          7.24422751560335,
          7.696212639346407,
          9.259130536145614,
          9.035986984831405,
          8.594154232552366,
          9.035986984831405,
          7.438383530044307,
          8.496990484098719,
          7.170119543449628,
          7.495541943884256,
          8.594154232552366,
          9.02401079378469,
          9.082507000466299,
          7.170119543449628,
          9.071078304642676,
          7.003065458786462,
          8.895629627136483,
          8.732304571033183,
          8.101677747454572,
          8.575462099540212,
          8.517193191416238,
          7.170119543449628,
          8.476371196895983,
          8.517193191416238,
          9.011889433252344,
          8.68270762989381,
          7.313220387090301,
          9.137769679141348,
          9.169518377455928,
          8.824677891164198,
          8.764053269347762,
          8.83927669058535,
          8.006367567650246,
          7.495541943884256,
          8.895629627136483,
          9.230142999272362,
          9.071078304642676,
          8.45531778769815,
          8.895629627136483,
          8.160518247477505,
          9.011889433252344,
          9.02401079378469,
          8.824677891164198,
          8.294049640102028,
          8.764053269347762,
          8.575462099540212,
          8.699514748210191,
          9.02401079378469,
          9.20029003612268,
          9.035986984831405,
          7.649692623711514,
          8.517193191416238,
          8.131530710604252,
          7.003065458786462,
          7.783224016336037,
          8.974618038455112,
          8.935903526274423,
          8.34283980427146,
          8.987196820661973,
          7.313220387090301,
          8.34283980427146,
          7.8632667240095735,
          9.082507000466299,
          8.85366542803745,
          8.83927669058535,
          8.68270762989381,
          9.093806555720231,
          9.011889433252344,
          8.517193191416238,
          9.190137664658664,
          8.45531778769815,
          8.794824928014517,
          7.824046010856292,
          7.696212639346407,
          8.881836305004146,
          7.170119543449628,
          8.556413904569519,
          8.556413904569519,
          7.170119543449628,
          7.937374696163295,
          7.170119543449628,
          9.035986984831405,
          9.093806555720231,
          7.783224016336037,
          9.011889433252344,
          8.881836305004146,
          7.8632667240095735,
          8.556413904569519,
          8.909235279192261,
          8.594154232552366,
          9.093806555720231,
          8.935903526274423,
          8.101677747454572,
          8.496990484098719,
          8.824677891164198,
          9.035986984831405,
          7.090076835776092,
          7.24422751560335,
          8.160518247477505,
          9.093806555720231,
          8.34283980427146,
          8.45531778769815,
          9.0595174822416,
          8.268731832117737,
          7.24422751560335,
          7.824046010856292,
          8.85366542803745,
          8.389359819906353,
          8.881836305004146,
          7.696212639346407,
          7.824046010856292,
          9.116029692504942,
          9.011889433252344,
          9.148464968258095,
          8.85366542803745,
          7.003065458786462,
          7.090076835776092,
          8.496990484098719,
          9.20029003612268,
          9.169518377455928,
          7.495541943884256,
          8.594154232552366,
          8.411832675758411,
          8.909235279192261,
          8.411832675758411,
          8.575462099540212,
          9.126958763037132,
          8.160518247477505,
          7.003065458786462,
          9.148464968258095,
          7.090076835776092,
          9.071078304642676,
          9.137769679141348,
          9.190137664658664,
          8.974618038455112,
          8.961879012677683,
          9.011889433252344,
          8.794824928014517,
          8.294049640102028,
          8.948975607841776,
          8.961879012677683,
          7.696212639346407,
          8.131530710604252,
          7.24422751560335,
          7.24422751560335,
          9.230142999272362,
          9.20029003612268,
          8.556413904569519,
          8.45531778769815,
          9.179881164491475,
          7.313220387090301,
          9.035986984831405,
          8.824677891164198,
          7.696212639346407,
          8.268731832117737,
          9.137769679141348,
          9.169518377455928,
          9.02401079378469,
          9.137769679141348,
          8.630521876723241,
          9.116029692504942,
          8.411832675758411,
          8.34283980427146,
          8.881836305004146,
          9.093806555720231,
          8.294049640102028,
          9.035986984831405,
          7.438383530044307,
          9.169518377455928,
          8.556413904569519,
          8.824677891164198,
          7.003065458786462,
          8.66561319653451,
          7.9724660159745655,
          8.895629627136483,
          7.170119543449628,
          7.24422751560335,
          9.230142999272362,
          7.24422751560335,
          8.318742252692399,
          7.649692623711514,
          7.649692623711514,
          8.476371196895983,
          8.895629627136483,
          9.035986984831405,
          9.035986984831405,
          8.648221453822641,
          8.948975607841776,
          7.313220387090301,
          8.748304912379623,
          8.101677747454572,
          7.600902459542082,
          8.131530710604252,
          7.696212639346407,
          7.438383530044307,
          7.649692623711514,
          8.101677747454572,
          9.035986984831405,
          7.313220387090301,
          8.242756345714477,
          8.895629627136483,
          7.9724660159745655,
          8.131530710604252,
          8.575462099540212,
          8.006367567650246,
          8.45531778769815,
          7.600902459542082,
          7.438383530044307,
          8.389359819906353,
          9.02401079378469,
          7.170119543449628,
          7.824046010856292,
          8.764053269347762,
          9.082507000466299,
          8.748304912379623,
          7.696212639346407,
          8.101677747454572,
          7.24422751560335,
          9.035986984831405,
          8.66561319653451,
          8.85366542803745,
          8.101677747454572,
          7.313220387090301,
          8.34283980427146,
          9.190137664658664,
          8.83927669058535,
          9.230142999272362,
          8.824677891164198,
          8.935903526274423,
          8.948975607841776,
          9.169518377455928,
          7.549609165154532,
          9.179881164491475,
          9.126958763037132,
          9.071078304642676,
          8.974618038455112,
          8.987196820661973,
          8.66561319653451,
          8.496990484098719,
          7.438383530044307,
          9.190137664658664,
          7.170119543449628,
          9.116029692504942,
          8.160518247477505,
          8.496990484098719,
          9.116029692504942,
          9.137769679141348,
          8.556413904569519,
          8.594154232552366,
          8.987196820661973,
          8.575462099540212,
          8.34283980427146,
          8.764053269347762,
          8.575462099540212,
          8.101677747454572,
          8.594154232552366,
          7.438383530044307,
          8.68270762989381,
          8.294049640102028,
          8.160518247477505,
          9.082507000466299,
          7.937374696163295,
          9.148464968258095,
          8.948975607841776,
          9.011889433252344,
          8.101677747454572,
          8.160518247477505,
          8.34283980427146,
          8.748304912379623,
          7.649692623711514,
          8.34283980427146,
          7.003065458786462,
          8.160518247477505,
          8.648221453822641,
          9.02401079378469,
          7.090076835776092,
          8.987196820661973,
          7.090076835776092,
          8.935903526274423,
          9.137769679141348,
          8.101677747454572,
          8.881836305004146,
          8.824677891164198,
          8.411832675758411,
          8.824677891164198,
          9.148464968258095,
          7.90100705199242,
          9.035986984831405,
          9.20029003612268,
          9.0595174822416,
          8.556413904569519,
          8.630521876723241,
          8.476371196895983,
          8.66561319653451,
          8.242756345714477,
          9.116029692504942,
          9.035986984831405,
          7.549609165154532,
          7.24422751560335,
          8.764053269347762,
          8.824677891164198,
          8.101677747454572,
          7.170119543449628,
          8.794824928014517,
          7.8632667240095735,
          8.294049640102028,
          9.137769679141348,
          8.961879012677683,
          8.85366542803745,
          8.699514748210191,
          9.259130536145614,
          8.948975607841776,
          9.02401079378469,
          7.600902459542082,
          8.556413904569519,
          8.881836305004146,
          7.090076835776092,
          9.126958763037132,
          9.082507000466299,
          8.294049640102028,
          7.313220387090301,
          8.648221453822641,
          9.093806555720231,
          8.699514748210191,
          7.824046010856292,
          9.249561085129464,
          9.20029003612268,
          7.549609165154532,
          9.011889433252344,
          7.170119543449628,
          8.974618038455112,
          7.438383530044307,
          7.090076835776092,
          8.160518247477505,
          9.116029692504942,
          7.24422751560335,
          7.438383530044307,
          8.794824928014517,
          8.131530710604252,
          9.190137664658664,
          9.116029692504942,
          8.630521876723241,
          8.974618038455112,
          8.909235279192261,
          7.003065458786462,
          9.148464968258095,
          9.148464968258095,
          8.318742252692399,
          9.035986984831405,
          8.935903526274423,
          8.881836305004146,
          8.101677747454572,
          7.090076835776092,
          8.433811582477187,
          8.895629627136483,
          8.006367567650246,
          7.824046010856292,
          8.294049640102028,
          9.02401079378469,
          7.313220387090301,
          8.935903526274423,
          8.411832675758411,
          8.948975607841776,
          7.495541943884256,
          8.83927669058535,
          7.313220387090301,
          8.556413904569519,
          8.242756345714477,
          7.783224016336037,
          9.082507000466299,
          9.259130536145614,
          8.895629627136483,
          8.987196820661973,
          7.170119543449628,
          8.895629627136483,
          8.974618038455112,
          7.313220387090301,
          8.948975607841776,
          7.495541943884256,
          8.824677891164198,
          9.011889433252344,
          8.101677747454572
         ]
        }
       ],
       "layout": {
        "height": 500,
        "template": {
         "data": {
          "bar": [
           {
            "error_x": {
             "color": "#2a3f5f"
            },
            "error_y": {
             "color": "#2a3f5f"
            },
            "marker": {
             "line": {
              "color": "#E5ECF6",
              "width": 0.5
             },
             "pattern": {
              "fillmode": "overlay",
              "size": 10,
              "solidity": 0.2
             }
            },
            "type": "bar"
           }
          ],
          "barpolar": [
           {
            "marker": {
             "line": {
              "color": "#E5ECF6",
              "width": 0.5
             },
             "pattern": {
              "fillmode": "overlay",
              "size": 10,
              "solidity": 0.2
             }
            },
            "type": "barpolar"
           }
          ],
          "carpet": [
           {
            "aaxis": {
             "endlinecolor": "#2a3f5f",
             "gridcolor": "white",
             "linecolor": "white",
             "minorgridcolor": "white",
             "startlinecolor": "#2a3f5f"
            },
            "baxis": {
             "endlinecolor": "#2a3f5f",
             "gridcolor": "white",
             "linecolor": "white",
             "minorgridcolor": "white",
             "startlinecolor": "#2a3f5f"
            },
            "type": "carpet"
           }
          ],
          "choropleth": [
           {
            "colorbar": {
             "outlinewidth": 0,
             "ticks": ""
            },
            "type": "choropleth"
           }
          ],
          "contour": [
           {
            "colorbar": {
             "outlinewidth": 0,
             "ticks": ""
            },
            "colorscale": [
             [
              0,
              "#0d0887"
             ],
             [
              0.1111111111111111,
              "#46039f"
             ],
             [
              0.2222222222222222,
              "#7201a8"
             ],
             [
              0.3333333333333333,
              "#9c179e"
             ],
             [
              0.4444444444444444,
              "#bd3786"
             ],
             [
              0.5555555555555556,
              "#d8576b"
             ],
             [
              0.6666666666666666,
              "#ed7953"
             ],
             [
              0.7777777777777778,
              "#fb9f3a"
             ],
             [
              0.8888888888888888,
              "#fdca26"
             ],
             [
              1,
              "#f0f921"
             ]
            ],
            "type": "contour"
           }
          ],
          "contourcarpet": [
           {
            "colorbar": {
             "outlinewidth": 0,
             "ticks": ""
            },
            "type": "contourcarpet"
           }
          ],
          "heatmap": [
           {
            "colorbar": {
             "outlinewidth": 0,
             "ticks": ""
            },
            "colorscale": [
             [
              0,
              "#0d0887"
             ],
             [
              0.1111111111111111,
              "#46039f"
             ],
             [
              0.2222222222222222,
              "#7201a8"
             ],
             [
              0.3333333333333333,
              "#9c179e"
             ],
             [
              0.4444444444444444,
              "#bd3786"
             ],
             [
              0.5555555555555556,
              "#d8576b"
             ],
             [
              0.6666666666666666,
              "#ed7953"
             ],
             [
              0.7777777777777778,
              "#fb9f3a"
             ],
             [
              0.8888888888888888,
              "#fdca26"
             ],
             [
              1,
              "#f0f921"
             ]
            ],
            "type": "heatmap"
           }
          ],
          "heatmapgl": [
           {
            "colorbar": {
             "outlinewidth": 0,
             "ticks": ""
            },
            "colorscale": [
             [
              0,
              "#0d0887"
             ],
             [
              0.1111111111111111,
              "#46039f"
             ],
             [
              0.2222222222222222,
              "#7201a8"
             ],
             [
              0.3333333333333333,
              "#9c179e"
             ],
             [
              0.4444444444444444,
              "#bd3786"
             ],
             [
              0.5555555555555556,
              "#d8576b"
             ],
             [
              0.6666666666666666,
              "#ed7953"
             ],
             [
              0.7777777777777778,
              "#fb9f3a"
             ],
             [
              0.8888888888888888,
              "#fdca26"
             ],
             [
              1,
              "#f0f921"
             ]
            ],
            "type": "heatmapgl"
           }
          ],
          "histogram": [
           {
            "marker": {
             "pattern": {
              "fillmode": "overlay",
              "size": 10,
              "solidity": 0.2
             }
            },
            "type": "histogram"
           }
          ],
          "histogram2d": [
           {
            "colorbar": {
             "outlinewidth": 0,
             "ticks": ""
            },
            "colorscale": [
             [
              0,
              "#0d0887"
             ],
             [
              0.1111111111111111,
              "#46039f"
             ],
             [
              0.2222222222222222,
              "#7201a8"
             ],
             [
              0.3333333333333333,
              "#9c179e"
             ],
             [
              0.4444444444444444,
              "#bd3786"
             ],
             [
              0.5555555555555556,
              "#d8576b"
             ],
             [
              0.6666666666666666,
              "#ed7953"
             ],
             [
              0.7777777777777778,
              "#fb9f3a"
             ],
             [
              0.8888888888888888,
              "#fdca26"
             ],
             [
              1,
              "#f0f921"
             ]
            ],
            "type": "histogram2d"
           }
          ],
          "histogram2dcontour": [
           {
            "colorbar": {
             "outlinewidth": 0,
             "ticks": ""
            },
            "colorscale": [
             [
              0,
              "#0d0887"
             ],
             [
              0.1111111111111111,
              "#46039f"
             ],
             [
              0.2222222222222222,
              "#7201a8"
             ],
             [
              0.3333333333333333,
              "#9c179e"
             ],
             [
              0.4444444444444444,
              "#bd3786"
             ],
             [
              0.5555555555555556,
              "#d8576b"
             ],
             [
              0.6666666666666666,
              "#ed7953"
             ],
             [
              0.7777777777777778,
              "#fb9f3a"
             ],
             [
              0.8888888888888888,
              "#fdca26"
             ],
             [
              1,
              "#f0f921"
             ]
            ],
            "type": "histogram2dcontour"
           }
          ],
          "mesh3d": [
           {
            "colorbar": {
             "outlinewidth": 0,
             "ticks": ""
            },
            "type": "mesh3d"
           }
          ],
          "parcoords": [
           {
            "line": {
             "colorbar": {
              "outlinewidth": 0,
              "ticks": ""
             }
            },
            "type": "parcoords"
           }
          ],
          "pie": [
           {
            "automargin": true,
            "type": "pie"
           }
          ],
          "scatter": [
           {
            "fillpattern": {
             "fillmode": "overlay",
             "size": 10,
             "solidity": 0.2
            },
            "type": "scatter"
           }
          ],
          "scatter3d": [
           {
            "line": {
             "colorbar": {
              "outlinewidth": 0,
              "ticks": ""
             }
            },
            "marker": {
             "colorbar": {
              "outlinewidth": 0,
              "ticks": ""
             }
            },
            "type": "scatter3d"
           }
          ],
          "scattercarpet": [
           {
            "marker": {
             "colorbar": {
              "outlinewidth": 0,
              "ticks": ""
             }
            },
            "type": "scattercarpet"
           }
          ],
          "scattergeo": [
           {
            "marker": {
             "colorbar": {
              "outlinewidth": 0,
              "ticks": ""
             }
            },
            "type": "scattergeo"
           }
          ],
          "scattergl": [
           {
            "marker": {
             "colorbar": {
              "outlinewidth": 0,
              "ticks": ""
             }
            },
            "type": "scattergl"
           }
          ],
          "scattermapbox": [
           {
            "marker": {
             "colorbar": {
              "outlinewidth": 0,
              "ticks": ""
             }
            },
            "type": "scattermapbox"
           }
          ],
          "scatterpolar": [
           {
            "marker": {
             "colorbar": {
              "outlinewidth": 0,
              "ticks": ""
             }
            },
            "type": "scatterpolar"
           }
          ],
          "scatterpolargl": [
           {
            "marker": {
             "colorbar": {
              "outlinewidth": 0,
              "ticks": ""
             }
            },
            "type": "scatterpolargl"
           }
          ],
          "scatterternary": [
           {
            "marker": {
             "colorbar": {
              "outlinewidth": 0,
              "ticks": ""
             }
            },
            "type": "scatterternary"
           }
          ],
          "surface": [
           {
            "colorbar": {
             "outlinewidth": 0,
             "ticks": ""
            },
            "colorscale": [
             [
              0,
              "#0d0887"
             ],
             [
              0.1111111111111111,
              "#46039f"
             ],
             [
              0.2222222222222222,
              "#7201a8"
             ],
             [
              0.3333333333333333,
              "#9c179e"
             ],
             [
              0.4444444444444444,
              "#bd3786"
             ],
             [
              0.5555555555555556,
              "#d8576b"
             ],
             [
              0.6666666666666666,
              "#ed7953"
             ],
             [
              0.7777777777777778,
              "#fb9f3a"
             ],
             [
              0.8888888888888888,
              "#fdca26"
             ],
             [
              1,
              "#f0f921"
             ]
            ],
            "type": "surface"
           }
          ],
          "table": [
           {
            "cells": {
             "fill": {
              "color": "#EBF0F8"
             },
             "line": {
              "color": "white"
             }
            },
            "header": {
             "fill": {
              "color": "#C8D4E3"
             },
             "line": {
              "color": "white"
             }
            },
            "type": "table"
           }
          ]
         },
         "layout": {
          "annotationdefaults": {
           "arrowcolor": "#2a3f5f",
           "arrowhead": 0,
           "arrowwidth": 1
          },
          "autotypenumbers": "strict",
          "coloraxis": {
           "colorbar": {
            "outlinewidth": 0,
            "ticks": ""
           }
          },
          "colorscale": {
           "diverging": [
            [
             0,
             "#8e0152"
            ],
            [
             0.1,
             "#c51b7d"
            ],
            [
             0.2,
             "#de77ae"
            ],
            [
             0.3,
             "#f1b6da"
            ],
            [
             0.4,
             "#fde0ef"
            ],
            [
             0.5,
             "#f7f7f7"
            ],
            [
             0.6,
             "#e6f5d0"
            ],
            [
             0.7,
             "#b8e186"
            ],
            [
             0.8,
             "#7fbc41"
            ],
            [
             0.9,
             "#4d9221"
            ],
            [
             1,
             "#276419"
            ]
           ],
           "sequential": [
            [
             0,
             "#0d0887"
            ],
            [
             0.1111111111111111,
             "#46039f"
            ],
            [
             0.2222222222222222,
             "#7201a8"
            ],
            [
             0.3333333333333333,
             "#9c179e"
            ],
            [
             0.4444444444444444,
             "#bd3786"
            ],
            [
             0.5555555555555556,
             "#d8576b"
            ],
            [
             0.6666666666666666,
             "#ed7953"
            ],
            [
             0.7777777777777778,
             "#fb9f3a"
            ],
            [
             0.8888888888888888,
             "#fdca26"
            ],
            [
             1,
             "#f0f921"
            ]
           ],
           "sequentialminus": [
            [
             0,
             "#0d0887"
            ],
            [
             0.1111111111111111,
             "#46039f"
            ],
            [
             0.2222222222222222,
             "#7201a8"
            ],
            [
             0.3333333333333333,
             "#9c179e"
            ],
            [
             0.4444444444444444,
             "#bd3786"
            ],
            [
             0.5555555555555556,
             "#d8576b"
            ],
            [
             0.6666666666666666,
             "#ed7953"
            ],
            [
             0.7777777777777778,
             "#fb9f3a"
            ],
            [
             0.8888888888888888,
             "#fdca26"
            ],
            [
             1,
             "#f0f921"
            ]
           ]
          },
          "colorway": [
           "#636efa",
           "#EF553B",
           "#00cc96",
           "#ab63fa",
           "#FFA15A",
           "#19d3f3",
           "#FF6692",
           "#B6E880",
           "#FF97FF",
           "#FECB52"
          ],
          "font": {
           "color": "#2a3f5f"
          },
          "geo": {
           "bgcolor": "white",
           "lakecolor": "white",
           "landcolor": "#E5ECF6",
           "showlakes": true,
           "showland": true,
           "subunitcolor": "white"
          },
          "hoverlabel": {
           "align": "left"
          },
          "hovermode": "closest",
          "mapbox": {
           "style": "light"
          },
          "paper_bgcolor": "white",
          "plot_bgcolor": "#E5ECF6",
          "polar": {
           "angularaxis": {
            "gridcolor": "white",
            "linecolor": "white",
            "ticks": ""
           },
           "bgcolor": "#E5ECF6",
           "radialaxis": {
            "gridcolor": "white",
            "linecolor": "white",
            "ticks": ""
           }
          },
          "scene": {
           "xaxis": {
            "backgroundcolor": "#E5ECF6",
            "gridcolor": "white",
            "gridwidth": 2,
            "linecolor": "white",
            "showbackground": true,
            "ticks": "",
            "zerolinecolor": "white"
           },
           "yaxis": {
            "backgroundcolor": "#E5ECF6",
            "gridcolor": "white",
            "gridwidth": 2,
            "linecolor": "white",
            "showbackground": true,
            "ticks": "",
            "zerolinecolor": "white"
           },
           "zaxis": {
            "backgroundcolor": "#E5ECF6",
            "gridcolor": "white",
            "gridwidth": 2,
            "linecolor": "white",
            "showbackground": true,
            "ticks": "",
            "zerolinecolor": "white"
           }
          },
          "shapedefaults": {
           "line": {
            "color": "#2a3f5f"
           }
          },
          "ternary": {
           "aaxis": {
            "gridcolor": "white",
            "linecolor": "white",
            "ticks": ""
           },
           "baxis": {
            "gridcolor": "white",
            "linecolor": "white",
            "ticks": ""
           },
           "bgcolor": "#E5ECF6",
           "caxis": {
            "gridcolor": "white",
            "linecolor": "white",
            "ticks": ""
           }
          },
          "title": {
           "x": 0.05
          },
          "xaxis": {
           "automargin": true,
           "gridcolor": "white",
           "linecolor": "white",
           "ticks": "",
           "title": {
            "standoff": 15
           },
           "zerolinecolor": "white",
           "zerolinewidth": 2
          },
          "yaxis": {
           "automargin": true,
           "gridcolor": "white",
           "linecolor": "white",
           "ticks": "",
           "title": {
            "standoff": 15
           },
           "zerolinecolor": "white",
           "zerolinewidth": 2
          }
         }
        },
        "title": {
         "text": "MLR:Observed target vs Predicted target using train data"
        },
        "width": 800,
        "xaxis": {
         "title": {
          "text": "Observed consult_cost"
         }
        },
        "yaxis": {
         "title": {
          "text": "Predicted consult_cost"
         }
        }
       }
      }
     },
     "metadata": {},
     "output_type": "display_data"
    }
   ],
   "source": [
    "\n",
    "fig = go.Figure()\n",
    "\n",
    "# scatter plot using test data\n",
    "fig.add_trace(go.Scatter(y=y_train, x=linear_regression.predict(x_train), mode='markers', marker=dict(color='blue')))\n",
    "\n",
    "# diagonal line to represent predictions\n",
    "fig.add_trace(go.Scatter(y=y_train, x=y_train, mode='lines', line=dict(color='red')))\n",
    "\n",
    "fig.update_layout(title='MLR:Observed target vs Predicted target using train data', xaxis_title='Observed consult_cost', \n",
    "                  yaxis_title='Predicted consult_cost', width=800, height=500)\n",
    "fig.show()"
   ]
  },
  {
   "cell_type": "code",
   "execution_count": 192,
   "metadata": {},
   "outputs": [
    {
     "data": {
      "application/vnd.plotly.v1+json": {
       "config": {
        "plotlyServerURL": "https://plot.ly"
       },
       "data": [
        {
         "marker": {
          "color": "blue"
         },
         "mode": "markers",
         "type": "scatter",
         "x": [
          8.002005729514947,
          8.832577874792472,
          7.690541175035874,
          8.209648765834327,
          7.7943626931955645,
          7.690541175035874,
          8.936399392952161,
          7.690541175035874,
          8.62493483847309,
          9.351685465590926,
          7.690541175035874,
          8.41729180215371,
          9.144042429271543,
          8.41729180215371,
          7.898184211355256,
          8.41729180215371,
          9.040220911111852,
          8.209648765834327,
          8.313470283994018,
          8.5211133203134,
          8.832577874792472,
          8.5211133203134,
          7.7943626931955645,
          7.7943626931955645,
          8.72875635663278,
          7.898184211355256,
          7.7943626931955645,
          8.313470283994018,
          7.7943626931955645,
          8.002005729514947,
          8.002005729514947,
          8.72875635663278,
          9.144042429271543,
          7.586719656876184,
          7.586719656876184,
          7.7943626931955645,
          9.351685465590926,
          8.936399392952161,
          8.313470283994018,
          9.040220911111852,
          7.7943626931955645,
          8.313470283994018,
          7.690541175035874,
          7.7943626931955645,
          8.313470283994018,
          9.040220911111852,
          9.040220911111852,
          7.586719656876184,
          9.040220911111852,
          7.7943626931955645,
          8.72875635663278,
          8.5211133203134,
          8.002005729514947,
          8.41729180215371,
          8.209648765834327,
          7.690541175035874,
          8.209648765834327,
          8.209648765834327,
          8.936399392952161,
          8.5211133203134,
          7.7943626931955645,
          9.144042429271543,
          9.247863947431235,
          8.62493483847309,
          8.5211133203134,
          8.62493483847309,
          7.898184211355256,
          7.7943626931955645,
          8.72875635663278,
          9.351685465590926,
          9.040220911111852,
          8.209648765834327,
          8.72875635663278,
          8.002005729514947,
          8.936399392952161,
          8.936399392952161,
          8.62493483847309,
          8.105827247674636,
          8.5211133203134,
          8.313470283994018,
          8.41729180215371,
          9.040220911111852,
          9.247863947431235,
          8.936399392952161,
          7.7943626931955645,
          8.209648765834327,
          8.105827247674636,
          7.586719656876184,
          8.002005729514947,
          8.832577874792472,
          8.832577874792472,
          8.105827247674636,
          8.832577874792472,
          7.7943626931955645,
          8.105827247674636,
          7.898184211355256,
          9.040220911111852,
          8.62493483847309,
          8.62493483847309,
          8.41729180215371,
          9.040220911111852,
          9.040220911111852,
          8.209648765834327,
          9.351685465590926,
          8.209648765834327,
          8.5211133203134,
          7.898184211355256,
          7.7943626931955645,
          8.72875635663278,
          7.7943626931955645,
          8.313470283994018,
          8.313470283994018,
          7.690541175035874,
          7.898184211355256,
          7.690541175035874,
          8.936399392952161,
          9.040220911111852,
          7.898184211355256,
          8.936399392952161,
          8.72875635663278,
          7.898184211355256,
          8.313470283994018,
          8.72875635663278,
          8.313470283994018,
          9.040220911111852,
          8.936399392952161,
          8.002005729514947,
          8.313470283994018,
          8.62493483847309,
          8.936399392952161,
          7.690541175035874,
          7.586719656876184,
          8.002005729514947,
          9.040220911111852,
          8.105827247674636,
          8.209648765834327,
          9.040220911111852,
          8.105827247674636,
          7.586719656876184,
          7.898184211355256,
          8.62493483847309,
          8.313470283994018,
          8.72875635663278,
          7.7943626931955645,
          7.898184211355256,
          9.247863947431235,
          8.936399392952161,
          9.144042429271543,
          8.62493483847309,
          7.7943626931955645,
          7.690541175035874,
          8.209648765834327,
          9.247863947431235,
          9.247863947431235,
          7.7943626931955645,
          8.313470283994018,
          8.209648765834327,
          8.72875635663278,
          8.313470283994018,
          8.313470283994018,
          9.144042429271543,
          8.002005729514947,
          7.586719656876184,
          9.144042429271543,
          7.690541175035874,
          9.040220911111852,
          9.144042429271543,
          9.247863947431235,
          8.832577874792472,
          8.832577874792472,
          8.936399392952161,
          8.5211133203134,
          8.105827247674636,
          8.936399392952161,
          8.832577874792472,
          7.898184211355256,
          8.002005729514947,
          7.690541175035874,
          7.7943626931955645,
          9.351685465590926,
          9.351685465590926,
          8.313470283994018,
          8.313470283994018,
          9.247863947431235,
          7.690541175035874,
          8.936399392952161,
          8.62493483847309,
          7.898184211355256,
          8.105827247674636,
          9.144042429271543,
          9.247863947431235,
          8.936399392952161,
          9.144042429271543,
          8.41729180215371,
          9.247863947431235,
          8.209648765834327,
          8.105827247674636,
          8.832577874792472,
          9.144042429271543,
          8.105827247674636,
          8.936399392952161,
          7.7943626931955645,
          9.247863947431235,
          8.313470283994018,
          8.62493483847309,
          7.586719656876184,
          8.41729180215371,
          7.898184211355256,
          8.72875635663278,
          7.690541175035874,
          7.586719656876184,
          9.351685465590926,
          7.586719656876184,
          8.209648765834327,
          7.7943626931955645,
          7.7943626931955645,
          8.209648765834327,
          8.72875635663278,
          8.936399392952161,
          9.040220911111852,
          8.41729180215371,
          8.832577874792472,
          7.690541175035874,
          8.5211133203134,
          8.002005729514947,
          7.7943626931955645,
          8.002005729514947,
          7.7943626931955645,
          7.7943626931955645,
          7.7943626931955645,
          8.002005729514947,
          9.040220911111852,
          7.7943626931955645,
          8.105827247674636,
          8.832577874792472,
          7.898184211355256,
          8.002005729514947,
          8.313470283994018,
          8.002005729514947,
          8.209648765834327,
          7.898184211355256,
          7.7943626931955645,
          8.209648765834327,
          8.936399392952161,
          7.690541175035874,
          7.898184211355256,
          8.5211133203134,
          9.040220911111852,
          8.5211133203134,
          7.7943626931955645,
          8.002005729514947,
          7.690541175035874,
          8.936399392952161,
          8.41729180215371,
          8.62493483847309,
          8.002005729514947,
          7.586719656876184,
          8.209648765834327,
          9.351685465590926,
          8.62493483847309,
          9.351685465590926,
          8.62493483847309,
          8.936399392952161,
          8.832577874792472,
          9.247863947431235,
          7.7943626931955645,
          9.247863947431235,
          9.247863947431235,
          9.040220911111852,
          8.832577874792472,
          8.832577874792472,
          8.41729180215371,
          8.209648765834327,
          7.7943626931955645,
          9.247863947431235,
          7.690541175035874,
          9.247863947431235,
          8.002005729514947,
          8.209648765834327,
          9.247863947431235,
          9.144042429271543,
          8.313470283994018,
          8.313470283994018,
          8.832577874792472,
          8.313470283994018,
          8.105827247674636,
          8.5211133203134,
          8.313470283994018,
          8.002005729514947,
          8.313470283994018,
          7.7943626931955645,
          8.41729180215371,
          8.209648765834327,
          8.002005729514947,
          9.040220911111852,
          7.898184211355256,
          9.247863947431235,
          8.832577874792472,
          9.040220911111852,
          8.002005729514947,
          8.002005729514947,
          8.105827247674636,
          8.5211133203134,
          7.898184211355256,
          8.105827247674636,
          7.690541175035874,
          8.002005729514947,
          8.5211133203134,
          8.936399392952161,
          7.690541175035874,
          8.936399392952161,
          7.586719656876184,
          8.936399392952161,
          9.247863947431235,
          8.105827247674636,
          8.72875635663278,
          8.62493483847309,
          8.313470283994018,
          8.62493483847309,
          9.247863947431235,
          7.898184211355256,
          8.936399392952161,
          9.247863947431235,
          9.144042429271543,
          8.313470283994018,
          8.5211133203134,
          8.209648765834327,
          8.5211133203134,
          8.105827247674636,
          9.144042429271543,
          8.936399392952161,
          7.7943626931955645,
          7.586719656876184,
          8.5211133203134,
          8.62493483847309,
          8.002005729514947,
          7.586719656876184,
          8.5211133203134,
          7.898184211355256,
          8.105827247674636,
          9.144042429271543,
          8.936399392952161,
          8.62493483847309,
          8.41729180215371,
          9.351685465590926,
          8.832577874792472,
          9.040220911111852,
          7.7943626931955645,
          8.313470283994018,
          8.72875635663278,
          7.586719656876184,
          9.144042429271543,
          9.040220911111852,
          8.105827247674636,
          7.586719656876184,
          8.5211133203134,
          9.144042429271543,
          8.41729180215371,
          8.002005729514947,
          9.351685465590926,
          9.351685465590926,
          7.7943626931955645,
          9.040220911111852,
          7.690541175035874,
          8.832577874792472,
          7.7943626931955645,
          7.7943626931955645,
          8.002005729514947,
          9.144042429271543,
          7.586719656876184,
          7.7943626931955645,
          8.62493483847309,
          8.002005729514947,
          9.247863947431235,
          9.247863947431235,
          8.41729180215371,
          8.936399392952161,
          8.72875635663278,
          7.690541175035874,
          9.247863947431235,
          9.247863947431235,
          8.105827247674636,
          9.040220911111852,
          8.936399392952161,
          8.72875635663278,
          8.002005729514947,
          7.586719656876184,
          8.209648765834327,
          8.72875635663278,
          7.898184211355256,
          7.898184211355256,
          8.105827247674636,
          8.936399392952161,
          7.690541175035874,
          8.832577874792472,
          8.209648765834327,
          8.936399392952161,
          7.7943626931955645,
          8.62493483847309,
          7.7943626931955645,
          8.313470283994018,
          8.105827247674636,
          7.898184211355256,
          9.040220911111852,
          9.351685465590926,
          8.72875635663278,
          8.832577874792472,
          7.586719656876184,
          8.832577874792472,
          8.832577874792472,
          7.690541175035874,
          8.936399392952161,
          7.7943626931955645,
          8.62493483847309,
          8.936399392952161,
          8.002005729514947
         ],
         "y": [
          8.160518247477505,
          8.987196820661973,
          7.170119543449628,
          8.476371196895983,
          7.438383530044307,
          7.170119543449628,
          9.011889433252344,
          7.24422751560335,
          8.83927669058535,
          9.20029003612268,
          7.24422751560335,
          8.68270762989381,
          9.126958763037132,
          8.68270762989381,
          7.783224016336037,
          8.575462099540212,
          9.0595174822416,
          8.389359819906353,
          8.594154232552366,
          8.794824928014517,
          8.948975607841776,
          8.732304571033183,
          7.649692623711514,
          7.090076835776092,
          8.895629627136483,
          7.90100705199242,
          7.549609165154532,
          8.594154232552366,
          7.649692623711514,
          8.131530710604252,
          8.006367567650246,
          8.881836305004146,
          9.137769679141348,
          7.170119543449628,
          7.24422751560335,
          7.696212639346407,
          9.259130536145614,
          9.035986984831405,
          8.594154232552366,
          9.035986984831405,
          7.438383530044307,
          8.496990484098719,
          7.170119543449628,
          7.495541943884256,
          8.594154232552366,
          9.02401079378469,
          9.082507000466299,
          7.170119543449628,
          9.071078304642676,
          7.003065458786462,
          8.895629627136483,
          8.732304571033183,
          8.101677747454572,
          8.575462099540212,
          8.517193191416238,
          7.170119543449628,
          8.476371196895983,
          8.517193191416238,
          9.011889433252344,
          8.68270762989381,
          7.313220387090301,
          9.137769679141348,
          9.169518377455928,
          8.824677891164198,
          8.764053269347762,
          8.83927669058535,
          8.006367567650246,
          7.495541943884256,
          8.895629627136483,
          9.230142999272362,
          9.071078304642676,
          8.45531778769815,
          8.895629627136483,
          8.160518247477505,
          9.011889433252344,
          9.02401079378469,
          8.824677891164198,
          8.294049640102028,
          8.764053269347762,
          8.575462099540212,
          8.699514748210191,
          9.02401079378469,
          9.20029003612268,
          9.035986984831405,
          7.649692623711514,
          8.517193191416238,
          8.131530710604252,
          7.003065458786462,
          7.783224016336037,
          8.974618038455112,
          8.935903526274423,
          8.34283980427146,
          8.987196820661973,
          7.313220387090301,
          8.34283980427146,
          7.8632667240095735,
          9.082507000466299,
          8.85366542803745,
          8.83927669058535,
          8.68270762989381,
          9.093806555720231,
          9.011889433252344,
          8.517193191416238,
          9.190137664658664,
          8.45531778769815,
          8.794824928014517,
          7.824046010856292,
          7.696212639346407,
          8.881836305004146,
          7.170119543449628,
          8.556413904569519,
          8.556413904569519,
          7.170119543449628,
          7.937374696163295,
          7.170119543449628,
          9.035986984831405,
          9.093806555720231,
          7.783224016336037,
          9.011889433252344,
          8.881836305004146,
          7.8632667240095735,
          8.556413904569519,
          8.909235279192261,
          8.594154232552366,
          9.093806555720231,
          8.935903526274423,
          8.101677747454572,
          8.496990484098719,
          8.824677891164198,
          9.035986984831405,
          7.090076835776092,
          7.24422751560335,
          8.160518247477505,
          9.093806555720231,
          8.34283980427146,
          8.45531778769815,
          9.0595174822416,
          8.268731832117737,
          7.24422751560335,
          7.824046010856292,
          8.85366542803745,
          8.389359819906353,
          8.881836305004146,
          7.696212639346407,
          7.824046010856292,
          9.116029692504942,
          9.011889433252344,
          9.148464968258095,
          8.85366542803745,
          7.003065458786462,
          7.090076835776092,
          8.496990484098719,
          9.20029003612268,
          9.169518377455928,
          7.495541943884256,
          8.594154232552366,
          8.411832675758411,
          8.909235279192261,
          8.411832675758411,
          8.575462099540212,
          9.126958763037132,
          8.160518247477505,
          7.003065458786462,
          9.148464968258095,
          7.090076835776092,
          9.071078304642676,
          9.137769679141348,
          9.190137664658664,
          8.974618038455112,
          8.961879012677683,
          9.011889433252344,
          8.794824928014517,
          8.294049640102028,
          8.948975607841776,
          8.961879012677683,
          7.696212639346407,
          8.131530710604252,
          7.24422751560335,
          7.24422751560335,
          9.230142999272362,
          9.20029003612268,
          8.556413904569519,
          8.45531778769815,
          9.179881164491475,
          7.313220387090301,
          9.035986984831405,
          8.824677891164198,
          7.696212639346407,
          8.268731832117737,
          9.137769679141348,
          9.169518377455928,
          9.02401079378469,
          9.137769679141348,
          8.630521876723241,
          9.116029692504942,
          8.411832675758411,
          8.34283980427146,
          8.881836305004146,
          9.093806555720231,
          8.294049640102028,
          9.035986984831405,
          7.438383530044307,
          9.169518377455928,
          8.556413904569519,
          8.824677891164198,
          7.003065458786462,
          8.66561319653451,
          7.9724660159745655,
          8.895629627136483,
          7.170119543449628,
          7.24422751560335,
          9.230142999272362,
          7.24422751560335,
          8.318742252692399,
          7.649692623711514,
          7.649692623711514,
          8.476371196895983,
          8.895629627136483,
          9.035986984831405,
          9.035986984831405,
          8.648221453822641,
          8.948975607841776,
          7.313220387090301,
          8.748304912379623,
          8.101677747454572,
          7.600902459542082,
          8.131530710604252,
          7.696212639346407,
          7.438383530044307,
          7.649692623711514,
          8.101677747454572,
          9.035986984831405,
          7.313220387090301,
          8.242756345714477,
          8.895629627136483,
          7.9724660159745655,
          8.131530710604252,
          8.575462099540212,
          8.006367567650246,
          8.45531778769815,
          7.600902459542082,
          7.438383530044307,
          8.389359819906353,
          9.02401079378469,
          7.170119543449628,
          7.824046010856292,
          8.764053269347762,
          9.082507000466299,
          8.748304912379623,
          7.696212639346407,
          8.101677747454572,
          7.24422751560335,
          9.035986984831405,
          8.66561319653451,
          8.85366542803745,
          8.101677747454572,
          7.313220387090301,
          8.34283980427146,
          9.190137664658664,
          8.83927669058535,
          9.230142999272362,
          8.824677891164198,
          8.935903526274423,
          8.948975607841776,
          9.169518377455928,
          7.549609165154532,
          9.179881164491475,
          9.126958763037132,
          9.071078304642676,
          8.974618038455112,
          8.987196820661973,
          8.66561319653451,
          8.496990484098719,
          7.438383530044307,
          9.190137664658664,
          7.170119543449628,
          9.116029692504942,
          8.160518247477505,
          8.496990484098719,
          9.116029692504942,
          9.137769679141348,
          8.556413904569519,
          8.594154232552366,
          8.987196820661973,
          8.575462099540212,
          8.34283980427146,
          8.764053269347762,
          8.575462099540212,
          8.101677747454572,
          8.594154232552366,
          7.438383530044307,
          8.68270762989381,
          8.294049640102028,
          8.160518247477505,
          9.082507000466299,
          7.937374696163295,
          9.148464968258095,
          8.948975607841776,
          9.011889433252344,
          8.101677747454572,
          8.160518247477505,
          8.34283980427146,
          8.748304912379623,
          7.649692623711514,
          8.34283980427146,
          7.003065458786462,
          8.160518247477505,
          8.648221453822641,
          9.02401079378469,
          7.090076835776092,
          8.987196820661973,
          7.090076835776092,
          8.935903526274423,
          9.137769679141348,
          8.101677747454572,
          8.881836305004146,
          8.824677891164198,
          8.411832675758411,
          8.824677891164198,
          9.148464968258095,
          7.90100705199242,
          9.035986984831405,
          9.20029003612268,
          9.0595174822416,
          8.556413904569519,
          8.630521876723241,
          8.476371196895983,
          8.66561319653451,
          8.242756345714477,
          9.116029692504942,
          9.035986984831405,
          7.549609165154532,
          7.24422751560335,
          8.764053269347762,
          8.824677891164198,
          8.101677747454572,
          7.170119543449628,
          8.794824928014517,
          7.8632667240095735,
          8.294049640102028,
          9.137769679141348,
          8.961879012677683,
          8.85366542803745,
          8.699514748210191,
          9.259130536145614,
          8.948975607841776,
          9.02401079378469,
          7.600902459542082,
          8.556413904569519,
          8.881836305004146,
          7.090076835776092,
          9.126958763037132,
          9.082507000466299,
          8.294049640102028,
          7.313220387090301,
          8.648221453822641,
          9.093806555720231,
          8.699514748210191,
          7.824046010856292,
          9.249561085129464,
          9.20029003612268,
          7.549609165154532,
          9.011889433252344,
          7.170119543449628,
          8.974618038455112,
          7.438383530044307,
          7.090076835776092,
          8.160518247477505,
          9.116029692504942,
          7.24422751560335,
          7.438383530044307,
          8.794824928014517,
          8.131530710604252,
          9.190137664658664,
          9.116029692504942,
          8.630521876723241,
          8.974618038455112,
          8.909235279192261,
          7.003065458786462,
          9.148464968258095,
          9.148464968258095,
          8.318742252692399,
          9.035986984831405,
          8.935903526274423,
          8.881836305004146,
          8.101677747454572,
          7.090076835776092,
          8.433811582477187,
          8.895629627136483,
          8.006367567650246,
          7.824046010856292,
          8.294049640102028,
          9.02401079378469,
          7.313220387090301,
          8.935903526274423,
          8.411832675758411,
          8.948975607841776,
          7.495541943884256,
          8.83927669058535,
          7.313220387090301,
          8.556413904569519,
          8.242756345714477,
          7.783224016336037,
          9.082507000466299,
          9.259130536145614,
          8.895629627136483,
          8.987196820661973,
          7.170119543449628,
          8.895629627136483,
          8.974618038455112,
          7.313220387090301,
          8.948975607841776,
          7.495541943884256,
          8.824677891164198,
          9.011889433252344,
          8.101677747454572
         ]
        },
        {
         "line": {
          "color": "red"
         },
         "mode": "lines",
         "type": "scatter",
         "x": [
          8.160518247477505,
          8.987196820661973,
          7.170119543449628,
          8.476371196895983,
          7.438383530044307,
          7.170119543449628,
          9.011889433252344,
          7.24422751560335,
          8.83927669058535,
          9.20029003612268,
          7.24422751560335,
          8.68270762989381,
          9.126958763037132,
          8.68270762989381,
          7.783224016336037,
          8.575462099540212,
          9.0595174822416,
          8.389359819906353,
          8.594154232552366,
          8.794824928014517,
          8.948975607841776,
          8.732304571033183,
          7.649692623711514,
          7.090076835776092,
          8.895629627136483,
          7.90100705199242,
          7.549609165154532,
          8.594154232552366,
          7.649692623711514,
          8.131530710604252,
          8.006367567650246,
          8.881836305004146,
          9.137769679141348,
          7.170119543449628,
          7.24422751560335,
          7.696212639346407,
          9.259130536145614,
          9.035986984831405,
          8.594154232552366,
          9.035986984831405,
          7.438383530044307,
          8.496990484098719,
          7.170119543449628,
          7.495541943884256,
          8.594154232552366,
          9.02401079378469,
          9.082507000466299,
          7.170119543449628,
          9.071078304642676,
          7.003065458786462,
          8.895629627136483,
          8.732304571033183,
          8.101677747454572,
          8.575462099540212,
          8.517193191416238,
          7.170119543449628,
          8.476371196895983,
          8.517193191416238,
          9.011889433252344,
          8.68270762989381,
          7.313220387090301,
          9.137769679141348,
          9.169518377455928,
          8.824677891164198,
          8.764053269347762,
          8.83927669058535,
          8.006367567650246,
          7.495541943884256,
          8.895629627136483,
          9.230142999272362,
          9.071078304642676,
          8.45531778769815,
          8.895629627136483,
          8.160518247477505,
          9.011889433252344,
          9.02401079378469,
          8.824677891164198,
          8.294049640102028,
          8.764053269347762,
          8.575462099540212,
          8.699514748210191,
          9.02401079378469,
          9.20029003612268,
          9.035986984831405,
          7.649692623711514,
          8.517193191416238,
          8.131530710604252,
          7.003065458786462,
          7.783224016336037,
          8.974618038455112,
          8.935903526274423,
          8.34283980427146,
          8.987196820661973,
          7.313220387090301,
          8.34283980427146,
          7.8632667240095735,
          9.082507000466299,
          8.85366542803745,
          8.83927669058535,
          8.68270762989381,
          9.093806555720231,
          9.011889433252344,
          8.517193191416238,
          9.190137664658664,
          8.45531778769815,
          8.794824928014517,
          7.824046010856292,
          7.696212639346407,
          8.881836305004146,
          7.170119543449628,
          8.556413904569519,
          8.556413904569519,
          7.170119543449628,
          7.937374696163295,
          7.170119543449628,
          9.035986984831405,
          9.093806555720231,
          7.783224016336037,
          9.011889433252344,
          8.881836305004146,
          7.8632667240095735,
          8.556413904569519,
          8.909235279192261,
          8.594154232552366,
          9.093806555720231,
          8.935903526274423,
          8.101677747454572,
          8.496990484098719,
          8.824677891164198,
          9.035986984831405,
          7.090076835776092,
          7.24422751560335,
          8.160518247477505,
          9.093806555720231,
          8.34283980427146,
          8.45531778769815,
          9.0595174822416,
          8.268731832117737,
          7.24422751560335,
          7.824046010856292,
          8.85366542803745,
          8.389359819906353,
          8.881836305004146,
          7.696212639346407,
          7.824046010856292,
          9.116029692504942,
          9.011889433252344,
          9.148464968258095,
          8.85366542803745,
          7.003065458786462,
          7.090076835776092,
          8.496990484098719,
          9.20029003612268,
          9.169518377455928,
          7.495541943884256,
          8.594154232552366,
          8.411832675758411,
          8.909235279192261,
          8.411832675758411,
          8.575462099540212,
          9.126958763037132,
          8.160518247477505,
          7.003065458786462,
          9.148464968258095,
          7.090076835776092,
          9.071078304642676,
          9.137769679141348,
          9.190137664658664,
          8.974618038455112,
          8.961879012677683,
          9.011889433252344,
          8.794824928014517,
          8.294049640102028,
          8.948975607841776,
          8.961879012677683,
          7.696212639346407,
          8.131530710604252,
          7.24422751560335,
          7.24422751560335,
          9.230142999272362,
          9.20029003612268,
          8.556413904569519,
          8.45531778769815,
          9.179881164491475,
          7.313220387090301,
          9.035986984831405,
          8.824677891164198,
          7.696212639346407,
          8.268731832117737,
          9.137769679141348,
          9.169518377455928,
          9.02401079378469,
          9.137769679141348,
          8.630521876723241,
          9.116029692504942,
          8.411832675758411,
          8.34283980427146,
          8.881836305004146,
          9.093806555720231,
          8.294049640102028,
          9.035986984831405,
          7.438383530044307,
          9.169518377455928,
          8.556413904569519,
          8.824677891164198,
          7.003065458786462,
          8.66561319653451,
          7.9724660159745655,
          8.895629627136483,
          7.170119543449628,
          7.24422751560335,
          9.230142999272362,
          7.24422751560335,
          8.318742252692399,
          7.649692623711514,
          7.649692623711514,
          8.476371196895983,
          8.895629627136483,
          9.035986984831405,
          9.035986984831405,
          8.648221453822641,
          8.948975607841776,
          7.313220387090301,
          8.748304912379623,
          8.101677747454572,
          7.600902459542082,
          8.131530710604252,
          7.696212639346407,
          7.438383530044307,
          7.649692623711514,
          8.101677747454572,
          9.035986984831405,
          7.313220387090301,
          8.242756345714477,
          8.895629627136483,
          7.9724660159745655,
          8.131530710604252,
          8.575462099540212,
          8.006367567650246,
          8.45531778769815,
          7.600902459542082,
          7.438383530044307,
          8.389359819906353,
          9.02401079378469,
          7.170119543449628,
          7.824046010856292,
          8.764053269347762,
          9.082507000466299,
          8.748304912379623,
          7.696212639346407,
          8.101677747454572,
          7.24422751560335,
          9.035986984831405,
          8.66561319653451,
          8.85366542803745,
          8.101677747454572,
          7.313220387090301,
          8.34283980427146,
          9.190137664658664,
          8.83927669058535,
          9.230142999272362,
          8.824677891164198,
          8.935903526274423,
          8.948975607841776,
          9.169518377455928,
          7.549609165154532,
          9.179881164491475,
          9.126958763037132,
          9.071078304642676,
          8.974618038455112,
          8.987196820661973,
          8.66561319653451,
          8.496990484098719,
          7.438383530044307,
          9.190137664658664,
          7.170119543449628,
          9.116029692504942,
          8.160518247477505,
          8.496990484098719,
          9.116029692504942,
          9.137769679141348,
          8.556413904569519,
          8.594154232552366,
          8.987196820661973,
          8.575462099540212,
          8.34283980427146,
          8.764053269347762,
          8.575462099540212,
          8.101677747454572,
          8.594154232552366,
          7.438383530044307,
          8.68270762989381,
          8.294049640102028,
          8.160518247477505,
          9.082507000466299,
          7.937374696163295,
          9.148464968258095,
          8.948975607841776,
          9.011889433252344,
          8.101677747454572,
          8.160518247477505,
          8.34283980427146,
          8.748304912379623,
          7.649692623711514,
          8.34283980427146,
          7.003065458786462,
          8.160518247477505,
          8.648221453822641,
          9.02401079378469,
          7.090076835776092,
          8.987196820661973,
          7.090076835776092,
          8.935903526274423,
          9.137769679141348,
          8.101677747454572,
          8.881836305004146,
          8.824677891164198,
          8.411832675758411,
          8.824677891164198,
          9.148464968258095,
          7.90100705199242,
          9.035986984831405,
          9.20029003612268,
          9.0595174822416,
          8.556413904569519,
          8.630521876723241,
          8.476371196895983,
          8.66561319653451,
          8.242756345714477,
          9.116029692504942,
          9.035986984831405,
          7.549609165154532,
          7.24422751560335,
          8.764053269347762,
          8.824677891164198,
          8.101677747454572,
          7.170119543449628,
          8.794824928014517,
          7.8632667240095735,
          8.294049640102028,
          9.137769679141348,
          8.961879012677683,
          8.85366542803745,
          8.699514748210191,
          9.259130536145614,
          8.948975607841776,
          9.02401079378469,
          7.600902459542082,
          8.556413904569519,
          8.881836305004146,
          7.090076835776092,
          9.126958763037132,
          9.082507000466299,
          8.294049640102028,
          7.313220387090301,
          8.648221453822641,
          9.093806555720231,
          8.699514748210191,
          7.824046010856292,
          9.249561085129464,
          9.20029003612268,
          7.549609165154532,
          9.011889433252344,
          7.170119543449628,
          8.974618038455112,
          7.438383530044307,
          7.090076835776092,
          8.160518247477505,
          9.116029692504942,
          7.24422751560335,
          7.438383530044307,
          8.794824928014517,
          8.131530710604252,
          9.190137664658664,
          9.116029692504942,
          8.630521876723241,
          8.974618038455112,
          8.909235279192261,
          7.003065458786462,
          9.148464968258095,
          9.148464968258095,
          8.318742252692399,
          9.035986984831405,
          8.935903526274423,
          8.881836305004146,
          8.101677747454572,
          7.090076835776092,
          8.433811582477187,
          8.895629627136483,
          8.006367567650246,
          7.824046010856292,
          8.294049640102028,
          9.02401079378469,
          7.313220387090301,
          8.935903526274423,
          8.411832675758411,
          8.948975607841776,
          7.495541943884256,
          8.83927669058535,
          7.313220387090301,
          8.556413904569519,
          8.242756345714477,
          7.783224016336037,
          9.082507000466299,
          9.259130536145614,
          8.895629627136483,
          8.987196820661973,
          7.170119543449628,
          8.895629627136483,
          8.974618038455112,
          7.313220387090301,
          8.948975607841776,
          7.495541943884256,
          8.824677891164198,
          9.011889433252344,
          8.101677747454572
         ],
         "y": [
          8.160518247477505,
          8.987196820661973,
          7.170119543449628,
          8.476371196895983,
          7.438383530044307,
          7.170119543449628,
          9.011889433252344,
          7.24422751560335,
          8.83927669058535,
          9.20029003612268,
          7.24422751560335,
          8.68270762989381,
          9.126958763037132,
          8.68270762989381,
          7.783224016336037,
          8.575462099540212,
          9.0595174822416,
          8.389359819906353,
          8.594154232552366,
          8.794824928014517,
          8.948975607841776,
          8.732304571033183,
          7.649692623711514,
          7.090076835776092,
          8.895629627136483,
          7.90100705199242,
          7.549609165154532,
          8.594154232552366,
          7.649692623711514,
          8.131530710604252,
          8.006367567650246,
          8.881836305004146,
          9.137769679141348,
          7.170119543449628,
          7.24422751560335,
          7.696212639346407,
          9.259130536145614,
          9.035986984831405,
          8.594154232552366,
          9.035986984831405,
          7.438383530044307,
          8.496990484098719,
          7.170119543449628,
          7.495541943884256,
          8.594154232552366,
          9.02401079378469,
          9.082507000466299,
          7.170119543449628,
          9.071078304642676,
          7.003065458786462,
          8.895629627136483,
          8.732304571033183,
          8.101677747454572,
          8.575462099540212,
          8.517193191416238,
          7.170119543449628,
          8.476371196895983,
          8.517193191416238,
          9.011889433252344,
          8.68270762989381,
          7.313220387090301,
          9.137769679141348,
          9.169518377455928,
          8.824677891164198,
          8.764053269347762,
          8.83927669058535,
          8.006367567650246,
          7.495541943884256,
          8.895629627136483,
          9.230142999272362,
          9.071078304642676,
          8.45531778769815,
          8.895629627136483,
          8.160518247477505,
          9.011889433252344,
          9.02401079378469,
          8.824677891164198,
          8.294049640102028,
          8.764053269347762,
          8.575462099540212,
          8.699514748210191,
          9.02401079378469,
          9.20029003612268,
          9.035986984831405,
          7.649692623711514,
          8.517193191416238,
          8.131530710604252,
          7.003065458786462,
          7.783224016336037,
          8.974618038455112,
          8.935903526274423,
          8.34283980427146,
          8.987196820661973,
          7.313220387090301,
          8.34283980427146,
          7.8632667240095735,
          9.082507000466299,
          8.85366542803745,
          8.83927669058535,
          8.68270762989381,
          9.093806555720231,
          9.011889433252344,
          8.517193191416238,
          9.190137664658664,
          8.45531778769815,
          8.794824928014517,
          7.824046010856292,
          7.696212639346407,
          8.881836305004146,
          7.170119543449628,
          8.556413904569519,
          8.556413904569519,
          7.170119543449628,
          7.937374696163295,
          7.170119543449628,
          9.035986984831405,
          9.093806555720231,
          7.783224016336037,
          9.011889433252344,
          8.881836305004146,
          7.8632667240095735,
          8.556413904569519,
          8.909235279192261,
          8.594154232552366,
          9.093806555720231,
          8.935903526274423,
          8.101677747454572,
          8.496990484098719,
          8.824677891164198,
          9.035986984831405,
          7.090076835776092,
          7.24422751560335,
          8.160518247477505,
          9.093806555720231,
          8.34283980427146,
          8.45531778769815,
          9.0595174822416,
          8.268731832117737,
          7.24422751560335,
          7.824046010856292,
          8.85366542803745,
          8.389359819906353,
          8.881836305004146,
          7.696212639346407,
          7.824046010856292,
          9.116029692504942,
          9.011889433252344,
          9.148464968258095,
          8.85366542803745,
          7.003065458786462,
          7.090076835776092,
          8.496990484098719,
          9.20029003612268,
          9.169518377455928,
          7.495541943884256,
          8.594154232552366,
          8.411832675758411,
          8.909235279192261,
          8.411832675758411,
          8.575462099540212,
          9.126958763037132,
          8.160518247477505,
          7.003065458786462,
          9.148464968258095,
          7.090076835776092,
          9.071078304642676,
          9.137769679141348,
          9.190137664658664,
          8.974618038455112,
          8.961879012677683,
          9.011889433252344,
          8.794824928014517,
          8.294049640102028,
          8.948975607841776,
          8.961879012677683,
          7.696212639346407,
          8.131530710604252,
          7.24422751560335,
          7.24422751560335,
          9.230142999272362,
          9.20029003612268,
          8.556413904569519,
          8.45531778769815,
          9.179881164491475,
          7.313220387090301,
          9.035986984831405,
          8.824677891164198,
          7.696212639346407,
          8.268731832117737,
          9.137769679141348,
          9.169518377455928,
          9.02401079378469,
          9.137769679141348,
          8.630521876723241,
          9.116029692504942,
          8.411832675758411,
          8.34283980427146,
          8.881836305004146,
          9.093806555720231,
          8.294049640102028,
          9.035986984831405,
          7.438383530044307,
          9.169518377455928,
          8.556413904569519,
          8.824677891164198,
          7.003065458786462,
          8.66561319653451,
          7.9724660159745655,
          8.895629627136483,
          7.170119543449628,
          7.24422751560335,
          9.230142999272362,
          7.24422751560335,
          8.318742252692399,
          7.649692623711514,
          7.649692623711514,
          8.476371196895983,
          8.895629627136483,
          9.035986984831405,
          9.035986984831405,
          8.648221453822641,
          8.948975607841776,
          7.313220387090301,
          8.748304912379623,
          8.101677747454572,
          7.600902459542082,
          8.131530710604252,
          7.696212639346407,
          7.438383530044307,
          7.649692623711514,
          8.101677747454572,
          9.035986984831405,
          7.313220387090301,
          8.242756345714477,
          8.895629627136483,
          7.9724660159745655,
          8.131530710604252,
          8.575462099540212,
          8.006367567650246,
          8.45531778769815,
          7.600902459542082,
          7.438383530044307,
          8.389359819906353,
          9.02401079378469,
          7.170119543449628,
          7.824046010856292,
          8.764053269347762,
          9.082507000466299,
          8.748304912379623,
          7.696212639346407,
          8.101677747454572,
          7.24422751560335,
          9.035986984831405,
          8.66561319653451,
          8.85366542803745,
          8.101677747454572,
          7.313220387090301,
          8.34283980427146,
          9.190137664658664,
          8.83927669058535,
          9.230142999272362,
          8.824677891164198,
          8.935903526274423,
          8.948975607841776,
          9.169518377455928,
          7.549609165154532,
          9.179881164491475,
          9.126958763037132,
          9.071078304642676,
          8.974618038455112,
          8.987196820661973,
          8.66561319653451,
          8.496990484098719,
          7.438383530044307,
          9.190137664658664,
          7.170119543449628,
          9.116029692504942,
          8.160518247477505,
          8.496990484098719,
          9.116029692504942,
          9.137769679141348,
          8.556413904569519,
          8.594154232552366,
          8.987196820661973,
          8.575462099540212,
          8.34283980427146,
          8.764053269347762,
          8.575462099540212,
          8.101677747454572,
          8.594154232552366,
          7.438383530044307,
          8.68270762989381,
          8.294049640102028,
          8.160518247477505,
          9.082507000466299,
          7.937374696163295,
          9.148464968258095,
          8.948975607841776,
          9.011889433252344,
          8.101677747454572,
          8.160518247477505,
          8.34283980427146,
          8.748304912379623,
          7.649692623711514,
          8.34283980427146,
          7.003065458786462,
          8.160518247477505,
          8.648221453822641,
          9.02401079378469,
          7.090076835776092,
          8.987196820661973,
          7.090076835776092,
          8.935903526274423,
          9.137769679141348,
          8.101677747454572,
          8.881836305004146,
          8.824677891164198,
          8.411832675758411,
          8.824677891164198,
          9.148464968258095,
          7.90100705199242,
          9.035986984831405,
          9.20029003612268,
          9.0595174822416,
          8.556413904569519,
          8.630521876723241,
          8.476371196895983,
          8.66561319653451,
          8.242756345714477,
          9.116029692504942,
          9.035986984831405,
          7.549609165154532,
          7.24422751560335,
          8.764053269347762,
          8.824677891164198,
          8.101677747454572,
          7.170119543449628,
          8.794824928014517,
          7.8632667240095735,
          8.294049640102028,
          9.137769679141348,
          8.961879012677683,
          8.85366542803745,
          8.699514748210191,
          9.259130536145614,
          8.948975607841776,
          9.02401079378469,
          7.600902459542082,
          8.556413904569519,
          8.881836305004146,
          7.090076835776092,
          9.126958763037132,
          9.082507000466299,
          8.294049640102028,
          7.313220387090301,
          8.648221453822641,
          9.093806555720231,
          8.699514748210191,
          7.824046010856292,
          9.249561085129464,
          9.20029003612268,
          7.549609165154532,
          9.011889433252344,
          7.170119543449628,
          8.974618038455112,
          7.438383530044307,
          7.090076835776092,
          8.160518247477505,
          9.116029692504942,
          7.24422751560335,
          7.438383530044307,
          8.794824928014517,
          8.131530710604252,
          9.190137664658664,
          9.116029692504942,
          8.630521876723241,
          8.974618038455112,
          8.909235279192261,
          7.003065458786462,
          9.148464968258095,
          9.148464968258095,
          8.318742252692399,
          9.035986984831405,
          8.935903526274423,
          8.881836305004146,
          8.101677747454572,
          7.090076835776092,
          8.433811582477187,
          8.895629627136483,
          8.006367567650246,
          7.824046010856292,
          8.294049640102028,
          9.02401079378469,
          7.313220387090301,
          8.935903526274423,
          8.411832675758411,
          8.948975607841776,
          7.495541943884256,
          8.83927669058535,
          7.313220387090301,
          8.556413904569519,
          8.242756345714477,
          7.783224016336037,
          9.082507000466299,
          9.259130536145614,
          8.895629627136483,
          8.987196820661973,
          7.170119543449628,
          8.895629627136483,
          8.974618038455112,
          7.313220387090301,
          8.948975607841776,
          7.495541943884256,
          8.824677891164198,
          9.011889433252344,
          8.101677747454572
         ]
        }
       ],
       "layout": {
        "height": 500,
        "template": {
         "data": {
          "bar": [
           {
            "error_x": {
             "color": "#2a3f5f"
            },
            "error_y": {
             "color": "#2a3f5f"
            },
            "marker": {
             "line": {
              "color": "#E5ECF6",
              "width": 0.5
             },
             "pattern": {
              "fillmode": "overlay",
              "size": 10,
              "solidity": 0.2
             }
            },
            "type": "bar"
           }
          ],
          "barpolar": [
           {
            "marker": {
             "line": {
              "color": "#E5ECF6",
              "width": 0.5
             },
             "pattern": {
              "fillmode": "overlay",
              "size": 10,
              "solidity": 0.2
             }
            },
            "type": "barpolar"
           }
          ],
          "carpet": [
           {
            "aaxis": {
             "endlinecolor": "#2a3f5f",
             "gridcolor": "white",
             "linecolor": "white",
             "minorgridcolor": "white",
             "startlinecolor": "#2a3f5f"
            },
            "baxis": {
             "endlinecolor": "#2a3f5f",
             "gridcolor": "white",
             "linecolor": "white",
             "minorgridcolor": "white",
             "startlinecolor": "#2a3f5f"
            },
            "type": "carpet"
           }
          ],
          "choropleth": [
           {
            "colorbar": {
             "outlinewidth": 0,
             "ticks": ""
            },
            "type": "choropleth"
           }
          ],
          "contour": [
           {
            "colorbar": {
             "outlinewidth": 0,
             "ticks": ""
            },
            "colorscale": [
             [
              0,
              "#0d0887"
             ],
             [
              0.1111111111111111,
              "#46039f"
             ],
             [
              0.2222222222222222,
              "#7201a8"
             ],
             [
              0.3333333333333333,
              "#9c179e"
             ],
             [
              0.4444444444444444,
              "#bd3786"
             ],
             [
              0.5555555555555556,
              "#d8576b"
             ],
             [
              0.6666666666666666,
              "#ed7953"
             ],
             [
              0.7777777777777778,
              "#fb9f3a"
             ],
             [
              0.8888888888888888,
              "#fdca26"
             ],
             [
              1,
              "#f0f921"
             ]
            ],
            "type": "contour"
           }
          ],
          "contourcarpet": [
           {
            "colorbar": {
             "outlinewidth": 0,
             "ticks": ""
            },
            "type": "contourcarpet"
           }
          ],
          "heatmap": [
           {
            "colorbar": {
             "outlinewidth": 0,
             "ticks": ""
            },
            "colorscale": [
             [
              0,
              "#0d0887"
             ],
             [
              0.1111111111111111,
              "#46039f"
             ],
             [
              0.2222222222222222,
              "#7201a8"
             ],
             [
              0.3333333333333333,
              "#9c179e"
             ],
             [
              0.4444444444444444,
              "#bd3786"
             ],
             [
              0.5555555555555556,
              "#d8576b"
             ],
             [
              0.6666666666666666,
              "#ed7953"
             ],
             [
              0.7777777777777778,
              "#fb9f3a"
             ],
             [
              0.8888888888888888,
              "#fdca26"
             ],
             [
              1,
              "#f0f921"
             ]
            ],
            "type": "heatmap"
           }
          ],
          "heatmapgl": [
           {
            "colorbar": {
             "outlinewidth": 0,
             "ticks": ""
            },
            "colorscale": [
             [
              0,
              "#0d0887"
             ],
             [
              0.1111111111111111,
              "#46039f"
             ],
             [
              0.2222222222222222,
              "#7201a8"
             ],
             [
              0.3333333333333333,
              "#9c179e"
             ],
             [
              0.4444444444444444,
              "#bd3786"
             ],
             [
              0.5555555555555556,
              "#d8576b"
             ],
             [
              0.6666666666666666,
              "#ed7953"
             ],
             [
              0.7777777777777778,
              "#fb9f3a"
             ],
             [
              0.8888888888888888,
              "#fdca26"
             ],
             [
              1,
              "#f0f921"
             ]
            ],
            "type": "heatmapgl"
           }
          ],
          "histogram": [
           {
            "marker": {
             "pattern": {
              "fillmode": "overlay",
              "size": 10,
              "solidity": 0.2
             }
            },
            "type": "histogram"
           }
          ],
          "histogram2d": [
           {
            "colorbar": {
             "outlinewidth": 0,
             "ticks": ""
            },
            "colorscale": [
             [
              0,
              "#0d0887"
             ],
             [
              0.1111111111111111,
              "#46039f"
             ],
             [
              0.2222222222222222,
              "#7201a8"
             ],
             [
              0.3333333333333333,
              "#9c179e"
             ],
             [
              0.4444444444444444,
              "#bd3786"
             ],
             [
              0.5555555555555556,
              "#d8576b"
             ],
             [
              0.6666666666666666,
              "#ed7953"
             ],
             [
              0.7777777777777778,
              "#fb9f3a"
             ],
             [
              0.8888888888888888,
              "#fdca26"
             ],
             [
              1,
              "#f0f921"
             ]
            ],
            "type": "histogram2d"
           }
          ],
          "histogram2dcontour": [
           {
            "colorbar": {
             "outlinewidth": 0,
             "ticks": ""
            },
            "colorscale": [
             [
              0,
              "#0d0887"
             ],
             [
              0.1111111111111111,
              "#46039f"
             ],
             [
              0.2222222222222222,
              "#7201a8"
             ],
             [
              0.3333333333333333,
              "#9c179e"
             ],
             [
              0.4444444444444444,
              "#bd3786"
             ],
             [
              0.5555555555555556,
              "#d8576b"
             ],
             [
              0.6666666666666666,
              "#ed7953"
             ],
             [
              0.7777777777777778,
              "#fb9f3a"
             ],
             [
              0.8888888888888888,
              "#fdca26"
             ],
             [
              1,
              "#f0f921"
             ]
            ],
            "type": "histogram2dcontour"
           }
          ],
          "mesh3d": [
           {
            "colorbar": {
             "outlinewidth": 0,
             "ticks": ""
            },
            "type": "mesh3d"
           }
          ],
          "parcoords": [
           {
            "line": {
             "colorbar": {
              "outlinewidth": 0,
              "ticks": ""
             }
            },
            "type": "parcoords"
           }
          ],
          "pie": [
           {
            "automargin": true,
            "type": "pie"
           }
          ],
          "scatter": [
           {
            "fillpattern": {
             "fillmode": "overlay",
             "size": 10,
             "solidity": 0.2
            },
            "type": "scatter"
           }
          ],
          "scatter3d": [
           {
            "line": {
             "colorbar": {
              "outlinewidth": 0,
              "ticks": ""
             }
            },
            "marker": {
             "colorbar": {
              "outlinewidth": 0,
              "ticks": ""
             }
            },
            "type": "scatter3d"
           }
          ],
          "scattercarpet": [
           {
            "marker": {
             "colorbar": {
              "outlinewidth": 0,
              "ticks": ""
             }
            },
            "type": "scattercarpet"
           }
          ],
          "scattergeo": [
           {
            "marker": {
             "colorbar": {
              "outlinewidth": 0,
              "ticks": ""
             }
            },
            "type": "scattergeo"
           }
          ],
          "scattergl": [
           {
            "marker": {
             "colorbar": {
              "outlinewidth": 0,
              "ticks": ""
             }
            },
            "type": "scattergl"
           }
          ],
          "scattermapbox": [
           {
            "marker": {
             "colorbar": {
              "outlinewidth": 0,
              "ticks": ""
             }
            },
            "type": "scattermapbox"
           }
          ],
          "scatterpolar": [
           {
            "marker": {
             "colorbar": {
              "outlinewidth": 0,
              "ticks": ""
             }
            },
            "type": "scatterpolar"
           }
          ],
          "scatterpolargl": [
           {
            "marker": {
             "colorbar": {
              "outlinewidth": 0,
              "ticks": ""
             }
            },
            "type": "scatterpolargl"
           }
          ],
          "scatterternary": [
           {
            "marker": {
             "colorbar": {
              "outlinewidth": 0,
              "ticks": ""
             }
            },
            "type": "scatterternary"
           }
          ],
          "surface": [
           {
            "colorbar": {
             "outlinewidth": 0,
             "ticks": ""
            },
            "colorscale": [
             [
              0,
              "#0d0887"
             ],
             [
              0.1111111111111111,
              "#46039f"
             ],
             [
              0.2222222222222222,
              "#7201a8"
             ],
             [
              0.3333333333333333,
              "#9c179e"
             ],
             [
              0.4444444444444444,
              "#bd3786"
             ],
             [
              0.5555555555555556,
              "#d8576b"
             ],
             [
              0.6666666666666666,
              "#ed7953"
             ],
             [
              0.7777777777777778,
              "#fb9f3a"
             ],
             [
              0.8888888888888888,
              "#fdca26"
             ],
             [
              1,
              "#f0f921"
             ]
            ],
            "type": "surface"
           }
          ],
          "table": [
           {
            "cells": {
             "fill": {
              "color": "#EBF0F8"
             },
             "line": {
              "color": "white"
             }
            },
            "header": {
             "fill": {
              "color": "#C8D4E3"
             },
             "line": {
              "color": "white"
             }
            },
            "type": "table"
           }
          ]
         },
         "layout": {
          "annotationdefaults": {
           "arrowcolor": "#2a3f5f",
           "arrowhead": 0,
           "arrowwidth": 1
          },
          "autotypenumbers": "strict",
          "coloraxis": {
           "colorbar": {
            "outlinewidth": 0,
            "ticks": ""
           }
          },
          "colorscale": {
           "diverging": [
            [
             0,
             "#8e0152"
            ],
            [
             0.1,
             "#c51b7d"
            ],
            [
             0.2,
             "#de77ae"
            ],
            [
             0.3,
             "#f1b6da"
            ],
            [
             0.4,
             "#fde0ef"
            ],
            [
             0.5,
             "#f7f7f7"
            ],
            [
             0.6,
             "#e6f5d0"
            ],
            [
             0.7,
             "#b8e186"
            ],
            [
             0.8,
             "#7fbc41"
            ],
            [
             0.9,
             "#4d9221"
            ],
            [
             1,
             "#276419"
            ]
           ],
           "sequential": [
            [
             0,
             "#0d0887"
            ],
            [
             0.1111111111111111,
             "#46039f"
            ],
            [
             0.2222222222222222,
             "#7201a8"
            ],
            [
             0.3333333333333333,
             "#9c179e"
            ],
            [
             0.4444444444444444,
             "#bd3786"
            ],
            [
             0.5555555555555556,
             "#d8576b"
            ],
            [
             0.6666666666666666,
             "#ed7953"
            ],
            [
             0.7777777777777778,
             "#fb9f3a"
            ],
            [
             0.8888888888888888,
             "#fdca26"
            ],
            [
             1,
             "#f0f921"
            ]
           ],
           "sequentialminus": [
            [
             0,
             "#0d0887"
            ],
            [
             0.1111111111111111,
             "#46039f"
            ],
            [
             0.2222222222222222,
             "#7201a8"
            ],
            [
             0.3333333333333333,
             "#9c179e"
            ],
            [
             0.4444444444444444,
             "#bd3786"
            ],
            [
             0.5555555555555556,
             "#d8576b"
            ],
            [
             0.6666666666666666,
             "#ed7953"
            ],
            [
             0.7777777777777778,
             "#fb9f3a"
            ],
            [
             0.8888888888888888,
             "#fdca26"
            ],
            [
             1,
             "#f0f921"
            ]
           ]
          },
          "colorway": [
           "#636efa",
           "#EF553B",
           "#00cc96",
           "#ab63fa",
           "#FFA15A",
           "#19d3f3",
           "#FF6692",
           "#B6E880",
           "#FF97FF",
           "#FECB52"
          ],
          "font": {
           "color": "#2a3f5f"
          },
          "geo": {
           "bgcolor": "white",
           "lakecolor": "white",
           "landcolor": "#E5ECF6",
           "showlakes": true,
           "showland": true,
           "subunitcolor": "white"
          },
          "hoverlabel": {
           "align": "left"
          },
          "hovermode": "closest",
          "mapbox": {
           "style": "light"
          },
          "paper_bgcolor": "white",
          "plot_bgcolor": "#E5ECF6",
          "polar": {
           "angularaxis": {
            "gridcolor": "white",
            "linecolor": "white",
            "ticks": ""
           },
           "bgcolor": "#E5ECF6",
           "radialaxis": {
            "gridcolor": "white",
            "linecolor": "white",
            "ticks": ""
           }
          },
          "scene": {
           "xaxis": {
            "backgroundcolor": "#E5ECF6",
            "gridcolor": "white",
            "gridwidth": 2,
            "linecolor": "white",
            "showbackground": true,
            "ticks": "",
            "zerolinecolor": "white"
           },
           "yaxis": {
            "backgroundcolor": "#E5ECF6",
            "gridcolor": "white",
            "gridwidth": 2,
            "linecolor": "white",
            "showbackground": true,
            "ticks": "",
            "zerolinecolor": "white"
           },
           "zaxis": {
            "backgroundcolor": "#E5ECF6",
            "gridcolor": "white",
            "gridwidth": 2,
            "linecolor": "white",
            "showbackground": true,
            "ticks": "",
            "zerolinecolor": "white"
           }
          },
          "shapedefaults": {
           "line": {
            "color": "#2a3f5f"
           }
          },
          "ternary": {
           "aaxis": {
            "gridcolor": "white",
            "linecolor": "white",
            "ticks": ""
           },
           "baxis": {
            "gridcolor": "white",
            "linecolor": "white",
            "ticks": ""
           },
           "bgcolor": "#E5ECF6",
           "caxis": {
            "gridcolor": "white",
            "linecolor": "white",
            "ticks": ""
           }
          },
          "title": {
           "x": 0.05
          },
          "xaxis": {
           "automargin": true,
           "gridcolor": "white",
           "linecolor": "white",
           "ticks": "",
           "title": {
            "standoff": 15
           },
           "zerolinecolor": "white",
           "zerolinewidth": 2
          },
          "yaxis": {
           "automargin": true,
           "gridcolor": "white",
           "linecolor": "white",
           "ticks": "",
           "title": {
            "standoff": 15
           },
           "zerolinecolor": "white",
           "zerolinewidth": 2
          }
         }
        },
        "title": {
         "text": "LASSO:Observed target vs Predicted target using train data"
        },
        "width": 800,
        "xaxis": {
         "title": {
          "text": "Observed consult_cost"
         }
        },
        "yaxis": {
         "title": {
          "text": "Predicted consult_cost"
         }
        }
       }
      }
     },
     "metadata": {},
     "output_type": "display_data"
    }
   ],
   "source": [
    "\n",
    "fig = go.Figure()\n",
    "\n",
    "# scatter plot using test data\n",
    "fig.add_trace(go.Scatter(y=y_train, x=lasso.predict(x_train), mode='markers', marker=dict(color='blue')))\n",
    "\n",
    "# diagonal line to represent predictions\n",
    "fig.add_trace(go.Scatter(y=y_train, x=y_train, mode='lines', line=dict(color='red')))\n",
    "\n",
    "fig.update_layout(title='LASSO:Observed target vs Predicted target using train data', xaxis_title='Observed consult_cost', \n",
    "                  yaxis_title='Predicted consult_cost', width=800, height=500)\n",
    "fig.show()"
   ]
  }
 ],
 "metadata": {
  "kernelspec": {
   "display_name": "base",
   "language": "python",
   "name": "python3"
  },
  "language_info": {
   "codemirror_mode": {
    "name": "ipython",
    "version": 3
   },
   "file_extension": ".py",
   "mimetype": "text/x-python",
   "name": "python",
   "nbconvert_exporter": "python",
   "pygments_lexer": "ipython3",
   "version": "3.9.12"
  },
  "orig_nbformat": 4
 },
 "nbformat": 4,
 "nbformat_minor": 2
}
