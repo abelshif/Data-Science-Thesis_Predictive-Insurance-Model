{
 "cells": [
  {
   "attachments": {},
   "cell_type": "markdown",
   "metadata": {},
   "source": [
    "# A Simulation Study for Choosing Predictive Insurance Model"
   ]
  },
  {
   "cell_type": "code",
   "execution_count": 65,
   "metadata": {},
   "outputs": [],
   "source": [
    "# Import useful libraries\n",
    "import numpy as np\n",
    "import pandas as pd\n",
    "from sklearn.preprocessing import RobustScaler\n",
    "from sklearn.model_selection import train_test_split\n",
    "from sklearn.metrics import mean_squared_error, r2_score\n",
    "import plotly.express as px\n",
    "import plotly.graph_objs as go\n",
    "import warnings"
   ]
  },
  {
   "cell_type": "code",
   "execution_count": 66,
   "metadata": {},
   "outputs": [],
   "source": [
    "warnings.filterwarnings(\"ignore\")"
   ]
  },
  {
   "attachments": {},
   "cell_type": "markdown",
   "metadata": {},
   "source": [
    "## Pre-processing"
   ]
  },
  {
   "attachments": {},
   "cell_type": "markdown",
   "metadata": {},
   "source": [
    "### Create dataframe"
   ]
  },
  {
   "cell_type": "code",
   "execution_count": 67,
   "metadata": {},
   "outputs": [
    {
     "data": {
      "text/plain": [
       "(250, 29)"
      ]
     },
     "execution_count": 67,
     "metadata": {},
     "output_type": "execute_result"
    }
   ],
   "source": [
    "# patient dataframe\n",
    "patient_dataframe = pd.read_csv('./Populated_data/patient.csv')\n",
    "patient_dataframe.shape"
   ]
  },
  {
   "cell_type": "code",
   "execution_count": 68,
   "metadata": {},
   "outputs": [
    {
     "data": {
      "text/html": [
       "<div>\n",
       "<style scoped>\n",
       "    .dataframe tbody tr th:only-of-type {\n",
       "        vertical-align: middle;\n",
       "    }\n",
       "\n",
       "    .dataframe tbody tr th {\n",
       "        vertical-align: top;\n",
       "    }\n",
       "\n",
       "    .dataframe thead th {\n",
       "        text-align: right;\n",
       "    }\n",
       "</style>\n",
       "<table border=\"1\" class=\"dataframe\">\n",
       "  <thead>\n",
       "    <tr style=\"text-align: right;\">\n",
       "      <th></th>\n",
       "      <th>patient_id</th>\n",
       "      <th>address</th>\n",
       "      <th>allergies</th>\n",
       "      <th>blood_type</th>\n",
       "      <th>closest_hospital</th>\n",
       "      <th>community</th>\n",
       "      <th>country</th>\n",
       "      <th>date_of_birth</th>\n",
       "      <th>disabilities</th>\n",
       "      <th>first_name</th>\n",
       "      <th>...</th>\n",
       "      <th>num_of_dependents</th>\n",
       "      <th>post_code</th>\n",
       "      <th>preferred_language</th>\n",
       "      <th>purpose_of_visit</th>\n",
       "      <th>state</th>\n",
       "      <th>sur_name</th>\n",
       "      <th>title</th>\n",
       "      <th>user_id</th>\n",
       "      <th>weight</th>\n",
       "      <th>hospital_id</th>\n",
       "    </tr>\n",
       "  </thead>\n",
       "  <tbody>\n",
       "    <tr>\n",
       "      <th>0</th>\n",
       "      <td>1</td>\n",
       "      <td>Ap #266-429 Velit St.</td>\n",
       "      <td>NaN</td>\n",
       "      <td>AB+</td>\n",
       "      <td>Blue Cross Hospital</td>\n",
       "      <td>suburban</td>\n",
       "      <td>nigeria</td>\n",
       "      <td>4/13/2009</td>\n",
       "      <td>none</td>\n",
       "      <td>ACRA</td>\n",
       "      <td>...</td>\n",
       "      <td>2</td>\n",
       "      <td>10201</td>\n",
       "      <td>english</td>\n",
       "      <td>medical examination</td>\n",
       "      <td>Lagos</td>\n",
       "      <td>SMITH</td>\n",
       "      <td>Mrs.</td>\n",
       "      <td>1</td>\n",
       "      <td>69</td>\n",
       "      <td>1</td>\n",
       "    </tr>\n",
       "    <tr>\n",
       "      <th>1</th>\n",
       "      <td>2</td>\n",
       "      <td>315-4283 Nam Street</td>\n",
       "      <td>pollen</td>\n",
       "      <td>O-</td>\n",
       "      <td>Krown Hospital</td>\n",
       "      <td>suburban</td>\n",
       "      <td>nigeria</td>\n",
       "      <td>7/8/2011</td>\n",
       "      <td>atherosclerosis</td>\n",
       "      <td>ADOLPH</td>\n",
       "      <td>...</td>\n",
       "      <td>2</td>\n",
       "      <td>12224</td>\n",
       "      <td>english</td>\n",
       "      <td>medical examination</td>\n",
       "      <td>Lagos</td>\n",
       "      <td>NEILON</td>\n",
       "      <td>Mr.</td>\n",
       "      <td>2</td>\n",
       "      <td>80</td>\n",
       "      <td>1</td>\n",
       "    </tr>\n",
       "    <tr>\n",
       "      <th>2</th>\n",
       "      <td>3</td>\n",
       "      <td>921-1491 Nonummy Ave</td>\n",
       "      <td>nuts</td>\n",
       "      <td>A-</td>\n",
       "      <td>Ave Maria Hospital</td>\n",
       "      <td>suburban</td>\n",
       "      <td>nigeria</td>\n",
       "      <td>12/30/2000</td>\n",
       "      <td>fibromas</td>\n",
       "      <td>ANKI</td>\n",
       "      <td>...</td>\n",
       "      <td>3</td>\n",
       "      <td>53510</td>\n",
       "      <td>english</td>\n",
       "      <td>medical examination</td>\n",
       "      <td>Lagos</td>\n",
       "      <td>HENDRI</td>\n",
       "      <td>Mr.</td>\n",
       "      <td>3</td>\n",
       "      <td>67</td>\n",
       "      <td>1</td>\n",
       "    </tr>\n",
       "    <tr>\n",
       "      <th>3</th>\n",
       "      <td>4</td>\n",
       "      <td>Ap #299-4324 Mauris Avenue</td>\n",
       "      <td>dust</td>\n",
       "      <td>O-</td>\n",
       "      <td>Isolo General Hospital</td>\n",
       "      <td>urban</td>\n",
       "      <td>nigeria</td>\n",
       "      <td>9/15/1987</td>\n",
       "      <td>ruptured discs</td>\n",
       "      <td>GARBO</td>\n",
       "      <td>...</td>\n",
       "      <td>3</td>\n",
       "      <td>25193</td>\n",
       "      <td>english</td>\n",
       "      <td>medical examination</td>\n",
       "      <td>Lagos</td>\n",
       "      <td>SHARRON</td>\n",
       "      <td>Mr.</td>\n",
       "      <td>4</td>\n",
       "      <td>74</td>\n",
       "      <td>1</td>\n",
       "    </tr>\n",
       "    <tr>\n",
       "      <th>4</th>\n",
       "      <td>5</td>\n",
       "      <td>P.O. Box 913, 6976 Magnis Rd.</td>\n",
       "      <td>flowers</td>\n",
       "      <td>O-</td>\n",
       "      <td>Lagoon Hospitals</td>\n",
       "      <td>rural</td>\n",
       "      <td>nigeria</td>\n",
       "      <td>10/10/2002</td>\n",
       "      <td>arthritis</td>\n",
       "      <td>ADONAI</td>\n",
       "      <td>...</td>\n",
       "      <td>1</td>\n",
       "      <td>37171</td>\n",
       "      <td>english</td>\n",
       "      <td>medical examination</td>\n",
       "      <td>Lagos</td>\n",
       "      <td>NEIVA</td>\n",
       "      <td>Ms.</td>\n",
       "      <td>5</td>\n",
       "      <td>62</td>\n",
       "      <td>1</td>\n",
       "    </tr>\n",
       "  </tbody>\n",
       "</table>\n",
       "<p>5 rows × 29 columns</p>\n",
       "</div>"
      ],
      "text/plain": [
       "   patient_id                        address allergies blood_type   \n",
       "0           1          Ap #266-429 Velit St.       NaN        AB+  \\\n",
       "1           2            315-4283 Nam Street    pollen         O-   \n",
       "2           3           921-1491 Nonummy Ave      nuts         A-   \n",
       "3           4     Ap #299-4324 Mauris Avenue      dust         O-   \n",
       "4           5  P.O. Box 913, 6976 Magnis Rd.   flowers         O-   \n",
       "\n",
       "         closest_hospital community  country date_of_birth     disabilities   \n",
       "0     Blue Cross Hospital  suburban  nigeria     4/13/2009             none  \\\n",
       "1          Krown Hospital  suburban  nigeria      7/8/2011  atherosclerosis   \n",
       "2      Ave Maria Hospital  suburban  nigeria    12/30/2000         fibromas   \n",
       "3  Isolo General Hospital     urban  nigeria     9/15/1987   ruptured discs   \n",
       "4        Lagoon Hospitals     rural  nigeria    10/10/2002        arthritis   \n",
       "\n",
       "  first_name  ... num_of_dependents post_code preferred_language   \n",
       "0       ACRA  ...                 2     10201            english  \\\n",
       "1     ADOLPH  ...                 2     12224            english   \n",
       "2       ANKI  ...                 3     53510            english   \n",
       "3      GARBO  ...                 3     25193            english   \n",
       "4     ADONAI  ...                 1     37171            english   \n",
       "\n",
       "      purpose_of_visit  state sur_name title  user_id  weight  hospital_id  \n",
       "0  medical examination  Lagos    SMITH  Mrs.        1      69            1  \n",
       "1  medical examination  Lagos   NEILON   Mr.        2      80            1  \n",
       "2  medical examination  Lagos   HENDRI   Mr.        3      67            1  \n",
       "3  medical examination  Lagos  SHARRON   Mr.        4      74            1  \n",
       "4  medical examination  Lagos    NEIVA   Ms.        5      62            1  \n",
       "\n",
       "[5 rows x 29 columns]"
      ]
     },
     "execution_count": 68,
     "metadata": {},
     "output_type": "execute_result"
    }
   ],
   "source": [
    "patient_dataframe.head()"
   ]
  },
  {
   "cell_type": "code",
   "execution_count": 69,
   "metadata": {},
   "outputs": [
    {
     "data": {
      "text/plain": [
       "(214, 22)"
      ]
     },
     "execution_count": 69,
     "metadata": {},
     "output_type": "execute_result"
    }
   ],
   "source": [
    "# doctor dataframe\n",
    "doctor_dataframe = pd.read_csv('./Populated_data/doctor.csv')\n",
    "doctor_dataframe.shape"
   ]
  },
  {
   "cell_type": "code",
   "execution_count": 70,
   "metadata": {},
   "outputs": [
    {
     "data": {
      "text/html": [
       "<div>\n",
       "<style scoped>\n",
       "    .dataframe tbody tr th:only-of-type {\n",
       "        vertical-align: middle;\n",
       "    }\n",
       "\n",
       "    .dataframe tbody tr th {\n",
       "        vertical-align: top;\n",
       "    }\n",
       "\n",
       "    .dataframe thead th {\n",
       "        text-align: right;\n",
       "    }\n",
       "</style>\n",
       "<table border=\"1\" class=\"dataframe\">\n",
       "  <thead>\n",
       "    <tr style=\"text-align: right;\">\n",
       "      <th></th>\n",
       "      <th>doctor_id</th>\n",
       "      <th>approved</th>\n",
       "      <th>city</th>\n",
       "      <th>cv</th>\n",
       "      <th>date_of_birth</th>\n",
       "      <th>dependant_stand_by</th>\n",
       "      <th>full_name</th>\n",
       "      <th>doctor_gender</th>\n",
       "      <th>graduation_date</th>\n",
       "      <th>is_student</th>\n",
       "      <th>...</th>\n",
       "      <th>name_of_university</th>\n",
       "      <th>national_identification_number</th>\n",
       "      <th>office_address</th>\n",
       "      <th>reference_doctor_email</th>\n",
       "      <th>reference_doctor_full_name</th>\n",
       "      <th>reference_doctor_phone_number</th>\n",
       "      <th>state</th>\n",
       "      <th>student_number</th>\n",
       "      <th>system_status</th>\n",
       "      <th>title</th>\n",
       "    </tr>\n",
       "  </thead>\n",
       "  <tbody>\n",
       "    <tr>\n",
       "      <th>0</th>\n",
       "      <td>1</td>\n",
       "      <td>Yes</td>\n",
       "      <td>Lagos</td>\n",
       "      <td>NaN</td>\n",
       "      <td>8/5/1972</td>\n",
       "      <td>1</td>\n",
       "      <td>ACRA SMITH</td>\n",
       "      <td>Male</td>\n",
       "      <td>9/6/2019</td>\n",
       "      <td>No</td>\n",
       "      <td>...</td>\n",
       "      <td>Caleb University- Lagos</td>\n",
       "      <td>1122458</td>\n",
       "      <td>618-3434 Sagittis Av.</td>\n",
       "      <td>acrasmith@gmail.com</td>\n",
       "      <td>ACRA SMITH</td>\n",
       "      <td>53488888</td>\n",
       "      <td>Lagos</td>\n",
       "      <td>2710</td>\n",
       "      <td>very good</td>\n",
       "      <td>Mr.</td>\n",
       "    </tr>\n",
       "    <tr>\n",
       "      <th>1</th>\n",
       "      <td>2</td>\n",
       "      <td>Yes</td>\n",
       "      <td>Lagos</td>\n",
       "      <td>NaN</td>\n",
       "      <td>7/12/1989</td>\n",
       "      <td>2</td>\n",
       "      <td>ADOLPH NEILON</td>\n",
       "      <td>Female</td>\n",
       "      <td>6/25/2006</td>\n",
       "      <td>Yes</td>\n",
       "      <td>...</td>\n",
       "      <td>National Open University of Nigeria- Lagos</td>\n",
       "      <td>4563751</td>\n",
       "      <td>405-9892 Ultrices Rd.</td>\n",
       "      <td>adolphneilon@gmail.com</td>\n",
       "      <td>ADOLPH NEILON</td>\n",
       "      <td>50989139</td>\n",
       "      <td>Lagos</td>\n",
       "      <td>5370</td>\n",
       "      <td>good</td>\n",
       "      <td>Ms.</td>\n",
       "    </tr>\n",
       "    <tr>\n",
       "      <th>2</th>\n",
       "      <td>3</td>\n",
       "      <td>Yes</td>\n",
       "      <td>Lagos</td>\n",
       "      <td>NaN</td>\n",
       "      <td>9/30/1965</td>\n",
       "      <td>1</td>\n",
       "      <td>ANKI HENDRI</td>\n",
       "      <td>Male</td>\n",
       "      <td>12/20/2008</td>\n",
       "      <td>Yes</td>\n",
       "      <td>...</td>\n",
       "      <td>James Hope University- Lagos</td>\n",
       "      <td>1877514</td>\n",
       "      <td>Ap #561-9293 Sociis St.</td>\n",
       "      <td>ankihendri@gmail.com</td>\n",
       "      <td>ANKI HENDRI</td>\n",
       "      <td>42144921</td>\n",
       "      <td>Lagos</td>\n",
       "      <td>6696</td>\n",
       "      <td>excellent</td>\n",
       "      <td>Mr.</td>\n",
       "    </tr>\n",
       "    <tr>\n",
       "      <th>3</th>\n",
       "      <td>4</td>\n",
       "      <td>Yes</td>\n",
       "      <td>Lagos</td>\n",
       "      <td>NaN</td>\n",
       "      <td>8/12/1964</td>\n",
       "      <td>1</td>\n",
       "      <td>GARBO SHARRON</td>\n",
       "      <td>Male</td>\n",
       "      <td>8/22/2013</td>\n",
       "      <td>No</td>\n",
       "      <td>...</td>\n",
       "      <td>Lagos State University of Science and Technolo...</td>\n",
       "      <td>2513477</td>\n",
       "      <td>Ap #381-3175 Sed, Street</td>\n",
       "      <td>garbosharron@gmail.com</td>\n",
       "      <td>GARBO SHARRON</td>\n",
       "      <td>52477143</td>\n",
       "      <td>Lagos</td>\n",
       "      <td>4343</td>\n",
       "      <td>fair</td>\n",
       "      <td>Mr.</td>\n",
       "    </tr>\n",
       "    <tr>\n",
       "      <th>4</th>\n",
       "      <td>5</td>\n",
       "      <td>Yes</td>\n",
       "      <td>Lagos</td>\n",
       "      <td>NaN</td>\n",
       "      <td>12/5/1963</td>\n",
       "      <td>0</td>\n",
       "      <td>ADONAI NEIVA</td>\n",
       "      <td>Female</td>\n",
       "      <td>12/28/2021</td>\n",
       "      <td>No</td>\n",
       "      <td>...</td>\n",
       "      <td>Lagos State University of Science and Technolo...</td>\n",
       "      <td>3463224</td>\n",
       "      <td>Ap #230-5566 Amet, St.</td>\n",
       "      <td>adonaineiva@gmail.com</td>\n",
       "      <td>ADONAI NEIVA</td>\n",
       "      <td>29517478</td>\n",
       "      <td>Lagos</td>\n",
       "      <td>4300</td>\n",
       "      <td>very good</td>\n",
       "      <td>Ms.</td>\n",
       "    </tr>\n",
       "  </tbody>\n",
       "</table>\n",
       "<p>5 rows × 22 columns</p>\n",
       "</div>"
      ],
      "text/plain": [
       "   doctor_id approved   city  cv date_of_birth  dependant_stand_by   \n",
       "0          1      Yes  Lagos NaN      8/5/1972                   1  \\\n",
       "1          2      Yes  Lagos NaN     7/12/1989                   2   \n",
       "2          3      Yes  Lagos NaN     9/30/1965                   1   \n",
       "3          4      Yes  Lagos NaN     8/12/1964                   1   \n",
       "4          5      Yes  Lagos NaN     12/5/1963                   0   \n",
       "\n",
       "       full_name doctor_gender graduation_date is_student  ...   \n",
       "0     ACRA SMITH          Male        9/6/2019         No  ...  \\\n",
       "1  ADOLPH NEILON        Female       6/25/2006        Yes  ...   \n",
       "2    ANKI HENDRI          Male      12/20/2008        Yes  ...   \n",
       "3  GARBO SHARRON          Male       8/22/2013         No  ...   \n",
       "4   ADONAI NEIVA        Female      12/28/2021         No  ...   \n",
       "\n",
       "                                  name_of_university   \n",
       "0                            Caleb University- Lagos  \\\n",
       "1         National Open University of Nigeria- Lagos   \n",
       "2                       James Hope University- Lagos   \n",
       "3  Lagos State University of Science and Technolo...   \n",
       "4  Lagos State University of Science and Technolo...   \n",
       "\n",
       "   national_identification_number            office_address   \n",
       "0                         1122458     618-3434 Sagittis Av.  \\\n",
       "1                         4563751     405-9892 Ultrices Rd.   \n",
       "2                         1877514   Ap #561-9293 Sociis St.   \n",
       "3                         2513477  Ap #381-3175 Sed, Street   \n",
       "4                         3463224    Ap #230-5566 Amet, St.   \n",
       "\n",
       "   reference_doctor_email reference_doctor_full_name   \n",
       "0     acrasmith@gmail.com                 ACRA SMITH  \\\n",
       "1  adolphneilon@gmail.com              ADOLPH NEILON   \n",
       "2    ankihendri@gmail.com                ANKI HENDRI   \n",
       "3  garbosharron@gmail.com              GARBO SHARRON   \n",
       "4   adonaineiva@gmail.com               ADONAI NEIVA   \n",
       "\n",
       "  reference_doctor_phone_number  state  student_number system_status  title  \n",
       "0                      53488888  Lagos            2710     very good    Mr.  \n",
       "1                      50989139  Lagos            5370          good    Ms.  \n",
       "2                      42144921  Lagos            6696     excellent    Mr.  \n",
       "3                      52477143  Lagos            4343          fair    Mr.  \n",
       "4                      29517478  Lagos            4300     very good    Ms.  \n",
       "\n",
       "[5 rows x 22 columns]"
      ]
     },
     "execution_count": 70,
     "metadata": {},
     "output_type": "execute_result"
    }
   ],
   "source": [
    "doctor_dataframe.head()"
   ]
  },
  {
   "cell_type": "code",
   "execution_count": 71,
   "metadata": {},
   "outputs": [
    {
     "data": {
      "text/plain": [
       "(520, 17)"
      ]
     },
     "execution_count": 71,
     "metadata": {},
     "output_type": "execute_result"
    }
   ],
   "source": [
    "# consultation dataframe\n",
    "consultation_dataframe = pd.read_csv('./Populated_data/consultation.csv')\n",
    "consultation_dataframe.shape"
   ]
  },
  {
   "cell_type": "code",
   "execution_count": 72,
   "metadata": {},
   "outputs": [
    {
     "data": {
      "text/html": [
       "<div>\n",
       "<style scoped>\n",
       "    .dataframe tbody tr th:only-of-type {\n",
       "        vertical-align: middle;\n",
       "    }\n",
       "\n",
       "    .dataframe tbody tr th {\n",
       "        vertical-align: top;\n",
       "    }\n",
       "\n",
       "    .dataframe thead th {\n",
       "        text-align: right;\n",
       "    }\n",
       "</style>\n",
       "<table border=\"1\" class=\"dataframe\">\n",
       "  <thead>\n",
       "    <tr style=\"text-align: right;\">\n",
       "      <th></th>\n",
       "      <th>id</th>\n",
       "      <th>consultation_cost</th>\n",
       "      <th>audio_detailed_description</th>\n",
       "      <th>patient_body_area</th>\n",
       "      <th>consent</th>\n",
       "      <th>doctor_full_name</th>\n",
       "      <th>doctor_id</th>\n",
       "      <th>language</th>\n",
       "      <th>patient_full_name</th>\n",
       "      <th>patient_id</th>\n",
       "      <th>patient_mobile</th>\n",
       "      <th>patient_status</th>\n",
       "      <th>time_accepted</th>\n",
       "      <th>time_booked</th>\n",
       "      <th>time_finished</th>\n",
       "      <th>time_started</th>\n",
       "      <th>transaction_reference</th>\n",
       "    </tr>\n",
       "  </thead>\n",
       "  <tbody>\n",
       "    <tr>\n",
       "      <th>0</th>\n",
       "      <td>1</td>\n",
       "      <td>1900</td>\n",
       "      <td>NaN</td>\n",
       "      <td>legs</td>\n",
       "      <td>Yes</td>\n",
       "      <td>ACRA SMITH</td>\n",
       "      <td>1</td>\n",
       "      <td>english</td>\n",
       "      <td>ADRIATIK NELL</td>\n",
       "      <td>100</td>\n",
       "      <td>6780843</td>\n",
       "      <td>under appointment</td>\n",
       "      <td>13:30</td>\n",
       "      <td>2:00 PM</td>\n",
       "      <td>5:10 PM</td>\n",
       "      <td>3:10 PM</td>\n",
       "      <td>1</td>\n",
       "    </tr>\n",
       "    <tr>\n",
       "      <th>1</th>\n",
       "      <td>2</td>\n",
       "      <td>9100</td>\n",
       "      <td>NaN</td>\n",
       "      <td>chest area</td>\n",
       "      <td>Yes</td>\n",
       "      <td>ADOLPH NEILON</td>\n",
       "      <td>2</td>\n",
       "      <td>english</td>\n",
       "      <td>ANNAMARIE HERA</td>\n",
       "      <td>72</td>\n",
       "      <td>4272348</td>\n",
       "      <td>new consultation</td>\n",
       "      <td>10:15</td>\n",
       "      <td>10:45 AM</td>\n",
       "      <td>12:45 PM</td>\n",
       "      <td>11:45 AM</td>\n",
       "      <td>2</td>\n",
       "    </tr>\n",
       "    <tr>\n",
       "      <th>2</th>\n",
       "      <td>3</td>\n",
       "      <td>8200</td>\n",
       "      <td>NaN</td>\n",
       "      <td>head</td>\n",
       "      <td>Yes</td>\n",
       "      <td>ANKI HENDRI</td>\n",
       "      <td>3</td>\n",
       "      <td>english</td>\n",
       "      <td>GARRICK SHATISHA</td>\n",
       "      <td>150</td>\n",
       "      <td>6183602</td>\n",
       "      <td>new consultation</td>\n",
       "      <td>8:45</td>\n",
       "      <td>9:35 AM</td>\n",
       "      <td>12:15 PM</td>\n",
       "      <td>10:35 AM</td>\n",
       "      <td>3</td>\n",
       "    </tr>\n",
       "    <tr>\n",
       "      <th>3</th>\n",
       "      <td>4</td>\n",
       "      <td>5600</td>\n",
       "      <td>NaN</td>\n",
       "      <td>back</td>\n",
       "      <td>Yes</td>\n",
       "      <td>GARBO SHARRON</td>\n",
       "      <td>4</td>\n",
       "      <td>english</td>\n",
       "      <td>ADRIELLE NELLI</td>\n",
       "      <td>27</td>\n",
       "      <td>6822469</td>\n",
       "      <td>appointed session</td>\n",
       "      <td>13:15</td>\n",
       "      <td>1:55 PM</td>\n",
       "      <td>4:35 PM</td>\n",
       "      <td>2:45 PM</td>\n",
       "      <td>4</td>\n",
       "    </tr>\n",
       "    <tr>\n",
       "      <th>4</th>\n",
       "      <td>5</td>\n",
       "      <td>1200</td>\n",
       "      <td>NaN</td>\n",
       "      <td>stomach</td>\n",
       "      <td>Yes</td>\n",
       "      <td>ADONAI NEIVA</td>\n",
       "      <td>5</td>\n",
       "      <td>english</td>\n",
       "      <td>ANNASTASIA HERARD</td>\n",
       "      <td>191</td>\n",
       "      <td>7229498</td>\n",
       "      <td>new consultation</td>\n",
       "      <td>9:00</td>\n",
       "      <td>9:30 AM</td>\n",
       "      <td>11:20 AM</td>\n",
       "      <td>10:30 AM</td>\n",
       "      <td>5</td>\n",
       "    </tr>\n",
       "  </tbody>\n",
       "</table>\n",
       "</div>"
      ],
      "text/plain": [
       "   id  consultation_cost  audio_detailed_description patient_body_area   \n",
       "0   1               1900                         NaN              legs  \\\n",
       "1   2               9100                         NaN        chest area   \n",
       "2   3               8200                         NaN              head   \n",
       "3   4               5600                         NaN              back   \n",
       "4   5               1200                         NaN           stomach   \n",
       "\n",
       "  consent doctor_full_name  doctor_id language  patient_full_name  patient_id   \n",
       "0     Yes       ACRA SMITH          1  english      ADRIATIK NELL         100  \\\n",
       "1     Yes    ADOLPH NEILON          2  english     ANNAMARIE HERA          72   \n",
       "2     Yes      ANKI HENDRI          3  english   GARRICK SHATISHA         150   \n",
       "3     Yes    GARBO SHARRON          4  english     ADRIELLE NELLI          27   \n",
       "4     Yes     ADONAI NEIVA          5  english  ANNASTASIA HERARD         191   \n",
       "\n",
       "   patient_mobile     patient_status time_accepted time_booked time_finished   \n",
       "0         6780843  under appointment         13:30     2:00 PM       5:10 PM  \\\n",
       "1         4272348   new consultation         10:15    10:45 AM      12:45 PM   \n",
       "2         6183602   new consultation          8:45     9:35 AM      12:15 PM   \n",
       "3         6822469  appointed session         13:15     1:55 PM       4:35 PM   \n",
       "4         7229498   new consultation          9:00     9:30 AM      11:20 AM   \n",
       "\n",
       "  time_started  transaction_reference  \n",
       "0      3:10 PM                      1  \n",
       "1     11:45 AM                      2  \n",
       "2     10:35 AM                      3  \n",
       "3      2:45 PM                      4  \n",
       "4     10:30 AM                      5  "
      ]
     },
     "execution_count": 72,
     "metadata": {},
     "output_type": "execute_result"
    }
   ],
   "source": [
    "consultation_dataframe.head()"
   ]
  },
  {
   "attachments": {},
   "cell_type": "markdown",
   "metadata": {},
   "source": [
    "### Check duplicates"
   ]
  },
  {
   "cell_type": "code",
   "execution_count": 73,
   "metadata": {},
   "outputs": [
    {
     "data": {
      "text/html": [
       "<div>\n",
       "<style scoped>\n",
       "    .dataframe tbody tr th:only-of-type {\n",
       "        vertical-align: middle;\n",
       "    }\n",
       "\n",
       "    .dataframe tbody tr th {\n",
       "        vertical-align: top;\n",
       "    }\n",
       "\n",
       "    .dataframe thead th {\n",
       "        text-align: right;\n",
       "    }\n",
       "</style>\n",
       "<table border=\"1\" class=\"dataframe\">\n",
       "  <thead>\n",
       "    <tr style=\"text-align: right;\">\n",
       "      <th></th>\n",
       "      <th>patient_id</th>\n",
       "      <th>address</th>\n",
       "      <th>allergies</th>\n",
       "      <th>blood_type</th>\n",
       "      <th>closest_hospital</th>\n",
       "      <th>community</th>\n",
       "      <th>country</th>\n",
       "      <th>date_of_birth</th>\n",
       "      <th>disabilities</th>\n",
       "      <th>first_name</th>\n",
       "      <th>...</th>\n",
       "      <th>num_of_dependents</th>\n",
       "      <th>post_code</th>\n",
       "      <th>preferred_language</th>\n",
       "      <th>purpose_of_visit</th>\n",
       "      <th>state</th>\n",
       "      <th>sur_name</th>\n",
       "      <th>title</th>\n",
       "      <th>user_id</th>\n",
       "      <th>weight</th>\n",
       "      <th>hospital_id</th>\n",
       "    </tr>\n",
       "  </thead>\n",
       "  <tbody>\n",
       "  </tbody>\n",
       "</table>\n",
       "<p>0 rows × 29 columns</p>\n",
       "</div>"
      ],
      "text/plain": [
       "Empty DataFrame\n",
       "Columns: [patient_id, address, allergies, blood_type, closest_hospital, community, country, date_of_birth, disabilities, first_name, gender, has_children, has_dependent, height_cm, language, marital_status, medical_problems, national_id_number, num_of_children, num_of_dependents, post_code, preferred_language, purpose_of_visit, state, sur_name, title, user_id, weight, hospital_id]\n",
       "Index: []\n",
       "\n",
       "[0 rows x 29 columns]"
      ]
     },
     "execution_count": 73,
     "metadata": {},
     "output_type": "execute_result"
    }
   ],
   "source": [
    "# for patient dataframe\n",
    "patient_dataframe[patient_dataframe.duplicated()==True]"
   ]
  },
  {
   "cell_type": "code",
   "execution_count": 74,
   "metadata": {},
   "outputs": [
    {
     "data": {
      "text/html": [
       "<div>\n",
       "<style scoped>\n",
       "    .dataframe tbody tr th:only-of-type {\n",
       "        vertical-align: middle;\n",
       "    }\n",
       "\n",
       "    .dataframe tbody tr th {\n",
       "        vertical-align: top;\n",
       "    }\n",
       "\n",
       "    .dataframe thead th {\n",
       "        text-align: right;\n",
       "    }\n",
       "</style>\n",
       "<table border=\"1\" class=\"dataframe\">\n",
       "  <thead>\n",
       "    <tr style=\"text-align: right;\">\n",
       "      <th></th>\n",
       "      <th>doctor_id</th>\n",
       "      <th>approved</th>\n",
       "      <th>city</th>\n",
       "      <th>cv</th>\n",
       "      <th>date_of_birth</th>\n",
       "      <th>dependant_stand_by</th>\n",
       "      <th>full_name</th>\n",
       "      <th>doctor_gender</th>\n",
       "      <th>graduation_date</th>\n",
       "      <th>is_student</th>\n",
       "      <th>...</th>\n",
       "      <th>name_of_university</th>\n",
       "      <th>national_identification_number</th>\n",
       "      <th>office_address</th>\n",
       "      <th>reference_doctor_email</th>\n",
       "      <th>reference_doctor_full_name</th>\n",
       "      <th>reference_doctor_phone_number</th>\n",
       "      <th>state</th>\n",
       "      <th>student_number</th>\n",
       "      <th>system_status</th>\n",
       "      <th>title</th>\n",
       "    </tr>\n",
       "  </thead>\n",
       "  <tbody>\n",
       "  </tbody>\n",
       "</table>\n",
       "<p>0 rows × 22 columns</p>\n",
       "</div>"
      ],
      "text/plain": [
       "Empty DataFrame\n",
       "Columns: [doctor_id, approved, city, cv, date_of_birth, dependant_stand_by, full_name, doctor_gender, graduation_date, is_student, marital_status, mdcn_certificate_number, name_of_university, national_identification_number, office_address, reference_doctor_email, reference_doctor_full_name, reference_doctor_phone_number, state, student_number, system_status, title]\n",
       "Index: []\n",
       "\n",
       "[0 rows x 22 columns]"
      ]
     },
     "execution_count": 74,
     "metadata": {},
     "output_type": "execute_result"
    }
   ],
   "source": [
    "# for doctor dataframe\n",
    "doctor_dataframe[doctor_dataframe.duplicated()==True]"
   ]
  },
  {
   "cell_type": "code",
   "execution_count": 75,
   "metadata": {},
   "outputs": [
    {
     "data": {
      "text/html": [
       "<div>\n",
       "<style scoped>\n",
       "    .dataframe tbody tr th:only-of-type {\n",
       "        vertical-align: middle;\n",
       "    }\n",
       "\n",
       "    .dataframe tbody tr th {\n",
       "        vertical-align: top;\n",
       "    }\n",
       "\n",
       "    .dataframe thead th {\n",
       "        text-align: right;\n",
       "    }\n",
       "</style>\n",
       "<table border=\"1\" class=\"dataframe\">\n",
       "  <thead>\n",
       "    <tr style=\"text-align: right;\">\n",
       "      <th></th>\n",
       "      <th>id</th>\n",
       "      <th>consultation_cost</th>\n",
       "      <th>audio_detailed_description</th>\n",
       "      <th>patient_body_area</th>\n",
       "      <th>consent</th>\n",
       "      <th>doctor_full_name</th>\n",
       "      <th>doctor_id</th>\n",
       "      <th>language</th>\n",
       "      <th>patient_full_name</th>\n",
       "      <th>patient_id</th>\n",
       "      <th>patient_mobile</th>\n",
       "      <th>patient_status</th>\n",
       "      <th>time_accepted</th>\n",
       "      <th>time_booked</th>\n",
       "      <th>time_finished</th>\n",
       "      <th>time_started</th>\n",
       "      <th>transaction_reference</th>\n",
       "    </tr>\n",
       "  </thead>\n",
       "  <tbody>\n",
       "  </tbody>\n",
       "</table>\n",
       "</div>"
      ],
      "text/plain": [
       "Empty DataFrame\n",
       "Columns: [id, consultation_cost, audio_detailed_description, patient_body_area, consent, doctor_full_name, doctor_id, language, patient_full_name, patient_id, patient_mobile, patient_status, time_accepted, time_booked, time_finished, time_started, transaction_reference]\n",
       "Index: []"
      ]
     },
     "execution_count": 75,
     "metadata": {},
     "output_type": "execute_result"
    }
   ],
   "source": [
    "# for consultation dataframe\n",
    "consultation_dataframe[consultation_dataframe.duplicated()==True]"
   ]
  },
  {
   "attachments": {},
   "cell_type": "markdown",
   "metadata": {},
   "source": [
    "### Check missing value(s)"
   ]
  },
  {
   "cell_type": "code",
   "execution_count": 76,
   "metadata": {},
   "outputs": [
    {
     "data": {
      "text/html": [
       "<div>\n",
       "<style scoped>\n",
       "    .dataframe tbody tr th:only-of-type {\n",
       "        vertical-align: middle;\n",
       "    }\n",
       "\n",
       "    .dataframe tbody tr th {\n",
       "        vertical-align: top;\n",
       "    }\n",
       "\n",
       "    .dataframe thead th {\n",
       "        text-align: right;\n",
       "    }\n",
       "</style>\n",
       "<table border=\"1\" class=\"dataframe\">\n",
       "  <thead>\n",
       "    <tr style=\"text-align: right;\">\n",
       "      <th></th>\n",
       "      <th>Missing value</th>\n",
       "    </tr>\n",
       "  </thead>\n",
       "  <tbody>\n",
       "    <tr>\n",
       "      <th>allergies</th>\n",
       "      <td>80</td>\n",
       "    </tr>\n",
       "    <tr>\n",
       "      <th>medical_problems</th>\n",
       "      <td>50</td>\n",
       "    </tr>\n",
       "    <tr>\n",
       "      <th>disabilities</th>\n",
       "      <td>38</td>\n",
       "    </tr>\n",
       "  </tbody>\n",
       "</table>\n",
       "</div>"
      ],
      "text/plain": [
       "                  Missing value\n",
       "allergies                    80\n",
       "medical_problems             50\n",
       "disabilities                 38"
      ]
     },
     "execution_count": 76,
     "metadata": {},
     "output_type": "execute_result"
    }
   ],
   "source": [
    "# for patient dataframe\n",
    "nan=pd.DataFrame({'Missing value': patient_dataframe.isnull().sum().sort_values(ascending=False)})\n",
    "nan[nan['Missing value'] > 0]"
   ]
  },
  {
   "cell_type": "code",
   "execution_count": 77,
   "metadata": {},
   "outputs": [
    {
     "data": {
      "text/html": [
       "<div>\n",
       "<style scoped>\n",
       "    .dataframe tbody tr th:only-of-type {\n",
       "        vertical-align: middle;\n",
       "    }\n",
       "\n",
       "    .dataframe tbody tr th {\n",
       "        vertical-align: top;\n",
       "    }\n",
       "\n",
       "    .dataframe thead th {\n",
       "        text-align: right;\n",
       "    }\n",
       "</style>\n",
       "<table border=\"1\" class=\"dataframe\">\n",
       "  <thead>\n",
       "    <tr style=\"text-align: right;\">\n",
       "      <th></th>\n",
       "      <th>Missing value</th>\n",
       "    </tr>\n",
       "  </thead>\n",
       "  <tbody>\n",
       "    <tr>\n",
       "      <th>cv</th>\n",
       "      <td>214</td>\n",
       "    </tr>\n",
       "  </tbody>\n",
       "</table>\n",
       "</div>"
      ],
      "text/plain": [
       "    Missing value\n",
       "cv            214"
      ]
     },
     "execution_count": 77,
     "metadata": {},
     "output_type": "execute_result"
    }
   ],
   "source": [
    "# for doctor dataframe\n",
    "nan=pd.DataFrame({'Missing value': doctor_dataframe.isnull().sum().sort_values(ascending=False)})\n",
    "nan[nan['Missing value'] > 0]"
   ]
  },
  {
   "cell_type": "code",
   "execution_count": 78,
   "metadata": {},
   "outputs": [
    {
     "data": {
      "text/html": [
       "<div>\n",
       "<style scoped>\n",
       "    .dataframe tbody tr th:only-of-type {\n",
       "        vertical-align: middle;\n",
       "    }\n",
       "\n",
       "    .dataframe tbody tr th {\n",
       "        vertical-align: top;\n",
       "    }\n",
       "\n",
       "    .dataframe thead th {\n",
       "        text-align: right;\n",
       "    }\n",
       "</style>\n",
       "<table border=\"1\" class=\"dataframe\">\n",
       "  <thead>\n",
       "    <tr style=\"text-align: right;\">\n",
       "      <th></th>\n",
       "      <th>Missing value</th>\n",
       "    </tr>\n",
       "  </thead>\n",
       "  <tbody>\n",
       "    <tr>\n",
       "      <th>audio_detailed_description</th>\n",
       "      <td>520</td>\n",
       "    </tr>\n",
       "  </tbody>\n",
       "</table>\n",
       "</div>"
      ],
      "text/plain": [
       "                            Missing value\n",
       "audio_detailed_description            520"
      ]
     },
     "execution_count": 78,
     "metadata": {},
     "output_type": "execute_result"
    }
   ],
   "source": [
    "# for consultation dataframe\n",
    "nan=pd.DataFrame({'Missing value': consultation_dataframe.isnull().sum().sort_values(ascending=False)})\n",
    "nan[nan['Missing value'] > 0]"
   ]
  },
  {
   "attachments": {},
   "cell_type": "markdown",
   "metadata": {},
   "source": [
    "    N.B. Since medical data require medical examination, filling the missing variable(s) would be inappropriat. Hence droping missing variable(s) is recommended."
   ]
  },
  {
   "cell_type": "code",
   "execution_count": 79,
   "metadata": {},
   "outputs": [],
   "source": [
    "# Drop missing varaiables in patient dataframe\n",
    "patient_dataframe.dropna(axis=1, inplace=True)\n",
    "patient_dataframe.reset_index(drop=True, inplace=True)"
   ]
  },
  {
   "cell_type": "code",
   "execution_count": 80,
   "metadata": {},
   "outputs": [
    {
     "data": {
      "text/html": [
       "<div>\n",
       "<style scoped>\n",
       "    .dataframe tbody tr th:only-of-type {\n",
       "        vertical-align: middle;\n",
       "    }\n",
       "\n",
       "    .dataframe tbody tr th {\n",
       "        vertical-align: top;\n",
       "    }\n",
       "\n",
       "    .dataframe thead th {\n",
       "        text-align: right;\n",
       "    }\n",
       "</style>\n",
       "<table border=\"1\" class=\"dataframe\">\n",
       "  <thead>\n",
       "    <tr style=\"text-align: right;\">\n",
       "      <th></th>\n",
       "      <th>Missing value</th>\n",
       "    </tr>\n",
       "  </thead>\n",
       "  <tbody>\n",
       "  </tbody>\n",
       "</table>\n",
       "</div>"
      ],
      "text/plain": [
       "Empty DataFrame\n",
       "Columns: [Missing value]\n",
       "Index: []"
      ]
     },
     "execution_count": 80,
     "metadata": {},
     "output_type": "execute_result"
    }
   ],
   "source": [
    "nan=pd.DataFrame({'Missing value': patient_dataframe.isnull().sum().sort_values(ascending=False)})\n",
    "nan[nan['Missing value'] > 0]"
   ]
  },
  {
   "cell_type": "code",
   "execution_count": 81,
   "metadata": {},
   "outputs": [
    {
     "data": {
      "text/plain": [
       "(250, 26)"
      ]
     },
     "execution_count": 81,
     "metadata": {},
     "output_type": "execute_result"
    }
   ],
   "source": [
    "patient_dataframe.shape"
   ]
  },
  {
   "cell_type": "code",
   "execution_count": 82,
   "metadata": {},
   "outputs": [
    {
     "data": {
      "text/html": [
       "<div>\n",
       "<style scoped>\n",
       "    .dataframe tbody tr th:only-of-type {\n",
       "        vertical-align: middle;\n",
       "    }\n",
       "\n",
       "    .dataframe tbody tr th {\n",
       "        vertical-align: top;\n",
       "    }\n",
       "\n",
       "    .dataframe thead th {\n",
       "        text-align: right;\n",
       "    }\n",
       "</style>\n",
       "<table border=\"1\" class=\"dataframe\">\n",
       "  <thead>\n",
       "    <tr style=\"text-align: right;\">\n",
       "      <th></th>\n",
       "      <th>patient_id</th>\n",
       "      <th>address</th>\n",
       "      <th>blood_type</th>\n",
       "      <th>closest_hospital</th>\n",
       "      <th>community</th>\n",
       "      <th>country</th>\n",
       "      <th>date_of_birth</th>\n",
       "      <th>first_name</th>\n",
       "      <th>gender</th>\n",
       "      <th>has_children</th>\n",
       "      <th>...</th>\n",
       "      <th>num_of_dependents</th>\n",
       "      <th>post_code</th>\n",
       "      <th>preferred_language</th>\n",
       "      <th>purpose_of_visit</th>\n",
       "      <th>state</th>\n",
       "      <th>sur_name</th>\n",
       "      <th>title</th>\n",
       "      <th>user_id</th>\n",
       "      <th>weight</th>\n",
       "      <th>hospital_id</th>\n",
       "    </tr>\n",
       "  </thead>\n",
       "  <tbody>\n",
       "    <tr>\n",
       "      <th>0</th>\n",
       "      <td>1</td>\n",
       "      <td>Ap #266-429 Velit St.</td>\n",
       "      <td>AB+</td>\n",
       "      <td>Blue Cross Hospital</td>\n",
       "      <td>suburban</td>\n",
       "      <td>nigeria</td>\n",
       "      <td>4/13/2009</td>\n",
       "      <td>ACRA</td>\n",
       "      <td>Female</td>\n",
       "      <td>Yes</td>\n",
       "      <td>...</td>\n",
       "      <td>2</td>\n",
       "      <td>10201</td>\n",
       "      <td>english</td>\n",
       "      <td>medical examination</td>\n",
       "      <td>Lagos</td>\n",
       "      <td>SMITH</td>\n",
       "      <td>Mrs.</td>\n",
       "      <td>1</td>\n",
       "      <td>69</td>\n",
       "      <td>1</td>\n",
       "    </tr>\n",
       "    <tr>\n",
       "      <th>1</th>\n",
       "      <td>2</td>\n",
       "      <td>315-4283 Nam Street</td>\n",
       "      <td>O-</td>\n",
       "      <td>Krown Hospital</td>\n",
       "      <td>suburban</td>\n",
       "      <td>nigeria</td>\n",
       "      <td>7/8/2011</td>\n",
       "      <td>ADOLPH</td>\n",
       "      <td>Male</td>\n",
       "      <td>Yes</td>\n",
       "      <td>...</td>\n",
       "      <td>2</td>\n",
       "      <td>12224</td>\n",
       "      <td>english</td>\n",
       "      <td>medical examination</td>\n",
       "      <td>Lagos</td>\n",
       "      <td>NEILON</td>\n",
       "      <td>Mr.</td>\n",
       "      <td>2</td>\n",
       "      <td>80</td>\n",
       "      <td>1</td>\n",
       "    </tr>\n",
       "    <tr>\n",
       "      <th>2</th>\n",
       "      <td>3</td>\n",
       "      <td>921-1491 Nonummy Ave</td>\n",
       "      <td>A-</td>\n",
       "      <td>Ave Maria Hospital</td>\n",
       "      <td>suburban</td>\n",
       "      <td>nigeria</td>\n",
       "      <td>12/30/2000</td>\n",
       "      <td>ANKI</td>\n",
       "      <td>Male</td>\n",
       "      <td>Yes</td>\n",
       "      <td>...</td>\n",
       "      <td>3</td>\n",
       "      <td>53510</td>\n",
       "      <td>english</td>\n",
       "      <td>medical examination</td>\n",
       "      <td>Lagos</td>\n",
       "      <td>HENDRI</td>\n",
       "      <td>Mr.</td>\n",
       "      <td>3</td>\n",
       "      <td>67</td>\n",
       "      <td>1</td>\n",
       "    </tr>\n",
       "    <tr>\n",
       "      <th>3</th>\n",
       "      <td>4</td>\n",
       "      <td>Ap #299-4324 Mauris Avenue</td>\n",
       "      <td>O-</td>\n",
       "      <td>Isolo General Hospital</td>\n",
       "      <td>urban</td>\n",
       "      <td>nigeria</td>\n",
       "      <td>9/15/1987</td>\n",
       "      <td>GARBO</td>\n",
       "      <td>Male</td>\n",
       "      <td>No</td>\n",
       "      <td>...</td>\n",
       "      <td>3</td>\n",
       "      <td>25193</td>\n",
       "      <td>english</td>\n",
       "      <td>medical examination</td>\n",
       "      <td>Lagos</td>\n",
       "      <td>SHARRON</td>\n",
       "      <td>Mr.</td>\n",
       "      <td>4</td>\n",
       "      <td>74</td>\n",
       "      <td>1</td>\n",
       "    </tr>\n",
       "    <tr>\n",
       "      <th>4</th>\n",
       "      <td>5</td>\n",
       "      <td>P.O. Box 913, 6976 Magnis Rd.</td>\n",
       "      <td>O-</td>\n",
       "      <td>Lagoon Hospitals</td>\n",
       "      <td>rural</td>\n",
       "      <td>nigeria</td>\n",
       "      <td>10/10/2002</td>\n",
       "      <td>ADONAI</td>\n",
       "      <td>Female</td>\n",
       "      <td>No</td>\n",
       "      <td>...</td>\n",
       "      <td>1</td>\n",
       "      <td>37171</td>\n",
       "      <td>english</td>\n",
       "      <td>medical examination</td>\n",
       "      <td>Lagos</td>\n",
       "      <td>NEIVA</td>\n",
       "      <td>Ms.</td>\n",
       "      <td>5</td>\n",
       "      <td>62</td>\n",
       "      <td>1</td>\n",
       "    </tr>\n",
       "  </tbody>\n",
       "</table>\n",
       "<p>5 rows × 26 columns</p>\n",
       "</div>"
      ],
      "text/plain": [
       "   patient_id                        address blood_type   \n",
       "0           1          Ap #266-429 Velit St.        AB+  \\\n",
       "1           2            315-4283 Nam Street         O-   \n",
       "2           3           921-1491 Nonummy Ave         A-   \n",
       "3           4     Ap #299-4324 Mauris Avenue         O-   \n",
       "4           5  P.O. Box 913, 6976 Magnis Rd.         O-   \n",
       "\n",
       "         closest_hospital community  country date_of_birth first_name  gender   \n",
       "0     Blue Cross Hospital  suburban  nigeria     4/13/2009       ACRA  Female  \\\n",
       "1          Krown Hospital  suburban  nigeria      7/8/2011     ADOLPH    Male   \n",
       "2      Ave Maria Hospital  suburban  nigeria    12/30/2000       ANKI    Male   \n",
       "3  Isolo General Hospital     urban  nigeria     9/15/1987      GARBO    Male   \n",
       "4        Lagoon Hospitals     rural  nigeria    10/10/2002     ADONAI  Female   \n",
       "\n",
       "  has_children  ... num_of_dependents  post_code preferred_language   \n",
       "0          Yes  ...                 2      10201            english  \\\n",
       "1          Yes  ...                 2      12224            english   \n",
       "2          Yes  ...                 3      53510            english   \n",
       "3           No  ...                 3      25193            english   \n",
       "4           No  ...                 1      37171            english   \n",
       "\n",
       "      purpose_of_visit  state  sur_name  title  user_id weight hospital_id  \n",
       "0  medical examination  Lagos     SMITH   Mrs.        1     69           1  \n",
       "1  medical examination  Lagos    NEILON    Mr.        2     80           1  \n",
       "2  medical examination  Lagos    HENDRI    Mr.        3     67           1  \n",
       "3  medical examination  Lagos   SHARRON    Mr.        4     74           1  \n",
       "4  medical examination  Lagos     NEIVA    Ms.        5     62           1  \n",
       "\n",
       "[5 rows x 26 columns]"
      ]
     },
     "execution_count": 82,
     "metadata": {},
     "output_type": "execute_result"
    }
   ],
   "source": [
    "patient_dataframe.head()"
   ]
  },
  {
   "cell_type": "code",
   "execution_count": 83,
   "metadata": {},
   "outputs": [],
   "source": [
    "# cleaned patient dataset\n",
    "patient_dataframe.to_csv('cleaned_patient.csv', index=False)"
   ]
  },
  {
   "cell_type": "code",
   "execution_count": 84,
   "metadata": {},
   "outputs": [],
   "source": [
    "# Drop missing varaiables in doctor dataframe\n",
    "doctor_dataframe.dropna(axis=1, inplace=True)\n",
    "doctor_dataframe.reset_index(drop=True, inplace=True)"
   ]
  },
  {
   "cell_type": "code",
   "execution_count": 85,
   "metadata": {},
   "outputs": [
    {
     "data": {
      "text/html": [
       "<div>\n",
       "<style scoped>\n",
       "    .dataframe tbody tr th:only-of-type {\n",
       "        vertical-align: middle;\n",
       "    }\n",
       "\n",
       "    .dataframe tbody tr th {\n",
       "        vertical-align: top;\n",
       "    }\n",
       "\n",
       "    .dataframe thead th {\n",
       "        text-align: right;\n",
       "    }\n",
       "</style>\n",
       "<table border=\"1\" class=\"dataframe\">\n",
       "  <thead>\n",
       "    <tr style=\"text-align: right;\">\n",
       "      <th></th>\n",
       "      <th>Missing value</th>\n",
       "    </tr>\n",
       "  </thead>\n",
       "  <tbody>\n",
       "  </tbody>\n",
       "</table>\n",
       "</div>"
      ],
      "text/plain": [
       "Empty DataFrame\n",
       "Columns: [Missing value]\n",
       "Index: []"
      ]
     },
     "execution_count": 85,
     "metadata": {},
     "output_type": "execute_result"
    }
   ],
   "source": [
    "nan=pd.DataFrame({'Missing value': doctor_dataframe.isnull().sum().sort_values(ascending=False)})\n",
    "nan[nan['Missing value'] > 0]"
   ]
  },
  {
   "cell_type": "code",
   "execution_count": 86,
   "metadata": {},
   "outputs": [
    {
     "data": {
      "text/plain": [
       "(214, 21)"
      ]
     },
     "execution_count": 86,
     "metadata": {},
     "output_type": "execute_result"
    }
   ],
   "source": [
    "doctor_dataframe.shape"
   ]
  },
  {
   "cell_type": "code",
   "execution_count": 87,
   "metadata": {},
   "outputs": [
    {
     "data": {
      "text/html": [
       "<div>\n",
       "<style scoped>\n",
       "    .dataframe tbody tr th:only-of-type {\n",
       "        vertical-align: middle;\n",
       "    }\n",
       "\n",
       "    .dataframe tbody tr th {\n",
       "        vertical-align: top;\n",
       "    }\n",
       "\n",
       "    .dataframe thead th {\n",
       "        text-align: right;\n",
       "    }\n",
       "</style>\n",
       "<table border=\"1\" class=\"dataframe\">\n",
       "  <thead>\n",
       "    <tr style=\"text-align: right;\">\n",
       "      <th></th>\n",
       "      <th>doctor_id</th>\n",
       "      <th>approved</th>\n",
       "      <th>city</th>\n",
       "      <th>date_of_birth</th>\n",
       "      <th>dependant_stand_by</th>\n",
       "      <th>full_name</th>\n",
       "      <th>doctor_gender</th>\n",
       "      <th>graduation_date</th>\n",
       "      <th>is_student</th>\n",
       "      <th>marital_status</th>\n",
       "      <th>...</th>\n",
       "      <th>name_of_university</th>\n",
       "      <th>national_identification_number</th>\n",
       "      <th>office_address</th>\n",
       "      <th>reference_doctor_email</th>\n",
       "      <th>reference_doctor_full_name</th>\n",
       "      <th>reference_doctor_phone_number</th>\n",
       "      <th>state</th>\n",
       "      <th>student_number</th>\n",
       "      <th>system_status</th>\n",
       "      <th>title</th>\n",
       "    </tr>\n",
       "  </thead>\n",
       "  <tbody>\n",
       "    <tr>\n",
       "      <th>0</th>\n",
       "      <td>1</td>\n",
       "      <td>Yes</td>\n",
       "      <td>Lagos</td>\n",
       "      <td>8/5/1972</td>\n",
       "      <td>1</td>\n",
       "      <td>ACRA SMITH</td>\n",
       "      <td>Male</td>\n",
       "      <td>9/6/2019</td>\n",
       "      <td>No</td>\n",
       "      <td>Married</td>\n",
       "      <td>...</td>\n",
       "      <td>Caleb University- Lagos</td>\n",
       "      <td>1122458</td>\n",
       "      <td>618-3434 Sagittis Av.</td>\n",
       "      <td>acrasmith@gmail.com</td>\n",
       "      <td>ACRA SMITH</td>\n",
       "      <td>53488888</td>\n",
       "      <td>Lagos</td>\n",
       "      <td>2710</td>\n",
       "      <td>very good</td>\n",
       "      <td>Mr.</td>\n",
       "    </tr>\n",
       "    <tr>\n",
       "      <th>1</th>\n",
       "      <td>2</td>\n",
       "      <td>Yes</td>\n",
       "      <td>Lagos</td>\n",
       "      <td>7/12/1989</td>\n",
       "      <td>2</td>\n",
       "      <td>ADOLPH NEILON</td>\n",
       "      <td>Female</td>\n",
       "      <td>6/25/2006</td>\n",
       "      <td>Yes</td>\n",
       "      <td>Married</td>\n",
       "      <td>...</td>\n",
       "      <td>National Open University of Nigeria- Lagos</td>\n",
       "      <td>4563751</td>\n",
       "      <td>405-9892 Ultrices Rd.</td>\n",
       "      <td>adolphneilon@gmail.com</td>\n",
       "      <td>ADOLPH NEILON</td>\n",
       "      <td>50989139</td>\n",
       "      <td>Lagos</td>\n",
       "      <td>5370</td>\n",
       "      <td>good</td>\n",
       "      <td>Ms.</td>\n",
       "    </tr>\n",
       "    <tr>\n",
       "      <th>2</th>\n",
       "      <td>3</td>\n",
       "      <td>Yes</td>\n",
       "      <td>Lagos</td>\n",
       "      <td>9/30/1965</td>\n",
       "      <td>1</td>\n",
       "      <td>ANKI HENDRI</td>\n",
       "      <td>Male</td>\n",
       "      <td>12/20/2008</td>\n",
       "      <td>Yes</td>\n",
       "      <td>Married</td>\n",
       "      <td>...</td>\n",
       "      <td>James Hope University- Lagos</td>\n",
       "      <td>1877514</td>\n",
       "      <td>Ap #561-9293 Sociis St.</td>\n",
       "      <td>ankihendri@gmail.com</td>\n",
       "      <td>ANKI HENDRI</td>\n",
       "      <td>42144921</td>\n",
       "      <td>Lagos</td>\n",
       "      <td>6696</td>\n",
       "      <td>excellent</td>\n",
       "      <td>Mr.</td>\n",
       "    </tr>\n",
       "    <tr>\n",
       "      <th>3</th>\n",
       "      <td>4</td>\n",
       "      <td>Yes</td>\n",
       "      <td>Lagos</td>\n",
       "      <td>8/12/1964</td>\n",
       "      <td>1</td>\n",
       "      <td>GARBO SHARRON</td>\n",
       "      <td>Male</td>\n",
       "      <td>8/22/2013</td>\n",
       "      <td>No</td>\n",
       "      <td>Married</td>\n",
       "      <td>...</td>\n",
       "      <td>Lagos State University of Science and Technolo...</td>\n",
       "      <td>2513477</td>\n",
       "      <td>Ap #381-3175 Sed, Street</td>\n",
       "      <td>garbosharron@gmail.com</td>\n",
       "      <td>GARBO SHARRON</td>\n",
       "      <td>52477143</td>\n",
       "      <td>Lagos</td>\n",
       "      <td>4343</td>\n",
       "      <td>fair</td>\n",
       "      <td>Mr.</td>\n",
       "    </tr>\n",
       "    <tr>\n",
       "      <th>4</th>\n",
       "      <td>5</td>\n",
       "      <td>Yes</td>\n",
       "      <td>Lagos</td>\n",
       "      <td>12/5/1963</td>\n",
       "      <td>0</td>\n",
       "      <td>ADONAI NEIVA</td>\n",
       "      <td>Female</td>\n",
       "      <td>12/28/2021</td>\n",
       "      <td>No</td>\n",
       "      <td>Married</td>\n",
       "      <td>...</td>\n",
       "      <td>Lagos State University of Science and Technolo...</td>\n",
       "      <td>3463224</td>\n",
       "      <td>Ap #230-5566 Amet, St.</td>\n",
       "      <td>adonaineiva@gmail.com</td>\n",
       "      <td>ADONAI NEIVA</td>\n",
       "      <td>29517478</td>\n",
       "      <td>Lagos</td>\n",
       "      <td>4300</td>\n",
       "      <td>very good</td>\n",
       "      <td>Ms.</td>\n",
       "    </tr>\n",
       "  </tbody>\n",
       "</table>\n",
       "<p>5 rows × 21 columns</p>\n",
       "</div>"
      ],
      "text/plain": [
       "   doctor_id approved   city date_of_birth  dependant_stand_by      full_name   \n",
       "0          1      Yes  Lagos      8/5/1972                   1     ACRA SMITH  \\\n",
       "1          2      Yes  Lagos     7/12/1989                   2  ADOLPH NEILON   \n",
       "2          3      Yes  Lagos     9/30/1965                   1    ANKI HENDRI   \n",
       "3          4      Yes  Lagos     8/12/1964                   1  GARBO SHARRON   \n",
       "4          5      Yes  Lagos     12/5/1963                   0   ADONAI NEIVA   \n",
       "\n",
       "  doctor_gender graduation_date is_student marital_status  ...   \n",
       "0          Male        9/6/2019         No        Married  ...  \\\n",
       "1        Female       6/25/2006        Yes        Married  ...   \n",
       "2          Male      12/20/2008        Yes        Married  ...   \n",
       "3          Male       8/22/2013         No        Married  ...   \n",
       "4        Female      12/28/2021         No        Married  ...   \n",
       "\n",
       "                                  name_of_university   \n",
       "0                            Caleb University- Lagos  \\\n",
       "1         National Open University of Nigeria- Lagos   \n",
       "2                       James Hope University- Lagos   \n",
       "3  Lagos State University of Science and Technolo...   \n",
       "4  Lagos State University of Science and Technolo...   \n",
       "\n",
       "  national_identification_number            office_address   \n",
       "0                        1122458     618-3434 Sagittis Av.  \\\n",
       "1                        4563751     405-9892 Ultrices Rd.   \n",
       "2                        1877514   Ap #561-9293 Sociis St.   \n",
       "3                        2513477  Ap #381-3175 Sed, Street   \n",
       "4                        3463224    Ap #230-5566 Amet, St.   \n",
       "\n",
       "   reference_doctor_email reference_doctor_full_name   \n",
       "0     acrasmith@gmail.com                 ACRA SMITH  \\\n",
       "1  adolphneilon@gmail.com              ADOLPH NEILON   \n",
       "2    ankihendri@gmail.com                ANKI HENDRI   \n",
       "3  garbosharron@gmail.com              GARBO SHARRON   \n",
       "4   adonaineiva@gmail.com               ADONAI NEIVA   \n",
       "\n",
       "  reference_doctor_phone_number  state student_number  system_status title  \n",
       "0                      53488888  Lagos           2710      very good   Mr.  \n",
       "1                      50989139  Lagos           5370           good   Ms.  \n",
       "2                      42144921  Lagos           6696      excellent   Mr.  \n",
       "3                      52477143  Lagos           4343           fair   Mr.  \n",
       "4                      29517478  Lagos           4300      very good   Ms.  \n",
       "\n",
       "[5 rows x 21 columns]"
      ]
     },
     "execution_count": 87,
     "metadata": {},
     "output_type": "execute_result"
    }
   ],
   "source": [
    "doctor_dataframe.head()"
   ]
  },
  {
   "cell_type": "code",
   "execution_count": 88,
   "metadata": {},
   "outputs": [],
   "source": [
    "# cleaned doctor dataset\n",
    "doctor_dataframe.to_csv('cleaned_doctor.csv', index=False)"
   ]
  },
  {
   "cell_type": "code",
   "execution_count": 89,
   "metadata": {},
   "outputs": [],
   "source": [
    "# Drop missing varaiables in consultation dataframe\n",
    "consultation_dataframe.dropna(axis=1, inplace=True)\n",
    "consultation_dataframe.reset_index(drop=True, inplace=True)"
   ]
  },
  {
   "cell_type": "code",
   "execution_count": 90,
   "metadata": {},
   "outputs": [
    {
     "data": {
      "text/html": [
       "<div>\n",
       "<style scoped>\n",
       "    .dataframe tbody tr th:only-of-type {\n",
       "        vertical-align: middle;\n",
       "    }\n",
       "\n",
       "    .dataframe tbody tr th {\n",
       "        vertical-align: top;\n",
       "    }\n",
       "\n",
       "    .dataframe thead th {\n",
       "        text-align: right;\n",
       "    }\n",
       "</style>\n",
       "<table border=\"1\" class=\"dataframe\">\n",
       "  <thead>\n",
       "    <tr style=\"text-align: right;\">\n",
       "      <th></th>\n",
       "      <th>Missing value</th>\n",
       "    </tr>\n",
       "  </thead>\n",
       "  <tbody>\n",
       "  </tbody>\n",
       "</table>\n",
       "</div>"
      ],
      "text/plain": [
       "Empty DataFrame\n",
       "Columns: [Missing value]\n",
       "Index: []"
      ]
     },
     "execution_count": 90,
     "metadata": {},
     "output_type": "execute_result"
    }
   ],
   "source": [
    "nan=pd.DataFrame({'Missing value': consultation_dataframe.isnull().sum().sort_values(ascending=False)})\n",
    "nan[nan['Missing value'] > 0]"
   ]
  },
  {
   "cell_type": "code",
   "execution_count": 91,
   "metadata": {},
   "outputs": [
    {
     "data": {
      "text/plain": [
       "(520, 16)"
      ]
     },
     "execution_count": 91,
     "metadata": {},
     "output_type": "execute_result"
    }
   ],
   "source": [
    "consultation_dataframe.shape"
   ]
  },
  {
   "cell_type": "code",
   "execution_count": 92,
   "metadata": {},
   "outputs": [
    {
     "data": {
      "text/html": [
       "<div>\n",
       "<style scoped>\n",
       "    .dataframe tbody tr th:only-of-type {\n",
       "        vertical-align: middle;\n",
       "    }\n",
       "\n",
       "    .dataframe tbody tr th {\n",
       "        vertical-align: top;\n",
       "    }\n",
       "\n",
       "    .dataframe thead th {\n",
       "        text-align: right;\n",
       "    }\n",
       "</style>\n",
       "<table border=\"1\" class=\"dataframe\">\n",
       "  <thead>\n",
       "    <tr style=\"text-align: right;\">\n",
       "      <th></th>\n",
       "      <th>id</th>\n",
       "      <th>consultation_cost</th>\n",
       "      <th>patient_body_area</th>\n",
       "      <th>consent</th>\n",
       "      <th>doctor_full_name</th>\n",
       "      <th>doctor_id</th>\n",
       "      <th>language</th>\n",
       "      <th>patient_full_name</th>\n",
       "      <th>patient_id</th>\n",
       "      <th>patient_mobile</th>\n",
       "      <th>patient_status</th>\n",
       "      <th>time_accepted</th>\n",
       "      <th>time_booked</th>\n",
       "      <th>time_finished</th>\n",
       "      <th>time_started</th>\n",
       "      <th>transaction_reference</th>\n",
       "    </tr>\n",
       "  </thead>\n",
       "  <tbody>\n",
       "    <tr>\n",
       "      <th>0</th>\n",
       "      <td>1</td>\n",
       "      <td>1900</td>\n",
       "      <td>legs</td>\n",
       "      <td>Yes</td>\n",
       "      <td>ACRA SMITH</td>\n",
       "      <td>1</td>\n",
       "      <td>english</td>\n",
       "      <td>ADRIATIK NELL</td>\n",
       "      <td>100</td>\n",
       "      <td>6780843</td>\n",
       "      <td>under appointment</td>\n",
       "      <td>13:30</td>\n",
       "      <td>2:00 PM</td>\n",
       "      <td>5:10 PM</td>\n",
       "      <td>3:10 PM</td>\n",
       "      <td>1</td>\n",
       "    </tr>\n",
       "    <tr>\n",
       "      <th>1</th>\n",
       "      <td>2</td>\n",
       "      <td>9100</td>\n",
       "      <td>chest area</td>\n",
       "      <td>Yes</td>\n",
       "      <td>ADOLPH NEILON</td>\n",
       "      <td>2</td>\n",
       "      <td>english</td>\n",
       "      <td>ANNAMARIE HERA</td>\n",
       "      <td>72</td>\n",
       "      <td>4272348</td>\n",
       "      <td>new consultation</td>\n",
       "      <td>10:15</td>\n",
       "      <td>10:45 AM</td>\n",
       "      <td>12:45 PM</td>\n",
       "      <td>11:45 AM</td>\n",
       "      <td>2</td>\n",
       "    </tr>\n",
       "    <tr>\n",
       "      <th>2</th>\n",
       "      <td>3</td>\n",
       "      <td>8200</td>\n",
       "      <td>head</td>\n",
       "      <td>Yes</td>\n",
       "      <td>ANKI HENDRI</td>\n",
       "      <td>3</td>\n",
       "      <td>english</td>\n",
       "      <td>GARRICK SHATISHA</td>\n",
       "      <td>150</td>\n",
       "      <td>6183602</td>\n",
       "      <td>new consultation</td>\n",
       "      <td>8:45</td>\n",
       "      <td>9:35 AM</td>\n",
       "      <td>12:15 PM</td>\n",
       "      <td>10:35 AM</td>\n",
       "      <td>3</td>\n",
       "    </tr>\n",
       "    <tr>\n",
       "      <th>3</th>\n",
       "      <td>4</td>\n",
       "      <td>5600</td>\n",
       "      <td>back</td>\n",
       "      <td>Yes</td>\n",
       "      <td>GARBO SHARRON</td>\n",
       "      <td>4</td>\n",
       "      <td>english</td>\n",
       "      <td>ADRIELLE NELLI</td>\n",
       "      <td>27</td>\n",
       "      <td>6822469</td>\n",
       "      <td>appointed session</td>\n",
       "      <td>13:15</td>\n",
       "      <td>1:55 PM</td>\n",
       "      <td>4:35 PM</td>\n",
       "      <td>2:45 PM</td>\n",
       "      <td>4</td>\n",
       "    </tr>\n",
       "    <tr>\n",
       "      <th>4</th>\n",
       "      <td>5</td>\n",
       "      <td>1200</td>\n",
       "      <td>stomach</td>\n",
       "      <td>Yes</td>\n",
       "      <td>ADONAI NEIVA</td>\n",
       "      <td>5</td>\n",
       "      <td>english</td>\n",
       "      <td>ANNASTASIA HERARD</td>\n",
       "      <td>191</td>\n",
       "      <td>7229498</td>\n",
       "      <td>new consultation</td>\n",
       "      <td>9:00</td>\n",
       "      <td>9:30 AM</td>\n",
       "      <td>11:20 AM</td>\n",
       "      <td>10:30 AM</td>\n",
       "      <td>5</td>\n",
       "    </tr>\n",
       "  </tbody>\n",
       "</table>\n",
       "</div>"
      ],
      "text/plain": [
       "   id  consultation_cost patient_body_area consent doctor_full_name   \n",
       "0   1               1900              legs     Yes       ACRA SMITH  \\\n",
       "1   2               9100        chest area     Yes    ADOLPH NEILON   \n",
       "2   3               8200              head     Yes      ANKI HENDRI   \n",
       "3   4               5600              back     Yes    GARBO SHARRON   \n",
       "4   5               1200           stomach     Yes     ADONAI NEIVA   \n",
       "\n",
       "   doctor_id language  patient_full_name  patient_id  patient_mobile   \n",
       "0          1  english      ADRIATIK NELL         100         6780843  \\\n",
       "1          2  english     ANNAMARIE HERA          72         4272348   \n",
       "2          3  english   GARRICK SHATISHA         150         6183602   \n",
       "3          4  english     ADRIELLE NELLI          27         6822469   \n",
       "4          5  english  ANNASTASIA HERARD         191         7229498   \n",
       "\n",
       "      patient_status time_accepted time_booked time_finished time_started   \n",
       "0  under appointment         13:30     2:00 PM       5:10 PM      3:10 PM  \\\n",
       "1   new consultation         10:15    10:45 AM      12:45 PM     11:45 AM   \n",
       "2   new consultation          8:45     9:35 AM      12:15 PM     10:35 AM   \n",
       "3  appointed session         13:15     1:55 PM       4:35 PM      2:45 PM   \n",
       "4   new consultation          9:00     9:30 AM      11:20 AM     10:30 AM   \n",
       "\n",
       "   transaction_reference  \n",
       "0                      1  \n",
       "1                      2  \n",
       "2                      3  \n",
       "3                      4  \n",
       "4                      5  "
      ]
     },
     "execution_count": 92,
     "metadata": {},
     "output_type": "execute_result"
    }
   ],
   "source": [
    "consultation_dataframe.head()"
   ]
  },
  {
   "cell_type": "code",
   "execution_count": 93,
   "metadata": {},
   "outputs": [],
   "source": [
    "# cleaned consultation dataset\n",
    "consultation_dataframe.to_csv('cleaned_consultation.csv', index=False)"
   ]
  },
  {
   "attachments": {},
   "cell_type": "markdown",
   "metadata": {},
   "source": [
    "### Create the new simulated dataset via merg"
   ]
  },
  {
   "cell_type": "code",
   "execution_count": 94,
   "metadata": {},
   "outputs": [],
   "source": [
    "# Calculate variable age using variable date_of_birth in the patient_dataframe\n",
    "\n",
    "from datetime import datetime\n",
    "\n",
    "# Convert date_of_birth column to datetime\n",
    "patient_dataframe['date_of_birth'] = pd.to_datetime(patient_dataframe['date_of_birth'])\n",
    "\n",
    "# Calculate age by subtracting date_of_birth from current date\n",
    "patient_dataframe['age'] = (datetime.now() - patient_dataframe['date_of_birth']) // pd.Timedelta(days=365)\n"
   ]
  },
  {
   "cell_type": "code",
   "execution_count": 95,
   "metadata": {},
   "outputs": [
    {
     "data": {
      "text/html": [
       "<div>\n",
       "<style scoped>\n",
       "    .dataframe tbody tr th:only-of-type {\n",
       "        vertical-align: middle;\n",
       "    }\n",
       "\n",
       "    .dataframe tbody tr th {\n",
       "        vertical-align: top;\n",
       "    }\n",
       "\n",
       "    .dataframe thead th {\n",
       "        text-align: right;\n",
       "    }\n",
       "</style>\n",
       "<table border=\"1\" class=\"dataframe\">\n",
       "  <thead>\n",
       "    <tr style=\"text-align: right;\">\n",
       "      <th></th>\n",
       "      <th>patient_id</th>\n",
       "      <th>address</th>\n",
       "      <th>blood_type</th>\n",
       "      <th>closest_hospital</th>\n",
       "      <th>community</th>\n",
       "      <th>country</th>\n",
       "      <th>date_of_birth</th>\n",
       "      <th>first_name</th>\n",
       "      <th>gender</th>\n",
       "      <th>has_children</th>\n",
       "      <th>...</th>\n",
       "      <th>post_code</th>\n",
       "      <th>preferred_language</th>\n",
       "      <th>purpose_of_visit</th>\n",
       "      <th>state</th>\n",
       "      <th>sur_name</th>\n",
       "      <th>title</th>\n",
       "      <th>user_id</th>\n",
       "      <th>weight</th>\n",
       "      <th>hospital_id</th>\n",
       "      <th>age</th>\n",
       "    </tr>\n",
       "  </thead>\n",
       "  <tbody>\n",
       "    <tr>\n",
       "      <th>0</th>\n",
       "      <td>1</td>\n",
       "      <td>Ap #266-429 Velit St.</td>\n",
       "      <td>AB+</td>\n",
       "      <td>Blue Cross Hospital</td>\n",
       "      <td>suburban</td>\n",
       "      <td>nigeria</td>\n",
       "      <td>2009-04-13</td>\n",
       "      <td>ACRA</td>\n",
       "      <td>Female</td>\n",
       "      <td>Yes</td>\n",
       "      <td>...</td>\n",
       "      <td>10201</td>\n",
       "      <td>english</td>\n",
       "      <td>medical examination</td>\n",
       "      <td>Lagos</td>\n",
       "      <td>SMITH</td>\n",
       "      <td>Mrs.</td>\n",
       "      <td>1</td>\n",
       "      <td>69</td>\n",
       "      <td>1</td>\n",
       "      <td>14</td>\n",
       "    </tr>\n",
       "    <tr>\n",
       "      <th>1</th>\n",
       "      <td>2</td>\n",
       "      <td>315-4283 Nam Street</td>\n",
       "      <td>O-</td>\n",
       "      <td>Krown Hospital</td>\n",
       "      <td>suburban</td>\n",
       "      <td>nigeria</td>\n",
       "      <td>2011-07-08</td>\n",
       "      <td>ADOLPH</td>\n",
       "      <td>Male</td>\n",
       "      <td>Yes</td>\n",
       "      <td>...</td>\n",
       "      <td>12224</td>\n",
       "      <td>english</td>\n",
       "      <td>medical examination</td>\n",
       "      <td>Lagos</td>\n",
       "      <td>NEILON</td>\n",
       "      <td>Mr.</td>\n",
       "      <td>2</td>\n",
       "      <td>80</td>\n",
       "      <td>1</td>\n",
       "      <td>11</td>\n",
       "    </tr>\n",
       "    <tr>\n",
       "      <th>2</th>\n",
       "      <td>3</td>\n",
       "      <td>921-1491 Nonummy Ave</td>\n",
       "      <td>A-</td>\n",
       "      <td>Ave Maria Hospital</td>\n",
       "      <td>suburban</td>\n",
       "      <td>nigeria</td>\n",
       "      <td>2000-12-30</td>\n",
       "      <td>ANKI</td>\n",
       "      <td>Male</td>\n",
       "      <td>Yes</td>\n",
       "      <td>...</td>\n",
       "      <td>53510</td>\n",
       "      <td>english</td>\n",
       "      <td>medical examination</td>\n",
       "      <td>Lagos</td>\n",
       "      <td>HENDRI</td>\n",
       "      <td>Mr.</td>\n",
       "      <td>3</td>\n",
       "      <td>67</td>\n",
       "      <td>1</td>\n",
       "      <td>22</td>\n",
       "    </tr>\n",
       "    <tr>\n",
       "      <th>3</th>\n",
       "      <td>4</td>\n",
       "      <td>Ap #299-4324 Mauris Avenue</td>\n",
       "      <td>O-</td>\n",
       "      <td>Isolo General Hospital</td>\n",
       "      <td>urban</td>\n",
       "      <td>nigeria</td>\n",
       "      <td>1987-09-15</td>\n",
       "      <td>GARBO</td>\n",
       "      <td>Male</td>\n",
       "      <td>No</td>\n",
       "      <td>...</td>\n",
       "      <td>25193</td>\n",
       "      <td>english</td>\n",
       "      <td>medical examination</td>\n",
       "      <td>Lagos</td>\n",
       "      <td>SHARRON</td>\n",
       "      <td>Mr.</td>\n",
       "      <td>4</td>\n",
       "      <td>74</td>\n",
       "      <td>1</td>\n",
       "      <td>35</td>\n",
       "    </tr>\n",
       "    <tr>\n",
       "      <th>4</th>\n",
       "      <td>5</td>\n",
       "      <td>P.O. Box 913, 6976 Magnis Rd.</td>\n",
       "      <td>O-</td>\n",
       "      <td>Lagoon Hospitals</td>\n",
       "      <td>rural</td>\n",
       "      <td>nigeria</td>\n",
       "      <td>2002-10-10</td>\n",
       "      <td>ADONAI</td>\n",
       "      <td>Female</td>\n",
       "      <td>No</td>\n",
       "      <td>...</td>\n",
       "      <td>37171</td>\n",
       "      <td>english</td>\n",
       "      <td>medical examination</td>\n",
       "      <td>Lagos</td>\n",
       "      <td>NEIVA</td>\n",
       "      <td>Ms.</td>\n",
       "      <td>5</td>\n",
       "      <td>62</td>\n",
       "      <td>1</td>\n",
       "      <td>20</td>\n",
       "    </tr>\n",
       "  </tbody>\n",
       "</table>\n",
       "<p>5 rows × 27 columns</p>\n",
       "</div>"
      ],
      "text/plain": [
       "   patient_id                        address blood_type   \n",
       "0           1          Ap #266-429 Velit St.        AB+  \\\n",
       "1           2            315-4283 Nam Street         O-   \n",
       "2           3           921-1491 Nonummy Ave         A-   \n",
       "3           4     Ap #299-4324 Mauris Avenue         O-   \n",
       "4           5  P.O. Box 913, 6976 Magnis Rd.         O-   \n",
       "\n",
       "         closest_hospital community  country date_of_birth first_name  gender   \n",
       "0     Blue Cross Hospital  suburban  nigeria    2009-04-13       ACRA  Female  \\\n",
       "1          Krown Hospital  suburban  nigeria    2011-07-08     ADOLPH    Male   \n",
       "2      Ave Maria Hospital  suburban  nigeria    2000-12-30       ANKI    Male   \n",
       "3  Isolo General Hospital     urban  nigeria    1987-09-15      GARBO    Male   \n",
       "4        Lagoon Hospitals     rural  nigeria    2002-10-10     ADONAI  Female   \n",
       "\n",
       "  has_children  ... post_code  preferred_language     purpose_of_visit  state   \n",
       "0          Yes  ...     10201             english  medical examination  Lagos  \\\n",
       "1          Yes  ...     12224             english  medical examination  Lagos   \n",
       "2          Yes  ...     53510             english  medical examination  Lagos   \n",
       "3           No  ...     25193             english  medical examination  Lagos   \n",
       "4           No  ...     37171             english  medical examination  Lagos   \n",
       "\n",
       "   sur_name  title  user_id  weight hospital_id age  \n",
       "0     SMITH   Mrs.        1      69           1  14  \n",
       "1    NEILON    Mr.        2      80           1  11  \n",
       "2    HENDRI    Mr.        3      67           1  22  \n",
       "3   SHARRON    Mr.        4      74           1  35  \n",
       "4     NEIVA    Ms.        5      62           1  20  \n",
       "\n",
       "[5 rows x 27 columns]"
      ]
     },
     "execution_count": 95,
     "metadata": {},
     "output_type": "execute_result"
    }
   ],
   "source": [
    "patient_dataframe.head()"
   ]
  },
  {
   "cell_type": "code",
   "execution_count": 96,
   "metadata": {},
   "outputs": [],
   "source": [
    "# Calculate variable years_of_experience using variable graduation_date in doctor_dataframe\n",
    "\n",
    "# Convert graduation_date column to datetime\n",
    "doctor_dataframe['graduation_date'] = pd.to_datetime(doctor_dataframe['graduation_date'])\n",
    "\n",
    "# Calculate years_of_experience by subtracting graduation_date from current date\n",
    "doctor_dataframe['years_of_experience'] = (datetime.now() - doctor_dataframe['graduation_date']) // pd.Timedelta(days=365)"
   ]
  },
  {
   "cell_type": "code",
   "execution_count": 97,
   "metadata": {},
   "outputs": [
    {
     "data": {
      "text/html": [
       "<div>\n",
       "<style scoped>\n",
       "    .dataframe tbody tr th:only-of-type {\n",
       "        vertical-align: middle;\n",
       "    }\n",
       "\n",
       "    .dataframe tbody tr th {\n",
       "        vertical-align: top;\n",
       "    }\n",
       "\n",
       "    .dataframe thead th {\n",
       "        text-align: right;\n",
       "    }\n",
       "</style>\n",
       "<table border=\"1\" class=\"dataframe\">\n",
       "  <thead>\n",
       "    <tr style=\"text-align: right;\">\n",
       "      <th></th>\n",
       "      <th>doctor_id</th>\n",
       "      <th>approved</th>\n",
       "      <th>city</th>\n",
       "      <th>date_of_birth</th>\n",
       "      <th>dependant_stand_by</th>\n",
       "      <th>full_name</th>\n",
       "      <th>doctor_gender</th>\n",
       "      <th>graduation_date</th>\n",
       "      <th>is_student</th>\n",
       "      <th>marital_status</th>\n",
       "      <th>...</th>\n",
       "      <th>national_identification_number</th>\n",
       "      <th>office_address</th>\n",
       "      <th>reference_doctor_email</th>\n",
       "      <th>reference_doctor_full_name</th>\n",
       "      <th>reference_doctor_phone_number</th>\n",
       "      <th>state</th>\n",
       "      <th>student_number</th>\n",
       "      <th>system_status</th>\n",
       "      <th>title</th>\n",
       "      <th>years_of_experience</th>\n",
       "    </tr>\n",
       "  </thead>\n",
       "  <tbody>\n",
       "    <tr>\n",
       "      <th>0</th>\n",
       "      <td>1</td>\n",
       "      <td>Yes</td>\n",
       "      <td>Lagos</td>\n",
       "      <td>8/5/1972</td>\n",
       "      <td>1</td>\n",
       "      <td>ACRA SMITH</td>\n",
       "      <td>Male</td>\n",
       "      <td>2019-09-06</td>\n",
       "      <td>No</td>\n",
       "      <td>Married</td>\n",
       "      <td>...</td>\n",
       "      <td>1122458</td>\n",
       "      <td>618-3434 Sagittis Av.</td>\n",
       "      <td>acrasmith@gmail.com</td>\n",
       "      <td>ACRA SMITH</td>\n",
       "      <td>53488888</td>\n",
       "      <td>Lagos</td>\n",
       "      <td>2710</td>\n",
       "      <td>very good</td>\n",
       "      <td>Mr.</td>\n",
       "      <td>3</td>\n",
       "    </tr>\n",
       "    <tr>\n",
       "      <th>1</th>\n",
       "      <td>2</td>\n",
       "      <td>Yes</td>\n",
       "      <td>Lagos</td>\n",
       "      <td>7/12/1989</td>\n",
       "      <td>2</td>\n",
       "      <td>ADOLPH NEILON</td>\n",
       "      <td>Female</td>\n",
       "      <td>2006-06-25</td>\n",
       "      <td>Yes</td>\n",
       "      <td>Married</td>\n",
       "      <td>...</td>\n",
       "      <td>4563751</td>\n",
       "      <td>405-9892 Ultrices Rd.</td>\n",
       "      <td>adolphneilon@gmail.com</td>\n",
       "      <td>ADOLPH NEILON</td>\n",
       "      <td>50989139</td>\n",
       "      <td>Lagos</td>\n",
       "      <td>5370</td>\n",
       "      <td>good</td>\n",
       "      <td>Ms.</td>\n",
       "      <td>16</td>\n",
       "    </tr>\n",
       "    <tr>\n",
       "      <th>2</th>\n",
       "      <td>3</td>\n",
       "      <td>Yes</td>\n",
       "      <td>Lagos</td>\n",
       "      <td>9/30/1965</td>\n",
       "      <td>1</td>\n",
       "      <td>ANKI HENDRI</td>\n",
       "      <td>Male</td>\n",
       "      <td>2008-12-20</td>\n",
       "      <td>Yes</td>\n",
       "      <td>Married</td>\n",
       "      <td>...</td>\n",
       "      <td>1877514</td>\n",
       "      <td>Ap #561-9293 Sociis St.</td>\n",
       "      <td>ankihendri@gmail.com</td>\n",
       "      <td>ANKI HENDRI</td>\n",
       "      <td>42144921</td>\n",
       "      <td>Lagos</td>\n",
       "      <td>6696</td>\n",
       "      <td>excellent</td>\n",
       "      <td>Mr.</td>\n",
       "      <td>14</td>\n",
       "    </tr>\n",
       "    <tr>\n",
       "      <th>3</th>\n",
       "      <td>4</td>\n",
       "      <td>Yes</td>\n",
       "      <td>Lagos</td>\n",
       "      <td>8/12/1964</td>\n",
       "      <td>1</td>\n",
       "      <td>GARBO SHARRON</td>\n",
       "      <td>Male</td>\n",
       "      <td>2013-08-22</td>\n",
       "      <td>No</td>\n",
       "      <td>Married</td>\n",
       "      <td>...</td>\n",
       "      <td>2513477</td>\n",
       "      <td>Ap #381-3175 Sed, Street</td>\n",
       "      <td>garbosharron@gmail.com</td>\n",
       "      <td>GARBO SHARRON</td>\n",
       "      <td>52477143</td>\n",
       "      <td>Lagos</td>\n",
       "      <td>4343</td>\n",
       "      <td>fair</td>\n",
       "      <td>Mr.</td>\n",
       "      <td>9</td>\n",
       "    </tr>\n",
       "    <tr>\n",
       "      <th>4</th>\n",
       "      <td>5</td>\n",
       "      <td>Yes</td>\n",
       "      <td>Lagos</td>\n",
       "      <td>12/5/1963</td>\n",
       "      <td>0</td>\n",
       "      <td>ADONAI NEIVA</td>\n",
       "      <td>Female</td>\n",
       "      <td>2021-12-28</td>\n",
       "      <td>No</td>\n",
       "      <td>Married</td>\n",
       "      <td>...</td>\n",
       "      <td>3463224</td>\n",
       "      <td>Ap #230-5566 Amet, St.</td>\n",
       "      <td>adonaineiva@gmail.com</td>\n",
       "      <td>ADONAI NEIVA</td>\n",
       "      <td>29517478</td>\n",
       "      <td>Lagos</td>\n",
       "      <td>4300</td>\n",
       "      <td>very good</td>\n",
       "      <td>Ms.</td>\n",
       "      <td>1</td>\n",
       "    </tr>\n",
       "  </tbody>\n",
       "</table>\n",
       "<p>5 rows × 22 columns</p>\n",
       "</div>"
      ],
      "text/plain": [
       "   doctor_id approved   city date_of_birth  dependant_stand_by      full_name   \n",
       "0          1      Yes  Lagos      8/5/1972                   1     ACRA SMITH  \\\n",
       "1          2      Yes  Lagos     7/12/1989                   2  ADOLPH NEILON   \n",
       "2          3      Yes  Lagos     9/30/1965                   1    ANKI HENDRI   \n",
       "3          4      Yes  Lagos     8/12/1964                   1  GARBO SHARRON   \n",
       "4          5      Yes  Lagos     12/5/1963                   0   ADONAI NEIVA   \n",
       "\n",
       "  doctor_gender graduation_date is_student marital_status  ...   \n",
       "0          Male      2019-09-06         No        Married  ...  \\\n",
       "1        Female      2006-06-25        Yes        Married  ...   \n",
       "2          Male      2008-12-20        Yes        Married  ...   \n",
       "3          Male      2013-08-22         No        Married  ...   \n",
       "4        Female      2021-12-28         No        Married  ...   \n",
       "\n",
       "   national_identification_number            office_address   \n",
       "0                         1122458     618-3434 Sagittis Av.  \\\n",
       "1                         4563751     405-9892 Ultrices Rd.   \n",
       "2                         1877514   Ap #561-9293 Sociis St.   \n",
       "3                         2513477  Ap #381-3175 Sed, Street   \n",
       "4                         3463224    Ap #230-5566 Amet, St.   \n",
       "\n",
       "   reference_doctor_email reference_doctor_full_name   \n",
       "0     acrasmith@gmail.com                 ACRA SMITH  \\\n",
       "1  adolphneilon@gmail.com              ADOLPH NEILON   \n",
       "2    ankihendri@gmail.com                ANKI HENDRI   \n",
       "3  garbosharron@gmail.com              GARBO SHARRON   \n",
       "4   adonaineiva@gmail.com               ADONAI NEIVA   \n",
       "\n",
       "  reference_doctor_phone_number  state  student_number system_status  title   \n",
       "0                      53488888  Lagos            2710     very good    Mr.  \\\n",
       "1                      50989139  Lagos            5370          good    Ms.   \n",
       "2                      42144921  Lagos            6696     excellent    Mr.   \n",
       "3                      52477143  Lagos            4343          fair    Mr.   \n",
       "4                      29517478  Lagos            4300     very good    Ms.   \n",
       "\n",
       "  years_of_experience  \n",
       "0                   3  \n",
       "1                  16  \n",
       "2                  14  \n",
       "3                   9  \n",
       "4                   1  \n",
       "\n",
       "[5 rows x 22 columns]"
      ]
     },
     "execution_count": 97,
     "metadata": {},
     "output_type": "execute_result"
    }
   ],
   "source": [
    "doctor_dataframe.head()"
   ]
  },
  {
   "cell_type": "code",
   "execution_count": 98,
   "metadata": {},
   "outputs": [
    {
     "data": {
      "text/plain": [
       "(520, 15)"
      ]
     },
     "execution_count": 98,
     "metadata": {},
     "output_type": "execute_result"
    }
   ],
   "source": [
    "# Merging patient_datafram and doctor_datafram to consultation_dataframe\n",
    "patient_consultation = pd.merge(consultation_dataframe[['id', 'consultation_cost', 'patient_body_area', 'patient_status', 'patient_id', 'doctor_id']], \n",
    "                                patient_dataframe[[\"patient_id\", 'community', 'marital_status', 'has_children', 'has_dependent', 'num_of_children', 'num_of_dependents', \"age\", \"gender\"]], on=\"patient_id\", how=\"left\")\n",
    "doctor_patient_consultation = pd.merge(patient_consultation, doctor_dataframe[[\"doctor_id\", \"years_of_experience\"]], on=\"doctor_id\", how=\"left\")\n",
    "doctor_patient_consultation.shape"
   ]
  },
  {
   "cell_type": "code",
   "execution_count": 99,
   "metadata": {},
   "outputs": [
    {
     "data": {
      "text/html": [
       "<div>\n",
       "<style scoped>\n",
       "    .dataframe tbody tr th:only-of-type {\n",
       "        vertical-align: middle;\n",
       "    }\n",
       "\n",
       "    .dataframe tbody tr th {\n",
       "        vertical-align: top;\n",
       "    }\n",
       "\n",
       "    .dataframe thead th {\n",
       "        text-align: right;\n",
       "    }\n",
       "</style>\n",
       "<table border=\"1\" class=\"dataframe\">\n",
       "  <thead>\n",
       "    <tr style=\"text-align: right;\">\n",
       "      <th></th>\n",
       "      <th>id</th>\n",
       "      <th>consultation_cost</th>\n",
       "      <th>patient_body_area</th>\n",
       "      <th>patient_status</th>\n",
       "      <th>patient_id</th>\n",
       "      <th>doctor_id</th>\n",
       "      <th>community</th>\n",
       "      <th>marital_status</th>\n",
       "      <th>has_children</th>\n",
       "      <th>has_dependent</th>\n",
       "      <th>num_of_children</th>\n",
       "      <th>num_of_dependents</th>\n",
       "      <th>age</th>\n",
       "      <th>gender</th>\n",
       "      <th>years_of_experience</th>\n",
       "    </tr>\n",
       "  </thead>\n",
       "  <tbody>\n",
       "    <tr>\n",
       "      <th>0</th>\n",
       "      <td>1</td>\n",
       "      <td>1900</td>\n",
       "      <td>legs</td>\n",
       "      <td>under appointment</td>\n",
       "      <td>100</td>\n",
       "      <td>1</td>\n",
       "      <td>suburban</td>\n",
       "      <td>Divorced</td>\n",
       "      <td>Yes</td>\n",
       "      <td>No</td>\n",
       "      <td>4</td>\n",
       "      <td>3</td>\n",
       "      <td>29</td>\n",
       "      <td>Female</td>\n",
       "      <td>3</td>\n",
       "    </tr>\n",
       "    <tr>\n",
       "      <th>1</th>\n",
       "      <td>2</td>\n",
       "      <td>9100</td>\n",
       "      <td>chest area</td>\n",
       "      <td>new consultation</td>\n",
       "      <td>72</td>\n",
       "      <td>2</td>\n",
       "      <td>rural</td>\n",
       "      <td>Married</td>\n",
       "      <td>No</td>\n",
       "      <td>Yes</td>\n",
       "      <td>3</td>\n",
       "      <td>2</td>\n",
       "      <td>12</td>\n",
       "      <td>Female</td>\n",
       "      <td>16</td>\n",
       "    </tr>\n",
       "    <tr>\n",
       "      <th>2</th>\n",
       "      <td>3</td>\n",
       "      <td>8200</td>\n",
       "      <td>head</td>\n",
       "      <td>new consultation</td>\n",
       "      <td>150</td>\n",
       "      <td>3</td>\n",
       "      <td>rural</td>\n",
       "      <td>Married</td>\n",
       "      <td>Yes</td>\n",
       "      <td>Yes</td>\n",
       "      <td>2</td>\n",
       "      <td>1</td>\n",
       "      <td>35</td>\n",
       "      <td>Male</td>\n",
       "      <td>14</td>\n",
       "    </tr>\n",
       "    <tr>\n",
       "      <th>3</th>\n",
       "      <td>4</td>\n",
       "      <td>5600</td>\n",
       "      <td>back</td>\n",
       "      <td>appointed session</td>\n",
       "      <td>27</td>\n",
       "      <td>4</td>\n",
       "      <td>rural</td>\n",
       "      <td>Married</td>\n",
       "      <td>Yes</td>\n",
       "      <td>No</td>\n",
       "      <td>2</td>\n",
       "      <td>1</td>\n",
       "      <td>25</td>\n",
       "      <td>Female</td>\n",
       "      <td>9</td>\n",
       "    </tr>\n",
       "    <tr>\n",
       "      <th>4</th>\n",
       "      <td>5</td>\n",
       "      <td>1200</td>\n",
       "      <td>stomach</td>\n",
       "      <td>new consultation</td>\n",
       "      <td>191</td>\n",
       "      <td>5</td>\n",
       "      <td>suburban</td>\n",
       "      <td>Single</td>\n",
       "      <td>No</td>\n",
       "      <td>Yes</td>\n",
       "      <td>1</td>\n",
       "      <td>1</td>\n",
       "      <td>39</td>\n",
       "      <td>Female</td>\n",
       "      <td>1</td>\n",
       "    </tr>\n",
       "  </tbody>\n",
       "</table>\n",
       "</div>"
      ],
      "text/plain": [
       "   id  consultation_cost patient_body_area     patient_status  patient_id   \n",
       "0   1               1900              legs  under appointment         100  \\\n",
       "1   2               9100        chest area   new consultation          72   \n",
       "2   3               8200              head   new consultation         150   \n",
       "3   4               5600              back  appointed session          27   \n",
       "4   5               1200           stomach   new consultation         191   \n",
       "\n",
       "   doctor_id community marital_status has_children has_dependent   \n",
       "0          1  suburban       Divorced          Yes            No  \\\n",
       "1          2     rural        Married           No           Yes   \n",
       "2          3     rural        Married          Yes           Yes   \n",
       "3          4     rural        Married          Yes            No   \n",
       "4          5  suburban         Single           No           Yes   \n",
       "\n",
       "   num_of_children  num_of_dependents  age  gender  years_of_experience  \n",
       "0                4                  3   29  Female                    3  \n",
       "1                3                  2   12  Female                   16  \n",
       "2                2                  1   35    Male                   14  \n",
       "3                2                  1   25  Female                    9  \n",
       "4                1                  1   39  Female                    1  "
      ]
     },
     "execution_count": 99,
     "metadata": {},
     "output_type": "execute_result"
    }
   ],
   "source": [
    "doctor_patient_consultation.head()"
   ]
  },
  {
   "attachments": {},
   "cell_type": "markdown",
   "metadata": {},
   "source": [
    "#### The Simulated dataframe"
   ]
  },
  {
   "cell_type": "code",
   "execution_count": 100,
   "metadata": {},
   "outputs": [
    {
     "data": {
      "text/plain": [
       "(520, 13)"
      ]
     },
     "execution_count": 100,
     "metadata": {},
     "output_type": "execute_result"
    }
   ],
   "source": [
    "simulated_dataframe = doctor_patient_consultation.drop([\"doctor_id\", \"patient_id\"], axis=1)\n",
    "\n",
    "# Renaming variables\n",
    "simulated_dataframe=pd.DataFrame({'consult_id':doctor_patient_consultation['id'], 'consult_cost':doctor_patient_consultation['consultation_cost'] , 'patient_anatomy':doctor_patient_consultation['patient_body_area'],\n",
    "                         'patient_consult_status':doctor_patient_consultation['patient_status'], 'patient_community':doctor_patient_consultation['community'], 'patient_marital_status':doctor_patient_consultation['marital_status'], \n",
    "                         'patient_has_children':doctor_patient_consultation['has_children'], 'patient_has_dependent':doctor_patient_consultation['has_dependent'], 'patient_num_of_children':doctor_patient_consultation['num_of_children'], \n",
    "                         'patient_num_of_dependents':doctor_patient_consultation['num_of_dependents'], 'patient_age':doctor_patient_consultation['age'], 'patient_gender':doctor_patient_consultation['gender'], \n",
    "                         'consultant_doctor_experience':doctor_patient_consultation['years_of_experience']})\n",
    "\n",
    "simulated_dataframe.shape"
   ]
  },
  {
   "cell_type": "code",
   "execution_count": 101,
   "metadata": {},
   "outputs": [],
   "source": [
    "# The simulated dataset\n",
    "simulated_dataframe.to_csv('simulated_data.csv', index=False)"
   ]
  },
  {
   "cell_type": "code",
   "execution_count": 102,
   "metadata": {},
   "outputs": [
    {
     "data": {
      "text/plain": [
       "(520, 12)"
      ]
     },
     "execution_count": 102,
     "metadata": {},
     "output_type": "execute_result"
    }
   ],
   "source": [
    "simulated_dataframe=pd.read_csv('simulated_data.csv', index_col='consult_id')\n",
    "simulated_dataframe.shape"
   ]
  },
  {
   "cell_type": "code",
   "execution_count": 103,
   "metadata": {},
   "outputs": [
    {
     "data": {
      "text/html": [
       "<div>\n",
       "<style scoped>\n",
       "    .dataframe tbody tr th:only-of-type {\n",
       "        vertical-align: middle;\n",
       "    }\n",
       "\n",
       "    .dataframe tbody tr th {\n",
       "        vertical-align: top;\n",
       "    }\n",
       "\n",
       "    .dataframe thead th {\n",
       "        text-align: right;\n",
       "    }\n",
       "</style>\n",
       "<table border=\"1\" class=\"dataframe\">\n",
       "  <thead>\n",
       "    <tr style=\"text-align: right;\">\n",
       "      <th></th>\n",
       "      <th>consult_cost</th>\n",
       "      <th>patient_anatomy</th>\n",
       "      <th>patient_consult_status</th>\n",
       "      <th>patient_community</th>\n",
       "      <th>patient_marital_status</th>\n",
       "      <th>patient_has_children</th>\n",
       "      <th>patient_has_dependent</th>\n",
       "      <th>patient_num_of_children</th>\n",
       "      <th>patient_num_of_dependents</th>\n",
       "      <th>patient_age</th>\n",
       "      <th>patient_gender</th>\n",
       "      <th>consultant_doctor_experience</th>\n",
       "    </tr>\n",
       "    <tr>\n",
       "      <th>consult_id</th>\n",
       "      <th></th>\n",
       "      <th></th>\n",
       "      <th></th>\n",
       "      <th></th>\n",
       "      <th></th>\n",
       "      <th></th>\n",
       "      <th></th>\n",
       "      <th></th>\n",
       "      <th></th>\n",
       "      <th></th>\n",
       "      <th></th>\n",
       "      <th></th>\n",
       "    </tr>\n",
       "  </thead>\n",
       "  <tbody>\n",
       "    <tr>\n",
       "      <th>1</th>\n",
       "      <td>1900</td>\n",
       "      <td>legs</td>\n",
       "      <td>under appointment</td>\n",
       "      <td>suburban</td>\n",
       "      <td>Divorced</td>\n",
       "      <td>Yes</td>\n",
       "      <td>No</td>\n",
       "      <td>4</td>\n",
       "      <td>3</td>\n",
       "      <td>29</td>\n",
       "      <td>Female</td>\n",
       "      <td>3</td>\n",
       "    </tr>\n",
       "    <tr>\n",
       "      <th>2</th>\n",
       "      <td>9100</td>\n",
       "      <td>chest area</td>\n",
       "      <td>new consultation</td>\n",
       "      <td>rural</td>\n",
       "      <td>Married</td>\n",
       "      <td>No</td>\n",
       "      <td>Yes</td>\n",
       "      <td>3</td>\n",
       "      <td>2</td>\n",
       "      <td>12</td>\n",
       "      <td>Female</td>\n",
       "      <td>16</td>\n",
       "    </tr>\n",
       "    <tr>\n",
       "      <th>3</th>\n",
       "      <td>8200</td>\n",
       "      <td>head</td>\n",
       "      <td>new consultation</td>\n",
       "      <td>rural</td>\n",
       "      <td>Married</td>\n",
       "      <td>Yes</td>\n",
       "      <td>Yes</td>\n",
       "      <td>2</td>\n",
       "      <td>1</td>\n",
       "      <td>35</td>\n",
       "      <td>Male</td>\n",
       "      <td>14</td>\n",
       "    </tr>\n",
       "    <tr>\n",
       "      <th>4</th>\n",
       "      <td>5600</td>\n",
       "      <td>back</td>\n",
       "      <td>appointed session</td>\n",
       "      <td>rural</td>\n",
       "      <td>Married</td>\n",
       "      <td>Yes</td>\n",
       "      <td>No</td>\n",
       "      <td>2</td>\n",
       "      <td>1</td>\n",
       "      <td>25</td>\n",
       "      <td>Female</td>\n",
       "      <td>9</td>\n",
       "    </tr>\n",
       "    <tr>\n",
       "      <th>5</th>\n",
       "      <td>1200</td>\n",
       "      <td>stomach</td>\n",
       "      <td>new consultation</td>\n",
       "      <td>suburban</td>\n",
       "      <td>Single</td>\n",
       "      <td>No</td>\n",
       "      <td>Yes</td>\n",
       "      <td>1</td>\n",
       "      <td>1</td>\n",
       "      <td>39</td>\n",
       "      <td>Female</td>\n",
       "      <td>1</td>\n",
       "    </tr>\n",
       "  </tbody>\n",
       "</table>\n",
       "</div>"
      ],
      "text/plain": [
       "            consult_cost patient_anatomy patient_consult_status   \n",
       "consult_id                                                        \n",
       "1                   1900            legs      under appointment  \\\n",
       "2                   9100      chest area       new consultation   \n",
       "3                   8200            head       new consultation   \n",
       "4                   5600            back      appointed session   \n",
       "5                   1200         stomach       new consultation   \n",
       "\n",
       "           patient_community patient_marital_status patient_has_children   \n",
       "consult_id                                                                 \n",
       "1                   suburban               Divorced                  Yes  \\\n",
       "2                      rural                Married                   No   \n",
       "3                      rural                Married                  Yes   \n",
       "4                      rural                Married                  Yes   \n",
       "5                   suburban                 Single                   No   \n",
       "\n",
       "           patient_has_dependent  patient_num_of_children   \n",
       "consult_id                                                  \n",
       "1                             No                        4  \\\n",
       "2                            Yes                        3   \n",
       "3                            Yes                        2   \n",
       "4                             No                        2   \n",
       "5                            Yes                        1   \n",
       "\n",
       "            patient_num_of_dependents  patient_age patient_gender   \n",
       "consult_id                                                          \n",
       "1                                   3           29         Female  \\\n",
       "2                                   2           12         Female   \n",
       "3                                   1           35           Male   \n",
       "4                                   1           25         Female   \n",
       "5                                   1           39         Female   \n",
       "\n",
       "            consultant_doctor_experience  \n",
       "consult_id                                \n",
       "1                                      3  \n",
       "2                                     16  \n",
       "3                                     14  \n",
       "4                                      9  \n",
       "5                                      1  "
      ]
     },
     "execution_count": 103,
     "metadata": {},
     "output_type": "execute_result"
    }
   ],
   "source": [
    "simulated_dataframe.head()"
   ]
  },
  {
   "cell_type": "code",
   "execution_count": 104,
   "metadata": {},
   "outputs": [
    {
     "name": "stdout",
     "output_type": "stream",
     "text": [
      "<class 'pandas.core.frame.DataFrame'>\n",
      "Index: 520 entries, 1 to 520\n",
      "Data columns (total 12 columns):\n",
      " #   Column                        Non-Null Count  Dtype \n",
      "---  ------                        --------------  ----- \n",
      " 0   consult_cost                  520 non-null    int64 \n",
      " 1   patient_anatomy               520 non-null    object\n",
      " 2   patient_consult_status        520 non-null    object\n",
      " 3   patient_community             520 non-null    object\n",
      " 4   patient_marital_status        520 non-null    object\n",
      " 5   patient_has_children          520 non-null    object\n",
      " 6   patient_has_dependent         520 non-null    object\n",
      " 7   patient_num_of_children       520 non-null    int64 \n",
      " 8   patient_num_of_dependents     520 non-null    int64 \n",
      " 9   patient_age                   520 non-null    int64 \n",
      " 10  patient_gender                520 non-null    object\n",
      " 11  consultant_doctor_experience  520 non-null    int64 \n",
      "dtypes: int64(5), object(7)\n",
      "memory usage: 52.8+ KB\n"
     ]
    }
   ],
   "source": [
    "simulated_dataframe.info()"
   ]
  },
  {
   "attachments": {},
   "cell_type": "markdown",
   "metadata": {},
   "source": [
    "#### Transform the catagorical features to dummy-variable format"
   ]
  },
  {
   "cell_type": "code",
   "execution_count": 105,
   "metadata": {},
   "outputs": [
    {
     "name": "stdout",
     "output_type": "stream",
     "text": [
      "['legs' 'chest area' 'head' 'back' 'stomach' 'upper chest area' 'shoulder']\n",
      "['under appointment' 'new consultation' 'appointed session' 'admitted']\n",
      "['suburban' 'rural' 'urban']\n",
      "['Divorced' 'Married' 'Single']\n",
      "['Yes' 'No']\n",
      "['No' 'Yes']\n",
      "['Female' 'Male']\n"
     ]
    }
   ],
   "source": [
    "print(simulated_dataframe['patient_anatomy'].unique())\n",
    "print(simulated_dataframe['patient_consult_status'].unique())\n",
    "print(simulated_dataframe['patient_community'].unique())\n",
    "print(simulated_dataframe['patient_marital_status'].unique())\n",
    "print(simulated_dataframe['patient_has_children'].unique())\n",
    "print(simulated_dataframe['patient_has_dependent'].unique())\n",
    "print(simulated_dataframe['patient_gender'].unique())"
   ]
  },
  {
   "cell_type": "code",
   "execution_count": 106,
   "metadata": {},
   "outputs": [],
   "source": [
    "simulated_dataframe = pd.concat([simulated_dataframe, pd.get_dummies(simulated_dataframe['patient_anatomy'], prefix='patient_anatomy', drop_first=True)],axis=1)\n",
    "simulated_dataframe = pd.concat([simulated_dataframe, pd.get_dummies(simulated_dataframe['patient_consult_status'], prefix='patient_consult_status', drop_first=True)],axis=1)\n",
    "simulated_dataframe = pd.concat([simulated_dataframe, pd.get_dummies(simulated_dataframe['patient_community'], prefix='patient_community', drop_first=True)],axis=1)\n",
    "simulated_dataframe = pd.concat([simulated_dataframe, pd.get_dummies(simulated_dataframe['patient_marital_status'], prefix='patient_marital_status', drop_first=True)],axis=1)\n",
    "simulated_dataframe = pd.concat([simulated_dataframe, pd.get_dummies(simulated_dataframe['patient_has_children'], prefix='patient_has_children', drop_first=True)],axis=1)\n",
    "simulated_dataframe = pd.concat([simulated_dataframe, pd.get_dummies(simulated_dataframe['patient_has_dependent'], prefix='patient_has_dependent', drop_first=True)],axis=1)\n",
    "simulated_dataframe = pd.concat([simulated_dataframe, pd.get_dummies(simulated_dataframe['patient_gender'], prefix='patient_gender', drop_first=True)],axis=1)\n",
    "simulated_dataframe.drop(['patient_anatomy','patient_consult_status','patient_community', 'patient_marital_status', 'patient_has_children', 'patient_has_dependent', 'patient_gender' ], axis=1, inplace=True)"
   ]
  },
  {
   "cell_type": "code",
   "execution_count": 107,
   "metadata": {},
   "outputs": [
    {
     "data": {
      "text/html": [
       "<div>\n",
       "<style scoped>\n",
       "    .dataframe tbody tr th:only-of-type {\n",
       "        vertical-align: middle;\n",
       "    }\n",
       "\n",
       "    .dataframe tbody tr th {\n",
       "        vertical-align: top;\n",
       "    }\n",
       "\n",
       "    .dataframe thead th {\n",
       "        text-align: right;\n",
       "    }\n",
       "</style>\n",
       "<table border=\"1\" class=\"dataframe\">\n",
       "  <thead>\n",
       "    <tr style=\"text-align: right;\">\n",
       "      <th></th>\n",
       "      <th>consult_cost</th>\n",
       "      <th>patient_num_of_children</th>\n",
       "      <th>patient_num_of_dependents</th>\n",
       "      <th>patient_age</th>\n",
       "      <th>consultant_doctor_experience</th>\n",
       "      <th>patient_anatomy_chest area</th>\n",
       "      <th>patient_anatomy_head</th>\n",
       "      <th>patient_anatomy_legs</th>\n",
       "      <th>patient_anatomy_shoulder</th>\n",
       "      <th>patient_anatomy_stomach</th>\n",
       "      <th>...</th>\n",
       "      <th>patient_consult_status_appointed session</th>\n",
       "      <th>patient_consult_status_new consultation</th>\n",
       "      <th>patient_consult_status_under appointment</th>\n",
       "      <th>patient_community_suburban</th>\n",
       "      <th>patient_community_urban</th>\n",
       "      <th>patient_marital_status_Married</th>\n",
       "      <th>patient_marital_status_Single</th>\n",
       "      <th>patient_has_children_Yes</th>\n",
       "      <th>patient_has_dependent_Yes</th>\n",
       "      <th>patient_gender_Male</th>\n",
       "    </tr>\n",
       "    <tr>\n",
       "      <th>consult_id</th>\n",
       "      <th></th>\n",
       "      <th></th>\n",
       "      <th></th>\n",
       "      <th></th>\n",
       "      <th></th>\n",
       "      <th></th>\n",
       "      <th></th>\n",
       "      <th></th>\n",
       "      <th></th>\n",
       "      <th></th>\n",
       "      <th></th>\n",
       "      <th></th>\n",
       "      <th></th>\n",
       "      <th></th>\n",
       "      <th></th>\n",
       "      <th></th>\n",
       "      <th></th>\n",
       "      <th></th>\n",
       "      <th></th>\n",
       "      <th></th>\n",
       "      <th></th>\n",
       "    </tr>\n",
       "  </thead>\n",
       "  <tbody>\n",
       "    <tr>\n",
       "      <th>1</th>\n",
       "      <td>1900</td>\n",
       "      <td>4</td>\n",
       "      <td>3</td>\n",
       "      <td>29</td>\n",
       "      <td>3</td>\n",
       "      <td>False</td>\n",
       "      <td>False</td>\n",
       "      <td>True</td>\n",
       "      <td>False</td>\n",
       "      <td>False</td>\n",
       "      <td>...</td>\n",
       "      <td>False</td>\n",
       "      <td>False</td>\n",
       "      <td>True</td>\n",
       "      <td>True</td>\n",
       "      <td>False</td>\n",
       "      <td>False</td>\n",
       "      <td>False</td>\n",
       "      <td>True</td>\n",
       "      <td>False</td>\n",
       "      <td>False</td>\n",
       "    </tr>\n",
       "    <tr>\n",
       "      <th>2</th>\n",
       "      <td>9100</td>\n",
       "      <td>3</td>\n",
       "      <td>2</td>\n",
       "      <td>12</td>\n",
       "      <td>16</td>\n",
       "      <td>True</td>\n",
       "      <td>False</td>\n",
       "      <td>False</td>\n",
       "      <td>False</td>\n",
       "      <td>False</td>\n",
       "      <td>...</td>\n",
       "      <td>False</td>\n",
       "      <td>True</td>\n",
       "      <td>False</td>\n",
       "      <td>False</td>\n",
       "      <td>False</td>\n",
       "      <td>True</td>\n",
       "      <td>False</td>\n",
       "      <td>False</td>\n",
       "      <td>True</td>\n",
       "      <td>False</td>\n",
       "    </tr>\n",
       "    <tr>\n",
       "      <th>3</th>\n",
       "      <td>8200</td>\n",
       "      <td>2</td>\n",
       "      <td>1</td>\n",
       "      <td>35</td>\n",
       "      <td>14</td>\n",
       "      <td>False</td>\n",
       "      <td>True</td>\n",
       "      <td>False</td>\n",
       "      <td>False</td>\n",
       "      <td>False</td>\n",
       "      <td>...</td>\n",
       "      <td>False</td>\n",
       "      <td>True</td>\n",
       "      <td>False</td>\n",
       "      <td>False</td>\n",
       "      <td>False</td>\n",
       "      <td>True</td>\n",
       "      <td>False</td>\n",
       "      <td>True</td>\n",
       "      <td>True</td>\n",
       "      <td>True</td>\n",
       "    </tr>\n",
       "    <tr>\n",
       "      <th>4</th>\n",
       "      <td>5600</td>\n",
       "      <td>2</td>\n",
       "      <td>1</td>\n",
       "      <td>25</td>\n",
       "      <td>9</td>\n",
       "      <td>False</td>\n",
       "      <td>False</td>\n",
       "      <td>False</td>\n",
       "      <td>False</td>\n",
       "      <td>False</td>\n",
       "      <td>...</td>\n",
       "      <td>True</td>\n",
       "      <td>False</td>\n",
       "      <td>False</td>\n",
       "      <td>False</td>\n",
       "      <td>False</td>\n",
       "      <td>True</td>\n",
       "      <td>False</td>\n",
       "      <td>True</td>\n",
       "      <td>False</td>\n",
       "      <td>False</td>\n",
       "    </tr>\n",
       "    <tr>\n",
       "      <th>5</th>\n",
       "      <td>1200</td>\n",
       "      <td>1</td>\n",
       "      <td>1</td>\n",
       "      <td>39</td>\n",
       "      <td>1</td>\n",
       "      <td>False</td>\n",
       "      <td>False</td>\n",
       "      <td>False</td>\n",
       "      <td>False</td>\n",
       "      <td>True</td>\n",
       "      <td>...</td>\n",
       "      <td>False</td>\n",
       "      <td>True</td>\n",
       "      <td>False</td>\n",
       "      <td>True</td>\n",
       "      <td>False</td>\n",
       "      <td>False</td>\n",
       "      <td>True</td>\n",
       "      <td>False</td>\n",
       "      <td>True</td>\n",
       "      <td>False</td>\n",
       "    </tr>\n",
       "  </tbody>\n",
       "</table>\n",
       "<p>5 rows × 21 columns</p>\n",
       "</div>"
      ],
      "text/plain": [
       "            consult_cost  patient_num_of_children  patient_num_of_dependents   \n",
       "consult_id                                                                     \n",
       "1                   1900                        4                          3  \\\n",
       "2                   9100                        3                          2   \n",
       "3                   8200                        2                          1   \n",
       "4                   5600                        2                          1   \n",
       "5                   1200                        1                          1   \n",
       "\n",
       "            patient_age  consultant_doctor_experience   \n",
       "consult_id                                              \n",
       "1                    29                             3  \\\n",
       "2                    12                            16   \n",
       "3                    35                            14   \n",
       "4                    25                             9   \n",
       "5                    39                             1   \n",
       "\n",
       "            patient_anatomy_chest area  patient_anatomy_head   \n",
       "consult_id                                                     \n",
       "1                                False                 False  \\\n",
       "2                                 True                 False   \n",
       "3                                False                  True   \n",
       "4                                False                 False   \n",
       "5                                False                 False   \n",
       "\n",
       "            patient_anatomy_legs  patient_anatomy_shoulder   \n",
       "consult_id                                                   \n",
       "1                           True                     False  \\\n",
       "2                          False                     False   \n",
       "3                          False                     False   \n",
       "4                          False                     False   \n",
       "5                          False                     False   \n",
       "\n",
       "            patient_anatomy_stomach  ...   \n",
       "consult_id                           ...   \n",
       "1                             False  ...  \\\n",
       "2                             False  ...   \n",
       "3                             False  ...   \n",
       "4                             False  ...   \n",
       "5                              True  ...   \n",
       "\n",
       "            patient_consult_status_appointed session   \n",
       "consult_id                                             \n",
       "1                                              False  \\\n",
       "2                                              False   \n",
       "3                                              False   \n",
       "4                                               True   \n",
       "5                                              False   \n",
       "\n",
       "            patient_consult_status_new consultation   \n",
       "consult_id                                            \n",
       "1                                             False  \\\n",
       "2                                              True   \n",
       "3                                              True   \n",
       "4                                             False   \n",
       "5                                              True   \n",
       "\n",
       "            patient_consult_status_under appointment   \n",
       "consult_id                                             \n",
       "1                                               True  \\\n",
       "2                                              False   \n",
       "3                                              False   \n",
       "4                                              False   \n",
       "5                                              False   \n",
       "\n",
       "            patient_community_suburban  patient_community_urban   \n",
       "consult_id                                                        \n",
       "1                                 True                    False  \\\n",
       "2                                False                    False   \n",
       "3                                False                    False   \n",
       "4                                False                    False   \n",
       "5                                 True                    False   \n",
       "\n",
       "            patient_marital_status_Married  patient_marital_status_Single   \n",
       "consult_id                                                                  \n",
       "1                                    False                          False  \\\n",
       "2                                     True                          False   \n",
       "3                                     True                          False   \n",
       "4                                     True                          False   \n",
       "5                                    False                           True   \n",
       "\n",
       "            patient_has_children_Yes  patient_has_dependent_Yes   \n",
       "consult_id                                                        \n",
       "1                               True                      False  \\\n",
       "2                              False                       True   \n",
       "3                               True                       True   \n",
       "4                               True                      False   \n",
       "5                              False                       True   \n",
       "\n",
       "            patient_gender_Male  \n",
       "consult_id                       \n",
       "1                         False  \n",
       "2                         False  \n",
       "3                          True  \n",
       "4                         False  \n",
       "5                         False  \n",
       "\n",
       "[5 rows x 21 columns]"
      ]
     },
     "execution_count": 107,
     "metadata": {},
     "output_type": "execute_result"
    }
   ],
   "source": [
    "simulated_dataframe.head()"
   ]
  },
  {
   "cell_type": "code",
   "execution_count": 108,
   "metadata": {},
   "outputs": [
    {
     "data": {
      "text/plain": [
       "(520, 21)"
      ]
     },
     "execution_count": 108,
     "metadata": {},
     "output_type": "execute_result"
    }
   ],
   "source": [
    "simulated_dataframe.shape"
   ]
  },
  {
   "attachments": {},
   "cell_type": "markdown",
   "metadata": {},
   "source": [
    "#### Describe or summarize "
   ]
  },
  {
   "cell_type": "code",
   "execution_count": 109,
   "metadata": {},
   "outputs": [
    {
     "data": {
      "text/html": [
       "<div>\n",
       "<style scoped>\n",
       "    .dataframe tbody tr th:only-of-type {\n",
       "        vertical-align: middle;\n",
       "    }\n",
       "\n",
       "    .dataframe tbody tr th {\n",
       "        vertical-align: top;\n",
       "    }\n",
       "\n",
       "    .dataframe thead th {\n",
       "        text-align: right;\n",
       "    }\n",
       "</style>\n",
       "<table border=\"1\" class=\"dataframe\">\n",
       "  <thead>\n",
       "    <tr style=\"text-align: right;\">\n",
       "      <th></th>\n",
       "      <th>consult_cost</th>\n",
       "      <th>patient_num_of_children</th>\n",
       "      <th>patient_num_of_dependents</th>\n",
       "      <th>patient_age</th>\n",
       "      <th>consultant_doctor_experience</th>\n",
       "    </tr>\n",
       "  </thead>\n",
       "  <tbody>\n",
       "    <tr>\n",
       "      <th>count</th>\n",
       "      <td>520.000000</td>\n",
       "      <td>520.000000</td>\n",
       "      <td>520.000000</td>\n",
       "      <td>520.000000</td>\n",
       "      <td>520.000000</td>\n",
       "    </tr>\n",
       "    <tr>\n",
       "      <th>mean</th>\n",
       "      <td>5439.807692</td>\n",
       "      <td>1.984615</td>\n",
       "      <td>1.988462</td>\n",
       "      <td>24.882692</td>\n",
       "      <td>8.940385</td>\n",
       "    </tr>\n",
       "    <tr>\n",
       "      <th>std</th>\n",
       "      <td>2814.354199</td>\n",
       "      <td>1.267556</td>\n",
       "      <td>1.325553</td>\n",
       "      <td>8.722421</td>\n",
       "      <td>5.074617</td>\n",
       "    </tr>\n",
       "    <tr>\n",
       "      <th>min</th>\n",
       "      <td>1100.000000</td>\n",
       "      <td>0.000000</td>\n",
       "      <td>0.000000</td>\n",
       "      <td>10.000000</td>\n",
       "      <td>1.000000</td>\n",
       "    </tr>\n",
       "    <tr>\n",
       "      <th>25%</th>\n",
       "      <td>2900.000000</td>\n",
       "      <td>1.000000</td>\n",
       "      <td>1.000000</td>\n",
       "      <td>17.000000</td>\n",
       "      <td>4.000000</td>\n",
       "    </tr>\n",
       "    <tr>\n",
       "      <th>50%</th>\n",
       "      <td>5350.000000</td>\n",
       "      <td>2.000000</td>\n",
       "      <td>2.000000</td>\n",
       "      <td>24.500000</td>\n",
       "      <td>8.000000</td>\n",
       "    </tr>\n",
       "    <tr>\n",
       "      <th>75%</th>\n",
       "      <td>8000.000000</td>\n",
       "      <td>3.000000</td>\n",
       "      <td>3.000000</td>\n",
       "      <td>32.000000</td>\n",
       "      <td>14.000000</td>\n",
       "    </tr>\n",
       "    <tr>\n",
       "      <th>max</th>\n",
       "      <td>10700.000000</td>\n",
       "      <td>4.000000</td>\n",
       "      <td>4.000000</td>\n",
       "      <td>40.000000</td>\n",
       "      <td>18.000000</td>\n",
       "    </tr>\n",
       "  </tbody>\n",
       "</table>\n",
       "</div>"
      ],
      "text/plain": [
       "       consult_cost  patient_num_of_children  patient_num_of_dependents   \n",
       "count    520.000000               520.000000                 520.000000  \\\n",
       "mean    5439.807692                 1.984615                   1.988462   \n",
       "std     2814.354199                 1.267556                   1.325553   \n",
       "min     1100.000000                 0.000000                   0.000000   \n",
       "25%     2900.000000                 1.000000                   1.000000   \n",
       "50%     5350.000000                 2.000000                   2.000000   \n",
       "75%     8000.000000                 3.000000                   3.000000   \n",
       "max    10700.000000                 4.000000                   4.000000   \n",
       "\n",
       "       patient_age  consultant_doctor_experience  \n",
       "count   520.000000                    520.000000  \n",
       "mean     24.882692                      8.940385  \n",
       "std       8.722421                      5.074617  \n",
       "min      10.000000                      1.000000  \n",
       "25%      17.000000                      4.000000  \n",
       "50%      24.500000                      8.000000  \n",
       "75%      32.000000                     14.000000  \n",
       "max      40.000000                     18.000000  "
      ]
     },
     "execution_count": 109,
     "metadata": {},
     "output_type": "execute_result"
    }
   ],
   "source": [
    "simulated_dataframe.describe()"
   ]
  },
  {
   "cell_type": "code",
   "execution_count": 110,
   "metadata": {},
   "outputs": [
    {
     "data": {
      "application/vnd.plotly.v1+json": {
       "config": {
        "plotlyServerURL": "https://plot.ly"
       },
       "data": [
        {
         "alignmentgroup": "True",
         "bingroup": "x",
         "hovertemplate": "consult_cost=%{x}<br>count=%{y}<extra></extra>",
         "legendgroup": "",
         "marker": {
          "color": "#636efa",
          "pattern": {
           "shape": ""
          }
         },
         "name": "",
         "offsetgroup": "",
         "orientation": "v",
         "showlegend": false,
         "type": "histogram",
         "x": [
          1900,
          9100,
          8200,
          5600,
          1200,
          2800,
          7300,
          3300,
          6000,
          4700,
          1200,
          8400,
          7300,
          5400,
          9400,
          9400,
          5200,
          7700,
          4400,
          8900,
          3300,
          1800,
          1200,
          8400,
          1700,
          9100,
          1100,
          7300,
          8900,
          8200,
          5900,
          6800,
          2500,
          6400,
          8300,
          1700,
          3300,
          5600,
          2100,
          7900,
          3300,
          3800,
          9300,
          3500,
          2500,
          7800,
          3400,
          2600,
          7700,
          10500,
          8300,
          3000,
          1300,
          7600,
          8900,
          4000,
          1400,
          4000,
          8900,
          1300,
          1500,
          5300,
          9300,
          1300,
          3300,
          7200,
          4100,
          4700,
          6600,
          1800,
          9200,
          7000,
          9900,
          5300,
          2100,
          5200,
          8300,
          6900,
          4000,
          7600,
          6800,
          9300,
          9300,
          4700,
          5200,
          3300,
          3300,
          4200,
          9600,
          1900,
          6600,
          7700,
          4500,
          8000,
          8200,
          9900,
          8400,
          6900,
          4500,
          5200,
          10500,
          4700,
          3800,
          1100,
          9700,
          7800,
          7200,
          8300,
          4100,
          2900,
          2200,
          5400,
          4600,
          9600,
          5900,
          8300,
          4000,
          3300,
          5600,
          2200,
          2200,
          8400,
          5400,
          1200,
          8700,
          6600,
          2000,
          9900,
          10200,
          9600,
          9100,
          2500,
          1800,
          3800,
          8200,
          3500,
          6800,
          8700,
          2400,
          6900,
          1400,
          9900,
          5700,
          5300,
          1100,
          1400,
          1300,
          1200,
          1400,
          3000,
          1300,
          1100,
          7300,
          2100,
          7900,
          5900,
          2100,
          2200,
          6300,
          6400,
          6400,
          1500,
          6300,
          1400,
          8400,
          1400,
          1700,
          5300,
          7400,
          8400,
          8700,
          4100,
          4500,
          8300,
          2600,
          2400,
          9300,
          4000,
          6200,
          4800,
          1400,
          6800,
          7200,
          5300,
          7200,
          6400,
          7900,
          7300,
          8800,
          1300,
          5300,
          10200,
          1500,
          5300,
          8800,
          2500,
          3300,
          5200,
          4900,
          2000,
          9300,
          8400,
          6000,
          1100,
          2700,
          7200,
          3500,
          6000,
          4900,
          1400,
          8200,
          7400,
          5200,
          9100,
          9400,
          5300,
          7800,
          5000,
          8700,
          3500,
          1700,
          1300,
          8300,
          2100,
          9400,
          1200,
          7300,
          8800,
          8200,
          5900,
          6900,
          2400,
          6300,
          8400,
          2200,
          3300,
          5900,
          1800,
          7900,
          3500,
          4200,
          9100,
          3400,
          2700,
          7700,
          3400,
          2500,
          7800,
          10200,
          8300,
          2700,
          1300,
          7700,
          8600,
          3800,
          1500,
          4200,
          8700,
          1100,
          1300,
          5300,
          9400,
          1400,
          3400,
          7200,
          4200,
          4900,
          6200,
          2200,
          9100,
          6800,
          9600,
          5200,
          1900,
          5400,
          8200,
          6800,
          4000,
          7900,
          6800,
          9200,
          9400,
          4800,
          5200,
          3500,
          3300,
          4100,
          9600,
          1700,
          6300,
          8000,
          4500,
          7600,
          8200,
          9600,
          8400,
          6800,
          4500,
          5400,
          10500,
          5000,
          3900,
          1300,
          9600,
          8000,
          7300,
          8300,
          3900,
          2900,
          1700,
          5200,
          4500,
          9900,
          5600,
          8400,
          4200,
          3500,
          5800,
          2000,
          2100,
          8300,
          5300,
          1200,
          8800,
          6300,
          1700,
          9800,
          10300,
          9800,
          9100,
          2400,
          2100,
          4100,
          8400,
          3300,
          7000,
          8800,
          2900,
          6800,
          1300,
          9800,
          5700,
          5400,
          1400,
          1400,
          1100,
          1500,
          1500,
          3000,
          1400,
          1300,
          7200,
          1700,
          8000,
          6000,
          2100,
          1900,
          6400,
          6400,
          6600,
          1100,
          6600,
          1400,
          8200,
          1400,
          2100,
          5400,
          7300,
          8200,
          8800,
          4200,
          5000,
          8400,
          3000,
          2800,
          9400,
          4200,
          6400,
          4900,
          1300,
          6800,
          7300,
          5300,
          7300,
          6300,
          7600,
          7200,
          8600,
          1500,
          5400,
          10200,
          1500,
          5300,
          8800,
          2700,
          3300,
          5400,
          4800,
          1300,
          1200,
          8200,
          4400,
          8400,
          2500,
          8000,
          9900,
          1400,
          1200,
          7400,
          1500,
          4500,
          2900,
          1800,
          9300,
          8300,
          5800,
          1300,
          3000,
          7300,
          3400,
          5800,
          4800,
          1300,
          8400,
          7200,
          5200,
          9300,
          9100,
          5400,
          8000,
          5000,
          8900,
          3400,
          1700,
          1500,
          8400,
          2200,
          9400,
          1100,
          7200,
          8600,
          8400,
          5700,
          6800,
          2400,
          6300,
          8300,
          1700,
          3300,
          5800,
          1700,
          7700,
          3500,
          4100,
          9200,
          3300,
          2400,
          7700,
          3400,
          2400,
          7700,
          10700,
          8200,
          2600,
          1300,
          7900,
          8900,
          4000,
          1500,
          3800,
          8600,
          1400,
          1300,
          5300,
          9300,
          1200,
          3500,
          7400,
          3800,
          4400,
          6600,
          2100,
          9200,
          7000,
          9800,
          5200,
          2100,
          5300,
          8200,
          7000,
          4200,
          7600,
          7000,
          9200,
          9100,
          4700,
          5200,
          3500,
          3400,
          4000,
          9800,
          1700,
          6400,
          8000,
          4900,
          7600,
          8200,
          9800,
          8300,
          6900,
          5000,
          5300,
          10400,
          4600,
          4200,
          1200,
          9700,
          7900,
          7400,
          8400
         ],
         "xaxis": "x",
         "yaxis": "y"
        },
        {
         "alignmentgroup": "True",
         "hovertemplate": "consult_cost=%{x}<extra></extra>",
         "legendgroup": "",
         "marker": {
          "color": "#636efa"
         },
         "name": "",
         "notched": true,
         "offsetgroup": "",
         "showlegend": false,
         "type": "box",
         "x": [
          1900,
          9100,
          8200,
          5600,
          1200,
          2800,
          7300,
          3300,
          6000,
          4700,
          1200,
          8400,
          7300,
          5400,
          9400,
          9400,
          5200,
          7700,
          4400,
          8900,
          3300,
          1800,
          1200,
          8400,
          1700,
          9100,
          1100,
          7300,
          8900,
          8200,
          5900,
          6800,
          2500,
          6400,
          8300,
          1700,
          3300,
          5600,
          2100,
          7900,
          3300,
          3800,
          9300,
          3500,
          2500,
          7800,
          3400,
          2600,
          7700,
          10500,
          8300,
          3000,
          1300,
          7600,
          8900,
          4000,
          1400,
          4000,
          8900,
          1300,
          1500,
          5300,
          9300,
          1300,
          3300,
          7200,
          4100,
          4700,
          6600,
          1800,
          9200,
          7000,
          9900,
          5300,
          2100,
          5200,
          8300,
          6900,
          4000,
          7600,
          6800,
          9300,
          9300,
          4700,
          5200,
          3300,
          3300,
          4200,
          9600,
          1900,
          6600,
          7700,
          4500,
          8000,
          8200,
          9900,
          8400,
          6900,
          4500,
          5200,
          10500,
          4700,
          3800,
          1100,
          9700,
          7800,
          7200,
          8300,
          4100,
          2900,
          2200,
          5400,
          4600,
          9600,
          5900,
          8300,
          4000,
          3300,
          5600,
          2200,
          2200,
          8400,
          5400,
          1200,
          8700,
          6600,
          2000,
          9900,
          10200,
          9600,
          9100,
          2500,
          1800,
          3800,
          8200,
          3500,
          6800,
          8700,
          2400,
          6900,
          1400,
          9900,
          5700,
          5300,
          1100,
          1400,
          1300,
          1200,
          1400,
          3000,
          1300,
          1100,
          7300,
          2100,
          7900,
          5900,
          2100,
          2200,
          6300,
          6400,
          6400,
          1500,
          6300,
          1400,
          8400,
          1400,
          1700,
          5300,
          7400,
          8400,
          8700,
          4100,
          4500,
          8300,
          2600,
          2400,
          9300,
          4000,
          6200,
          4800,
          1400,
          6800,
          7200,
          5300,
          7200,
          6400,
          7900,
          7300,
          8800,
          1300,
          5300,
          10200,
          1500,
          5300,
          8800,
          2500,
          3300,
          5200,
          4900,
          2000,
          9300,
          8400,
          6000,
          1100,
          2700,
          7200,
          3500,
          6000,
          4900,
          1400,
          8200,
          7400,
          5200,
          9100,
          9400,
          5300,
          7800,
          5000,
          8700,
          3500,
          1700,
          1300,
          8300,
          2100,
          9400,
          1200,
          7300,
          8800,
          8200,
          5900,
          6900,
          2400,
          6300,
          8400,
          2200,
          3300,
          5900,
          1800,
          7900,
          3500,
          4200,
          9100,
          3400,
          2700,
          7700,
          3400,
          2500,
          7800,
          10200,
          8300,
          2700,
          1300,
          7700,
          8600,
          3800,
          1500,
          4200,
          8700,
          1100,
          1300,
          5300,
          9400,
          1400,
          3400,
          7200,
          4200,
          4900,
          6200,
          2200,
          9100,
          6800,
          9600,
          5200,
          1900,
          5400,
          8200,
          6800,
          4000,
          7900,
          6800,
          9200,
          9400,
          4800,
          5200,
          3500,
          3300,
          4100,
          9600,
          1700,
          6300,
          8000,
          4500,
          7600,
          8200,
          9600,
          8400,
          6800,
          4500,
          5400,
          10500,
          5000,
          3900,
          1300,
          9600,
          8000,
          7300,
          8300,
          3900,
          2900,
          1700,
          5200,
          4500,
          9900,
          5600,
          8400,
          4200,
          3500,
          5800,
          2000,
          2100,
          8300,
          5300,
          1200,
          8800,
          6300,
          1700,
          9800,
          10300,
          9800,
          9100,
          2400,
          2100,
          4100,
          8400,
          3300,
          7000,
          8800,
          2900,
          6800,
          1300,
          9800,
          5700,
          5400,
          1400,
          1400,
          1100,
          1500,
          1500,
          3000,
          1400,
          1300,
          7200,
          1700,
          8000,
          6000,
          2100,
          1900,
          6400,
          6400,
          6600,
          1100,
          6600,
          1400,
          8200,
          1400,
          2100,
          5400,
          7300,
          8200,
          8800,
          4200,
          5000,
          8400,
          3000,
          2800,
          9400,
          4200,
          6400,
          4900,
          1300,
          6800,
          7300,
          5300,
          7300,
          6300,
          7600,
          7200,
          8600,
          1500,
          5400,
          10200,
          1500,
          5300,
          8800,
          2700,
          3300,
          5400,
          4800,
          1300,
          1200,
          8200,
          4400,
          8400,
          2500,
          8000,
          9900,
          1400,
          1200,
          7400,
          1500,
          4500,
          2900,
          1800,
          9300,
          8300,
          5800,
          1300,
          3000,
          7300,
          3400,
          5800,
          4800,
          1300,
          8400,
          7200,
          5200,
          9300,
          9100,
          5400,
          8000,
          5000,
          8900,
          3400,
          1700,
          1500,
          8400,
          2200,
          9400,
          1100,
          7200,
          8600,
          8400,
          5700,
          6800,
          2400,
          6300,
          8300,
          1700,
          3300,
          5800,
          1700,
          7700,
          3500,
          4100,
          9200,
          3300,
          2400,
          7700,
          3400,
          2400,
          7700,
          10700,
          8200,
          2600,
          1300,
          7900,
          8900,
          4000,
          1500,
          3800,
          8600,
          1400,
          1300,
          5300,
          9300,
          1200,
          3500,
          7400,
          3800,
          4400,
          6600,
          2100,
          9200,
          7000,
          9800,
          5200,
          2100,
          5300,
          8200,
          7000,
          4200,
          7600,
          7000,
          9200,
          9100,
          4700,
          5200,
          3500,
          3400,
          4000,
          9800,
          1700,
          6400,
          8000,
          4900,
          7600,
          8200,
          9800,
          8300,
          6900,
          5000,
          5300,
          10400,
          4600,
          4200,
          1200,
          9700,
          7900,
          7400,
          8400
         ],
         "xaxis": "x2",
         "yaxis": "y2"
        }
       ],
       "layout": {
        "barmode": "relative",
        "legend": {
         "tracegroupgap": 0
        },
        "margin": {
         "t": 60
        },
        "template": {
         "data": {
          "bar": [
           {
            "error_x": {
             "color": "#2a3f5f"
            },
            "error_y": {
             "color": "#2a3f5f"
            },
            "marker": {
             "line": {
              "color": "#E5ECF6",
              "width": 0.5
             },
             "pattern": {
              "fillmode": "overlay",
              "size": 10,
              "solidity": 0.2
             }
            },
            "type": "bar"
           }
          ],
          "barpolar": [
           {
            "marker": {
             "line": {
              "color": "#E5ECF6",
              "width": 0.5
             },
             "pattern": {
              "fillmode": "overlay",
              "size": 10,
              "solidity": 0.2
             }
            },
            "type": "barpolar"
           }
          ],
          "carpet": [
           {
            "aaxis": {
             "endlinecolor": "#2a3f5f",
             "gridcolor": "white",
             "linecolor": "white",
             "minorgridcolor": "white",
             "startlinecolor": "#2a3f5f"
            },
            "baxis": {
             "endlinecolor": "#2a3f5f",
             "gridcolor": "white",
             "linecolor": "white",
             "minorgridcolor": "white",
             "startlinecolor": "#2a3f5f"
            },
            "type": "carpet"
           }
          ],
          "choropleth": [
           {
            "colorbar": {
             "outlinewidth": 0,
             "ticks": ""
            },
            "type": "choropleth"
           }
          ],
          "contour": [
           {
            "colorbar": {
             "outlinewidth": 0,
             "ticks": ""
            },
            "colorscale": [
             [
              0,
              "#0d0887"
             ],
             [
              0.1111111111111111,
              "#46039f"
             ],
             [
              0.2222222222222222,
              "#7201a8"
             ],
             [
              0.3333333333333333,
              "#9c179e"
             ],
             [
              0.4444444444444444,
              "#bd3786"
             ],
             [
              0.5555555555555556,
              "#d8576b"
             ],
             [
              0.6666666666666666,
              "#ed7953"
             ],
             [
              0.7777777777777778,
              "#fb9f3a"
             ],
             [
              0.8888888888888888,
              "#fdca26"
             ],
             [
              1,
              "#f0f921"
             ]
            ],
            "type": "contour"
           }
          ],
          "contourcarpet": [
           {
            "colorbar": {
             "outlinewidth": 0,
             "ticks": ""
            },
            "type": "contourcarpet"
           }
          ],
          "heatmap": [
           {
            "colorbar": {
             "outlinewidth": 0,
             "ticks": ""
            },
            "colorscale": [
             [
              0,
              "#0d0887"
             ],
             [
              0.1111111111111111,
              "#46039f"
             ],
             [
              0.2222222222222222,
              "#7201a8"
             ],
             [
              0.3333333333333333,
              "#9c179e"
             ],
             [
              0.4444444444444444,
              "#bd3786"
             ],
             [
              0.5555555555555556,
              "#d8576b"
             ],
             [
              0.6666666666666666,
              "#ed7953"
             ],
             [
              0.7777777777777778,
              "#fb9f3a"
             ],
             [
              0.8888888888888888,
              "#fdca26"
             ],
             [
              1,
              "#f0f921"
             ]
            ],
            "type": "heatmap"
           }
          ],
          "heatmapgl": [
           {
            "colorbar": {
             "outlinewidth": 0,
             "ticks": ""
            },
            "colorscale": [
             [
              0,
              "#0d0887"
             ],
             [
              0.1111111111111111,
              "#46039f"
             ],
             [
              0.2222222222222222,
              "#7201a8"
             ],
             [
              0.3333333333333333,
              "#9c179e"
             ],
             [
              0.4444444444444444,
              "#bd3786"
             ],
             [
              0.5555555555555556,
              "#d8576b"
             ],
             [
              0.6666666666666666,
              "#ed7953"
             ],
             [
              0.7777777777777778,
              "#fb9f3a"
             ],
             [
              0.8888888888888888,
              "#fdca26"
             ],
             [
              1,
              "#f0f921"
             ]
            ],
            "type": "heatmapgl"
           }
          ],
          "histogram": [
           {
            "marker": {
             "pattern": {
              "fillmode": "overlay",
              "size": 10,
              "solidity": 0.2
             }
            },
            "type": "histogram"
           }
          ],
          "histogram2d": [
           {
            "colorbar": {
             "outlinewidth": 0,
             "ticks": ""
            },
            "colorscale": [
             [
              0,
              "#0d0887"
             ],
             [
              0.1111111111111111,
              "#46039f"
             ],
             [
              0.2222222222222222,
              "#7201a8"
             ],
             [
              0.3333333333333333,
              "#9c179e"
             ],
             [
              0.4444444444444444,
              "#bd3786"
             ],
             [
              0.5555555555555556,
              "#d8576b"
             ],
             [
              0.6666666666666666,
              "#ed7953"
             ],
             [
              0.7777777777777778,
              "#fb9f3a"
             ],
             [
              0.8888888888888888,
              "#fdca26"
             ],
             [
              1,
              "#f0f921"
             ]
            ],
            "type": "histogram2d"
           }
          ],
          "histogram2dcontour": [
           {
            "colorbar": {
             "outlinewidth": 0,
             "ticks": ""
            },
            "colorscale": [
             [
              0,
              "#0d0887"
             ],
             [
              0.1111111111111111,
              "#46039f"
             ],
             [
              0.2222222222222222,
              "#7201a8"
             ],
             [
              0.3333333333333333,
              "#9c179e"
             ],
             [
              0.4444444444444444,
              "#bd3786"
             ],
             [
              0.5555555555555556,
              "#d8576b"
             ],
             [
              0.6666666666666666,
              "#ed7953"
             ],
             [
              0.7777777777777778,
              "#fb9f3a"
             ],
             [
              0.8888888888888888,
              "#fdca26"
             ],
             [
              1,
              "#f0f921"
             ]
            ],
            "type": "histogram2dcontour"
           }
          ],
          "mesh3d": [
           {
            "colorbar": {
             "outlinewidth": 0,
             "ticks": ""
            },
            "type": "mesh3d"
           }
          ],
          "parcoords": [
           {
            "line": {
             "colorbar": {
              "outlinewidth": 0,
              "ticks": ""
             }
            },
            "type": "parcoords"
           }
          ],
          "pie": [
           {
            "automargin": true,
            "type": "pie"
           }
          ],
          "scatter": [
           {
            "fillpattern": {
             "fillmode": "overlay",
             "size": 10,
             "solidity": 0.2
            },
            "type": "scatter"
           }
          ],
          "scatter3d": [
           {
            "line": {
             "colorbar": {
              "outlinewidth": 0,
              "ticks": ""
             }
            },
            "marker": {
             "colorbar": {
              "outlinewidth": 0,
              "ticks": ""
             }
            },
            "type": "scatter3d"
           }
          ],
          "scattercarpet": [
           {
            "marker": {
             "colorbar": {
              "outlinewidth": 0,
              "ticks": ""
             }
            },
            "type": "scattercarpet"
           }
          ],
          "scattergeo": [
           {
            "marker": {
             "colorbar": {
              "outlinewidth": 0,
              "ticks": ""
             }
            },
            "type": "scattergeo"
           }
          ],
          "scattergl": [
           {
            "marker": {
             "colorbar": {
              "outlinewidth": 0,
              "ticks": ""
             }
            },
            "type": "scattergl"
           }
          ],
          "scattermapbox": [
           {
            "marker": {
             "colorbar": {
              "outlinewidth": 0,
              "ticks": ""
             }
            },
            "type": "scattermapbox"
           }
          ],
          "scatterpolar": [
           {
            "marker": {
             "colorbar": {
              "outlinewidth": 0,
              "ticks": ""
             }
            },
            "type": "scatterpolar"
           }
          ],
          "scatterpolargl": [
           {
            "marker": {
             "colorbar": {
              "outlinewidth": 0,
              "ticks": ""
             }
            },
            "type": "scatterpolargl"
           }
          ],
          "scatterternary": [
           {
            "marker": {
             "colorbar": {
              "outlinewidth": 0,
              "ticks": ""
             }
            },
            "type": "scatterternary"
           }
          ],
          "surface": [
           {
            "colorbar": {
             "outlinewidth": 0,
             "ticks": ""
            },
            "colorscale": [
             [
              0,
              "#0d0887"
             ],
             [
              0.1111111111111111,
              "#46039f"
             ],
             [
              0.2222222222222222,
              "#7201a8"
             ],
             [
              0.3333333333333333,
              "#9c179e"
             ],
             [
              0.4444444444444444,
              "#bd3786"
             ],
             [
              0.5555555555555556,
              "#d8576b"
             ],
             [
              0.6666666666666666,
              "#ed7953"
             ],
             [
              0.7777777777777778,
              "#fb9f3a"
             ],
             [
              0.8888888888888888,
              "#fdca26"
             ],
             [
              1,
              "#f0f921"
             ]
            ],
            "type": "surface"
           }
          ],
          "table": [
           {
            "cells": {
             "fill": {
              "color": "#EBF0F8"
             },
             "line": {
              "color": "white"
             }
            },
            "header": {
             "fill": {
              "color": "#C8D4E3"
             },
             "line": {
              "color": "white"
             }
            },
            "type": "table"
           }
          ]
         },
         "layout": {
          "annotationdefaults": {
           "arrowcolor": "#2a3f5f",
           "arrowhead": 0,
           "arrowwidth": 1
          },
          "autotypenumbers": "strict",
          "coloraxis": {
           "colorbar": {
            "outlinewidth": 0,
            "ticks": ""
           }
          },
          "colorscale": {
           "diverging": [
            [
             0,
             "#8e0152"
            ],
            [
             0.1,
             "#c51b7d"
            ],
            [
             0.2,
             "#de77ae"
            ],
            [
             0.3,
             "#f1b6da"
            ],
            [
             0.4,
             "#fde0ef"
            ],
            [
             0.5,
             "#f7f7f7"
            ],
            [
             0.6,
             "#e6f5d0"
            ],
            [
             0.7,
             "#b8e186"
            ],
            [
             0.8,
             "#7fbc41"
            ],
            [
             0.9,
             "#4d9221"
            ],
            [
             1,
             "#276419"
            ]
           ],
           "sequential": [
            [
             0,
             "#0d0887"
            ],
            [
             0.1111111111111111,
             "#46039f"
            ],
            [
             0.2222222222222222,
             "#7201a8"
            ],
            [
             0.3333333333333333,
             "#9c179e"
            ],
            [
             0.4444444444444444,
             "#bd3786"
            ],
            [
             0.5555555555555556,
             "#d8576b"
            ],
            [
             0.6666666666666666,
             "#ed7953"
            ],
            [
             0.7777777777777778,
             "#fb9f3a"
            ],
            [
             0.8888888888888888,
             "#fdca26"
            ],
            [
             1,
             "#f0f921"
            ]
           ],
           "sequentialminus": [
            [
             0,
             "#0d0887"
            ],
            [
             0.1111111111111111,
             "#46039f"
            ],
            [
             0.2222222222222222,
             "#7201a8"
            ],
            [
             0.3333333333333333,
             "#9c179e"
            ],
            [
             0.4444444444444444,
             "#bd3786"
            ],
            [
             0.5555555555555556,
             "#d8576b"
            ],
            [
             0.6666666666666666,
             "#ed7953"
            ],
            [
             0.7777777777777778,
             "#fb9f3a"
            ],
            [
             0.8888888888888888,
             "#fdca26"
            ],
            [
             1,
             "#f0f921"
            ]
           ]
          },
          "colorway": [
           "#636efa",
           "#EF553B",
           "#00cc96",
           "#ab63fa",
           "#FFA15A",
           "#19d3f3",
           "#FF6692",
           "#B6E880",
           "#FF97FF",
           "#FECB52"
          ],
          "font": {
           "color": "#2a3f5f"
          },
          "geo": {
           "bgcolor": "white",
           "lakecolor": "white",
           "landcolor": "#E5ECF6",
           "showlakes": true,
           "showland": true,
           "subunitcolor": "white"
          },
          "hoverlabel": {
           "align": "left"
          },
          "hovermode": "closest",
          "mapbox": {
           "style": "light"
          },
          "paper_bgcolor": "white",
          "plot_bgcolor": "#E5ECF6",
          "polar": {
           "angularaxis": {
            "gridcolor": "white",
            "linecolor": "white",
            "ticks": ""
           },
           "bgcolor": "#E5ECF6",
           "radialaxis": {
            "gridcolor": "white",
            "linecolor": "white",
            "ticks": ""
           }
          },
          "scene": {
           "xaxis": {
            "backgroundcolor": "#E5ECF6",
            "gridcolor": "white",
            "gridwidth": 2,
            "linecolor": "white",
            "showbackground": true,
            "ticks": "",
            "zerolinecolor": "white"
           },
           "yaxis": {
            "backgroundcolor": "#E5ECF6",
            "gridcolor": "white",
            "gridwidth": 2,
            "linecolor": "white",
            "showbackground": true,
            "ticks": "",
            "zerolinecolor": "white"
           },
           "zaxis": {
            "backgroundcolor": "#E5ECF6",
            "gridcolor": "white",
            "gridwidth": 2,
            "linecolor": "white",
            "showbackground": true,
            "ticks": "",
            "zerolinecolor": "white"
           }
          },
          "shapedefaults": {
           "line": {
            "color": "#2a3f5f"
           }
          },
          "ternary": {
           "aaxis": {
            "gridcolor": "white",
            "linecolor": "white",
            "ticks": ""
           },
           "baxis": {
            "gridcolor": "white",
            "linecolor": "white",
            "ticks": ""
           },
           "bgcolor": "#E5ECF6",
           "caxis": {
            "gridcolor": "white",
            "linecolor": "white",
            "ticks": ""
           }
          },
          "title": {
           "x": 0.05
          },
          "xaxis": {
           "automargin": true,
           "gridcolor": "white",
           "linecolor": "white",
           "ticks": "",
           "title": {
            "standoff": 15
           },
           "zerolinecolor": "white",
           "zerolinewidth": 2
          },
          "yaxis": {
           "automargin": true,
           "gridcolor": "white",
           "linecolor": "white",
           "ticks": "",
           "title": {
            "standoff": 15
           },
           "zerolinecolor": "white",
           "zerolinewidth": 2
          }
         }
        },
        "xaxis": {
         "anchor": "y",
         "domain": [
          0,
          1
         ],
         "title": {
          "text": "consult_cost"
         }
        },
        "xaxis2": {
         "anchor": "y2",
         "domain": [
          0,
          1
         ],
         "matches": "x",
         "showgrid": true,
         "showticklabels": false
        },
        "yaxis": {
         "anchor": "x",
         "domain": [
          0,
          0.8316
         ],
         "title": {
          "text": "count"
         }
        },
        "yaxis2": {
         "anchor": "x2",
         "domain": [
          0.8416,
          1
         ],
         "matches": "y2",
         "showgrid": false,
         "showline": false,
         "showticklabels": false,
         "ticks": ""
        }
       }
      }
     },
     "metadata": {},
     "output_type": "display_data"
    }
   ],
   "source": [
    "px.histogram(simulated_dataframe, x=\"consult_cost\", marginal=\"box\")"
   ]
  },
  {
   "cell_type": "code",
   "execution_count": 111,
   "metadata": {},
   "outputs": [
    {
     "data": {
      "application/vnd.plotly.v1+json": {
       "config": {
        "plotlyServerURL": "https://plot.ly"
       },
       "data": [
        {
         "alignmentgroup": "True",
         "bingroup": "x",
         "hovertemplate": "consultant_doctor_experience=%{x}<br>count=%{y}<extra></extra>",
         "legendgroup": "",
         "marker": {
          "color": "#636efa",
          "pattern": {
           "shape": ""
          }
         },
         "name": "",
         "offsetgroup": "",
         "orientation": "v",
         "showlegend": false,
         "type": "histogram",
         "x": [
          3,
          16,
          14,
          9,
          1,
          4,
          13,
          5,
          9,
          7,
          2,
          14,
          12,
          8,
          16,
          17,
          8,
          13,
          7,
          15,
          5,
          3,
          3,
          14,
          4,
          16,
          3,
          12,
          15,
          15,
          9,
          11,
          5,
          10,
          14,
          3,
          5,
          10,
          3,
          13,
          5,
          6,
          17,
          5,
          4,
          13,
          5,
          4,
          14,
          18,
          15,
          4,
          2,
          14,
          16,
          6,
          1,
          6,
          15,
          1,
          2,
          8,
          16,
          2,
          5,
          12,
          6,
          7,
          10,
          3,
          16,
          11,
          17,
          8,
          3,
          8,
          14,
          11,
          6,
          13,
          11,
          16,
          16,
          7,
          8,
          5,
          6,
          6,
          17,
          3,
          10,
          13,
          8,
          14,
          14,
          17,
          14,
          11,
          7,
          8,
          18,
          7,
          6,
          2,
          17,
          13,
          12,
          14,
          6,
          4,
          3,
          8,
          7,
          17,
          9,
          15,
          6,
          5,
          9,
          3,
          4,
          15,
          8,
          1,
          15,
          11,
          4,
          17,
          18,
          17,
          17,
          4,
          3,
          6,
          14,
          5,
          11,
          15,
          4,
          11,
          2,
          18,
          10,
          8,
          1,
          2,
          1,
          2,
          2,
          5,
          1,
          2,
          12,
          3,
          13,
          9,
          3,
          3,
          10,
          10,
          10,
          2,
          10,
          3,
          14,
          1,
          3,
          8,
          12,
          14,
          15,
          6,
          7,
          14,
          4,
          4,
          16,
          6,
          10,
          7,
          1,
          11,
          12,
          9,
          13,
          10,
          14,
          12,
          15,
          3,
          8,
          18,
          3,
          8,
          15,
          4,
          5,
          8,
          7,
          3,
          16,
          14,
          9,
          1,
          4,
          13,
          5,
          9,
          7,
          2,
          14,
          12,
          8,
          16,
          17,
          8,
          13,
          7,
          15,
          5,
          3,
          3,
          14,
          4,
          16,
          3,
          12,
          15,
          15,
          9,
          11,
          5,
          10,
          14,
          3,
          5,
          10,
          3,
          13,
          5,
          6,
          17,
          5,
          4,
          13,
          5,
          4,
          14,
          18,
          15,
          4,
          2,
          14,
          16,
          6,
          1,
          6,
          15,
          1,
          2,
          8,
          16,
          2,
          5,
          12,
          6,
          7,
          10,
          3,
          16,
          11,
          17,
          8,
          3,
          8,
          14,
          11,
          6,
          13,
          11,
          16,
          16,
          7,
          8,
          5,
          6,
          6,
          17,
          3,
          10,
          13,
          8,
          14,
          14,
          17,
          14,
          11,
          7,
          8,
          18,
          7,
          6,
          2,
          17,
          13,
          12,
          14,
          6,
          4,
          3,
          8,
          7,
          17,
          9,
          15,
          6,
          5,
          9,
          3,
          4,
          15,
          8,
          1,
          15,
          11,
          4,
          17,
          18,
          17,
          17,
          4,
          3,
          6,
          14,
          5,
          11,
          15,
          4,
          11,
          2,
          18,
          10,
          8,
          1,
          2,
          1,
          2,
          2,
          5,
          1,
          2,
          12,
          3,
          13,
          9,
          3,
          3,
          10,
          10,
          10,
          2,
          10,
          3,
          14,
          1,
          3,
          8,
          12,
          14,
          15,
          6,
          7,
          14,
          4,
          4,
          16,
          6,
          10,
          7,
          1,
          11,
          12,
          9,
          13,
          10,
          14,
          12,
          15,
          3,
          8,
          18,
          3,
          8,
          15,
          4,
          5,
          8,
          7,
          2,
          1,
          14,
          7,
          14,
          4,
          14,
          18,
          1,
          2,
          12,
          2,
          7,
          4,
          3,
          16,
          14,
          9,
          1,
          4,
          13,
          5,
          9,
          7,
          2,
          14,
          12,
          8,
          16,
          17,
          8,
          13,
          7,
          15,
          5,
          3,
          3,
          14,
          4,
          16,
          3,
          12,
          15,
          15,
          9,
          11,
          5,
          10,
          14,
          3,
          5,
          10,
          3,
          13,
          5,
          6,
          17,
          5,
          4,
          13,
          5,
          4,
          14,
          18,
          15,
          4,
          2,
          14,
          16,
          6,
          1,
          6,
          15,
          1,
          2,
          8,
          16,
          2,
          5,
          12,
          6,
          7,
          10,
          3,
          16,
          11,
          17,
          8,
          3,
          8,
          14,
          11,
          6,
          13,
          11,
          16,
          16,
          7,
          8,
          5,
          6,
          6,
          17,
          3,
          10,
          13,
          8,
          14,
          14,
          17,
          14,
          11,
          7,
          8,
          18,
          7,
          6,
          2,
          17,
          13,
          12,
          14
         ],
         "xaxis": "x",
         "yaxis": "y"
        },
        {
         "alignmentgroup": "True",
         "hovertemplate": "consultant_doctor_experience=%{x}<extra></extra>",
         "legendgroup": "",
         "marker": {
          "color": "#636efa"
         },
         "name": "",
         "notched": true,
         "offsetgroup": "",
         "showlegend": false,
         "type": "box",
         "x": [
          3,
          16,
          14,
          9,
          1,
          4,
          13,
          5,
          9,
          7,
          2,
          14,
          12,
          8,
          16,
          17,
          8,
          13,
          7,
          15,
          5,
          3,
          3,
          14,
          4,
          16,
          3,
          12,
          15,
          15,
          9,
          11,
          5,
          10,
          14,
          3,
          5,
          10,
          3,
          13,
          5,
          6,
          17,
          5,
          4,
          13,
          5,
          4,
          14,
          18,
          15,
          4,
          2,
          14,
          16,
          6,
          1,
          6,
          15,
          1,
          2,
          8,
          16,
          2,
          5,
          12,
          6,
          7,
          10,
          3,
          16,
          11,
          17,
          8,
          3,
          8,
          14,
          11,
          6,
          13,
          11,
          16,
          16,
          7,
          8,
          5,
          6,
          6,
          17,
          3,
          10,
          13,
          8,
          14,
          14,
          17,
          14,
          11,
          7,
          8,
          18,
          7,
          6,
          2,
          17,
          13,
          12,
          14,
          6,
          4,
          3,
          8,
          7,
          17,
          9,
          15,
          6,
          5,
          9,
          3,
          4,
          15,
          8,
          1,
          15,
          11,
          4,
          17,
          18,
          17,
          17,
          4,
          3,
          6,
          14,
          5,
          11,
          15,
          4,
          11,
          2,
          18,
          10,
          8,
          1,
          2,
          1,
          2,
          2,
          5,
          1,
          2,
          12,
          3,
          13,
          9,
          3,
          3,
          10,
          10,
          10,
          2,
          10,
          3,
          14,
          1,
          3,
          8,
          12,
          14,
          15,
          6,
          7,
          14,
          4,
          4,
          16,
          6,
          10,
          7,
          1,
          11,
          12,
          9,
          13,
          10,
          14,
          12,
          15,
          3,
          8,
          18,
          3,
          8,
          15,
          4,
          5,
          8,
          7,
          3,
          16,
          14,
          9,
          1,
          4,
          13,
          5,
          9,
          7,
          2,
          14,
          12,
          8,
          16,
          17,
          8,
          13,
          7,
          15,
          5,
          3,
          3,
          14,
          4,
          16,
          3,
          12,
          15,
          15,
          9,
          11,
          5,
          10,
          14,
          3,
          5,
          10,
          3,
          13,
          5,
          6,
          17,
          5,
          4,
          13,
          5,
          4,
          14,
          18,
          15,
          4,
          2,
          14,
          16,
          6,
          1,
          6,
          15,
          1,
          2,
          8,
          16,
          2,
          5,
          12,
          6,
          7,
          10,
          3,
          16,
          11,
          17,
          8,
          3,
          8,
          14,
          11,
          6,
          13,
          11,
          16,
          16,
          7,
          8,
          5,
          6,
          6,
          17,
          3,
          10,
          13,
          8,
          14,
          14,
          17,
          14,
          11,
          7,
          8,
          18,
          7,
          6,
          2,
          17,
          13,
          12,
          14,
          6,
          4,
          3,
          8,
          7,
          17,
          9,
          15,
          6,
          5,
          9,
          3,
          4,
          15,
          8,
          1,
          15,
          11,
          4,
          17,
          18,
          17,
          17,
          4,
          3,
          6,
          14,
          5,
          11,
          15,
          4,
          11,
          2,
          18,
          10,
          8,
          1,
          2,
          1,
          2,
          2,
          5,
          1,
          2,
          12,
          3,
          13,
          9,
          3,
          3,
          10,
          10,
          10,
          2,
          10,
          3,
          14,
          1,
          3,
          8,
          12,
          14,
          15,
          6,
          7,
          14,
          4,
          4,
          16,
          6,
          10,
          7,
          1,
          11,
          12,
          9,
          13,
          10,
          14,
          12,
          15,
          3,
          8,
          18,
          3,
          8,
          15,
          4,
          5,
          8,
          7,
          2,
          1,
          14,
          7,
          14,
          4,
          14,
          18,
          1,
          2,
          12,
          2,
          7,
          4,
          3,
          16,
          14,
          9,
          1,
          4,
          13,
          5,
          9,
          7,
          2,
          14,
          12,
          8,
          16,
          17,
          8,
          13,
          7,
          15,
          5,
          3,
          3,
          14,
          4,
          16,
          3,
          12,
          15,
          15,
          9,
          11,
          5,
          10,
          14,
          3,
          5,
          10,
          3,
          13,
          5,
          6,
          17,
          5,
          4,
          13,
          5,
          4,
          14,
          18,
          15,
          4,
          2,
          14,
          16,
          6,
          1,
          6,
          15,
          1,
          2,
          8,
          16,
          2,
          5,
          12,
          6,
          7,
          10,
          3,
          16,
          11,
          17,
          8,
          3,
          8,
          14,
          11,
          6,
          13,
          11,
          16,
          16,
          7,
          8,
          5,
          6,
          6,
          17,
          3,
          10,
          13,
          8,
          14,
          14,
          17,
          14,
          11,
          7,
          8,
          18,
          7,
          6,
          2,
          17,
          13,
          12,
          14
         ],
         "xaxis": "x2",
         "yaxis": "y2"
        }
       ],
       "layout": {
        "barmode": "relative",
        "legend": {
         "tracegroupgap": 0
        },
        "margin": {
         "t": 60
        },
        "template": {
         "data": {
          "bar": [
           {
            "error_x": {
             "color": "#2a3f5f"
            },
            "error_y": {
             "color": "#2a3f5f"
            },
            "marker": {
             "line": {
              "color": "#E5ECF6",
              "width": 0.5
             },
             "pattern": {
              "fillmode": "overlay",
              "size": 10,
              "solidity": 0.2
             }
            },
            "type": "bar"
           }
          ],
          "barpolar": [
           {
            "marker": {
             "line": {
              "color": "#E5ECF6",
              "width": 0.5
             },
             "pattern": {
              "fillmode": "overlay",
              "size": 10,
              "solidity": 0.2
             }
            },
            "type": "barpolar"
           }
          ],
          "carpet": [
           {
            "aaxis": {
             "endlinecolor": "#2a3f5f",
             "gridcolor": "white",
             "linecolor": "white",
             "minorgridcolor": "white",
             "startlinecolor": "#2a3f5f"
            },
            "baxis": {
             "endlinecolor": "#2a3f5f",
             "gridcolor": "white",
             "linecolor": "white",
             "minorgridcolor": "white",
             "startlinecolor": "#2a3f5f"
            },
            "type": "carpet"
           }
          ],
          "choropleth": [
           {
            "colorbar": {
             "outlinewidth": 0,
             "ticks": ""
            },
            "type": "choropleth"
           }
          ],
          "contour": [
           {
            "colorbar": {
             "outlinewidth": 0,
             "ticks": ""
            },
            "colorscale": [
             [
              0,
              "#0d0887"
             ],
             [
              0.1111111111111111,
              "#46039f"
             ],
             [
              0.2222222222222222,
              "#7201a8"
             ],
             [
              0.3333333333333333,
              "#9c179e"
             ],
             [
              0.4444444444444444,
              "#bd3786"
             ],
             [
              0.5555555555555556,
              "#d8576b"
             ],
             [
              0.6666666666666666,
              "#ed7953"
             ],
             [
              0.7777777777777778,
              "#fb9f3a"
             ],
             [
              0.8888888888888888,
              "#fdca26"
             ],
             [
              1,
              "#f0f921"
             ]
            ],
            "type": "contour"
           }
          ],
          "contourcarpet": [
           {
            "colorbar": {
             "outlinewidth": 0,
             "ticks": ""
            },
            "type": "contourcarpet"
           }
          ],
          "heatmap": [
           {
            "colorbar": {
             "outlinewidth": 0,
             "ticks": ""
            },
            "colorscale": [
             [
              0,
              "#0d0887"
             ],
             [
              0.1111111111111111,
              "#46039f"
             ],
             [
              0.2222222222222222,
              "#7201a8"
             ],
             [
              0.3333333333333333,
              "#9c179e"
             ],
             [
              0.4444444444444444,
              "#bd3786"
             ],
             [
              0.5555555555555556,
              "#d8576b"
             ],
             [
              0.6666666666666666,
              "#ed7953"
             ],
             [
              0.7777777777777778,
              "#fb9f3a"
             ],
             [
              0.8888888888888888,
              "#fdca26"
             ],
             [
              1,
              "#f0f921"
             ]
            ],
            "type": "heatmap"
           }
          ],
          "heatmapgl": [
           {
            "colorbar": {
             "outlinewidth": 0,
             "ticks": ""
            },
            "colorscale": [
             [
              0,
              "#0d0887"
             ],
             [
              0.1111111111111111,
              "#46039f"
             ],
             [
              0.2222222222222222,
              "#7201a8"
             ],
             [
              0.3333333333333333,
              "#9c179e"
             ],
             [
              0.4444444444444444,
              "#bd3786"
             ],
             [
              0.5555555555555556,
              "#d8576b"
             ],
             [
              0.6666666666666666,
              "#ed7953"
             ],
             [
              0.7777777777777778,
              "#fb9f3a"
             ],
             [
              0.8888888888888888,
              "#fdca26"
             ],
             [
              1,
              "#f0f921"
             ]
            ],
            "type": "heatmapgl"
           }
          ],
          "histogram": [
           {
            "marker": {
             "pattern": {
              "fillmode": "overlay",
              "size": 10,
              "solidity": 0.2
             }
            },
            "type": "histogram"
           }
          ],
          "histogram2d": [
           {
            "colorbar": {
             "outlinewidth": 0,
             "ticks": ""
            },
            "colorscale": [
             [
              0,
              "#0d0887"
             ],
             [
              0.1111111111111111,
              "#46039f"
             ],
             [
              0.2222222222222222,
              "#7201a8"
             ],
             [
              0.3333333333333333,
              "#9c179e"
             ],
             [
              0.4444444444444444,
              "#bd3786"
             ],
             [
              0.5555555555555556,
              "#d8576b"
             ],
             [
              0.6666666666666666,
              "#ed7953"
             ],
             [
              0.7777777777777778,
              "#fb9f3a"
             ],
             [
              0.8888888888888888,
              "#fdca26"
             ],
             [
              1,
              "#f0f921"
             ]
            ],
            "type": "histogram2d"
           }
          ],
          "histogram2dcontour": [
           {
            "colorbar": {
             "outlinewidth": 0,
             "ticks": ""
            },
            "colorscale": [
             [
              0,
              "#0d0887"
             ],
             [
              0.1111111111111111,
              "#46039f"
             ],
             [
              0.2222222222222222,
              "#7201a8"
             ],
             [
              0.3333333333333333,
              "#9c179e"
             ],
             [
              0.4444444444444444,
              "#bd3786"
             ],
             [
              0.5555555555555556,
              "#d8576b"
             ],
             [
              0.6666666666666666,
              "#ed7953"
             ],
             [
              0.7777777777777778,
              "#fb9f3a"
             ],
             [
              0.8888888888888888,
              "#fdca26"
             ],
             [
              1,
              "#f0f921"
             ]
            ],
            "type": "histogram2dcontour"
           }
          ],
          "mesh3d": [
           {
            "colorbar": {
             "outlinewidth": 0,
             "ticks": ""
            },
            "type": "mesh3d"
           }
          ],
          "parcoords": [
           {
            "line": {
             "colorbar": {
              "outlinewidth": 0,
              "ticks": ""
             }
            },
            "type": "parcoords"
           }
          ],
          "pie": [
           {
            "automargin": true,
            "type": "pie"
           }
          ],
          "scatter": [
           {
            "fillpattern": {
             "fillmode": "overlay",
             "size": 10,
             "solidity": 0.2
            },
            "type": "scatter"
           }
          ],
          "scatter3d": [
           {
            "line": {
             "colorbar": {
              "outlinewidth": 0,
              "ticks": ""
             }
            },
            "marker": {
             "colorbar": {
              "outlinewidth": 0,
              "ticks": ""
             }
            },
            "type": "scatter3d"
           }
          ],
          "scattercarpet": [
           {
            "marker": {
             "colorbar": {
              "outlinewidth": 0,
              "ticks": ""
             }
            },
            "type": "scattercarpet"
           }
          ],
          "scattergeo": [
           {
            "marker": {
             "colorbar": {
              "outlinewidth": 0,
              "ticks": ""
             }
            },
            "type": "scattergeo"
           }
          ],
          "scattergl": [
           {
            "marker": {
             "colorbar": {
              "outlinewidth": 0,
              "ticks": ""
             }
            },
            "type": "scattergl"
           }
          ],
          "scattermapbox": [
           {
            "marker": {
             "colorbar": {
              "outlinewidth": 0,
              "ticks": ""
             }
            },
            "type": "scattermapbox"
           }
          ],
          "scatterpolar": [
           {
            "marker": {
             "colorbar": {
              "outlinewidth": 0,
              "ticks": ""
             }
            },
            "type": "scatterpolar"
           }
          ],
          "scatterpolargl": [
           {
            "marker": {
             "colorbar": {
              "outlinewidth": 0,
              "ticks": ""
             }
            },
            "type": "scatterpolargl"
           }
          ],
          "scatterternary": [
           {
            "marker": {
             "colorbar": {
              "outlinewidth": 0,
              "ticks": ""
             }
            },
            "type": "scatterternary"
           }
          ],
          "surface": [
           {
            "colorbar": {
             "outlinewidth": 0,
             "ticks": ""
            },
            "colorscale": [
             [
              0,
              "#0d0887"
             ],
             [
              0.1111111111111111,
              "#46039f"
             ],
             [
              0.2222222222222222,
              "#7201a8"
             ],
             [
              0.3333333333333333,
              "#9c179e"
             ],
             [
              0.4444444444444444,
              "#bd3786"
             ],
             [
              0.5555555555555556,
              "#d8576b"
             ],
             [
              0.6666666666666666,
              "#ed7953"
             ],
             [
              0.7777777777777778,
              "#fb9f3a"
             ],
             [
              0.8888888888888888,
              "#fdca26"
             ],
             [
              1,
              "#f0f921"
             ]
            ],
            "type": "surface"
           }
          ],
          "table": [
           {
            "cells": {
             "fill": {
              "color": "#EBF0F8"
             },
             "line": {
              "color": "white"
             }
            },
            "header": {
             "fill": {
              "color": "#C8D4E3"
             },
             "line": {
              "color": "white"
             }
            },
            "type": "table"
           }
          ]
         },
         "layout": {
          "annotationdefaults": {
           "arrowcolor": "#2a3f5f",
           "arrowhead": 0,
           "arrowwidth": 1
          },
          "autotypenumbers": "strict",
          "coloraxis": {
           "colorbar": {
            "outlinewidth": 0,
            "ticks": ""
           }
          },
          "colorscale": {
           "diverging": [
            [
             0,
             "#8e0152"
            ],
            [
             0.1,
             "#c51b7d"
            ],
            [
             0.2,
             "#de77ae"
            ],
            [
             0.3,
             "#f1b6da"
            ],
            [
             0.4,
             "#fde0ef"
            ],
            [
             0.5,
             "#f7f7f7"
            ],
            [
             0.6,
             "#e6f5d0"
            ],
            [
             0.7,
             "#b8e186"
            ],
            [
             0.8,
             "#7fbc41"
            ],
            [
             0.9,
             "#4d9221"
            ],
            [
             1,
             "#276419"
            ]
           ],
           "sequential": [
            [
             0,
             "#0d0887"
            ],
            [
             0.1111111111111111,
             "#46039f"
            ],
            [
             0.2222222222222222,
             "#7201a8"
            ],
            [
             0.3333333333333333,
             "#9c179e"
            ],
            [
             0.4444444444444444,
             "#bd3786"
            ],
            [
             0.5555555555555556,
             "#d8576b"
            ],
            [
             0.6666666666666666,
             "#ed7953"
            ],
            [
             0.7777777777777778,
             "#fb9f3a"
            ],
            [
             0.8888888888888888,
             "#fdca26"
            ],
            [
             1,
             "#f0f921"
            ]
           ],
           "sequentialminus": [
            [
             0,
             "#0d0887"
            ],
            [
             0.1111111111111111,
             "#46039f"
            ],
            [
             0.2222222222222222,
             "#7201a8"
            ],
            [
             0.3333333333333333,
             "#9c179e"
            ],
            [
             0.4444444444444444,
             "#bd3786"
            ],
            [
             0.5555555555555556,
             "#d8576b"
            ],
            [
             0.6666666666666666,
             "#ed7953"
            ],
            [
             0.7777777777777778,
             "#fb9f3a"
            ],
            [
             0.8888888888888888,
             "#fdca26"
            ],
            [
             1,
             "#f0f921"
            ]
           ]
          },
          "colorway": [
           "#636efa",
           "#EF553B",
           "#00cc96",
           "#ab63fa",
           "#FFA15A",
           "#19d3f3",
           "#FF6692",
           "#B6E880",
           "#FF97FF",
           "#FECB52"
          ],
          "font": {
           "color": "#2a3f5f"
          },
          "geo": {
           "bgcolor": "white",
           "lakecolor": "white",
           "landcolor": "#E5ECF6",
           "showlakes": true,
           "showland": true,
           "subunitcolor": "white"
          },
          "hoverlabel": {
           "align": "left"
          },
          "hovermode": "closest",
          "mapbox": {
           "style": "light"
          },
          "paper_bgcolor": "white",
          "plot_bgcolor": "#E5ECF6",
          "polar": {
           "angularaxis": {
            "gridcolor": "white",
            "linecolor": "white",
            "ticks": ""
           },
           "bgcolor": "#E5ECF6",
           "radialaxis": {
            "gridcolor": "white",
            "linecolor": "white",
            "ticks": ""
           }
          },
          "scene": {
           "xaxis": {
            "backgroundcolor": "#E5ECF6",
            "gridcolor": "white",
            "gridwidth": 2,
            "linecolor": "white",
            "showbackground": true,
            "ticks": "",
            "zerolinecolor": "white"
           },
           "yaxis": {
            "backgroundcolor": "#E5ECF6",
            "gridcolor": "white",
            "gridwidth": 2,
            "linecolor": "white",
            "showbackground": true,
            "ticks": "",
            "zerolinecolor": "white"
           },
           "zaxis": {
            "backgroundcolor": "#E5ECF6",
            "gridcolor": "white",
            "gridwidth": 2,
            "linecolor": "white",
            "showbackground": true,
            "ticks": "",
            "zerolinecolor": "white"
           }
          },
          "shapedefaults": {
           "line": {
            "color": "#2a3f5f"
           }
          },
          "ternary": {
           "aaxis": {
            "gridcolor": "white",
            "linecolor": "white",
            "ticks": ""
           },
           "baxis": {
            "gridcolor": "white",
            "linecolor": "white",
            "ticks": ""
           },
           "bgcolor": "#E5ECF6",
           "caxis": {
            "gridcolor": "white",
            "linecolor": "white",
            "ticks": ""
           }
          },
          "title": {
           "x": 0.05
          },
          "xaxis": {
           "automargin": true,
           "gridcolor": "white",
           "linecolor": "white",
           "ticks": "",
           "title": {
            "standoff": 15
           },
           "zerolinecolor": "white",
           "zerolinewidth": 2
          },
          "yaxis": {
           "automargin": true,
           "gridcolor": "white",
           "linecolor": "white",
           "ticks": "",
           "title": {
            "standoff": 15
           },
           "zerolinecolor": "white",
           "zerolinewidth": 2
          }
         }
        },
        "xaxis": {
         "anchor": "y",
         "domain": [
          0,
          1
         ],
         "title": {
          "text": "consultant_doctor_experience"
         }
        },
        "xaxis2": {
         "anchor": "y2",
         "domain": [
          0,
          1
         ],
         "matches": "x",
         "showgrid": true,
         "showticklabels": false
        },
        "yaxis": {
         "anchor": "x",
         "domain": [
          0,
          0.8316
         ],
         "title": {
          "text": "count"
         }
        },
        "yaxis2": {
         "anchor": "x2",
         "domain": [
          0.8416,
          1
         ],
         "matches": "y2",
         "showgrid": false,
         "showline": false,
         "showticklabels": false,
         "ticks": ""
        }
       }
      }
     },
     "metadata": {},
     "output_type": "display_data"
    }
   ],
   "source": [
    "px.histogram(simulated_dataframe, x=\"consultant_doctor_experience\", marginal=\"box\")"
   ]
  },
  {
   "cell_type": "code",
   "execution_count": 112,
   "metadata": {},
   "outputs": [
    {
     "data": {
      "application/vnd.plotly.v1+json": {
       "config": {
        "plotlyServerURL": "https://plot.ly"
       },
       "data": [
        {
         "alignmentgroup": "True",
         "bingroup": "x",
         "hovertemplate": "patient_age=%{x}<br>count=%{y}<extra></extra>",
         "legendgroup": "",
         "marker": {
          "color": "#636efa",
          "pattern": {
           "shape": ""
          }
         },
         "name": "",
         "offsetgroup": "",
         "orientation": "v",
         "showlegend": false,
         "type": "histogram",
         "x": [
          29,
          12,
          35,
          25,
          39,
          12,
          15,
          23,
          26,
          13,
          12,
          11,
          21,
          30,
          27,
          16,
          37,
          30,
          21,
          15,
          31,
          31,
          28,
          26,
          18,
          29,
          15,
          16,
          21,
          22,
          15,
          40,
          25,
          26,
          20,
          38,
          15,
          24,
          28,
          36,
          26,
          27,
          13,
          37,
          15,
          24,
          18,
          13,
          16,
          29,
          21,
          20,
          22,
          15,
          29,
          21,
          39,
          18,
          38,
          15,
          15,
          28,
          40,
          33,
          16,
          12,
          35,
          23,
          13,
          16,
          37,
          21,
          20,
          37,
          32,
          19,
          39,
          29,
          40,
          32,
          25,
          33,
          38,
          35,
          34,
          20,
          25,
          37,
          23,
          22,
          15,
          21,
          32,
          20,
          29,
          15,
          11,
          17,
          31,
          21,
          32,
          26,
          16,
          26,
          32,
          12,
          20,
          22,
          35,
          13,
          18,
          32,
          36,
          20,
          13,
          38,
          29,
          40,
          19,
          16,
          11,
          14,
          31,
          10,
          16,
          33,
          25,
          15,
          36,
          37,
          29,
          13,
          39,
          15,
          16,
          37,
          29,
          29,
          30,
          24,
          16,
          10,
          29,
          16,
          20,
          16,
          26,
          39,
          22,
          33,
          32,
          30,
          36,
          17,
          39,
          25,
          17,
          16,
          12,
          28,
          24,
          24,
          12,
          40,
          39,
          23,
          15,
          21,
          35,
          24,
          31,
          23,
          37,
          12,
          37,
          15,
          38,
          29,
          38,
          18,
          37,
          33,
          15,
          18,
          15,
          22,
          19,
          29,
          12,
          38,
          15,
          39,
          19,
          18,
          20,
          36,
          14,
          23,
          23,
          18,
          17,
          36,
          15,
          35,
          35,
          33,
          20,
          23,
          35,
          17,
          37,
          29,
          30,
          33,
          27,
          31,
          15,
          31,
          16,
          33,
          22,
          32,
          32,
          29,
          14,
          20,
          12,
          26,
          36,
          25,
          31,
          14,
          16,
          30,
          28,
          18,
          35,
          14,
          37,
          18,
          29,
          16,
          20,
          21,
          36,
          11,
          20,
          19,
          15,
          15,
          17,
          32,
          39,
          21,
          16,
          29,
          16,
          23,
          27,
          16,
          35,
          36,
          37,
          31,
          39,
          17,
          28,
          34,
          19,
          30,
          23,
          36,
          26,
          11,
          35,
          31,
          38,
          13,
          35,
          30,
          12,
          16,
          32,
          33,
          28,
          38,
          38,
          13,
          24,
          27,
          39,
          37,
          17,
          26,
          40,
          14,
          28,
          31,
          30,
          18,
          28,
          20,
          35,
          18,
          15,
          12,
          25,
          32,
          35,
          24,
          28,
          19,
          27,
          12,
          22,
          26,
          16,
          20,
          38,
          37,
          31,
          15,
          37,
          10,
          20,
          14,
          20,
          20,
          31,
          17,
          16,
          32,
          20,
          15,
          34,
          25,
          37,
          31,
          11,
          15,
          35,
          33,
          29,
          13,
          14,
          20,
          35,
          33,
          20,
          35,
          12,
          16,
          25,
          27,
          16,
          40,
          10,
          21,
          18,
          29,
          37,
          37,
          17,
          39,
          15,
          37,
          17,
          33,
          37,
          25,
          32,
          33,
          31,
          32,
          36,
          27,
          17,
          31,
          23,
          22,
          33,
          16,
          14,
          32,
          22,
          18,
          32,
          35,
          40,
          21,
          38,
          18,
          37,
          29,
          21,
          28,
          29,
          20,
          16,
          29,
          33,
          13,
          38,
          20,
          15,
          15,
          16,
          29,
          36,
          30,
          12,
          15,
          18,
          12,
          24,
          24,
          37,
          15,
          22,
          20,
          21,
          37,
          19,
          29,
          28,
          35,
          24,
          15,
          30,
          35,
          18,
          30,
          38,
          21,
          19,
          39,
          23,
          12,
          16,
          32,
          31,
          16,
          18,
          19,
          28,
          33,
          11,
          37,
          20,
          13,
          24,
          20,
          26,
          15,
          10,
          25,
          17,
          15,
          36,
          15,
          31,
          12,
          37,
          12,
          29,
          10,
          15,
          10,
          29,
          35,
          35,
          27,
          25,
          22,
          15,
          20,
          30,
          20,
          18,
          35,
          37,
          37,
          21,
          30,
          36,
          22,
          39,
          36,
          36,
          16,
          29,
          13,
          11,
          15,
          33,
          39,
          39,
          21,
          35,
          36,
          35,
          17,
          20,
          12,
          20,
          19,
          20,
          16,
          32,
          31,
          29,
          25,
          32,
          27,
          27,
          24,
          19,
          15,
          29,
          10
         ],
         "xaxis": "x",
         "yaxis": "y"
        },
        {
         "alignmentgroup": "True",
         "hovertemplate": "patient_age=%{x}<extra></extra>",
         "legendgroup": "",
         "marker": {
          "color": "#636efa"
         },
         "name": "",
         "notched": true,
         "offsetgroup": "",
         "showlegend": false,
         "type": "box",
         "x": [
          29,
          12,
          35,
          25,
          39,
          12,
          15,
          23,
          26,
          13,
          12,
          11,
          21,
          30,
          27,
          16,
          37,
          30,
          21,
          15,
          31,
          31,
          28,
          26,
          18,
          29,
          15,
          16,
          21,
          22,
          15,
          40,
          25,
          26,
          20,
          38,
          15,
          24,
          28,
          36,
          26,
          27,
          13,
          37,
          15,
          24,
          18,
          13,
          16,
          29,
          21,
          20,
          22,
          15,
          29,
          21,
          39,
          18,
          38,
          15,
          15,
          28,
          40,
          33,
          16,
          12,
          35,
          23,
          13,
          16,
          37,
          21,
          20,
          37,
          32,
          19,
          39,
          29,
          40,
          32,
          25,
          33,
          38,
          35,
          34,
          20,
          25,
          37,
          23,
          22,
          15,
          21,
          32,
          20,
          29,
          15,
          11,
          17,
          31,
          21,
          32,
          26,
          16,
          26,
          32,
          12,
          20,
          22,
          35,
          13,
          18,
          32,
          36,
          20,
          13,
          38,
          29,
          40,
          19,
          16,
          11,
          14,
          31,
          10,
          16,
          33,
          25,
          15,
          36,
          37,
          29,
          13,
          39,
          15,
          16,
          37,
          29,
          29,
          30,
          24,
          16,
          10,
          29,
          16,
          20,
          16,
          26,
          39,
          22,
          33,
          32,
          30,
          36,
          17,
          39,
          25,
          17,
          16,
          12,
          28,
          24,
          24,
          12,
          40,
          39,
          23,
          15,
          21,
          35,
          24,
          31,
          23,
          37,
          12,
          37,
          15,
          38,
          29,
          38,
          18,
          37,
          33,
          15,
          18,
          15,
          22,
          19,
          29,
          12,
          38,
          15,
          39,
          19,
          18,
          20,
          36,
          14,
          23,
          23,
          18,
          17,
          36,
          15,
          35,
          35,
          33,
          20,
          23,
          35,
          17,
          37,
          29,
          30,
          33,
          27,
          31,
          15,
          31,
          16,
          33,
          22,
          32,
          32,
          29,
          14,
          20,
          12,
          26,
          36,
          25,
          31,
          14,
          16,
          30,
          28,
          18,
          35,
          14,
          37,
          18,
          29,
          16,
          20,
          21,
          36,
          11,
          20,
          19,
          15,
          15,
          17,
          32,
          39,
          21,
          16,
          29,
          16,
          23,
          27,
          16,
          35,
          36,
          37,
          31,
          39,
          17,
          28,
          34,
          19,
          30,
          23,
          36,
          26,
          11,
          35,
          31,
          38,
          13,
          35,
          30,
          12,
          16,
          32,
          33,
          28,
          38,
          38,
          13,
          24,
          27,
          39,
          37,
          17,
          26,
          40,
          14,
          28,
          31,
          30,
          18,
          28,
          20,
          35,
          18,
          15,
          12,
          25,
          32,
          35,
          24,
          28,
          19,
          27,
          12,
          22,
          26,
          16,
          20,
          38,
          37,
          31,
          15,
          37,
          10,
          20,
          14,
          20,
          20,
          31,
          17,
          16,
          32,
          20,
          15,
          34,
          25,
          37,
          31,
          11,
          15,
          35,
          33,
          29,
          13,
          14,
          20,
          35,
          33,
          20,
          35,
          12,
          16,
          25,
          27,
          16,
          40,
          10,
          21,
          18,
          29,
          37,
          37,
          17,
          39,
          15,
          37,
          17,
          33,
          37,
          25,
          32,
          33,
          31,
          32,
          36,
          27,
          17,
          31,
          23,
          22,
          33,
          16,
          14,
          32,
          22,
          18,
          32,
          35,
          40,
          21,
          38,
          18,
          37,
          29,
          21,
          28,
          29,
          20,
          16,
          29,
          33,
          13,
          38,
          20,
          15,
          15,
          16,
          29,
          36,
          30,
          12,
          15,
          18,
          12,
          24,
          24,
          37,
          15,
          22,
          20,
          21,
          37,
          19,
          29,
          28,
          35,
          24,
          15,
          30,
          35,
          18,
          30,
          38,
          21,
          19,
          39,
          23,
          12,
          16,
          32,
          31,
          16,
          18,
          19,
          28,
          33,
          11,
          37,
          20,
          13,
          24,
          20,
          26,
          15,
          10,
          25,
          17,
          15,
          36,
          15,
          31,
          12,
          37,
          12,
          29,
          10,
          15,
          10,
          29,
          35,
          35,
          27,
          25,
          22,
          15,
          20,
          30,
          20,
          18,
          35,
          37,
          37,
          21,
          30,
          36,
          22,
          39,
          36,
          36,
          16,
          29,
          13,
          11,
          15,
          33,
          39,
          39,
          21,
          35,
          36,
          35,
          17,
          20,
          12,
          20,
          19,
          20,
          16,
          32,
          31,
          29,
          25,
          32,
          27,
          27,
          24,
          19,
          15,
          29,
          10
         ],
         "xaxis": "x2",
         "yaxis": "y2"
        }
       ],
       "layout": {
        "barmode": "relative",
        "legend": {
         "tracegroupgap": 0
        },
        "margin": {
         "t": 60
        },
        "template": {
         "data": {
          "bar": [
           {
            "error_x": {
             "color": "#2a3f5f"
            },
            "error_y": {
             "color": "#2a3f5f"
            },
            "marker": {
             "line": {
              "color": "#E5ECF6",
              "width": 0.5
             },
             "pattern": {
              "fillmode": "overlay",
              "size": 10,
              "solidity": 0.2
             }
            },
            "type": "bar"
           }
          ],
          "barpolar": [
           {
            "marker": {
             "line": {
              "color": "#E5ECF6",
              "width": 0.5
             },
             "pattern": {
              "fillmode": "overlay",
              "size": 10,
              "solidity": 0.2
             }
            },
            "type": "barpolar"
           }
          ],
          "carpet": [
           {
            "aaxis": {
             "endlinecolor": "#2a3f5f",
             "gridcolor": "white",
             "linecolor": "white",
             "minorgridcolor": "white",
             "startlinecolor": "#2a3f5f"
            },
            "baxis": {
             "endlinecolor": "#2a3f5f",
             "gridcolor": "white",
             "linecolor": "white",
             "minorgridcolor": "white",
             "startlinecolor": "#2a3f5f"
            },
            "type": "carpet"
           }
          ],
          "choropleth": [
           {
            "colorbar": {
             "outlinewidth": 0,
             "ticks": ""
            },
            "type": "choropleth"
           }
          ],
          "contour": [
           {
            "colorbar": {
             "outlinewidth": 0,
             "ticks": ""
            },
            "colorscale": [
             [
              0,
              "#0d0887"
             ],
             [
              0.1111111111111111,
              "#46039f"
             ],
             [
              0.2222222222222222,
              "#7201a8"
             ],
             [
              0.3333333333333333,
              "#9c179e"
             ],
             [
              0.4444444444444444,
              "#bd3786"
             ],
             [
              0.5555555555555556,
              "#d8576b"
             ],
             [
              0.6666666666666666,
              "#ed7953"
             ],
             [
              0.7777777777777778,
              "#fb9f3a"
             ],
             [
              0.8888888888888888,
              "#fdca26"
             ],
             [
              1,
              "#f0f921"
             ]
            ],
            "type": "contour"
           }
          ],
          "contourcarpet": [
           {
            "colorbar": {
             "outlinewidth": 0,
             "ticks": ""
            },
            "type": "contourcarpet"
           }
          ],
          "heatmap": [
           {
            "colorbar": {
             "outlinewidth": 0,
             "ticks": ""
            },
            "colorscale": [
             [
              0,
              "#0d0887"
             ],
             [
              0.1111111111111111,
              "#46039f"
             ],
             [
              0.2222222222222222,
              "#7201a8"
             ],
             [
              0.3333333333333333,
              "#9c179e"
             ],
             [
              0.4444444444444444,
              "#bd3786"
             ],
             [
              0.5555555555555556,
              "#d8576b"
             ],
             [
              0.6666666666666666,
              "#ed7953"
             ],
             [
              0.7777777777777778,
              "#fb9f3a"
             ],
             [
              0.8888888888888888,
              "#fdca26"
             ],
             [
              1,
              "#f0f921"
             ]
            ],
            "type": "heatmap"
           }
          ],
          "heatmapgl": [
           {
            "colorbar": {
             "outlinewidth": 0,
             "ticks": ""
            },
            "colorscale": [
             [
              0,
              "#0d0887"
             ],
             [
              0.1111111111111111,
              "#46039f"
             ],
             [
              0.2222222222222222,
              "#7201a8"
             ],
             [
              0.3333333333333333,
              "#9c179e"
             ],
             [
              0.4444444444444444,
              "#bd3786"
             ],
             [
              0.5555555555555556,
              "#d8576b"
             ],
             [
              0.6666666666666666,
              "#ed7953"
             ],
             [
              0.7777777777777778,
              "#fb9f3a"
             ],
             [
              0.8888888888888888,
              "#fdca26"
             ],
             [
              1,
              "#f0f921"
             ]
            ],
            "type": "heatmapgl"
           }
          ],
          "histogram": [
           {
            "marker": {
             "pattern": {
              "fillmode": "overlay",
              "size": 10,
              "solidity": 0.2
             }
            },
            "type": "histogram"
           }
          ],
          "histogram2d": [
           {
            "colorbar": {
             "outlinewidth": 0,
             "ticks": ""
            },
            "colorscale": [
             [
              0,
              "#0d0887"
             ],
             [
              0.1111111111111111,
              "#46039f"
             ],
             [
              0.2222222222222222,
              "#7201a8"
             ],
             [
              0.3333333333333333,
              "#9c179e"
             ],
             [
              0.4444444444444444,
              "#bd3786"
             ],
             [
              0.5555555555555556,
              "#d8576b"
             ],
             [
              0.6666666666666666,
              "#ed7953"
             ],
             [
              0.7777777777777778,
              "#fb9f3a"
             ],
             [
              0.8888888888888888,
              "#fdca26"
             ],
             [
              1,
              "#f0f921"
             ]
            ],
            "type": "histogram2d"
           }
          ],
          "histogram2dcontour": [
           {
            "colorbar": {
             "outlinewidth": 0,
             "ticks": ""
            },
            "colorscale": [
             [
              0,
              "#0d0887"
             ],
             [
              0.1111111111111111,
              "#46039f"
             ],
             [
              0.2222222222222222,
              "#7201a8"
             ],
             [
              0.3333333333333333,
              "#9c179e"
             ],
             [
              0.4444444444444444,
              "#bd3786"
             ],
             [
              0.5555555555555556,
              "#d8576b"
             ],
             [
              0.6666666666666666,
              "#ed7953"
             ],
             [
              0.7777777777777778,
              "#fb9f3a"
             ],
             [
              0.8888888888888888,
              "#fdca26"
             ],
             [
              1,
              "#f0f921"
             ]
            ],
            "type": "histogram2dcontour"
           }
          ],
          "mesh3d": [
           {
            "colorbar": {
             "outlinewidth": 0,
             "ticks": ""
            },
            "type": "mesh3d"
           }
          ],
          "parcoords": [
           {
            "line": {
             "colorbar": {
              "outlinewidth": 0,
              "ticks": ""
             }
            },
            "type": "parcoords"
           }
          ],
          "pie": [
           {
            "automargin": true,
            "type": "pie"
           }
          ],
          "scatter": [
           {
            "fillpattern": {
             "fillmode": "overlay",
             "size": 10,
             "solidity": 0.2
            },
            "type": "scatter"
           }
          ],
          "scatter3d": [
           {
            "line": {
             "colorbar": {
              "outlinewidth": 0,
              "ticks": ""
             }
            },
            "marker": {
             "colorbar": {
              "outlinewidth": 0,
              "ticks": ""
             }
            },
            "type": "scatter3d"
           }
          ],
          "scattercarpet": [
           {
            "marker": {
             "colorbar": {
              "outlinewidth": 0,
              "ticks": ""
             }
            },
            "type": "scattercarpet"
           }
          ],
          "scattergeo": [
           {
            "marker": {
             "colorbar": {
              "outlinewidth": 0,
              "ticks": ""
             }
            },
            "type": "scattergeo"
           }
          ],
          "scattergl": [
           {
            "marker": {
             "colorbar": {
              "outlinewidth": 0,
              "ticks": ""
             }
            },
            "type": "scattergl"
           }
          ],
          "scattermapbox": [
           {
            "marker": {
             "colorbar": {
              "outlinewidth": 0,
              "ticks": ""
             }
            },
            "type": "scattermapbox"
           }
          ],
          "scatterpolar": [
           {
            "marker": {
             "colorbar": {
              "outlinewidth": 0,
              "ticks": ""
             }
            },
            "type": "scatterpolar"
           }
          ],
          "scatterpolargl": [
           {
            "marker": {
             "colorbar": {
              "outlinewidth": 0,
              "ticks": ""
             }
            },
            "type": "scatterpolargl"
           }
          ],
          "scatterternary": [
           {
            "marker": {
             "colorbar": {
              "outlinewidth": 0,
              "ticks": ""
             }
            },
            "type": "scatterternary"
           }
          ],
          "surface": [
           {
            "colorbar": {
             "outlinewidth": 0,
             "ticks": ""
            },
            "colorscale": [
             [
              0,
              "#0d0887"
             ],
             [
              0.1111111111111111,
              "#46039f"
             ],
             [
              0.2222222222222222,
              "#7201a8"
             ],
             [
              0.3333333333333333,
              "#9c179e"
             ],
             [
              0.4444444444444444,
              "#bd3786"
             ],
             [
              0.5555555555555556,
              "#d8576b"
             ],
             [
              0.6666666666666666,
              "#ed7953"
             ],
             [
              0.7777777777777778,
              "#fb9f3a"
             ],
             [
              0.8888888888888888,
              "#fdca26"
             ],
             [
              1,
              "#f0f921"
             ]
            ],
            "type": "surface"
           }
          ],
          "table": [
           {
            "cells": {
             "fill": {
              "color": "#EBF0F8"
             },
             "line": {
              "color": "white"
             }
            },
            "header": {
             "fill": {
              "color": "#C8D4E3"
             },
             "line": {
              "color": "white"
             }
            },
            "type": "table"
           }
          ]
         },
         "layout": {
          "annotationdefaults": {
           "arrowcolor": "#2a3f5f",
           "arrowhead": 0,
           "arrowwidth": 1
          },
          "autotypenumbers": "strict",
          "coloraxis": {
           "colorbar": {
            "outlinewidth": 0,
            "ticks": ""
           }
          },
          "colorscale": {
           "diverging": [
            [
             0,
             "#8e0152"
            ],
            [
             0.1,
             "#c51b7d"
            ],
            [
             0.2,
             "#de77ae"
            ],
            [
             0.3,
             "#f1b6da"
            ],
            [
             0.4,
             "#fde0ef"
            ],
            [
             0.5,
             "#f7f7f7"
            ],
            [
             0.6,
             "#e6f5d0"
            ],
            [
             0.7,
             "#b8e186"
            ],
            [
             0.8,
             "#7fbc41"
            ],
            [
             0.9,
             "#4d9221"
            ],
            [
             1,
             "#276419"
            ]
           ],
           "sequential": [
            [
             0,
             "#0d0887"
            ],
            [
             0.1111111111111111,
             "#46039f"
            ],
            [
             0.2222222222222222,
             "#7201a8"
            ],
            [
             0.3333333333333333,
             "#9c179e"
            ],
            [
             0.4444444444444444,
             "#bd3786"
            ],
            [
             0.5555555555555556,
             "#d8576b"
            ],
            [
             0.6666666666666666,
             "#ed7953"
            ],
            [
             0.7777777777777778,
             "#fb9f3a"
            ],
            [
             0.8888888888888888,
             "#fdca26"
            ],
            [
             1,
             "#f0f921"
            ]
           ],
           "sequentialminus": [
            [
             0,
             "#0d0887"
            ],
            [
             0.1111111111111111,
             "#46039f"
            ],
            [
             0.2222222222222222,
             "#7201a8"
            ],
            [
             0.3333333333333333,
             "#9c179e"
            ],
            [
             0.4444444444444444,
             "#bd3786"
            ],
            [
             0.5555555555555556,
             "#d8576b"
            ],
            [
             0.6666666666666666,
             "#ed7953"
            ],
            [
             0.7777777777777778,
             "#fb9f3a"
            ],
            [
             0.8888888888888888,
             "#fdca26"
            ],
            [
             1,
             "#f0f921"
            ]
           ]
          },
          "colorway": [
           "#636efa",
           "#EF553B",
           "#00cc96",
           "#ab63fa",
           "#FFA15A",
           "#19d3f3",
           "#FF6692",
           "#B6E880",
           "#FF97FF",
           "#FECB52"
          ],
          "font": {
           "color": "#2a3f5f"
          },
          "geo": {
           "bgcolor": "white",
           "lakecolor": "white",
           "landcolor": "#E5ECF6",
           "showlakes": true,
           "showland": true,
           "subunitcolor": "white"
          },
          "hoverlabel": {
           "align": "left"
          },
          "hovermode": "closest",
          "mapbox": {
           "style": "light"
          },
          "paper_bgcolor": "white",
          "plot_bgcolor": "#E5ECF6",
          "polar": {
           "angularaxis": {
            "gridcolor": "white",
            "linecolor": "white",
            "ticks": ""
           },
           "bgcolor": "#E5ECF6",
           "radialaxis": {
            "gridcolor": "white",
            "linecolor": "white",
            "ticks": ""
           }
          },
          "scene": {
           "xaxis": {
            "backgroundcolor": "#E5ECF6",
            "gridcolor": "white",
            "gridwidth": 2,
            "linecolor": "white",
            "showbackground": true,
            "ticks": "",
            "zerolinecolor": "white"
           },
           "yaxis": {
            "backgroundcolor": "#E5ECF6",
            "gridcolor": "white",
            "gridwidth": 2,
            "linecolor": "white",
            "showbackground": true,
            "ticks": "",
            "zerolinecolor": "white"
           },
           "zaxis": {
            "backgroundcolor": "#E5ECF6",
            "gridcolor": "white",
            "gridwidth": 2,
            "linecolor": "white",
            "showbackground": true,
            "ticks": "",
            "zerolinecolor": "white"
           }
          },
          "shapedefaults": {
           "line": {
            "color": "#2a3f5f"
           }
          },
          "ternary": {
           "aaxis": {
            "gridcolor": "white",
            "linecolor": "white",
            "ticks": ""
           },
           "baxis": {
            "gridcolor": "white",
            "linecolor": "white",
            "ticks": ""
           },
           "bgcolor": "#E5ECF6",
           "caxis": {
            "gridcolor": "white",
            "linecolor": "white",
            "ticks": ""
           }
          },
          "title": {
           "x": 0.05
          },
          "xaxis": {
           "automargin": true,
           "gridcolor": "white",
           "linecolor": "white",
           "ticks": "",
           "title": {
            "standoff": 15
           },
           "zerolinecolor": "white",
           "zerolinewidth": 2
          },
          "yaxis": {
           "automargin": true,
           "gridcolor": "white",
           "linecolor": "white",
           "ticks": "",
           "title": {
            "standoff": 15
           },
           "zerolinecolor": "white",
           "zerolinewidth": 2
          }
         }
        },
        "xaxis": {
         "anchor": "y",
         "domain": [
          0,
          1
         ],
         "title": {
          "text": "patient_age"
         }
        },
        "xaxis2": {
         "anchor": "y2",
         "domain": [
          0,
          1
         ],
         "matches": "x",
         "showgrid": true,
         "showticklabels": false
        },
        "yaxis": {
         "anchor": "x",
         "domain": [
          0,
          0.8316
         ],
         "title": {
          "text": "count"
         }
        },
        "yaxis2": {
         "anchor": "x2",
         "domain": [
          0.8416,
          1
         ],
         "matches": "y2",
         "showgrid": false,
         "showline": false,
         "showticklabels": false,
         "ticks": ""
        }
       }
      }
     },
     "metadata": {},
     "output_type": "display_data"
    }
   ],
   "source": [
    "px.histogram(simulated_dataframe, x=\"patient_age\", marginal=\"box\")"
   ]
  },
  {
   "attachments": {},
   "cell_type": "markdown",
   "metadata": {},
   "source": [
    "#### correlation"
   ]
  },
  {
   "cell_type": "code",
   "execution_count": 113,
   "metadata": {},
   "outputs": [
    {
     "data": {
      "application/vnd.plotly.v1+json": {
       "config": {
        "plotlyServerURL": "https://plot.ly"
       },
       "data": [
        {
         "coloraxis": "coloraxis",
         "hovertemplate": "x: %{x}<br>y: %{y}<br>color: %{z}<extra></extra>",
         "name": "0",
         "texttemplate": "%{z}",
         "type": "heatmap",
         "x": [
          "consult_cost",
          "patient_num_of_children",
          "patient_num_of_dependents",
          "patient_age",
          "consultant_doctor_experience",
          "patient_anatomy_chest area",
          "patient_anatomy_head",
          "patient_anatomy_legs",
          "patient_anatomy_shoulder",
          "patient_anatomy_stomach",
          "patient_anatomy_upper chest area",
          "patient_consult_status_appointed session",
          "patient_consult_status_new consultation",
          "patient_consult_status_under appointment",
          "patient_community_suburban",
          "patient_community_urban",
          "patient_marital_status_Married",
          "patient_marital_status_Single",
          "patient_has_children_Yes",
          "patient_has_dependent_Yes",
          "patient_gender_Male"
         ],
         "xaxis": "x",
         "y": [
          "consult_cost",
          "patient_num_of_children",
          "patient_num_of_dependents",
          "patient_age",
          "consultant_doctor_experience",
          "patient_anatomy_chest area",
          "patient_anatomy_head",
          "patient_anatomy_legs",
          "patient_anatomy_shoulder",
          "patient_anatomy_stomach",
          "patient_anatomy_upper chest area",
          "patient_consult_status_appointed session",
          "patient_consult_status_new consultation",
          "patient_consult_status_under appointment",
          "patient_community_suburban",
          "patient_community_urban",
          "patient_marital_status_Married",
          "patient_marital_status_Single",
          "patient_has_children_Yes",
          "patient_has_dependent_Yes",
          "patient_gender_Male"
         ],
         "yaxis": "y",
         "z": [
          [
           1,
           -0.02899422753881196,
           0.01334534323409473,
           -0.001763816397137819,
           0.9925927325320587,
           0.0795028181795769,
           -0.016239895389895388,
           -0.12403725146039775,
           0.025916970497716574,
           -0.00913960040876377,
           0.013268721154940715,
           -0.03740029863930756,
           0.05850765133438557,
           -0.010640395199070094,
           -0.03810567028179052,
           0.010480404127996093,
           0.03613902260856775,
           0.02220379984157619,
           -0.01993137027621163,
           -0.017668279167318036,
           -0.02619598112115887
          ],
          [
           -0.02899422753881196,
           1,
           0.3852015597787667,
           0.0275457443917078,
           -0.03908370971971332,
           0.00912590326448352,
           0.05390430805940161,
           0.07476313604791159,
           -0.047053577712760634,
           -0.08701665386784385,
           0.0652780018018433,
           -0.006667114378225829,
           -0.01692013802155106,
           0.05176204205826385,
           0.11361872346669101,
           -0.08633952118181266,
           0.25593659900397864,
           -0.6446421237863352,
           -0.024159249823579695,
           -0.03300874691550848,
           0.08504237445928532
          ],
          [
           0.01334534323409473,
           0.3852015597787667,
           1,
           0.02204680037635124,
           0.005339883561704373,
           0.06858575359877807,
           -0.030740650466229945,
           0.01216812062904027,
           -0.01177452566272942,
           0.06513770619808223,
           -0.026422260936938318,
           0.007805405438257564,
           0.0398636749526053,
           -0.02481871606024976,
           0.00044279354409063553,
           -0.13446309438101123,
           0.2758488256575782,
           -0.6936620429280099,
           -0.043467452083702215,
           0.032268677920526866,
           0.017426037309845106
          ],
          [
           -0.001763816397137819,
           0.0275457443917078,
           0.02204680037635124,
           1,
           -0.012520924297460398,
           -0.009610445445768709,
           0.00260176405135713,
           0.02129722343397298,
           0.08531824665526326,
           0.019945077192291858,
           -0.07495579900912044,
           -0.008049819691839037,
           0.009131693133475744,
           -0.017119693541951843,
           -0.05717492427398747,
           -0.022590982999213142,
           -0.07176939302891712,
           -0.09858368903062545,
           0.053785958147944214,
           -0.09735689052337468,
           -0.1211574038317159
          ],
          [
           0.9925927325320587,
           -0.03908370971971332,
           0.005339883561704373,
           -0.012520924297460398,
           1,
           0.08043638389464644,
           -0.01782020807012136,
           -0.12443286942536849,
           0.01790697458890271,
           -0.007923147359693251,
           0.010254630976058365,
           -0.031112216331480445,
           0.05010136846520002,
           -0.005576955673552556,
           -0.04424726780220469,
           0.008016796651055898,
           0.032525302541615064,
           0.030245021042082317,
           -0.01845246800348154,
           -0.01591346367747215,
           -0.023897470146285498
          ],
          [
           0.0795028181795769,
           0.00912590326448352,
           0.06858575359877807,
           -0.009610445445768709,
           0.08043638389464644,
           1,
           -0.14324343497580017,
           -0.11597956201492435,
           -0.10394821243152366,
           -0.1623344510091893,
           -0.10394821243152366,
           -0.03494869785640952,
           -0.05989601586819564,
           0.045274282386203714,
           -0.053332807408481404,
           0.0012470298975145895,
           -0.04055709316688074,
           0.006615710156163599,
           -0.023759412353694186,
           0.022636386119267868,
           -0.006706879454586354
          ],
          [
           -0.016239895389895388,
           0.05390430805940161,
           -0.030740650466229945,
           0.00260176405135713,
           -0.01782020807012136,
           -0.14324343497580017,
           1,
           -0.16719353259687506,
           -0.1498494091684914,
           -0.2340176997987643,
           -0.14984940916849152,
           0.012779179609207771,
           0.013588220714207386,
           -0.02086714972023509,
           0.07632723087953401,
           -0.05748793642419258,
           0.08505570841224663,
           -0.009118812702042508,
           -0.0511991742743444,
           -0.010630424955393746,
           0.005105830127456255
          ],
          [
           -0.12403725146039775,
           0.07476313604791159,
           0.01216812062904027,
           0.02129722343397298,
           -0.12443286942536849,
           -0.11597956201492435,
           -0.16719353259687506,
           1,
           -0.1213282049993633,
           -0.1894765392283844,
           -0.12132820499936327,
           -0.023618370334217327,
           0.024587523281963425,
           0.02559895843594189,
           0.05971304840774785,
           -0.03408239205275083,
           -0.053126556233050834,
           -0.03450306224979679,
           0.031362719442792744,
           -0.024619383664438468,
           -0.02373730486392938
          ],
          [
           0.025916970497716574,
           -0.047053577712760634,
           -0.01177452566272942,
           0.08531824665526326,
           0.01790697458890271,
           -0.10394821243152366,
           -0.1498494091684914,
           -0.1213282049993633,
           1,
           -0.16982084781426882,
           -0.10874200426439215,
           -0.028121671667975835,
           0.036974140683023966,
           -0.017877075435099712,
           -0.043737741690588416,
           0.025246672735891314,
           -0.0315337883808152,
           0.0053665103325366064,
           0.13198760315561067,
           0.04680629714868542,
           0.01939767797829044
          ],
          [
           -0.00913960040876377,
           -0.08701665386784385,
           0.06513770619808223,
           0.019945077192291858,
           -0.007923147359693251,
           -0.1623344510091893,
           -0.2340176997987643,
           -0.1894765392283844,
           -0.16982084781426882,
           1,
           -0.1698208478142688,
           0.13298318593174016,
           -0.022617943507774158,
           -0.0425621461043805,
           -0.019600027167704256,
           0.024499285417614182,
           0.037430841378072455,
           -0.02280919778262264,
           -0.010667422723107533,
           0.04361974147893427,
           0.07086912964375153
          ],
          [
           0.013268721154940715,
           0.0652780018018433,
           -0.026422260936938318,
           -0.07495579900912044,
           0.010254630976058365,
           -0.10394821243152366,
           -0.14984940916849152,
           -0.12132820499936327,
           -0.10874200426439215,
           -0.1698208478142688,
           1,
           -0.0798549355854786,
           -0.054332421112231986,
           0.04701702038515751,
           -0.030248046744499456,
           0.06692371979196583,
           -0.0315337883808152,
           0.005366510332536637,
           -0.023204151826678864,
           -0.017891402259385836,
           -0.04526124861601105
          ],
          [
           -0.03740029863930756,
           -0.006667114378225829,
           0.007805405438257564,
           -0.008049819691839037,
           -0.031112216331480445,
           -0.03494869785640952,
           0.012779179609207771,
           -0.023618370334217327,
           -0.028121671667975835,
           0.13298318593174016,
           -0.0798549355854786,
           1,
           -0.3957127257878706,
           -0.22431072937535848,
           -0.026503482804472442,
           -0.08730876758036259,
           -0.01759331324066975,
           0.005527116050565853,
           -0.025724677921182538,
           -0.10800649644207201,
           1.1530603751121136e-17
          ],
          [
           0.05850765133438557,
           -0.01692013802155106,
           0.0398636749526053,
           0.009131693133475744,
           0.05010136846520002,
           -0.05989601586819564,
           0.013588220714207386,
           0.024587523281963425,
           0.036974140683023966,
           -0.022617943507774158,
           -0.054332421112231986,
           -0.3957127257878706,
           1,
           -0.43574372252797916,
           -0.006786235066487892,
           0.0024044028032965026,
           0.030128878629501022,
           -0.02113974594732173,
           0.036439578006073794,
           0.03950471694018495,
           -0.08534828446470354
          ],
          [
           -0.010640395199070094,
           0.05176204205826385,
           -0.02481871606024976,
           -0.017119693541951843,
           -0.005576955673552556,
           0.045274282386203714,
           -0.02086714972023509,
           0.02559895843594189,
           -0.017877075435099712,
           -0.0425621461043805,
           0.04701702038515751,
           -0.22431072937535848,
           -0.43574372252797916,
           1,
           0.001587440685920865,
           0.02402394132201971,
           0.019703556526173817,
           -0.02761399533567942,
           -0.04916441574978667,
           0.026238712519010218,
           0.043426604113387036
          ],
          [
           -0.03810567028179052,
           0.11361872346669101,
           0.00044279354409063553,
           -0.05717492427398747,
           -0.04424726780220469,
           -0.053332807408481404,
           0.07632723087953401,
           0.05971304840774785,
           -0.043737741690588416,
           -0.019600027167704256,
           -0.030248046744499456,
           -0.026503482804472442,
           -0.006786235066487892,
           0.001587440685920865,
           1,
           -0.5087577456790997,
           0.009292984502233377,
           -0.09717786892161454,
           -0.04070995757462756,
           0.06247167812245093,
           0.008024173123980485
          ],
          [
           0.010480404127996093,
           -0.08633952118181266,
           -0.13446309438101123,
           -0.022590982999213142,
           0.008016796651055898,
           0.0012470298975145895,
           -0.05748793642419258,
           -0.03408239205275083,
           0.025246672735891314,
           0.024499285417614182,
           0.06692371979196583,
           -0.08730876758036259,
           0.0024044028032965026,
           0.02402394132201971,
           -0.5087577456790997,
           1,
           0.005712418624232866,
           0.10171239428056807,
           0.07064333290278187,
           -0.12697135991879976,
           0.05371396398929653
          ],
          [
           0.03613902260856775,
           0.25593659900397864,
           0.2758488256575782,
           -0.07176939302891712,
           0.032525302541615064,
           -0.04055709316688074,
           0.08505570841224663,
           -0.053126556233050834,
           -0.0315337883808152,
           0.037430841378072455,
           -0.0315337883808152,
           -0.01759331324066975,
           0.030128878629501022,
           0.019703556526173817,
           0.009292984502233377,
           0.005712418624232866,
           1,
           -0.4526302746216681,
           0.12360409454172899,
           -0.021945676819417944,
           0.2123894545484734
          ],
          [
           0.02220379984157619,
           -0.6446421237863352,
           -0.6936620429280099,
           -0.09858368903062545,
           0.030245021042082317,
           0.006615710156163599,
           -0.009118812702042508,
           -0.03450306224979679,
           0.0053665103325366064,
           -0.02280919778262264,
           0.005366510332536637,
           0.005527116050565853,
           -0.02113974594732173,
           -0.02761399533567942,
           -0.09717786892161454,
           0.10171239428056807,
           -0.4526302746216681,
           1,
           0.04083279826737478,
           0.04429952500499358,
           -0.10863508805244428
          ],
          [
           -0.01993137027621163,
           -0.024159249823579695,
           -0.043467452083702215,
           0.053785958147944214,
           -0.01845246800348154,
           -0.023759412353694186,
           -0.0511991742743444,
           0.031362719442792744,
           0.13198760315561067,
           -0.010667422723107533,
           -0.023204151826678864,
           -0.025724677921182538,
           0.036439578006073794,
           -0.04916441574978667,
           -0.04070995757462756,
           0.07064333290278187,
           0.12360409454172899,
           0.04083279826737478,
           1,
           -0.04658427128776464,
           0.06538896834544439
          ],
          [
           -0.017668279167318036,
           -0.03300874691550848,
           0.032268677920526866,
           -0.09735689052337468,
           -0.01591346367747215,
           0.022636386119267868,
           -0.010630424955393746,
           -0.024619383664438468,
           0.04680629714868542,
           0.04361974147893427,
           -0.017891402259385836,
           -0.10800649644207201,
           0.03950471694018495,
           0.026238712519010218,
           0.06247167812245093,
           -0.12697135991879976,
           -0.021945676819417944,
           0.04429952500499358,
           -0.04658427128776464,
           1,
           -0.019242300987841434
          ],
          [
           -0.02619598112115887,
           0.08504237445928532,
           0.017426037309845106,
           -0.1211574038317159,
           -0.023897470146285498,
           -0.006706879454586354,
           0.005105830127456255,
           -0.02373730486392938,
           0.01939767797829044,
           0.07086912964375153,
           -0.04526124861601105,
           1.1530603751121136e-17,
           -0.08534828446470354,
           0.043426604113387036,
           0.008024173123980485,
           0.05371396398929653,
           0.2123894545484734,
           -0.10863508805244428,
           0.06538896834544439,
           -0.019242300987841434,
           1
          ]
         ]
        }
       ],
       "layout": {
        "coloraxis": {
         "colorscale": [
          [
           0,
           "#0d0887"
          ],
          [
           0.1111111111111111,
           "#46039f"
          ],
          [
           0.2222222222222222,
           "#7201a8"
          ],
          [
           0.3333333333333333,
           "#9c179e"
          ],
          [
           0.4444444444444444,
           "#bd3786"
          ],
          [
           0.5555555555555556,
           "#d8576b"
          ],
          [
           0.6666666666666666,
           "#ed7953"
          ],
          [
           0.7777777777777778,
           "#fb9f3a"
          ],
          [
           0.8888888888888888,
           "#fdca26"
          ],
          [
           1,
           "#f0f921"
          ]
         ]
        },
        "margin": {
         "t": 60
        },
        "template": {
         "data": {
          "bar": [
           {
            "error_x": {
             "color": "#2a3f5f"
            },
            "error_y": {
             "color": "#2a3f5f"
            },
            "marker": {
             "line": {
              "color": "#E5ECF6",
              "width": 0.5
             },
             "pattern": {
              "fillmode": "overlay",
              "size": 10,
              "solidity": 0.2
             }
            },
            "type": "bar"
           }
          ],
          "barpolar": [
           {
            "marker": {
             "line": {
              "color": "#E5ECF6",
              "width": 0.5
             },
             "pattern": {
              "fillmode": "overlay",
              "size": 10,
              "solidity": 0.2
             }
            },
            "type": "barpolar"
           }
          ],
          "carpet": [
           {
            "aaxis": {
             "endlinecolor": "#2a3f5f",
             "gridcolor": "white",
             "linecolor": "white",
             "minorgridcolor": "white",
             "startlinecolor": "#2a3f5f"
            },
            "baxis": {
             "endlinecolor": "#2a3f5f",
             "gridcolor": "white",
             "linecolor": "white",
             "minorgridcolor": "white",
             "startlinecolor": "#2a3f5f"
            },
            "type": "carpet"
           }
          ],
          "choropleth": [
           {
            "colorbar": {
             "outlinewidth": 0,
             "ticks": ""
            },
            "type": "choropleth"
           }
          ],
          "contour": [
           {
            "colorbar": {
             "outlinewidth": 0,
             "ticks": ""
            },
            "colorscale": [
             [
              0,
              "#0d0887"
             ],
             [
              0.1111111111111111,
              "#46039f"
             ],
             [
              0.2222222222222222,
              "#7201a8"
             ],
             [
              0.3333333333333333,
              "#9c179e"
             ],
             [
              0.4444444444444444,
              "#bd3786"
             ],
             [
              0.5555555555555556,
              "#d8576b"
             ],
             [
              0.6666666666666666,
              "#ed7953"
             ],
             [
              0.7777777777777778,
              "#fb9f3a"
             ],
             [
              0.8888888888888888,
              "#fdca26"
             ],
             [
              1,
              "#f0f921"
             ]
            ],
            "type": "contour"
           }
          ],
          "contourcarpet": [
           {
            "colorbar": {
             "outlinewidth": 0,
             "ticks": ""
            },
            "type": "contourcarpet"
           }
          ],
          "heatmap": [
           {
            "colorbar": {
             "outlinewidth": 0,
             "ticks": ""
            },
            "colorscale": [
             [
              0,
              "#0d0887"
             ],
             [
              0.1111111111111111,
              "#46039f"
             ],
             [
              0.2222222222222222,
              "#7201a8"
             ],
             [
              0.3333333333333333,
              "#9c179e"
             ],
             [
              0.4444444444444444,
              "#bd3786"
             ],
             [
              0.5555555555555556,
              "#d8576b"
             ],
             [
              0.6666666666666666,
              "#ed7953"
             ],
             [
              0.7777777777777778,
              "#fb9f3a"
             ],
             [
              0.8888888888888888,
              "#fdca26"
             ],
             [
              1,
              "#f0f921"
             ]
            ],
            "type": "heatmap"
           }
          ],
          "heatmapgl": [
           {
            "colorbar": {
             "outlinewidth": 0,
             "ticks": ""
            },
            "colorscale": [
             [
              0,
              "#0d0887"
             ],
             [
              0.1111111111111111,
              "#46039f"
             ],
             [
              0.2222222222222222,
              "#7201a8"
             ],
             [
              0.3333333333333333,
              "#9c179e"
             ],
             [
              0.4444444444444444,
              "#bd3786"
             ],
             [
              0.5555555555555556,
              "#d8576b"
             ],
             [
              0.6666666666666666,
              "#ed7953"
             ],
             [
              0.7777777777777778,
              "#fb9f3a"
             ],
             [
              0.8888888888888888,
              "#fdca26"
             ],
             [
              1,
              "#f0f921"
             ]
            ],
            "type": "heatmapgl"
           }
          ],
          "histogram": [
           {
            "marker": {
             "pattern": {
              "fillmode": "overlay",
              "size": 10,
              "solidity": 0.2
             }
            },
            "type": "histogram"
           }
          ],
          "histogram2d": [
           {
            "colorbar": {
             "outlinewidth": 0,
             "ticks": ""
            },
            "colorscale": [
             [
              0,
              "#0d0887"
             ],
             [
              0.1111111111111111,
              "#46039f"
             ],
             [
              0.2222222222222222,
              "#7201a8"
             ],
             [
              0.3333333333333333,
              "#9c179e"
             ],
             [
              0.4444444444444444,
              "#bd3786"
             ],
             [
              0.5555555555555556,
              "#d8576b"
             ],
             [
              0.6666666666666666,
              "#ed7953"
             ],
             [
              0.7777777777777778,
              "#fb9f3a"
             ],
             [
              0.8888888888888888,
              "#fdca26"
             ],
             [
              1,
              "#f0f921"
             ]
            ],
            "type": "histogram2d"
           }
          ],
          "histogram2dcontour": [
           {
            "colorbar": {
             "outlinewidth": 0,
             "ticks": ""
            },
            "colorscale": [
             [
              0,
              "#0d0887"
             ],
             [
              0.1111111111111111,
              "#46039f"
             ],
             [
              0.2222222222222222,
              "#7201a8"
             ],
             [
              0.3333333333333333,
              "#9c179e"
             ],
             [
              0.4444444444444444,
              "#bd3786"
             ],
             [
              0.5555555555555556,
              "#d8576b"
             ],
             [
              0.6666666666666666,
              "#ed7953"
             ],
             [
              0.7777777777777778,
              "#fb9f3a"
             ],
             [
              0.8888888888888888,
              "#fdca26"
             ],
             [
              1,
              "#f0f921"
             ]
            ],
            "type": "histogram2dcontour"
           }
          ],
          "mesh3d": [
           {
            "colorbar": {
             "outlinewidth": 0,
             "ticks": ""
            },
            "type": "mesh3d"
           }
          ],
          "parcoords": [
           {
            "line": {
             "colorbar": {
              "outlinewidth": 0,
              "ticks": ""
             }
            },
            "type": "parcoords"
           }
          ],
          "pie": [
           {
            "automargin": true,
            "type": "pie"
           }
          ],
          "scatter": [
           {
            "fillpattern": {
             "fillmode": "overlay",
             "size": 10,
             "solidity": 0.2
            },
            "type": "scatter"
           }
          ],
          "scatter3d": [
           {
            "line": {
             "colorbar": {
              "outlinewidth": 0,
              "ticks": ""
             }
            },
            "marker": {
             "colorbar": {
              "outlinewidth": 0,
              "ticks": ""
             }
            },
            "type": "scatter3d"
           }
          ],
          "scattercarpet": [
           {
            "marker": {
             "colorbar": {
              "outlinewidth": 0,
              "ticks": ""
             }
            },
            "type": "scattercarpet"
           }
          ],
          "scattergeo": [
           {
            "marker": {
             "colorbar": {
              "outlinewidth": 0,
              "ticks": ""
             }
            },
            "type": "scattergeo"
           }
          ],
          "scattergl": [
           {
            "marker": {
             "colorbar": {
              "outlinewidth": 0,
              "ticks": ""
             }
            },
            "type": "scattergl"
           }
          ],
          "scattermapbox": [
           {
            "marker": {
             "colorbar": {
              "outlinewidth": 0,
              "ticks": ""
             }
            },
            "type": "scattermapbox"
           }
          ],
          "scatterpolar": [
           {
            "marker": {
             "colorbar": {
              "outlinewidth": 0,
              "ticks": ""
             }
            },
            "type": "scatterpolar"
           }
          ],
          "scatterpolargl": [
           {
            "marker": {
             "colorbar": {
              "outlinewidth": 0,
              "ticks": ""
             }
            },
            "type": "scatterpolargl"
           }
          ],
          "scatterternary": [
           {
            "marker": {
             "colorbar": {
              "outlinewidth": 0,
              "ticks": ""
             }
            },
            "type": "scatterternary"
           }
          ],
          "surface": [
           {
            "colorbar": {
             "outlinewidth": 0,
             "ticks": ""
            },
            "colorscale": [
             [
              0,
              "#0d0887"
             ],
             [
              0.1111111111111111,
              "#46039f"
             ],
             [
              0.2222222222222222,
              "#7201a8"
             ],
             [
              0.3333333333333333,
              "#9c179e"
             ],
             [
              0.4444444444444444,
              "#bd3786"
             ],
             [
              0.5555555555555556,
              "#d8576b"
             ],
             [
              0.6666666666666666,
              "#ed7953"
             ],
             [
              0.7777777777777778,
              "#fb9f3a"
             ],
             [
              0.8888888888888888,
              "#fdca26"
             ],
             [
              1,
              "#f0f921"
             ]
            ],
            "type": "surface"
           }
          ],
          "table": [
           {
            "cells": {
             "fill": {
              "color": "#EBF0F8"
             },
             "line": {
              "color": "white"
             }
            },
            "header": {
             "fill": {
              "color": "#C8D4E3"
             },
             "line": {
              "color": "white"
             }
            },
            "type": "table"
           }
          ]
         },
         "layout": {
          "annotationdefaults": {
           "arrowcolor": "#2a3f5f",
           "arrowhead": 0,
           "arrowwidth": 1
          },
          "autotypenumbers": "strict",
          "coloraxis": {
           "colorbar": {
            "outlinewidth": 0,
            "ticks": ""
           }
          },
          "colorscale": {
           "diverging": [
            [
             0,
             "#8e0152"
            ],
            [
             0.1,
             "#c51b7d"
            ],
            [
             0.2,
             "#de77ae"
            ],
            [
             0.3,
             "#f1b6da"
            ],
            [
             0.4,
             "#fde0ef"
            ],
            [
             0.5,
             "#f7f7f7"
            ],
            [
             0.6,
             "#e6f5d0"
            ],
            [
             0.7,
             "#b8e186"
            ],
            [
             0.8,
             "#7fbc41"
            ],
            [
             0.9,
             "#4d9221"
            ],
            [
             1,
             "#276419"
            ]
           ],
           "sequential": [
            [
             0,
             "#0d0887"
            ],
            [
             0.1111111111111111,
             "#46039f"
            ],
            [
             0.2222222222222222,
             "#7201a8"
            ],
            [
             0.3333333333333333,
             "#9c179e"
            ],
            [
             0.4444444444444444,
             "#bd3786"
            ],
            [
             0.5555555555555556,
             "#d8576b"
            ],
            [
             0.6666666666666666,
             "#ed7953"
            ],
            [
             0.7777777777777778,
             "#fb9f3a"
            ],
            [
             0.8888888888888888,
             "#fdca26"
            ],
            [
             1,
             "#f0f921"
            ]
           ],
           "sequentialminus": [
            [
             0,
             "#0d0887"
            ],
            [
             0.1111111111111111,
             "#46039f"
            ],
            [
             0.2222222222222222,
             "#7201a8"
            ],
            [
             0.3333333333333333,
             "#9c179e"
            ],
            [
             0.4444444444444444,
             "#bd3786"
            ],
            [
             0.5555555555555556,
             "#d8576b"
            ],
            [
             0.6666666666666666,
             "#ed7953"
            ],
            [
             0.7777777777777778,
             "#fb9f3a"
            ],
            [
             0.8888888888888888,
             "#fdca26"
            ],
            [
             1,
             "#f0f921"
            ]
           ]
          },
          "colorway": [
           "#636efa",
           "#EF553B",
           "#00cc96",
           "#ab63fa",
           "#FFA15A",
           "#19d3f3",
           "#FF6692",
           "#B6E880",
           "#FF97FF",
           "#FECB52"
          ],
          "font": {
           "color": "#2a3f5f"
          },
          "geo": {
           "bgcolor": "white",
           "lakecolor": "white",
           "landcolor": "#E5ECF6",
           "showlakes": true,
           "showland": true,
           "subunitcolor": "white"
          },
          "hoverlabel": {
           "align": "left"
          },
          "hovermode": "closest",
          "mapbox": {
           "style": "light"
          },
          "paper_bgcolor": "white",
          "plot_bgcolor": "#E5ECF6",
          "polar": {
           "angularaxis": {
            "gridcolor": "white",
            "linecolor": "white",
            "ticks": ""
           },
           "bgcolor": "#E5ECF6",
           "radialaxis": {
            "gridcolor": "white",
            "linecolor": "white",
            "ticks": ""
           }
          },
          "scene": {
           "xaxis": {
            "backgroundcolor": "#E5ECF6",
            "gridcolor": "white",
            "gridwidth": 2,
            "linecolor": "white",
            "showbackground": true,
            "ticks": "",
            "zerolinecolor": "white"
           },
           "yaxis": {
            "backgroundcolor": "#E5ECF6",
            "gridcolor": "white",
            "gridwidth": 2,
            "linecolor": "white",
            "showbackground": true,
            "ticks": "",
            "zerolinecolor": "white"
           },
           "zaxis": {
            "backgroundcolor": "#E5ECF6",
            "gridcolor": "white",
            "gridwidth": 2,
            "linecolor": "white",
            "showbackground": true,
            "ticks": "",
            "zerolinecolor": "white"
           }
          },
          "shapedefaults": {
           "line": {
            "color": "#2a3f5f"
           }
          },
          "ternary": {
           "aaxis": {
            "gridcolor": "white",
            "linecolor": "white",
            "ticks": ""
           },
           "baxis": {
            "gridcolor": "white",
            "linecolor": "white",
            "ticks": ""
           },
           "bgcolor": "#E5ECF6",
           "caxis": {
            "gridcolor": "white",
            "linecolor": "white",
            "ticks": ""
           }
          },
          "title": {
           "x": 0.05
          },
          "xaxis": {
           "automargin": true,
           "gridcolor": "white",
           "linecolor": "white",
           "ticks": "",
           "title": {
            "standoff": 15
           },
           "zerolinecolor": "white",
           "zerolinewidth": 2
          },
          "yaxis": {
           "automargin": true,
           "gridcolor": "white",
           "linecolor": "white",
           "ticks": "",
           "title": {
            "standoff": 15
           },
           "zerolinecolor": "white",
           "zerolinewidth": 2
          }
         }
        },
        "title": {
         "text": "Correlation matrix plot of the simulated dataset"
        },
        "xaxis": {
         "anchor": "y",
         "domain": [
          0,
          1
         ]
        },
        "yaxis": {
         "anchor": "x",
         "autorange": "reversed",
         "domain": [
          0,
          1
         ]
        }
       }
      }
     },
     "metadata": {},
     "output_type": "display_data"
    }
   ],
   "source": [
    "corr = simulated_dataframe.corr()\n",
    "fig = px.imshow(corr, text_auto=True, aspect=\"auto\")\n",
    "\n",
    "# Title\n",
    "fig.update_layout(title_text=\"Correlation matrix plot of the simulated dataset\")\n",
    "\n",
    "fig.show()"
   ]
  },
  {
   "cell_type": "code",
   "execution_count": 114,
   "metadata": {},
   "outputs": [],
   "source": [
    "# use logarithm of target variable \"log(consult_cost)\" to handel outlier and minimize mean square error(MSE) \n",
    "simulated_dataframe['consult_cost'] = np.log(simulated_dataframe['consult_cost'])"
   ]
  },
  {
   "attachments": {},
   "cell_type": "markdown",
   "metadata": {},
   "source": [
    "## Choices for Insurance Model\n",
    "        Choose a suitable machine learning (predictive) model that forcasts the observed target."
   ]
  },
  {
   "attachments": {},
   "cell_type": "markdown",
   "metadata": {},
   "source": [
    "Get the train and test datasets "
   ]
  },
  {
   "cell_type": "code",
   "execution_count": 115,
   "metadata": {},
   "outputs": [],
   "source": [
    "target_variable = 'consult_cost'\n",
    "X = simulated_dataframe.drop(target_variable, axis=1)\n",
    "\n",
    "#Apply robust scaling to explanatory variables to reduce outliers\n",
    "robust_scaler = RobustScaler()\n",
    "X = robust_scaler.fit_transform(X)  # x_new=x-median(data)/(Q3-Q1)\n",
    "\n",
    "y = simulated_dataframe[target_variable]\n",
    "x_train, x_test, y_train, y_test = train_test_split(X, y, test_size=0.2, random_state=23)"
   ]
  },
  {
   "attachments": {},
   "cell_type": "markdown",
   "metadata": {},
   "source": [
    "Prepare dataframe for model analysis"
   ]
  },
  {
   "cell_type": "code",
   "execution_count": 116,
   "metadata": {},
   "outputs": [],
   "source": [
    "mean_Model = pd.DataFrame(index=['train_MSE', 'test_MSE'], columns=['MLR', 'RF', 'KNN', 'LASSO'])\n",
    "r_Model = pd.DataFrame(index=['train_R2', 'test_R2'], columns=['MLR', 'RF', 'KNN', 'LASSO'])"
   ]
  },
  {
   "attachments": {},
   "cell_type": "markdown",
   "metadata": {},
   "source": [
    "Build models "
   ]
  },
  {
   "attachments": {},
   "cell_type": "markdown",
   "metadata": {},
   "source": [
    "    Multiple Linear Regression (MLR)"
   ]
  },
  {
   "cell_type": "code",
   "execution_count": 117,
   "metadata": {},
   "outputs": [],
   "source": [
    "# 1. Import the estimator object (model)\n",
    "from sklearn.linear_model import LinearRegression\n",
    "# 2. Create an instance of the estimator\n",
    "linear_regression = LinearRegression()\n",
    "# 3. Use the trainning data to train the estimator\n",
    "linear_regression.fit(x_train, y_train)\n",
    "# 4. Evaluate the model\n",
    "mean_Model.loc['train_MSE','MLR'] = mean_squared_error(y_pred=linear_regression.predict(x_train), y_true=y_train)\n",
    "mean_Model.loc['test_MSE','MLR'] = mean_squared_error(y_pred=linear_regression.predict(x_test), y_true=y_test)\n",
    "r_Model.loc['train_R2','MLR'] = r2_score(y_pred=linear_regression.predict(x_train), y_true=y_train)\n",
    "r_Model.loc['test_R2','MLR'] = r2_score(y_pred=linear_regression.predict(x_test), y_true=y_test)"
   ]
  },
  {
   "attachments": {},
   "cell_type": "markdown",
   "metadata": {},
   "source": [
    "    Random Forest (RF)"
   ]
  },
  {
   "cell_type": "code",
   "execution_count": 118,
   "metadata": {},
   "outputs": [],
   "source": [
    "# 1. Import the estimator object (model)\n",
    "from sklearn.ensemble import RandomForestRegressor\n",
    "# 2. Create an instance of the estimator\n",
    "RF = RandomForestRegressor(n_estimators=100, random_state=21)\n",
    "# 3. Use the trainning data to train the estimator\n",
    "RF.fit(x_train, y_train)\n",
    "# 4. Evaluate the model\n",
    "mean_Model.loc['train_MSE','RF'] = mean_squared_error(y_pred=RF.predict(x_train), y_true=y_train)\n",
    "mean_Model.loc['test_MSE','RF'] = mean_squared_error(y_pred=RF.predict(x_test), y_true=y_test)\n",
    "r_Model.loc['train_R2','RF'] = r2_score(y_pred=RF.predict(x_train), y_true=y_train)\n",
    "r_Model.loc['test_R2','RF'] = r2_score(y_pred=RF.predict(x_test), y_true=y_test)"
   ]
  },
  {
   "attachments": {},
   "cell_type": "markdown",
   "metadata": {},
   "source": [
    "    K-Nearest Neighbor (KNN)"
   ]
  },
  {
   "cell_type": "code",
   "execution_count": 119,
   "metadata": {},
   "outputs": [],
   "source": [
    "# 1. Import the estimator object (model)\n",
    "from sklearn.neighbors import KNeighborsRegressor\n",
    "# 2. Create an instance of the estimator\n",
    "knn = KNeighborsRegressor(n_neighbors=7, weights='distance', metric='euclidean', n_jobs=-1)\n",
    "# 3. Use the training data to train the estimator\n",
    "knn.fit(x_train, y_train)\n",
    "# 4. Evaluate the model\n",
    "mean_Model.loc['train_MSE','KNN'] = mean_squared_error(y_pred=knn.predict(x_train), y_true=y_train)\n",
    "mean_Model.loc['test_MSE','KNN'] = mean_squared_error(y_pred=knn.predict(x_test), y_true=y_test)\n",
    "r_Model.loc['train_R2','KNN'] = r2_score(y_pred=knn.predict(x_train), y_true=y_train)\n",
    "r_Model.loc['test_R2','KNN'] = r2_score(y_pred=knn.predict(x_test), y_true=y_test)"
   ]
  },
  {
   "attachments": {},
   "cell_type": "markdown",
   "metadata": {},
   "source": [
    "    Least Absolute Shrinkage and Selection Operator (LASSO)"
   ]
  },
  {
   "cell_type": "code",
   "execution_count": 120,
   "metadata": {},
   "outputs": [],
   "source": [
    "# 1. Import the estimator object (model)\n",
    "from sklearn.linear_model import Lasso\n",
    "# 2. Create an instance of the estimator\n",
    "lasso = Lasso(alpha=0.05)\n",
    "# 3. Use the training data to train the estimator\n",
    "lasso.fit(x_train, y_train)\n",
    "# 4. Evaluate the model\n",
    "mean_Model.loc['train_MSE','LASSO'] = mean_squared_error(y_pred=lasso.predict(x_train), y_true=y_train)\n",
    "mean_Model.loc['test_MSE','LASSO'] = mean_squared_error(y_pred=lasso.predict(x_test), y_true=y_test)\n",
    "r_Model.loc['train_R2','LASSO'] = r2_score(y_pred=lasso.predict(x_train), y_true=y_train)\n",
    "r_Model.loc['test_R2','LASSO'] = r2_score(y_pred=lasso.predict(x_test), y_true=y_test)"
   ]
  },
  {
   "cell_type": "code",
   "execution_count": 121,
   "metadata": {},
   "outputs": [
    {
     "data": {
      "text/html": [
       "<div>\n",
       "<style scoped>\n",
       "    .dataframe tbody tr th:only-of-type {\n",
       "        vertical-align: middle;\n",
       "    }\n",
       "\n",
       "    .dataframe tbody tr th {\n",
       "        vertical-align: top;\n",
       "    }\n",
       "\n",
       "    .dataframe thead th {\n",
       "        text-align: right;\n",
       "    }\n",
       "</style>\n",
       "<table border=\"1\" class=\"dataframe\">\n",
       "  <thead>\n",
       "    <tr style=\"text-align: right;\">\n",
       "      <th></th>\n",
       "      <th>MLR</th>\n",
       "      <th>RF</th>\n",
       "      <th>KNN</th>\n",
       "      <th>LASSO</th>\n",
       "    </tr>\n",
       "  </thead>\n",
       "  <tbody>\n",
       "    <tr>\n",
       "      <th>train_MSE</th>\n",
       "      <td>0.047812</td>\n",
       "      <td>0.00116</td>\n",
       "      <td>0.0</td>\n",
       "      <td>0.059459</td>\n",
       "    </tr>\n",
       "    <tr>\n",
       "      <th>test_MSE</th>\n",
       "      <td>0.053528</td>\n",
       "      <td>0.012147</td>\n",
       "      <td>0.203065</td>\n",
       "      <td>0.060388</td>\n",
       "    </tr>\n",
       "  </tbody>\n",
       "</table>\n",
       "</div>"
      ],
      "text/plain": [
       "                MLR        RF       KNN     LASSO\n",
       "train_MSE  0.047812   0.00116       0.0  0.059459\n",
       "test_MSE   0.053528  0.012147  0.203065  0.060388"
      ]
     },
     "execution_count": 121,
     "metadata": {},
     "output_type": "execute_result"
    }
   ],
   "source": [
    "mean_Model"
   ]
  },
  {
   "cell_type": "code",
   "execution_count": 122,
   "metadata": {},
   "outputs": [
    {
     "data": {
      "application/vnd.plotly.v1+json": {
       "config": {
        "plotlyServerURL": "https://plot.ly"
       },
       "data": [
        {
         "name": "train_MSE",
         "orientation": "h",
         "type": "bar",
         "x": [
          0.04781246449753026,
          0.0011601769640505407,
          4.701022804698231e-16,
          0.05945851888802556
         ],
         "y": [
          "MLR",
          "RF",
          "KNN",
          "LASSO"
         ]
        },
        {
         "name": "test_MSE",
         "orientation": "h",
         "type": "bar",
         "x": [
          0.05352823677404383,
          0.01214706154421549,
          0.20306495478972483,
          0.06038846873633898
         ],
         "y": [
          "MLR",
          "RF",
          "KNN",
          "LASSO"
         ]
        }
       ],
       "layout": {
        "barmode": "group",
        "template": {
         "data": {
          "bar": [
           {
            "error_x": {
             "color": "#2a3f5f"
            },
            "error_y": {
             "color": "#2a3f5f"
            },
            "marker": {
             "line": {
              "color": "#E5ECF6",
              "width": 0.5
             },
             "pattern": {
              "fillmode": "overlay",
              "size": 10,
              "solidity": 0.2
             }
            },
            "type": "bar"
           }
          ],
          "barpolar": [
           {
            "marker": {
             "line": {
              "color": "#E5ECF6",
              "width": 0.5
             },
             "pattern": {
              "fillmode": "overlay",
              "size": 10,
              "solidity": 0.2
             }
            },
            "type": "barpolar"
           }
          ],
          "carpet": [
           {
            "aaxis": {
             "endlinecolor": "#2a3f5f",
             "gridcolor": "white",
             "linecolor": "white",
             "minorgridcolor": "white",
             "startlinecolor": "#2a3f5f"
            },
            "baxis": {
             "endlinecolor": "#2a3f5f",
             "gridcolor": "white",
             "linecolor": "white",
             "minorgridcolor": "white",
             "startlinecolor": "#2a3f5f"
            },
            "type": "carpet"
           }
          ],
          "choropleth": [
           {
            "colorbar": {
             "outlinewidth": 0,
             "ticks": ""
            },
            "type": "choropleth"
           }
          ],
          "contour": [
           {
            "colorbar": {
             "outlinewidth": 0,
             "ticks": ""
            },
            "colorscale": [
             [
              0,
              "#0d0887"
             ],
             [
              0.1111111111111111,
              "#46039f"
             ],
             [
              0.2222222222222222,
              "#7201a8"
             ],
             [
              0.3333333333333333,
              "#9c179e"
             ],
             [
              0.4444444444444444,
              "#bd3786"
             ],
             [
              0.5555555555555556,
              "#d8576b"
             ],
             [
              0.6666666666666666,
              "#ed7953"
             ],
             [
              0.7777777777777778,
              "#fb9f3a"
             ],
             [
              0.8888888888888888,
              "#fdca26"
             ],
             [
              1,
              "#f0f921"
             ]
            ],
            "type": "contour"
           }
          ],
          "contourcarpet": [
           {
            "colorbar": {
             "outlinewidth": 0,
             "ticks": ""
            },
            "type": "contourcarpet"
           }
          ],
          "heatmap": [
           {
            "colorbar": {
             "outlinewidth": 0,
             "ticks": ""
            },
            "colorscale": [
             [
              0,
              "#0d0887"
             ],
             [
              0.1111111111111111,
              "#46039f"
             ],
             [
              0.2222222222222222,
              "#7201a8"
             ],
             [
              0.3333333333333333,
              "#9c179e"
             ],
             [
              0.4444444444444444,
              "#bd3786"
             ],
             [
              0.5555555555555556,
              "#d8576b"
             ],
             [
              0.6666666666666666,
              "#ed7953"
             ],
             [
              0.7777777777777778,
              "#fb9f3a"
             ],
             [
              0.8888888888888888,
              "#fdca26"
             ],
             [
              1,
              "#f0f921"
             ]
            ],
            "type": "heatmap"
           }
          ],
          "heatmapgl": [
           {
            "colorbar": {
             "outlinewidth": 0,
             "ticks": ""
            },
            "colorscale": [
             [
              0,
              "#0d0887"
             ],
             [
              0.1111111111111111,
              "#46039f"
             ],
             [
              0.2222222222222222,
              "#7201a8"
             ],
             [
              0.3333333333333333,
              "#9c179e"
             ],
             [
              0.4444444444444444,
              "#bd3786"
             ],
             [
              0.5555555555555556,
              "#d8576b"
             ],
             [
              0.6666666666666666,
              "#ed7953"
             ],
             [
              0.7777777777777778,
              "#fb9f3a"
             ],
             [
              0.8888888888888888,
              "#fdca26"
             ],
             [
              1,
              "#f0f921"
             ]
            ],
            "type": "heatmapgl"
           }
          ],
          "histogram": [
           {
            "marker": {
             "pattern": {
              "fillmode": "overlay",
              "size": 10,
              "solidity": 0.2
             }
            },
            "type": "histogram"
           }
          ],
          "histogram2d": [
           {
            "colorbar": {
             "outlinewidth": 0,
             "ticks": ""
            },
            "colorscale": [
             [
              0,
              "#0d0887"
             ],
             [
              0.1111111111111111,
              "#46039f"
             ],
             [
              0.2222222222222222,
              "#7201a8"
             ],
             [
              0.3333333333333333,
              "#9c179e"
             ],
             [
              0.4444444444444444,
              "#bd3786"
             ],
             [
              0.5555555555555556,
              "#d8576b"
             ],
             [
              0.6666666666666666,
              "#ed7953"
             ],
             [
              0.7777777777777778,
              "#fb9f3a"
             ],
             [
              0.8888888888888888,
              "#fdca26"
             ],
             [
              1,
              "#f0f921"
             ]
            ],
            "type": "histogram2d"
           }
          ],
          "histogram2dcontour": [
           {
            "colorbar": {
             "outlinewidth": 0,
             "ticks": ""
            },
            "colorscale": [
             [
              0,
              "#0d0887"
             ],
             [
              0.1111111111111111,
              "#46039f"
             ],
             [
              0.2222222222222222,
              "#7201a8"
             ],
             [
              0.3333333333333333,
              "#9c179e"
             ],
             [
              0.4444444444444444,
              "#bd3786"
             ],
             [
              0.5555555555555556,
              "#d8576b"
             ],
             [
              0.6666666666666666,
              "#ed7953"
             ],
             [
              0.7777777777777778,
              "#fb9f3a"
             ],
             [
              0.8888888888888888,
              "#fdca26"
             ],
             [
              1,
              "#f0f921"
             ]
            ],
            "type": "histogram2dcontour"
           }
          ],
          "mesh3d": [
           {
            "colorbar": {
             "outlinewidth": 0,
             "ticks": ""
            },
            "type": "mesh3d"
           }
          ],
          "parcoords": [
           {
            "line": {
             "colorbar": {
              "outlinewidth": 0,
              "ticks": ""
             }
            },
            "type": "parcoords"
           }
          ],
          "pie": [
           {
            "automargin": true,
            "type": "pie"
           }
          ],
          "scatter": [
           {
            "fillpattern": {
             "fillmode": "overlay",
             "size": 10,
             "solidity": 0.2
            },
            "type": "scatter"
           }
          ],
          "scatter3d": [
           {
            "line": {
             "colorbar": {
              "outlinewidth": 0,
              "ticks": ""
             }
            },
            "marker": {
             "colorbar": {
              "outlinewidth": 0,
              "ticks": ""
             }
            },
            "type": "scatter3d"
           }
          ],
          "scattercarpet": [
           {
            "marker": {
             "colorbar": {
              "outlinewidth": 0,
              "ticks": ""
             }
            },
            "type": "scattercarpet"
           }
          ],
          "scattergeo": [
           {
            "marker": {
             "colorbar": {
              "outlinewidth": 0,
              "ticks": ""
             }
            },
            "type": "scattergeo"
           }
          ],
          "scattergl": [
           {
            "marker": {
             "colorbar": {
              "outlinewidth": 0,
              "ticks": ""
             }
            },
            "type": "scattergl"
           }
          ],
          "scattermapbox": [
           {
            "marker": {
             "colorbar": {
              "outlinewidth": 0,
              "ticks": ""
             }
            },
            "type": "scattermapbox"
           }
          ],
          "scatterpolar": [
           {
            "marker": {
             "colorbar": {
              "outlinewidth": 0,
              "ticks": ""
             }
            },
            "type": "scatterpolar"
           }
          ],
          "scatterpolargl": [
           {
            "marker": {
             "colorbar": {
              "outlinewidth": 0,
              "ticks": ""
             }
            },
            "type": "scatterpolargl"
           }
          ],
          "scatterternary": [
           {
            "marker": {
             "colorbar": {
              "outlinewidth": 0,
              "ticks": ""
             }
            },
            "type": "scatterternary"
           }
          ],
          "surface": [
           {
            "colorbar": {
             "outlinewidth": 0,
             "ticks": ""
            },
            "colorscale": [
             [
              0,
              "#0d0887"
             ],
             [
              0.1111111111111111,
              "#46039f"
             ],
             [
              0.2222222222222222,
              "#7201a8"
             ],
             [
              0.3333333333333333,
              "#9c179e"
             ],
             [
              0.4444444444444444,
              "#bd3786"
             ],
             [
              0.5555555555555556,
              "#d8576b"
             ],
             [
              0.6666666666666666,
              "#ed7953"
             ],
             [
              0.7777777777777778,
              "#fb9f3a"
             ],
             [
              0.8888888888888888,
              "#fdca26"
             ],
             [
              1,
              "#f0f921"
             ]
            ],
            "type": "surface"
           }
          ],
          "table": [
           {
            "cells": {
             "fill": {
              "color": "#EBF0F8"
             },
             "line": {
              "color": "white"
             }
            },
            "header": {
             "fill": {
              "color": "#C8D4E3"
             },
             "line": {
              "color": "white"
             }
            },
            "type": "table"
           }
          ]
         },
         "layout": {
          "annotationdefaults": {
           "arrowcolor": "#2a3f5f",
           "arrowhead": 0,
           "arrowwidth": 1
          },
          "autotypenumbers": "strict",
          "coloraxis": {
           "colorbar": {
            "outlinewidth": 0,
            "ticks": ""
           }
          },
          "colorscale": {
           "diverging": [
            [
             0,
             "#8e0152"
            ],
            [
             0.1,
             "#c51b7d"
            ],
            [
             0.2,
             "#de77ae"
            ],
            [
             0.3,
             "#f1b6da"
            ],
            [
             0.4,
             "#fde0ef"
            ],
            [
             0.5,
             "#f7f7f7"
            ],
            [
             0.6,
             "#e6f5d0"
            ],
            [
             0.7,
             "#b8e186"
            ],
            [
             0.8,
             "#7fbc41"
            ],
            [
             0.9,
             "#4d9221"
            ],
            [
             1,
             "#276419"
            ]
           ],
           "sequential": [
            [
             0,
             "#0d0887"
            ],
            [
             0.1111111111111111,
             "#46039f"
            ],
            [
             0.2222222222222222,
             "#7201a8"
            ],
            [
             0.3333333333333333,
             "#9c179e"
            ],
            [
             0.4444444444444444,
             "#bd3786"
            ],
            [
             0.5555555555555556,
             "#d8576b"
            ],
            [
             0.6666666666666666,
             "#ed7953"
            ],
            [
             0.7777777777777778,
             "#fb9f3a"
            ],
            [
             0.8888888888888888,
             "#fdca26"
            ],
            [
             1,
             "#f0f921"
            ]
           ],
           "sequentialminus": [
            [
             0,
             "#0d0887"
            ],
            [
             0.1111111111111111,
             "#46039f"
            ],
            [
             0.2222222222222222,
             "#7201a8"
            ],
            [
             0.3333333333333333,
             "#9c179e"
            ],
            [
             0.4444444444444444,
             "#bd3786"
            ],
            [
             0.5555555555555556,
             "#d8576b"
            ],
            [
             0.6666666666666666,
             "#ed7953"
            ],
            [
             0.7777777777777778,
             "#fb9f3a"
            ],
            [
             0.8888888888888888,
             "#fdca26"
            ],
            [
             1,
             "#f0f921"
            ]
           ]
          },
          "colorway": [
           "#636efa",
           "#EF553B",
           "#00cc96",
           "#ab63fa",
           "#FFA15A",
           "#19d3f3",
           "#FF6692",
           "#B6E880",
           "#FF97FF",
           "#FECB52"
          ],
          "font": {
           "color": "#2a3f5f"
          },
          "geo": {
           "bgcolor": "white",
           "lakecolor": "white",
           "landcolor": "#E5ECF6",
           "showlakes": true,
           "showland": true,
           "subunitcolor": "white"
          },
          "hoverlabel": {
           "align": "left"
          },
          "hovermode": "closest",
          "mapbox": {
           "style": "light"
          },
          "paper_bgcolor": "white",
          "plot_bgcolor": "#E5ECF6",
          "polar": {
           "angularaxis": {
            "gridcolor": "white",
            "linecolor": "white",
            "ticks": ""
           },
           "bgcolor": "#E5ECF6",
           "radialaxis": {
            "gridcolor": "white",
            "linecolor": "white",
            "ticks": ""
           }
          },
          "scene": {
           "xaxis": {
            "backgroundcolor": "#E5ECF6",
            "gridcolor": "white",
            "gridwidth": 2,
            "linecolor": "white",
            "showbackground": true,
            "ticks": "",
            "zerolinecolor": "white"
           },
           "yaxis": {
            "backgroundcolor": "#E5ECF6",
            "gridcolor": "white",
            "gridwidth": 2,
            "linecolor": "white",
            "showbackground": true,
            "ticks": "",
            "zerolinecolor": "white"
           },
           "zaxis": {
            "backgroundcolor": "#E5ECF6",
            "gridcolor": "white",
            "gridwidth": 2,
            "linecolor": "white",
            "showbackground": true,
            "ticks": "",
            "zerolinecolor": "white"
           }
          },
          "shapedefaults": {
           "line": {
            "color": "#2a3f5f"
           }
          },
          "ternary": {
           "aaxis": {
            "gridcolor": "white",
            "linecolor": "white",
            "ticks": ""
           },
           "baxis": {
            "gridcolor": "white",
            "linecolor": "white",
            "ticks": ""
           },
           "bgcolor": "#E5ECF6",
           "caxis": {
            "gridcolor": "white",
            "linecolor": "white",
            "ticks": ""
           }
          },
          "title": {
           "x": 0.05
          },
          "xaxis": {
           "automargin": true,
           "gridcolor": "white",
           "linecolor": "white",
           "ticks": "",
           "title": {
            "standoff": 15
           },
           "zerolinecolor": "white",
           "zerolinewidth": 2
          },
          "yaxis": {
           "automargin": true,
           "gridcolor": "white",
           "linecolor": "white",
           "ticks": "",
           "title": {
            "standoff": 15
           },
           "zerolinecolor": "white",
           "zerolinewidth": 2
          }
         }
        },
        "title": {
         "text": "Mean square error (MSE) plot of the predictive models using train and test data"
        }
       }
      }
     },
     "metadata": {},
     "output_type": "display_data"
    }
   ],
   "source": [
    "\n",
    "y=['MLR', 'RF', 'KNN', 'LASSO'] \n",
    "x1= mean_Model.loc['train_MSE']\n",
    "x2= mean_Model.loc['test_MSE']\n",
    "\n",
    "trace1 = go.Bar(y=y, x=x1, name='train_MSE', orientation='h')\n",
    "trace2 = go.Bar(y=y, x=x2, name='test_MSE', orientation='h')\n",
    "\n",
    "data = [trace1, trace2]\n",
    "\n",
    "layout = go.Layout(barmode='group', title='Mean square error (MSE) plot of the predictive models using train and test data')\n",
    "\n",
    "fig = go.Figure(data=data, layout=layout)\n",
    "fig.show()\n"
   ]
  },
  {
   "cell_type": "code",
   "execution_count": 123,
   "metadata": {},
   "outputs": [
    {
     "data": {
      "text/html": [
       "<div>\n",
       "<style scoped>\n",
       "    .dataframe tbody tr th:only-of-type {\n",
       "        vertical-align: middle;\n",
       "    }\n",
       "\n",
       "    .dataframe tbody tr th {\n",
       "        vertical-align: top;\n",
       "    }\n",
       "\n",
       "    .dataframe thead th {\n",
       "        text-align: right;\n",
       "    }\n",
       "</style>\n",
       "<table border=\"1\" class=\"dataframe\">\n",
       "  <thead>\n",
       "    <tr style=\"text-align: right;\">\n",
       "      <th></th>\n",
       "      <th>MLR</th>\n",
       "      <th>RF</th>\n",
       "      <th>KNN</th>\n",
       "      <th>LASSO</th>\n",
       "    </tr>\n",
       "  </thead>\n",
       "  <tbody>\n",
       "    <tr>\n",
       "      <th>train_R2</th>\n",
       "      <td>0.893301</td>\n",
       "      <td>0.997411</td>\n",
       "      <td>1.0</td>\n",
       "      <td>0.867311</td>\n",
       "    </tr>\n",
       "    <tr>\n",
       "      <th>test_R2</th>\n",
       "      <td>0.869508</td>\n",
       "      <td>0.970388</td>\n",
       "      <td>0.504965</td>\n",
       "      <td>0.852784</td>\n",
       "    </tr>\n",
       "  </tbody>\n",
       "</table>\n",
       "</div>"
      ],
      "text/plain": [
       "               MLR        RF       KNN     LASSO\n",
       "train_R2  0.893301  0.997411       1.0  0.867311\n",
       "test_R2   0.869508  0.970388  0.504965  0.852784"
      ]
     },
     "execution_count": 123,
     "metadata": {},
     "output_type": "execute_result"
    }
   ],
   "source": [
    "r_Model"
   ]
  },
  {
   "cell_type": "code",
   "execution_count": 124,
   "metadata": {},
   "outputs": [
    {
     "data": {
      "application/vnd.plotly.v1+json": {
       "config": {
        "plotlyServerURL": "https://plot.ly"
       },
       "data": [
        {
         "name": "train_R2",
         "orientation": "h",
         "type": "bar",
         "x": [
          0.8933008275905495,
          0.9974109278152961,
          0.999999999999999,
          0.8673112790834758
         ],
         "y": [
          "MLR",
          "RF",
          "KNN",
          "LASSO"
         ]
        },
        {
         "name": "test_R2",
         "orientation": "h",
         "type": "bar",
         "x": [
          0.869507982140327,
          0.9703876931597541,
          0.504964906298881,
          0.8527839955923634
         ],
         "y": [
          "MLR",
          "RF",
          "KNN",
          "LASSO"
         ]
        }
       ],
       "layout": {
        "barmode": "group",
        "template": {
         "data": {
          "bar": [
           {
            "error_x": {
             "color": "#2a3f5f"
            },
            "error_y": {
             "color": "#2a3f5f"
            },
            "marker": {
             "line": {
              "color": "#E5ECF6",
              "width": 0.5
             },
             "pattern": {
              "fillmode": "overlay",
              "size": 10,
              "solidity": 0.2
             }
            },
            "type": "bar"
           }
          ],
          "barpolar": [
           {
            "marker": {
             "line": {
              "color": "#E5ECF6",
              "width": 0.5
             },
             "pattern": {
              "fillmode": "overlay",
              "size": 10,
              "solidity": 0.2
             }
            },
            "type": "barpolar"
           }
          ],
          "carpet": [
           {
            "aaxis": {
             "endlinecolor": "#2a3f5f",
             "gridcolor": "white",
             "linecolor": "white",
             "minorgridcolor": "white",
             "startlinecolor": "#2a3f5f"
            },
            "baxis": {
             "endlinecolor": "#2a3f5f",
             "gridcolor": "white",
             "linecolor": "white",
             "minorgridcolor": "white",
             "startlinecolor": "#2a3f5f"
            },
            "type": "carpet"
           }
          ],
          "choropleth": [
           {
            "colorbar": {
             "outlinewidth": 0,
             "ticks": ""
            },
            "type": "choropleth"
           }
          ],
          "contour": [
           {
            "colorbar": {
             "outlinewidth": 0,
             "ticks": ""
            },
            "colorscale": [
             [
              0,
              "#0d0887"
             ],
             [
              0.1111111111111111,
              "#46039f"
             ],
             [
              0.2222222222222222,
              "#7201a8"
             ],
             [
              0.3333333333333333,
              "#9c179e"
             ],
             [
              0.4444444444444444,
              "#bd3786"
             ],
             [
              0.5555555555555556,
              "#d8576b"
             ],
             [
              0.6666666666666666,
              "#ed7953"
             ],
             [
              0.7777777777777778,
              "#fb9f3a"
             ],
             [
              0.8888888888888888,
              "#fdca26"
             ],
             [
              1,
              "#f0f921"
             ]
            ],
            "type": "contour"
           }
          ],
          "contourcarpet": [
           {
            "colorbar": {
             "outlinewidth": 0,
             "ticks": ""
            },
            "type": "contourcarpet"
           }
          ],
          "heatmap": [
           {
            "colorbar": {
             "outlinewidth": 0,
             "ticks": ""
            },
            "colorscale": [
             [
              0,
              "#0d0887"
             ],
             [
              0.1111111111111111,
              "#46039f"
             ],
             [
              0.2222222222222222,
              "#7201a8"
             ],
             [
              0.3333333333333333,
              "#9c179e"
             ],
             [
              0.4444444444444444,
              "#bd3786"
             ],
             [
              0.5555555555555556,
              "#d8576b"
             ],
             [
              0.6666666666666666,
              "#ed7953"
             ],
             [
              0.7777777777777778,
              "#fb9f3a"
             ],
             [
              0.8888888888888888,
              "#fdca26"
             ],
             [
              1,
              "#f0f921"
             ]
            ],
            "type": "heatmap"
           }
          ],
          "heatmapgl": [
           {
            "colorbar": {
             "outlinewidth": 0,
             "ticks": ""
            },
            "colorscale": [
             [
              0,
              "#0d0887"
             ],
             [
              0.1111111111111111,
              "#46039f"
             ],
             [
              0.2222222222222222,
              "#7201a8"
             ],
             [
              0.3333333333333333,
              "#9c179e"
             ],
             [
              0.4444444444444444,
              "#bd3786"
             ],
             [
              0.5555555555555556,
              "#d8576b"
             ],
             [
              0.6666666666666666,
              "#ed7953"
             ],
             [
              0.7777777777777778,
              "#fb9f3a"
             ],
             [
              0.8888888888888888,
              "#fdca26"
             ],
             [
              1,
              "#f0f921"
             ]
            ],
            "type": "heatmapgl"
           }
          ],
          "histogram": [
           {
            "marker": {
             "pattern": {
              "fillmode": "overlay",
              "size": 10,
              "solidity": 0.2
             }
            },
            "type": "histogram"
           }
          ],
          "histogram2d": [
           {
            "colorbar": {
             "outlinewidth": 0,
             "ticks": ""
            },
            "colorscale": [
             [
              0,
              "#0d0887"
             ],
             [
              0.1111111111111111,
              "#46039f"
             ],
             [
              0.2222222222222222,
              "#7201a8"
             ],
             [
              0.3333333333333333,
              "#9c179e"
             ],
             [
              0.4444444444444444,
              "#bd3786"
             ],
             [
              0.5555555555555556,
              "#d8576b"
             ],
             [
              0.6666666666666666,
              "#ed7953"
             ],
             [
              0.7777777777777778,
              "#fb9f3a"
             ],
             [
              0.8888888888888888,
              "#fdca26"
             ],
             [
              1,
              "#f0f921"
             ]
            ],
            "type": "histogram2d"
           }
          ],
          "histogram2dcontour": [
           {
            "colorbar": {
             "outlinewidth": 0,
             "ticks": ""
            },
            "colorscale": [
             [
              0,
              "#0d0887"
             ],
             [
              0.1111111111111111,
              "#46039f"
             ],
             [
              0.2222222222222222,
              "#7201a8"
             ],
             [
              0.3333333333333333,
              "#9c179e"
             ],
             [
              0.4444444444444444,
              "#bd3786"
             ],
             [
              0.5555555555555556,
              "#d8576b"
             ],
             [
              0.6666666666666666,
              "#ed7953"
             ],
             [
              0.7777777777777778,
              "#fb9f3a"
             ],
             [
              0.8888888888888888,
              "#fdca26"
             ],
             [
              1,
              "#f0f921"
             ]
            ],
            "type": "histogram2dcontour"
           }
          ],
          "mesh3d": [
           {
            "colorbar": {
             "outlinewidth": 0,
             "ticks": ""
            },
            "type": "mesh3d"
           }
          ],
          "parcoords": [
           {
            "line": {
             "colorbar": {
              "outlinewidth": 0,
              "ticks": ""
             }
            },
            "type": "parcoords"
           }
          ],
          "pie": [
           {
            "automargin": true,
            "type": "pie"
           }
          ],
          "scatter": [
           {
            "fillpattern": {
             "fillmode": "overlay",
             "size": 10,
             "solidity": 0.2
            },
            "type": "scatter"
           }
          ],
          "scatter3d": [
           {
            "line": {
             "colorbar": {
              "outlinewidth": 0,
              "ticks": ""
             }
            },
            "marker": {
             "colorbar": {
              "outlinewidth": 0,
              "ticks": ""
             }
            },
            "type": "scatter3d"
           }
          ],
          "scattercarpet": [
           {
            "marker": {
             "colorbar": {
              "outlinewidth": 0,
              "ticks": ""
             }
            },
            "type": "scattercarpet"
           }
          ],
          "scattergeo": [
           {
            "marker": {
             "colorbar": {
              "outlinewidth": 0,
              "ticks": ""
             }
            },
            "type": "scattergeo"
           }
          ],
          "scattergl": [
           {
            "marker": {
             "colorbar": {
              "outlinewidth": 0,
              "ticks": ""
             }
            },
            "type": "scattergl"
           }
          ],
          "scattermapbox": [
           {
            "marker": {
             "colorbar": {
              "outlinewidth": 0,
              "ticks": ""
             }
            },
            "type": "scattermapbox"
           }
          ],
          "scatterpolar": [
           {
            "marker": {
             "colorbar": {
              "outlinewidth": 0,
              "ticks": ""
             }
            },
            "type": "scatterpolar"
           }
          ],
          "scatterpolargl": [
           {
            "marker": {
             "colorbar": {
              "outlinewidth": 0,
              "ticks": ""
             }
            },
            "type": "scatterpolargl"
           }
          ],
          "scatterternary": [
           {
            "marker": {
             "colorbar": {
              "outlinewidth": 0,
              "ticks": ""
             }
            },
            "type": "scatterternary"
           }
          ],
          "surface": [
           {
            "colorbar": {
             "outlinewidth": 0,
             "ticks": ""
            },
            "colorscale": [
             [
              0,
              "#0d0887"
             ],
             [
              0.1111111111111111,
              "#46039f"
             ],
             [
              0.2222222222222222,
              "#7201a8"
             ],
             [
              0.3333333333333333,
              "#9c179e"
             ],
             [
              0.4444444444444444,
              "#bd3786"
             ],
             [
              0.5555555555555556,
              "#d8576b"
             ],
             [
              0.6666666666666666,
              "#ed7953"
             ],
             [
              0.7777777777777778,
              "#fb9f3a"
             ],
             [
              0.8888888888888888,
              "#fdca26"
             ],
             [
              1,
              "#f0f921"
             ]
            ],
            "type": "surface"
           }
          ],
          "table": [
           {
            "cells": {
             "fill": {
              "color": "#EBF0F8"
             },
             "line": {
              "color": "white"
             }
            },
            "header": {
             "fill": {
              "color": "#C8D4E3"
             },
             "line": {
              "color": "white"
             }
            },
            "type": "table"
           }
          ]
         },
         "layout": {
          "annotationdefaults": {
           "arrowcolor": "#2a3f5f",
           "arrowhead": 0,
           "arrowwidth": 1
          },
          "autotypenumbers": "strict",
          "coloraxis": {
           "colorbar": {
            "outlinewidth": 0,
            "ticks": ""
           }
          },
          "colorscale": {
           "diverging": [
            [
             0,
             "#8e0152"
            ],
            [
             0.1,
             "#c51b7d"
            ],
            [
             0.2,
             "#de77ae"
            ],
            [
             0.3,
             "#f1b6da"
            ],
            [
             0.4,
             "#fde0ef"
            ],
            [
             0.5,
             "#f7f7f7"
            ],
            [
             0.6,
             "#e6f5d0"
            ],
            [
             0.7,
             "#b8e186"
            ],
            [
             0.8,
             "#7fbc41"
            ],
            [
             0.9,
             "#4d9221"
            ],
            [
             1,
             "#276419"
            ]
           ],
           "sequential": [
            [
             0,
             "#0d0887"
            ],
            [
             0.1111111111111111,
             "#46039f"
            ],
            [
             0.2222222222222222,
             "#7201a8"
            ],
            [
             0.3333333333333333,
             "#9c179e"
            ],
            [
             0.4444444444444444,
             "#bd3786"
            ],
            [
             0.5555555555555556,
             "#d8576b"
            ],
            [
             0.6666666666666666,
             "#ed7953"
            ],
            [
             0.7777777777777778,
             "#fb9f3a"
            ],
            [
             0.8888888888888888,
             "#fdca26"
            ],
            [
             1,
             "#f0f921"
            ]
           ],
           "sequentialminus": [
            [
             0,
             "#0d0887"
            ],
            [
             0.1111111111111111,
             "#46039f"
            ],
            [
             0.2222222222222222,
             "#7201a8"
            ],
            [
             0.3333333333333333,
             "#9c179e"
            ],
            [
             0.4444444444444444,
             "#bd3786"
            ],
            [
             0.5555555555555556,
             "#d8576b"
            ],
            [
             0.6666666666666666,
             "#ed7953"
            ],
            [
             0.7777777777777778,
             "#fb9f3a"
            ],
            [
             0.8888888888888888,
             "#fdca26"
            ],
            [
             1,
             "#f0f921"
            ]
           ]
          },
          "colorway": [
           "#636efa",
           "#EF553B",
           "#00cc96",
           "#ab63fa",
           "#FFA15A",
           "#19d3f3",
           "#FF6692",
           "#B6E880",
           "#FF97FF",
           "#FECB52"
          ],
          "font": {
           "color": "#2a3f5f"
          },
          "geo": {
           "bgcolor": "white",
           "lakecolor": "white",
           "landcolor": "#E5ECF6",
           "showlakes": true,
           "showland": true,
           "subunitcolor": "white"
          },
          "hoverlabel": {
           "align": "left"
          },
          "hovermode": "closest",
          "mapbox": {
           "style": "light"
          },
          "paper_bgcolor": "white",
          "plot_bgcolor": "#E5ECF6",
          "polar": {
           "angularaxis": {
            "gridcolor": "white",
            "linecolor": "white",
            "ticks": ""
           },
           "bgcolor": "#E5ECF6",
           "radialaxis": {
            "gridcolor": "white",
            "linecolor": "white",
            "ticks": ""
           }
          },
          "scene": {
           "xaxis": {
            "backgroundcolor": "#E5ECF6",
            "gridcolor": "white",
            "gridwidth": 2,
            "linecolor": "white",
            "showbackground": true,
            "ticks": "",
            "zerolinecolor": "white"
           },
           "yaxis": {
            "backgroundcolor": "#E5ECF6",
            "gridcolor": "white",
            "gridwidth": 2,
            "linecolor": "white",
            "showbackground": true,
            "ticks": "",
            "zerolinecolor": "white"
           },
           "zaxis": {
            "backgroundcolor": "#E5ECF6",
            "gridcolor": "white",
            "gridwidth": 2,
            "linecolor": "white",
            "showbackground": true,
            "ticks": "",
            "zerolinecolor": "white"
           }
          },
          "shapedefaults": {
           "line": {
            "color": "#2a3f5f"
           }
          },
          "ternary": {
           "aaxis": {
            "gridcolor": "white",
            "linecolor": "white",
            "ticks": ""
           },
           "baxis": {
            "gridcolor": "white",
            "linecolor": "white",
            "ticks": ""
           },
           "bgcolor": "#E5ECF6",
           "caxis": {
            "gridcolor": "white",
            "linecolor": "white",
            "ticks": ""
           }
          },
          "title": {
           "x": 0.05
          },
          "xaxis": {
           "automargin": true,
           "gridcolor": "white",
           "linecolor": "white",
           "ticks": "",
           "title": {
            "standoff": 15
           },
           "zerolinecolor": "white",
           "zerolinewidth": 2
          },
          "yaxis": {
           "automargin": true,
           "gridcolor": "white",
           "linecolor": "white",
           "ticks": "",
           "title": {
            "standoff": 15
           },
           "zerolinecolor": "white",
           "zerolinewidth": 2
          }
         }
        },
        "title": {
         "text": "R-square score (R2) plot of the predictive models using train and test data"
        }
       }
      }
     },
     "metadata": {},
     "output_type": "display_data"
    }
   ],
   "source": [
    "\n",
    "y=['MLR', 'RF', 'KNN', 'LASSO']\n",
    "x1= r_Model.loc['train_R2']\n",
    "x2= r_Model.loc['test_R2']\n",
    "\n",
    "trace1 = go.Bar(y=y, x=x1, name='train_R2', orientation='h')\n",
    "trace2 = go.Bar(y=y, x=x2, name='test_R2', orientation='h')\n",
    "\n",
    "data = [trace1, trace2]\n",
    "\n",
    "layout = go.Layout(barmode='group', title='R-square score (R2) plot of the predictive models using train and test data')\n",
    "\n",
    "fig = go.Figure(data=data, layout=layout)\n",
    "fig.show()\n"
   ]
  },
  {
   "cell_type": "code",
   "execution_count": 125,
   "metadata": {},
   "outputs": [
    {
     "data": {
      "application/vnd.plotly.v1+json": {
       "config": {
        "plotlyServerURL": "https://plot.ly"
       },
       "data": [
        {
         "marker": {
          "color": "blue"
         },
         "mode": "markers",
         "type": "scatter",
         "x": [
          8.160518247477505,
          8.987196820661973,
          7.170119543449628,
          8.476371196895983,
          7.438383530044307,
          7.170119543449628,
          9.011889433252344,
          7.24422751560335,
          8.83927669058535,
          9.20029003612268,
          7.24422751560335,
          8.68270762989381,
          9.126958731588145,
          8.68270762989381,
          7.783224108058157,
          8.575462099540212,
          9.0595174822416,
          8.389359819906353,
          8.594154232552366,
          8.794824928014517,
          8.948975607841776,
          8.732304571033183,
          7.649692623711514,
          7.090076835776092,
          8.895629627136483,
          7.90100705199242,
          7.549609165154532,
          8.594154232552366,
          7.649692623711514,
          8.131530710604252,
          8.006367567650246,
          8.881836230923671,
          9.137769679141348,
          7.170119543449628,
          7.24422751560335,
          7.696212639346407,
          9.259130536145614,
          9.035986984831405,
          8.594154232552366,
          9.035986984831405,
          7.438383530044307,
          8.496990484098719,
          7.170119543449628,
          7.495541943884256,
          8.594154232552366,
          9.024010753706207,
          9.082507000466299,
          7.170119543449628,
          9.071078281735236,
          7.003065458786462,
          8.895629627136483,
          8.732304571033183,
          8.101677747454572,
          8.575462099540212,
          8.517193191416238,
          7.170119543449628,
          8.476371196895983,
          8.517193191416238,
          9.011889433252344,
          8.68270762989381,
          7.313220387090301,
          9.137769646900761,
          9.169518377455928,
          8.824677891164198,
          8.764053269347762,
          8.83927669058535,
          8.006367567650246,
          7.495541943884256,
          8.895629627136483,
          9.230142999272362,
          9.071078304642676,
          8.45531778769815,
          8.895629627136483,
          8.160518247477505,
          9.011889433252344,
          9.02401079378469,
          8.824677891164198,
          8.294049640102028,
          8.764053269347762,
          8.575462099540212,
          8.699514748210191,
          9.02401079378469,
          9.20029003612268,
          9.035986984831405,
          7.649692623711514,
          8.517193191416238,
          8.131530710604252,
          7.003065458786462,
          7.783224016336037,
          8.974618038455112,
          8.935903526274423,
          8.34283980427146,
          8.987196820661973,
          7.313220387090301,
          8.34283980427146,
          7.8632667240095735,
          9.082507000466299,
          8.85366542803745,
          8.83927669058535,
          8.68270762989381,
          9.093806555720231,
          9.011889433252344,
          8.517193191416238,
          9.190137664658664,
          8.45531778769815,
          8.794824928014517,
          7.824046080489611,
          7.696212639346407,
          8.881836305004146,
          7.170119543449628,
          8.556413904569519,
          8.556413904569519,
          7.170119543449628,
          7.937374696163295,
          7.170119543449628,
          9.035986984831405,
          9.093806555720231,
          7.783224016336037,
          9.011889433252344,
          8.881836305004146,
          7.8632667240095735,
          8.556413904569519,
          8.909235279192261,
          8.594154232552366,
          9.093806555720231,
          8.935903526274423,
          8.101677747454572,
          8.496990484098719,
          8.824677891164198,
          9.035986984831405,
          7.090076835776092,
          7.24422751560335,
          8.160518247477505,
          9.093806555720231,
          8.34283980427146,
          8.45531778769815,
          9.0595174822416,
          8.268731832117737,
          7.24422762328431,
          7.824046010856292,
          8.85366542803745,
          8.389359819906353,
          8.881836305004146,
          7.696212639346407,
          7.824046010856292,
          9.116029692504942,
          9.011889433252344,
          9.148464968258095,
          8.85366542803745,
          7.003065458786462,
          7.090076835776092,
          8.496990484098719,
          9.20029003612268,
          9.169518329685749,
          7.495541943884256,
          8.594154232552366,
          8.411832675758411,
          8.909235279192261,
          8.411832675758411,
          8.575462099540212,
          9.126958763037132,
          8.160518247477505,
          7.003065458786462,
          9.148464968258095,
          7.090076835776092,
          9.071078304642676,
          9.137769679141348,
          9.190137664658664,
          8.974618038455112,
          8.961879012677683,
          9.011889433252344,
          8.794824928014517,
          8.294049640102028,
          8.948975607841776,
          8.961878971609176,
          7.696212698781394,
          8.131530710604252,
          7.244227672915141,
          7.24422751560335,
          9.230142999272362,
          9.20029003612268,
          8.556413904569519,
          8.45531778769815,
          9.179881164491475,
          7.313220387090301,
          9.035986984831405,
          8.824677891164198,
          7.696212639346407,
          8.268731832117737,
          9.137769679141348,
          9.169518377455928,
          9.02401079378469,
          9.137769679141348,
          8.630521876723241,
          9.116029692504942,
          8.411832675758411,
          8.34283980427146,
          8.881836305004146,
          9.093806555720231,
          8.294049640102028,
          9.035986984831405,
          7.438383530044307,
          9.169518377455928,
          8.556413904569519,
          8.824677891164198,
          7.003065458786462,
          8.66561319653451,
          7.972466054225639,
          8.895629627136483,
          7.170119543449628,
          7.24422751560335,
          9.230142966230497,
          7.24422751560335,
          8.318742252692399,
          7.649692623711514,
          7.649692623711514,
          8.476371196895983,
          8.895629627136483,
          9.035986984831405,
          9.035986893788605,
          8.648221453822641,
          8.948975607841776,
          7.313220387090301,
          8.748304912379623,
          8.101677747454572,
          7.600902459542082,
          8.131530710604252,
          7.696212639346407,
          7.438383530044307,
          7.649692623711514,
          8.101677747454572,
          9.035986940965623,
          7.313220387090301,
          8.242756345714477,
          8.895629627136483,
          7.9724660159745655,
          8.131530710604252,
          8.575462099540212,
          8.006367567650246,
          8.45531778769815,
          7.600902459542082,
          7.438383530044307,
          8.389359819906353,
          9.02401079378469,
          7.170119543449628,
          7.824046010856292,
          8.764053269347762,
          9.082507000466299,
          8.748304912379623,
          7.696212639346407,
          8.101677747454572,
          7.24422751560335,
          9.035986984831405,
          8.66561319653451,
          8.85366542803745,
          8.101677747454572,
          7.313220387090301,
          8.34283980427146,
          9.190137664658664,
          8.83927669058535,
          9.230142999272362,
          8.824677891164198,
          8.935903526274423,
          8.948975607841776,
          9.169518302203045,
          7.549609165154532,
          9.179881164491475,
          9.126958748162146,
          9.071078304642676,
          8.974618038455112,
          8.987196820661973,
          8.66561319653451,
          8.496990484098719,
          7.438383530044307,
          9.190137664658664,
          7.170119543449628,
          9.116029692504942,
          8.160518247477505,
          8.496990484098719,
          9.116029692504942,
          9.137769679141348,
          8.556413904569519,
          8.594154232552366,
          8.987196820661973,
          8.575462099540212,
          8.34283980427146,
          8.764053269347762,
          8.575462099540212,
          8.101677747454572,
          8.594154232552366,
          7.438383530044307,
          8.68270762989381,
          8.294049640102028,
          8.160518247477505,
          9.082507000466299,
          7.937374696163295,
          9.148464968258095,
          8.948975607841776,
          9.011889433252344,
          8.101677747454572,
          8.160518247477505,
          8.34283980427146,
          8.748304912379623,
          7.649692623711514,
          8.34283980427146,
          7.003065458786462,
          8.160518247477505,
          8.648221453822641,
          9.02401079378469,
          7.090076835776092,
          8.987196820661973,
          7.090077043185074,
          8.935903526274423,
          9.137769679141348,
          8.101677747454572,
          8.881836305004146,
          8.824677891164198,
          8.411832675758411,
          8.824677891164198,
          9.148464901206019,
          7.90100705199242,
          9.035986984831405,
          9.20029003612268,
          9.0595174822416,
          8.556413904569519,
          8.630521876723241,
          8.476371196895983,
          8.66561319653451,
          8.242756345714477,
          9.116029666319001,
          9.035986984831405,
          7.549609165154532,
          7.24422751560335,
          8.764053269347762,
          8.824677891164198,
          8.10167778765116,
          7.170119543449628,
          8.794824928014517,
          7.8632667240095735,
          8.294049640102028,
          9.137769679141348,
          8.961879012677683,
          8.85366542803745,
          8.699514748210191,
          9.259130536145614,
          8.94897559873617,
          9.024010743888446,
          7.600902459542082,
          8.556413904569519,
          8.881836305004146,
          7.090076835776092,
          9.126958763037132,
          9.08250693151709,
          8.294049640102028,
          7.313220387090301,
          8.648221453822641,
          9.093806555720231,
          8.699514748210191,
          7.824046010856292,
          9.249561085129464,
          9.200290015008296,
          7.549609165154532,
          9.011889433252344,
          7.170119543449628,
          8.974617953191409,
          7.438383676508559,
          7.090076835776092,
          8.160518247477505,
          9.116029692504942,
          7.244227584450091,
          7.438383530044307,
          8.794824928014517,
          8.131530710604252,
          9.190137664658664,
          9.116029692504942,
          8.630521876723241,
          8.974618038455112,
          8.909235279192261,
          7.003065458786462,
          9.148464968258095,
          9.148464968258095,
          8.318742252692399,
          9.035986984831405,
          8.935903526274423,
          8.881836305004146,
          8.101677747454572,
          7.090076835776092,
          8.433811582477187,
          8.895629627136483,
          8.006367589802343,
          7.824046010856292,
          8.294049640102028,
          9.02401079378469,
          7.313220387090301,
          8.935903526274423,
          8.411832675758411,
          8.948975607841776,
          7.495541943884256,
          8.83927669058535,
          7.313220387090301,
          8.556413904569519,
          8.242756345714477,
          7.78322412156014,
          9.082507000466299,
          9.259130536145614,
          8.895629627136483,
          8.987196820661973,
          7.170119543449628,
          8.895629540273394,
          8.974618038455112,
          7.313220387090301,
          8.948975607841776,
          7.495541943884256,
          8.824677891164198,
          9.011889433252344,
          8.101677747454572
         ],
         "y": [
          8.160518247477505,
          8.987196820661973,
          7.170119543449628,
          8.476371196895983,
          7.438383530044307,
          7.170119543449628,
          9.011889433252344,
          7.24422751560335,
          8.83927669058535,
          9.20029003612268,
          7.24422751560335,
          8.68270762989381,
          9.126958763037132,
          8.68270762989381,
          7.783224016336037,
          8.575462099540212,
          9.0595174822416,
          8.389359819906353,
          8.594154232552366,
          8.794824928014517,
          8.948975607841776,
          8.732304571033183,
          7.649692623711514,
          7.090076835776092,
          8.895629627136483,
          7.90100705199242,
          7.549609165154532,
          8.594154232552366,
          7.649692623711514,
          8.131530710604252,
          8.006367567650246,
          8.881836305004146,
          9.137769679141348,
          7.170119543449628,
          7.24422751560335,
          7.696212639346407,
          9.259130536145614,
          9.035986984831405,
          8.594154232552366,
          9.035986984831405,
          7.438383530044307,
          8.496990484098719,
          7.170119543449628,
          7.495541943884256,
          8.594154232552366,
          9.02401079378469,
          9.082507000466299,
          7.170119543449628,
          9.071078304642676,
          7.003065458786462,
          8.895629627136483,
          8.732304571033183,
          8.101677747454572,
          8.575462099540212,
          8.517193191416238,
          7.170119543449628,
          8.476371196895983,
          8.517193191416238,
          9.011889433252344,
          8.68270762989381,
          7.313220387090301,
          9.137769679141348,
          9.169518377455928,
          8.824677891164198,
          8.764053269347762,
          8.83927669058535,
          8.006367567650246,
          7.495541943884256,
          8.895629627136483,
          9.230142999272362,
          9.071078304642676,
          8.45531778769815,
          8.895629627136483,
          8.160518247477505,
          9.011889433252344,
          9.02401079378469,
          8.824677891164198,
          8.294049640102028,
          8.764053269347762,
          8.575462099540212,
          8.699514748210191,
          9.02401079378469,
          9.20029003612268,
          9.035986984831405,
          7.649692623711514,
          8.517193191416238,
          8.131530710604252,
          7.003065458786462,
          7.783224016336037,
          8.974618038455112,
          8.935903526274423,
          8.34283980427146,
          8.987196820661973,
          7.313220387090301,
          8.34283980427146,
          7.8632667240095735,
          9.082507000466299,
          8.85366542803745,
          8.83927669058535,
          8.68270762989381,
          9.093806555720231,
          9.011889433252344,
          8.517193191416238,
          9.190137664658664,
          8.45531778769815,
          8.794824928014517,
          7.824046010856292,
          7.696212639346407,
          8.881836305004146,
          7.170119543449628,
          8.556413904569519,
          8.556413904569519,
          7.170119543449628,
          7.937374696163295,
          7.170119543449628,
          9.035986984831405,
          9.093806555720231,
          7.783224016336037,
          9.011889433252344,
          8.881836305004146,
          7.8632667240095735,
          8.556413904569519,
          8.909235279192261,
          8.594154232552366,
          9.093806555720231,
          8.935903526274423,
          8.101677747454572,
          8.496990484098719,
          8.824677891164198,
          9.035986984831405,
          7.090076835776092,
          7.24422751560335,
          8.160518247477505,
          9.093806555720231,
          8.34283980427146,
          8.45531778769815,
          9.0595174822416,
          8.268731832117737,
          7.24422751560335,
          7.824046010856292,
          8.85366542803745,
          8.389359819906353,
          8.881836305004146,
          7.696212639346407,
          7.824046010856292,
          9.116029692504942,
          9.011889433252344,
          9.148464968258095,
          8.85366542803745,
          7.003065458786462,
          7.090076835776092,
          8.496990484098719,
          9.20029003612268,
          9.169518377455928,
          7.495541943884256,
          8.594154232552366,
          8.411832675758411,
          8.909235279192261,
          8.411832675758411,
          8.575462099540212,
          9.126958763037132,
          8.160518247477505,
          7.003065458786462,
          9.148464968258095,
          7.090076835776092,
          9.071078304642676,
          9.137769679141348,
          9.190137664658664,
          8.974618038455112,
          8.961879012677683,
          9.011889433252344,
          8.794824928014517,
          8.294049640102028,
          8.948975607841776,
          8.961879012677683,
          7.696212639346407,
          8.131530710604252,
          7.24422751560335,
          7.24422751560335,
          9.230142999272362,
          9.20029003612268,
          8.556413904569519,
          8.45531778769815,
          9.179881164491475,
          7.313220387090301,
          9.035986984831405,
          8.824677891164198,
          7.696212639346407,
          8.268731832117737,
          9.137769679141348,
          9.169518377455928,
          9.02401079378469,
          9.137769679141348,
          8.630521876723241,
          9.116029692504942,
          8.411832675758411,
          8.34283980427146,
          8.881836305004146,
          9.093806555720231,
          8.294049640102028,
          9.035986984831405,
          7.438383530044307,
          9.169518377455928,
          8.556413904569519,
          8.824677891164198,
          7.003065458786462,
          8.66561319653451,
          7.9724660159745655,
          8.895629627136483,
          7.170119543449628,
          7.24422751560335,
          9.230142999272362,
          7.24422751560335,
          8.318742252692399,
          7.649692623711514,
          7.649692623711514,
          8.476371196895983,
          8.895629627136483,
          9.035986984831405,
          9.035986984831405,
          8.648221453822641,
          8.948975607841776,
          7.313220387090301,
          8.748304912379623,
          8.101677747454572,
          7.600902459542082,
          8.131530710604252,
          7.696212639346407,
          7.438383530044307,
          7.649692623711514,
          8.101677747454572,
          9.035986984831405,
          7.313220387090301,
          8.242756345714477,
          8.895629627136483,
          7.9724660159745655,
          8.131530710604252,
          8.575462099540212,
          8.006367567650246,
          8.45531778769815,
          7.600902459542082,
          7.438383530044307,
          8.389359819906353,
          9.02401079378469,
          7.170119543449628,
          7.824046010856292,
          8.764053269347762,
          9.082507000466299,
          8.748304912379623,
          7.696212639346407,
          8.101677747454572,
          7.24422751560335,
          9.035986984831405,
          8.66561319653451,
          8.85366542803745,
          8.101677747454572,
          7.313220387090301,
          8.34283980427146,
          9.190137664658664,
          8.83927669058535,
          9.230142999272362,
          8.824677891164198,
          8.935903526274423,
          8.948975607841776,
          9.169518377455928,
          7.549609165154532,
          9.179881164491475,
          9.126958763037132,
          9.071078304642676,
          8.974618038455112,
          8.987196820661973,
          8.66561319653451,
          8.496990484098719,
          7.438383530044307,
          9.190137664658664,
          7.170119543449628,
          9.116029692504942,
          8.160518247477505,
          8.496990484098719,
          9.116029692504942,
          9.137769679141348,
          8.556413904569519,
          8.594154232552366,
          8.987196820661973,
          8.575462099540212,
          8.34283980427146,
          8.764053269347762,
          8.575462099540212,
          8.101677747454572,
          8.594154232552366,
          7.438383530044307,
          8.68270762989381,
          8.294049640102028,
          8.160518247477505,
          9.082507000466299,
          7.937374696163295,
          9.148464968258095,
          8.948975607841776,
          9.011889433252344,
          8.101677747454572,
          8.160518247477505,
          8.34283980427146,
          8.748304912379623,
          7.649692623711514,
          8.34283980427146,
          7.003065458786462,
          8.160518247477505,
          8.648221453822641,
          9.02401079378469,
          7.090076835776092,
          8.987196820661973,
          7.090076835776092,
          8.935903526274423,
          9.137769679141348,
          8.101677747454572,
          8.881836305004146,
          8.824677891164198,
          8.411832675758411,
          8.824677891164198,
          9.148464968258095,
          7.90100705199242,
          9.035986984831405,
          9.20029003612268,
          9.0595174822416,
          8.556413904569519,
          8.630521876723241,
          8.476371196895983,
          8.66561319653451,
          8.242756345714477,
          9.116029692504942,
          9.035986984831405,
          7.549609165154532,
          7.24422751560335,
          8.764053269347762,
          8.824677891164198,
          8.101677747454572,
          7.170119543449628,
          8.794824928014517,
          7.8632667240095735,
          8.294049640102028,
          9.137769679141348,
          8.961879012677683,
          8.85366542803745,
          8.699514748210191,
          9.259130536145614,
          8.948975607841776,
          9.02401079378469,
          7.600902459542082,
          8.556413904569519,
          8.881836305004146,
          7.090076835776092,
          9.126958763037132,
          9.082507000466299,
          8.294049640102028,
          7.313220387090301,
          8.648221453822641,
          9.093806555720231,
          8.699514748210191,
          7.824046010856292,
          9.249561085129464,
          9.20029003612268,
          7.549609165154532,
          9.011889433252344,
          7.170119543449628,
          8.974618038455112,
          7.438383530044307,
          7.090076835776092,
          8.160518247477505,
          9.116029692504942,
          7.24422751560335,
          7.438383530044307,
          8.794824928014517,
          8.131530710604252,
          9.190137664658664,
          9.116029692504942,
          8.630521876723241,
          8.974618038455112,
          8.909235279192261,
          7.003065458786462,
          9.148464968258095,
          9.148464968258095,
          8.318742252692399,
          9.035986984831405,
          8.935903526274423,
          8.881836305004146,
          8.101677747454572,
          7.090076835776092,
          8.433811582477187,
          8.895629627136483,
          8.006367567650246,
          7.824046010856292,
          8.294049640102028,
          9.02401079378469,
          7.313220387090301,
          8.935903526274423,
          8.411832675758411,
          8.948975607841776,
          7.495541943884256,
          8.83927669058535,
          7.313220387090301,
          8.556413904569519,
          8.242756345714477,
          7.783224016336037,
          9.082507000466299,
          9.259130536145614,
          8.895629627136483,
          8.987196820661973,
          7.170119543449628,
          8.895629627136483,
          8.974618038455112,
          7.313220387090301,
          8.948975607841776,
          7.495541943884256,
          8.824677891164198,
          9.011889433252344,
          8.101677747454572
         ]
        },
        {
         "line": {
          "color": "red"
         },
         "mode": "lines",
         "type": "scatter",
         "x": [
          8.160518247477505,
          8.987196820661973,
          7.170119543449628,
          8.476371196895983,
          7.438383530044307,
          7.170119543449628,
          9.011889433252344,
          7.24422751560335,
          8.83927669058535,
          9.20029003612268,
          7.24422751560335,
          8.68270762989381,
          9.126958763037132,
          8.68270762989381,
          7.783224016336037,
          8.575462099540212,
          9.0595174822416,
          8.389359819906353,
          8.594154232552366,
          8.794824928014517,
          8.948975607841776,
          8.732304571033183,
          7.649692623711514,
          7.090076835776092,
          8.895629627136483,
          7.90100705199242,
          7.549609165154532,
          8.594154232552366,
          7.649692623711514,
          8.131530710604252,
          8.006367567650246,
          8.881836305004146,
          9.137769679141348,
          7.170119543449628,
          7.24422751560335,
          7.696212639346407,
          9.259130536145614,
          9.035986984831405,
          8.594154232552366,
          9.035986984831405,
          7.438383530044307,
          8.496990484098719,
          7.170119543449628,
          7.495541943884256,
          8.594154232552366,
          9.02401079378469,
          9.082507000466299,
          7.170119543449628,
          9.071078304642676,
          7.003065458786462,
          8.895629627136483,
          8.732304571033183,
          8.101677747454572,
          8.575462099540212,
          8.517193191416238,
          7.170119543449628,
          8.476371196895983,
          8.517193191416238,
          9.011889433252344,
          8.68270762989381,
          7.313220387090301,
          9.137769679141348,
          9.169518377455928,
          8.824677891164198,
          8.764053269347762,
          8.83927669058535,
          8.006367567650246,
          7.495541943884256,
          8.895629627136483,
          9.230142999272362,
          9.071078304642676,
          8.45531778769815,
          8.895629627136483,
          8.160518247477505,
          9.011889433252344,
          9.02401079378469,
          8.824677891164198,
          8.294049640102028,
          8.764053269347762,
          8.575462099540212,
          8.699514748210191,
          9.02401079378469,
          9.20029003612268,
          9.035986984831405,
          7.649692623711514,
          8.517193191416238,
          8.131530710604252,
          7.003065458786462,
          7.783224016336037,
          8.974618038455112,
          8.935903526274423,
          8.34283980427146,
          8.987196820661973,
          7.313220387090301,
          8.34283980427146,
          7.8632667240095735,
          9.082507000466299,
          8.85366542803745,
          8.83927669058535,
          8.68270762989381,
          9.093806555720231,
          9.011889433252344,
          8.517193191416238,
          9.190137664658664,
          8.45531778769815,
          8.794824928014517,
          7.824046010856292,
          7.696212639346407,
          8.881836305004146,
          7.170119543449628,
          8.556413904569519,
          8.556413904569519,
          7.170119543449628,
          7.937374696163295,
          7.170119543449628,
          9.035986984831405,
          9.093806555720231,
          7.783224016336037,
          9.011889433252344,
          8.881836305004146,
          7.8632667240095735,
          8.556413904569519,
          8.909235279192261,
          8.594154232552366,
          9.093806555720231,
          8.935903526274423,
          8.101677747454572,
          8.496990484098719,
          8.824677891164198,
          9.035986984831405,
          7.090076835776092,
          7.24422751560335,
          8.160518247477505,
          9.093806555720231,
          8.34283980427146,
          8.45531778769815,
          9.0595174822416,
          8.268731832117737,
          7.24422751560335,
          7.824046010856292,
          8.85366542803745,
          8.389359819906353,
          8.881836305004146,
          7.696212639346407,
          7.824046010856292,
          9.116029692504942,
          9.011889433252344,
          9.148464968258095,
          8.85366542803745,
          7.003065458786462,
          7.090076835776092,
          8.496990484098719,
          9.20029003612268,
          9.169518377455928,
          7.495541943884256,
          8.594154232552366,
          8.411832675758411,
          8.909235279192261,
          8.411832675758411,
          8.575462099540212,
          9.126958763037132,
          8.160518247477505,
          7.003065458786462,
          9.148464968258095,
          7.090076835776092,
          9.071078304642676,
          9.137769679141348,
          9.190137664658664,
          8.974618038455112,
          8.961879012677683,
          9.011889433252344,
          8.794824928014517,
          8.294049640102028,
          8.948975607841776,
          8.961879012677683,
          7.696212639346407,
          8.131530710604252,
          7.24422751560335,
          7.24422751560335,
          9.230142999272362,
          9.20029003612268,
          8.556413904569519,
          8.45531778769815,
          9.179881164491475,
          7.313220387090301,
          9.035986984831405,
          8.824677891164198,
          7.696212639346407,
          8.268731832117737,
          9.137769679141348,
          9.169518377455928,
          9.02401079378469,
          9.137769679141348,
          8.630521876723241,
          9.116029692504942,
          8.411832675758411,
          8.34283980427146,
          8.881836305004146,
          9.093806555720231,
          8.294049640102028,
          9.035986984831405,
          7.438383530044307,
          9.169518377455928,
          8.556413904569519,
          8.824677891164198,
          7.003065458786462,
          8.66561319653451,
          7.9724660159745655,
          8.895629627136483,
          7.170119543449628,
          7.24422751560335,
          9.230142999272362,
          7.24422751560335,
          8.318742252692399,
          7.649692623711514,
          7.649692623711514,
          8.476371196895983,
          8.895629627136483,
          9.035986984831405,
          9.035986984831405,
          8.648221453822641,
          8.948975607841776,
          7.313220387090301,
          8.748304912379623,
          8.101677747454572,
          7.600902459542082,
          8.131530710604252,
          7.696212639346407,
          7.438383530044307,
          7.649692623711514,
          8.101677747454572,
          9.035986984831405,
          7.313220387090301,
          8.242756345714477,
          8.895629627136483,
          7.9724660159745655,
          8.131530710604252,
          8.575462099540212,
          8.006367567650246,
          8.45531778769815,
          7.600902459542082,
          7.438383530044307,
          8.389359819906353,
          9.02401079378469,
          7.170119543449628,
          7.824046010856292,
          8.764053269347762,
          9.082507000466299,
          8.748304912379623,
          7.696212639346407,
          8.101677747454572,
          7.24422751560335,
          9.035986984831405,
          8.66561319653451,
          8.85366542803745,
          8.101677747454572,
          7.313220387090301,
          8.34283980427146,
          9.190137664658664,
          8.83927669058535,
          9.230142999272362,
          8.824677891164198,
          8.935903526274423,
          8.948975607841776,
          9.169518377455928,
          7.549609165154532,
          9.179881164491475,
          9.126958763037132,
          9.071078304642676,
          8.974618038455112,
          8.987196820661973,
          8.66561319653451,
          8.496990484098719,
          7.438383530044307,
          9.190137664658664,
          7.170119543449628,
          9.116029692504942,
          8.160518247477505,
          8.496990484098719,
          9.116029692504942,
          9.137769679141348,
          8.556413904569519,
          8.594154232552366,
          8.987196820661973,
          8.575462099540212,
          8.34283980427146,
          8.764053269347762,
          8.575462099540212,
          8.101677747454572,
          8.594154232552366,
          7.438383530044307,
          8.68270762989381,
          8.294049640102028,
          8.160518247477505,
          9.082507000466299,
          7.937374696163295,
          9.148464968258095,
          8.948975607841776,
          9.011889433252344,
          8.101677747454572,
          8.160518247477505,
          8.34283980427146,
          8.748304912379623,
          7.649692623711514,
          8.34283980427146,
          7.003065458786462,
          8.160518247477505,
          8.648221453822641,
          9.02401079378469,
          7.090076835776092,
          8.987196820661973,
          7.090076835776092,
          8.935903526274423,
          9.137769679141348,
          8.101677747454572,
          8.881836305004146,
          8.824677891164198,
          8.411832675758411,
          8.824677891164198,
          9.148464968258095,
          7.90100705199242,
          9.035986984831405,
          9.20029003612268,
          9.0595174822416,
          8.556413904569519,
          8.630521876723241,
          8.476371196895983,
          8.66561319653451,
          8.242756345714477,
          9.116029692504942,
          9.035986984831405,
          7.549609165154532,
          7.24422751560335,
          8.764053269347762,
          8.824677891164198,
          8.101677747454572,
          7.170119543449628,
          8.794824928014517,
          7.8632667240095735,
          8.294049640102028,
          9.137769679141348,
          8.961879012677683,
          8.85366542803745,
          8.699514748210191,
          9.259130536145614,
          8.948975607841776,
          9.02401079378469,
          7.600902459542082,
          8.556413904569519,
          8.881836305004146,
          7.090076835776092,
          9.126958763037132,
          9.082507000466299,
          8.294049640102028,
          7.313220387090301,
          8.648221453822641,
          9.093806555720231,
          8.699514748210191,
          7.824046010856292,
          9.249561085129464,
          9.20029003612268,
          7.549609165154532,
          9.011889433252344,
          7.170119543449628,
          8.974618038455112,
          7.438383530044307,
          7.090076835776092,
          8.160518247477505,
          9.116029692504942,
          7.24422751560335,
          7.438383530044307,
          8.794824928014517,
          8.131530710604252,
          9.190137664658664,
          9.116029692504942,
          8.630521876723241,
          8.974618038455112,
          8.909235279192261,
          7.003065458786462,
          9.148464968258095,
          9.148464968258095,
          8.318742252692399,
          9.035986984831405,
          8.935903526274423,
          8.881836305004146,
          8.101677747454572,
          7.090076835776092,
          8.433811582477187,
          8.895629627136483,
          8.006367567650246,
          7.824046010856292,
          8.294049640102028,
          9.02401079378469,
          7.313220387090301,
          8.935903526274423,
          8.411832675758411,
          8.948975607841776,
          7.495541943884256,
          8.83927669058535,
          7.313220387090301,
          8.556413904569519,
          8.242756345714477,
          7.783224016336037,
          9.082507000466299,
          9.259130536145614,
          8.895629627136483,
          8.987196820661973,
          7.170119543449628,
          8.895629627136483,
          8.974618038455112,
          7.313220387090301,
          8.948975607841776,
          7.495541943884256,
          8.824677891164198,
          9.011889433252344,
          8.101677747454572
         ],
         "y": [
          8.160518247477505,
          8.987196820661973,
          7.170119543449628,
          8.476371196895983,
          7.438383530044307,
          7.170119543449628,
          9.011889433252344,
          7.24422751560335,
          8.83927669058535,
          9.20029003612268,
          7.24422751560335,
          8.68270762989381,
          9.126958763037132,
          8.68270762989381,
          7.783224016336037,
          8.575462099540212,
          9.0595174822416,
          8.389359819906353,
          8.594154232552366,
          8.794824928014517,
          8.948975607841776,
          8.732304571033183,
          7.649692623711514,
          7.090076835776092,
          8.895629627136483,
          7.90100705199242,
          7.549609165154532,
          8.594154232552366,
          7.649692623711514,
          8.131530710604252,
          8.006367567650246,
          8.881836305004146,
          9.137769679141348,
          7.170119543449628,
          7.24422751560335,
          7.696212639346407,
          9.259130536145614,
          9.035986984831405,
          8.594154232552366,
          9.035986984831405,
          7.438383530044307,
          8.496990484098719,
          7.170119543449628,
          7.495541943884256,
          8.594154232552366,
          9.02401079378469,
          9.082507000466299,
          7.170119543449628,
          9.071078304642676,
          7.003065458786462,
          8.895629627136483,
          8.732304571033183,
          8.101677747454572,
          8.575462099540212,
          8.517193191416238,
          7.170119543449628,
          8.476371196895983,
          8.517193191416238,
          9.011889433252344,
          8.68270762989381,
          7.313220387090301,
          9.137769679141348,
          9.169518377455928,
          8.824677891164198,
          8.764053269347762,
          8.83927669058535,
          8.006367567650246,
          7.495541943884256,
          8.895629627136483,
          9.230142999272362,
          9.071078304642676,
          8.45531778769815,
          8.895629627136483,
          8.160518247477505,
          9.011889433252344,
          9.02401079378469,
          8.824677891164198,
          8.294049640102028,
          8.764053269347762,
          8.575462099540212,
          8.699514748210191,
          9.02401079378469,
          9.20029003612268,
          9.035986984831405,
          7.649692623711514,
          8.517193191416238,
          8.131530710604252,
          7.003065458786462,
          7.783224016336037,
          8.974618038455112,
          8.935903526274423,
          8.34283980427146,
          8.987196820661973,
          7.313220387090301,
          8.34283980427146,
          7.8632667240095735,
          9.082507000466299,
          8.85366542803745,
          8.83927669058535,
          8.68270762989381,
          9.093806555720231,
          9.011889433252344,
          8.517193191416238,
          9.190137664658664,
          8.45531778769815,
          8.794824928014517,
          7.824046010856292,
          7.696212639346407,
          8.881836305004146,
          7.170119543449628,
          8.556413904569519,
          8.556413904569519,
          7.170119543449628,
          7.937374696163295,
          7.170119543449628,
          9.035986984831405,
          9.093806555720231,
          7.783224016336037,
          9.011889433252344,
          8.881836305004146,
          7.8632667240095735,
          8.556413904569519,
          8.909235279192261,
          8.594154232552366,
          9.093806555720231,
          8.935903526274423,
          8.101677747454572,
          8.496990484098719,
          8.824677891164198,
          9.035986984831405,
          7.090076835776092,
          7.24422751560335,
          8.160518247477505,
          9.093806555720231,
          8.34283980427146,
          8.45531778769815,
          9.0595174822416,
          8.268731832117737,
          7.24422751560335,
          7.824046010856292,
          8.85366542803745,
          8.389359819906353,
          8.881836305004146,
          7.696212639346407,
          7.824046010856292,
          9.116029692504942,
          9.011889433252344,
          9.148464968258095,
          8.85366542803745,
          7.003065458786462,
          7.090076835776092,
          8.496990484098719,
          9.20029003612268,
          9.169518377455928,
          7.495541943884256,
          8.594154232552366,
          8.411832675758411,
          8.909235279192261,
          8.411832675758411,
          8.575462099540212,
          9.126958763037132,
          8.160518247477505,
          7.003065458786462,
          9.148464968258095,
          7.090076835776092,
          9.071078304642676,
          9.137769679141348,
          9.190137664658664,
          8.974618038455112,
          8.961879012677683,
          9.011889433252344,
          8.794824928014517,
          8.294049640102028,
          8.948975607841776,
          8.961879012677683,
          7.696212639346407,
          8.131530710604252,
          7.24422751560335,
          7.24422751560335,
          9.230142999272362,
          9.20029003612268,
          8.556413904569519,
          8.45531778769815,
          9.179881164491475,
          7.313220387090301,
          9.035986984831405,
          8.824677891164198,
          7.696212639346407,
          8.268731832117737,
          9.137769679141348,
          9.169518377455928,
          9.02401079378469,
          9.137769679141348,
          8.630521876723241,
          9.116029692504942,
          8.411832675758411,
          8.34283980427146,
          8.881836305004146,
          9.093806555720231,
          8.294049640102028,
          9.035986984831405,
          7.438383530044307,
          9.169518377455928,
          8.556413904569519,
          8.824677891164198,
          7.003065458786462,
          8.66561319653451,
          7.9724660159745655,
          8.895629627136483,
          7.170119543449628,
          7.24422751560335,
          9.230142999272362,
          7.24422751560335,
          8.318742252692399,
          7.649692623711514,
          7.649692623711514,
          8.476371196895983,
          8.895629627136483,
          9.035986984831405,
          9.035986984831405,
          8.648221453822641,
          8.948975607841776,
          7.313220387090301,
          8.748304912379623,
          8.101677747454572,
          7.600902459542082,
          8.131530710604252,
          7.696212639346407,
          7.438383530044307,
          7.649692623711514,
          8.101677747454572,
          9.035986984831405,
          7.313220387090301,
          8.242756345714477,
          8.895629627136483,
          7.9724660159745655,
          8.131530710604252,
          8.575462099540212,
          8.006367567650246,
          8.45531778769815,
          7.600902459542082,
          7.438383530044307,
          8.389359819906353,
          9.02401079378469,
          7.170119543449628,
          7.824046010856292,
          8.764053269347762,
          9.082507000466299,
          8.748304912379623,
          7.696212639346407,
          8.101677747454572,
          7.24422751560335,
          9.035986984831405,
          8.66561319653451,
          8.85366542803745,
          8.101677747454572,
          7.313220387090301,
          8.34283980427146,
          9.190137664658664,
          8.83927669058535,
          9.230142999272362,
          8.824677891164198,
          8.935903526274423,
          8.948975607841776,
          9.169518377455928,
          7.549609165154532,
          9.179881164491475,
          9.126958763037132,
          9.071078304642676,
          8.974618038455112,
          8.987196820661973,
          8.66561319653451,
          8.496990484098719,
          7.438383530044307,
          9.190137664658664,
          7.170119543449628,
          9.116029692504942,
          8.160518247477505,
          8.496990484098719,
          9.116029692504942,
          9.137769679141348,
          8.556413904569519,
          8.594154232552366,
          8.987196820661973,
          8.575462099540212,
          8.34283980427146,
          8.764053269347762,
          8.575462099540212,
          8.101677747454572,
          8.594154232552366,
          7.438383530044307,
          8.68270762989381,
          8.294049640102028,
          8.160518247477505,
          9.082507000466299,
          7.937374696163295,
          9.148464968258095,
          8.948975607841776,
          9.011889433252344,
          8.101677747454572,
          8.160518247477505,
          8.34283980427146,
          8.748304912379623,
          7.649692623711514,
          8.34283980427146,
          7.003065458786462,
          8.160518247477505,
          8.648221453822641,
          9.02401079378469,
          7.090076835776092,
          8.987196820661973,
          7.090076835776092,
          8.935903526274423,
          9.137769679141348,
          8.101677747454572,
          8.881836305004146,
          8.824677891164198,
          8.411832675758411,
          8.824677891164198,
          9.148464968258095,
          7.90100705199242,
          9.035986984831405,
          9.20029003612268,
          9.0595174822416,
          8.556413904569519,
          8.630521876723241,
          8.476371196895983,
          8.66561319653451,
          8.242756345714477,
          9.116029692504942,
          9.035986984831405,
          7.549609165154532,
          7.24422751560335,
          8.764053269347762,
          8.824677891164198,
          8.101677747454572,
          7.170119543449628,
          8.794824928014517,
          7.8632667240095735,
          8.294049640102028,
          9.137769679141348,
          8.961879012677683,
          8.85366542803745,
          8.699514748210191,
          9.259130536145614,
          8.948975607841776,
          9.02401079378469,
          7.600902459542082,
          8.556413904569519,
          8.881836305004146,
          7.090076835776092,
          9.126958763037132,
          9.082507000466299,
          8.294049640102028,
          7.313220387090301,
          8.648221453822641,
          9.093806555720231,
          8.699514748210191,
          7.824046010856292,
          9.249561085129464,
          9.20029003612268,
          7.549609165154532,
          9.011889433252344,
          7.170119543449628,
          8.974618038455112,
          7.438383530044307,
          7.090076835776092,
          8.160518247477505,
          9.116029692504942,
          7.24422751560335,
          7.438383530044307,
          8.794824928014517,
          8.131530710604252,
          9.190137664658664,
          9.116029692504942,
          8.630521876723241,
          8.974618038455112,
          8.909235279192261,
          7.003065458786462,
          9.148464968258095,
          9.148464968258095,
          8.318742252692399,
          9.035986984831405,
          8.935903526274423,
          8.881836305004146,
          8.101677747454572,
          7.090076835776092,
          8.433811582477187,
          8.895629627136483,
          8.006367567650246,
          7.824046010856292,
          8.294049640102028,
          9.02401079378469,
          7.313220387090301,
          8.935903526274423,
          8.411832675758411,
          8.948975607841776,
          7.495541943884256,
          8.83927669058535,
          7.313220387090301,
          8.556413904569519,
          8.242756345714477,
          7.783224016336037,
          9.082507000466299,
          9.259130536145614,
          8.895629627136483,
          8.987196820661973,
          7.170119543449628,
          8.895629627136483,
          8.974618038455112,
          7.313220387090301,
          8.948975607841776,
          7.495541943884256,
          8.824677891164198,
          9.011889433252344,
          8.101677747454572
         ]
        }
       ],
       "layout": {
        "height": 500,
        "template": {
         "data": {
          "bar": [
           {
            "error_x": {
             "color": "#2a3f5f"
            },
            "error_y": {
             "color": "#2a3f5f"
            },
            "marker": {
             "line": {
              "color": "#E5ECF6",
              "width": 0.5
             },
             "pattern": {
              "fillmode": "overlay",
              "size": 10,
              "solidity": 0.2
             }
            },
            "type": "bar"
           }
          ],
          "barpolar": [
           {
            "marker": {
             "line": {
              "color": "#E5ECF6",
              "width": 0.5
             },
             "pattern": {
              "fillmode": "overlay",
              "size": 10,
              "solidity": 0.2
             }
            },
            "type": "barpolar"
           }
          ],
          "carpet": [
           {
            "aaxis": {
             "endlinecolor": "#2a3f5f",
             "gridcolor": "white",
             "linecolor": "white",
             "minorgridcolor": "white",
             "startlinecolor": "#2a3f5f"
            },
            "baxis": {
             "endlinecolor": "#2a3f5f",
             "gridcolor": "white",
             "linecolor": "white",
             "minorgridcolor": "white",
             "startlinecolor": "#2a3f5f"
            },
            "type": "carpet"
           }
          ],
          "choropleth": [
           {
            "colorbar": {
             "outlinewidth": 0,
             "ticks": ""
            },
            "type": "choropleth"
           }
          ],
          "contour": [
           {
            "colorbar": {
             "outlinewidth": 0,
             "ticks": ""
            },
            "colorscale": [
             [
              0,
              "#0d0887"
             ],
             [
              0.1111111111111111,
              "#46039f"
             ],
             [
              0.2222222222222222,
              "#7201a8"
             ],
             [
              0.3333333333333333,
              "#9c179e"
             ],
             [
              0.4444444444444444,
              "#bd3786"
             ],
             [
              0.5555555555555556,
              "#d8576b"
             ],
             [
              0.6666666666666666,
              "#ed7953"
             ],
             [
              0.7777777777777778,
              "#fb9f3a"
             ],
             [
              0.8888888888888888,
              "#fdca26"
             ],
             [
              1,
              "#f0f921"
             ]
            ],
            "type": "contour"
           }
          ],
          "contourcarpet": [
           {
            "colorbar": {
             "outlinewidth": 0,
             "ticks": ""
            },
            "type": "contourcarpet"
           }
          ],
          "heatmap": [
           {
            "colorbar": {
             "outlinewidth": 0,
             "ticks": ""
            },
            "colorscale": [
             [
              0,
              "#0d0887"
             ],
             [
              0.1111111111111111,
              "#46039f"
             ],
             [
              0.2222222222222222,
              "#7201a8"
             ],
             [
              0.3333333333333333,
              "#9c179e"
             ],
             [
              0.4444444444444444,
              "#bd3786"
             ],
             [
              0.5555555555555556,
              "#d8576b"
             ],
             [
              0.6666666666666666,
              "#ed7953"
             ],
             [
              0.7777777777777778,
              "#fb9f3a"
             ],
             [
              0.8888888888888888,
              "#fdca26"
             ],
             [
              1,
              "#f0f921"
             ]
            ],
            "type": "heatmap"
           }
          ],
          "heatmapgl": [
           {
            "colorbar": {
             "outlinewidth": 0,
             "ticks": ""
            },
            "colorscale": [
             [
              0,
              "#0d0887"
             ],
             [
              0.1111111111111111,
              "#46039f"
             ],
             [
              0.2222222222222222,
              "#7201a8"
             ],
             [
              0.3333333333333333,
              "#9c179e"
             ],
             [
              0.4444444444444444,
              "#bd3786"
             ],
             [
              0.5555555555555556,
              "#d8576b"
             ],
             [
              0.6666666666666666,
              "#ed7953"
             ],
             [
              0.7777777777777778,
              "#fb9f3a"
             ],
             [
              0.8888888888888888,
              "#fdca26"
             ],
             [
              1,
              "#f0f921"
             ]
            ],
            "type": "heatmapgl"
           }
          ],
          "histogram": [
           {
            "marker": {
             "pattern": {
              "fillmode": "overlay",
              "size": 10,
              "solidity": 0.2
             }
            },
            "type": "histogram"
           }
          ],
          "histogram2d": [
           {
            "colorbar": {
             "outlinewidth": 0,
             "ticks": ""
            },
            "colorscale": [
             [
              0,
              "#0d0887"
             ],
             [
              0.1111111111111111,
              "#46039f"
             ],
             [
              0.2222222222222222,
              "#7201a8"
             ],
             [
              0.3333333333333333,
              "#9c179e"
             ],
             [
              0.4444444444444444,
              "#bd3786"
             ],
             [
              0.5555555555555556,
              "#d8576b"
             ],
             [
              0.6666666666666666,
              "#ed7953"
             ],
             [
              0.7777777777777778,
              "#fb9f3a"
             ],
             [
              0.8888888888888888,
              "#fdca26"
             ],
             [
              1,
              "#f0f921"
             ]
            ],
            "type": "histogram2d"
           }
          ],
          "histogram2dcontour": [
           {
            "colorbar": {
             "outlinewidth": 0,
             "ticks": ""
            },
            "colorscale": [
             [
              0,
              "#0d0887"
             ],
             [
              0.1111111111111111,
              "#46039f"
             ],
             [
              0.2222222222222222,
              "#7201a8"
             ],
             [
              0.3333333333333333,
              "#9c179e"
             ],
             [
              0.4444444444444444,
              "#bd3786"
             ],
             [
              0.5555555555555556,
              "#d8576b"
             ],
             [
              0.6666666666666666,
              "#ed7953"
             ],
             [
              0.7777777777777778,
              "#fb9f3a"
             ],
             [
              0.8888888888888888,
              "#fdca26"
             ],
             [
              1,
              "#f0f921"
             ]
            ],
            "type": "histogram2dcontour"
           }
          ],
          "mesh3d": [
           {
            "colorbar": {
             "outlinewidth": 0,
             "ticks": ""
            },
            "type": "mesh3d"
           }
          ],
          "parcoords": [
           {
            "line": {
             "colorbar": {
              "outlinewidth": 0,
              "ticks": ""
             }
            },
            "type": "parcoords"
           }
          ],
          "pie": [
           {
            "automargin": true,
            "type": "pie"
           }
          ],
          "scatter": [
           {
            "fillpattern": {
             "fillmode": "overlay",
             "size": 10,
             "solidity": 0.2
            },
            "type": "scatter"
           }
          ],
          "scatter3d": [
           {
            "line": {
             "colorbar": {
              "outlinewidth": 0,
              "ticks": ""
             }
            },
            "marker": {
             "colorbar": {
              "outlinewidth": 0,
              "ticks": ""
             }
            },
            "type": "scatter3d"
           }
          ],
          "scattercarpet": [
           {
            "marker": {
             "colorbar": {
              "outlinewidth": 0,
              "ticks": ""
             }
            },
            "type": "scattercarpet"
           }
          ],
          "scattergeo": [
           {
            "marker": {
             "colorbar": {
              "outlinewidth": 0,
              "ticks": ""
             }
            },
            "type": "scattergeo"
           }
          ],
          "scattergl": [
           {
            "marker": {
             "colorbar": {
              "outlinewidth": 0,
              "ticks": ""
             }
            },
            "type": "scattergl"
           }
          ],
          "scattermapbox": [
           {
            "marker": {
             "colorbar": {
              "outlinewidth": 0,
              "ticks": ""
             }
            },
            "type": "scattermapbox"
           }
          ],
          "scatterpolar": [
           {
            "marker": {
             "colorbar": {
              "outlinewidth": 0,
              "ticks": ""
             }
            },
            "type": "scatterpolar"
           }
          ],
          "scatterpolargl": [
           {
            "marker": {
             "colorbar": {
              "outlinewidth": 0,
              "ticks": ""
             }
            },
            "type": "scatterpolargl"
           }
          ],
          "scatterternary": [
           {
            "marker": {
             "colorbar": {
              "outlinewidth": 0,
              "ticks": ""
             }
            },
            "type": "scatterternary"
           }
          ],
          "surface": [
           {
            "colorbar": {
             "outlinewidth": 0,
             "ticks": ""
            },
            "colorscale": [
             [
              0,
              "#0d0887"
             ],
             [
              0.1111111111111111,
              "#46039f"
             ],
             [
              0.2222222222222222,
              "#7201a8"
             ],
             [
              0.3333333333333333,
              "#9c179e"
             ],
             [
              0.4444444444444444,
              "#bd3786"
             ],
             [
              0.5555555555555556,
              "#d8576b"
             ],
             [
              0.6666666666666666,
              "#ed7953"
             ],
             [
              0.7777777777777778,
              "#fb9f3a"
             ],
             [
              0.8888888888888888,
              "#fdca26"
             ],
             [
              1,
              "#f0f921"
             ]
            ],
            "type": "surface"
           }
          ],
          "table": [
           {
            "cells": {
             "fill": {
              "color": "#EBF0F8"
             },
             "line": {
              "color": "white"
             }
            },
            "header": {
             "fill": {
              "color": "#C8D4E3"
             },
             "line": {
              "color": "white"
             }
            },
            "type": "table"
           }
          ]
         },
         "layout": {
          "annotationdefaults": {
           "arrowcolor": "#2a3f5f",
           "arrowhead": 0,
           "arrowwidth": 1
          },
          "autotypenumbers": "strict",
          "coloraxis": {
           "colorbar": {
            "outlinewidth": 0,
            "ticks": ""
           }
          },
          "colorscale": {
           "diverging": [
            [
             0,
             "#8e0152"
            ],
            [
             0.1,
             "#c51b7d"
            ],
            [
             0.2,
             "#de77ae"
            ],
            [
             0.3,
             "#f1b6da"
            ],
            [
             0.4,
             "#fde0ef"
            ],
            [
             0.5,
             "#f7f7f7"
            ],
            [
             0.6,
             "#e6f5d0"
            ],
            [
             0.7,
             "#b8e186"
            ],
            [
             0.8,
             "#7fbc41"
            ],
            [
             0.9,
             "#4d9221"
            ],
            [
             1,
             "#276419"
            ]
           ],
           "sequential": [
            [
             0,
             "#0d0887"
            ],
            [
             0.1111111111111111,
             "#46039f"
            ],
            [
             0.2222222222222222,
             "#7201a8"
            ],
            [
             0.3333333333333333,
             "#9c179e"
            ],
            [
             0.4444444444444444,
             "#bd3786"
            ],
            [
             0.5555555555555556,
             "#d8576b"
            ],
            [
             0.6666666666666666,
             "#ed7953"
            ],
            [
             0.7777777777777778,
             "#fb9f3a"
            ],
            [
             0.8888888888888888,
             "#fdca26"
            ],
            [
             1,
             "#f0f921"
            ]
           ],
           "sequentialminus": [
            [
             0,
             "#0d0887"
            ],
            [
             0.1111111111111111,
             "#46039f"
            ],
            [
             0.2222222222222222,
             "#7201a8"
            ],
            [
             0.3333333333333333,
             "#9c179e"
            ],
            [
             0.4444444444444444,
             "#bd3786"
            ],
            [
             0.5555555555555556,
             "#d8576b"
            ],
            [
             0.6666666666666666,
             "#ed7953"
            ],
            [
             0.7777777777777778,
             "#fb9f3a"
            ],
            [
             0.8888888888888888,
             "#fdca26"
            ],
            [
             1,
             "#f0f921"
            ]
           ]
          },
          "colorway": [
           "#636efa",
           "#EF553B",
           "#00cc96",
           "#ab63fa",
           "#FFA15A",
           "#19d3f3",
           "#FF6692",
           "#B6E880",
           "#FF97FF",
           "#FECB52"
          ],
          "font": {
           "color": "#2a3f5f"
          },
          "geo": {
           "bgcolor": "white",
           "lakecolor": "white",
           "landcolor": "#E5ECF6",
           "showlakes": true,
           "showland": true,
           "subunitcolor": "white"
          },
          "hoverlabel": {
           "align": "left"
          },
          "hovermode": "closest",
          "mapbox": {
           "style": "light"
          },
          "paper_bgcolor": "white",
          "plot_bgcolor": "#E5ECF6",
          "polar": {
           "angularaxis": {
            "gridcolor": "white",
            "linecolor": "white",
            "ticks": ""
           },
           "bgcolor": "#E5ECF6",
           "radialaxis": {
            "gridcolor": "white",
            "linecolor": "white",
            "ticks": ""
           }
          },
          "scene": {
           "xaxis": {
            "backgroundcolor": "#E5ECF6",
            "gridcolor": "white",
            "gridwidth": 2,
            "linecolor": "white",
            "showbackground": true,
            "ticks": "",
            "zerolinecolor": "white"
           },
           "yaxis": {
            "backgroundcolor": "#E5ECF6",
            "gridcolor": "white",
            "gridwidth": 2,
            "linecolor": "white",
            "showbackground": true,
            "ticks": "",
            "zerolinecolor": "white"
           },
           "zaxis": {
            "backgroundcolor": "#E5ECF6",
            "gridcolor": "white",
            "gridwidth": 2,
            "linecolor": "white",
            "showbackground": true,
            "ticks": "",
            "zerolinecolor": "white"
           }
          },
          "shapedefaults": {
           "line": {
            "color": "#2a3f5f"
           }
          },
          "ternary": {
           "aaxis": {
            "gridcolor": "white",
            "linecolor": "white",
            "ticks": ""
           },
           "baxis": {
            "gridcolor": "white",
            "linecolor": "white",
            "ticks": ""
           },
           "bgcolor": "#E5ECF6",
           "caxis": {
            "gridcolor": "white",
            "linecolor": "white",
            "ticks": ""
           }
          },
          "title": {
           "x": 0.05
          },
          "xaxis": {
           "automargin": true,
           "gridcolor": "white",
           "linecolor": "white",
           "ticks": "",
           "title": {
            "standoff": 15
           },
           "zerolinecolor": "white",
           "zerolinewidth": 2
          },
          "yaxis": {
           "automargin": true,
           "gridcolor": "white",
           "linecolor": "white",
           "ticks": "",
           "title": {
            "standoff": 15
           },
           "zerolinecolor": "white",
           "zerolinewidth": 2
          }
         }
        },
        "title": {
         "text": "KNN:Observed target vs Predicted target using train data"
        },
        "width": 800,
        "xaxis": {
         "title": {
          "text": "Observed consult_cost"
         }
        },
        "yaxis": {
         "title": {
          "text": "Predicted consult_cost"
         }
        }
       }
      }
     },
     "metadata": {},
     "output_type": "display_data"
    }
   ],
   "source": [
    "\n",
    "fig = go.Figure()\n",
    "\n",
    "# scatter plot using trained data\n",
    "fig.add_trace(go.Scatter(y=y_train, x=knn.predict(x_train), mode='markers', marker=dict(color='blue')))\n",
    "\n",
    "# diagonal line to represent predictions\n",
    "fig.add_trace(go.Scatter(y=y_train, x=y_train, mode='lines', line=dict(color='red')))\n",
    "\n",
    "fig.update_layout(title='KNN:Observed target vs Predicted target using train data', xaxis_title='Observed consult_cost', \n",
    "                  yaxis_title='Predicted consult_cost', width=800, height=500)\n",
    "fig.show()"
   ]
  },
  {
   "cell_type": "code",
   "execution_count": 126,
   "metadata": {},
   "outputs": [
    {
     "data": {
      "application/vnd.plotly.v1+json": {
       "config": {
        "plotlyServerURL": "https://plot.ly"
       },
       "data": [
        {
         "marker": {
          "color": "blue"
         },
         "mode": "markers",
         "type": "scatter",
         "x": [
          8.14913521973206,
          8.975305292554104,
          7.171464376264662,
          8.46993319366117,
          7.464562152069163,
          7.184853498591954,
          9.003747391153425,
          7.208481836651699,
          8.841555781761095,
          9.18312623530132,
          7.219212830375759,
          8.65937874100422,
          9.124941623398719,
          8.662852877675848,
          7.805682530686829,
          8.618060170034797,
          9.058479887823436,
          8.426245423336324,
          8.588147825651369,
          8.76460162635771,
          8.959293479872708,
          8.738265853389038,
          7.622023025036154,
          7.2513428713317,
          8.895333116985416,
          7.89877806921089,
          7.508637158995489,
          8.554234609423508,
          7.577403787246481,
          8.126983532029678,
          8.017513660248406,
          8.885139195512858,
          9.128300081995736,
          7.164205228254355,
          7.2108275108224245,
          7.647452441685151,
          9.2516141290141,
          9.027651972686815,
          8.588460087674259,
          9.036462748903665,
          7.483782672067556,
          8.520792240385724,
          7.19765662795871,
          7.4639165901082505,
          8.576760206893528,
          9.036979243325048,
          9.074663357177457,
          7.160211289219208,
          9.06439204177209,
          7.24792819497616,
          8.895061003944303,
          8.744182099583561,
          8.035899374400492,
          8.609524333976394,
          8.483172537893777,
          7.173894835259112,
          8.47468528520563,
          8.49266580168641,
          9.019364029326429,
          8.689279835971984,
          7.332988542094361,
          9.130873251010403,
          9.171428342893496,
          8.828716233613235,
          8.760651981186479,
          8.84243801158544,
          7.971693180499283,
          7.5062696492008065,
          8.89286720930849,
          9.227432670243008,
          9.062046552454781,
          8.456675077153962,
          8.893972551779841,
          8.147243257725707,
          9.012915172345014,
          9.020279980306285,
          8.826710968200716,
          8.284556727014861,
          8.751690002228967,
          8.571635577992053,
          8.680026071921455,
          9.015317670537307,
          9.17654921200289,
          9.016471689243243,
          7.591228035686881,
          8.500896643230043,
          8.192185995311759,
          7.06669117139879,
          7.897269242291511,
          8.969153257685038,
          8.93161522146678,
          8.338170804944426,
          8.972082771411698,
          7.282489779530197,
          8.318203862448518,
          7.881015896656579,
          9.07719102446881,
          8.84469189532488,
          8.839193507497415,
          8.663804631422101,
          9.068112019933391,
          9.026867000089275,
          8.498426899319679,
          9.183346928554586,
          8.462486498357997,
          8.769692912192667,
          7.81990373734257,
          7.598893948511726,
          8.891713072617232,
          7.243677155055531,
          8.55874774318108,
          8.55944473321079,
          7.17683069213811,
          7.9263091672583945,
          7.15914459769723,
          9.02703872293052,
          9.083370906164085,
          7.795488469282614,
          9.001141249481213,
          8.88693045068929,
          7.854226527328857,
          8.515026884468655,
          8.901308343685356,
          8.581291686327157,
          9.088097188530178,
          8.957785392810065,
          8.106066158135192,
          8.492055609189627,
          8.827417549571173,
          9.015308129663659,
          7.157340850409339,
          7.234858013696493,
          8.13986655956593,
          9.078594104631026,
          8.33913940526955,
          8.461147631444867,
          9.059663665251243,
          8.276885554303623,
          7.229721230069802,
          7.8149623101150345,
          8.844502636016848,
          8.419675310651353,
          8.889385098161624,
          7.596248961749431,
          7.869637596906922,
          9.130458970874066,
          8.991556045189904,
          9.144132845552669,
          8.847742687081485,
          7.168908957136731,
          7.117630781514138,
          8.468120949182845,
          9.191449572957408,
          9.155980128456962,
          7.5560102138106515,
          8.588694347163386,
          8.436948600907488,
          8.904044487702636,
          8.459522613454398,
          8.571014495290372,
          9.12906524089667,
          8.144657275259611,
          7.077836205811597,
          9.133139183332748,
          7.123410385884539,
          9.064306244110782,
          9.130290249577108,
          9.177190274588021,
          8.969286572315946,
          8.955134337583988,
          9.010056952421117,
          8.76340113507493,
          8.294843972316196,
          8.976218987231277,
          8.960518552427358,
          7.749136870070138,
          8.139928442034726,
          7.212856485298329,
          7.356430726924099,
          9.228447343469435,
          9.212654697770503,
          8.564891591559022,
          8.452297243906072,
          9.18104735766721,
          7.252385392331563,
          9.031247471629433,
          8.827415197167479,
          7.736122976613486,
          8.28706631157991,
          9.12928627208092,
          9.163302294802797,
          9.00194460185734,
          9.12933599127341,
          8.651058157773836,
          9.13887046605848,
          8.442507532931412,
          8.333894882999985,
          8.908337752631986,
          9.106287068908502,
          8.294084440373652,
          9.026505585639185,
          7.481231054091585,
          9.16836921508316,
          8.559689471070858,
          8.81884463226571,
          7.09145241465643,
          8.669969179977587,
          7.929502217035457,
          8.894915563919916,
          7.170158455072243,
          7.214326501588506,
          9.227696682429228,
          7.207701881742242,
          8.303184301277584,
          7.597307908688921,
          7.57593227508812,
          8.4604187070064,
          8.893819604952395,
          9.015112665245265,
          9.039397875582244,
          8.647406366601512,
          8.952120947862971,
          7.2711440615795855,
          8.738623413620155,
          8.116448452299656,
          7.5895046531478965,
          8.127795645232323,
          7.578246270447733,
          7.415653372479112,
          7.585980332351867,
          8.123466040988589,
          9.04546375825612,
          7.386680147023441,
          8.267877337538215,
          8.916223113120207,
          7.922615091578223,
          8.06819517505915,
          8.567139630826954,
          8.01726725618677,
          8.442739065466784,
          7.682585409044203,
          7.449913635806798,
          8.421183054876579,
          9.018966494397098,
          7.1757635875988255,
          7.851335046644668,
          8.76636970810527,
          9.070842321638807,
          8.746839100194952,
          7.6142384297118415,
          8.114990421193228,
          7.216154744999301,
          9.025484896655833,
          8.66830575874918,
          8.841693995291763,
          8.043731995817751,
          7.266568342693347,
          8.308710718502253,
          9.199533676182185,
          8.8351738188416,
          9.222540823864833,
          8.823837294612899,
          8.962360987142443,
          8.954783508453819,
          9.157730457194072,
          7.54137397098125,
          9.181212730632344,
          9.130600644967398,
          9.068642831580897,
          8.971599647483465,
          8.970322795825222,
          8.65986912061295,
          8.46901634789915,
          7.480872306812376,
          9.181190059688658,
          7.2033050917260235,
          9.135533633057221,
          8.155547094895235,
          8.486812688101438,
          9.133688935293703,
          9.135585248774428,
          8.547985188766608,
          8.585287035786173,
          8.973215877833207,
          8.570600560698416,
          8.313655275148077,
          8.72215271029844,
          8.565504335632738,
          8.123773224882848,
          8.573327467085045,
          7.452554845274957,
          8.670807342377891,
          8.276432365637485,
          8.146721019891794,
          9.06751171804689,
          7.84630778697128,
          9.13346447033642,
          8.948472933613848,
          9.02886679714466,
          8.117335386931382,
          8.146746982680087,
          8.324431659351529,
          8.74127513417882,
          7.715905405349332,
          8.330054236378672,
          7.0722417517974785,
          8.146106652103272,
          8.668886951548778,
          9.02108371566794,
          7.112996091855304,
          8.990952727664583,
          7.133523487084974,
          8.95107611336848,
          9.15242326031322,
          8.168370758639977,
          8.883491503660036,
          8.828894738038821,
          8.457452236344716,
          8.818700744891192,
          9.142626648881867,
          7.90318650574434,
          9.01802964623148,
          9.18139062557621,
          9.085027782077916,
          8.561973196985525,
          8.657190028352625,
          8.472745520615915,
          8.694157026676526,
          8.263702188487237,
          9.122604547483293,
          9.028513887110527,
          7.518107333994608,
          7.2126210323583235,
          8.74501942605914,
          8.82830213179921,
          8.11053843950907,
          7.171984762002259,
          8.753054948886133,
          7.840520650479693,
          8.296449758385837,
          9.133567599930982,
          8.969179587116933,
          8.849769965826923,
          8.685641712758457,
          9.248663237442244,
          8.942813444532728,
          9.032322092827865,
          7.50948878824895,
          8.554440215911503,
          8.888706692259598,
          7.118689276687593,
          9.12803473917612,
          9.069354548762284,
          8.283403390253026,
          7.235667708046501,
          8.683332849565844,
          9.109532045818414,
          8.682635598338145,
          7.921771832763694,
          9.247066364622471,
          9.201916662322443,
          7.525704434209464,
          9.0382891326568,
          7.165984670156573,
          8.958594151995705,
          7.404063380254875,
          7.235353060947747,
          8.130630281371493,
          9.11871235275371,
          7.187525062967807,
          7.352409174109373,
          8.805112269216846,
          8.134615488507134,
          9.177466522948711,
          9.115069657203174,
          8.648877366535174,
          8.984806792261182,
          8.900480744357418,
          7.038361966439002,
          9.151945593953792,
          9.157338654532573,
          8.31027423454054,
          9.02079514057531,
          8.957969587172665,
          8.887200687029644,
          8.095186849427844,
          7.141270235438759,
          8.45227133170864,
          8.89670306569482,
          7.951696901950562,
          7.8560916493487865,
          8.283490490288786,
          9.014347722582492,
          7.25777578800216,
          8.94109897402973,
          8.440662833519742,
          8.969784919378862,
          7.455996567075221,
          8.835620437087,
          7.37318600231797,
          8.54588838418206,
          8.21245220119465,
          7.802645341435103,
          9.080684092340995,
          9.253364714625347,
          8.895741286547091,
          8.9753351235869,
          7.155267210383041,
          8.924431079015728,
          8.959518983245047,
          7.260756293076714,
          8.973050824698447,
          7.4626621641773125,
          8.829751508642866,
          9.002096948689031,
          8.121393642093638
         ],
         "y": [
          8.160518247477505,
          8.987196820661973,
          7.170119543449628,
          8.476371196895983,
          7.438383530044307,
          7.170119543449628,
          9.011889433252344,
          7.24422751560335,
          8.83927669058535,
          9.20029003612268,
          7.24422751560335,
          8.68270762989381,
          9.126958763037132,
          8.68270762989381,
          7.783224016336037,
          8.575462099540212,
          9.0595174822416,
          8.389359819906353,
          8.594154232552366,
          8.794824928014517,
          8.948975607841776,
          8.732304571033183,
          7.649692623711514,
          7.090076835776092,
          8.895629627136483,
          7.90100705199242,
          7.549609165154532,
          8.594154232552366,
          7.649692623711514,
          8.131530710604252,
          8.006367567650246,
          8.881836305004146,
          9.137769679141348,
          7.170119543449628,
          7.24422751560335,
          7.696212639346407,
          9.259130536145614,
          9.035986984831405,
          8.594154232552366,
          9.035986984831405,
          7.438383530044307,
          8.496990484098719,
          7.170119543449628,
          7.495541943884256,
          8.594154232552366,
          9.02401079378469,
          9.082507000466299,
          7.170119543449628,
          9.071078304642676,
          7.003065458786462,
          8.895629627136483,
          8.732304571033183,
          8.101677747454572,
          8.575462099540212,
          8.517193191416238,
          7.170119543449628,
          8.476371196895983,
          8.517193191416238,
          9.011889433252344,
          8.68270762989381,
          7.313220387090301,
          9.137769679141348,
          9.169518377455928,
          8.824677891164198,
          8.764053269347762,
          8.83927669058535,
          8.006367567650246,
          7.495541943884256,
          8.895629627136483,
          9.230142999272362,
          9.071078304642676,
          8.45531778769815,
          8.895629627136483,
          8.160518247477505,
          9.011889433252344,
          9.02401079378469,
          8.824677891164198,
          8.294049640102028,
          8.764053269347762,
          8.575462099540212,
          8.699514748210191,
          9.02401079378469,
          9.20029003612268,
          9.035986984831405,
          7.649692623711514,
          8.517193191416238,
          8.131530710604252,
          7.003065458786462,
          7.783224016336037,
          8.974618038455112,
          8.935903526274423,
          8.34283980427146,
          8.987196820661973,
          7.313220387090301,
          8.34283980427146,
          7.8632667240095735,
          9.082507000466299,
          8.85366542803745,
          8.83927669058535,
          8.68270762989381,
          9.093806555720231,
          9.011889433252344,
          8.517193191416238,
          9.190137664658664,
          8.45531778769815,
          8.794824928014517,
          7.824046010856292,
          7.696212639346407,
          8.881836305004146,
          7.170119543449628,
          8.556413904569519,
          8.556413904569519,
          7.170119543449628,
          7.937374696163295,
          7.170119543449628,
          9.035986984831405,
          9.093806555720231,
          7.783224016336037,
          9.011889433252344,
          8.881836305004146,
          7.8632667240095735,
          8.556413904569519,
          8.909235279192261,
          8.594154232552366,
          9.093806555720231,
          8.935903526274423,
          8.101677747454572,
          8.496990484098719,
          8.824677891164198,
          9.035986984831405,
          7.090076835776092,
          7.24422751560335,
          8.160518247477505,
          9.093806555720231,
          8.34283980427146,
          8.45531778769815,
          9.0595174822416,
          8.268731832117737,
          7.24422751560335,
          7.824046010856292,
          8.85366542803745,
          8.389359819906353,
          8.881836305004146,
          7.696212639346407,
          7.824046010856292,
          9.116029692504942,
          9.011889433252344,
          9.148464968258095,
          8.85366542803745,
          7.003065458786462,
          7.090076835776092,
          8.496990484098719,
          9.20029003612268,
          9.169518377455928,
          7.495541943884256,
          8.594154232552366,
          8.411832675758411,
          8.909235279192261,
          8.411832675758411,
          8.575462099540212,
          9.126958763037132,
          8.160518247477505,
          7.003065458786462,
          9.148464968258095,
          7.090076835776092,
          9.071078304642676,
          9.137769679141348,
          9.190137664658664,
          8.974618038455112,
          8.961879012677683,
          9.011889433252344,
          8.794824928014517,
          8.294049640102028,
          8.948975607841776,
          8.961879012677683,
          7.696212639346407,
          8.131530710604252,
          7.24422751560335,
          7.24422751560335,
          9.230142999272362,
          9.20029003612268,
          8.556413904569519,
          8.45531778769815,
          9.179881164491475,
          7.313220387090301,
          9.035986984831405,
          8.824677891164198,
          7.696212639346407,
          8.268731832117737,
          9.137769679141348,
          9.169518377455928,
          9.02401079378469,
          9.137769679141348,
          8.630521876723241,
          9.116029692504942,
          8.411832675758411,
          8.34283980427146,
          8.881836305004146,
          9.093806555720231,
          8.294049640102028,
          9.035986984831405,
          7.438383530044307,
          9.169518377455928,
          8.556413904569519,
          8.824677891164198,
          7.003065458786462,
          8.66561319653451,
          7.9724660159745655,
          8.895629627136483,
          7.170119543449628,
          7.24422751560335,
          9.230142999272362,
          7.24422751560335,
          8.318742252692399,
          7.649692623711514,
          7.649692623711514,
          8.476371196895983,
          8.895629627136483,
          9.035986984831405,
          9.035986984831405,
          8.648221453822641,
          8.948975607841776,
          7.313220387090301,
          8.748304912379623,
          8.101677747454572,
          7.600902459542082,
          8.131530710604252,
          7.696212639346407,
          7.438383530044307,
          7.649692623711514,
          8.101677747454572,
          9.035986984831405,
          7.313220387090301,
          8.242756345714477,
          8.895629627136483,
          7.9724660159745655,
          8.131530710604252,
          8.575462099540212,
          8.006367567650246,
          8.45531778769815,
          7.600902459542082,
          7.438383530044307,
          8.389359819906353,
          9.02401079378469,
          7.170119543449628,
          7.824046010856292,
          8.764053269347762,
          9.082507000466299,
          8.748304912379623,
          7.696212639346407,
          8.101677747454572,
          7.24422751560335,
          9.035986984831405,
          8.66561319653451,
          8.85366542803745,
          8.101677747454572,
          7.313220387090301,
          8.34283980427146,
          9.190137664658664,
          8.83927669058535,
          9.230142999272362,
          8.824677891164198,
          8.935903526274423,
          8.948975607841776,
          9.169518377455928,
          7.549609165154532,
          9.179881164491475,
          9.126958763037132,
          9.071078304642676,
          8.974618038455112,
          8.987196820661973,
          8.66561319653451,
          8.496990484098719,
          7.438383530044307,
          9.190137664658664,
          7.170119543449628,
          9.116029692504942,
          8.160518247477505,
          8.496990484098719,
          9.116029692504942,
          9.137769679141348,
          8.556413904569519,
          8.594154232552366,
          8.987196820661973,
          8.575462099540212,
          8.34283980427146,
          8.764053269347762,
          8.575462099540212,
          8.101677747454572,
          8.594154232552366,
          7.438383530044307,
          8.68270762989381,
          8.294049640102028,
          8.160518247477505,
          9.082507000466299,
          7.937374696163295,
          9.148464968258095,
          8.948975607841776,
          9.011889433252344,
          8.101677747454572,
          8.160518247477505,
          8.34283980427146,
          8.748304912379623,
          7.649692623711514,
          8.34283980427146,
          7.003065458786462,
          8.160518247477505,
          8.648221453822641,
          9.02401079378469,
          7.090076835776092,
          8.987196820661973,
          7.090076835776092,
          8.935903526274423,
          9.137769679141348,
          8.101677747454572,
          8.881836305004146,
          8.824677891164198,
          8.411832675758411,
          8.824677891164198,
          9.148464968258095,
          7.90100705199242,
          9.035986984831405,
          9.20029003612268,
          9.0595174822416,
          8.556413904569519,
          8.630521876723241,
          8.476371196895983,
          8.66561319653451,
          8.242756345714477,
          9.116029692504942,
          9.035986984831405,
          7.549609165154532,
          7.24422751560335,
          8.764053269347762,
          8.824677891164198,
          8.101677747454572,
          7.170119543449628,
          8.794824928014517,
          7.8632667240095735,
          8.294049640102028,
          9.137769679141348,
          8.961879012677683,
          8.85366542803745,
          8.699514748210191,
          9.259130536145614,
          8.948975607841776,
          9.02401079378469,
          7.600902459542082,
          8.556413904569519,
          8.881836305004146,
          7.090076835776092,
          9.126958763037132,
          9.082507000466299,
          8.294049640102028,
          7.313220387090301,
          8.648221453822641,
          9.093806555720231,
          8.699514748210191,
          7.824046010856292,
          9.249561085129464,
          9.20029003612268,
          7.549609165154532,
          9.011889433252344,
          7.170119543449628,
          8.974618038455112,
          7.438383530044307,
          7.090076835776092,
          8.160518247477505,
          9.116029692504942,
          7.24422751560335,
          7.438383530044307,
          8.794824928014517,
          8.131530710604252,
          9.190137664658664,
          9.116029692504942,
          8.630521876723241,
          8.974618038455112,
          8.909235279192261,
          7.003065458786462,
          9.148464968258095,
          9.148464968258095,
          8.318742252692399,
          9.035986984831405,
          8.935903526274423,
          8.881836305004146,
          8.101677747454572,
          7.090076835776092,
          8.433811582477187,
          8.895629627136483,
          8.006367567650246,
          7.824046010856292,
          8.294049640102028,
          9.02401079378469,
          7.313220387090301,
          8.935903526274423,
          8.411832675758411,
          8.948975607841776,
          7.495541943884256,
          8.83927669058535,
          7.313220387090301,
          8.556413904569519,
          8.242756345714477,
          7.783224016336037,
          9.082507000466299,
          9.259130536145614,
          8.895629627136483,
          8.987196820661973,
          7.170119543449628,
          8.895629627136483,
          8.974618038455112,
          7.313220387090301,
          8.948975607841776,
          7.495541943884256,
          8.824677891164198,
          9.011889433252344,
          8.101677747454572
         ]
        },
        {
         "line": {
          "color": "red"
         },
         "mode": "lines",
         "type": "scatter",
         "x": [
          8.160518247477505,
          8.987196820661973,
          7.170119543449628,
          8.476371196895983,
          7.438383530044307,
          7.170119543449628,
          9.011889433252344,
          7.24422751560335,
          8.83927669058535,
          9.20029003612268,
          7.24422751560335,
          8.68270762989381,
          9.126958763037132,
          8.68270762989381,
          7.783224016336037,
          8.575462099540212,
          9.0595174822416,
          8.389359819906353,
          8.594154232552366,
          8.794824928014517,
          8.948975607841776,
          8.732304571033183,
          7.649692623711514,
          7.090076835776092,
          8.895629627136483,
          7.90100705199242,
          7.549609165154532,
          8.594154232552366,
          7.649692623711514,
          8.131530710604252,
          8.006367567650246,
          8.881836305004146,
          9.137769679141348,
          7.170119543449628,
          7.24422751560335,
          7.696212639346407,
          9.259130536145614,
          9.035986984831405,
          8.594154232552366,
          9.035986984831405,
          7.438383530044307,
          8.496990484098719,
          7.170119543449628,
          7.495541943884256,
          8.594154232552366,
          9.02401079378469,
          9.082507000466299,
          7.170119543449628,
          9.071078304642676,
          7.003065458786462,
          8.895629627136483,
          8.732304571033183,
          8.101677747454572,
          8.575462099540212,
          8.517193191416238,
          7.170119543449628,
          8.476371196895983,
          8.517193191416238,
          9.011889433252344,
          8.68270762989381,
          7.313220387090301,
          9.137769679141348,
          9.169518377455928,
          8.824677891164198,
          8.764053269347762,
          8.83927669058535,
          8.006367567650246,
          7.495541943884256,
          8.895629627136483,
          9.230142999272362,
          9.071078304642676,
          8.45531778769815,
          8.895629627136483,
          8.160518247477505,
          9.011889433252344,
          9.02401079378469,
          8.824677891164198,
          8.294049640102028,
          8.764053269347762,
          8.575462099540212,
          8.699514748210191,
          9.02401079378469,
          9.20029003612268,
          9.035986984831405,
          7.649692623711514,
          8.517193191416238,
          8.131530710604252,
          7.003065458786462,
          7.783224016336037,
          8.974618038455112,
          8.935903526274423,
          8.34283980427146,
          8.987196820661973,
          7.313220387090301,
          8.34283980427146,
          7.8632667240095735,
          9.082507000466299,
          8.85366542803745,
          8.83927669058535,
          8.68270762989381,
          9.093806555720231,
          9.011889433252344,
          8.517193191416238,
          9.190137664658664,
          8.45531778769815,
          8.794824928014517,
          7.824046010856292,
          7.696212639346407,
          8.881836305004146,
          7.170119543449628,
          8.556413904569519,
          8.556413904569519,
          7.170119543449628,
          7.937374696163295,
          7.170119543449628,
          9.035986984831405,
          9.093806555720231,
          7.783224016336037,
          9.011889433252344,
          8.881836305004146,
          7.8632667240095735,
          8.556413904569519,
          8.909235279192261,
          8.594154232552366,
          9.093806555720231,
          8.935903526274423,
          8.101677747454572,
          8.496990484098719,
          8.824677891164198,
          9.035986984831405,
          7.090076835776092,
          7.24422751560335,
          8.160518247477505,
          9.093806555720231,
          8.34283980427146,
          8.45531778769815,
          9.0595174822416,
          8.268731832117737,
          7.24422751560335,
          7.824046010856292,
          8.85366542803745,
          8.389359819906353,
          8.881836305004146,
          7.696212639346407,
          7.824046010856292,
          9.116029692504942,
          9.011889433252344,
          9.148464968258095,
          8.85366542803745,
          7.003065458786462,
          7.090076835776092,
          8.496990484098719,
          9.20029003612268,
          9.169518377455928,
          7.495541943884256,
          8.594154232552366,
          8.411832675758411,
          8.909235279192261,
          8.411832675758411,
          8.575462099540212,
          9.126958763037132,
          8.160518247477505,
          7.003065458786462,
          9.148464968258095,
          7.090076835776092,
          9.071078304642676,
          9.137769679141348,
          9.190137664658664,
          8.974618038455112,
          8.961879012677683,
          9.011889433252344,
          8.794824928014517,
          8.294049640102028,
          8.948975607841776,
          8.961879012677683,
          7.696212639346407,
          8.131530710604252,
          7.24422751560335,
          7.24422751560335,
          9.230142999272362,
          9.20029003612268,
          8.556413904569519,
          8.45531778769815,
          9.179881164491475,
          7.313220387090301,
          9.035986984831405,
          8.824677891164198,
          7.696212639346407,
          8.268731832117737,
          9.137769679141348,
          9.169518377455928,
          9.02401079378469,
          9.137769679141348,
          8.630521876723241,
          9.116029692504942,
          8.411832675758411,
          8.34283980427146,
          8.881836305004146,
          9.093806555720231,
          8.294049640102028,
          9.035986984831405,
          7.438383530044307,
          9.169518377455928,
          8.556413904569519,
          8.824677891164198,
          7.003065458786462,
          8.66561319653451,
          7.9724660159745655,
          8.895629627136483,
          7.170119543449628,
          7.24422751560335,
          9.230142999272362,
          7.24422751560335,
          8.318742252692399,
          7.649692623711514,
          7.649692623711514,
          8.476371196895983,
          8.895629627136483,
          9.035986984831405,
          9.035986984831405,
          8.648221453822641,
          8.948975607841776,
          7.313220387090301,
          8.748304912379623,
          8.101677747454572,
          7.600902459542082,
          8.131530710604252,
          7.696212639346407,
          7.438383530044307,
          7.649692623711514,
          8.101677747454572,
          9.035986984831405,
          7.313220387090301,
          8.242756345714477,
          8.895629627136483,
          7.9724660159745655,
          8.131530710604252,
          8.575462099540212,
          8.006367567650246,
          8.45531778769815,
          7.600902459542082,
          7.438383530044307,
          8.389359819906353,
          9.02401079378469,
          7.170119543449628,
          7.824046010856292,
          8.764053269347762,
          9.082507000466299,
          8.748304912379623,
          7.696212639346407,
          8.101677747454572,
          7.24422751560335,
          9.035986984831405,
          8.66561319653451,
          8.85366542803745,
          8.101677747454572,
          7.313220387090301,
          8.34283980427146,
          9.190137664658664,
          8.83927669058535,
          9.230142999272362,
          8.824677891164198,
          8.935903526274423,
          8.948975607841776,
          9.169518377455928,
          7.549609165154532,
          9.179881164491475,
          9.126958763037132,
          9.071078304642676,
          8.974618038455112,
          8.987196820661973,
          8.66561319653451,
          8.496990484098719,
          7.438383530044307,
          9.190137664658664,
          7.170119543449628,
          9.116029692504942,
          8.160518247477505,
          8.496990484098719,
          9.116029692504942,
          9.137769679141348,
          8.556413904569519,
          8.594154232552366,
          8.987196820661973,
          8.575462099540212,
          8.34283980427146,
          8.764053269347762,
          8.575462099540212,
          8.101677747454572,
          8.594154232552366,
          7.438383530044307,
          8.68270762989381,
          8.294049640102028,
          8.160518247477505,
          9.082507000466299,
          7.937374696163295,
          9.148464968258095,
          8.948975607841776,
          9.011889433252344,
          8.101677747454572,
          8.160518247477505,
          8.34283980427146,
          8.748304912379623,
          7.649692623711514,
          8.34283980427146,
          7.003065458786462,
          8.160518247477505,
          8.648221453822641,
          9.02401079378469,
          7.090076835776092,
          8.987196820661973,
          7.090076835776092,
          8.935903526274423,
          9.137769679141348,
          8.101677747454572,
          8.881836305004146,
          8.824677891164198,
          8.411832675758411,
          8.824677891164198,
          9.148464968258095,
          7.90100705199242,
          9.035986984831405,
          9.20029003612268,
          9.0595174822416,
          8.556413904569519,
          8.630521876723241,
          8.476371196895983,
          8.66561319653451,
          8.242756345714477,
          9.116029692504942,
          9.035986984831405,
          7.549609165154532,
          7.24422751560335,
          8.764053269347762,
          8.824677891164198,
          8.101677747454572,
          7.170119543449628,
          8.794824928014517,
          7.8632667240095735,
          8.294049640102028,
          9.137769679141348,
          8.961879012677683,
          8.85366542803745,
          8.699514748210191,
          9.259130536145614,
          8.948975607841776,
          9.02401079378469,
          7.600902459542082,
          8.556413904569519,
          8.881836305004146,
          7.090076835776092,
          9.126958763037132,
          9.082507000466299,
          8.294049640102028,
          7.313220387090301,
          8.648221453822641,
          9.093806555720231,
          8.699514748210191,
          7.824046010856292,
          9.249561085129464,
          9.20029003612268,
          7.549609165154532,
          9.011889433252344,
          7.170119543449628,
          8.974618038455112,
          7.438383530044307,
          7.090076835776092,
          8.160518247477505,
          9.116029692504942,
          7.24422751560335,
          7.438383530044307,
          8.794824928014517,
          8.131530710604252,
          9.190137664658664,
          9.116029692504942,
          8.630521876723241,
          8.974618038455112,
          8.909235279192261,
          7.003065458786462,
          9.148464968258095,
          9.148464968258095,
          8.318742252692399,
          9.035986984831405,
          8.935903526274423,
          8.881836305004146,
          8.101677747454572,
          7.090076835776092,
          8.433811582477187,
          8.895629627136483,
          8.006367567650246,
          7.824046010856292,
          8.294049640102028,
          9.02401079378469,
          7.313220387090301,
          8.935903526274423,
          8.411832675758411,
          8.948975607841776,
          7.495541943884256,
          8.83927669058535,
          7.313220387090301,
          8.556413904569519,
          8.242756345714477,
          7.783224016336037,
          9.082507000466299,
          9.259130536145614,
          8.895629627136483,
          8.987196820661973,
          7.170119543449628,
          8.895629627136483,
          8.974618038455112,
          7.313220387090301,
          8.948975607841776,
          7.495541943884256,
          8.824677891164198,
          9.011889433252344,
          8.101677747454572
         ],
         "y": [
          8.160518247477505,
          8.987196820661973,
          7.170119543449628,
          8.476371196895983,
          7.438383530044307,
          7.170119543449628,
          9.011889433252344,
          7.24422751560335,
          8.83927669058535,
          9.20029003612268,
          7.24422751560335,
          8.68270762989381,
          9.126958763037132,
          8.68270762989381,
          7.783224016336037,
          8.575462099540212,
          9.0595174822416,
          8.389359819906353,
          8.594154232552366,
          8.794824928014517,
          8.948975607841776,
          8.732304571033183,
          7.649692623711514,
          7.090076835776092,
          8.895629627136483,
          7.90100705199242,
          7.549609165154532,
          8.594154232552366,
          7.649692623711514,
          8.131530710604252,
          8.006367567650246,
          8.881836305004146,
          9.137769679141348,
          7.170119543449628,
          7.24422751560335,
          7.696212639346407,
          9.259130536145614,
          9.035986984831405,
          8.594154232552366,
          9.035986984831405,
          7.438383530044307,
          8.496990484098719,
          7.170119543449628,
          7.495541943884256,
          8.594154232552366,
          9.02401079378469,
          9.082507000466299,
          7.170119543449628,
          9.071078304642676,
          7.003065458786462,
          8.895629627136483,
          8.732304571033183,
          8.101677747454572,
          8.575462099540212,
          8.517193191416238,
          7.170119543449628,
          8.476371196895983,
          8.517193191416238,
          9.011889433252344,
          8.68270762989381,
          7.313220387090301,
          9.137769679141348,
          9.169518377455928,
          8.824677891164198,
          8.764053269347762,
          8.83927669058535,
          8.006367567650246,
          7.495541943884256,
          8.895629627136483,
          9.230142999272362,
          9.071078304642676,
          8.45531778769815,
          8.895629627136483,
          8.160518247477505,
          9.011889433252344,
          9.02401079378469,
          8.824677891164198,
          8.294049640102028,
          8.764053269347762,
          8.575462099540212,
          8.699514748210191,
          9.02401079378469,
          9.20029003612268,
          9.035986984831405,
          7.649692623711514,
          8.517193191416238,
          8.131530710604252,
          7.003065458786462,
          7.783224016336037,
          8.974618038455112,
          8.935903526274423,
          8.34283980427146,
          8.987196820661973,
          7.313220387090301,
          8.34283980427146,
          7.8632667240095735,
          9.082507000466299,
          8.85366542803745,
          8.83927669058535,
          8.68270762989381,
          9.093806555720231,
          9.011889433252344,
          8.517193191416238,
          9.190137664658664,
          8.45531778769815,
          8.794824928014517,
          7.824046010856292,
          7.696212639346407,
          8.881836305004146,
          7.170119543449628,
          8.556413904569519,
          8.556413904569519,
          7.170119543449628,
          7.937374696163295,
          7.170119543449628,
          9.035986984831405,
          9.093806555720231,
          7.783224016336037,
          9.011889433252344,
          8.881836305004146,
          7.8632667240095735,
          8.556413904569519,
          8.909235279192261,
          8.594154232552366,
          9.093806555720231,
          8.935903526274423,
          8.101677747454572,
          8.496990484098719,
          8.824677891164198,
          9.035986984831405,
          7.090076835776092,
          7.24422751560335,
          8.160518247477505,
          9.093806555720231,
          8.34283980427146,
          8.45531778769815,
          9.0595174822416,
          8.268731832117737,
          7.24422751560335,
          7.824046010856292,
          8.85366542803745,
          8.389359819906353,
          8.881836305004146,
          7.696212639346407,
          7.824046010856292,
          9.116029692504942,
          9.011889433252344,
          9.148464968258095,
          8.85366542803745,
          7.003065458786462,
          7.090076835776092,
          8.496990484098719,
          9.20029003612268,
          9.169518377455928,
          7.495541943884256,
          8.594154232552366,
          8.411832675758411,
          8.909235279192261,
          8.411832675758411,
          8.575462099540212,
          9.126958763037132,
          8.160518247477505,
          7.003065458786462,
          9.148464968258095,
          7.090076835776092,
          9.071078304642676,
          9.137769679141348,
          9.190137664658664,
          8.974618038455112,
          8.961879012677683,
          9.011889433252344,
          8.794824928014517,
          8.294049640102028,
          8.948975607841776,
          8.961879012677683,
          7.696212639346407,
          8.131530710604252,
          7.24422751560335,
          7.24422751560335,
          9.230142999272362,
          9.20029003612268,
          8.556413904569519,
          8.45531778769815,
          9.179881164491475,
          7.313220387090301,
          9.035986984831405,
          8.824677891164198,
          7.696212639346407,
          8.268731832117737,
          9.137769679141348,
          9.169518377455928,
          9.02401079378469,
          9.137769679141348,
          8.630521876723241,
          9.116029692504942,
          8.411832675758411,
          8.34283980427146,
          8.881836305004146,
          9.093806555720231,
          8.294049640102028,
          9.035986984831405,
          7.438383530044307,
          9.169518377455928,
          8.556413904569519,
          8.824677891164198,
          7.003065458786462,
          8.66561319653451,
          7.9724660159745655,
          8.895629627136483,
          7.170119543449628,
          7.24422751560335,
          9.230142999272362,
          7.24422751560335,
          8.318742252692399,
          7.649692623711514,
          7.649692623711514,
          8.476371196895983,
          8.895629627136483,
          9.035986984831405,
          9.035986984831405,
          8.648221453822641,
          8.948975607841776,
          7.313220387090301,
          8.748304912379623,
          8.101677747454572,
          7.600902459542082,
          8.131530710604252,
          7.696212639346407,
          7.438383530044307,
          7.649692623711514,
          8.101677747454572,
          9.035986984831405,
          7.313220387090301,
          8.242756345714477,
          8.895629627136483,
          7.9724660159745655,
          8.131530710604252,
          8.575462099540212,
          8.006367567650246,
          8.45531778769815,
          7.600902459542082,
          7.438383530044307,
          8.389359819906353,
          9.02401079378469,
          7.170119543449628,
          7.824046010856292,
          8.764053269347762,
          9.082507000466299,
          8.748304912379623,
          7.696212639346407,
          8.101677747454572,
          7.24422751560335,
          9.035986984831405,
          8.66561319653451,
          8.85366542803745,
          8.101677747454572,
          7.313220387090301,
          8.34283980427146,
          9.190137664658664,
          8.83927669058535,
          9.230142999272362,
          8.824677891164198,
          8.935903526274423,
          8.948975607841776,
          9.169518377455928,
          7.549609165154532,
          9.179881164491475,
          9.126958763037132,
          9.071078304642676,
          8.974618038455112,
          8.987196820661973,
          8.66561319653451,
          8.496990484098719,
          7.438383530044307,
          9.190137664658664,
          7.170119543449628,
          9.116029692504942,
          8.160518247477505,
          8.496990484098719,
          9.116029692504942,
          9.137769679141348,
          8.556413904569519,
          8.594154232552366,
          8.987196820661973,
          8.575462099540212,
          8.34283980427146,
          8.764053269347762,
          8.575462099540212,
          8.101677747454572,
          8.594154232552366,
          7.438383530044307,
          8.68270762989381,
          8.294049640102028,
          8.160518247477505,
          9.082507000466299,
          7.937374696163295,
          9.148464968258095,
          8.948975607841776,
          9.011889433252344,
          8.101677747454572,
          8.160518247477505,
          8.34283980427146,
          8.748304912379623,
          7.649692623711514,
          8.34283980427146,
          7.003065458786462,
          8.160518247477505,
          8.648221453822641,
          9.02401079378469,
          7.090076835776092,
          8.987196820661973,
          7.090076835776092,
          8.935903526274423,
          9.137769679141348,
          8.101677747454572,
          8.881836305004146,
          8.824677891164198,
          8.411832675758411,
          8.824677891164198,
          9.148464968258095,
          7.90100705199242,
          9.035986984831405,
          9.20029003612268,
          9.0595174822416,
          8.556413904569519,
          8.630521876723241,
          8.476371196895983,
          8.66561319653451,
          8.242756345714477,
          9.116029692504942,
          9.035986984831405,
          7.549609165154532,
          7.24422751560335,
          8.764053269347762,
          8.824677891164198,
          8.101677747454572,
          7.170119543449628,
          8.794824928014517,
          7.8632667240095735,
          8.294049640102028,
          9.137769679141348,
          8.961879012677683,
          8.85366542803745,
          8.699514748210191,
          9.259130536145614,
          8.948975607841776,
          9.02401079378469,
          7.600902459542082,
          8.556413904569519,
          8.881836305004146,
          7.090076835776092,
          9.126958763037132,
          9.082507000466299,
          8.294049640102028,
          7.313220387090301,
          8.648221453822641,
          9.093806555720231,
          8.699514748210191,
          7.824046010856292,
          9.249561085129464,
          9.20029003612268,
          7.549609165154532,
          9.011889433252344,
          7.170119543449628,
          8.974618038455112,
          7.438383530044307,
          7.090076835776092,
          8.160518247477505,
          9.116029692504942,
          7.24422751560335,
          7.438383530044307,
          8.794824928014517,
          8.131530710604252,
          9.190137664658664,
          9.116029692504942,
          8.630521876723241,
          8.974618038455112,
          8.909235279192261,
          7.003065458786462,
          9.148464968258095,
          9.148464968258095,
          8.318742252692399,
          9.035986984831405,
          8.935903526274423,
          8.881836305004146,
          8.101677747454572,
          7.090076835776092,
          8.433811582477187,
          8.895629627136483,
          8.006367567650246,
          7.824046010856292,
          8.294049640102028,
          9.02401079378469,
          7.313220387090301,
          8.935903526274423,
          8.411832675758411,
          8.948975607841776,
          7.495541943884256,
          8.83927669058535,
          7.313220387090301,
          8.556413904569519,
          8.242756345714477,
          7.783224016336037,
          9.082507000466299,
          9.259130536145614,
          8.895629627136483,
          8.987196820661973,
          7.170119543449628,
          8.895629627136483,
          8.974618038455112,
          7.313220387090301,
          8.948975607841776,
          7.495541943884256,
          8.824677891164198,
          9.011889433252344,
          8.101677747454572
         ]
        }
       ],
       "layout": {
        "height": 500,
        "template": {
         "data": {
          "bar": [
           {
            "error_x": {
             "color": "#2a3f5f"
            },
            "error_y": {
             "color": "#2a3f5f"
            },
            "marker": {
             "line": {
              "color": "#E5ECF6",
              "width": 0.5
             },
             "pattern": {
              "fillmode": "overlay",
              "size": 10,
              "solidity": 0.2
             }
            },
            "type": "bar"
           }
          ],
          "barpolar": [
           {
            "marker": {
             "line": {
              "color": "#E5ECF6",
              "width": 0.5
             },
             "pattern": {
              "fillmode": "overlay",
              "size": 10,
              "solidity": 0.2
             }
            },
            "type": "barpolar"
           }
          ],
          "carpet": [
           {
            "aaxis": {
             "endlinecolor": "#2a3f5f",
             "gridcolor": "white",
             "linecolor": "white",
             "minorgridcolor": "white",
             "startlinecolor": "#2a3f5f"
            },
            "baxis": {
             "endlinecolor": "#2a3f5f",
             "gridcolor": "white",
             "linecolor": "white",
             "minorgridcolor": "white",
             "startlinecolor": "#2a3f5f"
            },
            "type": "carpet"
           }
          ],
          "choropleth": [
           {
            "colorbar": {
             "outlinewidth": 0,
             "ticks": ""
            },
            "type": "choropleth"
           }
          ],
          "contour": [
           {
            "colorbar": {
             "outlinewidth": 0,
             "ticks": ""
            },
            "colorscale": [
             [
              0,
              "#0d0887"
             ],
             [
              0.1111111111111111,
              "#46039f"
             ],
             [
              0.2222222222222222,
              "#7201a8"
             ],
             [
              0.3333333333333333,
              "#9c179e"
             ],
             [
              0.4444444444444444,
              "#bd3786"
             ],
             [
              0.5555555555555556,
              "#d8576b"
             ],
             [
              0.6666666666666666,
              "#ed7953"
             ],
             [
              0.7777777777777778,
              "#fb9f3a"
             ],
             [
              0.8888888888888888,
              "#fdca26"
             ],
             [
              1,
              "#f0f921"
             ]
            ],
            "type": "contour"
           }
          ],
          "contourcarpet": [
           {
            "colorbar": {
             "outlinewidth": 0,
             "ticks": ""
            },
            "type": "contourcarpet"
           }
          ],
          "heatmap": [
           {
            "colorbar": {
             "outlinewidth": 0,
             "ticks": ""
            },
            "colorscale": [
             [
              0,
              "#0d0887"
             ],
             [
              0.1111111111111111,
              "#46039f"
             ],
             [
              0.2222222222222222,
              "#7201a8"
             ],
             [
              0.3333333333333333,
              "#9c179e"
             ],
             [
              0.4444444444444444,
              "#bd3786"
             ],
             [
              0.5555555555555556,
              "#d8576b"
             ],
             [
              0.6666666666666666,
              "#ed7953"
             ],
             [
              0.7777777777777778,
              "#fb9f3a"
             ],
             [
              0.8888888888888888,
              "#fdca26"
             ],
             [
              1,
              "#f0f921"
             ]
            ],
            "type": "heatmap"
           }
          ],
          "heatmapgl": [
           {
            "colorbar": {
             "outlinewidth": 0,
             "ticks": ""
            },
            "colorscale": [
             [
              0,
              "#0d0887"
             ],
             [
              0.1111111111111111,
              "#46039f"
             ],
             [
              0.2222222222222222,
              "#7201a8"
             ],
             [
              0.3333333333333333,
              "#9c179e"
             ],
             [
              0.4444444444444444,
              "#bd3786"
             ],
             [
              0.5555555555555556,
              "#d8576b"
             ],
             [
              0.6666666666666666,
              "#ed7953"
             ],
             [
              0.7777777777777778,
              "#fb9f3a"
             ],
             [
              0.8888888888888888,
              "#fdca26"
             ],
             [
              1,
              "#f0f921"
             ]
            ],
            "type": "heatmapgl"
           }
          ],
          "histogram": [
           {
            "marker": {
             "pattern": {
              "fillmode": "overlay",
              "size": 10,
              "solidity": 0.2
             }
            },
            "type": "histogram"
           }
          ],
          "histogram2d": [
           {
            "colorbar": {
             "outlinewidth": 0,
             "ticks": ""
            },
            "colorscale": [
             [
              0,
              "#0d0887"
             ],
             [
              0.1111111111111111,
              "#46039f"
             ],
             [
              0.2222222222222222,
              "#7201a8"
             ],
             [
              0.3333333333333333,
              "#9c179e"
             ],
             [
              0.4444444444444444,
              "#bd3786"
             ],
             [
              0.5555555555555556,
              "#d8576b"
             ],
             [
              0.6666666666666666,
              "#ed7953"
             ],
             [
              0.7777777777777778,
              "#fb9f3a"
             ],
             [
              0.8888888888888888,
              "#fdca26"
             ],
             [
              1,
              "#f0f921"
             ]
            ],
            "type": "histogram2d"
           }
          ],
          "histogram2dcontour": [
           {
            "colorbar": {
             "outlinewidth": 0,
             "ticks": ""
            },
            "colorscale": [
             [
              0,
              "#0d0887"
             ],
             [
              0.1111111111111111,
              "#46039f"
             ],
             [
              0.2222222222222222,
              "#7201a8"
             ],
             [
              0.3333333333333333,
              "#9c179e"
             ],
             [
              0.4444444444444444,
              "#bd3786"
             ],
             [
              0.5555555555555556,
              "#d8576b"
             ],
             [
              0.6666666666666666,
              "#ed7953"
             ],
             [
              0.7777777777777778,
              "#fb9f3a"
             ],
             [
              0.8888888888888888,
              "#fdca26"
             ],
             [
              1,
              "#f0f921"
             ]
            ],
            "type": "histogram2dcontour"
           }
          ],
          "mesh3d": [
           {
            "colorbar": {
             "outlinewidth": 0,
             "ticks": ""
            },
            "type": "mesh3d"
           }
          ],
          "parcoords": [
           {
            "line": {
             "colorbar": {
              "outlinewidth": 0,
              "ticks": ""
             }
            },
            "type": "parcoords"
           }
          ],
          "pie": [
           {
            "automargin": true,
            "type": "pie"
           }
          ],
          "scatter": [
           {
            "fillpattern": {
             "fillmode": "overlay",
             "size": 10,
             "solidity": 0.2
            },
            "type": "scatter"
           }
          ],
          "scatter3d": [
           {
            "line": {
             "colorbar": {
              "outlinewidth": 0,
              "ticks": ""
             }
            },
            "marker": {
             "colorbar": {
              "outlinewidth": 0,
              "ticks": ""
             }
            },
            "type": "scatter3d"
           }
          ],
          "scattercarpet": [
           {
            "marker": {
             "colorbar": {
              "outlinewidth": 0,
              "ticks": ""
             }
            },
            "type": "scattercarpet"
           }
          ],
          "scattergeo": [
           {
            "marker": {
             "colorbar": {
              "outlinewidth": 0,
              "ticks": ""
             }
            },
            "type": "scattergeo"
           }
          ],
          "scattergl": [
           {
            "marker": {
             "colorbar": {
              "outlinewidth": 0,
              "ticks": ""
             }
            },
            "type": "scattergl"
           }
          ],
          "scattermapbox": [
           {
            "marker": {
             "colorbar": {
              "outlinewidth": 0,
              "ticks": ""
             }
            },
            "type": "scattermapbox"
           }
          ],
          "scatterpolar": [
           {
            "marker": {
             "colorbar": {
              "outlinewidth": 0,
              "ticks": ""
             }
            },
            "type": "scatterpolar"
           }
          ],
          "scatterpolargl": [
           {
            "marker": {
             "colorbar": {
              "outlinewidth": 0,
              "ticks": ""
             }
            },
            "type": "scatterpolargl"
           }
          ],
          "scatterternary": [
           {
            "marker": {
             "colorbar": {
              "outlinewidth": 0,
              "ticks": ""
             }
            },
            "type": "scatterternary"
           }
          ],
          "surface": [
           {
            "colorbar": {
             "outlinewidth": 0,
             "ticks": ""
            },
            "colorscale": [
             [
              0,
              "#0d0887"
             ],
             [
              0.1111111111111111,
              "#46039f"
             ],
             [
              0.2222222222222222,
              "#7201a8"
             ],
             [
              0.3333333333333333,
              "#9c179e"
             ],
             [
              0.4444444444444444,
              "#bd3786"
             ],
             [
              0.5555555555555556,
              "#d8576b"
             ],
             [
              0.6666666666666666,
              "#ed7953"
             ],
             [
              0.7777777777777778,
              "#fb9f3a"
             ],
             [
              0.8888888888888888,
              "#fdca26"
             ],
             [
              1,
              "#f0f921"
             ]
            ],
            "type": "surface"
           }
          ],
          "table": [
           {
            "cells": {
             "fill": {
              "color": "#EBF0F8"
             },
             "line": {
              "color": "white"
             }
            },
            "header": {
             "fill": {
              "color": "#C8D4E3"
             },
             "line": {
              "color": "white"
             }
            },
            "type": "table"
           }
          ]
         },
         "layout": {
          "annotationdefaults": {
           "arrowcolor": "#2a3f5f",
           "arrowhead": 0,
           "arrowwidth": 1
          },
          "autotypenumbers": "strict",
          "coloraxis": {
           "colorbar": {
            "outlinewidth": 0,
            "ticks": ""
           }
          },
          "colorscale": {
           "diverging": [
            [
             0,
             "#8e0152"
            ],
            [
             0.1,
             "#c51b7d"
            ],
            [
             0.2,
             "#de77ae"
            ],
            [
             0.3,
             "#f1b6da"
            ],
            [
             0.4,
             "#fde0ef"
            ],
            [
             0.5,
             "#f7f7f7"
            ],
            [
             0.6,
             "#e6f5d0"
            ],
            [
             0.7,
             "#b8e186"
            ],
            [
             0.8,
             "#7fbc41"
            ],
            [
             0.9,
             "#4d9221"
            ],
            [
             1,
             "#276419"
            ]
           ],
           "sequential": [
            [
             0,
             "#0d0887"
            ],
            [
             0.1111111111111111,
             "#46039f"
            ],
            [
             0.2222222222222222,
             "#7201a8"
            ],
            [
             0.3333333333333333,
             "#9c179e"
            ],
            [
             0.4444444444444444,
             "#bd3786"
            ],
            [
             0.5555555555555556,
             "#d8576b"
            ],
            [
             0.6666666666666666,
             "#ed7953"
            ],
            [
             0.7777777777777778,
             "#fb9f3a"
            ],
            [
             0.8888888888888888,
             "#fdca26"
            ],
            [
             1,
             "#f0f921"
            ]
           ],
           "sequentialminus": [
            [
             0,
             "#0d0887"
            ],
            [
             0.1111111111111111,
             "#46039f"
            ],
            [
             0.2222222222222222,
             "#7201a8"
            ],
            [
             0.3333333333333333,
             "#9c179e"
            ],
            [
             0.4444444444444444,
             "#bd3786"
            ],
            [
             0.5555555555555556,
             "#d8576b"
            ],
            [
             0.6666666666666666,
             "#ed7953"
            ],
            [
             0.7777777777777778,
             "#fb9f3a"
            ],
            [
             0.8888888888888888,
             "#fdca26"
            ],
            [
             1,
             "#f0f921"
            ]
           ]
          },
          "colorway": [
           "#636efa",
           "#EF553B",
           "#00cc96",
           "#ab63fa",
           "#FFA15A",
           "#19d3f3",
           "#FF6692",
           "#B6E880",
           "#FF97FF",
           "#FECB52"
          ],
          "font": {
           "color": "#2a3f5f"
          },
          "geo": {
           "bgcolor": "white",
           "lakecolor": "white",
           "landcolor": "#E5ECF6",
           "showlakes": true,
           "showland": true,
           "subunitcolor": "white"
          },
          "hoverlabel": {
           "align": "left"
          },
          "hovermode": "closest",
          "mapbox": {
           "style": "light"
          },
          "paper_bgcolor": "white",
          "plot_bgcolor": "#E5ECF6",
          "polar": {
           "angularaxis": {
            "gridcolor": "white",
            "linecolor": "white",
            "ticks": ""
           },
           "bgcolor": "#E5ECF6",
           "radialaxis": {
            "gridcolor": "white",
            "linecolor": "white",
            "ticks": ""
           }
          },
          "scene": {
           "xaxis": {
            "backgroundcolor": "#E5ECF6",
            "gridcolor": "white",
            "gridwidth": 2,
            "linecolor": "white",
            "showbackground": true,
            "ticks": "",
            "zerolinecolor": "white"
           },
           "yaxis": {
            "backgroundcolor": "#E5ECF6",
            "gridcolor": "white",
            "gridwidth": 2,
            "linecolor": "white",
            "showbackground": true,
            "ticks": "",
            "zerolinecolor": "white"
           },
           "zaxis": {
            "backgroundcolor": "#E5ECF6",
            "gridcolor": "white",
            "gridwidth": 2,
            "linecolor": "white",
            "showbackground": true,
            "ticks": "",
            "zerolinecolor": "white"
           }
          },
          "shapedefaults": {
           "line": {
            "color": "#2a3f5f"
           }
          },
          "ternary": {
           "aaxis": {
            "gridcolor": "white",
            "linecolor": "white",
            "ticks": ""
           },
           "baxis": {
            "gridcolor": "white",
            "linecolor": "white",
            "ticks": ""
           },
           "bgcolor": "#E5ECF6",
           "caxis": {
            "gridcolor": "white",
            "linecolor": "white",
            "ticks": ""
           }
          },
          "title": {
           "x": 0.05
          },
          "xaxis": {
           "automargin": true,
           "gridcolor": "white",
           "linecolor": "white",
           "ticks": "",
           "title": {
            "standoff": 15
           },
           "zerolinecolor": "white",
           "zerolinewidth": 2
          },
          "yaxis": {
           "automargin": true,
           "gridcolor": "white",
           "linecolor": "white",
           "ticks": "",
           "title": {
            "standoff": 15
           },
           "zerolinecolor": "white",
           "zerolinewidth": 2
          }
         }
        },
        "title": {
         "text": "RF:Observed target vs Predicted target using train data"
        },
        "width": 800,
        "xaxis": {
         "title": {
          "text": "Observed consult_cost"
         }
        },
        "yaxis": {
         "title": {
          "text": "Predicted consult_cost"
         }
        }
       }
      }
     },
     "metadata": {},
     "output_type": "display_data"
    }
   ],
   "source": [
    "\n",
    "fig = go.Figure()\n",
    "\n",
    "# scatter plot using test data\n",
    "fig.add_trace(go.Scatter(y=y_train, x=RF.predict(x_train), mode='markers', marker=dict(color='blue')))\n",
    "\n",
    "# diagonal line to represent predictions\n",
    "fig.add_trace(go.Scatter(y=y_train, x=y_train, mode='lines', line=dict(color='red')))\n",
    "\n",
    "fig.update_layout(title='RF:Observed target vs Predicted target using train data', xaxis_title='Observed consult_cost', \n",
    "                  yaxis_title='Predicted consult_cost', width=800, height=500)\n",
    "fig.show()"
   ]
  },
  {
   "cell_type": "code",
   "execution_count": 127,
   "metadata": {},
   "outputs": [
    {
     "data": {
      "application/vnd.plotly.v1+json": {
       "config": {
        "plotlyServerURL": "https://plot.ly"
       },
       "data": [
        {
         "marker": {
          "color": "blue"
         },
         "mode": "markers",
         "type": "scatter",
         "x": [
          7.948990220499792,
          8.902178524746205,
          7.4885582974731895,
          8.13999932949792,
          7.706150702399892,
          7.598349147677506,
          8.958587538306535,
          7.436472535763835,
          8.684077918616614,
          9.418058462740065,
          7.508837340741632,
          8.494691879642515,
          9.31006816508535,
          8.397571124246472,
          7.829877240914403,
          8.34233980979699,
          9.19902743228617,
          8.09476926153115,
          8.327409702740084,
          8.62367189129577,
          8.856271917417619,
          8.558250251283438,
          7.623216349926391,
          7.70432887960155,
          8.802976136915168,
          7.8506270178383195,
          7.630028733600789,
          8.321503533946553,
          7.693239404756377,
          7.962062374150443,
          7.962176635383887,
          8.84122742938576,
          9.304781581004697,
          7.439882022703297,
          7.435593590647461,
          7.584426873789793,
          9.516987534507285,
          9.079872133600144,
          8.349501637893916,
          9.201336692282613,
          7.679934444188704,
          8.339436088511517,
          7.546179634554238,
          7.697884232664464,
          8.337680988659448,
          9.132456547884557,
          9.07447592596116,
          7.504389045446791,
          9.095926919766539,
          7.579286073074089,
          8.798165267853067,
          8.562184827052869,
          8.023370662035582,
          8.297046876686801,
          8.18259659017707,
          7.584041466375094,
          8.15905427325403,
          8.110839584212414,
          9.004399904202712,
          8.484113942406568,
          7.607571425220926,
          9.344703133859433,
          9.416069702065307,
          8.677888087024561,
          8.572350240903754,
          8.662169424676172,
          7.826788076776157,
          7.6950032931140635,
          8.70661609602702,
          9.590162100370447,
          9.179570174106605,
          8.152825745402186,
          8.768807140585512,
          7.946088202978412,
          9.020264760680984,
          9.064788642765183,
          8.638668501665375,
          8.015040230681462,
          8.56152324852177,
          8.37088158935307,
          8.434850411642627,
          9.022905329832012,
          9.376294798909388,
          8.981634572228327,
          7.762039635375685,
          8.203251894638603,
          8.087529565343981,
          7.446704484230992,
          7.890339549971394,
          8.887309276768283,
          8.91179627229153,
          8.074959399397123,
          8.902411909369146,
          7.687898328599293,
          8.076231428149484,
          7.861761154432457,
          9.171014082420783,
          8.635775058935865,
          8.57697574189246,
          8.453466647562623,
          9.18492380228377,
          9.107903835003324,
          8.184626494908693,
          9.378007713922116,
          8.200615723188761,
          8.55058916845601,
          7.84500253544627,
          7.66728781712837,
          8.705013540342078,
          7.654089928844722,
          8.280398562226658,
          8.376853961718563,
          7.533540411497681,
          7.793353387437796,
          7.461219185080783,
          9.007753683808733,
          9.089636547321732,
          7.819643701225923,
          9.039840611608422,
          8.787726404303122,
          7.743604195449344,
          8.34833314848063,
          8.701366566324088,
          8.2367606695345,
          9.138517350982097,
          8.994231269734803,
          7.87286452947689,
          8.133791827716907,
          8.701267678140512,
          8.942497401544511,
          7.526358384452629,
          7.388362589207311,
          7.940580160551317,
          9.061460574677216,
          8.058642164332028,
          8.19730653288658,
          9.1942583188415,
          8.114009412463826,
          7.367937385038548,
          7.7234199408162185,
          8.62759533854523,
          8.164328015844267,
          8.857419720080696,
          7.697140474748546,
          7.863747805565458,
          9.336075658974254,
          8.94765904771134,
          9.271885841252034,
          8.713973044582929,
          7.651510041165257,
          7.551589872420846,
          8.176055160480221,
          9.413064646780816,
          9.39136553652105,
          7.571778660244954,
          8.25566970936367,
          8.179741786624552,
          8.81554035821584,
          8.347124791895254,
          8.274698233666172,
          9.296151332583607,
          7.863568087683469,
          7.405146354352231,
          9.31053875462659,
          7.521549919669772,
          9.117787402131388,
          9.26660581541715,
          9.2932852663189,
          8.813037873514045,
          8.922873748827786,
          9.056313997266086,
          8.601380658965963,
          8.001397976894491,
          9.06580743745523,
          8.938850255493822,
          7.689587140946577,
          7.924035964125412,
          7.537284960957704,
          7.782236982188461,
          9.506710905990301,
          9.449690599011495,
          8.273350165096007,
          8.212390862965156,
          9.362350937396899,
          7.539043979306443,
          9.065218045854033,
          8.677703310936183,
          7.775501366281875,
          8.093610538215666,
          9.316583986573555,
          9.333365303322816,
          9.056617809973462,
          9.299658323831123,
          8.432699245560284,
          9.381161980882462,
          8.225117590861476,
          8.086138924282055,
          8.982767325773612,
          9.32522909356561,
          8.087167218263536,
          9.037140523780366,
          7.597107288041621,
          9.433890313971158,
          8.356969913483807,
          8.686796714739891,
          7.469948295802145,
          8.457653446535705,
          7.824419394340314,
          8.783623325398878,
          7.470943471834387,
          7.481593678463288,
          9.59065718649935,
          7.4575454070941145,
          8.062848909515502,
          7.618627746225635,
          7.637788979663194,
          8.243755847272501,
          8.798056519209592,
          9.039636739214147,
          9.159599916934567,
          8.411024328356927,
          8.937970760335872,
          7.5537985972318955,
          8.553257954032729,
          7.962908028729995,
          7.658946712750232,
          7.929874179769904,
          7.635896168343703,
          7.652025489056603,
          7.6801895912279345,
          7.978750818044062,
          9.120877808114853,
          7.727306046076021,
          8.118045285667971,
          8.909020677372434,
          7.833785135573962,
          7.9015484178257225,
          8.285462753054654,
          7.96512496529039,
          8.252589394422532,
          7.819051829282749,
          7.665345256668481,
          8.171096927249792,
          9.105037727902449,
          7.527553567104,
          7.757043002601072,
          8.607631750215251,
          9.236897957168647,
          8.597811952977608,
          7.655973120949159,
          7.969088597434256,
          7.559347521168304,
          9.08532588681046,
          8.48114988723522,
          8.697026808810369,
          7.916501004975189,
          7.458351569606526,
          8.128052587300807,
          9.475139435932395,
          8.691593008538211,
          9.557365717530535,
          8.670935944601625,
          9.058124136138808,
          8.836815355984019,
          9.468593105546558,
          7.6521223083198535,
          9.401407205710127,
          9.404702926666378,
          9.139990167491364,
          8.950052532726886,
          8.884738735112059,
          8.413820715575428,
          8.17928149553013,
          7.713537545446419,
          9.401723619475232,
          7.5789220115512945,
          9.405929198938946,
          7.948205117277926,
          8.175121333933221,
          9.373570357769578,
          9.381076745801085,
          8.318561024719818,
          8.322724890942196,
          8.941728072097739,
          8.294990366786232,
          8.032505857413472,
          8.554690537025438,
          8.29181715969543,
          7.914788034589011,
          8.234439743906613,
          7.608463190293914,
          8.402758354642431,
          8.081322499993535,
          7.998306152492132,
          9.1827712854066,
          7.767481174881761,
          9.241290903875017,
          8.946058576159263,
          9.20851759209722,
          7.957952885357876,
          7.994166583691894,
          8.041234527405932,
          8.524961173526169,
          7.731292705751463,
          8.087904505426305,
          7.537950896944317,
          7.980760537510896,
          8.587886013840238,
          9.028123061102095,
          7.531552298981043,
          9.034439529069468,
          7.461134527651868,
          8.992617406856034,
          9.40271420531356,
          8.000177993800888,
          8.774189684557719,
          8.677806643741318,
          8.377436442305061,
          8.709940720260885,
          9.252148445577443,
          7.793877777293069,
          8.98949031630671,
          9.416392784762731,
          9.177798574356562,
          8.282240128332305,
          8.512607328421263,
          8.22248342406252,
          8.59588532642387,
          8.054654195373105,
          9.307179980831487,
          9.06521525857689,
          7.599051600831196,
          7.401372991328499,
          8.490719218391037,
          8.68846822554869,
          7.926431970561678,
          7.464668464410619,
          8.606072694105514,
          7.814057248967579,
          7.976227912827838,
          9.316759829324255,
          9.043715351386176,
          8.588132781567449,
          8.47303897961924,
          9.4253691226224,
          8.957975275791709,
          9.222063057769091,
          7.670582418793169,
          8.326640980247891,
          8.780350210537216,
          7.521803420933455,
          9.313524643087604,
          9.15268824325479,
          8.04159263758765,
          7.471360760675261,
          8.580413338595116,
          9.270441566961058,
          8.457419050684768,
          7.9737000535872555,
          9.557705549134862,
          9.525557782144883,
          7.688066040037833,
          9.189082366049577,
          7.496276221501432,
          8.980830219881003,
          7.752122755172294,
          7.6914735381373305,
          7.961894425966555,
          9.322716395154023,
          7.421834165881525,
          7.611563288372737,
          8.6981453835324,
          7.995666916302735,
          9.339812685678567,
          9.318202870281798,
          8.506371969465448,
          9.115690041396421,
          8.846127772656843,
          7.471502162643961,
          9.395488883701914,
          9.433568212446007,
          8.108695874139755,
          9.061079968129032,
          8.949217510840247,
          8.717385705624046,
          7.971738342022364,
          7.473869408661988,
          8.202276196393797,
          8.84650669860189,
          7.763512341819625,
          7.875576669236626,
          7.952615323556314,
          8.91599037246523,
          7.5212295317259015,
          8.90334011822975,
          8.177641331285086,
          9.056354418040895,
          7.6988278116133895,
          8.65666093141026,
          7.7063210818657675,
          8.342536498971453,
          8.017825260036542,
          7.827472822292704,
          9.128661578634318,
          9.549703095866372,
          8.73996119576017,
          8.868078055845224,
          7.4638951323643665,
          8.896154031794984,
          8.930784257398942,
          7.584390406751067,
          9.021492899885748,
          7.626164357098012,
          8.698115925361707,
          9.05762126167462,
          7.988446363148492
         ],
         "y": [
          8.160518247477505,
          8.987196820661973,
          7.170119543449628,
          8.476371196895983,
          7.438383530044307,
          7.170119543449628,
          9.011889433252344,
          7.24422751560335,
          8.83927669058535,
          9.20029003612268,
          7.24422751560335,
          8.68270762989381,
          9.126958763037132,
          8.68270762989381,
          7.783224016336037,
          8.575462099540212,
          9.0595174822416,
          8.389359819906353,
          8.594154232552366,
          8.794824928014517,
          8.948975607841776,
          8.732304571033183,
          7.649692623711514,
          7.090076835776092,
          8.895629627136483,
          7.90100705199242,
          7.549609165154532,
          8.594154232552366,
          7.649692623711514,
          8.131530710604252,
          8.006367567650246,
          8.881836305004146,
          9.137769679141348,
          7.170119543449628,
          7.24422751560335,
          7.696212639346407,
          9.259130536145614,
          9.035986984831405,
          8.594154232552366,
          9.035986984831405,
          7.438383530044307,
          8.496990484098719,
          7.170119543449628,
          7.495541943884256,
          8.594154232552366,
          9.02401079378469,
          9.082507000466299,
          7.170119543449628,
          9.071078304642676,
          7.003065458786462,
          8.895629627136483,
          8.732304571033183,
          8.101677747454572,
          8.575462099540212,
          8.517193191416238,
          7.170119543449628,
          8.476371196895983,
          8.517193191416238,
          9.011889433252344,
          8.68270762989381,
          7.313220387090301,
          9.137769679141348,
          9.169518377455928,
          8.824677891164198,
          8.764053269347762,
          8.83927669058535,
          8.006367567650246,
          7.495541943884256,
          8.895629627136483,
          9.230142999272362,
          9.071078304642676,
          8.45531778769815,
          8.895629627136483,
          8.160518247477505,
          9.011889433252344,
          9.02401079378469,
          8.824677891164198,
          8.294049640102028,
          8.764053269347762,
          8.575462099540212,
          8.699514748210191,
          9.02401079378469,
          9.20029003612268,
          9.035986984831405,
          7.649692623711514,
          8.517193191416238,
          8.131530710604252,
          7.003065458786462,
          7.783224016336037,
          8.974618038455112,
          8.935903526274423,
          8.34283980427146,
          8.987196820661973,
          7.313220387090301,
          8.34283980427146,
          7.8632667240095735,
          9.082507000466299,
          8.85366542803745,
          8.83927669058535,
          8.68270762989381,
          9.093806555720231,
          9.011889433252344,
          8.517193191416238,
          9.190137664658664,
          8.45531778769815,
          8.794824928014517,
          7.824046010856292,
          7.696212639346407,
          8.881836305004146,
          7.170119543449628,
          8.556413904569519,
          8.556413904569519,
          7.170119543449628,
          7.937374696163295,
          7.170119543449628,
          9.035986984831405,
          9.093806555720231,
          7.783224016336037,
          9.011889433252344,
          8.881836305004146,
          7.8632667240095735,
          8.556413904569519,
          8.909235279192261,
          8.594154232552366,
          9.093806555720231,
          8.935903526274423,
          8.101677747454572,
          8.496990484098719,
          8.824677891164198,
          9.035986984831405,
          7.090076835776092,
          7.24422751560335,
          8.160518247477505,
          9.093806555720231,
          8.34283980427146,
          8.45531778769815,
          9.0595174822416,
          8.268731832117737,
          7.24422751560335,
          7.824046010856292,
          8.85366542803745,
          8.389359819906353,
          8.881836305004146,
          7.696212639346407,
          7.824046010856292,
          9.116029692504942,
          9.011889433252344,
          9.148464968258095,
          8.85366542803745,
          7.003065458786462,
          7.090076835776092,
          8.496990484098719,
          9.20029003612268,
          9.169518377455928,
          7.495541943884256,
          8.594154232552366,
          8.411832675758411,
          8.909235279192261,
          8.411832675758411,
          8.575462099540212,
          9.126958763037132,
          8.160518247477505,
          7.003065458786462,
          9.148464968258095,
          7.090076835776092,
          9.071078304642676,
          9.137769679141348,
          9.190137664658664,
          8.974618038455112,
          8.961879012677683,
          9.011889433252344,
          8.794824928014517,
          8.294049640102028,
          8.948975607841776,
          8.961879012677683,
          7.696212639346407,
          8.131530710604252,
          7.24422751560335,
          7.24422751560335,
          9.230142999272362,
          9.20029003612268,
          8.556413904569519,
          8.45531778769815,
          9.179881164491475,
          7.313220387090301,
          9.035986984831405,
          8.824677891164198,
          7.696212639346407,
          8.268731832117737,
          9.137769679141348,
          9.169518377455928,
          9.02401079378469,
          9.137769679141348,
          8.630521876723241,
          9.116029692504942,
          8.411832675758411,
          8.34283980427146,
          8.881836305004146,
          9.093806555720231,
          8.294049640102028,
          9.035986984831405,
          7.438383530044307,
          9.169518377455928,
          8.556413904569519,
          8.824677891164198,
          7.003065458786462,
          8.66561319653451,
          7.9724660159745655,
          8.895629627136483,
          7.170119543449628,
          7.24422751560335,
          9.230142999272362,
          7.24422751560335,
          8.318742252692399,
          7.649692623711514,
          7.649692623711514,
          8.476371196895983,
          8.895629627136483,
          9.035986984831405,
          9.035986984831405,
          8.648221453822641,
          8.948975607841776,
          7.313220387090301,
          8.748304912379623,
          8.101677747454572,
          7.600902459542082,
          8.131530710604252,
          7.696212639346407,
          7.438383530044307,
          7.649692623711514,
          8.101677747454572,
          9.035986984831405,
          7.313220387090301,
          8.242756345714477,
          8.895629627136483,
          7.9724660159745655,
          8.131530710604252,
          8.575462099540212,
          8.006367567650246,
          8.45531778769815,
          7.600902459542082,
          7.438383530044307,
          8.389359819906353,
          9.02401079378469,
          7.170119543449628,
          7.824046010856292,
          8.764053269347762,
          9.082507000466299,
          8.748304912379623,
          7.696212639346407,
          8.101677747454572,
          7.24422751560335,
          9.035986984831405,
          8.66561319653451,
          8.85366542803745,
          8.101677747454572,
          7.313220387090301,
          8.34283980427146,
          9.190137664658664,
          8.83927669058535,
          9.230142999272362,
          8.824677891164198,
          8.935903526274423,
          8.948975607841776,
          9.169518377455928,
          7.549609165154532,
          9.179881164491475,
          9.126958763037132,
          9.071078304642676,
          8.974618038455112,
          8.987196820661973,
          8.66561319653451,
          8.496990484098719,
          7.438383530044307,
          9.190137664658664,
          7.170119543449628,
          9.116029692504942,
          8.160518247477505,
          8.496990484098719,
          9.116029692504942,
          9.137769679141348,
          8.556413904569519,
          8.594154232552366,
          8.987196820661973,
          8.575462099540212,
          8.34283980427146,
          8.764053269347762,
          8.575462099540212,
          8.101677747454572,
          8.594154232552366,
          7.438383530044307,
          8.68270762989381,
          8.294049640102028,
          8.160518247477505,
          9.082507000466299,
          7.937374696163295,
          9.148464968258095,
          8.948975607841776,
          9.011889433252344,
          8.101677747454572,
          8.160518247477505,
          8.34283980427146,
          8.748304912379623,
          7.649692623711514,
          8.34283980427146,
          7.003065458786462,
          8.160518247477505,
          8.648221453822641,
          9.02401079378469,
          7.090076835776092,
          8.987196820661973,
          7.090076835776092,
          8.935903526274423,
          9.137769679141348,
          8.101677747454572,
          8.881836305004146,
          8.824677891164198,
          8.411832675758411,
          8.824677891164198,
          9.148464968258095,
          7.90100705199242,
          9.035986984831405,
          9.20029003612268,
          9.0595174822416,
          8.556413904569519,
          8.630521876723241,
          8.476371196895983,
          8.66561319653451,
          8.242756345714477,
          9.116029692504942,
          9.035986984831405,
          7.549609165154532,
          7.24422751560335,
          8.764053269347762,
          8.824677891164198,
          8.101677747454572,
          7.170119543449628,
          8.794824928014517,
          7.8632667240095735,
          8.294049640102028,
          9.137769679141348,
          8.961879012677683,
          8.85366542803745,
          8.699514748210191,
          9.259130536145614,
          8.948975607841776,
          9.02401079378469,
          7.600902459542082,
          8.556413904569519,
          8.881836305004146,
          7.090076835776092,
          9.126958763037132,
          9.082507000466299,
          8.294049640102028,
          7.313220387090301,
          8.648221453822641,
          9.093806555720231,
          8.699514748210191,
          7.824046010856292,
          9.249561085129464,
          9.20029003612268,
          7.549609165154532,
          9.011889433252344,
          7.170119543449628,
          8.974618038455112,
          7.438383530044307,
          7.090076835776092,
          8.160518247477505,
          9.116029692504942,
          7.24422751560335,
          7.438383530044307,
          8.794824928014517,
          8.131530710604252,
          9.190137664658664,
          9.116029692504942,
          8.630521876723241,
          8.974618038455112,
          8.909235279192261,
          7.003065458786462,
          9.148464968258095,
          9.148464968258095,
          8.318742252692399,
          9.035986984831405,
          8.935903526274423,
          8.881836305004146,
          8.101677747454572,
          7.090076835776092,
          8.433811582477187,
          8.895629627136483,
          8.006367567650246,
          7.824046010856292,
          8.294049640102028,
          9.02401079378469,
          7.313220387090301,
          8.935903526274423,
          8.411832675758411,
          8.948975607841776,
          7.495541943884256,
          8.83927669058535,
          7.313220387090301,
          8.556413904569519,
          8.242756345714477,
          7.783224016336037,
          9.082507000466299,
          9.259130536145614,
          8.895629627136483,
          8.987196820661973,
          7.170119543449628,
          8.895629627136483,
          8.974618038455112,
          7.313220387090301,
          8.948975607841776,
          7.495541943884256,
          8.824677891164198,
          9.011889433252344,
          8.101677747454572
         ]
        },
        {
         "line": {
          "color": "red"
         },
         "mode": "lines",
         "type": "scatter",
         "x": [
          8.160518247477505,
          8.987196820661973,
          7.170119543449628,
          8.476371196895983,
          7.438383530044307,
          7.170119543449628,
          9.011889433252344,
          7.24422751560335,
          8.83927669058535,
          9.20029003612268,
          7.24422751560335,
          8.68270762989381,
          9.126958763037132,
          8.68270762989381,
          7.783224016336037,
          8.575462099540212,
          9.0595174822416,
          8.389359819906353,
          8.594154232552366,
          8.794824928014517,
          8.948975607841776,
          8.732304571033183,
          7.649692623711514,
          7.090076835776092,
          8.895629627136483,
          7.90100705199242,
          7.549609165154532,
          8.594154232552366,
          7.649692623711514,
          8.131530710604252,
          8.006367567650246,
          8.881836305004146,
          9.137769679141348,
          7.170119543449628,
          7.24422751560335,
          7.696212639346407,
          9.259130536145614,
          9.035986984831405,
          8.594154232552366,
          9.035986984831405,
          7.438383530044307,
          8.496990484098719,
          7.170119543449628,
          7.495541943884256,
          8.594154232552366,
          9.02401079378469,
          9.082507000466299,
          7.170119543449628,
          9.071078304642676,
          7.003065458786462,
          8.895629627136483,
          8.732304571033183,
          8.101677747454572,
          8.575462099540212,
          8.517193191416238,
          7.170119543449628,
          8.476371196895983,
          8.517193191416238,
          9.011889433252344,
          8.68270762989381,
          7.313220387090301,
          9.137769679141348,
          9.169518377455928,
          8.824677891164198,
          8.764053269347762,
          8.83927669058535,
          8.006367567650246,
          7.495541943884256,
          8.895629627136483,
          9.230142999272362,
          9.071078304642676,
          8.45531778769815,
          8.895629627136483,
          8.160518247477505,
          9.011889433252344,
          9.02401079378469,
          8.824677891164198,
          8.294049640102028,
          8.764053269347762,
          8.575462099540212,
          8.699514748210191,
          9.02401079378469,
          9.20029003612268,
          9.035986984831405,
          7.649692623711514,
          8.517193191416238,
          8.131530710604252,
          7.003065458786462,
          7.783224016336037,
          8.974618038455112,
          8.935903526274423,
          8.34283980427146,
          8.987196820661973,
          7.313220387090301,
          8.34283980427146,
          7.8632667240095735,
          9.082507000466299,
          8.85366542803745,
          8.83927669058535,
          8.68270762989381,
          9.093806555720231,
          9.011889433252344,
          8.517193191416238,
          9.190137664658664,
          8.45531778769815,
          8.794824928014517,
          7.824046010856292,
          7.696212639346407,
          8.881836305004146,
          7.170119543449628,
          8.556413904569519,
          8.556413904569519,
          7.170119543449628,
          7.937374696163295,
          7.170119543449628,
          9.035986984831405,
          9.093806555720231,
          7.783224016336037,
          9.011889433252344,
          8.881836305004146,
          7.8632667240095735,
          8.556413904569519,
          8.909235279192261,
          8.594154232552366,
          9.093806555720231,
          8.935903526274423,
          8.101677747454572,
          8.496990484098719,
          8.824677891164198,
          9.035986984831405,
          7.090076835776092,
          7.24422751560335,
          8.160518247477505,
          9.093806555720231,
          8.34283980427146,
          8.45531778769815,
          9.0595174822416,
          8.268731832117737,
          7.24422751560335,
          7.824046010856292,
          8.85366542803745,
          8.389359819906353,
          8.881836305004146,
          7.696212639346407,
          7.824046010856292,
          9.116029692504942,
          9.011889433252344,
          9.148464968258095,
          8.85366542803745,
          7.003065458786462,
          7.090076835776092,
          8.496990484098719,
          9.20029003612268,
          9.169518377455928,
          7.495541943884256,
          8.594154232552366,
          8.411832675758411,
          8.909235279192261,
          8.411832675758411,
          8.575462099540212,
          9.126958763037132,
          8.160518247477505,
          7.003065458786462,
          9.148464968258095,
          7.090076835776092,
          9.071078304642676,
          9.137769679141348,
          9.190137664658664,
          8.974618038455112,
          8.961879012677683,
          9.011889433252344,
          8.794824928014517,
          8.294049640102028,
          8.948975607841776,
          8.961879012677683,
          7.696212639346407,
          8.131530710604252,
          7.24422751560335,
          7.24422751560335,
          9.230142999272362,
          9.20029003612268,
          8.556413904569519,
          8.45531778769815,
          9.179881164491475,
          7.313220387090301,
          9.035986984831405,
          8.824677891164198,
          7.696212639346407,
          8.268731832117737,
          9.137769679141348,
          9.169518377455928,
          9.02401079378469,
          9.137769679141348,
          8.630521876723241,
          9.116029692504942,
          8.411832675758411,
          8.34283980427146,
          8.881836305004146,
          9.093806555720231,
          8.294049640102028,
          9.035986984831405,
          7.438383530044307,
          9.169518377455928,
          8.556413904569519,
          8.824677891164198,
          7.003065458786462,
          8.66561319653451,
          7.9724660159745655,
          8.895629627136483,
          7.170119543449628,
          7.24422751560335,
          9.230142999272362,
          7.24422751560335,
          8.318742252692399,
          7.649692623711514,
          7.649692623711514,
          8.476371196895983,
          8.895629627136483,
          9.035986984831405,
          9.035986984831405,
          8.648221453822641,
          8.948975607841776,
          7.313220387090301,
          8.748304912379623,
          8.101677747454572,
          7.600902459542082,
          8.131530710604252,
          7.696212639346407,
          7.438383530044307,
          7.649692623711514,
          8.101677747454572,
          9.035986984831405,
          7.313220387090301,
          8.242756345714477,
          8.895629627136483,
          7.9724660159745655,
          8.131530710604252,
          8.575462099540212,
          8.006367567650246,
          8.45531778769815,
          7.600902459542082,
          7.438383530044307,
          8.389359819906353,
          9.02401079378469,
          7.170119543449628,
          7.824046010856292,
          8.764053269347762,
          9.082507000466299,
          8.748304912379623,
          7.696212639346407,
          8.101677747454572,
          7.24422751560335,
          9.035986984831405,
          8.66561319653451,
          8.85366542803745,
          8.101677747454572,
          7.313220387090301,
          8.34283980427146,
          9.190137664658664,
          8.83927669058535,
          9.230142999272362,
          8.824677891164198,
          8.935903526274423,
          8.948975607841776,
          9.169518377455928,
          7.549609165154532,
          9.179881164491475,
          9.126958763037132,
          9.071078304642676,
          8.974618038455112,
          8.987196820661973,
          8.66561319653451,
          8.496990484098719,
          7.438383530044307,
          9.190137664658664,
          7.170119543449628,
          9.116029692504942,
          8.160518247477505,
          8.496990484098719,
          9.116029692504942,
          9.137769679141348,
          8.556413904569519,
          8.594154232552366,
          8.987196820661973,
          8.575462099540212,
          8.34283980427146,
          8.764053269347762,
          8.575462099540212,
          8.101677747454572,
          8.594154232552366,
          7.438383530044307,
          8.68270762989381,
          8.294049640102028,
          8.160518247477505,
          9.082507000466299,
          7.937374696163295,
          9.148464968258095,
          8.948975607841776,
          9.011889433252344,
          8.101677747454572,
          8.160518247477505,
          8.34283980427146,
          8.748304912379623,
          7.649692623711514,
          8.34283980427146,
          7.003065458786462,
          8.160518247477505,
          8.648221453822641,
          9.02401079378469,
          7.090076835776092,
          8.987196820661973,
          7.090076835776092,
          8.935903526274423,
          9.137769679141348,
          8.101677747454572,
          8.881836305004146,
          8.824677891164198,
          8.411832675758411,
          8.824677891164198,
          9.148464968258095,
          7.90100705199242,
          9.035986984831405,
          9.20029003612268,
          9.0595174822416,
          8.556413904569519,
          8.630521876723241,
          8.476371196895983,
          8.66561319653451,
          8.242756345714477,
          9.116029692504942,
          9.035986984831405,
          7.549609165154532,
          7.24422751560335,
          8.764053269347762,
          8.824677891164198,
          8.101677747454572,
          7.170119543449628,
          8.794824928014517,
          7.8632667240095735,
          8.294049640102028,
          9.137769679141348,
          8.961879012677683,
          8.85366542803745,
          8.699514748210191,
          9.259130536145614,
          8.948975607841776,
          9.02401079378469,
          7.600902459542082,
          8.556413904569519,
          8.881836305004146,
          7.090076835776092,
          9.126958763037132,
          9.082507000466299,
          8.294049640102028,
          7.313220387090301,
          8.648221453822641,
          9.093806555720231,
          8.699514748210191,
          7.824046010856292,
          9.249561085129464,
          9.20029003612268,
          7.549609165154532,
          9.011889433252344,
          7.170119543449628,
          8.974618038455112,
          7.438383530044307,
          7.090076835776092,
          8.160518247477505,
          9.116029692504942,
          7.24422751560335,
          7.438383530044307,
          8.794824928014517,
          8.131530710604252,
          9.190137664658664,
          9.116029692504942,
          8.630521876723241,
          8.974618038455112,
          8.909235279192261,
          7.003065458786462,
          9.148464968258095,
          9.148464968258095,
          8.318742252692399,
          9.035986984831405,
          8.935903526274423,
          8.881836305004146,
          8.101677747454572,
          7.090076835776092,
          8.433811582477187,
          8.895629627136483,
          8.006367567650246,
          7.824046010856292,
          8.294049640102028,
          9.02401079378469,
          7.313220387090301,
          8.935903526274423,
          8.411832675758411,
          8.948975607841776,
          7.495541943884256,
          8.83927669058535,
          7.313220387090301,
          8.556413904569519,
          8.242756345714477,
          7.783224016336037,
          9.082507000466299,
          9.259130536145614,
          8.895629627136483,
          8.987196820661973,
          7.170119543449628,
          8.895629627136483,
          8.974618038455112,
          7.313220387090301,
          8.948975607841776,
          7.495541943884256,
          8.824677891164198,
          9.011889433252344,
          8.101677747454572
         ],
         "y": [
          8.160518247477505,
          8.987196820661973,
          7.170119543449628,
          8.476371196895983,
          7.438383530044307,
          7.170119543449628,
          9.011889433252344,
          7.24422751560335,
          8.83927669058535,
          9.20029003612268,
          7.24422751560335,
          8.68270762989381,
          9.126958763037132,
          8.68270762989381,
          7.783224016336037,
          8.575462099540212,
          9.0595174822416,
          8.389359819906353,
          8.594154232552366,
          8.794824928014517,
          8.948975607841776,
          8.732304571033183,
          7.649692623711514,
          7.090076835776092,
          8.895629627136483,
          7.90100705199242,
          7.549609165154532,
          8.594154232552366,
          7.649692623711514,
          8.131530710604252,
          8.006367567650246,
          8.881836305004146,
          9.137769679141348,
          7.170119543449628,
          7.24422751560335,
          7.696212639346407,
          9.259130536145614,
          9.035986984831405,
          8.594154232552366,
          9.035986984831405,
          7.438383530044307,
          8.496990484098719,
          7.170119543449628,
          7.495541943884256,
          8.594154232552366,
          9.02401079378469,
          9.082507000466299,
          7.170119543449628,
          9.071078304642676,
          7.003065458786462,
          8.895629627136483,
          8.732304571033183,
          8.101677747454572,
          8.575462099540212,
          8.517193191416238,
          7.170119543449628,
          8.476371196895983,
          8.517193191416238,
          9.011889433252344,
          8.68270762989381,
          7.313220387090301,
          9.137769679141348,
          9.169518377455928,
          8.824677891164198,
          8.764053269347762,
          8.83927669058535,
          8.006367567650246,
          7.495541943884256,
          8.895629627136483,
          9.230142999272362,
          9.071078304642676,
          8.45531778769815,
          8.895629627136483,
          8.160518247477505,
          9.011889433252344,
          9.02401079378469,
          8.824677891164198,
          8.294049640102028,
          8.764053269347762,
          8.575462099540212,
          8.699514748210191,
          9.02401079378469,
          9.20029003612268,
          9.035986984831405,
          7.649692623711514,
          8.517193191416238,
          8.131530710604252,
          7.003065458786462,
          7.783224016336037,
          8.974618038455112,
          8.935903526274423,
          8.34283980427146,
          8.987196820661973,
          7.313220387090301,
          8.34283980427146,
          7.8632667240095735,
          9.082507000466299,
          8.85366542803745,
          8.83927669058535,
          8.68270762989381,
          9.093806555720231,
          9.011889433252344,
          8.517193191416238,
          9.190137664658664,
          8.45531778769815,
          8.794824928014517,
          7.824046010856292,
          7.696212639346407,
          8.881836305004146,
          7.170119543449628,
          8.556413904569519,
          8.556413904569519,
          7.170119543449628,
          7.937374696163295,
          7.170119543449628,
          9.035986984831405,
          9.093806555720231,
          7.783224016336037,
          9.011889433252344,
          8.881836305004146,
          7.8632667240095735,
          8.556413904569519,
          8.909235279192261,
          8.594154232552366,
          9.093806555720231,
          8.935903526274423,
          8.101677747454572,
          8.496990484098719,
          8.824677891164198,
          9.035986984831405,
          7.090076835776092,
          7.24422751560335,
          8.160518247477505,
          9.093806555720231,
          8.34283980427146,
          8.45531778769815,
          9.0595174822416,
          8.268731832117737,
          7.24422751560335,
          7.824046010856292,
          8.85366542803745,
          8.389359819906353,
          8.881836305004146,
          7.696212639346407,
          7.824046010856292,
          9.116029692504942,
          9.011889433252344,
          9.148464968258095,
          8.85366542803745,
          7.003065458786462,
          7.090076835776092,
          8.496990484098719,
          9.20029003612268,
          9.169518377455928,
          7.495541943884256,
          8.594154232552366,
          8.411832675758411,
          8.909235279192261,
          8.411832675758411,
          8.575462099540212,
          9.126958763037132,
          8.160518247477505,
          7.003065458786462,
          9.148464968258095,
          7.090076835776092,
          9.071078304642676,
          9.137769679141348,
          9.190137664658664,
          8.974618038455112,
          8.961879012677683,
          9.011889433252344,
          8.794824928014517,
          8.294049640102028,
          8.948975607841776,
          8.961879012677683,
          7.696212639346407,
          8.131530710604252,
          7.24422751560335,
          7.24422751560335,
          9.230142999272362,
          9.20029003612268,
          8.556413904569519,
          8.45531778769815,
          9.179881164491475,
          7.313220387090301,
          9.035986984831405,
          8.824677891164198,
          7.696212639346407,
          8.268731832117737,
          9.137769679141348,
          9.169518377455928,
          9.02401079378469,
          9.137769679141348,
          8.630521876723241,
          9.116029692504942,
          8.411832675758411,
          8.34283980427146,
          8.881836305004146,
          9.093806555720231,
          8.294049640102028,
          9.035986984831405,
          7.438383530044307,
          9.169518377455928,
          8.556413904569519,
          8.824677891164198,
          7.003065458786462,
          8.66561319653451,
          7.9724660159745655,
          8.895629627136483,
          7.170119543449628,
          7.24422751560335,
          9.230142999272362,
          7.24422751560335,
          8.318742252692399,
          7.649692623711514,
          7.649692623711514,
          8.476371196895983,
          8.895629627136483,
          9.035986984831405,
          9.035986984831405,
          8.648221453822641,
          8.948975607841776,
          7.313220387090301,
          8.748304912379623,
          8.101677747454572,
          7.600902459542082,
          8.131530710604252,
          7.696212639346407,
          7.438383530044307,
          7.649692623711514,
          8.101677747454572,
          9.035986984831405,
          7.313220387090301,
          8.242756345714477,
          8.895629627136483,
          7.9724660159745655,
          8.131530710604252,
          8.575462099540212,
          8.006367567650246,
          8.45531778769815,
          7.600902459542082,
          7.438383530044307,
          8.389359819906353,
          9.02401079378469,
          7.170119543449628,
          7.824046010856292,
          8.764053269347762,
          9.082507000466299,
          8.748304912379623,
          7.696212639346407,
          8.101677747454572,
          7.24422751560335,
          9.035986984831405,
          8.66561319653451,
          8.85366542803745,
          8.101677747454572,
          7.313220387090301,
          8.34283980427146,
          9.190137664658664,
          8.83927669058535,
          9.230142999272362,
          8.824677891164198,
          8.935903526274423,
          8.948975607841776,
          9.169518377455928,
          7.549609165154532,
          9.179881164491475,
          9.126958763037132,
          9.071078304642676,
          8.974618038455112,
          8.987196820661973,
          8.66561319653451,
          8.496990484098719,
          7.438383530044307,
          9.190137664658664,
          7.170119543449628,
          9.116029692504942,
          8.160518247477505,
          8.496990484098719,
          9.116029692504942,
          9.137769679141348,
          8.556413904569519,
          8.594154232552366,
          8.987196820661973,
          8.575462099540212,
          8.34283980427146,
          8.764053269347762,
          8.575462099540212,
          8.101677747454572,
          8.594154232552366,
          7.438383530044307,
          8.68270762989381,
          8.294049640102028,
          8.160518247477505,
          9.082507000466299,
          7.937374696163295,
          9.148464968258095,
          8.948975607841776,
          9.011889433252344,
          8.101677747454572,
          8.160518247477505,
          8.34283980427146,
          8.748304912379623,
          7.649692623711514,
          8.34283980427146,
          7.003065458786462,
          8.160518247477505,
          8.648221453822641,
          9.02401079378469,
          7.090076835776092,
          8.987196820661973,
          7.090076835776092,
          8.935903526274423,
          9.137769679141348,
          8.101677747454572,
          8.881836305004146,
          8.824677891164198,
          8.411832675758411,
          8.824677891164198,
          9.148464968258095,
          7.90100705199242,
          9.035986984831405,
          9.20029003612268,
          9.0595174822416,
          8.556413904569519,
          8.630521876723241,
          8.476371196895983,
          8.66561319653451,
          8.242756345714477,
          9.116029692504942,
          9.035986984831405,
          7.549609165154532,
          7.24422751560335,
          8.764053269347762,
          8.824677891164198,
          8.101677747454572,
          7.170119543449628,
          8.794824928014517,
          7.8632667240095735,
          8.294049640102028,
          9.137769679141348,
          8.961879012677683,
          8.85366542803745,
          8.699514748210191,
          9.259130536145614,
          8.948975607841776,
          9.02401079378469,
          7.600902459542082,
          8.556413904569519,
          8.881836305004146,
          7.090076835776092,
          9.126958763037132,
          9.082507000466299,
          8.294049640102028,
          7.313220387090301,
          8.648221453822641,
          9.093806555720231,
          8.699514748210191,
          7.824046010856292,
          9.249561085129464,
          9.20029003612268,
          7.549609165154532,
          9.011889433252344,
          7.170119543449628,
          8.974618038455112,
          7.438383530044307,
          7.090076835776092,
          8.160518247477505,
          9.116029692504942,
          7.24422751560335,
          7.438383530044307,
          8.794824928014517,
          8.131530710604252,
          9.190137664658664,
          9.116029692504942,
          8.630521876723241,
          8.974618038455112,
          8.909235279192261,
          7.003065458786462,
          9.148464968258095,
          9.148464968258095,
          8.318742252692399,
          9.035986984831405,
          8.935903526274423,
          8.881836305004146,
          8.101677747454572,
          7.090076835776092,
          8.433811582477187,
          8.895629627136483,
          8.006367567650246,
          7.824046010856292,
          8.294049640102028,
          9.02401079378469,
          7.313220387090301,
          8.935903526274423,
          8.411832675758411,
          8.948975607841776,
          7.495541943884256,
          8.83927669058535,
          7.313220387090301,
          8.556413904569519,
          8.242756345714477,
          7.783224016336037,
          9.082507000466299,
          9.259130536145614,
          8.895629627136483,
          8.987196820661973,
          7.170119543449628,
          8.895629627136483,
          8.974618038455112,
          7.313220387090301,
          8.948975607841776,
          7.495541943884256,
          8.824677891164198,
          9.011889433252344,
          8.101677747454572
         ]
        }
       ],
       "layout": {
        "height": 500,
        "template": {
         "data": {
          "bar": [
           {
            "error_x": {
             "color": "#2a3f5f"
            },
            "error_y": {
             "color": "#2a3f5f"
            },
            "marker": {
             "line": {
              "color": "#E5ECF6",
              "width": 0.5
             },
             "pattern": {
              "fillmode": "overlay",
              "size": 10,
              "solidity": 0.2
             }
            },
            "type": "bar"
           }
          ],
          "barpolar": [
           {
            "marker": {
             "line": {
              "color": "#E5ECF6",
              "width": 0.5
             },
             "pattern": {
              "fillmode": "overlay",
              "size": 10,
              "solidity": 0.2
             }
            },
            "type": "barpolar"
           }
          ],
          "carpet": [
           {
            "aaxis": {
             "endlinecolor": "#2a3f5f",
             "gridcolor": "white",
             "linecolor": "white",
             "minorgridcolor": "white",
             "startlinecolor": "#2a3f5f"
            },
            "baxis": {
             "endlinecolor": "#2a3f5f",
             "gridcolor": "white",
             "linecolor": "white",
             "minorgridcolor": "white",
             "startlinecolor": "#2a3f5f"
            },
            "type": "carpet"
           }
          ],
          "choropleth": [
           {
            "colorbar": {
             "outlinewidth": 0,
             "ticks": ""
            },
            "type": "choropleth"
           }
          ],
          "contour": [
           {
            "colorbar": {
             "outlinewidth": 0,
             "ticks": ""
            },
            "colorscale": [
             [
              0,
              "#0d0887"
             ],
             [
              0.1111111111111111,
              "#46039f"
             ],
             [
              0.2222222222222222,
              "#7201a8"
             ],
             [
              0.3333333333333333,
              "#9c179e"
             ],
             [
              0.4444444444444444,
              "#bd3786"
             ],
             [
              0.5555555555555556,
              "#d8576b"
             ],
             [
              0.6666666666666666,
              "#ed7953"
             ],
             [
              0.7777777777777778,
              "#fb9f3a"
             ],
             [
              0.8888888888888888,
              "#fdca26"
             ],
             [
              1,
              "#f0f921"
             ]
            ],
            "type": "contour"
           }
          ],
          "contourcarpet": [
           {
            "colorbar": {
             "outlinewidth": 0,
             "ticks": ""
            },
            "type": "contourcarpet"
           }
          ],
          "heatmap": [
           {
            "colorbar": {
             "outlinewidth": 0,
             "ticks": ""
            },
            "colorscale": [
             [
              0,
              "#0d0887"
             ],
             [
              0.1111111111111111,
              "#46039f"
             ],
             [
              0.2222222222222222,
              "#7201a8"
             ],
             [
              0.3333333333333333,
              "#9c179e"
             ],
             [
              0.4444444444444444,
              "#bd3786"
             ],
             [
              0.5555555555555556,
              "#d8576b"
             ],
             [
              0.6666666666666666,
              "#ed7953"
             ],
             [
              0.7777777777777778,
              "#fb9f3a"
             ],
             [
              0.8888888888888888,
              "#fdca26"
             ],
             [
              1,
              "#f0f921"
             ]
            ],
            "type": "heatmap"
           }
          ],
          "heatmapgl": [
           {
            "colorbar": {
             "outlinewidth": 0,
             "ticks": ""
            },
            "colorscale": [
             [
              0,
              "#0d0887"
             ],
             [
              0.1111111111111111,
              "#46039f"
             ],
             [
              0.2222222222222222,
              "#7201a8"
             ],
             [
              0.3333333333333333,
              "#9c179e"
             ],
             [
              0.4444444444444444,
              "#bd3786"
             ],
             [
              0.5555555555555556,
              "#d8576b"
             ],
             [
              0.6666666666666666,
              "#ed7953"
             ],
             [
              0.7777777777777778,
              "#fb9f3a"
             ],
             [
              0.8888888888888888,
              "#fdca26"
             ],
             [
              1,
              "#f0f921"
             ]
            ],
            "type": "heatmapgl"
           }
          ],
          "histogram": [
           {
            "marker": {
             "pattern": {
              "fillmode": "overlay",
              "size": 10,
              "solidity": 0.2
             }
            },
            "type": "histogram"
           }
          ],
          "histogram2d": [
           {
            "colorbar": {
             "outlinewidth": 0,
             "ticks": ""
            },
            "colorscale": [
             [
              0,
              "#0d0887"
             ],
             [
              0.1111111111111111,
              "#46039f"
             ],
             [
              0.2222222222222222,
              "#7201a8"
             ],
             [
              0.3333333333333333,
              "#9c179e"
             ],
             [
              0.4444444444444444,
              "#bd3786"
             ],
             [
              0.5555555555555556,
              "#d8576b"
             ],
             [
              0.6666666666666666,
              "#ed7953"
             ],
             [
              0.7777777777777778,
              "#fb9f3a"
             ],
             [
              0.8888888888888888,
              "#fdca26"
             ],
             [
              1,
              "#f0f921"
             ]
            ],
            "type": "histogram2d"
           }
          ],
          "histogram2dcontour": [
           {
            "colorbar": {
             "outlinewidth": 0,
             "ticks": ""
            },
            "colorscale": [
             [
              0,
              "#0d0887"
             ],
             [
              0.1111111111111111,
              "#46039f"
             ],
             [
              0.2222222222222222,
              "#7201a8"
             ],
             [
              0.3333333333333333,
              "#9c179e"
             ],
             [
              0.4444444444444444,
              "#bd3786"
             ],
             [
              0.5555555555555556,
              "#d8576b"
             ],
             [
              0.6666666666666666,
              "#ed7953"
             ],
             [
              0.7777777777777778,
              "#fb9f3a"
             ],
             [
              0.8888888888888888,
              "#fdca26"
             ],
             [
              1,
              "#f0f921"
             ]
            ],
            "type": "histogram2dcontour"
           }
          ],
          "mesh3d": [
           {
            "colorbar": {
             "outlinewidth": 0,
             "ticks": ""
            },
            "type": "mesh3d"
           }
          ],
          "parcoords": [
           {
            "line": {
             "colorbar": {
              "outlinewidth": 0,
              "ticks": ""
             }
            },
            "type": "parcoords"
           }
          ],
          "pie": [
           {
            "automargin": true,
            "type": "pie"
           }
          ],
          "scatter": [
           {
            "fillpattern": {
             "fillmode": "overlay",
             "size": 10,
             "solidity": 0.2
            },
            "type": "scatter"
           }
          ],
          "scatter3d": [
           {
            "line": {
             "colorbar": {
              "outlinewidth": 0,
              "ticks": ""
             }
            },
            "marker": {
             "colorbar": {
              "outlinewidth": 0,
              "ticks": ""
             }
            },
            "type": "scatter3d"
           }
          ],
          "scattercarpet": [
           {
            "marker": {
             "colorbar": {
              "outlinewidth": 0,
              "ticks": ""
             }
            },
            "type": "scattercarpet"
           }
          ],
          "scattergeo": [
           {
            "marker": {
             "colorbar": {
              "outlinewidth": 0,
              "ticks": ""
             }
            },
            "type": "scattergeo"
           }
          ],
          "scattergl": [
           {
            "marker": {
             "colorbar": {
              "outlinewidth": 0,
              "ticks": ""
             }
            },
            "type": "scattergl"
           }
          ],
          "scattermapbox": [
           {
            "marker": {
             "colorbar": {
              "outlinewidth": 0,
              "ticks": ""
             }
            },
            "type": "scattermapbox"
           }
          ],
          "scatterpolar": [
           {
            "marker": {
             "colorbar": {
              "outlinewidth": 0,
              "ticks": ""
             }
            },
            "type": "scatterpolar"
           }
          ],
          "scatterpolargl": [
           {
            "marker": {
             "colorbar": {
              "outlinewidth": 0,
              "ticks": ""
             }
            },
            "type": "scatterpolargl"
           }
          ],
          "scatterternary": [
           {
            "marker": {
             "colorbar": {
              "outlinewidth": 0,
              "ticks": ""
             }
            },
            "type": "scatterternary"
           }
          ],
          "surface": [
           {
            "colorbar": {
             "outlinewidth": 0,
             "ticks": ""
            },
            "colorscale": [
             [
              0,
              "#0d0887"
             ],
             [
              0.1111111111111111,
              "#46039f"
             ],
             [
              0.2222222222222222,
              "#7201a8"
             ],
             [
              0.3333333333333333,
              "#9c179e"
             ],
             [
              0.4444444444444444,
              "#bd3786"
             ],
             [
              0.5555555555555556,
              "#d8576b"
             ],
             [
              0.6666666666666666,
              "#ed7953"
             ],
             [
              0.7777777777777778,
              "#fb9f3a"
             ],
             [
              0.8888888888888888,
              "#fdca26"
             ],
             [
              1,
              "#f0f921"
             ]
            ],
            "type": "surface"
           }
          ],
          "table": [
           {
            "cells": {
             "fill": {
              "color": "#EBF0F8"
             },
             "line": {
              "color": "white"
             }
            },
            "header": {
             "fill": {
              "color": "#C8D4E3"
             },
             "line": {
              "color": "white"
             }
            },
            "type": "table"
           }
          ]
         },
         "layout": {
          "annotationdefaults": {
           "arrowcolor": "#2a3f5f",
           "arrowhead": 0,
           "arrowwidth": 1
          },
          "autotypenumbers": "strict",
          "coloraxis": {
           "colorbar": {
            "outlinewidth": 0,
            "ticks": ""
           }
          },
          "colorscale": {
           "diverging": [
            [
             0,
             "#8e0152"
            ],
            [
             0.1,
             "#c51b7d"
            ],
            [
             0.2,
             "#de77ae"
            ],
            [
             0.3,
             "#f1b6da"
            ],
            [
             0.4,
             "#fde0ef"
            ],
            [
             0.5,
             "#f7f7f7"
            ],
            [
             0.6,
             "#e6f5d0"
            ],
            [
             0.7,
             "#b8e186"
            ],
            [
             0.8,
             "#7fbc41"
            ],
            [
             0.9,
             "#4d9221"
            ],
            [
             1,
             "#276419"
            ]
           ],
           "sequential": [
            [
             0,
             "#0d0887"
            ],
            [
             0.1111111111111111,
             "#46039f"
            ],
            [
             0.2222222222222222,
             "#7201a8"
            ],
            [
             0.3333333333333333,
             "#9c179e"
            ],
            [
             0.4444444444444444,
             "#bd3786"
            ],
            [
             0.5555555555555556,
             "#d8576b"
            ],
            [
             0.6666666666666666,
             "#ed7953"
            ],
            [
             0.7777777777777778,
             "#fb9f3a"
            ],
            [
             0.8888888888888888,
             "#fdca26"
            ],
            [
             1,
             "#f0f921"
            ]
           ],
           "sequentialminus": [
            [
             0,
             "#0d0887"
            ],
            [
             0.1111111111111111,
             "#46039f"
            ],
            [
             0.2222222222222222,
             "#7201a8"
            ],
            [
             0.3333333333333333,
             "#9c179e"
            ],
            [
             0.4444444444444444,
             "#bd3786"
            ],
            [
             0.5555555555555556,
             "#d8576b"
            ],
            [
             0.6666666666666666,
             "#ed7953"
            ],
            [
             0.7777777777777778,
             "#fb9f3a"
            ],
            [
             0.8888888888888888,
             "#fdca26"
            ],
            [
             1,
             "#f0f921"
            ]
           ]
          },
          "colorway": [
           "#636efa",
           "#EF553B",
           "#00cc96",
           "#ab63fa",
           "#FFA15A",
           "#19d3f3",
           "#FF6692",
           "#B6E880",
           "#FF97FF",
           "#FECB52"
          ],
          "font": {
           "color": "#2a3f5f"
          },
          "geo": {
           "bgcolor": "white",
           "lakecolor": "white",
           "landcolor": "#E5ECF6",
           "showlakes": true,
           "showland": true,
           "subunitcolor": "white"
          },
          "hoverlabel": {
           "align": "left"
          },
          "hovermode": "closest",
          "mapbox": {
           "style": "light"
          },
          "paper_bgcolor": "white",
          "plot_bgcolor": "#E5ECF6",
          "polar": {
           "angularaxis": {
            "gridcolor": "white",
            "linecolor": "white",
            "ticks": ""
           },
           "bgcolor": "#E5ECF6",
           "radialaxis": {
            "gridcolor": "white",
            "linecolor": "white",
            "ticks": ""
           }
          },
          "scene": {
           "xaxis": {
            "backgroundcolor": "#E5ECF6",
            "gridcolor": "white",
            "gridwidth": 2,
            "linecolor": "white",
            "showbackground": true,
            "ticks": "",
            "zerolinecolor": "white"
           },
           "yaxis": {
            "backgroundcolor": "#E5ECF6",
            "gridcolor": "white",
            "gridwidth": 2,
            "linecolor": "white",
            "showbackground": true,
            "ticks": "",
            "zerolinecolor": "white"
           },
           "zaxis": {
            "backgroundcolor": "#E5ECF6",
            "gridcolor": "white",
            "gridwidth": 2,
            "linecolor": "white",
            "showbackground": true,
            "ticks": "",
            "zerolinecolor": "white"
           }
          },
          "shapedefaults": {
           "line": {
            "color": "#2a3f5f"
           }
          },
          "ternary": {
           "aaxis": {
            "gridcolor": "white",
            "linecolor": "white",
            "ticks": ""
           },
           "baxis": {
            "gridcolor": "white",
            "linecolor": "white",
            "ticks": ""
           },
           "bgcolor": "#E5ECF6",
           "caxis": {
            "gridcolor": "white",
            "linecolor": "white",
            "ticks": ""
           }
          },
          "title": {
           "x": 0.05
          },
          "xaxis": {
           "automargin": true,
           "gridcolor": "white",
           "linecolor": "white",
           "ticks": "",
           "title": {
            "standoff": 15
           },
           "zerolinecolor": "white",
           "zerolinewidth": 2
          },
          "yaxis": {
           "automargin": true,
           "gridcolor": "white",
           "linecolor": "white",
           "ticks": "",
           "title": {
            "standoff": 15
           },
           "zerolinecolor": "white",
           "zerolinewidth": 2
          }
         }
        },
        "title": {
         "text": "MLR:Observed target vs Predicted target using train data"
        },
        "width": 800,
        "xaxis": {
         "title": {
          "text": "Observed consult_cost"
         }
        },
        "yaxis": {
         "title": {
          "text": "Predicted consult_cost"
         }
        }
       }
      }
     },
     "metadata": {},
     "output_type": "display_data"
    }
   ],
   "source": [
    "\n",
    "fig = go.Figure()\n",
    "\n",
    "# scatter plot using test data\n",
    "fig.add_trace(go.Scatter(y=y_train, x=linear_regression.predict(x_train), mode='markers', marker=dict(color='blue')))\n",
    "\n",
    "# diagonal line to represent predictions\n",
    "fig.add_trace(go.Scatter(y=y_train, x=y_train, mode='lines', line=dict(color='red')))\n",
    "\n",
    "fig.update_layout(title='MLR:Observed target vs Predicted target using train data', xaxis_title='Observed consult_cost', \n",
    "                  yaxis_title='Predicted consult_cost', width=800, height=500)\n",
    "fig.show()"
   ]
  },
  {
   "cell_type": "code",
   "execution_count": 128,
   "metadata": {},
   "outputs": [
    {
     "data": {
      "application/vnd.plotly.v1+json": {
       "config": {
        "plotlyServerURL": "https://plot.ly"
       },
       "data": [
        {
         "marker": {
          "color": "blue"
         },
         "mode": "markers",
         "type": "scatter",
         "x": [
          8.004055452180125,
          8.837019872342665,
          7.691693794619174,
          8.21229655722076,
          7.795814347139491,
          7.691693794619174,
          8.941140424862981,
          7.691693794619174,
          8.62877876730203,
          9.253502082423934,
          7.691693794619174,
          8.420537662261395,
          9.149381529903616,
          8.420537662261395,
          7.899934899659809,
          8.420537662261395,
          9.045260977383299,
          8.21229655722076,
          8.316417109741078,
          8.524658214781713,
          8.837019872342665,
          8.524658214781713,
          7.795814347139491,
          7.795814347139491,
          8.732899319822348,
          7.899934899659809,
          7.795814347139491,
          8.316417109741078,
          7.795814347139491,
          8.004055452180125,
          8.004055452180125,
          8.732899319822348,
          9.149381529903616,
          7.587573242098856,
          7.587573242098856,
          7.795814347139491,
          9.357622634944251,
          8.941140424862981,
          8.316417109741078,
          9.045260977383299,
          7.795814347139491,
          8.316417109741078,
          7.691693794619174,
          7.795814347139491,
          8.316417109741078,
          9.045260977383299,
          9.045260977383299,
          7.587573242098856,
          9.045260977383299,
          7.795814347139491,
          8.732899319822348,
          8.524658214781713,
          8.004055452180125,
          8.420537662261395,
          8.21229655722076,
          7.691693794619174,
          8.21229655722076,
          8.21229655722076,
          8.941140424862981,
          8.524658214781713,
          7.795814347139491,
          9.149381529903616,
          9.253502082423934,
          8.62877876730203,
          8.524658214781713,
          8.62877876730203,
          7.899934899659809,
          7.795814347139491,
          8.732899319822348,
          9.357622634944251,
          9.045260977383299,
          8.21229655722076,
          8.732899319822348,
          8.004055452180125,
          8.941140424862981,
          8.941140424862981,
          8.62877876730203,
          8.108176004700443,
          8.524658214781713,
          8.316417109741078,
          8.420537662261395,
          8.941140424862981,
          9.253502082423934,
          8.941140424862981,
          7.795814347139491,
          8.21229655722076,
          8.108176004700443,
          7.587573242098856,
          8.004055452180125,
          8.837019872342665,
          8.837019872342665,
          8.108176004700443,
          8.837019872342665,
          7.795814347139491,
          8.108176004700443,
          7.899934899659809,
          9.045260977383299,
          8.62877876730203,
          8.62877876730203,
          8.420537662261395,
          9.045260977383299,
          9.045260977383299,
          8.21229655722076,
          9.253502082423934,
          8.21229655722076,
          8.524658214781713,
          7.899934899659809,
          7.795814347139491,
          8.732899319822348,
          7.795814347139491,
          8.316417109741078,
          8.316417109741078,
          7.691693794619174,
          7.899934899659809,
          7.691693794619174,
          8.941140424862981,
          9.045260977383299,
          7.899934899659809,
          8.941140424862981,
          8.732899319822348,
          7.899934899659809,
          8.316417109741078,
          8.732899319822348,
          8.316417109741078,
          9.045260977383299,
          8.941140424862981,
          8.004055452180125,
          8.21229655722076,
          8.62877876730203,
          8.941140424862981,
          7.691693794619174,
          7.587573242098856,
          8.004055452180125,
          9.045260977383299,
          8.108176004700443,
          8.21229655722076,
          9.045260977383299,
          8.108176004700443,
          7.587573242098856,
          7.899934899659809,
          8.62877876730203,
          8.21229655722076,
          8.732899319822348,
          7.795814347139491,
          7.899934899659809,
          9.253502082423934,
          8.941140424862981,
          9.149381529903616,
          8.62877876730203,
          7.795814347139491,
          7.691693794619174,
          8.21229655722076,
          9.253502082423934,
          9.253502082423934,
          7.795814347139491,
          8.316417109741078,
          8.21229655722076,
          8.732899319822348,
          8.316417109741078,
          8.316417109741078,
          9.149381529903616,
          8.004055452180125,
          7.587573242098856,
          9.149381529903616,
          7.691693794619174,
          9.045260977383299,
          9.149381529903616,
          9.253502082423934,
          8.837019872342665,
          8.837019872342665,
          8.941140424862981,
          8.524658214781713,
          8.108176004700443,
          8.941140424862981,
          8.837019872342665,
          7.899934899659809,
          8.004055452180125,
          7.691693794619174,
          7.795814347139491,
          9.357622634944251,
          9.357622634944251,
          8.316417109741078,
          8.21229655722076,
          9.253502082423934,
          7.691693794619174,
          8.941140424862981,
          8.62877876730203,
          7.899934899659809,
          8.108176004700443,
          9.149381529903616,
          9.253502082423934,
          8.941140424862981,
          9.149381529903616,
          8.420537662261395,
          9.253502082423934,
          8.21229655722076,
          8.108176004700443,
          8.837019872342665,
          9.149381529903616,
          8.108176004700443,
          8.941140424862981,
          7.795814347139491,
          9.253502082423934,
          8.316417109741078,
          8.62877876730203,
          7.587573242098856,
          8.420537662261395,
          7.899934899659809,
          8.732899319822348,
          7.691693794619174,
          7.587573242098856,
          9.357622634944251,
          7.587573242098856,
          8.108176004700443,
          7.795814347139491,
          7.795814347139491,
          8.21229655722076,
          8.732899319822348,
          8.941140424862981,
          9.045260977383299,
          8.420537662261395,
          8.837019872342665,
          7.691693794619174,
          8.524658214781713,
          8.004055452180125,
          7.795814347139491,
          8.004055452180125,
          7.795814347139491,
          7.795814347139491,
          7.795814347139491,
          8.004055452180125,
          9.045260977383299,
          7.795814347139491,
          8.108176004700443,
          8.837019872342665,
          7.899934899659809,
          8.004055452180125,
          8.316417109741078,
          8.004055452180125,
          8.21229655722076,
          7.899934899659809,
          7.795814347139491,
          8.21229655722076,
          8.941140424862981,
          7.691693794619174,
          7.899934899659809,
          8.524658214781713,
          9.045260977383299,
          8.524658214781713,
          7.795814347139491,
          8.004055452180125,
          7.691693794619174,
          8.941140424862981,
          8.420537662261395,
          8.62877876730203,
          8.004055452180125,
          7.587573242098856,
          8.108176004700443,
          9.357622634944251,
          8.62877876730203,
          9.357622634944251,
          8.62877876730203,
          8.941140424862981,
          8.837019872342665,
          9.253502082423934,
          7.795814347139491,
          9.253502082423934,
          9.253502082423934,
          9.045260977383299,
          8.837019872342665,
          8.837019872342665,
          8.420537662261395,
          8.21229655722076,
          7.795814347139491,
          9.253502082423934,
          7.691693794619174,
          9.253502082423934,
          8.004055452180125,
          8.21229655722076,
          9.253502082423934,
          9.149381529903616,
          8.316417109741078,
          8.316417109741078,
          8.837019872342665,
          8.316417109741078,
          8.108176004700443,
          8.524658214781713,
          8.316417109741078,
          8.004055452180125,
          8.316417109741078,
          7.795814347139491,
          8.420537662261395,
          8.108176004700443,
          8.004055452180125,
          9.045260977383299,
          7.899934899659809,
          9.149381529903616,
          8.837019872342665,
          9.045260977383299,
          8.004055452180125,
          8.004055452180125,
          8.108176004700443,
          8.524658214781713,
          7.899934899659809,
          8.108176004700443,
          7.691693794619174,
          8.004055452180125,
          8.524658214781713,
          8.941140424862981,
          7.691693794619174,
          8.941140424862981,
          7.587573242098856,
          8.941140424862981,
          9.253502082423934,
          8.108176004700443,
          8.732899319822348,
          8.62877876730203,
          8.316417109741078,
          8.62877876730203,
          9.149381529903616,
          7.899934899659809,
          8.941140424862981,
          9.253502082423934,
          9.149381529903616,
          8.316417109741078,
          8.524658214781713,
          8.21229655722076,
          8.524658214781713,
          8.108176004700443,
          9.149381529903616,
          8.941140424862981,
          7.795814347139491,
          7.587573242098856,
          8.524658214781713,
          8.62877876730203,
          8.004055452180125,
          7.587573242098856,
          8.524658214781713,
          7.899934899659809,
          8.108176004700443,
          9.149381529903616,
          8.941140424862981,
          8.62877876730203,
          8.420537662261395,
          9.357622634944251,
          8.837019872342665,
          9.045260977383299,
          7.795814347139491,
          8.316417109741078,
          8.732899319822348,
          7.587573242098856,
          9.149381529903616,
          9.045260977383299,
          8.108176004700443,
          7.587573242098856,
          8.524658214781713,
          9.149381529903616,
          8.420537662261395,
          8.004055452180125,
          9.357622634944251,
          9.357622634944251,
          7.795814347139491,
          9.045260977383299,
          7.691693794619174,
          8.837019872342665,
          7.795814347139491,
          7.795814347139491,
          8.004055452180125,
          9.149381529903616,
          7.587573242098856,
          7.795814347139491,
          8.62877876730203,
          8.004055452180125,
          9.253502082423934,
          9.149381529903616,
          8.420537662261395,
          8.941140424862981,
          8.732899319822348,
          7.691693794619174,
          9.253502082423934,
          9.253502082423934,
          8.108176004700443,
          8.941140424862981,
          8.941140424862981,
          8.732899319822348,
          8.004055452180125,
          7.587573242098856,
          8.21229655722076,
          8.732899319822348,
          7.899934899659809,
          7.899934899659809,
          8.108176004700443,
          8.941140424862981,
          7.691693794619174,
          8.837019872342665,
          8.21229655722076,
          8.941140424862981,
          7.795814347139491,
          8.62877876730203,
          7.795814347139491,
          8.316417109741078,
          8.108176004700443,
          7.899934899659809,
          9.045260977383299,
          9.357622634944251,
          8.732899319822348,
          8.837019872342665,
          7.587573242098856,
          8.837019872342665,
          8.837019872342665,
          7.691693794619174,
          8.941140424862981,
          7.795814347139491,
          8.62877876730203,
          8.941140424862981,
          8.004055452180125
         ],
         "y": [
          8.160518247477505,
          8.987196820661973,
          7.170119543449628,
          8.476371196895983,
          7.438383530044307,
          7.170119543449628,
          9.011889433252344,
          7.24422751560335,
          8.83927669058535,
          9.20029003612268,
          7.24422751560335,
          8.68270762989381,
          9.126958763037132,
          8.68270762989381,
          7.783224016336037,
          8.575462099540212,
          9.0595174822416,
          8.389359819906353,
          8.594154232552366,
          8.794824928014517,
          8.948975607841776,
          8.732304571033183,
          7.649692623711514,
          7.090076835776092,
          8.895629627136483,
          7.90100705199242,
          7.549609165154532,
          8.594154232552366,
          7.649692623711514,
          8.131530710604252,
          8.006367567650246,
          8.881836305004146,
          9.137769679141348,
          7.170119543449628,
          7.24422751560335,
          7.696212639346407,
          9.259130536145614,
          9.035986984831405,
          8.594154232552366,
          9.035986984831405,
          7.438383530044307,
          8.496990484098719,
          7.170119543449628,
          7.495541943884256,
          8.594154232552366,
          9.02401079378469,
          9.082507000466299,
          7.170119543449628,
          9.071078304642676,
          7.003065458786462,
          8.895629627136483,
          8.732304571033183,
          8.101677747454572,
          8.575462099540212,
          8.517193191416238,
          7.170119543449628,
          8.476371196895983,
          8.517193191416238,
          9.011889433252344,
          8.68270762989381,
          7.313220387090301,
          9.137769679141348,
          9.169518377455928,
          8.824677891164198,
          8.764053269347762,
          8.83927669058535,
          8.006367567650246,
          7.495541943884256,
          8.895629627136483,
          9.230142999272362,
          9.071078304642676,
          8.45531778769815,
          8.895629627136483,
          8.160518247477505,
          9.011889433252344,
          9.02401079378469,
          8.824677891164198,
          8.294049640102028,
          8.764053269347762,
          8.575462099540212,
          8.699514748210191,
          9.02401079378469,
          9.20029003612268,
          9.035986984831405,
          7.649692623711514,
          8.517193191416238,
          8.131530710604252,
          7.003065458786462,
          7.783224016336037,
          8.974618038455112,
          8.935903526274423,
          8.34283980427146,
          8.987196820661973,
          7.313220387090301,
          8.34283980427146,
          7.8632667240095735,
          9.082507000466299,
          8.85366542803745,
          8.83927669058535,
          8.68270762989381,
          9.093806555720231,
          9.011889433252344,
          8.517193191416238,
          9.190137664658664,
          8.45531778769815,
          8.794824928014517,
          7.824046010856292,
          7.696212639346407,
          8.881836305004146,
          7.170119543449628,
          8.556413904569519,
          8.556413904569519,
          7.170119543449628,
          7.937374696163295,
          7.170119543449628,
          9.035986984831405,
          9.093806555720231,
          7.783224016336037,
          9.011889433252344,
          8.881836305004146,
          7.8632667240095735,
          8.556413904569519,
          8.909235279192261,
          8.594154232552366,
          9.093806555720231,
          8.935903526274423,
          8.101677747454572,
          8.496990484098719,
          8.824677891164198,
          9.035986984831405,
          7.090076835776092,
          7.24422751560335,
          8.160518247477505,
          9.093806555720231,
          8.34283980427146,
          8.45531778769815,
          9.0595174822416,
          8.268731832117737,
          7.24422751560335,
          7.824046010856292,
          8.85366542803745,
          8.389359819906353,
          8.881836305004146,
          7.696212639346407,
          7.824046010856292,
          9.116029692504942,
          9.011889433252344,
          9.148464968258095,
          8.85366542803745,
          7.003065458786462,
          7.090076835776092,
          8.496990484098719,
          9.20029003612268,
          9.169518377455928,
          7.495541943884256,
          8.594154232552366,
          8.411832675758411,
          8.909235279192261,
          8.411832675758411,
          8.575462099540212,
          9.126958763037132,
          8.160518247477505,
          7.003065458786462,
          9.148464968258095,
          7.090076835776092,
          9.071078304642676,
          9.137769679141348,
          9.190137664658664,
          8.974618038455112,
          8.961879012677683,
          9.011889433252344,
          8.794824928014517,
          8.294049640102028,
          8.948975607841776,
          8.961879012677683,
          7.696212639346407,
          8.131530710604252,
          7.24422751560335,
          7.24422751560335,
          9.230142999272362,
          9.20029003612268,
          8.556413904569519,
          8.45531778769815,
          9.179881164491475,
          7.313220387090301,
          9.035986984831405,
          8.824677891164198,
          7.696212639346407,
          8.268731832117737,
          9.137769679141348,
          9.169518377455928,
          9.02401079378469,
          9.137769679141348,
          8.630521876723241,
          9.116029692504942,
          8.411832675758411,
          8.34283980427146,
          8.881836305004146,
          9.093806555720231,
          8.294049640102028,
          9.035986984831405,
          7.438383530044307,
          9.169518377455928,
          8.556413904569519,
          8.824677891164198,
          7.003065458786462,
          8.66561319653451,
          7.9724660159745655,
          8.895629627136483,
          7.170119543449628,
          7.24422751560335,
          9.230142999272362,
          7.24422751560335,
          8.318742252692399,
          7.649692623711514,
          7.649692623711514,
          8.476371196895983,
          8.895629627136483,
          9.035986984831405,
          9.035986984831405,
          8.648221453822641,
          8.948975607841776,
          7.313220387090301,
          8.748304912379623,
          8.101677747454572,
          7.600902459542082,
          8.131530710604252,
          7.696212639346407,
          7.438383530044307,
          7.649692623711514,
          8.101677747454572,
          9.035986984831405,
          7.313220387090301,
          8.242756345714477,
          8.895629627136483,
          7.9724660159745655,
          8.131530710604252,
          8.575462099540212,
          8.006367567650246,
          8.45531778769815,
          7.600902459542082,
          7.438383530044307,
          8.389359819906353,
          9.02401079378469,
          7.170119543449628,
          7.824046010856292,
          8.764053269347762,
          9.082507000466299,
          8.748304912379623,
          7.696212639346407,
          8.101677747454572,
          7.24422751560335,
          9.035986984831405,
          8.66561319653451,
          8.85366542803745,
          8.101677747454572,
          7.313220387090301,
          8.34283980427146,
          9.190137664658664,
          8.83927669058535,
          9.230142999272362,
          8.824677891164198,
          8.935903526274423,
          8.948975607841776,
          9.169518377455928,
          7.549609165154532,
          9.179881164491475,
          9.126958763037132,
          9.071078304642676,
          8.974618038455112,
          8.987196820661973,
          8.66561319653451,
          8.496990484098719,
          7.438383530044307,
          9.190137664658664,
          7.170119543449628,
          9.116029692504942,
          8.160518247477505,
          8.496990484098719,
          9.116029692504942,
          9.137769679141348,
          8.556413904569519,
          8.594154232552366,
          8.987196820661973,
          8.575462099540212,
          8.34283980427146,
          8.764053269347762,
          8.575462099540212,
          8.101677747454572,
          8.594154232552366,
          7.438383530044307,
          8.68270762989381,
          8.294049640102028,
          8.160518247477505,
          9.082507000466299,
          7.937374696163295,
          9.148464968258095,
          8.948975607841776,
          9.011889433252344,
          8.101677747454572,
          8.160518247477505,
          8.34283980427146,
          8.748304912379623,
          7.649692623711514,
          8.34283980427146,
          7.003065458786462,
          8.160518247477505,
          8.648221453822641,
          9.02401079378469,
          7.090076835776092,
          8.987196820661973,
          7.090076835776092,
          8.935903526274423,
          9.137769679141348,
          8.101677747454572,
          8.881836305004146,
          8.824677891164198,
          8.411832675758411,
          8.824677891164198,
          9.148464968258095,
          7.90100705199242,
          9.035986984831405,
          9.20029003612268,
          9.0595174822416,
          8.556413904569519,
          8.630521876723241,
          8.476371196895983,
          8.66561319653451,
          8.242756345714477,
          9.116029692504942,
          9.035986984831405,
          7.549609165154532,
          7.24422751560335,
          8.764053269347762,
          8.824677891164198,
          8.101677747454572,
          7.170119543449628,
          8.794824928014517,
          7.8632667240095735,
          8.294049640102028,
          9.137769679141348,
          8.961879012677683,
          8.85366542803745,
          8.699514748210191,
          9.259130536145614,
          8.948975607841776,
          9.02401079378469,
          7.600902459542082,
          8.556413904569519,
          8.881836305004146,
          7.090076835776092,
          9.126958763037132,
          9.082507000466299,
          8.294049640102028,
          7.313220387090301,
          8.648221453822641,
          9.093806555720231,
          8.699514748210191,
          7.824046010856292,
          9.249561085129464,
          9.20029003612268,
          7.549609165154532,
          9.011889433252344,
          7.170119543449628,
          8.974618038455112,
          7.438383530044307,
          7.090076835776092,
          8.160518247477505,
          9.116029692504942,
          7.24422751560335,
          7.438383530044307,
          8.794824928014517,
          8.131530710604252,
          9.190137664658664,
          9.116029692504942,
          8.630521876723241,
          8.974618038455112,
          8.909235279192261,
          7.003065458786462,
          9.148464968258095,
          9.148464968258095,
          8.318742252692399,
          9.035986984831405,
          8.935903526274423,
          8.881836305004146,
          8.101677747454572,
          7.090076835776092,
          8.433811582477187,
          8.895629627136483,
          8.006367567650246,
          7.824046010856292,
          8.294049640102028,
          9.02401079378469,
          7.313220387090301,
          8.935903526274423,
          8.411832675758411,
          8.948975607841776,
          7.495541943884256,
          8.83927669058535,
          7.313220387090301,
          8.556413904569519,
          8.242756345714477,
          7.783224016336037,
          9.082507000466299,
          9.259130536145614,
          8.895629627136483,
          8.987196820661973,
          7.170119543449628,
          8.895629627136483,
          8.974618038455112,
          7.313220387090301,
          8.948975607841776,
          7.495541943884256,
          8.824677891164198,
          9.011889433252344,
          8.101677747454572
         ]
        },
        {
         "line": {
          "color": "red"
         },
         "mode": "lines",
         "type": "scatter",
         "x": [
          8.160518247477505,
          8.987196820661973,
          7.170119543449628,
          8.476371196895983,
          7.438383530044307,
          7.170119543449628,
          9.011889433252344,
          7.24422751560335,
          8.83927669058535,
          9.20029003612268,
          7.24422751560335,
          8.68270762989381,
          9.126958763037132,
          8.68270762989381,
          7.783224016336037,
          8.575462099540212,
          9.0595174822416,
          8.389359819906353,
          8.594154232552366,
          8.794824928014517,
          8.948975607841776,
          8.732304571033183,
          7.649692623711514,
          7.090076835776092,
          8.895629627136483,
          7.90100705199242,
          7.549609165154532,
          8.594154232552366,
          7.649692623711514,
          8.131530710604252,
          8.006367567650246,
          8.881836305004146,
          9.137769679141348,
          7.170119543449628,
          7.24422751560335,
          7.696212639346407,
          9.259130536145614,
          9.035986984831405,
          8.594154232552366,
          9.035986984831405,
          7.438383530044307,
          8.496990484098719,
          7.170119543449628,
          7.495541943884256,
          8.594154232552366,
          9.02401079378469,
          9.082507000466299,
          7.170119543449628,
          9.071078304642676,
          7.003065458786462,
          8.895629627136483,
          8.732304571033183,
          8.101677747454572,
          8.575462099540212,
          8.517193191416238,
          7.170119543449628,
          8.476371196895983,
          8.517193191416238,
          9.011889433252344,
          8.68270762989381,
          7.313220387090301,
          9.137769679141348,
          9.169518377455928,
          8.824677891164198,
          8.764053269347762,
          8.83927669058535,
          8.006367567650246,
          7.495541943884256,
          8.895629627136483,
          9.230142999272362,
          9.071078304642676,
          8.45531778769815,
          8.895629627136483,
          8.160518247477505,
          9.011889433252344,
          9.02401079378469,
          8.824677891164198,
          8.294049640102028,
          8.764053269347762,
          8.575462099540212,
          8.699514748210191,
          9.02401079378469,
          9.20029003612268,
          9.035986984831405,
          7.649692623711514,
          8.517193191416238,
          8.131530710604252,
          7.003065458786462,
          7.783224016336037,
          8.974618038455112,
          8.935903526274423,
          8.34283980427146,
          8.987196820661973,
          7.313220387090301,
          8.34283980427146,
          7.8632667240095735,
          9.082507000466299,
          8.85366542803745,
          8.83927669058535,
          8.68270762989381,
          9.093806555720231,
          9.011889433252344,
          8.517193191416238,
          9.190137664658664,
          8.45531778769815,
          8.794824928014517,
          7.824046010856292,
          7.696212639346407,
          8.881836305004146,
          7.170119543449628,
          8.556413904569519,
          8.556413904569519,
          7.170119543449628,
          7.937374696163295,
          7.170119543449628,
          9.035986984831405,
          9.093806555720231,
          7.783224016336037,
          9.011889433252344,
          8.881836305004146,
          7.8632667240095735,
          8.556413904569519,
          8.909235279192261,
          8.594154232552366,
          9.093806555720231,
          8.935903526274423,
          8.101677747454572,
          8.496990484098719,
          8.824677891164198,
          9.035986984831405,
          7.090076835776092,
          7.24422751560335,
          8.160518247477505,
          9.093806555720231,
          8.34283980427146,
          8.45531778769815,
          9.0595174822416,
          8.268731832117737,
          7.24422751560335,
          7.824046010856292,
          8.85366542803745,
          8.389359819906353,
          8.881836305004146,
          7.696212639346407,
          7.824046010856292,
          9.116029692504942,
          9.011889433252344,
          9.148464968258095,
          8.85366542803745,
          7.003065458786462,
          7.090076835776092,
          8.496990484098719,
          9.20029003612268,
          9.169518377455928,
          7.495541943884256,
          8.594154232552366,
          8.411832675758411,
          8.909235279192261,
          8.411832675758411,
          8.575462099540212,
          9.126958763037132,
          8.160518247477505,
          7.003065458786462,
          9.148464968258095,
          7.090076835776092,
          9.071078304642676,
          9.137769679141348,
          9.190137664658664,
          8.974618038455112,
          8.961879012677683,
          9.011889433252344,
          8.794824928014517,
          8.294049640102028,
          8.948975607841776,
          8.961879012677683,
          7.696212639346407,
          8.131530710604252,
          7.24422751560335,
          7.24422751560335,
          9.230142999272362,
          9.20029003612268,
          8.556413904569519,
          8.45531778769815,
          9.179881164491475,
          7.313220387090301,
          9.035986984831405,
          8.824677891164198,
          7.696212639346407,
          8.268731832117737,
          9.137769679141348,
          9.169518377455928,
          9.02401079378469,
          9.137769679141348,
          8.630521876723241,
          9.116029692504942,
          8.411832675758411,
          8.34283980427146,
          8.881836305004146,
          9.093806555720231,
          8.294049640102028,
          9.035986984831405,
          7.438383530044307,
          9.169518377455928,
          8.556413904569519,
          8.824677891164198,
          7.003065458786462,
          8.66561319653451,
          7.9724660159745655,
          8.895629627136483,
          7.170119543449628,
          7.24422751560335,
          9.230142999272362,
          7.24422751560335,
          8.318742252692399,
          7.649692623711514,
          7.649692623711514,
          8.476371196895983,
          8.895629627136483,
          9.035986984831405,
          9.035986984831405,
          8.648221453822641,
          8.948975607841776,
          7.313220387090301,
          8.748304912379623,
          8.101677747454572,
          7.600902459542082,
          8.131530710604252,
          7.696212639346407,
          7.438383530044307,
          7.649692623711514,
          8.101677747454572,
          9.035986984831405,
          7.313220387090301,
          8.242756345714477,
          8.895629627136483,
          7.9724660159745655,
          8.131530710604252,
          8.575462099540212,
          8.006367567650246,
          8.45531778769815,
          7.600902459542082,
          7.438383530044307,
          8.389359819906353,
          9.02401079378469,
          7.170119543449628,
          7.824046010856292,
          8.764053269347762,
          9.082507000466299,
          8.748304912379623,
          7.696212639346407,
          8.101677747454572,
          7.24422751560335,
          9.035986984831405,
          8.66561319653451,
          8.85366542803745,
          8.101677747454572,
          7.313220387090301,
          8.34283980427146,
          9.190137664658664,
          8.83927669058535,
          9.230142999272362,
          8.824677891164198,
          8.935903526274423,
          8.948975607841776,
          9.169518377455928,
          7.549609165154532,
          9.179881164491475,
          9.126958763037132,
          9.071078304642676,
          8.974618038455112,
          8.987196820661973,
          8.66561319653451,
          8.496990484098719,
          7.438383530044307,
          9.190137664658664,
          7.170119543449628,
          9.116029692504942,
          8.160518247477505,
          8.496990484098719,
          9.116029692504942,
          9.137769679141348,
          8.556413904569519,
          8.594154232552366,
          8.987196820661973,
          8.575462099540212,
          8.34283980427146,
          8.764053269347762,
          8.575462099540212,
          8.101677747454572,
          8.594154232552366,
          7.438383530044307,
          8.68270762989381,
          8.294049640102028,
          8.160518247477505,
          9.082507000466299,
          7.937374696163295,
          9.148464968258095,
          8.948975607841776,
          9.011889433252344,
          8.101677747454572,
          8.160518247477505,
          8.34283980427146,
          8.748304912379623,
          7.649692623711514,
          8.34283980427146,
          7.003065458786462,
          8.160518247477505,
          8.648221453822641,
          9.02401079378469,
          7.090076835776092,
          8.987196820661973,
          7.090076835776092,
          8.935903526274423,
          9.137769679141348,
          8.101677747454572,
          8.881836305004146,
          8.824677891164198,
          8.411832675758411,
          8.824677891164198,
          9.148464968258095,
          7.90100705199242,
          9.035986984831405,
          9.20029003612268,
          9.0595174822416,
          8.556413904569519,
          8.630521876723241,
          8.476371196895983,
          8.66561319653451,
          8.242756345714477,
          9.116029692504942,
          9.035986984831405,
          7.549609165154532,
          7.24422751560335,
          8.764053269347762,
          8.824677891164198,
          8.101677747454572,
          7.170119543449628,
          8.794824928014517,
          7.8632667240095735,
          8.294049640102028,
          9.137769679141348,
          8.961879012677683,
          8.85366542803745,
          8.699514748210191,
          9.259130536145614,
          8.948975607841776,
          9.02401079378469,
          7.600902459542082,
          8.556413904569519,
          8.881836305004146,
          7.090076835776092,
          9.126958763037132,
          9.082507000466299,
          8.294049640102028,
          7.313220387090301,
          8.648221453822641,
          9.093806555720231,
          8.699514748210191,
          7.824046010856292,
          9.249561085129464,
          9.20029003612268,
          7.549609165154532,
          9.011889433252344,
          7.170119543449628,
          8.974618038455112,
          7.438383530044307,
          7.090076835776092,
          8.160518247477505,
          9.116029692504942,
          7.24422751560335,
          7.438383530044307,
          8.794824928014517,
          8.131530710604252,
          9.190137664658664,
          9.116029692504942,
          8.630521876723241,
          8.974618038455112,
          8.909235279192261,
          7.003065458786462,
          9.148464968258095,
          9.148464968258095,
          8.318742252692399,
          9.035986984831405,
          8.935903526274423,
          8.881836305004146,
          8.101677747454572,
          7.090076835776092,
          8.433811582477187,
          8.895629627136483,
          8.006367567650246,
          7.824046010856292,
          8.294049640102028,
          9.02401079378469,
          7.313220387090301,
          8.935903526274423,
          8.411832675758411,
          8.948975607841776,
          7.495541943884256,
          8.83927669058535,
          7.313220387090301,
          8.556413904569519,
          8.242756345714477,
          7.783224016336037,
          9.082507000466299,
          9.259130536145614,
          8.895629627136483,
          8.987196820661973,
          7.170119543449628,
          8.895629627136483,
          8.974618038455112,
          7.313220387090301,
          8.948975607841776,
          7.495541943884256,
          8.824677891164198,
          9.011889433252344,
          8.101677747454572
         ],
         "y": [
          8.160518247477505,
          8.987196820661973,
          7.170119543449628,
          8.476371196895983,
          7.438383530044307,
          7.170119543449628,
          9.011889433252344,
          7.24422751560335,
          8.83927669058535,
          9.20029003612268,
          7.24422751560335,
          8.68270762989381,
          9.126958763037132,
          8.68270762989381,
          7.783224016336037,
          8.575462099540212,
          9.0595174822416,
          8.389359819906353,
          8.594154232552366,
          8.794824928014517,
          8.948975607841776,
          8.732304571033183,
          7.649692623711514,
          7.090076835776092,
          8.895629627136483,
          7.90100705199242,
          7.549609165154532,
          8.594154232552366,
          7.649692623711514,
          8.131530710604252,
          8.006367567650246,
          8.881836305004146,
          9.137769679141348,
          7.170119543449628,
          7.24422751560335,
          7.696212639346407,
          9.259130536145614,
          9.035986984831405,
          8.594154232552366,
          9.035986984831405,
          7.438383530044307,
          8.496990484098719,
          7.170119543449628,
          7.495541943884256,
          8.594154232552366,
          9.02401079378469,
          9.082507000466299,
          7.170119543449628,
          9.071078304642676,
          7.003065458786462,
          8.895629627136483,
          8.732304571033183,
          8.101677747454572,
          8.575462099540212,
          8.517193191416238,
          7.170119543449628,
          8.476371196895983,
          8.517193191416238,
          9.011889433252344,
          8.68270762989381,
          7.313220387090301,
          9.137769679141348,
          9.169518377455928,
          8.824677891164198,
          8.764053269347762,
          8.83927669058535,
          8.006367567650246,
          7.495541943884256,
          8.895629627136483,
          9.230142999272362,
          9.071078304642676,
          8.45531778769815,
          8.895629627136483,
          8.160518247477505,
          9.011889433252344,
          9.02401079378469,
          8.824677891164198,
          8.294049640102028,
          8.764053269347762,
          8.575462099540212,
          8.699514748210191,
          9.02401079378469,
          9.20029003612268,
          9.035986984831405,
          7.649692623711514,
          8.517193191416238,
          8.131530710604252,
          7.003065458786462,
          7.783224016336037,
          8.974618038455112,
          8.935903526274423,
          8.34283980427146,
          8.987196820661973,
          7.313220387090301,
          8.34283980427146,
          7.8632667240095735,
          9.082507000466299,
          8.85366542803745,
          8.83927669058535,
          8.68270762989381,
          9.093806555720231,
          9.011889433252344,
          8.517193191416238,
          9.190137664658664,
          8.45531778769815,
          8.794824928014517,
          7.824046010856292,
          7.696212639346407,
          8.881836305004146,
          7.170119543449628,
          8.556413904569519,
          8.556413904569519,
          7.170119543449628,
          7.937374696163295,
          7.170119543449628,
          9.035986984831405,
          9.093806555720231,
          7.783224016336037,
          9.011889433252344,
          8.881836305004146,
          7.8632667240095735,
          8.556413904569519,
          8.909235279192261,
          8.594154232552366,
          9.093806555720231,
          8.935903526274423,
          8.101677747454572,
          8.496990484098719,
          8.824677891164198,
          9.035986984831405,
          7.090076835776092,
          7.24422751560335,
          8.160518247477505,
          9.093806555720231,
          8.34283980427146,
          8.45531778769815,
          9.0595174822416,
          8.268731832117737,
          7.24422751560335,
          7.824046010856292,
          8.85366542803745,
          8.389359819906353,
          8.881836305004146,
          7.696212639346407,
          7.824046010856292,
          9.116029692504942,
          9.011889433252344,
          9.148464968258095,
          8.85366542803745,
          7.003065458786462,
          7.090076835776092,
          8.496990484098719,
          9.20029003612268,
          9.169518377455928,
          7.495541943884256,
          8.594154232552366,
          8.411832675758411,
          8.909235279192261,
          8.411832675758411,
          8.575462099540212,
          9.126958763037132,
          8.160518247477505,
          7.003065458786462,
          9.148464968258095,
          7.090076835776092,
          9.071078304642676,
          9.137769679141348,
          9.190137664658664,
          8.974618038455112,
          8.961879012677683,
          9.011889433252344,
          8.794824928014517,
          8.294049640102028,
          8.948975607841776,
          8.961879012677683,
          7.696212639346407,
          8.131530710604252,
          7.24422751560335,
          7.24422751560335,
          9.230142999272362,
          9.20029003612268,
          8.556413904569519,
          8.45531778769815,
          9.179881164491475,
          7.313220387090301,
          9.035986984831405,
          8.824677891164198,
          7.696212639346407,
          8.268731832117737,
          9.137769679141348,
          9.169518377455928,
          9.02401079378469,
          9.137769679141348,
          8.630521876723241,
          9.116029692504942,
          8.411832675758411,
          8.34283980427146,
          8.881836305004146,
          9.093806555720231,
          8.294049640102028,
          9.035986984831405,
          7.438383530044307,
          9.169518377455928,
          8.556413904569519,
          8.824677891164198,
          7.003065458786462,
          8.66561319653451,
          7.9724660159745655,
          8.895629627136483,
          7.170119543449628,
          7.24422751560335,
          9.230142999272362,
          7.24422751560335,
          8.318742252692399,
          7.649692623711514,
          7.649692623711514,
          8.476371196895983,
          8.895629627136483,
          9.035986984831405,
          9.035986984831405,
          8.648221453822641,
          8.948975607841776,
          7.313220387090301,
          8.748304912379623,
          8.101677747454572,
          7.600902459542082,
          8.131530710604252,
          7.696212639346407,
          7.438383530044307,
          7.649692623711514,
          8.101677747454572,
          9.035986984831405,
          7.313220387090301,
          8.242756345714477,
          8.895629627136483,
          7.9724660159745655,
          8.131530710604252,
          8.575462099540212,
          8.006367567650246,
          8.45531778769815,
          7.600902459542082,
          7.438383530044307,
          8.389359819906353,
          9.02401079378469,
          7.170119543449628,
          7.824046010856292,
          8.764053269347762,
          9.082507000466299,
          8.748304912379623,
          7.696212639346407,
          8.101677747454572,
          7.24422751560335,
          9.035986984831405,
          8.66561319653451,
          8.85366542803745,
          8.101677747454572,
          7.313220387090301,
          8.34283980427146,
          9.190137664658664,
          8.83927669058535,
          9.230142999272362,
          8.824677891164198,
          8.935903526274423,
          8.948975607841776,
          9.169518377455928,
          7.549609165154532,
          9.179881164491475,
          9.126958763037132,
          9.071078304642676,
          8.974618038455112,
          8.987196820661973,
          8.66561319653451,
          8.496990484098719,
          7.438383530044307,
          9.190137664658664,
          7.170119543449628,
          9.116029692504942,
          8.160518247477505,
          8.496990484098719,
          9.116029692504942,
          9.137769679141348,
          8.556413904569519,
          8.594154232552366,
          8.987196820661973,
          8.575462099540212,
          8.34283980427146,
          8.764053269347762,
          8.575462099540212,
          8.101677747454572,
          8.594154232552366,
          7.438383530044307,
          8.68270762989381,
          8.294049640102028,
          8.160518247477505,
          9.082507000466299,
          7.937374696163295,
          9.148464968258095,
          8.948975607841776,
          9.011889433252344,
          8.101677747454572,
          8.160518247477505,
          8.34283980427146,
          8.748304912379623,
          7.649692623711514,
          8.34283980427146,
          7.003065458786462,
          8.160518247477505,
          8.648221453822641,
          9.02401079378469,
          7.090076835776092,
          8.987196820661973,
          7.090076835776092,
          8.935903526274423,
          9.137769679141348,
          8.101677747454572,
          8.881836305004146,
          8.824677891164198,
          8.411832675758411,
          8.824677891164198,
          9.148464968258095,
          7.90100705199242,
          9.035986984831405,
          9.20029003612268,
          9.0595174822416,
          8.556413904569519,
          8.630521876723241,
          8.476371196895983,
          8.66561319653451,
          8.242756345714477,
          9.116029692504942,
          9.035986984831405,
          7.549609165154532,
          7.24422751560335,
          8.764053269347762,
          8.824677891164198,
          8.101677747454572,
          7.170119543449628,
          8.794824928014517,
          7.8632667240095735,
          8.294049640102028,
          9.137769679141348,
          8.961879012677683,
          8.85366542803745,
          8.699514748210191,
          9.259130536145614,
          8.948975607841776,
          9.02401079378469,
          7.600902459542082,
          8.556413904569519,
          8.881836305004146,
          7.090076835776092,
          9.126958763037132,
          9.082507000466299,
          8.294049640102028,
          7.313220387090301,
          8.648221453822641,
          9.093806555720231,
          8.699514748210191,
          7.824046010856292,
          9.249561085129464,
          9.20029003612268,
          7.549609165154532,
          9.011889433252344,
          7.170119543449628,
          8.974618038455112,
          7.438383530044307,
          7.090076835776092,
          8.160518247477505,
          9.116029692504942,
          7.24422751560335,
          7.438383530044307,
          8.794824928014517,
          8.131530710604252,
          9.190137664658664,
          9.116029692504942,
          8.630521876723241,
          8.974618038455112,
          8.909235279192261,
          7.003065458786462,
          9.148464968258095,
          9.148464968258095,
          8.318742252692399,
          9.035986984831405,
          8.935903526274423,
          8.881836305004146,
          8.101677747454572,
          7.090076835776092,
          8.433811582477187,
          8.895629627136483,
          8.006367567650246,
          7.824046010856292,
          8.294049640102028,
          9.02401079378469,
          7.313220387090301,
          8.935903526274423,
          8.411832675758411,
          8.948975607841776,
          7.495541943884256,
          8.83927669058535,
          7.313220387090301,
          8.556413904569519,
          8.242756345714477,
          7.783224016336037,
          9.082507000466299,
          9.259130536145614,
          8.895629627136483,
          8.987196820661973,
          7.170119543449628,
          8.895629627136483,
          8.974618038455112,
          7.313220387090301,
          8.948975607841776,
          7.495541943884256,
          8.824677891164198,
          9.011889433252344,
          8.101677747454572
         ]
        }
       ],
       "layout": {
        "height": 500,
        "template": {
         "data": {
          "bar": [
           {
            "error_x": {
             "color": "#2a3f5f"
            },
            "error_y": {
             "color": "#2a3f5f"
            },
            "marker": {
             "line": {
              "color": "#E5ECF6",
              "width": 0.5
             },
             "pattern": {
              "fillmode": "overlay",
              "size": 10,
              "solidity": 0.2
             }
            },
            "type": "bar"
           }
          ],
          "barpolar": [
           {
            "marker": {
             "line": {
              "color": "#E5ECF6",
              "width": 0.5
             },
             "pattern": {
              "fillmode": "overlay",
              "size": 10,
              "solidity": 0.2
             }
            },
            "type": "barpolar"
           }
          ],
          "carpet": [
           {
            "aaxis": {
             "endlinecolor": "#2a3f5f",
             "gridcolor": "white",
             "linecolor": "white",
             "minorgridcolor": "white",
             "startlinecolor": "#2a3f5f"
            },
            "baxis": {
             "endlinecolor": "#2a3f5f",
             "gridcolor": "white",
             "linecolor": "white",
             "minorgridcolor": "white",
             "startlinecolor": "#2a3f5f"
            },
            "type": "carpet"
           }
          ],
          "choropleth": [
           {
            "colorbar": {
             "outlinewidth": 0,
             "ticks": ""
            },
            "type": "choropleth"
           }
          ],
          "contour": [
           {
            "colorbar": {
             "outlinewidth": 0,
             "ticks": ""
            },
            "colorscale": [
             [
              0,
              "#0d0887"
             ],
             [
              0.1111111111111111,
              "#46039f"
             ],
             [
              0.2222222222222222,
              "#7201a8"
             ],
             [
              0.3333333333333333,
              "#9c179e"
             ],
             [
              0.4444444444444444,
              "#bd3786"
             ],
             [
              0.5555555555555556,
              "#d8576b"
             ],
             [
              0.6666666666666666,
              "#ed7953"
             ],
             [
              0.7777777777777778,
              "#fb9f3a"
             ],
             [
              0.8888888888888888,
              "#fdca26"
             ],
             [
              1,
              "#f0f921"
             ]
            ],
            "type": "contour"
           }
          ],
          "contourcarpet": [
           {
            "colorbar": {
             "outlinewidth": 0,
             "ticks": ""
            },
            "type": "contourcarpet"
           }
          ],
          "heatmap": [
           {
            "colorbar": {
             "outlinewidth": 0,
             "ticks": ""
            },
            "colorscale": [
             [
              0,
              "#0d0887"
             ],
             [
              0.1111111111111111,
              "#46039f"
             ],
             [
              0.2222222222222222,
              "#7201a8"
             ],
             [
              0.3333333333333333,
              "#9c179e"
             ],
             [
              0.4444444444444444,
              "#bd3786"
             ],
             [
              0.5555555555555556,
              "#d8576b"
             ],
             [
              0.6666666666666666,
              "#ed7953"
             ],
             [
              0.7777777777777778,
              "#fb9f3a"
             ],
             [
              0.8888888888888888,
              "#fdca26"
             ],
             [
              1,
              "#f0f921"
             ]
            ],
            "type": "heatmap"
           }
          ],
          "heatmapgl": [
           {
            "colorbar": {
             "outlinewidth": 0,
             "ticks": ""
            },
            "colorscale": [
             [
              0,
              "#0d0887"
             ],
             [
              0.1111111111111111,
              "#46039f"
             ],
             [
              0.2222222222222222,
              "#7201a8"
             ],
             [
              0.3333333333333333,
              "#9c179e"
             ],
             [
              0.4444444444444444,
              "#bd3786"
             ],
             [
              0.5555555555555556,
              "#d8576b"
             ],
             [
              0.6666666666666666,
              "#ed7953"
             ],
             [
              0.7777777777777778,
              "#fb9f3a"
             ],
             [
              0.8888888888888888,
              "#fdca26"
             ],
             [
              1,
              "#f0f921"
             ]
            ],
            "type": "heatmapgl"
           }
          ],
          "histogram": [
           {
            "marker": {
             "pattern": {
              "fillmode": "overlay",
              "size": 10,
              "solidity": 0.2
             }
            },
            "type": "histogram"
           }
          ],
          "histogram2d": [
           {
            "colorbar": {
             "outlinewidth": 0,
             "ticks": ""
            },
            "colorscale": [
             [
              0,
              "#0d0887"
             ],
             [
              0.1111111111111111,
              "#46039f"
             ],
             [
              0.2222222222222222,
              "#7201a8"
             ],
             [
              0.3333333333333333,
              "#9c179e"
             ],
             [
              0.4444444444444444,
              "#bd3786"
             ],
             [
              0.5555555555555556,
              "#d8576b"
             ],
             [
              0.6666666666666666,
              "#ed7953"
             ],
             [
              0.7777777777777778,
              "#fb9f3a"
             ],
             [
              0.8888888888888888,
              "#fdca26"
             ],
             [
              1,
              "#f0f921"
             ]
            ],
            "type": "histogram2d"
           }
          ],
          "histogram2dcontour": [
           {
            "colorbar": {
             "outlinewidth": 0,
             "ticks": ""
            },
            "colorscale": [
             [
              0,
              "#0d0887"
             ],
             [
              0.1111111111111111,
              "#46039f"
             ],
             [
              0.2222222222222222,
              "#7201a8"
             ],
             [
              0.3333333333333333,
              "#9c179e"
             ],
             [
              0.4444444444444444,
              "#bd3786"
             ],
             [
              0.5555555555555556,
              "#d8576b"
             ],
             [
              0.6666666666666666,
              "#ed7953"
             ],
             [
              0.7777777777777778,
              "#fb9f3a"
             ],
             [
              0.8888888888888888,
              "#fdca26"
             ],
             [
              1,
              "#f0f921"
             ]
            ],
            "type": "histogram2dcontour"
           }
          ],
          "mesh3d": [
           {
            "colorbar": {
             "outlinewidth": 0,
             "ticks": ""
            },
            "type": "mesh3d"
           }
          ],
          "parcoords": [
           {
            "line": {
             "colorbar": {
              "outlinewidth": 0,
              "ticks": ""
             }
            },
            "type": "parcoords"
           }
          ],
          "pie": [
           {
            "automargin": true,
            "type": "pie"
           }
          ],
          "scatter": [
           {
            "fillpattern": {
             "fillmode": "overlay",
             "size": 10,
             "solidity": 0.2
            },
            "type": "scatter"
           }
          ],
          "scatter3d": [
           {
            "line": {
             "colorbar": {
              "outlinewidth": 0,
              "ticks": ""
             }
            },
            "marker": {
             "colorbar": {
              "outlinewidth": 0,
              "ticks": ""
             }
            },
            "type": "scatter3d"
           }
          ],
          "scattercarpet": [
           {
            "marker": {
             "colorbar": {
              "outlinewidth": 0,
              "ticks": ""
             }
            },
            "type": "scattercarpet"
           }
          ],
          "scattergeo": [
           {
            "marker": {
             "colorbar": {
              "outlinewidth": 0,
              "ticks": ""
             }
            },
            "type": "scattergeo"
           }
          ],
          "scattergl": [
           {
            "marker": {
             "colorbar": {
              "outlinewidth": 0,
              "ticks": ""
             }
            },
            "type": "scattergl"
           }
          ],
          "scattermapbox": [
           {
            "marker": {
             "colorbar": {
              "outlinewidth": 0,
              "ticks": ""
             }
            },
            "type": "scattermapbox"
           }
          ],
          "scatterpolar": [
           {
            "marker": {
             "colorbar": {
              "outlinewidth": 0,
              "ticks": ""
             }
            },
            "type": "scatterpolar"
           }
          ],
          "scatterpolargl": [
           {
            "marker": {
             "colorbar": {
              "outlinewidth": 0,
              "ticks": ""
             }
            },
            "type": "scatterpolargl"
           }
          ],
          "scatterternary": [
           {
            "marker": {
             "colorbar": {
              "outlinewidth": 0,
              "ticks": ""
             }
            },
            "type": "scatterternary"
           }
          ],
          "surface": [
           {
            "colorbar": {
             "outlinewidth": 0,
             "ticks": ""
            },
            "colorscale": [
             [
              0,
              "#0d0887"
             ],
             [
              0.1111111111111111,
              "#46039f"
             ],
             [
              0.2222222222222222,
              "#7201a8"
             ],
             [
              0.3333333333333333,
              "#9c179e"
             ],
             [
              0.4444444444444444,
              "#bd3786"
             ],
             [
              0.5555555555555556,
              "#d8576b"
             ],
             [
              0.6666666666666666,
              "#ed7953"
             ],
             [
              0.7777777777777778,
              "#fb9f3a"
             ],
             [
              0.8888888888888888,
              "#fdca26"
             ],
             [
              1,
              "#f0f921"
             ]
            ],
            "type": "surface"
           }
          ],
          "table": [
           {
            "cells": {
             "fill": {
              "color": "#EBF0F8"
             },
             "line": {
              "color": "white"
             }
            },
            "header": {
             "fill": {
              "color": "#C8D4E3"
             },
             "line": {
              "color": "white"
             }
            },
            "type": "table"
           }
          ]
         },
         "layout": {
          "annotationdefaults": {
           "arrowcolor": "#2a3f5f",
           "arrowhead": 0,
           "arrowwidth": 1
          },
          "autotypenumbers": "strict",
          "coloraxis": {
           "colorbar": {
            "outlinewidth": 0,
            "ticks": ""
           }
          },
          "colorscale": {
           "diverging": [
            [
             0,
             "#8e0152"
            ],
            [
             0.1,
             "#c51b7d"
            ],
            [
             0.2,
             "#de77ae"
            ],
            [
             0.3,
             "#f1b6da"
            ],
            [
             0.4,
             "#fde0ef"
            ],
            [
             0.5,
             "#f7f7f7"
            ],
            [
             0.6,
             "#e6f5d0"
            ],
            [
             0.7,
             "#b8e186"
            ],
            [
             0.8,
             "#7fbc41"
            ],
            [
             0.9,
             "#4d9221"
            ],
            [
             1,
             "#276419"
            ]
           ],
           "sequential": [
            [
             0,
             "#0d0887"
            ],
            [
             0.1111111111111111,
             "#46039f"
            ],
            [
             0.2222222222222222,
             "#7201a8"
            ],
            [
             0.3333333333333333,
             "#9c179e"
            ],
            [
             0.4444444444444444,
             "#bd3786"
            ],
            [
             0.5555555555555556,
             "#d8576b"
            ],
            [
             0.6666666666666666,
             "#ed7953"
            ],
            [
             0.7777777777777778,
             "#fb9f3a"
            ],
            [
             0.8888888888888888,
             "#fdca26"
            ],
            [
             1,
             "#f0f921"
            ]
           ],
           "sequentialminus": [
            [
             0,
             "#0d0887"
            ],
            [
             0.1111111111111111,
             "#46039f"
            ],
            [
             0.2222222222222222,
             "#7201a8"
            ],
            [
             0.3333333333333333,
             "#9c179e"
            ],
            [
             0.4444444444444444,
             "#bd3786"
            ],
            [
             0.5555555555555556,
             "#d8576b"
            ],
            [
             0.6666666666666666,
             "#ed7953"
            ],
            [
             0.7777777777777778,
             "#fb9f3a"
            ],
            [
             0.8888888888888888,
             "#fdca26"
            ],
            [
             1,
             "#f0f921"
            ]
           ]
          },
          "colorway": [
           "#636efa",
           "#EF553B",
           "#00cc96",
           "#ab63fa",
           "#FFA15A",
           "#19d3f3",
           "#FF6692",
           "#B6E880",
           "#FF97FF",
           "#FECB52"
          ],
          "font": {
           "color": "#2a3f5f"
          },
          "geo": {
           "bgcolor": "white",
           "lakecolor": "white",
           "landcolor": "#E5ECF6",
           "showlakes": true,
           "showland": true,
           "subunitcolor": "white"
          },
          "hoverlabel": {
           "align": "left"
          },
          "hovermode": "closest",
          "mapbox": {
           "style": "light"
          },
          "paper_bgcolor": "white",
          "plot_bgcolor": "#E5ECF6",
          "polar": {
           "angularaxis": {
            "gridcolor": "white",
            "linecolor": "white",
            "ticks": ""
           },
           "bgcolor": "#E5ECF6",
           "radialaxis": {
            "gridcolor": "white",
            "linecolor": "white",
            "ticks": ""
           }
          },
          "scene": {
           "xaxis": {
            "backgroundcolor": "#E5ECF6",
            "gridcolor": "white",
            "gridwidth": 2,
            "linecolor": "white",
            "showbackground": true,
            "ticks": "",
            "zerolinecolor": "white"
           },
           "yaxis": {
            "backgroundcolor": "#E5ECF6",
            "gridcolor": "white",
            "gridwidth": 2,
            "linecolor": "white",
            "showbackground": true,
            "ticks": "",
            "zerolinecolor": "white"
           },
           "zaxis": {
            "backgroundcolor": "#E5ECF6",
            "gridcolor": "white",
            "gridwidth": 2,
            "linecolor": "white",
            "showbackground": true,
            "ticks": "",
            "zerolinecolor": "white"
           }
          },
          "shapedefaults": {
           "line": {
            "color": "#2a3f5f"
           }
          },
          "ternary": {
           "aaxis": {
            "gridcolor": "white",
            "linecolor": "white",
            "ticks": ""
           },
           "baxis": {
            "gridcolor": "white",
            "linecolor": "white",
            "ticks": ""
           },
           "bgcolor": "#E5ECF6",
           "caxis": {
            "gridcolor": "white",
            "linecolor": "white",
            "ticks": ""
           }
          },
          "title": {
           "x": 0.05
          },
          "xaxis": {
           "automargin": true,
           "gridcolor": "white",
           "linecolor": "white",
           "ticks": "",
           "title": {
            "standoff": 15
           },
           "zerolinecolor": "white",
           "zerolinewidth": 2
          },
          "yaxis": {
           "automargin": true,
           "gridcolor": "white",
           "linecolor": "white",
           "ticks": "",
           "title": {
            "standoff": 15
           },
           "zerolinecolor": "white",
           "zerolinewidth": 2
          }
         }
        },
        "title": {
         "text": "LASSO:Observed target vs Predicted target using train data"
        },
        "width": 800,
        "xaxis": {
         "title": {
          "text": "Observed consult_cost"
         }
        },
        "yaxis": {
         "title": {
          "text": "Predicted consult_cost"
         }
        }
       }
      }
     },
     "metadata": {},
     "output_type": "display_data"
    }
   ],
   "source": [
    "\n",
    "fig = go.Figure()\n",
    "\n",
    "# scatter plot using test data\n",
    "fig.add_trace(go.Scatter(y=y_train, x=lasso.predict(x_train), mode='markers', marker=dict(color='blue')))\n",
    "\n",
    "# diagonal line to represent predictions\n",
    "fig.add_trace(go.Scatter(y=y_train, x=y_train, mode='lines', line=dict(color='red')))\n",
    "\n",
    "fig.update_layout(title='LASSO:Observed target vs Predicted target using train data', xaxis_title='Observed consult_cost', \n",
    "                  yaxis_title='Predicted consult_cost', width=800, height=500)\n",
    "fig.show()"
   ]
  }
 ],
 "metadata": {
  "kernelspec": {
   "display_name": "base",
   "language": "python",
   "name": "python3"
  },
  "language_info": {
   "codemirror_mode": {
    "name": "ipython",
    "version": 3
   },
   "file_extension": ".py",
   "mimetype": "text/x-python",
   "name": "python",
   "nbconvert_exporter": "python",
   "pygments_lexer": "ipython3",
   "version": "3.10.10"
  },
  "orig_nbformat": 4
 },
 "nbformat": 4,
 "nbformat_minor": 2
}
