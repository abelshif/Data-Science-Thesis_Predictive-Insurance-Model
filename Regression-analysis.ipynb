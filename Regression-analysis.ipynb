{
 "cells": [
  {
   "attachments": {},
   "cell_type": "markdown",
   "metadata": {},
   "source": [
    "# Regression Model Analysis: Predictive Model\n",
    "## Pre-processing\n"
   ]
  },
  {
   "cell_type": "code",
   "execution_count": 687,
   "metadata": {},
   "outputs": [],
   "source": [
    "# Importing useful libraries\n",
    "import numpy as np\n",
    "import pandas as pd\n",
    "from sklearn.preprocessing import RobustScaler\n",
    "from sklearn.model_selection import train_test_split\n",
    "from sklearn.metrics import mean_squared_error, r2_score\n",
    "import plotly.express as px\n",
    "import plotly.graph_objs as go\n",
    "import warnings"
   ]
  },
  {
   "cell_type": "code",
   "execution_count": 688,
   "metadata": {},
   "outputs": [],
   "source": [
    "warnings.filterwarnings(\"ignore\")"
   ]
  },
  {
   "attachments": {},
   "cell_type": "markdown",
   "metadata": {},
   "source": [
    "### Create dataframe"
   ]
  },
  {
   "cell_type": "code",
   "execution_count": 689,
   "metadata": {},
   "outputs": [
    {
     "data": {
      "text/plain": [
       "(250, 29)"
      ]
     },
     "execution_count": 689,
     "metadata": {},
     "output_type": "execute_result"
    }
   ],
   "source": [
    "# patient dataframe\n",
    "patient_dataframe = pd.read_csv('./Populated_data/patient.csv')\n",
    "patient_dataframe.shape"
   ]
  },
  {
   "cell_type": "code",
   "execution_count": 690,
   "metadata": {},
   "outputs": [
    {
     "data": {
      "text/plain": [
       "(214, 22)"
      ]
     },
     "execution_count": 690,
     "metadata": {},
     "output_type": "execute_result"
    }
   ],
   "source": [
    "# doctor dataframe\n",
    "doctor_dataframe = pd.read_csv('./Populated_data/doctor.csv')\n",
    "doctor_dataframe.shape"
   ]
  },
  {
   "cell_type": "code",
   "execution_count": 691,
   "metadata": {},
   "outputs": [
    {
     "data": {
      "text/plain": [
       "(520, 17)"
      ]
     },
     "execution_count": 691,
     "metadata": {},
     "output_type": "execute_result"
    }
   ],
   "source": [
    "# consultation dataframe\n",
    "consultation_dataframe = pd.read_csv('./Populated_data/consultation.csv')\n",
    "consultation_dataframe.shape"
   ]
  },
  {
   "attachments": {},
   "cell_type": "markdown",
   "metadata": {},
   "source": [
    "### Check duplicates"
   ]
  },
  {
   "cell_type": "code",
   "execution_count": 692,
   "metadata": {},
   "outputs": [
    {
     "data": {
      "text/html": [
       "<div>\n",
       "<style scoped>\n",
       "    .dataframe tbody tr th:only-of-type {\n",
       "        vertical-align: middle;\n",
       "    }\n",
       "\n",
       "    .dataframe tbody tr th {\n",
       "        vertical-align: top;\n",
       "    }\n",
       "\n",
       "    .dataframe thead th {\n",
       "        text-align: right;\n",
       "    }\n",
       "</style>\n",
       "<table border=\"1\" class=\"dataframe\">\n",
       "  <thead>\n",
       "    <tr style=\"text-align: right;\">\n",
       "      <th></th>\n",
       "      <th>patient_id</th>\n",
       "      <th>address</th>\n",
       "      <th>allergies</th>\n",
       "      <th>blood_type</th>\n",
       "      <th>closest_hospital</th>\n",
       "      <th>community</th>\n",
       "      <th>country</th>\n",
       "      <th>date_of_birth</th>\n",
       "      <th>disabilities</th>\n",
       "      <th>first_name</th>\n",
       "      <th>...</th>\n",
       "      <th>num_of_dependents</th>\n",
       "      <th>post_code</th>\n",
       "      <th>preferred_language</th>\n",
       "      <th>purpose_of_visit</th>\n",
       "      <th>state</th>\n",
       "      <th>sur_name</th>\n",
       "      <th>title</th>\n",
       "      <th>user_id</th>\n",
       "      <th>weight</th>\n",
       "      <th>hospital_id</th>\n",
       "    </tr>\n",
       "  </thead>\n",
       "  <tbody>\n",
       "  </tbody>\n",
       "</table>\n",
       "<p>0 rows × 29 columns</p>\n",
       "</div>"
      ],
      "text/plain": [
       "Empty DataFrame\n",
       "Columns: [patient_id, address, allergies, blood_type, closest_hospital, community, country, date_of_birth, disabilities, first_name, gender, has_children, has_dependent, height_cm, language, marital_status, medical_problems, national_id_number, num_of_children, num_of_dependents, post_code, preferred_language, purpose_of_visit, state, sur_name, title, user_id, weight, hospital_id]\n",
       "Index: []\n",
       "\n",
       "[0 rows x 29 columns]"
      ]
     },
     "execution_count": 692,
     "metadata": {},
     "output_type": "execute_result"
    }
   ],
   "source": [
    "# for patient dataframe\n",
    "patient_dataframe[patient_dataframe.duplicated()==True]"
   ]
  },
  {
   "cell_type": "code",
   "execution_count": 693,
   "metadata": {},
   "outputs": [
    {
     "data": {
      "text/html": [
       "<div>\n",
       "<style scoped>\n",
       "    .dataframe tbody tr th:only-of-type {\n",
       "        vertical-align: middle;\n",
       "    }\n",
       "\n",
       "    .dataframe tbody tr th {\n",
       "        vertical-align: top;\n",
       "    }\n",
       "\n",
       "    .dataframe thead th {\n",
       "        text-align: right;\n",
       "    }\n",
       "</style>\n",
       "<table border=\"1\" class=\"dataframe\">\n",
       "  <thead>\n",
       "    <tr style=\"text-align: right;\">\n",
       "      <th></th>\n",
       "      <th>doctor_id</th>\n",
       "      <th>approved</th>\n",
       "      <th>city</th>\n",
       "      <th>cv</th>\n",
       "      <th>date_of_birth</th>\n",
       "      <th>dependant_stand_by</th>\n",
       "      <th>full_name</th>\n",
       "      <th>doctor_gender</th>\n",
       "      <th>graduation_date</th>\n",
       "      <th>is_student</th>\n",
       "      <th>...</th>\n",
       "      <th>name_of_university</th>\n",
       "      <th>national_identification_number</th>\n",
       "      <th>office_address</th>\n",
       "      <th>reference_doctor_email</th>\n",
       "      <th>reference_doctor_full_name</th>\n",
       "      <th>reference_doctor_phone_number</th>\n",
       "      <th>state</th>\n",
       "      <th>student_number</th>\n",
       "      <th>system_status</th>\n",
       "      <th>title</th>\n",
       "    </tr>\n",
       "  </thead>\n",
       "  <tbody>\n",
       "  </tbody>\n",
       "</table>\n",
       "<p>0 rows × 22 columns</p>\n",
       "</div>"
      ],
      "text/plain": [
       "Empty DataFrame\n",
       "Columns: [doctor_id, approved, city, cv, date_of_birth, dependant_stand_by, full_name, doctor_gender, graduation_date, is_student, marital_status, mdcn_certificate_number, name_of_university, national_identification_number, office_address, reference_doctor_email, reference_doctor_full_name, reference_doctor_phone_number, state, student_number, system_status, title]\n",
       "Index: []\n",
       "\n",
       "[0 rows x 22 columns]"
      ]
     },
     "execution_count": 693,
     "metadata": {},
     "output_type": "execute_result"
    }
   ],
   "source": [
    "# for doctor dataframe\n",
    "doctor_dataframe[doctor_dataframe.duplicated()==True]"
   ]
  },
  {
   "cell_type": "code",
   "execution_count": 694,
   "metadata": {},
   "outputs": [
    {
     "data": {
      "text/html": [
       "<div>\n",
       "<style scoped>\n",
       "    .dataframe tbody tr th:only-of-type {\n",
       "        vertical-align: middle;\n",
       "    }\n",
       "\n",
       "    .dataframe tbody tr th {\n",
       "        vertical-align: top;\n",
       "    }\n",
       "\n",
       "    .dataframe thead th {\n",
       "        text-align: right;\n",
       "    }\n",
       "</style>\n",
       "<table border=\"1\" class=\"dataframe\">\n",
       "  <thead>\n",
       "    <tr style=\"text-align: right;\">\n",
       "      <th></th>\n",
       "      <th>id</th>\n",
       "      <th>consultation_cost</th>\n",
       "      <th>audio_detailed_description</th>\n",
       "      <th>patient_body_area</th>\n",
       "      <th>consent</th>\n",
       "      <th>doctor_full_name</th>\n",
       "      <th>doctor_id</th>\n",
       "      <th>language</th>\n",
       "      <th>patient_full_name</th>\n",
       "      <th>patient_id</th>\n",
       "      <th>patient_mobile</th>\n",
       "      <th>patient_status</th>\n",
       "      <th>time_accepted</th>\n",
       "      <th>time_booked</th>\n",
       "      <th>time_finished</th>\n",
       "      <th>time_started</th>\n",
       "      <th>transaction_reference</th>\n",
       "    </tr>\n",
       "  </thead>\n",
       "  <tbody>\n",
       "  </tbody>\n",
       "</table>\n",
       "</div>"
      ],
      "text/plain": [
       "Empty DataFrame\n",
       "Columns: [id, consultation_cost, audio_detailed_description, patient_body_area, consent, doctor_full_name, doctor_id, language, patient_full_name, patient_id, patient_mobile, patient_status, time_accepted, time_booked, time_finished, time_started, transaction_reference]\n",
       "Index: []"
      ]
     },
     "execution_count": 694,
     "metadata": {},
     "output_type": "execute_result"
    }
   ],
   "source": [
    "# for consultation dataframe\n",
    "consultation_dataframe[consultation_dataframe.duplicated()==True]"
   ]
  },
  {
   "attachments": {},
   "cell_type": "markdown",
   "metadata": {},
   "source": [
    "### Check missing value(s)"
   ]
  },
  {
   "cell_type": "code",
   "execution_count": 695,
   "metadata": {},
   "outputs": [
    {
     "data": {
      "text/html": [
       "<div>\n",
       "<style scoped>\n",
       "    .dataframe tbody tr th:only-of-type {\n",
       "        vertical-align: middle;\n",
       "    }\n",
       "\n",
       "    .dataframe tbody tr th {\n",
       "        vertical-align: top;\n",
       "    }\n",
       "\n",
       "    .dataframe thead th {\n",
       "        text-align: right;\n",
       "    }\n",
       "</style>\n",
       "<table border=\"1\" class=\"dataframe\">\n",
       "  <thead>\n",
       "    <tr style=\"text-align: right;\">\n",
       "      <th></th>\n",
       "      <th>Missing value</th>\n",
       "    </tr>\n",
       "  </thead>\n",
       "  <tbody>\n",
       "    <tr>\n",
       "      <th>allergies</th>\n",
       "      <td>80</td>\n",
       "    </tr>\n",
       "    <tr>\n",
       "      <th>medical_problems</th>\n",
       "      <td>50</td>\n",
       "    </tr>\n",
       "    <tr>\n",
       "      <th>disabilities</th>\n",
       "      <td>38</td>\n",
       "    </tr>\n",
       "  </tbody>\n",
       "</table>\n",
       "</div>"
      ],
      "text/plain": [
       "                  Missing value\n",
       "allergies                    80\n",
       "medical_problems             50\n",
       "disabilities                 38"
      ]
     },
     "execution_count": 695,
     "metadata": {},
     "output_type": "execute_result"
    }
   ],
   "source": [
    "# for patient dataframe\n",
    "nan=pd.DataFrame({'Missing value': patient_dataframe.isnull().sum().sort_values(ascending=False)})\n",
    "nan[nan['Missing value'] > 0]"
   ]
  },
  {
   "cell_type": "code",
   "execution_count": 696,
   "metadata": {},
   "outputs": [
    {
     "data": {
      "text/html": [
       "<div>\n",
       "<style scoped>\n",
       "    .dataframe tbody tr th:only-of-type {\n",
       "        vertical-align: middle;\n",
       "    }\n",
       "\n",
       "    .dataframe tbody tr th {\n",
       "        vertical-align: top;\n",
       "    }\n",
       "\n",
       "    .dataframe thead th {\n",
       "        text-align: right;\n",
       "    }\n",
       "</style>\n",
       "<table border=\"1\" class=\"dataframe\">\n",
       "  <thead>\n",
       "    <tr style=\"text-align: right;\">\n",
       "      <th></th>\n",
       "      <th>Missing value</th>\n",
       "    </tr>\n",
       "  </thead>\n",
       "  <tbody>\n",
       "    <tr>\n",
       "      <th>cv</th>\n",
       "      <td>214</td>\n",
       "    </tr>\n",
       "  </tbody>\n",
       "</table>\n",
       "</div>"
      ],
      "text/plain": [
       "    Missing value\n",
       "cv            214"
      ]
     },
     "execution_count": 696,
     "metadata": {},
     "output_type": "execute_result"
    }
   ],
   "source": [
    "# for doctor dataframe\n",
    "nan=pd.DataFrame({'Missing value': doctor_dataframe.isnull().sum().sort_values(ascending=False)})\n",
    "nan[nan['Missing value'] > 0]"
   ]
  },
  {
   "cell_type": "code",
   "execution_count": 697,
   "metadata": {},
   "outputs": [
    {
     "data": {
      "text/html": [
       "<div>\n",
       "<style scoped>\n",
       "    .dataframe tbody tr th:only-of-type {\n",
       "        vertical-align: middle;\n",
       "    }\n",
       "\n",
       "    .dataframe tbody tr th {\n",
       "        vertical-align: top;\n",
       "    }\n",
       "\n",
       "    .dataframe thead th {\n",
       "        text-align: right;\n",
       "    }\n",
       "</style>\n",
       "<table border=\"1\" class=\"dataframe\">\n",
       "  <thead>\n",
       "    <tr style=\"text-align: right;\">\n",
       "      <th></th>\n",
       "      <th>Missing value</th>\n",
       "    </tr>\n",
       "  </thead>\n",
       "  <tbody>\n",
       "    <tr>\n",
       "      <th>audio_detailed_description</th>\n",
       "      <td>520</td>\n",
       "    </tr>\n",
       "  </tbody>\n",
       "</table>\n",
       "</div>"
      ],
      "text/plain": [
       "                            Missing value\n",
       "audio_detailed_description            520"
      ]
     },
     "execution_count": 697,
     "metadata": {},
     "output_type": "execute_result"
    }
   ],
   "source": [
    "# for consultation dataframe\n",
    "nan=pd.DataFrame({'Missing value': consultation_dataframe.isnull().sum().sort_values(ascending=False)})\n",
    "nan[nan['Missing value'] > 0]"
   ]
  },
  {
   "attachments": {},
   "cell_type": "markdown",
   "metadata": {},
   "source": [
    "    N.B. Since medical data require medical examination, filling the missing variable(s) would be inappropriat. Hence droping missing variable(s) is recommended."
   ]
  },
  {
   "cell_type": "code",
   "execution_count": 698,
   "metadata": {},
   "outputs": [],
   "source": [
    "# Drop missing varaiables in patient dataframe\n",
    "patient_dataframe.dropna(axis=1, inplace=True)\n",
    "patient_dataframe.reset_index(drop=True, inplace=True)"
   ]
  },
  {
   "cell_type": "code",
   "execution_count": 699,
   "metadata": {},
   "outputs": [
    {
     "data": {
      "text/html": [
       "<div>\n",
       "<style scoped>\n",
       "    .dataframe tbody tr th:only-of-type {\n",
       "        vertical-align: middle;\n",
       "    }\n",
       "\n",
       "    .dataframe tbody tr th {\n",
       "        vertical-align: top;\n",
       "    }\n",
       "\n",
       "    .dataframe thead th {\n",
       "        text-align: right;\n",
       "    }\n",
       "</style>\n",
       "<table border=\"1\" class=\"dataframe\">\n",
       "  <thead>\n",
       "    <tr style=\"text-align: right;\">\n",
       "      <th></th>\n",
       "      <th>Missing value</th>\n",
       "    </tr>\n",
       "  </thead>\n",
       "  <tbody>\n",
       "  </tbody>\n",
       "</table>\n",
       "</div>"
      ],
      "text/plain": [
       "Empty DataFrame\n",
       "Columns: [Missing value]\n",
       "Index: []"
      ]
     },
     "execution_count": 699,
     "metadata": {},
     "output_type": "execute_result"
    }
   ],
   "source": [
    "nan=pd.DataFrame({'Missing value': patient_dataframe.isnull().sum().sort_values(ascending=False)})\n",
    "nan[nan['Missing value'] > 0]"
   ]
  },
  {
   "cell_type": "code",
   "execution_count": 700,
   "metadata": {},
   "outputs": [
    {
     "data": {
      "text/plain": [
       "(250, 26)"
      ]
     },
     "execution_count": 700,
     "metadata": {},
     "output_type": "execute_result"
    }
   ],
   "source": [
    "patient_dataframe.shape"
   ]
  },
  {
   "cell_type": "code",
   "execution_count": 701,
   "metadata": {},
   "outputs": [
    {
     "data": {
      "text/html": [
       "<div>\n",
       "<style scoped>\n",
       "    .dataframe tbody tr th:only-of-type {\n",
       "        vertical-align: middle;\n",
       "    }\n",
       "\n",
       "    .dataframe tbody tr th {\n",
       "        vertical-align: top;\n",
       "    }\n",
       "\n",
       "    .dataframe thead th {\n",
       "        text-align: right;\n",
       "    }\n",
       "</style>\n",
       "<table border=\"1\" class=\"dataframe\">\n",
       "  <thead>\n",
       "    <tr style=\"text-align: right;\">\n",
       "      <th></th>\n",
       "      <th>patient_id</th>\n",
       "      <th>address</th>\n",
       "      <th>blood_type</th>\n",
       "      <th>closest_hospital</th>\n",
       "      <th>community</th>\n",
       "      <th>country</th>\n",
       "      <th>date_of_birth</th>\n",
       "      <th>first_name</th>\n",
       "      <th>gender</th>\n",
       "      <th>has_children</th>\n",
       "      <th>...</th>\n",
       "      <th>num_of_dependents</th>\n",
       "      <th>post_code</th>\n",
       "      <th>preferred_language</th>\n",
       "      <th>purpose_of_visit</th>\n",
       "      <th>state</th>\n",
       "      <th>sur_name</th>\n",
       "      <th>title</th>\n",
       "      <th>user_id</th>\n",
       "      <th>weight</th>\n",
       "      <th>hospital_id</th>\n",
       "    </tr>\n",
       "  </thead>\n",
       "  <tbody>\n",
       "    <tr>\n",
       "      <th>0</th>\n",
       "      <td>1</td>\n",
       "      <td>Ap #266-429 Velit St.</td>\n",
       "      <td>AB+</td>\n",
       "      <td>Blue Cross Hospital</td>\n",
       "      <td>suburban</td>\n",
       "      <td>nigeria</td>\n",
       "      <td>4/13/2009</td>\n",
       "      <td>ACRA</td>\n",
       "      <td>Female</td>\n",
       "      <td>Yes</td>\n",
       "      <td>...</td>\n",
       "      <td>2</td>\n",
       "      <td>10201</td>\n",
       "      <td>english</td>\n",
       "      <td>medical examination</td>\n",
       "      <td>Lagos</td>\n",
       "      <td>SMITH</td>\n",
       "      <td>Mrs.</td>\n",
       "      <td>1</td>\n",
       "      <td>69</td>\n",
       "      <td>1</td>\n",
       "    </tr>\n",
       "    <tr>\n",
       "      <th>1</th>\n",
       "      <td>2</td>\n",
       "      <td>315-4283 Nam Street</td>\n",
       "      <td>O-</td>\n",
       "      <td>Krown Hospital</td>\n",
       "      <td>suburban</td>\n",
       "      <td>nigeria</td>\n",
       "      <td>7/8/2011</td>\n",
       "      <td>ADOLPH</td>\n",
       "      <td>Male</td>\n",
       "      <td>Yes</td>\n",
       "      <td>...</td>\n",
       "      <td>2</td>\n",
       "      <td>12224</td>\n",
       "      <td>english</td>\n",
       "      <td>medical examination</td>\n",
       "      <td>Lagos</td>\n",
       "      <td>NEILON</td>\n",
       "      <td>Mr.</td>\n",
       "      <td>2</td>\n",
       "      <td>80</td>\n",
       "      <td>1</td>\n",
       "    </tr>\n",
       "    <tr>\n",
       "      <th>2</th>\n",
       "      <td>3</td>\n",
       "      <td>921-1491 Nonummy Ave</td>\n",
       "      <td>A-</td>\n",
       "      <td>Ave Maria Hospital</td>\n",
       "      <td>suburban</td>\n",
       "      <td>nigeria</td>\n",
       "      <td>12/30/2000</td>\n",
       "      <td>ANKI</td>\n",
       "      <td>Male</td>\n",
       "      <td>Yes</td>\n",
       "      <td>...</td>\n",
       "      <td>3</td>\n",
       "      <td>53510</td>\n",
       "      <td>english</td>\n",
       "      <td>medical examination</td>\n",
       "      <td>Lagos</td>\n",
       "      <td>HENDRI</td>\n",
       "      <td>Mr.</td>\n",
       "      <td>3</td>\n",
       "      <td>67</td>\n",
       "      <td>1</td>\n",
       "    </tr>\n",
       "    <tr>\n",
       "      <th>3</th>\n",
       "      <td>4</td>\n",
       "      <td>Ap #299-4324 Mauris Avenue</td>\n",
       "      <td>O-</td>\n",
       "      <td>Isolo General Hospital</td>\n",
       "      <td>urban</td>\n",
       "      <td>nigeria</td>\n",
       "      <td>9/15/1987</td>\n",
       "      <td>GARBO</td>\n",
       "      <td>Male</td>\n",
       "      <td>No</td>\n",
       "      <td>...</td>\n",
       "      <td>3</td>\n",
       "      <td>25193</td>\n",
       "      <td>english</td>\n",
       "      <td>medical examination</td>\n",
       "      <td>Lagos</td>\n",
       "      <td>SHARRON</td>\n",
       "      <td>Mr.</td>\n",
       "      <td>4</td>\n",
       "      <td>74</td>\n",
       "      <td>1</td>\n",
       "    </tr>\n",
       "    <tr>\n",
       "      <th>4</th>\n",
       "      <td>5</td>\n",
       "      <td>P.O. Box 913, 6976 Magnis Rd.</td>\n",
       "      <td>O-</td>\n",
       "      <td>Lagoon Hospitals</td>\n",
       "      <td>rural</td>\n",
       "      <td>nigeria</td>\n",
       "      <td>10/10/2002</td>\n",
       "      <td>ADONAI</td>\n",
       "      <td>Female</td>\n",
       "      <td>No</td>\n",
       "      <td>...</td>\n",
       "      <td>1</td>\n",
       "      <td>37171</td>\n",
       "      <td>english</td>\n",
       "      <td>medical examination</td>\n",
       "      <td>Lagos</td>\n",
       "      <td>NEIVA</td>\n",
       "      <td>Ms.</td>\n",
       "      <td>5</td>\n",
       "      <td>62</td>\n",
       "      <td>1</td>\n",
       "    </tr>\n",
       "  </tbody>\n",
       "</table>\n",
       "<p>5 rows × 26 columns</p>\n",
       "</div>"
      ],
      "text/plain": [
       "   patient_id                        address blood_type  \\\n",
       "0           1          Ap #266-429 Velit St.        AB+   \n",
       "1           2            315-4283 Nam Street         O-   \n",
       "2           3           921-1491 Nonummy Ave         A-   \n",
       "3           4     Ap #299-4324 Mauris Avenue         O-   \n",
       "4           5  P.O. Box 913, 6976 Magnis Rd.         O-   \n",
       "\n",
       "         closest_hospital community  country date_of_birth first_name  gender  \\\n",
       "0     Blue Cross Hospital  suburban  nigeria     4/13/2009       ACRA  Female   \n",
       "1          Krown Hospital  suburban  nigeria      7/8/2011     ADOLPH    Male   \n",
       "2      Ave Maria Hospital  suburban  nigeria    12/30/2000       ANKI    Male   \n",
       "3  Isolo General Hospital     urban  nigeria     9/15/1987      GARBO    Male   \n",
       "4        Lagoon Hospitals     rural  nigeria    10/10/2002     ADONAI  Female   \n",
       "\n",
       "  has_children  ... num_of_dependents  post_code preferred_language  \\\n",
       "0          Yes  ...                 2      10201            english   \n",
       "1          Yes  ...                 2      12224            english   \n",
       "2          Yes  ...                 3      53510            english   \n",
       "3           No  ...                 3      25193            english   \n",
       "4           No  ...                 1      37171            english   \n",
       "\n",
       "      purpose_of_visit  state  sur_name  title  user_id weight hospital_id  \n",
       "0  medical examination  Lagos     SMITH   Mrs.        1     69           1  \n",
       "1  medical examination  Lagos    NEILON    Mr.        2     80           1  \n",
       "2  medical examination  Lagos    HENDRI    Mr.        3     67           1  \n",
       "3  medical examination  Lagos   SHARRON    Mr.        4     74           1  \n",
       "4  medical examination  Lagos     NEIVA    Ms.        5     62           1  \n",
       "\n",
       "[5 rows x 26 columns]"
      ]
     },
     "execution_count": 701,
     "metadata": {},
     "output_type": "execute_result"
    }
   ],
   "source": [
    "patient_dataframe.head()"
   ]
  },
  {
   "cell_type": "code",
   "execution_count": 702,
   "metadata": {},
   "outputs": [],
   "source": [
    "# cleaned patient dataset\n",
    "patient_dataframe.to_csv('cleaned_patient.csv', index=False)"
   ]
  },
  {
   "cell_type": "code",
   "execution_count": 703,
   "metadata": {},
   "outputs": [],
   "source": [
    "# Drop missing varaiables in doctor dataframe\n",
    "doctor_dataframe.dropna(axis=1, inplace=True)\n",
    "doctor_dataframe.reset_index(drop=True, inplace=True)"
   ]
  },
  {
   "cell_type": "code",
   "execution_count": 704,
   "metadata": {},
   "outputs": [
    {
     "data": {
      "text/html": [
       "<div>\n",
       "<style scoped>\n",
       "    .dataframe tbody tr th:only-of-type {\n",
       "        vertical-align: middle;\n",
       "    }\n",
       "\n",
       "    .dataframe tbody tr th {\n",
       "        vertical-align: top;\n",
       "    }\n",
       "\n",
       "    .dataframe thead th {\n",
       "        text-align: right;\n",
       "    }\n",
       "</style>\n",
       "<table border=\"1\" class=\"dataframe\">\n",
       "  <thead>\n",
       "    <tr style=\"text-align: right;\">\n",
       "      <th></th>\n",
       "      <th>Missing value</th>\n",
       "    </tr>\n",
       "  </thead>\n",
       "  <tbody>\n",
       "  </tbody>\n",
       "</table>\n",
       "</div>"
      ],
      "text/plain": [
       "Empty DataFrame\n",
       "Columns: [Missing value]\n",
       "Index: []"
      ]
     },
     "execution_count": 704,
     "metadata": {},
     "output_type": "execute_result"
    }
   ],
   "source": [
    "nan=pd.DataFrame({'Missing value': doctor_dataframe.isnull().sum().sort_values(ascending=False)})\n",
    "nan[nan['Missing value'] > 0]"
   ]
  },
  {
   "cell_type": "code",
   "execution_count": 705,
   "metadata": {},
   "outputs": [
    {
     "data": {
      "text/plain": [
       "(214, 21)"
      ]
     },
     "execution_count": 705,
     "metadata": {},
     "output_type": "execute_result"
    }
   ],
   "source": [
    "doctor_dataframe.shape"
   ]
  },
  {
   "cell_type": "code",
   "execution_count": 706,
   "metadata": {},
   "outputs": [
    {
     "data": {
      "text/html": [
       "<div>\n",
       "<style scoped>\n",
       "    .dataframe tbody tr th:only-of-type {\n",
       "        vertical-align: middle;\n",
       "    }\n",
       "\n",
       "    .dataframe tbody tr th {\n",
       "        vertical-align: top;\n",
       "    }\n",
       "\n",
       "    .dataframe thead th {\n",
       "        text-align: right;\n",
       "    }\n",
       "</style>\n",
       "<table border=\"1\" class=\"dataframe\">\n",
       "  <thead>\n",
       "    <tr style=\"text-align: right;\">\n",
       "      <th></th>\n",
       "      <th>doctor_id</th>\n",
       "      <th>approved</th>\n",
       "      <th>city</th>\n",
       "      <th>date_of_birth</th>\n",
       "      <th>dependant_stand_by</th>\n",
       "      <th>full_name</th>\n",
       "      <th>doctor_gender</th>\n",
       "      <th>graduation_date</th>\n",
       "      <th>is_student</th>\n",
       "      <th>marital_status</th>\n",
       "      <th>...</th>\n",
       "      <th>name_of_university</th>\n",
       "      <th>national_identification_number</th>\n",
       "      <th>office_address</th>\n",
       "      <th>reference_doctor_email</th>\n",
       "      <th>reference_doctor_full_name</th>\n",
       "      <th>reference_doctor_phone_number</th>\n",
       "      <th>state</th>\n",
       "      <th>student_number</th>\n",
       "      <th>system_status</th>\n",
       "      <th>title</th>\n",
       "    </tr>\n",
       "  </thead>\n",
       "  <tbody>\n",
       "    <tr>\n",
       "      <th>0</th>\n",
       "      <td>1</td>\n",
       "      <td>Yes</td>\n",
       "      <td>Lagos</td>\n",
       "      <td>8/5/1972</td>\n",
       "      <td>1</td>\n",
       "      <td>ACRA SMITH</td>\n",
       "      <td>Male</td>\n",
       "      <td>9/6/2019</td>\n",
       "      <td>No</td>\n",
       "      <td>Married</td>\n",
       "      <td>...</td>\n",
       "      <td>Caleb University- Lagos</td>\n",
       "      <td>1122458</td>\n",
       "      <td>618-3434 Sagittis Av.</td>\n",
       "      <td>acrasmith@gmail.com</td>\n",
       "      <td>ACRA SMITH</td>\n",
       "      <td>53488888</td>\n",
       "      <td>Lagos</td>\n",
       "      <td>2710</td>\n",
       "      <td>very good</td>\n",
       "      <td>Mr.</td>\n",
       "    </tr>\n",
       "    <tr>\n",
       "      <th>1</th>\n",
       "      <td>2</td>\n",
       "      <td>Yes</td>\n",
       "      <td>Lagos</td>\n",
       "      <td>7/12/1989</td>\n",
       "      <td>2</td>\n",
       "      <td>ADOLPH NEILON</td>\n",
       "      <td>Female</td>\n",
       "      <td>6/25/2006</td>\n",
       "      <td>Yes</td>\n",
       "      <td>Married</td>\n",
       "      <td>...</td>\n",
       "      <td>National Open University of Nigeria- Lagos</td>\n",
       "      <td>4563751</td>\n",
       "      <td>405-9892 Ultrices Rd.</td>\n",
       "      <td>adolphneilon@gmail.com</td>\n",
       "      <td>ADOLPH NEILON</td>\n",
       "      <td>50989139</td>\n",
       "      <td>Lagos</td>\n",
       "      <td>5370</td>\n",
       "      <td>good</td>\n",
       "      <td>Ms.</td>\n",
       "    </tr>\n",
       "    <tr>\n",
       "      <th>2</th>\n",
       "      <td>3</td>\n",
       "      <td>Yes</td>\n",
       "      <td>Lagos</td>\n",
       "      <td>9/30/1965</td>\n",
       "      <td>1</td>\n",
       "      <td>ANKI HENDRI</td>\n",
       "      <td>Male</td>\n",
       "      <td>12/20/2008</td>\n",
       "      <td>Yes</td>\n",
       "      <td>Married</td>\n",
       "      <td>...</td>\n",
       "      <td>James Hope University- Lagos</td>\n",
       "      <td>1877514</td>\n",
       "      <td>Ap #561-9293 Sociis St.</td>\n",
       "      <td>ankihendri@gmail.com</td>\n",
       "      <td>ANKI HENDRI</td>\n",
       "      <td>42144921</td>\n",
       "      <td>Lagos</td>\n",
       "      <td>6696</td>\n",
       "      <td>excellent</td>\n",
       "      <td>Mr.</td>\n",
       "    </tr>\n",
       "    <tr>\n",
       "      <th>3</th>\n",
       "      <td>4</td>\n",
       "      <td>Yes</td>\n",
       "      <td>Lagos</td>\n",
       "      <td>8/12/1964</td>\n",
       "      <td>1</td>\n",
       "      <td>GARBO SHARRON</td>\n",
       "      <td>Male</td>\n",
       "      <td>8/22/2013</td>\n",
       "      <td>No</td>\n",
       "      <td>Married</td>\n",
       "      <td>...</td>\n",
       "      <td>Lagos State University of Science and Technolo...</td>\n",
       "      <td>2513477</td>\n",
       "      <td>Ap #381-3175 Sed, Street</td>\n",
       "      <td>garbosharron@gmail.com</td>\n",
       "      <td>GARBO SHARRON</td>\n",
       "      <td>52477143</td>\n",
       "      <td>Lagos</td>\n",
       "      <td>4343</td>\n",
       "      <td>fair</td>\n",
       "      <td>Mr.</td>\n",
       "    </tr>\n",
       "    <tr>\n",
       "      <th>4</th>\n",
       "      <td>5</td>\n",
       "      <td>Yes</td>\n",
       "      <td>Lagos</td>\n",
       "      <td>12/5/1963</td>\n",
       "      <td>0</td>\n",
       "      <td>ADONAI NEIVA</td>\n",
       "      <td>Female</td>\n",
       "      <td>12/28/2021</td>\n",
       "      <td>No</td>\n",
       "      <td>Married</td>\n",
       "      <td>...</td>\n",
       "      <td>Lagos State University of Science and Technolo...</td>\n",
       "      <td>3463224</td>\n",
       "      <td>Ap #230-5566 Amet, St.</td>\n",
       "      <td>adonaineiva@gmail.com</td>\n",
       "      <td>ADONAI NEIVA</td>\n",
       "      <td>29517478</td>\n",
       "      <td>Lagos</td>\n",
       "      <td>4300</td>\n",
       "      <td>very good</td>\n",
       "      <td>Ms.</td>\n",
       "    </tr>\n",
       "  </tbody>\n",
       "</table>\n",
       "<p>5 rows × 21 columns</p>\n",
       "</div>"
      ],
      "text/plain": [
       "   doctor_id approved   city date_of_birth  dependant_stand_by      full_name  \\\n",
       "0          1      Yes  Lagos      8/5/1972                   1     ACRA SMITH   \n",
       "1          2      Yes  Lagos     7/12/1989                   2  ADOLPH NEILON   \n",
       "2          3      Yes  Lagos     9/30/1965                   1    ANKI HENDRI   \n",
       "3          4      Yes  Lagos     8/12/1964                   1  GARBO SHARRON   \n",
       "4          5      Yes  Lagos     12/5/1963                   0   ADONAI NEIVA   \n",
       "\n",
       "  doctor_gender graduation_date is_student marital_status  ...  \\\n",
       "0          Male        9/6/2019         No        Married  ...   \n",
       "1        Female       6/25/2006        Yes        Married  ...   \n",
       "2          Male      12/20/2008        Yes        Married  ...   \n",
       "3          Male       8/22/2013         No        Married  ...   \n",
       "4        Female      12/28/2021         No        Married  ...   \n",
       "\n",
       "                                  name_of_university  \\\n",
       "0                            Caleb University- Lagos   \n",
       "1         National Open University of Nigeria- Lagos   \n",
       "2                       James Hope University- Lagos   \n",
       "3  Lagos State University of Science and Technolo...   \n",
       "4  Lagos State University of Science and Technolo...   \n",
       "\n",
       "  national_identification_number            office_address  \\\n",
       "0                        1122458     618-3434 Sagittis Av.   \n",
       "1                        4563751     405-9892 Ultrices Rd.   \n",
       "2                        1877514   Ap #561-9293 Sociis St.   \n",
       "3                        2513477  Ap #381-3175 Sed, Street   \n",
       "4                        3463224    Ap #230-5566 Amet, St.   \n",
       "\n",
       "   reference_doctor_email reference_doctor_full_name  \\\n",
       "0     acrasmith@gmail.com                 ACRA SMITH   \n",
       "1  adolphneilon@gmail.com              ADOLPH NEILON   \n",
       "2    ankihendri@gmail.com                ANKI HENDRI   \n",
       "3  garbosharron@gmail.com              GARBO SHARRON   \n",
       "4   adonaineiva@gmail.com               ADONAI NEIVA   \n",
       "\n",
       "  reference_doctor_phone_number  state student_number  system_status title  \n",
       "0                      53488888  Lagos           2710      very good   Mr.  \n",
       "1                      50989139  Lagos           5370           good   Ms.  \n",
       "2                      42144921  Lagos           6696      excellent   Mr.  \n",
       "3                      52477143  Lagos           4343           fair   Mr.  \n",
       "4                      29517478  Lagos           4300      very good   Ms.  \n",
       "\n",
       "[5 rows x 21 columns]"
      ]
     },
     "execution_count": 706,
     "metadata": {},
     "output_type": "execute_result"
    }
   ],
   "source": [
    "doctor_dataframe.head()"
   ]
  },
  {
   "cell_type": "code",
   "execution_count": 707,
   "metadata": {},
   "outputs": [],
   "source": [
    "# cleaned doctor dataset\n",
    "doctor_dataframe.to_csv('cleaned_doctor.csv', index=False)"
   ]
  },
  {
   "cell_type": "code",
   "execution_count": 708,
   "metadata": {},
   "outputs": [],
   "source": [
    "# Drop missing varaiables in consultation dataframe\n",
    "consultation_dataframe.dropna(axis=1, inplace=True)\n",
    "consultation_dataframe.reset_index(drop=True, inplace=True)"
   ]
  },
  {
   "cell_type": "code",
   "execution_count": 709,
   "metadata": {},
   "outputs": [
    {
     "data": {
      "text/html": [
       "<div>\n",
       "<style scoped>\n",
       "    .dataframe tbody tr th:only-of-type {\n",
       "        vertical-align: middle;\n",
       "    }\n",
       "\n",
       "    .dataframe tbody tr th {\n",
       "        vertical-align: top;\n",
       "    }\n",
       "\n",
       "    .dataframe thead th {\n",
       "        text-align: right;\n",
       "    }\n",
       "</style>\n",
       "<table border=\"1\" class=\"dataframe\">\n",
       "  <thead>\n",
       "    <tr style=\"text-align: right;\">\n",
       "      <th></th>\n",
       "      <th>Missing value</th>\n",
       "    </tr>\n",
       "  </thead>\n",
       "  <tbody>\n",
       "  </tbody>\n",
       "</table>\n",
       "</div>"
      ],
      "text/plain": [
       "Empty DataFrame\n",
       "Columns: [Missing value]\n",
       "Index: []"
      ]
     },
     "execution_count": 709,
     "metadata": {},
     "output_type": "execute_result"
    }
   ],
   "source": [
    "nan=pd.DataFrame({'Missing value': consultation_dataframe.isnull().sum().sort_values(ascending=False)})\n",
    "nan[nan['Missing value'] > 0]"
   ]
  },
  {
   "cell_type": "code",
   "execution_count": 710,
   "metadata": {},
   "outputs": [
    {
     "data": {
      "text/plain": [
       "(520, 16)"
      ]
     },
     "execution_count": 710,
     "metadata": {},
     "output_type": "execute_result"
    }
   ],
   "source": [
    "consultation_dataframe.shape"
   ]
  },
  {
   "cell_type": "code",
   "execution_count": 711,
   "metadata": {},
   "outputs": [
    {
     "data": {
      "text/html": [
       "<div>\n",
       "<style scoped>\n",
       "    .dataframe tbody tr th:only-of-type {\n",
       "        vertical-align: middle;\n",
       "    }\n",
       "\n",
       "    .dataframe tbody tr th {\n",
       "        vertical-align: top;\n",
       "    }\n",
       "\n",
       "    .dataframe thead th {\n",
       "        text-align: right;\n",
       "    }\n",
       "</style>\n",
       "<table border=\"1\" class=\"dataframe\">\n",
       "  <thead>\n",
       "    <tr style=\"text-align: right;\">\n",
       "      <th></th>\n",
       "      <th>id</th>\n",
       "      <th>consultation_cost</th>\n",
       "      <th>patient_body_area</th>\n",
       "      <th>consent</th>\n",
       "      <th>doctor_full_name</th>\n",
       "      <th>doctor_id</th>\n",
       "      <th>language</th>\n",
       "      <th>patient_full_name</th>\n",
       "      <th>patient_id</th>\n",
       "      <th>patient_mobile</th>\n",
       "      <th>patient_status</th>\n",
       "      <th>time_accepted</th>\n",
       "      <th>time_booked</th>\n",
       "      <th>time_finished</th>\n",
       "      <th>time_started</th>\n",
       "      <th>transaction_reference</th>\n",
       "    </tr>\n",
       "  </thead>\n",
       "  <tbody>\n",
       "    <tr>\n",
       "      <th>0</th>\n",
       "      <td>1</td>\n",
       "      <td>1900</td>\n",
       "      <td>legs</td>\n",
       "      <td>Yes</td>\n",
       "      <td>ACRA SMITH</td>\n",
       "      <td>1</td>\n",
       "      <td>english</td>\n",
       "      <td>ADRIATIK NELL</td>\n",
       "      <td>100</td>\n",
       "      <td>6780843</td>\n",
       "      <td>under appointment</td>\n",
       "      <td>13:30</td>\n",
       "      <td>2:00 PM</td>\n",
       "      <td>5:10 PM</td>\n",
       "      <td>3:10 PM</td>\n",
       "      <td>1</td>\n",
       "    </tr>\n",
       "    <tr>\n",
       "      <th>1</th>\n",
       "      <td>2</td>\n",
       "      <td>9100</td>\n",
       "      <td>chest area</td>\n",
       "      <td>Yes</td>\n",
       "      <td>ADOLPH NEILON</td>\n",
       "      <td>2</td>\n",
       "      <td>english</td>\n",
       "      <td>ANNAMARIE HERA</td>\n",
       "      <td>72</td>\n",
       "      <td>4272348</td>\n",
       "      <td>new consultation</td>\n",
       "      <td>10:15</td>\n",
       "      <td>10:45 AM</td>\n",
       "      <td>12:45 PM</td>\n",
       "      <td>11:45 AM</td>\n",
       "      <td>2</td>\n",
       "    </tr>\n",
       "    <tr>\n",
       "      <th>2</th>\n",
       "      <td>3</td>\n",
       "      <td>8200</td>\n",
       "      <td>head</td>\n",
       "      <td>Yes</td>\n",
       "      <td>ANKI HENDRI</td>\n",
       "      <td>3</td>\n",
       "      <td>english</td>\n",
       "      <td>GARRICK SHATISHA</td>\n",
       "      <td>150</td>\n",
       "      <td>6183602</td>\n",
       "      <td>new consultation</td>\n",
       "      <td>8:45</td>\n",
       "      <td>9:35 AM</td>\n",
       "      <td>12:15 PM</td>\n",
       "      <td>10:35 AM</td>\n",
       "      <td>3</td>\n",
       "    </tr>\n",
       "    <tr>\n",
       "      <th>3</th>\n",
       "      <td>4</td>\n",
       "      <td>5600</td>\n",
       "      <td>back</td>\n",
       "      <td>Yes</td>\n",
       "      <td>GARBO SHARRON</td>\n",
       "      <td>4</td>\n",
       "      <td>english</td>\n",
       "      <td>ADRIELLE NELLI</td>\n",
       "      <td>27</td>\n",
       "      <td>6822469</td>\n",
       "      <td>appointed session</td>\n",
       "      <td>13:15</td>\n",
       "      <td>1:55 PM</td>\n",
       "      <td>4:35 PM</td>\n",
       "      <td>2:45 PM</td>\n",
       "      <td>4</td>\n",
       "    </tr>\n",
       "    <tr>\n",
       "      <th>4</th>\n",
       "      <td>5</td>\n",
       "      <td>1200</td>\n",
       "      <td>stomach</td>\n",
       "      <td>Yes</td>\n",
       "      <td>ADONAI NEIVA</td>\n",
       "      <td>5</td>\n",
       "      <td>english</td>\n",
       "      <td>ANNASTASIA HERARD</td>\n",
       "      <td>191</td>\n",
       "      <td>7229498</td>\n",
       "      <td>new consultation</td>\n",
       "      <td>9:00</td>\n",
       "      <td>9:30 AM</td>\n",
       "      <td>11:20 AM</td>\n",
       "      <td>10:30 AM</td>\n",
       "      <td>5</td>\n",
       "    </tr>\n",
       "  </tbody>\n",
       "</table>\n",
       "</div>"
      ],
      "text/plain": [
       "   id  consultation_cost patient_body_area consent doctor_full_name  \\\n",
       "0   1               1900              legs     Yes       ACRA SMITH   \n",
       "1   2               9100        chest area     Yes    ADOLPH NEILON   \n",
       "2   3               8200              head     Yes      ANKI HENDRI   \n",
       "3   4               5600              back     Yes    GARBO SHARRON   \n",
       "4   5               1200           stomach     Yes     ADONAI NEIVA   \n",
       "\n",
       "   doctor_id language  patient_full_name  patient_id  patient_mobile  \\\n",
       "0          1  english      ADRIATIK NELL         100         6780843   \n",
       "1          2  english     ANNAMARIE HERA          72         4272348   \n",
       "2          3  english   GARRICK SHATISHA         150         6183602   \n",
       "3          4  english     ADRIELLE NELLI          27         6822469   \n",
       "4          5  english  ANNASTASIA HERARD         191         7229498   \n",
       "\n",
       "      patient_status time_accepted time_booked time_finished time_started  \\\n",
       "0  under appointment         13:30     2:00 PM       5:10 PM      3:10 PM   \n",
       "1   new consultation         10:15    10:45 AM      12:45 PM     11:45 AM   \n",
       "2   new consultation          8:45     9:35 AM      12:15 PM     10:35 AM   \n",
       "3  appointed session         13:15     1:55 PM       4:35 PM      2:45 PM   \n",
       "4   new consultation          9:00     9:30 AM      11:20 AM     10:30 AM   \n",
       "\n",
       "   transaction_reference  \n",
       "0                      1  \n",
       "1                      2  \n",
       "2                      3  \n",
       "3                      4  \n",
       "4                      5  "
      ]
     },
     "execution_count": 711,
     "metadata": {},
     "output_type": "execute_result"
    }
   ],
   "source": [
    "consultation_dataframe.head()"
   ]
  },
  {
   "cell_type": "code",
   "execution_count": 712,
   "metadata": {},
   "outputs": [],
   "source": [
    "# cleaned consultation dataset\n",
    "consultation_dataframe.to_csv('cleaned_consultation.csv', index=False)"
   ]
  },
  {
   "attachments": {},
   "cell_type": "markdown",
   "metadata": {},
   "source": [
    "### Creating the new simulated dataset via merg"
   ]
  },
  {
   "cell_type": "code",
   "execution_count": 713,
   "metadata": {},
   "outputs": [],
   "source": [
    "# Calculate variable age using variable date_of_birth in the patient_dataframe\n",
    "\n",
    "from datetime import datetime\n",
    "\n",
    "# Convert date_of_birth column to datetime\n",
    "patient_dataframe['date_of_birth'] = pd.to_datetime(patient_dataframe['date_of_birth'])\n",
    "\n",
    "# Calculate age by subtracting date_of_birth from current date\n",
    "patient_dataframe['age'] = (datetime.now() - patient_dataframe['date_of_birth']) // pd.Timedelta(days=365)\n"
   ]
  },
  {
   "cell_type": "code",
   "execution_count": 714,
   "metadata": {},
   "outputs": [
    {
     "data": {
      "text/html": [
       "<div>\n",
       "<style scoped>\n",
       "    .dataframe tbody tr th:only-of-type {\n",
       "        vertical-align: middle;\n",
       "    }\n",
       "\n",
       "    .dataframe tbody tr th {\n",
       "        vertical-align: top;\n",
       "    }\n",
       "\n",
       "    .dataframe thead th {\n",
       "        text-align: right;\n",
       "    }\n",
       "</style>\n",
       "<table border=\"1\" class=\"dataframe\">\n",
       "  <thead>\n",
       "    <tr style=\"text-align: right;\">\n",
       "      <th></th>\n",
       "      <th>patient_id</th>\n",
       "      <th>address</th>\n",
       "      <th>blood_type</th>\n",
       "      <th>closest_hospital</th>\n",
       "      <th>community</th>\n",
       "      <th>country</th>\n",
       "      <th>date_of_birth</th>\n",
       "      <th>first_name</th>\n",
       "      <th>gender</th>\n",
       "      <th>has_children</th>\n",
       "      <th>...</th>\n",
       "      <th>post_code</th>\n",
       "      <th>preferred_language</th>\n",
       "      <th>purpose_of_visit</th>\n",
       "      <th>state</th>\n",
       "      <th>sur_name</th>\n",
       "      <th>title</th>\n",
       "      <th>user_id</th>\n",
       "      <th>weight</th>\n",
       "      <th>hospital_id</th>\n",
       "      <th>age</th>\n",
       "    </tr>\n",
       "  </thead>\n",
       "  <tbody>\n",
       "    <tr>\n",
       "      <th>0</th>\n",
       "      <td>1</td>\n",
       "      <td>Ap #266-429 Velit St.</td>\n",
       "      <td>AB+</td>\n",
       "      <td>Blue Cross Hospital</td>\n",
       "      <td>suburban</td>\n",
       "      <td>nigeria</td>\n",
       "      <td>2009-04-13</td>\n",
       "      <td>ACRA</td>\n",
       "      <td>Female</td>\n",
       "      <td>Yes</td>\n",
       "      <td>...</td>\n",
       "      <td>10201</td>\n",
       "      <td>english</td>\n",
       "      <td>medical examination</td>\n",
       "      <td>Lagos</td>\n",
       "      <td>SMITH</td>\n",
       "      <td>Mrs.</td>\n",
       "      <td>1</td>\n",
       "      <td>69</td>\n",
       "      <td>1</td>\n",
       "      <td>14</td>\n",
       "    </tr>\n",
       "    <tr>\n",
       "      <th>1</th>\n",
       "      <td>2</td>\n",
       "      <td>315-4283 Nam Street</td>\n",
       "      <td>O-</td>\n",
       "      <td>Krown Hospital</td>\n",
       "      <td>suburban</td>\n",
       "      <td>nigeria</td>\n",
       "      <td>2011-07-08</td>\n",
       "      <td>ADOLPH</td>\n",
       "      <td>Male</td>\n",
       "      <td>Yes</td>\n",
       "      <td>...</td>\n",
       "      <td>12224</td>\n",
       "      <td>english</td>\n",
       "      <td>medical examination</td>\n",
       "      <td>Lagos</td>\n",
       "      <td>NEILON</td>\n",
       "      <td>Mr.</td>\n",
       "      <td>2</td>\n",
       "      <td>80</td>\n",
       "      <td>1</td>\n",
       "      <td>11</td>\n",
       "    </tr>\n",
       "    <tr>\n",
       "      <th>2</th>\n",
       "      <td>3</td>\n",
       "      <td>921-1491 Nonummy Ave</td>\n",
       "      <td>A-</td>\n",
       "      <td>Ave Maria Hospital</td>\n",
       "      <td>suburban</td>\n",
       "      <td>nigeria</td>\n",
       "      <td>2000-12-30</td>\n",
       "      <td>ANKI</td>\n",
       "      <td>Male</td>\n",
       "      <td>Yes</td>\n",
       "      <td>...</td>\n",
       "      <td>53510</td>\n",
       "      <td>english</td>\n",
       "      <td>medical examination</td>\n",
       "      <td>Lagos</td>\n",
       "      <td>HENDRI</td>\n",
       "      <td>Mr.</td>\n",
       "      <td>3</td>\n",
       "      <td>67</td>\n",
       "      <td>1</td>\n",
       "      <td>22</td>\n",
       "    </tr>\n",
       "    <tr>\n",
       "      <th>3</th>\n",
       "      <td>4</td>\n",
       "      <td>Ap #299-4324 Mauris Avenue</td>\n",
       "      <td>O-</td>\n",
       "      <td>Isolo General Hospital</td>\n",
       "      <td>urban</td>\n",
       "      <td>nigeria</td>\n",
       "      <td>1987-09-15</td>\n",
       "      <td>GARBO</td>\n",
       "      <td>Male</td>\n",
       "      <td>No</td>\n",
       "      <td>...</td>\n",
       "      <td>25193</td>\n",
       "      <td>english</td>\n",
       "      <td>medical examination</td>\n",
       "      <td>Lagos</td>\n",
       "      <td>SHARRON</td>\n",
       "      <td>Mr.</td>\n",
       "      <td>4</td>\n",
       "      <td>74</td>\n",
       "      <td>1</td>\n",
       "      <td>35</td>\n",
       "    </tr>\n",
       "    <tr>\n",
       "      <th>4</th>\n",
       "      <td>5</td>\n",
       "      <td>P.O. Box 913, 6976 Magnis Rd.</td>\n",
       "      <td>O-</td>\n",
       "      <td>Lagoon Hospitals</td>\n",
       "      <td>rural</td>\n",
       "      <td>nigeria</td>\n",
       "      <td>2002-10-10</td>\n",
       "      <td>ADONAI</td>\n",
       "      <td>Female</td>\n",
       "      <td>No</td>\n",
       "      <td>...</td>\n",
       "      <td>37171</td>\n",
       "      <td>english</td>\n",
       "      <td>medical examination</td>\n",
       "      <td>Lagos</td>\n",
       "      <td>NEIVA</td>\n",
       "      <td>Ms.</td>\n",
       "      <td>5</td>\n",
       "      <td>62</td>\n",
       "      <td>1</td>\n",
       "      <td>20</td>\n",
       "    </tr>\n",
       "  </tbody>\n",
       "</table>\n",
       "<p>5 rows × 27 columns</p>\n",
       "</div>"
      ],
      "text/plain": [
       "   patient_id                        address blood_type  \\\n",
       "0           1          Ap #266-429 Velit St.        AB+   \n",
       "1           2            315-4283 Nam Street         O-   \n",
       "2           3           921-1491 Nonummy Ave         A-   \n",
       "3           4     Ap #299-4324 Mauris Avenue         O-   \n",
       "4           5  P.O. Box 913, 6976 Magnis Rd.         O-   \n",
       "\n",
       "         closest_hospital community  country date_of_birth first_name  gender  \\\n",
       "0     Blue Cross Hospital  suburban  nigeria    2009-04-13       ACRA  Female   \n",
       "1          Krown Hospital  suburban  nigeria    2011-07-08     ADOLPH    Male   \n",
       "2      Ave Maria Hospital  suburban  nigeria    2000-12-30       ANKI    Male   \n",
       "3  Isolo General Hospital     urban  nigeria    1987-09-15      GARBO    Male   \n",
       "4        Lagoon Hospitals     rural  nigeria    2002-10-10     ADONAI  Female   \n",
       "\n",
       "  has_children  ... post_code  preferred_language     purpose_of_visit  state  \\\n",
       "0          Yes  ...     10201             english  medical examination  Lagos   \n",
       "1          Yes  ...     12224             english  medical examination  Lagos   \n",
       "2          Yes  ...     53510             english  medical examination  Lagos   \n",
       "3           No  ...     25193             english  medical examination  Lagos   \n",
       "4           No  ...     37171             english  medical examination  Lagos   \n",
       "\n",
       "   sur_name  title  user_id  weight hospital_id age  \n",
       "0     SMITH   Mrs.        1      69           1  14  \n",
       "1    NEILON    Mr.        2      80           1  11  \n",
       "2    HENDRI    Mr.        3      67           1  22  \n",
       "3   SHARRON    Mr.        4      74           1  35  \n",
       "4     NEIVA    Ms.        5      62           1  20  \n",
       "\n",
       "[5 rows x 27 columns]"
      ]
     },
     "execution_count": 714,
     "metadata": {},
     "output_type": "execute_result"
    }
   ],
   "source": [
    "patient_dataframe.head()"
   ]
  },
  {
   "cell_type": "code",
   "execution_count": 715,
   "metadata": {},
   "outputs": [],
   "source": [
    "# Calculate variable years_of_experience using variable graduation_date in doctor_dataframe\n",
    "\n",
    "# Convert graduation_date column to datetime\n",
    "doctor_dataframe['graduation_date'] = pd.to_datetime(doctor_dataframe['graduation_date'])\n",
    "\n",
    "# Calculate years_of_experience by subtracting graduation_date from current date\n",
    "doctor_dataframe['years_of_experience'] = (datetime.now() - doctor_dataframe['graduation_date']) // pd.Timedelta(days=365)"
   ]
  },
  {
   "cell_type": "code",
   "execution_count": 716,
   "metadata": {},
   "outputs": [
    {
     "data": {
      "text/html": [
       "<div>\n",
       "<style scoped>\n",
       "    .dataframe tbody tr th:only-of-type {\n",
       "        vertical-align: middle;\n",
       "    }\n",
       "\n",
       "    .dataframe tbody tr th {\n",
       "        vertical-align: top;\n",
       "    }\n",
       "\n",
       "    .dataframe thead th {\n",
       "        text-align: right;\n",
       "    }\n",
       "</style>\n",
       "<table border=\"1\" class=\"dataframe\">\n",
       "  <thead>\n",
       "    <tr style=\"text-align: right;\">\n",
       "      <th></th>\n",
       "      <th>doctor_id</th>\n",
       "      <th>approved</th>\n",
       "      <th>city</th>\n",
       "      <th>date_of_birth</th>\n",
       "      <th>dependant_stand_by</th>\n",
       "      <th>full_name</th>\n",
       "      <th>doctor_gender</th>\n",
       "      <th>graduation_date</th>\n",
       "      <th>is_student</th>\n",
       "      <th>marital_status</th>\n",
       "      <th>...</th>\n",
       "      <th>national_identification_number</th>\n",
       "      <th>office_address</th>\n",
       "      <th>reference_doctor_email</th>\n",
       "      <th>reference_doctor_full_name</th>\n",
       "      <th>reference_doctor_phone_number</th>\n",
       "      <th>state</th>\n",
       "      <th>student_number</th>\n",
       "      <th>system_status</th>\n",
       "      <th>title</th>\n",
       "      <th>years_of_experience</th>\n",
       "    </tr>\n",
       "  </thead>\n",
       "  <tbody>\n",
       "    <tr>\n",
       "      <th>0</th>\n",
       "      <td>1</td>\n",
       "      <td>Yes</td>\n",
       "      <td>Lagos</td>\n",
       "      <td>8/5/1972</td>\n",
       "      <td>1</td>\n",
       "      <td>ACRA SMITH</td>\n",
       "      <td>Male</td>\n",
       "      <td>2019-09-06</td>\n",
       "      <td>No</td>\n",
       "      <td>Married</td>\n",
       "      <td>...</td>\n",
       "      <td>1122458</td>\n",
       "      <td>618-3434 Sagittis Av.</td>\n",
       "      <td>acrasmith@gmail.com</td>\n",
       "      <td>ACRA SMITH</td>\n",
       "      <td>53488888</td>\n",
       "      <td>Lagos</td>\n",
       "      <td>2710</td>\n",
       "      <td>very good</td>\n",
       "      <td>Mr.</td>\n",
       "      <td>3</td>\n",
       "    </tr>\n",
       "    <tr>\n",
       "      <th>1</th>\n",
       "      <td>2</td>\n",
       "      <td>Yes</td>\n",
       "      <td>Lagos</td>\n",
       "      <td>7/12/1989</td>\n",
       "      <td>2</td>\n",
       "      <td>ADOLPH NEILON</td>\n",
       "      <td>Female</td>\n",
       "      <td>2006-06-25</td>\n",
       "      <td>Yes</td>\n",
       "      <td>Married</td>\n",
       "      <td>...</td>\n",
       "      <td>4563751</td>\n",
       "      <td>405-9892 Ultrices Rd.</td>\n",
       "      <td>adolphneilon@gmail.com</td>\n",
       "      <td>ADOLPH NEILON</td>\n",
       "      <td>50989139</td>\n",
       "      <td>Lagos</td>\n",
       "      <td>5370</td>\n",
       "      <td>good</td>\n",
       "      <td>Ms.</td>\n",
       "      <td>16</td>\n",
       "    </tr>\n",
       "    <tr>\n",
       "      <th>2</th>\n",
       "      <td>3</td>\n",
       "      <td>Yes</td>\n",
       "      <td>Lagos</td>\n",
       "      <td>9/30/1965</td>\n",
       "      <td>1</td>\n",
       "      <td>ANKI HENDRI</td>\n",
       "      <td>Male</td>\n",
       "      <td>2008-12-20</td>\n",
       "      <td>Yes</td>\n",
       "      <td>Married</td>\n",
       "      <td>...</td>\n",
       "      <td>1877514</td>\n",
       "      <td>Ap #561-9293 Sociis St.</td>\n",
       "      <td>ankihendri@gmail.com</td>\n",
       "      <td>ANKI HENDRI</td>\n",
       "      <td>42144921</td>\n",
       "      <td>Lagos</td>\n",
       "      <td>6696</td>\n",
       "      <td>excellent</td>\n",
       "      <td>Mr.</td>\n",
       "      <td>14</td>\n",
       "    </tr>\n",
       "    <tr>\n",
       "      <th>3</th>\n",
       "      <td>4</td>\n",
       "      <td>Yes</td>\n",
       "      <td>Lagos</td>\n",
       "      <td>8/12/1964</td>\n",
       "      <td>1</td>\n",
       "      <td>GARBO SHARRON</td>\n",
       "      <td>Male</td>\n",
       "      <td>2013-08-22</td>\n",
       "      <td>No</td>\n",
       "      <td>Married</td>\n",
       "      <td>...</td>\n",
       "      <td>2513477</td>\n",
       "      <td>Ap #381-3175 Sed, Street</td>\n",
       "      <td>garbosharron@gmail.com</td>\n",
       "      <td>GARBO SHARRON</td>\n",
       "      <td>52477143</td>\n",
       "      <td>Lagos</td>\n",
       "      <td>4343</td>\n",
       "      <td>fair</td>\n",
       "      <td>Mr.</td>\n",
       "      <td>9</td>\n",
       "    </tr>\n",
       "    <tr>\n",
       "      <th>4</th>\n",
       "      <td>5</td>\n",
       "      <td>Yes</td>\n",
       "      <td>Lagos</td>\n",
       "      <td>12/5/1963</td>\n",
       "      <td>0</td>\n",
       "      <td>ADONAI NEIVA</td>\n",
       "      <td>Female</td>\n",
       "      <td>2021-12-28</td>\n",
       "      <td>No</td>\n",
       "      <td>Married</td>\n",
       "      <td>...</td>\n",
       "      <td>3463224</td>\n",
       "      <td>Ap #230-5566 Amet, St.</td>\n",
       "      <td>adonaineiva@gmail.com</td>\n",
       "      <td>ADONAI NEIVA</td>\n",
       "      <td>29517478</td>\n",
       "      <td>Lagos</td>\n",
       "      <td>4300</td>\n",
       "      <td>very good</td>\n",
       "      <td>Ms.</td>\n",
       "      <td>1</td>\n",
       "    </tr>\n",
       "  </tbody>\n",
       "</table>\n",
       "<p>5 rows × 22 columns</p>\n",
       "</div>"
      ],
      "text/plain": [
       "   doctor_id approved   city date_of_birth  dependant_stand_by      full_name  \\\n",
       "0          1      Yes  Lagos      8/5/1972                   1     ACRA SMITH   \n",
       "1          2      Yes  Lagos     7/12/1989                   2  ADOLPH NEILON   \n",
       "2          3      Yes  Lagos     9/30/1965                   1    ANKI HENDRI   \n",
       "3          4      Yes  Lagos     8/12/1964                   1  GARBO SHARRON   \n",
       "4          5      Yes  Lagos     12/5/1963                   0   ADONAI NEIVA   \n",
       "\n",
       "  doctor_gender graduation_date is_student marital_status  ...  \\\n",
       "0          Male      2019-09-06         No        Married  ...   \n",
       "1        Female      2006-06-25        Yes        Married  ...   \n",
       "2          Male      2008-12-20        Yes        Married  ...   \n",
       "3          Male      2013-08-22         No        Married  ...   \n",
       "4        Female      2021-12-28         No        Married  ...   \n",
       "\n",
       "   national_identification_number            office_address  \\\n",
       "0                         1122458     618-3434 Sagittis Av.   \n",
       "1                         4563751     405-9892 Ultrices Rd.   \n",
       "2                         1877514   Ap #561-9293 Sociis St.   \n",
       "3                         2513477  Ap #381-3175 Sed, Street   \n",
       "4                         3463224    Ap #230-5566 Amet, St.   \n",
       "\n",
       "   reference_doctor_email reference_doctor_full_name  \\\n",
       "0     acrasmith@gmail.com                 ACRA SMITH   \n",
       "1  adolphneilon@gmail.com              ADOLPH NEILON   \n",
       "2    ankihendri@gmail.com                ANKI HENDRI   \n",
       "3  garbosharron@gmail.com              GARBO SHARRON   \n",
       "4   adonaineiva@gmail.com               ADONAI NEIVA   \n",
       "\n",
       "  reference_doctor_phone_number  state  student_number system_status  title  \\\n",
       "0                      53488888  Lagos            2710     very good    Mr.   \n",
       "1                      50989139  Lagos            5370          good    Ms.   \n",
       "2                      42144921  Lagos            6696     excellent    Mr.   \n",
       "3                      52477143  Lagos            4343          fair    Mr.   \n",
       "4                      29517478  Lagos            4300     very good    Ms.   \n",
       "\n",
       "  years_of_experience  \n",
       "0                   3  \n",
       "1                  16  \n",
       "2                  14  \n",
       "3                   9  \n",
       "4                   1  \n",
       "\n",
       "[5 rows x 22 columns]"
      ]
     },
     "execution_count": 716,
     "metadata": {},
     "output_type": "execute_result"
    }
   ],
   "source": [
    "doctor_dataframe.head()"
   ]
  },
  {
   "cell_type": "code",
   "execution_count": 717,
   "metadata": {},
   "outputs": [
    {
     "data": {
      "text/plain": [
       "(520, 15)"
      ]
     },
     "execution_count": 717,
     "metadata": {},
     "output_type": "execute_result"
    }
   ],
   "source": [
    "# Merging patient_datafram and doctor_datafram to consultation_dataframe\n",
    "patient_consultation = pd.merge(consultation_dataframe[['id', 'consultation_cost', 'patient_body_area', 'patient_status', 'patient_id', 'doctor_id']], \n",
    "                                patient_dataframe[[\"patient_id\", 'community', 'marital_status', 'has_children', 'has_dependent', 'num_of_children', 'num_of_dependents', \"age\", \"gender\"]], on=\"patient_id\", how=\"left\")\n",
    "doctor_patient_consultation = pd.merge(patient_consultation, doctor_dataframe[[\"doctor_id\", \"years_of_experience\"]], on=\"doctor_id\", how=\"left\")\n",
    "doctor_patient_consultation.shape"
   ]
  },
  {
   "cell_type": "code",
   "execution_count": 718,
   "metadata": {},
   "outputs": [
    {
     "data": {
      "text/html": [
       "<div>\n",
       "<style scoped>\n",
       "    .dataframe tbody tr th:only-of-type {\n",
       "        vertical-align: middle;\n",
       "    }\n",
       "\n",
       "    .dataframe tbody tr th {\n",
       "        vertical-align: top;\n",
       "    }\n",
       "\n",
       "    .dataframe thead th {\n",
       "        text-align: right;\n",
       "    }\n",
       "</style>\n",
       "<table border=\"1\" class=\"dataframe\">\n",
       "  <thead>\n",
       "    <tr style=\"text-align: right;\">\n",
       "      <th></th>\n",
       "      <th>id</th>\n",
       "      <th>consultation_cost</th>\n",
       "      <th>patient_body_area</th>\n",
       "      <th>patient_status</th>\n",
       "      <th>patient_id</th>\n",
       "      <th>doctor_id</th>\n",
       "      <th>community</th>\n",
       "      <th>marital_status</th>\n",
       "      <th>has_children</th>\n",
       "      <th>has_dependent</th>\n",
       "      <th>num_of_children</th>\n",
       "      <th>num_of_dependents</th>\n",
       "      <th>age</th>\n",
       "      <th>gender</th>\n",
       "      <th>years_of_experience</th>\n",
       "    </tr>\n",
       "  </thead>\n",
       "  <tbody>\n",
       "    <tr>\n",
       "      <th>0</th>\n",
       "      <td>1</td>\n",
       "      <td>1900</td>\n",
       "      <td>legs</td>\n",
       "      <td>under appointment</td>\n",
       "      <td>100</td>\n",
       "      <td>1</td>\n",
       "      <td>suburban</td>\n",
       "      <td>Divorced</td>\n",
       "      <td>Yes</td>\n",
       "      <td>No</td>\n",
       "      <td>4</td>\n",
       "      <td>3</td>\n",
       "      <td>29</td>\n",
       "      <td>Female</td>\n",
       "      <td>3</td>\n",
       "    </tr>\n",
       "    <tr>\n",
       "      <th>1</th>\n",
       "      <td>2</td>\n",
       "      <td>9100</td>\n",
       "      <td>chest area</td>\n",
       "      <td>new consultation</td>\n",
       "      <td>72</td>\n",
       "      <td>2</td>\n",
       "      <td>rural</td>\n",
       "      <td>Married</td>\n",
       "      <td>No</td>\n",
       "      <td>Yes</td>\n",
       "      <td>3</td>\n",
       "      <td>2</td>\n",
       "      <td>12</td>\n",
       "      <td>Female</td>\n",
       "      <td>16</td>\n",
       "    </tr>\n",
       "    <tr>\n",
       "      <th>2</th>\n",
       "      <td>3</td>\n",
       "      <td>8200</td>\n",
       "      <td>head</td>\n",
       "      <td>new consultation</td>\n",
       "      <td>150</td>\n",
       "      <td>3</td>\n",
       "      <td>rural</td>\n",
       "      <td>Married</td>\n",
       "      <td>Yes</td>\n",
       "      <td>Yes</td>\n",
       "      <td>2</td>\n",
       "      <td>1</td>\n",
       "      <td>35</td>\n",
       "      <td>Male</td>\n",
       "      <td>14</td>\n",
       "    </tr>\n",
       "    <tr>\n",
       "      <th>3</th>\n",
       "      <td>4</td>\n",
       "      <td>5600</td>\n",
       "      <td>back</td>\n",
       "      <td>appointed session</td>\n",
       "      <td>27</td>\n",
       "      <td>4</td>\n",
       "      <td>rural</td>\n",
       "      <td>Married</td>\n",
       "      <td>Yes</td>\n",
       "      <td>No</td>\n",
       "      <td>2</td>\n",
       "      <td>1</td>\n",
       "      <td>25</td>\n",
       "      <td>Female</td>\n",
       "      <td>9</td>\n",
       "    </tr>\n",
       "    <tr>\n",
       "      <th>4</th>\n",
       "      <td>5</td>\n",
       "      <td>1200</td>\n",
       "      <td>stomach</td>\n",
       "      <td>new consultation</td>\n",
       "      <td>191</td>\n",
       "      <td>5</td>\n",
       "      <td>suburban</td>\n",
       "      <td>Single</td>\n",
       "      <td>No</td>\n",
       "      <td>Yes</td>\n",
       "      <td>1</td>\n",
       "      <td>1</td>\n",
       "      <td>39</td>\n",
       "      <td>Female</td>\n",
       "      <td>1</td>\n",
       "    </tr>\n",
       "  </tbody>\n",
       "</table>\n",
       "</div>"
      ],
      "text/plain": [
       "   id  consultation_cost patient_body_area     patient_status  patient_id  \\\n",
       "0   1               1900              legs  under appointment         100   \n",
       "1   2               9100        chest area   new consultation          72   \n",
       "2   3               8200              head   new consultation         150   \n",
       "3   4               5600              back  appointed session          27   \n",
       "4   5               1200           stomach   new consultation         191   \n",
       "\n",
       "   doctor_id community marital_status has_children has_dependent  \\\n",
       "0          1  suburban       Divorced          Yes            No   \n",
       "1          2     rural        Married           No           Yes   \n",
       "2          3     rural        Married          Yes           Yes   \n",
       "3          4     rural        Married          Yes            No   \n",
       "4          5  suburban         Single           No           Yes   \n",
       "\n",
       "   num_of_children  num_of_dependents  age  gender  years_of_experience  \n",
       "0                4                  3   29  Female                    3  \n",
       "1                3                  2   12  Female                   16  \n",
       "2                2                  1   35    Male                   14  \n",
       "3                2                  1   25  Female                    9  \n",
       "4                1                  1   39  Female                    1  "
      ]
     },
     "execution_count": 718,
     "metadata": {},
     "output_type": "execute_result"
    }
   ],
   "source": [
    "doctor_patient_consultation.head()"
   ]
  },
  {
   "attachments": {},
   "cell_type": "markdown",
   "metadata": {},
   "source": [
    "#### The Simulated dataframe"
   ]
  },
  {
   "cell_type": "code",
   "execution_count": 719,
   "metadata": {},
   "outputs": [
    {
     "data": {
      "text/html": [
       "<div>\n",
       "<style scoped>\n",
       "    .dataframe tbody tr th:only-of-type {\n",
       "        vertical-align: middle;\n",
       "    }\n",
       "\n",
       "    .dataframe tbody tr th {\n",
       "        vertical-align: top;\n",
       "    }\n",
       "\n",
       "    .dataframe thead th {\n",
       "        text-align: right;\n",
       "    }\n",
       "</style>\n",
       "<table border=\"1\" class=\"dataframe\">\n",
       "  <thead>\n",
       "    <tr style=\"text-align: right;\">\n",
       "      <th></th>\n",
       "      <th>consult_id</th>\n",
       "      <th>consult_cost</th>\n",
       "      <th>patient_anatomy</th>\n",
       "      <th>patient_consult_status</th>\n",
       "      <th>patient_community</th>\n",
       "      <th>patient_marital_status</th>\n",
       "      <th>patient_has_children</th>\n",
       "      <th>patient_has_dependent</th>\n",
       "      <th>patient_num_of_children</th>\n",
       "      <th>patient_num_of_dependents</th>\n",
       "      <th>patient_age</th>\n",
       "      <th>patient_gender</th>\n",
       "      <th>consultant_doctor_experience</th>\n",
       "    </tr>\n",
       "  </thead>\n",
       "  <tbody>\n",
       "    <tr>\n",
       "      <th>0</th>\n",
       "      <td>1</td>\n",
       "      <td>1900</td>\n",
       "      <td>legs</td>\n",
       "      <td>under appointment</td>\n",
       "      <td>suburban</td>\n",
       "      <td>Divorced</td>\n",
       "      <td>Yes</td>\n",
       "      <td>No</td>\n",
       "      <td>4</td>\n",
       "      <td>3</td>\n",
       "      <td>29</td>\n",
       "      <td>Female</td>\n",
       "      <td>3</td>\n",
       "    </tr>\n",
       "    <tr>\n",
       "      <th>1</th>\n",
       "      <td>2</td>\n",
       "      <td>9100</td>\n",
       "      <td>chest area</td>\n",
       "      <td>new consultation</td>\n",
       "      <td>rural</td>\n",
       "      <td>Married</td>\n",
       "      <td>No</td>\n",
       "      <td>Yes</td>\n",
       "      <td>3</td>\n",
       "      <td>2</td>\n",
       "      <td>12</td>\n",
       "      <td>Female</td>\n",
       "      <td>16</td>\n",
       "    </tr>\n",
       "    <tr>\n",
       "      <th>2</th>\n",
       "      <td>3</td>\n",
       "      <td>8200</td>\n",
       "      <td>head</td>\n",
       "      <td>new consultation</td>\n",
       "      <td>rural</td>\n",
       "      <td>Married</td>\n",
       "      <td>Yes</td>\n",
       "      <td>Yes</td>\n",
       "      <td>2</td>\n",
       "      <td>1</td>\n",
       "      <td>35</td>\n",
       "      <td>Male</td>\n",
       "      <td>14</td>\n",
       "    </tr>\n",
       "    <tr>\n",
       "      <th>3</th>\n",
       "      <td>4</td>\n",
       "      <td>5600</td>\n",
       "      <td>back</td>\n",
       "      <td>appointed session</td>\n",
       "      <td>rural</td>\n",
       "      <td>Married</td>\n",
       "      <td>Yes</td>\n",
       "      <td>No</td>\n",
       "      <td>2</td>\n",
       "      <td>1</td>\n",
       "      <td>25</td>\n",
       "      <td>Female</td>\n",
       "      <td>9</td>\n",
       "    </tr>\n",
       "    <tr>\n",
       "      <th>4</th>\n",
       "      <td>5</td>\n",
       "      <td>1200</td>\n",
       "      <td>stomach</td>\n",
       "      <td>new consultation</td>\n",
       "      <td>suburban</td>\n",
       "      <td>Single</td>\n",
       "      <td>No</td>\n",
       "      <td>Yes</td>\n",
       "      <td>1</td>\n",
       "      <td>1</td>\n",
       "      <td>39</td>\n",
       "      <td>Female</td>\n",
       "      <td>1</td>\n",
       "    </tr>\n",
       "  </tbody>\n",
       "</table>\n",
       "</div>"
      ],
      "text/plain": [
       "   consult_id  consult_cost patient_anatomy patient_consult_status  \\\n",
       "0           1          1900            legs      under appointment   \n",
       "1           2          9100      chest area       new consultation   \n",
       "2           3          8200            head       new consultation   \n",
       "3           4          5600            back      appointed session   \n",
       "4           5          1200         stomach       new consultation   \n",
       "\n",
       "  patient_community patient_marital_status patient_has_children  \\\n",
       "0          suburban               Divorced                  Yes   \n",
       "1             rural                Married                   No   \n",
       "2             rural                Married                  Yes   \n",
       "3             rural                Married                  Yes   \n",
       "4          suburban                 Single                   No   \n",
       "\n",
       "  patient_has_dependent  patient_num_of_children  patient_num_of_dependents  \\\n",
       "0                    No                        4                          3   \n",
       "1                   Yes                        3                          2   \n",
       "2                   Yes                        2                          1   \n",
       "3                    No                        2                          1   \n",
       "4                   Yes                        1                          1   \n",
       "\n",
       "   patient_age patient_gender  consultant_doctor_experience  \n",
       "0           29         Female                             3  \n",
       "1           12         Female                            16  \n",
       "2           35           Male                            14  \n",
       "3           25         Female                             9  \n",
       "4           39         Female                             1  "
      ]
     },
     "execution_count": 719,
     "metadata": {},
     "output_type": "execute_result"
    }
   ],
   "source": [
    "simulated_dataframe = doctor_patient_consultation.drop([\"doctor_id\", \"patient_id\"], axis=1)\n",
    "simulated_dataframe=pd.DataFrame({'consult_id':doctor_patient_consultation['id'], 'consult_cost':doctor_patient_consultation['consultation_cost'] , 'patient_anatomy':doctor_patient_consultation['patient_body_area'],\n",
    "                         'patient_consult_status':doctor_patient_consultation['patient_status'], 'patient_community':doctor_patient_consultation['community'], 'patient_marital_status':doctor_patient_consultation['marital_status'], \n",
    "                         'patient_has_children':doctor_patient_consultation['has_children'], 'patient_has_dependent':doctor_patient_consultation['has_dependent'], 'patient_num_of_children':doctor_patient_consultation['num_of_children'], \n",
    "                         'patient_num_of_dependents':doctor_patient_consultation['num_of_dependents'], 'patient_age':doctor_patient_consultation['age'], 'patient_gender':doctor_patient_consultation['gender'], \n",
    "                         'consultant_doctor_experience':doctor_patient_consultation['years_of_experience']})\n",
    "\n",
    "simulated_dataframe.head()"
   ]
  },
  {
   "cell_type": "code",
   "execution_count": 720,
   "metadata": {},
   "outputs": [
    {
     "data": {
      "text/plain": [
       "(520, 13)"
      ]
     },
     "execution_count": 720,
     "metadata": {},
     "output_type": "execute_result"
    }
   ],
   "source": [
    "simulated_dataframe.shape"
   ]
  },
  {
   "cell_type": "code",
   "execution_count": 721,
   "metadata": {},
   "outputs": [
    {
     "name": "stdout",
     "output_type": "stream",
     "text": [
      "<class 'pandas.core.frame.DataFrame'>\n",
      "Int64Index: 520 entries, 0 to 519\n",
      "Data columns (total 13 columns):\n",
      " #   Column                        Non-Null Count  Dtype \n",
      "---  ------                        --------------  ----- \n",
      " 0   consult_id                    520 non-null    int64 \n",
      " 1   consult_cost                  520 non-null    int64 \n",
      " 2   patient_anatomy               520 non-null    object\n",
      " 3   patient_consult_status        520 non-null    object\n",
      " 4   patient_community             520 non-null    object\n",
      " 5   patient_marital_status        520 non-null    object\n",
      " 6   patient_has_children          520 non-null    object\n",
      " 7   patient_has_dependent         520 non-null    object\n",
      " 8   patient_num_of_children       520 non-null    int64 \n",
      " 9   patient_num_of_dependents     520 non-null    int64 \n",
      " 10  patient_age                   520 non-null    int64 \n",
      " 11  patient_gender                520 non-null    object\n",
      " 12  consultant_doctor_experience  520 non-null    int64 \n",
      "dtypes: int64(6), object(7)\n",
      "memory usage: 56.9+ KB\n"
     ]
    }
   ],
   "source": [
    "simulated_dataframe.info()"
   ]
  },
  {
   "attachments": {},
   "cell_type": "markdown",
   "metadata": {},
   "source": [
    "#### Transform the catagorical features to dummy-variable format"
   ]
  },
  {
   "cell_type": "code",
   "execution_count": 722,
   "metadata": {},
   "outputs": [
    {
     "name": "stdout",
     "output_type": "stream",
     "text": [
      "['legs' 'chest area' 'head' 'back' 'stomach' 'upper chest area' 'shoulder']\n",
      "['under appointment' 'new consultation' 'appointed session' 'admitted']\n",
      "['suburban' 'rural' 'urban']\n",
      "['Divorced' 'Married' 'Single']\n",
      "['Yes' 'No']\n",
      "['No' 'Yes']\n",
      "['Female' 'Male']\n"
     ]
    }
   ],
   "source": [
    "print(simulated_dataframe['patient_anatomy'].unique())\n",
    "print(simulated_dataframe['patient_consult_status'].unique())\n",
    "print(simulated_dataframe['patient_community'].unique())\n",
    "print(simulated_dataframe['patient_marital_status'].unique())\n",
    "print(simulated_dataframe['patient_has_children'].unique())\n",
    "print(simulated_dataframe['patient_has_dependent'].unique())\n",
    "print(simulated_dataframe['patient_gender'].unique())"
   ]
  },
  {
   "cell_type": "code",
   "execution_count": 723,
   "metadata": {},
   "outputs": [],
   "source": [
    "simulated_dataframe = pd.concat([simulated_dataframe, pd.get_dummies(simulated_dataframe['patient_anatomy'], prefix='patient_anatomy', drop_first=True)],axis=1)\n",
    "simulated_dataframe = pd.concat([simulated_dataframe, pd.get_dummies(simulated_dataframe['patient_consult_status'], prefix='patient_consult_status', drop_first=True)],axis=1)\n",
    "simulated_dataframe = pd.concat([simulated_dataframe, pd.get_dummies(simulated_dataframe['patient_community'], prefix='patient_community', drop_first=True)],axis=1)\n",
    "simulated_dataframe = pd.concat([simulated_dataframe, pd.get_dummies(simulated_dataframe['patient_marital_status'], prefix='patient_marital_status', drop_first=True)],axis=1)\n",
    "simulated_dataframe = pd.concat([simulated_dataframe, pd.get_dummies(simulated_dataframe['patient_has_children'], prefix='patient_has_children', drop_first=True)],axis=1)\n",
    "simulated_dataframe = pd.concat([simulated_dataframe, pd.get_dummies(simulated_dataframe['patient_has_dependent'], prefix='patient_has_dependent', drop_first=True)],axis=1)\n",
    "simulated_dataframe = pd.concat([simulated_dataframe, pd.get_dummies(simulated_dataframe['patient_gender'], prefix='patient_gender', drop_first=True)],axis=1)\n",
    "simulated_dataframe.drop(['patient_anatomy','patient_consult_status','patient_community', 'patient_marital_status', 'patient_has_children', 'patient_has_dependent', 'patient_gender' ], axis=1, inplace=True)"
   ]
  },
  {
   "cell_type": "code",
   "execution_count": 724,
   "metadata": {},
   "outputs": [],
   "source": [
    "# The simulated dataset\n",
    "simulated_dataframe.to_csv('simulated_data.csv', index=False)"
   ]
  },
  {
   "cell_type": "code",
   "execution_count": 725,
   "metadata": {},
   "outputs": [
    {
     "data": {
      "text/html": [
       "<div>\n",
       "<style scoped>\n",
       "    .dataframe tbody tr th:only-of-type {\n",
       "        vertical-align: middle;\n",
       "    }\n",
       "\n",
       "    .dataframe tbody tr th {\n",
       "        vertical-align: top;\n",
       "    }\n",
       "\n",
       "    .dataframe thead th {\n",
       "        text-align: right;\n",
       "    }\n",
       "</style>\n",
       "<table border=\"1\" class=\"dataframe\">\n",
       "  <thead>\n",
       "    <tr style=\"text-align: right;\">\n",
       "      <th></th>\n",
       "      <th>consult_cost</th>\n",
       "      <th>patient_num_of_children</th>\n",
       "      <th>patient_num_of_dependents</th>\n",
       "      <th>patient_age</th>\n",
       "      <th>consultant_doctor_experience</th>\n",
       "      <th>patient_anatomy_chest area</th>\n",
       "      <th>patient_anatomy_head</th>\n",
       "      <th>patient_anatomy_legs</th>\n",
       "      <th>patient_anatomy_shoulder</th>\n",
       "      <th>patient_anatomy_stomach</th>\n",
       "      <th>...</th>\n",
       "      <th>patient_consult_status_appointed session</th>\n",
       "      <th>patient_consult_status_new consultation</th>\n",
       "      <th>patient_consult_status_under appointment</th>\n",
       "      <th>patient_community_suburban</th>\n",
       "      <th>patient_community_urban</th>\n",
       "      <th>patient_marital_status_Married</th>\n",
       "      <th>patient_marital_status_Single</th>\n",
       "      <th>patient_has_children_Yes</th>\n",
       "      <th>patient_has_dependent_Yes</th>\n",
       "      <th>patient_gender_Male</th>\n",
       "    </tr>\n",
       "    <tr>\n",
       "      <th>consult_id</th>\n",
       "      <th></th>\n",
       "      <th></th>\n",
       "      <th></th>\n",
       "      <th></th>\n",
       "      <th></th>\n",
       "      <th></th>\n",
       "      <th></th>\n",
       "      <th></th>\n",
       "      <th></th>\n",
       "      <th></th>\n",
       "      <th></th>\n",
       "      <th></th>\n",
       "      <th></th>\n",
       "      <th></th>\n",
       "      <th></th>\n",
       "      <th></th>\n",
       "      <th></th>\n",
       "      <th></th>\n",
       "      <th></th>\n",
       "      <th></th>\n",
       "      <th></th>\n",
       "    </tr>\n",
       "  </thead>\n",
       "  <tbody>\n",
       "    <tr>\n",
       "      <th>1</th>\n",
       "      <td>1900</td>\n",
       "      <td>4</td>\n",
       "      <td>3</td>\n",
       "      <td>29</td>\n",
       "      <td>3</td>\n",
       "      <td>0</td>\n",
       "      <td>0</td>\n",
       "      <td>1</td>\n",
       "      <td>0</td>\n",
       "      <td>0</td>\n",
       "      <td>...</td>\n",
       "      <td>0</td>\n",
       "      <td>0</td>\n",
       "      <td>1</td>\n",
       "      <td>1</td>\n",
       "      <td>0</td>\n",
       "      <td>0</td>\n",
       "      <td>0</td>\n",
       "      <td>1</td>\n",
       "      <td>0</td>\n",
       "      <td>0</td>\n",
       "    </tr>\n",
       "    <tr>\n",
       "      <th>2</th>\n",
       "      <td>9100</td>\n",
       "      <td>3</td>\n",
       "      <td>2</td>\n",
       "      <td>12</td>\n",
       "      <td>16</td>\n",
       "      <td>1</td>\n",
       "      <td>0</td>\n",
       "      <td>0</td>\n",
       "      <td>0</td>\n",
       "      <td>0</td>\n",
       "      <td>...</td>\n",
       "      <td>0</td>\n",
       "      <td>1</td>\n",
       "      <td>0</td>\n",
       "      <td>0</td>\n",
       "      <td>0</td>\n",
       "      <td>1</td>\n",
       "      <td>0</td>\n",
       "      <td>0</td>\n",
       "      <td>1</td>\n",
       "      <td>0</td>\n",
       "    </tr>\n",
       "    <tr>\n",
       "      <th>3</th>\n",
       "      <td>8200</td>\n",
       "      <td>2</td>\n",
       "      <td>1</td>\n",
       "      <td>35</td>\n",
       "      <td>14</td>\n",
       "      <td>0</td>\n",
       "      <td>1</td>\n",
       "      <td>0</td>\n",
       "      <td>0</td>\n",
       "      <td>0</td>\n",
       "      <td>...</td>\n",
       "      <td>0</td>\n",
       "      <td>1</td>\n",
       "      <td>0</td>\n",
       "      <td>0</td>\n",
       "      <td>0</td>\n",
       "      <td>1</td>\n",
       "      <td>0</td>\n",
       "      <td>1</td>\n",
       "      <td>1</td>\n",
       "      <td>1</td>\n",
       "    </tr>\n",
       "    <tr>\n",
       "      <th>4</th>\n",
       "      <td>5600</td>\n",
       "      <td>2</td>\n",
       "      <td>1</td>\n",
       "      <td>25</td>\n",
       "      <td>9</td>\n",
       "      <td>0</td>\n",
       "      <td>0</td>\n",
       "      <td>0</td>\n",
       "      <td>0</td>\n",
       "      <td>0</td>\n",
       "      <td>...</td>\n",
       "      <td>1</td>\n",
       "      <td>0</td>\n",
       "      <td>0</td>\n",
       "      <td>0</td>\n",
       "      <td>0</td>\n",
       "      <td>1</td>\n",
       "      <td>0</td>\n",
       "      <td>1</td>\n",
       "      <td>0</td>\n",
       "      <td>0</td>\n",
       "    </tr>\n",
       "    <tr>\n",
       "      <th>5</th>\n",
       "      <td>1200</td>\n",
       "      <td>1</td>\n",
       "      <td>1</td>\n",
       "      <td>39</td>\n",
       "      <td>1</td>\n",
       "      <td>0</td>\n",
       "      <td>0</td>\n",
       "      <td>0</td>\n",
       "      <td>0</td>\n",
       "      <td>1</td>\n",
       "      <td>...</td>\n",
       "      <td>0</td>\n",
       "      <td>1</td>\n",
       "      <td>0</td>\n",
       "      <td>1</td>\n",
       "      <td>0</td>\n",
       "      <td>0</td>\n",
       "      <td>1</td>\n",
       "      <td>0</td>\n",
       "      <td>1</td>\n",
       "      <td>0</td>\n",
       "    </tr>\n",
       "  </tbody>\n",
       "</table>\n",
       "<p>5 rows × 21 columns</p>\n",
       "</div>"
      ],
      "text/plain": [
       "            consult_cost  patient_num_of_children  patient_num_of_dependents  \\\n",
       "consult_id                                                                     \n",
       "1                   1900                        4                          3   \n",
       "2                   9100                        3                          2   \n",
       "3                   8200                        2                          1   \n",
       "4                   5600                        2                          1   \n",
       "5                   1200                        1                          1   \n",
       "\n",
       "            patient_age  consultant_doctor_experience  \\\n",
       "consult_id                                              \n",
       "1                    29                             3   \n",
       "2                    12                            16   \n",
       "3                    35                            14   \n",
       "4                    25                             9   \n",
       "5                    39                             1   \n",
       "\n",
       "            patient_anatomy_chest area  patient_anatomy_head  \\\n",
       "consult_id                                                     \n",
       "1                                    0                     0   \n",
       "2                                    1                     0   \n",
       "3                                    0                     1   \n",
       "4                                    0                     0   \n",
       "5                                    0                     0   \n",
       "\n",
       "            patient_anatomy_legs  patient_anatomy_shoulder  \\\n",
       "consult_id                                                   \n",
       "1                              1                         0   \n",
       "2                              0                         0   \n",
       "3                              0                         0   \n",
       "4                              0                         0   \n",
       "5                              0                         0   \n",
       "\n",
       "            patient_anatomy_stomach  ...  \\\n",
       "consult_id                           ...   \n",
       "1                                 0  ...   \n",
       "2                                 0  ...   \n",
       "3                                 0  ...   \n",
       "4                                 0  ...   \n",
       "5                                 1  ...   \n",
       "\n",
       "            patient_consult_status_appointed session  \\\n",
       "consult_id                                             \n",
       "1                                                  0   \n",
       "2                                                  0   \n",
       "3                                                  0   \n",
       "4                                                  1   \n",
       "5                                                  0   \n",
       "\n",
       "            patient_consult_status_new consultation  \\\n",
       "consult_id                                            \n",
       "1                                                 0   \n",
       "2                                                 1   \n",
       "3                                                 1   \n",
       "4                                                 0   \n",
       "5                                                 1   \n",
       "\n",
       "            patient_consult_status_under appointment  \\\n",
       "consult_id                                             \n",
       "1                                                  1   \n",
       "2                                                  0   \n",
       "3                                                  0   \n",
       "4                                                  0   \n",
       "5                                                  0   \n",
       "\n",
       "            patient_community_suburban  patient_community_urban  \\\n",
       "consult_id                                                        \n",
       "1                                    1                        0   \n",
       "2                                    0                        0   \n",
       "3                                    0                        0   \n",
       "4                                    0                        0   \n",
       "5                                    1                        0   \n",
       "\n",
       "            patient_marital_status_Married  patient_marital_status_Single  \\\n",
       "consult_id                                                                  \n",
       "1                                        0                              0   \n",
       "2                                        1                              0   \n",
       "3                                        1                              0   \n",
       "4                                        1                              0   \n",
       "5                                        0                              1   \n",
       "\n",
       "            patient_has_children_Yes  patient_has_dependent_Yes  \\\n",
       "consult_id                                                        \n",
       "1                                  1                          0   \n",
       "2                                  0                          1   \n",
       "3                                  1                          1   \n",
       "4                                  1                          0   \n",
       "5                                  0                          1   \n",
       "\n",
       "            patient_gender_Male  \n",
       "consult_id                       \n",
       "1                             0  \n",
       "2                             0  \n",
       "3                             1  \n",
       "4                             0  \n",
       "5                             0  \n",
       "\n",
       "[5 rows x 21 columns]"
      ]
     },
     "execution_count": 725,
     "metadata": {},
     "output_type": "execute_result"
    }
   ],
   "source": [
    "simulated_dataframe=pd.read_csv('simulated_data.csv', index_col='consult_id')\n",
    "simulated_dataframe.head()"
   ]
  },
  {
   "cell_type": "code",
   "execution_count": 726,
   "metadata": {},
   "outputs": [
    {
     "data": {
      "text/plain": [
       "(520, 21)"
      ]
     },
     "execution_count": 726,
     "metadata": {},
     "output_type": "execute_result"
    }
   ],
   "source": [
    "simulated_dataframe.shape"
   ]
  },
  {
   "attachments": {},
   "cell_type": "markdown",
   "metadata": {},
   "source": [
    "#### Describe or summarize "
   ]
  },
  {
   "cell_type": "code",
   "execution_count": 727,
   "metadata": {},
   "outputs": [
    {
     "data": {
      "text/html": [
       "<div>\n",
       "<style scoped>\n",
       "    .dataframe tbody tr th:only-of-type {\n",
       "        vertical-align: middle;\n",
       "    }\n",
       "\n",
       "    .dataframe tbody tr th {\n",
       "        vertical-align: top;\n",
       "    }\n",
       "\n",
       "    .dataframe thead th {\n",
       "        text-align: right;\n",
       "    }\n",
       "</style>\n",
       "<table border=\"1\" class=\"dataframe\">\n",
       "  <thead>\n",
       "    <tr style=\"text-align: right;\">\n",
       "      <th></th>\n",
       "      <th>consult_cost</th>\n",
       "      <th>patient_num_of_children</th>\n",
       "      <th>patient_num_of_dependents</th>\n",
       "      <th>patient_age</th>\n",
       "      <th>consultant_doctor_experience</th>\n",
       "      <th>patient_anatomy_chest area</th>\n",
       "      <th>patient_anatomy_head</th>\n",
       "      <th>patient_anatomy_legs</th>\n",
       "      <th>patient_anatomy_shoulder</th>\n",
       "      <th>patient_anatomy_stomach</th>\n",
       "      <th>...</th>\n",
       "      <th>patient_consult_status_appointed session</th>\n",
       "      <th>patient_consult_status_new consultation</th>\n",
       "      <th>patient_consult_status_under appointment</th>\n",
       "      <th>patient_community_suburban</th>\n",
       "      <th>patient_community_urban</th>\n",
       "      <th>patient_marital_status_Married</th>\n",
       "      <th>patient_marital_status_Single</th>\n",
       "      <th>patient_has_children_Yes</th>\n",
       "      <th>patient_has_dependent_Yes</th>\n",
       "      <th>patient_gender_Male</th>\n",
       "    </tr>\n",
       "  </thead>\n",
       "  <tbody>\n",
       "    <tr>\n",
       "      <th>count</th>\n",
       "      <td>520.000000</td>\n",
       "      <td>520.000000</td>\n",
       "      <td>520.000000</td>\n",
       "      <td>520.000000</td>\n",
       "      <td>520.000000</td>\n",
       "      <td>520.000000</td>\n",
       "      <td>520.000000</td>\n",
       "      <td>520.000000</td>\n",
       "      <td>520.000000</td>\n",
       "      <td>520.000000</td>\n",
       "      <td>...</td>\n",
       "      <td>520.000000</td>\n",
       "      <td>520.000000</td>\n",
       "      <td>520.000000</td>\n",
       "      <td>520.000000</td>\n",
       "      <td>520.000000</td>\n",
       "      <td>520.000000</td>\n",
       "      <td>520.000000</td>\n",
       "      <td>520.000000</td>\n",
       "      <td>520.000000</td>\n",
       "      <td>520.000000</td>\n",
       "    </tr>\n",
       "    <tr>\n",
       "      <th>mean</th>\n",
       "      <td>5439.807692</td>\n",
       "      <td>1.984615</td>\n",
       "      <td>1.988462</td>\n",
       "      <td>24.825000</td>\n",
       "      <td>8.919231</td>\n",
       "      <td>0.090385</td>\n",
       "      <td>0.171154</td>\n",
       "      <td>0.119231</td>\n",
       "      <td>0.098077</td>\n",
       "      <td>0.209615</td>\n",
       "      <td>...</td>\n",
       "      <td>0.169231</td>\n",
       "      <td>0.434615</td>\n",
       "      <td>0.198077</td>\n",
       "      <td>0.357692</td>\n",
       "      <td>0.317308</td>\n",
       "      <td>0.359615</td>\n",
       "      <td>0.267308</td>\n",
       "      <td>0.505769</td>\n",
       "      <td>0.517308</td>\n",
       "      <td>0.500000</td>\n",
       "    </tr>\n",
       "    <tr>\n",
       "      <th>std</th>\n",
       "      <td>2814.354199</td>\n",
       "      <td>1.267556</td>\n",
       "      <td>1.325553</td>\n",
       "      <td>8.748804</td>\n",
       "      <td>5.064632</td>\n",
       "      <td>0.287008</td>\n",
       "      <td>0.377006</td>\n",
       "      <td>0.324372</td>\n",
       "      <td>0.297705</td>\n",
       "      <td>0.407426</td>\n",
       "      <td>...</td>\n",
       "      <td>0.375317</td>\n",
       "      <td>0.496184</td>\n",
       "      <td>0.398934</td>\n",
       "      <td>0.479782</td>\n",
       "      <td>0.465876</td>\n",
       "      <td>0.480350</td>\n",
       "      <td>0.442980</td>\n",
       "      <td>0.500448</td>\n",
       "      <td>0.500182</td>\n",
       "      <td>0.500481</td>\n",
       "    </tr>\n",
       "    <tr>\n",
       "      <th>min</th>\n",
       "      <td>1100.000000</td>\n",
       "      <td>0.000000</td>\n",
       "      <td>0.000000</td>\n",
       "      <td>10.000000</td>\n",
       "      <td>1.000000</td>\n",
       "      <td>0.000000</td>\n",
       "      <td>0.000000</td>\n",
       "      <td>0.000000</td>\n",
       "      <td>0.000000</td>\n",
       "      <td>0.000000</td>\n",
       "      <td>...</td>\n",
       "      <td>0.000000</td>\n",
       "      <td>0.000000</td>\n",
       "      <td>0.000000</td>\n",
       "      <td>0.000000</td>\n",
       "      <td>0.000000</td>\n",
       "      <td>0.000000</td>\n",
       "      <td>0.000000</td>\n",
       "      <td>0.000000</td>\n",
       "      <td>0.000000</td>\n",
       "      <td>0.000000</td>\n",
       "    </tr>\n",
       "    <tr>\n",
       "      <th>25%</th>\n",
       "      <td>2900.000000</td>\n",
       "      <td>1.000000</td>\n",
       "      <td>1.000000</td>\n",
       "      <td>17.000000</td>\n",
       "      <td>4.000000</td>\n",
       "      <td>0.000000</td>\n",
       "      <td>0.000000</td>\n",
       "      <td>0.000000</td>\n",
       "      <td>0.000000</td>\n",
       "      <td>0.000000</td>\n",
       "      <td>...</td>\n",
       "      <td>0.000000</td>\n",
       "      <td>0.000000</td>\n",
       "      <td>0.000000</td>\n",
       "      <td>0.000000</td>\n",
       "      <td>0.000000</td>\n",
       "      <td>0.000000</td>\n",
       "      <td>0.000000</td>\n",
       "      <td>0.000000</td>\n",
       "      <td>0.000000</td>\n",
       "      <td>0.000000</td>\n",
       "    </tr>\n",
       "    <tr>\n",
       "      <th>50%</th>\n",
       "      <td>5350.000000</td>\n",
       "      <td>2.000000</td>\n",
       "      <td>2.000000</td>\n",
       "      <td>24.500000</td>\n",
       "      <td>8.000000</td>\n",
       "      <td>0.000000</td>\n",
       "      <td>0.000000</td>\n",
       "      <td>0.000000</td>\n",
       "      <td>0.000000</td>\n",
       "      <td>0.000000</td>\n",
       "      <td>...</td>\n",
       "      <td>0.000000</td>\n",
       "      <td>0.000000</td>\n",
       "      <td>0.000000</td>\n",
       "      <td>0.000000</td>\n",
       "      <td>0.000000</td>\n",
       "      <td>0.000000</td>\n",
       "      <td>0.000000</td>\n",
       "      <td>1.000000</td>\n",
       "      <td>1.000000</td>\n",
       "      <td>0.500000</td>\n",
       "    </tr>\n",
       "    <tr>\n",
       "      <th>75%</th>\n",
       "      <td>8000.000000</td>\n",
       "      <td>3.000000</td>\n",
       "      <td>3.000000</td>\n",
       "      <td>32.000000</td>\n",
       "      <td>14.000000</td>\n",
       "      <td>0.000000</td>\n",
       "      <td>0.000000</td>\n",
       "      <td>0.000000</td>\n",
       "      <td>0.000000</td>\n",
       "      <td>0.000000</td>\n",
       "      <td>...</td>\n",
       "      <td>0.000000</td>\n",
       "      <td>1.000000</td>\n",
       "      <td>0.000000</td>\n",
       "      <td>1.000000</td>\n",
       "      <td>1.000000</td>\n",
       "      <td>1.000000</td>\n",
       "      <td>1.000000</td>\n",
       "      <td>1.000000</td>\n",
       "      <td>1.000000</td>\n",
       "      <td>1.000000</td>\n",
       "    </tr>\n",
       "    <tr>\n",
       "      <th>max</th>\n",
       "      <td>10700.000000</td>\n",
       "      <td>4.000000</td>\n",
       "      <td>4.000000</td>\n",
       "      <td>40.000000</td>\n",
       "      <td>18.000000</td>\n",
       "      <td>1.000000</td>\n",
       "      <td>1.000000</td>\n",
       "      <td>1.000000</td>\n",
       "      <td>1.000000</td>\n",
       "      <td>1.000000</td>\n",
       "      <td>...</td>\n",
       "      <td>1.000000</td>\n",
       "      <td>1.000000</td>\n",
       "      <td>1.000000</td>\n",
       "      <td>1.000000</td>\n",
       "      <td>1.000000</td>\n",
       "      <td>1.000000</td>\n",
       "      <td>1.000000</td>\n",
       "      <td>1.000000</td>\n",
       "      <td>1.000000</td>\n",
       "      <td>1.000000</td>\n",
       "    </tr>\n",
       "  </tbody>\n",
       "</table>\n",
       "<p>8 rows × 21 columns</p>\n",
       "</div>"
      ],
      "text/plain": [
       "       consult_cost  patient_num_of_children  patient_num_of_dependents  \\\n",
       "count    520.000000               520.000000                 520.000000   \n",
       "mean    5439.807692                 1.984615                   1.988462   \n",
       "std     2814.354199                 1.267556                   1.325553   \n",
       "min     1100.000000                 0.000000                   0.000000   \n",
       "25%     2900.000000                 1.000000                   1.000000   \n",
       "50%     5350.000000                 2.000000                   2.000000   \n",
       "75%     8000.000000                 3.000000                   3.000000   \n",
       "max    10700.000000                 4.000000                   4.000000   \n",
       "\n",
       "       patient_age  consultant_doctor_experience  patient_anatomy_chest area  \\\n",
       "count   520.000000                    520.000000                  520.000000   \n",
       "mean     24.825000                      8.919231                    0.090385   \n",
       "std       8.748804                      5.064632                    0.287008   \n",
       "min      10.000000                      1.000000                    0.000000   \n",
       "25%      17.000000                      4.000000                    0.000000   \n",
       "50%      24.500000                      8.000000                    0.000000   \n",
       "75%      32.000000                     14.000000                    0.000000   \n",
       "max      40.000000                     18.000000                    1.000000   \n",
       "\n",
       "       patient_anatomy_head  patient_anatomy_legs  patient_anatomy_shoulder  \\\n",
       "count            520.000000            520.000000                520.000000   \n",
       "mean               0.171154              0.119231                  0.098077   \n",
       "std                0.377006              0.324372                  0.297705   \n",
       "min                0.000000              0.000000                  0.000000   \n",
       "25%                0.000000              0.000000                  0.000000   \n",
       "50%                0.000000              0.000000                  0.000000   \n",
       "75%                0.000000              0.000000                  0.000000   \n",
       "max                1.000000              1.000000                  1.000000   \n",
       "\n",
       "       patient_anatomy_stomach  ...  patient_consult_status_appointed session  \\\n",
       "count               520.000000  ...                                520.000000   \n",
       "mean                  0.209615  ...                                  0.169231   \n",
       "std                   0.407426  ...                                  0.375317   \n",
       "min                   0.000000  ...                                  0.000000   \n",
       "25%                   0.000000  ...                                  0.000000   \n",
       "50%                   0.000000  ...                                  0.000000   \n",
       "75%                   0.000000  ...                                  0.000000   \n",
       "max                   1.000000  ...                                  1.000000   \n",
       "\n",
       "       patient_consult_status_new consultation  \\\n",
       "count                               520.000000   \n",
       "mean                                  0.434615   \n",
       "std                                   0.496184   \n",
       "min                                   0.000000   \n",
       "25%                                   0.000000   \n",
       "50%                                   0.000000   \n",
       "75%                                   1.000000   \n",
       "max                                   1.000000   \n",
       "\n",
       "       patient_consult_status_under appointment  patient_community_suburban  \\\n",
       "count                                520.000000                  520.000000   \n",
       "mean                                   0.198077                    0.357692   \n",
       "std                                    0.398934                    0.479782   \n",
       "min                                    0.000000                    0.000000   \n",
       "25%                                    0.000000                    0.000000   \n",
       "50%                                    0.000000                    0.000000   \n",
       "75%                                    0.000000                    1.000000   \n",
       "max                                    1.000000                    1.000000   \n",
       "\n",
       "       patient_community_urban  patient_marital_status_Married  \\\n",
       "count               520.000000                      520.000000   \n",
       "mean                  0.317308                        0.359615   \n",
       "std                   0.465876                        0.480350   \n",
       "min                   0.000000                        0.000000   \n",
       "25%                   0.000000                        0.000000   \n",
       "50%                   0.000000                        0.000000   \n",
       "75%                   1.000000                        1.000000   \n",
       "max                   1.000000                        1.000000   \n",
       "\n",
       "       patient_marital_status_Single  patient_has_children_Yes  \\\n",
       "count                     520.000000                520.000000   \n",
       "mean                        0.267308                  0.505769   \n",
       "std                         0.442980                  0.500448   \n",
       "min                         0.000000                  0.000000   \n",
       "25%                         0.000000                  0.000000   \n",
       "50%                         0.000000                  1.000000   \n",
       "75%                         1.000000                  1.000000   \n",
       "max                         1.000000                  1.000000   \n",
       "\n",
       "       patient_has_dependent_Yes  patient_gender_Male  \n",
       "count                 520.000000           520.000000  \n",
       "mean                    0.517308             0.500000  \n",
       "std                     0.500182             0.500481  \n",
       "min                     0.000000             0.000000  \n",
       "25%                     0.000000             0.000000  \n",
       "50%                     1.000000             0.500000  \n",
       "75%                     1.000000             1.000000  \n",
       "max                     1.000000             1.000000  \n",
       "\n",
       "[8 rows x 21 columns]"
      ]
     },
     "execution_count": 727,
     "metadata": {},
     "output_type": "execute_result"
    }
   ],
   "source": [
    "simulated_dataframe.describe()"
   ]
  },
  {
   "cell_type": "code",
   "execution_count": 728,
   "metadata": {},
   "outputs": [
    {
     "data": {
      "application/vnd.plotly.v1+json": {
       "config": {
        "plotlyServerURL": "https://plot.ly"
       },
       "data": [
        {
         "alignmentgroup": "True",
         "bingroup": "x",
         "hovertemplate": "consult_cost=%{x}<br>count=%{y}<extra></extra>",
         "legendgroup": "",
         "marker": {
          "color": "#636efa",
          "pattern": {
           "shape": ""
          }
         },
         "name": "",
         "offsetgroup": "",
         "orientation": "v",
         "showlegend": false,
         "type": "histogram",
         "x": [
          1900,
          9100,
          8200,
          5600,
          1200,
          2800,
          7300,
          3300,
          6000,
          4700,
          1200,
          8400,
          7300,
          5400,
          9400,
          9400,
          5200,
          7700,
          4400,
          8900,
          3300,
          1800,
          1200,
          8400,
          1700,
          9100,
          1100,
          7300,
          8900,
          8200,
          5900,
          6800,
          2500,
          6400,
          8300,
          1700,
          3300,
          5600,
          2100,
          7900,
          3300,
          3800,
          9300,
          3500,
          2500,
          7800,
          3400,
          2600,
          7700,
          10500,
          8300,
          3000,
          1300,
          7600,
          8900,
          4000,
          1400,
          4000,
          8900,
          1300,
          1500,
          5300,
          9300,
          1300,
          3300,
          7200,
          4100,
          4700,
          6600,
          1800,
          9200,
          7000,
          9900,
          5300,
          2100,
          5200,
          8300,
          6900,
          4000,
          7600,
          6800,
          9300,
          9300,
          4700,
          5200,
          3300,
          3300,
          4200,
          9600,
          1900,
          6600,
          7700,
          4500,
          8000,
          8200,
          9900,
          8400,
          6900,
          4500,
          5200,
          10500,
          4700,
          3800,
          1100,
          9700,
          7800,
          7200,
          8300,
          4100,
          2900,
          2200,
          5400,
          4600,
          9600,
          5900,
          8300,
          4000,
          3300,
          5600,
          2200,
          2200,
          8400,
          5400,
          1200,
          8700,
          6600,
          2000,
          9900,
          10200,
          9600,
          9100,
          2500,
          1800,
          3800,
          8200,
          3500,
          6800,
          8700,
          2400,
          6900,
          1400,
          9900,
          5700,
          5300,
          1100,
          1400,
          1300,
          1200,
          1400,
          3000,
          1300,
          1100,
          7300,
          2100,
          7900,
          5900,
          2100,
          2200,
          6300,
          6400,
          6400,
          1500,
          6300,
          1400,
          8400,
          1400,
          1700,
          5300,
          7400,
          8400,
          8700,
          4100,
          4500,
          8300,
          2600,
          2400,
          9300,
          4000,
          6200,
          4800,
          1400,
          6800,
          7200,
          5300,
          7200,
          6400,
          7900,
          7300,
          8800,
          1300,
          5300,
          10200,
          1500,
          5300,
          8800,
          2500,
          3300,
          5200,
          4900,
          2000,
          9300,
          8400,
          6000,
          1100,
          2700,
          7200,
          3500,
          6000,
          4900,
          1400,
          8200,
          7400,
          5200,
          9100,
          9400,
          5300,
          7800,
          5000,
          8700,
          3500,
          1700,
          1300,
          8300,
          2100,
          9400,
          1200,
          7300,
          8800,
          8200,
          5900,
          6900,
          2400,
          6300,
          8400,
          2200,
          3300,
          5900,
          1800,
          7900,
          3500,
          4200,
          9100,
          3400,
          2700,
          7700,
          3400,
          2500,
          7800,
          10200,
          8300,
          2700,
          1300,
          7700,
          8600,
          3800,
          1500,
          4200,
          8700,
          1100,
          1300,
          5300,
          9400,
          1400,
          3400,
          7200,
          4200,
          4900,
          6200,
          2200,
          9100,
          6800,
          9600,
          5200,
          1900,
          5400,
          8200,
          6800,
          4000,
          7900,
          6800,
          9200,
          9400,
          4800,
          5200,
          3500,
          3300,
          4100,
          9600,
          1700,
          6300,
          8000,
          4500,
          7600,
          8200,
          9600,
          8400,
          6800,
          4500,
          5400,
          10500,
          5000,
          3900,
          1300,
          9600,
          8000,
          7300,
          8300,
          3900,
          2900,
          1700,
          5200,
          4500,
          9900,
          5600,
          8400,
          4200,
          3500,
          5800,
          2000,
          2100,
          8300,
          5300,
          1200,
          8800,
          6300,
          1700,
          9800,
          10300,
          9800,
          9100,
          2400,
          2100,
          4100,
          8400,
          3300,
          7000,
          8800,
          2900,
          6800,
          1300,
          9800,
          5700,
          5400,
          1400,
          1400,
          1100,
          1500,
          1500,
          3000,
          1400,
          1300,
          7200,
          1700,
          8000,
          6000,
          2100,
          1900,
          6400,
          6400,
          6600,
          1100,
          6600,
          1400,
          8200,
          1400,
          2100,
          5400,
          7300,
          8200,
          8800,
          4200,
          5000,
          8400,
          3000,
          2800,
          9400,
          4200,
          6400,
          4900,
          1300,
          6800,
          7300,
          5300,
          7300,
          6300,
          7600,
          7200,
          8600,
          1500,
          5400,
          10200,
          1500,
          5300,
          8800,
          2700,
          3300,
          5400,
          4800,
          1300,
          1200,
          8200,
          4400,
          8400,
          2500,
          8000,
          9900,
          1400,
          1200,
          7400,
          1500,
          4500,
          2900,
          1800,
          9300,
          8300,
          5800,
          1300,
          3000,
          7300,
          3400,
          5800,
          4800,
          1300,
          8400,
          7200,
          5200,
          9300,
          9100,
          5400,
          8000,
          5000,
          8900,
          3400,
          1700,
          1500,
          8400,
          2200,
          9400,
          1100,
          7200,
          8600,
          8400,
          5700,
          6800,
          2400,
          6300,
          8300,
          1700,
          3300,
          5800,
          1700,
          7700,
          3500,
          4100,
          9200,
          3300,
          2400,
          7700,
          3400,
          2400,
          7700,
          10700,
          8200,
          2600,
          1300,
          7900,
          8900,
          4000,
          1500,
          3800,
          8600,
          1400,
          1300,
          5300,
          9300,
          1200,
          3500,
          7400,
          3800,
          4400,
          6600,
          2100,
          9200,
          7000,
          9800,
          5200,
          2100,
          5300,
          8200,
          7000,
          4200,
          7600,
          7000,
          9200,
          9100,
          4700,
          5200,
          3500,
          3400,
          4000,
          9800,
          1700,
          6400,
          8000,
          4900,
          7600,
          8200,
          9800,
          8300,
          6900,
          5000,
          5300,
          10400,
          4600,
          4200,
          1200,
          9700,
          7900,
          7400,
          8400
         ],
         "xaxis": "x",
         "yaxis": "y"
        },
        {
         "alignmentgroup": "True",
         "hovertemplate": "consult_cost=%{x}<extra></extra>",
         "legendgroup": "",
         "marker": {
          "color": "#636efa"
         },
         "name": "",
         "notched": true,
         "offsetgroup": "",
         "showlegend": false,
         "type": "box",
         "x": [
          1900,
          9100,
          8200,
          5600,
          1200,
          2800,
          7300,
          3300,
          6000,
          4700,
          1200,
          8400,
          7300,
          5400,
          9400,
          9400,
          5200,
          7700,
          4400,
          8900,
          3300,
          1800,
          1200,
          8400,
          1700,
          9100,
          1100,
          7300,
          8900,
          8200,
          5900,
          6800,
          2500,
          6400,
          8300,
          1700,
          3300,
          5600,
          2100,
          7900,
          3300,
          3800,
          9300,
          3500,
          2500,
          7800,
          3400,
          2600,
          7700,
          10500,
          8300,
          3000,
          1300,
          7600,
          8900,
          4000,
          1400,
          4000,
          8900,
          1300,
          1500,
          5300,
          9300,
          1300,
          3300,
          7200,
          4100,
          4700,
          6600,
          1800,
          9200,
          7000,
          9900,
          5300,
          2100,
          5200,
          8300,
          6900,
          4000,
          7600,
          6800,
          9300,
          9300,
          4700,
          5200,
          3300,
          3300,
          4200,
          9600,
          1900,
          6600,
          7700,
          4500,
          8000,
          8200,
          9900,
          8400,
          6900,
          4500,
          5200,
          10500,
          4700,
          3800,
          1100,
          9700,
          7800,
          7200,
          8300,
          4100,
          2900,
          2200,
          5400,
          4600,
          9600,
          5900,
          8300,
          4000,
          3300,
          5600,
          2200,
          2200,
          8400,
          5400,
          1200,
          8700,
          6600,
          2000,
          9900,
          10200,
          9600,
          9100,
          2500,
          1800,
          3800,
          8200,
          3500,
          6800,
          8700,
          2400,
          6900,
          1400,
          9900,
          5700,
          5300,
          1100,
          1400,
          1300,
          1200,
          1400,
          3000,
          1300,
          1100,
          7300,
          2100,
          7900,
          5900,
          2100,
          2200,
          6300,
          6400,
          6400,
          1500,
          6300,
          1400,
          8400,
          1400,
          1700,
          5300,
          7400,
          8400,
          8700,
          4100,
          4500,
          8300,
          2600,
          2400,
          9300,
          4000,
          6200,
          4800,
          1400,
          6800,
          7200,
          5300,
          7200,
          6400,
          7900,
          7300,
          8800,
          1300,
          5300,
          10200,
          1500,
          5300,
          8800,
          2500,
          3300,
          5200,
          4900,
          2000,
          9300,
          8400,
          6000,
          1100,
          2700,
          7200,
          3500,
          6000,
          4900,
          1400,
          8200,
          7400,
          5200,
          9100,
          9400,
          5300,
          7800,
          5000,
          8700,
          3500,
          1700,
          1300,
          8300,
          2100,
          9400,
          1200,
          7300,
          8800,
          8200,
          5900,
          6900,
          2400,
          6300,
          8400,
          2200,
          3300,
          5900,
          1800,
          7900,
          3500,
          4200,
          9100,
          3400,
          2700,
          7700,
          3400,
          2500,
          7800,
          10200,
          8300,
          2700,
          1300,
          7700,
          8600,
          3800,
          1500,
          4200,
          8700,
          1100,
          1300,
          5300,
          9400,
          1400,
          3400,
          7200,
          4200,
          4900,
          6200,
          2200,
          9100,
          6800,
          9600,
          5200,
          1900,
          5400,
          8200,
          6800,
          4000,
          7900,
          6800,
          9200,
          9400,
          4800,
          5200,
          3500,
          3300,
          4100,
          9600,
          1700,
          6300,
          8000,
          4500,
          7600,
          8200,
          9600,
          8400,
          6800,
          4500,
          5400,
          10500,
          5000,
          3900,
          1300,
          9600,
          8000,
          7300,
          8300,
          3900,
          2900,
          1700,
          5200,
          4500,
          9900,
          5600,
          8400,
          4200,
          3500,
          5800,
          2000,
          2100,
          8300,
          5300,
          1200,
          8800,
          6300,
          1700,
          9800,
          10300,
          9800,
          9100,
          2400,
          2100,
          4100,
          8400,
          3300,
          7000,
          8800,
          2900,
          6800,
          1300,
          9800,
          5700,
          5400,
          1400,
          1400,
          1100,
          1500,
          1500,
          3000,
          1400,
          1300,
          7200,
          1700,
          8000,
          6000,
          2100,
          1900,
          6400,
          6400,
          6600,
          1100,
          6600,
          1400,
          8200,
          1400,
          2100,
          5400,
          7300,
          8200,
          8800,
          4200,
          5000,
          8400,
          3000,
          2800,
          9400,
          4200,
          6400,
          4900,
          1300,
          6800,
          7300,
          5300,
          7300,
          6300,
          7600,
          7200,
          8600,
          1500,
          5400,
          10200,
          1500,
          5300,
          8800,
          2700,
          3300,
          5400,
          4800,
          1300,
          1200,
          8200,
          4400,
          8400,
          2500,
          8000,
          9900,
          1400,
          1200,
          7400,
          1500,
          4500,
          2900,
          1800,
          9300,
          8300,
          5800,
          1300,
          3000,
          7300,
          3400,
          5800,
          4800,
          1300,
          8400,
          7200,
          5200,
          9300,
          9100,
          5400,
          8000,
          5000,
          8900,
          3400,
          1700,
          1500,
          8400,
          2200,
          9400,
          1100,
          7200,
          8600,
          8400,
          5700,
          6800,
          2400,
          6300,
          8300,
          1700,
          3300,
          5800,
          1700,
          7700,
          3500,
          4100,
          9200,
          3300,
          2400,
          7700,
          3400,
          2400,
          7700,
          10700,
          8200,
          2600,
          1300,
          7900,
          8900,
          4000,
          1500,
          3800,
          8600,
          1400,
          1300,
          5300,
          9300,
          1200,
          3500,
          7400,
          3800,
          4400,
          6600,
          2100,
          9200,
          7000,
          9800,
          5200,
          2100,
          5300,
          8200,
          7000,
          4200,
          7600,
          7000,
          9200,
          9100,
          4700,
          5200,
          3500,
          3400,
          4000,
          9800,
          1700,
          6400,
          8000,
          4900,
          7600,
          8200,
          9800,
          8300,
          6900,
          5000,
          5300,
          10400,
          4600,
          4200,
          1200,
          9700,
          7900,
          7400,
          8400
         ],
         "xaxis": "x2",
         "yaxis": "y2"
        }
       ],
       "layout": {
        "barmode": "relative",
        "legend": {
         "tracegroupgap": 0
        },
        "margin": {
         "t": 60
        },
        "template": {
         "data": {
          "bar": [
           {
            "error_x": {
             "color": "#2a3f5f"
            },
            "error_y": {
             "color": "#2a3f5f"
            },
            "marker": {
             "line": {
              "color": "#E5ECF6",
              "width": 0.5
             },
             "pattern": {
              "fillmode": "overlay",
              "size": 10,
              "solidity": 0.2
             }
            },
            "type": "bar"
           }
          ],
          "barpolar": [
           {
            "marker": {
             "line": {
              "color": "#E5ECF6",
              "width": 0.5
             },
             "pattern": {
              "fillmode": "overlay",
              "size": 10,
              "solidity": 0.2
             }
            },
            "type": "barpolar"
           }
          ],
          "carpet": [
           {
            "aaxis": {
             "endlinecolor": "#2a3f5f",
             "gridcolor": "white",
             "linecolor": "white",
             "minorgridcolor": "white",
             "startlinecolor": "#2a3f5f"
            },
            "baxis": {
             "endlinecolor": "#2a3f5f",
             "gridcolor": "white",
             "linecolor": "white",
             "minorgridcolor": "white",
             "startlinecolor": "#2a3f5f"
            },
            "type": "carpet"
           }
          ],
          "choropleth": [
           {
            "colorbar": {
             "outlinewidth": 0,
             "ticks": ""
            },
            "type": "choropleth"
           }
          ],
          "contour": [
           {
            "colorbar": {
             "outlinewidth": 0,
             "ticks": ""
            },
            "colorscale": [
             [
              0,
              "#0d0887"
             ],
             [
              0.1111111111111111,
              "#46039f"
             ],
             [
              0.2222222222222222,
              "#7201a8"
             ],
             [
              0.3333333333333333,
              "#9c179e"
             ],
             [
              0.4444444444444444,
              "#bd3786"
             ],
             [
              0.5555555555555556,
              "#d8576b"
             ],
             [
              0.6666666666666666,
              "#ed7953"
             ],
             [
              0.7777777777777778,
              "#fb9f3a"
             ],
             [
              0.8888888888888888,
              "#fdca26"
             ],
             [
              1,
              "#f0f921"
             ]
            ],
            "type": "contour"
           }
          ],
          "contourcarpet": [
           {
            "colorbar": {
             "outlinewidth": 0,
             "ticks": ""
            },
            "type": "contourcarpet"
           }
          ],
          "heatmap": [
           {
            "colorbar": {
             "outlinewidth": 0,
             "ticks": ""
            },
            "colorscale": [
             [
              0,
              "#0d0887"
             ],
             [
              0.1111111111111111,
              "#46039f"
             ],
             [
              0.2222222222222222,
              "#7201a8"
             ],
             [
              0.3333333333333333,
              "#9c179e"
             ],
             [
              0.4444444444444444,
              "#bd3786"
             ],
             [
              0.5555555555555556,
              "#d8576b"
             ],
             [
              0.6666666666666666,
              "#ed7953"
             ],
             [
              0.7777777777777778,
              "#fb9f3a"
             ],
             [
              0.8888888888888888,
              "#fdca26"
             ],
             [
              1,
              "#f0f921"
             ]
            ],
            "type": "heatmap"
           }
          ],
          "heatmapgl": [
           {
            "colorbar": {
             "outlinewidth": 0,
             "ticks": ""
            },
            "colorscale": [
             [
              0,
              "#0d0887"
             ],
             [
              0.1111111111111111,
              "#46039f"
             ],
             [
              0.2222222222222222,
              "#7201a8"
             ],
             [
              0.3333333333333333,
              "#9c179e"
             ],
             [
              0.4444444444444444,
              "#bd3786"
             ],
             [
              0.5555555555555556,
              "#d8576b"
             ],
             [
              0.6666666666666666,
              "#ed7953"
             ],
             [
              0.7777777777777778,
              "#fb9f3a"
             ],
             [
              0.8888888888888888,
              "#fdca26"
             ],
             [
              1,
              "#f0f921"
             ]
            ],
            "type": "heatmapgl"
           }
          ],
          "histogram": [
           {
            "marker": {
             "pattern": {
              "fillmode": "overlay",
              "size": 10,
              "solidity": 0.2
             }
            },
            "type": "histogram"
           }
          ],
          "histogram2d": [
           {
            "colorbar": {
             "outlinewidth": 0,
             "ticks": ""
            },
            "colorscale": [
             [
              0,
              "#0d0887"
             ],
             [
              0.1111111111111111,
              "#46039f"
             ],
             [
              0.2222222222222222,
              "#7201a8"
             ],
             [
              0.3333333333333333,
              "#9c179e"
             ],
             [
              0.4444444444444444,
              "#bd3786"
             ],
             [
              0.5555555555555556,
              "#d8576b"
             ],
             [
              0.6666666666666666,
              "#ed7953"
             ],
             [
              0.7777777777777778,
              "#fb9f3a"
             ],
             [
              0.8888888888888888,
              "#fdca26"
             ],
             [
              1,
              "#f0f921"
             ]
            ],
            "type": "histogram2d"
           }
          ],
          "histogram2dcontour": [
           {
            "colorbar": {
             "outlinewidth": 0,
             "ticks": ""
            },
            "colorscale": [
             [
              0,
              "#0d0887"
             ],
             [
              0.1111111111111111,
              "#46039f"
             ],
             [
              0.2222222222222222,
              "#7201a8"
             ],
             [
              0.3333333333333333,
              "#9c179e"
             ],
             [
              0.4444444444444444,
              "#bd3786"
             ],
             [
              0.5555555555555556,
              "#d8576b"
             ],
             [
              0.6666666666666666,
              "#ed7953"
             ],
             [
              0.7777777777777778,
              "#fb9f3a"
             ],
             [
              0.8888888888888888,
              "#fdca26"
             ],
             [
              1,
              "#f0f921"
             ]
            ],
            "type": "histogram2dcontour"
           }
          ],
          "mesh3d": [
           {
            "colorbar": {
             "outlinewidth": 0,
             "ticks": ""
            },
            "type": "mesh3d"
           }
          ],
          "parcoords": [
           {
            "line": {
             "colorbar": {
              "outlinewidth": 0,
              "ticks": ""
             }
            },
            "type": "parcoords"
           }
          ],
          "pie": [
           {
            "automargin": true,
            "type": "pie"
           }
          ],
          "scatter": [
           {
            "fillpattern": {
             "fillmode": "overlay",
             "size": 10,
             "solidity": 0.2
            },
            "type": "scatter"
           }
          ],
          "scatter3d": [
           {
            "line": {
             "colorbar": {
              "outlinewidth": 0,
              "ticks": ""
             }
            },
            "marker": {
             "colorbar": {
              "outlinewidth": 0,
              "ticks": ""
             }
            },
            "type": "scatter3d"
           }
          ],
          "scattercarpet": [
           {
            "marker": {
             "colorbar": {
              "outlinewidth": 0,
              "ticks": ""
             }
            },
            "type": "scattercarpet"
           }
          ],
          "scattergeo": [
           {
            "marker": {
             "colorbar": {
              "outlinewidth": 0,
              "ticks": ""
             }
            },
            "type": "scattergeo"
           }
          ],
          "scattergl": [
           {
            "marker": {
             "colorbar": {
              "outlinewidth": 0,
              "ticks": ""
             }
            },
            "type": "scattergl"
           }
          ],
          "scattermapbox": [
           {
            "marker": {
             "colorbar": {
              "outlinewidth": 0,
              "ticks": ""
             }
            },
            "type": "scattermapbox"
           }
          ],
          "scatterpolar": [
           {
            "marker": {
             "colorbar": {
              "outlinewidth": 0,
              "ticks": ""
             }
            },
            "type": "scatterpolar"
           }
          ],
          "scatterpolargl": [
           {
            "marker": {
             "colorbar": {
              "outlinewidth": 0,
              "ticks": ""
             }
            },
            "type": "scatterpolargl"
           }
          ],
          "scatterternary": [
           {
            "marker": {
             "colorbar": {
              "outlinewidth": 0,
              "ticks": ""
             }
            },
            "type": "scatterternary"
           }
          ],
          "surface": [
           {
            "colorbar": {
             "outlinewidth": 0,
             "ticks": ""
            },
            "colorscale": [
             [
              0,
              "#0d0887"
             ],
             [
              0.1111111111111111,
              "#46039f"
             ],
             [
              0.2222222222222222,
              "#7201a8"
             ],
             [
              0.3333333333333333,
              "#9c179e"
             ],
             [
              0.4444444444444444,
              "#bd3786"
             ],
             [
              0.5555555555555556,
              "#d8576b"
             ],
             [
              0.6666666666666666,
              "#ed7953"
             ],
             [
              0.7777777777777778,
              "#fb9f3a"
             ],
             [
              0.8888888888888888,
              "#fdca26"
             ],
             [
              1,
              "#f0f921"
             ]
            ],
            "type": "surface"
           }
          ],
          "table": [
           {
            "cells": {
             "fill": {
              "color": "#EBF0F8"
             },
             "line": {
              "color": "white"
             }
            },
            "header": {
             "fill": {
              "color": "#C8D4E3"
             },
             "line": {
              "color": "white"
             }
            },
            "type": "table"
           }
          ]
         },
         "layout": {
          "annotationdefaults": {
           "arrowcolor": "#2a3f5f",
           "arrowhead": 0,
           "arrowwidth": 1
          },
          "autotypenumbers": "strict",
          "coloraxis": {
           "colorbar": {
            "outlinewidth": 0,
            "ticks": ""
           }
          },
          "colorscale": {
           "diverging": [
            [
             0,
             "#8e0152"
            ],
            [
             0.1,
             "#c51b7d"
            ],
            [
             0.2,
             "#de77ae"
            ],
            [
             0.3,
             "#f1b6da"
            ],
            [
             0.4,
             "#fde0ef"
            ],
            [
             0.5,
             "#f7f7f7"
            ],
            [
             0.6,
             "#e6f5d0"
            ],
            [
             0.7,
             "#b8e186"
            ],
            [
             0.8,
             "#7fbc41"
            ],
            [
             0.9,
             "#4d9221"
            ],
            [
             1,
             "#276419"
            ]
           ],
           "sequential": [
            [
             0,
             "#0d0887"
            ],
            [
             0.1111111111111111,
             "#46039f"
            ],
            [
             0.2222222222222222,
             "#7201a8"
            ],
            [
             0.3333333333333333,
             "#9c179e"
            ],
            [
             0.4444444444444444,
             "#bd3786"
            ],
            [
             0.5555555555555556,
             "#d8576b"
            ],
            [
             0.6666666666666666,
             "#ed7953"
            ],
            [
             0.7777777777777778,
             "#fb9f3a"
            ],
            [
             0.8888888888888888,
             "#fdca26"
            ],
            [
             1,
             "#f0f921"
            ]
           ],
           "sequentialminus": [
            [
             0,
             "#0d0887"
            ],
            [
             0.1111111111111111,
             "#46039f"
            ],
            [
             0.2222222222222222,
             "#7201a8"
            ],
            [
             0.3333333333333333,
             "#9c179e"
            ],
            [
             0.4444444444444444,
             "#bd3786"
            ],
            [
             0.5555555555555556,
             "#d8576b"
            ],
            [
             0.6666666666666666,
             "#ed7953"
            ],
            [
             0.7777777777777778,
             "#fb9f3a"
            ],
            [
             0.8888888888888888,
             "#fdca26"
            ],
            [
             1,
             "#f0f921"
            ]
           ]
          },
          "colorway": [
           "#636efa",
           "#EF553B",
           "#00cc96",
           "#ab63fa",
           "#FFA15A",
           "#19d3f3",
           "#FF6692",
           "#B6E880",
           "#FF97FF",
           "#FECB52"
          ],
          "font": {
           "color": "#2a3f5f"
          },
          "geo": {
           "bgcolor": "white",
           "lakecolor": "white",
           "landcolor": "#E5ECF6",
           "showlakes": true,
           "showland": true,
           "subunitcolor": "white"
          },
          "hoverlabel": {
           "align": "left"
          },
          "hovermode": "closest",
          "mapbox": {
           "style": "light"
          },
          "paper_bgcolor": "white",
          "plot_bgcolor": "#E5ECF6",
          "polar": {
           "angularaxis": {
            "gridcolor": "white",
            "linecolor": "white",
            "ticks": ""
           },
           "bgcolor": "#E5ECF6",
           "radialaxis": {
            "gridcolor": "white",
            "linecolor": "white",
            "ticks": ""
           }
          },
          "scene": {
           "xaxis": {
            "backgroundcolor": "#E5ECF6",
            "gridcolor": "white",
            "gridwidth": 2,
            "linecolor": "white",
            "showbackground": true,
            "ticks": "",
            "zerolinecolor": "white"
           },
           "yaxis": {
            "backgroundcolor": "#E5ECF6",
            "gridcolor": "white",
            "gridwidth": 2,
            "linecolor": "white",
            "showbackground": true,
            "ticks": "",
            "zerolinecolor": "white"
           },
           "zaxis": {
            "backgroundcolor": "#E5ECF6",
            "gridcolor": "white",
            "gridwidth": 2,
            "linecolor": "white",
            "showbackground": true,
            "ticks": "",
            "zerolinecolor": "white"
           }
          },
          "shapedefaults": {
           "line": {
            "color": "#2a3f5f"
           }
          },
          "ternary": {
           "aaxis": {
            "gridcolor": "white",
            "linecolor": "white",
            "ticks": ""
           },
           "baxis": {
            "gridcolor": "white",
            "linecolor": "white",
            "ticks": ""
           },
           "bgcolor": "#E5ECF6",
           "caxis": {
            "gridcolor": "white",
            "linecolor": "white",
            "ticks": ""
           }
          },
          "title": {
           "x": 0.05
          },
          "xaxis": {
           "automargin": true,
           "gridcolor": "white",
           "linecolor": "white",
           "ticks": "",
           "title": {
            "standoff": 15
           },
           "zerolinecolor": "white",
           "zerolinewidth": 2
          },
          "yaxis": {
           "automargin": true,
           "gridcolor": "white",
           "linecolor": "white",
           "ticks": "",
           "title": {
            "standoff": 15
           },
           "zerolinecolor": "white",
           "zerolinewidth": 2
          }
         }
        },
        "xaxis": {
         "anchor": "y",
         "domain": [
          0,
          1
         ],
         "title": {
          "text": "consult_cost"
         }
        },
        "xaxis2": {
         "anchor": "y2",
         "domain": [
          0,
          1
         ],
         "matches": "x",
         "showgrid": true,
         "showticklabels": false
        },
        "yaxis": {
         "anchor": "x",
         "domain": [
          0,
          0.8316
         ],
         "title": {
          "text": "count"
         }
        },
        "yaxis2": {
         "anchor": "x2",
         "domain": [
          0.8416,
          1
         ],
         "matches": "y2",
         "showgrid": false,
         "showline": false,
         "showticklabels": false,
         "ticks": ""
        }
       }
      }
     },
     "metadata": {},
     "output_type": "display_data"
    }
   ],
   "source": [
    "px.histogram(simulated_dataframe, x=\"consult_cost\", marginal=\"box\")"
   ]
  },
  {
   "cell_type": "code",
   "execution_count": 729,
   "metadata": {},
   "outputs": [
    {
     "data": {
      "application/vnd.plotly.v1+json": {
       "config": {
        "plotlyServerURL": "https://plot.ly"
       },
       "data": [
        {
         "alignmentgroup": "True",
         "bingroup": "x",
         "hovertemplate": "consultant_doctor_experience=%{x}<br>count=%{y}<extra></extra>",
         "legendgroup": "",
         "marker": {
          "color": "#636efa",
          "pattern": {
           "shape": ""
          }
         },
         "name": "",
         "offsetgroup": "",
         "orientation": "v",
         "showlegend": false,
         "type": "histogram",
         "x": [
          3,
          16,
          14,
          9,
          1,
          4,
          13,
          5,
          9,
          7,
          2,
          14,
          12,
          8,
          16,
          17,
          8,
          13,
          7,
          15,
          5,
          3,
          3,
          14,
          4,
          16,
          3,
          12,
          15,
          15,
          9,
          11,
          5,
          10,
          14,
          3,
          5,
          9,
          3,
          13,
          5,
          6,
          17,
          5,
          4,
          13,
          5,
          4,
          13,
          18,
          15,
          4,
          2,
          14,
          16,
          6,
          1,
          6,
          15,
          1,
          2,
          8,
          16,
          2,
          5,
          12,
          6,
          7,
          10,
          3,
          16,
          11,
          17,
          8,
          3,
          8,
          14,
          11,
          6,
          13,
          11,
          16,
          16,
          7,
          8,
          5,
          6,
          6,
          17,
          3,
          10,
          13,
          7,
          14,
          14,
          17,
          14,
          11,
          7,
          8,
          18,
          7,
          6,
          2,
          17,
          13,
          12,
          14,
          6,
          4,
          3,
          8,
          7,
          17,
          9,
          15,
          6,
          5,
          9,
          3,
          4,
          15,
          8,
          1,
          15,
          11,
          4,
          17,
          18,
          17,
          16,
          4,
          3,
          6,
          14,
          5,
          11,
          15,
          4,
          11,
          2,
          18,
          10,
          8,
          1,
          2,
          1,
          2,
          2,
          5,
          1,
          2,
          12,
          3,
          13,
          9,
          3,
          3,
          10,
          10,
          10,
          2,
          10,
          3,
          14,
          1,
          3,
          8,
          12,
          14,
          15,
          6,
          7,
          14,
          4,
          4,
          16,
          6,
          10,
          7,
          1,
          11,
          12,
          9,
          13,
          10,
          14,
          12,
          15,
          3,
          8,
          18,
          3,
          8,
          15,
          4,
          5,
          8,
          7,
          3,
          16,
          14,
          9,
          1,
          4,
          13,
          5,
          9,
          7,
          2,
          14,
          12,
          8,
          16,
          17,
          8,
          13,
          7,
          15,
          5,
          3,
          3,
          14,
          4,
          16,
          3,
          12,
          15,
          15,
          9,
          11,
          5,
          10,
          14,
          3,
          5,
          9,
          3,
          13,
          5,
          6,
          17,
          5,
          4,
          13,
          5,
          4,
          13,
          18,
          15,
          4,
          2,
          14,
          16,
          6,
          1,
          6,
          15,
          1,
          2,
          8,
          16,
          2,
          5,
          12,
          6,
          7,
          10,
          3,
          16,
          11,
          17,
          8,
          3,
          8,
          14,
          11,
          6,
          13,
          11,
          16,
          16,
          7,
          8,
          5,
          6,
          6,
          17,
          3,
          10,
          13,
          7,
          14,
          14,
          17,
          14,
          11,
          7,
          8,
          18,
          7,
          6,
          2,
          17,
          13,
          12,
          14,
          6,
          4,
          3,
          8,
          7,
          17,
          9,
          15,
          6,
          5,
          9,
          3,
          4,
          15,
          8,
          1,
          15,
          11,
          4,
          17,
          18,
          17,
          16,
          4,
          3,
          6,
          14,
          5,
          11,
          15,
          4,
          11,
          2,
          18,
          10,
          8,
          1,
          2,
          1,
          2,
          2,
          5,
          1,
          2,
          12,
          3,
          13,
          9,
          3,
          3,
          10,
          10,
          10,
          2,
          10,
          3,
          14,
          1,
          3,
          8,
          12,
          14,
          15,
          6,
          7,
          14,
          4,
          4,
          16,
          6,
          10,
          7,
          1,
          11,
          12,
          9,
          13,
          10,
          14,
          12,
          15,
          3,
          8,
          18,
          3,
          8,
          15,
          4,
          5,
          8,
          7,
          2,
          1,
          14,
          7,
          14,
          4,
          14,
          18,
          1,
          2,
          12,
          2,
          7,
          4,
          3,
          16,
          14,
          9,
          1,
          4,
          13,
          5,
          9,
          7,
          2,
          14,
          12,
          8,
          16,
          17,
          8,
          13,
          7,
          15,
          5,
          3,
          3,
          14,
          4,
          16,
          3,
          12,
          15,
          15,
          9,
          11,
          5,
          10,
          14,
          3,
          5,
          9,
          3,
          13,
          5,
          6,
          17,
          5,
          4,
          13,
          5,
          4,
          13,
          18,
          15,
          4,
          2,
          14,
          16,
          6,
          1,
          6,
          15,
          1,
          2,
          8,
          16,
          2,
          5,
          12,
          6,
          7,
          10,
          3,
          16,
          11,
          17,
          8,
          3,
          8,
          14,
          11,
          6,
          13,
          11,
          16,
          16,
          7,
          8,
          5,
          6,
          6,
          17,
          3,
          10,
          13,
          7,
          14,
          14,
          17,
          14,
          11,
          7,
          8,
          18,
          7,
          6,
          2,
          17,
          13,
          12,
          14
         ],
         "xaxis": "x",
         "yaxis": "y"
        },
        {
         "alignmentgroup": "True",
         "hovertemplate": "consultant_doctor_experience=%{x}<extra></extra>",
         "legendgroup": "",
         "marker": {
          "color": "#636efa"
         },
         "name": "",
         "notched": true,
         "offsetgroup": "",
         "showlegend": false,
         "type": "box",
         "x": [
          3,
          16,
          14,
          9,
          1,
          4,
          13,
          5,
          9,
          7,
          2,
          14,
          12,
          8,
          16,
          17,
          8,
          13,
          7,
          15,
          5,
          3,
          3,
          14,
          4,
          16,
          3,
          12,
          15,
          15,
          9,
          11,
          5,
          10,
          14,
          3,
          5,
          9,
          3,
          13,
          5,
          6,
          17,
          5,
          4,
          13,
          5,
          4,
          13,
          18,
          15,
          4,
          2,
          14,
          16,
          6,
          1,
          6,
          15,
          1,
          2,
          8,
          16,
          2,
          5,
          12,
          6,
          7,
          10,
          3,
          16,
          11,
          17,
          8,
          3,
          8,
          14,
          11,
          6,
          13,
          11,
          16,
          16,
          7,
          8,
          5,
          6,
          6,
          17,
          3,
          10,
          13,
          7,
          14,
          14,
          17,
          14,
          11,
          7,
          8,
          18,
          7,
          6,
          2,
          17,
          13,
          12,
          14,
          6,
          4,
          3,
          8,
          7,
          17,
          9,
          15,
          6,
          5,
          9,
          3,
          4,
          15,
          8,
          1,
          15,
          11,
          4,
          17,
          18,
          17,
          16,
          4,
          3,
          6,
          14,
          5,
          11,
          15,
          4,
          11,
          2,
          18,
          10,
          8,
          1,
          2,
          1,
          2,
          2,
          5,
          1,
          2,
          12,
          3,
          13,
          9,
          3,
          3,
          10,
          10,
          10,
          2,
          10,
          3,
          14,
          1,
          3,
          8,
          12,
          14,
          15,
          6,
          7,
          14,
          4,
          4,
          16,
          6,
          10,
          7,
          1,
          11,
          12,
          9,
          13,
          10,
          14,
          12,
          15,
          3,
          8,
          18,
          3,
          8,
          15,
          4,
          5,
          8,
          7,
          3,
          16,
          14,
          9,
          1,
          4,
          13,
          5,
          9,
          7,
          2,
          14,
          12,
          8,
          16,
          17,
          8,
          13,
          7,
          15,
          5,
          3,
          3,
          14,
          4,
          16,
          3,
          12,
          15,
          15,
          9,
          11,
          5,
          10,
          14,
          3,
          5,
          9,
          3,
          13,
          5,
          6,
          17,
          5,
          4,
          13,
          5,
          4,
          13,
          18,
          15,
          4,
          2,
          14,
          16,
          6,
          1,
          6,
          15,
          1,
          2,
          8,
          16,
          2,
          5,
          12,
          6,
          7,
          10,
          3,
          16,
          11,
          17,
          8,
          3,
          8,
          14,
          11,
          6,
          13,
          11,
          16,
          16,
          7,
          8,
          5,
          6,
          6,
          17,
          3,
          10,
          13,
          7,
          14,
          14,
          17,
          14,
          11,
          7,
          8,
          18,
          7,
          6,
          2,
          17,
          13,
          12,
          14,
          6,
          4,
          3,
          8,
          7,
          17,
          9,
          15,
          6,
          5,
          9,
          3,
          4,
          15,
          8,
          1,
          15,
          11,
          4,
          17,
          18,
          17,
          16,
          4,
          3,
          6,
          14,
          5,
          11,
          15,
          4,
          11,
          2,
          18,
          10,
          8,
          1,
          2,
          1,
          2,
          2,
          5,
          1,
          2,
          12,
          3,
          13,
          9,
          3,
          3,
          10,
          10,
          10,
          2,
          10,
          3,
          14,
          1,
          3,
          8,
          12,
          14,
          15,
          6,
          7,
          14,
          4,
          4,
          16,
          6,
          10,
          7,
          1,
          11,
          12,
          9,
          13,
          10,
          14,
          12,
          15,
          3,
          8,
          18,
          3,
          8,
          15,
          4,
          5,
          8,
          7,
          2,
          1,
          14,
          7,
          14,
          4,
          14,
          18,
          1,
          2,
          12,
          2,
          7,
          4,
          3,
          16,
          14,
          9,
          1,
          4,
          13,
          5,
          9,
          7,
          2,
          14,
          12,
          8,
          16,
          17,
          8,
          13,
          7,
          15,
          5,
          3,
          3,
          14,
          4,
          16,
          3,
          12,
          15,
          15,
          9,
          11,
          5,
          10,
          14,
          3,
          5,
          9,
          3,
          13,
          5,
          6,
          17,
          5,
          4,
          13,
          5,
          4,
          13,
          18,
          15,
          4,
          2,
          14,
          16,
          6,
          1,
          6,
          15,
          1,
          2,
          8,
          16,
          2,
          5,
          12,
          6,
          7,
          10,
          3,
          16,
          11,
          17,
          8,
          3,
          8,
          14,
          11,
          6,
          13,
          11,
          16,
          16,
          7,
          8,
          5,
          6,
          6,
          17,
          3,
          10,
          13,
          7,
          14,
          14,
          17,
          14,
          11,
          7,
          8,
          18,
          7,
          6,
          2,
          17,
          13,
          12,
          14
         ],
         "xaxis": "x2",
         "yaxis": "y2"
        }
       ],
       "layout": {
        "barmode": "relative",
        "legend": {
         "tracegroupgap": 0
        },
        "margin": {
         "t": 60
        },
        "template": {
         "data": {
          "bar": [
           {
            "error_x": {
             "color": "#2a3f5f"
            },
            "error_y": {
             "color": "#2a3f5f"
            },
            "marker": {
             "line": {
              "color": "#E5ECF6",
              "width": 0.5
             },
             "pattern": {
              "fillmode": "overlay",
              "size": 10,
              "solidity": 0.2
             }
            },
            "type": "bar"
           }
          ],
          "barpolar": [
           {
            "marker": {
             "line": {
              "color": "#E5ECF6",
              "width": 0.5
             },
             "pattern": {
              "fillmode": "overlay",
              "size": 10,
              "solidity": 0.2
             }
            },
            "type": "barpolar"
           }
          ],
          "carpet": [
           {
            "aaxis": {
             "endlinecolor": "#2a3f5f",
             "gridcolor": "white",
             "linecolor": "white",
             "minorgridcolor": "white",
             "startlinecolor": "#2a3f5f"
            },
            "baxis": {
             "endlinecolor": "#2a3f5f",
             "gridcolor": "white",
             "linecolor": "white",
             "minorgridcolor": "white",
             "startlinecolor": "#2a3f5f"
            },
            "type": "carpet"
           }
          ],
          "choropleth": [
           {
            "colorbar": {
             "outlinewidth": 0,
             "ticks": ""
            },
            "type": "choropleth"
           }
          ],
          "contour": [
           {
            "colorbar": {
             "outlinewidth": 0,
             "ticks": ""
            },
            "colorscale": [
             [
              0,
              "#0d0887"
             ],
             [
              0.1111111111111111,
              "#46039f"
             ],
             [
              0.2222222222222222,
              "#7201a8"
             ],
             [
              0.3333333333333333,
              "#9c179e"
             ],
             [
              0.4444444444444444,
              "#bd3786"
             ],
             [
              0.5555555555555556,
              "#d8576b"
             ],
             [
              0.6666666666666666,
              "#ed7953"
             ],
             [
              0.7777777777777778,
              "#fb9f3a"
             ],
             [
              0.8888888888888888,
              "#fdca26"
             ],
             [
              1,
              "#f0f921"
             ]
            ],
            "type": "contour"
           }
          ],
          "contourcarpet": [
           {
            "colorbar": {
             "outlinewidth": 0,
             "ticks": ""
            },
            "type": "contourcarpet"
           }
          ],
          "heatmap": [
           {
            "colorbar": {
             "outlinewidth": 0,
             "ticks": ""
            },
            "colorscale": [
             [
              0,
              "#0d0887"
             ],
             [
              0.1111111111111111,
              "#46039f"
             ],
             [
              0.2222222222222222,
              "#7201a8"
             ],
             [
              0.3333333333333333,
              "#9c179e"
             ],
             [
              0.4444444444444444,
              "#bd3786"
             ],
             [
              0.5555555555555556,
              "#d8576b"
             ],
             [
              0.6666666666666666,
              "#ed7953"
             ],
             [
              0.7777777777777778,
              "#fb9f3a"
             ],
             [
              0.8888888888888888,
              "#fdca26"
             ],
             [
              1,
              "#f0f921"
             ]
            ],
            "type": "heatmap"
           }
          ],
          "heatmapgl": [
           {
            "colorbar": {
             "outlinewidth": 0,
             "ticks": ""
            },
            "colorscale": [
             [
              0,
              "#0d0887"
             ],
             [
              0.1111111111111111,
              "#46039f"
             ],
             [
              0.2222222222222222,
              "#7201a8"
             ],
             [
              0.3333333333333333,
              "#9c179e"
             ],
             [
              0.4444444444444444,
              "#bd3786"
             ],
             [
              0.5555555555555556,
              "#d8576b"
             ],
             [
              0.6666666666666666,
              "#ed7953"
             ],
             [
              0.7777777777777778,
              "#fb9f3a"
             ],
             [
              0.8888888888888888,
              "#fdca26"
             ],
             [
              1,
              "#f0f921"
             ]
            ],
            "type": "heatmapgl"
           }
          ],
          "histogram": [
           {
            "marker": {
             "pattern": {
              "fillmode": "overlay",
              "size": 10,
              "solidity": 0.2
             }
            },
            "type": "histogram"
           }
          ],
          "histogram2d": [
           {
            "colorbar": {
             "outlinewidth": 0,
             "ticks": ""
            },
            "colorscale": [
             [
              0,
              "#0d0887"
             ],
             [
              0.1111111111111111,
              "#46039f"
             ],
             [
              0.2222222222222222,
              "#7201a8"
             ],
             [
              0.3333333333333333,
              "#9c179e"
             ],
             [
              0.4444444444444444,
              "#bd3786"
             ],
             [
              0.5555555555555556,
              "#d8576b"
             ],
             [
              0.6666666666666666,
              "#ed7953"
             ],
             [
              0.7777777777777778,
              "#fb9f3a"
             ],
             [
              0.8888888888888888,
              "#fdca26"
             ],
             [
              1,
              "#f0f921"
             ]
            ],
            "type": "histogram2d"
           }
          ],
          "histogram2dcontour": [
           {
            "colorbar": {
             "outlinewidth": 0,
             "ticks": ""
            },
            "colorscale": [
             [
              0,
              "#0d0887"
             ],
             [
              0.1111111111111111,
              "#46039f"
             ],
             [
              0.2222222222222222,
              "#7201a8"
             ],
             [
              0.3333333333333333,
              "#9c179e"
             ],
             [
              0.4444444444444444,
              "#bd3786"
             ],
             [
              0.5555555555555556,
              "#d8576b"
             ],
             [
              0.6666666666666666,
              "#ed7953"
             ],
             [
              0.7777777777777778,
              "#fb9f3a"
             ],
             [
              0.8888888888888888,
              "#fdca26"
             ],
             [
              1,
              "#f0f921"
             ]
            ],
            "type": "histogram2dcontour"
           }
          ],
          "mesh3d": [
           {
            "colorbar": {
             "outlinewidth": 0,
             "ticks": ""
            },
            "type": "mesh3d"
           }
          ],
          "parcoords": [
           {
            "line": {
             "colorbar": {
              "outlinewidth": 0,
              "ticks": ""
             }
            },
            "type": "parcoords"
           }
          ],
          "pie": [
           {
            "automargin": true,
            "type": "pie"
           }
          ],
          "scatter": [
           {
            "fillpattern": {
             "fillmode": "overlay",
             "size": 10,
             "solidity": 0.2
            },
            "type": "scatter"
           }
          ],
          "scatter3d": [
           {
            "line": {
             "colorbar": {
              "outlinewidth": 0,
              "ticks": ""
             }
            },
            "marker": {
             "colorbar": {
              "outlinewidth": 0,
              "ticks": ""
             }
            },
            "type": "scatter3d"
           }
          ],
          "scattercarpet": [
           {
            "marker": {
             "colorbar": {
              "outlinewidth": 0,
              "ticks": ""
             }
            },
            "type": "scattercarpet"
           }
          ],
          "scattergeo": [
           {
            "marker": {
             "colorbar": {
              "outlinewidth": 0,
              "ticks": ""
             }
            },
            "type": "scattergeo"
           }
          ],
          "scattergl": [
           {
            "marker": {
             "colorbar": {
              "outlinewidth": 0,
              "ticks": ""
             }
            },
            "type": "scattergl"
           }
          ],
          "scattermapbox": [
           {
            "marker": {
             "colorbar": {
              "outlinewidth": 0,
              "ticks": ""
             }
            },
            "type": "scattermapbox"
           }
          ],
          "scatterpolar": [
           {
            "marker": {
             "colorbar": {
              "outlinewidth": 0,
              "ticks": ""
             }
            },
            "type": "scatterpolar"
           }
          ],
          "scatterpolargl": [
           {
            "marker": {
             "colorbar": {
              "outlinewidth": 0,
              "ticks": ""
             }
            },
            "type": "scatterpolargl"
           }
          ],
          "scatterternary": [
           {
            "marker": {
             "colorbar": {
              "outlinewidth": 0,
              "ticks": ""
             }
            },
            "type": "scatterternary"
           }
          ],
          "surface": [
           {
            "colorbar": {
             "outlinewidth": 0,
             "ticks": ""
            },
            "colorscale": [
             [
              0,
              "#0d0887"
             ],
             [
              0.1111111111111111,
              "#46039f"
             ],
             [
              0.2222222222222222,
              "#7201a8"
             ],
             [
              0.3333333333333333,
              "#9c179e"
             ],
             [
              0.4444444444444444,
              "#bd3786"
             ],
             [
              0.5555555555555556,
              "#d8576b"
             ],
             [
              0.6666666666666666,
              "#ed7953"
             ],
             [
              0.7777777777777778,
              "#fb9f3a"
             ],
             [
              0.8888888888888888,
              "#fdca26"
             ],
             [
              1,
              "#f0f921"
             ]
            ],
            "type": "surface"
           }
          ],
          "table": [
           {
            "cells": {
             "fill": {
              "color": "#EBF0F8"
             },
             "line": {
              "color": "white"
             }
            },
            "header": {
             "fill": {
              "color": "#C8D4E3"
             },
             "line": {
              "color": "white"
             }
            },
            "type": "table"
           }
          ]
         },
         "layout": {
          "annotationdefaults": {
           "arrowcolor": "#2a3f5f",
           "arrowhead": 0,
           "arrowwidth": 1
          },
          "autotypenumbers": "strict",
          "coloraxis": {
           "colorbar": {
            "outlinewidth": 0,
            "ticks": ""
           }
          },
          "colorscale": {
           "diverging": [
            [
             0,
             "#8e0152"
            ],
            [
             0.1,
             "#c51b7d"
            ],
            [
             0.2,
             "#de77ae"
            ],
            [
             0.3,
             "#f1b6da"
            ],
            [
             0.4,
             "#fde0ef"
            ],
            [
             0.5,
             "#f7f7f7"
            ],
            [
             0.6,
             "#e6f5d0"
            ],
            [
             0.7,
             "#b8e186"
            ],
            [
             0.8,
             "#7fbc41"
            ],
            [
             0.9,
             "#4d9221"
            ],
            [
             1,
             "#276419"
            ]
           ],
           "sequential": [
            [
             0,
             "#0d0887"
            ],
            [
             0.1111111111111111,
             "#46039f"
            ],
            [
             0.2222222222222222,
             "#7201a8"
            ],
            [
             0.3333333333333333,
             "#9c179e"
            ],
            [
             0.4444444444444444,
             "#bd3786"
            ],
            [
             0.5555555555555556,
             "#d8576b"
            ],
            [
             0.6666666666666666,
             "#ed7953"
            ],
            [
             0.7777777777777778,
             "#fb9f3a"
            ],
            [
             0.8888888888888888,
             "#fdca26"
            ],
            [
             1,
             "#f0f921"
            ]
           ],
           "sequentialminus": [
            [
             0,
             "#0d0887"
            ],
            [
             0.1111111111111111,
             "#46039f"
            ],
            [
             0.2222222222222222,
             "#7201a8"
            ],
            [
             0.3333333333333333,
             "#9c179e"
            ],
            [
             0.4444444444444444,
             "#bd3786"
            ],
            [
             0.5555555555555556,
             "#d8576b"
            ],
            [
             0.6666666666666666,
             "#ed7953"
            ],
            [
             0.7777777777777778,
             "#fb9f3a"
            ],
            [
             0.8888888888888888,
             "#fdca26"
            ],
            [
             1,
             "#f0f921"
            ]
           ]
          },
          "colorway": [
           "#636efa",
           "#EF553B",
           "#00cc96",
           "#ab63fa",
           "#FFA15A",
           "#19d3f3",
           "#FF6692",
           "#B6E880",
           "#FF97FF",
           "#FECB52"
          ],
          "font": {
           "color": "#2a3f5f"
          },
          "geo": {
           "bgcolor": "white",
           "lakecolor": "white",
           "landcolor": "#E5ECF6",
           "showlakes": true,
           "showland": true,
           "subunitcolor": "white"
          },
          "hoverlabel": {
           "align": "left"
          },
          "hovermode": "closest",
          "mapbox": {
           "style": "light"
          },
          "paper_bgcolor": "white",
          "plot_bgcolor": "#E5ECF6",
          "polar": {
           "angularaxis": {
            "gridcolor": "white",
            "linecolor": "white",
            "ticks": ""
           },
           "bgcolor": "#E5ECF6",
           "radialaxis": {
            "gridcolor": "white",
            "linecolor": "white",
            "ticks": ""
           }
          },
          "scene": {
           "xaxis": {
            "backgroundcolor": "#E5ECF6",
            "gridcolor": "white",
            "gridwidth": 2,
            "linecolor": "white",
            "showbackground": true,
            "ticks": "",
            "zerolinecolor": "white"
           },
           "yaxis": {
            "backgroundcolor": "#E5ECF6",
            "gridcolor": "white",
            "gridwidth": 2,
            "linecolor": "white",
            "showbackground": true,
            "ticks": "",
            "zerolinecolor": "white"
           },
           "zaxis": {
            "backgroundcolor": "#E5ECF6",
            "gridcolor": "white",
            "gridwidth": 2,
            "linecolor": "white",
            "showbackground": true,
            "ticks": "",
            "zerolinecolor": "white"
           }
          },
          "shapedefaults": {
           "line": {
            "color": "#2a3f5f"
           }
          },
          "ternary": {
           "aaxis": {
            "gridcolor": "white",
            "linecolor": "white",
            "ticks": ""
           },
           "baxis": {
            "gridcolor": "white",
            "linecolor": "white",
            "ticks": ""
           },
           "bgcolor": "#E5ECF6",
           "caxis": {
            "gridcolor": "white",
            "linecolor": "white",
            "ticks": ""
           }
          },
          "title": {
           "x": 0.05
          },
          "xaxis": {
           "automargin": true,
           "gridcolor": "white",
           "linecolor": "white",
           "ticks": "",
           "title": {
            "standoff": 15
           },
           "zerolinecolor": "white",
           "zerolinewidth": 2
          },
          "yaxis": {
           "automargin": true,
           "gridcolor": "white",
           "linecolor": "white",
           "ticks": "",
           "title": {
            "standoff": 15
           },
           "zerolinecolor": "white",
           "zerolinewidth": 2
          }
         }
        },
        "xaxis": {
         "anchor": "y",
         "domain": [
          0,
          1
         ],
         "title": {
          "text": "consultant_doctor_experience"
         }
        },
        "xaxis2": {
         "anchor": "y2",
         "domain": [
          0,
          1
         ],
         "matches": "x",
         "showgrid": true,
         "showticklabels": false
        },
        "yaxis": {
         "anchor": "x",
         "domain": [
          0,
          0.8316
         ],
         "title": {
          "text": "count"
         }
        },
        "yaxis2": {
         "anchor": "x2",
         "domain": [
          0.8416,
          1
         ],
         "matches": "y2",
         "showgrid": false,
         "showline": false,
         "showticklabels": false,
         "ticks": ""
        }
       }
      }
     },
     "metadata": {},
     "output_type": "display_data"
    }
   ],
   "source": [
    "px.histogram(simulated_dataframe, x=\"consultant_doctor_experience\", marginal=\"box\")"
   ]
  },
  {
   "cell_type": "code",
   "execution_count": 730,
   "metadata": {},
   "outputs": [
    {
     "data": {
      "application/vnd.plotly.v1+json": {
       "config": {
        "plotlyServerURL": "https://plot.ly"
       },
       "data": [
        {
         "alignmentgroup": "True",
         "bingroup": "x",
         "hovertemplate": "patient_age=%{x}<br>count=%{y}<extra></extra>",
         "legendgroup": "",
         "marker": {
          "color": "#636efa",
          "pattern": {
           "shape": ""
          }
         },
         "name": "",
         "offsetgroup": "",
         "orientation": "v",
         "showlegend": false,
         "type": "histogram",
         "x": [
          29,
          12,
          35,
          25,
          39,
          12,
          15,
          23,
          26,
          13,
          12,
          11,
          21,
          30,
          27,
          16,
          37,
          30,
          21,
          15,
          31,
          31,
          28,
          26,
          18,
          29,
          14,
          16,
          21,
          22,
          15,
          40,
          25,
          26,
          20,
          38,
          15,
          24,
          28,
          36,
          26,
          27,
          13,
          37,
          15,
          24,
          17,
          12,
          16,
          29,
          21,
          20,
          21,
          15,
          29,
          21,
          39,
          18,
          38,
          15,
          15,
          27,
          40,
          33,
          15,
          12,
          35,
          23,
          13,
          16,
          37,
          21,
          20,
          37,
          32,
          19,
          39,
          29,
          40,
          31,
          25,
          33,
          38,
          35,
          34,
          20,
          25,
          37,
          23,
          22,
          14,
          21,
          32,
          20,
          29,
          15,
          11,
          17,
          31,
          21,
          31,
          26,
          16,
          26,
          31,
          12,
          20,
          22,
          35,
          12,
          18,
          32,
          36,
          20,
          13,
          38,
          29,
          40,
          19,
          16,
          11,
          14,
          31,
          10,
          15,
          33,
          25,
          15,
          36,
          37,
          29,
          13,
          39,
          15,
          16,
          37,
          29,
          29,
          30,
          24,
          16,
          10,
          29,
          16,
          20,
          16,
          26,
          39,
          22,
          33,
          31,
          30,
          36,
          17,
          39,
          25,
          17,
          16,
          12,
          28,
          24,
          24,
          12,
          40,
          39,
          23,
          15,
          21,
          35,
          24,
          31,
          23,
          37,
          12,
          37,
          15,
          38,
          29,
          38,
          18,
          37,
          33,
          15,
          18,
          15,
          21,
          19,
          29,
          12,
          38,
          15,
          39,
          19,
          18,
          20,
          36,
          14,
          23,
          23,
          18,
          17,
          36,
          15,
          35,
          35,
          33,
          20,
          23,
          35,
          17,
          37,
          29,
          30,
          33,
          27,
          31,
          15,
          31,
          15,
          33,
          22,
          31,
          32,
          29,
          14,
          20,
          12,
          26,
          36,
          25,
          31,
          14,
          16,
          30,
          28,
          17,
          35,
          14,
          37,
          18,
          29,
          16,
          20,
          21,
          36,
          11,
          20,
          19,
          15,
          15,
          17,
          31,
          39,
          21,
          16,
          29,
          16,
          23,
          27,
          16,
          35,
          36,
          37,
          31,
          39,
          17,
          28,
          34,
          19,
          30,
          23,
          36,
          26,
          11,
          35,
          31,
          38,
          13,
          35,
          30,
          12,
          16,
          32,
          33,
          28,
          38,
          38,
          13,
          24,
          27,
          39,
          37,
          17,
          26,
          40,
          14,
          28,
          31,
          30,
          18,
          28,
          20,
          35,
          18,
          15,
          12,
          25,
          32,
          35,
          24,
          27,
          19,
          27,
          12,
          22,
          26,
          16,
          20,
          38,
          37,
          31,
          15,
          37,
          10,
          20,
          14,
          20,
          20,
          31,
          17,
          16,
          32,
          20,
          15,
          34,
          25,
          37,
          31,
          11,
          14,
          35,
          33,
          29,
          13,
          14,
          20,
          35,
          33,
          20,
          35,
          12,
          16,
          25,
          27,
          16,
          40,
          10,
          21,
          18,
          29,
          37,
          37,
          17,
          39,
          15,
          37,
          17,
          33,
          37,
          25,
          31,
          33,
          31,
          32,
          36,
          27,
          17,
          31,
          23,
          22,
          33,
          16,
          14,
          32,
          22,
          18,
          32,
          35,
          40,
          21,
          38,
          18,
          37,
          29,
          21,
          28,
          29,
          20,
          15,
          29,
          33,
          13,
          38,
          20,
          14,
          15,
          16,
          29,
          36,
          30,
          12,
          14,
          17,
          12,
          24,
          24,
          37,
          15,
          22,
          20,
          21,
          37,
          19,
          29,
          27,
          35,
          24,
          15,
          30,
          35,
          18,
          30,
          38,
          21,
          19,
          39,
          23,
          12,
          16,
          32,
          31,
          16,
          17,
          19,
          28,
          33,
          11,
          37,
          20,
          13,
          24,
          20,
          26,
          14,
          10,
          25,
          17,
          15,
          36,
          15,
          31,
          12,
          37,
          12,
          29,
          10,
          15,
          10,
          29,
          35,
          35,
          27,
          25,
          22,
          15,
          20,
          30,
          20,
          18,
          35,
          37,
          37,
          21,
          30,
          36,
          21,
          39,
          36,
          36,
          16,
          29,
          13,
          11,
          14,
          33,
          39,
          39,
          21,
          35,
          36,
          35,
          17,
          20,
          12,
          20,
          19,
          20,
          16,
          32,
          31,
          29,
          25,
          32,
          27,
          27,
          24,
          19,
          15,
          29,
          10
         ],
         "xaxis": "x",
         "yaxis": "y"
        },
        {
         "alignmentgroup": "True",
         "hovertemplate": "patient_age=%{x}<extra></extra>",
         "legendgroup": "",
         "marker": {
          "color": "#636efa"
         },
         "name": "",
         "notched": true,
         "offsetgroup": "",
         "showlegend": false,
         "type": "box",
         "x": [
          29,
          12,
          35,
          25,
          39,
          12,
          15,
          23,
          26,
          13,
          12,
          11,
          21,
          30,
          27,
          16,
          37,
          30,
          21,
          15,
          31,
          31,
          28,
          26,
          18,
          29,
          14,
          16,
          21,
          22,
          15,
          40,
          25,
          26,
          20,
          38,
          15,
          24,
          28,
          36,
          26,
          27,
          13,
          37,
          15,
          24,
          17,
          12,
          16,
          29,
          21,
          20,
          21,
          15,
          29,
          21,
          39,
          18,
          38,
          15,
          15,
          27,
          40,
          33,
          15,
          12,
          35,
          23,
          13,
          16,
          37,
          21,
          20,
          37,
          32,
          19,
          39,
          29,
          40,
          31,
          25,
          33,
          38,
          35,
          34,
          20,
          25,
          37,
          23,
          22,
          14,
          21,
          32,
          20,
          29,
          15,
          11,
          17,
          31,
          21,
          31,
          26,
          16,
          26,
          31,
          12,
          20,
          22,
          35,
          12,
          18,
          32,
          36,
          20,
          13,
          38,
          29,
          40,
          19,
          16,
          11,
          14,
          31,
          10,
          15,
          33,
          25,
          15,
          36,
          37,
          29,
          13,
          39,
          15,
          16,
          37,
          29,
          29,
          30,
          24,
          16,
          10,
          29,
          16,
          20,
          16,
          26,
          39,
          22,
          33,
          31,
          30,
          36,
          17,
          39,
          25,
          17,
          16,
          12,
          28,
          24,
          24,
          12,
          40,
          39,
          23,
          15,
          21,
          35,
          24,
          31,
          23,
          37,
          12,
          37,
          15,
          38,
          29,
          38,
          18,
          37,
          33,
          15,
          18,
          15,
          21,
          19,
          29,
          12,
          38,
          15,
          39,
          19,
          18,
          20,
          36,
          14,
          23,
          23,
          18,
          17,
          36,
          15,
          35,
          35,
          33,
          20,
          23,
          35,
          17,
          37,
          29,
          30,
          33,
          27,
          31,
          15,
          31,
          15,
          33,
          22,
          31,
          32,
          29,
          14,
          20,
          12,
          26,
          36,
          25,
          31,
          14,
          16,
          30,
          28,
          17,
          35,
          14,
          37,
          18,
          29,
          16,
          20,
          21,
          36,
          11,
          20,
          19,
          15,
          15,
          17,
          31,
          39,
          21,
          16,
          29,
          16,
          23,
          27,
          16,
          35,
          36,
          37,
          31,
          39,
          17,
          28,
          34,
          19,
          30,
          23,
          36,
          26,
          11,
          35,
          31,
          38,
          13,
          35,
          30,
          12,
          16,
          32,
          33,
          28,
          38,
          38,
          13,
          24,
          27,
          39,
          37,
          17,
          26,
          40,
          14,
          28,
          31,
          30,
          18,
          28,
          20,
          35,
          18,
          15,
          12,
          25,
          32,
          35,
          24,
          27,
          19,
          27,
          12,
          22,
          26,
          16,
          20,
          38,
          37,
          31,
          15,
          37,
          10,
          20,
          14,
          20,
          20,
          31,
          17,
          16,
          32,
          20,
          15,
          34,
          25,
          37,
          31,
          11,
          14,
          35,
          33,
          29,
          13,
          14,
          20,
          35,
          33,
          20,
          35,
          12,
          16,
          25,
          27,
          16,
          40,
          10,
          21,
          18,
          29,
          37,
          37,
          17,
          39,
          15,
          37,
          17,
          33,
          37,
          25,
          31,
          33,
          31,
          32,
          36,
          27,
          17,
          31,
          23,
          22,
          33,
          16,
          14,
          32,
          22,
          18,
          32,
          35,
          40,
          21,
          38,
          18,
          37,
          29,
          21,
          28,
          29,
          20,
          15,
          29,
          33,
          13,
          38,
          20,
          14,
          15,
          16,
          29,
          36,
          30,
          12,
          14,
          17,
          12,
          24,
          24,
          37,
          15,
          22,
          20,
          21,
          37,
          19,
          29,
          27,
          35,
          24,
          15,
          30,
          35,
          18,
          30,
          38,
          21,
          19,
          39,
          23,
          12,
          16,
          32,
          31,
          16,
          17,
          19,
          28,
          33,
          11,
          37,
          20,
          13,
          24,
          20,
          26,
          14,
          10,
          25,
          17,
          15,
          36,
          15,
          31,
          12,
          37,
          12,
          29,
          10,
          15,
          10,
          29,
          35,
          35,
          27,
          25,
          22,
          15,
          20,
          30,
          20,
          18,
          35,
          37,
          37,
          21,
          30,
          36,
          21,
          39,
          36,
          36,
          16,
          29,
          13,
          11,
          14,
          33,
          39,
          39,
          21,
          35,
          36,
          35,
          17,
          20,
          12,
          20,
          19,
          20,
          16,
          32,
          31,
          29,
          25,
          32,
          27,
          27,
          24,
          19,
          15,
          29,
          10
         ],
         "xaxis": "x2",
         "yaxis": "y2"
        }
       ],
       "layout": {
        "barmode": "relative",
        "legend": {
         "tracegroupgap": 0
        },
        "margin": {
         "t": 60
        },
        "template": {
         "data": {
          "bar": [
           {
            "error_x": {
             "color": "#2a3f5f"
            },
            "error_y": {
             "color": "#2a3f5f"
            },
            "marker": {
             "line": {
              "color": "#E5ECF6",
              "width": 0.5
             },
             "pattern": {
              "fillmode": "overlay",
              "size": 10,
              "solidity": 0.2
             }
            },
            "type": "bar"
           }
          ],
          "barpolar": [
           {
            "marker": {
             "line": {
              "color": "#E5ECF6",
              "width": 0.5
             },
             "pattern": {
              "fillmode": "overlay",
              "size": 10,
              "solidity": 0.2
             }
            },
            "type": "barpolar"
           }
          ],
          "carpet": [
           {
            "aaxis": {
             "endlinecolor": "#2a3f5f",
             "gridcolor": "white",
             "linecolor": "white",
             "minorgridcolor": "white",
             "startlinecolor": "#2a3f5f"
            },
            "baxis": {
             "endlinecolor": "#2a3f5f",
             "gridcolor": "white",
             "linecolor": "white",
             "minorgridcolor": "white",
             "startlinecolor": "#2a3f5f"
            },
            "type": "carpet"
           }
          ],
          "choropleth": [
           {
            "colorbar": {
             "outlinewidth": 0,
             "ticks": ""
            },
            "type": "choropleth"
           }
          ],
          "contour": [
           {
            "colorbar": {
             "outlinewidth": 0,
             "ticks": ""
            },
            "colorscale": [
             [
              0,
              "#0d0887"
             ],
             [
              0.1111111111111111,
              "#46039f"
             ],
             [
              0.2222222222222222,
              "#7201a8"
             ],
             [
              0.3333333333333333,
              "#9c179e"
             ],
             [
              0.4444444444444444,
              "#bd3786"
             ],
             [
              0.5555555555555556,
              "#d8576b"
             ],
             [
              0.6666666666666666,
              "#ed7953"
             ],
             [
              0.7777777777777778,
              "#fb9f3a"
             ],
             [
              0.8888888888888888,
              "#fdca26"
             ],
             [
              1,
              "#f0f921"
             ]
            ],
            "type": "contour"
           }
          ],
          "contourcarpet": [
           {
            "colorbar": {
             "outlinewidth": 0,
             "ticks": ""
            },
            "type": "contourcarpet"
           }
          ],
          "heatmap": [
           {
            "colorbar": {
             "outlinewidth": 0,
             "ticks": ""
            },
            "colorscale": [
             [
              0,
              "#0d0887"
             ],
             [
              0.1111111111111111,
              "#46039f"
             ],
             [
              0.2222222222222222,
              "#7201a8"
             ],
             [
              0.3333333333333333,
              "#9c179e"
             ],
             [
              0.4444444444444444,
              "#bd3786"
             ],
             [
              0.5555555555555556,
              "#d8576b"
             ],
             [
              0.6666666666666666,
              "#ed7953"
             ],
             [
              0.7777777777777778,
              "#fb9f3a"
             ],
             [
              0.8888888888888888,
              "#fdca26"
             ],
             [
              1,
              "#f0f921"
             ]
            ],
            "type": "heatmap"
           }
          ],
          "heatmapgl": [
           {
            "colorbar": {
             "outlinewidth": 0,
             "ticks": ""
            },
            "colorscale": [
             [
              0,
              "#0d0887"
             ],
             [
              0.1111111111111111,
              "#46039f"
             ],
             [
              0.2222222222222222,
              "#7201a8"
             ],
             [
              0.3333333333333333,
              "#9c179e"
             ],
             [
              0.4444444444444444,
              "#bd3786"
             ],
             [
              0.5555555555555556,
              "#d8576b"
             ],
             [
              0.6666666666666666,
              "#ed7953"
             ],
             [
              0.7777777777777778,
              "#fb9f3a"
             ],
             [
              0.8888888888888888,
              "#fdca26"
             ],
             [
              1,
              "#f0f921"
             ]
            ],
            "type": "heatmapgl"
           }
          ],
          "histogram": [
           {
            "marker": {
             "pattern": {
              "fillmode": "overlay",
              "size": 10,
              "solidity": 0.2
             }
            },
            "type": "histogram"
           }
          ],
          "histogram2d": [
           {
            "colorbar": {
             "outlinewidth": 0,
             "ticks": ""
            },
            "colorscale": [
             [
              0,
              "#0d0887"
             ],
             [
              0.1111111111111111,
              "#46039f"
             ],
             [
              0.2222222222222222,
              "#7201a8"
             ],
             [
              0.3333333333333333,
              "#9c179e"
             ],
             [
              0.4444444444444444,
              "#bd3786"
             ],
             [
              0.5555555555555556,
              "#d8576b"
             ],
             [
              0.6666666666666666,
              "#ed7953"
             ],
             [
              0.7777777777777778,
              "#fb9f3a"
             ],
             [
              0.8888888888888888,
              "#fdca26"
             ],
             [
              1,
              "#f0f921"
             ]
            ],
            "type": "histogram2d"
           }
          ],
          "histogram2dcontour": [
           {
            "colorbar": {
             "outlinewidth": 0,
             "ticks": ""
            },
            "colorscale": [
             [
              0,
              "#0d0887"
             ],
             [
              0.1111111111111111,
              "#46039f"
             ],
             [
              0.2222222222222222,
              "#7201a8"
             ],
             [
              0.3333333333333333,
              "#9c179e"
             ],
             [
              0.4444444444444444,
              "#bd3786"
             ],
             [
              0.5555555555555556,
              "#d8576b"
             ],
             [
              0.6666666666666666,
              "#ed7953"
             ],
             [
              0.7777777777777778,
              "#fb9f3a"
             ],
             [
              0.8888888888888888,
              "#fdca26"
             ],
             [
              1,
              "#f0f921"
             ]
            ],
            "type": "histogram2dcontour"
           }
          ],
          "mesh3d": [
           {
            "colorbar": {
             "outlinewidth": 0,
             "ticks": ""
            },
            "type": "mesh3d"
           }
          ],
          "parcoords": [
           {
            "line": {
             "colorbar": {
              "outlinewidth": 0,
              "ticks": ""
             }
            },
            "type": "parcoords"
           }
          ],
          "pie": [
           {
            "automargin": true,
            "type": "pie"
           }
          ],
          "scatter": [
           {
            "fillpattern": {
             "fillmode": "overlay",
             "size": 10,
             "solidity": 0.2
            },
            "type": "scatter"
           }
          ],
          "scatter3d": [
           {
            "line": {
             "colorbar": {
              "outlinewidth": 0,
              "ticks": ""
             }
            },
            "marker": {
             "colorbar": {
              "outlinewidth": 0,
              "ticks": ""
             }
            },
            "type": "scatter3d"
           }
          ],
          "scattercarpet": [
           {
            "marker": {
             "colorbar": {
              "outlinewidth": 0,
              "ticks": ""
             }
            },
            "type": "scattercarpet"
           }
          ],
          "scattergeo": [
           {
            "marker": {
             "colorbar": {
              "outlinewidth": 0,
              "ticks": ""
             }
            },
            "type": "scattergeo"
           }
          ],
          "scattergl": [
           {
            "marker": {
             "colorbar": {
              "outlinewidth": 0,
              "ticks": ""
             }
            },
            "type": "scattergl"
           }
          ],
          "scattermapbox": [
           {
            "marker": {
             "colorbar": {
              "outlinewidth": 0,
              "ticks": ""
             }
            },
            "type": "scattermapbox"
           }
          ],
          "scatterpolar": [
           {
            "marker": {
             "colorbar": {
              "outlinewidth": 0,
              "ticks": ""
             }
            },
            "type": "scatterpolar"
           }
          ],
          "scatterpolargl": [
           {
            "marker": {
             "colorbar": {
              "outlinewidth": 0,
              "ticks": ""
             }
            },
            "type": "scatterpolargl"
           }
          ],
          "scatterternary": [
           {
            "marker": {
             "colorbar": {
              "outlinewidth": 0,
              "ticks": ""
             }
            },
            "type": "scatterternary"
           }
          ],
          "surface": [
           {
            "colorbar": {
             "outlinewidth": 0,
             "ticks": ""
            },
            "colorscale": [
             [
              0,
              "#0d0887"
             ],
             [
              0.1111111111111111,
              "#46039f"
             ],
             [
              0.2222222222222222,
              "#7201a8"
             ],
             [
              0.3333333333333333,
              "#9c179e"
             ],
             [
              0.4444444444444444,
              "#bd3786"
             ],
             [
              0.5555555555555556,
              "#d8576b"
             ],
             [
              0.6666666666666666,
              "#ed7953"
             ],
             [
              0.7777777777777778,
              "#fb9f3a"
             ],
             [
              0.8888888888888888,
              "#fdca26"
             ],
             [
              1,
              "#f0f921"
             ]
            ],
            "type": "surface"
           }
          ],
          "table": [
           {
            "cells": {
             "fill": {
              "color": "#EBF0F8"
             },
             "line": {
              "color": "white"
             }
            },
            "header": {
             "fill": {
              "color": "#C8D4E3"
             },
             "line": {
              "color": "white"
             }
            },
            "type": "table"
           }
          ]
         },
         "layout": {
          "annotationdefaults": {
           "arrowcolor": "#2a3f5f",
           "arrowhead": 0,
           "arrowwidth": 1
          },
          "autotypenumbers": "strict",
          "coloraxis": {
           "colorbar": {
            "outlinewidth": 0,
            "ticks": ""
           }
          },
          "colorscale": {
           "diverging": [
            [
             0,
             "#8e0152"
            ],
            [
             0.1,
             "#c51b7d"
            ],
            [
             0.2,
             "#de77ae"
            ],
            [
             0.3,
             "#f1b6da"
            ],
            [
             0.4,
             "#fde0ef"
            ],
            [
             0.5,
             "#f7f7f7"
            ],
            [
             0.6,
             "#e6f5d0"
            ],
            [
             0.7,
             "#b8e186"
            ],
            [
             0.8,
             "#7fbc41"
            ],
            [
             0.9,
             "#4d9221"
            ],
            [
             1,
             "#276419"
            ]
           ],
           "sequential": [
            [
             0,
             "#0d0887"
            ],
            [
             0.1111111111111111,
             "#46039f"
            ],
            [
             0.2222222222222222,
             "#7201a8"
            ],
            [
             0.3333333333333333,
             "#9c179e"
            ],
            [
             0.4444444444444444,
             "#bd3786"
            ],
            [
             0.5555555555555556,
             "#d8576b"
            ],
            [
             0.6666666666666666,
             "#ed7953"
            ],
            [
             0.7777777777777778,
             "#fb9f3a"
            ],
            [
             0.8888888888888888,
             "#fdca26"
            ],
            [
             1,
             "#f0f921"
            ]
           ],
           "sequentialminus": [
            [
             0,
             "#0d0887"
            ],
            [
             0.1111111111111111,
             "#46039f"
            ],
            [
             0.2222222222222222,
             "#7201a8"
            ],
            [
             0.3333333333333333,
             "#9c179e"
            ],
            [
             0.4444444444444444,
             "#bd3786"
            ],
            [
             0.5555555555555556,
             "#d8576b"
            ],
            [
             0.6666666666666666,
             "#ed7953"
            ],
            [
             0.7777777777777778,
             "#fb9f3a"
            ],
            [
             0.8888888888888888,
             "#fdca26"
            ],
            [
             1,
             "#f0f921"
            ]
           ]
          },
          "colorway": [
           "#636efa",
           "#EF553B",
           "#00cc96",
           "#ab63fa",
           "#FFA15A",
           "#19d3f3",
           "#FF6692",
           "#B6E880",
           "#FF97FF",
           "#FECB52"
          ],
          "font": {
           "color": "#2a3f5f"
          },
          "geo": {
           "bgcolor": "white",
           "lakecolor": "white",
           "landcolor": "#E5ECF6",
           "showlakes": true,
           "showland": true,
           "subunitcolor": "white"
          },
          "hoverlabel": {
           "align": "left"
          },
          "hovermode": "closest",
          "mapbox": {
           "style": "light"
          },
          "paper_bgcolor": "white",
          "plot_bgcolor": "#E5ECF6",
          "polar": {
           "angularaxis": {
            "gridcolor": "white",
            "linecolor": "white",
            "ticks": ""
           },
           "bgcolor": "#E5ECF6",
           "radialaxis": {
            "gridcolor": "white",
            "linecolor": "white",
            "ticks": ""
           }
          },
          "scene": {
           "xaxis": {
            "backgroundcolor": "#E5ECF6",
            "gridcolor": "white",
            "gridwidth": 2,
            "linecolor": "white",
            "showbackground": true,
            "ticks": "",
            "zerolinecolor": "white"
           },
           "yaxis": {
            "backgroundcolor": "#E5ECF6",
            "gridcolor": "white",
            "gridwidth": 2,
            "linecolor": "white",
            "showbackground": true,
            "ticks": "",
            "zerolinecolor": "white"
           },
           "zaxis": {
            "backgroundcolor": "#E5ECF6",
            "gridcolor": "white",
            "gridwidth": 2,
            "linecolor": "white",
            "showbackground": true,
            "ticks": "",
            "zerolinecolor": "white"
           }
          },
          "shapedefaults": {
           "line": {
            "color": "#2a3f5f"
           }
          },
          "ternary": {
           "aaxis": {
            "gridcolor": "white",
            "linecolor": "white",
            "ticks": ""
           },
           "baxis": {
            "gridcolor": "white",
            "linecolor": "white",
            "ticks": ""
           },
           "bgcolor": "#E5ECF6",
           "caxis": {
            "gridcolor": "white",
            "linecolor": "white",
            "ticks": ""
           }
          },
          "title": {
           "x": 0.05
          },
          "xaxis": {
           "automargin": true,
           "gridcolor": "white",
           "linecolor": "white",
           "ticks": "",
           "title": {
            "standoff": 15
           },
           "zerolinecolor": "white",
           "zerolinewidth": 2
          },
          "yaxis": {
           "automargin": true,
           "gridcolor": "white",
           "linecolor": "white",
           "ticks": "",
           "title": {
            "standoff": 15
           },
           "zerolinecolor": "white",
           "zerolinewidth": 2
          }
         }
        },
        "xaxis": {
         "anchor": "y",
         "domain": [
          0,
          1
         ],
         "title": {
          "text": "patient_age"
         }
        },
        "xaxis2": {
         "anchor": "y2",
         "domain": [
          0,
          1
         ],
         "matches": "x",
         "showgrid": true,
         "showticklabels": false
        },
        "yaxis": {
         "anchor": "x",
         "domain": [
          0,
          0.8316
         ],
         "title": {
          "text": "count"
         }
        },
        "yaxis2": {
         "anchor": "x2",
         "domain": [
          0.8416,
          1
         ],
         "matches": "y2",
         "showgrid": false,
         "showline": false,
         "showticklabels": false,
         "ticks": ""
        }
       }
      }
     },
     "metadata": {},
     "output_type": "display_data"
    }
   ],
   "source": [
    "px.histogram(simulated_dataframe, x=\"patient_age\", marginal=\"box\")"
   ]
  },
  {
   "attachments": {},
   "cell_type": "markdown",
   "metadata": {},
   "source": [
    "#### correlation"
   ]
  },
  {
   "cell_type": "code",
   "execution_count": 731,
   "metadata": {},
   "outputs": [
    {
     "data": {
      "application/vnd.plotly.v1+json": {
       "config": {
        "plotlyServerURL": "https://plot.ly"
       },
       "data": [
        {
         "coloraxis": "coloraxis",
         "hovertemplate": "x: %{x}<br>y: %{y}<br>color: %{z}<extra></extra>",
         "name": "0",
         "texttemplate": "%{z}",
         "type": "heatmap",
         "x": [
          "consult_cost",
          "patient_num_of_children",
          "patient_num_of_dependents",
          "patient_age",
          "consultant_doctor_experience",
          "patient_anatomy_chest area",
          "patient_anatomy_head",
          "patient_anatomy_legs",
          "patient_anatomy_shoulder",
          "patient_anatomy_stomach",
          "patient_anatomy_upper chest area",
          "patient_consult_status_appointed session",
          "patient_consult_status_new consultation",
          "patient_consult_status_under appointment",
          "patient_community_suburban",
          "patient_community_urban",
          "patient_marital_status_Married",
          "patient_marital_status_Single",
          "patient_has_children_Yes",
          "patient_has_dependent_Yes",
          "patient_gender_Male"
         ],
         "xaxis": "x",
         "y": [
          "consult_cost",
          "patient_num_of_children",
          "patient_num_of_dependents",
          "patient_age",
          "consultant_doctor_experience",
          "patient_anatomy_chest area",
          "patient_anatomy_head",
          "patient_anatomy_legs",
          "patient_anatomy_shoulder",
          "patient_anatomy_stomach",
          "patient_anatomy_upper chest area",
          "patient_consult_status_appointed session",
          "patient_consult_status_new consultation",
          "patient_consult_status_under appointment",
          "patient_community_suburban",
          "patient_community_urban",
          "patient_marital_status_Married",
          "patient_marital_status_Single",
          "patient_has_children_Yes",
          "patient_has_dependent_Yes",
          "patient_gender_Male"
         ],
         "yaxis": "y",
         "z": [
          [
           1,
           -0.02899422753881196,
           0.01334534323409473,
           -0.000053016921137549804,
           0.9928245044955689,
           0.0795028181795769,
           -0.016239895389895388,
           -0.12403725146039775,
           0.025916970497716574,
           -0.00913960040876377,
           0.013268721154940715,
           -0.03740029863930756,
           0.05850765133438557,
           -0.010640395199070094,
           -0.03810567028179052,
           0.010480404127996093,
           0.03613902260856775,
           0.02220379984157619,
           -0.01993137027621163,
           -0.017668279167318036,
           -0.02619598112115887
          ],
          [
           -0.02899422753881196,
           1,
           0.3852015597787667,
           0.027556232632875183,
           -0.03921155670727643,
           0.00912590326448352,
           0.05390430805940161,
           0.07476313604791159,
           -0.047053577712760634,
           -0.08701665386784385,
           0.0652780018018433,
           -0.006667114378225829,
           -0.01692013802155106,
           0.05176204205826385,
           0.11361872346669101,
           -0.08633952118181266,
           0.25593659900397864,
           -0.6446421237863352,
           -0.024159249823579695,
           -0.03300874691550848,
           0.08504237445928532
          ],
          [
           0.01334534323409473,
           0.3852015597787667,
           1,
           0.017935329058908496,
           0.005600987626151244,
           0.06858575359877807,
           -0.030740650466229945,
           0.01216812062904027,
           -0.01177452566272942,
           0.06513770619808223,
           -0.026422260936938318,
           0.007805405438257564,
           0.0398636749526053,
           -0.02481871606024976,
           0.00044279354409063553,
           -0.13446309438101123,
           0.2758488256575782,
           -0.6936620429280099,
           -0.043467452083702215,
           0.032268677920526866,
           0.017426037309845106
          ],
          [
           -0.000053016921137549804,
           0.027556232632875183,
           0.017935329058908496,
           1,
           -0.010842899754778137,
           -0.0105701564914271,
           0.00325672090729264,
           0.022303658101286646,
           0.08501827948932512,
           0.016797563298143366,
           -0.07329289571811964,
           -0.007980406391827706,
           0.010008937338698438,
           -0.017651971688364028,
           -0.05437191990277461,
           -0.022750131054058584,
           -0.07210843711837414,
           -0.09579101798671104,
           0.05149956050387909,
           -0.09595406166438444,
           -0.12211216984125038
          ],
          [
           0.9928245044955689,
           -0.03921155670727643,
           0.005600987626151244,
           -0.010842899754778137,
           1,
           0.08191285274383725,
           -0.017973717003214314,
           -0.12313995839306288,
           0.019320941753467442,
           -0.009520775501142732,
           0.011653511294192592,
           -0.031313906259937956,
           0.05233224298874073,
           -0.0073246720030861155,
           -0.043593408694643655,
           0.006799837103394047,
           0.030970389005335008,
           0.031112267614253994,
           -0.01730031019869708,
           -0.015419730107898693,
           -0.023564512018034237
          ],
          [
           0.0795028181795769,
           0.00912590326448352,
           0.06858575359877807,
           -0.0105701564914271,
           0.08191285274383725,
           1,
           -0.14324343497580017,
           -0.11597956201492435,
           -0.10394821243152366,
           -0.1623344510091893,
           -0.10394821243152366,
           -0.03494869785640952,
           -0.05989601586819564,
           0.045274282386203714,
           -0.053332807408481404,
           0.0012470298975145895,
           -0.04055709316688074,
           0.006615710156163599,
           -0.023759412353694186,
           0.022636386119267868,
           -0.006706879454586354
          ],
          [
           -0.016239895389895388,
           0.05390430805940161,
           -0.030740650466229945,
           0.00325672090729264,
           -0.017973717003214314,
           -0.14324343497580017,
           1,
           -0.16719353259687506,
           -0.1498494091684914,
           -0.2340176997987643,
           -0.14984940916849152,
           0.012779179609207771,
           0.013588220714207386,
           -0.02086714972023509,
           0.07632723087953401,
           -0.05748793642419258,
           0.08505570841224663,
           -0.009118812702042508,
           -0.0511991742743444,
           -0.010630424955393746,
           0.005105830127456255
          ],
          [
           -0.12403725146039775,
           0.07476313604791159,
           0.01216812062904027,
           0.022303658101286646,
           -0.12313995839306288,
           -0.11597956201492435,
           -0.16719353259687506,
           1,
           -0.1213282049993633,
           -0.1894765392283844,
           -0.12132820499936327,
           -0.023618370334217327,
           0.024587523281963425,
           0.02559895843594189,
           0.05971304840774785,
           -0.03408239205275083,
           -0.053126556233050834,
           -0.03450306224979679,
           0.031362719442792744,
           -0.024619383664438468,
           -0.02373730486392938
          ],
          [
           0.025916970497716574,
           -0.047053577712760634,
           -0.01177452566272942,
           0.08501827948932512,
           0.019320941753467442,
           -0.10394821243152366,
           -0.1498494091684914,
           -0.1213282049993633,
           1,
           -0.16982084781426882,
           -0.10874200426439215,
           -0.028121671667975835,
           0.036974140683023966,
           -0.017877075435099712,
           -0.043737741690588416,
           0.025246672735891314,
           -0.0315337883808152,
           0.0053665103325366064,
           0.13198760315561067,
           0.04680629714868542,
           0.01939767797829044
          ],
          [
           -0.00913960040876377,
           -0.08701665386784385,
           0.06513770619808223,
           0.016797563298143366,
           -0.009520775501142732,
           -0.1623344510091893,
           -0.2340176997987643,
           -0.1894765392283844,
           -0.16982084781426882,
           1,
           -0.1698208478142688,
           0.13298318593174016,
           -0.022617943507774158,
           -0.0425621461043805,
           -0.019600027167704256,
           0.024499285417614182,
           0.037430841378072455,
           -0.02280919778262264,
           -0.010667422723107533,
           0.04361974147893427,
           0.07086912964375153
          ],
          [
           0.013268721154940715,
           0.0652780018018433,
           -0.026422260936938318,
           -0.07329289571811964,
           0.011653511294192592,
           -0.10394821243152366,
           -0.14984940916849152,
           -0.12132820499936327,
           -0.10874200426439215,
           -0.1698208478142688,
           1,
           -0.0798549355854786,
           -0.054332421112231986,
           0.04701702038515751,
           -0.030248046744499456,
           0.06692371979196583,
           -0.0315337883808152,
           0.005366510332536637,
           -0.023204151826678864,
           -0.017891402259385836,
           -0.04526124861601105
          ],
          [
           -0.03740029863930756,
           -0.006667114378225829,
           0.007805405438257564,
           -0.007980406391827706,
           -0.031313906259937956,
           -0.03494869785640952,
           0.012779179609207771,
           -0.023618370334217327,
           -0.028121671667975835,
           0.13298318593174016,
           -0.0798549355854786,
           1,
           -0.3957127257878706,
           -0.22431072937535848,
           -0.026503482804472442,
           -0.08730876758036259,
           -0.01759331324066975,
           0.005527116050565853,
           -0.025724677921182538,
           -0.10800649644207201,
           1.1530603751121136e-17
          ],
          [
           0.05850765133438557,
           -0.01692013802155106,
           0.0398636749526053,
           0.010008937338698438,
           0.05233224298874073,
           -0.05989601586819564,
           0.013588220714207386,
           0.024587523281963425,
           0.036974140683023966,
           -0.022617943507774158,
           -0.054332421112231986,
           -0.3957127257878706,
           1,
           -0.43574372252797916,
           -0.006786235066487892,
           0.0024044028032965026,
           0.030128878629501022,
           -0.02113974594732173,
           0.036439578006073794,
           0.03950471694018495,
           -0.08534828446470354
          ],
          [
           -0.010640395199070094,
           0.05176204205826385,
           -0.02481871606024976,
           -0.017651971688364028,
           -0.0073246720030861155,
           0.045274282386203714,
           -0.02086714972023509,
           0.02559895843594189,
           -0.017877075435099712,
           -0.0425621461043805,
           0.04701702038515751,
           -0.22431072937535848,
           -0.43574372252797916,
           1,
           0.001587440685920865,
           0.02402394132201971,
           0.019703556526173817,
           -0.02761399533567942,
           -0.04916441574978667,
           0.026238712519010218,
           0.043426604113387036
          ],
          [
           -0.03810567028179052,
           0.11361872346669101,
           0.00044279354409063553,
           -0.05437191990277461,
           -0.043593408694643655,
           -0.053332807408481404,
           0.07632723087953401,
           0.05971304840774785,
           -0.043737741690588416,
           -0.019600027167704256,
           -0.030248046744499456,
           -0.026503482804472442,
           -0.006786235066487892,
           0.001587440685920865,
           1,
           -0.5087577456790997,
           0.009292984502233377,
           -0.09717786892161454,
           -0.04070995757462756,
           0.06247167812245093,
           0.008024173123980485
          ],
          [
           0.010480404127996093,
           -0.08633952118181266,
           -0.13446309438101123,
           -0.022750131054058584,
           0.006799837103394047,
           0.0012470298975145895,
           -0.05748793642419258,
           -0.03408239205275083,
           0.025246672735891314,
           0.024499285417614182,
           0.06692371979196583,
           -0.08730876758036259,
           0.0024044028032965026,
           0.02402394132201971,
           -0.5087577456790997,
           1,
           0.005712418624232866,
           0.10171239428056807,
           0.07064333290278187,
           -0.12697135991879976,
           0.05371396398929653
          ],
          [
           0.03613902260856775,
           0.25593659900397864,
           0.2758488256575782,
           -0.07210843711837414,
           0.030970389005335008,
           -0.04055709316688074,
           0.08505570841224663,
           -0.053126556233050834,
           -0.0315337883808152,
           0.037430841378072455,
           -0.0315337883808152,
           -0.01759331324066975,
           0.030128878629501022,
           0.019703556526173817,
           0.009292984502233377,
           0.005712418624232866,
           1,
           -0.4526302746216681,
           0.12360409454172899,
           -0.021945676819417944,
           0.2123894545484734
          ],
          [
           0.02220379984157619,
           -0.6446421237863352,
           -0.6936620429280099,
           -0.09579101798671104,
           0.031112267614253994,
           0.006615710156163599,
           -0.009118812702042508,
           -0.03450306224979679,
           0.0053665103325366064,
           -0.02280919778262264,
           0.005366510332536637,
           0.005527116050565853,
           -0.02113974594732173,
           -0.02761399533567942,
           -0.09717786892161454,
           0.10171239428056807,
           -0.4526302746216681,
           1,
           0.04083279826737478,
           0.04429952500499358,
           -0.10863508805244428
          ],
          [
           -0.01993137027621163,
           -0.024159249823579695,
           -0.043467452083702215,
           0.05149956050387909,
           -0.01730031019869708,
           -0.023759412353694186,
           -0.0511991742743444,
           0.031362719442792744,
           0.13198760315561067,
           -0.010667422723107533,
           -0.023204151826678864,
           -0.025724677921182538,
           0.036439578006073794,
           -0.04916441574978667,
           -0.04070995757462756,
           0.07064333290278187,
           0.12360409454172899,
           0.04083279826737478,
           1,
           -0.04658427128776464,
           0.06538896834544439
          ],
          [
           -0.017668279167318036,
           -0.03300874691550848,
           0.032268677920526866,
           -0.09595406166438444,
           -0.015419730107898693,
           0.022636386119267868,
           -0.010630424955393746,
           -0.024619383664438468,
           0.04680629714868542,
           0.04361974147893427,
           -0.017891402259385836,
           -0.10800649644207201,
           0.03950471694018495,
           0.026238712519010218,
           0.06247167812245093,
           -0.12697135991879976,
           -0.021945676819417944,
           0.04429952500499358,
           -0.04658427128776464,
           1,
           -0.019242300987841434
          ],
          [
           -0.02619598112115887,
           0.08504237445928532,
           0.017426037309845106,
           -0.12211216984125038,
           -0.023564512018034237,
           -0.006706879454586354,
           0.005105830127456255,
           -0.02373730486392938,
           0.01939767797829044,
           0.07086912964375153,
           -0.04526124861601105,
           1.1530603751121136e-17,
           -0.08534828446470354,
           0.043426604113387036,
           0.008024173123980485,
           0.05371396398929653,
           0.2123894545484734,
           -0.10863508805244428,
           0.06538896834544439,
           -0.019242300987841434,
           1
          ]
         ]
        }
       ],
       "layout": {
        "coloraxis": {
         "colorscale": [
          [
           0,
           "#0d0887"
          ],
          [
           0.1111111111111111,
           "#46039f"
          ],
          [
           0.2222222222222222,
           "#7201a8"
          ],
          [
           0.3333333333333333,
           "#9c179e"
          ],
          [
           0.4444444444444444,
           "#bd3786"
          ],
          [
           0.5555555555555556,
           "#d8576b"
          ],
          [
           0.6666666666666666,
           "#ed7953"
          ],
          [
           0.7777777777777778,
           "#fb9f3a"
          ],
          [
           0.8888888888888888,
           "#fdca26"
          ],
          [
           1,
           "#f0f921"
          ]
         ]
        },
        "margin": {
         "t": 60
        },
        "template": {
         "data": {
          "bar": [
           {
            "error_x": {
             "color": "#2a3f5f"
            },
            "error_y": {
             "color": "#2a3f5f"
            },
            "marker": {
             "line": {
              "color": "#E5ECF6",
              "width": 0.5
             },
             "pattern": {
              "fillmode": "overlay",
              "size": 10,
              "solidity": 0.2
             }
            },
            "type": "bar"
           }
          ],
          "barpolar": [
           {
            "marker": {
             "line": {
              "color": "#E5ECF6",
              "width": 0.5
             },
             "pattern": {
              "fillmode": "overlay",
              "size": 10,
              "solidity": 0.2
             }
            },
            "type": "barpolar"
           }
          ],
          "carpet": [
           {
            "aaxis": {
             "endlinecolor": "#2a3f5f",
             "gridcolor": "white",
             "linecolor": "white",
             "minorgridcolor": "white",
             "startlinecolor": "#2a3f5f"
            },
            "baxis": {
             "endlinecolor": "#2a3f5f",
             "gridcolor": "white",
             "linecolor": "white",
             "minorgridcolor": "white",
             "startlinecolor": "#2a3f5f"
            },
            "type": "carpet"
           }
          ],
          "choropleth": [
           {
            "colorbar": {
             "outlinewidth": 0,
             "ticks": ""
            },
            "type": "choropleth"
           }
          ],
          "contour": [
           {
            "colorbar": {
             "outlinewidth": 0,
             "ticks": ""
            },
            "colorscale": [
             [
              0,
              "#0d0887"
             ],
             [
              0.1111111111111111,
              "#46039f"
             ],
             [
              0.2222222222222222,
              "#7201a8"
             ],
             [
              0.3333333333333333,
              "#9c179e"
             ],
             [
              0.4444444444444444,
              "#bd3786"
             ],
             [
              0.5555555555555556,
              "#d8576b"
             ],
             [
              0.6666666666666666,
              "#ed7953"
             ],
             [
              0.7777777777777778,
              "#fb9f3a"
             ],
             [
              0.8888888888888888,
              "#fdca26"
             ],
             [
              1,
              "#f0f921"
             ]
            ],
            "type": "contour"
           }
          ],
          "contourcarpet": [
           {
            "colorbar": {
             "outlinewidth": 0,
             "ticks": ""
            },
            "type": "contourcarpet"
           }
          ],
          "heatmap": [
           {
            "colorbar": {
             "outlinewidth": 0,
             "ticks": ""
            },
            "colorscale": [
             [
              0,
              "#0d0887"
             ],
             [
              0.1111111111111111,
              "#46039f"
             ],
             [
              0.2222222222222222,
              "#7201a8"
             ],
             [
              0.3333333333333333,
              "#9c179e"
             ],
             [
              0.4444444444444444,
              "#bd3786"
             ],
             [
              0.5555555555555556,
              "#d8576b"
             ],
             [
              0.6666666666666666,
              "#ed7953"
             ],
             [
              0.7777777777777778,
              "#fb9f3a"
             ],
             [
              0.8888888888888888,
              "#fdca26"
             ],
             [
              1,
              "#f0f921"
             ]
            ],
            "type": "heatmap"
           }
          ],
          "heatmapgl": [
           {
            "colorbar": {
             "outlinewidth": 0,
             "ticks": ""
            },
            "colorscale": [
             [
              0,
              "#0d0887"
             ],
             [
              0.1111111111111111,
              "#46039f"
             ],
             [
              0.2222222222222222,
              "#7201a8"
             ],
             [
              0.3333333333333333,
              "#9c179e"
             ],
             [
              0.4444444444444444,
              "#bd3786"
             ],
             [
              0.5555555555555556,
              "#d8576b"
             ],
             [
              0.6666666666666666,
              "#ed7953"
             ],
             [
              0.7777777777777778,
              "#fb9f3a"
             ],
             [
              0.8888888888888888,
              "#fdca26"
             ],
             [
              1,
              "#f0f921"
             ]
            ],
            "type": "heatmapgl"
           }
          ],
          "histogram": [
           {
            "marker": {
             "pattern": {
              "fillmode": "overlay",
              "size": 10,
              "solidity": 0.2
             }
            },
            "type": "histogram"
           }
          ],
          "histogram2d": [
           {
            "colorbar": {
             "outlinewidth": 0,
             "ticks": ""
            },
            "colorscale": [
             [
              0,
              "#0d0887"
             ],
             [
              0.1111111111111111,
              "#46039f"
             ],
             [
              0.2222222222222222,
              "#7201a8"
             ],
             [
              0.3333333333333333,
              "#9c179e"
             ],
             [
              0.4444444444444444,
              "#bd3786"
             ],
             [
              0.5555555555555556,
              "#d8576b"
             ],
             [
              0.6666666666666666,
              "#ed7953"
             ],
             [
              0.7777777777777778,
              "#fb9f3a"
             ],
             [
              0.8888888888888888,
              "#fdca26"
             ],
             [
              1,
              "#f0f921"
             ]
            ],
            "type": "histogram2d"
           }
          ],
          "histogram2dcontour": [
           {
            "colorbar": {
             "outlinewidth": 0,
             "ticks": ""
            },
            "colorscale": [
             [
              0,
              "#0d0887"
             ],
             [
              0.1111111111111111,
              "#46039f"
             ],
             [
              0.2222222222222222,
              "#7201a8"
             ],
             [
              0.3333333333333333,
              "#9c179e"
             ],
             [
              0.4444444444444444,
              "#bd3786"
             ],
             [
              0.5555555555555556,
              "#d8576b"
             ],
             [
              0.6666666666666666,
              "#ed7953"
             ],
             [
              0.7777777777777778,
              "#fb9f3a"
             ],
             [
              0.8888888888888888,
              "#fdca26"
             ],
             [
              1,
              "#f0f921"
             ]
            ],
            "type": "histogram2dcontour"
           }
          ],
          "mesh3d": [
           {
            "colorbar": {
             "outlinewidth": 0,
             "ticks": ""
            },
            "type": "mesh3d"
           }
          ],
          "parcoords": [
           {
            "line": {
             "colorbar": {
              "outlinewidth": 0,
              "ticks": ""
             }
            },
            "type": "parcoords"
           }
          ],
          "pie": [
           {
            "automargin": true,
            "type": "pie"
           }
          ],
          "scatter": [
           {
            "fillpattern": {
             "fillmode": "overlay",
             "size": 10,
             "solidity": 0.2
            },
            "type": "scatter"
           }
          ],
          "scatter3d": [
           {
            "line": {
             "colorbar": {
              "outlinewidth": 0,
              "ticks": ""
             }
            },
            "marker": {
             "colorbar": {
              "outlinewidth": 0,
              "ticks": ""
             }
            },
            "type": "scatter3d"
           }
          ],
          "scattercarpet": [
           {
            "marker": {
             "colorbar": {
              "outlinewidth": 0,
              "ticks": ""
             }
            },
            "type": "scattercarpet"
           }
          ],
          "scattergeo": [
           {
            "marker": {
             "colorbar": {
              "outlinewidth": 0,
              "ticks": ""
             }
            },
            "type": "scattergeo"
           }
          ],
          "scattergl": [
           {
            "marker": {
             "colorbar": {
              "outlinewidth": 0,
              "ticks": ""
             }
            },
            "type": "scattergl"
           }
          ],
          "scattermapbox": [
           {
            "marker": {
             "colorbar": {
              "outlinewidth": 0,
              "ticks": ""
             }
            },
            "type": "scattermapbox"
           }
          ],
          "scatterpolar": [
           {
            "marker": {
             "colorbar": {
              "outlinewidth": 0,
              "ticks": ""
             }
            },
            "type": "scatterpolar"
           }
          ],
          "scatterpolargl": [
           {
            "marker": {
             "colorbar": {
              "outlinewidth": 0,
              "ticks": ""
             }
            },
            "type": "scatterpolargl"
           }
          ],
          "scatterternary": [
           {
            "marker": {
             "colorbar": {
              "outlinewidth": 0,
              "ticks": ""
             }
            },
            "type": "scatterternary"
           }
          ],
          "surface": [
           {
            "colorbar": {
             "outlinewidth": 0,
             "ticks": ""
            },
            "colorscale": [
             [
              0,
              "#0d0887"
             ],
             [
              0.1111111111111111,
              "#46039f"
             ],
             [
              0.2222222222222222,
              "#7201a8"
             ],
             [
              0.3333333333333333,
              "#9c179e"
             ],
             [
              0.4444444444444444,
              "#bd3786"
             ],
             [
              0.5555555555555556,
              "#d8576b"
             ],
             [
              0.6666666666666666,
              "#ed7953"
             ],
             [
              0.7777777777777778,
              "#fb9f3a"
             ],
             [
              0.8888888888888888,
              "#fdca26"
             ],
             [
              1,
              "#f0f921"
             ]
            ],
            "type": "surface"
           }
          ],
          "table": [
           {
            "cells": {
             "fill": {
              "color": "#EBF0F8"
             },
             "line": {
              "color": "white"
             }
            },
            "header": {
             "fill": {
              "color": "#C8D4E3"
             },
             "line": {
              "color": "white"
             }
            },
            "type": "table"
           }
          ]
         },
         "layout": {
          "annotationdefaults": {
           "arrowcolor": "#2a3f5f",
           "arrowhead": 0,
           "arrowwidth": 1
          },
          "autotypenumbers": "strict",
          "coloraxis": {
           "colorbar": {
            "outlinewidth": 0,
            "ticks": ""
           }
          },
          "colorscale": {
           "diverging": [
            [
             0,
             "#8e0152"
            ],
            [
             0.1,
             "#c51b7d"
            ],
            [
             0.2,
             "#de77ae"
            ],
            [
             0.3,
             "#f1b6da"
            ],
            [
             0.4,
             "#fde0ef"
            ],
            [
             0.5,
             "#f7f7f7"
            ],
            [
             0.6,
             "#e6f5d0"
            ],
            [
             0.7,
             "#b8e186"
            ],
            [
             0.8,
             "#7fbc41"
            ],
            [
             0.9,
             "#4d9221"
            ],
            [
             1,
             "#276419"
            ]
           ],
           "sequential": [
            [
             0,
             "#0d0887"
            ],
            [
             0.1111111111111111,
             "#46039f"
            ],
            [
             0.2222222222222222,
             "#7201a8"
            ],
            [
             0.3333333333333333,
             "#9c179e"
            ],
            [
             0.4444444444444444,
             "#bd3786"
            ],
            [
             0.5555555555555556,
             "#d8576b"
            ],
            [
             0.6666666666666666,
             "#ed7953"
            ],
            [
             0.7777777777777778,
             "#fb9f3a"
            ],
            [
             0.8888888888888888,
             "#fdca26"
            ],
            [
             1,
             "#f0f921"
            ]
           ],
           "sequentialminus": [
            [
             0,
             "#0d0887"
            ],
            [
             0.1111111111111111,
             "#46039f"
            ],
            [
             0.2222222222222222,
             "#7201a8"
            ],
            [
             0.3333333333333333,
             "#9c179e"
            ],
            [
             0.4444444444444444,
             "#bd3786"
            ],
            [
             0.5555555555555556,
             "#d8576b"
            ],
            [
             0.6666666666666666,
             "#ed7953"
            ],
            [
             0.7777777777777778,
             "#fb9f3a"
            ],
            [
             0.8888888888888888,
             "#fdca26"
            ],
            [
             1,
             "#f0f921"
            ]
           ]
          },
          "colorway": [
           "#636efa",
           "#EF553B",
           "#00cc96",
           "#ab63fa",
           "#FFA15A",
           "#19d3f3",
           "#FF6692",
           "#B6E880",
           "#FF97FF",
           "#FECB52"
          ],
          "font": {
           "color": "#2a3f5f"
          },
          "geo": {
           "bgcolor": "white",
           "lakecolor": "white",
           "landcolor": "#E5ECF6",
           "showlakes": true,
           "showland": true,
           "subunitcolor": "white"
          },
          "hoverlabel": {
           "align": "left"
          },
          "hovermode": "closest",
          "mapbox": {
           "style": "light"
          },
          "paper_bgcolor": "white",
          "plot_bgcolor": "#E5ECF6",
          "polar": {
           "angularaxis": {
            "gridcolor": "white",
            "linecolor": "white",
            "ticks": ""
           },
           "bgcolor": "#E5ECF6",
           "radialaxis": {
            "gridcolor": "white",
            "linecolor": "white",
            "ticks": ""
           }
          },
          "scene": {
           "xaxis": {
            "backgroundcolor": "#E5ECF6",
            "gridcolor": "white",
            "gridwidth": 2,
            "linecolor": "white",
            "showbackground": true,
            "ticks": "",
            "zerolinecolor": "white"
           },
           "yaxis": {
            "backgroundcolor": "#E5ECF6",
            "gridcolor": "white",
            "gridwidth": 2,
            "linecolor": "white",
            "showbackground": true,
            "ticks": "",
            "zerolinecolor": "white"
           },
           "zaxis": {
            "backgroundcolor": "#E5ECF6",
            "gridcolor": "white",
            "gridwidth": 2,
            "linecolor": "white",
            "showbackground": true,
            "ticks": "",
            "zerolinecolor": "white"
           }
          },
          "shapedefaults": {
           "line": {
            "color": "#2a3f5f"
           }
          },
          "ternary": {
           "aaxis": {
            "gridcolor": "white",
            "linecolor": "white",
            "ticks": ""
           },
           "baxis": {
            "gridcolor": "white",
            "linecolor": "white",
            "ticks": ""
           },
           "bgcolor": "#E5ECF6",
           "caxis": {
            "gridcolor": "white",
            "linecolor": "white",
            "ticks": ""
           }
          },
          "title": {
           "x": 0.05
          },
          "xaxis": {
           "automargin": true,
           "gridcolor": "white",
           "linecolor": "white",
           "ticks": "",
           "title": {
            "standoff": 15
           },
           "zerolinecolor": "white",
           "zerolinewidth": 2
          },
          "yaxis": {
           "automargin": true,
           "gridcolor": "white",
           "linecolor": "white",
           "ticks": "",
           "title": {
            "standoff": 15
           },
           "zerolinecolor": "white",
           "zerolinewidth": 2
          }
         }
        },
        "title": {
         "text": "Correlation matrix plot of the simulated dataset"
        },
        "xaxis": {
         "anchor": "y",
         "domain": [
          0,
          1
         ]
        },
        "yaxis": {
         "anchor": "x",
         "autorange": "reversed",
         "domain": [
          0,
          1
         ]
        }
       }
      }
     },
     "metadata": {},
     "output_type": "display_data"
    }
   ],
   "source": [
    "corr = simulated_dataframe.corr()\n",
    "fig = px.imshow(corr, text_auto=True, aspect=\"auto\")\n",
    "\n",
    "# Title\n",
    "fig.update_layout(title_text=\"Correlation matrix plot of the simulated dataset\")\n",
    "\n",
    "fig.show()"
   ]
  },
  {
   "cell_type": "code",
   "execution_count": 732,
   "metadata": {},
   "outputs": [],
   "source": [
    "# use logarithm of target variable (consult_cost) to minimize outlier and mean square error(MSE) \n",
    "simulated_dataframe['consult_cost'] = np.log(simulated_dataframe['consult_cost'])"
   ]
  },
  {
   "attachments": {},
   "cell_type": "markdown",
   "metadata": {},
   "source": [
    "## Choices for Insurance Model\n",
    "        Choose a suitable machine learning predictive model that forcasts the value of the target."
   ]
  },
  {
   "attachments": {},
   "cell_type": "markdown",
   "metadata": {},
   "source": [
    "Getting the train and test datasets "
   ]
  },
  {
   "cell_type": "code",
   "execution_count": 733,
   "metadata": {},
   "outputs": [],
   "source": [
    "target_variable = 'consult_cost'\n",
    "X = simulated_dataframe.drop(target_variable, axis=1)\n",
    "\n",
    "#Apply robust scaling to explanatory variables to reduce outliers\n",
    "robust_scaler = RobustScaler()\n",
    "X = robust_scaler.fit_transform(X)  # x_new=x-median(data)/(Q3-Q1)\n",
    "\n",
    "y = simulated_dataframe[target_variable]\n",
    "x_train, x_test, y_train, y_test = train_test_split(X, y, test_size=0.2, random_state=23)"
   ]
  },
  {
   "attachments": {},
   "cell_type": "markdown",
   "metadata": {},
   "source": [
    "Preparing dataframe for model analysis"
   ]
  },
  {
   "cell_type": "code",
   "execution_count": 734,
   "metadata": {},
   "outputs": [],
   "source": [
    "mean_Model = pd.DataFrame(index=['train_MSE', 'test_MSE'], columns=['MLR', 'RF', 'KNN', 'LASSO'])\n",
    "r_Model = pd.DataFrame(index=['train_R2', 'test_R2'], columns=['MLR', 'RF', 'KNN', 'LASSO'])"
   ]
  },
  {
   "attachments": {},
   "cell_type": "markdown",
   "metadata": {},
   "source": [
    "Building models "
   ]
  },
  {
   "attachments": {},
   "cell_type": "markdown",
   "metadata": {},
   "source": [
    "    Multiple Linear Regression (MLR)"
   ]
  },
  {
   "cell_type": "code",
   "execution_count": 735,
   "metadata": {},
   "outputs": [],
   "source": [
    "# 1. Import the estimator object (model)\n",
    "from sklearn.linear_model import LinearRegression\n",
    "# 2. Create an instance of the estimator\n",
    "linear_regression = LinearRegression()\n",
    "# 3. Use the trainning data to train the estimator\n",
    "linear_regression.fit(x_train, y_train)\n",
    "# 4. Evaluate the model\n",
    "mean_Model.loc['train_MSE','MLR'] = mean_squared_error(y_pred=linear_regression.predict(x_train), y_true=y_train)\n",
    "mean_Model.loc['test_MSE','MLR'] = mean_squared_error(y_pred=linear_regression.predict(x_test), y_true=y_test)\n",
    "r_Model.loc['train_R2','MLR'] = r2_score(y_pred=linear_regression.predict(x_train), y_true=y_train)\n",
    "r_Model.loc['test_R2','MLR'] = r2_score(y_pred=linear_regression.predict(x_test), y_true=y_test)"
   ]
  },
  {
   "attachments": {},
   "cell_type": "markdown",
   "metadata": {},
   "source": [
    "    Random Forest (RF)"
   ]
  },
  {
   "cell_type": "code",
   "execution_count": 736,
   "metadata": {},
   "outputs": [],
   "source": [
    "# 1. Import the estimator object (model)\n",
    "from sklearn.ensemble import RandomForestRegressor\n",
    "# 2. Create an instance of the estimator\n",
    "RF = RandomForestRegressor(n_estimators=100, random_state=21)\n",
    "# 3. Use the trainning data to train the estimator\n",
    "RF.fit(x_train, y_train)\n",
    "# 4. Evaluate the model\n",
    "mean_Model.loc['train_MSE','RF'] = mean_squared_error(y_pred=RF.predict(x_train), y_true=y_train)\n",
    "mean_Model.loc['test_MSE','RF'] = mean_squared_error(y_pred=RF.predict(x_test), y_true=y_test)\n",
    "r_Model.loc['train_R2','RF'] = r2_score(y_pred=RF.predict(x_train), y_true=y_train)\n",
    "r_Model.loc['test_R2','RF'] = r2_score(y_pred=RF.predict(x_test), y_true=y_test)"
   ]
  },
  {
   "attachments": {},
   "cell_type": "markdown",
   "metadata": {},
   "source": [
    "    K-Nearest Neighbor (KNN)"
   ]
  },
  {
   "cell_type": "code",
   "execution_count": 737,
   "metadata": {},
   "outputs": [],
   "source": [
    "# 1. Import the estimator object (model)\n",
    "from sklearn.neighbors import KNeighborsRegressor\n",
    "# 2. Create an instance of the estimator\n",
    "knn = KNeighborsRegressor(n_neighbors=7, weights='distance', metric='euclidean', n_jobs=-1)\n",
    "# 3. Use the training data to train the estimator\n",
    "knn.fit(x_train, y_train)\n",
    "# 4. Evaluate the model\n",
    "mean_Model.loc['train_MSE','KNN'] = mean_squared_error(y_pred=knn.predict(x_train), y_true=y_train)\n",
    "mean_Model.loc['test_MSE','KNN'] = mean_squared_error(y_pred=knn.predict(x_test), y_true=y_test)\n",
    "r_Model.loc['train_R2','KNN'] = r2_score(y_pred=knn.predict(x_train), y_true=y_train)\n",
    "r_Model.loc['test_R2','KNN'] = r2_score(y_pred=knn.predict(x_test), y_true=y_test)"
   ]
  },
  {
   "attachments": {},
   "cell_type": "markdown",
   "metadata": {},
   "source": [
    "    Least Absolute Shrinkage and Selection Operator (LASSO)"
   ]
  },
  {
   "cell_type": "code",
   "execution_count": 738,
   "metadata": {},
   "outputs": [],
   "source": [
    "# 1. Import the estimator object (model)\n",
    "from sklearn.linear_model import Lasso\n",
    "# 2. Create an instance of the estimator\n",
    "lasso = Lasso(alpha=0.05)\n",
    "# 3. Use the training data to train the estimator\n",
    "lasso.fit(x_train, y_train)\n",
    "# 4. Evaluate the model\n",
    "mean_Model.loc['train_MSE','LASSO'] = mean_squared_error(y_pred=lasso.predict(x_train), y_true=y_train)\n",
    "mean_Model.loc['test_MSE','LASSO'] = mean_squared_error(y_pred=lasso.predict(x_test), y_true=y_test)\n",
    "r_Model.loc['train_R2','LASSO'] = r2_score(y_pred=lasso.predict(x_train), y_true=y_train)\n",
    "r_Model.loc['test_R2','LASSO'] = r2_score(y_pred=lasso.predict(x_test), y_true=y_test)"
   ]
  },
  {
   "cell_type": "code",
   "execution_count": 739,
   "metadata": {},
   "outputs": [
    {
     "data": {
      "text/html": [
       "<div>\n",
       "<style scoped>\n",
       "    .dataframe tbody tr th:only-of-type {\n",
       "        vertical-align: middle;\n",
       "    }\n",
       "\n",
       "    .dataframe tbody tr th {\n",
       "        vertical-align: top;\n",
       "    }\n",
       "\n",
       "    .dataframe thead th {\n",
       "        text-align: right;\n",
       "    }\n",
       "</style>\n",
       "<table border=\"1\" class=\"dataframe\">\n",
       "  <thead>\n",
       "    <tr style=\"text-align: right;\">\n",
       "      <th></th>\n",
       "      <th>MLR</th>\n",
       "      <th>RF</th>\n",
       "      <th>KNN</th>\n",
       "      <th>LASSO</th>\n",
       "    </tr>\n",
       "  </thead>\n",
       "  <tbody>\n",
       "    <tr>\n",
       "      <th>train_MSE</th>\n",
       "      <td>0.048099</td>\n",
       "      <td>0.001089</td>\n",
       "      <td>0.0</td>\n",
       "      <td>0.059861</td>\n",
       "    </tr>\n",
       "    <tr>\n",
       "      <th>test_MSE</th>\n",
       "      <td>0.053425</td>\n",
       "      <td>0.011827</td>\n",
       "      <td>0.200511</td>\n",
       "      <td>0.060166</td>\n",
       "    </tr>\n",
       "  </tbody>\n",
       "</table>\n",
       "</div>"
      ],
      "text/plain": [
       "                MLR        RF       KNN     LASSO\n",
       "train_MSE  0.048099  0.001089       0.0  0.059861\n",
       "test_MSE   0.053425  0.011827  0.200511  0.060166"
      ]
     },
     "execution_count": 739,
     "metadata": {},
     "output_type": "execute_result"
    }
   ],
   "source": [
    "mean_Model"
   ]
  },
  {
   "cell_type": "code",
   "execution_count": 740,
   "metadata": {},
   "outputs": [
    {
     "data": {
      "application/vnd.plotly.v1+json": {
       "config": {
        "plotlyServerURL": "https://plot.ly"
       },
       "data": [
        {
         "name": "train_MSE",
         "orientation": "h",
         "type": "bar",
         "x": [
          0.04809861279861383,
          0.00108892797488357,
          4.644360566169947e-16,
          0.05986078712490904
         ],
         "y": [
          "MLR",
          "RF",
          "KNN",
          "LASSO"
         ]
        },
        {
         "name": "test_MSE",
         "orientation": "h",
         "type": "bar",
         "x": [
          0.053424601724715005,
          0.011827476642535362,
          0.20051067734862696,
          0.060165607420101214
         ],
         "y": [
          "MLR",
          "RF",
          "KNN",
          "LASSO"
         ]
        }
       ],
       "layout": {
        "barmode": "group",
        "template": {
         "data": {
          "bar": [
           {
            "error_x": {
             "color": "#2a3f5f"
            },
            "error_y": {
             "color": "#2a3f5f"
            },
            "marker": {
             "line": {
              "color": "#E5ECF6",
              "width": 0.5
             },
             "pattern": {
              "fillmode": "overlay",
              "size": 10,
              "solidity": 0.2
             }
            },
            "type": "bar"
           }
          ],
          "barpolar": [
           {
            "marker": {
             "line": {
              "color": "#E5ECF6",
              "width": 0.5
             },
             "pattern": {
              "fillmode": "overlay",
              "size": 10,
              "solidity": 0.2
             }
            },
            "type": "barpolar"
           }
          ],
          "carpet": [
           {
            "aaxis": {
             "endlinecolor": "#2a3f5f",
             "gridcolor": "white",
             "linecolor": "white",
             "minorgridcolor": "white",
             "startlinecolor": "#2a3f5f"
            },
            "baxis": {
             "endlinecolor": "#2a3f5f",
             "gridcolor": "white",
             "linecolor": "white",
             "minorgridcolor": "white",
             "startlinecolor": "#2a3f5f"
            },
            "type": "carpet"
           }
          ],
          "choropleth": [
           {
            "colorbar": {
             "outlinewidth": 0,
             "ticks": ""
            },
            "type": "choropleth"
           }
          ],
          "contour": [
           {
            "colorbar": {
             "outlinewidth": 0,
             "ticks": ""
            },
            "colorscale": [
             [
              0,
              "#0d0887"
             ],
             [
              0.1111111111111111,
              "#46039f"
             ],
             [
              0.2222222222222222,
              "#7201a8"
             ],
             [
              0.3333333333333333,
              "#9c179e"
             ],
             [
              0.4444444444444444,
              "#bd3786"
             ],
             [
              0.5555555555555556,
              "#d8576b"
             ],
             [
              0.6666666666666666,
              "#ed7953"
             ],
             [
              0.7777777777777778,
              "#fb9f3a"
             ],
             [
              0.8888888888888888,
              "#fdca26"
             ],
             [
              1,
              "#f0f921"
             ]
            ],
            "type": "contour"
           }
          ],
          "contourcarpet": [
           {
            "colorbar": {
             "outlinewidth": 0,
             "ticks": ""
            },
            "type": "contourcarpet"
           }
          ],
          "heatmap": [
           {
            "colorbar": {
             "outlinewidth": 0,
             "ticks": ""
            },
            "colorscale": [
             [
              0,
              "#0d0887"
             ],
             [
              0.1111111111111111,
              "#46039f"
             ],
             [
              0.2222222222222222,
              "#7201a8"
             ],
             [
              0.3333333333333333,
              "#9c179e"
             ],
             [
              0.4444444444444444,
              "#bd3786"
             ],
             [
              0.5555555555555556,
              "#d8576b"
             ],
             [
              0.6666666666666666,
              "#ed7953"
             ],
             [
              0.7777777777777778,
              "#fb9f3a"
             ],
             [
              0.8888888888888888,
              "#fdca26"
             ],
             [
              1,
              "#f0f921"
             ]
            ],
            "type": "heatmap"
           }
          ],
          "heatmapgl": [
           {
            "colorbar": {
             "outlinewidth": 0,
             "ticks": ""
            },
            "colorscale": [
             [
              0,
              "#0d0887"
             ],
             [
              0.1111111111111111,
              "#46039f"
             ],
             [
              0.2222222222222222,
              "#7201a8"
             ],
             [
              0.3333333333333333,
              "#9c179e"
             ],
             [
              0.4444444444444444,
              "#bd3786"
             ],
             [
              0.5555555555555556,
              "#d8576b"
             ],
             [
              0.6666666666666666,
              "#ed7953"
             ],
             [
              0.7777777777777778,
              "#fb9f3a"
             ],
             [
              0.8888888888888888,
              "#fdca26"
             ],
             [
              1,
              "#f0f921"
             ]
            ],
            "type": "heatmapgl"
           }
          ],
          "histogram": [
           {
            "marker": {
             "pattern": {
              "fillmode": "overlay",
              "size": 10,
              "solidity": 0.2
             }
            },
            "type": "histogram"
           }
          ],
          "histogram2d": [
           {
            "colorbar": {
             "outlinewidth": 0,
             "ticks": ""
            },
            "colorscale": [
             [
              0,
              "#0d0887"
             ],
             [
              0.1111111111111111,
              "#46039f"
             ],
             [
              0.2222222222222222,
              "#7201a8"
             ],
             [
              0.3333333333333333,
              "#9c179e"
             ],
             [
              0.4444444444444444,
              "#bd3786"
             ],
             [
              0.5555555555555556,
              "#d8576b"
             ],
             [
              0.6666666666666666,
              "#ed7953"
             ],
             [
              0.7777777777777778,
              "#fb9f3a"
             ],
             [
              0.8888888888888888,
              "#fdca26"
             ],
             [
              1,
              "#f0f921"
             ]
            ],
            "type": "histogram2d"
           }
          ],
          "histogram2dcontour": [
           {
            "colorbar": {
             "outlinewidth": 0,
             "ticks": ""
            },
            "colorscale": [
             [
              0,
              "#0d0887"
             ],
             [
              0.1111111111111111,
              "#46039f"
             ],
             [
              0.2222222222222222,
              "#7201a8"
             ],
             [
              0.3333333333333333,
              "#9c179e"
             ],
             [
              0.4444444444444444,
              "#bd3786"
             ],
             [
              0.5555555555555556,
              "#d8576b"
             ],
             [
              0.6666666666666666,
              "#ed7953"
             ],
             [
              0.7777777777777778,
              "#fb9f3a"
             ],
             [
              0.8888888888888888,
              "#fdca26"
             ],
             [
              1,
              "#f0f921"
             ]
            ],
            "type": "histogram2dcontour"
           }
          ],
          "mesh3d": [
           {
            "colorbar": {
             "outlinewidth": 0,
             "ticks": ""
            },
            "type": "mesh3d"
           }
          ],
          "parcoords": [
           {
            "line": {
             "colorbar": {
              "outlinewidth": 0,
              "ticks": ""
             }
            },
            "type": "parcoords"
           }
          ],
          "pie": [
           {
            "automargin": true,
            "type": "pie"
           }
          ],
          "scatter": [
           {
            "fillpattern": {
             "fillmode": "overlay",
             "size": 10,
             "solidity": 0.2
            },
            "type": "scatter"
           }
          ],
          "scatter3d": [
           {
            "line": {
             "colorbar": {
              "outlinewidth": 0,
              "ticks": ""
             }
            },
            "marker": {
             "colorbar": {
              "outlinewidth": 0,
              "ticks": ""
             }
            },
            "type": "scatter3d"
           }
          ],
          "scattercarpet": [
           {
            "marker": {
             "colorbar": {
              "outlinewidth": 0,
              "ticks": ""
             }
            },
            "type": "scattercarpet"
           }
          ],
          "scattergeo": [
           {
            "marker": {
             "colorbar": {
              "outlinewidth": 0,
              "ticks": ""
             }
            },
            "type": "scattergeo"
           }
          ],
          "scattergl": [
           {
            "marker": {
             "colorbar": {
              "outlinewidth": 0,
              "ticks": ""
             }
            },
            "type": "scattergl"
           }
          ],
          "scattermapbox": [
           {
            "marker": {
             "colorbar": {
              "outlinewidth": 0,
              "ticks": ""
             }
            },
            "type": "scattermapbox"
           }
          ],
          "scatterpolar": [
           {
            "marker": {
             "colorbar": {
              "outlinewidth": 0,
              "ticks": ""
             }
            },
            "type": "scatterpolar"
           }
          ],
          "scatterpolargl": [
           {
            "marker": {
             "colorbar": {
              "outlinewidth": 0,
              "ticks": ""
             }
            },
            "type": "scatterpolargl"
           }
          ],
          "scatterternary": [
           {
            "marker": {
             "colorbar": {
              "outlinewidth": 0,
              "ticks": ""
             }
            },
            "type": "scatterternary"
           }
          ],
          "surface": [
           {
            "colorbar": {
             "outlinewidth": 0,
             "ticks": ""
            },
            "colorscale": [
             [
              0,
              "#0d0887"
             ],
             [
              0.1111111111111111,
              "#46039f"
             ],
             [
              0.2222222222222222,
              "#7201a8"
             ],
             [
              0.3333333333333333,
              "#9c179e"
             ],
             [
              0.4444444444444444,
              "#bd3786"
             ],
             [
              0.5555555555555556,
              "#d8576b"
             ],
             [
              0.6666666666666666,
              "#ed7953"
             ],
             [
              0.7777777777777778,
              "#fb9f3a"
             ],
             [
              0.8888888888888888,
              "#fdca26"
             ],
             [
              1,
              "#f0f921"
             ]
            ],
            "type": "surface"
           }
          ],
          "table": [
           {
            "cells": {
             "fill": {
              "color": "#EBF0F8"
             },
             "line": {
              "color": "white"
             }
            },
            "header": {
             "fill": {
              "color": "#C8D4E3"
             },
             "line": {
              "color": "white"
             }
            },
            "type": "table"
           }
          ]
         },
         "layout": {
          "annotationdefaults": {
           "arrowcolor": "#2a3f5f",
           "arrowhead": 0,
           "arrowwidth": 1
          },
          "autotypenumbers": "strict",
          "coloraxis": {
           "colorbar": {
            "outlinewidth": 0,
            "ticks": ""
           }
          },
          "colorscale": {
           "diverging": [
            [
             0,
             "#8e0152"
            ],
            [
             0.1,
             "#c51b7d"
            ],
            [
             0.2,
             "#de77ae"
            ],
            [
             0.3,
             "#f1b6da"
            ],
            [
             0.4,
             "#fde0ef"
            ],
            [
             0.5,
             "#f7f7f7"
            ],
            [
             0.6,
             "#e6f5d0"
            ],
            [
             0.7,
             "#b8e186"
            ],
            [
             0.8,
             "#7fbc41"
            ],
            [
             0.9,
             "#4d9221"
            ],
            [
             1,
             "#276419"
            ]
           ],
           "sequential": [
            [
             0,
             "#0d0887"
            ],
            [
             0.1111111111111111,
             "#46039f"
            ],
            [
             0.2222222222222222,
             "#7201a8"
            ],
            [
             0.3333333333333333,
             "#9c179e"
            ],
            [
             0.4444444444444444,
             "#bd3786"
            ],
            [
             0.5555555555555556,
             "#d8576b"
            ],
            [
             0.6666666666666666,
             "#ed7953"
            ],
            [
             0.7777777777777778,
             "#fb9f3a"
            ],
            [
             0.8888888888888888,
             "#fdca26"
            ],
            [
             1,
             "#f0f921"
            ]
           ],
           "sequentialminus": [
            [
             0,
             "#0d0887"
            ],
            [
             0.1111111111111111,
             "#46039f"
            ],
            [
             0.2222222222222222,
             "#7201a8"
            ],
            [
             0.3333333333333333,
             "#9c179e"
            ],
            [
             0.4444444444444444,
             "#bd3786"
            ],
            [
             0.5555555555555556,
             "#d8576b"
            ],
            [
             0.6666666666666666,
             "#ed7953"
            ],
            [
             0.7777777777777778,
             "#fb9f3a"
            ],
            [
             0.8888888888888888,
             "#fdca26"
            ],
            [
             1,
             "#f0f921"
            ]
           ]
          },
          "colorway": [
           "#636efa",
           "#EF553B",
           "#00cc96",
           "#ab63fa",
           "#FFA15A",
           "#19d3f3",
           "#FF6692",
           "#B6E880",
           "#FF97FF",
           "#FECB52"
          ],
          "font": {
           "color": "#2a3f5f"
          },
          "geo": {
           "bgcolor": "white",
           "lakecolor": "white",
           "landcolor": "#E5ECF6",
           "showlakes": true,
           "showland": true,
           "subunitcolor": "white"
          },
          "hoverlabel": {
           "align": "left"
          },
          "hovermode": "closest",
          "mapbox": {
           "style": "light"
          },
          "paper_bgcolor": "white",
          "plot_bgcolor": "#E5ECF6",
          "polar": {
           "angularaxis": {
            "gridcolor": "white",
            "linecolor": "white",
            "ticks": ""
           },
           "bgcolor": "#E5ECF6",
           "radialaxis": {
            "gridcolor": "white",
            "linecolor": "white",
            "ticks": ""
           }
          },
          "scene": {
           "xaxis": {
            "backgroundcolor": "#E5ECF6",
            "gridcolor": "white",
            "gridwidth": 2,
            "linecolor": "white",
            "showbackground": true,
            "ticks": "",
            "zerolinecolor": "white"
           },
           "yaxis": {
            "backgroundcolor": "#E5ECF6",
            "gridcolor": "white",
            "gridwidth": 2,
            "linecolor": "white",
            "showbackground": true,
            "ticks": "",
            "zerolinecolor": "white"
           },
           "zaxis": {
            "backgroundcolor": "#E5ECF6",
            "gridcolor": "white",
            "gridwidth": 2,
            "linecolor": "white",
            "showbackground": true,
            "ticks": "",
            "zerolinecolor": "white"
           }
          },
          "shapedefaults": {
           "line": {
            "color": "#2a3f5f"
           }
          },
          "ternary": {
           "aaxis": {
            "gridcolor": "white",
            "linecolor": "white",
            "ticks": ""
           },
           "baxis": {
            "gridcolor": "white",
            "linecolor": "white",
            "ticks": ""
           },
           "bgcolor": "#E5ECF6",
           "caxis": {
            "gridcolor": "white",
            "linecolor": "white",
            "ticks": ""
           }
          },
          "title": {
           "x": 0.05
          },
          "xaxis": {
           "automargin": true,
           "gridcolor": "white",
           "linecolor": "white",
           "ticks": "",
           "title": {
            "standoff": 15
           },
           "zerolinecolor": "white",
           "zerolinewidth": 2
          },
          "yaxis": {
           "automargin": true,
           "gridcolor": "white",
           "linecolor": "white",
           "ticks": "",
           "title": {
            "standoff": 15
           },
           "zerolinecolor": "white",
           "zerolinewidth": 2
          }
         }
        },
        "title": {
         "text": "Mean square error (MSE) plot of the predictive models using train and test data"
        }
       }
      }
     },
     "metadata": {},
     "output_type": "display_data"
    }
   ],
   "source": [
    "\n",
    "y=['MLR', 'RF', 'KNN', 'LASSO'] \n",
    "x1= mean_Model.loc['train_MSE']\n",
    "x2= mean_Model.loc['test_MSE']\n",
    "\n",
    "trace1 = go.Bar(y=y, x=x1, name='train_MSE', orientation='h')\n",
    "trace2 = go.Bar(y=y, x=x2, name='test_MSE', orientation='h')\n",
    "\n",
    "data = [trace1, trace2]\n",
    "\n",
    "layout = go.Layout(barmode='group', title='Mean square error (MSE) plot of the predictive models using train and test data')\n",
    "\n",
    "fig = go.Figure(data=data, layout=layout)\n",
    "fig.show()\n"
   ]
  },
  {
   "cell_type": "code",
   "execution_count": 741,
   "metadata": {},
   "outputs": [
    {
     "data": {
      "text/html": [
       "<div>\n",
       "<style scoped>\n",
       "    .dataframe tbody tr th:only-of-type {\n",
       "        vertical-align: middle;\n",
       "    }\n",
       "\n",
       "    .dataframe tbody tr th {\n",
       "        vertical-align: top;\n",
       "    }\n",
       "\n",
       "    .dataframe thead th {\n",
       "        text-align: right;\n",
       "    }\n",
       "</style>\n",
       "<table border=\"1\" class=\"dataframe\">\n",
       "  <thead>\n",
       "    <tr style=\"text-align: right;\">\n",
       "      <th></th>\n",
       "      <th>MLR</th>\n",
       "      <th>RF</th>\n",
       "      <th>KNN</th>\n",
       "      <th>LASSO</th>\n",
       "    </tr>\n",
       "  </thead>\n",
       "  <tbody>\n",
       "    <tr>\n",
       "      <th>train_R2</th>\n",
       "      <td>0.892662</td>\n",
       "      <td>0.99757</td>\n",
       "      <td>1.0</td>\n",
       "      <td>0.866414</td>\n",
       "    </tr>\n",
       "    <tr>\n",
       "      <th>test_R2</th>\n",
       "      <td>0.869761</td>\n",
       "      <td>0.971167</td>\n",
       "      <td>0.511192</td>\n",
       "      <td>0.853327</td>\n",
       "    </tr>\n",
       "  </tbody>\n",
       "</table>\n",
       "</div>"
      ],
      "text/plain": [
       "               MLR        RF       KNN     LASSO\n",
       "train_R2  0.892662   0.99757       1.0  0.866414\n",
       "test_R2   0.869761  0.971167  0.511192  0.853327"
      ]
     },
     "execution_count": 741,
     "metadata": {},
     "output_type": "execute_result"
    }
   ],
   "source": [
    "r_Model"
   ]
  },
  {
   "cell_type": "code",
   "execution_count": 742,
   "metadata": {},
   "outputs": [
    {
     "data": {
      "application/vnd.plotly.v1+json": {
       "config": {
        "plotlyServerURL": "https://plot.ly"
       },
       "data": [
        {
         "name": "train_R2",
         "orientation": "h",
         "type": "bar",
         "x": [
          0.8926622537953508,
          0.9975699283658641,
          0.999999999999999,
          0.8664135699104988
         ],
         "y": [
          "MLR",
          "RF",
          "KNN",
          "LASSO"
         ]
        },
        {
         "name": "test_R2",
         "orientation": "h",
         "type": "bar",
         "x": [
          0.8697606253716927,
          0.9711667825004654,
          0.5111917659443668,
          0.853327290582286
         ],
         "y": [
          "MLR",
          "RF",
          "KNN",
          "LASSO"
         ]
        }
       ],
       "layout": {
        "barmode": "group",
        "template": {
         "data": {
          "bar": [
           {
            "error_x": {
             "color": "#2a3f5f"
            },
            "error_y": {
             "color": "#2a3f5f"
            },
            "marker": {
             "line": {
              "color": "#E5ECF6",
              "width": 0.5
             },
             "pattern": {
              "fillmode": "overlay",
              "size": 10,
              "solidity": 0.2
             }
            },
            "type": "bar"
           }
          ],
          "barpolar": [
           {
            "marker": {
             "line": {
              "color": "#E5ECF6",
              "width": 0.5
             },
             "pattern": {
              "fillmode": "overlay",
              "size": 10,
              "solidity": 0.2
             }
            },
            "type": "barpolar"
           }
          ],
          "carpet": [
           {
            "aaxis": {
             "endlinecolor": "#2a3f5f",
             "gridcolor": "white",
             "linecolor": "white",
             "minorgridcolor": "white",
             "startlinecolor": "#2a3f5f"
            },
            "baxis": {
             "endlinecolor": "#2a3f5f",
             "gridcolor": "white",
             "linecolor": "white",
             "minorgridcolor": "white",
             "startlinecolor": "#2a3f5f"
            },
            "type": "carpet"
           }
          ],
          "choropleth": [
           {
            "colorbar": {
             "outlinewidth": 0,
             "ticks": ""
            },
            "type": "choropleth"
           }
          ],
          "contour": [
           {
            "colorbar": {
             "outlinewidth": 0,
             "ticks": ""
            },
            "colorscale": [
             [
              0,
              "#0d0887"
             ],
             [
              0.1111111111111111,
              "#46039f"
             ],
             [
              0.2222222222222222,
              "#7201a8"
             ],
             [
              0.3333333333333333,
              "#9c179e"
             ],
             [
              0.4444444444444444,
              "#bd3786"
             ],
             [
              0.5555555555555556,
              "#d8576b"
             ],
             [
              0.6666666666666666,
              "#ed7953"
             ],
             [
              0.7777777777777778,
              "#fb9f3a"
             ],
             [
              0.8888888888888888,
              "#fdca26"
             ],
             [
              1,
              "#f0f921"
             ]
            ],
            "type": "contour"
           }
          ],
          "contourcarpet": [
           {
            "colorbar": {
             "outlinewidth": 0,
             "ticks": ""
            },
            "type": "contourcarpet"
           }
          ],
          "heatmap": [
           {
            "colorbar": {
             "outlinewidth": 0,
             "ticks": ""
            },
            "colorscale": [
             [
              0,
              "#0d0887"
             ],
             [
              0.1111111111111111,
              "#46039f"
             ],
             [
              0.2222222222222222,
              "#7201a8"
             ],
             [
              0.3333333333333333,
              "#9c179e"
             ],
             [
              0.4444444444444444,
              "#bd3786"
             ],
             [
              0.5555555555555556,
              "#d8576b"
             ],
             [
              0.6666666666666666,
              "#ed7953"
             ],
             [
              0.7777777777777778,
              "#fb9f3a"
             ],
             [
              0.8888888888888888,
              "#fdca26"
             ],
             [
              1,
              "#f0f921"
             ]
            ],
            "type": "heatmap"
           }
          ],
          "heatmapgl": [
           {
            "colorbar": {
             "outlinewidth": 0,
             "ticks": ""
            },
            "colorscale": [
             [
              0,
              "#0d0887"
             ],
             [
              0.1111111111111111,
              "#46039f"
             ],
             [
              0.2222222222222222,
              "#7201a8"
             ],
             [
              0.3333333333333333,
              "#9c179e"
             ],
             [
              0.4444444444444444,
              "#bd3786"
             ],
             [
              0.5555555555555556,
              "#d8576b"
             ],
             [
              0.6666666666666666,
              "#ed7953"
             ],
             [
              0.7777777777777778,
              "#fb9f3a"
             ],
             [
              0.8888888888888888,
              "#fdca26"
             ],
             [
              1,
              "#f0f921"
             ]
            ],
            "type": "heatmapgl"
           }
          ],
          "histogram": [
           {
            "marker": {
             "pattern": {
              "fillmode": "overlay",
              "size": 10,
              "solidity": 0.2
             }
            },
            "type": "histogram"
           }
          ],
          "histogram2d": [
           {
            "colorbar": {
             "outlinewidth": 0,
             "ticks": ""
            },
            "colorscale": [
             [
              0,
              "#0d0887"
             ],
             [
              0.1111111111111111,
              "#46039f"
             ],
             [
              0.2222222222222222,
              "#7201a8"
             ],
             [
              0.3333333333333333,
              "#9c179e"
             ],
             [
              0.4444444444444444,
              "#bd3786"
             ],
             [
              0.5555555555555556,
              "#d8576b"
             ],
             [
              0.6666666666666666,
              "#ed7953"
             ],
             [
              0.7777777777777778,
              "#fb9f3a"
             ],
             [
              0.8888888888888888,
              "#fdca26"
             ],
             [
              1,
              "#f0f921"
             ]
            ],
            "type": "histogram2d"
           }
          ],
          "histogram2dcontour": [
           {
            "colorbar": {
             "outlinewidth": 0,
             "ticks": ""
            },
            "colorscale": [
             [
              0,
              "#0d0887"
             ],
             [
              0.1111111111111111,
              "#46039f"
             ],
             [
              0.2222222222222222,
              "#7201a8"
             ],
             [
              0.3333333333333333,
              "#9c179e"
             ],
             [
              0.4444444444444444,
              "#bd3786"
             ],
             [
              0.5555555555555556,
              "#d8576b"
             ],
             [
              0.6666666666666666,
              "#ed7953"
             ],
             [
              0.7777777777777778,
              "#fb9f3a"
             ],
             [
              0.8888888888888888,
              "#fdca26"
             ],
             [
              1,
              "#f0f921"
             ]
            ],
            "type": "histogram2dcontour"
           }
          ],
          "mesh3d": [
           {
            "colorbar": {
             "outlinewidth": 0,
             "ticks": ""
            },
            "type": "mesh3d"
           }
          ],
          "parcoords": [
           {
            "line": {
             "colorbar": {
              "outlinewidth": 0,
              "ticks": ""
             }
            },
            "type": "parcoords"
           }
          ],
          "pie": [
           {
            "automargin": true,
            "type": "pie"
           }
          ],
          "scatter": [
           {
            "fillpattern": {
             "fillmode": "overlay",
             "size": 10,
             "solidity": 0.2
            },
            "type": "scatter"
           }
          ],
          "scatter3d": [
           {
            "line": {
             "colorbar": {
              "outlinewidth": 0,
              "ticks": ""
             }
            },
            "marker": {
             "colorbar": {
              "outlinewidth": 0,
              "ticks": ""
             }
            },
            "type": "scatter3d"
           }
          ],
          "scattercarpet": [
           {
            "marker": {
             "colorbar": {
              "outlinewidth": 0,
              "ticks": ""
             }
            },
            "type": "scattercarpet"
           }
          ],
          "scattergeo": [
           {
            "marker": {
             "colorbar": {
              "outlinewidth": 0,
              "ticks": ""
             }
            },
            "type": "scattergeo"
           }
          ],
          "scattergl": [
           {
            "marker": {
             "colorbar": {
              "outlinewidth": 0,
              "ticks": ""
             }
            },
            "type": "scattergl"
           }
          ],
          "scattermapbox": [
           {
            "marker": {
             "colorbar": {
              "outlinewidth": 0,
              "ticks": ""
             }
            },
            "type": "scattermapbox"
           }
          ],
          "scatterpolar": [
           {
            "marker": {
             "colorbar": {
              "outlinewidth": 0,
              "ticks": ""
             }
            },
            "type": "scatterpolar"
           }
          ],
          "scatterpolargl": [
           {
            "marker": {
             "colorbar": {
              "outlinewidth": 0,
              "ticks": ""
             }
            },
            "type": "scatterpolargl"
           }
          ],
          "scatterternary": [
           {
            "marker": {
             "colorbar": {
              "outlinewidth": 0,
              "ticks": ""
             }
            },
            "type": "scatterternary"
           }
          ],
          "surface": [
           {
            "colorbar": {
             "outlinewidth": 0,
             "ticks": ""
            },
            "colorscale": [
             [
              0,
              "#0d0887"
             ],
             [
              0.1111111111111111,
              "#46039f"
             ],
             [
              0.2222222222222222,
              "#7201a8"
             ],
             [
              0.3333333333333333,
              "#9c179e"
             ],
             [
              0.4444444444444444,
              "#bd3786"
             ],
             [
              0.5555555555555556,
              "#d8576b"
             ],
             [
              0.6666666666666666,
              "#ed7953"
             ],
             [
              0.7777777777777778,
              "#fb9f3a"
             ],
             [
              0.8888888888888888,
              "#fdca26"
             ],
             [
              1,
              "#f0f921"
             ]
            ],
            "type": "surface"
           }
          ],
          "table": [
           {
            "cells": {
             "fill": {
              "color": "#EBF0F8"
             },
             "line": {
              "color": "white"
             }
            },
            "header": {
             "fill": {
              "color": "#C8D4E3"
             },
             "line": {
              "color": "white"
             }
            },
            "type": "table"
           }
          ]
         },
         "layout": {
          "annotationdefaults": {
           "arrowcolor": "#2a3f5f",
           "arrowhead": 0,
           "arrowwidth": 1
          },
          "autotypenumbers": "strict",
          "coloraxis": {
           "colorbar": {
            "outlinewidth": 0,
            "ticks": ""
           }
          },
          "colorscale": {
           "diverging": [
            [
             0,
             "#8e0152"
            ],
            [
             0.1,
             "#c51b7d"
            ],
            [
             0.2,
             "#de77ae"
            ],
            [
             0.3,
             "#f1b6da"
            ],
            [
             0.4,
             "#fde0ef"
            ],
            [
             0.5,
             "#f7f7f7"
            ],
            [
             0.6,
             "#e6f5d0"
            ],
            [
             0.7,
             "#b8e186"
            ],
            [
             0.8,
             "#7fbc41"
            ],
            [
             0.9,
             "#4d9221"
            ],
            [
             1,
             "#276419"
            ]
           ],
           "sequential": [
            [
             0,
             "#0d0887"
            ],
            [
             0.1111111111111111,
             "#46039f"
            ],
            [
             0.2222222222222222,
             "#7201a8"
            ],
            [
             0.3333333333333333,
             "#9c179e"
            ],
            [
             0.4444444444444444,
             "#bd3786"
            ],
            [
             0.5555555555555556,
             "#d8576b"
            ],
            [
             0.6666666666666666,
             "#ed7953"
            ],
            [
             0.7777777777777778,
             "#fb9f3a"
            ],
            [
             0.8888888888888888,
             "#fdca26"
            ],
            [
             1,
             "#f0f921"
            ]
           ],
           "sequentialminus": [
            [
             0,
             "#0d0887"
            ],
            [
             0.1111111111111111,
             "#46039f"
            ],
            [
             0.2222222222222222,
             "#7201a8"
            ],
            [
             0.3333333333333333,
             "#9c179e"
            ],
            [
             0.4444444444444444,
             "#bd3786"
            ],
            [
             0.5555555555555556,
             "#d8576b"
            ],
            [
             0.6666666666666666,
             "#ed7953"
            ],
            [
             0.7777777777777778,
             "#fb9f3a"
            ],
            [
             0.8888888888888888,
             "#fdca26"
            ],
            [
             1,
             "#f0f921"
            ]
           ]
          },
          "colorway": [
           "#636efa",
           "#EF553B",
           "#00cc96",
           "#ab63fa",
           "#FFA15A",
           "#19d3f3",
           "#FF6692",
           "#B6E880",
           "#FF97FF",
           "#FECB52"
          ],
          "font": {
           "color": "#2a3f5f"
          },
          "geo": {
           "bgcolor": "white",
           "lakecolor": "white",
           "landcolor": "#E5ECF6",
           "showlakes": true,
           "showland": true,
           "subunitcolor": "white"
          },
          "hoverlabel": {
           "align": "left"
          },
          "hovermode": "closest",
          "mapbox": {
           "style": "light"
          },
          "paper_bgcolor": "white",
          "plot_bgcolor": "#E5ECF6",
          "polar": {
           "angularaxis": {
            "gridcolor": "white",
            "linecolor": "white",
            "ticks": ""
           },
           "bgcolor": "#E5ECF6",
           "radialaxis": {
            "gridcolor": "white",
            "linecolor": "white",
            "ticks": ""
           }
          },
          "scene": {
           "xaxis": {
            "backgroundcolor": "#E5ECF6",
            "gridcolor": "white",
            "gridwidth": 2,
            "linecolor": "white",
            "showbackground": true,
            "ticks": "",
            "zerolinecolor": "white"
           },
           "yaxis": {
            "backgroundcolor": "#E5ECF6",
            "gridcolor": "white",
            "gridwidth": 2,
            "linecolor": "white",
            "showbackground": true,
            "ticks": "",
            "zerolinecolor": "white"
           },
           "zaxis": {
            "backgroundcolor": "#E5ECF6",
            "gridcolor": "white",
            "gridwidth": 2,
            "linecolor": "white",
            "showbackground": true,
            "ticks": "",
            "zerolinecolor": "white"
           }
          },
          "shapedefaults": {
           "line": {
            "color": "#2a3f5f"
           }
          },
          "ternary": {
           "aaxis": {
            "gridcolor": "white",
            "linecolor": "white",
            "ticks": ""
           },
           "baxis": {
            "gridcolor": "white",
            "linecolor": "white",
            "ticks": ""
           },
           "bgcolor": "#E5ECF6",
           "caxis": {
            "gridcolor": "white",
            "linecolor": "white",
            "ticks": ""
           }
          },
          "title": {
           "x": 0.05
          },
          "xaxis": {
           "automargin": true,
           "gridcolor": "white",
           "linecolor": "white",
           "ticks": "",
           "title": {
            "standoff": 15
           },
           "zerolinecolor": "white",
           "zerolinewidth": 2
          },
          "yaxis": {
           "automargin": true,
           "gridcolor": "white",
           "linecolor": "white",
           "ticks": "",
           "title": {
            "standoff": 15
           },
           "zerolinecolor": "white",
           "zerolinewidth": 2
          }
         }
        },
        "title": {
         "text": "R-square score (R2) plot of the predictive models using train and test data"
        }
       }
      }
     },
     "metadata": {},
     "output_type": "display_data"
    }
   ],
   "source": [
    "\n",
    "y=['MLR', 'RF', 'KNN', 'LASSO']\n",
    "x1= r_Model.loc['train_R2']\n",
    "x2= r_Model.loc['test_R2']\n",
    "\n",
    "trace1 = go.Bar(y=y, x=x1, name='train_R2', orientation='h')\n",
    "trace2 = go.Bar(y=y, x=x2, name='test_R2', orientation='h')\n",
    "\n",
    "data = [trace1, trace2]\n",
    "\n",
    "layout = go.Layout(barmode='group', title='R-square score (R2) plot of the predictive models using train and test data')\n",
    "\n",
    "fig = go.Figure(data=data, layout=layout)\n",
    "fig.show()\n"
   ]
  },
  {
   "cell_type": "code",
   "execution_count": 743,
   "metadata": {},
   "outputs": [
    {
     "data": {
      "application/vnd.plotly.v1+json": {
       "config": {
        "plotlyServerURL": "https://plot.ly"
       },
       "data": [
        {
         "marker": {
          "color": "blue"
         },
         "mode": "markers",
         "type": "scatter",
         "x": [
          8.160518247477505,
          8.987196820661973,
          7.170119543449628,
          8.476371196895983,
          7.438383530044307,
          7.170119543449628,
          9.011889433252344,
          7.24422751560335,
          8.83927669058535,
          9.20029003612268,
          7.24422751560335,
          8.68270762989381,
          9.126958743899493,
          8.68270762989381,
          7.783224108058157,
          8.575462099540212,
          9.0595174822416,
          8.389359819906353,
          8.594154232552366,
          8.794824928014517,
          8.948975607841776,
          8.732304571033183,
          7.649692623711514,
          7.090076835776092,
          8.895629627136483,
          7.90100705199242,
          7.549609165154532,
          8.594154232552366,
          7.649692623711514,
          8.131530710604252,
          8.006367567650246,
          8.881836230923671,
          9.137769679141348,
          7.170119543449628,
          7.24422751560335,
          7.696212639346407,
          9.259130536145614,
          9.035986984831405,
          8.594154232552366,
          9.035986984831405,
          7.438383530044307,
          8.496990484098719,
          7.170119543449628,
          7.495541943884256,
          8.594154232552366,
          9.024010753715308,
          9.082507000466299,
          7.170119543449628,
          9.07107828201756,
          7.003065458786462,
          8.895629627136483,
          8.732304571033183,
          8.101677747454572,
          8.575462099540212,
          8.517193191416238,
          7.170119543449628,
          8.476371196895983,
          8.517193191416238,
          9.011889433252344,
          8.68270762989381,
          7.313220387090301,
          9.137769646900761,
          9.169518377455928,
          8.824677891164198,
          8.764053269347762,
          8.83927669058535,
          8.006367567650246,
          7.495541943884256,
          8.895629627136483,
          9.230142999272362,
          9.071078304642676,
          8.45531778769815,
          8.895629627136483,
          8.160518247477505,
          9.011889433252344,
          9.02401079378469,
          8.824677891164198,
          8.294049640102028,
          8.764053269347762,
          8.575462099540212,
          8.699514748210191,
          9.02401079378469,
          9.20029003612268,
          9.035986984831405,
          7.649692623711514,
          8.517193191416238,
          8.131530710604252,
          7.003065458786462,
          7.783224016336037,
          8.974618038455112,
          8.935903526274423,
          8.34283980427146,
          8.987196820661973,
          7.313220387090301,
          8.34283980427146,
          7.8632667240095735,
          9.082507000466299,
          8.85366542803745,
          8.83927669058535,
          8.68270762989381,
          9.093806555720231,
          9.011889433252344,
          8.517193191416238,
          9.190137664658664,
          8.45531778769815,
          8.794824928014517,
          7.824046080422018,
          7.696212639346407,
          8.881836305004146,
          7.170119543449628,
          8.556413904569519,
          8.556413904569519,
          7.170119543449628,
          7.937374696163295,
          7.170119543449628,
          9.035986984831405,
          9.093806555720231,
          7.783224016336037,
          9.011889433252344,
          8.881836305004146,
          7.8632667240095735,
          8.556413904569519,
          8.909235279192261,
          8.594154232552366,
          9.093806555720231,
          8.935903526274423,
          8.101677747454572,
          8.496990484098719,
          8.824677891164198,
          9.035986984831405,
          7.090076835776092,
          7.24422751560335,
          8.160518247477505,
          9.093806555720231,
          8.34283980427146,
          8.45531778769815,
          9.0595174822416,
          8.268731832117737,
          7.24422762328431,
          7.824046010856292,
          8.85366542803745,
          8.389359819906353,
          8.881836305004146,
          7.696212639346407,
          7.824046010856292,
          9.116029692504942,
          9.011889433252344,
          9.148464968258095,
          8.85366542803745,
          7.003065458786462,
          7.090076835776092,
          8.496990484098719,
          9.20029003612268,
          9.169518329685749,
          7.495541943884256,
          8.594154232552366,
          8.411832675758411,
          8.909235279192261,
          8.411832675758411,
          8.575462099540212,
          9.126958763037132,
          8.160518247477505,
          7.003065458786462,
          9.148464968258095,
          7.090076835776092,
          9.071078304642676,
          9.137769679141348,
          9.190137664658664,
          8.974618038455112,
          8.961879012677683,
          9.011889433252344,
          8.794824928014517,
          8.294049640102028,
          8.948975607841776,
          8.961878971609176,
          7.696212698781394,
          8.131530710604252,
          7.2442276719909815,
          7.24422751560335,
          9.230142999272362,
          9.20029003612268,
          8.556413904569519,
          8.45531778769815,
          9.179881164491475,
          7.313220387090301,
          9.035986984831405,
          8.824677891164198,
          7.696212639346407,
          8.268731832117737,
          9.137769679141348,
          9.169518377455928,
          9.02401079378469,
          9.137769679141348,
          8.630521876723241,
          9.116029692504942,
          8.411832675758411,
          8.34283980427146,
          8.881836305004146,
          9.093806555720231,
          8.294049640102028,
          9.035986984831405,
          7.438383530044307,
          9.169518377455928,
          8.556413904569519,
          8.824677891164198,
          7.003065458786462,
          8.66561319653451,
          7.9724660159745655,
          8.895629627136483,
          7.170119543449628,
          7.24422751560335,
          9.230142966230497,
          7.24422751560335,
          8.318742252692399,
          7.649692623711514,
          7.649692623711514,
          8.476371196895983,
          8.895629627136483,
          9.035986984831405,
          9.035986893788605,
          8.648221453822641,
          8.948975607841776,
          7.313220387090301,
          8.748304912379623,
          8.101677747454572,
          7.600902459542082,
          8.131530710604252,
          7.696212639346407,
          7.438383530044307,
          7.649692623711514,
          8.101677747454572,
          9.035986940991931,
          7.313220387090301,
          8.242756345714477,
          8.895629627136483,
          7.9724660159745655,
          8.131530710604252,
          8.575462099540212,
          8.006367567650246,
          8.45531778769815,
          7.600902459542082,
          7.438383530044307,
          8.389359819906353,
          9.02401079378469,
          7.170119543449628,
          7.824046010856292,
          8.764053269347762,
          9.082507000466299,
          8.748304912379623,
          7.696212639346407,
          8.101677747454572,
          7.24422751560335,
          9.035986984831405,
          8.66561319653451,
          8.85366542803745,
          8.101677747454572,
          7.313220387090301,
          8.34283980427146,
          9.190137664658664,
          8.83927669058535,
          9.230142999272362,
          8.824677891164198,
          8.935903526274423,
          8.948975607841776,
          9.169518302203045,
          7.549609165154532,
          9.179881164491475,
          9.126958748135783,
          9.071078304642676,
          8.974618038455112,
          8.987196820661973,
          8.66561319653451,
          8.496990484098719,
          7.438383530044307,
          9.190137664658664,
          7.170119543449628,
          9.116029692504942,
          8.160518247477505,
          8.496990484098719,
          9.116029692504942,
          9.137769679141348,
          8.556413904569519,
          8.594154232552366,
          8.987196820661973,
          8.575462099540212,
          8.34283980427146,
          8.764053269347762,
          8.575462099540212,
          8.101677747454572,
          8.594154232552366,
          7.438383530044307,
          8.68270762989381,
          8.294049640102028,
          8.160518247477505,
          9.082507000466299,
          7.937374696163295,
          9.148464968258095,
          8.948975607841776,
          9.011889433252344,
          8.101677747454572,
          8.160518247477505,
          8.34283980427146,
          8.748304912379623,
          7.649692623711514,
          8.34283980427146,
          7.003065458786462,
          8.160518247477505,
          8.648221453822641,
          9.02401079378469,
          7.090076835776092,
          8.987196820661973,
          7.090077043185074,
          8.935903526274423,
          9.137769679141348,
          8.101677747454572,
          8.881836305004146,
          8.824677891164198,
          8.411832675758411,
          8.824677891164198,
          9.148464901206019,
          7.90100705199242,
          9.035986984831405,
          9.20029003612268,
          9.0595174822416,
          8.556413904569519,
          8.630521876723241,
          8.476371196895983,
          8.66561319653451,
          8.242756345714477,
          9.116029666350695,
          9.035986984831405,
          7.549609165154532,
          7.24422751560335,
          8.764053269347762,
          8.824677891164198,
          8.101677787824272,
          7.170119543449628,
          8.794824928014517,
          7.8632667240095735,
          8.294049640102028,
          9.137769679141348,
          8.961879012677683,
          8.85366542803745,
          8.699514748210191,
          9.259130536145614,
          8.94897559873617,
          9.024010743888446,
          7.600902459542082,
          8.556413904569519,
          8.881836305004146,
          7.090076835776092,
          9.126958763037132,
          9.082506931718317,
          8.294049640102028,
          7.313220387090301,
          8.648221453822641,
          9.093806555720231,
          8.699514748210191,
          7.824046010856292,
          9.249561085129464,
          9.200290015017842,
          7.549609165154532,
          9.011889433252344,
          7.170119543449628,
          8.974617953109433,
          7.438383676508559,
          7.090076835776092,
          8.160518247477505,
          9.116029692504942,
          7.244227584450091,
          7.438383530044307,
          8.794824928014517,
          8.131530710604252,
          9.190137664658664,
          9.116029692504942,
          8.630521876723241,
          8.974618038455112,
          8.909235279192261,
          7.003065458786462,
          9.148464968258095,
          9.148464968258095,
          8.318742252692399,
          9.035986984831405,
          8.935903526274423,
          8.881836305004146,
          8.101677747454572,
          7.090076835776092,
          8.433811582477187,
          8.895629627136483,
          8.006367589802343,
          7.824046010856292,
          8.294049640102028,
          9.02401079378469,
          7.313220387090301,
          8.935903526274423,
          8.411832675758411,
          8.948975607841776,
          7.495541943884256,
          8.83927669058535,
          7.313220387090301,
          8.556413904569519,
          8.242756345714477,
          7.783224121773973,
          9.082507000466299,
          9.259130536145614,
          8.895629627136483,
          8.987196820661973,
          7.170119543449628,
          8.895629540273394,
          8.974618038455112,
          7.313220387090301,
          8.948975607841776,
          7.495541943884256,
          8.824677891164198,
          9.011889433252344,
          8.101677747454572
         ],
         "y": [
          8.160518247477505,
          8.987196820661973,
          7.170119543449628,
          8.476371196895983,
          7.438383530044307,
          7.170119543449628,
          9.011889433252344,
          7.24422751560335,
          8.83927669058535,
          9.20029003612268,
          7.24422751560335,
          8.68270762989381,
          9.126958763037132,
          8.68270762989381,
          7.783224016336037,
          8.575462099540212,
          9.0595174822416,
          8.389359819906353,
          8.594154232552366,
          8.794824928014517,
          8.948975607841776,
          8.732304571033183,
          7.649692623711514,
          7.090076835776092,
          8.895629627136483,
          7.90100705199242,
          7.549609165154532,
          8.594154232552366,
          7.649692623711514,
          8.131530710604252,
          8.006367567650246,
          8.881836305004146,
          9.137769679141348,
          7.170119543449628,
          7.24422751560335,
          7.696212639346407,
          9.259130536145614,
          9.035986984831405,
          8.594154232552366,
          9.035986984831405,
          7.438383530044307,
          8.496990484098719,
          7.170119543449628,
          7.495541943884256,
          8.594154232552366,
          9.02401079378469,
          9.082507000466299,
          7.170119543449628,
          9.071078304642676,
          7.003065458786462,
          8.895629627136483,
          8.732304571033183,
          8.101677747454572,
          8.575462099540212,
          8.517193191416238,
          7.170119543449628,
          8.476371196895983,
          8.517193191416238,
          9.011889433252344,
          8.68270762989381,
          7.313220387090301,
          9.137769679141348,
          9.169518377455928,
          8.824677891164198,
          8.764053269347762,
          8.83927669058535,
          8.006367567650246,
          7.495541943884256,
          8.895629627136483,
          9.230142999272362,
          9.071078304642676,
          8.45531778769815,
          8.895629627136483,
          8.160518247477505,
          9.011889433252344,
          9.02401079378469,
          8.824677891164198,
          8.294049640102028,
          8.764053269347762,
          8.575462099540212,
          8.699514748210191,
          9.02401079378469,
          9.20029003612268,
          9.035986984831405,
          7.649692623711514,
          8.517193191416238,
          8.131530710604252,
          7.003065458786462,
          7.783224016336037,
          8.974618038455112,
          8.935903526274423,
          8.34283980427146,
          8.987196820661973,
          7.313220387090301,
          8.34283980427146,
          7.8632667240095735,
          9.082507000466299,
          8.85366542803745,
          8.83927669058535,
          8.68270762989381,
          9.093806555720231,
          9.011889433252344,
          8.517193191416238,
          9.190137664658664,
          8.45531778769815,
          8.794824928014517,
          7.824046010856292,
          7.696212639346407,
          8.881836305004146,
          7.170119543449628,
          8.556413904569519,
          8.556413904569519,
          7.170119543449628,
          7.937374696163295,
          7.170119543449628,
          9.035986984831405,
          9.093806555720231,
          7.783224016336037,
          9.011889433252344,
          8.881836305004146,
          7.8632667240095735,
          8.556413904569519,
          8.909235279192261,
          8.594154232552366,
          9.093806555720231,
          8.935903526274423,
          8.101677747454572,
          8.496990484098719,
          8.824677891164198,
          9.035986984831405,
          7.090076835776092,
          7.24422751560335,
          8.160518247477505,
          9.093806555720231,
          8.34283980427146,
          8.45531778769815,
          9.0595174822416,
          8.268731832117737,
          7.24422751560335,
          7.824046010856292,
          8.85366542803745,
          8.389359819906353,
          8.881836305004146,
          7.696212639346407,
          7.824046010856292,
          9.116029692504942,
          9.011889433252344,
          9.148464968258095,
          8.85366542803745,
          7.003065458786462,
          7.090076835776092,
          8.496990484098719,
          9.20029003612268,
          9.169518377455928,
          7.495541943884256,
          8.594154232552366,
          8.411832675758411,
          8.909235279192261,
          8.411832675758411,
          8.575462099540212,
          9.126958763037132,
          8.160518247477505,
          7.003065458786462,
          9.148464968258095,
          7.090076835776092,
          9.071078304642676,
          9.137769679141348,
          9.190137664658664,
          8.974618038455112,
          8.961879012677683,
          9.011889433252344,
          8.794824928014517,
          8.294049640102028,
          8.948975607841776,
          8.961879012677683,
          7.696212639346407,
          8.131530710604252,
          7.24422751560335,
          7.24422751560335,
          9.230142999272362,
          9.20029003612268,
          8.556413904569519,
          8.45531778769815,
          9.179881164491475,
          7.313220387090301,
          9.035986984831405,
          8.824677891164198,
          7.696212639346407,
          8.268731832117737,
          9.137769679141348,
          9.169518377455928,
          9.02401079378469,
          9.137769679141348,
          8.630521876723241,
          9.116029692504942,
          8.411832675758411,
          8.34283980427146,
          8.881836305004146,
          9.093806555720231,
          8.294049640102028,
          9.035986984831405,
          7.438383530044307,
          9.169518377455928,
          8.556413904569519,
          8.824677891164198,
          7.003065458786462,
          8.66561319653451,
          7.9724660159745655,
          8.895629627136483,
          7.170119543449628,
          7.24422751560335,
          9.230142999272362,
          7.24422751560335,
          8.318742252692399,
          7.649692623711514,
          7.649692623711514,
          8.476371196895983,
          8.895629627136483,
          9.035986984831405,
          9.035986984831405,
          8.648221453822641,
          8.948975607841776,
          7.313220387090301,
          8.748304912379623,
          8.101677747454572,
          7.600902459542082,
          8.131530710604252,
          7.696212639346407,
          7.438383530044307,
          7.649692623711514,
          8.101677747454572,
          9.035986984831405,
          7.313220387090301,
          8.242756345714477,
          8.895629627136483,
          7.9724660159745655,
          8.131530710604252,
          8.575462099540212,
          8.006367567650246,
          8.45531778769815,
          7.600902459542082,
          7.438383530044307,
          8.389359819906353,
          9.02401079378469,
          7.170119543449628,
          7.824046010856292,
          8.764053269347762,
          9.082507000466299,
          8.748304912379623,
          7.696212639346407,
          8.101677747454572,
          7.24422751560335,
          9.035986984831405,
          8.66561319653451,
          8.85366542803745,
          8.101677747454572,
          7.313220387090301,
          8.34283980427146,
          9.190137664658664,
          8.83927669058535,
          9.230142999272362,
          8.824677891164198,
          8.935903526274423,
          8.948975607841776,
          9.169518377455928,
          7.549609165154532,
          9.179881164491475,
          9.126958763037132,
          9.071078304642676,
          8.974618038455112,
          8.987196820661973,
          8.66561319653451,
          8.496990484098719,
          7.438383530044307,
          9.190137664658664,
          7.170119543449628,
          9.116029692504942,
          8.160518247477505,
          8.496990484098719,
          9.116029692504942,
          9.137769679141348,
          8.556413904569519,
          8.594154232552366,
          8.987196820661973,
          8.575462099540212,
          8.34283980427146,
          8.764053269347762,
          8.575462099540212,
          8.101677747454572,
          8.594154232552366,
          7.438383530044307,
          8.68270762989381,
          8.294049640102028,
          8.160518247477505,
          9.082507000466299,
          7.937374696163295,
          9.148464968258095,
          8.948975607841776,
          9.011889433252344,
          8.101677747454572,
          8.160518247477505,
          8.34283980427146,
          8.748304912379623,
          7.649692623711514,
          8.34283980427146,
          7.003065458786462,
          8.160518247477505,
          8.648221453822641,
          9.02401079378469,
          7.090076835776092,
          8.987196820661973,
          7.090076835776092,
          8.935903526274423,
          9.137769679141348,
          8.101677747454572,
          8.881836305004146,
          8.824677891164198,
          8.411832675758411,
          8.824677891164198,
          9.148464968258095,
          7.90100705199242,
          9.035986984831405,
          9.20029003612268,
          9.0595174822416,
          8.556413904569519,
          8.630521876723241,
          8.476371196895983,
          8.66561319653451,
          8.242756345714477,
          9.116029692504942,
          9.035986984831405,
          7.549609165154532,
          7.24422751560335,
          8.764053269347762,
          8.824677891164198,
          8.101677747454572,
          7.170119543449628,
          8.794824928014517,
          7.8632667240095735,
          8.294049640102028,
          9.137769679141348,
          8.961879012677683,
          8.85366542803745,
          8.699514748210191,
          9.259130536145614,
          8.948975607841776,
          9.02401079378469,
          7.600902459542082,
          8.556413904569519,
          8.881836305004146,
          7.090076835776092,
          9.126958763037132,
          9.082507000466299,
          8.294049640102028,
          7.313220387090301,
          8.648221453822641,
          9.093806555720231,
          8.699514748210191,
          7.824046010856292,
          9.249561085129464,
          9.20029003612268,
          7.549609165154532,
          9.011889433252344,
          7.170119543449628,
          8.974618038455112,
          7.438383530044307,
          7.090076835776092,
          8.160518247477505,
          9.116029692504942,
          7.24422751560335,
          7.438383530044307,
          8.794824928014517,
          8.131530710604252,
          9.190137664658664,
          9.116029692504942,
          8.630521876723241,
          8.974618038455112,
          8.909235279192261,
          7.003065458786462,
          9.148464968258095,
          9.148464968258095,
          8.318742252692399,
          9.035986984831405,
          8.935903526274423,
          8.881836305004146,
          8.101677747454572,
          7.090076835776092,
          8.433811582477187,
          8.895629627136483,
          8.006367567650246,
          7.824046010856292,
          8.294049640102028,
          9.02401079378469,
          7.313220387090301,
          8.935903526274423,
          8.411832675758411,
          8.948975607841776,
          7.495541943884256,
          8.83927669058535,
          7.313220387090301,
          8.556413904569519,
          8.242756345714477,
          7.783224016336037,
          9.082507000466299,
          9.259130536145614,
          8.895629627136483,
          8.987196820661973,
          7.170119543449628,
          8.895629627136483,
          8.974618038455112,
          7.313220387090301,
          8.948975607841776,
          7.495541943884256,
          8.824677891164198,
          9.011889433252344,
          8.101677747454572
         ]
        },
        {
         "line": {
          "color": "red"
         },
         "mode": "lines",
         "type": "scatter",
         "x": [
          8.160518247477505,
          8.987196820661973,
          7.170119543449628,
          8.476371196895983,
          7.438383530044307,
          7.170119543449628,
          9.011889433252344,
          7.24422751560335,
          8.83927669058535,
          9.20029003612268,
          7.24422751560335,
          8.68270762989381,
          9.126958763037132,
          8.68270762989381,
          7.783224016336037,
          8.575462099540212,
          9.0595174822416,
          8.389359819906353,
          8.594154232552366,
          8.794824928014517,
          8.948975607841776,
          8.732304571033183,
          7.649692623711514,
          7.090076835776092,
          8.895629627136483,
          7.90100705199242,
          7.549609165154532,
          8.594154232552366,
          7.649692623711514,
          8.131530710604252,
          8.006367567650246,
          8.881836305004146,
          9.137769679141348,
          7.170119543449628,
          7.24422751560335,
          7.696212639346407,
          9.259130536145614,
          9.035986984831405,
          8.594154232552366,
          9.035986984831405,
          7.438383530044307,
          8.496990484098719,
          7.170119543449628,
          7.495541943884256,
          8.594154232552366,
          9.02401079378469,
          9.082507000466299,
          7.170119543449628,
          9.071078304642676,
          7.003065458786462,
          8.895629627136483,
          8.732304571033183,
          8.101677747454572,
          8.575462099540212,
          8.517193191416238,
          7.170119543449628,
          8.476371196895983,
          8.517193191416238,
          9.011889433252344,
          8.68270762989381,
          7.313220387090301,
          9.137769679141348,
          9.169518377455928,
          8.824677891164198,
          8.764053269347762,
          8.83927669058535,
          8.006367567650246,
          7.495541943884256,
          8.895629627136483,
          9.230142999272362,
          9.071078304642676,
          8.45531778769815,
          8.895629627136483,
          8.160518247477505,
          9.011889433252344,
          9.02401079378469,
          8.824677891164198,
          8.294049640102028,
          8.764053269347762,
          8.575462099540212,
          8.699514748210191,
          9.02401079378469,
          9.20029003612268,
          9.035986984831405,
          7.649692623711514,
          8.517193191416238,
          8.131530710604252,
          7.003065458786462,
          7.783224016336037,
          8.974618038455112,
          8.935903526274423,
          8.34283980427146,
          8.987196820661973,
          7.313220387090301,
          8.34283980427146,
          7.8632667240095735,
          9.082507000466299,
          8.85366542803745,
          8.83927669058535,
          8.68270762989381,
          9.093806555720231,
          9.011889433252344,
          8.517193191416238,
          9.190137664658664,
          8.45531778769815,
          8.794824928014517,
          7.824046010856292,
          7.696212639346407,
          8.881836305004146,
          7.170119543449628,
          8.556413904569519,
          8.556413904569519,
          7.170119543449628,
          7.937374696163295,
          7.170119543449628,
          9.035986984831405,
          9.093806555720231,
          7.783224016336037,
          9.011889433252344,
          8.881836305004146,
          7.8632667240095735,
          8.556413904569519,
          8.909235279192261,
          8.594154232552366,
          9.093806555720231,
          8.935903526274423,
          8.101677747454572,
          8.496990484098719,
          8.824677891164198,
          9.035986984831405,
          7.090076835776092,
          7.24422751560335,
          8.160518247477505,
          9.093806555720231,
          8.34283980427146,
          8.45531778769815,
          9.0595174822416,
          8.268731832117737,
          7.24422751560335,
          7.824046010856292,
          8.85366542803745,
          8.389359819906353,
          8.881836305004146,
          7.696212639346407,
          7.824046010856292,
          9.116029692504942,
          9.011889433252344,
          9.148464968258095,
          8.85366542803745,
          7.003065458786462,
          7.090076835776092,
          8.496990484098719,
          9.20029003612268,
          9.169518377455928,
          7.495541943884256,
          8.594154232552366,
          8.411832675758411,
          8.909235279192261,
          8.411832675758411,
          8.575462099540212,
          9.126958763037132,
          8.160518247477505,
          7.003065458786462,
          9.148464968258095,
          7.090076835776092,
          9.071078304642676,
          9.137769679141348,
          9.190137664658664,
          8.974618038455112,
          8.961879012677683,
          9.011889433252344,
          8.794824928014517,
          8.294049640102028,
          8.948975607841776,
          8.961879012677683,
          7.696212639346407,
          8.131530710604252,
          7.24422751560335,
          7.24422751560335,
          9.230142999272362,
          9.20029003612268,
          8.556413904569519,
          8.45531778769815,
          9.179881164491475,
          7.313220387090301,
          9.035986984831405,
          8.824677891164198,
          7.696212639346407,
          8.268731832117737,
          9.137769679141348,
          9.169518377455928,
          9.02401079378469,
          9.137769679141348,
          8.630521876723241,
          9.116029692504942,
          8.411832675758411,
          8.34283980427146,
          8.881836305004146,
          9.093806555720231,
          8.294049640102028,
          9.035986984831405,
          7.438383530044307,
          9.169518377455928,
          8.556413904569519,
          8.824677891164198,
          7.003065458786462,
          8.66561319653451,
          7.9724660159745655,
          8.895629627136483,
          7.170119543449628,
          7.24422751560335,
          9.230142999272362,
          7.24422751560335,
          8.318742252692399,
          7.649692623711514,
          7.649692623711514,
          8.476371196895983,
          8.895629627136483,
          9.035986984831405,
          9.035986984831405,
          8.648221453822641,
          8.948975607841776,
          7.313220387090301,
          8.748304912379623,
          8.101677747454572,
          7.600902459542082,
          8.131530710604252,
          7.696212639346407,
          7.438383530044307,
          7.649692623711514,
          8.101677747454572,
          9.035986984831405,
          7.313220387090301,
          8.242756345714477,
          8.895629627136483,
          7.9724660159745655,
          8.131530710604252,
          8.575462099540212,
          8.006367567650246,
          8.45531778769815,
          7.600902459542082,
          7.438383530044307,
          8.389359819906353,
          9.02401079378469,
          7.170119543449628,
          7.824046010856292,
          8.764053269347762,
          9.082507000466299,
          8.748304912379623,
          7.696212639346407,
          8.101677747454572,
          7.24422751560335,
          9.035986984831405,
          8.66561319653451,
          8.85366542803745,
          8.101677747454572,
          7.313220387090301,
          8.34283980427146,
          9.190137664658664,
          8.83927669058535,
          9.230142999272362,
          8.824677891164198,
          8.935903526274423,
          8.948975607841776,
          9.169518377455928,
          7.549609165154532,
          9.179881164491475,
          9.126958763037132,
          9.071078304642676,
          8.974618038455112,
          8.987196820661973,
          8.66561319653451,
          8.496990484098719,
          7.438383530044307,
          9.190137664658664,
          7.170119543449628,
          9.116029692504942,
          8.160518247477505,
          8.496990484098719,
          9.116029692504942,
          9.137769679141348,
          8.556413904569519,
          8.594154232552366,
          8.987196820661973,
          8.575462099540212,
          8.34283980427146,
          8.764053269347762,
          8.575462099540212,
          8.101677747454572,
          8.594154232552366,
          7.438383530044307,
          8.68270762989381,
          8.294049640102028,
          8.160518247477505,
          9.082507000466299,
          7.937374696163295,
          9.148464968258095,
          8.948975607841776,
          9.011889433252344,
          8.101677747454572,
          8.160518247477505,
          8.34283980427146,
          8.748304912379623,
          7.649692623711514,
          8.34283980427146,
          7.003065458786462,
          8.160518247477505,
          8.648221453822641,
          9.02401079378469,
          7.090076835776092,
          8.987196820661973,
          7.090076835776092,
          8.935903526274423,
          9.137769679141348,
          8.101677747454572,
          8.881836305004146,
          8.824677891164198,
          8.411832675758411,
          8.824677891164198,
          9.148464968258095,
          7.90100705199242,
          9.035986984831405,
          9.20029003612268,
          9.0595174822416,
          8.556413904569519,
          8.630521876723241,
          8.476371196895983,
          8.66561319653451,
          8.242756345714477,
          9.116029692504942,
          9.035986984831405,
          7.549609165154532,
          7.24422751560335,
          8.764053269347762,
          8.824677891164198,
          8.101677747454572,
          7.170119543449628,
          8.794824928014517,
          7.8632667240095735,
          8.294049640102028,
          9.137769679141348,
          8.961879012677683,
          8.85366542803745,
          8.699514748210191,
          9.259130536145614,
          8.948975607841776,
          9.02401079378469,
          7.600902459542082,
          8.556413904569519,
          8.881836305004146,
          7.090076835776092,
          9.126958763037132,
          9.082507000466299,
          8.294049640102028,
          7.313220387090301,
          8.648221453822641,
          9.093806555720231,
          8.699514748210191,
          7.824046010856292,
          9.249561085129464,
          9.20029003612268,
          7.549609165154532,
          9.011889433252344,
          7.170119543449628,
          8.974618038455112,
          7.438383530044307,
          7.090076835776092,
          8.160518247477505,
          9.116029692504942,
          7.24422751560335,
          7.438383530044307,
          8.794824928014517,
          8.131530710604252,
          9.190137664658664,
          9.116029692504942,
          8.630521876723241,
          8.974618038455112,
          8.909235279192261,
          7.003065458786462,
          9.148464968258095,
          9.148464968258095,
          8.318742252692399,
          9.035986984831405,
          8.935903526274423,
          8.881836305004146,
          8.101677747454572,
          7.090076835776092,
          8.433811582477187,
          8.895629627136483,
          8.006367567650246,
          7.824046010856292,
          8.294049640102028,
          9.02401079378469,
          7.313220387090301,
          8.935903526274423,
          8.411832675758411,
          8.948975607841776,
          7.495541943884256,
          8.83927669058535,
          7.313220387090301,
          8.556413904569519,
          8.242756345714477,
          7.783224016336037,
          9.082507000466299,
          9.259130536145614,
          8.895629627136483,
          8.987196820661973,
          7.170119543449628,
          8.895629627136483,
          8.974618038455112,
          7.313220387090301,
          8.948975607841776,
          7.495541943884256,
          8.824677891164198,
          9.011889433252344,
          8.101677747454572
         ],
         "y": [
          8.160518247477505,
          8.987196820661973,
          7.170119543449628,
          8.476371196895983,
          7.438383530044307,
          7.170119543449628,
          9.011889433252344,
          7.24422751560335,
          8.83927669058535,
          9.20029003612268,
          7.24422751560335,
          8.68270762989381,
          9.126958763037132,
          8.68270762989381,
          7.783224016336037,
          8.575462099540212,
          9.0595174822416,
          8.389359819906353,
          8.594154232552366,
          8.794824928014517,
          8.948975607841776,
          8.732304571033183,
          7.649692623711514,
          7.090076835776092,
          8.895629627136483,
          7.90100705199242,
          7.549609165154532,
          8.594154232552366,
          7.649692623711514,
          8.131530710604252,
          8.006367567650246,
          8.881836305004146,
          9.137769679141348,
          7.170119543449628,
          7.24422751560335,
          7.696212639346407,
          9.259130536145614,
          9.035986984831405,
          8.594154232552366,
          9.035986984831405,
          7.438383530044307,
          8.496990484098719,
          7.170119543449628,
          7.495541943884256,
          8.594154232552366,
          9.02401079378469,
          9.082507000466299,
          7.170119543449628,
          9.071078304642676,
          7.003065458786462,
          8.895629627136483,
          8.732304571033183,
          8.101677747454572,
          8.575462099540212,
          8.517193191416238,
          7.170119543449628,
          8.476371196895983,
          8.517193191416238,
          9.011889433252344,
          8.68270762989381,
          7.313220387090301,
          9.137769679141348,
          9.169518377455928,
          8.824677891164198,
          8.764053269347762,
          8.83927669058535,
          8.006367567650246,
          7.495541943884256,
          8.895629627136483,
          9.230142999272362,
          9.071078304642676,
          8.45531778769815,
          8.895629627136483,
          8.160518247477505,
          9.011889433252344,
          9.02401079378469,
          8.824677891164198,
          8.294049640102028,
          8.764053269347762,
          8.575462099540212,
          8.699514748210191,
          9.02401079378469,
          9.20029003612268,
          9.035986984831405,
          7.649692623711514,
          8.517193191416238,
          8.131530710604252,
          7.003065458786462,
          7.783224016336037,
          8.974618038455112,
          8.935903526274423,
          8.34283980427146,
          8.987196820661973,
          7.313220387090301,
          8.34283980427146,
          7.8632667240095735,
          9.082507000466299,
          8.85366542803745,
          8.83927669058535,
          8.68270762989381,
          9.093806555720231,
          9.011889433252344,
          8.517193191416238,
          9.190137664658664,
          8.45531778769815,
          8.794824928014517,
          7.824046010856292,
          7.696212639346407,
          8.881836305004146,
          7.170119543449628,
          8.556413904569519,
          8.556413904569519,
          7.170119543449628,
          7.937374696163295,
          7.170119543449628,
          9.035986984831405,
          9.093806555720231,
          7.783224016336037,
          9.011889433252344,
          8.881836305004146,
          7.8632667240095735,
          8.556413904569519,
          8.909235279192261,
          8.594154232552366,
          9.093806555720231,
          8.935903526274423,
          8.101677747454572,
          8.496990484098719,
          8.824677891164198,
          9.035986984831405,
          7.090076835776092,
          7.24422751560335,
          8.160518247477505,
          9.093806555720231,
          8.34283980427146,
          8.45531778769815,
          9.0595174822416,
          8.268731832117737,
          7.24422751560335,
          7.824046010856292,
          8.85366542803745,
          8.389359819906353,
          8.881836305004146,
          7.696212639346407,
          7.824046010856292,
          9.116029692504942,
          9.011889433252344,
          9.148464968258095,
          8.85366542803745,
          7.003065458786462,
          7.090076835776092,
          8.496990484098719,
          9.20029003612268,
          9.169518377455928,
          7.495541943884256,
          8.594154232552366,
          8.411832675758411,
          8.909235279192261,
          8.411832675758411,
          8.575462099540212,
          9.126958763037132,
          8.160518247477505,
          7.003065458786462,
          9.148464968258095,
          7.090076835776092,
          9.071078304642676,
          9.137769679141348,
          9.190137664658664,
          8.974618038455112,
          8.961879012677683,
          9.011889433252344,
          8.794824928014517,
          8.294049640102028,
          8.948975607841776,
          8.961879012677683,
          7.696212639346407,
          8.131530710604252,
          7.24422751560335,
          7.24422751560335,
          9.230142999272362,
          9.20029003612268,
          8.556413904569519,
          8.45531778769815,
          9.179881164491475,
          7.313220387090301,
          9.035986984831405,
          8.824677891164198,
          7.696212639346407,
          8.268731832117737,
          9.137769679141348,
          9.169518377455928,
          9.02401079378469,
          9.137769679141348,
          8.630521876723241,
          9.116029692504942,
          8.411832675758411,
          8.34283980427146,
          8.881836305004146,
          9.093806555720231,
          8.294049640102028,
          9.035986984831405,
          7.438383530044307,
          9.169518377455928,
          8.556413904569519,
          8.824677891164198,
          7.003065458786462,
          8.66561319653451,
          7.9724660159745655,
          8.895629627136483,
          7.170119543449628,
          7.24422751560335,
          9.230142999272362,
          7.24422751560335,
          8.318742252692399,
          7.649692623711514,
          7.649692623711514,
          8.476371196895983,
          8.895629627136483,
          9.035986984831405,
          9.035986984831405,
          8.648221453822641,
          8.948975607841776,
          7.313220387090301,
          8.748304912379623,
          8.101677747454572,
          7.600902459542082,
          8.131530710604252,
          7.696212639346407,
          7.438383530044307,
          7.649692623711514,
          8.101677747454572,
          9.035986984831405,
          7.313220387090301,
          8.242756345714477,
          8.895629627136483,
          7.9724660159745655,
          8.131530710604252,
          8.575462099540212,
          8.006367567650246,
          8.45531778769815,
          7.600902459542082,
          7.438383530044307,
          8.389359819906353,
          9.02401079378469,
          7.170119543449628,
          7.824046010856292,
          8.764053269347762,
          9.082507000466299,
          8.748304912379623,
          7.696212639346407,
          8.101677747454572,
          7.24422751560335,
          9.035986984831405,
          8.66561319653451,
          8.85366542803745,
          8.101677747454572,
          7.313220387090301,
          8.34283980427146,
          9.190137664658664,
          8.83927669058535,
          9.230142999272362,
          8.824677891164198,
          8.935903526274423,
          8.948975607841776,
          9.169518377455928,
          7.549609165154532,
          9.179881164491475,
          9.126958763037132,
          9.071078304642676,
          8.974618038455112,
          8.987196820661973,
          8.66561319653451,
          8.496990484098719,
          7.438383530044307,
          9.190137664658664,
          7.170119543449628,
          9.116029692504942,
          8.160518247477505,
          8.496990484098719,
          9.116029692504942,
          9.137769679141348,
          8.556413904569519,
          8.594154232552366,
          8.987196820661973,
          8.575462099540212,
          8.34283980427146,
          8.764053269347762,
          8.575462099540212,
          8.101677747454572,
          8.594154232552366,
          7.438383530044307,
          8.68270762989381,
          8.294049640102028,
          8.160518247477505,
          9.082507000466299,
          7.937374696163295,
          9.148464968258095,
          8.948975607841776,
          9.011889433252344,
          8.101677747454572,
          8.160518247477505,
          8.34283980427146,
          8.748304912379623,
          7.649692623711514,
          8.34283980427146,
          7.003065458786462,
          8.160518247477505,
          8.648221453822641,
          9.02401079378469,
          7.090076835776092,
          8.987196820661973,
          7.090076835776092,
          8.935903526274423,
          9.137769679141348,
          8.101677747454572,
          8.881836305004146,
          8.824677891164198,
          8.411832675758411,
          8.824677891164198,
          9.148464968258095,
          7.90100705199242,
          9.035986984831405,
          9.20029003612268,
          9.0595174822416,
          8.556413904569519,
          8.630521876723241,
          8.476371196895983,
          8.66561319653451,
          8.242756345714477,
          9.116029692504942,
          9.035986984831405,
          7.549609165154532,
          7.24422751560335,
          8.764053269347762,
          8.824677891164198,
          8.101677747454572,
          7.170119543449628,
          8.794824928014517,
          7.8632667240095735,
          8.294049640102028,
          9.137769679141348,
          8.961879012677683,
          8.85366542803745,
          8.699514748210191,
          9.259130536145614,
          8.948975607841776,
          9.02401079378469,
          7.600902459542082,
          8.556413904569519,
          8.881836305004146,
          7.090076835776092,
          9.126958763037132,
          9.082507000466299,
          8.294049640102028,
          7.313220387090301,
          8.648221453822641,
          9.093806555720231,
          8.699514748210191,
          7.824046010856292,
          9.249561085129464,
          9.20029003612268,
          7.549609165154532,
          9.011889433252344,
          7.170119543449628,
          8.974618038455112,
          7.438383530044307,
          7.090076835776092,
          8.160518247477505,
          9.116029692504942,
          7.24422751560335,
          7.438383530044307,
          8.794824928014517,
          8.131530710604252,
          9.190137664658664,
          9.116029692504942,
          8.630521876723241,
          8.974618038455112,
          8.909235279192261,
          7.003065458786462,
          9.148464968258095,
          9.148464968258095,
          8.318742252692399,
          9.035986984831405,
          8.935903526274423,
          8.881836305004146,
          8.101677747454572,
          7.090076835776092,
          8.433811582477187,
          8.895629627136483,
          8.006367567650246,
          7.824046010856292,
          8.294049640102028,
          9.02401079378469,
          7.313220387090301,
          8.935903526274423,
          8.411832675758411,
          8.948975607841776,
          7.495541943884256,
          8.83927669058535,
          7.313220387090301,
          8.556413904569519,
          8.242756345714477,
          7.783224016336037,
          9.082507000466299,
          9.259130536145614,
          8.895629627136483,
          8.987196820661973,
          7.170119543449628,
          8.895629627136483,
          8.974618038455112,
          7.313220387090301,
          8.948975607841776,
          7.495541943884256,
          8.824677891164198,
          9.011889433252344,
          8.101677747454572
         ]
        }
       ],
       "layout": {
        "height": 500,
        "template": {
         "data": {
          "bar": [
           {
            "error_x": {
             "color": "#2a3f5f"
            },
            "error_y": {
             "color": "#2a3f5f"
            },
            "marker": {
             "line": {
              "color": "#E5ECF6",
              "width": 0.5
             },
             "pattern": {
              "fillmode": "overlay",
              "size": 10,
              "solidity": 0.2
             }
            },
            "type": "bar"
           }
          ],
          "barpolar": [
           {
            "marker": {
             "line": {
              "color": "#E5ECF6",
              "width": 0.5
             },
             "pattern": {
              "fillmode": "overlay",
              "size": 10,
              "solidity": 0.2
             }
            },
            "type": "barpolar"
           }
          ],
          "carpet": [
           {
            "aaxis": {
             "endlinecolor": "#2a3f5f",
             "gridcolor": "white",
             "linecolor": "white",
             "minorgridcolor": "white",
             "startlinecolor": "#2a3f5f"
            },
            "baxis": {
             "endlinecolor": "#2a3f5f",
             "gridcolor": "white",
             "linecolor": "white",
             "minorgridcolor": "white",
             "startlinecolor": "#2a3f5f"
            },
            "type": "carpet"
           }
          ],
          "choropleth": [
           {
            "colorbar": {
             "outlinewidth": 0,
             "ticks": ""
            },
            "type": "choropleth"
           }
          ],
          "contour": [
           {
            "colorbar": {
             "outlinewidth": 0,
             "ticks": ""
            },
            "colorscale": [
             [
              0,
              "#0d0887"
             ],
             [
              0.1111111111111111,
              "#46039f"
             ],
             [
              0.2222222222222222,
              "#7201a8"
             ],
             [
              0.3333333333333333,
              "#9c179e"
             ],
             [
              0.4444444444444444,
              "#bd3786"
             ],
             [
              0.5555555555555556,
              "#d8576b"
             ],
             [
              0.6666666666666666,
              "#ed7953"
             ],
             [
              0.7777777777777778,
              "#fb9f3a"
             ],
             [
              0.8888888888888888,
              "#fdca26"
             ],
             [
              1,
              "#f0f921"
             ]
            ],
            "type": "contour"
           }
          ],
          "contourcarpet": [
           {
            "colorbar": {
             "outlinewidth": 0,
             "ticks": ""
            },
            "type": "contourcarpet"
           }
          ],
          "heatmap": [
           {
            "colorbar": {
             "outlinewidth": 0,
             "ticks": ""
            },
            "colorscale": [
             [
              0,
              "#0d0887"
             ],
             [
              0.1111111111111111,
              "#46039f"
             ],
             [
              0.2222222222222222,
              "#7201a8"
             ],
             [
              0.3333333333333333,
              "#9c179e"
             ],
             [
              0.4444444444444444,
              "#bd3786"
             ],
             [
              0.5555555555555556,
              "#d8576b"
             ],
             [
              0.6666666666666666,
              "#ed7953"
             ],
             [
              0.7777777777777778,
              "#fb9f3a"
             ],
             [
              0.8888888888888888,
              "#fdca26"
             ],
             [
              1,
              "#f0f921"
             ]
            ],
            "type": "heatmap"
           }
          ],
          "heatmapgl": [
           {
            "colorbar": {
             "outlinewidth": 0,
             "ticks": ""
            },
            "colorscale": [
             [
              0,
              "#0d0887"
             ],
             [
              0.1111111111111111,
              "#46039f"
             ],
             [
              0.2222222222222222,
              "#7201a8"
             ],
             [
              0.3333333333333333,
              "#9c179e"
             ],
             [
              0.4444444444444444,
              "#bd3786"
             ],
             [
              0.5555555555555556,
              "#d8576b"
             ],
             [
              0.6666666666666666,
              "#ed7953"
             ],
             [
              0.7777777777777778,
              "#fb9f3a"
             ],
             [
              0.8888888888888888,
              "#fdca26"
             ],
             [
              1,
              "#f0f921"
             ]
            ],
            "type": "heatmapgl"
           }
          ],
          "histogram": [
           {
            "marker": {
             "pattern": {
              "fillmode": "overlay",
              "size": 10,
              "solidity": 0.2
             }
            },
            "type": "histogram"
           }
          ],
          "histogram2d": [
           {
            "colorbar": {
             "outlinewidth": 0,
             "ticks": ""
            },
            "colorscale": [
             [
              0,
              "#0d0887"
             ],
             [
              0.1111111111111111,
              "#46039f"
             ],
             [
              0.2222222222222222,
              "#7201a8"
             ],
             [
              0.3333333333333333,
              "#9c179e"
             ],
             [
              0.4444444444444444,
              "#bd3786"
             ],
             [
              0.5555555555555556,
              "#d8576b"
             ],
             [
              0.6666666666666666,
              "#ed7953"
             ],
             [
              0.7777777777777778,
              "#fb9f3a"
             ],
             [
              0.8888888888888888,
              "#fdca26"
             ],
             [
              1,
              "#f0f921"
             ]
            ],
            "type": "histogram2d"
           }
          ],
          "histogram2dcontour": [
           {
            "colorbar": {
             "outlinewidth": 0,
             "ticks": ""
            },
            "colorscale": [
             [
              0,
              "#0d0887"
             ],
             [
              0.1111111111111111,
              "#46039f"
             ],
             [
              0.2222222222222222,
              "#7201a8"
             ],
             [
              0.3333333333333333,
              "#9c179e"
             ],
             [
              0.4444444444444444,
              "#bd3786"
             ],
             [
              0.5555555555555556,
              "#d8576b"
             ],
             [
              0.6666666666666666,
              "#ed7953"
             ],
             [
              0.7777777777777778,
              "#fb9f3a"
             ],
             [
              0.8888888888888888,
              "#fdca26"
             ],
             [
              1,
              "#f0f921"
             ]
            ],
            "type": "histogram2dcontour"
           }
          ],
          "mesh3d": [
           {
            "colorbar": {
             "outlinewidth": 0,
             "ticks": ""
            },
            "type": "mesh3d"
           }
          ],
          "parcoords": [
           {
            "line": {
             "colorbar": {
              "outlinewidth": 0,
              "ticks": ""
             }
            },
            "type": "parcoords"
           }
          ],
          "pie": [
           {
            "automargin": true,
            "type": "pie"
           }
          ],
          "scatter": [
           {
            "fillpattern": {
             "fillmode": "overlay",
             "size": 10,
             "solidity": 0.2
            },
            "type": "scatter"
           }
          ],
          "scatter3d": [
           {
            "line": {
             "colorbar": {
              "outlinewidth": 0,
              "ticks": ""
             }
            },
            "marker": {
             "colorbar": {
              "outlinewidth": 0,
              "ticks": ""
             }
            },
            "type": "scatter3d"
           }
          ],
          "scattercarpet": [
           {
            "marker": {
             "colorbar": {
              "outlinewidth": 0,
              "ticks": ""
             }
            },
            "type": "scattercarpet"
           }
          ],
          "scattergeo": [
           {
            "marker": {
             "colorbar": {
              "outlinewidth": 0,
              "ticks": ""
             }
            },
            "type": "scattergeo"
           }
          ],
          "scattergl": [
           {
            "marker": {
             "colorbar": {
              "outlinewidth": 0,
              "ticks": ""
             }
            },
            "type": "scattergl"
           }
          ],
          "scattermapbox": [
           {
            "marker": {
             "colorbar": {
              "outlinewidth": 0,
              "ticks": ""
             }
            },
            "type": "scattermapbox"
           }
          ],
          "scatterpolar": [
           {
            "marker": {
             "colorbar": {
              "outlinewidth": 0,
              "ticks": ""
             }
            },
            "type": "scatterpolar"
           }
          ],
          "scatterpolargl": [
           {
            "marker": {
             "colorbar": {
              "outlinewidth": 0,
              "ticks": ""
             }
            },
            "type": "scatterpolargl"
           }
          ],
          "scatterternary": [
           {
            "marker": {
             "colorbar": {
              "outlinewidth": 0,
              "ticks": ""
             }
            },
            "type": "scatterternary"
           }
          ],
          "surface": [
           {
            "colorbar": {
             "outlinewidth": 0,
             "ticks": ""
            },
            "colorscale": [
             [
              0,
              "#0d0887"
             ],
             [
              0.1111111111111111,
              "#46039f"
             ],
             [
              0.2222222222222222,
              "#7201a8"
             ],
             [
              0.3333333333333333,
              "#9c179e"
             ],
             [
              0.4444444444444444,
              "#bd3786"
             ],
             [
              0.5555555555555556,
              "#d8576b"
             ],
             [
              0.6666666666666666,
              "#ed7953"
             ],
             [
              0.7777777777777778,
              "#fb9f3a"
             ],
             [
              0.8888888888888888,
              "#fdca26"
             ],
             [
              1,
              "#f0f921"
             ]
            ],
            "type": "surface"
           }
          ],
          "table": [
           {
            "cells": {
             "fill": {
              "color": "#EBF0F8"
             },
             "line": {
              "color": "white"
             }
            },
            "header": {
             "fill": {
              "color": "#C8D4E3"
             },
             "line": {
              "color": "white"
             }
            },
            "type": "table"
           }
          ]
         },
         "layout": {
          "annotationdefaults": {
           "arrowcolor": "#2a3f5f",
           "arrowhead": 0,
           "arrowwidth": 1
          },
          "autotypenumbers": "strict",
          "coloraxis": {
           "colorbar": {
            "outlinewidth": 0,
            "ticks": ""
           }
          },
          "colorscale": {
           "diverging": [
            [
             0,
             "#8e0152"
            ],
            [
             0.1,
             "#c51b7d"
            ],
            [
             0.2,
             "#de77ae"
            ],
            [
             0.3,
             "#f1b6da"
            ],
            [
             0.4,
             "#fde0ef"
            ],
            [
             0.5,
             "#f7f7f7"
            ],
            [
             0.6,
             "#e6f5d0"
            ],
            [
             0.7,
             "#b8e186"
            ],
            [
             0.8,
             "#7fbc41"
            ],
            [
             0.9,
             "#4d9221"
            ],
            [
             1,
             "#276419"
            ]
           ],
           "sequential": [
            [
             0,
             "#0d0887"
            ],
            [
             0.1111111111111111,
             "#46039f"
            ],
            [
             0.2222222222222222,
             "#7201a8"
            ],
            [
             0.3333333333333333,
             "#9c179e"
            ],
            [
             0.4444444444444444,
             "#bd3786"
            ],
            [
             0.5555555555555556,
             "#d8576b"
            ],
            [
             0.6666666666666666,
             "#ed7953"
            ],
            [
             0.7777777777777778,
             "#fb9f3a"
            ],
            [
             0.8888888888888888,
             "#fdca26"
            ],
            [
             1,
             "#f0f921"
            ]
           ],
           "sequentialminus": [
            [
             0,
             "#0d0887"
            ],
            [
             0.1111111111111111,
             "#46039f"
            ],
            [
             0.2222222222222222,
             "#7201a8"
            ],
            [
             0.3333333333333333,
             "#9c179e"
            ],
            [
             0.4444444444444444,
             "#bd3786"
            ],
            [
             0.5555555555555556,
             "#d8576b"
            ],
            [
             0.6666666666666666,
             "#ed7953"
            ],
            [
             0.7777777777777778,
             "#fb9f3a"
            ],
            [
             0.8888888888888888,
             "#fdca26"
            ],
            [
             1,
             "#f0f921"
            ]
           ]
          },
          "colorway": [
           "#636efa",
           "#EF553B",
           "#00cc96",
           "#ab63fa",
           "#FFA15A",
           "#19d3f3",
           "#FF6692",
           "#B6E880",
           "#FF97FF",
           "#FECB52"
          ],
          "font": {
           "color": "#2a3f5f"
          },
          "geo": {
           "bgcolor": "white",
           "lakecolor": "white",
           "landcolor": "#E5ECF6",
           "showlakes": true,
           "showland": true,
           "subunitcolor": "white"
          },
          "hoverlabel": {
           "align": "left"
          },
          "hovermode": "closest",
          "mapbox": {
           "style": "light"
          },
          "paper_bgcolor": "white",
          "plot_bgcolor": "#E5ECF6",
          "polar": {
           "angularaxis": {
            "gridcolor": "white",
            "linecolor": "white",
            "ticks": ""
           },
           "bgcolor": "#E5ECF6",
           "radialaxis": {
            "gridcolor": "white",
            "linecolor": "white",
            "ticks": ""
           }
          },
          "scene": {
           "xaxis": {
            "backgroundcolor": "#E5ECF6",
            "gridcolor": "white",
            "gridwidth": 2,
            "linecolor": "white",
            "showbackground": true,
            "ticks": "",
            "zerolinecolor": "white"
           },
           "yaxis": {
            "backgroundcolor": "#E5ECF6",
            "gridcolor": "white",
            "gridwidth": 2,
            "linecolor": "white",
            "showbackground": true,
            "ticks": "",
            "zerolinecolor": "white"
           },
           "zaxis": {
            "backgroundcolor": "#E5ECF6",
            "gridcolor": "white",
            "gridwidth": 2,
            "linecolor": "white",
            "showbackground": true,
            "ticks": "",
            "zerolinecolor": "white"
           }
          },
          "shapedefaults": {
           "line": {
            "color": "#2a3f5f"
           }
          },
          "ternary": {
           "aaxis": {
            "gridcolor": "white",
            "linecolor": "white",
            "ticks": ""
           },
           "baxis": {
            "gridcolor": "white",
            "linecolor": "white",
            "ticks": ""
           },
           "bgcolor": "#E5ECF6",
           "caxis": {
            "gridcolor": "white",
            "linecolor": "white",
            "ticks": ""
           }
          },
          "title": {
           "x": 0.05
          },
          "xaxis": {
           "automargin": true,
           "gridcolor": "white",
           "linecolor": "white",
           "ticks": "",
           "title": {
            "standoff": 15
           },
           "zerolinecolor": "white",
           "zerolinewidth": 2
          },
          "yaxis": {
           "automargin": true,
           "gridcolor": "white",
           "linecolor": "white",
           "ticks": "",
           "title": {
            "standoff": 15
           },
           "zerolinecolor": "white",
           "zerolinewidth": 2
          }
         }
        },
        "title": {
         "text": "KNN:Observed target vs Predicted target using train data"
        },
        "width": 800,
        "xaxis": {
         "title": {
          "text": "Observed consult_cost"
         }
        },
        "yaxis": {
         "title": {
          "text": "Predicted consult_cost"
         }
        }
       }
      }
     },
     "metadata": {},
     "output_type": "display_data"
    }
   ],
   "source": [
    "\n",
    "fig = go.Figure()\n",
    "\n",
    "# scatter plot using trained data\n",
    "fig.add_trace(go.Scatter(y=y_train, x=knn.predict(x_train), mode='markers', marker=dict(color='blue')))\n",
    "\n",
    "# diagonal line to represent predictions\n",
    "fig.add_trace(go.Scatter(y=y_train, x=y_train, mode='lines', line=dict(color='red')))\n",
    "\n",
    "fig.update_layout(title='KNN:Observed target vs Predicted target using train data', xaxis_title='Observed consult_cost', \n",
    "                  yaxis_title='Predicted consult_cost', width=800, height=500)\n",
    "fig.show()"
   ]
  },
  {
   "cell_type": "code",
   "execution_count": 744,
   "metadata": {},
   "outputs": [
    {
     "data": {
      "application/vnd.plotly.v1+json": {
       "config": {
        "plotlyServerURL": "https://plot.ly"
       },
       "data": [
        {
         "marker": {
          "color": "blue"
         },
         "mode": "markers",
         "type": "scatter",
         "x": [
          8.150013500101021,
          8.975577226398203,
          7.171464376264662,
          8.473612281673962,
          7.467102442459946,
          7.187885361181831,
          9.014596732035526,
          7.209222916373236,
          8.841555781761095,
          9.187289533113942,
          7.220142291500853,
          8.665047645257262,
          9.126029681881144,
          8.669550693763647,
          7.8071423151805,
          8.610951683691537,
          9.057660716598757,
          8.423430635594316,
          8.588902632211028,
          8.775044883557252,
          8.957504792164261,
          8.746511111237785,
          7.624422168057415,
          7.251763955179808,
          8.89546917350597,
          7.892882532437614,
          7.502066538573311,
          8.58700849457271,
          7.582040962704277,
          8.126693656660946,
          8.016354158773476,
          8.88444952940624,
          9.132036199033651,
          7.165566549997599,
          7.20890529441267,
          7.6481699321527765,
          9.251222763150766,
          9.030783666861856,
          8.586616848814536,
          9.035986272824314,
          7.479832690143862,
          8.493108735719735,
          7.2020090006231285,
          7.4556708190944345,
          8.587015615811884,
          9.034975644055068,
          9.075020591534752,
          7.1621335056289634,
          9.062817034735009,
          7.244851712630402,
          8.894650957681865,
          8.747593380139756,
          8.04135220024248,
          8.606936919386683,
          8.477837055295954,
          7.173835487903915,
          8.474098686683755,
          8.494335393318796,
          9.017370415670781,
          8.661894846028387,
          7.323976135065912,
          9.131995835417095,
          9.17178115970454,
          8.829014763244736,
          8.76539780696928,
          8.842871774328689,
          7.969241131559934,
          7.499985677412374,
          8.893143075751135,
          9.229713945771715,
          9.063242571192747,
          8.457109130947225,
          8.893836495259285,
          8.148468926366954,
          9.016110134015825,
          9.021383817889978,
          8.827443260575468,
          8.282906506417701,
          8.761854865653417,
          8.577665988686235,
          8.675264404943778,
          9.02006088797047,
          9.180108420772264,
          9.013564481572734,
          7.592952418879663,
          8.504055600625588,
          8.192185995311759,
          7.064979818883453,
          7.895437860124507,
          8.967513349919198,
          8.933125900217812,
          8.33765129521636,
          8.971425955216313,
          7.281036121027481,
          8.318456414354285,
          7.877341022094421,
          9.07821840526747,
          8.844402019956146,
          8.839492037128911,
          8.668042374845163,
          9.066217913146987,
          9.026414290852374,
          8.495890289224862,
          9.18503906945252,
          8.455682018548195,
          8.778827627030694,
          7.816546487106865,
          7.59782244166876,
          8.892121242178906,
          7.238186686689669,
          8.561927199252253,
          8.563595248745,
          7.176701658089751,
          7.92750166353658,
          7.159724028050232,
          9.024750967131197,
          9.083370906164085,
          7.7930521066209915,
          9.011614395116593,
          8.887750543214167,
          7.8512093444028865,
          8.562664202713982,
          8.901308343685356,
          8.583234461774428,
          9.08744053608509,
          8.963230783885088,
          8.10324631762182,
          8.490597538355596,
          8.827284417079108,
          9.01717020606443,
          7.155039728203035,
          7.234057586619758,
          8.142295000995928,
          9.079040451599791,
          8.338626472325673,
          8.453486072844203,
          9.059417279943597,
          8.277620683415046,
          7.227438643549992,
          7.815246730363387,
          8.845226274128832,
          8.41924120748836,
          8.889519277981416,
          7.592656838493153,
          7.8681937440584155,
          9.116529518541318,
          8.999710978430997,
          9.142768512353976,
          8.848762754205277,
          7.161768369481413,
          7.119301322360769,
          8.467770741697118,
          9.194744138971258,
          9.156159159954568,
          7.5493772716365495,
          8.592461258722501,
          8.434128293668264,
          8.90418242092396,
          8.430088588079894,
          8.575211087057557,
          9.127988930238924,
          8.146149923417093,
          7.077275311145087,
          9.131369264459881,
          7.124339847009633,
          9.064767195451891,
          9.128891028903649,
          9.176279248560286,
          8.970864367199367,
          8.957853580540117,
          9.012384703711742,
          8.750640572920473,
          8.294287553552149,
          8.97608971811046,
          8.960768922399028,
          7.7528995415088175,
          8.13962991240323,
          7.211425476861921,
          7.347252669726904,
          9.228253162610862,
          9.212182087644214,
          8.565309586292363,
          8.445877721340002,
          9.180243229501675,
          7.251584965254827,
          9.033467629627033,
          8.827870469675645,
          7.7316346636826445,
          8.287053482841781,
          9.129523547341991,
          9.170018004171045,
          9.000554508214464,
          9.132445849268764,
          8.649642627353638,
          9.141959390205793,
          8.439306277615968,
          8.3336229255719,
          8.905413117136222,
          9.105415106354487,
          8.297439341411684,
          9.026733888786818,
          7.4747391579792986,
          9.171013081121483,
          8.565298904433606,
          8.81825622726548,
          7.09145241465643,
          8.658728991891186,
          7.927917375695656,
          8.89491744062068,
          7.167296438199429,
          7.215876204735308,
          9.228369977582707,
          7.208512648156941,
          8.298393582954773,
          7.594339889495903,
          7.606811787696006,
          8.461042400534915,
          8.893963168276015,
          9.010379441159111,
          9.038935252797067,
          8.640846812940696,
          8.950867532415378,
          7.273297614051034,
          8.753363661088184,
          8.118810726563337,
          7.5918565803341185,
          8.129337152030596,
          7.571815355346805,
          7.409772304995592,
          7.58982058012057,
          8.121692171725137,
          9.045117904671573,
          7.380891250333784,
          8.26812426366412,
          8.916139095343278,
          7.928405372802067,
          8.066429960058462,
          8.570117923089663,
          8.019156638921027,
          8.443875507128418,
          7.674220888194088,
          7.457749456266808,
          8.414406615797633,
          9.021340359106254,
          7.1794771825550425,
          7.851731123541074,
          8.768133523329594,
          9.070093626397309,
          8.754094667422855,
          7.612530600107583,
          8.114410670455763,
          7.216154744999301,
          9.029495194194613,
          8.66792377185561,
          8.842428388286205,
          8.044030525449248,
          7.267198924053019,
          8.306358517781273,
          9.198725127535091,
          8.835760123222139,
          9.224029587440484,
          8.824135824244395,
          8.960951025264233,
          8.953446061260285,
          9.169854053570843,
          7.540735081385562,
          9.181864736080321,
          9.134058346325661,
          9.069089178549664,
          8.971732732042792,
          8.97241545401874,
          8.655024260297107,
          8.470339848474934,
          7.483529863957106,
          9.175835907657936,
          7.201634550879391,
          9.118284682971266,
          8.155555749158,
          8.484699404545513,
          9.135397550710117,
          9.135695670475222,
          8.565108422483902,
          8.583967904616566,
          8.973008568560903,
          8.577101664076286,
          8.3109065416651,
          8.737613078273883,
          8.57408955907683,
          8.123483349514116,
          8.587576379802247,
          7.464358445035312,
          8.666300060200095,
          8.275526319033855,
          8.147019549523291,
          9.068224820366115,
          7.844982199731339,
          9.133268101933233,
          8.946817953055978,
          9.027593440936801,
          8.116465760825184,
          8.147045512311584,
          8.325154284555076,
          8.758252944965472,
          7.7090836570210355,
          8.330054236378672,
          7.071482136389448,
          8.145518247103043,
          8.673200074549326,
          9.02330444254446,
          7.117657683623107,
          8.995079456555931,
          7.133523487084974,
          8.953827418467178,
          9.152020185059596,
          8.165758189671635,
          8.884039483143798,
          8.827731035324511,
          8.429002963740256,
          8.81944169152871,
          9.143483093070445,
          7.907164914230531,
          9.02421515940265,
          9.186337350081319,
          9.081885253101914,
          8.563419009273638,
          8.638525948578858,
          8.47121032646064,
          8.657758904183082,
          8.264221698215302,
          9.122720678688596,
          9.03152625345345,
          7.522728281751427,
          7.211079525560051,
          8.747877938257679,
          8.82946163327414,
          8.110836969140566,
          7.1726153433619295,
          8.781987517410503,
          7.852862176162368,
          8.296232260801467,
          9.134146038671645,
          8.962506353067472,
          8.849046327714937,
          8.684890225199013,
          9.249367649624356,
          8.939173366961743,
          9.032188637912382,
          7.503929327658486,
          8.564180937072464,
          8.888975051899184,
          7.121731478615434,
          9.125993429599331,
          9.067488893942073,
          8.280841798616201,
          7.237338248893133,
          8.685548922292158,
          9.107860804153269,
          8.684161164895038,
          7.922724934561737,
          9.247527283119766,
          9.201821180120225,
          7.533428618859862,
          9.03735435320811,
          7.167526176954846,
          8.958775279638731,
          7.4199375549197075,
          7.229685003650038,
          8.13197478225291,
          9.11519374468804,
          7.187584410323004,
          7.3461302392611945,
          8.805112269216846,
          8.134615488507134,
          9.179613812000925,
          9.114744122901362,
          8.64877918629129,
          8.981274002936807,
          8.900476990955887,
          7.039792974875408,
          9.154431505621393,
          9.158650345510116,
          8.311775799505932,
          9.029142735116976,
          8.960765192127493,
          8.887340496951731,
          8.099790709049527,
          7.142011315160296,
          8.454966499085932,
          8.8969770554367,
          7.957479074089423,
          7.855193698605126,
          8.281033442289477,
          9.014217592215141,
          7.251701723484441,
          8.943357761574104,
          8.435453002630256,
          8.94851653090176,
          7.4607134242295094,
          8.83621094270692,
          7.370810170570072,
          8.565676307713437,
          8.214715488664318,
          7.794728128208467,
          9.080026118630133,
          9.254325093309305,
          8.895329363583889,
          8.972680640284976,
          7.157738178306408,
          8.92575539752428,
          8.959021451322634,
          7.263968340721619,
          8.949040229659916,
          7.459285481216683,
          8.828875328893597,
          9.013508757049385,
          8.1222719224626
         ],
         "y": [
          8.160518247477505,
          8.987196820661973,
          7.170119543449628,
          8.476371196895983,
          7.438383530044307,
          7.170119543449628,
          9.011889433252344,
          7.24422751560335,
          8.83927669058535,
          9.20029003612268,
          7.24422751560335,
          8.68270762989381,
          9.126958763037132,
          8.68270762989381,
          7.783224016336037,
          8.575462099540212,
          9.0595174822416,
          8.389359819906353,
          8.594154232552366,
          8.794824928014517,
          8.948975607841776,
          8.732304571033183,
          7.649692623711514,
          7.090076835776092,
          8.895629627136483,
          7.90100705199242,
          7.549609165154532,
          8.594154232552366,
          7.649692623711514,
          8.131530710604252,
          8.006367567650246,
          8.881836305004146,
          9.137769679141348,
          7.170119543449628,
          7.24422751560335,
          7.696212639346407,
          9.259130536145614,
          9.035986984831405,
          8.594154232552366,
          9.035986984831405,
          7.438383530044307,
          8.496990484098719,
          7.170119543449628,
          7.495541943884256,
          8.594154232552366,
          9.02401079378469,
          9.082507000466299,
          7.170119543449628,
          9.071078304642676,
          7.003065458786462,
          8.895629627136483,
          8.732304571033183,
          8.101677747454572,
          8.575462099540212,
          8.517193191416238,
          7.170119543449628,
          8.476371196895983,
          8.517193191416238,
          9.011889433252344,
          8.68270762989381,
          7.313220387090301,
          9.137769679141348,
          9.169518377455928,
          8.824677891164198,
          8.764053269347762,
          8.83927669058535,
          8.006367567650246,
          7.495541943884256,
          8.895629627136483,
          9.230142999272362,
          9.071078304642676,
          8.45531778769815,
          8.895629627136483,
          8.160518247477505,
          9.011889433252344,
          9.02401079378469,
          8.824677891164198,
          8.294049640102028,
          8.764053269347762,
          8.575462099540212,
          8.699514748210191,
          9.02401079378469,
          9.20029003612268,
          9.035986984831405,
          7.649692623711514,
          8.517193191416238,
          8.131530710604252,
          7.003065458786462,
          7.783224016336037,
          8.974618038455112,
          8.935903526274423,
          8.34283980427146,
          8.987196820661973,
          7.313220387090301,
          8.34283980427146,
          7.8632667240095735,
          9.082507000466299,
          8.85366542803745,
          8.83927669058535,
          8.68270762989381,
          9.093806555720231,
          9.011889433252344,
          8.517193191416238,
          9.190137664658664,
          8.45531778769815,
          8.794824928014517,
          7.824046010856292,
          7.696212639346407,
          8.881836305004146,
          7.170119543449628,
          8.556413904569519,
          8.556413904569519,
          7.170119543449628,
          7.937374696163295,
          7.170119543449628,
          9.035986984831405,
          9.093806555720231,
          7.783224016336037,
          9.011889433252344,
          8.881836305004146,
          7.8632667240095735,
          8.556413904569519,
          8.909235279192261,
          8.594154232552366,
          9.093806555720231,
          8.935903526274423,
          8.101677747454572,
          8.496990484098719,
          8.824677891164198,
          9.035986984831405,
          7.090076835776092,
          7.24422751560335,
          8.160518247477505,
          9.093806555720231,
          8.34283980427146,
          8.45531778769815,
          9.0595174822416,
          8.268731832117737,
          7.24422751560335,
          7.824046010856292,
          8.85366542803745,
          8.389359819906353,
          8.881836305004146,
          7.696212639346407,
          7.824046010856292,
          9.116029692504942,
          9.011889433252344,
          9.148464968258095,
          8.85366542803745,
          7.003065458786462,
          7.090076835776092,
          8.496990484098719,
          9.20029003612268,
          9.169518377455928,
          7.495541943884256,
          8.594154232552366,
          8.411832675758411,
          8.909235279192261,
          8.411832675758411,
          8.575462099540212,
          9.126958763037132,
          8.160518247477505,
          7.003065458786462,
          9.148464968258095,
          7.090076835776092,
          9.071078304642676,
          9.137769679141348,
          9.190137664658664,
          8.974618038455112,
          8.961879012677683,
          9.011889433252344,
          8.794824928014517,
          8.294049640102028,
          8.948975607841776,
          8.961879012677683,
          7.696212639346407,
          8.131530710604252,
          7.24422751560335,
          7.24422751560335,
          9.230142999272362,
          9.20029003612268,
          8.556413904569519,
          8.45531778769815,
          9.179881164491475,
          7.313220387090301,
          9.035986984831405,
          8.824677891164198,
          7.696212639346407,
          8.268731832117737,
          9.137769679141348,
          9.169518377455928,
          9.02401079378469,
          9.137769679141348,
          8.630521876723241,
          9.116029692504942,
          8.411832675758411,
          8.34283980427146,
          8.881836305004146,
          9.093806555720231,
          8.294049640102028,
          9.035986984831405,
          7.438383530044307,
          9.169518377455928,
          8.556413904569519,
          8.824677891164198,
          7.003065458786462,
          8.66561319653451,
          7.9724660159745655,
          8.895629627136483,
          7.170119543449628,
          7.24422751560335,
          9.230142999272362,
          7.24422751560335,
          8.318742252692399,
          7.649692623711514,
          7.649692623711514,
          8.476371196895983,
          8.895629627136483,
          9.035986984831405,
          9.035986984831405,
          8.648221453822641,
          8.948975607841776,
          7.313220387090301,
          8.748304912379623,
          8.101677747454572,
          7.600902459542082,
          8.131530710604252,
          7.696212639346407,
          7.438383530044307,
          7.649692623711514,
          8.101677747454572,
          9.035986984831405,
          7.313220387090301,
          8.242756345714477,
          8.895629627136483,
          7.9724660159745655,
          8.131530710604252,
          8.575462099540212,
          8.006367567650246,
          8.45531778769815,
          7.600902459542082,
          7.438383530044307,
          8.389359819906353,
          9.02401079378469,
          7.170119543449628,
          7.824046010856292,
          8.764053269347762,
          9.082507000466299,
          8.748304912379623,
          7.696212639346407,
          8.101677747454572,
          7.24422751560335,
          9.035986984831405,
          8.66561319653451,
          8.85366542803745,
          8.101677747454572,
          7.313220387090301,
          8.34283980427146,
          9.190137664658664,
          8.83927669058535,
          9.230142999272362,
          8.824677891164198,
          8.935903526274423,
          8.948975607841776,
          9.169518377455928,
          7.549609165154532,
          9.179881164491475,
          9.126958763037132,
          9.071078304642676,
          8.974618038455112,
          8.987196820661973,
          8.66561319653451,
          8.496990484098719,
          7.438383530044307,
          9.190137664658664,
          7.170119543449628,
          9.116029692504942,
          8.160518247477505,
          8.496990484098719,
          9.116029692504942,
          9.137769679141348,
          8.556413904569519,
          8.594154232552366,
          8.987196820661973,
          8.575462099540212,
          8.34283980427146,
          8.764053269347762,
          8.575462099540212,
          8.101677747454572,
          8.594154232552366,
          7.438383530044307,
          8.68270762989381,
          8.294049640102028,
          8.160518247477505,
          9.082507000466299,
          7.937374696163295,
          9.148464968258095,
          8.948975607841776,
          9.011889433252344,
          8.101677747454572,
          8.160518247477505,
          8.34283980427146,
          8.748304912379623,
          7.649692623711514,
          8.34283980427146,
          7.003065458786462,
          8.160518247477505,
          8.648221453822641,
          9.02401079378469,
          7.090076835776092,
          8.987196820661973,
          7.090076835776092,
          8.935903526274423,
          9.137769679141348,
          8.101677747454572,
          8.881836305004146,
          8.824677891164198,
          8.411832675758411,
          8.824677891164198,
          9.148464968258095,
          7.90100705199242,
          9.035986984831405,
          9.20029003612268,
          9.0595174822416,
          8.556413904569519,
          8.630521876723241,
          8.476371196895983,
          8.66561319653451,
          8.242756345714477,
          9.116029692504942,
          9.035986984831405,
          7.549609165154532,
          7.24422751560335,
          8.764053269347762,
          8.824677891164198,
          8.101677747454572,
          7.170119543449628,
          8.794824928014517,
          7.8632667240095735,
          8.294049640102028,
          9.137769679141348,
          8.961879012677683,
          8.85366542803745,
          8.699514748210191,
          9.259130536145614,
          8.948975607841776,
          9.02401079378469,
          7.600902459542082,
          8.556413904569519,
          8.881836305004146,
          7.090076835776092,
          9.126958763037132,
          9.082507000466299,
          8.294049640102028,
          7.313220387090301,
          8.648221453822641,
          9.093806555720231,
          8.699514748210191,
          7.824046010856292,
          9.249561085129464,
          9.20029003612268,
          7.549609165154532,
          9.011889433252344,
          7.170119543449628,
          8.974618038455112,
          7.438383530044307,
          7.090076835776092,
          8.160518247477505,
          9.116029692504942,
          7.24422751560335,
          7.438383530044307,
          8.794824928014517,
          8.131530710604252,
          9.190137664658664,
          9.116029692504942,
          8.630521876723241,
          8.974618038455112,
          8.909235279192261,
          7.003065458786462,
          9.148464968258095,
          9.148464968258095,
          8.318742252692399,
          9.035986984831405,
          8.935903526274423,
          8.881836305004146,
          8.101677747454572,
          7.090076835776092,
          8.433811582477187,
          8.895629627136483,
          8.006367567650246,
          7.824046010856292,
          8.294049640102028,
          9.02401079378469,
          7.313220387090301,
          8.935903526274423,
          8.411832675758411,
          8.948975607841776,
          7.495541943884256,
          8.83927669058535,
          7.313220387090301,
          8.556413904569519,
          8.242756345714477,
          7.783224016336037,
          9.082507000466299,
          9.259130536145614,
          8.895629627136483,
          8.987196820661973,
          7.170119543449628,
          8.895629627136483,
          8.974618038455112,
          7.313220387090301,
          8.948975607841776,
          7.495541943884256,
          8.824677891164198,
          9.011889433252344,
          8.101677747454572
         ]
        },
        {
         "line": {
          "color": "red"
         },
         "mode": "lines",
         "type": "scatter",
         "x": [
          8.160518247477505,
          8.987196820661973,
          7.170119543449628,
          8.476371196895983,
          7.438383530044307,
          7.170119543449628,
          9.011889433252344,
          7.24422751560335,
          8.83927669058535,
          9.20029003612268,
          7.24422751560335,
          8.68270762989381,
          9.126958763037132,
          8.68270762989381,
          7.783224016336037,
          8.575462099540212,
          9.0595174822416,
          8.389359819906353,
          8.594154232552366,
          8.794824928014517,
          8.948975607841776,
          8.732304571033183,
          7.649692623711514,
          7.090076835776092,
          8.895629627136483,
          7.90100705199242,
          7.549609165154532,
          8.594154232552366,
          7.649692623711514,
          8.131530710604252,
          8.006367567650246,
          8.881836305004146,
          9.137769679141348,
          7.170119543449628,
          7.24422751560335,
          7.696212639346407,
          9.259130536145614,
          9.035986984831405,
          8.594154232552366,
          9.035986984831405,
          7.438383530044307,
          8.496990484098719,
          7.170119543449628,
          7.495541943884256,
          8.594154232552366,
          9.02401079378469,
          9.082507000466299,
          7.170119543449628,
          9.071078304642676,
          7.003065458786462,
          8.895629627136483,
          8.732304571033183,
          8.101677747454572,
          8.575462099540212,
          8.517193191416238,
          7.170119543449628,
          8.476371196895983,
          8.517193191416238,
          9.011889433252344,
          8.68270762989381,
          7.313220387090301,
          9.137769679141348,
          9.169518377455928,
          8.824677891164198,
          8.764053269347762,
          8.83927669058535,
          8.006367567650246,
          7.495541943884256,
          8.895629627136483,
          9.230142999272362,
          9.071078304642676,
          8.45531778769815,
          8.895629627136483,
          8.160518247477505,
          9.011889433252344,
          9.02401079378469,
          8.824677891164198,
          8.294049640102028,
          8.764053269347762,
          8.575462099540212,
          8.699514748210191,
          9.02401079378469,
          9.20029003612268,
          9.035986984831405,
          7.649692623711514,
          8.517193191416238,
          8.131530710604252,
          7.003065458786462,
          7.783224016336037,
          8.974618038455112,
          8.935903526274423,
          8.34283980427146,
          8.987196820661973,
          7.313220387090301,
          8.34283980427146,
          7.8632667240095735,
          9.082507000466299,
          8.85366542803745,
          8.83927669058535,
          8.68270762989381,
          9.093806555720231,
          9.011889433252344,
          8.517193191416238,
          9.190137664658664,
          8.45531778769815,
          8.794824928014517,
          7.824046010856292,
          7.696212639346407,
          8.881836305004146,
          7.170119543449628,
          8.556413904569519,
          8.556413904569519,
          7.170119543449628,
          7.937374696163295,
          7.170119543449628,
          9.035986984831405,
          9.093806555720231,
          7.783224016336037,
          9.011889433252344,
          8.881836305004146,
          7.8632667240095735,
          8.556413904569519,
          8.909235279192261,
          8.594154232552366,
          9.093806555720231,
          8.935903526274423,
          8.101677747454572,
          8.496990484098719,
          8.824677891164198,
          9.035986984831405,
          7.090076835776092,
          7.24422751560335,
          8.160518247477505,
          9.093806555720231,
          8.34283980427146,
          8.45531778769815,
          9.0595174822416,
          8.268731832117737,
          7.24422751560335,
          7.824046010856292,
          8.85366542803745,
          8.389359819906353,
          8.881836305004146,
          7.696212639346407,
          7.824046010856292,
          9.116029692504942,
          9.011889433252344,
          9.148464968258095,
          8.85366542803745,
          7.003065458786462,
          7.090076835776092,
          8.496990484098719,
          9.20029003612268,
          9.169518377455928,
          7.495541943884256,
          8.594154232552366,
          8.411832675758411,
          8.909235279192261,
          8.411832675758411,
          8.575462099540212,
          9.126958763037132,
          8.160518247477505,
          7.003065458786462,
          9.148464968258095,
          7.090076835776092,
          9.071078304642676,
          9.137769679141348,
          9.190137664658664,
          8.974618038455112,
          8.961879012677683,
          9.011889433252344,
          8.794824928014517,
          8.294049640102028,
          8.948975607841776,
          8.961879012677683,
          7.696212639346407,
          8.131530710604252,
          7.24422751560335,
          7.24422751560335,
          9.230142999272362,
          9.20029003612268,
          8.556413904569519,
          8.45531778769815,
          9.179881164491475,
          7.313220387090301,
          9.035986984831405,
          8.824677891164198,
          7.696212639346407,
          8.268731832117737,
          9.137769679141348,
          9.169518377455928,
          9.02401079378469,
          9.137769679141348,
          8.630521876723241,
          9.116029692504942,
          8.411832675758411,
          8.34283980427146,
          8.881836305004146,
          9.093806555720231,
          8.294049640102028,
          9.035986984831405,
          7.438383530044307,
          9.169518377455928,
          8.556413904569519,
          8.824677891164198,
          7.003065458786462,
          8.66561319653451,
          7.9724660159745655,
          8.895629627136483,
          7.170119543449628,
          7.24422751560335,
          9.230142999272362,
          7.24422751560335,
          8.318742252692399,
          7.649692623711514,
          7.649692623711514,
          8.476371196895983,
          8.895629627136483,
          9.035986984831405,
          9.035986984831405,
          8.648221453822641,
          8.948975607841776,
          7.313220387090301,
          8.748304912379623,
          8.101677747454572,
          7.600902459542082,
          8.131530710604252,
          7.696212639346407,
          7.438383530044307,
          7.649692623711514,
          8.101677747454572,
          9.035986984831405,
          7.313220387090301,
          8.242756345714477,
          8.895629627136483,
          7.9724660159745655,
          8.131530710604252,
          8.575462099540212,
          8.006367567650246,
          8.45531778769815,
          7.600902459542082,
          7.438383530044307,
          8.389359819906353,
          9.02401079378469,
          7.170119543449628,
          7.824046010856292,
          8.764053269347762,
          9.082507000466299,
          8.748304912379623,
          7.696212639346407,
          8.101677747454572,
          7.24422751560335,
          9.035986984831405,
          8.66561319653451,
          8.85366542803745,
          8.101677747454572,
          7.313220387090301,
          8.34283980427146,
          9.190137664658664,
          8.83927669058535,
          9.230142999272362,
          8.824677891164198,
          8.935903526274423,
          8.948975607841776,
          9.169518377455928,
          7.549609165154532,
          9.179881164491475,
          9.126958763037132,
          9.071078304642676,
          8.974618038455112,
          8.987196820661973,
          8.66561319653451,
          8.496990484098719,
          7.438383530044307,
          9.190137664658664,
          7.170119543449628,
          9.116029692504942,
          8.160518247477505,
          8.496990484098719,
          9.116029692504942,
          9.137769679141348,
          8.556413904569519,
          8.594154232552366,
          8.987196820661973,
          8.575462099540212,
          8.34283980427146,
          8.764053269347762,
          8.575462099540212,
          8.101677747454572,
          8.594154232552366,
          7.438383530044307,
          8.68270762989381,
          8.294049640102028,
          8.160518247477505,
          9.082507000466299,
          7.937374696163295,
          9.148464968258095,
          8.948975607841776,
          9.011889433252344,
          8.101677747454572,
          8.160518247477505,
          8.34283980427146,
          8.748304912379623,
          7.649692623711514,
          8.34283980427146,
          7.003065458786462,
          8.160518247477505,
          8.648221453822641,
          9.02401079378469,
          7.090076835776092,
          8.987196820661973,
          7.090076835776092,
          8.935903526274423,
          9.137769679141348,
          8.101677747454572,
          8.881836305004146,
          8.824677891164198,
          8.411832675758411,
          8.824677891164198,
          9.148464968258095,
          7.90100705199242,
          9.035986984831405,
          9.20029003612268,
          9.0595174822416,
          8.556413904569519,
          8.630521876723241,
          8.476371196895983,
          8.66561319653451,
          8.242756345714477,
          9.116029692504942,
          9.035986984831405,
          7.549609165154532,
          7.24422751560335,
          8.764053269347762,
          8.824677891164198,
          8.101677747454572,
          7.170119543449628,
          8.794824928014517,
          7.8632667240095735,
          8.294049640102028,
          9.137769679141348,
          8.961879012677683,
          8.85366542803745,
          8.699514748210191,
          9.259130536145614,
          8.948975607841776,
          9.02401079378469,
          7.600902459542082,
          8.556413904569519,
          8.881836305004146,
          7.090076835776092,
          9.126958763037132,
          9.082507000466299,
          8.294049640102028,
          7.313220387090301,
          8.648221453822641,
          9.093806555720231,
          8.699514748210191,
          7.824046010856292,
          9.249561085129464,
          9.20029003612268,
          7.549609165154532,
          9.011889433252344,
          7.170119543449628,
          8.974618038455112,
          7.438383530044307,
          7.090076835776092,
          8.160518247477505,
          9.116029692504942,
          7.24422751560335,
          7.438383530044307,
          8.794824928014517,
          8.131530710604252,
          9.190137664658664,
          9.116029692504942,
          8.630521876723241,
          8.974618038455112,
          8.909235279192261,
          7.003065458786462,
          9.148464968258095,
          9.148464968258095,
          8.318742252692399,
          9.035986984831405,
          8.935903526274423,
          8.881836305004146,
          8.101677747454572,
          7.090076835776092,
          8.433811582477187,
          8.895629627136483,
          8.006367567650246,
          7.824046010856292,
          8.294049640102028,
          9.02401079378469,
          7.313220387090301,
          8.935903526274423,
          8.411832675758411,
          8.948975607841776,
          7.495541943884256,
          8.83927669058535,
          7.313220387090301,
          8.556413904569519,
          8.242756345714477,
          7.783224016336037,
          9.082507000466299,
          9.259130536145614,
          8.895629627136483,
          8.987196820661973,
          7.170119543449628,
          8.895629627136483,
          8.974618038455112,
          7.313220387090301,
          8.948975607841776,
          7.495541943884256,
          8.824677891164198,
          9.011889433252344,
          8.101677747454572
         ],
         "y": [
          8.160518247477505,
          8.987196820661973,
          7.170119543449628,
          8.476371196895983,
          7.438383530044307,
          7.170119543449628,
          9.011889433252344,
          7.24422751560335,
          8.83927669058535,
          9.20029003612268,
          7.24422751560335,
          8.68270762989381,
          9.126958763037132,
          8.68270762989381,
          7.783224016336037,
          8.575462099540212,
          9.0595174822416,
          8.389359819906353,
          8.594154232552366,
          8.794824928014517,
          8.948975607841776,
          8.732304571033183,
          7.649692623711514,
          7.090076835776092,
          8.895629627136483,
          7.90100705199242,
          7.549609165154532,
          8.594154232552366,
          7.649692623711514,
          8.131530710604252,
          8.006367567650246,
          8.881836305004146,
          9.137769679141348,
          7.170119543449628,
          7.24422751560335,
          7.696212639346407,
          9.259130536145614,
          9.035986984831405,
          8.594154232552366,
          9.035986984831405,
          7.438383530044307,
          8.496990484098719,
          7.170119543449628,
          7.495541943884256,
          8.594154232552366,
          9.02401079378469,
          9.082507000466299,
          7.170119543449628,
          9.071078304642676,
          7.003065458786462,
          8.895629627136483,
          8.732304571033183,
          8.101677747454572,
          8.575462099540212,
          8.517193191416238,
          7.170119543449628,
          8.476371196895983,
          8.517193191416238,
          9.011889433252344,
          8.68270762989381,
          7.313220387090301,
          9.137769679141348,
          9.169518377455928,
          8.824677891164198,
          8.764053269347762,
          8.83927669058535,
          8.006367567650246,
          7.495541943884256,
          8.895629627136483,
          9.230142999272362,
          9.071078304642676,
          8.45531778769815,
          8.895629627136483,
          8.160518247477505,
          9.011889433252344,
          9.02401079378469,
          8.824677891164198,
          8.294049640102028,
          8.764053269347762,
          8.575462099540212,
          8.699514748210191,
          9.02401079378469,
          9.20029003612268,
          9.035986984831405,
          7.649692623711514,
          8.517193191416238,
          8.131530710604252,
          7.003065458786462,
          7.783224016336037,
          8.974618038455112,
          8.935903526274423,
          8.34283980427146,
          8.987196820661973,
          7.313220387090301,
          8.34283980427146,
          7.8632667240095735,
          9.082507000466299,
          8.85366542803745,
          8.83927669058535,
          8.68270762989381,
          9.093806555720231,
          9.011889433252344,
          8.517193191416238,
          9.190137664658664,
          8.45531778769815,
          8.794824928014517,
          7.824046010856292,
          7.696212639346407,
          8.881836305004146,
          7.170119543449628,
          8.556413904569519,
          8.556413904569519,
          7.170119543449628,
          7.937374696163295,
          7.170119543449628,
          9.035986984831405,
          9.093806555720231,
          7.783224016336037,
          9.011889433252344,
          8.881836305004146,
          7.8632667240095735,
          8.556413904569519,
          8.909235279192261,
          8.594154232552366,
          9.093806555720231,
          8.935903526274423,
          8.101677747454572,
          8.496990484098719,
          8.824677891164198,
          9.035986984831405,
          7.090076835776092,
          7.24422751560335,
          8.160518247477505,
          9.093806555720231,
          8.34283980427146,
          8.45531778769815,
          9.0595174822416,
          8.268731832117737,
          7.24422751560335,
          7.824046010856292,
          8.85366542803745,
          8.389359819906353,
          8.881836305004146,
          7.696212639346407,
          7.824046010856292,
          9.116029692504942,
          9.011889433252344,
          9.148464968258095,
          8.85366542803745,
          7.003065458786462,
          7.090076835776092,
          8.496990484098719,
          9.20029003612268,
          9.169518377455928,
          7.495541943884256,
          8.594154232552366,
          8.411832675758411,
          8.909235279192261,
          8.411832675758411,
          8.575462099540212,
          9.126958763037132,
          8.160518247477505,
          7.003065458786462,
          9.148464968258095,
          7.090076835776092,
          9.071078304642676,
          9.137769679141348,
          9.190137664658664,
          8.974618038455112,
          8.961879012677683,
          9.011889433252344,
          8.794824928014517,
          8.294049640102028,
          8.948975607841776,
          8.961879012677683,
          7.696212639346407,
          8.131530710604252,
          7.24422751560335,
          7.24422751560335,
          9.230142999272362,
          9.20029003612268,
          8.556413904569519,
          8.45531778769815,
          9.179881164491475,
          7.313220387090301,
          9.035986984831405,
          8.824677891164198,
          7.696212639346407,
          8.268731832117737,
          9.137769679141348,
          9.169518377455928,
          9.02401079378469,
          9.137769679141348,
          8.630521876723241,
          9.116029692504942,
          8.411832675758411,
          8.34283980427146,
          8.881836305004146,
          9.093806555720231,
          8.294049640102028,
          9.035986984831405,
          7.438383530044307,
          9.169518377455928,
          8.556413904569519,
          8.824677891164198,
          7.003065458786462,
          8.66561319653451,
          7.9724660159745655,
          8.895629627136483,
          7.170119543449628,
          7.24422751560335,
          9.230142999272362,
          7.24422751560335,
          8.318742252692399,
          7.649692623711514,
          7.649692623711514,
          8.476371196895983,
          8.895629627136483,
          9.035986984831405,
          9.035986984831405,
          8.648221453822641,
          8.948975607841776,
          7.313220387090301,
          8.748304912379623,
          8.101677747454572,
          7.600902459542082,
          8.131530710604252,
          7.696212639346407,
          7.438383530044307,
          7.649692623711514,
          8.101677747454572,
          9.035986984831405,
          7.313220387090301,
          8.242756345714477,
          8.895629627136483,
          7.9724660159745655,
          8.131530710604252,
          8.575462099540212,
          8.006367567650246,
          8.45531778769815,
          7.600902459542082,
          7.438383530044307,
          8.389359819906353,
          9.02401079378469,
          7.170119543449628,
          7.824046010856292,
          8.764053269347762,
          9.082507000466299,
          8.748304912379623,
          7.696212639346407,
          8.101677747454572,
          7.24422751560335,
          9.035986984831405,
          8.66561319653451,
          8.85366542803745,
          8.101677747454572,
          7.313220387090301,
          8.34283980427146,
          9.190137664658664,
          8.83927669058535,
          9.230142999272362,
          8.824677891164198,
          8.935903526274423,
          8.948975607841776,
          9.169518377455928,
          7.549609165154532,
          9.179881164491475,
          9.126958763037132,
          9.071078304642676,
          8.974618038455112,
          8.987196820661973,
          8.66561319653451,
          8.496990484098719,
          7.438383530044307,
          9.190137664658664,
          7.170119543449628,
          9.116029692504942,
          8.160518247477505,
          8.496990484098719,
          9.116029692504942,
          9.137769679141348,
          8.556413904569519,
          8.594154232552366,
          8.987196820661973,
          8.575462099540212,
          8.34283980427146,
          8.764053269347762,
          8.575462099540212,
          8.101677747454572,
          8.594154232552366,
          7.438383530044307,
          8.68270762989381,
          8.294049640102028,
          8.160518247477505,
          9.082507000466299,
          7.937374696163295,
          9.148464968258095,
          8.948975607841776,
          9.011889433252344,
          8.101677747454572,
          8.160518247477505,
          8.34283980427146,
          8.748304912379623,
          7.649692623711514,
          8.34283980427146,
          7.003065458786462,
          8.160518247477505,
          8.648221453822641,
          9.02401079378469,
          7.090076835776092,
          8.987196820661973,
          7.090076835776092,
          8.935903526274423,
          9.137769679141348,
          8.101677747454572,
          8.881836305004146,
          8.824677891164198,
          8.411832675758411,
          8.824677891164198,
          9.148464968258095,
          7.90100705199242,
          9.035986984831405,
          9.20029003612268,
          9.0595174822416,
          8.556413904569519,
          8.630521876723241,
          8.476371196895983,
          8.66561319653451,
          8.242756345714477,
          9.116029692504942,
          9.035986984831405,
          7.549609165154532,
          7.24422751560335,
          8.764053269347762,
          8.824677891164198,
          8.101677747454572,
          7.170119543449628,
          8.794824928014517,
          7.8632667240095735,
          8.294049640102028,
          9.137769679141348,
          8.961879012677683,
          8.85366542803745,
          8.699514748210191,
          9.259130536145614,
          8.948975607841776,
          9.02401079378469,
          7.600902459542082,
          8.556413904569519,
          8.881836305004146,
          7.090076835776092,
          9.126958763037132,
          9.082507000466299,
          8.294049640102028,
          7.313220387090301,
          8.648221453822641,
          9.093806555720231,
          8.699514748210191,
          7.824046010856292,
          9.249561085129464,
          9.20029003612268,
          7.549609165154532,
          9.011889433252344,
          7.170119543449628,
          8.974618038455112,
          7.438383530044307,
          7.090076835776092,
          8.160518247477505,
          9.116029692504942,
          7.24422751560335,
          7.438383530044307,
          8.794824928014517,
          8.131530710604252,
          9.190137664658664,
          9.116029692504942,
          8.630521876723241,
          8.974618038455112,
          8.909235279192261,
          7.003065458786462,
          9.148464968258095,
          9.148464968258095,
          8.318742252692399,
          9.035986984831405,
          8.935903526274423,
          8.881836305004146,
          8.101677747454572,
          7.090076835776092,
          8.433811582477187,
          8.895629627136483,
          8.006367567650246,
          7.824046010856292,
          8.294049640102028,
          9.02401079378469,
          7.313220387090301,
          8.935903526274423,
          8.411832675758411,
          8.948975607841776,
          7.495541943884256,
          8.83927669058535,
          7.313220387090301,
          8.556413904569519,
          8.242756345714477,
          7.783224016336037,
          9.082507000466299,
          9.259130536145614,
          8.895629627136483,
          8.987196820661973,
          7.170119543449628,
          8.895629627136483,
          8.974618038455112,
          7.313220387090301,
          8.948975607841776,
          7.495541943884256,
          8.824677891164198,
          9.011889433252344,
          8.101677747454572
         ]
        }
       ],
       "layout": {
        "height": 500,
        "template": {
         "data": {
          "bar": [
           {
            "error_x": {
             "color": "#2a3f5f"
            },
            "error_y": {
             "color": "#2a3f5f"
            },
            "marker": {
             "line": {
              "color": "#E5ECF6",
              "width": 0.5
             },
             "pattern": {
              "fillmode": "overlay",
              "size": 10,
              "solidity": 0.2
             }
            },
            "type": "bar"
           }
          ],
          "barpolar": [
           {
            "marker": {
             "line": {
              "color": "#E5ECF6",
              "width": 0.5
             },
             "pattern": {
              "fillmode": "overlay",
              "size": 10,
              "solidity": 0.2
             }
            },
            "type": "barpolar"
           }
          ],
          "carpet": [
           {
            "aaxis": {
             "endlinecolor": "#2a3f5f",
             "gridcolor": "white",
             "linecolor": "white",
             "minorgridcolor": "white",
             "startlinecolor": "#2a3f5f"
            },
            "baxis": {
             "endlinecolor": "#2a3f5f",
             "gridcolor": "white",
             "linecolor": "white",
             "minorgridcolor": "white",
             "startlinecolor": "#2a3f5f"
            },
            "type": "carpet"
           }
          ],
          "choropleth": [
           {
            "colorbar": {
             "outlinewidth": 0,
             "ticks": ""
            },
            "type": "choropleth"
           }
          ],
          "contour": [
           {
            "colorbar": {
             "outlinewidth": 0,
             "ticks": ""
            },
            "colorscale": [
             [
              0,
              "#0d0887"
             ],
             [
              0.1111111111111111,
              "#46039f"
             ],
             [
              0.2222222222222222,
              "#7201a8"
             ],
             [
              0.3333333333333333,
              "#9c179e"
             ],
             [
              0.4444444444444444,
              "#bd3786"
             ],
             [
              0.5555555555555556,
              "#d8576b"
             ],
             [
              0.6666666666666666,
              "#ed7953"
             ],
             [
              0.7777777777777778,
              "#fb9f3a"
             ],
             [
              0.8888888888888888,
              "#fdca26"
             ],
             [
              1,
              "#f0f921"
             ]
            ],
            "type": "contour"
           }
          ],
          "contourcarpet": [
           {
            "colorbar": {
             "outlinewidth": 0,
             "ticks": ""
            },
            "type": "contourcarpet"
           }
          ],
          "heatmap": [
           {
            "colorbar": {
             "outlinewidth": 0,
             "ticks": ""
            },
            "colorscale": [
             [
              0,
              "#0d0887"
             ],
             [
              0.1111111111111111,
              "#46039f"
             ],
             [
              0.2222222222222222,
              "#7201a8"
             ],
             [
              0.3333333333333333,
              "#9c179e"
             ],
             [
              0.4444444444444444,
              "#bd3786"
             ],
             [
              0.5555555555555556,
              "#d8576b"
             ],
             [
              0.6666666666666666,
              "#ed7953"
             ],
             [
              0.7777777777777778,
              "#fb9f3a"
             ],
             [
              0.8888888888888888,
              "#fdca26"
             ],
             [
              1,
              "#f0f921"
             ]
            ],
            "type": "heatmap"
           }
          ],
          "heatmapgl": [
           {
            "colorbar": {
             "outlinewidth": 0,
             "ticks": ""
            },
            "colorscale": [
             [
              0,
              "#0d0887"
             ],
             [
              0.1111111111111111,
              "#46039f"
             ],
             [
              0.2222222222222222,
              "#7201a8"
             ],
             [
              0.3333333333333333,
              "#9c179e"
             ],
             [
              0.4444444444444444,
              "#bd3786"
             ],
             [
              0.5555555555555556,
              "#d8576b"
             ],
             [
              0.6666666666666666,
              "#ed7953"
             ],
             [
              0.7777777777777778,
              "#fb9f3a"
             ],
             [
              0.8888888888888888,
              "#fdca26"
             ],
             [
              1,
              "#f0f921"
             ]
            ],
            "type": "heatmapgl"
           }
          ],
          "histogram": [
           {
            "marker": {
             "pattern": {
              "fillmode": "overlay",
              "size": 10,
              "solidity": 0.2
             }
            },
            "type": "histogram"
           }
          ],
          "histogram2d": [
           {
            "colorbar": {
             "outlinewidth": 0,
             "ticks": ""
            },
            "colorscale": [
             [
              0,
              "#0d0887"
             ],
             [
              0.1111111111111111,
              "#46039f"
             ],
             [
              0.2222222222222222,
              "#7201a8"
             ],
             [
              0.3333333333333333,
              "#9c179e"
             ],
             [
              0.4444444444444444,
              "#bd3786"
             ],
             [
              0.5555555555555556,
              "#d8576b"
             ],
             [
              0.6666666666666666,
              "#ed7953"
             ],
             [
              0.7777777777777778,
              "#fb9f3a"
             ],
             [
              0.8888888888888888,
              "#fdca26"
             ],
             [
              1,
              "#f0f921"
             ]
            ],
            "type": "histogram2d"
           }
          ],
          "histogram2dcontour": [
           {
            "colorbar": {
             "outlinewidth": 0,
             "ticks": ""
            },
            "colorscale": [
             [
              0,
              "#0d0887"
             ],
             [
              0.1111111111111111,
              "#46039f"
             ],
             [
              0.2222222222222222,
              "#7201a8"
             ],
             [
              0.3333333333333333,
              "#9c179e"
             ],
             [
              0.4444444444444444,
              "#bd3786"
             ],
             [
              0.5555555555555556,
              "#d8576b"
             ],
             [
              0.6666666666666666,
              "#ed7953"
             ],
             [
              0.7777777777777778,
              "#fb9f3a"
             ],
             [
              0.8888888888888888,
              "#fdca26"
             ],
             [
              1,
              "#f0f921"
             ]
            ],
            "type": "histogram2dcontour"
           }
          ],
          "mesh3d": [
           {
            "colorbar": {
             "outlinewidth": 0,
             "ticks": ""
            },
            "type": "mesh3d"
           }
          ],
          "parcoords": [
           {
            "line": {
             "colorbar": {
              "outlinewidth": 0,
              "ticks": ""
             }
            },
            "type": "parcoords"
           }
          ],
          "pie": [
           {
            "automargin": true,
            "type": "pie"
           }
          ],
          "scatter": [
           {
            "fillpattern": {
             "fillmode": "overlay",
             "size": 10,
             "solidity": 0.2
            },
            "type": "scatter"
           }
          ],
          "scatter3d": [
           {
            "line": {
             "colorbar": {
              "outlinewidth": 0,
              "ticks": ""
             }
            },
            "marker": {
             "colorbar": {
              "outlinewidth": 0,
              "ticks": ""
             }
            },
            "type": "scatter3d"
           }
          ],
          "scattercarpet": [
           {
            "marker": {
             "colorbar": {
              "outlinewidth": 0,
              "ticks": ""
             }
            },
            "type": "scattercarpet"
           }
          ],
          "scattergeo": [
           {
            "marker": {
             "colorbar": {
              "outlinewidth": 0,
              "ticks": ""
             }
            },
            "type": "scattergeo"
           }
          ],
          "scattergl": [
           {
            "marker": {
             "colorbar": {
              "outlinewidth": 0,
              "ticks": ""
             }
            },
            "type": "scattergl"
           }
          ],
          "scattermapbox": [
           {
            "marker": {
             "colorbar": {
              "outlinewidth": 0,
              "ticks": ""
             }
            },
            "type": "scattermapbox"
           }
          ],
          "scatterpolar": [
           {
            "marker": {
             "colorbar": {
              "outlinewidth": 0,
              "ticks": ""
             }
            },
            "type": "scatterpolar"
           }
          ],
          "scatterpolargl": [
           {
            "marker": {
             "colorbar": {
              "outlinewidth": 0,
              "ticks": ""
             }
            },
            "type": "scatterpolargl"
           }
          ],
          "scatterternary": [
           {
            "marker": {
             "colorbar": {
              "outlinewidth": 0,
              "ticks": ""
             }
            },
            "type": "scatterternary"
           }
          ],
          "surface": [
           {
            "colorbar": {
             "outlinewidth": 0,
             "ticks": ""
            },
            "colorscale": [
             [
              0,
              "#0d0887"
             ],
             [
              0.1111111111111111,
              "#46039f"
             ],
             [
              0.2222222222222222,
              "#7201a8"
             ],
             [
              0.3333333333333333,
              "#9c179e"
             ],
             [
              0.4444444444444444,
              "#bd3786"
             ],
             [
              0.5555555555555556,
              "#d8576b"
             ],
             [
              0.6666666666666666,
              "#ed7953"
             ],
             [
              0.7777777777777778,
              "#fb9f3a"
             ],
             [
              0.8888888888888888,
              "#fdca26"
             ],
             [
              1,
              "#f0f921"
             ]
            ],
            "type": "surface"
           }
          ],
          "table": [
           {
            "cells": {
             "fill": {
              "color": "#EBF0F8"
             },
             "line": {
              "color": "white"
             }
            },
            "header": {
             "fill": {
              "color": "#C8D4E3"
             },
             "line": {
              "color": "white"
             }
            },
            "type": "table"
           }
          ]
         },
         "layout": {
          "annotationdefaults": {
           "arrowcolor": "#2a3f5f",
           "arrowhead": 0,
           "arrowwidth": 1
          },
          "autotypenumbers": "strict",
          "coloraxis": {
           "colorbar": {
            "outlinewidth": 0,
            "ticks": ""
           }
          },
          "colorscale": {
           "diverging": [
            [
             0,
             "#8e0152"
            ],
            [
             0.1,
             "#c51b7d"
            ],
            [
             0.2,
             "#de77ae"
            ],
            [
             0.3,
             "#f1b6da"
            ],
            [
             0.4,
             "#fde0ef"
            ],
            [
             0.5,
             "#f7f7f7"
            ],
            [
             0.6,
             "#e6f5d0"
            ],
            [
             0.7,
             "#b8e186"
            ],
            [
             0.8,
             "#7fbc41"
            ],
            [
             0.9,
             "#4d9221"
            ],
            [
             1,
             "#276419"
            ]
           ],
           "sequential": [
            [
             0,
             "#0d0887"
            ],
            [
             0.1111111111111111,
             "#46039f"
            ],
            [
             0.2222222222222222,
             "#7201a8"
            ],
            [
             0.3333333333333333,
             "#9c179e"
            ],
            [
             0.4444444444444444,
             "#bd3786"
            ],
            [
             0.5555555555555556,
             "#d8576b"
            ],
            [
             0.6666666666666666,
             "#ed7953"
            ],
            [
             0.7777777777777778,
             "#fb9f3a"
            ],
            [
             0.8888888888888888,
             "#fdca26"
            ],
            [
             1,
             "#f0f921"
            ]
           ],
           "sequentialminus": [
            [
             0,
             "#0d0887"
            ],
            [
             0.1111111111111111,
             "#46039f"
            ],
            [
             0.2222222222222222,
             "#7201a8"
            ],
            [
             0.3333333333333333,
             "#9c179e"
            ],
            [
             0.4444444444444444,
             "#bd3786"
            ],
            [
             0.5555555555555556,
             "#d8576b"
            ],
            [
             0.6666666666666666,
             "#ed7953"
            ],
            [
             0.7777777777777778,
             "#fb9f3a"
            ],
            [
             0.8888888888888888,
             "#fdca26"
            ],
            [
             1,
             "#f0f921"
            ]
           ]
          },
          "colorway": [
           "#636efa",
           "#EF553B",
           "#00cc96",
           "#ab63fa",
           "#FFA15A",
           "#19d3f3",
           "#FF6692",
           "#B6E880",
           "#FF97FF",
           "#FECB52"
          ],
          "font": {
           "color": "#2a3f5f"
          },
          "geo": {
           "bgcolor": "white",
           "lakecolor": "white",
           "landcolor": "#E5ECF6",
           "showlakes": true,
           "showland": true,
           "subunitcolor": "white"
          },
          "hoverlabel": {
           "align": "left"
          },
          "hovermode": "closest",
          "mapbox": {
           "style": "light"
          },
          "paper_bgcolor": "white",
          "plot_bgcolor": "#E5ECF6",
          "polar": {
           "angularaxis": {
            "gridcolor": "white",
            "linecolor": "white",
            "ticks": ""
           },
           "bgcolor": "#E5ECF6",
           "radialaxis": {
            "gridcolor": "white",
            "linecolor": "white",
            "ticks": ""
           }
          },
          "scene": {
           "xaxis": {
            "backgroundcolor": "#E5ECF6",
            "gridcolor": "white",
            "gridwidth": 2,
            "linecolor": "white",
            "showbackground": true,
            "ticks": "",
            "zerolinecolor": "white"
           },
           "yaxis": {
            "backgroundcolor": "#E5ECF6",
            "gridcolor": "white",
            "gridwidth": 2,
            "linecolor": "white",
            "showbackground": true,
            "ticks": "",
            "zerolinecolor": "white"
           },
           "zaxis": {
            "backgroundcolor": "#E5ECF6",
            "gridcolor": "white",
            "gridwidth": 2,
            "linecolor": "white",
            "showbackground": true,
            "ticks": "",
            "zerolinecolor": "white"
           }
          },
          "shapedefaults": {
           "line": {
            "color": "#2a3f5f"
           }
          },
          "ternary": {
           "aaxis": {
            "gridcolor": "white",
            "linecolor": "white",
            "ticks": ""
           },
           "baxis": {
            "gridcolor": "white",
            "linecolor": "white",
            "ticks": ""
           },
           "bgcolor": "#E5ECF6",
           "caxis": {
            "gridcolor": "white",
            "linecolor": "white",
            "ticks": ""
           }
          },
          "title": {
           "x": 0.05
          },
          "xaxis": {
           "automargin": true,
           "gridcolor": "white",
           "linecolor": "white",
           "ticks": "",
           "title": {
            "standoff": 15
           },
           "zerolinecolor": "white",
           "zerolinewidth": 2
          },
          "yaxis": {
           "automargin": true,
           "gridcolor": "white",
           "linecolor": "white",
           "ticks": "",
           "title": {
            "standoff": 15
           },
           "zerolinecolor": "white",
           "zerolinewidth": 2
          }
         }
        },
        "title": {
         "text": "RF:Observed target vs Predicted target using train data"
        },
        "width": 800,
        "xaxis": {
         "title": {
          "text": "Observed consult_cost"
         }
        },
        "yaxis": {
         "title": {
          "text": "Predicted consult_cost"
         }
        }
       }
      }
     },
     "metadata": {},
     "output_type": "display_data"
    }
   ],
   "source": [
    "\n",
    "fig = go.Figure()\n",
    "\n",
    "# scatter plot using test data\n",
    "fig.add_trace(go.Scatter(y=y_train, x=RF.predict(x_train), mode='markers', marker=dict(color='blue')))\n",
    "\n",
    "# diagonal line to represent predictions\n",
    "fig.add_trace(go.Scatter(y=y_train, x=y_train, mode='lines', line=dict(color='red')))\n",
    "\n",
    "fig.update_layout(title='RF:Observed target vs Predicted target using train data', xaxis_title='Observed consult_cost', \n",
    "                  yaxis_title='Predicted consult_cost', width=800, height=500)\n",
    "fig.show()"
   ]
  },
  {
   "cell_type": "code",
   "execution_count": 745,
   "metadata": {},
   "outputs": [
    {
     "data": {
      "application/vnd.plotly.v1+json": {
       "config": {
        "plotlyServerURL": "https://plot.ly"
       },
       "data": [
        {
         "marker": {
          "color": "blue"
         },
         "mode": "markers",
         "type": "scatter",
         "x": [
          7.956392836681545,
          8.902738730827991,
          7.491686928258468,
          8.141435369645995,
          7.70804406664593,
          7.594282154998001,
          8.968422403993651,
          7.435096757732094,
          8.689615955873556,
          9.417363382230496,
          7.510188436250984,
          8.502773007542533,
          9.310274212803236,
          8.395763131983953,
          7.831955765624855,
          8.341856539359767,
          9.197528902304125,
          8.093769901549814,
          8.326790523916998,
          8.623594900129552,
          8.861915369403892,
          8.563122803015215,
          7.61742633137272,
          7.705638278165979,
          8.8122225614779,
          7.8526191484104295,
          7.624062720436725,
          8.32792732222739,
          7.701757130740765,
          7.960006609596682,
          7.97160455039307,
          8.84633018538975,
          9.313007566406812,
          7.439197801751937,
          7.442897122360055,
          7.584436190379314,
          9.521539322953144,
          9.091145839000129,
          8.349329543202893,
          9.208832771437708,
          7.684816936613913,
          8.222598219984194,
          7.5485629530018,
          7.694757884446021,
          8.340689857556882,
          9.137915459527596,
          9.079687574542481,
          7.513935903122341,
          9.101834980459806,
          7.576943283152095,
          8.799960197790684,
          8.569010846144591,
          8.024104388650791,
          8.30237275642354,
          8.187966681720717,
          7.584416203715455,
          8.15897550437036,
          8.103259523280311,
          9.00767868451914,
          8.37437417466641,
          7.6077787029228485,
          9.348742063134456,
          9.41623080228824,
          8.680758840915347,
          8.583095592932366,
          8.67190756203738,
          7.828698824908991,
          7.695479880800234,
          8.713491738011324,
          9.594644641952389,
          9.193625470187959,
          8.150008936620043,
          8.767179649450782,
          7.953148446955654,
          9.027092169169887,
          9.072155199643321,
          8.641890263248325,
          8.022023548840199,
          8.566708240565605,
          8.382897402512924,
          8.435761445611718,
          9.03207986397077,
          9.379407603777004,
          8.980144422952076,
          7.772380259112187,
          8.212306582777222,
          8.094865029523163,
          7.449925407264724,
          7.891245684294252,
          8.892204403701614,
          8.916792767747783,
          8.07622136135132,
          8.903698109651314,
          7.697186646245534,
          8.079834323689752,
          7.8669425267483435,
          9.169425893431098,
          8.646404106859045,
          8.575386690201476,
          8.460437613416234,
          9.185355298221054,
          9.109661696574063,
          8.185826412100669,
          9.390757543529615,
          8.19827237826065,
          8.548876516148146,
          7.848230652514488,
          7.67316436641807,
          8.701399662838407,
          7.654022421341764,
          8.292010159288605,
          8.381637110837914,
          7.539723314283715,
          7.788284339202259,
          7.458861996114404,
          9.012214260679569,
          9.08952687239891,
          7.821501132393881,
          9.043689462425528,
          8.789767020830812,
          7.744960873701175,
          8.362332737153716,
          8.710578559418213,
          8.243962782585276,
          9.1459127817775,
          8.994882176458667,
          7.8733320961552105,
          8.142779542873985,
          8.706804794069388,
          8.94638031398233,
          7.522669147857671,
          7.3844384189874575,
          7.941393986912805,
          9.064163351011322,
          8.056382143837519,
          8.20893836178733,
          9.200608238344763,
          8.115078268350734,
          7.361996962188201,
          7.721140042066726,
          8.624647159163809,
          8.163589306403004,
          8.862252832223305,
          7.70253211684875,
          7.869504051459734,
          9.22101258646913,
          8.94697747283992,
          9.268618084338257,
          8.72271832249259,
          7.655088199165749,
          7.552112812723057,
          8.17642984908031,
          9.419554341188837,
          9.392727289673164,
          7.569728545168829,
          8.25208713000089,
          8.18468213658059,
          8.817124927167258,
          8.233269509583184,
          8.278999533936975,
          9.303273284171523,
          7.866805515035369,
          7.41315201420704,
          9.312187772325156,
          7.528662024225942,
          9.127277557926318,
          9.275405082591249,
          9.295238547005862,
          8.813029806207599,
          8.927116700405664,
          9.066625166008661,
          8.600566864448055,
          8.002266353326194,
          9.071242872307264,
          8.94680614366339,
          7.690625313388677,
          7.924141738811949,
          7.539740220202986,
          7.787014605193557,
          9.512331017957745,
          9.45974473740759,
          8.277256433664832,
          8.212451516515847,
          9.36400501962491,
          7.537759958376776,
          9.068165848300588,
          8.67798237916536,
          7.77698310233816,
          8.102451632446968,
          9.322931446025486,
          9.335851753410612,
          9.060857973528151,
          9.299660594528381,
          8.44236038133776,
          9.385125161483845,
          8.22618815162406,
          8.088076507670156,
          8.987425400289176,
          9.32571336035739,
          8.092343053569701,
          9.043938602397931,
          7.602714994716628,
          9.442826965601988,
          8.360432393008733,
          8.688052460008853,
          7.475715592392575,
          8.460283024802251,
          7.826876607933428,
          8.792573785186079,
          7.468916248407936,
          7.493154526790737,
          9.59111534019495,
          7.455759373588255,
          8.059158549841944,
          7.619100160355075,
          7.635439835599141,
          8.241778754588486,
          8.803651361244837,
          9.036753573493725,
          9.155448174372452,
          8.412903503588488,
          8.942223625427218,
          7.553252253902746,
          8.551413889171043,
          7.967076446106615,
          7.6567854479553805,
          7.941403327214327,
          7.638388227366803,
          7.645330134481728,
          7.6783323883510555,
          7.9785939197364435,
          9.123242218007837,
          7.728573768660811,
          8.12038561850037,
          8.914561891875548,
          7.833339689089106,
          7.897738241639495,
          8.288617957221385,
          7.96166586959483,
          8.252320939053893,
          7.82760393429293,
          7.670434959464213,
          8.174417690221714,
          9.113641147972604,
          7.530361192622644,
          7.754890855472926,
          8.606504175527565,
          9.242168050487546,
          8.595779583494982,
          7.658200440673448,
          7.971209904234893,
          7.560160748096531,
          9.094096646438608,
          8.47845950627052,
          8.701329068849551,
          7.917925248482921,
          7.464067866859855,
          8.13003075981773,
          9.491320678126222,
          8.701977717362174,
          9.55860929744732,
          8.67222336595266,
          9.061316857042815,
          8.839224314808018,
          9.481179924775386,
          7.653586579531458,
          9.403376391406026,
          9.403933329606504,
          9.147122338130664,
          8.956753979439684,
          8.893493085406426,
          8.417880386699615,
          8.177093637751979,
          7.723995357073818,
          9.409959894060618,
          7.581533419337454,
          9.295847782179298,
          7.95066950364245,
          8.175448410571837,
          9.371371662057573,
          9.38083187783941,
          8.32689487812028,
          8.33075365809286,
          8.945834366091345,
          8.30295356077809,
          8.032070616936089,
          8.558544684144442,
          8.291090204802495,
          7.914621411187419,
          8.231072557453347,
          7.6043736767932835,
          8.401101704407388,
          8.084902927644828,
          8.00333027357998,
          9.183681031591634,
          7.77379831829661,
          9.249614857590828,
          8.94658157562946,
          9.215057142310071,
          7.968818899043305,
          7.99414134884183,
          8.043654679919303,
          8.529071411696695,
          7.73890950990399,
          8.09130357994689,
          7.541223834833297,
          7.987535041757913,
          8.585341560973252,
          9.03436332468851,
          7.530498626708906,
          9.047964931895022,
          7.4624912112115895,
          8.991773042805818,
          9.408597925383647,
          8.001585507229883,
          8.777632439969171,
          8.684999900569512,
          8.259903876293448,
          8.712047054316907,
          9.256394249371377,
          7.794559504605038,
          8.993697419813577,
          9.424055150918864,
          9.180618893703855,
          8.288774765171564,
          8.400333565408564,
          8.225087407789985,
          8.483060395015876,
          8.058909719499033,
          9.308761868302406,
          9.07018293707645,
          7.59936948615505,
          7.397522869758676,
          8.495510101174734,
          8.69777178686699,
          7.9328440498168895,
          7.456915424635781,
          8.609853661241017,
          7.820859441832204,
          7.980931738251541,
          9.320942050665014,
          8.928107430741232,
          8.596710208767472,
          8.47747631716285,
          9.428705531513808,
          8.959789245403492,
          9.223075686916825,
          7.673950590094098,
          8.324753589584121,
          8.787077273072006,
          7.522988088380215,
          9.312607195443837,
          9.160232409521507,
          8.040275658186173,
          7.472100869593503,
          8.575332175635314,
          9.276813337918927,
          8.462527058756017,
          7.976921641196054,
          9.560965564218668,
          9.540221766300425,
          7.688183625877094,
          9.194963158688953,
          7.496089481238718,
          8.98080042267525,
          7.749817374955519,
          7.691701420149213,
          7.965940426679969,
          9.32576451309441,
          7.4179582286758805,
          7.609318147227788,
          8.703923095719334,
          8.002840239647815,
          9.343249546015041,
          9.31451006571918,
          8.501854095413263,
          9.11136204075124,
          8.857832856302464,
          7.471508821338783,
          9.400989004218546,
          9.448455036014598,
          8.106069874853507,
          9.062852583178769,
          8.95668666798354,
          8.723591733280402,
          7.979017354559483,
          7.4682892125392275,
          8.197024131763948,
          8.855320140382247,
          7.758670875607388,
          7.880378984171013,
          7.953290058606213,
          8.91211001729472,
          7.525407539200927,
          8.906782875908313,
          8.182881513618778,
          8.942429909717527,
          7.7009498819467,
          8.66021676757319,
          7.710064911284125,
          8.348589711026147,
          8.01997758019558,
          7.836353452623861,
          9.135875510626756,
          9.553107081798636,
          8.7464880595156,
          8.874658098139472,
          7.463709420867276,
          8.901305910187274,
          8.933141773588229,
          7.586976592259525,
          8.910668836061829,
          7.62517034910466,
          8.698274535881731,
          9.067523043137962,
          7.9882340537940575
         ],
         "y": [
          8.160518247477505,
          8.987196820661973,
          7.170119543449628,
          8.476371196895983,
          7.438383530044307,
          7.170119543449628,
          9.011889433252344,
          7.24422751560335,
          8.83927669058535,
          9.20029003612268,
          7.24422751560335,
          8.68270762989381,
          9.126958763037132,
          8.68270762989381,
          7.783224016336037,
          8.575462099540212,
          9.0595174822416,
          8.389359819906353,
          8.594154232552366,
          8.794824928014517,
          8.948975607841776,
          8.732304571033183,
          7.649692623711514,
          7.090076835776092,
          8.895629627136483,
          7.90100705199242,
          7.549609165154532,
          8.594154232552366,
          7.649692623711514,
          8.131530710604252,
          8.006367567650246,
          8.881836305004146,
          9.137769679141348,
          7.170119543449628,
          7.24422751560335,
          7.696212639346407,
          9.259130536145614,
          9.035986984831405,
          8.594154232552366,
          9.035986984831405,
          7.438383530044307,
          8.496990484098719,
          7.170119543449628,
          7.495541943884256,
          8.594154232552366,
          9.02401079378469,
          9.082507000466299,
          7.170119543449628,
          9.071078304642676,
          7.003065458786462,
          8.895629627136483,
          8.732304571033183,
          8.101677747454572,
          8.575462099540212,
          8.517193191416238,
          7.170119543449628,
          8.476371196895983,
          8.517193191416238,
          9.011889433252344,
          8.68270762989381,
          7.313220387090301,
          9.137769679141348,
          9.169518377455928,
          8.824677891164198,
          8.764053269347762,
          8.83927669058535,
          8.006367567650246,
          7.495541943884256,
          8.895629627136483,
          9.230142999272362,
          9.071078304642676,
          8.45531778769815,
          8.895629627136483,
          8.160518247477505,
          9.011889433252344,
          9.02401079378469,
          8.824677891164198,
          8.294049640102028,
          8.764053269347762,
          8.575462099540212,
          8.699514748210191,
          9.02401079378469,
          9.20029003612268,
          9.035986984831405,
          7.649692623711514,
          8.517193191416238,
          8.131530710604252,
          7.003065458786462,
          7.783224016336037,
          8.974618038455112,
          8.935903526274423,
          8.34283980427146,
          8.987196820661973,
          7.313220387090301,
          8.34283980427146,
          7.8632667240095735,
          9.082507000466299,
          8.85366542803745,
          8.83927669058535,
          8.68270762989381,
          9.093806555720231,
          9.011889433252344,
          8.517193191416238,
          9.190137664658664,
          8.45531778769815,
          8.794824928014517,
          7.824046010856292,
          7.696212639346407,
          8.881836305004146,
          7.170119543449628,
          8.556413904569519,
          8.556413904569519,
          7.170119543449628,
          7.937374696163295,
          7.170119543449628,
          9.035986984831405,
          9.093806555720231,
          7.783224016336037,
          9.011889433252344,
          8.881836305004146,
          7.8632667240095735,
          8.556413904569519,
          8.909235279192261,
          8.594154232552366,
          9.093806555720231,
          8.935903526274423,
          8.101677747454572,
          8.496990484098719,
          8.824677891164198,
          9.035986984831405,
          7.090076835776092,
          7.24422751560335,
          8.160518247477505,
          9.093806555720231,
          8.34283980427146,
          8.45531778769815,
          9.0595174822416,
          8.268731832117737,
          7.24422751560335,
          7.824046010856292,
          8.85366542803745,
          8.389359819906353,
          8.881836305004146,
          7.696212639346407,
          7.824046010856292,
          9.116029692504942,
          9.011889433252344,
          9.148464968258095,
          8.85366542803745,
          7.003065458786462,
          7.090076835776092,
          8.496990484098719,
          9.20029003612268,
          9.169518377455928,
          7.495541943884256,
          8.594154232552366,
          8.411832675758411,
          8.909235279192261,
          8.411832675758411,
          8.575462099540212,
          9.126958763037132,
          8.160518247477505,
          7.003065458786462,
          9.148464968258095,
          7.090076835776092,
          9.071078304642676,
          9.137769679141348,
          9.190137664658664,
          8.974618038455112,
          8.961879012677683,
          9.011889433252344,
          8.794824928014517,
          8.294049640102028,
          8.948975607841776,
          8.961879012677683,
          7.696212639346407,
          8.131530710604252,
          7.24422751560335,
          7.24422751560335,
          9.230142999272362,
          9.20029003612268,
          8.556413904569519,
          8.45531778769815,
          9.179881164491475,
          7.313220387090301,
          9.035986984831405,
          8.824677891164198,
          7.696212639346407,
          8.268731832117737,
          9.137769679141348,
          9.169518377455928,
          9.02401079378469,
          9.137769679141348,
          8.630521876723241,
          9.116029692504942,
          8.411832675758411,
          8.34283980427146,
          8.881836305004146,
          9.093806555720231,
          8.294049640102028,
          9.035986984831405,
          7.438383530044307,
          9.169518377455928,
          8.556413904569519,
          8.824677891164198,
          7.003065458786462,
          8.66561319653451,
          7.9724660159745655,
          8.895629627136483,
          7.170119543449628,
          7.24422751560335,
          9.230142999272362,
          7.24422751560335,
          8.318742252692399,
          7.649692623711514,
          7.649692623711514,
          8.476371196895983,
          8.895629627136483,
          9.035986984831405,
          9.035986984831405,
          8.648221453822641,
          8.948975607841776,
          7.313220387090301,
          8.748304912379623,
          8.101677747454572,
          7.600902459542082,
          8.131530710604252,
          7.696212639346407,
          7.438383530044307,
          7.649692623711514,
          8.101677747454572,
          9.035986984831405,
          7.313220387090301,
          8.242756345714477,
          8.895629627136483,
          7.9724660159745655,
          8.131530710604252,
          8.575462099540212,
          8.006367567650246,
          8.45531778769815,
          7.600902459542082,
          7.438383530044307,
          8.389359819906353,
          9.02401079378469,
          7.170119543449628,
          7.824046010856292,
          8.764053269347762,
          9.082507000466299,
          8.748304912379623,
          7.696212639346407,
          8.101677747454572,
          7.24422751560335,
          9.035986984831405,
          8.66561319653451,
          8.85366542803745,
          8.101677747454572,
          7.313220387090301,
          8.34283980427146,
          9.190137664658664,
          8.83927669058535,
          9.230142999272362,
          8.824677891164198,
          8.935903526274423,
          8.948975607841776,
          9.169518377455928,
          7.549609165154532,
          9.179881164491475,
          9.126958763037132,
          9.071078304642676,
          8.974618038455112,
          8.987196820661973,
          8.66561319653451,
          8.496990484098719,
          7.438383530044307,
          9.190137664658664,
          7.170119543449628,
          9.116029692504942,
          8.160518247477505,
          8.496990484098719,
          9.116029692504942,
          9.137769679141348,
          8.556413904569519,
          8.594154232552366,
          8.987196820661973,
          8.575462099540212,
          8.34283980427146,
          8.764053269347762,
          8.575462099540212,
          8.101677747454572,
          8.594154232552366,
          7.438383530044307,
          8.68270762989381,
          8.294049640102028,
          8.160518247477505,
          9.082507000466299,
          7.937374696163295,
          9.148464968258095,
          8.948975607841776,
          9.011889433252344,
          8.101677747454572,
          8.160518247477505,
          8.34283980427146,
          8.748304912379623,
          7.649692623711514,
          8.34283980427146,
          7.003065458786462,
          8.160518247477505,
          8.648221453822641,
          9.02401079378469,
          7.090076835776092,
          8.987196820661973,
          7.090076835776092,
          8.935903526274423,
          9.137769679141348,
          8.101677747454572,
          8.881836305004146,
          8.824677891164198,
          8.411832675758411,
          8.824677891164198,
          9.148464968258095,
          7.90100705199242,
          9.035986984831405,
          9.20029003612268,
          9.0595174822416,
          8.556413904569519,
          8.630521876723241,
          8.476371196895983,
          8.66561319653451,
          8.242756345714477,
          9.116029692504942,
          9.035986984831405,
          7.549609165154532,
          7.24422751560335,
          8.764053269347762,
          8.824677891164198,
          8.101677747454572,
          7.170119543449628,
          8.794824928014517,
          7.8632667240095735,
          8.294049640102028,
          9.137769679141348,
          8.961879012677683,
          8.85366542803745,
          8.699514748210191,
          9.259130536145614,
          8.948975607841776,
          9.02401079378469,
          7.600902459542082,
          8.556413904569519,
          8.881836305004146,
          7.090076835776092,
          9.126958763037132,
          9.082507000466299,
          8.294049640102028,
          7.313220387090301,
          8.648221453822641,
          9.093806555720231,
          8.699514748210191,
          7.824046010856292,
          9.249561085129464,
          9.20029003612268,
          7.549609165154532,
          9.011889433252344,
          7.170119543449628,
          8.974618038455112,
          7.438383530044307,
          7.090076835776092,
          8.160518247477505,
          9.116029692504942,
          7.24422751560335,
          7.438383530044307,
          8.794824928014517,
          8.131530710604252,
          9.190137664658664,
          9.116029692504942,
          8.630521876723241,
          8.974618038455112,
          8.909235279192261,
          7.003065458786462,
          9.148464968258095,
          9.148464968258095,
          8.318742252692399,
          9.035986984831405,
          8.935903526274423,
          8.881836305004146,
          8.101677747454572,
          7.090076835776092,
          8.433811582477187,
          8.895629627136483,
          8.006367567650246,
          7.824046010856292,
          8.294049640102028,
          9.02401079378469,
          7.313220387090301,
          8.935903526274423,
          8.411832675758411,
          8.948975607841776,
          7.495541943884256,
          8.83927669058535,
          7.313220387090301,
          8.556413904569519,
          8.242756345714477,
          7.783224016336037,
          9.082507000466299,
          9.259130536145614,
          8.895629627136483,
          8.987196820661973,
          7.170119543449628,
          8.895629627136483,
          8.974618038455112,
          7.313220387090301,
          8.948975607841776,
          7.495541943884256,
          8.824677891164198,
          9.011889433252344,
          8.101677747454572
         ]
        },
        {
         "line": {
          "color": "red"
         },
         "mode": "lines",
         "type": "scatter",
         "x": [
          8.160518247477505,
          8.987196820661973,
          7.170119543449628,
          8.476371196895983,
          7.438383530044307,
          7.170119543449628,
          9.011889433252344,
          7.24422751560335,
          8.83927669058535,
          9.20029003612268,
          7.24422751560335,
          8.68270762989381,
          9.126958763037132,
          8.68270762989381,
          7.783224016336037,
          8.575462099540212,
          9.0595174822416,
          8.389359819906353,
          8.594154232552366,
          8.794824928014517,
          8.948975607841776,
          8.732304571033183,
          7.649692623711514,
          7.090076835776092,
          8.895629627136483,
          7.90100705199242,
          7.549609165154532,
          8.594154232552366,
          7.649692623711514,
          8.131530710604252,
          8.006367567650246,
          8.881836305004146,
          9.137769679141348,
          7.170119543449628,
          7.24422751560335,
          7.696212639346407,
          9.259130536145614,
          9.035986984831405,
          8.594154232552366,
          9.035986984831405,
          7.438383530044307,
          8.496990484098719,
          7.170119543449628,
          7.495541943884256,
          8.594154232552366,
          9.02401079378469,
          9.082507000466299,
          7.170119543449628,
          9.071078304642676,
          7.003065458786462,
          8.895629627136483,
          8.732304571033183,
          8.101677747454572,
          8.575462099540212,
          8.517193191416238,
          7.170119543449628,
          8.476371196895983,
          8.517193191416238,
          9.011889433252344,
          8.68270762989381,
          7.313220387090301,
          9.137769679141348,
          9.169518377455928,
          8.824677891164198,
          8.764053269347762,
          8.83927669058535,
          8.006367567650246,
          7.495541943884256,
          8.895629627136483,
          9.230142999272362,
          9.071078304642676,
          8.45531778769815,
          8.895629627136483,
          8.160518247477505,
          9.011889433252344,
          9.02401079378469,
          8.824677891164198,
          8.294049640102028,
          8.764053269347762,
          8.575462099540212,
          8.699514748210191,
          9.02401079378469,
          9.20029003612268,
          9.035986984831405,
          7.649692623711514,
          8.517193191416238,
          8.131530710604252,
          7.003065458786462,
          7.783224016336037,
          8.974618038455112,
          8.935903526274423,
          8.34283980427146,
          8.987196820661973,
          7.313220387090301,
          8.34283980427146,
          7.8632667240095735,
          9.082507000466299,
          8.85366542803745,
          8.83927669058535,
          8.68270762989381,
          9.093806555720231,
          9.011889433252344,
          8.517193191416238,
          9.190137664658664,
          8.45531778769815,
          8.794824928014517,
          7.824046010856292,
          7.696212639346407,
          8.881836305004146,
          7.170119543449628,
          8.556413904569519,
          8.556413904569519,
          7.170119543449628,
          7.937374696163295,
          7.170119543449628,
          9.035986984831405,
          9.093806555720231,
          7.783224016336037,
          9.011889433252344,
          8.881836305004146,
          7.8632667240095735,
          8.556413904569519,
          8.909235279192261,
          8.594154232552366,
          9.093806555720231,
          8.935903526274423,
          8.101677747454572,
          8.496990484098719,
          8.824677891164198,
          9.035986984831405,
          7.090076835776092,
          7.24422751560335,
          8.160518247477505,
          9.093806555720231,
          8.34283980427146,
          8.45531778769815,
          9.0595174822416,
          8.268731832117737,
          7.24422751560335,
          7.824046010856292,
          8.85366542803745,
          8.389359819906353,
          8.881836305004146,
          7.696212639346407,
          7.824046010856292,
          9.116029692504942,
          9.011889433252344,
          9.148464968258095,
          8.85366542803745,
          7.003065458786462,
          7.090076835776092,
          8.496990484098719,
          9.20029003612268,
          9.169518377455928,
          7.495541943884256,
          8.594154232552366,
          8.411832675758411,
          8.909235279192261,
          8.411832675758411,
          8.575462099540212,
          9.126958763037132,
          8.160518247477505,
          7.003065458786462,
          9.148464968258095,
          7.090076835776092,
          9.071078304642676,
          9.137769679141348,
          9.190137664658664,
          8.974618038455112,
          8.961879012677683,
          9.011889433252344,
          8.794824928014517,
          8.294049640102028,
          8.948975607841776,
          8.961879012677683,
          7.696212639346407,
          8.131530710604252,
          7.24422751560335,
          7.24422751560335,
          9.230142999272362,
          9.20029003612268,
          8.556413904569519,
          8.45531778769815,
          9.179881164491475,
          7.313220387090301,
          9.035986984831405,
          8.824677891164198,
          7.696212639346407,
          8.268731832117737,
          9.137769679141348,
          9.169518377455928,
          9.02401079378469,
          9.137769679141348,
          8.630521876723241,
          9.116029692504942,
          8.411832675758411,
          8.34283980427146,
          8.881836305004146,
          9.093806555720231,
          8.294049640102028,
          9.035986984831405,
          7.438383530044307,
          9.169518377455928,
          8.556413904569519,
          8.824677891164198,
          7.003065458786462,
          8.66561319653451,
          7.9724660159745655,
          8.895629627136483,
          7.170119543449628,
          7.24422751560335,
          9.230142999272362,
          7.24422751560335,
          8.318742252692399,
          7.649692623711514,
          7.649692623711514,
          8.476371196895983,
          8.895629627136483,
          9.035986984831405,
          9.035986984831405,
          8.648221453822641,
          8.948975607841776,
          7.313220387090301,
          8.748304912379623,
          8.101677747454572,
          7.600902459542082,
          8.131530710604252,
          7.696212639346407,
          7.438383530044307,
          7.649692623711514,
          8.101677747454572,
          9.035986984831405,
          7.313220387090301,
          8.242756345714477,
          8.895629627136483,
          7.9724660159745655,
          8.131530710604252,
          8.575462099540212,
          8.006367567650246,
          8.45531778769815,
          7.600902459542082,
          7.438383530044307,
          8.389359819906353,
          9.02401079378469,
          7.170119543449628,
          7.824046010856292,
          8.764053269347762,
          9.082507000466299,
          8.748304912379623,
          7.696212639346407,
          8.101677747454572,
          7.24422751560335,
          9.035986984831405,
          8.66561319653451,
          8.85366542803745,
          8.101677747454572,
          7.313220387090301,
          8.34283980427146,
          9.190137664658664,
          8.83927669058535,
          9.230142999272362,
          8.824677891164198,
          8.935903526274423,
          8.948975607841776,
          9.169518377455928,
          7.549609165154532,
          9.179881164491475,
          9.126958763037132,
          9.071078304642676,
          8.974618038455112,
          8.987196820661973,
          8.66561319653451,
          8.496990484098719,
          7.438383530044307,
          9.190137664658664,
          7.170119543449628,
          9.116029692504942,
          8.160518247477505,
          8.496990484098719,
          9.116029692504942,
          9.137769679141348,
          8.556413904569519,
          8.594154232552366,
          8.987196820661973,
          8.575462099540212,
          8.34283980427146,
          8.764053269347762,
          8.575462099540212,
          8.101677747454572,
          8.594154232552366,
          7.438383530044307,
          8.68270762989381,
          8.294049640102028,
          8.160518247477505,
          9.082507000466299,
          7.937374696163295,
          9.148464968258095,
          8.948975607841776,
          9.011889433252344,
          8.101677747454572,
          8.160518247477505,
          8.34283980427146,
          8.748304912379623,
          7.649692623711514,
          8.34283980427146,
          7.003065458786462,
          8.160518247477505,
          8.648221453822641,
          9.02401079378469,
          7.090076835776092,
          8.987196820661973,
          7.090076835776092,
          8.935903526274423,
          9.137769679141348,
          8.101677747454572,
          8.881836305004146,
          8.824677891164198,
          8.411832675758411,
          8.824677891164198,
          9.148464968258095,
          7.90100705199242,
          9.035986984831405,
          9.20029003612268,
          9.0595174822416,
          8.556413904569519,
          8.630521876723241,
          8.476371196895983,
          8.66561319653451,
          8.242756345714477,
          9.116029692504942,
          9.035986984831405,
          7.549609165154532,
          7.24422751560335,
          8.764053269347762,
          8.824677891164198,
          8.101677747454572,
          7.170119543449628,
          8.794824928014517,
          7.8632667240095735,
          8.294049640102028,
          9.137769679141348,
          8.961879012677683,
          8.85366542803745,
          8.699514748210191,
          9.259130536145614,
          8.948975607841776,
          9.02401079378469,
          7.600902459542082,
          8.556413904569519,
          8.881836305004146,
          7.090076835776092,
          9.126958763037132,
          9.082507000466299,
          8.294049640102028,
          7.313220387090301,
          8.648221453822641,
          9.093806555720231,
          8.699514748210191,
          7.824046010856292,
          9.249561085129464,
          9.20029003612268,
          7.549609165154532,
          9.011889433252344,
          7.170119543449628,
          8.974618038455112,
          7.438383530044307,
          7.090076835776092,
          8.160518247477505,
          9.116029692504942,
          7.24422751560335,
          7.438383530044307,
          8.794824928014517,
          8.131530710604252,
          9.190137664658664,
          9.116029692504942,
          8.630521876723241,
          8.974618038455112,
          8.909235279192261,
          7.003065458786462,
          9.148464968258095,
          9.148464968258095,
          8.318742252692399,
          9.035986984831405,
          8.935903526274423,
          8.881836305004146,
          8.101677747454572,
          7.090076835776092,
          8.433811582477187,
          8.895629627136483,
          8.006367567650246,
          7.824046010856292,
          8.294049640102028,
          9.02401079378469,
          7.313220387090301,
          8.935903526274423,
          8.411832675758411,
          8.948975607841776,
          7.495541943884256,
          8.83927669058535,
          7.313220387090301,
          8.556413904569519,
          8.242756345714477,
          7.783224016336037,
          9.082507000466299,
          9.259130536145614,
          8.895629627136483,
          8.987196820661973,
          7.170119543449628,
          8.895629627136483,
          8.974618038455112,
          7.313220387090301,
          8.948975607841776,
          7.495541943884256,
          8.824677891164198,
          9.011889433252344,
          8.101677747454572
         ],
         "y": [
          8.160518247477505,
          8.987196820661973,
          7.170119543449628,
          8.476371196895983,
          7.438383530044307,
          7.170119543449628,
          9.011889433252344,
          7.24422751560335,
          8.83927669058535,
          9.20029003612268,
          7.24422751560335,
          8.68270762989381,
          9.126958763037132,
          8.68270762989381,
          7.783224016336037,
          8.575462099540212,
          9.0595174822416,
          8.389359819906353,
          8.594154232552366,
          8.794824928014517,
          8.948975607841776,
          8.732304571033183,
          7.649692623711514,
          7.090076835776092,
          8.895629627136483,
          7.90100705199242,
          7.549609165154532,
          8.594154232552366,
          7.649692623711514,
          8.131530710604252,
          8.006367567650246,
          8.881836305004146,
          9.137769679141348,
          7.170119543449628,
          7.24422751560335,
          7.696212639346407,
          9.259130536145614,
          9.035986984831405,
          8.594154232552366,
          9.035986984831405,
          7.438383530044307,
          8.496990484098719,
          7.170119543449628,
          7.495541943884256,
          8.594154232552366,
          9.02401079378469,
          9.082507000466299,
          7.170119543449628,
          9.071078304642676,
          7.003065458786462,
          8.895629627136483,
          8.732304571033183,
          8.101677747454572,
          8.575462099540212,
          8.517193191416238,
          7.170119543449628,
          8.476371196895983,
          8.517193191416238,
          9.011889433252344,
          8.68270762989381,
          7.313220387090301,
          9.137769679141348,
          9.169518377455928,
          8.824677891164198,
          8.764053269347762,
          8.83927669058535,
          8.006367567650246,
          7.495541943884256,
          8.895629627136483,
          9.230142999272362,
          9.071078304642676,
          8.45531778769815,
          8.895629627136483,
          8.160518247477505,
          9.011889433252344,
          9.02401079378469,
          8.824677891164198,
          8.294049640102028,
          8.764053269347762,
          8.575462099540212,
          8.699514748210191,
          9.02401079378469,
          9.20029003612268,
          9.035986984831405,
          7.649692623711514,
          8.517193191416238,
          8.131530710604252,
          7.003065458786462,
          7.783224016336037,
          8.974618038455112,
          8.935903526274423,
          8.34283980427146,
          8.987196820661973,
          7.313220387090301,
          8.34283980427146,
          7.8632667240095735,
          9.082507000466299,
          8.85366542803745,
          8.83927669058535,
          8.68270762989381,
          9.093806555720231,
          9.011889433252344,
          8.517193191416238,
          9.190137664658664,
          8.45531778769815,
          8.794824928014517,
          7.824046010856292,
          7.696212639346407,
          8.881836305004146,
          7.170119543449628,
          8.556413904569519,
          8.556413904569519,
          7.170119543449628,
          7.937374696163295,
          7.170119543449628,
          9.035986984831405,
          9.093806555720231,
          7.783224016336037,
          9.011889433252344,
          8.881836305004146,
          7.8632667240095735,
          8.556413904569519,
          8.909235279192261,
          8.594154232552366,
          9.093806555720231,
          8.935903526274423,
          8.101677747454572,
          8.496990484098719,
          8.824677891164198,
          9.035986984831405,
          7.090076835776092,
          7.24422751560335,
          8.160518247477505,
          9.093806555720231,
          8.34283980427146,
          8.45531778769815,
          9.0595174822416,
          8.268731832117737,
          7.24422751560335,
          7.824046010856292,
          8.85366542803745,
          8.389359819906353,
          8.881836305004146,
          7.696212639346407,
          7.824046010856292,
          9.116029692504942,
          9.011889433252344,
          9.148464968258095,
          8.85366542803745,
          7.003065458786462,
          7.090076835776092,
          8.496990484098719,
          9.20029003612268,
          9.169518377455928,
          7.495541943884256,
          8.594154232552366,
          8.411832675758411,
          8.909235279192261,
          8.411832675758411,
          8.575462099540212,
          9.126958763037132,
          8.160518247477505,
          7.003065458786462,
          9.148464968258095,
          7.090076835776092,
          9.071078304642676,
          9.137769679141348,
          9.190137664658664,
          8.974618038455112,
          8.961879012677683,
          9.011889433252344,
          8.794824928014517,
          8.294049640102028,
          8.948975607841776,
          8.961879012677683,
          7.696212639346407,
          8.131530710604252,
          7.24422751560335,
          7.24422751560335,
          9.230142999272362,
          9.20029003612268,
          8.556413904569519,
          8.45531778769815,
          9.179881164491475,
          7.313220387090301,
          9.035986984831405,
          8.824677891164198,
          7.696212639346407,
          8.268731832117737,
          9.137769679141348,
          9.169518377455928,
          9.02401079378469,
          9.137769679141348,
          8.630521876723241,
          9.116029692504942,
          8.411832675758411,
          8.34283980427146,
          8.881836305004146,
          9.093806555720231,
          8.294049640102028,
          9.035986984831405,
          7.438383530044307,
          9.169518377455928,
          8.556413904569519,
          8.824677891164198,
          7.003065458786462,
          8.66561319653451,
          7.9724660159745655,
          8.895629627136483,
          7.170119543449628,
          7.24422751560335,
          9.230142999272362,
          7.24422751560335,
          8.318742252692399,
          7.649692623711514,
          7.649692623711514,
          8.476371196895983,
          8.895629627136483,
          9.035986984831405,
          9.035986984831405,
          8.648221453822641,
          8.948975607841776,
          7.313220387090301,
          8.748304912379623,
          8.101677747454572,
          7.600902459542082,
          8.131530710604252,
          7.696212639346407,
          7.438383530044307,
          7.649692623711514,
          8.101677747454572,
          9.035986984831405,
          7.313220387090301,
          8.242756345714477,
          8.895629627136483,
          7.9724660159745655,
          8.131530710604252,
          8.575462099540212,
          8.006367567650246,
          8.45531778769815,
          7.600902459542082,
          7.438383530044307,
          8.389359819906353,
          9.02401079378469,
          7.170119543449628,
          7.824046010856292,
          8.764053269347762,
          9.082507000466299,
          8.748304912379623,
          7.696212639346407,
          8.101677747454572,
          7.24422751560335,
          9.035986984831405,
          8.66561319653451,
          8.85366542803745,
          8.101677747454572,
          7.313220387090301,
          8.34283980427146,
          9.190137664658664,
          8.83927669058535,
          9.230142999272362,
          8.824677891164198,
          8.935903526274423,
          8.948975607841776,
          9.169518377455928,
          7.549609165154532,
          9.179881164491475,
          9.126958763037132,
          9.071078304642676,
          8.974618038455112,
          8.987196820661973,
          8.66561319653451,
          8.496990484098719,
          7.438383530044307,
          9.190137664658664,
          7.170119543449628,
          9.116029692504942,
          8.160518247477505,
          8.496990484098719,
          9.116029692504942,
          9.137769679141348,
          8.556413904569519,
          8.594154232552366,
          8.987196820661973,
          8.575462099540212,
          8.34283980427146,
          8.764053269347762,
          8.575462099540212,
          8.101677747454572,
          8.594154232552366,
          7.438383530044307,
          8.68270762989381,
          8.294049640102028,
          8.160518247477505,
          9.082507000466299,
          7.937374696163295,
          9.148464968258095,
          8.948975607841776,
          9.011889433252344,
          8.101677747454572,
          8.160518247477505,
          8.34283980427146,
          8.748304912379623,
          7.649692623711514,
          8.34283980427146,
          7.003065458786462,
          8.160518247477505,
          8.648221453822641,
          9.02401079378469,
          7.090076835776092,
          8.987196820661973,
          7.090076835776092,
          8.935903526274423,
          9.137769679141348,
          8.101677747454572,
          8.881836305004146,
          8.824677891164198,
          8.411832675758411,
          8.824677891164198,
          9.148464968258095,
          7.90100705199242,
          9.035986984831405,
          9.20029003612268,
          9.0595174822416,
          8.556413904569519,
          8.630521876723241,
          8.476371196895983,
          8.66561319653451,
          8.242756345714477,
          9.116029692504942,
          9.035986984831405,
          7.549609165154532,
          7.24422751560335,
          8.764053269347762,
          8.824677891164198,
          8.101677747454572,
          7.170119543449628,
          8.794824928014517,
          7.8632667240095735,
          8.294049640102028,
          9.137769679141348,
          8.961879012677683,
          8.85366542803745,
          8.699514748210191,
          9.259130536145614,
          8.948975607841776,
          9.02401079378469,
          7.600902459542082,
          8.556413904569519,
          8.881836305004146,
          7.090076835776092,
          9.126958763037132,
          9.082507000466299,
          8.294049640102028,
          7.313220387090301,
          8.648221453822641,
          9.093806555720231,
          8.699514748210191,
          7.824046010856292,
          9.249561085129464,
          9.20029003612268,
          7.549609165154532,
          9.011889433252344,
          7.170119543449628,
          8.974618038455112,
          7.438383530044307,
          7.090076835776092,
          8.160518247477505,
          9.116029692504942,
          7.24422751560335,
          7.438383530044307,
          8.794824928014517,
          8.131530710604252,
          9.190137664658664,
          9.116029692504942,
          8.630521876723241,
          8.974618038455112,
          8.909235279192261,
          7.003065458786462,
          9.148464968258095,
          9.148464968258095,
          8.318742252692399,
          9.035986984831405,
          8.935903526274423,
          8.881836305004146,
          8.101677747454572,
          7.090076835776092,
          8.433811582477187,
          8.895629627136483,
          8.006367567650246,
          7.824046010856292,
          8.294049640102028,
          9.02401079378469,
          7.313220387090301,
          8.935903526274423,
          8.411832675758411,
          8.948975607841776,
          7.495541943884256,
          8.83927669058535,
          7.313220387090301,
          8.556413904569519,
          8.242756345714477,
          7.783224016336037,
          9.082507000466299,
          9.259130536145614,
          8.895629627136483,
          8.987196820661973,
          7.170119543449628,
          8.895629627136483,
          8.974618038455112,
          7.313220387090301,
          8.948975607841776,
          7.495541943884256,
          8.824677891164198,
          9.011889433252344,
          8.101677747454572
         ]
        }
       ],
       "layout": {
        "height": 500,
        "template": {
         "data": {
          "bar": [
           {
            "error_x": {
             "color": "#2a3f5f"
            },
            "error_y": {
             "color": "#2a3f5f"
            },
            "marker": {
             "line": {
              "color": "#E5ECF6",
              "width": 0.5
             },
             "pattern": {
              "fillmode": "overlay",
              "size": 10,
              "solidity": 0.2
             }
            },
            "type": "bar"
           }
          ],
          "barpolar": [
           {
            "marker": {
             "line": {
              "color": "#E5ECF6",
              "width": 0.5
             },
             "pattern": {
              "fillmode": "overlay",
              "size": 10,
              "solidity": 0.2
             }
            },
            "type": "barpolar"
           }
          ],
          "carpet": [
           {
            "aaxis": {
             "endlinecolor": "#2a3f5f",
             "gridcolor": "white",
             "linecolor": "white",
             "minorgridcolor": "white",
             "startlinecolor": "#2a3f5f"
            },
            "baxis": {
             "endlinecolor": "#2a3f5f",
             "gridcolor": "white",
             "linecolor": "white",
             "minorgridcolor": "white",
             "startlinecolor": "#2a3f5f"
            },
            "type": "carpet"
           }
          ],
          "choropleth": [
           {
            "colorbar": {
             "outlinewidth": 0,
             "ticks": ""
            },
            "type": "choropleth"
           }
          ],
          "contour": [
           {
            "colorbar": {
             "outlinewidth": 0,
             "ticks": ""
            },
            "colorscale": [
             [
              0,
              "#0d0887"
             ],
             [
              0.1111111111111111,
              "#46039f"
             ],
             [
              0.2222222222222222,
              "#7201a8"
             ],
             [
              0.3333333333333333,
              "#9c179e"
             ],
             [
              0.4444444444444444,
              "#bd3786"
             ],
             [
              0.5555555555555556,
              "#d8576b"
             ],
             [
              0.6666666666666666,
              "#ed7953"
             ],
             [
              0.7777777777777778,
              "#fb9f3a"
             ],
             [
              0.8888888888888888,
              "#fdca26"
             ],
             [
              1,
              "#f0f921"
             ]
            ],
            "type": "contour"
           }
          ],
          "contourcarpet": [
           {
            "colorbar": {
             "outlinewidth": 0,
             "ticks": ""
            },
            "type": "contourcarpet"
           }
          ],
          "heatmap": [
           {
            "colorbar": {
             "outlinewidth": 0,
             "ticks": ""
            },
            "colorscale": [
             [
              0,
              "#0d0887"
             ],
             [
              0.1111111111111111,
              "#46039f"
             ],
             [
              0.2222222222222222,
              "#7201a8"
             ],
             [
              0.3333333333333333,
              "#9c179e"
             ],
             [
              0.4444444444444444,
              "#bd3786"
             ],
             [
              0.5555555555555556,
              "#d8576b"
             ],
             [
              0.6666666666666666,
              "#ed7953"
             ],
             [
              0.7777777777777778,
              "#fb9f3a"
             ],
             [
              0.8888888888888888,
              "#fdca26"
             ],
             [
              1,
              "#f0f921"
             ]
            ],
            "type": "heatmap"
           }
          ],
          "heatmapgl": [
           {
            "colorbar": {
             "outlinewidth": 0,
             "ticks": ""
            },
            "colorscale": [
             [
              0,
              "#0d0887"
             ],
             [
              0.1111111111111111,
              "#46039f"
             ],
             [
              0.2222222222222222,
              "#7201a8"
             ],
             [
              0.3333333333333333,
              "#9c179e"
             ],
             [
              0.4444444444444444,
              "#bd3786"
             ],
             [
              0.5555555555555556,
              "#d8576b"
             ],
             [
              0.6666666666666666,
              "#ed7953"
             ],
             [
              0.7777777777777778,
              "#fb9f3a"
             ],
             [
              0.8888888888888888,
              "#fdca26"
             ],
             [
              1,
              "#f0f921"
             ]
            ],
            "type": "heatmapgl"
           }
          ],
          "histogram": [
           {
            "marker": {
             "pattern": {
              "fillmode": "overlay",
              "size": 10,
              "solidity": 0.2
             }
            },
            "type": "histogram"
           }
          ],
          "histogram2d": [
           {
            "colorbar": {
             "outlinewidth": 0,
             "ticks": ""
            },
            "colorscale": [
             [
              0,
              "#0d0887"
             ],
             [
              0.1111111111111111,
              "#46039f"
             ],
             [
              0.2222222222222222,
              "#7201a8"
             ],
             [
              0.3333333333333333,
              "#9c179e"
             ],
             [
              0.4444444444444444,
              "#bd3786"
             ],
             [
              0.5555555555555556,
              "#d8576b"
             ],
             [
              0.6666666666666666,
              "#ed7953"
             ],
             [
              0.7777777777777778,
              "#fb9f3a"
             ],
             [
              0.8888888888888888,
              "#fdca26"
             ],
             [
              1,
              "#f0f921"
             ]
            ],
            "type": "histogram2d"
           }
          ],
          "histogram2dcontour": [
           {
            "colorbar": {
             "outlinewidth": 0,
             "ticks": ""
            },
            "colorscale": [
             [
              0,
              "#0d0887"
             ],
             [
              0.1111111111111111,
              "#46039f"
             ],
             [
              0.2222222222222222,
              "#7201a8"
             ],
             [
              0.3333333333333333,
              "#9c179e"
             ],
             [
              0.4444444444444444,
              "#bd3786"
             ],
             [
              0.5555555555555556,
              "#d8576b"
             ],
             [
              0.6666666666666666,
              "#ed7953"
             ],
             [
              0.7777777777777778,
              "#fb9f3a"
             ],
             [
              0.8888888888888888,
              "#fdca26"
             ],
             [
              1,
              "#f0f921"
             ]
            ],
            "type": "histogram2dcontour"
           }
          ],
          "mesh3d": [
           {
            "colorbar": {
             "outlinewidth": 0,
             "ticks": ""
            },
            "type": "mesh3d"
           }
          ],
          "parcoords": [
           {
            "line": {
             "colorbar": {
              "outlinewidth": 0,
              "ticks": ""
             }
            },
            "type": "parcoords"
           }
          ],
          "pie": [
           {
            "automargin": true,
            "type": "pie"
           }
          ],
          "scatter": [
           {
            "fillpattern": {
             "fillmode": "overlay",
             "size": 10,
             "solidity": 0.2
            },
            "type": "scatter"
           }
          ],
          "scatter3d": [
           {
            "line": {
             "colorbar": {
              "outlinewidth": 0,
              "ticks": ""
             }
            },
            "marker": {
             "colorbar": {
              "outlinewidth": 0,
              "ticks": ""
             }
            },
            "type": "scatter3d"
           }
          ],
          "scattercarpet": [
           {
            "marker": {
             "colorbar": {
              "outlinewidth": 0,
              "ticks": ""
             }
            },
            "type": "scattercarpet"
           }
          ],
          "scattergeo": [
           {
            "marker": {
             "colorbar": {
              "outlinewidth": 0,
              "ticks": ""
             }
            },
            "type": "scattergeo"
           }
          ],
          "scattergl": [
           {
            "marker": {
             "colorbar": {
              "outlinewidth": 0,
              "ticks": ""
             }
            },
            "type": "scattergl"
           }
          ],
          "scattermapbox": [
           {
            "marker": {
             "colorbar": {
              "outlinewidth": 0,
              "ticks": ""
             }
            },
            "type": "scattermapbox"
           }
          ],
          "scatterpolar": [
           {
            "marker": {
             "colorbar": {
              "outlinewidth": 0,
              "ticks": ""
             }
            },
            "type": "scatterpolar"
           }
          ],
          "scatterpolargl": [
           {
            "marker": {
             "colorbar": {
              "outlinewidth": 0,
              "ticks": ""
             }
            },
            "type": "scatterpolargl"
           }
          ],
          "scatterternary": [
           {
            "marker": {
             "colorbar": {
              "outlinewidth": 0,
              "ticks": ""
             }
            },
            "type": "scatterternary"
           }
          ],
          "surface": [
           {
            "colorbar": {
             "outlinewidth": 0,
             "ticks": ""
            },
            "colorscale": [
             [
              0,
              "#0d0887"
             ],
             [
              0.1111111111111111,
              "#46039f"
             ],
             [
              0.2222222222222222,
              "#7201a8"
             ],
             [
              0.3333333333333333,
              "#9c179e"
             ],
             [
              0.4444444444444444,
              "#bd3786"
             ],
             [
              0.5555555555555556,
              "#d8576b"
             ],
             [
              0.6666666666666666,
              "#ed7953"
             ],
             [
              0.7777777777777778,
              "#fb9f3a"
             ],
             [
              0.8888888888888888,
              "#fdca26"
             ],
             [
              1,
              "#f0f921"
             ]
            ],
            "type": "surface"
           }
          ],
          "table": [
           {
            "cells": {
             "fill": {
              "color": "#EBF0F8"
             },
             "line": {
              "color": "white"
             }
            },
            "header": {
             "fill": {
              "color": "#C8D4E3"
             },
             "line": {
              "color": "white"
             }
            },
            "type": "table"
           }
          ]
         },
         "layout": {
          "annotationdefaults": {
           "arrowcolor": "#2a3f5f",
           "arrowhead": 0,
           "arrowwidth": 1
          },
          "autotypenumbers": "strict",
          "coloraxis": {
           "colorbar": {
            "outlinewidth": 0,
            "ticks": ""
           }
          },
          "colorscale": {
           "diverging": [
            [
             0,
             "#8e0152"
            ],
            [
             0.1,
             "#c51b7d"
            ],
            [
             0.2,
             "#de77ae"
            ],
            [
             0.3,
             "#f1b6da"
            ],
            [
             0.4,
             "#fde0ef"
            ],
            [
             0.5,
             "#f7f7f7"
            ],
            [
             0.6,
             "#e6f5d0"
            ],
            [
             0.7,
             "#b8e186"
            ],
            [
             0.8,
             "#7fbc41"
            ],
            [
             0.9,
             "#4d9221"
            ],
            [
             1,
             "#276419"
            ]
           ],
           "sequential": [
            [
             0,
             "#0d0887"
            ],
            [
             0.1111111111111111,
             "#46039f"
            ],
            [
             0.2222222222222222,
             "#7201a8"
            ],
            [
             0.3333333333333333,
             "#9c179e"
            ],
            [
             0.4444444444444444,
             "#bd3786"
            ],
            [
             0.5555555555555556,
             "#d8576b"
            ],
            [
             0.6666666666666666,
             "#ed7953"
            ],
            [
             0.7777777777777778,
             "#fb9f3a"
            ],
            [
             0.8888888888888888,
             "#fdca26"
            ],
            [
             1,
             "#f0f921"
            ]
           ],
           "sequentialminus": [
            [
             0,
             "#0d0887"
            ],
            [
             0.1111111111111111,
             "#46039f"
            ],
            [
             0.2222222222222222,
             "#7201a8"
            ],
            [
             0.3333333333333333,
             "#9c179e"
            ],
            [
             0.4444444444444444,
             "#bd3786"
            ],
            [
             0.5555555555555556,
             "#d8576b"
            ],
            [
             0.6666666666666666,
             "#ed7953"
            ],
            [
             0.7777777777777778,
             "#fb9f3a"
            ],
            [
             0.8888888888888888,
             "#fdca26"
            ],
            [
             1,
             "#f0f921"
            ]
           ]
          },
          "colorway": [
           "#636efa",
           "#EF553B",
           "#00cc96",
           "#ab63fa",
           "#FFA15A",
           "#19d3f3",
           "#FF6692",
           "#B6E880",
           "#FF97FF",
           "#FECB52"
          ],
          "font": {
           "color": "#2a3f5f"
          },
          "geo": {
           "bgcolor": "white",
           "lakecolor": "white",
           "landcolor": "#E5ECF6",
           "showlakes": true,
           "showland": true,
           "subunitcolor": "white"
          },
          "hoverlabel": {
           "align": "left"
          },
          "hovermode": "closest",
          "mapbox": {
           "style": "light"
          },
          "paper_bgcolor": "white",
          "plot_bgcolor": "#E5ECF6",
          "polar": {
           "angularaxis": {
            "gridcolor": "white",
            "linecolor": "white",
            "ticks": ""
           },
           "bgcolor": "#E5ECF6",
           "radialaxis": {
            "gridcolor": "white",
            "linecolor": "white",
            "ticks": ""
           }
          },
          "scene": {
           "xaxis": {
            "backgroundcolor": "#E5ECF6",
            "gridcolor": "white",
            "gridwidth": 2,
            "linecolor": "white",
            "showbackground": true,
            "ticks": "",
            "zerolinecolor": "white"
           },
           "yaxis": {
            "backgroundcolor": "#E5ECF6",
            "gridcolor": "white",
            "gridwidth": 2,
            "linecolor": "white",
            "showbackground": true,
            "ticks": "",
            "zerolinecolor": "white"
           },
           "zaxis": {
            "backgroundcolor": "#E5ECF6",
            "gridcolor": "white",
            "gridwidth": 2,
            "linecolor": "white",
            "showbackground": true,
            "ticks": "",
            "zerolinecolor": "white"
           }
          },
          "shapedefaults": {
           "line": {
            "color": "#2a3f5f"
           }
          },
          "ternary": {
           "aaxis": {
            "gridcolor": "white",
            "linecolor": "white",
            "ticks": ""
           },
           "baxis": {
            "gridcolor": "white",
            "linecolor": "white",
            "ticks": ""
           },
           "bgcolor": "#E5ECF6",
           "caxis": {
            "gridcolor": "white",
            "linecolor": "white",
            "ticks": ""
           }
          },
          "title": {
           "x": 0.05
          },
          "xaxis": {
           "automargin": true,
           "gridcolor": "white",
           "linecolor": "white",
           "ticks": "",
           "title": {
            "standoff": 15
           },
           "zerolinecolor": "white",
           "zerolinewidth": 2
          },
          "yaxis": {
           "automargin": true,
           "gridcolor": "white",
           "linecolor": "white",
           "ticks": "",
           "title": {
            "standoff": 15
           },
           "zerolinecolor": "white",
           "zerolinewidth": 2
          }
         }
        },
        "title": {
         "text": "MLR:Observed target vs Predicted target using train data"
        },
        "width": 800,
        "xaxis": {
         "title": {
          "text": "Observed consult_cost"
         }
        },
        "yaxis": {
         "title": {
          "text": "Predicted consult_cost"
         }
        }
       }
      }
     },
     "metadata": {},
     "output_type": "display_data"
    }
   ],
   "source": [
    "\n",
    "fig = go.Figure()\n",
    "\n",
    "# scatter plot using test data\n",
    "fig.add_trace(go.Scatter(y=y_train, x=linear_regression.predict(x_train), mode='markers', marker=dict(color='blue')))\n",
    "\n",
    "# diagonal line to represent predictions\n",
    "fig.add_trace(go.Scatter(y=y_train, x=y_train, mode='lines', line=dict(color='red')))\n",
    "\n",
    "fig.update_layout(title='MLR:Observed target vs Predicted target using train data', xaxis_title='Observed consult_cost', \n",
    "                  yaxis_title='Predicted consult_cost', width=800, height=500)\n",
    "fig.show()"
   ]
  },
  {
   "cell_type": "code",
   "execution_count": 746,
   "metadata": {},
   "outputs": [
    {
     "data": {
      "application/vnd.plotly.v1+json": {
       "config": {
        "plotlyServerURL": "https://plot.ly"
       },
       "data": [
        {
         "marker": {
          "color": "blue"
         },
         "mode": "markers",
         "type": "scatter",
         "x": [
          8.006231414510571,
          8.840359375548982,
          7.693433429121167,
          8.214763404770174,
          7.797699424250968,
          7.693433429121167,
          8.944625370678782,
          7.693433429121167,
          8.631827385289379,
          9.257423356068188,
          7.693433429121167,
          8.423295395029776,
          9.153157360938385,
          8.423295395029776,
          7.90196541938077,
          8.423295395029776,
          9.048891365808585,
          8.214763404770174,
          8.319029399899975,
          8.527561390159578,
          8.840359375548982,
          8.527561390159578,
          7.797699424250968,
          7.797699424250968,
          8.736093380419181,
          7.90196541938077,
          7.797699424250968,
          8.319029399899975,
          7.797699424250968,
          8.006231414510571,
          8.006231414510571,
          8.736093380419181,
          9.153157360938385,
          7.589167433991366,
          7.589167433991366,
          7.797699424250968,
          9.361689351197988,
          8.944625370678782,
          8.319029399899975,
          9.048891365808585,
          7.797699424250968,
          8.214763404770174,
          7.693433429121167,
          7.797699424250968,
          8.319029399899975,
          9.048891365808585,
          9.048891365808585,
          7.589167433991366,
          9.048891365808585,
          7.797699424250968,
          8.736093380419181,
          8.527561390159578,
          8.006231414510571,
          8.423295395029776,
          8.214763404770174,
          7.693433429121167,
          8.214763404770174,
          8.214763404770174,
          8.944625370678782,
          8.423295395029776,
          7.797699424250968,
          9.153157360938385,
          9.257423356068188,
          8.631827385289379,
          8.527561390159578,
          8.631827385289379,
          7.90196541938077,
          7.797699424250968,
          8.736093380419181,
          9.361689351197988,
          9.048891365808585,
          8.214763404770174,
          8.736093380419181,
          8.006231414510571,
          8.944625370678782,
          8.944625370678782,
          8.631827385289379,
          8.110497409640372,
          8.527561390159578,
          8.319029399899975,
          8.423295395029776,
          8.944625370678782,
          9.257423356068188,
          8.944625370678782,
          7.797699424250968,
          8.214763404770174,
          8.110497409640372,
          7.589167433991366,
          8.006231414510571,
          8.840359375548982,
          8.840359375548982,
          8.110497409640372,
          8.840359375548982,
          7.797699424250968,
          8.110497409640372,
          7.90196541938077,
          9.048891365808585,
          8.631827385289379,
          8.631827385289379,
          8.423295395029776,
          9.048891365808585,
          9.048891365808585,
          8.214763404770174,
          9.257423356068188,
          8.214763404770174,
          8.527561390159578,
          7.90196541938077,
          7.797699424250968,
          8.736093380419181,
          7.797699424250968,
          8.319029399899975,
          8.319029399899975,
          7.693433429121167,
          7.90196541938077,
          7.693433429121167,
          8.944625370678782,
          9.048891365808585,
          7.90196541938077,
          8.944625370678782,
          8.736093380419181,
          7.90196541938077,
          8.319029399899975,
          8.736093380419181,
          8.319029399899975,
          9.048891365808585,
          8.944625370678782,
          8.006231414510571,
          8.214763404770174,
          8.631827385289379,
          8.944625370678782,
          7.693433429121167,
          7.589167433991366,
          8.006231414510571,
          9.048891365808585,
          8.110497409640372,
          8.214763404770174,
          9.048891365808585,
          8.110497409640372,
          7.589167433991366,
          7.90196541938077,
          8.631827385289379,
          8.214763404770174,
          8.736093380419181,
          7.797699424250968,
          7.90196541938077,
          9.153157360938385,
          8.944625370678782,
          9.153157360938385,
          8.631827385289379,
          7.797699424250968,
          7.693433429121167,
          8.214763404770174,
          9.257423356068188,
          9.257423356068188,
          7.797699424250968,
          8.319029399899975,
          8.214763404770174,
          8.736093380419181,
          8.214763404770174,
          8.319029399899975,
          9.153157360938385,
          8.006231414510571,
          7.589167433991366,
          9.153157360938385,
          7.693433429121167,
          9.048891365808585,
          9.153157360938385,
          9.257423356068188,
          8.840359375548982,
          8.840359375548982,
          8.944625370678782,
          8.527561390159578,
          8.110497409640372,
          8.944625370678782,
          8.840359375548982,
          7.90196541938077,
          8.006231414510571,
          7.693433429121167,
          7.797699424250968,
          9.361689351197988,
          9.361689351197988,
          8.319029399899975,
          8.214763404770174,
          9.257423356068188,
          7.693433429121167,
          8.944625370678782,
          8.631827385289379,
          7.90196541938077,
          8.110497409640372,
          9.153157360938385,
          9.257423356068188,
          8.944625370678782,
          9.153157360938385,
          8.423295395029776,
          9.257423356068188,
          8.214763404770174,
          8.110497409640372,
          8.840359375548982,
          9.153157360938385,
          8.110497409640372,
          8.944625370678782,
          7.797699424250968,
          9.257423356068188,
          8.319029399899975,
          8.631827385289379,
          7.589167433991366,
          8.423295395029776,
          7.90196541938077,
          8.736093380419181,
          7.693433429121167,
          7.589167433991366,
          9.361689351197988,
          7.589167433991366,
          8.110497409640372,
          7.797699424250968,
          7.797699424250968,
          8.214763404770174,
          8.736093380419181,
          8.944625370678782,
          9.048891365808585,
          8.423295395029776,
          8.840359375548982,
          7.693433429121167,
          8.527561390159578,
          8.006231414510571,
          7.797699424250968,
          8.006231414510571,
          7.797699424250968,
          7.797699424250968,
          7.797699424250968,
          8.006231414510571,
          9.048891365808585,
          7.797699424250968,
          8.110497409640372,
          8.840359375548982,
          7.90196541938077,
          8.006231414510571,
          8.319029399899975,
          8.006231414510571,
          8.214763404770174,
          7.90196541938077,
          7.797699424250968,
          8.214763404770174,
          8.944625370678782,
          7.693433429121167,
          7.90196541938077,
          8.527561390159578,
          9.048891365808585,
          8.527561390159578,
          7.797699424250968,
          8.006231414510571,
          7.693433429121167,
          8.944625370678782,
          8.423295395029776,
          8.631827385289379,
          8.006231414510571,
          7.589167433991366,
          8.110497409640372,
          9.361689351197988,
          8.631827385289379,
          9.361689351197988,
          8.631827385289379,
          8.944625370678782,
          8.840359375548982,
          9.257423356068188,
          7.797699424250968,
          9.257423356068188,
          9.257423356068188,
          9.048891365808585,
          8.840359375548982,
          8.840359375548982,
          8.423295395029776,
          8.214763404770174,
          7.797699424250968,
          9.257423356068188,
          7.693433429121167,
          9.153157360938385,
          8.006231414510571,
          8.214763404770174,
          9.257423356068188,
          9.153157360938385,
          8.319029399899975,
          8.319029399899975,
          8.840359375548982,
          8.319029399899975,
          8.110497409640372,
          8.527561390159578,
          8.319029399899975,
          8.006231414510571,
          8.319029399899975,
          7.797699424250968,
          8.423295395029776,
          8.110497409640372,
          8.006231414510571,
          9.048891365808585,
          7.90196541938077,
          9.153157360938385,
          8.840359375548982,
          9.048891365808585,
          8.006231414510571,
          8.006231414510571,
          8.110497409640372,
          8.527561390159578,
          7.90196541938077,
          8.110497409640372,
          7.693433429121167,
          8.006231414510571,
          8.527561390159578,
          8.944625370678782,
          7.693433429121167,
          8.944625370678782,
          7.589167433991366,
          8.944625370678782,
          9.257423356068188,
          8.110497409640372,
          8.736093380419181,
          8.631827385289379,
          8.214763404770174,
          8.631827385289379,
          9.153157360938385,
          7.90196541938077,
          8.944625370678782,
          9.257423356068188,
          9.153157360938385,
          8.319029399899975,
          8.423295395029776,
          8.214763404770174,
          8.423295395029776,
          8.110497409640372,
          9.153157360938385,
          8.944625370678782,
          7.797699424250968,
          7.589167433991366,
          8.527561390159578,
          8.631827385289379,
          8.006231414510571,
          7.589167433991366,
          8.527561390159578,
          7.90196541938077,
          8.110497409640372,
          9.153157360938385,
          8.840359375548982,
          8.631827385289379,
          8.423295395029776,
          9.361689351197988,
          8.840359375548982,
          9.048891365808585,
          7.797699424250968,
          8.319029399899975,
          8.736093380419181,
          7.589167433991366,
          9.153157360938385,
          9.048891365808585,
          8.110497409640372,
          7.589167433991366,
          8.527561390159578,
          9.153157360938385,
          8.423295395029776,
          8.006231414510571,
          9.361689351197988,
          9.361689351197988,
          7.797699424250968,
          9.048891365808585,
          7.693433429121167,
          8.840359375548982,
          7.797699424250968,
          7.797699424250968,
          8.006231414510571,
          9.153157360938385,
          7.589167433991366,
          7.797699424250968,
          8.631827385289379,
          8.006231414510571,
          9.257423356068188,
          9.153157360938385,
          8.423295395029776,
          8.944625370678782,
          8.736093380419181,
          7.693433429121167,
          9.257423356068188,
          9.257423356068188,
          8.110497409640372,
          8.944625370678782,
          8.944625370678782,
          8.736093380419181,
          8.006231414510571,
          7.589167433991366,
          8.214763404770174,
          8.736093380419181,
          7.90196541938077,
          7.90196541938077,
          8.110497409640372,
          8.944625370678782,
          7.693433429121167,
          8.840359375548982,
          8.214763404770174,
          8.840359375548982,
          7.797699424250968,
          8.631827385289379,
          7.797699424250968,
          8.319029399899975,
          8.110497409640372,
          7.90196541938077,
          9.048891365808585,
          9.361689351197988,
          8.736093380419181,
          8.840359375548982,
          7.589167433991366,
          8.840359375548982,
          8.840359375548982,
          7.693433429121167,
          8.840359375548982,
          7.797699424250968,
          8.631827385289379,
          8.944625370678782,
          8.006231414510571
         ],
         "y": [
          8.160518247477505,
          8.987196820661973,
          7.170119543449628,
          8.476371196895983,
          7.438383530044307,
          7.170119543449628,
          9.011889433252344,
          7.24422751560335,
          8.83927669058535,
          9.20029003612268,
          7.24422751560335,
          8.68270762989381,
          9.126958763037132,
          8.68270762989381,
          7.783224016336037,
          8.575462099540212,
          9.0595174822416,
          8.389359819906353,
          8.594154232552366,
          8.794824928014517,
          8.948975607841776,
          8.732304571033183,
          7.649692623711514,
          7.090076835776092,
          8.895629627136483,
          7.90100705199242,
          7.549609165154532,
          8.594154232552366,
          7.649692623711514,
          8.131530710604252,
          8.006367567650246,
          8.881836305004146,
          9.137769679141348,
          7.170119543449628,
          7.24422751560335,
          7.696212639346407,
          9.259130536145614,
          9.035986984831405,
          8.594154232552366,
          9.035986984831405,
          7.438383530044307,
          8.496990484098719,
          7.170119543449628,
          7.495541943884256,
          8.594154232552366,
          9.02401079378469,
          9.082507000466299,
          7.170119543449628,
          9.071078304642676,
          7.003065458786462,
          8.895629627136483,
          8.732304571033183,
          8.101677747454572,
          8.575462099540212,
          8.517193191416238,
          7.170119543449628,
          8.476371196895983,
          8.517193191416238,
          9.011889433252344,
          8.68270762989381,
          7.313220387090301,
          9.137769679141348,
          9.169518377455928,
          8.824677891164198,
          8.764053269347762,
          8.83927669058535,
          8.006367567650246,
          7.495541943884256,
          8.895629627136483,
          9.230142999272362,
          9.071078304642676,
          8.45531778769815,
          8.895629627136483,
          8.160518247477505,
          9.011889433252344,
          9.02401079378469,
          8.824677891164198,
          8.294049640102028,
          8.764053269347762,
          8.575462099540212,
          8.699514748210191,
          9.02401079378469,
          9.20029003612268,
          9.035986984831405,
          7.649692623711514,
          8.517193191416238,
          8.131530710604252,
          7.003065458786462,
          7.783224016336037,
          8.974618038455112,
          8.935903526274423,
          8.34283980427146,
          8.987196820661973,
          7.313220387090301,
          8.34283980427146,
          7.8632667240095735,
          9.082507000466299,
          8.85366542803745,
          8.83927669058535,
          8.68270762989381,
          9.093806555720231,
          9.011889433252344,
          8.517193191416238,
          9.190137664658664,
          8.45531778769815,
          8.794824928014517,
          7.824046010856292,
          7.696212639346407,
          8.881836305004146,
          7.170119543449628,
          8.556413904569519,
          8.556413904569519,
          7.170119543449628,
          7.937374696163295,
          7.170119543449628,
          9.035986984831405,
          9.093806555720231,
          7.783224016336037,
          9.011889433252344,
          8.881836305004146,
          7.8632667240095735,
          8.556413904569519,
          8.909235279192261,
          8.594154232552366,
          9.093806555720231,
          8.935903526274423,
          8.101677747454572,
          8.496990484098719,
          8.824677891164198,
          9.035986984831405,
          7.090076835776092,
          7.24422751560335,
          8.160518247477505,
          9.093806555720231,
          8.34283980427146,
          8.45531778769815,
          9.0595174822416,
          8.268731832117737,
          7.24422751560335,
          7.824046010856292,
          8.85366542803745,
          8.389359819906353,
          8.881836305004146,
          7.696212639346407,
          7.824046010856292,
          9.116029692504942,
          9.011889433252344,
          9.148464968258095,
          8.85366542803745,
          7.003065458786462,
          7.090076835776092,
          8.496990484098719,
          9.20029003612268,
          9.169518377455928,
          7.495541943884256,
          8.594154232552366,
          8.411832675758411,
          8.909235279192261,
          8.411832675758411,
          8.575462099540212,
          9.126958763037132,
          8.160518247477505,
          7.003065458786462,
          9.148464968258095,
          7.090076835776092,
          9.071078304642676,
          9.137769679141348,
          9.190137664658664,
          8.974618038455112,
          8.961879012677683,
          9.011889433252344,
          8.794824928014517,
          8.294049640102028,
          8.948975607841776,
          8.961879012677683,
          7.696212639346407,
          8.131530710604252,
          7.24422751560335,
          7.24422751560335,
          9.230142999272362,
          9.20029003612268,
          8.556413904569519,
          8.45531778769815,
          9.179881164491475,
          7.313220387090301,
          9.035986984831405,
          8.824677891164198,
          7.696212639346407,
          8.268731832117737,
          9.137769679141348,
          9.169518377455928,
          9.02401079378469,
          9.137769679141348,
          8.630521876723241,
          9.116029692504942,
          8.411832675758411,
          8.34283980427146,
          8.881836305004146,
          9.093806555720231,
          8.294049640102028,
          9.035986984831405,
          7.438383530044307,
          9.169518377455928,
          8.556413904569519,
          8.824677891164198,
          7.003065458786462,
          8.66561319653451,
          7.9724660159745655,
          8.895629627136483,
          7.170119543449628,
          7.24422751560335,
          9.230142999272362,
          7.24422751560335,
          8.318742252692399,
          7.649692623711514,
          7.649692623711514,
          8.476371196895983,
          8.895629627136483,
          9.035986984831405,
          9.035986984831405,
          8.648221453822641,
          8.948975607841776,
          7.313220387090301,
          8.748304912379623,
          8.101677747454572,
          7.600902459542082,
          8.131530710604252,
          7.696212639346407,
          7.438383530044307,
          7.649692623711514,
          8.101677747454572,
          9.035986984831405,
          7.313220387090301,
          8.242756345714477,
          8.895629627136483,
          7.9724660159745655,
          8.131530710604252,
          8.575462099540212,
          8.006367567650246,
          8.45531778769815,
          7.600902459542082,
          7.438383530044307,
          8.389359819906353,
          9.02401079378469,
          7.170119543449628,
          7.824046010856292,
          8.764053269347762,
          9.082507000466299,
          8.748304912379623,
          7.696212639346407,
          8.101677747454572,
          7.24422751560335,
          9.035986984831405,
          8.66561319653451,
          8.85366542803745,
          8.101677747454572,
          7.313220387090301,
          8.34283980427146,
          9.190137664658664,
          8.83927669058535,
          9.230142999272362,
          8.824677891164198,
          8.935903526274423,
          8.948975607841776,
          9.169518377455928,
          7.549609165154532,
          9.179881164491475,
          9.126958763037132,
          9.071078304642676,
          8.974618038455112,
          8.987196820661973,
          8.66561319653451,
          8.496990484098719,
          7.438383530044307,
          9.190137664658664,
          7.170119543449628,
          9.116029692504942,
          8.160518247477505,
          8.496990484098719,
          9.116029692504942,
          9.137769679141348,
          8.556413904569519,
          8.594154232552366,
          8.987196820661973,
          8.575462099540212,
          8.34283980427146,
          8.764053269347762,
          8.575462099540212,
          8.101677747454572,
          8.594154232552366,
          7.438383530044307,
          8.68270762989381,
          8.294049640102028,
          8.160518247477505,
          9.082507000466299,
          7.937374696163295,
          9.148464968258095,
          8.948975607841776,
          9.011889433252344,
          8.101677747454572,
          8.160518247477505,
          8.34283980427146,
          8.748304912379623,
          7.649692623711514,
          8.34283980427146,
          7.003065458786462,
          8.160518247477505,
          8.648221453822641,
          9.02401079378469,
          7.090076835776092,
          8.987196820661973,
          7.090076835776092,
          8.935903526274423,
          9.137769679141348,
          8.101677747454572,
          8.881836305004146,
          8.824677891164198,
          8.411832675758411,
          8.824677891164198,
          9.148464968258095,
          7.90100705199242,
          9.035986984831405,
          9.20029003612268,
          9.0595174822416,
          8.556413904569519,
          8.630521876723241,
          8.476371196895983,
          8.66561319653451,
          8.242756345714477,
          9.116029692504942,
          9.035986984831405,
          7.549609165154532,
          7.24422751560335,
          8.764053269347762,
          8.824677891164198,
          8.101677747454572,
          7.170119543449628,
          8.794824928014517,
          7.8632667240095735,
          8.294049640102028,
          9.137769679141348,
          8.961879012677683,
          8.85366542803745,
          8.699514748210191,
          9.259130536145614,
          8.948975607841776,
          9.02401079378469,
          7.600902459542082,
          8.556413904569519,
          8.881836305004146,
          7.090076835776092,
          9.126958763037132,
          9.082507000466299,
          8.294049640102028,
          7.313220387090301,
          8.648221453822641,
          9.093806555720231,
          8.699514748210191,
          7.824046010856292,
          9.249561085129464,
          9.20029003612268,
          7.549609165154532,
          9.011889433252344,
          7.170119543449628,
          8.974618038455112,
          7.438383530044307,
          7.090076835776092,
          8.160518247477505,
          9.116029692504942,
          7.24422751560335,
          7.438383530044307,
          8.794824928014517,
          8.131530710604252,
          9.190137664658664,
          9.116029692504942,
          8.630521876723241,
          8.974618038455112,
          8.909235279192261,
          7.003065458786462,
          9.148464968258095,
          9.148464968258095,
          8.318742252692399,
          9.035986984831405,
          8.935903526274423,
          8.881836305004146,
          8.101677747454572,
          7.090076835776092,
          8.433811582477187,
          8.895629627136483,
          8.006367567650246,
          7.824046010856292,
          8.294049640102028,
          9.02401079378469,
          7.313220387090301,
          8.935903526274423,
          8.411832675758411,
          8.948975607841776,
          7.495541943884256,
          8.83927669058535,
          7.313220387090301,
          8.556413904569519,
          8.242756345714477,
          7.783224016336037,
          9.082507000466299,
          9.259130536145614,
          8.895629627136483,
          8.987196820661973,
          7.170119543449628,
          8.895629627136483,
          8.974618038455112,
          7.313220387090301,
          8.948975607841776,
          7.495541943884256,
          8.824677891164198,
          9.011889433252344,
          8.101677747454572
         ]
        },
        {
         "line": {
          "color": "red"
         },
         "mode": "lines",
         "type": "scatter",
         "x": [
          8.160518247477505,
          8.987196820661973,
          7.170119543449628,
          8.476371196895983,
          7.438383530044307,
          7.170119543449628,
          9.011889433252344,
          7.24422751560335,
          8.83927669058535,
          9.20029003612268,
          7.24422751560335,
          8.68270762989381,
          9.126958763037132,
          8.68270762989381,
          7.783224016336037,
          8.575462099540212,
          9.0595174822416,
          8.389359819906353,
          8.594154232552366,
          8.794824928014517,
          8.948975607841776,
          8.732304571033183,
          7.649692623711514,
          7.090076835776092,
          8.895629627136483,
          7.90100705199242,
          7.549609165154532,
          8.594154232552366,
          7.649692623711514,
          8.131530710604252,
          8.006367567650246,
          8.881836305004146,
          9.137769679141348,
          7.170119543449628,
          7.24422751560335,
          7.696212639346407,
          9.259130536145614,
          9.035986984831405,
          8.594154232552366,
          9.035986984831405,
          7.438383530044307,
          8.496990484098719,
          7.170119543449628,
          7.495541943884256,
          8.594154232552366,
          9.02401079378469,
          9.082507000466299,
          7.170119543449628,
          9.071078304642676,
          7.003065458786462,
          8.895629627136483,
          8.732304571033183,
          8.101677747454572,
          8.575462099540212,
          8.517193191416238,
          7.170119543449628,
          8.476371196895983,
          8.517193191416238,
          9.011889433252344,
          8.68270762989381,
          7.313220387090301,
          9.137769679141348,
          9.169518377455928,
          8.824677891164198,
          8.764053269347762,
          8.83927669058535,
          8.006367567650246,
          7.495541943884256,
          8.895629627136483,
          9.230142999272362,
          9.071078304642676,
          8.45531778769815,
          8.895629627136483,
          8.160518247477505,
          9.011889433252344,
          9.02401079378469,
          8.824677891164198,
          8.294049640102028,
          8.764053269347762,
          8.575462099540212,
          8.699514748210191,
          9.02401079378469,
          9.20029003612268,
          9.035986984831405,
          7.649692623711514,
          8.517193191416238,
          8.131530710604252,
          7.003065458786462,
          7.783224016336037,
          8.974618038455112,
          8.935903526274423,
          8.34283980427146,
          8.987196820661973,
          7.313220387090301,
          8.34283980427146,
          7.8632667240095735,
          9.082507000466299,
          8.85366542803745,
          8.83927669058535,
          8.68270762989381,
          9.093806555720231,
          9.011889433252344,
          8.517193191416238,
          9.190137664658664,
          8.45531778769815,
          8.794824928014517,
          7.824046010856292,
          7.696212639346407,
          8.881836305004146,
          7.170119543449628,
          8.556413904569519,
          8.556413904569519,
          7.170119543449628,
          7.937374696163295,
          7.170119543449628,
          9.035986984831405,
          9.093806555720231,
          7.783224016336037,
          9.011889433252344,
          8.881836305004146,
          7.8632667240095735,
          8.556413904569519,
          8.909235279192261,
          8.594154232552366,
          9.093806555720231,
          8.935903526274423,
          8.101677747454572,
          8.496990484098719,
          8.824677891164198,
          9.035986984831405,
          7.090076835776092,
          7.24422751560335,
          8.160518247477505,
          9.093806555720231,
          8.34283980427146,
          8.45531778769815,
          9.0595174822416,
          8.268731832117737,
          7.24422751560335,
          7.824046010856292,
          8.85366542803745,
          8.389359819906353,
          8.881836305004146,
          7.696212639346407,
          7.824046010856292,
          9.116029692504942,
          9.011889433252344,
          9.148464968258095,
          8.85366542803745,
          7.003065458786462,
          7.090076835776092,
          8.496990484098719,
          9.20029003612268,
          9.169518377455928,
          7.495541943884256,
          8.594154232552366,
          8.411832675758411,
          8.909235279192261,
          8.411832675758411,
          8.575462099540212,
          9.126958763037132,
          8.160518247477505,
          7.003065458786462,
          9.148464968258095,
          7.090076835776092,
          9.071078304642676,
          9.137769679141348,
          9.190137664658664,
          8.974618038455112,
          8.961879012677683,
          9.011889433252344,
          8.794824928014517,
          8.294049640102028,
          8.948975607841776,
          8.961879012677683,
          7.696212639346407,
          8.131530710604252,
          7.24422751560335,
          7.24422751560335,
          9.230142999272362,
          9.20029003612268,
          8.556413904569519,
          8.45531778769815,
          9.179881164491475,
          7.313220387090301,
          9.035986984831405,
          8.824677891164198,
          7.696212639346407,
          8.268731832117737,
          9.137769679141348,
          9.169518377455928,
          9.02401079378469,
          9.137769679141348,
          8.630521876723241,
          9.116029692504942,
          8.411832675758411,
          8.34283980427146,
          8.881836305004146,
          9.093806555720231,
          8.294049640102028,
          9.035986984831405,
          7.438383530044307,
          9.169518377455928,
          8.556413904569519,
          8.824677891164198,
          7.003065458786462,
          8.66561319653451,
          7.9724660159745655,
          8.895629627136483,
          7.170119543449628,
          7.24422751560335,
          9.230142999272362,
          7.24422751560335,
          8.318742252692399,
          7.649692623711514,
          7.649692623711514,
          8.476371196895983,
          8.895629627136483,
          9.035986984831405,
          9.035986984831405,
          8.648221453822641,
          8.948975607841776,
          7.313220387090301,
          8.748304912379623,
          8.101677747454572,
          7.600902459542082,
          8.131530710604252,
          7.696212639346407,
          7.438383530044307,
          7.649692623711514,
          8.101677747454572,
          9.035986984831405,
          7.313220387090301,
          8.242756345714477,
          8.895629627136483,
          7.9724660159745655,
          8.131530710604252,
          8.575462099540212,
          8.006367567650246,
          8.45531778769815,
          7.600902459542082,
          7.438383530044307,
          8.389359819906353,
          9.02401079378469,
          7.170119543449628,
          7.824046010856292,
          8.764053269347762,
          9.082507000466299,
          8.748304912379623,
          7.696212639346407,
          8.101677747454572,
          7.24422751560335,
          9.035986984831405,
          8.66561319653451,
          8.85366542803745,
          8.101677747454572,
          7.313220387090301,
          8.34283980427146,
          9.190137664658664,
          8.83927669058535,
          9.230142999272362,
          8.824677891164198,
          8.935903526274423,
          8.948975607841776,
          9.169518377455928,
          7.549609165154532,
          9.179881164491475,
          9.126958763037132,
          9.071078304642676,
          8.974618038455112,
          8.987196820661973,
          8.66561319653451,
          8.496990484098719,
          7.438383530044307,
          9.190137664658664,
          7.170119543449628,
          9.116029692504942,
          8.160518247477505,
          8.496990484098719,
          9.116029692504942,
          9.137769679141348,
          8.556413904569519,
          8.594154232552366,
          8.987196820661973,
          8.575462099540212,
          8.34283980427146,
          8.764053269347762,
          8.575462099540212,
          8.101677747454572,
          8.594154232552366,
          7.438383530044307,
          8.68270762989381,
          8.294049640102028,
          8.160518247477505,
          9.082507000466299,
          7.937374696163295,
          9.148464968258095,
          8.948975607841776,
          9.011889433252344,
          8.101677747454572,
          8.160518247477505,
          8.34283980427146,
          8.748304912379623,
          7.649692623711514,
          8.34283980427146,
          7.003065458786462,
          8.160518247477505,
          8.648221453822641,
          9.02401079378469,
          7.090076835776092,
          8.987196820661973,
          7.090076835776092,
          8.935903526274423,
          9.137769679141348,
          8.101677747454572,
          8.881836305004146,
          8.824677891164198,
          8.411832675758411,
          8.824677891164198,
          9.148464968258095,
          7.90100705199242,
          9.035986984831405,
          9.20029003612268,
          9.0595174822416,
          8.556413904569519,
          8.630521876723241,
          8.476371196895983,
          8.66561319653451,
          8.242756345714477,
          9.116029692504942,
          9.035986984831405,
          7.549609165154532,
          7.24422751560335,
          8.764053269347762,
          8.824677891164198,
          8.101677747454572,
          7.170119543449628,
          8.794824928014517,
          7.8632667240095735,
          8.294049640102028,
          9.137769679141348,
          8.961879012677683,
          8.85366542803745,
          8.699514748210191,
          9.259130536145614,
          8.948975607841776,
          9.02401079378469,
          7.600902459542082,
          8.556413904569519,
          8.881836305004146,
          7.090076835776092,
          9.126958763037132,
          9.082507000466299,
          8.294049640102028,
          7.313220387090301,
          8.648221453822641,
          9.093806555720231,
          8.699514748210191,
          7.824046010856292,
          9.249561085129464,
          9.20029003612268,
          7.549609165154532,
          9.011889433252344,
          7.170119543449628,
          8.974618038455112,
          7.438383530044307,
          7.090076835776092,
          8.160518247477505,
          9.116029692504942,
          7.24422751560335,
          7.438383530044307,
          8.794824928014517,
          8.131530710604252,
          9.190137664658664,
          9.116029692504942,
          8.630521876723241,
          8.974618038455112,
          8.909235279192261,
          7.003065458786462,
          9.148464968258095,
          9.148464968258095,
          8.318742252692399,
          9.035986984831405,
          8.935903526274423,
          8.881836305004146,
          8.101677747454572,
          7.090076835776092,
          8.433811582477187,
          8.895629627136483,
          8.006367567650246,
          7.824046010856292,
          8.294049640102028,
          9.02401079378469,
          7.313220387090301,
          8.935903526274423,
          8.411832675758411,
          8.948975607841776,
          7.495541943884256,
          8.83927669058535,
          7.313220387090301,
          8.556413904569519,
          8.242756345714477,
          7.783224016336037,
          9.082507000466299,
          9.259130536145614,
          8.895629627136483,
          8.987196820661973,
          7.170119543449628,
          8.895629627136483,
          8.974618038455112,
          7.313220387090301,
          8.948975607841776,
          7.495541943884256,
          8.824677891164198,
          9.011889433252344,
          8.101677747454572
         ],
         "y": [
          8.160518247477505,
          8.987196820661973,
          7.170119543449628,
          8.476371196895983,
          7.438383530044307,
          7.170119543449628,
          9.011889433252344,
          7.24422751560335,
          8.83927669058535,
          9.20029003612268,
          7.24422751560335,
          8.68270762989381,
          9.126958763037132,
          8.68270762989381,
          7.783224016336037,
          8.575462099540212,
          9.0595174822416,
          8.389359819906353,
          8.594154232552366,
          8.794824928014517,
          8.948975607841776,
          8.732304571033183,
          7.649692623711514,
          7.090076835776092,
          8.895629627136483,
          7.90100705199242,
          7.549609165154532,
          8.594154232552366,
          7.649692623711514,
          8.131530710604252,
          8.006367567650246,
          8.881836305004146,
          9.137769679141348,
          7.170119543449628,
          7.24422751560335,
          7.696212639346407,
          9.259130536145614,
          9.035986984831405,
          8.594154232552366,
          9.035986984831405,
          7.438383530044307,
          8.496990484098719,
          7.170119543449628,
          7.495541943884256,
          8.594154232552366,
          9.02401079378469,
          9.082507000466299,
          7.170119543449628,
          9.071078304642676,
          7.003065458786462,
          8.895629627136483,
          8.732304571033183,
          8.101677747454572,
          8.575462099540212,
          8.517193191416238,
          7.170119543449628,
          8.476371196895983,
          8.517193191416238,
          9.011889433252344,
          8.68270762989381,
          7.313220387090301,
          9.137769679141348,
          9.169518377455928,
          8.824677891164198,
          8.764053269347762,
          8.83927669058535,
          8.006367567650246,
          7.495541943884256,
          8.895629627136483,
          9.230142999272362,
          9.071078304642676,
          8.45531778769815,
          8.895629627136483,
          8.160518247477505,
          9.011889433252344,
          9.02401079378469,
          8.824677891164198,
          8.294049640102028,
          8.764053269347762,
          8.575462099540212,
          8.699514748210191,
          9.02401079378469,
          9.20029003612268,
          9.035986984831405,
          7.649692623711514,
          8.517193191416238,
          8.131530710604252,
          7.003065458786462,
          7.783224016336037,
          8.974618038455112,
          8.935903526274423,
          8.34283980427146,
          8.987196820661973,
          7.313220387090301,
          8.34283980427146,
          7.8632667240095735,
          9.082507000466299,
          8.85366542803745,
          8.83927669058535,
          8.68270762989381,
          9.093806555720231,
          9.011889433252344,
          8.517193191416238,
          9.190137664658664,
          8.45531778769815,
          8.794824928014517,
          7.824046010856292,
          7.696212639346407,
          8.881836305004146,
          7.170119543449628,
          8.556413904569519,
          8.556413904569519,
          7.170119543449628,
          7.937374696163295,
          7.170119543449628,
          9.035986984831405,
          9.093806555720231,
          7.783224016336037,
          9.011889433252344,
          8.881836305004146,
          7.8632667240095735,
          8.556413904569519,
          8.909235279192261,
          8.594154232552366,
          9.093806555720231,
          8.935903526274423,
          8.101677747454572,
          8.496990484098719,
          8.824677891164198,
          9.035986984831405,
          7.090076835776092,
          7.24422751560335,
          8.160518247477505,
          9.093806555720231,
          8.34283980427146,
          8.45531778769815,
          9.0595174822416,
          8.268731832117737,
          7.24422751560335,
          7.824046010856292,
          8.85366542803745,
          8.389359819906353,
          8.881836305004146,
          7.696212639346407,
          7.824046010856292,
          9.116029692504942,
          9.011889433252344,
          9.148464968258095,
          8.85366542803745,
          7.003065458786462,
          7.090076835776092,
          8.496990484098719,
          9.20029003612268,
          9.169518377455928,
          7.495541943884256,
          8.594154232552366,
          8.411832675758411,
          8.909235279192261,
          8.411832675758411,
          8.575462099540212,
          9.126958763037132,
          8.160518247477505,
          7.003065458786462,
          9.148464968258095,
          7.090076835776092,
          9.071078304642676,
          9.137769679141348,
          9.190137664658664,
          8.974618038455112,
          8.961879012677683,
          9.011889433252344,
          8.794824928014517,
          8.294049640102028,
          8.948975607841776,
          8.961879012677683,
          7.696212639346407,
          8.131530710604252,
          7.24422751560335,
          7.24422751560335,
          9.230142999272362,
          9.20029003612268,
          8.556413904569519,
          8.45531778769815,
          9.179881164491475,
          7.313220387090301,
          9.035986984831405,
          8.824677891164198,
          7.696212639346407,
          8.268731832117737,
          9.137769679141348,
          9.169518377455928,
          9.02401079378469,
          9.137769679141348,
          8.630521876723241,
          9.116029692504942,
          8.411832675758411,
          8.34283980427146,
          8.881836305004146,
          9.093806555720231,
          8.294049640102028,
          9.035986984831405,
          7.438383530044307,
          9.169518377455928,
          8.556413904569519,
          8.824677891164198,
          7.003065458786462,
          8.66561319653451,
          7.9724660159745655,
          8.895629627136483,
          7.170119543449628,
          7.24422751560335,
          9.230142999272362,
          7.24422751560335,
          8.318742252692399,
          7.649692623711514,
          7.649692623711514,
          8.476371196895983,
          8.895629627136483,
          9.035986984831405,
          9.035986984831405,
          8.648221453822641,
          8.948975607841776,
          7.313220387090301,
          8.748304912379623,
          8.101677747454572,
          7.600902459542082,
          8.131530710604252,
          7.696212639346407,
          7.438383530044307,
          7.649692623711514,
          8.101677747454572,
          9.035986984831405,
          7.313220387090301,
          8.242756345714477,
          8.895629627136483,
          7.9724660159745655,
          8.131530710604252,
          8.575462099540212,
          8.006367567650246,
          8.45531778769815,
          7.600902459542082,
          7.438383530044307,
          8.389359819906353,
          9.02401079378469,
          7.170119543449628,
          7.824046010856292,
          8.764053269347762,
          9.082507000466299,
          8.748304912379623,
          7.696212639346407,
          8.101677747454572,
          7.24422751560335,
          9.035986984831405,
          8.66561319653451,
          8.85366542803745,
          8.101677747454572,
          7.313220387090301,
          8.34283980427146,
          9.190137664658664,
          8.83927669058535,
          9.230142999272362,
          8.824677891164198,
          8.935903526274423,
          8.948975607841776,
          9.169518377455928,
          7.549609165154532,
          9.179881164491475,
          9.126958763037132,
          9.071078304642676,
          8.974618038455112,
          8.987196820661973,
          8.66561319653451,
          8.496990484098719,
          7.438383530044307,
          9.190137664658664,
          7.170119543449628,
          9.116029692504942,
          8.160518247477505,
          8.496990484098719,
          9.116029692504942,
          9.137769679141348,
          8.556413904569519,
          8.594154232552366,
          8.987196820661973,
          8.575462099540212,
          8.34283980427146,
          8.764053269347762,
          8.575462099540212,
          8.101677747454572,
          8.594154232552366,
          7.438383530044307,
          8.68270762989381,
          8.294049640102028,
          8.160518247477505,
          9.082507000466299,
          7.937374696163295,
          9.148464968258095,
          8.948975607841776,
          9.011889433252344,
          8.101677747454572,
          8.160518247477505,
          8.34283980427146,
          8.748304912379623,
          7.649692623711514,
          8.34283980427146,
          7.003065458786462,
          8.160518247477505,
          8.648221453822641,
          9.02401079378469,
          7.090076835776092,
          8.987196820661973,
          7.090076835776092,
          8.935903526274423,
          9.137769679141348,
          8.101677747454572,
          8.881836305004146,
          8.824677891164198,
          8.411832675758411,
          8.824677891164198,
          9.148464968258095,
          7.90100705199242,
          9.035986984831405,
          9.20029003612268,
          9.0595174822416,
          8.556413904569519,
          8.630521876723241,
          8.476371196895983,
          8.66561319653451,
          8.242756345714477,
          9.116029692504942,
          9.035986984831405,
          7.549609165154532,
          7.24422751560335,
          8.764053269347762,
          8.824677891164198,
          8.101677747454572,
          7.170119543449628,
          8.794824928014517,
          7.8632667240095735,
          8.294049640102028,
          9.137769679141348,
          8.961879012677683,
          8.85366542803745,
          8.699514748210191,
          9.259130536145614,
          8.948975607841776,
          9.02401079378469,
          7.600902459542082,
          8.556413904569519,
          8.881836305004146,
          7.090076835776092,
          9.126958763037132,
          9.082507000466299,
          8.294049640102028,
          7.313220387090301,
          8.648221453822641,
          9.093806555720231,
          8.699514748210191,
          7.824046010856292,
          9.249561085129464,
          9.20029003612268,
          7.549609165154532,
          9.011889433252344,
          7.170119543449628,
          8.974618038455112,
          7.438383530044307,
          7.090076835776092,
          8.160518247477505,
          9.116029692504942,
          7.24422751560335,
          7.438383530044307,
          8.794824928014517,
          8.131530710604252,
          9.190137664658664,
          9.116029692504942,
          8.630521876723241,
          8.974618038455112,
          8.909235279192261,
          7.003065458786462,
          9.148464968258095,
          9.148464968258095,
          8.318742252692399,
          9.035986984831405,
          8.935903526274423,
          8.881836305004146,
          8.101677747454572,
          7.090076835776092,
          8.433811582477187,
          8.895629627136483,
          8.006367567650246,
          7.824046010856292,
          8.294049640102028,
          9.02401079378469,
          7.313220387090301,
          8.935903526274423,
          8.411832675758411,
          8.948975607841776,
          7.495541943884256,
          8.83927669058535,
          7.313220387090301,
          8.556413904569519,
          8.242756345714477,
          7.783224016336037,
          9.082507000466299,
          9.259130536145614,
          8.895629627136483,
          8.987196820661973,
          7.170119543449628,
          8.895629627136483,
          8.974618038455112,
          7.313220387090301,
          8.948975607841776,
          7.495541943884256,
          8.824677891164198,
          9.011889433252344,
          8.101677747454572
         ]
        }
       ],
       "layout": {
        "height": 500,
        "template": {
         "data": {
          "bar": [
           {
            "error_x": {
             "color": "#2a3f5f"
            },
            "error_y": {
             "color": "#2a3f5f"
            },
            "marker": {
             "line": {
              "color": "#E5ECF6",
              "width": 0.5
             },
             "pattern": {
              "fillmode": "overlay",
              "size": 10,
              "solidity": 0.2
             }
            },
            "type": "bar"
           }
          ],
          "barpolar": [
           {
            "marker": {
             "line": {
              "color": "#E5ECF6",
              "width": 0.5
             },
             "pattern": {
              "fillmode": "overlay",
              "size": 10,
              "solidity": 0.2
             }
            },
            "type": "barpolar"
           }
          ],
          "carpet": [
           {
            "aaxis": {
             "endlinecolor": "#2a3f5f",
             "gridcolor": "white",
             "linecolor": "white",
             "minorgridcolor": "white",
             "startlinecolor": "#2a3f5f"
            },
            "baxis": {
             "endlinecolor": "#2a3f5f",
             "gridcolor": "white",
             "linecolor": "white",
             "minorgridcolor": "white",
             "startlinecolor": "#2a3f5f"
            },
            "type": "carpet"
           }
          ],
          "choropleth": [
           {
            "colorbar": {
             "outlinewidth": 0,
             "ticks": ""
            },
            "type": "choropleth"
           }
          ],
          "contour": [
           {
            "colorbar": {
             "outlinewidth": 0,
             "ticks": ""
            },
            "colorscale": [
             [
              0,
              "#0d0887"
             ],
             [
              0.1111111111111111,
              "#46039f"
             ],
             [
              0.2222222222222222,
              "#7201a8"
             ],
             [
              0.3333333333333333,
              "#9c179e"
             ],
             [
              0.4444444444444444,
              "#bd3786"
             ],
             [
              0.5555555555555556,
              "#d8576b"
             ],
             [
              0.6666666666666666,
              "#ed7953"
             ],
             [
              0.7777777777777778,
              "#fb9f3a"
             ],
             [
              0.8888888888888888,
              "#fdca26"
             ],
             [
              1,
              "#f0f921"
             ]
            ],
            "type": "contour"
           }
          ],
          "contourcarpet": [
           {
            "colorbar": {
             "outlinewidth": 0,
             "ticks": ""
            },
            "type": "contourcarpet"
           }
          ],
          "heatmap": [
           {
            "colorbar": {
             "outlinewidth": 0,
             "ticks": ""
            },
            "colorscale": [
             [
              0,
              "#0d0887"
             ],
             [
              0.1111111111111111,
              "#46039f"
             ],
             [
              0.2222222222222222,
              "#7201a8"
             ],
             [
              0.3333333333333333,
              "#9c179e"
             ],
             [
              0.4444444444444444,
              "#bd3786"
             ],
             [
              0.5555555555555556,
              "#d8576b"
             ],
             [
              0.6666666666666666,
              "#ed7953"
             ],
             [
              0.7777777777777778,
              "#fb9f3a"
             ],
             [
              0.8888888888888888,
              "#fdca26"
             ],
             [
              1,
              "#f0f921"
             ]
            ],
            "type": "heatmap"
           }
          ],
          "heatmapgl": [
           {
            "colorbar": {
             "outlinewidth": 0,
             "ticks": ""
            },
            "colorscale": [
             [
              0,
              "#0d0887"
             ],
             [
              0.1111111111111111,
              "#46039f"
             ],
             [
              0.2222222222222222,
              "#7201a8"
             ],
             [
              0.3333333333333333,
              "#9c179e"
             ],
             [
              0.4444444444444444,
              "#bd3786"
             ],
             [
              0.5555555555555556,
              "#d8576b"
             ],
             [
              0.6666666666666666,
              "#ed7953"
             ],
             [
              0.7777777777777778,
              "#fb9f3a"
             ],
             [
              0.8888888888888888,
              "#fdca26"
             ],
             [
              1,
              "#f0f921"
             ]
            ],
            "type": "heatmapgl"
           }
          ],
          "histogram": [
           {
            "marker": {
             "pattern": {
              "fillmode": "overlay",
              "size": 10,
              "solidity": 0.2
             }
            },
            "type": "histogram"
           }
          ],
          "histogram2d": [
           {
            "colorbar": {
             "outlinewidth": 0,
             "ticks": ""
            },
            "colorscale": [
             [
              0,
              "#0d0887"
             ],
             [
              0.1111111111111111,
              "#46039f"
             ],
             [
              0.2222222222222222,
              "#7201a8"
             ],
             [
              0.3333333333333333,
              "#9c179e"
             ],
             [
              0.4444444444444444,
              "#bd3786"
             ],
             [
              0.5555555555555556,
              "#d8576b"
             ],
             [
              0.6666666666666666,
              "#ed7953"
             ],
             [
              0.7777777777777778,
              "#fb9f3a"
             ],
             [
              0.8888888888888888,
              "#fdca26"
             ],
             [
              1,
              "#f0f921"
             ]
            ],
            "type": "histogram2d"
           }
          ],
          "histogram2dcontour": [
           {
            "colorbar": {
             "outlinewidth": 0,
             "ticks": ""
            },
            "colorscale": [
             [
              0,
              "#0d0887"
             ],
             [
              0.1111111111111111,
              "#46039f"
             ],
             [
              0.2222222222222222,
              "#7201a8"
             ],
             [
              0.3333333333333333,
              "#9c179e"
             ],
             [
              0.4444444444444444,
              "#bd3786"
             ],
             [
              0.5555555555555556,
              "#d8576b"
             ],
             [
              0.6666666666666666,
              "#ed7953"
             ],
             [
              0.7777777777777778,
              "#fb9f3a"
             ],
             [
              0.8888888888888888,
              "#fdca26"
             ],
             [
              1,
              "#f0f921"
             ]
            ],
            "type": "histogram2dcontour"
           }
          ],
          "mesh3d": [
           {
            "colorbar": {
             "outlinewidth": 0,
             "ticks": ""
            },
            "type": "mesh3d"
           }
          ],
          "parcoords": [
           {
            "line": {
             "colorbar": {
              "outlinewidth": 0,
              "ticks": ""
             }
            },
            "type": "parcoords"
           }
          ],
          "pie": [
           {
            "automargin": true,
            "type": "pie"
           }
          ],
          "scatter": [
           {
            "fillpattern": {
             "fillmode": "overlay",
             "size": 10,
             "solidity": 0.2
            },
            "type": "scatter"
           }
          ],
          "scatter3d": [
           {
            "line": {
             "colorbar": {
              "outlinewidth": 0,
              "ticks": ""
             }
            },
            "marker": {
             "colorbar": {
              "outlinewidth": 0,
              "ticks": ""
             }
            },
            "type": "scatter3d"
           }
          ],
          "scattercarpet": [
           {
            "marker": {
             "colorbar": {
              "outlinewidth": 0,
              "ticks": ""
             }
            },
            "type": "scattercarpet"
           }
          ],
          "scattergeo": [
           {
            "marker": {
             "colorbar": {
              "outlinewidth": 0,
              "ticks": ""
             }
            },
            "type": "scattergeo"
           }
          ],
          "scattergl": [
           {
            "marker": {
             "colorbar": {
              "outlinewidth": 0,
              "ticks": ""
             }
            },
            "type": "scattergl"
           }
          ],
          "scattermapbox": [
           {
            "marker": {
             "colorbar": {
              "outlinewidth": 0,
              "ticks": ""
             }
            },
            "type": "scattermapbox"
           }
          ],
          "scatterpolar": [
           {
            "marker": {
             "colorbar": {
              "outlinewidth": 0,
              "ticks": ""
             }
            },
            "type": "scatterpolar"
           }
          ],
          "scatterpolargl": [
           {
            "marker": {
             "colorbar": {
              "outlinewidth": 0,
              "ticks": ""
             }
            },
            "type": "scatterpolargl"
           }
          ],
          "scatterternary": [
           {
            "marker": {
             "colorbar": {
              "outlinewidth": 0,
              "ticks": ""
             }
            },
            "type": "scatterternary"
           }
          ],
          "surface": [
           {
            "colorbar": {
             "outlinewidth": 0,
             "ticks": ""
            },
            "colorscale": [
             [
              0,
              "#0d0887"
             ],
             [
              0.1111111111111111,
              "#46039f"
             ],
             [
              0.2222222222222222,
              "#7201a8"
             ],
             [
              0.3333333333333333,
              "#9c179e"
             ],
             [
              0.4444444444444444,
              "#bd3786"
             ],
             [
              0.5555555555555556,
              "#d8576b"
             ],
             [
              0.6666666666666666,
              "#ed7953"
             ],
             [
              0.7777777777777778,
              "#fb9f3a"
             ],
             [
              0.8888888888888888,
              "#fdca26"
             ],
             [
              1,
              "#f0f921"
             ]
            ],
            "type": "surface"
           }
          ],
          "table": [
           {
            "cells": {
             "fill": {
              "color": "#EBF0F8"
             },
             "line": {
              "color": "white"
             }
            },
            "header": {
             "fill": {
              "color": "#C8D4E3"
             },
             "line": {
              "color": "white"
             }
            },
            "type": "table"
           }
          ]
         },
         "layout": {
          "annotationdefaults": {
           "arrowcolor": "#2a3f5f",
           "arrowhead": 0,
           "arrowwidth": 1
          },
          "autotypenumbers": "strict",
          "coloraxis": {
           "colorbar": {
            "outlinewidth": 0,
            "ticks": ""
           }
          },
          "colorscale": {
           "diverging": [
            [
             0,
             "#8e0152"
            ],
            [
             0.1,
             "#c51b7d"
            ],
            [
             0.2,
             "#de77ae"
            ],
            [
             0.3,
             "#f1b6da"
            ],
            [
             0.4,
             "#fde0ef"
            ],
            [
             0.5,
             "#f7f7f7"
            ],
            [
             0.6,
             "#e6f5d0"
            ],
            [
             0.7,
             "#b8e186"
            ],
            [
             0.8,
             "#7fbc41"
            ],
            [
             0.9,
             "#4d9221"
            ],
            [
             1,
             "#276419"
            ]
           ],
           "sequential": [
            [
             0,
             "#0d0887"
            ],
            [
             0.1111111111111111,
             "#46039f"
            ],
            [
             0.2222222222222222,
             "#7201a8"
            ],
            [
             0.3333333333333333,
             "#9c179e"
            ],
            [
             0.4444444444444444,
             "#bd3786"
            ],
            [
             0.5555555555555556,
             "#d8576b"
            ],
            [
             0.6666666666666666,
             "#ed7953"
            ],
            [
             0.7777777777777778,
             "#fb9f3a"
            ],
            [
             0.8888888888888888,
             "#fdca26"
            ],
            [
             1,
             "#f0f921"
            ]
           ],
           "sequentialminus": [
            [
             0,
             "#0d0887"
            ],
            [
             0.1111111111111111,
             "#46039f"
            ],
            [
             0.2222222222222222,
             "#7201a8"
            ],
            [
             0.3333333333333333,
             "#9c179e"
            ],
            [
             0.4444444444444444,
             "#bd3786"
            ],
            [
             0.5555555555555556,
             "#d8576b"
            ],
            [
             0.6666666666666666,
             "#ed7953"
            ],
            [
             0.7777777777777778,
             "#fb9f3a"
            ],
            [
             0.8888888888888888,
             "#fdca26"
            ],
            [
             1,
             "#f0f921"
            ]
           ]
          },
          "colorway": [
           "#636efa",
           "#EF553B",
           "#00cc96",
           "#ab63fa",
           "#FFA15A",
           "#19d3f3",
           "#FF6692",
           "#B6E880",
           "#FF97FF",
           "#FECB52"
          ],
          "font": {
           "color": "#2a3f5f"
          },
          "geo": {
           "bgcolor": "white",
           "lakecolor": "white",
           "landcolor": "#E5ECF6",
           "showlakes": true,
           "showland": true,
           "subunitcolor": "white"
          },
          "hoverlabel": {
           "align": "left"
          },
          "hovermode": "closest",
          "mapbox": {
           "style": "light"
          },
          "paper_bgcolor": "white",
          "plot_bgcolor": "#E5ECF6",
          "polar": {
           "angularaxis": {
            "gridcolor": "white",
            "linecolor": "white",
            "ticks": ""
           },
           "bgcolor": "#E5ECF6",
           "radialaxis": {
            "gridcolor": "white",
            "linecolor": "white",
            "ticks": ""
           }
          },
          "scene": {
           "xaxis": {
            "backgroundcolor": "#E5ECF6",
            "gridcolor": "white",
            "gridwidth": 2,
            "linecolor": "white",
            "showbackground": true,
            "ticks": "",
            "zerolinecolor": "white"
           },
           "yaxis": {
            "backgroundcolor": "#E5ECF6",
            "gridcolor": "white",
            "gridwidth": 2,
            "linecolor": "white",
            "showbackground": true,
            "ticks": "",
            "zerolinecolor": "white"
           },
           "zaxis": {
            "backgroundcolor": "#E5ECF6",
            "gridcolor": "white",
            "gridwidth": 2,
            "linecolor": "white",
            "showbackground": true,
            "ticks": "",
            "zerolinecolor": "white"
           }
          },
          "shapedefaults": {
           "line": {
            "color": "#2a3f5f"
           }
          },
          "ternary": {
           "aaxis": {
            "gridcolor": "white",
            "linecolor": "white",
            "ticks": ""
           },
           "baxis": {
            "gridcolor": "white",
            "linecolor": "white",
            "ticks": ""
           },
           "bgcolor": "#E5ECF6",
           "caxis": {
            "gridcolor": "white",
            "linecolor": "white",
            "ticks": ""
           }
          },
          "title": {
           "x": 0.05
          },
          "xaxis": {
           "automargin": true,
           "gridcolor": "white",
           "linecolor": "white",
           "ticks": "",
           "title": {
            "standoff": 15
           },
           "zerolinecolor": "white",
           "zerolinewidth": 2
          },
          "yaxis": {
           "automargin": true,
           "gridcolor": "white",
           "linecolor": "white",
           "ticks": "",
           "title": {
            "standoff": 15
           },
           "zerolinecolor": "white",
           "zerolinewidth": 2
          }
         }
        },
        "title": {
         "text": "LASSO:Observed target vs Predicted target using train data"
        },
        "width": 800,
        "xaxis": {
         "title": {
          "text": "Observed consult_cost"
         }
        },
        "yaxis": {
         "title": {
          "text": "Predicted consult_cost"
         }
        }
       }
      }
     },
     "metadata": {},
     "output_type": "display_data"
    }
   ],
   "source": [
    "\n",
    "fig = go.Figure()\n",
    "\n",
    "# scatter plot using test data\n",
    "fig.add_trace(go.Scatter(y=y_train, x=lasso.predict(x_train), mode='markers', marker=dict(color='blue')))\n",
    "\n",
    "# diagonal line to represent predictions\n",
    "fig.add_trace(go.Scatter(y=y_train, x=y_train, mode='lines', line=dict(color='red')))\n",
    "\n",
    "fig.update_layout(title='LASSO:Observed target vs Predicted target using train data', xaxis_title='Observed consult_cost', \n",
    "                  yaxis_title='Predicted consult_cost', width=800, height=500)\n",
    "fig.show()"
   ]
  }
 ],
 "metadata": {
  "kernelspec": {
   "display_name": "base",
   "language": "python",
   "name": "python3"
  },
  "language_info": {
   "codemirror_mode": {
    "name": "ipython",
    "version": 3
   },
   "file_extension": ".py",
   "mimetype": "text/x-python",
   "name": "python",
   "nbconvert_exporter": "python",
   "pygments_lexer": "ipython3",
   "version": "3.9.12"
  },
  "orig_nbformat": 4
 },
 "nbformat": 4,
 "nbformat_minor": 2
}
